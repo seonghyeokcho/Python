{
 "cells": [
  {
   "cell_type": "markdown",
   "metadata": {},
   "source": [
    "#### binary search(이진 탐색)\n",
    "- Time Complexity: O(logn)"
   ]
  },
  {
   "cell_type": "code",
   "execution_count": null,
   "metadata": {},
   "outputs": [],
   "source": [
    "# linear search(선형 탐색) - 이진 탐색 알고리즘과의 비교를 위한 예시\n",
    "def linear_search(array, k):\n",
    "    # O(n)\n",
    "    # n(array의 길이)이 10000일 때, k = 7800 이라면 7800번 걸림(최악의 경우 k = n 이라면 n번 걸림)\n",
    "    for i in array:\n",
    "        if i == k:\n",
    "            return i\n",
    "\n",
    "a = list(range(10000))\n",
    "%timeit linear_search(a, 7800)"
   ]
  },
  {
   "cell_type": "code",
   "execution_count": null,
   "metadata": {},
   "outputs": [],
   "source": [
    "# 직접 구현해본 이진 탐색 알고리즘\n",
    "def binary_search(array, k):\n",
    "    # O(logn)\n",
    "    # n(array의 길이)이 10000일 때, 13번 안에 원하는 수 k를 찾음(최악의 경우 14번째에 찾음)\n",
    "    for i in array:\n",
    "        if array[len(array)//2] < k:\n",
    "            array = array[len(array)//2+1:]\n",
    "        elif array[len(array)//2] > k:\n",
    "            array = array[:len(array)//2]\n",
    "        else:\n",
    "            return k, i+1\n",
    "\n",
    "a = list(range(10000))\n",
    "%time binary_search(a, 7502)"
   ]
  }
 ],
 "metadata": {
  "kernelspec": {
   "display_name": "Python 3.8.13 ('base')",
   "language": "python",
   "name": "python3"
  },
  "language_info": {
   "name": "python",
   "version": "3.8.13 (default, Mar 28 2022, 06:16:26) \n[Clang 12.0.0 ]"
  },
  "orig_nbformat": 4,
  "vscode": {
   "interpreter": {
    "hash": "38cc0cca68228d4d18227abe74ed813685db17db46984279e4aabdddebf5f1ba"
   }
  }
 },
 "nbformat": 4,
 "nbformat_minor": 2
}
