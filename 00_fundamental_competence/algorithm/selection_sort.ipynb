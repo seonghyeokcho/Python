{
 "cells": [
  {
   "cell_type": "markdown",
   "metadata": {},
   "source": [
    "#### selection sort(선택 정렬)\n",
    "- Time Complexity: O(n^2)"
   ]
  },
  {
   "cell_type": "code",
   "execution_count": null,
   "metadata": {},
   "outputs": [],
   "source": [
    "# 직접 구현해본 선택 정렬 알고리즘\n",
    "def selection_sort(L):\n",
    "    for i in range(len(L)-1):\n",
    "        minimum = L[i]\n",
    "        idx = i\n",
    "        for j in range(i, len(L)):\n",
    "            if minimum > L[j]:\n",
    "                minimum = L[j]\n",
    "                idx = j\n",
    "        L[idx] = L[i]\n",
    "        L[i] = minimum\n",
    "    return L\n",
    "# L = [5,2,6,3,1,4,4,7,5,6,2,1,7,5,7,9,7,5,4,3]\n",
    "L = list(range(4000, 0, -1))\n",
    "%timeit selection_sort(L)\n",
    "# selection_sort(L)"
   ]
  }
 ],
 "metadata": {
  "kernelspec": {
   "display_name": "Python 3.8.13 ('base')",
   "language": "python",
   "name": "python3"
  },
  "language_info": {
   "name": "python",
   "version": "3.8.13"
  },
  "orig_nbformat": 4,
  "vscode": {
   "interpreter": {
    "hash": "38cc0cca68228d4d18227abe74ed813685db17db46984279e4aabdddebf5f1ba"
   }
  }
 },
 "nbformat": 4,
 "nbformat_minor": 2
}
