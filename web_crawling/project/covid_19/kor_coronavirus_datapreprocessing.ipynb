{
 "cells": [
  {
   "cell_type": "markdown",
   "metadata": {},
   "source": [
    "## korea-covid-daily situation update(started:04.30)"
   ]
  },
  {
   "cell_type": "code",
   "execution_count": 2,
   "metadata": {
    "tags": []
   },
   "outputs": [
    {
     "output_type": "display_data",
     "data": {
      "text/plain": "   시도명  합계  해외유입  국내발생   확진환자  격리중   격리해제  사망자     발생률\n0   합계  26    22     4  13771  903  12572  296   26.56\n1   서울   3     1     2   1477  145   1322   10   15.17\n2   부산   0     0     0    157    5    149    3    4.60\n3   대구   2     2     0   6934   16   6728  190  284.59\n4   인천   2     2     0    372   22    348    2   12.58\n5   광주   1     0     1    187   96     89    2   12.84\n6   대전   0     0     0    166   53    111    2   11.26\n7   울산   0     0     0     57    3     53    1    4.97\n8   세종   0     0     0     50    0     50    0   14.61\n9   경기   1     1     0   1434  189   1216   29   10.82\n10  강원   0     0     0     72   11     58    3    4.67\n11  충북   0     0     0     71    7     64    0    4.44\n12  충남   1     1     0    186   16    170    0    8.76\n13  전북   1     1     0     39   15     24    0    2.15\n14  전남   2     1     1     35   14     21    0    1.88\n15  경북   1     1     0   1394    4   1336   54   52.36\n16  경남   2     2     0    155   16    139    0    4.61\n17  제주   0     0     0     25    7     18    0    3.73\n18  검역  10    10     0    960  284    676    0     NaN",
      "text/html": "<div>\n<style scoped>\n    .dataframe tbody tr th:only-of-type {\n        vertical-align: middle;\n    }\n\n    .dataframe tbody tr th {\n        vertical-align: top;\n    }\n\n    .dataframe thead th {\n        text-align: right;\n    }\n</style>\n<table border=\"1\" class=\"dataframe\">\n  <thead>\n    <tr style=\"text-align: right;\">\n      <th></th>\n      <th>시도명</th>\n      <th>합계</th>\n      <th>해외유입</th>\n      <th>국내발생</th>\n      <th>확진환자</th>\n      <th>격리중</th>\n      <th>격리해제</th>\n      <th>사망자</th>\n      <th>발생률</th>\n    </tr>\n  </thead>\n  <tbody>\n    <tr>\n      <th>0</th>\n      <td>합계</td>\n      <td>26</td>\n      <td>22</td>\n      <td>4</td>\n      <td>13771</td>\n      <td>903</td>\n      <td>12572</td>\n      <td>296</td>\n      <td>26.56</td>\n    </tr>\n    <tr>\n      <th>1</th>\n      <td>서울</td>\n      <td>3</td>\n      <td>1</td>\n      <td>2</td>\n      <td>1477</td>\n      <td>145</td>\n      <td>1322</td>\n      <td>10</td>\n      <td>15.17</td>\n    </tr>\n    <tr>\n      <th>2</th>\n      <td>부산</td>\n      <td>0</td>\n      <td>0</td>\n      <td>0</td>\n      <td>157</td>\n      <td>5</td>\n      <td>149</td>\n      <td>3</td>\n      <td>4.60</td>\n    </tr>\n    <tr>\n      <th>3</th>\n      <td>대구</td>\n      <td>2</td>\n      <td>2</td>\n      <td>0</td>\n      <td>6934</td>\n      <td>16</td>\n      <td>6728</td>\n      <td>190</td>\n      <td>284.59</td>\n    </tr>\n    <tr>\n      <th>4</th>\n      <td>인천</td>\n      <td>2</td>\n      <td>2</td>\n      <td>0</td>\n      <td>372</td>\n      <td>22</td>\n      <td>348</td>\n      <td>2</td>\n      <td>12.58</td>\n    </tr>\n    <tr>\n      <th>5</th>\n      <td>광주</td>\n      <td>1</td>\n      <td>0</td>\n      <td>1</td>\n      <td>187</td>\n      <td>96</td>\n      <td>89</td>\n      <td>2</td>\n      <td>12.84</td>\n    </tr>\n    <tr>\n      <th>6</th>\n      <td>대전</td>\n      <td>0</td>\n      <td>0</td>\n      <td>0</td>\n      <td>166</td>\n      <td>53</td>\n      <td>111</td>\n      <td>2</td>\n      <td>11.26</td>\n    </tr>\n    <tr>\n      <th>7</th>\n      <td>울산</td>\n      <td>0</td>\n      <td>0</td>\n      <td>0</td>\n      <td>57</td>\n      <td>3</td>\n      <td>53</td>\n      <td>1</td>\n      <td>4.97</td>\n    </tr>\n    <tr>\n      <th>8</th>\n      <td>세종</td>\n      <td>0</td>\n      <td>0</td>\n      <td>0</td>\n      <td>50</td>\n      <td>0</td>\n      <td>50</td>\n      <td>0</td>\n      <td>14.61</td>\n    </tr>\n    <tr>\n      <th>9</th>\n      <td>경기</td>\n      <td>1</td>\n      <td>1</td>\n      <td>0</td>\n      <td>1434</td>\n      <td>189</td>\n      <td>1216</td>\n      <td>29</td>\n      <td>10.82</td>\n    </tr>\n    <tr>\n      <th>10</th>\n      <td>강원</td>\n      <td>0</td>\n      <td>0</td>\n      <td>0</td>\n      <td>72</td>\n      <td>11</td>\n      <td>58</td>\n      <td>3</td>\n      <td>4.67</td>\n    </tr>\n    <tr>\n      <th>11</th>\n      <td>충북</td>\n      <td>0</td>\n      <td>0</td>\n      <td>0</td>\n      <td>71</td>\n      <td>7</td>\n      <td>64</td>\n      <td>0</td>\n      <td>4.44</td>\n    </tr>\n    <tr>\n      <th>12</th>\n      <td>충남</td>\n      <td>1</td>\n      <td>1</td>\n      <td>0</td>\n      <td>186</td>\n      <td>16</td>\n      <td>170</td>\n      <td>0</td>\n      <td>8.76</td>\n    </tr>\n    <tr>\n      <th>13</th>\n      <td>전북</td>\n      <td>1</td>\n      <td>1</td>\n      <td>0</td>\n      <td>39</td>\n      <td>15</td>\n      <td>24</td>\n      <td>0</td>\n      <td>2.15</td>\n    </tr>\n    <tr>\n      <th>14</th>\n      <td>전남</td>\n      <td>2</td>\n      <td>1</td>\n      <td>1</td>\n      <td>35</td>\n      <td>14</td>\n      <td>21</td>\n      <td>0</td>\n      <td>1.88</td>\n    </tr>\n    <tr>\n      <th>15</th>\n      <td>경북</td>\n      <td>1</td>\n      <td>1</td>\n      <td>0</td>\n      <td>1394</td>\n      <td>4</td>\n      <td>1336</td>\n      <td>54</td>\n      <td>52.36</td>\n    </tr>\n    <tr>\n      <th>16</th>\n      <td>경남</td>\n      <td>2</td>\n      <td>2</td>\n      <td>0</td>\n      <td>155</td>\n      <td>16</td>\n      <td>139</td>\n      <td>0</td>\n      <td>4.61</td>\n    </tr>\n    <tr>\n      <th>17</th>\n      <td>제주</td>\n      <td>0</td>\n      <td>0</td>\n      <td>0</td>\n      <td>25</td>\n      <td>7</td>\n      <td>18</td>\n      <td>0</td>\n      <td>3.73</td>\n    </tr>\n    <tr>\n      <th>18</th>\n      <td>검역</td>\n      <td>10</td>\n      <td>10</td>\n      <td>0</td>\n      <td>960</td>\n      <td>284</td>\n      <td>676</td>\n      <td>0</td>\n      <td>NaN</td>\n    </tr>\n  </tbody>\n</table>\n</div>"
     },
     "metadata": {}
    },
    {
     "output_type": "display_data",
     "data": {
      "text/plain": "     소계  해외접촉관련  중구한화생명관련  강남구V빌딩관련  관악구사무실관련  강남구역삼동모임  도봉구요양시설관련  리치웨이관련  \\\n0  1449     323         5         8         6        13         43     122   \n\n   부천시쿠팡관련  수도권개척교회관련  양천구운동시설관련  이태원클럽관련  구로구콜센터관련  타 시·도확진자접촉자   기타  경로확인중  \n0       24         37         43      139        98           51  393    142  ",
      "text/html": "<div>\n<style scoped>\n    .dataframe tbody tr th:only-of-type {\n        vertical-align: middle;\n    }\n\n    .dataframe tbody tr th {\n        vertical-align: top;\n    }\n\n    .dataframe thead th {\n        text-align: right;\n    }\n</style>\n<table border=\"1\" class=\"dataframe\">\n  <thead>\n    <tr style=\"text-align: right;\">\n      <th></th>\n      <th>소계</th>\n      <th>해외접촉관련</th>\n      <th>중구한화생명관련</th>\n      <th>강남구V빌딩관련</th>\n      <th>관악구사무실관련</th>\n      <th>강남구역삼동모임</th>\n      <th>도봉구요양시설관련</th>\n      <th>리치웨이관련</th>\n      <th>부천시쿠팡관련</th>\n      <th>수도권개척교회관련</th>\n      <th>양천구운동시설관련</th>\n      <th>이태원클럽관련</th>\n      <th>구로구콜센터관련</th>\n      <th>타 시·도확진자접촉자</th>\n      <th>기타</th>\n      <th>경로확인중</th>\n    </tr>\n  </thead>\n  <tbody>\n    <tr>\n      <th>0</th>\n      <td>1449</td>\n      <td>323</td>\n      <td>5</td>\n      <td>8</td>\n      <td>6</td>\n      <td>13</td>\n      <td>43</td>\n      <td>122</td>\n      <td>24</td>\n      <td>37</td>\n      <td>43</td>\n      <td>139</td>\n      <td>98</td>\n      <td>51</td>\n      <td>393</td>\n      <td>142</td>\n    </tr>\n  </tbody>\n</table>\n</div>"
     },
     "metadata": {}
    }
   ],
   "source": [
    "%run ../../ML.library-1.0.0.ipynb\n",
    "\n",
    "import pandas as pd\n",
    "\n",
    "table1 = web_crawling('http://ncov.mohw.go.kr/bdBoardList_Real.do?brdId=1&brdGubun=13&ncvContSeq=&contSeq=&board_id=&gubun=',\n",
    "                      'attr','div','class','data_table',0)\n",
    "\n",
    "kor_df = make_table(table1,2,21,1)\n",
    "#kor_df.head()\n",
    "\n",
    "kor_df = kor_df.rename(columns={'발생률 (*)':'발생률'})\n",
    "#kor_df.head()\n",
    "\n",
    "for k in range(19):\n",
    "    kor_df['확진환자'][k] = kor_df['확진환자'][k].replace(',','')\n",
    "    kor_df['격리중'][k] = kor_df['격리중'][k].replace(',','')\n",
    "    kor_df['격리해제'][k] = kor_df['격리해제'][k].replace(',','')\n",
    "    kor_df['발생률'][k] = kor_df['발생률'][k].replace('-','')\n",
    "#kor_df.head()\n",
    "\n",
    "con = ['합계','해외유입','확진환자','격리중','격리해제','사망자']\n",
    "cat = ['시도명','발생률']\n",
    "kor_df[con] = kor_df[con].astype('int')\n",
    "kor_df[cat] = kor_df[cat].astype('category')\n",
    "\n",
    "#kor_df.info()\n",
    "\n",
    "kor_df.to_csv('data/kor_corona_status_0430.csv', index=False)\n",
    "kor = pd.read_csv('data/kor_corona_status_0430.csv')\n",
    "#kor\n",
    "\n",
    "table2 = web_crawling('http://www.seoul.go.kr/coronaV/coronaStatus.do',\n",
    "                       'attr','table','class','tstyle05',0)\n",
    "\n",
    "seoul_df = make_table(table2,1,2,0)\n",
    "#seoul_df\n",
    "\n",
    "seoul_df = seoul_df.astype('int')\n",
    "\n",
    "seoul_df.to_csv('data/seoul_corona_status_0430.csv',index=False)\n",
    "seoul = pd.read_csv('data/seoul_corona_status_0430.csv')\n",
    "#seoul\n",
    "\n",
    "display(kor)\n",
    "display(seoul)"
   ]
  },
  {
   "cell_type": "code",
   "execution_count": null,
   "metadata": {},
   "outputs": [],
   "source": []
  }
 ],
 "metadata": {
  "kernelspec": {
   "display_name": "Python 3",
   "language": "python",
   "name": "python3"
  },
  "language_info": {
   "codemirror_mode": {
    "name": "ipython",
    "version": 3
   },
   "file_extension": ".py",
   "mimetype": "text/x-python",
   "name": "python",
   "nbconvert_exporter": "python",
   "pygments_lexer": "ipython3",
   "version": "3.7.6"
  }
 },
 "nbformat": 4,
 "nbformat_minor": 4
}