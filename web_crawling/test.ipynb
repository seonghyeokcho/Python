{
 "metadata": {
  "language_info": {
   "codemirror_mode": {
    "name": "ipython",
    "version": 3
   },
   "file_extension": ".py",
   "mimetype": "text/x-python",
   "name": "python",
   "nbconvert_exporter": "python",
   "pygments_lexer": "ipython3",
   "version": "3.7.9-final"
  },
  "orig_nbformat": 2,
  "kernelspec": {
   "name": "python3",
   "display_name": "Python 3",
   "language": "python"
  }
 },
 "nbformat": 4,
 "nbformat_minor": 2,
 "cells": [
  {
   "cell_type": "code",
   "execution_count": 2,
   "metadata": {
    "tags": []
   },
   "outputs": [
    {
     "output_type": "stream",
     "name": "stdout",
     "text": [
      "12488\n"
     ]
    }
   ],
   "source": [
    "# import requests\n",
    "# from bs4 import BeautifulSoup as bs4\n",
    "\n",
    "# url = \"https://comic.naver.com/webtoon/list.nhn?titleId=675554\"\n",
    "# res = requests.get(url)\n",
    "# res.raise_for_status()\n",
    "\n",
    "# soup = bs4(res.text, \"lxml\")\n",
    "# # cartoons = soup.find_all(\"td\", attrs={\"class\":\"title\"})\n",
    "# # title = cartoons[0].a.get_text()\n",
    "# # link = cartoons[0].a['href']\n",
    "# # print(title)\n",
    "# # print(\"https://comic.naver.com\" + link)\n",
    "\n",
    "# # 만화 제목과 링크 가져오기\n",
    "# # for cartoon in cartoons:\n",
    "# #     title = cartoon.a.get_text()\n",
    "# #     link = \"https://comic.naver.com\" + cartoon.a['href']\n",
    "# #     print(title, link)\n",
    "\n",
    "# # 평점 구하기\n",
    "# total_rates = 0\n",
    "# cartoons = soup.find_all(\"div\", attrs={\"class\":\"rating_type\"})\n",
    "# for cartoon in cartoons:\n",
    "#     rate = cartoon.find(\"strong\").get_text()\n",
    "#     print(rate)\n",
    "#     total_rates += float(rate)\n",
    "# print(\"전체 점수 : \", total_rates)\n",
    "# print(\"평균 점수 : \", total_rates / len(cartoons))\n",
    "\n",
    "import requests\n",
    "import time\n",
    "from bs4 import BeautifulSoup\n",
    "import telegram\n",
    "\n",
    "a=12361\n",
    "\n",
    "bot = telegram.Bot(token='1533748242:AAGNjEo_5YIDK8rpT64GuD9wBAV8CBi18zU')\n",
    "\n",
    "req = requests.get('https://www.ddengle.com/market_personal')\n",
    "html = req.text\n",
    "soup = BeautifulSoup(html, 'html.parser')\n",
    "posts = soup.find(\"table\").find(\"tbody\").find_all(\"tr\")\n",
    "\n",
    "jsh = []\n",
    "\n",
    "for i in range(len(posts)):\n",
    "    try:\n",
    "        if posts[i].attrs['class'][0] == \"notice\":\n",
    "            continue\n",
    "    except:\n",
    "        jsh.append(posts[i])\n",
    "        break\n",
    "# print(jsh)\n",
    "post_name = jsh[0].find(\"td\", {'class':'no'}).get_text()\n",
    "print(int(post_name))"
   ]
  },
  {
   "cell_type": "code",
   "execution_count": 107,
   "metadata": {},
   "outputs": [
    {
     "output_type": "execute_result",
     "data": {
      "text/plain": [
       "<tr data-comment-count=\"0\" data-document-srl=\"12447814\" data-readed=\"48\" data-voted=\"0\">\n",
       "<td class=\"no\">\n",
       "12384 </td> <td class=\"cate\"><span style=\"color:#007f00\">구매중</span></td> <td class=\"title\">\n",
       "<a class=\"hx bubble no_bubble\" data-viewer=\"https://www.ddengle.com/index.php?mid=market_personal&amp;document_srl=12447814&amp;listStyle=viewer\" href=\"https://www.ddengle.com/market_personal/12447814\">\n",
       "rx480 8G (11만원 ~12만원 )rx570,580 8G (13만~14만) 1080ti (30만~33만)구매희망합니다. <span class=\"wrp\">\n",
       "<span class=\"speech\">아래 양식대로 작성해주세요. 미준수시 글 삭제. 캐시는 반환되지 않습니다. 사진등록 필수 수기로 제품 + 땡글닉네임(등록된 닉네임) + 오늘날짜를 적은메모를 한 장의 사진에 찍어서 함께 등록. 모든 제품의 실물 ...</span><i class=\"edge\"></i>\n",
       "<i class=\"ie8_only bl\"></i><i class=\"ie8_only br\"></i>\n",
       "</span> </a>\n",
       "<span class=\"extraimages\"><img alt=\"new\" src=\"https://www.ddengle.com/modules/document/tpl/icons//new.gif\" style=\"margin-right:2px;\" title=\"new\"/></span>\n",
       "</td>\n",
       "<td class=\"voted m_no\">0</td> <td class=\"readed m_no\">48</td> <td class=\"author\">\n",
       "<div class=\"contry_nation\">\n",
       "<img src=\"https://images.ddengle.com/files/iptocountry/imgs/kr.png\" title=\"Korea, Republic of\"/></div>\n",
       "<span><a class=\"member_3759916\" href=\"#popup_menu_area\" onclick=\"return false\"><img alt=\"[레벨:4]\" class=\"xe_point_level_icon\" src=\"https://www.ddengle.com/modules/point/icons/ddengle/4.gif\" style=\"vertical-align:middle;margin-right:3px;\" title=\"포인트:1619point (2%), 레벨:4/100\">매직스테</img></a></span></td> <td class=\"time\" data-timestamp=\"1610794077\" title=\"5 시간 전\">19:47:57</td> </tr>"
      ]
     },
     "metadata": {},
     "execution_count": 107
    }
   ],
   "source": [
    "jsh[0]"
   ]
  },
  {
   "cell_type": "code",
   "execution_count": 76,
   "metadata": {},
   "outputs": [
    {
     "output_type": "execute_result",
     "data": {
      "text/plain": [
       "True"
      ]
     },
     "metadata": {},
     "execution_count": 76
    }
   ],
   "source": [
    "posts[6].attrs['data-document-srl'][0:4] == '1244'"
   ]
  },
  {
   "cell_type": "code",
   "execution_count": 87,
   "metadata": {},
   "outputs": [
    {
     "output_type": "execute_result",
     "data": {
      "text/plain": [
       "'12447814'"
      ]
     },
     "metadata": {},
     "execution_count": 87
    }
   ],
   "source": [
    "posts[6].attrs['data-document-srl']"
   ]
  },
  {
   "cell_type": "code",
   "execution_count": 90,
   "metadata": {},
   "outputs": [
    {
     "output_type": "execute_result",
     "data": {
      "text/plain": [
       "'notice'"
      ]
     },
     "metadata": {},
     "execution_count": 90
    }
   ],
   "source": [
    "posts[0].attrs['class'][0]"
   ]
  },
  {
   "cell_type": "code",
   "execution_count": 67,
   "metadata": {},
   "outputs": [
    {
     "output_type": "execute_result",
     "data": {
      "text/plain": [
       "{'data-document-srl': '12447814',\n",
       " 'data-comment-count': '0',\n",
       " 'data-voted': '0',\n",
       " 'data-readed': '42'}"
      ]
     },
     "metadata": {},
     "execution_count": 67
    }
   ],
   "source": [
    "posts[6].attrs"
   ]
  },
  {
   "cell_type": "code",
   "execution_count": 93,
   "metadata": {},
   "outputs": [],
   "source": [
    "del posts[0]"
   ]
  },
  {
   "cell_type": "code",
   "execution_count": 98,
   "metadata": {},
   "outputs": [
    {
     "output_type": "execute_result",
     "data": {
      "text/plain": [
       "<tr data-comment-count=\"0\" data-document-srl=\"12447814\" data-readed=\"44\" data-voted=\"0\">\n",
       "<td class=\"no\">\n",
       "12384 </td> <td class=\"cate\"><span style=\"color:#007f00\">구매중</span></td> <td class=\"title\">\n",
       "<a class=\"hx bubble no_bubble\" data-viewer=\"https://www.ddengle.com/index.php?mid=market_personal&amp;document_srl=12447814&amp;listStyle=viewer\" href=\"https://www.ddengle.com/market_personal/12447814\">\n",
       "rx480 8G (11만원 ~12만원 )rx570,580 8G (13만~14만) 1080ti (30만~33만)구매희망합니다. <span class=\"wrp\">\n",
       "<span class=\"speech\">아래 양식대로 작성해주세요. 미준수시 글 삭제. 캐시는 반환되지 않습니다. 사진등록 필수 수기로 제품 + 땡글닉네임(등록된 닉네임) + 오늘날짜를 적은메모를 한 장의 사진에 찍어서 함께 등록. 모든 제품의 실물 ...</span><i class=\"edge\"></i>\n",
       "<i class=\"ie8_only bl\"></i><i class=\"ie8_only br\"></i>\n",
       "</span> </a>\n",
       "<span class=\"extraimages\"><img alt=\"new\" src=\"https://www.ddengle.com/modules/document/tpl/icons//new.gif\" style=\"margin-right:2px;\" title=\"new\"/></span>\n",
       "</td>\n",
       "<td class=\"voted m_no\">0</td> <td class=\"readed m_no\">44</td> <td class=\"author\">\n",
       "<div class=\"contry_nation\">\n",
       "<img src=\"/files/iptocountry/imgs/kr.png\" title=\"Korea, Republic of\"/></div>\n",
       "<span><a class=\"member_3759916\" href=\"#popup_menu_area\" onclick=\"return false\"><img alt=\"[레벨:4]\" class=\"xe_point_level_icon\" src=\"https://www.ddengle.com/modules/point/icons/ddengle/4.gif\" style=\"vertical-align:middle;margin-right:3px;\" title=\"포인트:1619point (2%), 레벨:4/100\">매직스테</img></a></span></td> <td class=\"time\" data-timestamp=\"1610794077\" title=\"4 시간 전\">19:47:57</td> </tr>"
      ]
     },
     "metadata": {},
     "execution_count": 98
    }
   ],
   "source": [
    "posts[5]"
   ]
  },
  {
   "cell_type": "code",
   "execution_count": 30,
   "metadata": {},
   "outputs": [
    {
     "output_type": "error",
     "ename": "WebDriverException",
     "evalue": "Message: Can not connect to the Service /usr/bin/safaridriver\n",
     "traceback": [
      "\u001b[0;31m---------------------------------------------------------------------------\u001b[0m",
      "\u001b[0;31mWebDriverException\u001b[0m                        Traceback (most recent call last)",
      "\u001b[0;32m<ipython-input-30-27cdbd29c212>\u001b[0m in \u001b[0;36m<module>\u001b[0;34m\u001b[0m\n\u001b[1;32m     13\u001b[0m \u001b[0;31m# browser.maximize_window()  # 창 최대화\u001b[0m\u001b[0;34m\u001b[0m\u001b[0;34m\u001b[0m\u001b[0;34m\u001b[0m\u001b[0m\n\u001b[1;32m     14\u001b[0m \u001b[0;34m\u001b[0m\u001b[0m\n\u001b[0;32m---> 15\u001b[0;31m \u001b[0mbrowser\u001b[0m \u001b[0;34m=\u001b[0m \u001b[0mwebdriver\u001b[0m\u001b[0;34m.\u001b[0m\u001b[0mSafari\u001b[0m\u001b[0;34m(\u001b[0m\u001b[0;34m\"/Applications/Safari Technology Preview.app\"\u001b[0m\u001b[0;34m)\u001b[0m\u001b[0;34m\u001b[0m\u001b[0;34m\u001b[0m\u001b[0m\n\u001b[0m\u001b[1;32m     16\u001b[0m \u001b[0;34m\u001b[0m\u001b[0m\n\u001b[1;32m     17\u001b[0m \u001b[0murl\u001b[0m \u001b[0;34m=\u001b[0m \u001b[0;34m\"https://www.ddengle.com/market_personal\"\u001b[0m\u001b[0;34m\u001b[0m\u001b[0;34m\u001b[0m\u001b[0m\n",
      "\u001b[0;32m~/opt/anaconda3/lib/python3.7/site-packages/selenium/webdriver/safari/webdriver.py\u001b[0m in \u001b[0;36m__init__\u001b[0;34m(self, port, executable_path, reuse_service, desired_capabilities, quiet, keep_alive, service_args)\u001b[0m\n\u001b[1;32m     55\u001b[0m         \u001b[0mself\u001b[0m\u001b[0;34m.\u001b[0m\u001b[0mservice\u001b[0m \u001b[0;34m=\u001b[0m \u001b[0mService\u001b[0m\u001b[0;34m(\u001b[0m\u001b[0mexecutable_path\u001b[0m\u001b[0;34m,\u001b[0m \u001b[0mport\u001b[0m\u001b[0;34m=\u001b[0m\u001b[0mport\u001b[0m\u001b[0;34m,\u001b[0m \u001b[0mquiet\u001b[0m\u001b[0;34m=\u001b[0m\u001b[0mquiet\u001b[0m\u001b[0;34m,\u001b[0m \u001b[0mservice_args\u001b[0m\u001b[0;34m=\u001b[0m\u001b[0mservice_args\u001b[0m\u001b[0;34m)\u001b[0m\u001b[0;34m\u001b[0m\u001b[0;34m\u001b[0m\u001b[0m\n\u001b[1;32m     56\u001b[0m         \u001b[0;32mif\u001b[0m \u001b[0;32mnot\u001b[0m \u001b[0mreuse_service\u001b[0m\u001b[0;34m:\u001b[0m\u001b[0;34m\u001b[0m\u001b[0;34m\u001b[0m\u001b[0m\n\u001b[0;32m---> 57\u001b[0;31m             \u001b[0mself\u001b[0m\u001b[0;34m.\u001b[0m\u001b[0mservice\u001b[0m\u001b[0;34m.\u001b[0m\u001b[0mstart\u001b[0m\u001b[0;34m(\u001b[0m\u001b[0;34m)\u001b[0m\u001b[0;34m\u001b[0m\u001b[0;34m\u001b[0m\u001b[0m\n\u001b[0m\u001b[1;32m     58\u001b[0m \u001b[0;34m\u001b[0m\u001b[0m\n\u001b[1;32m     59\u001b[0m         executor = SafariRemoteConnection(remote_server_addr=self.service.service_url,\n",
      "\u001b[0;32m~/opt/anaconda3/lib/python3.7/site-packages/selenium/webdriver/common/service.py\u001b[0m in \u001b[0;36mstart\u001b[0;34m(self)\u001b[0m\n\u001b[1;32m    102\u001b[0m             \u001b[0mtime\u001b[0m\u001b[0;34m.\u001b[0m\u001b[0msleep\u001b[0m\u001b[0;34m(\u001b[0m\u001b[0;36m1\u001b[0m\u001b[0;34m)\u001b[0m\u001b[0;34m\u001b[0m\u001b[0;34m\u001b[0m\u001b[0m\n\u001b[1;32m    103\u001b[0m             \u001b[0;32mif\u001b[0m \u001b[0mcount\u001b[0m \u001b[0;34m==\u001b[0m \u001b[0;36m30\u001b[0m\u001b[0;34m:\u001b[0m\u001b[0;34m\u001b[0m\u001b[0;34m\u001b[0m\u001b[0m\n\u001b[0;32m--> 104\u001b[0;31m                 \u001b[0;32mraise\u001b[0m \u001b[0mWebDriverException\u001b[0m\u001b[0;34m(\u001b[0m\u001b[0;34m\"Can not connect to the Service %s\"\u001b[0m \u001b[0;34m%\u001b[0m \u001b[0mself\u001b[0m\u001b[0;34m.\u001b[0m\u001b[0mpath\u001b[0m\u001b[0;34m)\u001b[0m\u001b[0;34m\u001b[0m\u001b[0;34m\u001b[0m\u001b[0m\n\u001b[0m\u001b[1;32m    105\u001b[0m \u001b[0;34m\u001b[0m\u001b[0m\n\u001b[1;32m    106\u001b[0m     \u001b[0;32mdef\u001b[0m \u001b[0massert_process_still_running\u001b[0m\u001b[0;34m(\u001b[0m\u001b[0mself\u001b[0m\u001b[0;34m)\u001b[0m\u001b[0;34m:\u001b[0m\u001b[0;34m\u001b[0m\u001b[0;34m\u001b[0m\u001b[0m\n",
      "\u001b[0;31mWebDriverException\u001b[0m: Message: Can not connect to the Service /usr/bin/safaridriver\n"
     ]
    }
   ],
   "source": [
    "from selenium.webdriver import Chrome\n",
    "from selenium import webdriver\n",
    "from selenium.webdriver.common.by import By\n",
    "from selenium.webdriver.support.ui import WebDriverWait\n",
    "from selenium.webdriver.support import expected_conditions as EC\n",
    "import time\n",
    "\n",
    "# options = webdriver.ChromeOptions()\n",
    "# options.add_argument(\"Mozilla/5.0 (Macintosh; Intel Mac OS X 11_1_0) AppleWebKit/537.36 (KHTML, like Gecko) Chrome/87.0.4280.141 Safari/537.36\")\n",
    "\n",
    "# browser = Chrome(\"/Users/csh/jupytercreation/chromedriver\", options=options)\n",
    "# browser.maximize_window()  # 창 최대화\n",
    "\n",
    "browser = webdriver.Safari(\"/Applications/Safari Technology Preview.app\")\n",
    "\n",
    "url = \"https://www.ddengle.com/market_personal\"\n",
    "\n",
    "browser.get(url)  # url 로 이동\n",
    "\n",
    "time.sleep(3)\n",
    "\n",
    "# browser.find_element_by_id(\"loginout\").click()\n",
    "# browser.find_element_by_id(\"bd_srch_btm_itx_1641002\").send_keys(\"vga\")\n",
    "# browser.find_element_by_class_name(\"search\").click()"
   ]
  },
  {
   "cell_type": "code",
   "execution_count": null,
   "metadata": {},
   "outputs": [],
   "source": []
  }
 ]
}