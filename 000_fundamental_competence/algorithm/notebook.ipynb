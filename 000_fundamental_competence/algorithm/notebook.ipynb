{
 "cells": [
  {
   "cell_type": "markdown",
   "metadata": {},
   "source": [
    "### 해싱"
   ]
  },
  {
   "cell_type": "markdown",
   "metadata": {},
   "source": [
    "#### Direct Access Array(직접 접근 배열)"
   ]
  },
  {
   "cell_type": "code",
   "execution_count": 22,
   "metadata": {},
   "outputs": [
    {
     "name": "stdout",
     "output_type": "stream",
     "text": [
      "Hello\n",
      "World\n",
      "World\n",
      "World\n",
      "None\n",
      "None\n"
     ]
    }
   ],
   "source": [
    "class DirectAccessArray:\n",
    "    def __init__(self, u):\n",
    "        self.array = [None] * u\n",
    "    \n",
    "    def find(self, key):\n",
    "        return self.array[key]\n",
    "    \n",
    "    def insert(self, key, x):\n",
    "        self.array[key] = x\n",
    "    \n",
    "    def delete(self, key):\n",
    "        self.array[key] = None\n",
    "    \n",
    "    def find_next(self, key):\n",
    "        for i in range(key + 1, len(self.array)):\n",
    "            if self.array[i] is not None:\n",
    "                return self.array[i]\n",
    "    \n",
    "    def find_max(self):\n",
    "        for i in range(len(self.array) - 1, -1, -1):\n",
    "            if self.array[i] is not None:\n",
    "                return self.array[i]\n",
    "    \n",
    "    def delete_max(self):\n",
    "        for i in range(len(self.array) - 1, -1, -1):\n",
    "            x = self.array[i]\n",
    "            if x is not None:\n",
    "                self.array[i] = None\n",
    "                return x\n",
    "\n",
    "A = DirectAccessArray(10)  # 배열의 크기를 지정(할당)하여 초기화\n",
    "A.insert(1, \"Hello\")  # key(1)에 \"Hello\"를 대응시켜 삽입\n",
    "print(A.find(1))  # key(1)에 해당하는 항목 찾기\n",
    "A.insert(3, \"World\")  # key(3)에 \"World\"를 대응시켜 삽입\n",
    "print(A.find_next(1))  # key(1)의 다음 항목 중 None이 아닌 첫 번째 항목 찾기\n",
    "print(A.find_max())  # 가장 큰 key에 해당하는 항목 찾기\n",
    "print(A.delete_max())  # None이 아닌 항목 중 가장 큰 key에 대응되는 항목을 제거 후 해당 항목을 반환\n",
    "A.delete(1)  # key(1)에 대응되는 항목을 제거\n",
    "print(A.find(1))\n",
    "print(A.find(3))"
   ]
  },
  {
   "cell_type": "code",
   "execution_count": 37,
   "metadata": {},
   "outputs": [],
   "source": []
  },
  {
   "cell_type": "code",
   "execution_count": 1,
   "metadata": {},
   "outputs": [
    {
     "data": {
      "text/plain": [
       "-0.00012096809433855938"
      ]
     },
     "execution_count": 1,
     "metadata": {},
     "output_type": "execute_result"
    }
   ],
   "source": [
    "import math\n",
    "\n",
    "y0 = 1\n",
    "t = 0\n",
    "k = math.log(1/2)/5730\n",
    "ft = y0 * math.exp(k*t)\n"
   ]
  },
  {
   "cell_type": "code",
   "execution_count": 3,
   "metadata": {},
   "outputs": [
    {
     "data": {
      "text/plain": [
       "1844.647983704586"
      ]
     },
     "execution_count": 3,
     "metadata": {},
     "output_type": "execute_result"
    }
   ],
   "source": [
    "k = math.log(1/2)/5730\n",
    "td = math.log(0.8) / k\n",
    "td"
   ]
  },
  {
   "cell_type": "code",
   "execution_count": 7,
   "metadata": {},
   "outputs": [
    {
     "data": {
      "text/plain": [
       "7.68"
      ]
     },
     "execution_count": 7,
     "metadata": {},
     "output_type": "execute_result"
    }
   ],
   "source": [
    "12*0.64"
   ]
  },
  {
   "cell_type": "code",
   "execution_count": 8,
   "metadata": {},
   "outputs": [
    {
     "data": {
      "text/plain": [
       "20.400000000000002"
      ]
     },
     "execution_count": 8,
     "metadata": {},
     "output_type": "execute_result"
    }
   ],
   "source": [
    "30*0.68"
   ]
  },
  {
   "cell_type": "code",
   "execution_count": 9,
   "metadata": {},
   "outputs": [
    {
     "data": {
      "text/plain": [
       "9.600000000000001"
      ]
     },
     "execution_count": 9,
     "metadata": {},
     "output_type": "execute_result"
    }
   ],
   "source": [
    "24*0.4"
   ]
  },
  {
   "cell_type": "code",
   "execution_count": 10,
   "metadata": {},
   "outputs": [
    {
     "data": {
      "text/plain": [
       "36.0"
      ]
     },
     "execution_count": 10,
     "metadata": {},
     "output_type": "execute_result"
    }
   ],
   "source": [
    "60*0.6"
   ]
  },
  {
   "cell_type": "code",
   "execution_count": null,
   "metadata": {},
   "outputs": [],
   "source": [
    "1844년 7개월 20일 9시간 36분"
   ]
  },
  {
   "cell_type": "code",
   "execution_count": null,
   "metadata": {},
   "outputs": [],
   "source": []
  }
 ],
 "metadata": {
  "kernelspec": {
   "display_name": "Python 3.8.13 ('base')",
   "language": "python",
   "name": "python3"
  },
  "language_info": {
   "codemirror_mode": {
    "name": "ipython",
    "version": 3
   },
   "file_extension": ".py",
   "mimetype": "text/x-python",
   "name": "python",
   "nbconvert_exporter": "python",
   "pygments_lexer": "ipython3",
   "version": "3.8.13"
  },
  "orig_nbformat": 4,
  "vscode": {
   "interpreter": {
    "hash": "38cc0cca68228d4d18227abe74ed813685db17db46984279e4aabdddebf5f1ba"
   }
  }
 },
 "nbformat": 4,
 "nbformat_minor": 2
}
