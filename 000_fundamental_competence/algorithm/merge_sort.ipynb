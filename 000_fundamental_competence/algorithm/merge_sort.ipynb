{
 "cells": [
  {
   "cell_type": "markdown",
   "metadata": {},
   "source": [
    "#### merge sort(합병 정렬)\n",
    "- Time Complexity: O(nlogn)\n",
    "    - for python -> 2.2 O(nlogn) µs"
   ]
  },
  {
   "cell_type": "code",
   "execution_count": null,
   "metadata": {},
   "outputs": [],
   "source": [
    "# 직접 구현해본 합병 정렬 알고리즘\n",
    "def merge_sort(L):\n",
    "    if len(L) == 1:\n",
    "        return L\n",
    "    \n",
    "    L_p = merge_sort(L[:len(L)//2])\n",
    "    R_p = merge_sort(L[len(L)//2:])\n",
    "    \n",
    "    merged_L = []\n",
    "    l = r = 0\n",
    "    while l < len(L_p) and r < len(R_p):\n",
    "        if L_p[l] > R_p[r]:\n",
    "            merged_L.append(R_p[r])\n",
    "            r += 1\n",
    "        else:\n",
    "            merged_L.append(L_p[l])\n",
    "            l += 1\n",
    "    \n",
    "    merged_L += L_p[l:]\n",
    "    merged_L += R_p[r:]\n",
    "    \n",
    "    return merged_L\n",
    "\n",
    "# L = [5,2,6,3,1,4,4,7,5,6,2,1,7,5,7,9,7,5,4,3]\n",
    "L = list(range(4000, 0, -1))\n",
    "%timeit merge_sort(L)\n",
    "# %time merge_sort(L)"
   ]
  }
 ],
 "metadata": {
  "kernelspec": {
   "display_name": "Python 3.8.13 ('base')",
   "language": "python",
   "name": "python3"
  },
  "language_info": {
   "name": "python",
   "version": "3.8.13"
  },
  "orig_nbformat": 4,
  "vscode": {
   "interpreter": {
    "hash": "38cc0cca68228d4d18227abe74ed813685db17db46984279e4aabdddebf5f1ba"
   }
  }
 },
 "nbformat": 4,
 "nbformat_minor": 2
}
