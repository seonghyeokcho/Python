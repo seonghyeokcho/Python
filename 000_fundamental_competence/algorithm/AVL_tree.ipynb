{
 "cells": [
  {
   "cell_type": "markdown",
   "metadata": {},
   "source": [
    "#### Adel’son-Vel’skii & Landis Tree(균형 이진 탐색 트리)"
   ]
  },
  {
   "cell_type": "code",
   "execution_count": 2,
   "metadata": {},
   "outputs": [],
   "source": [
    "%run binary_search_tree.ipynb"
   ]
  },
  {
   "cell_type": "code",
   "execution_count": 4,
   "metadata": {},
   "outputs": [
    {
     "name": "stdout",
     "output_type": "stream",
     "text": [
      "[4, 13, 14, 15, 34, 40, 45, 47, 48, 49, 55]\n",
      "True\n",
      "[4, 13, 14, 15, 34, 40, 45, 47, 48, 55]\n"
     ]
    }
   ],
   "source": [
    "# test\n",
    "array = [40, 4, 34, 45, 14, 55, 48, 13, 15, 49, 47]\n",
    "bst = BinarySearchTree()\n",
    "for i, k in enumerate(array):\n",
    "    bst.insert(k, i)\n",
    "print(bst.in_order_traversal())\n",
    "# bst.pre_order_traversal()\n",
    "# bst.post_order_traversal()\n",
    "# bst.level_order_traversal()\n",
    "print(bst.delete(49))  # 5번만에 찾음. 정렬된 리스트에서 찾았다면 10번의 step이 필요했을 것\n",
    "print(bst.in_order_traversal())"
   ]
  },
  {
   "cell_type": "code",
   "execution_count": null,
   "metadata": {},
   "outputs": [],
   "source": [
    "import bst\n",
    "\n",
    "def height(node):\n",
    "    if node is None:\n",
    "        return -1\n",
    "    else:\n",
    "        return node.height\n",
    "\n",
    "def update_height(node):\n",
    "    node.height = max(height(node.left), height(node.right)) + 1\n",
    "\n",
    "class AVL(bst.BST):\n",
    "    \"\"\"\n",
    "AVL binary search tree implementation.\n",
    "Supports insert, find, and delete-min operations in O(lg n) time.\n",
    "\"\"\"\n",
    "    def left_rotate(self, x):\n",
    "        y = x.right\n",
    "        y.parent = x.parent\n",
    "        if y.parent is None:\n",
    "            self.root = y\n",
    "        else:\n",
    "            if y.parent.left is x:\n",
    "                y.parent.left = y\n",
    "            elif y.parent.right is x:\n",
    "                y.parent.right = y\n",
    "        x.right = y.left\n",
    "        if x.right is not None:\n",
    "            x.right.parent = x\n",
    "        y.left = x\n",
    "        x.parent = y\n",
    "        update_height(x)\n",
    "        update_height(y)\n",
    "\n",
    "    def right_rotate(self, x):\n",
    "        y = x.left\n",
    "        y.parent = x.parent\n",
    "        if y.parent is None:\n",
    "            self.root = y\n",
    "        else:\n",
    "            if y.parent.left is x:\n",
    "                y.parent.left = y\n",
    "            elif y.parent.right is x:\n",
    "                y.parent.right = y\n",
    "        x.left = y.right\n",
    "        if x.left is not None:\n",
    "            x.left.parent = x\n",
    "        y.right = x\n",
    "        x.parent = y\n",
    "        update_height(x)\n",
    "        update_height(y)\n",
    "\n",
    "    def insert(self, t):\n",
    "        \"\"\"Insert key t into this tree, modifying it in-place.\"\"\"\n",
    "        node = bst.BST.insert(self, t)\n",
    "        self.rebalance(node)\n",
    "\n",
    "    def rebalance(self, node):\n",
    "        while node is not None:\n",
    "            update_height(node)\n",
    "            if height(node.left) >= 2 + height(node.right):\n",
    "                if height(node.left.left) >= height(node.left.right):\n",
    "                    self.right_rotate(node)\n",
    "                else:\n",
    "                    self.left_rotate(node.left)\n",
    "                    self.right_rotate(node)\n",
    "            elif height(node.right) >= 2 + height(node.left):\n",
    "                if height(node.right.right) >= height(node.right.left):\n",
    "                    self.left_rotate(node)\n",
    "                else:\n",
    "                    self.right_rotate(node.right)\n",
    "                    self.left_rotate(node)\n",
    "            node = node.parent\n",
    "\n",
    "    def delete_min(self):\n",
    "        node, parent = bst.BST.delete_min(self)\n",
    "        self.rebalance(parent)\n",
    "        #raise NotImplemented('AVL.delete_min')\n",
    "\n",
    "# activation"
   ]
  },
  {
   "cell_type": "code",
   "execution_count": null,
   "metadata": {},
   "outputs": [],
   "source": []
  },
  {
   "cell_type": "code",
   "execution_count": null,
   "metadata": {},
   "outputs": [],
   "source": []
  },
  {
   "cell_type": "code",
   "execution_count": null,
   "metadata": {},
   "outputs": [],
   "source": []
  }
 ],
 "metadata": {
  "kernelspec": {
   "display_name": "Python 3.8.13 ('base')",
   "language": "python",
   "name": "python3"
  },
  "language_info": {
   "codemirror_mode": {
    "name": "ipython",
    "version": 3
   },
   "file_extension": ".py",
   "mimetype": "text/x-python",
   "name": "python",
   "nbconvert_exporter": "python",
   "pygments_lexer": "ipython3",
   "version": "3.8.13"
  },
  "orig_nbformat": 4,
  "vscode": {
   "interpreter": {
    "hash": "38cc0cca68228d4d18227abe74ed813685db17db46984279e4aabdddebf5f1ba"
   }
  }
 },
 "nbformat": 4,
 "nbformat_minor": 2
}
