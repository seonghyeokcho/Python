{
 "cells": [
  {
   "cell_type": "markdown",
   "metadata": {},
   "source": [
    "#### insertion sort(삽입 정렬)\n",
    "- Time Complexity: O(n^2)\n",
    "    - for python -> 0.2 O(n^2) µs, for C -> 0.01 O(n^2) µs"
   ]
  },
  {
   "cell_type": "code",
   "execution_count": null,
   "metadata": {},
   "outputs": [],
   "source": [
    "# 직접 구현해본 삽입 정렬 알고리즘\n",
    "def insertion_sort(L):\n",
    "    for i in range(1, len(L)):\n",
    "        if L[i-1] > L[i]:\n",
    "            j = 0\n",
    "            while L[i-1-j] > L[i-j] and i-1-j > -1:\n",
    "                L[i-1-j], L[i-j] = L[i-j], L[i-1-j]\n",
    "                j += 1\n",
    "    return L\n",
    "\n",
    "# L = [5,2,6,3,1,4,4,7,5,6,2,1,7,5,7,9,7,5,4,3]\n",
    "L = list(range(4000, 0, -1))\n",
    "%timeit insertion_sort(L)\n",
    "# insertion_sort(L)"
   ]
  }
 ],
 "metadata": {
  "kernelspec": {
   "display_name": "Python 3.8.13 ('base')",
   "language": "python",
   "name": "python3"
  },
  "language_info": {
   "name": "python",
   "version": "3.8.13"
  },
  "orig_nbformat": 4,
  "vscode": {
   "interpreter": {
    "hash": "38cc0cca68228d4d18227abe74ed813685db17db46984279e4aabdddebf5f1ba"
   }
  }
 },
 "nbformat": 4,
 "nbformat_minor": 2
}
