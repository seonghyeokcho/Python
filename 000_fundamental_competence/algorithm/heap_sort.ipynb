{
 "cells": [
  {
   "cell_type": "markdown",
   "metadata": {},
   "source": [
    "#### Heap sort(힙 정렬)\n",
    "- 힙(heap) 자료구조를 사용하는 이유는 최대-힙의 경우 반복적으로 extact_max()를 사용하기 위해서이다.(최소-힙도 같은 이유)\n",
    "    - extract_max(): 최대 key(즉, 루트)를 반환하고 집합 S에서 제거"
   ]
  },
  {
   "cell_type": "code",
   "execution_count": null,
   "metadata": {},
   "outputs": [],
   "source": [
    "# 직접 구현해본 힙 정렬 알고리즘\n",
    "class heapQ:\n",
    "    def max_heapify(self, A, i):\n",
    "        L = 2*i\n",
    "        R = 2*i + 1\n",
    "        \n",
    "        if L <= len(A) and A[L-1] > A[i-1]:\n",
    "            lagest = L\n",
    "        else:\n",
    "            lagest = i\n",
    "        \n",
    "        if R <= len(A) and A[R-1] > A[lagest-1]:\n",
    "            lagest = R\n",
    "        \n",
    "        if lagest != i:\n",
    "            A[i-1], A[lagest-1] = A[lagest-1], A[i-1]\n",
    "            self.max_heapify(A, lagest)\n",
    "        return A\n",
    "    \n",
    "    \n",
    "    def min_heapify(self, A, i):\n",
    "        L = 2*i\n",
    "        R = 2*i + 1\n",
    "        \n",
    "        if L <= len(A) and A[L-1] < A[i-1]:\n",
    "            smallest = L\n",
    "        else:\n",
    "            smallest = i\n",
    "        \n",
    "        if R <= len(A) and A[R-1] < A[smallest-1]:\n",
    "            smallest = R\n",
    "        \n",
    "        if smallest != i:\n",
    "            A[i-1], A[smallest-1] = A[smallest-1], A[i-1]\n",
    "            self.min_heapify(A, smallest)\n",
    "        return A\n",
    "    \n",
    "    \n",
    "    def heap_pop(self, A):\n",
    "        extract = A[0]\n",
    "        A[0] = A.pop()\n",
    "        if A[0] > A[1]:\n",
    "            self.min_heapify(A, 1)\n",
    "        elif A[0] < A[1]:\n",
    "            self.max_heapify(A, 1)\n",
    "        return extract\n",
    "    \n",
    "    \n",
    "    def build_max_heap(self, A):\n",
    "        for i in range(len(A)//2, 0, -1):\n",
    "            max_heap = self.max_heapify(A, i)\n",
    "        return None\n",
    "    \n",
    "    \n",
    "    def build_min_heap(self, A):\n",
    "        for i in range(len(A)//2, 0, -1):\n",
    "            min_heap = self.min_heapify(A, i)\n",
    "        return None\n",
    "\n",
    "# L = [5,2,3,1,4,6,9,7,8]\n",
    "L = list(range(4000, 0, -1))\n",
    "%timeit heapQ().build_min_heap(L)\n",
    "# print(L)\n",
    "# print(heapQ().heap_pop(L))\n",
    "# print(L)"
   ]
  }
 ],
 "metadata": {
  "kernelspec": {
   "display_name": "Python 3.8.13 ('base')",
   "language": "python",
   "name": "python3"
  },
  "language_info": {
   "name": "python",
   "version": "3.8.13"
  },
  "orig_nbformat": 4,
  "vscode": {
   "interpreter": {
    "hash": "38cc0cca68228d4d18227abe74ed813685db17db46984279e4aabdddebf5f1ba"
   }
  }
 },
 "nbformat": 4,
 "nbformat_minor": 2
}
