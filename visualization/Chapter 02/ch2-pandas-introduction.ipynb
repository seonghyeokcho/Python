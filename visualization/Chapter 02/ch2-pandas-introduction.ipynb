{
 "cells": [
  {
   "cell_type": "code",
   "execution_count": 1,
   "metadata": {
    "collapsed": false,
    "jupyter": {
     "outputs_hidden": false
    }
   },
   "outputs": [],
   "source": [
    "import pandas as pd"
   ]
  },
  {
   "cell_type": "code",
   "execution_count": 2,
   "metadata": {
    "collapsed": false,
    "jupyter": {
     "outputs_hidden": false
    }
   },
   "outputs": [],
   "source": [
    "data = pd.read_csv('ch02-data.csv')\n",
    "data['amount_x_2'] = data['ammount']*2\n",
    "data.to_csv('ch02-data_more.csv')"
   ]
  },
  {
   "cell_type": "code",
   "execution_count": 5,
   "metadata": {},
   "outputs": [
    {
     "data": {
      "text/html": [
       "<div>\n",
       "<style scoped>\n",
       "    .dataframe tbody tr th:only-of-type {\n",
       "        vertical-align: middle;\n",
       "    }\n",
       "\n",
       "    .dataframe tbody tr th {\n",
       "        vertical-align: top;\n",
       "    }\n",
       "\n",
       "    .dataframe thead th {\n",
       "        text-align: right;\n",
       "    }\n",
       "</style>\n",
       "<table border=\"1\" class=\"dataframe\">\n",
       "  <thead>\n",
       "    <tr style=\"text-align: right;\">\n",
       "      <th></th>\n",
       "      <th>day</th>\n",
       "      <th>ammount</th>\n",
       "      <th>amount_x_2</th>\n",
       "    </tr>\n",
       "  </thead>\n",
       "  <tbody>\n",
       "    <tr>\n",
       "      <th>0</th>\n",
       "      <td>2013-01-24</td>\n",
       "      <td>323</td>\n",
       "      <td>646</td>\n",
       "    </tr>\n",
       "    <tr>\n",
       "      <th>1</th>\n",
       "      <td>2013-01-25</td>\n",
       "      <td>233</td>\n",
       "      <td>466</td>\n",
       "    </tr>\n",
       "    <tr>\n",
       "      <th>2</th>\n",
       "      <td>2013-01-26</td>\n",
       "      <td>433</td>\n",
       "      <td>866</td>\n",
       "    </tr>\n",
       "    <tr>\n",
       "      <th>3</th>\n",
       "      <td>2013-01-27</td>\n",
       "      <td>555</td>\n",
       "      <td>1110</td>\n",
       "    </tr>\n",
       "    <tr>\n",
       "      <th>4</th>\n",
       "      <td>2013-01-28</td>\n",
       "      <td>123</td>\n",
       "      <td>246</td>\n",
       "    </tr>\n",
       "  </tbody>\n",
       "</table>\n",
       "</div>"
      ],
      "text/plain": [
       "          day  ammount  amount_x_2\n",
       "0  2013-01-24      323         646\n",
       "1  2013-01-25      233         466\n",
       "2  2013-01-26      433         866\n",
       "3  2013-01-27      555        1110\n",
       "4  2013-01-28      123         246"
      ]
     },
     "execution_count": 5,
     "metadata": {},
     "output_type": "execute_result"
    }
   ],
   "source": [
    "data.head()"
   ]
  },
  {
   "cell_type": "code",
   "execution_count": 4,
   "metadata": {
    "collapsed": false,
    "jupyter": {
     "outputs_hidden": false
    }
   },
   "outputs": [
    {
     "name": "stdout",
     "output_type": "stream",
     "text": [
      "0    323\n",
      "1    233\n",
      "2    433\n",
      "3    555\n",
      "4    123\n",
      "5      0\n",
      "6    221\n",
      "Name: ammount, dtype: int64\n"
     ]
    }
   ],
   "source": [
    "print(data.ammount)"
   ]
  },
  {
   "cell_type": "code",
   "execution_count": 9,
   "metadata": {
    "collapsed": false,
    "jupyter": {
     "outputs_hidden": false
    }
   },
   "outputs": [
    {
     "name": "stderr",
     "output_type": "stream",
     "text": [
      "/opt/anaconda3/lib/python3.7/site-packages/ipykernel_launcher.py:1: ParserWarning: Falling back to the 'python' engine because the 'c' engine does not support regex separators (separators > 1 char and different from '\\s+' are interpreted as regex); you can avoid this warning by specifying engine='python'.\n",
      "  \"\"\"Entry point for launching an IPython kernel.\n"
     ]
    },
    {
     "data": {
      "text/html": [
       "<div>\n",
       "<style scoped>\n",
       "    .dataframe tbody tr th:only-of-type {\n",
       "        vertical-align: middle;\n",
       "    }\n",
       "\n",
       "    .dataframe tbody tr th {\n",
       "        vertical-align: top;\n",
       "    }\n",
       "\n",
       "    .dataframe thead th {\n",
       "        text-align: right;\n",
       "    }\n",
       "</style>\n",
       "<table border=\"1\" class=\"dataframe\">\n",
       "  <thead>\n",
       "    <tr style=\"text-align: right;\">\n",
       "      <th></th>\n",
       "      <th></th>\n",
       "      <th></th>\n",
       "      <th></th>\n",
       "      <th></th>\n",
       "      <th></th>\n",
       "      <th></th>\n",
       "      <th></th>\n",
       "      <th></th>\n",
       "      <th></th>\n",
       "      <th></th>\n",
       "      <th></th>\n",
       "      <th></th>\n",
       "      <th></th>\n",
       "      <th>day</th>\n",
       "      <th>amount</th>\n",
       "    </tr>\n",
       "  </thead>\n",
       "  <tbody>\n",
       "    <tr>\n",
       "      <th rowspan=\"7\" valign=\"top\">NaN</th>\n",
       "      <th rowspan=\"7\" valign=\"top\">2</th>\n",
       "      <th rowspan=\"7\" valign=\"top\">0</th>\n",
       "      <th rowspan=\"7\" valign=\"top\">1</th>\n",
       "      <th rowspan=\"7\" valign=\"top\">3</th>\n",
       "      <th rowspan=\"7\" valign=\"top\">-</th>\n",
       "      <th rowspan=\"7\" valign=\"top\">0</th>\n",
       "      <th rowspan=\"7\" valign=\"top\">1</th>\n",
       "      <th rowspan=\"7\" valign=\"top\">-</th>\n",
       "      <th rowspan=\"6\" valign=\"top\">2</th>\n",
       "      <th>4</th>\n",
       "      <th>NaN</th>\n",
       "      <th>3</th>\n",
       "      <th>2.0</th>\n",
       "      <td>3.0</td>\n",
       "      <td>NaN</td>\n",
       "    </tr>\n",
       "    <tr>\n",
       "      <th>5</th>\n",
       "      <th>NaN</th>\n",
       "      <th>2</th>\n",
       "      <th>3.0</th>\n",
       "      <td>3.0</td>\n",
       "      <td>NaN</td>\n",
       "    </tr>\n",
       "    <tr>\n",
       "      <th>6</th>\n",
       "      <th>NaN</th>\n",
       "      <th>4</th>\n",
       "      <th>3.0</th>\n",
       "      <td>3.0</td>\n",
       "      <td>NaN</td>\n",
       "    </tr>\n",
       "    <tr>\n",
       "      <th>7</th>\n",
       "      <th>NaN</th>\n",
       "      <th>5</th>\n",
       "      <th>5.0</th>\n",
       "      <td>5.0</td>\n",
       "      <td>NaN</td>\n",
       "    </tr>\n",
       "    <tr>\n",
       "      <th>8</th>\n",
       "      <th>NaN</th>\n",
       "      <th>1</th>\n",
       "      <th>2.0</th>\n",
       "      <td>3.0</td>\n",
       "      <td>NaN</td>\n",
       "    </tr>\n",
       "    <tr>\n",
       "      <th>9</th>\n",
       "      <th>NaN</th>\n",
       "      <th>0</th>\n",
       "      <th>NaN</th>\n",
       "      <td>NaN</td>\n",
       "      <td>NaN</td>\n",
       "    </tr>\n",
       "    <tr>\n",
       "      <th>3</th>\n",
       "      <th>0</th>\n",
       "      <th>NaN</th>\n",
       "      <th>2</th>\n",
       "      <th>2.0</th>\n",
       "      <td>1.0</td>\n",
       "      <td>NaN</td>\n",
       "    </tr>\n",
       "  </tbody>\n",
       "</table>\n",
       "</div>"
      ],
      "text/plain": [
       "                                   day  amount\n",
       "NaN 2 0 1 3 - 0 1 - 2 4 NaN 3 2.0  3.0     NaN\n",
       "                      5 NaN 2 3.0  3.0     NaN\n",
       "                      6 NaN 4 3.0  3.0     NaN\n",
       "                      7 NaN 5 5.0  5.0     NaN\n",
       "                      8 NaN 1 2.0  3.0     NaN\n",
       "                      9 NaN 0 NaN  NaN     NaN\n",
       "                    3 0 NaN 2 2.0  1.0     NaN"
      ]
     },
     "execution_count": 9,
     "metadata": {},
     "output_type": "execute_result"
    }
   ],
   "source": [
    "pd.read_csv('ch02-data.tab', skiprows=1, delimiter=' *', names=['day','amount'])"
   ]
  },
  {
   "cell_type": "code",
   "execution_count": 16,
   "metadata": {},
   "outputs": [
    {
     "ename": "AttributeError",
     "evalue": "'_csv.reader' object has no attribute 'next'",
     "output_type": "error",
     "traceback": [
      "\u001b[0;31m---------------------------------------------------------------------------\u001b[0m",
      "\u001b[0;31mAttributeError\u001b[0m                            Traceback (most recent call last)",
      "\u001b[0;32m<ipython-input-16-c7b1a4741136>\u001b[0m in \u001b[0;36m<module>\u001b[0;34m\u001b[0m\n\u001b[1;32m      7\u001b[0m     \u001b[0;32mwith\u001b[0m \u001b[0mopen\u001b[0m\u001b[0;34m(\u001b[0m\u001b[0mfilename\u001b[0m\u001b[0;34m)\u001b[0m \u001b[0;32mas\u001b[0m \u001b[0mf\u001b[0m\u001b[0;34m:\u001b[0m\u001b[0;34m\u001b[0m\u001b[0;34m\u001b[0m\u001b[0m\n\u001b[1;32m      8\u001b[0m         \u001b[0mreader\u001b[0m \u001b[0;34m=\u001b[0m \u001b[0mcsv\u001b[0m\u001b[0;34m.\u001b[0m\u001b[0mreader\u001b[0m\u001b[0;34m(\u001b[0m\u001b[0mf\u001b[0m\u001b[0;34m,\u001b[0m \u001b[0mdialect\u001b[0m\u001b[0;34m=\u001b[0m\u001b[0mcsv\u001b[0m\u001b[0;34m.\u001b[0m\u001b[0mexcel_tab\u001b[0m\u001b[0;34m)\u001b[0m\u001b[0;34m\u001b[0m\u001b[0;34m\u001b[0m\u001b[0m\n\u001b[0;32m----> 9\u001b[0;31m         \u001b[0mheader\u001b[0m \u001b[0;34m=\u001b[0m \u001b[0mreader\u001b[0m\u001b[0;34m.\u001b[0m\u001b[0mnext\u001b[0m\u001b[0;34m(\u001b[0m\u001b[0;34m)\u001b[0m\u001b[0;34m\u001b[0m\u001b[0;34m\u001b[0m\u001b[0m\n\u001b[0m\u001b[1;32m     10\u001b[0m         \u001b[0mdata\u001b[0m \u001b[0;34m=\u001b[0m \u001b[0;34m[\u001b[0m\u001b[0mrow\u001b[0m \u001b[0;32mfor\u001b[0m \u001b[0mrow\u001b[0m \u001b[0;32min\u001b[0m \u001b[0mheader\u001b[0m\u001b[0;34m]\u001b[0m\u001b[0;34m\u001b[0m\u001b[0;34m\u001b[0m\u001b[0m\n\u001b[1;32m     11\u001b[0m \u001b[0;32mexcept\u001b[0m \u001b[0mcsv\u001b[0m\u001b[0;34m.\u001b[0m\u001b[0mError\u001b[0m \u001b[0;32mas\u001b[0m \u001b[0me\u001b[0m\u001b[0;34m:\u001b[0m\u001b[0;34m\u001b[0m\u001b[0;34m\u001b[0m\u001b[0m\n",
      "\u001b[0;31mAttributeError\u001b[0m: '_csv.reader' object has no attribute 'next'"
     ]
    }
   ],
   "source": [
    "import csv\n",
    "\n",
    "filename = 'ch02-data.tab'\n",
    "\n",
    "data = []\n",
    "try:\n",
    "    with open(filename) as f:\n",
    "        reader = csv.reader(f, dialect=csv.excel_tab)\n",
    "        header = reader.next()\n",
    "        data = [row for row in header]\n",
    "except csv.Error as e:\n",
    "    print(e)\n",
    "    sys.exit(-1)\n",
    "    \n",
    "if header:\n",
    "    print(header)\n",
    "    print('==============')\n",
    "    \n",
    "for datarow in data:\n",
    "    print(datarow)"
   ]
  },
  {
   "cell_type": "code",
   "execution_count": 7,
   "metadata": {
    "collapsed": false,
    "jupyter": {
     "outputs_hidden": false
    }
   },
   "outputs": [
    {
     "name": "stdout",
     "output_type": "stream",
     "text": [
      "(7, 3)\n"
     ]
    }
   ],
   "source": [
    "print(data.shape)"
   ]
  },
  {
   "cell_type": "code",
   "execution_count": 40,
   "metadata": {
    "collapsed": false,
    "jupyter": {
     "outputs_hidden": false
    }
   },
   "outputs": [
    {
     "name": "stdout",
     "output_type": "stream",
     "text": [
      "        col1           col2  col3\n",
      "0  161322597   386544351896    42\n",
      "1  296411327  6945080785634  2301\n",
      "2  164726383  4090941067228  5553\n",
      "3  575768002  4862349192103  5643\n",
      "4  483535208  6007251611732  4649\n"
     ]
    }
   ],
   "source": [
    "data = pd.read_csv('ch02-fixed-width-1M.data', delimiter=' ',\n",
    "                  names=['col1', 'col2', 'col3'])\n",
    "print data.head()"
   ]
  },
  {
   "cell_type": "code",
   "execution_count": 53,
   "metadata": {
    "collapsed": false,
    "jupyter": {
     "outputs_hidden": false
    }
   },
   "outputs": [
    {
     "name": "stdout",
     "output_type": "stream",
     "text": [
      "{u'avatar_url': u'https://avatars.githubusercontent.com/u/4929177?v=3',\n",
      " u'bio': None,\n",
      " u'blog': u'http://glowingpython.blogspot.com/',\n",
      " u'company': u'Cambridge Energy Data Lab',\n",
      " u'created_at': u'2013-07-03T10:07:22Z',\n",
      " u'email': u'',\n",
      " u'events_url': u'https://api.github.com/users/JustGlowing/events{/privacy}',\n",
      " u'followers': 7,\n",
      " u'followers_url': u'https://api.github.com/users/JustGlowing/followers',\n",
      " u'following': 1,\n",
      " u'following_url': u'https://api.github.com/users/JustGlowing/following{/other_user}',\n",
      " u'gists_url': u'https://api.github.com/users/JustGlowing/gists{/gist_id}',\n",
      " u'gravatar_id': u'',\n",
      " u'hireable': False,\n",
      " u'html_url': u'https://github.com/JustGlowing',\n",
      " u'id': 4929177,\n",
      " u'location': u'Cambridge, Uk',\n",
      " u'login': u'JustGlowing',\n",
      " u'name': u'',\n",
      " u'organizations_url': u'https://api.github.com/users/JustGlowing/orgs',\n",
      " u'public_gists': 1,\n",
      " u'public_repos': 5,\n",
      " u'received_events_url': u'https://api.github.com/users/JustGlowing/received_events',\n",
      " u'repos_url': u'https://api.github.com/users/JustGlowing/repos',\n",
      " u'site_admin': False,\n",
      " u'starred_url': u'https://api.github.com/users/JustGlowing/starred{/owner}{/repo}',\n",
      " u'subscriptions_url': u'https://api.github.com/users/JustGlowing/subscriptions',\n",
      " u'type': u'User',\n",
      " u'updated_at': u'2015-04-27T11:03:31Z',\n",
      " u'url': u'https://api.github.com/users/JustGlowing'}\n"
     ]
    },
    {
     "name": "stderr",
     "output_type": "stream",
     "text": [
      "/Users/jay/Documents/CEDL/pyenv/lib/python2.7/site-packages/requests/packages/urllib3/util/ssl_.py:79: InsecurePlatformWarning: A true SSLContext object is not available. This prevents urllib3 from configuring SSL appropriately and may cause certain SSL connections to fail. For more information, see https://urllib3.readthedocs.org/en/latest/security.html#insecureplatformwarning.\n",
      "  InsecurePlatformWarning\n"
     ]
    }
   ],
   "source": [
    "import requests\n",
    "from pprint import pprint\n",
    "url = 'https://api.github.com/users/justglowing'\n",
    "r = requests.get(url)\n",
    "json_obj = r.json()\n",
    "pprint(json_obj)"
   ]
  },
  {
   "cell_type": "code",
   "execution_count": 54,
   "metadata": {
    "collapsed": false,
    "jupyter": {
     "outputs_hidden": false
    }
   },
   "outputs": [
    {
     "data": {
      "text/plain": [
       "u'Cambridge, Uk'"
      ]
     },
     "execution_count": 54,
     "metadata": {},
     "output_type": "execute_result"
    }
   ],
   "source": [
    "json_obj['location']"
   ]
  },
  {
   "cell_type": "code",
   "execution_count": null,
   "metadata": {
    "collapsed": true,
    "jupyter": {
     "outputs_hidden": true
    }
   },
   "outputs": [],
   "source": []
  }
 ],
 "metadata": {
  "kernelspec": {
   "display_name": "Python 3",
   "language": "python",
   "name": "python3"
  },
  "language_info": {
   "codemirror_mode": {
    "name": "ipython",
    "version": 3
   },
   "file_extension": ".py",
   "mimetype": "text/x-python",
   "name": "python",
   "nbconvert_exporter": "python",
   "pygments_lexer": "ipython3",
   "version": "3.7.6"
  }
 },
 "nbformat": 4,
 "nbformat_minor": 4
}
