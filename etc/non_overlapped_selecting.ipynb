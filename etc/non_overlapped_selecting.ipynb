{
 "cells": [
  {
   "cell_type": "code",
   "execution_count": 27,
   "metadata": {},
   "outputs": [
    {
     "name": "stdout",
     "output_type": "stream",
     "text": [
      "['../02_computervision/recipes/detection/markdown/confusion_matrix.png', '../02_computervision/recipes/detection/markdown/11_points_interpolation.png', '../02_computervision/recipes/detection/markdown/PR_curve.png', '../02_computervision/recipes/detection/markdown/SSD_architecture.png', '../02_computervision/recipes/detection/markdown/PR_curve_table1.png', '../02_computervision/recipes/detection/markdown/interpolating_all_points.png', '../02_computervision/recipes/detection/markdown/intersection_over_union.png', '../02_computervision/recipes/detection/markdown/PR_curve_table2.png']\n"
     ]
    }
   ],
   "source": [
    "from glob import glob\n",
    "import random\n",
    "\n",
    "\n",
    "number = 8  # 선택할 이미지 개수 설정\n",
    "path = \"../02_computervision/recipes/detection/markdown\"  # 이미지 경로\n",
    "\n",
    "images = []\n",
    "for i in range(number):\n",
    "    while True:\n",
    "        image_path = random.choice(glob(f\"{path}\" + \"/*\"))\n",
    "        if image_path not in images:\n",
    "            break\n",
    "    images.append(image_path)\n",
    "\n",
    "print(images)"
   ]
  },
  {
   "cell_type": "code",
   "execution_count": null,
   "metadata": {},
   "outputs": [],
   "source": []
  }
 ],
 "metadata": {
  "interpreter": {
   "hash": "38cc0cca68228d4d18227abe74ed813685db17db46984279e4aabdddebf5f1ba"
  },
  "kernelspec": {
   "display_name": "Python 3.7.9 ('base')",
   "language": "python",
   "name": "python3"
  },
  "language_info": {
   "codemirror_mode": {
    "name": "ipython",
    "version": 3
   },
   "file_extension": ".py",
   "mimetype": "text/x-python",
   "name": "python",
   "nbconvert_exporter": "python",
   "pygments_lexer": "ipython3",
   "version": "3.7.9"
  },
  "orig_nbformat": 4
 },
 "nbformat": 4,
 "nbformat_minor": 2
}
