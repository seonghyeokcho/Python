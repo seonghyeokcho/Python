{
 "cells": [
  {
   "cell_type": "code",
   "execution_count": 1,
   "metadata": {},
   "outputs": [
    {
     "name": "stdout",
     "output_type": "stream",
     "text": [
      "['../02_computervision/recipes/detection/markdown/PR_curve.png', '../02_computervision/recipes/detection/markdown/PR_curve_table2.png', '../02_computervision/recipes/detection/markdown/SSD_architecture.png', '../02_computervision/recipes/detection/markdown/interpolating_all_points.png', '../02_computervision/recipes/detection/markdown/confusion_matrix.png', '../02_computervision/recipes/detection/markdown/intersection_over_union.png', '../02_computervision/recipes/detection/markdown/PR_curve_table1.png', '../02_computervision/recipes/detection/markdown/11_points_interpolation.png']\n"
     ]
    }
   ],
   "source": [
    "# just statements.\n",
    "from glob import glob\n",
    "import random\n",
    "\n",
    "\n",
    "number = 8  # 선택할 이미지 개수 설정\n",
    "path = \"../02_computervision/recipes/detection/markdown\"  # 이미지 경로\n",
    "\n",
    "images = []\n",
    "\n",
    "for i in range(number):\n",
    "    while True:\n",
    "        if \"/\" != path[-1]:\n",
    "            image_path = random.choice(glob(f\"{path}\" + \"/*\"))\n",
    "        else:\n",
    "            image_path = random.choice(glob(f\"{path}\" + \"*\"))\n",
    "            \n",
    "        if image_path not in images:\n",
    "            break\n",
    "    images.append(image_path)\n",
    "\n",
    "print(images)"
   ]
  },
  {
   "cell_type": "code",
   "execution_count": 2,
   "metadata": {},
   "outputs": [
    {
     "name": "stdout",
     "output_type": "stream",
     "text": [
      "['../02_computervision/recipes/detection/markdown/interpolating_all_points.png', '../02_computervision/recipes/detection/markdown/PR_curve_table1.png', '../02_computervision/recipes/detection/markdown/confusion_matrix.png', '../02_computervision/recipes/detection/markdown/intersection_over_union.png', '../02_computervision/recipes/detection/markdown/PR_curve_table2.png', '../02_computervision/recipes/detection/markdown/SSD_architecture.png', '../02_computervision/recipes/detection/markdown/11_points_interpolation.png', '../02_computervision/recipes/detection/markdown/PR_curve.png']\n"
     ]
    }
   ],
   "source": [
    "# mapping to function.\n",
    "from glob import glob\n",
    "import random\n",
    "\n",
    "\n",
    "def non_overlap_selecting(number, path):\n",
    "    images = []\n",
    "\n",
    "    for i in range(number):\n",
    "        while True:\n",
    "            if \"/\" != path[-1]:\n",
    "                image_path = random.choice(glob(f\"{path}\" + \"/*\"))\n",
    "            else:\n",
    "                image_path = random.choice(glob(f\"{path}\" + \"*\"))\n",
    "                \n",
    "            if image_path not in images:\n",
    "                break\n",
    "        images.append(image_path)\n",
    "\n",
    "    return images\n",
    "\n",
    "number = 8  # 선택할 이미지 개수 설정\n",
    "path = \"../02_computervision/recipes/detection/markdown\"  # 이미지 경로\n",
    "\n",
    "print(non_overlap_selecting(number, path))\n",
    "\n",
    "# %timeit non_overlap_selecting(number, path)\n",
    "# 3.22 ms ± 167 µs per loop (mean ± std. dev. of 7 runs, 100 loops each)"
   ]
  },
  {
   "cell_type": "code",
   "execution_count": 11,
   "metadata": {},
   "outputs": [
    {
     "name": "stdout",
     "output_type": "stream",
     "text": [
      "[1, 2, 3, 4, 5, 6, 7, 8, 9, 10, 11, 12, 13, 14, 15, 16, 17, 18, 19, 20, 21, 22, 23, 24, 25, 26, 27, 28, 29, 30, 31, 32, 33, 34, 35, 36, 37, 38, 39, 40, 41, 42, 43, 44, 45, 46, 47, 48, 49, 50, 51, 52, 53, 54, 55, 56, 57, 58, 59, 60, 61, 62, 63, 64, 65, 66, 67, 68, 69, 70, 71, 72, 73, 74, 75, 76, 77, 78, 79, 80, 81, 82, 83, 84, 85, 86, 87, 88, 89, 90, 91, 92, 93, 94, 95, 96, 97, 98, 99, 100]\n",
      "[63, 35, 59, 98, 24, 38, 58, 45, 10, 49, 30, 96, 78, 57, 31, 68, 17, 46, 3, 34, 83, 79, 61, 50, 19, 89, 53, 26, 97, 29, 100, 14, 66, 48, 32, 94, 65, 76, 1, 92, 62, 64, 93, 52, 28, 42, 99, 7, 11, 15, 85, 21, 71, 75, 95, 39, 36, 23, 84, 67, 12, 56, 77, 82, 2, 86, 87, 25, 16, 33, 47, 20, 70, 51, 22, 37, 40, 81, 4, 91, 8, 5, 6, 27, 18, 88, 60, 80, 43, 41, 13, 44, 69, 74, 90, 73, 9, 72, 55, 54]\n"
     ]
    },
    {
     "data": {
      "text/plain": [
       "False"
      ]
     },
     "execution_count": 11,
     "metadata": {},
     "output_type": "execute_result"
    }
   ],
   "source": [
    "import random\n",
    "\n",
    "def make_nonoverlap(ordered, arbitrary):\n",
    "    while True:\n",
    "        random.shuffle(arbitrary)\n",
    "        for i, j in zip(ordered, arbitrary):\n",
    "            if i == j:\n",
    "                break\n",
    "        else:\n",
    "            return ordered, arbitrary\n",
    "\n",
    "def check_nonoverlapped(target1, target2):\n",
    "    return all([1 if i != j else 0 for i, j in zip(target1, target2)])\n",
    "\n",
    "\n",
    "boxes = list(range(1, 101))\n",
    "numbers = boxes.copy()\n",
    "random.shuffle(numbers)\n",
    "# boxes, numbers = make_nonoverlap(boxes, numbers)\n",
    "print(boxes)\n",
    "print(numbers)\n",
    "check_nonoverlapped(boxes, numbers)"
   ]
  }
 ],
 "metadata": {
  "interpreter": {
   "hash": "38cc0cca68228d4d18227abe74ed813685db17db46984279e4aabdddebf5f1ba"
  },
  "kernelspec": {
   "display_name": "Python 3.7.9 ('base')",
   "language": "python",
   "name": "python3"
  },
  "language_info": {
   "codemirror_mode": {
    "name": "ipython",
    "version": 3
   },
   "file_extension": ".py",
   "mimetype": "text/x-python",
   "name": "python",
   "nbconvert_exporter": "python",
   "pygments_lexer": "ipython3",
   "version": "3.8.16"
  },
  "orig_nbformat": 4
 },
 "nbformat": 4,
 "nbformat_minor": 2
}
