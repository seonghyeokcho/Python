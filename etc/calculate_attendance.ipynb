{
 "cells": [
  {
   "attachments": {},
   "cell_type": "markdown",
   "metadata": {},
   "source": [
    "평균 출퇴근 시간을 목표 시간으로 낮추기 위해 출근해야 하는 시간을 계산하려면 다음 단계를 따라야 합니다.\n",
    "\n",
    "\n",
    "1. 통근 목표 시간을 결정하십시오. 목표 시간이 30분이라고 가정해 보겠습니다.\n",
    "2. 출퇴근 시간 내역 목록을 보고 이번 달 지금까지 소요한 총 출퇴근 시간을 계산합니다.\n",
    "3. 이번 달 지금까지 일한 일수를 계산하십시오. 예를 들어, 오늘이 그 달의 15일이고 지금까지 10일을 일했다면 이번 달에는 총 20일을 일해야 합니다.\n",
    "4. 지금까지 일한 날의 평균 출퇴근 시간을 계산합니다. 이렇게 하려면 2단계에서 계산한 총 출퇴근 시간을 지금까지 일한 일수로 나눕니다.\n",
    "5. 목표 평균 통근 시간을 달성하는 데 필요한 총 통근 시간을 계산합니다. 이렇게 하려면 목표 시간(분 단위)에 이번 달에 일해야 하는 총 일수를 곱하십시오.\n",
    "6. 목표 평균 통근 시간(5단계에서 계산)을 달성하는 데 필요한 총 통근 시간에서 이번 달까지 소요한 총 통근 시간을 뺍니다.\n",
    "7. 6단계의 결과를 이번 달 남은 일 수로 나눕니다. 이렇게 하면 목표 평균 통근 시간을 달성하기 위해 매일 지출할 수 있는 추가 통근 시간을 얻을 수 있습니다.\n",
    "8. 마지막으로 7단계에서 계산한 추가 통근 시간을 현재 평균 통근 시간(4단계에서 계산)에 더하여 출근해야 하는 시간을 찾습니다. 예를 들어 현재 평균 출퇴근 시간이 40분이고 매일 10분을 추가로 사용할 수 있는 경우 출퇴근 시간이 30분이 되는 시간에 출근해야 합니다.\n"
   ]
  },
  {
   "cell_type": "code",
   "execution_count": null,
   "metadata": {},
   "outputs": [],
   "source": [
    "import math\n",
    "import datetime"
   ]
  },
  {
   "cell_type": "code",
   "execution_count": null,
   "metadata": {},
   "outputs": [],
   "source": [
    "def calc_get_to_work(arrive_list, goal):\n",
    "    arrive_list = [int(i[:2])*60 + int(i[-2:]) for i in arrive_list]\n",
    "    print(arrive_list)\n",
    "    mean = sum(arrive_list) / len(arrive_list)\n",
    "    print(mean)\n",
    "    \n",
    "    point = int(mean)\n",
    "    goal = int(goal[:2])*60 + int(goal[-2:])\n",
    "    left_workday_minites = goal * datetime.timedelta()\n",
    "    # print(str(int(mean//60)).rjust(2, \"0\") + \":\" + str(int(mean%60)).rjust(2, \"0\"))\n",
    "    return point\n",
    "\n",
    "calc_get_to_work([\n",
    "    \"07:59\",\"07:59\",\"07:59\",\"08:02\",\"07:59\",\n",
    "    \"08:10\",\"08:01\",\"08:00\",\"08:09\",\"07:57\",\n",
    "    \"07:59\",\"07:58\",\"07:58\",\"08:01\",\"07:59\",\n",
    "    \"08:05\",\"08:01\",\"08:05\",\"07:58\",\"08:00\",\n",
    "    \"08:02\"\n",
    "    ],\n",
    "    goal=\"08:00\")"
   ]
  }
 ],
 "metadata": {
  "language_info": {
   "name": "python"
  },
  "orig_nbformat": 4
 },
 "nbformat": 4,
 "nbformat_minor": 2
}
