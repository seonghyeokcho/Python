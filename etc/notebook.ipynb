{
 "cells": [
  {
   "cell_type": "code",
   "execution_count": 4,
   "metadata": {},
   "outputs": [
    {
     "name": "stdout",
     "output_type": "stream",
     "text": [
      "Defense Formation\n",
      "----------\n",
      "2200\n",
      "1100.0\n",
      "1100.0\n",
      "----------\n",
      "11000\n",
      "5500.0\n",
      "5500.0\n",
      "----------\n",
      "6800\n",
      "3400.0\n",
      "3400.0\n",
      "----------\n",
      "\n",
      "Support fire Formation\n",
      "----------\n",
      "2200\n",
      "880.0\n",
      "2200\n",
      "----------\n",
      "11000\n",
      "4400.0\n",
      "11000\n",
      "----------\n",
      "6800\n",
      "2720.0\n",
      "6800\n",
      "----------\n"
     ]
    }
   ],
   "source": [
    "total = 53845\n",
    "lv6 = [2259, 3074, 2563]\n",
    "lv5 = [11200, 11600, 11104]\n",
    "lv1 = [6926, 6877, 7224]\n",
    "\n",
    "defensive_ratio = [1, 1/2, 1/2]\n",
    "supportfire_ratio = [1, 2/5, 1]\n",
    "\n",
    "print(\"Defense Formation\")\n",
    "for _ in range(3):\n",
    "    units = sum(lv6)\n",
    "    print(\"-\"*10)\n",
    "    for ratio in defensive_ratio:\n",
    "        print(total*ratio)\n",
    "print(\"-\"*10)\n",
    "\n",
    "print()\n",
    "\n",
    "print(\"Support fire Formation\")\n",
    "for level in levels:\n",
    "    print(\"-\"*10)\n",
    "    for ratio in supportfire_ratio:\n",
    "        print(level*ratio)\n",
    "print(\"-\"*10)"
   ]
  },
  {
   "cell_type": "code",
   "execution_count": 8,
   "metadata": {},
   "outputs": [
    {
     "name": "stdout",
     "output_type": "stream",
     "text": [
      "(1, 2) [[1.51896538 1.73154501]]\n"
     ]
    }
   ],
   "source": [
    "import numpy as np\n",
    "\n",
    "\n",
    "x = np.random.rand(3, 2)\n",
    "y = np.sum(x, axis=0, keepdims=True)\n",
    "print(y.shape, y)"
   ]
  },
  {
   "cell_type": "code",
   "execution_count": 4,
   "metadata": {},
   "outputs": [
    {
     "name": "stdout",
     "output_type": "stream",
     "text": [
      "dist1: 9.899494936611665\n",
      "dist2: 9.486832980505138\n"
     ]
    }
   ],
   "source": [
    "x, y = 694, 424\n",
    "d1, d2 = 687, 417\n",
    "d3, d4 = 703, 427\n",
    "\n",
    "print(\"dist1:\", ((x-d1)**2 + (y-d2)**2)**.5)\n",
    "print(\"dist2:\", ((x-d3)**2 + (y-d4)**2)**.5)"
   ]
  },
  {
   "cell_type": "code",
   "execution_count": 4,
   "metadata": {},
   "outputs": [
    {
     "name": "stdout",
     "output_type": "stream",
     "text": [
      "전체 병사 수: 151,939\n",
      "----------\n",
      "현재 방패병 수: 46,724\n",
      "현재 창병 수: 52,483\n",
      "현재 궁병 수: 52,732\n",
      "----------\n",
      "방패병 필요: 58,242\n",
      "궁병 필요: 25,992\n"
     ]
    }
   ],
   "source": [
    "shield = [42262,200,4262]\n",
    "spear = [33281,1112,3252,1466,13372]\n",
    "bow = [34022,162,3319,1467,13762]\n",
    "\n",
    "shield_num = sum(shield)\n",
    "spear_num = sum(spear)\n",
    "bow_num = sum(bow)\n",
    "\n",
    "print(f\"전체 병사 수: {shield_num+spear_num+bow_num:3,}\")\n",
    "print(\"-\"*10)\n",
    "print(f\"현재 방패병 수: {shield_num:3,}\")\n",
    "print(f\"현재 창병 수: {spear_num:3,}\")\n",
    "print(f\"현재 궁병 수: {bow_num:3,}\")\n",
    "print(\"-\"*10)\n",
    "print(f\"방패병 필요: {round(spear_num*2-shield_num):3,}\")\n",
    "print(f\"궁병 필요: {round(spear_num*1.5-bow_num):3,}\")"
   ]
  },
  {
   "cell_type": "code",
   "execution_count": 5,
   "metadata": {},
   "outputs": [
    {
     "data": {
      "text/plain": [
       "52483"
      ]
     },
     "execution_count": 5,
     "metadata": {},
     "output_type": "execute_result"
    }
   ],
   "source": [
    "a = [33281,1112,3252,1466,13372]\n",
    "sum(a)"
   ]
  },
  {
   "cell_type": "code",
   "execution_count": 17,
   "metadata": {},
   "outputs": [
    {
     "name": "stdout",
     "output_type": "stream",
     "text": [
      "7.0 13.558222222222241\n"
     ]
    }
   ],
   "source": [
    "seconds = 9*24*60*60 + 10*60*60 + 56*60 + 52\n",
    "hours = seconds / 60 / 60\n",
    "days, hours = divmod(hours * 0.8, 24)\n",
    "print(days, hours)"
   ]
  },
  {
   "cell_type": "code",
   "execution_count": 1,
   "metadata": {},
   "outputs": [
    {
     "data": {
      "text/plain": [
       "0.48"
      ]
     },
     "execution_count": 1,
     "metadata": {},
     "output_type": "execute_result"
    }
   ],
   "source": [
    "(0.8)*(3/5)"
   ]
  },
  {
   "cell_type": "code",
   "execution_count": null,
   "metadata": {},
   "outputs": [],
   "source": []
  },
  {
   "cell_type": "code",
   "execution_count": null,
   "metadata": {},
   "outputs": [],
   "source": []
  },
  {
   "cell_type": "markdown",
   "metadata": {},
   "source": [
    "### 연맹 챔피언십 전략\n",
    "\n",
    "#### 2:1 전략 (45 45 10)\n",
    "- 한쪽 루트를 내어 주고 나머지 두 곳의 깃발을 차지하는 전략\n",
    "\n",
    "#### 카운터 2:1 전략 (60 20 20)\n",
    "- 2:1 전략을 파훼하기 위한 전략으로써 한쪽 루트를 확실하게 차지하고, 나머지 두곳 중 가장 약한 곳을 근소한 차이로 이겨 2:1로 승리하는 전략"
   ]
  },
  {
   "cell_type": "code",
   "execution_count": 17,
   "metadata": {},
   "outputs": [
    {
     "name": "stdout",
     "output_type": "stream",
     "text": [
      "52 52\n"
     ]
    }
   ],
   "source": [
    "names_L = [\n",
    "    \"킬링타임\", \"big\", \"코코사마\", \"juju\", \"biscuits\",\n",
    "    \"lucid\", \"슈비\", \"minu\", \"처음처럼\", \"jerry\",\n",
    "    \"안녕하세요\", \"jayhawk\", \"mong\", \"jjeong\", \"midori\",\n",
    "    \"garuda\", \"gloomyatom\", \"귀요미\", \"토깽이\", \"HELLBOY\",\n",
    "    \"vanilla\", \"justin choi\", \"noff\", \"akcali\", \"miki10\",\n",
    "    \"BETER\", \"뜌링\", \"루트\", \"winter\", \"altanbey\",\n",
    "    \"마루\"\n",
    "    ]\n",
    "combat_powers_L = [\n",
    "    2317, 1477, 1357, 1253, 1232,\n",
    "    1138, 1086, 1073, 1071, 1054,\n",
    "    1043, 1015, 993, 977, 937,\n",
    "    921, 906, 900, 879, 876,\n",
    "    861, 856, 837, 1292, 1089,\n",
    "    998, 986, 964, 892, 617,\n",
    "    395\n",
    "    ]\n",
    "\n",
    "names_C = [\n",
    "    \"Jiwon\", \"와이\", \"제임스\", \"eatsleep\", \"호수공원\",\n",
    "    \"shinebrightly\", \"까마쿤\", \"포도봉봉\", \"쏘니\", \"baby conqueror\",\n",
    "    \"TW\", \"도진이네\", \"이청년\", \"싱싱\", \"pooh\",\n",
    "    \"gghhdd\", \"kang\", \"xern\", \"만두라면\", \"깡깡짱\",\n",
    "    \"2024\", \"도곡동주민\", \"elysia\", \"hanna\", \"siruon\",\n",
    "    \"hyun\", \"goat\", \"rockstar\",\n",
    "]\n",
    "combat_powers_C = [\n",
    "    1862, 1719, 1314, 1281, 1252,\n",
    "    1222, 1205, 1182, 1164, 1149,\n",
    "    1127, 1035, 1034, 1022, 1016,\n",
    "    1011, 990, 988, 898, 857,\n",
    "    851, 846, 832, 790, 755,\n",
    "    747, 747, 552,\n",
    "]\n",
    "\n",
    "names_R = [\n",
    "    \"Hmm\"\n",
    "]\n",
    "combat_powers_R = [\n",
    "    990\n",
    "]\n",
    "\n",
    "total_names = names_L + names_C + names_R\n",
    "total_combat_powers = combat_powers_L + combat_powers_C + combat_powers_R\n",
    "\n",
    "print(len(total_names), len(total_combat_powers))\n",
    "assert len(total_names) == len(total_combat_powers), \"리스트 길이가 다릅니다. 리스트 확인해주세요.\"\n",
    "\n",
    "lineup = {k:v for k, v in zip(total_combat_powers, total_names)}"
   ]
  },
  {
   "cell_type": "code",
   "execution_count": 31,
   "metadata": {},
   "outputs": [
    {
     "name": "stdout",
     "output_type": "stream",
     "text": [
      "2317 1477 1309 1253 1232 1205 1164 1138 1086 1071 1043 1034 1016 1011 990 988 937 921 900 879 861 856 846 832 747 552 \n",
      "total: 27665\n",
      "1862 1719 1357 1281 1252 1222 1182 1149 1127 1073 1054 1035 1022 1015 993 990 977 906 898 876 857 851 837 790 755 747 \n",
      "total: 27827\n",
      "['킬링타임', 'big', '제임스', 'juju', 'biscuits', '까마쿤', '쏘니', 'lucid', '슈비', '처음처럼', '안녕하세요', '이청년', 'pooh', 'gghhdd', 'Hmm', 'xern', 'midori', 'garuda', '귀요미', '토깽이']\n",
      "['Jiwon', '와이', '코코사마', 'eatsleep', '호수공원', 'shinebrightly', '포도봉봉', 'baby conqueror', 'TW', 'minu', 'jerry', '도진이네', '싱싱', 'jayhawk', 'mong', 'Hmm', 'jjeong', 'gloomyatom', '만두라면', 'HELLBOY']\n"
     ]
    }
   ],
   "source": [
    "ordered_combat_powers = sorted(total_combat_powers, reverse=True)\n",
    "\n",
    "left_lane, center_lane = [], []\n",
    "\n",
    "for i in ordered_combat_powers:\n",
    "    if not left_lane:\n",
    "        left_lane.append(i)\n",
    "        continue\n",
    "    elif not center_lane:\n",
    "        center_lane.append(i)\n",
    "        continue\n",
    "    \n",
    "    if sum(left_lane) > sum(center_lane):\n",
    "        center_lane.append(i)\n",
    "    else:\n",
    "        left_lane.append(i)\n",
    "\n",
    "print(*left_lane, f\"\\ntotal: {sum(left_lane)}\")\n",
    "print(*center_lane, f\"\\ntotal: {sum(center_lane)}\")\n",
    "\n",
    "left_lane_members = [lineup[i] for i in left_lane[:20]]\n",
    "center_lane_members = [lineup[i] for i in center_lane[:20]]\n",
    "\n",
    "print(left_lane_members)\n",
    "print(center_lane_members)"
   ]
  },
  {
   "cell_type": "code",
   "execution_count": 33,
   "metadata": {},
   "outputs": [
    {
     "data": {
      "text/plain": [
       "'싱싱'"
      ]
     },
     "execution_count": 33,
     "metadata": {},
     "output_type": "execute_result"
    }
   ],
   "source": []
  }
 ],
 "metadata": {
  "kernelspec": {
   "display_name": "base",
   "language": "python",
   "name": "python3"
  },
  "language_info": {
   "codemirror_mode": {
    "name": "ipython",
    "version": 3
   },
   "file_extension": ".py",
   "mimetype": "text/x-python",
   "name": "python",
   "nbconvert_exporter": "python",
   "pygments_lexer": "ipython3",
   "version": "3.10.13"
  }
 },
 "nbformat": 4,
 "nbformat_minor": 2
}
