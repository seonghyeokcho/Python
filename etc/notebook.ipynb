{
 "cells": [
  {
   "cell_type": "code",
   "execution_count": 4,
   "metadata": {},
   "outputs": [
    {
     "name": "stdout",
     "output_type": "stream",
     "text": [
      "Defense Formation\n",
      "----------\n",
      "2200\n",
      "1100.0\n",
      "1100.0\n",
      "----------\n",
      "11000\n",
      "5500.0\n",
      "5500.0\n",
      "----------\n",
      "6800\n",
      "3400.0\n",
      "3400.0\n",
      "----------\n",
      "\n",
      "Support fire Formation\n",
      "----------\n",
      "2200\n",
      "880.0\n",
      "2200\n",
      "----------\n",
      "11000\n",
      "4400.0\n",
      "11000\n",
      "----------\n",
      "6800\n",
      "2720.0\n",
      "6800\n",
      "----------\n"
     ]
    }
   ],
   "source": [
    "total = 53845\n",
    "lv6 = [2259, 3074, 2563]\n",
    "lv5 = [11200, 11600, 11104]\n",
    "lv1 = [6926, 6877, 7224]\n",
    "\n",
    "defensive_ratio = [1, 1 / 2, 1 / 2]\n",
    "supportfire_ratio = [1, 2 / 5, 1]\n",
    "\n",
    "print(\"Defense Formation\")\n",
    "for _ in range(3):\n",
    "    units = sum(lv6)\n",
    "    print(\"-\" * 10)\n",
    "    for ratio in defensive_ratio:\n",
    "        print(total * ratio)\n",
    "print(\"-\" * 10)\n",
    "\n",
    "print()\n",
    "\n",
    "print(\"Support fire Formation\")\n",
    "for level in levels:\n",
    "    print(\"-\" * 10)\n",
    "    for ratio in supportfire_ratio:\n",
    "        print(level * ratio)\n",
    "print(\"-\" * 10)"
   ]
  },
  {
   "cell_type": "code",
   "execution_count": 8,
   "metadata": {},
   "outputs": [
    {
     "name": "stdout",
     "output_type": "stream",
     "text": [
      "(1, 2) [[1.51896538 1.73154501]]\n"
     ]
    }
   ],
   "source": [
    "import numpy as np\n",
    "\n",
    "\n",
    "x = np.random.rand(3, 2)\n",
    "y = np.sum(x, axis=0, keepdims=True)\n",
    "print(y.shape, y)"
   ]
  },
  {
   "cell_type": "code",
   "execution_count": 4,
   "metadata": {},
   "outputs": [
    {
     "name": "stdout",
     "output_type": "stream",
     "text": [
      "dist1: 9.899494936611665\n",
      "dist2: 9.486832980505138\n"
     ]
    }
   ],
   "source": [
    "x, y = 694, 424\n",
    "d1, d2 = 687, 417\n",
    "d3, d4 = 703, 427\n",
    "\n",
    "print(\"dist1:\", ((x - d1) ** 2 + (y - d2) ** 2) ** 0.5)\n",
    "print(\"dist2:\", ((x - d3) ** 2 + (y - d4) ** 2) ** 0.5)"
   ]
  },
  {
   "cell_type": "code",
   "execution_count": 4,
   "metadata": {},
   "outputs": [
    {
     "name": "stdout",
     "output_type": "stream",
     "text": [
      "전체 병사 수: 151,939\n",
      "----------\n",
      "현재 방패병 수: 46,724\n",
      "현재 창병 수: 52,483\n",
      "현재 궁병 수: 52,732\n",
      "----------\n",
      "방패병 필요: 58,242\n",
      "궁병 필요: 25,992\n"
     ]
    }
   ],
   "source": [
    "shield = [42262, 200, 4262]\n",
    "spear = [33281, 1112, 3252, 1466, 13372]\n",
    "bow = [34022, 162, 3319, 1467, 13762]\n",
    "\n",
    "shield_num = sum(shield)\n",
    "spear_num = sum(spear)\n",
    "bow_num = sum(bow)\n",
    "\n",
    "print(f\"전체 병사 수: {shield_num+spear_num+bow_num:3,}\")\n",
    "print(\"-\" * 10)\n",
    "print(f\"현재 방패병 수: {shield_num:3,}\")\n",
    "print(f\"현재 창병 수: {spear_num:3,}\")\n",
    "print(f\"현재 궁병 수: {bow_num:3,}\")\n",
    "print(\"-\" * 10)\n",
    "print(f\"방패병 필요: {round(spear_num*2-shield_num):3,}\")\n",
    "print(f\"궁병 필요: {round(spear_num*1.5-bow_num):3,}\")"
   ]
  },
  {
   "cell_type": "code",
   "execution_count": 5,
   "metadata": {},
   "outputs": [
    {
     "data": {
      "text/plain": [
       "52483"
      ]
     },
     "execution_count": 5,
     "metadata": {},
     "output_type": "execute_result"
    }
   ],
   "source": [
    "a = [33281, 1112, 3252, 1466, 13372]\n",
    "sum(a)"
   ]
  },
  {
   "cell_type": "code",
   "execution_count": 17,
   "metadata": {},
   "outputs": [
    {
     "name": "stdout",
     "output_type": "stream",
     "text": [
      "7.0 13.558222222222241\n"
     ]
    }
   ],
   "source": [
    "seconds = 9 * 24 * 60 * 60 + 10 * 60 * 60 + 56 * 60 + 52\n",
    "hours = seconds / 60 / 60\n",
    "days, hours = divmod(hours * 0.8, 24)\n",
    "print(days, hours)"
   ]
  },
  {
   "cell_type": "code",
   "execution_count": 1,
   "metadata": {},
   "outputs": [
    {
     "data": {
      "text/plain": [
       "0.48"
      ]
     },
     "execution_count": 1,
     "metadata": {},
     "output_type": "execute_result"
    }
   ],
   "source": [
    "(0.8) * (3 / 5)"
   ]
  },
  {
   "cell_type": "code",
   "execution_count": null,
   "metadata": {},
   "outputs": [],
   "source": []
  },
  {
   "cell_type": "code",
   "execution_count": null,
   "metadata": {},
   "outputs": [],
   "source": []
  },
  {
   "cell_type": "markdown",
   "metadata": {},
   "source": [
    "### 연맹 챔피언십 전략\n",
    "\n",
    "#### 2:1 전략 (45 45 10)\n",
    "- 한쪽 루트를 내어 주고 나머지 두 곳의 깃발을 차지하는 전략\n",
    "\n",
    "#### 카운터 2:1 전략 (60 20 20)\n",
    "- 2:1 전략을 파훼하기 위한 전략으로써 한쪽 루트를 확실하게 차지하고, 나머지 두곳 중 가장 약한 곳을 근소한 차이로 이겨 2:1로 승리하는 전략"
   ]
  },
  {
   "cell_type": "code",
   "execution_count": 63,
   "metadata": {},
   "outputs": [
    {
     "name": "stdout",
     "output_type": "stream",
     "text": [
      "80 80\n"
     ]
    }
   ],
   "source": [
    "names = [\n",
    "    \"킬링타임\",\n",
    "    \"Jiwon\",\n",
    "    \"와이\",\n",
    "    \"QATAR\",\n",
    "    \"big\",\n",
    "    \"코코사마\",\n",
    "    \"eatsleep\",\n",
    "    \"제임스\",\n",
    "    \"akcali\",\n",
    "    \"호수공원\",\n",
    "    \"juju\",\n",
    "    \"biscuits\",\n",
    "    \"까마쿤\",\n",
    "    \"shinebrightly\",\n",
    "    \"쪼꼬\",\n",
    "    \"네오\",\n",
    "    \"쏘니\",\n",
    "    \"포도봉봉\",\n",
    "    \"player\",\n",
    "    \"baby conqueror\",\n",
    "    \"lucid\",\n",
    "    \"TW\",\n",
    "    \"mong\",\n",
    "    \"midori\",\n",
    "    \"minu\",\n",
    "    \"miki10\",\n",
    "    \"슈비\",\n",
    "    \"jerry\",\n",
    "    \"이청년\",\n",
    "    \"처음처럼\",\n",
    "    \"freein00\",\n",
    "    \"jjeong\",\n",
    "    \"안녕하세요\",\n",
    "    \"도진이네\",\n",
    "    \"싱싱\",\n",
    "    \"pooh0701\",\n",
    "    \"jayhawk\",\n",
    "    \"gghhdd2002\",\n",
    "    \"BETER\",\n",
    "    \"Xern\",\n",
    "    \"CANCER\",\n",
    "    \"으른\",\n",
    "    \"scream\",\n",
    "    \"kang\",\n",
    "    \"Hmm\",\n",
    "    \"뜌링\",\n",
    "    \"루트\",\n",
    "    \"garuda\",\n",
    "    \"gloomyatom\",\n",
    "    \"joe\",\n",
    "    \"귀요미\",\n",
    "    \"Fuhr\",\n",
    "    \"만두라면\",\n",
    "    \"winter\",\n",
    "    \"HELLBOY\",\n",
    "    \"토깽이\",\n",
    "    \"Zayn\",\n",
    "    \"vanilla\",\n",
    "    \"깡깡짱\",\n",
    "    \"justin choi\",\n",
    "    \"Elysia\",\n",
    "    \"2024\",\n",
    "    \"도곡동주민\",\n",
    "    \"noff\",\n",
    "    \"Nyx\",\n",
    "    \"MrHan\",\n",
    "    \"Scythe\",\n",
    "    \"hanna\",\n",
    "    \"cetobaskan\",\n",
    "    \"Siruon\",\n",
    "    \"Hyun\",\n",
    "    \"Goat\",\n",
    "    \"현미리\",\n",
    "    \"MrHyung\",\n",
    "    \"Altanbey\",\n",
    "    \"콩지\",\n",
    "    \"Rockstar\",\n",
    "    \"하리보\",\n",
    "    \"마루\",\n",
    "    \"HAHAXD\",\n",
    "]\n",
    "\n",
    "combat_powers = [\n",
    "    2292,\n",
    "    1862,\n",
    "    1719,\n",
    "    1657,\n",
    "    1477,\n",
    "    1357,\n",
    "    1323,\n",
    "    1306,\n",
    "    1292,\n",
    "    1278,\n",
    "    1253,\n",
    "    1244,\n",
    "    1231,\n",
    "    1222,\n",
    "    1204,\n",
    "    1199,\n",
    "    1195,\n",
    "    1182,\n",
    "    1179,\n",
    "    1157,\n",
    "    1138,\n",
    "    1127,\n",
    "    1125,\n",
    "    1103,\n",
    "    1100,\n",
    "    1089,\n",
    "    1086,\n",
    "    1074,\n",
    "    1072,\n",
    "    1071,\n",
    "    1044,\n",
    "    1043.1,\n",
    "    1043,\n",
    "    1035,\n",
    "    1022,\n",
    "    1016,\n",
    "    1015,\n",
    "    1011,\n",
    "    998,\n",
    "    996.1,\n",
    "    996,\n",
    "    993.1,\n",
    "    993,\n",
    "    990.1,\n",
    "    990,\n",
    "    986,\n",
    "    964,\n",
    "    956,\n",
    "    906.1,\n",
    "    906,\n",
    "    900,\n",
    "    898.1,\n",
    "    898,\n",
    "    892,\n",
    "    887,\n",
    "    879,\n",
    "    868,\n",
    "    861,\n",
    "    857,\n",
    "    856,\n",
    "    854,\n",
    "    851,\n",
    "    846,\n",
    "    837,\n",
    "    829,\n",
    "    820,\n",
    "    800,\n",
    "    790,\n",
    "    763,\n",
    "    755,\n",
    "    747.1,\n",
    "    747,\n",
    "    661,\n",
    "    658,\n",
    "    617,\n",
    "    612,\n",
    "    552,\n",
    "    538,\n",
    "    395,\n",
    "    375,\n",
    "]\n",
    "\n",
    "print(len(names), len(combat_powers))\n",
    "assert len(names) == len(combat_powers), \"리스트 길이가 다릅니다. 리스트 확인해주세요.\"\n",
    "\n",
    "lineup = {k: v for k, v in zip(combat_powers, names)}\n",
    "\n",
    "with open(\"./lineup.txt\", \"w\") as f:\n",
    "    for i, j in lineup.items():\n",
    "        f.writelines([str(i), \"/\", j, \",\"])\n",
    "f.close()"
   ]
  },
  {
   "cell_type": "code",
   "execution_count": 51,
   "metadata": {},
   "outputs": [
    {
     "name": "stdout",
     "output_type": "stream",
     "text": [
      "2292 1657 1357 1306 1278 1244 1222 1199 1182 1157 1127 1103 1089 1074 1071 1043.1 1035 1016 1011 996.1 \n",
      "total: 24459.199999999997\n",
      "1862 1719 1477 1323 1292 1253 1231 1204 1195 1179 1138 1125 1100 1086 1072 1044 1043 1022 1015 998 \n",
      "total: 24378\n",
      "['킬링타임', 'QATAR', '코코사마', '제임스', '호수공원', 'biscuits', 'shinebrightly', '네오', '포도봉봉', 'baby conqueror', 'TW', 'midori', 'miki10', 'jerry', '처음처럼', 'jjeong', '도진이네', 'pooh0701', 'gghhdd2002', 'Xern']\n",
      "['Jiwon', '와이', 'big', 'eatsleep', 'akcali', 'juju', '까마쿤', '쪼꼬', '쏘니', 'player', 'lucid', 'mong', 'minu', '슈비', '이청년', 'freein00', '안녕하세요', '싱싱', 'jayhawk', 'BETER']\n"
     ]
    }
   ],
   "source": [
    "ordered_combat_powers = sorted(combat_powers, reverse=True)\n",
    "\n",
    "left_lane, center_lane = [], []\n",
    "\n",
    "for i in ordered_combat_powers:\n",
    "    if not left_lane:\n",
    "        left_lane.append(i)\n",
    "        continue\n",
    "    elif not center_lane:\n",
    "        center_lane.append(i)\n",
    "        continue\n",
    "\n",
    "    if sum(left_lane) > sum(center_lane):\n",
    "        center_lane.append(i)\n",
    "    else:\n",
    "        left_lane.append(i)\n",
    "\n",
    "print(*left_lane[:20], f\"\\ntotal: {sum(left_lane[:20])}\")\n",
    "print(*center_lane[:20], f\"\\ntotal: {sum(center_lane[:20])}\")\n",
    "\n",
    "left_lane_members = [lineup[i] for i in left_lane[:20]]\n",
    "center_lane_members = [lineup[i] for i in center_lane[:20]]\n",
    "\n",
    "print(left_lane_members)\n",
    "print(center_lane_members)"
   ]
  },
  {
   "cell_type": "code",
   "execution_count": 33,
   "metadata": {},
   "outputs": [
    {
     "data": {
      "text/plain": [
       "'싱싱'"
      ]
     },
     "execution_count": 33,
     "metadata": {},
     "output_type": "execute_result"
    }
   ],
   "source": []
  },
  {
   "cell_type": "markdown",
   "metadata": {},
   "source": [
    "### 연맹 챔피언십 루트 조정 (부케 연맹)"
   ]
  },
  {
   "cell_type": "code",
   "execution_count": 64,
   "metadata": {},
   "outputs": [
    {
     "name": "stdout",
     "output_type": "stream",
     "text": [
      "25 25\n"
     ]
    }
   ],
   "source": [
    "names = [\n",
    "    \"kang\",\n",
    "    \"miminu\",\n",
    "    \"뽀또봉봉\",\n",
    "    \"shinebrightly\",\n",
    "    \"코코사마\",\n",
    "    \"neo\",\n",
    "    \"참이슬\",\n",
    "    \"Dosirak\",\n",
    "    \"garuda\",\n",
    "    \"손흥민\",\n",
    "    \"까만콩\",\n",
    "    \"Lemon Tree\",\n",
    "    \"jiwon2\",\n",
    "    \"Emm\",\n",
    "    \"Dojin\",\n",
    "    \"lee9\",\n",
    "    \"hosu2\",\n",
    "    \"goniiscoming\",\n",
    "    \"jiwon3\",\n",
    "    \"Silla\",\n",
    "    \"gghhdd\",\n",
    "    \"pooh\",\n",
    "    \"PLU2ND\",\n",
    "    \"Xern1\",\n",
    "    \"lord grim\",\n",
    "]\n",
    "\n",
    "combat_powers = [\n",
    "    747,\n",
    "    710,\n",
    "    693,\n",
    "    659,\n",
    "    638,\n",
    "    604,\n",
    "    596,\n",
    "    514,\n",
    "    509,\n",
    "    506,\n",
    "    504,\n",
    "    467,\n",
    "    456,\n",
    "    453,\n",
    "    436,\n",
    "    376,\n",
    "    318,\n",
    "    317,\n",
    "    313,\n",
    "    238,\n",
    "    234,\n",
    "    208,\n",
    "    184,\n",
    "    121,\n",
    "    83,\n",
    "]\n",
    "\n",
    "print(len(names), len(combat_powers))\n",
    "assert len(names) == len(combat_powers), \"리스트 길이가 다릅니다. 리스트 확인해주세요.\"\n",
    "\n",
    "lineup = {k: v for k, v in zip(combat_powers, names)}\n",
    "\n",
    "with open(\"./lineup.txt\", \"w\") as f:\n",
    "    for i, j in lineup.items():\n",
    "        f.writelines([str(i), \"/\", j, \",\"])\n",
    "f.close()"
   ]
  },
  {
   "cell_type": "code",
   "execution_count": 66,
   "metadata": {},
   "outputs": [
    {
     "name": "stdout",
     "output_type": "stream",
     "text": [
      "747 659 604 596 506 467 453 376 318 313 208 184 \n",
      "total: 5431\n",
      "710 693 638 514 509 504 456 436 317 238 234 121 83 \n",
      "total: 5453\n",
      "['kang', 'shinebrightly', 'neo', '참이슬', '손흥민', 'Lemon Tree', 'Emm', 'lee9', 'hosu2', 'jiwon3', 'pooh', 'PLU2ND']\n",
      "['miminu', '뽀또봉봉', '코코사마', 'Dosirak', 'garuda', '까만콩', 'jiwon2', 'Dojin', 'goniiscoming', 'Silla', 'gghhdd', 'Xern1', 'lord grim']\n"
     ]
    }
   ],
   "source": [
    "ordered_combat_powers = sorted(combat_powers, reverse=True)\n",
    "\n",
    "left_lane, center_lane = [], []\n",
    "\n",
    "for i in ordered_combat_powers:\n",
    "    if not left_lane:\n",
    "        left_lane.append(i)\n",
    "        continue\n",
    "    elif not center_lane:\n",
    "        center_lane.append(i)\n",
    "        continue\n",
    "\n",
    "    if sum(left_lane) > sum(center_lane):\n",
    "        center_lane.append(i)\n",
    "    else:\n",
    "        left_lane.append(i)\n",
    "\n",
    "print(*left_lane, f\"\\ntotal: {sum(left_lane)}\")\n",
    "print(*center_lane, f\"\\ntotal: {sum(center_lane)}\")\n",
    "\n",
    "left_lane_members = [lineup[i] for i in left_lane]\n",
    "center_lane_members = [lineup[i] for i in center_lane]\n",
    "\n",
    "print(left_lane_members)\n",
    "print(center_lane_members)"
   ]
  }
 ],
 "metadata": {
  "kernelspec": {
   "display_name": "base",
   "language": "python",
   "name": "python3"
  },
  "language_info": {
   "codemirror_mode": {
    "name": "ipython",
    "version": 3
   },
   "file_extension": ".py",
   "mimetype": "text/x-python",
   "name": "python",
   "nbconvert_exporter": "python",
   "pygments_lexer": "ipython3",
   "version": "3.10.13"
  }
 },
 "nbformat": 4,
 "nbformat_minor": 2
}
