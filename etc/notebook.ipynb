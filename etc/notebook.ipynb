{
 "cells": [
  {
   "cell_type": "code",
   "execution_count": 4,
   "metadata": {},
   "outputs": [
    {
     "name": "stdout",
     "output_type": "stream",
     "text": [
      "Defense Formation\n",
      "----------\n",
      "2200\n",
      "1100.0\n",
      "1100.0\n",
      "----------\n",
      "11000\n",
      "5500.0\n",
      "5500.0\n",
      "----------\n",
      "6800\n",
      "3400.0\n",
      "3400.0\n",
      "----------\n",
      "\n",
      "Support fire Formation\n",
      "----------\n",
      "2200\n",
      "880.0\n",
      "2200\n",
      "----------\n",
      "11000\n",
      "4400.0\n",
      "11000\n",
      "----------\n",
      "6800\n",
      "2720.0\n",
      "6800\n",
      "----------\n"
     ]
    }
   ],
   "source": [
    "total = 53845\n",
    "lv6 = [2259, 3074, 2563]\n",
    "lv5 = [11200, 11600, 11104]\n",
    "lv1 = [6926, 6877, 7224]\n",
    "\n",
    "defensive_ratio = [1, 1 / 2, 1 / 2]\n",
    "supportfire_ratio = [1, 2 / 5, 1]\n",
    "\n",
    "print(\"Defense Formation\")\n",
    "for _ in range(3):\n",
    "    units = sum(lv6)\n",
    "    print(\"-\" * 10)\n",
    "    for ratio in defensive_ratio:\n",
    "        print(total * ratio)\n",
    "print(\"-\" * 10)\n",
    "\n",
    "print()\n",
    "\n",
    "print(\"Support fire Formation\")\n",
    "for level in levels:\n",
    "    print(\"-\" * 10)\n",
    "    for ratio in supportfire_ratio:\n",
    "        print(level * ratio)\n",
    "print(\"-\" * 10)"
   ]
  },
  {
   "cell_type": "code",
   "execution_count": 8,
   "metadata": {},
   "outputs": [
    {
     "name": "stdout",
     "output_type": "stream",
     "text": [
      "(1, 2) [[1.51896538 1.73154501]]\n"
     ]
    }
   ],
   "source": [
    "import numpy as np\n",
    "\n",
    "\n",
    "x = np.random.rand(3, 2)\n",
    "y = np.sum(x, axis=0, keepdims=True)\n",
    "print(y.shape, y)"
   ]
  },
  {
   "cell_type": "code",
   "execution_count": 4,
   "metadata": {},
   "outputs": [
    {
     "name": "stdout",
     "output_type": "stream",
     "text": [
      "dist1: 9.899494936611665\n",
      "dist2: 9.486832980505138\n"
     ]
    }
   ],
   "source": [
    "x, y = 694, 424\n",
    "d1, d2 = 687, 417\n",
    "d3, d4 = 703, 427\n",
    "\n",
    "print(\"dist1:\", ((x - d1) ** 2 + (y - d2) ** 2) ** 0.5)\n",
    "print(\"dist2:\", ((x - d3) ** 2 + (y - d4) ** 2) ** 0.5)"
   ]
  },
  {
   "cell_type": "code",
   "execution_count": 4,
   "metadata": {},
   "outputs": [
    {
     "name": "stdout",
     "output_type": "stream",
     "text": [
      "전체 병사 수: 151,939\n",
      "----------\n",
      "현재 방패병 수: 46,724\n",
      "현재 창병 수: 52,483\n",
      "현재 궁병 수: 52,732\n",
      "----------\n",
      "방패병 필요: 58,242\n",
      "궁병 필요: 25,992\n"
     ]
    }
   ],
   "source": [
    "shield = [42262, 200, 4262]\n",
    "spear = [33281, 1112, 3252, 1466, 13372]\n",
    "bow = [34022, 162, 3319, 1467, 13762]\n",
    "\n",
    "shield_num = sum(shield)\n",
    "spear_num = sum(spear)\n",
    "bow_num = sum(bow)\n",
    "\n",
    "print(f\"전체 병사 수: {shield_num+spear_num+bow_num:3,}\")\n",
    "print(\"-\" * 10)\n",
    "print(f\"현재 방패병 수: {shield_num:3,}\")\n",
    "print(f\"현재 창병 수: {spear_num:3,}\")\n",
    "print(f\"현재 궁병 수: {bow_num:3,}\")\n",
    "print(\"-\" * 10)\n",
    "print(f\"방패병 필요: {round(spear_num*2-shield_num):3,}\")\n",
    "print(f\"궁병 필요: {round(spear_num*1.5-bow_num):3,}\")"
   ]
  },
  {
   "cell_type": "code",
   "execution_count": 5,
   "metadata": {},
   "outputs": [
    {
     "data": {
      "text/plain": [
       "52483"
      ]
     },
     "execution_count": 5,
     "metadata": {},
     "output_type": "execute_result"
    }
   ],
   "source": [
    "a = [33281, 1112, 3252, 1466, 13372]\n",
    "sum(a)"
   ]
  },
  {
   "cell_type": "code",
   "execution_count": 17,
   "metadata": {},
   "outputs": [
    {
     "name": "stdout",
     "output_type": "stream",
     "text": [
      "7.0 13.558222222222241\n"
     ]
    }
   ],
   "source": [
    "seconds = 9 * 24 * 60 * 60 + 10 * 60 * 60 + 56 * 60 + 52\n",
    "hours = seconds / 60 / 60\n",
    "days, hours = divmod(hours * 0.8, 24)\n",
    "print(days, hours)"
   ]
  },
  {
   "cell_type": "code",
   "execution_count": 1,
   "metadata": {},
   "outputs": [
    {
     "data": {
      "text/plain": [
       "0.48"
      ]
     },
     "execution_count": 1,
     "metadata": {},
     "output_type": "execute_result"
    }
   ],
   "source": [
    "(0.8) * (3 / 5)"
   ]
  },
  {
   "cell_type": "code",
   "execution_count": null,
   "metadata": {},
   "outputs": [],
   "source": []
  },
  {
   "cell_type": "code",
   "execution_count": null,
   "metadata": {},
   "outputs": [],
   "source": []
  },
  {
   "cell_type": "markdown",
   "metadata": {},
   "source": [
    "### 연맹 챔피언십 전략\n",
    "\n",
    "#### 2:1 전략 (45 45 10)\n",
    "- 한쪽 루트를 내어 주고 나머지 두 곳의 깃발을 차지하는 전략\n",
    "\n",
    "#### 카운터 2:1 전략 (60 20 20)\n",
    "- 2:1 전략을 파훼하기 위한 전략으로써 한쪽 루트를 확실하게 차지하고, 나머지 두곳 중 가장 약한 곳을 근소한 차이로 이겨 2:1로 승리하는 전략"
   ]
  },
  {
   "cell_type": "code",
   "execution_count": 29,
   "metadata": {},
   "outputs": [
    {
     "name": "stdout",
     "output_type": "stream",
     "text": [
      "['킬링타임/2414.0', 'Jiwon/2021.0', 'QTR/1909.0', '와이/1866.0', 'big619/1816.0', 'CANCER/1754.0', '제임스/1701.0', 'Taiwanese/1689.0', 'juju/1546.0', 'biscuits/1507.0', '호수공원/1415.0', 'EatSleep/1381.0', 'AKCALI/1376.0', '까마쿤/1370.0', '쏘니/1369.0', 'ShineBrightly/1340.0', '네오/1335.0', '포도봉봉/1326.0', 'Lucid/1307.0', 'TANK/1302.0', '경기도/1300.0', 'Player/1286.0', 'Mong/1283.0', 'Midori/1282.0', 'TW/1280.0', '루트/1277.0', '쪼꼬/1274.0', 'jjeong/1272.0', 'ichi/1262.0', '처음처럼/1258.0', '도진이네/1254.0', 'baby/1246.0', 'miki10/1233.0', '만두라면/1224.0', 'JayHawk/1222.0', 'pooh0701/1220.0', 'BETER/1219.0', 'Winter/1217.1', 'kang/1217.0', 'garuda/1216.0', 'Candy/1213.1', 'Jerry/1213.0', '뜌링/1204.0', '안녕하세요/1202.0', '이청년/1199.0', 'minu/1194.0', 'Xern/1187.0', '싱싱/1186.0', 'joe/1185.0', '으른/1158.0', 'freein00/1149.0', 'Elysia/1128.0', 'namoo/1116.0', 'vanilla/1110.0', 'DOOM/1100.0', 'gghhdd2002/1089.0', 'Scythe/1082.0', '귀요미/1064.0', '토깽이/1027.0', 'Fuhr/1026.0', '차은우/1015.0', 'GloomyAtom/986.0', 'MrHan/962.0', 'Rockstar/959.0', 'Hyun/956.0', '깡깡짱/952.0', 'WinNer/941.0', 'hanna/937.0', '도곡동주민/936.0', 'Justin/927.0', 'Nyx/923.0', 'RGII/922.1', 'Zayn/922.0', 'ANKUR/905.0', 'Siroun/896.0', 'Joycool/858.0', 'Goat/850.0', '현미리/817.0', '축구하는형님/756.0', '콩지/717.0', 'kiwiMelone/710.0', 'LUCLD/616.0', 'Hmmmmm/593.0', '마루/559.0', '테프론/420.0', '']\n"
     ]
    }
   ],
   "source": [
    "# 불러오기\n",
    "\n",
    "with open(\"./lineup.txt\", \"r\") as f:\n",
    "    raw_data = f.readline()\n",
    "f.close()\n",
    "\n",
    "print(raw_data.split(\",\"))\n",
    "\n",
    "lineup = {}\n",
    "for i in raw_data.split(\",\")[:-1]:\n",
    "    name, combat_power = i.split(\"/\")\n",
    "    lineup[name] = float(combat_power)"
   ]
  },
  {
   "cell_type": "code",
   "execution_count": 2,
   "metadata": {},
   "outputs": [],
   "source": [
    "lineup = {}"
   ]
  },
  {
   "cell_type": "code",
   "execution_count": 10,
   "metadata": {},
   "outputs": [],
   "source": [
    "# 업데이트/삭제/추가(삽입)/조회\n",
    "import re\n",
    "\n",
    "switch = True\n",
    "mode = None\n",
    "while switch:\n",
    "    mode = input(\"업데이트(u), 삭제(d), 추가(i), 닫기(q): \")\n",
    "        \n",
    "    if mode == \"q\":  # 중지\n",
    "        switch = False\n",
    "        continue\n",
    "    elif mode == \"u\":\n",
    "        info = None\n",
    "        while info != \"\":\n",
    "            info = input(\"업데이트할 연맹원과 전투력을 입력하세요. 더이상 없다면 Enter를 입력해주세요: \")\n",
    "            if info == \"\":  # 중지\n",
    "                continue\n",
    "            name, power = info.split(\",\")\n",
    "            if lineup.get(name):\n",
    "                lineup.update({f\"{name}\":float(power)})\n",
    "            else:\n",
    "                print(\"연맹원 이름이 올바르지 않습니다. 다시 입력해주세요.\")\n",
    "                print(\"[다른 비슷한 닉네임]\")\n",
    "                for member in lineup.keys():\n",
    "                    if re.search(f\"{name}\", member):\n",
    "                        print(member)\n",
    "    elif mode == \"d\":\n",
    "        name = None\n",
    "        while name != \"\":\n",
    "            name = input(\"삭제할 연맹원을 입력하세요. 더이상 없다면 Enter를 입력해주세요: \")\n",
    "            if name == \"\":  # 중지\n",
    "                continue\n",
    "            elif lineup.get(name):\n",
    "                del lineup[name]\n",
    "            else:\n",
    "                print(\"연맹원 이름이 올바르지 않습니다. 다시 입력해주세요.\")\n",
    "                print(\"[다른 비슷한 닉네임]\")\n",
    "                for member in lineup.keys():\n",
    "                    if re.search(f\"{name}\", member):\n",
    "                        print(member)\n",
    "    elif mode == \"i\":\n",
    "        info = None\n",
    "        while info != \"\":\n",
    "            info = input(\"추가할 연맹원 닉네임과 전투력을 입력하세요. 더이상 없다면 Enter를 입력해주세요: \")\n",
    "            if info == \"\":  # 중지\n",
    "                continue\n",
    "            name, power = info.split(\",\")\n",
    "            lineup[name] = float(power)\n",
    "    sub_switch = True\n",
    "    while sub_switch:\n",
    "        status = input(\"계속하시겠습니까? (y/n): \")\n",
    "        if status in [\"y\", \"Y\", \"yes\", \"YES\", \"Yes\", \"ㅛ\", \"ㅛㄷㄴ\"]:\n",
    "            sub_switch = False\n",
    "        elif status in [\"n\", \"N\", \"no\", \"NO\", \"No\", \"ㅜ\", \"ㅜㅐ\"]:\n",
    "            sub_switch = False\n",
    "            switch = False"
   ]
  },
  {
   "cell_type": "code",
   "execution_count": 11,
   "metadata": {},
   "outputs": [
    {
     "name": "stdout",
     "output_type": "stream",
     "text": [
      "2960.0 2301.0 2179.0 1992.0 1924.0 1877.0 1819.0 1810.0 1767.0 1762.0 1695.0 1653.0 1608.0 1580.0 1527.0 1508.0 1491.0 1421.1 1408.0 1389.0 \n",
      "total: 35671.1\n",
      "2603.0 2487.0 2248.0 2151.0 1891.0 1867.0 1810.1 1803.0 1773.0 1735.0 1697.0 1665.0 1636.0 1564.0 1525.0 1499.1 1499.0 1421.0 1404.0 1393.0 \n",
      "total: 35671.2\n",
      "['킬링타임', 'cancer', 'jiwon', 'taiwanese', '호수공원', 'eatsleep', 'buscuits', 'shine', '네오', 'only6love', 'rockstar', '도진이네', 'adel', 'tank', 'midori', 'baby', '으른', 'hmmmmm', 'joe', 'moshigolf']\n",
      "['와이', '빅', '제임스', 'qtr', '까마쿤', 'Juju', 'player', 'pooh', '쪼꼬', 'blanco', '경기도', '포도봉봉', 'miki', '루트', 'kang', '만두라면', 'jjeong', 'mong', '강현', 'therapzonele']\n"
     ]
    }
   ],
   "source": [
    "# 처리하기\n",
    "lineup_mapping = {k:v for v, k in lineup.items()}\n",
    "\n",
    "# 2:1 전략\n",
    "ordered_combat_powers = sorted(lineup_mapping.keys(), reverse=True)\n",
    "# 카운터 2:1 전략\n",
    "# ordered_combat_powers = sorted(lineup_mapping.keys(), reverse=True)[20:]\n",
    "\n",
    "left_lane, center_lane = [], []\n",
    "\n",
    "for i in ordered_combat_powers:\n",
    "    if not left_lane:\n",
    "        left_lane.append(i)\n",
    "        continue\n",
    "    elif not center_lane:\n",
    "        center_lane.append(i)ㄴㅇㅁㄴㅇ\n",
    "        continue\n",
    "\n",
    "    if sum(left_lane) > sum(center_lane):\n",
    "        center_lane.append(i)\n",
    "    else:\n",
    "        left_lane.append(i)\n",
    "\n",
    "print(*left_lane[:20], f\"\\ntotal: {sum(left_lane[:20])}\")\n",
    "print(*center_lane[:20], f\"\\ntotal: {sum(center_lane[:20])}\")\n",
    "\n",
    "left_lane_members = [lineup_mapping[i] for i in left_lane[:20]]\n",
    "center_lane_members = [lineup_mapping[i] for i in center_lane[:20]]\n",
    "\n",
    "print(left_lane_members)\n",
    "print(center_lane_members)"
   ]
  },
  {
   "cell_type": "code",
   "execution_count": 20,
   "metadata": {},
   "outputs": [],
   "source": [
    "# 저장하기\n",
    "\n",
    "with open(\"./lineup.txt\", \"w\") as f:\n",
    "    for i, j in lineup.items():\n",
    "        f.writelines([i, \"/\", str(j), \",\"])\n",
    "f.close()"
   ]
  },
  {
   "cell_type": "markdown",
   "metadata": {},
   "source": [
    "### 연맹 챔피언십 루트 조정 (부케 연맹)"
   ]
  },
  {
   "cell_type": "code",
   "execution_count": 28,
   "metadata": {},
   "outputs": [
    {
     "name": "stdout",
     "output_type": "stream",
     "text": [
      "34\n",
      "['kang/813.0', 'miminu/781.0', '뽀또봉봉/729.0', 'shinebrightly/757.0', 'Dosirak/566.0', 'garuda/595.0', '손흥민/571.0', '까만콩/636.0', 'Lemon Tree/536.0', 'jiwon2/569.0', 'Emm/537.0', 'Dojin/531.0', 'lee9/430.0', 'hosu2/402.0', 'jiwon3/396.0', 'pooh/281.0', 'lord grim/112.0', 'Ress/385.0', 'Sandy/361.0', 'scream/245.0', 'jjeong2/153.0', '뜌링링/152.0', 'freein99/141.0', 'Rockstar2/119.0', 'Nb2617/110.0', 'bigi/105.0', 'I_U/77.0', '유재석/75.0', 'sniper/58.0', 'singsing/43.0', 'LeviathanDeus/38.0', 'Ofoof/37.0', '탱크보이/36.0', 'neo1/658.0']\n"
     ]
    }
   ],
   "source": [
    "# 불러오기\n",
    "\n",
    "with open(\"./lineup_sub.txt\", \"r\") as f:\n",
    "    raw_data = f.readline()\n",
    "f.close()\n",
    "\n",
    "print(len(raw_data.split(\",\")[:-1]))\n",
    "print(raw_data.split(\",\")[:-1])\n",
    "\n",
    "lineup_sub = {}\n",
    "for i in raw_data.split(\",\")[:-1]:\n",
    "    name, combat_power = i.split(\"/\")\n",
    "    lineup_sub[name] = float(combat_power)"
   ]
  },
  {
   "cell_type": "code",
   "execution_count": 13,
   "metadata": {},
   "outputs": [],
   "source": [
    "lineup_sub = {}"
   ]
  },
  {
   "cell_type": "code",
   "execution_count": 16,
   "metadata": {},
   "outputs": [],
   "source": [
    "# 업데이트/삭제/추가(삽입)/조회\n",
    "import re\n",
    "\n",
    "switch = True\n",
    "mode = None\n",
    "while switch:\n",
    "    mode = input(\"업데이트(u), 삭제(d), 추가(i), 닫기(q): \")\n",
    "        \n",
    "    if mode == \"q\":  # 중지\n",
    "        switch = False\n",
    "        continue\n",
    "    elif mode == \"u\":\n",
    "        info = None\n",
    "        while info != \"\":\n",
    "            info = input(\"업데이트할 연맹원과 전투력을 입력하세요. 더이상 없다면 Enter를 입력해주세요: \")\n",
    "            if info == \"\":  # 중지\n",
    "                continue\n",
    "            name, power = info.split(\",\")\n",
    "            if lineup_sub.get(name):\n",
    "                lineup_sub.update({f\"{name}\":float(power)})\n",
    "            else:\n",
    "                print(\"연맹원 이름이 올바르지 않습니다. 다시 입력해주세요.\")\n",
    "                print(\"[다른 비슷한 닉네임]\")\n",
    "                for member in lineup_sub.keys():\n",
    "                    if re.search(f\"{name}\", member):\n",
    "                        print(member)\n",
    "    elif mode == \"d\":\n",
    "        name = None\n",
    "        while name != \"\":\n",
    "            name = input(\"삭제할 연맹원을 입력하세요. 더이상 없다면 Enter를 입력해주세요: \")\n",
    "            if name == \"\":  # 중지\n",
    "                continue\n",
    "            elif lineup_sub.get(name):\n",
    "                del lineup_sub[name]\n",
    "            else:\n",
    "                print(\"연맹원 이름이 올바르지 않습니다. 다시 입력해주세요.\")\n",
    "                print(\"[다른 비슷한 닉네임]\")\n",
    "                for member in lineup_sub.keys():\n",
    "                    if re.search(f\"{name}\", member):\n",
    "                        print(member)\n",
    "    elif mode == \"i\":\n",
    "        info = None\n",
    "        while info != \"\":\n",
    "            info = input(\"추가할 연맹원 닉네임과 전투력을 입력하세요. 더이상 없다면 Enter를 입력해주세요: \")\n",
    "            if info == \"\":  # 중지\n",
    "                continue\n",
    "            name, power = info.split(\",\")\n",
    "            lineup_sub[name] = float(power)\n",
    "    sub_switch = True\n",
    "    while sub_switch:\n",
    "        status = input(\"계속하시겠습니까? (y/n): \")\n",
    "        if status in [\"y\", \"Y\", \"yes\", \"YES\", \"Yes\", \"ㅛ\", \"ㅛㄷㄴ\"]:\n",
    "            sub_switch = False\n",
    "        elif status in [\"n\", \"N\", \"no\", \"NO\", \"No\", \"ㅜ\", \"ㅜㅐ\"]:\n",
    "            sub_switch = False\n",
    "            switch = False"
   ]
  },
  {
   "cell_type": "code",
   "execution_count": 18,
   "metadata": {},
   "outputs": [
    {
     "name": "stdout",
     "output_type": "stream",
     "text": [
      "1230.0 1036.0 944.0 932.0 901.0 893.0 808.0 799.0 766.0 738.0 708.0 682.0 678.0 612.0 609.0 563.0 515.0 504.0 323.0 187.0 \n",
      "total: 14428.0\n",
      "1129.0 1096.0 994.0 931.0 900.0 869.0 832.0 788.0 778.0 716.0 710.0 699.0 668.0 659.0 574.0 540.0 533.0 466.0 342.0 205.0 \n",
      "total: 14429.0\n",
      "['kang', 'qtr', '까만콩', 'shine', 'neo', 'emmmmm', 'dojin', '탱크보이', 'freein', 'dosirak', 'gogo', 'bigi', 'jiwon3', 'singsing', 'Wk', '크크크', '경기도민', 'goni', 'rockstar', '락토']\n",
      "['뽀또봉봉', 'garuda', '참이슬', 'momo', 'omana', 'lemon', 'ress', 'jiwon', 'hosu', '워킹데드', 'mehmeet', 'pooh', '유재석', 'jjeong', 'moshi2me', 'load grim', 'only6love', 'nb2617', '우리집', '소연']\n"
     ]
    }
   ],
   "source": [
    "# 처리하기\n",
    "lineup_mapping = {k:v for v, k in lineup_sub.items()}\n",
    "ordered_combat_powers = sorted(lineup_mapping.keys(), reverse=True)\n",
    "\n",
    "left_lane, center_lane = [], []\n",
    "\n",
    "for i in ordered_combat_powers:\n",
    "    if not left_lane:\n",
    "        left_lane.append(i)\n",
    "        continue\n",
    "    elif not center_lane:\n",
    "        center_lane.append(i)\n",
    "        continue\n",
    "\n",
    "    if sum(left_lane) > sum(center_lane):\n",
    "        center_lane.append(i)\n",
    "    else:\n",
    "        left_lane.append(i)\n",
    "\n",
    "print(*left_lane, f\"\\ntotal: {sum(left_lane)}\")\n",
    "print(*center_lane, f\"\\ntotal: {sum(center_lane)}\")\n",
    "\n",
    "left_lane_members = [lineup_mapping[i] for i in left_lane]\n",
    "center_lane_members = [lineup_mapping[i] for i in center_lane]\n",
    "\n",
    "print(left_lane_members)\n",
    "print(center_lane_members)"
   ]
  },
  {
   "cell_type": "code",
   "execution_count": 77,
   "metadata": {},
   "outputs": [],
   "source": [
    "# 저장하기\n",
    "\n",
    "with open(\"./lineup_sub.txt\", \"w\") as f:\n",
    "    for i, j in lineup_sub.items():\n",
    "        f.writelines([i, \"/\", str(j), \",\"])\n",
    "f.close()"
   ]
  },
  {
   "cell_type": "code",
   "execution_count": 20,
   "metadata": {},
   "outputs": [
    {
     "data": {
      "text/plain": [
       "160"
      ]
     },
     "execution_count": 20,
     "metadata": {},
     "output_type": "execute_result"
    }
   ],
   "source": [
    "9*16 + 8*2"
   ]
  },
  {
   "cell_type": "markdown",
   "metadata": {},
   "source": [
    "attack: 300, buff: damage dealt +25%, attack +75%\n",
    "\n",
    "attack: 300, buff: damage dealt +50%, attack +50%\n",
    "\n",
    "attack: 300, buff: damage dealt +75%, attack +25%\n",
    "\n",
    "attack: 300, buff: damage dealt +100%\n",
    "\n",
    "attack: 300, buff: attack +100%"
   ]
  },
  {
   "cell_type": "code",
   "execution_count": 63,
   "metadata": {},
   "outputs": [
    {
     "name": "stdout",
     "output_type": "stream",
     "text": [
      "attack: 300\n",
      "buff: damage dealt+0%, attack+100%\n",
      "result: 600\n",
      "\n",
      "attack: 300\n",
      "buff: damage dealt+25.0%, attack+75.0%\n",
      "result: 656.25\n",
      "\n",
      "attack: 300\n",
      "buff: damage dealt+50.0%, attack+50.0%\n",
      "result: 675.0\n",
      "\n",
      "attack: 300\n",
      "buff: damage dealt+75.0%, attack+25.0%\n",
      "result: 656.25\n",
      "\n",
      "attack: 300\n",
      "buff: damage dealt+100%, attack+0%\n",
      "result: 600\n",
      "\n"
     ]
    }
   ],
   "source": [
    "attack = 300\n",
    "damage_dealt = [0, 0.25, 0.5, 0.75, 1]\n",
    "attack_power = [1, 0.75, 0.5, 0.25, 0]\n",
    "\n",
    "for d, a in zip(damage_dealt, attack_power):\n",
    "    redution = attack + (attack*a)\n",
    "    result = redution + (redution*d)\n",
    "    print(f\"attack: {attack}\\nbuff: damage dealt+{d*100}%, attack+{a*100}%\\nresult: {result}\")\n",
    "    print()"
   ]
  },
  {
   "cell_type": "code",
   "execution_count": 2,
   "metadata": {},
   "outputs": [
    {
     "name": "stdout",
     "output_type": "stream",
     "text": [
      "9973.5 28227.5 2084.0 24980.5\n"
     ]
    }
   ],
   "source": [
    "lancer1 = 19947\n",
    "lancer2 = 56455\n",
    "archer1 = 4168\n",
    "archer2 = 49961\n",
    "\n",
    "print(lancer1/2, lancer2/2, archer1/2, archer2/2)"
   ]
  },
  {
   "cell_type": "code",
   "execution_count": null,
   "metadata": {},
   "outputs": [],
   "source": []
  },
  {
   "cell_type": "code",
   "execution_count": null,
   "metadata": {},
   "outputs": [],
   "source": []
  },
  {
   "cell_type": "code",
   "execution_count": null,
   "metadata": {},
   "outputs": [],
   "source": []
  },
  {
   "cell_type": "code",
   "execution_count": null,
   "metadata": {},
   "outputs": [],
   "source": []
  },
  {
   "cell_type": "code",
   "execution_count": null,
   "metadata": {},
   "outputs": [],
   "source": []
  },
  {
   "cell_type": "code",
   "execution_count": null,
   "metadata": {},
   "outputs": [],
   "source": []
  },
  {
   "cell_type": "code",
   "execution_count": null,
   "metadata": {},
   "outputs": [],
   "source": []
  },
  {
   "cell_type": "code",
   "execution_count": 363,
   "metadata": {},
   "outputs": [
    {
     "data": {
      "text/plain": [
       "[3, 4, 5]"
      ]
     },
     "execution_count": 363,
     "metadata": {},
     "output_type": "execute_result"
    }
   ],
   "source": [
    "def solution(num_list, n):\n",
    "    if not isinstance(num_list, list): raise TypeError(num_list)\n",
    "    if not isinstance(n, int): raise TypeError(n)\n",
    "    \n",
    "    if not (2 <= len(num_list) <= 30): raise ValueError(num_list)\n",
    "    if not (1 <= n <= len(num_list)): raise ValueError(num_list, n)\n",
    "    \n",
    "    if not all(isinstance(number, int) for number in num_list): raise TypeError(num_list)\n",
    "    if not all(1 <= number <= 9 for number in num_list): raise ValueError(num_list)\n",
    "    \n",
    "    return num_list[n-1:]\n",
    "\n",
    "solution([1,2,3,4,5], 3)"
   ]
  },
  {
   "cell_type": "code",
   "execution_count": null,
   "metadata": {},
   "outputs": [],
   "source": []
  },
  {
   "cell_type": "code",
   "execution_count": 382,
   "metadata": {},
   "outputs": [
    {
     "name": "stdout",
     "output_type": "stream",
     "text": [
      "23 µs ± 365 ns per loop (mean ± std. dev. of 7 runs, 10,000 loops each)\n"
     ]
    }
   ],
   "source": [
    "def solution(num_list, n):\n",
    "    answer = []\n",
    "    for i in range(len(num_list)//n):\n",
    "        answer.append(num_list[i*n:(i+1)*n])\n",
    "    return answer\n",
    "\n",
    "# %timeit solution([1, 2, 3, 4, 5, 6, 7, 8], 2)\n",
    "%timeit solution(list(range(100)), 2)"
   ]
  },
  {
   "cell_type": "code",
   "execution_count": 383,
   "metadata": {},
   "outputs": [
    {
     "name": "stdout",
     "output_type": "stream",
     "text": [
      "21 µs ± 5.29 µs per loop (mean ± std. dev. of 7 runs, 10,000 loops each)\n"
     ]
    }
   ],
   "source": [
    "def solution(num_list, n):\n",
    "    return [num_list[i*n:(i+1)*n] for i in range(len(num_list)//n)]\n",
    "\n",
    "# %timeit solution([1, 2, 3, 4, 5, 6, 7, 8], 2)\n",
    "%timeit solution(list(range(100)), 2)"
   ]
  },
  {
   "cell_type": "code",
   "execution_count": 387,
   "metadata": {},
   "outputs": [
    {
     "data": {
      "text/plain": [
       "[[1, 2], [3, 4], [5, 6], [7, 8]]"
      ]
     },
     "execution_count": 387,
     "metadata": {},
     "output_type": "execute_result"
    }
   ],
   "source": [
    "def solution(num_list, n):\n",
    "    return [num_list[i:i+n] for i in range(0, len(num_list), n)]\n",
    "\n",
    "solution([1, 2, 3, 4, 5, 6, 7, 8], 2)"
   ]
  },
  {
   "cell_type": "code",
   "execution_count": null,
   "metadata": {},
   "outputs": [
    {
     "name": "stdout",
     "output_type": "stream",
     "text": [
      "{'arr': [1, 2, 3, 4, 5, 6], 'i': 3}\n"
     ]
    },
    {
     "data": {
      "text/plain": [
       "[1, 2, 3, 4, 5, 6, 0, 0]"
      ]
     },
     "execution_count": 2,
     "metadata": {},
     "output_type": "execute_result"
    }
   ],
   "source": [
    "def solution(arr):\n",
    "    if len(arr) & (len(arr)-1) == 0:\n",
    "        return arr\n",
    "    \n",
    "    i = 1\n",
    "    while pow(2, i) < len(arr):\n",
    "        i += 1\n",
    "        \n",
    "    return arr + [0]*(pow(2, i)-len(arr))\n",
    "\n",
    "solution([1, 2, 3, 4, 5, 6])\n",
    "# solution([58, 172, 746, 89])"
   ]
  },
  {
   "cell_type": "code",
   "execution_count": null,
   "metadata": {},
   "outputs": [
    {
     "data": {
      "text/plain": [
       "[1, 2, 3, 4, 5, 6, 0, 0]"
      ]
     },
     "execution_count": 411,
     "metadata": {},
     "output_type": "execute_result"
    }
   ],
   "source": [
    "\n",
    "import math\n",
    "\n",
    "def solution(arr):\n",
    "    if len(arr) & (len(arr)-1) == 0:\n",
    "        return arr\n",
    "    return arr + [0]*(pow(2, math.ceil(math.log2(len(arr)))) - len(arr))\n",
    "\n",
    "solution([1, 2, 3, 4, 5, 6])\n",
    "# solution([58, 172, 746, 89])"
   ]
  },
  {
   "cell_type": "code",
   "execution_count": 419,
   "metadata": {},
   "outputs": [
    {
     "data": {
      "text/plain": [
       "('0b10', '0b100', '0b1000', '0b10000')"
      ]
     },
     "execution_count": 419,
     "metadata": {},
     "output_type": "execute_result"
    }
   ],
   "source": [
    "bin(2), bin(4), bin(8), bin(16)"
   ]
  },
  {
   "cell_type": "code",
   "execution_count": null,
   "metadata": {},
   "outputs": [
    {
     "name": "stdout",
     "output_type": "stream",
     "text": [
      "2.85 µs ± 229 ns per loop (mean ± std. dev. of 7 runs, 100,000 loops each)\n"
     ]
    }
   ],
   "source": [
    "def solution(arr, flag):\n",
    "    X = []\n",
    "    for i in range(len(flag)):\n",
    "        if flag[i]:\n",
    "            X += [arr[i]]*(arr[i]*2)\n",
    "        else:\n",
    "            X = X[:-arr[i]]\n",
    "    return X\n",
    "\n",
    "%timeit solution([3, 2, 4, 1, 3], [True, False, True, False, False])"
   ]
  },
  {
   "cell_type": "code",
   "execution_count": 482,
   "metadata": {},
   "outputs": [
    {
     "name": "stdout",
     "output_type": "stream",
     "text": [
      "140161311883712\n",
      "140161311883712\n"
     ]
    }
   ],
   "source": [
    "a = [1,2,3,4]\n",
    "print(id(a))\n",
    "a.pop()\n",
    "print(id(a))"
   ]
  },
  {
   "cell_type": "code",
   "execution_count": 495,
   "metadata": {},
   "outputs": [
    {
     "data": {
      "text/plain": [
       "True"
      ]
     },
     "execution_count": 495,
     "metadata": {},
     "output_type": "execute_result"
    }
   ],
   "source": [
    "a = \"abcabc\"\n",
    "a.endswith(\"c\", 5)"
   ]
  },
  {
   "cell_type": "code",
   "execution_count": 511,
   "metadata": {},
   "outputs": [
    {
     "data": {
      "text/plain": [
       "'AAAAaaaa'"
      ]
     },
     "execution_count": 511,
     "metadata": {},
     "output_type": "execute_result"
    }
   ],
   "source": [
    "def solution(myString, pat):\n",
    "    return myString[:myString.rindex(pat)+len(pat)]\n",
    "\n",
    "solution(\"AAAAaaaa\", \"a\")"
   ]
  },
  {
   "cell_type": "code",
   "execution_count": null,
   "metadata": {},
   "outputs": [
    {
     "data": {
      "text/plain": [
       "3"
      ]
     },
     "execution_count": 510,
     "metadata": {},
     "output_type": "execute_result"
    }
   ],
   "source": [
    "a = \"AbCdEFG\"\n",
    "a.rindex(\"dE\")\n",
    "# a.rfind(\"dE\")"
   ]
  },
  {
   "cell_type": "code",
   "execution_count": 516,
   "metadata": {},
   "outputs": [
    {
     "data": {
      "text/plain": [
       "11"
      ]
     },
     "execution_count": 516,
     "metadata": {},
     "output_type": "execute_result"
    }
   ],
   "source": [
    "def solution(num_list):\n",
    "    answer = 0\n",
    "    for n in num_list:\n",
    "        while n > 1:\n",
    "            if n % 2:\n",
    "                n -= 1\n",
    "                n //= 2\n",
    "            else:\n",
    "                n //= 2\n",
    "            answer += 1\n",
    "    return answer\n",
    "\n",
    "solution([12, 4, 15, 1, 14])"
   ]
  },
  {
   "cell_type": "code",
   "execution_count": 3,
   "metadata": {},
   "outputs": [
    {
     "data": {
      "text/plain": [
       "11"
      ]
     },
     "execution_count": 3,
     "metadata": {},
     "output_type": "execute_result"
    }
   ],
   "source": [
    "def solution(num_list):\n",
    "    return sum(len(bin(i)) - 3 for i in num_list)\n",
    "\n",
    "solution([12, 4, 15, 1, 14])"
   ]
  },
  {
   "cell_type": "code",
   "execution_count": null,
   "metadata": {},
   "outputs": [],
   "source": []
  }
 ],
 "metadata": {
  "kernelspec": {
   "display_name": "base",
   "language": "python",
   "name": "python3"
  },
  "language_info": {
   "codemirror_mode": {
    "name": "ipython",
    "version": 3
   },
   "file_extension": ".py",
   "mimetype": "text/x-python",
   "name": "python",
   "nbconvert_exporter": "python",
   "pygments_lexer": "ipython3",
   "version": "3.10.13"
  }
 },
 "nbformat": 4,
 "nbformat_minor": 2
}
