{
 "cells": [
  {
   "cell_type": "code",
   "execution_count": 4,
   "metadata": {},
   "outputs": [
    {
     "name": "stdout",
     "output_type": "stream",
     "text": [
      "Defense Formation\n",
      "----------\n",
      "2200\n",
      "1100.0\n",
      "1100.0\n",
      "----------\n",
      "11000\n",
      "5500.0\n",
      "5500.0\n",
      "----------\n",
      "6800\n",
      "3400.0\n",
      "3400.0\n",
      "----------\n",
      "\n",
      "Support fire Formation\n",
      "----------\n",
      "2200\n",
      "880.0\n",
      "2200\n",
      "----------\n",
      "11000\n",
      "4400.0\n",
      "11000\n",
      "----------\n",
      "6800\n",
      "2720.0\n",
      "6800\n",
      "----------\n"
     ]
    }
   ],
   "source": [
    "total = 53845\n",
    "lv6 = [2259, 3074, 2563]\n",
    "lv5 = [11200, 11600, 11104]\n",
    "lv1 = [6926, 6877, 7224]\n",
    "\n",
    "defensive_ratio = [1, 1 / 2, 1 / 2]\n",
    "supportfire_ratio = [1, 2 / 5, 1]\n",
    "\n",
    "print(\"Defense Formation\")\n",
    "for _ in range(3):\n",
    "    units = sum(lv6)\n",
    "    print(\"-\" * 10)\n",
    "    for ratio in defensive_ratio:\n",
    "        print(total * ratio)\n",
    "print(\"-\" * 10)\n",
    "\n",
    "print()\n",
    "\n",
    "print(\"Support fire Formation\")\n",
    "for level in levels:\n",
    "    print(\"-\" * 10)\n",
    "    for ratio in supportfire_ratio:\n",
    "        print(level * ratio)\n",
    "print(\"-\" * 10)"
   ]
  },
  {
   "cell_type": "code",
   "execution_count": 8,
   "metadata": {},
   "outputs": [
    {
     "name": "stdout",
     "output_type": "stream",
     "text": [
      "(1, 2) [[1.51896538 1.73154501]]\n"
     ]
    }
   ],
   "source": [
    "import numpy as np\n",
    "\n",
    "\n",
    "x = np.random.rand(3, 2)\n",
    "y = np.sum(x, axis=0, keepdims=True)\n",
    "print(y.shape, y)"
   ]
  },
  {
   "cell_type": "code",
   "execution_count": 4,
   "metadata": {},
   "outputs": [
    {
     "name": "stdout",
     "output_type": "stream",
     "text": [
      "dist1: 9.899494936611665\n",
      "dist2: 9.486832980505138\n"
     ]
    }
   ],
   "source": [
    "x, y = 694, 424\n",
    "d1, d2 = 687, 417\n",
    "d3, d4 = 703, 427\n",
    "\n",
    "print(\"dist1:\", ((x - d1) ** 2 + (y - d2) ** 2) ** 0.5)\n",
    "print(\"dist2:\", ((x - d3) ** 2 + (y - d4) ** 2) ** 0.5)"
   ]
  },
  {
   "cell_type": "code",
   "execution_count": 4,
   "metadata": {},
   "outputs": [
    {
     "name": "stdout",
     "output_type": "stream",
     "text": [
      "전체 병사 수: 151,939\n",
      "----------\n",
      "현재 방패병 수: 46,724\n",
      "현재 창병 수: 52,483\n",
      "현재 궁병 수: 52,732\n",
      "----------\n",
      "방패병 필요: 58,242\n",
      "궁병 필요: 25,992\n"
     ]
    }
   ],
   "source": [
    "shield = [42262, 200, 4262]\n",
    "spear = [33281, 1112, 3252, 1466, 13372]\n",
    "bow = [34022, 162, 3319, 1467, 13762]\n",
    "\n",
    "shield_num = sum(shield)\n",
    "spear_num = sum(spear)\n",
    "bow_num = sum(bow)\n",
    "\n",
    "print(f\"전체 병사 수: {shield_num+spear_num+bow_num:3,}\")\n",
    "print(\"-\" * 10)\n",
    "print(f\"현재 방패병 수: {shield_num:3,}\")\n",
    "print(f\"현재 창병 수: {spear_num:3,}\")\n",
    "print(f\"현재 궁병 수: {bow_num:3,}\")\n",
    "print(\"-\" * 10)\n",
    "print(f\"방패병 필요: {round(spear_num*2-shield_num):3,}\")\n",
    "print(f\"궁병 필요: {round(spear_num*1.5-bow_num):3,}\")"
   ]
  },
  {
   "cell_type": "code",
   "execution_count": 5,
   "metadata": {},
   "outputs": [
    {
     "data": {
      "text/plain": [
       "52483"
      ]
     },
     "execution_count": 5,
     "metadata": {},
     "output_type": "execute_result"
    }
   ],
   "source": [
    "a = [33281, 1112, 3252, 1466, 13372]\n",
    "sum(a)"
   ]
  },
  {
   "cell_type": "code",
   "execution_count": 17,
   "metadata": {},
   "outputs": [
    {
     "name": "stdout",
     "output_type": "stream",
     "text": [
      "7.0 13.558222222222241\n"
     ]
    }
   ],
   "source": [
    "seconds = 9 * 24 * 60 * 60 + 10 * 60 * 60 + 56 * 60 + 52\n",
    "hours = seconds / 60 / 60\n",
    "days, hours = divmod(hours * 0.8, 24)\n",
    "print(days, hours)"
   ]
  },
  {
   "cell_type": "code",
   "execution_count": 1,
   "metadata": {},
   "outputs": [
    {
     "data": {
      "text/plain": [
       "0.48"
      ]
     },
     "execution_count": 1,
     "metadata": {},
     "output_type": "execute_result"
    }
   ],
   "source": [
    "(0.8) * (3 / 5)"
   ]
  },
  {
   "cell_type": "code",
   "execution_count": null,
   "metadata": {},
   "outputs": [],
   "source": []
  },
  {
   "cell_type": "code",
   "execution_count": null,
   "metadata": {},
   "outputs": [],
   "source": []
  },
  {
   "cell_type": "markdown",
   "metadata": {},
   "source": [
    "### 연맹 챔피언십 전략\n",
    "\n",
    "#### 2:1 전략 (45 45 10)\n",
    "- 한쪽 루트를 내어 주고 나머지 두 곳의 깃발을 차지하는 전략\n",
    "\n",
    "#### 카운터 2:1 전략 (60 20 20)\n",
    "- 2:1 전략을 파훼하기 위한 전략으로써 한쪽 루트를 확실하게 차지하고, 나머지 두곳 중 가장 약한 곳을 근소한 차이로 이겨 2:1로 승리하는 전략"
   ]
  },
  {
   "cell_type": "code",
   "execution_count": 36,
   "metadata": {},
   "outputs": [
    {
     "name": "stdout",
     "output_type": "stream",
     "text": [
      "제임스/1323\n",
      "제임스/1306\n"
     ]
    }
   ],
   "source": [
    "import re\n",
    "\n",
    "\n",
    "names = ['킬링타임/2292', 'Jiwon/1862', '와이/1719', 'QATAR/1657', 'big/1477', '코코사마/1357', '제임스/1323', '제임스/1306']\n",
    "\n",
    "for i in names:\n",
    "    if similar_name := re.search(\"제임스\", i):\n",
    "        print(i)"
   ]
  },
  {
   "cell_type": "code",
   "execution_count": 37,
   "metadata": {},
   "outputs": [
    {
     "name": "stdout",
     "output_type": "stream",
     "text": [
      "['킬링타임/2292', 'Jiwon/1862', '와이/1719', 'QATAR/1657', 'big/1477', '코코사마/1357', 'eatsleep/1323', '제임스/1306', 'akcali/1292', '호수공원/1278', 'juju/1253', 'biscuits/1244', '까마쿤/1231', 'shinebrightly/1222', '쪼꼬/1204', '네오/1199', '쏘니/1195', '포도봉봉/1182', 'player/1179', 'baby conqueror/1157', 'lucid/1138', 'TW/1127', 'mong/1125', 'midori/1103', 'minu/1100', 'miki10/1089', '슈비/1086', 'jerry/1074', '이청년/1072', '처음처럼/1071', 'freein00/1044', 'jjeong/1043.1', '안녕하세요/1043', '도진이네/1035', '싱싱/1022', 'pooh0701/1016', 'jayhawk/1015', 'gghhdd2002/1011', 'BETER/998', 'Xern/996.1', 'CANCER/996', '으른/993.1', 'scream/993', 'kang/990.1', 'Hmm/990', '뜌링/986', '루트/964', 'garuda/956', 'gloomyatom/906.1', 'joe/906', '귀요미/900', 'Fuhr/898.1', '만두라면/898', 'winter/892', 'HELLBOY/887', '토깽이/879', 'Zayn/868', 'vanilla/861', '깡깡짱/857', 'justin choi/856', 'Elysia/854', '2024/851', '도곡동주민/846', 'noff/837', 'Nyx/829', 'MrHan/820', 'Scythe/800', 'hanna/790', 'cetobaskan/763', 'Siruon/755', 'Hyun/747.1', 'Goat/747', '현미리/661', 'MrHyung/658', 'Altanbey/617', '콩지/612', 'Rockstar/552', '하리보/538', '마루/395', 'HAHAXD/375', '']\n"
     ]
    }
   ],
   "source": [
    "# 불러오기\n",
    "\n",
    "with open(\"./lineup.txt\", \"r\") as f:\n",
    "    raw_data = f.readline()\n",
    "f.close()\n",
    "\n",
    "print(raw_data.split(\",\"))\n",
    "\n",
    "lineup = {}\n",
    "for i in raw_data.split(\",\")[:-1]:\n",
    "    name, combat_power = i.split(\"/\")\n",
    "    lineup[name] = float(combat_power)"
   ]
  },
  {
   "cell_type": "code",
   "execution_count": 40,
   "metadata": {},
   "outputs": [
    {
     "name": "stdout",
     "output_type": "stream",
     "text": [
      "연맹원 이름이 올바르지 않습니다. 다시 입력해주세요.\n",
      "[다른 비슷한 닉네임]\n",
      "제임스\n"
     ]
    },
    {
     "ename": "ValueError",
     "evalue": "could not convert string to float: ''",
     "output_type": "error",
     "traceback": [
      "\u001b[0;31m---------------------------------------------------------------------------\u001b[0m",
      "\u001b[0;31mValueError\u001b[0m                                Traceback (most recent call last)",
      "Cell \u001b[0;32mIn[40], line 15\u001b[0m\n\u001b[1;32m     13\u001b[0m name \u001b[38;5;241m=\u001b[39m \u001b[38;5;28minput\u001b[39m(\u001b[38;5;124m\"\u001b[39m\u001b[38;5;124m업데이트할 연맹원을 입력하세요: \u001b[39m\u001b[38;5;124m\"\u001b[39m)\n\u001b[1;32m     14\u001b[0m \u001b[38;5;28;01mif\u001b[39;00m lineup\u001b[38;5;241m.\u001b[39mget(name):\n\u001b[0;32m---> 15\u001b[0m     power \u001b[38;5;241m=\u001b[39m \u001b[38;5;28;43mfloat\u001b[39;49m\u001b[43m(\u001b[49m\u001b[38;5;28;43minput\u001b[39;49m\u001b[43m(\u001b[49m\u001b[38;5;124;43m\"\u001b[39;49m\u001b[38;5;124;43m전투력을 입력하세요: \u001b[39;49m\u001b[38;5;124;43m\"\u001b[39;49m\u001b[43m)\u001b[49m\u001b[43m)\u001b[49m\n\u001b[1;32m     16\u001b[0m     lineup\u001b[38;5;241m.\u001b[39mupdate({\u001b[38;5;124mf\u001b[39m\u001b[38;5;124m\"\u001b[39m\u001b[38;5;132;01m{\u001b[39;00mname\u001b[38;5;132;01m}\u001b[39;00m\u001b[38;5;124m\"\u001b[39m:\u001b[38;5;28mfloat\u001b[39m(power)})\n\u001b[1;32m     17\u001b[0m     sub_switch \u001b[38;5;241m=\u001b[39m \u001b[38;5;28;01mFalse\u001b[39;00m\n",
      "\u001b[0;31mValueError\u001b[0m: could not convert string to float: ''"
     ]
    }
   ],
   "source": [
    "# 업데이트/삭제/추가(삽입)/조회\n",
    "\n",
    "switch = True\n",
    "mode = None\n",
    "while switch:\n",
    "    mode = input(\"업데이트(u), 삭제(d), 추가(i), 조회(s), 닫기(q): \")\n",
    "        \n",
    "    if mode == \"q\":  # 중지\n",
    "        break\n",
    "    elif mode == \"u\":\n",
    "        sub_switch = True\n",
    "        while sub_switch:\n",
    "            name = input(\"업데이트할 연맹원을 입력하세요: \")\n",
    "            if lineup.get(name):\n",
    "                power = float(input(\"전투력을 입력하세요: \"))\n",
    "                lineup.update({f\"{name}\":float(power)})\n",
    "                sub_switch = False\n",
    "            elif name == \"\":  # 중지\n",
    "                break\n",
    "            else:\n",
    "                print(\"연맹원 이름이 올바르지 않습니다. 다시 입력해주세요.\")\n",
    "                print(\"[다른 비슷한 닉네임]\")\n",
    "                for member in lineup.keys():\n",
    "                    if similar_name := re.search(f\"{name}\", member):\n",
    "                        print(member)\n",
    "    elif mode == \"d\":\n",
    "        sub_switch = True\n",
    "        while sub_switch:\n",
    "            name = input(\"삭제할 연맹원을 입력하세요: \")\n",
    "            if lineup.get(name):\n",
    "                del lineup[name]\n",
    "                sub_switch = False\n",
    "            elif name == \"\":  # 중지\n",
    "                break\n",
    "            else:\n",
    "                name = input(\"연맹원 이름이 올바르지 않습니다. 다시 입력해주세요: \")\n",
    "    elif mode == \"i\":\n",
    "        name = input(\"추가할 연맹원을 입력하세요: \")\n",
    "        if name == \"\":  # 중지\n",
    "            continue\n",
    "        power = float(input(\"전투력을 입력하세요: \"))\n",
    "        lineup[name] = float(power)\n",
    "    elif mode == \"s\":\n",
    "        sub_switch = True\n",
    "        while sub_switch:\n",
    "            name = input(\"찾을 연맹원 이름을 입력하세요: \")\n",
    "            if lineup.get(name):\n",
    "                print(f\"해당 연맹원이 리스트에 존재합니다.\\nname: {name}, power: {lineup[name]}\")\n",
    "            elif name == \"\":  # 중지\n",
    "                break\n",
    "            else:\n",
    "                status = input(\"해당 연맹원은 리스트에 존재하지 않습니다.\")\n",
    "    sub_switch = True\n",
    "    while sub_switch:\n",
    "        status = input(\"계속하시겠습니까? (y/n): \")\n",
    "        if status in [\"y\", \"Y\", \"yes\", \"YES\", \"Yes\"]:\n",
    "            sub_switch = False\n",
    "        elif status in [\"n\", \"N\", \"no\", \"NO\", \"No\"]:\n",
    "            sub_switch = False\n",
    "            switch = False\n",
    "        else:\n",
    "            input(\"y 또는 n으로 입력해주세요. 이전으로 돌아갑니다.\")"
   ]
  },
  {
   "cell_type": "code",
   "execution_count": 16,
   "metadata": {},
   "outputs": [
    {
     "name": "stdout",
     "output_type": "stream",
     "text": [
      "2292.0 1657.0 1357.0 1306.0 1278.0 1244.0 1222.0 1199.0 1182.0 1157.0 1127.0 1103.0 1089.0 1074.0 1071.0 1043.1 1035.0 1016.0 1011.0 996.1 \n",
      "total: 24459.199999999997\n",
      "1862.0 1719.0 1477.0 1323.0 1292.0 1253.0 1231.0 1204.0 1195.0 1179.0 1138.0 1125.0 1100.0 1086.0 1072.0 1044.0 1043.0 1022.0 1015.0 998.0 \n",
      "total: 24378.0\n",
      "['킬링타임', 'QATAR', '코코사마', '제임스', '호수공원', 'biscuits', 'shinebrightly', '네오', '포도봉봉', 'baby conqueror', 'TW', 'midori', 'miki10', 'jerry', '처음처럼', 'jjeong', '도진이네', 'pooh0701', 'gghhdd2002', 'Xern']\n",
      "['Jiwon', '와이', 'big', 'eatsleep', 'akcali', 'juju', '까마쿤', '쪼꼬', '쏘니', 'player', 'lucid', 'mong', 'minu', '슈비', '이청년', 'freein00', '안녕하세요', '싱싱', 'jayhawk', 'BETER']\n"
     ]
    }
   ],
   "source": [
    "# 처리하기\n",
    "lineup_mapping = {k:v for v, k in lineup.items()}\n",
    "ordered_combat_powers = sorted(lineup_mapping.keys(), reverse=True)\n",
    "\n",
    "left_lane, center_lane = [], []\n",
    "\n",
    "for i in ordered_combat_powers:\n",
    "    if not left_lane:\n",
    "        left_lane.append(i)\n",
    "        continue\n",
    "    elif not center_lane:\n",
    "        center_lane.append(i)\n",
    "        continue\n",
    "\n",
    "    if sum(left_lane) > sum(center_lane):\n",
    "        center_lane.append(i)\n",
    "    else:\n",
    "        left_lane.append(i)\n",
    "\n",
    "print(*left_lane[:20], f\"\\ntotal: {sum(left_lane[:20])}\")\n",
    "print(*center_lane[:20], f\"\\ntotal: {sum(center_lane[:20])}\")\n",
    "\n",
    "left_lane_members = [lineup_mapping[i] for i in left_lane[:20]]\n",
    "center_lane_members = [lineup_mapping[i] for i in center_lane[:20]]\n",
    "\n",
    "print(left_lane_members)\n",
    "print(center_lane_members)"
   ]
  },
  {
   "cell_type": "code",
   "execution_count": 33,
   "metadata": {},
   "outputs": [
    {
     "data": {
      "text/plain": [
       "'싱싱'"
      ]
     },
     "execution_count": 33,
     "metadata": {},
     "output_type": "execute_result"
    }
   ],
   "source": [
    "# 저장하기\n",
    "\n",
    "with open(\"./lineup.txt\", \"w\") as f:\n",
    "    for i, j in lineup.items():\n",
    "        f.writelines([i, \"/\", str(j), \",\"])\n",
    "f.close()"
   ]
  },
  {
   "cell_type": "markdown",
   "metadata": {},
   "source": [
    "### 연맹 챔피언십 루트 조정 (부케 연맹)"
   ]
  },
  {
   "cell_type": "code",
   "execution_count": 19,
   "metadata": {},
   "outputs": [
    {
     "name": "stdout",
     "output_type": "stream",
     "text": [
      "25\n",
      "['kang/747', 'miminu/710', '뽀또봉봉/693', 'shinebrightly/659', '코코사마/638', 'neo/604', '참이슬/596', 'Dosirak/514', 'garuda/509', '손흥민/506', '까만콩/504', 'Lemon Tree/467', 'jiwon2/456', 'Emm/453', 'Dojin/436', 'lee9/376', 'hosu2/318', 'goniiscoming/317', 'jiwon3/313', 'Silla/238', 'gghhdd/234', 'pooh/208', 'PLU2ND/184', 'Xern1/121', 'lord grim/83']\n"
     ]
    }
   ],
   "source": [
    "# 불러오기\n",
    "\n",
    "with open(\"./lineup_sub.txt\", \"r\") as f:\n",
    "    raw_data = f.readline()\n",
    "f.close()\n",
    "\n",
    "print(len(raw_data.split(\",\")[:-1]))\n",
    "print(raw_data.split(\",\")[:-1])\n",
    "\n",
    "lineup = {}\n",
    "for i in raw_data.split(\",\")[:-1]:\n",
    "    name, combat_power = i.split(\"/\")\n",
    "    lineup[name] = float(combat_power)"
   ]
  },
  {
   "cell_type": "code",
   "execution_count": null,
   "metadata": {},
   "outputs": [],
   "source": [
    "# 업데이트/삭제/추가(삽입)/조회\n",
    "\n",
    "switch = True\n",
    "mode = None\n",
    "while switch:\n",
    "    mode = input(\"업데이트(u), 삭제(d), 추가(i), 조회(s), 닫기(q): \")\n",
    "        \n",
    "    if mode == \"q\":  # 중지\n",
    "        break\n",
    "    elif mode == \"u\":\n",
    "        sub_switch = True\n",
    "        while sub_switch:\n",
    "            name = input(\"업데이트할 연맹원을 입력하세요: \")\n",
    "            if lineup.get(name):\n",
    "                power = float(input(\"전투력을 입력하세요: \"))\n",
    "                lineup.update({f\"{name}\":float(power)})\n",
    "                sub_switch = False\n",
    "            elif name == \"\":  # 중지\n",
    "                break\n",
    "            else:\n",
    "                name = input(\"연맹원 이름이 올바르지 않습니다. 다시 입력해주세요: \")\n",
    "    elif mode == \"d\":\n",
    "        sub_switch = True\n",
    "        while sub_switch:\n",
    "            name = input(\"삭제할 연맹원을 입력하세요: \")\n",
    "            if lineup.get(name):\n",
    "                del lineup[name]\n",
    "                sub_switch = False\n",
    "            elif name == \"\":  # 중지\n",
    "                break\n",
    "            else:\n",
    "                name = input(\"연맹원 이름이 올바르지 않습니다. 다시 입력해주세요: \")\n",
    "    elif mode == \"i\":\n",
    "        name = input(\"추가할 연맹원을 입력하세요: \")\n",
    "        if name == \"\":  # 중지\n",
    "            continue\n",
    "        power = float(input(\"전투력을 입력하세요: \"))\n",
    "        lineup[name] = float(power)\n",
    "    elif mode == \"s\":\n",
    "        sub_switch = True\n",
    "        while sub_switch:\n",
    "            name = input(\"찾을 연맹원 이름을 입력하세요: \")\n",
    "            if lineup.get(name):\n",
    "                print(f\"해당 연맹원이 리스트에 존재합니다.\\nname: {name}, power: {lineup[name]}\")\n",
    "            elif name == \"\":  # 중지\n",
    "                break\n",
    "            else:\n",
    "                status = input(\"해당 연맹원은 리스트에 존재하지 않습니다.\")\n",
    "    sub_switch = True\n",
    "    while sub_switch:\n",
    "        status = input(\"계속하시겠습니까? (y/n): \")\n",
    "        if status in [\"y\", \"Y\", \"yes\", \"YES\", \"Yes\"]:\n",
    "            sub_switch = False\n",
    "        elif status in [\"n\", \"N\", \"no\", \"NO\", \"No\"]:\n",
    "            sub_switch = False\n",
    "            switch = False\n",
    "        else:\n",
    "            input(\"y 또는 n으로 입력해주세요. 이전으로 돌아갑니다.\")"
   ]
  },
  {
   "cell_type": "code",
   "execution_count": 20,
   "metadata": {},
   "outputs": [
    {
     "name": "stdout",
     "output_type": "stream",
     "text": [
      "747.0 659.0 604.0 596.0 506.0 467.0 453.0 376.0 318.0 313.0 208.0 184.0 \n",
      "total: 5431.0\n",
      "710.0 693.0 638.0 514.0 509.0 504.0 456.0 436.0 317.0 238.0 234.0 121.0 83.0 \n",
      "total: 5453.0\n",
      "['kang', 'shinebrightly', 'neo', '참이슬', '손흥민', 'Lemon Tree', 'Emm', 'lee9', 'hosu2', 'jiwon3', 'pooh', 'PLU2ND']\n",
      "['miminu', '뽀또봉봉', '코코사마', 'Dosirak', 'garuda', '까만콩', 'jiwon2', 'Dojin', 'goniiscoming', 'Silla', 'gghhdd', 'Xern1', 'lord grim']\n"
     ]
    }
   ],
   "source": [
    "# 처리하기\n",
    "lineup_mapping = {k:v for v, k in lineup.items()}\n",
    "ordered_combat_powers = sorted(lineup_mapping.keys(), reverse=True)\n",
    "\n",
    "left_lane, center_lane = [], []\n",
    "\n",
    "for i in ordered_combat_powers:\n",
    "    if not left_lane:\n",
    "        left_lane.append(i)\n",
    "        continue\n",
    "    elif not center_lane:\n",
    "        center_lane.append(i)\n",
    "        continue\n",
    "\n",
    "    if sum(left_lane) > sum(center_lane):\n",
    "        center_lane.append(i)\n",
    "    else:\n",
    "        left_lane.append(i)\n",
    "\n",
    "print(*left_lane, f\"\\ntotal: {sum(left_lane)}\")\n",
    "print(*center_lane, f\"\\ntotal: {sum(center_lane)}\")\n",
    "\n",
    "left_lane_members = [lineup_mapping[i] for i in left_lane]\n",
    "center_lane_members = [lineup_mapping[i] for i in center_lane]\n",
    "\n",
    "print(left_lane_members)\n",
    "print(center_lane_members)"
   ]
  },
  {
   "cell_type": "code",
   "execution_count": null,
   "metadata": {},
   "outputs": [],
   "source": [
    "# 저장하기\n",
    "\n",
    "with open(\"./lineup_sub.txt\", \"w\") as f:\n",
    "    for i, j in lineup.items():\n",
    "        f.writelines([i, \"/\", str(j), \",\"])\n",
    "f.close()"
   ]
  }
 ],
 "metadata": {
  "kernelspec": {
   "display_name": "base",
   "language": "python",
   "name": "python3"
  },
  "language_info": {
   "codemirror_mode": {
    "name": "ipython",
    "version": 3
   },
   "file_extension": ".py",
   "mimetype": "text/x-python",
   "name": "python",
   "nbconvert_exporter": "python",
   "pygments_lexer": "ipython3",
   "version": "3.10.13"
  }
 },
 "nbformat": 4,
 "nbformat_minor": 2
}
