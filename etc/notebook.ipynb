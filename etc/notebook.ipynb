{
 "cells": [
  {
   "cell_type": "code",
   "execution_count": 4,
   "metadata": {},
   "outputs": [
    {
     "name": "stdout",
     "output_type": "stream",
     "text": [
      "Defense Formation\n",
      "----------\n",
      "2200\n",
      "1100.0\n",
      "1100.0\n",
      "----------\n",
      "11000\n",
      "5500.0\n",
      "5500.0\n",
      "----------\n",
      "6800\n",
      "3400.0\n",
      "3400.0\n",
      "----------\n",
      "\n",
      "Support fire Formation\n",
      "----------\n",
      "2200\n",
      "880.0\n",
      "2200\n",
      "----------\n",
      "11000\n",
      "4400.0\n",
      "11000\n",
      "----------\n",
      "6800\n",
      "2720.0\n",
      "6800\n",
      "----------\n"
     ]
    }
   ],
   "source": [
    "total = 53845\n",
    "lv6 = [2259, 3074, 2563]\n",
    "lv5 = [11200, 11600, 11104]\n",
    "lv1 = [6926, 6877, 7224]\n",
    "\n",
    "defensive_ratio = [1, 1 / 2, 1 / 2]\n",
    "supportfire_ratio = [1, 2 / 5, 1]\n",
    "\n",
    "print(\"Defense Formation\")\n",
    "for _ in range(3):\n",
    "    units = sum(lv6)\n",
    "    print(\"-\" * 10)\n",
    "    for ratio in defensive_ratio:\n",
    "        print(total * ratio)\n",
    "print(\"-\" * 10)\n",
    "\n",
    "print()\n",
    "\n",
    "print(\"Support fire Formation\")\n",
    "for level in levels:\n",
    "    print(\"-\" * 10)\n",
    "    for ratio in supportfire_ratio:\n",
    "        print(level * ratio)\n",
    "print(\"-\" * 10)"
   ]
  },
  {
   "cell_type": "code",
   "execution_count": 8,
   "metadata": {},
   "outputs": [
    {
     "name": "stdout",
     "output_type": "stream",
     "text": [
      "(1, 2) [[1.51896538 1.73154501]]\n"
     ]
    }
   ],
   "source": [
    "import numpy as np\n",
    "\n",
    "\n",
    "x = np.random.rand(3, 2)\n",
    "y = np.sum(x, axis=0, keepdims=True)\n",
    "print(y.shape, y)"
   ]
  },
  {
   "cell_type": "code",
   "execution_count": 4,
   "metadata": {},
   "outputs": [
    {
     "name": "stdout",
     "output_type": "stream",
     "text": [
      "dist1: 9.899494936611665\n",
      "dist2: 9.486832980505138\n"
     ]
    }
   ],
   "source": [
    "x, y = 694, 424\n",
    "d1, d2 = 687, 417\n",
    "d3, d4 = 703, 427\n",
    "\n",
    "print(\"dist1:\", ((x - d1) ** 2 + (y - d2) ** 2) ** 0.5)\n",
    "print(\"dist2:\", ((x - d3) ** 2 + (y - d4) ** 2) ** 0.5)"
   ]
  },
  {
   "cell_type": "code",
   "execution_count": 4,
   "metadata": {},
   "outputs": [
    {
     "name": "stdout",
     "output_type": "stream",
     "text": [
      "전체 병사 수: 151,939\n",
      "----------\n",
      "현재 방패병 수: 46,724\n",
      "현재 창병 수: 52,483\n",
      "현재 궁병 수: 52,732\n",
      "----------\n",
      "방패병 필요: 58,242\n",
      "궁병 필요: 25,992\n"
     ]
    }
   ],
   "source": [
    "shield = [42262, 200, 4262]\n",
    "spear = [33281, 1112, 3252, 1466, 13372]\n",
    "bow = [34022, 162, 3319, 1467, 13762]\n",
    "\n",
    "shield_num = sum(shield)\n",
    "spear_num = sum(spear)\n",
    "bow_num = sum(bow)\n",
    "\n",
    "print(f\"전체 병사 수: {shield_num+spear_num+bow_num:3,}\")\n",
    "print(\"-\" * 10)\n",
    "print(f\"현재 방패병 수: {shield_num:3,}\")\n",
    "print(f\"현재 창병 수: {spear_num:3,}\")\n",
    "print(f\"현재 궁병 수: {bow_num:3,}\")\n",
    "print(\"-\" * 10)\n",
    "print(f\"방패병 필요: {round(spear_num*2-shield_num):3,}\")\n",
    "print(f\"궁병 필요: {round(spear_num*1.5-bow_num):3,}\")"
   ]
  },
  {
   "cell_type": "code",
   "execution_count": 5,
   "metadata": {},
   "outputs": [
    {
     "data": {
      "text/plain": [
       "52483"
      ]
     },
     "execution_count": 5,
     "metadata": {},
     "output_type": "execute_result"
    }
   ],
   "source": [
    "a = [33281, 1112, 3252, 1466, 13372]\n",
    "sum(a)"
   ]
  },
  {
   "cell_type": "code",
   "execution_count": 17,
   "metadata": {},
   "outputs": [
    {
     "name": "stdout",
     "output_type": "stream",
     "text": [
      "7.0 13.558222222222241\n"
     ]
    }
   ],
   "source": [
    "seconds = 9 * 24 * 60 * 60 + 10 * 60 * 60 + 56 * 60 + 52\n",
    "hours = seconds / 60 / 60\n",
    "days, hours = divmod(hours * 0.8, 24)\n",
    "print(days, hours)"
   ]
  },
  {
   "cell_type": "code",
   "execution_count": 1,
   "metadata": {},
   "outputs": [
    {
     "data": {
      "text/plain": [
       "0.48"
      ]
     },
     "execution_count": 1,
     "metadata": {},
     "output_type": "execute_result"
    }
   ],
   "source": [
    "(0.8) * (3 / 5)"
   ]
  },
  {
   "cell_type": "code",
   "execution_count": null,
   "metadata": {},
   "outputs": [],
   "source": []
  },
  {
   "cell_type": "code",
   "execution_count": null,
   "metadata": {},
   "outputs": [],
   "source": []
  },
  {
   "cell_type": "markdown",
   "metadata": {},
   "source": [
    "### 연맹 챔피언십 전략\n",
    "\n",
    "#### 2:1 전략 (45 45 10)\n",
    "- 한쪽 루트를 내어 주고 나머지 두 곳의 깃발을 차지하는 전략\n",
    "\n",
    "#### 카운터 2:1 전략 (60 20 20)\n",
    "- 2:1 전략을 파훼하기 위한 전략으로써 한쪽 루트를 확실하게 차지하고, 나머지 두곳 중 가장 약한 곳을 근소한 차이로 이겨 2:1로 승리하는 전략"
   ]
  },
  {
   "cell_type": "code",
   "execution_count": 78,
   "metadata": {},
   "outputs": [
    {
     "name": "stdout",
     "output_type": "stream",
     "text": [
      "['kang/813.0', 'miminu/781.0', '뽀또봉봉/729.0', 'shinebrightly/757.0', 'Dosirak/566.0', 'garuda/595.0', '손흥민/571.0', '까만콩/636.0', 'Lemon Tree/536.0', 'jiwon2/569.0', 'Emm/537.0', 'Dojin/531.0', 'lee9/430.0', 'hosu2/402.0', 'jiwon3/396.0', 'pooh/281.0', 'lord grim/112.0', 'Ress/385.0', 'Sandy/361.0', 'scream/245.0', 'jjeong2/153.0', '뜌링링/152.0', 'freein99/141.0', 'Rockstar2/119.0', 'Nb2617/110.0', 'bigi/105.0', 'I_U/77.0', '유재석/75.0', 'sniper/58.0', 'singsing/43.0', 'LeviathanDeus/38.0', 'Ofoof/37.0', '탱크보이/36.0', 'neo1/658.0', '']\n"
     ]
    }
   ],
   "source": [
    "# 불러오기\n",
    "\n",
    "with open(\"./lineup.txt\", \"r\") as f:\n",
    "    raw_data = f.readline()\n",
    "f.close()\n",
    "\n",
    "print(raw_data.split(\",\"))\n",
    "\n",
    "lineup = {}\n",
    "for i in raw_data.split(\",\")[:-1]:\n",
    "    name, combat_power = i.split(\"/\")\n",
    "    lineup[name] = float(combat_power)"
   ]
  },
  {
   "cell_type": "code",
   "execution_count": 11,
   "metadata": {},
   "outputs": [],
   "source": [
    "# 지난번에 실수로 부케 연맹 데이터를 덮어씌워버림\n",
    "lineup = {}"
   ]
  },
  {
   "cell_type": "code",
   "execution_count": 17,
   "metadata": {},
   "outputs": [],
   "source": [
    "# 업데이트/삭제/추가(삽입)/조회\n",
    "import re\n",
    "\n",
    "switch = True\n",
    "mode = None\n",
    "while switch:\n",
    "    mode = input(\"업데이트(u), 삭제(d), 추가(i), 조회(s), 닫기(q): \")\n",
    "        \n",
    "    if mode == \"q\":  # 중지\n",
    "        switch = False\n",
    "        continue\n",
    "    elif mode == \"u\":\n",
    "        name = None\n",
    "        while name != \"\":\n",
    "            name = input(\"업데이트할 연맹원을 입력하세요. 더이상 없다면 Enter를 입력해주세요: \")\n",
    "            if name == \"\":  # 중지\n",
    "                continue\n",
    "            elif lineup.get(name):\n",
    "                power = float(input(\"전투력을 입력하세요: \"))\n",
    "                lineup.update({f\"{name}\":power})\n",
    "            else:\n",
    "                print(\"연맹원 이름이 올바르지 않습니다. 다시 입력해주세요.\")\n",
    "                print(\"[다른 비슷한 닉네임]\")\n",
    "                for member in lineup.keys():\n",
    "                    if re.search(f\"{name}\", member):\n",
    "                        print(member)\n",
    "    elif mode == \"d\":\n",
    "        name = None\n",
    "        while name != \"\":\n",
    "            name = input(\"삭제할 연맹원을 입력하세요. 더이상 없다면 Enter를 입력해주세요: \")\n",
    "            if name == \"\":  # 중지\n",
    "                continue\n",
    "            elif lineup.get(name):\n",
    "                del lineup[name]\n",
    "            else:\n",
    "                print(\"연맹원 이름이 올바르지 않습니다. 다시 입력해주세요.\")\n",
    "                print(\"[다른 비슷한 닉네임]\")\n",
    "                for member in lineup.keys():\n",
    "                    if re.search(f\"{name}\", member):\n",
    "                        print(member)\n",
    "    elif mode == \"i\":\n",
    "        name = None\n",
    "        while name != \"\":\n",
    "            name = input(\"추가할 연맹원을 입력하세요. 더이상 없다면 Enter를 입력해주세요: \")\n",
    "            if name == \"\":  # 중지\n",
    "                continue\n",
    "            power = float(input(\"전투력을 입력하세요: \"))\n",
    "            lineup[name] = power\n",
    "    elif mode == \"s\":\n",
    "        name = None\n",
    "        while name != \"\":\n",
    "            name = input(\"탐색할 연맹원 이름을 입력하세요. 더이상 없다면 Enter를 입력해주세요: \")\n",
    "            if name == \"\":  # 중지\n",
    "                continue\n",
    "            elif lineup.get(name):\n",
    "                print(f\"해당 연맹원이 리스트에 존재합니다.\\nname: {name}, power: {lineup[name]}\")\n",
    "            else:\n",
    "                print(\"연맹원 이름이 올바르지 않습니다. 다시 입력해주세요.\")\n",
    "                print(\"[다른 비슷한 닉네임]\")\n",
    "                for member in lineup.keys():\n",
    "                    if re.search(f\"{name}\", member):\n",
    "                        print(member)\n",
    "    sub_switch = True\n",
    "    while sub_switch:\n",
    "        status = input(\"계속하시겠습니까? (y/n): \")\n",
    "        if status in [\"y\", \"Y\", \"yes\", \"YES\", \"Yes\", \"ㅛ\", \"ㅛㄷㄴ\"]:\n",
    "            sub_switch = False\n",
    "        elif status in [\"n\", \"N\", \"no\", \"NO\", \"No\", \"ㅜ\", \"ㅜㅐ\"]:\n",
    "            sub_switch = False\n",
    "            switch = False"
   ]
  },
  {
   "cell_type": "code",
   "execution_count": 22,
   "metadata": {},
   "outputs": [
    {
     "name": "stdout",
     "output_type": "stream",
     "text": [
      "1909.0 1754.0 1701.0 1546.0 1381.0 1376.0 1340.0 1335.0 1307.0 1300.0 1282.0 1277.0 1274.0 1258.0 1254.0 1224.0 1222.0 1219.0 1217.0 1213.0 \n",
      "total: 26176.0\n",
      "1866.0 1816.0 1689.0 1507.0 1415.0 1370.0 1369.0 1326.0 1302.0 1286.0 1283.0 1280.0 1272.0 1262.0 1246.0 1233.0 1220.0 1217.1 1216.0 1213.1 \n",
      "total: 26175.1\n",
      "['QTR', 'CANCER', '제임스', 'juju', 'EatSleep', 'AKCALI', 'ShineBrightly', '네오', 'Lucid', '경기도', 'Midori', '루트', '쪼꼬', '처음처럼', '도진이네', '만두라면', 'JayHawk', 'BETER', 'kang']\n",
      "['와이', 'big619', 'Taiwanese', 'biscuits', '호수공원', '까마쿤', '쏘니', '포도봉봉', 'TANK', 'Player', 'Mong', 'TW', 'jjeong', 'ichi', 'baby', 'miki10', 'pooh0701', 'Winter', 'garuda']\n"
     ]
    }
   ],
   "source": [
    "# 처리하기\n",
    "lineup_mapping = {k:v for v, k in lineup.items()}\n",
    "\n",
    "# 2:1 전략\n",
    "ordered_combat_powers = sorted(lineup_mapping.keys(), reverse=True)\n",
    "# 카운터 2:1 전략\n",
    "# ordered_combat_powers = sorted(lineup_mapping.keys(), reverse=True)[20:]\n",
    "\n",
    "left_lane, center_lane = [], []\n",
    "\n",
    "for i in ordered_combat_powers[2:]:\n",
    "    if not left_lane:\n",
    "        left_lane.append(i)\n",
    "        continue\n",
    "    elif not center_lane:\n",
    "        center_lane.append(i)\n",
    "        continue\n",
    "\n",
    "    if sum(left_lane) > sum(center_lane):\n",
    "        center_lane.append(i)\n",
    "    else:\n",
    "        left_lane.append(i)\n",
    "\n",
    "print(*left_lane[:20], f\"\\ntotal: {sum(left_lane[:19])}\")\n",
    "print(*center_lane[:20], f\"\\ntotal: {sum(center_lane[:19])}\")\n",
    "\n",
    "left_lane_members = [lineup_mapping[i] for i in left_lane[:19]]\n",
    "center_lane_members = [lineup_mapping[i] for i in center_lane[:19]]\n",
    "\n",
    "print(left_lane_members)\n",
    "print(center_lane_members)"
   ]
  },
  {
   "cell_type": "code",
   "execution_count": 20,
   "metadata": {},
   "outputs": [],
   "source": [
    "# 저장하기\n",
    "\n",
    "with open(\"./lineup.txt\", \"w\") as f:\n",
    "    for i, j in lineup.items():\n",
    "        f.writelines([i, \"/\", str(j), \",\"])\n",
    "f.close()"
   ]
  },
  {
   "cell_type": "markdown",
   "metadata": {},
   "source": [
    "### 연맹 챔피언십 루트 조정 (부케 연맹)"
   ]
  },
  {
   "cell_type": "code",
   "execution_count": 23,
   "metadata": {},
   "outputs": [
    {
     "name": "stdout",
     "output_type": "stream",
     "text": [
      "34\n",
      "['kang/813.0', 'miminu/781.0', '뽀또봉봉/729.0', 'shinebrightly/757.0', 'Dosirak/566.0', 'garuda/595.0', '손흥민/571.0', '까만콩/636.0', 'Lemon Tree/536.0', 'jiwon2/569.0', 'Emm/537.0', 'Dojin/531.0', 'lee9/430.0', 'hosu2/402.0', 'jiwon3/396.0', 'pooh/281.0', 'lord grim/112.0', 'Ress/385.0', 'Sandy/361.0', 'scream/245.0', 'jjeong2/153.0', '뜌링링/152.0', 'freein99/141.0', 'Rockstar2/119.0', 'Nb2617/110.0', 'bigi/105.0', 'I_U/77.0', '유재석/75.0', 'sniper/58.0', 'singsing/43.0', 'LeviathanDeus/38.0', 'Ofoof/37.0', '탱크보이/36.0', 'neo1/658.0']\n"
     ]
    }
   ],
   "source": [
    "# 불러오기\n",
    "\n",
    "with open(\"./lineup_sub.txt\", \"r\") as f:\n",
    "    raw_data = f.readline()\n",
    "f.close()\n",
    "\n",
    "print(len(raw_data.split(\",\")[:-1]))\n",
    "print(raw_data.split(\",\")[:-1])\n",
    "\n",
    "lineup_sub = {}\n",
    "for i in raw_data.split(\",\")[:-1]:\n",
    "    name, combat_power = i.split(\"/\")\n",
    "    lineup_sub[name] = float(combat_power)"
   ]
  },
  {
   "cell_type": "code",
   "execution_count": 25,
   "metadata": {},
   "outputs": [],
   "source": [
    "lineup_sub = {}"
   ]
  },
  {
   "cell_type": "code",
   "execution_count": 26,
   "metadata": {},
   "outputs": [],
   "source": [
    "# 업데이트/삭제/추가(삽입)/조회\n",
    "import re\n",
    "\n",
    "switch = True\n",
    "mode = None\n",
    "while switch:\n",
    "    mode = input(\"업데이트(u), 삭제(d), 추가(i), 조회(s), 닫기(q): \")\n",
    "        \n",
    "    if mode == \"q\":  # 중지\n",
    "        switch = False\n",
    "        continue\n",
    "    elif mode == \"u\":\n",
    "        name = None\n",
    "        while name != \"\":\n",
    "            name = input(\"업데이트할 연맹원을 입력하세요. 더이상 없다면 Enter를 입력해주세요: \")\n",
    "            if name == \"\":  # 중지\n",
    "                continue\n",
    "            elif lineup_sub.get(name):\n",
    "                power = float(input(\"전투력을 입력하세요: \"))\n",
    "                lineup_sub.update({f\"{name}\":power})\n",
    "            else:\n",
    "                print(\"연맹원 이름이 올바르지 않습니다. 다시 입력해주세요.\")\n",
    "                print(\"[다른 비슷한 닉네임]\")\n",
    "                for member in lineup_sub.keys():\n",
    "                    if re.search(f\"{name}\", member):\n",
    "                        print(member)\n",
    "    elif mode == \"d\":\n",
    "        name = None\n",
    "        while name != \"\":\n",
    "            name = input(\"삭제할 연맹원을 입력하세요. 더이상 없다면 Enter를 입력해주세요: \")\n",
    "            if name == \"\":  # 중지\n",
    "                continue\n",
    "            elif lineup_sub.get(name):\n",
    "                del lineup_sub[name]\n",
    "            else:\n",
    "                print(\"연맹원 이름이 올바르지 않습니다. 다시 입력해주세요.\")\n",
    "                print(\"[다른 비슷한 닉네임]\")\n",
    "                for member in lineup_sub.keys():\n",
    "                    if re.search(f\"{name}\", member):\n",
    "                        print(member)\n",
    "    elif mode == \"i\":\n",
    "        name = None\n",
    "        while name != \"\":\n",
    "            name = input(\"추가할 연맹원을 입력하세요. 더이상 없다면 Enter를 입력해주세요: \")\n",
    "            if name == \"\":  # 중지\n",
    "                continue\n",
    "            power = float(input(\"전투력을 입력하세요: \"))\n",
    "            lineup_sub[name] = power\n",
    "    elif mode == \"s\":\n",
    "        name = None\n",
    "        while name != \"\":\n",
    "            name = input(\"탐색할 연맹원 이름을 입력하세요. 더이상 없다면 Enter를 입력해주세요: \")\n",
    "            if name == \"\":  # 중지\n",
    "                continue\n",
    "            elif lineup_sub.get(name):\n",
    "                print(f\"해당 연맹원이 리스트에 존재합니다.\\nname: {name}, power: {lineup_sub[name]}\")\n",
    "            else:\n",
    "                print(\"연맹원 이름이 올바르지 않습니다. 다시 입력해주세요.\")\n",
    "                print(\"[다른 비슷한 닉네임]\")\n",
    "                for member in lineup_sub.keys():\n",
    "                    if re.search(f\"{name}\", member):\n",
    "                        print(member)\n",
    "    sub_switch = True\n",
    "    while sub_switch:\n",
    "        status = input(\"계속하시겠습니까? (y/n): \")\n",
    "        if status in [\"y\", \"Y\", \"yes\", \"YES\", \"Yes\", \"ㅛ\", \"ㅛㄷㄴ\"]:\n",
    "            sub_switch = False\n",
    "        elif status in [\"n\", \"N\", \"no\", \"NO\", \"No\", \"ㅜ\", \"ㅜㅐ\"]:\n",
    "            sub_switch = False\n",
    "            switch = False"
   ]
  },
  {
   "cell_type": "code",
   "execution_count": 27,
   "metadata": {},
   "outputs": [
    {
     "name": "stdout",
     "output_type": "stream",
     "text": [
      "941.0 809.0 794.0 678.0 651.0 616.0 596.0 560.0 383.0 368.0 332.0 314.0 291.0 213.0 189.0 167.0 87.0 80.0 \n",
      "total: 8069.0\n",
      "896.0 865.0 732.0 701.0 669.0 639.0 594.0 534.0 455.0 338.0 318.0 311.0 262.0 227.0 199.0 150.0 119.0 52.0 17.0 \n",
      "total: 8078.0\n",
      "['kang2', 'ShineBrightly2', '참이슬', 'Emmmmm', 'garuda fram', 'jiwon2', 'Lemon Tree', 'lee9', 'ichi farm', 'pooh0702', 'Mehmetbaba82', 'jjeong2', 'ichiFARM', 'Nb2617', 'singsing', '탱크보이', \"Ofoof's Farm\", '서윤']\n",
      "['miminu', '뽀또봉봉_Bonbon', 'neo1', '까만콩_BlackBeans', 'omana', 'Dosirak', 'Dojin_Farm', 'hosu2', 'jiwon3', 'Wk farm1', 'candyCRUSH', 'freein99', 'bigi', '유재석', 'Shefo1', 'Rockstar2', 'lord grim', 'Midoriaoki6FARM1', 'lord254192923']\n"
     ]
    }
   ],
   "source": [
    "# 처리하기\n",
    "lineup_mapping = {k:v for v, k in lineup_sub.items()}\n",
    "ordered_combat_powers = sorted(lineup_mapping.keys(), reverse=True)\n",
    "\n",
    "left_lane, center_lane = [], []\n",
    "\n",
    "for i in ordered_combat_powers:\n",
    "    if not left_lane:\n",
    "        left_lane.append(i)\n",
    "        continue\n",
    "    elif not center_lane:\n",
    "        center_lane.append(i)\n",
    "        continue\n",
    "\n",
    "    if sum(left_lane) > sum(center_lane):\n",
    "        center_lane.append(i)\n",
    "    else:\n",
    "        left_lane.append(i)\n",
    "\n",
    "print(*left_lane, f\"\\ntotal: {sum(left_lane)}\")\n",
    "print(*center_lane, f\"\\ntotal: {sum(center_lane)}\")\n",
    "\n",
    "left_lane_members = [lineup_mapping[i] for i in left_lane]\n",
    "center_lane_members = [lineup_mapping[i] for i in center_lane]\n",
    "\n",
    "print(left_lane_members)\n",
    "print(center_lane_members)"
   ]
  },
  {
   "cell_type": "code",
   "execution_count": 77,
   "metadata": {},
   "outputs": [],
   "source": [
    "# 저장하기\n",
    "\n",
    "with open(\"./lineup_sub.txt\", \"w\") as f:\n",
    "    for i, j in lineup_sub.items():\n",
    "        f.writelines([i, \"/\", str(j), \",\"])\n",
    "f.close()"
   ]
  }
 ],
 "metadata": {
  "kernelspec": {
   "display_name": "base",
   "language": "python",
   "name": "python3"
  },
  "language_info": {
   "codemirror_mode": {
    "name": "ipython",
    "version": 3
   },
   "file_extension": ".py",
   "mimetype": "text/x-python",
   "name": "python",
   "nbconvert_exporter": "python",
   "pygments_lexer": "ipython3",
   "version": "3.10.13"
  }
 },
 "nbformat": 4,
 "nbformat_minor": 2
}
