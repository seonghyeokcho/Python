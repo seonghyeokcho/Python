{
 "cells": [
  {
   "cell_type": "code",
   "execution_count": 4,
   "metadata": {},
   "outputs": [
    {
     "name": "stdout",
     "output_type": "stream",
     "text": [
      "Defense Formation\n",
      "----------\n",
      "2200\n",
      "1100.0\n",
      "1100.0\n",
      "----------\n",
      "11000\n",
      "5500.0\n",
      "5500.0\n",
      "----------\n",
      "6800\n",
      "3400.0\n",
      "3400.0\n",
      "----------\n",
      "\n",
      "Support fire Formation\n",
      "----------\n",
      "2200\n",
      "880.0\n",
      "2200\n",
      "----------\n",
      "11000\n",
      "4400.0\n",
      "11000\n",
      "----------\n",
      "6800\n",
      "2720.0\n",
      "6800\n",
      "----------\n"
     ]
    }
   ],
   "source": [
    "total = 53845\n",
    "lv6 = [2259, 3074, 2563]\n",
    "lv5 = [11200, 11600, 11104]\n",
    "lv1 = [6926, 6877, 7224]\n",
    "\n",
    "defensive_ratio = [1, 1/2, 1/2]\n",
    "supportfire_ratio = [1, 2/5, 1]\n",
    "\n",
    "print(\"Defense Formation\")\n",
    "for _ in range(3):\n",
    "    units = sum(lv6)\n",
    "    print(\"-\"*10)\n",
    "    for ratio in defensive_ratio:\n",
    "        print(total*ratio)\n",
    "print(\"-\"*10)\n",
    "\n",
    "print()\n",
    "\n",
    "print(\"Support fire Formation\")\n",
    "for level in levels:\n",
    "    print(\"-\"*10)\n",
    "    for ratio in supportfire_ratio:\n",
    "        print(level*ratio)\n",
    "print(\"-\"*10)"
   ]
  },
  {
   "cell_type": "code",
   "execution_count": 8,
   "metadata": {},
   "outputs": [
    {
     "name": "stdout",
     "output_type": "stream",
     "text": [
      "(1, 2) [[1.51896538 1.73154501]]\n"
     ]
    }
   ],
   "source": [
    "import numpy as np\n",
    "\n",
    "\n",
    "x = np.random.rand(3, 2)\n",
    "y = np.sum(x, axis=0, keepdims=True)\n",
    "print(y.shape, y)"
   ]
  },
  {
   "cell_type": "code",
   "execution_count": 4,
   "metadata": {},
   "outputs": [
    {
     "name": "stdout",
     "output_type": "stream",
     "text": [
      "dist1: 9.899494936611665\n",
      "dist2: 9.486832980505138\n"
     ]
    }
   ],
   "source": [
    "x, y = 694, 424\n",
    "d1, d2 = 687, 417\n",
    "d3, d4 = 703, 427\n",
    "\n",
    "print(\"dist1:\", ((x-d1)**2 + (y-d2)**2)**.5)\n",
    "print(\"dist2:\", ((x-d3)**2 + (y-d4)**2)**.5)"
   ]
  }
 ],
 "metadata": {
  "kernelspec": {
   "display_name": "base",
   "language": "python",
   "name": "python3"
  },
  "language_info": {
   "codemirror_mode": {
    "name": "ipython",
    "version": 3
   },
   "file_extension": ".py",
   "mimetype": "text/x-python",
   "name": "python",
   "nbconvert_exporter": "python",
   "pygments_lexer": "ipython3",
   "version": "3.10.13"
  }
 },
 "nbformat": 4,
 "nbformat_minor": 2
}
