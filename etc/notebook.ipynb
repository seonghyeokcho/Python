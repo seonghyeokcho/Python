{
 "cells": [
  {
   "cell_type": "code",
   "execution_count": 4,
   "metadata": {},
   "outputs": [
    {
     "name": "stdout",
     "output_type": "stream",
     "text": [
      "Defense Formation\n",
      "----------\n",
      "2200\n",
      "1100.0\n",
      "1100.0\n",
      "----------\n",
      "11000\n",
      "5500.0\n",
      "5500.0\n",
      "----------\n",
      "6800\n",
      "3400.0\n",
      "3400.0\n",
      "----------\n",
      "\n",
      "Support fire Formation\n",
      "----------\n",
      "2200\n",
      "880.0\n",
      "2200\n",
      "----------\n",
      "11000\n",
      "4400.0\n",
      "11000\n",
      "----------\n",
      "6800\n",
      "2720.0\n",
      "6800\n",
      "----------\n"
     ]
    }
   ],
   "source": [
    "total = 53845\n",
    "lv6 = [2259, 3074, 2563]\n",
    "lv5 = [11200, 11600, 11104]\n",
    "lv1 = [6926, 6877, 7224]\n",
    "\n",
    "defensive_ratio = [1, 1 / 2, 1 / 2]\n",
    "supportfire_ratio = [1, 2 / 5, 1]\n",
    "\n",
    "print(\"Defense Formation\")\n",
    "for _ in range(3):\n",
    "    units = sum(lv6)\n",
    "    print(\"-\" * 10)\n",
    "    for ratio in defensive_ratio:\n",
    "        print(total * ratio)\n",
    "print(\"-\" * 10)\n",
    "\n",
    "print()\n",
    "\n",
    "print(\"Support fire Formation\")\n",
    "for level in levels:\n",
    "    print(\"-\" * 10)\n",
    "    for ratio in supportfire_ratio:\n",
    "        print(level * ratio)\n",
    "print(\"-\" * 10)"
   ]
  },
  {
   "cell_type": "code",
   "execution_count": 8,
   "metadata": {},
   "outputs": [
    {
     "name": "stdout",
     "output_type": "stream",
     "text": [
      "(1, 2) [[1.51896538 1.73154501]]\n"
     ]
    }
   ],
   "source": [
    "import numpy as np\n",
    "\n",
    "\n",
    "x = np.random.rand(3, 2)\n",
    "y = np.sum(x, axis=0, keepdims=True)\n",
    "print(y.shape, y)"
   ]
  },
  {
   "cell_type": "code",
   "execution_count": 4,
   "metadata": {},
   "outputs": [
    {
     "name": "stdout",
     "output_type": "stream",
     "text": [
      "dist1: 9.899494936611665\n",
      "dist2: 9.486832980505138\n"
     ]
    }
   ],
   "source": [
    "x, y = 694, 424\n",
    "d1, d2 = 687, 417\n",
    "d3, d4 = 703, 427\n",
    "\n",
    "print(\"dist1:\", ((x - d1) ** 2 + (y - d2) ** 2) ** 0.5)\n",
    "print(\"dist2:\", ((x - d3) ** 2 + (y - d4) ** 2) ** 0.5)"
   ]
  },
  {
   "cell_type": "code",
   "execution_count": 4,
   "metadata": {},
   "outputs": [
    {
     "name": "stdout",
     "output_type": "stream",
     "text": [
      "전체 병사 수: 151,939\n",
      "----------\n",
      "현재 방패병 수: 46,724\n",
      "현재 창병 수: 52,483\n",
      "현재 궁병 수: 52,732\n",
      "----------\n",
      "방패병 필요: 58,242\n",
      "궁병 필요: 25,992\n"
     ]
    }
   ],
   "source": [
    "shield = [42262, 200, 4262]\n",
    "spear = [33281, 1112, 3252, 1466, 13372]\n",
    "bow = [34022, 162, 3319, 1467, 13762]\n",
    "\n",
    "shield_num = sum(shield)\n",
    "spear_num = sum(spear)\n",
    "bow_num = sum(bow)\n",
    "\n",
    "print(f\"전체 병사 수: {shield_num+spear_num+bow_num:3,}\")\n",
    "print(\"-\" * 10)\n",
    "print(f\"현재 방패병 수: {shield_num:3,}\")\n",
    "print(f\"현재 창병 수: {spear_num:3,}\")\n",
    "print(f\"현재 궁병 수: {bow_num:3,}\")\n",
    "print(\"-\" * 10)\n",
    "print(f\"방패병 필요: {round(spear_num*2-shield_num):3,}\")\n",
    "print(f\"궁병 필요: {round(spear_num*1.5-bow_num):3,}\")"
   ]
  },
  {
   "cell_type": "code",
   "execution_count": 5,
   "metadata": {},
   "outputs": [
    {
     "data": {
      "text/plain": [
       "52483"
      ]
     },
     "execution_count": 5,
     "metadata": {},
     "output_type": "execute_result"
    }
   ],
   "source": [
    "a = [33281, 1112, 3252, 1466, 13372]\n",
    "sum(a)"
   ]
  },
  {
   "cell_type": "code",
   "execution_count": 17,
   "metadata": {},
   "outputs": [
    {
     "name": "stdout",
     "output_type": "stream",
     "text": [
      "7.0 13.558222222222241\n"
     ]
    }
   ],
   "source": [
    "seconds = 9 * 24 * 60 * 60 + 10 * 60 * 60 + 56 * 60 + 52\n",
    "hours = seconds / 60 / 60\n",
    "days, hours = divmod(hours * 0.8, 24)\n",
    "print(days, hours)"
   ]
  },
  {
   "cell_type": "code",
   "execution_count": 1,
   "metadata": {},
   "outputs": [
    {
     "data": {
      "text/plain": [
       "0.48"
      ]
     },
     "execution_count": 1,
     "metadata": {},
     "output_type": "execute_result"
    }
   ],
   "source": [
    "(0.8) * (3 / 5)"
   ]
  },
  {
   "cell_type": "code",
   "execution_count": null,
   "metadata": {},
   "outputs": [],
   "source": []
  },
  {
   "cell_type": "code",
   "execution_count": null,
   "metadata": {},
   "outputs": [],
   "source": []
  },
  {
   "cell_type": "markdown",
   "metadata": {},
   "source": [
    "### 연맹 챔피언십 전략\n",
    "\n",
    "#### 2:1 전략 (45 45 10)\n",
    "- 한쪽 루트를 내어 주고 나머지 두 곳의 깃발을 차지하는 전략\n",
    "\n",
    "#### 카운터 2:1 전략 (60 20 20)\n",
    "- 2:1 전략을 파훼하기 위한 전략으로써 한쪽 루트를 확실하게 차지하고, 나머지 두곳 중 가장 약한 곳을 근소한 차이로 이겨 2:1로 승리하는 전략"
   ]
  },
  {
   "cell_type": "code",
   "execution_count": 29,
   "metadata": {},
   "outputs": [
    {
     "name": "stdout",
     "output_type": "stream",
     "text": [
      "['킬링타임/2414.0', 'Jiwon/2021.0', 'QTR/1909.0', '와이/1866.0', 'big619/1816.0', 'CANCER/1754.0', '제임스/1701.0', 'Taiwanese/1689.0', 'juju/1546.0', 'biscuits/1507.0', '호수공원/1415.0', 'EatSleep/1381.0', 'AKCALI/1376.0', '까마쿤/1370.0', '쏘니/1369.0', 'ShineBrightly/1340.0', '네오/1335.0', '포도봉봉/1326.0', 'Lucid/1307.0', 'TANK/1302.0', '경기도/1300.0', 'Player/1286.0', 'Mong/1283.0', 'Midori/1282.0', 'TW/1280.0', '루트/1277.0', '쪼꼬/1274.0', 'jjeong/1272.0', 'ichi/1262.0', '처음처럼/1258.0', '도진이네/1254.0', 'baby/1246.0', 'miki10/1233.0', '만두라면/1224.0', 'JayHawk/1222.0', 'pooh0701/1220.0', 'BETER/1219.0', 'Winter/1217.1', 'kang/1217.0', 'garuda/1216.0', 'Candy/1213.1', 'Jerry/1213.0', '뜌링/1204.0', '안녕하세요/1202.0', '이청년/1199.0', 'minu/1194.0', 'Xern/1187.0', '싱싱/1186.0', 'joe/1185.0', '으른/1158.0', 'freein00/1149.0', 'Elysia/1128.0', 'namoo/1116.0', 'vanilla/1110.0', 'DOOM/1100.0', 'gghhdd2002/1089.0', 'Scythe/1082.0', '귀요미/1064.0', '토깽이/1027.0', 'Fuhr/1026.0', '차은우/1015.0', 'GloomyAtom/986.0', 'MrHan/962.0', 'Rockstar/959.0', 'Hyun/956.0', '깡깡짱/952.0', 'WinNer/941.0', 'hanna/937.0', '도곡동주민/936.0', 'Justin/927.0', 'Nyx/923.0', 'RGII/922.1', 'Zayn/922.0', 'ANKUR/905.0', 'Siroun/896.0', 'Joycool/858.0', 'Goat/850.0', '현미리/817.0', '축구하는형님/756.0', '콩지/717.0', 'kiwiMelone/710.0', 'LUCLD/616.0', 'Hmmmmm/593.0', '마루/559.0', '테프론/420.0', '']\n"
     ]
    }
   ],
   "source": [
    "# 불러오기\n",
    "\n",
    "with open(\"./lineup.txt\", \"r\") as f:\n",
    "    raw_data = f.readline()\n",
    "f.close()\n",
    "\n",
    "print(raw_data.split(\",\"))\n",
    "\n",
    "lineup = {}\n",
    "for i in raw_data.split(\",\")[:-1]:\n",
    "    name, combat_power = i.split(\"/\")\n",
    "    lineup[name] = float(combat_power)"
   ]
  },
  {
   "cell_type": "code",
   "execution_count": 2,
   "metadata": {},
   "outputs": [],
   "source": [
    "lineup = {}"
   ]
  },
  {
   "cell_type": "code",
   "execution_count": 10,
   "metadata": {},
   "outputs": [],
   "source": [
    "# 업데이트/삭제/추가(삽입)/조회\n",
    "import re\n",
    "\n",
    "switch = True\n",
    "mode = None\n",
    "while switch:\n",
    "    mode = input(\"업데이트(u), 삭제(d), 추가(i), 닫기(q): \")\n",
    "        \n",
    "    if mode == \"q\":  # 중지\n",
    "        switch = False\n",
    "        continue\n",
    "    elif mode == \"u\":\n",
    "        info = None\n",
    "        while info != \"\":\n",
    "            info = input(\"업데이트할 연맹원과 전투력을 입력하세요. 더이상 없다면 Enter를 입력해주세요: \")\n",
    "            if info == \"\":  # 중지\n",
    "                continue\n",
    "            name, power = info.split(\",\")\n",
    "            if lineup.get(name):\n",
    "                lineup.update({f\"{name}\":float(power)})\n",
    "            else:\n",
    "                print(\"연맹원 이름이 올바르지 않습니다. 다시 입력해주세요.\")\n",
    "                print(\"[다른 비슷한 닉네임]\")\n",
    "                for member in lineup.keys():\n",
    "                    if re.search(f\"{name}\", member):\n",
    "                        print(member)\n",
    "    elif mode == \"d\":\n",
    "        name = None\n",
    "        while name != \"\":\n",
    "            name = input(\"삭제할 연맹원을 입력하세요. 더이상 없다면 Enter를 입력해주세요: \")\n",
    "            if name == \"\":  # 중지\n",
    "                continue\n",
    "            elif lineup.get(name):\n",
    "                del lineup[name]\n",
    "            else:\n",
    "                print(\"연맹원 이름이 올바르지 않습니다. 다시 입력해주세요.\")\n",
    "                print(\"[다른 비슷한 닉네임]\")\n",
    "                for member in lineup.keys():\n",
    "                    if re.search(f\"{name}\", member):\n",
    "                        print(member)\n",
    "    elif mode == \"i\":\n",
    "        info = None\n",
    "        while info != \"\":\n",
    "            info = input(\"추가할 연맹원 닉네임과 전투력을 입력하세요. 더이상 없다면 Enter를 입력해주세요: \")\n",
    "            if info == \"\":  # 중지\n",
    "                continue\n",
    "            name, power = info.split(\",\")\n",
    "            lineup[name] = float(power)\n",
    "    sub_switch = True\n",
    "    while sub_switch:\n",
    "        status = input(\"계속하시겠습니까? (y/n): \")\n",
    "        if status in [\"y\", \"Y\", \"yes\", \"YES\", \"Yes\", \"ㅛ\", \"ㅛㄷㄴ\"]:\n",
    "            sub_switch = False\n",
    "        elif status in [\"n\", \"N\", \"no\", \"NO\", \"No\", \"ㅜ\", \"ㅜㅐ\"]:\n",
    "            sub_switch = False\n",
    "            switch = False"
   ]
  },
  {
   "cell_type": "code",
   "execution_count": 11,
   "metadata": {},
   "outputs": [
    {
     "name": "stdout",
     "output_type": "stream",
     "text": [
      "2960.0 2301.0 2179.0 1992.0 1924.0 1877.0 1819.0 1810.0 1767.0 1762.0 1695.0 1653.0 1608.0 1580.0 1527.0 1508.0 1491.0 1421.1 1408.0 1389.0 \n",
      "total: 35671.1\n",
      "2603.0 2487.0 2248.0 2151.0 1891.0 1867.0 1810.1 1803.0 1773.0 1735.0 1697.0 1665.0 1636.0 1564.0 1525.0 1499.1 1499.0 1421.0 1404.0 1393.0 \n",
      "total: 35671.2\n",
      "['킬링타임', 'cancer', 'jiwon', 'taiwanese', '호수공원', 'eatsleep', 'buscuits', 'shine', '네오', 'only6love', 'rockstar', '도진이네', 'adel', 'tank', 'midori', 'baby', '으른', 'hmmmmm', 'joe', 'moshigolf']\n",
      "['와이', '빅', '제임스', 'qtr', '까마쿤', 'Juju', 'player', 'pooh', '쪼꼬', 'blanco', '경기도', '포도봉봉', 'miki', '루트', 'kang', '만두라면', 'jjeong', 'mong', '강현', 'therapzonele']\n"
     ]
    }
   ],
   "source": [
    "# 처리하기\n",
    "lineup_mapping = {k:v for v, k in lineup.items()}\n",
    "\n",
    "# 2:1 전략\n",
    "ordered_combat_powers = sorted(lineup_mapping.keys(), reverse=True)\n",
    "# 카운터 2:1 전략\n",
    "# ordered_combat_powers = sorted(lineup_mapping.keys(), reverse=True)[20:]\n",
    "\n",
    "left_lane, center_lane = [], []\n",
    "\n",
    "for i in ordered_combat_powers:\n",
    "    if not left_lane:\n",
    "        left_lane.append(i)\n",
    "        continue\n",
    "    elif not center_lane:\n",
    "        center_lane.append(i)ㄴㅇㅁㄴㅇ\n",
    "        continue\n",
    "\n",
    "    if sum(left_lane) > sum(center_lane):\n",
    "        center_lane.append(i)\n",
    "    else:\n",
    "        left_lane.append(i)\n",
    "\n",
    "print(*left_lane[:20], f\"\\ntotal: {sum(left_lane[:20])}\")\n",
    "print(*center_lane[:20], f\"\\ntotal: {sum(center_lane[:20])}\")\n",
    "\n",
    "left_lane_members = [lineup_mapping[i] for i in left_lane[:20]]\n",
    "center_lane_members = [lineup_mapping[i] for i in center_lane[:20]]\n",
    "\n",
    "print(left_lane_members)\n",
    "print(center_lane_members)"
   ]
  },
  {
   "cell_type": "code",
   "execution_count": 20,
   "metadata": {},
   "outputs": [],
   "source": [
    "# 저장하기\n",
    "\n",
    "with open(\"./lineup.txt\", \"w\") as f:\n",
    "    for i, j in lineup.items():\n",
    "        f.writelines([i, \"/\", str(j), \",\"])\n",
    "f.close()"
   ]
  },
  {
   "cell_type": "markdown",
   "metadata": {},
   "source": [
    "### 연맹 챔피언십 루트 조정 (부케 연맹)"
   ]
  },
  {
   "cell_type": "code",
   "execution_count": 28,
   "metadata": {},
   "outputs": [
    {
     "name": "stdout",
     "output_type": "stream",
     "text": [
      "34\n",
      "['kang/813.0', 'miminu/781.0', '뽀또봉봉/729.0', 'shinebrightly/757.0', 'Dosirak/566.0', 'garuda/595.0', '손흥민/571.0', '까만콩/636.0', 'Lemon Tree/536.0', 'jiwon2/569.0', 'Emm/537.0', 'Dojin/531.0', 'lee9/430.0', 'hosu2/402.0', 'jiwon3/396.0', 'pooh/281.0', 'lord grim/112.0', 'Ress/385.0', 'Sandy/361.0', 'scream/245.0', 'jjeong2/153.0', '뜌링링/152.0', 'freein99/141.0', 'Rockstar2/119.0', 'Nb2617/110.0', 'bigi/105.0', 'I_U/77.0', '유재석/75.0', 'sniper/58.0', 'singsing/43.0', 'LeviathanDeus/38.0', 'Ofoof/37.0', '탱크보이/36.0', 'neo1/658.0']\n"
     ]
    }
   ],
   "source": [
    "# 불러오기\n",
    "\n",
    "with open(\"./lineup_sub.txt\", \"r\") as f:\n",
    "    raw_data = f.readline()\n",
    "f.close()\n",
    "\n",
    "print(len(raw_data.split(\",\")[:-1]))\n",
    "print(raw_data.split(\",\")[:-1])\n",
    "\n",
    "lineup_sub = {}\n",
    "for i in raw_data.split(\",\")[:-1]:\n",
    "    name, combat_power = i.split(\"/\")\n",
    "    lineup_sub[name] = float(combat_power)"
   ]
  },
  {
   "cell_type": "code",
   "execution_count": 13,
   "metadata": {},
   "outputs": [],
   "source": [
    "lineup_sub = {}"
   ]
  },
  {
   "cell_type": "code",
   "execution_count": 16,
   "metadata": {},
   "outputs": [],
   "source": [
    "# 업데이트/삭제/추가(삽입)/조회\n",
    "import re\n",
    "\n",
    "switch = True\n",
    "mode = None\n",
    "while switch:\n",
    "    mode = input(\"업데이트(u), 삭제(d), 추가(i), 닫기(q): \")\n",
    "        \n",
    "    if mode == \"q\":  # 중지\n",
    "        switch = False\n",
    "        continue\n",
    "    elif mode == \"u\":\n",
    "        info = None\n",
    "        while info != \"\":\n",
    "            info = input(\"업데이트할 연맹원과 전투력을 입력하세요. 더이상 없다면 Enter를 입력해주세요: \")\n",
    "            if info == \"\":  # 중지\n",
    "                continue\n",
    "            name, power = info.split(\",\")\n",
    "            if lineup_sub.get(name):\n",
    "                lineup_sub.update({f\"{name}\":float(power)})\n",
    "            else:\n",
    "                print(\"연맹원 이름이 올바르지 않습니다. 다시 입력해주세요.\")\n",
    "                print(\"[다른 비슷한 닉네임]\")\n",
    "                for member in lineup_sub.keys():\n",
    "                    if re.search(f\"{name}\", member):\n",
    "                        print(member)\n",
    "    elif mode == \"d\":\n",
    "        name = None\n",
    "        while name != \"\":\n",
    "            name = input(\"삭제할 연맹원을 입력하세요. 더이상 없다면 Enter를 입력해주세요: \")\n",
    "            if name == \"\":  # 중지\n",
    "                continue\n",
    "            elif lineup_sub.get(name):\n",
    "                del lineup_sub[name]\n",
    "            else:\n",
    "                print(\"연맹원 이름이 올바르지 않습니다. 다시 입력해주세요.\")\n",
    "                print(\"[다른 비슷한 닉네임]\")\n",
    "                for member in lineup_sub.keys():\n",
    "                    if re.search(f\"{name}\", member):\n",
    "                        print(member)\n",
    "    elif mode == \"i\":\n",
    "        info = None\n",
    "        while info != \"\":\n",
    "            info = input(\"추가할 연맹원 닉네임과 전투력을 입력하세요. 더이상 없다면 Enter를 입력해주세요: \")\n",
    "            if info == \"\":  # 중지\n",
    "                continue\n",
    "            name, power = info.split(\",\")\n",
    "            lineup_sub[name] = float(power)\n",
    "    sub_switch = True\n",
    "    while sub_switch:\n",
    "        status = input(\"계속하시겠습니까? (y/n): \")\n",
    "        if status in [\"y\", \"Y\", \"yes\", \"YES\", \"Yes\", \"ㅛ\", \"ㅛㄷㄴ\"]:\n",
    "            sub_switch = False\n",
    "        elif status in [\"n\", \"N\", \"no\", \"NO\", \"No\", \"ㅜ\", \"ㅜㅐ\"]:\n",
    "            sub_switch = False\n",
    "            switch = False"
   ]
  },
  {
   "cell_type": "code",
   "execution_count": 18,
   "metadata": {},
   "outputs": [
    {
     "name": "stdout",
     "output_type": "stream",
     "text": [
      "1230.0 1036.0 944.0 932.0 901.0 893.0 808.0 799.0 766.0 738.0 708.0 682.0 678.0 612.0 609.0 563.0 515.0 504.0 323.0 187.0 \n",
      "total: 14428.0\n",
      "1129.0 1096.0 994.0 931.0 900.0 869.0 832.0 788.0 778.0 716.0 710.0 699.0 668.0 659.0 574.0 540.0 533.0 466.0 342.0 205.0 \n",
      "total: 14429.0\n",
      "['kang', 'qtr', '까만콩', 'shine', 'neo', 'emmmmm', 'dojin', '탱크보이', 'freein', 'dosirak', 'gogo', 'bigi', 'jiwon3', 'singsing', 'Wk', '크크크', '경기도민', 'goni', 'rockstar', '락토']\n",
      "['뽀또봉봉', 'garuda', '참이슬', 'momo', 'omana', 'lemon', 'ress', 'jiwon', 'hosu', '워킹데드', 'mehmeet', 'pooh', '유재석', 'jjeong', 'moshi2me', 'load grim', 'only6love', 'nb2617', '우리집', '소연']\n"
     ]
    }
   ],
   "source": [
    "# 처리하기\n",
    "lineup_mapping = {k:v for v, k in lineup_sub.items()}\n",
    "ordered_combat_powers = sorted(lineup_mapping.keys(), reverse=True)\n",
    "\n",
    "left_lane, center_lane = [], []\n",
    "\n",
    "for i in ordered_combat_powers:\n",
    "    if not left_lane:\n",
    "        left_lane.append(i)\n",
    "        continue\n",
    "    elif not center_lane:\n",
    "        center_lane.append(i)\n",
    "        continue\n",
    "\n",
    "    if sum(left_lane) > sum(center_lane):\n",
    "        center_lane.append(i)\n",
    "    else:\n",
    "        left_lane.append(i)\n",
    "\n",
    "print(*left_lane, f\"\\ntotal: {sum(left_lane)}\")\n",
    "print(*center_lane, f\"\\ntotal: {sum(center_lane)}\")\n",
    "\n",
    "left_lane_members = [lineup_mapping[i] for i in left_lane]\n",
    "center_lane_members = [lineup_mapping[i] for i in center_lane]\n",
    "\n",
    "print(left_lane_members)\n",
    "print(center_lane_members)"
   ]
  },
  {
   "cell_type": "code",
   "execution_count": 77,
   "metadata": {},
   "outputs": [],
   "source": [
    "# 저장하기\n",
    "\n",
    "with open(\"./lineup_sub.txt\", \"w\") as f:\n",
    "    for i, j in lineup_sub.items():\n",
    "        f.writelines([i, \"/\", str(j), \",\"])\n",
    "f.close()"
   ]
  },
  {
   "cell_type": "code",
   "execution_count": 20,
   "metadata": {},
   "outputs": [
    {
     "data": {
      "text/plain": [
       "160"
      ]
     },
     "execution_count": 20,
     "metadata": {},
     "output_type": "execute_result"
    }
   ],
   "source": [
    "9*16 + 8*2"
   ]
  },
  {
   "cell_type": "markdown",
   "metadata": {},
   "source": [
    "attack: 300, buff: damage dealt +25%, attack +75%\n",
    "\n",
    "attack: 300, buff: damage dealt +50%, attack +50%\n",
    "\n",
    "attack: 300, buff: damage dealt +75%, attack +25%\n",
    "\n",
    "attack: 300, buff: damage dealt +100%\n",
    "\n",
    "attack: 300, buff: attack +100%"
   ]
  },
  {
   "cell_type": "code",
   "execution_count": 63,
   "metadata": {},
   "outputs": [
    {
     "name": "stdout",
     "output_type": "stream",
     "text": [
      "attack: 300\n",
      "buff: damage dealt+0%, attack+100%\n",
      "result: 600\n",
      "\n",
      "attack: 300\n",
      "buff: damage dealt+25.0%, attack+75.0%\n",
      "result: 656.25\n",
      "\n",
      "attack: 300\n",
      "buff: damage dealt+50.0%, attack+50.0%\n",
      "result: 675.0\n",
      "\n",
      "attack: 300\n",
      "buff: damage dealt+75.0%, attack+25.0%\n",
      "result: 656.25\n",
      "\n",
      "attack: 300\n",
      "buff: damage dealt+100%, attack+0%\n",
      "result: 600\n",
      "\n"
     ]
    }
   ],
   "source": [
    "attack = 300\n",
    "damage_dealt = [0, 0.25, 0.5, 0.75, 1]\n",
    "attack_power = [1, 0.75, 0.5, 0.25, 0]\n",
    "\n",
    "for d, a in zip(damage_dealt, attack_power):\n",
    "    redution = attack + (attack*a)\n",
    "    result = redution + (redution*d)\n",
    "    print(f\"attack: {attack}\\nbuff: damage dealt+{d*100}%, attack+{a*100}%\\nresult: {result}\")\n",
    "    print()"
   ]
  },
  {
   "cell_type": "code",
   "execution_count": 2,
   "metadata": {},
   "outputs": [
    {
     "name": "stdout",
     "output_type": "stream",
     "text": [
      "9973.5 28227.5 2084.0 24980.5\n"
     ]
    }
   ],
   "source": [
    "lancer1 = 19947\n",
    "lancer2 = 56455\n",
    "archer1 = 4168\n",
    "archer2 = 49961\n",
    "\n",
    "print(lancer1/2, lancer2/2, archer1/2, archer2/2)"
   ]
  },
  {
   "cell_type": "code",
   "execution_count": null,
   "metadata": {},
   "outputs": [],
   "source": []
  },
  {
   "cell_type": "code",
   "execution_count": null,
   "metadata": {},
   "outputs": [],
   "source": []
  },
  {
   "cell_type": "code",
   "execution_count": null,
   "metadata": {},
   "outputs": [],
   "source": []
  },
  {
   "cell_type": "code",
   "execution_count": null,
   "metadata": {},
   "outputs": [],
   "source": []
  },
  {
   "cell_type": "code",
   "execution_count": null,
   "metadata": {},
   "outputs": [],
   "source": []
  },
  {
   "cell_type": "code",
   "execution_count": null,
   "metadata": {},
   "outputs": [],
   "source": []
  },
  {
   "cell_type": "code",
   "execution_count": null,
   "metadata": {},
   "outputs": [],
   "source": []
  },
  {
   "cell_type": "code",
   "execution_count": 19,
   "metadata": {},
   "outputs": [
    {
     "name": "stdout",
     "output_type": "stream",
     "text": [
      "1.73 µs ± 48.9 ns per loop (mean ± std. dev. of 7 runs, 1,000,000 loops each)\n"
     ]
    }
   ],
   "source": [
    "def solution(my_string):\n",
    "    return sum(map(int, filter(lambda x: x.isdigit(), my_string)))\n",
    "\n",
    "my_string = \"aAb1B2cC34oOp\"\n",
    "%timeit solution(my_string)"
   ]
  },
  {
   "cell_type": "code",
   "execution_count": 18,
   "metadata": {},
   "outputs": [
    {
     "name": "stdout",
     "output_type": "stream",
     "text": [
      "1.19 µs ± 40 ns per loop (mean ± std. dev. of 7 runs, 1,000,000 loops each)\n"
     ]
    }
   ],
   "source": [
    "def solution(my_string):\n",
    "    answer = 0\n",
    "    for s in my_string:\n",
    "        if s.isdigit():\n",
    "            answer += int(s)\n",
    "    return answer\n",
    "\n",
    "my_string = \"aAb1B2cC34oOp\"\n",
    "%timeit solution(my_string)"
   ]
  },
  {
   "cell_type": "code",
   "execution_count": 26,
   "metadata": {},
   "outputs": [
    {
     "data": {
      "text/plain": [
       "0"
      ]
     },
     "execution_count": 26,
     "metadata": {},
     "output_type": "execute_result"
    }
   ],
   "source": [
    "def solution(arr1, arr2):\n",
    "    if len(arr1) == len(arr2):\n",
    "        if sum(arr1) == sum(arr2):\n",
    "            return 0\n",
    "        else:\n",
    "            return (sum(arr1) > sum(arr2))*2 - 1\n",
    "    else:\n",
    "        return (len(arr1) > len(arr2))*2 - 1\n",
    "\n",
    "# solution([100, 17, 84, 1], [55, 12, 65, 36])\n",
    "solution([1, 2, 3, 4, 5], [3, 3, 3, 3, 3])"
   ]
  },
  {
   "cell_type": "code",
   "execution_count": 33,
   "metadata": {},
   "outputs": [
    {
     "data": {
      "text/plain": [
       "'prograrnrners'"
      ]
     },
     "execution_count": 33,
     "metadata": {},
     "output_type": "execute_result"
    }
   ],
   "source": [
    "def solution(rny_string):\n",
    "    return rny_string.replace(\"m\", \"rn\")\n",
    "\n",
    "solution(\"programmers\")"
   ]
  },
  {
   "cell_type": "code",
   "execution_count": null,
   "metadata": {},
   "outputs": [
    {
     "data": {
      "text/plain": [
       "'i    love  you'"
      ]
     },
     "execution_count": 37,
     "metadata": {},
     "output_type": "execute_result"
    }
   ],
   "source": [
    "def solution(my_string):\n",
    "    return my_string.strip()\n",
    "\n",
    "solution(\" i    love  you\")"
   ]
  },
  {
   "cell_type": "code",
   "execution_count": null,
   "metadata": {},
   "outputs": [
    {
     "data": {
      "text/plain": [
       "'i love you'"
      ]
     },
     "execution_count": 54,
     "metadata": {},
     "output_type": "execute_result"
    }
   ],
   "source": [
    "my_string = \" i    love  you\"\n",
    "a = \n",
    "a"
   ]
  },
  {
   "cell_type": "code",
   "execution_count": 43,
   "metadata": {},
   "outputs": [
    {
     "data": {
      "text/plain": [
       "'programmers'"
      ]
     },
     "execution_count": 43,
     "metadata": {},
     "output_type": "execute_result"
    }
   ],
   "source": [
    "\"    programmers  \".strip()"
   ]
  },
  {
   "cell_type": "code",
   "execution_count": 58,
   "metadata": {},
   "outputs": [
    {
     "data": {
      "text/plain": [
       "120"
      ]
     },
     "execution_count": 58,
     "metadata": {},
     "output_type": "execute_result"
    }
   ],
   "source": [
    "from functools import reduce\n",
    "\n",
    "\n",
    "def solution(num_list):\n",
    "    return sum(num_list) if len(num_list) >= 11 else reduce(lambda x, y: x*y, num_list)\n",
    "\n",
    "solution([2, 3, 4, 5])"
   ]
  },
  {
   "cell_type": "code",
   "execution_count": 69,
   "metadata": {},
   "outputs": [
    {
     "data": {
      "text/plain": [
       "239"
      ]
     },
     "execution_count": 69,
     "metadata": {},
     "output_type": "execute_result"
    }
   ],
   "source": [
    "def solution(numbers, n):\n",
    "    answer = 0\n",
    "    i = 0\n",
    "    while answer <= n:\n",
    "        answer += numbers[i]\n",
    "        i += 1\n",
    "    return answer\n",
    "\n",
    "solution([58, 44, 27, 10, 100], 139)"
   ]
  },
  {
   "cell_type": "code",
   "execution_count": null,
   "metadata": {},
   "outputs": [],
   "source": [
    "def solution(num_list, n):\n",
    "    if not isinstance(num_list, list) : raise TypeError(num_list)\n",
    "    if not isinstance(n, int) : raise TypeError(n)\n",
    "\n",
    "    if not (2 <= len(num_list) <= 30) : raise ValueError(num_list)\n",
    "    if not (1 <= n <= len(num_list)) : raise ValueError(num_list, n)\n",
    "\n",
    "    if not all(isinstance(num, int) for num in num_list) : raise TypeError(num_list)\n",
    "    if not all(1 <= num <= 9 for num in num_list) : raise ValueError(num_list)\n",
    "\n",
    "    return num_list[n:] + num_list[:n]\n"
   ]
  },
  {
   "cell_type": "code",
   "execution_count": null,
   "metadata": {},
   "outputs": [
    {
     "ename": "TypeError",
     "evalue": "abd",
     "output_type": "error",
     "traceback": [
      "\u001b[0;31m---------------------------------------------------------------------------\u001b[0m",
      "\u001b[0;31mTypeError\u001b[0m                                 Traceback (most recent call last)",
      "Cell \u001b[0;32mIn[72], line 10\u001b[0m\n\u001b[1;32m      7\u001b[0m     \u001b[38;5;28;01mif\u001b[39;00m \u001b[38;5;129;01mnot\u001b[39;00m \u001b[38;5;28mall\u001b[39m(\u001b[38;5;241m1\u001b[39m \u001b[38;5;241m<\u001b[39m\u001b[38;5;241m=\u001b[39m number \u001b[38;5;241m<\u001b[39m\u001b[38;5;241m=\u001b[39m \u001b[38;5;241m9\u001b[39m \u001b[38;5;28;01mfor\u001b[39;00m number \u001b[38;5;129;01min\u001b[39;00m num_list): \u001b[38;5;28;01mraise\u001b[39;00m \u001b[38;5;167;01mValueError\u001b[39;00m(num_list)\n\u001b[1;32m      8\u001b[0m     \u001b[38;5;28;01mreturn\u001b[39;00m num_list[n\u001b[38;5;241m-\u001b[39m\u001b[38;5;241m1\u001b[39m:]\n\u001b[0;32m---> 10\u001b[0m \u001b[43msolution\u001b[49m\u001b[43m(\u001b[49m\u001b[38;5;124;43m\"\u001b[39;49m\u001b[38;5;124;43mabd\u001b[39;49m\u001b[38;5;124;43m\"\u001b[39;49m\u001b[43m,\u001b[49m\u001b[43m \u001b[49m\u001b[38;5;241;43m3\u001b[39;49m\u001b[43m)\u001b[49m\n",
      "Cell \u001b[0;32mIn[72], line 2\u001b[0m, in \u001b[0;36msolution\u001b[0;34m(num_list, n)\u001b[0m\n\u001b[1;32m      1\u001b[0m \u001b[38;5;28;01mdef\u001b[39;00m \u001b[38;5;21msolution\u001b[39m(num_list, n):\n\u001b[0;32m----> 2\u001b[0m     \u001b[38;5;28;01mif\u001b[39;00m \u001b[38;5;129;01mnot\u001b[39;00m \u001b[38;5;28misinstance\u001b[39m(num_list, \u001b[38;5;28mlist\u001b[39m): \u001b[38;5;28;01mraise\u001b[39;00m \u001b[38;5;167;01mTypeError\u001b[39;00m(num_list)\n\u001b[1;32m      3\u001b[0m     \u001b[38;5;28;01mif\u001b[39;00m \u001b[38;5;129;01mnot\u001b[39;00m \u001b[38;5;28misinstance\u001b[39m(n, \u001b[38;5;28mint\u001b[39m): \u001b[38;5;28;01mraise\u001b[39;00m \u001b[38;5;167;01mTypeError\u001b[39;00m(n)\n\u001b[1;32m      4\u001b[0m     \u001b[38;5;28;01mif\u001b[39;00m \u001b[38;5;129;01mnot\u001b[39;00m \u001b[38;5;241m2\u001b[39m \u001b[38;5;241m<\u001b[39m\u001b[38;5;241m=\u001b[39m \u001b[38;5;28mlen\u001b[39m(num_list) \u001b[38;5;241m<\u001b[39m\u001b[38;5;241m=\u001b[39m \u001b[38;5;241m30\u001b[39m: \u001b[38;5;28;01mraise\u001b[39;00m \u001b[38;5;167;01mValueError\u001b[39;00m(num_list)\n",
      "\u001b[0;31mTypeError\u001b[0m: abd"
     ]
    }
   ],
   "source": [
    "def solution(num_list, n):\n",
    "    if not isinstance(num_list, list): raise TypeError(num_list)\n",
    "    if not isinstance(n, int): raise TypeError(n)\n",
    "    if not (2 <= len(num_list) <= 30): raise ValueError(num_list)\n",
    "    if not (1 <= n <= len(num_list)): raise ValueError(num_list, n)\n",
    "    if not all(isinstance(number, int) for number in num_list): raise TypeError(num_list)\n",
    "    if not all(1 <= number <= 9 for number in num_list): raise ValueError(num_list)\n",
    "    return num_list[n-1:]\n",
    "\n",
    "solution(\"abd\", 3)"
   ]
  },
  {
   "cell_type": "code",
   "execution_count": 87,
   "metadata": {},
   "outputs": [
    {
     "data": {
      "text/plain": [
       "'abcghi'"
      ]
     },
     "execution_count": 87,
     "metadata": {},
     "output_type": "execute_result"
    }
   ],
   "source": [
    "def solution(str_list, ex):\n",
    "    return \"\".join(string for string in str_list if ex not in string)\n",
    "\n",
    "solution([\"abc\", \"def\", \"ghi\"], \"ef\")"
   ]
  },
  {
   "cell_type": "code",
   "execution_count": 90,
   "metadata": {},
   "outputs": [
    {
     "data": {
      "text/plain": [
       "{1, 66, 110, 439, 785}"
      ]
     },
     "execution_count": 90,
     "metadata": {},
     "output_type": "execute_result"
    }
   ],
   "source": [
    "set1 = set([110, 66, 439, 785, 1])\n",
    "set2 = set([377, 823, 119, 43])\n",
    "set1 - set2"
   ]
  },
  {
   "cell_type": "code",
   "execution_count": 91,
   "metadata": {},
   "outputs": [
    {
     "data": {
      "text/plain": [
       "0"
      ]
     },
     "execution_count": 91,
     "metadata": {},
     "output_type": "execute_result"
    }
   ],
   "source": [
    "arr = [49, 12, 100, 276, 33]\n",
    "mode = [1, 0][len(arr) % 2]\n",
    "mode"
   ]
  },
  {
   "cell_type": "code",
   "execution_count": 93,
   "metadata": {},
   "outputs": [
    {
     "data": {
      "text/plain": [
       "[49, 12, 100, 276, 33]"
      ]
     },
     "execution_count": 93,
     "metadata": {},
     "output_type": "execute_result"
    }
   ],
   "source": [
    "a = []\n",
    "arr = [49, 12, 100, 276, 33]\n",
    "a.extend(arr)\n",
    "a"
   ]
  },
  {
   "cell_type": "code",
   "execution_count": 96,
   "metadata": {},
   "outputs": [
    {
     "data": {
      "text/plain": [
       "(65, 66)"
      ]
     },
     "execution_count": 96,
     "metadata": {},
     "output_type": "execute_result"
    }
   ],
   "source": [
    "ord(\"A\"), ord(\"B\")"
   ]
  },
  {
   "cell_type": "code",
   "execution_count": null,
   "metadata": {},
   "outputs": [
    {
     "data": {
      "text/plain": [
       "1"
      ]
     },
     "execution_count": 105,
     "metadata": {},
     "output_type": "execute_result"
    }
   ],
   "source": [
    "def solution(numbers):\n",
    "    answer = 0\n",
    "    for i_idx, i in enumerate(numbers):\n",
    "        for j_idx, j in enumerate(numbers):\n",
    "            if (i != j or i_idx != j_idx) and i*j > answer:\n",
    "                answer = i*j\n",
    "    return answer\n",
    "\n",
    "solution([1, 1])"
   ]
  },
  {
   "cell_type": "code",
   "execution_count": 114,
   "metadata": {},
   "outputs": [
    {
     "data": {
      "text/plain": [
       "[10, 5, 16, 8, 4, 2, 1]"
      ]
     },
     "execution_count": 114,
     "metadata": {},
     "output_type": "execute_result"
    }
   ],
   "source": [
    "def solution(n):\n",
    "    if not isinstance(n, int): raise TypeError(n)\n",
    "    if not (1 <= n <= 1000): raise ValueError(n)\n",
    "    \n",
    "    answer = [n]\n",
    "    while n > 1:\n",
    "        if n%2:\n",
    "            answer.append(n := 3*n+1)\n",
    "        else:\n",
    "            answer.append(n := n//2)\n",
    "    return answer\n",
    "\n",
    "solution(10)"
   ]
  },
  {
   "cell_type": "code",
   "execution_count": 118,
   "metadata": {},
   "outputs": [
    {
     "data": {
      "text/plain": [
       "45"
      ]
     },
     "execution_count": 118,
     "metadata": {},
     "output_type": "execute_result"
    }
   ],
   "source": [
    "from functools import reduce\n",
    "\n",
    "def solution(num_str):\n",
    "    return reduce(lambda x, y: int(x)+int(y), num_str)\n",
    "\n",
    "solution(\"123456789\")"
   ]
  },
  {
   "cell_type": "code",
   "execution_count": null,
   "metadata": {},
   "outputs": [
    {
     "data": {
      "text/plain": [
       "12"
      ]
     },
     "execution_count": 125,
     "metadata": {},
     "output_type": "execute_result"
    }
   ],
   "source": []
  },
  {
   "cell_type": "code",
   "execution_count": 146,
   "metadata": {},
   "outputs": [
    {
     "name": "stdout",
     "output_type": "stream",
     "text": [
      "8.48 µs ± 17.2 ns per loop (mean ± std. dev. of 7 runs, 100,000 loops each)\n"
     ]
    }
   ],
   "source": [
    "def solution(n):\n",
    "    answer = []\n",
    "    for i in range(1, int(n**0.5)+1):\n",
    "        if not n%i:\n",
    "            answer.append(i)\n",
    "            answer.append(n//i)\n",
    "    return len(answer)-1 if int(n**.5) == n**.5 else len(answer)\n",
    "\n",
    "%timeit solution(1000)"
   ]
  },
  {
   "cell_type": "code",
   "execution_count": 147,
   "metadata": {},
   "outputs": [
    {
     "name": "stdout",
     "output_type": "stream",
     "text": [
      "5.95 µs ± 200 ns per loop (mean ± std. dev. of 7 runs, 100,000 loops each)\n"
     ]
    }
   ],
   "source": [
    "def solution(n):\n",
    "    answer = 0\n",
    "    for i in range(1, int(n**0.5)+1):\n",
    "        if not n%i:\n",
    "            answer += 2\n",
    "    return answer - 1*(int(n**.5) == n**.5)\n",
    "\n",
    "%timeit solution(1000)"
   ]
  },
  {
   "cell_type": "code",
   "execution_count": null,
   "metadata": {},
   "outputs": [],
   "source": []
  },
  {
   "cell_type": "code",
   "execution_count": 231,
   "metadata": {},
   "outputs": [
    {
     "data": {
      "text/plain": [
       "[[1, 0, 0], [0, 1, 0], [0, 0, 1]]"
      ]
     },
     "execution_count": 231,
     "metadata": {},
     "output_type": "execute_result"
    }
   ],
   "source": [
    "def solution(n):\n",
    "    answer = [[0 for _ in range(n)] for _ in range(n)]\n",
    "    for i in range(n):\n",
    "        answer[i][i] = 1\n",
    "    return answer\n",
    "\n",
    "solution(3)"
   ]
  },
  {
   "cell_type": "code",
   "execution_count": 243,
   "metadata": {},
   "outputs": [
    {
     "data": {
      "text/plain": [
       "8"
      ]
     },
     "execution_count": 243,
     "metadata": {},
     "output_type": "execute_result"
    }
   ],
   "source": [
    "def solution(n):\n",
    "    answer = 0\n",
    "    for i in range(4, n+1):\n",
    "        count = 0\n",
    "        for j in range(1, int(i**.5)+1):\n",
    "            if not i%j:\n",
    "                count += 2\n",
    "        if int(i**.5) == i**.5:\n",
    "            count -= 1\n",
    "        if count >= 3:\n",
    "            answer += 1\n",
    "    return answer\n",
    "\n",
    "solution(15)"
   ]
  },
  {
   "cell_type": "code",
   "execution_count": 249,
   "metadata": {},
   "outputs": [
    {
     "data": {
      "text/plain": [
       "['a', 'b']"
      ]
     },
     "execution_count": 249,
     "metadata": {},
     "output_type": "execute_result"
    }
   ],
   "source": [
    "def solution(myString):\n",
    "    return sorted(i for i in myString.strip(\"x\").split(\"x\") if i != \"\")\n",
    "\n",
    "myString = \"axxbxx\"\n",
    "solution(myString)"
   ]
  },
  {
   "cell_type": "code",
   "execution_count": null,
   "metadata": {},
   "outputs": [
    {
     "data": {
      "text/plain": [
       "'happy'"
      ]
     },
     "execution_count": 261,
     "metadata": {},
     "output_type": "execute_result"
    }
   ],
   "source": [
    "def solution(my_string, m, c):\n",
    "    return \n",
    "\n",
    "solution(\"ihrhbakrfpndopljhygc\", 4, 2)\n",
    "\"ihrh\"\n",
    "\"bakr\"\n",
    "\"fpnd\"\n",
    "\"oplj\"\n",
    "\"hygc\""
   ]
  },
  {
   "cell_type": "code",
   "execution_count": 265,
   "metadata": {},
   "outputs": [
    {
     "name": "stdout",
     "output_type": "stream",
     "text": [
      "1\n",
      "2\n",
      "3\n",
      "4\n",
      "5\n",
      "20 4\n"
     ]
    }
   ],
   "source": [
    "a = \"ihrhbakrfpndopljhygc\"\n",
    "m = 4\n",
    "c = 2\n",
    "for i in range(1, len(a)//m+1):\n",
    "    print(i)\n",
    "print(len(a), m)"
   ]
  },
  {
   "cell_type": "code",
   "execution_count": null,
   "metadata": {},
   "outputs": [],
   "source": []
  }
 ],
 "metadata": {
  "kernelspec": {
   "display_name": "base",
   "language": "python",
   "name": "python3"
  },
  "language_info": {
   "codemirror_mode": {
    "name": "ipython",
    "version": 3
   },
   "file_extension": ".py",
   "mimetype": "text/x-python",
   "name": "python",
   "nbconvert_exporter": "python",
   "pygments_lexer": "ipython3",
   "version": "3.10.13"
  }
 },
 "nbformat": 4,
 "nbformat_minor": 2
}
