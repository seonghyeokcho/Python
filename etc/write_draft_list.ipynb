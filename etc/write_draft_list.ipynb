{
 "cells": [
  {
   "cell_type": "code",
   "execution_count": 74,
   "metadata": {},
   "outputs": [],
   "source": [
    "import os\n",
    "from datetime import datetime\n",
    "import openpyxl\n",
    "\n",
    "path = \"\"\n",
    "\n",
    "files = [f for f in os.listdir(path) if f.endswith('.docx')]\n",
    "\n",
    "dates = []\n",
    "names = []\n",
    "for f in files:\n",
    "    date_str, name = f.split(\"_\")\n",
    "    date = datetime.strptime(date_str, \"%Y%m%d\")\n",
    "    dates.append(date.strftime(\"%Y-%m-%d\"))\n",
    "    names.append(name[:-5])\n",
    "\n",
    "wb = openpyxl.load_workbook(path + \"draft_list.xlsx\", data_only=True)\n",
    "sheet = wb.active\n",
    "\n",
    "for row, (date, name) in enumerate(zip(dates, names), start=4):\n",
    "    sheet[f'C{row}'] = date\n",
    "    sheet[f'D{row}'] = name\n",
    "\n",
    "wb.save(path + \"draft_list.xlsx\")"
   ]
  },
  {
   "cell_type": "code",
   "execution_count": null,
   "metadata": {},
   "outputs": [],
   "source": []
  }
 ],
 "metadata": {
  "kernelspec": {
   "display_name": "base",
   "language": "python",
   "name": "python3"
  },
  "language_info": {
   "codemirror_mode": {
    "name": "ipython",
    "version": 3
   },
   "file_extension": ".py",
   "mimetype": "text/x-python",
   "name": "python",
   "nbconvert_exporter": "python",
   "pygments_lexer": "ipython3",
   "version": "3.10.13"
  },
  "orig_nbformat": 4
 },
 "nbformat": 4,
 "nbformat_minor": 2
}
