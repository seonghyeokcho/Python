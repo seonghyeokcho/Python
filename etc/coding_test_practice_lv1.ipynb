{
 "cells": [
  {
   "cell_type": "markdown",
   "metadata": {},
   "source": [
    "## 소수 만들기\n",
    "- 문제 설명\n",
    "    - 주어진 숫자 중 3개의 수를 더했을 때 소수가 되는 경우의 개수를 구하려고 합니다.\n",
    "    - 숫자들이 들어있는 배열 nums가 매개변수로 주어질 때,\n",
    "    - nums에 있는 숫자들 중 서로 다른 3개를 골라 더했을 때\n",
    "    - 소수가 되는 경우의 개수를 return 하도록 solution 함수를 완성해주세요.\n",
    "- 제한 사항\n",
    "    - nums에 들어있는 숫자의 개수는 3개 이상 50개 이하입니다.\n",
    "    - nums의 각 원소는 1 이상 1,000 이하의 자연수이며, 중복된 숫자가 들어있지 않습니다."
   ]
  },
  {
   "cell_type": "code",
   "execution_count": 68,
   "metadata": {},
   "outputs": [
    {
     "name": "stdout",
     "output_type": "stream",
     "text": [
      "CPU times: user 27 µs, sys: 1 µs, total: 28 µs\n",
      "Wall time: 31.9 µs\n"
     ]
    },
    {
     "data": {
      "text/plain": [
       "1"
      ]
     },
     "execution_count": 68,
     "metadata": {},
     "output_type": "execute_result"
    }
   ],
   "source": [
    "from itertools import combinations\n",
    "\n",
    "\n",
    "def solution(nums):\n",
    "    answer = 0\n",
    "    \n",
    "    for i in map(sum, combinations(nums, 3)):\n",
    "        for j in range(2, int(i**(1/2)) + 1):\n",
    "            if not i%j:\n",
    "                break\n",
    "        else:\n",
    "            answer += 1\n",
    "            \n",
    "    return answer\n",
    "\n",
    "%time solution([1,2,3,4])"
   ]
  },
  {
   "cell_type": "code",
   "execution_count": 59,
   "metadata": {},
   "outputs": [
    {
     "name": "stdout",
     "output_type": "stream",
     "text": [
      "CPU times: user 55 µs, sys: 4 µs, total: 59 µs\n",
      "Wall time: 62.2 µs\n"
     ]
    },
    {
     "data": {
      "text/plain": [
       "1"
      ]
     },
     "execution_count": 59,
     "metadata": {},
     "output_type": "execute_result"
    }
   ],
   "source": [
    "import math\n",
    "from itertools import combinations\n",
    "def solution(nums):\n",
    "    return list(map(lambda x : all((x%i for i in range(2, int(math.sqrt(x))+1))), (map(sum,combinations(nums, 3))))).count(True)\n",
    "\n",
    "%time solution([1,2,3,4])"
   ]
  },
  {
   "cell_type": "markdown",
   "metadata": {},
   "source": [
    "## 폰켓몬\n",
    "- 문제 설명\n",
    "    - 당신은 폰켓몬을 잡기 위한 오랜 여행 끝에, 홍 박사님의 연구실에 도착했습니다.\n",
    "    - 홍 박사님은 당신에게 자신의 연구실에 있는 총 N 마리의 폰켓몬 중에서 N/2마리를 가져가도 좋다고 했습니다.\n",
    "    - 홍 박사님 연구실의 폰켓몬은 종류에 따라 번호를 붙여 구분합니다.\n",
    "    - 따라서 같은 종류의 폰켓몬은 같은 번호를 가지고 있습니다.\n",
    "    - 예를 들어 연구실에 총 4마리의 폰켓몬이 있고, 각 폰켓몬의 종류 번호가 [3번, 1번, 2번, 3번]이라면\n",
    "    - 이는 3번 폰켓몬 두 마리, 1번 폰켓몬 한 마리, 2번 폰켓몬 한 마리가 있음을 나타냅니다.\n",
    "    - 이때, 4마리의 폰켓몬 중 2마리를 고르는 방법은 다음과 같이 6가지가 있습니다.\n",
    "        - 첫 번째(3번), 두 번째(1번) 폰켓몬을 선택\n",
    "        - 첫 번째(3번), 세 번째(2번) 폰켓몬을 선택\n",
    "        - 첫 번째(3번), 네 번째(3번) 폰켓몬을 선택\n",
    "        - 두 번째(1번), 세 번째(2번) 폰켓몬을 선택\n",
    "        - 두 번째(1번), 네 번째(3번) 폰켓몬을 선택\n",
    "        - 세 번째(2번), 네 번째(3번) 폰켓몬을 선택\n",
    "    - 이때, 첫 번째(3번) 폰켓몬과 네 번째(3번) 폰켓몬을 선택하는 방법은 한 종류(3번 폰켓몬 두 마리)의 폰켓몬만\n",
    "    - 가질 수 있지만, 다른 방법들은 모두 두 종류의 폰켓몬을 가질 수 있습니다.\n",
    "    - 따라서 위 예시에서 가질 수 있는 폰켓몬 종류 수의 최댓값은 2가 됩니다.\n",
    "    - 당신은 최대한 다양한 종류의 폰켓몬을 가지길 원하기 때문에, 최대한 많은 종류의 폰켓몬을 포함해서\n",
    "    - N/2마리를 선택하려 합니다. N마리 폰켓몬의 종류 번호가 담긴 배열 nums가 매개변수로 주어질 때,\n",
    "    - N/2마리의 폰켓몬을 선택하는 방법 중, 가장 많은 종류의 폰켓몬을 선택하는 방법을 찾아,\n",
    "    - 그때의 폰켓몬 종류 번호의 개수를 return 하도록 solution 함수를 완성해주세요.\n",
    "\n",
    "- 제한사항\n",
    "    - nums는 폰켓몬의 종류 번호가 담긴 1차원 배열입니다.\n",
    "    - nums의 길이(N)는 1 이상 10,000 이하의 자연수이며, 항상 짝수로 주어집니다.\n",
    "    - 폰켓몬의 종류 번호는 1 이상 200,000 이하의 자연수로 나타냅니다.\n",
    "    - 가장 많은 종류의 폰켓몬을 선택하는 방법이 여러 가지인 경우에도,\n",
    "    - 선택할 수 있는 폰켓몬 종류 개수의 최댓값 하나만 return 하면 됩니다."
   ]
  },
  {
   "cell_type": "code",
   "execution_count": 90,
   "metadata": {},
   "outputs": [
    {
     "data": {
      "text/plain": [
       "2"
      ]
     },
     "execution_count": 90,
     "metadata": {},
     "output_type": "execute_result"
    }
   ],
   "source": [
    "def solution(nums):\n",
    "    return e if (e := len(set(nums))) < (r := int(len(nums) / 2)) else r\n",
    "\n",
    "# solution([3,1,2,3])\n",
    "solution([3,3,3,2,2,4])"
   ]
  },
  {
   "cell_type": "markdown",
   "metadata": {},
   "source": [
    "## 완주하지 못한 선수"
   ]
  },
  {
   "cell_type": "code",
   "execution_count": 113,
   "metadata": {},
   "outputs": [
    {
     "data": {
      "text/plain": [
       "'mislav'"
      ]
     },
     "execution_count": 113,
     "metadata": {},
     "output_type": "execute_result"
    }
   ],
   "source": [
    "from collections import Counter\n",
    "\n",
    "def solution(participant, completion):\n",
    "    return list(Counter(participant) - Counter(completion))[0]\n",
    "    \n",
    "# solution([\"leo\", \"kiki\", \"eden\"], [\"eden\", \"kiki\"])\n",
    "solution([\"mislav\", \"stanko\", \"mislav\", \"ana\"], [\"stanko\", \"ana\", \"mislav\"])"
   ]
  },
  {
   "cell_type": "code",
   "execution_count": 119,
   "metadata": {},
   "outputs": [
    {
     "data": {
      "text/plain": [
       "'leo'"
      ]
     },
     "execution_count": 119,
     "metadata": {},
     "output_type": "execute_result"
    }
   ],
   "source": [
    "def solution(participant, completion):\n",
    "    dic = {}\n",
    "    temp = 0\n",
    "    completion.append(0)\n",
    "    for part, com in zip(participant, completion):\n",
    "        dic[hash(part)] = part\n",
    "        temp += hash(part)\n",
    "        temp -= hash(com)\n",
    "    \n",
    "    answer = dic[temp]\n",
    "    return answer\n",
    "\n",
    "solution([\"leo\", \"kiki\", \"eden\"], [\"eden\", \"kiki\"])\n",
    "# solution([\"mislav\", \"stanko\", \"mislav\", \"ana\"], [\"stanko\", \"ana\", \"mislav\"])"
   ]
  },
  {
   "cell_type": "code",
   "execution_count": null,
   "metadata": {},
   "outputs": [],
   "source": []
  }
 ],
 "metadata": {
  "kernelspec": {
   "display_name": "Python 3.8.13 ('base')",
   "language": "python",
   "name": "python3"
  },
  "language_info": {
   "codemirror_mode": {
    "name": "ipython",
    "version": 3
   },
   "file_extension": ".py",
   "mimetype": "text/x-python",
   "name": "python",
   "nbconvert_exporter": "python",
   "pygments_lexer": "ipython3",
   "version": "3.8.13"
  },
  "orig_nbformat": 4,
  "vscode": {
   "interpreter": {
    "hash": "38cc0cca68228d4d18227abe74ed813685db17db46984279e4aabdddebf5f1ba"
   }
  }
 },
 "nbformat": 4,
 "nbformat_minor": 2
}
