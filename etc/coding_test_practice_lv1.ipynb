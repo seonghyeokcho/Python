{
 "cells": [
  {
   "cell_type": "markdown",
   "metadata": {},
   "source": [
    "## 소수 만들기\n",
    "- 문제 설명\n",
    "    - 주어진 숫자 중 3개의 수를 더했을 때 소수가 되는 경우의 개수를 구하려고 합니다.\n",
    "    - 숫자들이 들어있는 배열 nums가 매개변수로 주어질 때,\n",
    "    - nums에 있는 숫자들 중 서로 다른 3개를 골라 더했을 때\n",
    "    - 소수가 되는 경우의 개수를 return 하도록 solution 함수를 완성해주세요.\n",
    "- 제한 사항\n",
    "    - nums에 들어있는 숫자의 개수는 3개 이상 50개 이하입니다.\n",
    "    - nums의 각 원소는 1 이상 1,000 이하의 자연수이며, 중복된 숫자가 들어있지 않습니다."
   ]
  },
  {
   "cell_type": "code",
   "execution_count": 141,
   "metadata": {},
   "outputs": [
    {
     "data": {
      "text/plain": [
       "1"
      ]
     },
     "execution_count": 141,
     "metadata": {},
     "output_type": "execute_result"
    }
   ],
   "source": [
    "from itertools import combinations\n",
    "\n",
    "\n",
    "def solution(nums):\n",
    "    answer = 0\n",
    "    \n",
    "    for i in map(sum, combinations(nums, 3)):\n",
    "        for j in range(2, int(i**(1/2)) + 1):\n",
    "            if not i%j:\n",
    "                break\n",
    "        else:\n",
    "            answer += 1\n",
    "            \n",
    "    return answer\n",
    "\n",
    "solution([1,2,3,4])"
   ]
  },
  {
   "cell_type": "code",
   "execution_count": 142,
   "metadata": {},
   "outputs": [
    {
     "data": {
      "text/plain": [
       "[False, True, False, False]"
      ]
     },
     "execution_count": 142,
     "metadata": {},
     "output_type": "execute_result"
    }
   ],
   "source": [
    "import math\n",
    "from itertools import combinations\n",
    "def solution(nums):\n",
    "    return list(map(lambda x : all((x%i for i in range(2, int(math.sqrt(x))+1))), (map(sum,combinations(nums, 3)))))\n",
    "\n",
    "solution([1,2,3,4])"
   ]
  },
  {
   "cell_type": "markdown",
   "metadata": {},
   "source": [
    "## 폰켓몬\n",
    "- 문제 설명\n",
    "    - 당신은 폰켓몬을 잡기 위한 오랜 여행 끝에, 홍 박사님의 연구실에 도착했습니다.\n",
    "    - 홍 박사님은 당신에게 자신의 연구실에 있는 총 N 마리의 폰켓몬 중에서 N/2마리를 가져가도 좋다고 했습니다.\n",
    "    - 홍 박사님 연구실의 폰켓몬은 종류에 따라 번호를 붙여 구분합니다.\n",
    "    - 따라서 같은 종류의 폰켓몬은 같은 번호를 가지고 있습니다.\n",
    "    - 예를 들어 연구실에 총 4마리의 폰켓몬이 있고, 각 폰켓몬의 종류 번호가 [3번, 1번, 2번, 3번]이라면\n",
    "    - 이는 3번 폰켓몬 두 마리, 1번 폰켓몬 한 마리, 2번 폰켓몬 한 마리가 있음을 나타냅니다.\n",
    "    - 이때, 4마리의 폰켓몬 중 2마리를 고르는 방법은 다음과 같이 6가지가 있습니다.\n",
    "        - 첫 번째(3번), 두 번째(1번) 폰켓몬을 선택\n",
    "        - 첫 번째(3번), 세 번째(2번) 폰켓몬을 선택\n",
    "        - 첫 번째(3번), 네 번째(3번) 폰켓몬을 선택\n",
    "        - 두 번째(1번), 세 번째(2번) 폰켓몬을 선택\n",
    "        - 두 번째(1번), 네 번째(3번) 폰켓몬을 선택\n",
    "        - 세 번째(2번), 네 번째(3번) 폰켓몬을 선택\n",
    "    - 이때, 첫 번째(3번) 폰켓몬과 네 번째(3번) 폰켓몬을 선택하는 방법은 한 종류(3번 폰켓몬 두 마리)의 폰켓몬만\n",
    "    - 가질 수 있지만, 다른 방법들은 모두 두 종류의 폰켓몬을 가질 수 있습니다.\n",
    "    - 따라서 위 예시에서 가질 수 있는 폰켓몬 종류 수의 최댓값은 2가 됩니다.\n",
    "    - 당신은 최대한 다양한 종류의 폰켓몬을 가지길 원하기 때문에, 최대한 많은 종류의 폰켓몬을 포함해서\n",
    "    - N/2마리를 선택하려 합니다. N마리 폰켓몬의 종류 번호가 담긴 배열 nums가 매개변수로 주어질 때,\n",
    "    - N/2마리의 폰켓몬을 선택하는 방법 중, 가장 많은 종류의 폰켓몬을 선택하는 방법을 찾아,\n",
    "    - 그때의 폰켓몬 종류 번호의 개수를 return 하도록 solution 함수를 완성해주세요.\n",
    "\n",
    "- 제한사항\n",
    "    - nums는 폰켓몬의 종류 번호가 담긴 1차원 배열입니다.\n",
    "    - nums의 길이(N)는 1 이상 10,000 이하의 자연수이며, 항상 짝수로 주어집니다.\n",
    "    - 폰켓몬의 종류 번호는 1 이상 200,000 이하의 자연수로 나타냅니다.\n",
    "    - 가장 많은 종류의 폰켓몬을 선택하는 방법이 여러 가지인 경우에도,\n",
    "    - 선택할 수 있는 폰켓몬 종류 개수의 최댓값 하나만 return 하면 됩니다."
   ]
  },
  {
   "cell_type": "code",
   "execution_count": 143,
   "metadata": {},
   "outputs": [
    {
     "data": {
      "text/plain": [
       "3"
      ]
     },
     "execution_count": 143,
     "metadata": {},
     "output_type": "execute_result"
    }
   ],
   "source": [
    "def solution(nums):\n",
    "    return e if (e := len(set(nums))) < (r := int(len(nums) / 2)) else r\n",
    "\n",
    "# solution([3,1,2,3])\n",
    "solution([3,3,3,2,2,4])"
   ]
  },
  {
   "cell_type": "markdown",
   "metadata": {},
   "source": [
    "## 완주하지 못한 선수\n",
    "- 문제 설명\n",
    "    - 수많은 마라톤 선수들이 마라톤에 참여하였습니다.\n",
    "    - 단 한 명의 선수를 제외하고는 모든 선수가 마라톤을 완주하였습니다.\n",
    "    - 마라톤에 참여한 선수들의 이름이 담긴 배열 participant와\n",
    "    - 완주한 선수들의 이름이 담긴 배열 completion이 주어질 때,\n",
    "    - 완주하지 못한 선수의 이름을 return 하도록 solution 함수를 작성해주세요.\n",
    "\n",
    "- 제한사항\n",
    "    - 마라톤 경기에 참여한 선수의 수는 1명 이상 100,000명 이하입니다.\n",
    "    - completion의 길이는 participant의 길이보다 1 작습니다.\n",
    "    - 참가자의 이름은 1개 이상 20개 이하의 알파벳 소문자로 이루어져 있습니다.\n",
    "    - 참가자 중에는 동명이인이 있을 수 있습니다.\n"
   ]
  },
  {
   "cell_type": "code",
   "execution_count": 144,
   "metadata": {},
   "outputs": [
    {
     "data": {
      "text/plain": [
       "'mislav'"
      ]
     },
     "execution_count": 144,
     "metadata": {},
     "output_type": "execute_result"
    }
   ],
   "source": [
    "from collections import Counter\n",
    "\n",
    "def solution(participant, completion):\n",
    "    return list(Counter(participant) - Counter(completion))[0]\n",
    "    \n",
    "# solution([\"leo\", \"kiki\", \"eden\"], [\"eden\", \"kiki\"])\n",
    "solution([\"mislav\", \"stanko\", \"mislav\", \"ana\"], [\"stanko\", \"ana\", \"mislav\"])"
   ]
  },
  {
   "cell_type": "code",
   "execution_count": 145,
   "metadata": {},
   "outputs": [
    {
     "data": {
      "text/plain": [
       "'leo'"
      ]
     },
     "execution_count": 145,
     "metadata": {},
     "output_type": "execute_result"
    }
   ],
   "source": [
    "def solution(participant, completion):\n",
    "    dic = {}\n",
    "    temp = 0\n",
    "    completion.append(0)\n",
    "    for part, com in zip(participant, completion):\n",
    "        dic[hash(part)] = part\n",
    "        temp += hash(part)\n",
    "        temp -= hash(com)\n",
    "    \n",
    "    answer = dic[temp]\n",
    "    return answer\n",
    "\n",
    "solution([\"leo\", \"kiki\", \"eden\"], [\"eden\", \"kiki\"])\n",
    "# solution([\"mislav\", \"stanko\", \"mislav\", \"ana\"], [\"stanko\", \"ana\", \"mislav\"])"
   ]
  },
  {
   "cell_type": "markdown",
   "metadata": {},
   "source": [
    "## 시저 암호\n",
    "- 문제 설명\n",
    "    -어떤 문장의 각 알파벳을 일정한 거리만큼 밀어서 다른 알파벳으로 바꾸는 암호화 방식을 시저 암호라고 합니다.\n",
    "    - 예를 들어 \"AB\"는 1만큼 밀면 \"BC\"가 되고, 3만큼 밀면 \"DE\"가 됩니다.\n",
    "    - \"z\"는 1만큼 밀면 \"a\"가 됩니다. 문자열 s와 거리 n을 입력받아 s를 n만큼 민 암호문을 만드는 함수,\n",
    "    - solution을 완성해 보세요.\n",
    "\n",
    "- 제한 조건\n",
    "    - 공백은 아무리 밀어도 공백입니다.\n",
    "    - s는 알파벳 소문자, 대문자, 공백으로만 이루어져 있습니다.\n",
    "    - s의 길이는 8000이하입니다.\n",
    "    - n은 1 이상, 25이하인 자연수입니다."
   ]
  },
  {
   "cell_type": "code",
   "execution_count": 146,
   "metadata": {},
   "outputs": [
    {
     "data": {
      "text/plain": [
       "'e F d'"
      ]
     },
     "execution_count": 146,
     "metadata": {},
     "output_type": "execute_result"
    }
   ],
   "source": [
    "import string\n",
    "\n",
    "\n",
    "def solution(s, n):\n",
    "    answer = ''\n",
    "    lower = string.ascii_lowercase\n",
    "    upper = string.ascii_uppercase\n",
    "    for i in range(len(s)):\n",
    "        if s[i] in lower:\n",
    "            if lower.index(s[i])+n > 25:\n",
    "                answer += lower[lower.index(s[i])+n-26]\n",
    "                continue\n",
    "            answer += lower[lower.index(s[i])+n]\n",
    "        elif s[i] in upper:\n",
    "            if upper.index(s[i])+n > 25:\n",
    "                answer += upper[upper.index(s[i])+n-26]\n",
    "                continue\n",
    "            answer += upper[upper.index(s[i])+n]\n",
    "        else:\n",
    "            answer += s[i]\n",
    "    return answer\n",
    "\n",
    "solution(\"a B z\", 4)"
   ]
  },
  {
   "cell_type": "code",
   "execution_count": 147,
   "metadata": {},
   "outputs": [
    {
     "data": {
      "text/plain": [
       "'e F d'"
      ]
     },
     "execution_count": 147,
     "metadata": {},
     "output_type": "execute_result"
    }
   ],
   "source": [
    "def solution(s, n):\n",
    "    answer = ''\n",
    "    \n",
    "    for i in range(len(s)):\n",
    "        if s[i].islower():\n",
    "            answer += chr((ord(s[i]) - ord(\"a\") + n) % 26 + ord(\"a\"))\n",
    "        elif s[i].isupper():\n",
    "            answer += chr((ord(s[i]) - ord(\"A\") + n) % 26 + ord(\"A\"))\n",
    "        else:\n",
    "            answer += s[i]\n",
    "    \n",
    "    return answer\n",
    "\n",
    "solution(\"a B z\", 4)\n",
    "# solution(\"AB\", 2)"
   ]
  },
  {
   "cell_type": "markdown",
   "metadata": {},
   "source": [
    "## K번째 수\n",
    "- 문제 설명\n",
    "    - 배열 array의 i번째 숫자부터 j번째 숫자까지 자르고 정렬했을 때, k번째에 있는 수를 구하려 합니다.\n",
    "    - 예를 들어 array가 [1, 5, 2, 6, 3, 7, 4], i = 2, j = 5, k = 3이라면\n",
    "    - array의 2번째부터 5번째까지 자르면 [5, 2, 6, 3]입니다.\n",
    "    - 1에서 나온 배열을 정렬하면 [2, 3, 5, 6]입니다.\n",
    "    - 2에서 나온 배열의 3번째 숫자는 5입니다.\n",
    "    - 배열 array, [i, j, k]를 원소로 가진 2차원 배열 commands가 매개변수로 주어질 때,\n",
    "    - commands의 모든 원소에 대해 앞서 설명한 연산을 적용했을 때 나온 결과를 배열에 담아 return 하도록\n",
    "    - solution 함수를 작성해주세요.\n",
    "\n",
    "- 제한사항\n",
    "    - array의 길이는 1 이상 100 이하입니다.\n",
    "    - array의 각 원소는 1 이상 100 이하입니다.\n",
    "    - commands의 길이는 1 이상 50 이하입니다.\n",
    "    - commands의 각 원소는 길이가 3입니다."
   ]
  },
  {
   "cell_type": "code",
   "execution_count": 148,
   "metadata": {},
   "outputs": [
    {
     "data": {
      "text/plain": [
       "[5, 6, 3]"
      ]
     },
     "execution_count": 148,
     "metadata": {},
     "output_type": "execute_result"
    }
   ],
   "source": [
    "def solution(array, commands):\n",
    "    return [sorted(array[c[0]-1:c[1]])[c[2]-1] for c in commands]\n",
    "\n",
    "solution([1, 5, 2, 6, 3, 7, 4], [[2, 5, 3], [4, 4, 1], [1, 7, 3]])"
   ]
  },
  {
   "cell_type": "markdown",
   "metadata": {},
   "source": [
    "## 모의고사\n",
    "- 문제 설명\n",
    "    - 수포자는 수학을 포기한 사람의 준말입니다. 수포자 삼인방은 모의고사에 수학 문제를 전부 찍으려 합니다.\n",
    "    - 수포자는 1번 문제부터 마지막 문제까지 다음과 같이 찍습니다.\n",
    "    - 1번 수포자가 찍는 방식: 1, 2, 3, 4, 5, ...\n",
    "    - 2번 수포자가 찍는 방식: 2, 1, 2, 3, 2, 4, 2, 5, ...\n",
    "    - 3번 수포자가 찍는 방식: 3, 3, 1, 1, 2, 2, 4, 4, 5, 5, ...\n",
    "    - 1번 문제부터 마지막 문제까지의 정답이 순서대로 들은 배열 answers가 주어졌을 때,\n",
    "    - 가장 많은 문제를 맞힌 사람이 누구인지 배열에 담아 return 하도록 solution 함수를 작성해주세요.\n",
    "\n",
    "- 제한 조건\n",
    "    - 시험은 최대 10,000 문제로 구성되어있습니다.\n",
    "    - 문제의 정답은 1, 2, 3, 4, 5중 하나입니다.\n",
    "    - 가장 높은 점수를 받은 사람이 여럿일 경우, return하는 값을 오름차순 정렬해주세요."
   ]
  },
  {
   "cell_type": "code",
   "execution_count": 149,
   "metadata": {},
   "outputs": [
    {
     "data": {
      "text/plain": [
       "[1]"
      ]
     },
     "execution_count": 149,
     "metadata": {},
     "output_type": "execute_result"
    }
   ],
   "source": [
    "def solution(answers):\n",
    "    score = [0, 0, 0]\n",
    "    p = [\"12345\", \"21232425\", \"3311224455\"]\n",
    "    \n",
    "    for i in range(3):\n",
    "        q, r = divmod(len(answers), len(p[i]))\n",
    "        pick = p[i] * q + p[i][:r]\n",
    "        score[i] = [score[i] + 1 for j, k in zip(answers, pick) if j == int(k)]\n",
    "    \n",
    "    return [i+1 for i in range(3) if score[i] == max(score)]\n",
    "\n",
    "solution([1,2,3,4,5])\n",
    "# solution([1,3,2,4,2])"
   ]
  },
  {
   "cell_type": "code",
   "execution_count": 150,
   "metadata": {},
   "outputs": [
    {
     "data": {
      "text/plain": [
       "[1, 2, 3]"
      ]
     },
     "execution_count": 150,
     "metadata": {},
     "output_type": "execute_result"
    }
   ],
   "source": [
    "from itertools import cycle\n",
    "\n",
    "def solution(answers):\n",
    "    giveups = [\n",
    "        cycle([1,2,3,4,5]),\n",
    "        cycle([2,1,2,3,2,4,2,5]),\n",
    "        cycle([3,3,1,1,2,2,4,4,5,5]),\n",
    "    ]\n",
    "    \n",
    "    scores = [0, 0, 0]\n",
    "    for num in answers:\n",
    "        for i in range(3):\n",
    "            if next(giveups[i]) == num:\n",
    "                scores[i] += 1\n",
    "    return [i + 1 for i, v in enumerate(scores) if v == max(scores)]\n",
    "\n",
    "# solution([1,2,3,4,5])\n",
    "solution([1,3,2,4,2])"
   ]
  },
  {
   "cell_type": "markdown",
   "metadata": {},
   "source": [
    "## 체육복\n",
    "- 문제 설명\n",
    "    - 점심시간에 도둑이 들어, 일부 학생이 체육복을 도난당했습니다.\n",
    "    - 다행히 여벌 체육복이 있는 학생이 이들에게 체육복을 빌려주려 합니다.\n",
    "    - 학생들의 번호는 체격 순으로 매겨져 있어, 바로 앞번호의 학생이나 바로 뒷번호의 학생에게만 체육복을 빌려줄 수 있습니다.\n",
    "    - 예를 들어, 4번 학생은 3번 학생이나 5번 학생에게만 체육복을 빌려줄 수 있습니다.\n",
    "    - 체육복이 없으면 수업을 들을 수 없기 때문에 체육복을 적절히 빌려 최대한 많은 학생이 체육수업을 들어야 합니다.\n",
    "    - 전체 학생의 수 n, 체육복을 도난당한 학생들의 번호가 담긴 배열 lost, 여벌의 체육복을 가져온 학생들의 번호가 담긴 배열 reserve가 매개변수로 주어질 때,\n",
    "    - 체육수업을 들을 수 있는 학생의 최댓값을 return 하도록 solution 함수를 작성해주세요.\n",
    "\n",
    "- 제한사항\n",
    "    - 전체 학생의 수는 2명 이상 30명 이하입니다.\n",
    "    - 체육복을 도난당한 학생의 수는 1명 이상 n명 이하이고 중복되는 번호는 없습니다.\n",
    "    - 여벌의 체육복을 가져온 학생의 수는 1명 이상 n명 이하이고 중복되는 번호는 없습니다.\n",
    "    - 여벌 체육복이 있는 학생만 다른 학생에게 체육복을 빌려줄 수 있습니다.\n",
    "    - 여벌 체육복을 가져온 학생이 체육복을 도난당했을 수 있습니다. 이때 이 학생은 체육복을 하나만 도난당했다고 가정하며,\n",
    "    - 남은 체육복이 하나이기에 다른 학생에게는 체육복을 빌려줄 수 없습니다."
   ]
  },
  {
   "cell_type": "code",
   "execution_count": 151,
   "metadata": {},
   "outputs": [
    {
     "data": {
      "text/plain": [
       "4"
      ]
     },
     "execution_count": 151,
     "metadata": {},
     "output_type": "execute_result"
    }
   ],
   "source": [
    "def solution(n, lost, reserve):\n",
    "    lost_copy = lost.copy()\n",
    "    for i in lost:\n",
    "        if i in reserve:\n",
    "            lost_copy.remove(i)\n",
    "            reserve.remove(i)\n",
    "    for i in range(1, n+1):\n",
    "        if i in lost_copy and i-1 in reserve:\n",
    "            lost_copy.remove(i)\n",
    "            reserve.remove(i-1)\n",
    "        elif i in lost_copy and i+1 in reserve:\n",
    "            lost_copy.remove(i)\n",
    "            reserve.remove(i+1)\n",
    "    return n - len(lost_copy)\n",
    "\n",
    "# solution(5, [2, 4], [1, 3, 5])\n",
    "solution(5, [2, 4], [3])\n",
    "# solution(4, [2,3], [3,4])\n",
    "# solution(5, [1,2,3,4,5], [1,2,3,4,5])"
   ]
  },
  {
   "cell_type": "markdown",
   "metadata": {},
   "source": [
    "## 약수의 개수와 덧셈\n",
    "- 문제 설명\n",
    "    - 두 정수 left와 right가 매개변수로 주어집니다. left부터 right까지의 모든 수들 중에서,\n",
    "    - 약수의 개수가 짝수인 수는 더하고, 약수의 개수가 홀수인 수는 뺀 수를 return 하도록 solution 함수를 완성해주세요.\n",
    "\n",
    "- 제한사항\n",
    "    - 1 ≤ left ≤ right ≤ 1,000"
   ]
  },
  {
   "cell_type": "code",
   "execution_count": 152,
   "metadata": {},
   "outputs": [
    {
     "data": {
      "text/plain": [
       "52"
      ]
     },
     "execution_count": 152,
     "metadata": {},
     "output_type": "execute_result"
    }
   ],
   "source": [
    "def solution(left, right):\n",
    "    return sum([-i if int(i**0.5) == i**0.5 else i for i in range(left, right+1)])\n",
    "\n",
    "# solution(13, 17)\n",
    "solution(24, 27)"
   ]
  },
  {
   "cell_type": "markdown",
   "metadata": {},
   "source": [
    "## 소수 찾기\n",
    "- 문제 설명\n",
    "    - 1부터 입력받은 숫자 n 사이에 있는 소수의 개수를 반환하는 함수, solution을 만들어 보세요.\n",
    "    - 소수는 1과 자기 자신으로만 나누어지는 수를 의미합니다.\n",
    "    - (1은 소수가 아닙니다.)\n",
    "\n",
    "- 제한 조건\n",
    "    - n은 2이상 1000000이하의 자연수입니다."
   ]
  },
  {
   "cell_type": "code",
   "execution_count": 153,
   "metadata": {},
   "outputs": [
    {
     "data": {
      "text/plain": [
       "4"
      ]
     },
     "execution_count": 153,
     "metadata": {},
     "output_type": "execute_result"
    }
   ],
   "source": [
    "def solution(n):\n",
    "    return list(map(lambda x : all(x%j for j in range(2, int(x**0.5)+1)), range(2, n+1))).count(True)\n",
    "\n",
    "solution(10)\n",
    "# solution(5)"
   ]
  },
  {
   "cell_type": "code",
   "execution_count": 154,
   "metadata": {},
   "outputs": [
    {
     "data": {
      "text/plain": [
       "4"
      ]
     },
     "execution_count": 154,
     "metadata": {},
     "output_type": "execute_result"
    }
   ],
   "source": [
    "# 차집합을 이용한 에라토스테네스의 체 구현\n",
    "def solution(n):\n",
    "    num = set(range(2, n+1))\n",
    "    for i in range(2, n+1):\n",
    "        if i in num:\n",
    "            num -= set(range(2*i, n+1, i))\n",
    "    return len(num)\n",
    "\n",
    "solution(10)"
   ]
  },
  {
   "cell_type": "markdown",
   "metadata": {},
   "source": [
    "## 문자열 내 p와 y의 개수\n",
    "- 문제 설명\n",
    "    - 대문자와 소문자가 섞여있는 문자열 s가 주어집니다.\n",
    "    - s에 'p'의 개수와 'y'의 개수를 비교해 같으면 True, 다르면 False를 return 하는 solution를 완성하세요.\n",
    "    - 'p', 'y' 모두 하나도 없는 경우는 항상 True를 리턴합니다.\n",
    "    - 단, 개수를 비교할 때 대문자와 소문자는 구별하지 않습니다.\n",
    "    - 예를 들어 s가 \"pPoooyY\"면 true를 return하고 \"Pyy\"라면 false를 return합니다.\n",
    "\n",
    "- 제한사항\n",
    "    - 문자열 s의 길이 : 50 이하의 자연수\n",
    "    - 문자열 s는 알파벳으로만 이루어져 있습니다."
   ]
  },
  {
   "cell_type": "code",
   "execution_count": 155,
   "metadata": {},
   "outputs": [
    {
     "data": {
      "text/plain": [
       "True"
      ]
     },
     "execution_count": 155,
     "metadata": {},
     "output_type": "execute_result"
    }
   ],
   "source": [
    "import re\n",
    "\n",
    "\n",
    "def solution(s):\n",
    "    p = re.findall(\"[pP]\", s)\n",
    "    y = re.findall(\"[yY]\", s)\n",
    "    return len(p) == len(y)\n",
    "\n",
    "# solution(\"pPoooyY\")\n",
    "# solution(\"Pyy\")\n",
    "solution(\"abcd\")"
   ]
  },
  {
   "cell_type": "code",
   "execution_count": 156,
   "metadata": {},
   "outputs": [
    {
     "data": {
      "text/plain": [
       "True"
      ]
     },
     "execution_count": 156,
     "metadata": {},
     "output_type": "execute_result"
    }
   ],
   "source": [
    "from collections import Counter\n",
    "\n",
    "\n",
    "def solution(s):\n",
    "    s = Counter(s.lower())\n",
    "    return s[\"p\"] == s[\"y\"]\n",
    "\n",
    "# solution(\"pPoooyY\")\n",
    "# solution(\"Pyy\")\n",
    "solution(\"abcd\")"
   ]
  },
  {
   "cell_type": "code",
   "execution_count": 157,
   "metadata": {},
   "outputs": [
    {
     "data": {
      "text/plain": [
       "True"
      ]
     },
     "execution_count": 157,
     "metadata": {},
     "output_type": "execute_result"
    }
   ],
   "source": [
    "def solution(s):\n",
    "    return s.lower().count(\"p\") == s.lower().count(\"y\")\n",
    "\n",
    "# solution(\"pPoooyY\")\n",
    "# solution(\"Pyy\")\n",
    "solution(\"abcd\")"
   ]
  },
  {
   "cell_type": "markdown",
   "metadata": {},
   "source": [
    "## 문자열을 정수로 바꾸기\n",
    "- 문제 설명\n",
    "    - 문자열 s를 숫자로 변환한 결과를 반환하는 함수, solution을 완성하세요.\n",
    "\n",
    "- 제한 조건\n",
    "    - s의 길이는 1 이상 5이하입니다.\n",
    "    - s의 맨앞에는 부호(+, -)가 올 수 있습니다.\n",
    "    - s는 부호와 숫자로만 이루어져있습니다.\n",
    "    - s는 \"0\"으로 시작하지 않습니다."
   ]
  },
  {
   "cell_type": "code",
   "execution_count": 158,
   "metadata": {},
   "outputs": [
    {
     "data": {
      "text/plain": [
       "1234"
      ]
     },
     "execution_count": 158,
     "metadata": {},
     "output_type": "execute_result"
    }
   ],
   "source": [
    "def solution(s):\n",
    "    return int(s)\n",
    "\n",
    "solution(\"1234\")  # ???"
   ]
  },
  {
   "cell_type": "markdown",
   "metadata": {},
   "source": [
    "## 수박수박수박수박수박수?\n",
    "- 문제 설명\n",
    "    - 길이가 n이고, \"수박수박수박수....\"와 같은 패턴을 유지하는 문자열을 리턴하는 함수,\n",
    "    - solution을 완성하세요. 예를들어 n이 4이면 \"수박수박\"을 리턴하고 3이라면 \"수박수\"를 리턴하면 됩니다.\n",
    "\n",
    "- 제한 조건\n",
    "    - n은 길이 10,000이하인 자연수입니다."
   ]
  },
  {
   "cell_type": "code",
   "execution_count": 159,
   "metadata": {},
   "outputs": [
    {
     "data": {
      "text/plain": [
       "'수'"
      ]
     },
     "execution_count": 159,
     "metadata": {},
     "output_type": "execute_result"
    }
   ],
   "source": [
    "def solution(n):\n",
    "    return \"수박\"*(n//2) + \"수\" if n & 1 else \"수박\"*(n//2)\n",
    "\n",
    "solution(1)"
   ]
  },
  {
   "cell_type": "markdown",
   "metadata": {},
   "source": [
    "## 서울에서 김서방 찾기\n",
    "- 문제 설명\n",
    "    - String형 배열 seoul의 element중 \"Kim\"의 위치 x를 찾아,\n",
    "    - \"김서방은 x에 있다\"는 String을 반환하는 함수, solution을 완성하세요.\n",
    "    - seoul에 \"Kim\"은 오직 한 번만 나타나며 잘못된 값이 입력되는 경우는 없습니다.\n",
    "\n",
    "- 제한 사항\n",
    "    - seoul은 길이 1 이상, 1000 이하인 배열입니다.\n",
    "    - seoul의 원소는 길이 1 이상, 20 이하인 문자열입니다.\n",
    "    - \"Kim\"은 반드시 seoul 안에 포함되어 있습니다."
   ]
  },
  {
   "cell_type": "code",
   "execution_count": 160,
   "metadata": {},
   "outputs": [
    {
     "data": {
      "text/plain": [
       "'김서방은 1에 있다'"
      ]
     },
     "execution_count": 160,
     "metadata": {},
     "output_type": "execute_result"
    }
   ],
   "source": [
    "def solution(seoul):\n",
    "    return \"김서방은 {}에 있다\".format(seoul.index(\"Kim\"))\n",
    "\n",
    "solution([\"Jane\", \"Kim\"])"
   ]
  },
  {
   "cell_type": "markdown",
   "metadata": {},
   "source": [
    "## 문자열 다루기 기본\n",
    "- 문제 설명\n",
    "    - 문자열 s의 길이가 4 혹은 6이고, 숫자로만 구성돼있는지 확인해주는 함수, solution을 완성하세요.\n",
    "    - 예를 들어 s가 \"a234\"이면 False를 리턴하고 \"1234\"라면 True를 리턴하면 됩니다.\n",
    "\n",
    "- 제한 사항\n",
    "    - s는 길이 1 이상, 길이 8 이하인 문자열입니다.\n",
    "    - s는 영문 알파벳 대소문자 또는 0부터 9까지 숫자로 이루어져 있습니다."
   ]
  },
  {
   "cell_type": "code",
   "execution_count": 161,
   "metadata": {},
   "outputs": [
    {
     "data": {
      "text/plain": [
       "True"
      ]
     },
     "execution_count": 161,
     "metadata": {},
     "output_type": "execute_result"
    }
   ],
   "source": [
    "import re\n",
    "def solution(s):\n",
    "    d = re.findall(\"[a-zA-Z]\", s)\n",
    "    return True if not d and (len(s) == 4 or len(s) == 6) else False\n",
    "\n",
    "solution(\"1234\")"
   ]
  },
  {
   "cell_type": "code",
   "execution_count": 162,
   "metadata": {},
   "outputs": [
    {
     "data": {
      "text/plain": [
       "True"
      ]
     },
     "execution_count": 162,
     "metadata": {},
     "output_type": "execute_result"
    }
   ],
   "source": [
    "def solution(s):\n",
    "    return s.isdigit() and len(s) in [4, 6]\n",
    "\n",
    "solution(\"1234\")"
   ]
  },
  {
   "cell_type": "markdown",
   "metadata": {},
   "source": [
    "## 문자열 내 마음대로 정렬하기\n",
    "- 문제 설명\n",
    "    - 문자열로 구성된 리스트 strings와, 정수 n이 주어졌을 때,각 문자열의 인덱스 n번째 글자를 기준으로 오름차순 정렬하려 합니다.\n",
    "    - 예를 들어 strings가 [\"sun\", \"bed\", \"car\"]이고 n이 1이면 각 단어의 인덱스 1의 문자 \"u\", \"e\", \"a\"로 strings를 정렬합니다.\n",
    "\n",
    "- 제한 조건\n",
    "    - strings는 길이 1 이상, 50이하인 배열입니다.\n",
    "    - strings의 원소는 소문자 알파벳으로 이루어져 있습니다.\n",
    "    - strings의 원소는 길이 1 이상, 100이하인 문자열입니다.\n",
    "    - 모든 strings의 원소의 길이는 n보다 큽니다.\n",
    "    - 인덱스 1의 문자가 같은 문자열이 여럿 일 경우, 사전순으로 앞선 문자열이 앞쪽에 위치합니다."
   ]
  },
  {
   "cell_type": "code",
   "execution_count": 163,
   "metadata": {},
   "outputs": [
    {
     "data": {
      "text/plain": [
       "['abcac', 'abcbc']"
      ]
     },
     "execution_count": 163,
     "metadata": {},
     "output_type": "execute_result"
    }
   ],
   "source": [
    "def solution(strings, n):\n",
    "    return sorted(strings, key=lambda x:(x[n], x[:n], x[n:]))\n",
    "\n",
    "solution([\"abcbc\", \"abcac\"], 2)"
   ]
  },
  {
   "cell_type": "markdown",
   "metadata": {},
   "source": [
    "## 삼진법 뒤집기\n",
    "- 문제 설명\n",
    "    - 자연수 n이 매개변수로 주어집니다.\n",
    "    - n을 3진법 상에서 앞뒤로 뒤집은 후, 이를 다시 10진법으로 표현한 수를 return 하도록 solution 함수를 완성해주세요.\n",
    "\n",
    "- 제한사항\n",
    "    - n은 1 이상 100,000,000 이하인 자연수입니다."
   ]
  },
  {
   "cell_type": "code",
   "execution_count": 164,
   "metadata": {},
   "outputs": [
    {
     "data": {
      "text/plain": [
       "229"
      ]
     },
     "execution_count": 164,
     "metadata": {},
     "output_type": "execute_result"
    }
   ],
   "source": [
    "def solution(n):\n",
    "    trit = \"\"\n",
    "    while n > 0:\n",
    "        n, r = divmod(n, 3)\n",
    "        trit += str(r)\n",
    "    # 3진법 -> 10진법으로 직접 바꾸기\n",
    "    # answer = 0\n",
    "    # for i in range(len(str(int(trit)))):\n",
    "    #     answer += int(trit[-(i+1)]) * 3**i\n",
    "    return int(trit, 3)\n",
    "\n",
    "# solution(45)\n",
    "solution(125)"
   ]
  },
  {
   "cell_type": "markdown",
   "metadata": {},
   "source": [
    "## 콜라츠 추측\n",
    "- 문제 설명\n",
    "    - 1937년 Collatz란 사람에 의해 제기된 이 추측은, 주어진 수가 1이 될 때까지 다음 작업을 반복하면,\n",
    "    - 모든 수를 1로 만들 수 있다는 추측입니다. 작업은 다음과 같습니다.\n",
    "        - 1-1 입력된 수가 짝수라면 2로 나눕니다. \n",
    "        - 1-2 입력된 수가 홀수라면 3을 곱하고 1을 더합니다. \n",
    "        - 2 결과로 나온 수에 같은 작업을 1이 될 때까지 반복합니다. \n",
    "    - 예를 들어, 주어진 수가 6이라면 6 → 3 → 10 → 5 → 16 → 8 → 4 → 2 → 1 이 되어 총 8번 만에 1이 됩니다.\n",
    "    - 위 작업을 몇 번이나 반복해야 하는지 반환하는 함수, solution을 완성해 주세요.\n",
    "    - 단, 주어진 수가 1인 경우에는 0을, 작업을 500번 반복할 때까지 1이 되지 않는다면 –1을 반환해 주세요.\n",
    "\n",
    "- 제한 사항\n",
    "    - 입력된 수, num은 1 이상 8,000,000 미만인 정수입니다."
   ]
  },
  {
   "cell_type": "code",
   "execution_count": 165,
   "metadata": {},
   "outputs": [
    {
     "data": {
      "text/plain": [
       "8"
      ]
     },
     "execution_count": 165,
     "metadata": {},
     "output_type": "execute_result"
    }
   ],
   "source": [
    "def solution(num):\n",
    "    answer = 0\n",
    "    for i in range(500):\n",
    "        if num == 1:\n",
    "            return answer\n",
    "        elif num % 2:\n",
    "            num *= 3; num += 1\n",
    "            answer += 1\n",
    "        else:\n",
    "            num //= 2\n",
    "            answer += 1\n",
    "    return -1\n",
    "\n",
    "solution(6)"
   ]
  },
  {
   "cell_type": "markdown",
   "metadata": {},
   "source": [
    "## 예산\n",
    "- 문제 설명\n",
    "    - S사에서는 각 부서에 필요한 물품을 지원해 주기 위해 부서별로 물품을 구매하는데 필요한 금액을 조사했습니다.\n",
    "    - 그러나, 전체 예산이 정해져 있기 때문에 모든 부서의 물품을 구매해 줄 수는 없습니다.\n",
    "    - 그래서 최대한 많은 부서의 물품을 구매해 줄 수 있도록 하려고 합니다.\n",
    "    - 물품을 구매해 줄 때는 각 부서가 신청한 금액만큼을 모두 지원해 줘야 합니다.\n",
    "    - 예를 들어 1,000원을 신청한 부서에는 정확히 1,000원을 지원해야 하며,\n",
    "    - 1,000원보다 적은 금액을 지원해 줄 수는 없습니다.\n",
    "    - 부서별로 신청한 금액이 들어있는 배열 d와 예산 budget이 매개변수로 주어질 때,\n",
    "    - 최대 몇 개의 부서에 물품을 지원할 수 있는지 return 하도록 solution 함수를 완성해주세요.\n",
    "\n",
    "- 제한사항\n",
    "    - d는 부서별로 신청한 금액이 들어있는 배열이며, 길이(전체 부서의 개수)는 1 이상 100 이하입니다.\n",
    "    - d의 각 원소는 부서별로 신청한 금액을 나타내며, 부서별 신청 금액은 1 이상 100,000 이하의 자연수입니다.\n",
    "    - budget은 예산을 나타내며, 1 이상 10,000,000 이하의 자연수입니다."
   ]
  },
  {
   "cell_type": "code",
   "execution_count": 166,
   "metadata": {},
   "outputs": [
    {
     "data": {
      "text/plain": [
       "3"
      ]
     },
     "execution_count": 166,
     "metadata": {},
     "output_type": "execute_result"
    }
   ],
   "source": [
    "def solution(d, budget):\n",
    "    answer = 0\n",
    "    for i in sorted(d):\n",
    "        if budget < i:\n",
    "            break\n",
    "        budget -= i\n",
    "        answer += 1\n",
    "    return answer\n",
    "\n",
    "solution([1,3,2,5,4], 9)\n",
    "# solution([2,2,3,3], 10)"
   ]
  },
  {
   "cell_type": "markdown",
   "metadata": {},
   "source": [
    "## 부족한 금액 계산하기\n",
    "- 문제 설명\n",
    "    - 새로 생긴 놀이기구는 인기가 매우 많아 줄이 끊이질 않습니다. 이 놀이기구의 원래 이용료는 price원 인데,\n",
    "    - 놀이기구를 N 번 째 이용한다면 원래 이용료의 N배를 받기로 하였습니다.\n",
    "    - 즉, 처음 이용료가 100이었다면 2번째에는 200, 3번째에는 300으로 요금이 인상됩니다.\n",
    "    - 놀이기구를 count번 타게 되면 현재 자신이 가지고 있는 금액에서 얼마가 모자라는지를 return 하도록 solution 함수를 완성하세요.\n",
    "    - 단, 금액이 부족하지 않으면 0을 return 하세요.\n",
    "\n",
    "- 제한사항\n",
    "    - 놀이기구의 이용료 price : 1 ≤ price ≤ 2,500, price는 자연수\n",
    "    - 처음 가지고 있던 금액 money : 1 ≤ money ≤ 1,000,000,000, money는 자연수\n",
    "    - 놀이기구의 이용 횟수 count : 1 ≤ count ≤ 2,500, count는 자연수\n"
   ]
  },
  {
   "cell_type": "code",
   "execution_count": 167,
   "metadata": {},
   "outputs": [
    {
     "data": {
      "text/plain": [
       "10"
      ]
     },
     "execution_count": 167,
     "metadata": {},
     "output_type": "execute_result"
    }
   ],
   "source": [
    "def solution(price, money, count):\n",
    "    for i in range(1, count+1):\n",
    "        money -= (price * i)\n",
    "    return abs(money) if money < 0 else 0\n",
    "\n",
    "solution(3, 20, 4)"
   ]
  },
  {
   "cell_type": "code",
   "execution_count": 168,
   "metadata": {},
   "outputs": [
    {
     "data": {
      "text/plain": [
       "10"
      ]
     },
     "execution_count": 168,
     "metadata": {},
     "output_type": "execute_result"
    }
   ],
   "source": [
    "# 등차수열의 합 공식\n",
    "def solution(price, money, count):\n",
    "    return max(0,price*(count+1)*count//2-money)\n",
    "\n",
    "solution(3, 20, 4)"
   ]
  },
  {
   "cell_type": "markdown",
   "metadata": {},
   "source": [
    "## 약수의 합\n",
    "- 문제 설명\n",
    "    - 정수 n을 입력받아 n의 약수를 모두 더한 값을 리턴하는 함수, solution을 완성해주세요.\n",
    "\n",
    "- 제한 사항\n",
    "    - n은 0 이상 3000이하인 정수입니다."
   ]
  },
  {
   "cell_type": "code",
   "execution_count": 169,
   "metadata": {},
   "outputs": [
    {
     "ename": "KeyboardInterrupt",
     "evalue": "",
     "output_type": "error",
     "traceback": [
      "\u001b[0;31m---------------------------------------------------------------------------\u001b[0m",
      "\u001b[0;31mKeyboardInterrupt\u001b[0m                         Traceback (most recent call last)",
      "\u001b[1;32m/Users/csh/programming_language/001_Python/etc/coding_test_practice_lv1.ipynb 셀 49\u001b[0m in \u001b[0;36m<cell line: 5>\u001b[0;34m()\u001b[0m\n\u001b[1;32m      <a href='vscode-notebook-cell:/Users/csh/programming_language/001_Python/etc/coding_test_practice_lv1.ipynb#X66sZmlsZQ%3D%3D?line=1'>2</a>\u001b[0m \u001b[39mdef\u001b[39;00m \u001b[39msolution\u001b[39m(n):\n\u001b[1;32m      <a href='vscode-notebook-cell:/Users/csh/programming_language/001_Python/etc/coding_test_practice_lv1.ipynb#X66sZmlsZQ%3D%3D?line=2'>3</a>\u001b[0m     \u001b[39mreturn\u001b[39;00m n \u001b[39m+\u001b[39m \u001b[39msum\u001b[39m([i \u001b[39mfor\u001b[39;00m i \u001b[39min\u001b[39;00m \u001b[39mrange\u001b[39m(\u001b[39m1\u001b[39m, n\u001b[39m/\u001b[39m\u001b[39m/\u001b[39m\u001b[39m2\u001b[39m \u001b[39m+\u001b[39m \u001b[39m1\u001b[39m) \u001b[39mif\u001b[39;00m \u001b[39mnot\u001b[39;00m n \u001b[39m%\u001b[39m i])\n\u001b[0;32m----> <a href='vscode-notebook-cell:/Users/csh/programming_language/001_Python/etc/coding_test_practice_lv1.ipynb#X66sZmlsZQ%3D%3D?line=4'>5</a>\u001b[0m get_ipython()\u001b[39m.\u001b[39;49mrun_line_magic(\u001b[39m'\u001b[39;49m\u001b[39mtimeit\u001b[39;49m\u001b[39m'\u001b[39;49m, \u001b[39m'\u001b[39;49m\u001b[39msolution(3000)\u001b[39;49m\u001b[39m'\u001b[39;49m)\n",
      "File \u001b[0;32m~/opt/anaconda3/lib/python3.8/site-packages/IPython/core/interactiveshell.py:2305\u001b[0m, in \u001b[0;36mInteractiveShell.run_line_magic\u001b[0;34m(self, magic_name, line, _stack_depth)\u001b[0m\n\u001b[1;32m   2303\u001b[0m     kwargs[\u001b[39m'\u001b[39m\u001b[39mlocal_ns\u001b[39m\u001b[39m'\u001b[39m] \u001b[39m=\u001b[39m \u001b[39mself\u001b[39m\u001b[39m.\u001b[39mget_local_scope(stack_depth)\n\u001b[1;32m   2304\u001b[0m \u001b[39mwith\u001b[39;00m \u001b[39mself\u001b[39m\u001b[39m.\u001b[39mbuiltin_trap:\n\u001b[0;32m-> 2305\u001b[0m     result \u001b[39m=\u001b[39m fn(\u001b[39m*\u001b[39;49margs, \u001b[39m*\u001b[39;49m\u001b[39m*\u001b[39;49mkwargs)\n\u001b[1;32m   2306\u001b[0m \u001b[39mreturn\u001b[39;00m result\n",
      "File \u001b[0;32m~/opt/anaconda3/lib/python3.8/site-packages/IPython/core/magics/execution.py:1166\u001b[0m, in \u001b[0;36mExecutionMagics.timeit\u001b[0;34m(self, line, cell, local_ns)\u001b[0m\n\u001b[1;32m   1163\u001b[0m         \u001b[39mif\u001b[39;00m time_number \u001b[39m>\u001b[39m\u001b[39m=\u001b[39m \u001b[39m0.2\u001b[39m:\n\u001b[1;32m   1164\u001b[0m             \u001b[39mbreak\u001b[39;00m\n\u001b[0;32m-> 1166\u001b[0m all_runs \u001b[39m=\u001b[39m timer\u001b[39m.\u001b[39;49mrepeat(repeat, number)\n\u001b[1;32m   1167\u001b[0m best \u001b[39m=\u001b[39m \u001b[39mmin\u001b[39m(all_runs) \u001b[39m/\u001b[39m number\n\u001b[1;32m   1168\u001b[0m worst \u001b[39m=\u001b[39m \u001b[39mmax\u001b[39m(all_runs) \u001b[39m/\u001b[39m number\n",
      "File \u001b[0;32m~/opt/anaconda3/lib/python3.8/timeit.py:205\u001b[0m, in \u001b[0;36mTimer.repeat\u001b[0;34m(self, repeat, number)\u001b[0m\n\u001b[1;32m    203\u001b[0m r \u001b[39m=\u001b[39m []\n\u001b[1;32m    204\u001b[0m \u001b[39mfor\u001b[39;00m i \u001b[39min\u001b[39;00m \u001b[39mrange\u001b[39m(repeat):\n\u001b[0;32m--> 205\u001b[0m     t \u001b[39m=\u001b[39m \u001b[39mself\u001b[39;49m\u001b[39m.\u001b[39;49mtimeit(number)\n\u001b[1;32m    206\u001b[0m     r\u001b[39m.\u001b[39mappend(t)\n\u001b[1;32m    207\u001b[0m \u001b[39mreturn\u001b[39;00m r\n",
      "File \u001b[0;32m~/opt/anaconda3/lib/python3.8/site-packages/IPython/core/magics/execution.py:156\u001b[0m, in \u001b[0;36mTimer.timeit\u001b[0;34m(self, number)\u001b[0m\n\u001b[1;32m    154\u001b[0m gc\u001b[39m.\u001b[39mdisable()\n\u001b[1;32m    155\u001b[0m \u001b[39mtry\u001b[39;00m:\n\u001b[0;32m--> 156\u001b[0m     timing \u001b[39m=\u001b[39m \u001b[39mself\u001b[39;49m\u001b[39m.\u001b[39;49minner(it, \u001b[39mself\u001b[39;49m\u001b[39m.\u001b[39;49mtimer)\n\u001b[1;32m    157\u001b[0m \u001b[39mfinally\u001b[39;00m:\n\u001b[1;32m    158\u001b[0m     \u001b[39mif\u001b[39;00m gcold:\n",
      "File \u001b[0;32m<magic-timeit>:1\u001b[0m, in \u001b[0;36minner\u001b[0;34m(_it, _timer)\u001b[0m\n",
      "\u001b[1;32m/Users/csh/programming_language/001_Python/etc/coding_test_practice_lv1.ipynb 셀 49\u001b[0m in \u001b[0;36msolution\u001b[0;34m(n)\u001b[0m\n\u001b[1;32m      <a href='vscode-notebook-cell:/Users/csh/programming_language/001_Python/etc/coding_test_practice_lv1.ipynb#X66sZmlsZQ%3D%3D?line=1'>2</a>\u001b[0m \u001b[39mdef\u001b[39;00m \u001b[39msolution\u001b[39m(n):\n\u001b[0;32m----> <a href='vscode-notebook-cell:/Users/csh/programming_language/001_Python/etc/coding_test_practice_lv1.ipynb#X66sZmlsZQ%3D%3D?line=2'>3</a>\u001b[0m     \u001b[39mreturn\u001b[39;00m n \u001b[39m+\u001b[39m \u001b[39msum\u001b[39m([i \u001b[39mfor\u001b[39;00m i \u001b[39min\u001b[39;00m \u001b[39mrange\u001b[39m(\u001b[39m1\u001b[39m, n\u001b[39m/\u001b[39m\u001b[39m/\u001b[39m\u001b[39m2\u001b[39m \u001b[39m+\u001b[39m \u001b[39m1\u001b[39m) \u001b[39mif\u001b[39;00m \u001b[39mnot\u001b[39;00m n \u001b[39m%\u001b[39m i])\n",
      "\u001b[1;32m/Users/csh/programming_language/001_Python/etc/coding_test_practice_lv1.ipynb 셀 49\u001b[0m in \u001b[0;36m<listcomp>\u001b[0;34m(.0)\u001b[0m\n\u001b[1;32m      <a href='vscode-notebook-cell:/Users/csh/programming_language/001_Python/etc/coding_test_practice_lv1.ipynb#X66sZmlsZQ%3D%3D?line=1'>2</a>\u001b[0m \u001b[39mdef\u001b[39;00m \u001b[39msolution\u001b[39m(n):\n\u001b[0;32m----> <a href='vscode-notebook-cell:/Users/csh/programming_language/001_Python/etc/coding_test_practice_lv1.ipynb#X66sZmlsZQ%3D%3D?line=2'>3</a>\u001b[0m     \u001b[39mreturn\u001b[39;00m n \u001b[39m+\u001b[39m \u001b[39msum\u001b[39m([i \u001b[39mfor\u001b[39;00m i \u001b[39min\u001b[39;00m \u001b[39mrange\u001b[39m(\u001b[39m1\u001b[39m, n\u001b[39m/\u001b[39m\u001b[39m/\u001b[39m\u001b[39m2\u001b[39m \u001b[39m+\u001b[39m \u001b[39m1\u001b[39m) \u001b[39mif\u001b[39;00m \u001b[39mnot\u001b[39;00m n \u001b[39m%\u001b[39;49m i])\n",
      "\u001b[0;31mKeyboardInterrupt\u001b[0m: "
     ]
    }
   ],
   "source": [
    "# n // 2 만큼까지 검사하는 방법\n",
    "def solution(n):\n",
    "    return n + sum([i for i in range(1, n//2 + 1) if not n % i])\n",
    "\n",
    "%timeit solution(3000)"
   ]
  },
  {
   "cell_type": "code",
   "execution_count": null,
   "metadata": {},
   "outputs": [
    {
     "data": {
      "text/plain": [
       "31.0"
      ]
     },
     "execution_count": 4,
     "metadata": {},
     "output_type": "execute_result"
    }
   ],
   "source": [
    "# n ** 0.5(n의 제곱근) 만큼까지 검사하는 방법 -> n이 커질수록 효율적\n",
    "def solution(n):\n",
    "    answer = 0\n",
    "    for i in range(1, int(n**0.5)+1):\n",
    "        if not n%i:\n",
    "            answer += i + n//i\n",
    "    return answer - n**0.5 if int(n**0.5) == n**0.5 else answer\n",
    "\n",
    "solution(16)"
   ]
  },
  {
   "cell_type": "markdown",
   "metadata": {},
   "source": [
    "## 이상한 문자 만들기\n",
    "- 문제 설명\n",
    "    - 문자열 s는 한 개 이상의 단어로 구성되어 있습니다. 각 단어는 하나 이상의 공백문자로 구분되어 있습니다.\n",
    "    - 각 단어의 짝수번째 알파벳은 대문자로, 홀수번째 알파벳은 소문자로 바꾼 문자열을 리턴하는 함수, solution을 완성하세요.\n",
    "\n",
    "- 제한 사항\n",
    "    - 문자열 전체의 짝/홀수 인덱스가 아니라, 단어(공백을 기준)별로 짝/홀수 인덱스를 판단해야합니다.\n",
    "    - 첫 번째 글자는 0번째 인덱스로 보아 짝수번째 알파벳으로 처리해야 합니다.\n",
    "    - 문자열 s은 0개 이상의 공백으로 시작합니다.(즉, 공백으로 시작할 수도, 하지 않을 수도 있습니다.)\n",
    "    - 문자열 s의 마지막 또한 공백으로 시작할 수도, 하지 않을 수도 있습니다."
   ]
  },
  {
   "cell_type": "code",
   "execution_count": null,
   "metadata": {},
   "outputs": [
    {
     "data": {
      "text/plain": [
       "' LlHlLl LhLl '"
      ]
     },
     "execution_count": 1020,
     "metadata": {},
     "output_type": "execute_result"
    }
   ],
   "source": [
    "# O(n)\n",
    "import re\n",
    "def solution(s):\n",
    "    answer = \"\"\n",
    "    while s[0] == \" \":\n",
    "        answer += \" \"\n",
    "        s = s[1:]\n",
    "    for i in re.findall(\"\\w+\\s+|\\w+\", s):\n",
    "        for j in range(len(i)):\n",
    "            if not j%2 and i[j] != \" \":\n",
    "                answer += i[j].upper()\n",
    "            elif j%2 and i[j] != \" \":\n",
    "                answer += i[j].lower()\n",
    "            else:\n",
    "                answer += \" \"\n",
    "            \n",
    "    return answer\n",
    "\n",
    "# solution(\"try hello world\")\n",
    "# solution(\"try  hello  world abdcefgh abcd\")\n",
    "# solution(\"abc abcd abcde\")\n",
    "# solution(\"LLHLLL lHlL \")\n",
    "solution(\" LLHLLL lHlL \")"
   ]
  },
  {
   "cell_type": "code",
   "execution_count": null,
   "metadata": {},
   "outputs": [
    {
     "data": {
      "text/plain": [
       "' LlHlLl LhLl '"
      ]
     },
     "execution_count": 1033,
     "metadata": {},
     "output_type": "execute_result"
    }
   ],
   "source": [
    "# O(n)\n",
    "import re\n",
    "def solution(s):\n",
    "    # for i, a in enumerate(s.split(\" \")):\n",
    "    #     print(i, a)\n",
    "    return \" \".join(map(lambda x: \"\".join([a.lower() if i % 2 else a.upper() for i, a in enumerate(x)]), s.split(\" \")))\n",
    "\n",
    "# solution(\"try hello world\")\n",
    "# solution(\"try  hello  world abdcefgh abcd\")\n",
    "# solution(\"abc abcd abcde\")\n",
    "# solution(\"LLHLLL lHlL \")\n",
    "solution(\" LLHLLL lHlL \")"
   ]
  },
  {
   "cell_type": "markdown",
   "metadata": {},
   "source": [
    "## 최대 공약수와 최소 공배수\n",
    "- 문제 설명\n",
    "    - 두 수를 입력받아 두 수의 최대공약수와 최소공배수를 반환하는 함수,\n",
    "    - solution을 완성해 보세요. 배열의 맨 앞에 최대공약수, 그다음 최소공배수를 넣어 반환하면 됩니다.\n",
    "    - 예를 들어 두 수 3, 12의 최대공약수는 3, 최소공배수는 12이므로 solution(3, 12)는 [3, 12]를 반환해야 합니다.\n",
    "\n",
    "- 제한 사항\n",
    "    - 두 수는 1이상 1000000이하의 자연수입니다."
   ]
  },
  {
   "cell_type": "code",
   "execution_count": null,
   "metadata": {},
   "outputs": [
    {
     "data": {
      "text/plain": [
       "[6, 121638]"
      ]
     },
     "execution_count": 1175,
     "metadata": {},
     "output_type": "execute_result"
    }
   ],
   "source": [
    "# 유클리드 호제법 a x b = gcd x lcm\n",
    "def solution(n, m):\n",
    "    nm = n*m\n",
    "    while m > 0:\n",
    "        n, m = m, n%m\n",
    "    g = n\n",
    "    return [g, nm//g]\n",
    "\n",
    "solution(1254, 582)"
   ]
  },
  {
   "cell_type": "markdown",
   "metadata": {},
   "source": [
    "## 명예의 전당\n",
    "- 문제 설명\n",
    "    - \"명예의 전당\"이라는 TV 프로그램에서는 매일 1명의 가수가 노래를 부르고, 시청자들의 문자 투표수로 가수에게 점수를 부여합니다. 매일 출연한 가수의 점수가 지금까지 출연 가수들의 점수 중 상위 k번째 이내이면 해당 가수의 점수를 명예의 전당이라는 목록에 올려 기념합니다. 즉 프로그램 시작 이후 초기에 k일까지는 모든 출연 가수의 점수가 명예의 전당에 오르게 됩니다. k일 다음부터는 출연 가수의 점수가 기존의 명예의 전당 목록의 k번째 순위의 가수 점수보다 더 높으면, 출연 가수의 점수가 명예의 전당에 오르게 되고 기존의 k번째 순위의 점수는 명예의 전당에서 내려오게 됩니다.\n",
    "    - 이 프로그램에서는 매일 \"명예의 전당\"의 최하위 점수를 발표합니다. 예를 들어, k = 3이고, 7일 동안 진행된 가수의 점수가 [10, 100, 20, 150, 1, 100, 200]이라면, 명예의 전당에서 발표된 점수는 아래의 그림과 같이 [10, 10, 10, 20, 20, 100, 100]입니다.\n",
    "    - 명예의 전당 목록의 점수의 개수 k, 1일부터 마지막 날까지 출연한 가수들의 점수인 score가 주어졌을 때, 매일 발표된 명예의 전당의 최하위 점수를 return하는 solution 함수를 완성해주세요.\n",
    "\n",
    "- 제한사항\n",
    "    - 3 ≤ k ≤ 100\n",
    "    - 7 ≤ score의 길이 ≤ 1,000\n",
    "    - 0 ≤ score[i] ≤ 2,000"
   ]
  },
  {
   "cell_type": "code",
   "execution_count": null,
   "metadata": {},
   "outputs": [
    {
     "name": "stdout",
     "output_type": "stream",
     "text": [
      "14.6 µs ± 890 ns per loop (mean ± std. dev. of 7 runs, 100,000 loops each)\n"
     ]
    }
   ],
   "source": [
    "import heapq\n",
    "\n",
    "def solution(k, score):\n",
    "    answer = []\n",
    "    heapq.heapify((HOF := []))\n",
    "    \n",
    "    for s in score:\n",
    "        if len(HOF) < k:\n",
    "            heapq.heappush(HOF, s)\n",
    "        elif len(HOF) == k and s > smallest:\n",
    "            heapq.heappop(HOF)\n",
    "            heapq.heappush(HOF, s)\n",
    "        answer.append((smallest := heapq.nsmallest(1, HOF)[0]))\n",
    "    \n",
    "    return answer\n",
    "\n",
    "%timeit solution(3, [10, 100, 20, 150, 1, 100, 200])\n",
    "# solution(4, [0, 300, 40, 300, 20, 70, 150, 50, 500, 1000])"
   ]
  },
  {
   "cell_type": "markdown",
   "metadata": {},
   "source": [
    "## 기사단원의 무기\n",
    "- 문제 설명\n",
    "    - 숫자나라 기사단의 각 기사에게는 1번부터 number까지 번호가 지정되어 있습니다. 기사들은 무기점에서 무기를 구매하려고 합니다.\n",
    "    - 각 기사는 자신의 기사 번호의 약수 개수에 해당하는 공격력을 가진 무기를 구매하려 합니다. 단, 이웃나라와의 협약에 의해 공격력의 제한수치를 정하고, 제한수치보다 큰 공격력을 가진 무기를 구매해야 하는 기사는 협약기관에서 정한 공격력을 가지는 무기를 구매해야 합니다.\n",
    "    - 예를 들어, 15번으로 지정된 기사단원은 15의 약수가 1, 3, 5, 15로 4개 이므로, 공격력이 4인 무기를 구매합니다. 만약, 이웃나라와의 협약으로 정해진 공격력의 제한수치가 3이고 제한수치를 초과한 기사가 사용할 무기의 공격력이 2라면, 15번으로 지정된 기사단원은 무기점에서 공격력이 2인 무기를 구매합니다. 무기를 만들 때, 무기의 공격력 1당 1kg의 철이 필요합니다. 그래서 무기점에서 무기를 모두 만들기 위해 필요한 철의 무게를 미리 계산하려 합니다.\n",
    "    - 기사단원의 수를 나타내는 정수 number와 이웃나라와 협약으로 정해진 공격력의 제한수치를 나타내는 정수 limit와 제한수치를 초과한 기사가 사용할 무기의 공격력을 나타내는 정수 power가 주어졌을 때, 무기점의 주인이 무기를 모두 만들기 위해 필요한 철의 무게를 return 하는 solution 함수를 완성하시오.\n",
    "\n",
    "- 제한사항\n",
    "    - 1 ≤ number ≤ 100,000\n",
    "    - 2 ≤ limit ≤ 100\n",
    "    - 1 ≤ power ≤ limit"
   ]
  },
  {
   "cell_type": "code",
   "execution_count": 176,
   "metadata": {},
   "outputs": [
    {
     "data": {
      "text/plain": [
       "21"
      ]
     },
     "execution_count": 176,
     "metadata": {},
     "output_type": "execute_result"
    }
   ],
   "source": [
    "# 기사마다 번호가 부여되고, 자신의 기사 번호의 약수 개수에 해당하는 공격력을 가진 무기를 구매.\n",
    "# 단, 공격력의 제한수치가 정해져 있고, 제한수치보다 큰 공격력을 가진 무기는 \"협약기관\"에서 정한 무기를 구매.\n",
    "# 무기를 만들 때, 공격력 1당 1kg의 철이 필요함. 무기를 모두 만들기 위해 필요한 철의 무기를 계산.\n",
    "\n",
    "# O(n*sqrt(n))\n",
    "def solution(number, limit, power):\n",
    "    answer = 0\n",
    "    for num in range(1, number+1):\n",
    "        divisors = 0\n",
    "        for i in range(1, int(num**0.5)+1):\n",
    "            if not num%i:\n",
    "                divisors += 2\n",
    "        if int(num**0.5) == num**0.5:\n",
    "            divisors -= 1\n",
    "        if divisors > limit:\n",
    "            answer += power\n",
    "        else:\n",
    "            answer += divisors\n",
    "    return answer\n",
    "\n",
    "# solution(5, 3, 2)\n",
    "solution(10, 3, 2)"
   ]
  },
  {
   "cell_type": "markdown",
   "metadata": {},
   "source": [
    "## 과일 장수\n",
    "- 문제 설명\n",
    "    - 과일 장수가 사과 상자를 포장하고 있습니다. 사과는 상태에 따라 1점부터 k점까지의 점수로 분류하며, k점이 최상품의 사과이고 1점이 최하품의 사과입니다. 사과 한 상자의 가격은 다음과 같이 결정됩니다.\n",
    "    - 한 상자에 사과를 m개씩 담아 포장합니다.\n",
    "    - 상자에 담긴 사과 중 가장 낮은 점수가 p (1 ≤ p ≤ k)점인 경우, 사과 한 상자의 가격은 p * m 입니다.\n",
    "    - 과일 장수가 가능한 많은 사과를 팔았을 때, 얻을 수 있는 최대 이익을 계산하고자 합니다.(사과는 상자 단위로만 판매하며, 남는 사과는 버립니다)\n",
    "    - 예를 들어, k = 3, m = 4, 사과 7개의 점수가 [1, 2, 3, 1, 2, 3, 1]이라면, 다음과 같이 [2, 3, 2, 3]으로 구성된 사과 상자 1개를 만들어 판매하여 최대 이익을 얻을 수 있습니다.\n",
    "    - (최저 사과 점수) x (한 상자에 담긴 사과 개수) x (상자의 개수) = 2 x 4 x 1 = 8\n",
    "    - 사과의 최대 점수 k, 한 상자에 들어가는 사과의 수 m, 사과들의 점수 score가 주어졌을 때, 과일 장수가 얻을 수 있는 최대 이익을 return하는 solution 함수를 완성해주세요.\n",
    "\n",
    "- 제한사항\n",
    "    - 3 ≤ k ≤ 9\n",
    "    - 3 ≤ m ≤ 10\n",
    "    - 7 ≤ score의 길이 ≤ 1,000,000\n",
    "    - 1 ≤ score[i] ≤ k\n",
    "    - 이익이 발생하지 않는 경우에는 0을 return 해주세요."
   ]
  },
  {
   "cell_type": "code",
   "execution_count": 244,
   "metadata": {},
   "outputs": [
    {
     "data": {
      "text/plain": [
       "33"
      ]
     },
     "execution_count": 244,
     "metadata": {},
     "output_type": "execute_result"
    }
   ],
   "source": [
    "def solution(k, m, score):\n",
    "    answer = 0\n",
    "    score = sorted(score, reverse=True)\n",
    "    \n",
    "    for i in range(1, len(score)//m + 1):\n",
    "        answer += score[i*m - 1] * m\n",
    "    \n",
    "    return answer\n",
    "\n",
    "# solution(3, 4, [1, 2, 3, 1, 2, 3, 1])\n",
    "solution(4, 3, [4, 1, 2, 2, 4, 4, 4, 4, 1, 2, 4, 2])"
   ]
  },
  {
   "cell_type": "code",
   "execution_count": null,
   "metadata": {},
   "outputs": [],
   "source": []
  },
  {
   "cell_type": "code",
   "execution_count": null,
   "metadata": {},
   "outputs": [],
   "source": []
  },
  {
   "cell_type": "code",
   "execution_count": null,
   "metadata": {},
   "outputs": [],
   "source": []
  }
 ],
 "metadata": {
  "kernelspec": {
   "display_name": "Python 3.8.13 ('base')",
   "language": "python",
   "name": "python3"
  },
  "language_info": {
   "codemirror_mode": {
    "name": "ipython",
    "version": 3
   },
   "file_extension": ".py",
   "mimetype": "text/x-python",
   "name": "python",
   "nbconvert_exporter": "python",
   "pygments_lexer": "ipython3",
   "version": "3.8.13"
  },
  "orig_nbformat": 4,
  "vscode": {
   "interpreter": {
    "hash": "38cc0cca68228d4d18227abe74ed813685db17db46984279e4aabdddebf5f1ba"
   }
  }
 },
 "nbformat": 4,
 "nbformat_minor": 2
}
