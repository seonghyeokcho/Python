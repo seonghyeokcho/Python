{
 "cells": [
  {
   "cell_type": "markdown",
   "metadata": {},
   "source": [
    "## 소수 만들기\n",
    "- 문제 설명\n",
    "    - 주어진 숫자 중 3개의 수를 더했을 때 소수가 되는 경우의 개수를 구하려고 합니다.\n",
    "    - 숫자들이 들어있는 배열 nums가 매개변수로 주어질 때,\n",
    "    - nums에 있는 숫자들 중 서로 다른 3개를 골라 더했을 때\n",
    "    - 소수가 되는 경우의 개수를 return 하도록 solution 함수를 완성해주세요.\n",
    "- 제한 사항\n",
    "    - nums에 들어있는 숫자의 개수는 3개 이상 50개 이하입니다.\n",
    "    - nums의 각 원소는 1 이상 1,000 이하의 자연수이며, 중복된 숫자가 들어있지 않습니다."
   ]
  },
  {
   "cell_type": "code",
   "execution_count": 68,
   "metadata": {},
   "outputs": [
    {
     "name": "stdout",
     "output_type": "stream",
     "text": [
      "CPU times: user 27 µs, sys: 1 µs, total: 28 µs\n",
      "Wall time: 31.9 µs\n"
     ]
    },
    {
     "data": {
      "text/plain": [
       "1"
      ]
     },
     "execution_count": 68,
     "metadata": {},
     "output_type": "execute_result"
    }
   ],
   "source": [
    "from itertools import combinations\n",
    "\n",
    "\n",
    "def solution(nums):\n",
    "    answer = 0\n",
    "    \n",
    "    for i in map(sum, combinations(nums, 3)):\n",
    "        for j in range(2, int(i**(1/2)) + 1):\n",
    "            if not i%j:\n",
    "                break\n",
    "        else:\n",
    "            answer += 1\n",
    "            \n",
    "    return answer\n",
    "\n",
    "%time solution([1,2,3,4])"
   ]
  },
  {
   "cell_type": "code",
   "execution_count": 59,
   "metadata": {},
   "outputs": [
    {
     "name": "stdout",
     "output_type": "stream",
     "text": [
      "CPU times: user 55 µs, sys: 4 µs, total: 59 µs\n",
      "Wall time: 62.2 µs\n"
     ]
    },
    {
     "data": {
      "text/plain": [
       "1"
      ]
     },
     "execution_count": 59,
     "metadata": {},
     "output_type": "execute_result"
    }
   ],
   "source": [
    "import math\n",
    "from itertools import combinations\n",
    "def solution(nums):\n",
    "    return list(map(lambda x : all((x%i for i in range(2, int(math.sqrt(x))+1))), (map(sum,combinations(nums, 3))))).count(True)\n",
    "\n",
    "%time solution([1,2,3,4])"
   ]
  },
  {
   "cell_type": "markdown",
   "metadata": {},
   "source": [
    "## 폰켓몬\n",
    "- 문제 설명\n",
    "    - 당신은 폰켓몬을 잡기 위한 오랜 여행 끝에, 홍 박사님의 연구실에 도착했습니다.\n",
    "    - 홍 박사님은 당신에게 자신의 연구실에 있는 총 N 마리의 폰켓몬 중에서 N/2마리를 가져가도 좋다고 했습니다.\n",
    "    - 홍 박사님 연구실의 폰켓몬은 종류에 따라 번호를 붙여 구분합니다.\n",
    "    - 따라서 같은 종류의 폰켓몬은 같은 번호를 가지고 있습니다.\n",
    "    - 예를 들어 연구실에 총 4마리의 폰켓몬이 있고, 각 폰켓몬의 종류 번호가 [3번, 1번, 2번, 3번]이라면\n",
    "    - 이는 3번 폰켓몬 두 마리, 1번 폰켓몬 한 마리, 2번 폰켓몬 한 마리가 있음을 나타냅니다.\n",
    "    - 이때, 4마리의 폰켓몬 중 2마리를 고르는 방법은 다음과 같이 6가지가 있습니다.\n",
    "        - 첫 번째(3번), 두 번째(1번) 폰켓몬을 선택\n",
    "        - 첫 번째(3번), 세 번째(2번) 폰켓몬을 선택\n",
    "        - 첫 번째(3번), 네 번째(3번) 폰켓몬을 선택\n",
    "        - 두 번째(1번), 세 번째(2번) 폰켓몬을 선택\n",
    "        - 두 번째(1번), 네 번째(3번) 폰켓몬을 선택\n",
    "        - 세 번째(2번), 네 번째(3번) 폰켓몬을 선택\n",
    "    - 이때, 첫 번째(3번) 폰켓몬과 네 번째(3번) 폰켓몬을 선택하는 방법은 한 종류(3번 폰켓몬 두 마리)의 폰켓몬만\n",
    "    - 가질 수 있지만, 다른 방법들은 모두 두 종류의 폰켓몬을 가질 수 있습니다.\n",
    "    - 따라서 위 예시에서 가질 수 있는 폰켓몬 종류 수의 최댓값은 2가 됩니다.\n",
    "    - 당신은 최대한 다양한 종류의 폰켓몬을 가지길 원하기 때문에, 최대한 많은 종류의 폰켓몬을 포함해서\n",
    "    - N/2마리를 선택하려 합니다. N마리 폰켓몬의 종류 번호가 담긴 배열 nums가 매개변수로 주어질 때,\n",
    "    - N/2마리의 폰켓몬을 선택하는 방법 중, 가장 많은 종류의 폰켓몬을 선택하는 방법을 찾아,\n",
    "    - 그때의 폰켓몬 종류 번호의 개수를 return 하도록 solution 함수를 완성해주세요.\n",
    "\n",
    "- 제한사항\n",
    "    - nums는 폰켓몬의 종류 번호가 담긴 1차원 배열입니다.\n",
    "    - nums의 길이(N)는 1 이상 10,000 이하의 자연수이며, 항상 짝수로 주어집니다.\n",
    "    - 폰켓몬의 종류 번호는 1 이상 200,000 이하의 자연수로 나타냅니다.\n",
    "    - 가장 많은 종류의 폰켓몬을 선택하는 방법이 여러 가지인 경우에도,\n",
    "    - 선택할 수 있는 폰켓몬 종류 개수의 최댓값 하나만 return 하면 됩니다."
   ]
  },
  {
   "cell_type": "code",
   "execution_count": 90,
   "metadata": {},
   "outputs": [
    {
     "data": {
      "text/plain": [
       "2"
      ]
     },
     "execution_count": 90,
     "metadata": {},
     "output_type": "execute_result"
    }
   ],
   "source": [
    "def solution(nums):\n",
    "    return e if (e := len(set(nums))) < (r := int(len(nums) / 2)) else r\n",
    "\n",
    "# solution([3,1,2,3])\n",
    "solution([3,3,3,2,2,4])"
   ]
  },
  {
   "cell_type": "markdown",
   "metadata": {},
   "source": [
    "## 완주하지 못한 선수\n",
    "- 문제 설명\n",
    "    - 수많은 마라톤 선수들이 마라톤에 참여하였습니다.\n",
    "    - 단 한 명의 선수를 제외하고는 모든 선수가 마라톤을 완주하였습니다.\n",
    "    - 마라톤에 참여한 선수들의 이름이 담긴 배열 participant와\n",
    "    - 완주한 선수들의 이름이 담긴 배열 completion이 주어질 때,\n",
    "    - 완주하지 못한 선수의 이름을 return 하도록 solution 함수를 작성해주세요.\n",
    "\n",
    "- 제한사항\n",
    "    - 마라톤 경기에 참여한 선수의 수는 1명 이상 100,000명 이하입니다.\n",
    "    - completion의 길이는 participant의 길이보다 1 작습니다.\n",
    "    - 참가자의 이름은 1개 이상 20개 이하의 알파벳 소문자로 이루어져 있습니다.\n",
    "    - 참가자 중에는 동명이인이 있을 수 있습니다.\n"
   ]
  },
  {
   "cell_type": "code",
   "execution_count": 113,
   "metadata": {},
   "outputs": [
    {
     "data": {
      "text/plain": [
       "'mislav'"
      ]
     },
     "execution_count": 113,
     "metadata": {},
     "output_type": "execute_result"
    }
   ],
   "source": [
    "from collections import Counter\n",
    "\n",
    "def solution(participant, completion):\n",
    "    return list(Counter(participant) - Counter(completion))[0]\n",
    "    \n",
    "# solution([\"leo\", \"kiki\", \"eden\"], [\"eden\", \"kiki\"])\n",
    "solution([\"mislav\", \"stanko\", \"mislav\", \"ana\"], [\"stanko\", \"ana\", \"mislav\"])"
   ]
  },
  {
   "cell_type": "code",
   "execution_count": 119,
   "metadata": {},
   "outputs": [
    {
     "data": {
      "text/plain": [
       "'leo'"
      ]
     },
     "execution_count": 119,
     "metadata": {},
     "output_type": "execute_result"
    }
   ],
   "source": [
    "def solution(participant, completion):\n",
    "    dic = {}\n",
    "    temp = 0\n",
    "    completion.append(0)\n",
    "    for part, com in zip(participant, completion):\n",
    "        dic[hash(part)] = part\n",
    "        temp += hash(part)\n",
    "        temp -= hash(com)\n",
    "    \n",
    "    answer = dic[temp]\n",
    "    return answer\n",
    "\n",
    "solution([\"leo\", \"kiki\", \"eden\"], [\"eden\", \"kiki\"])\n",
    "# solution([\"mislav\", \"stanko\", \"mislav\", \"ana\"], [\"stanko\", \"ana\", \"mislav\"])"
   ]
  },
  {
   "cell_type": "markdown",
   "metadata": {},
   "source": [
    "## 시저 암호\n",
    "- 문제 설명\n",
    "    -어떤 문장의 각 알파벳을 일정한 거리만큼 밀어서 다른 알파벳으로 바꾸는 암호화 방식을 시저 암호라고 합니다.\n",
    "    - 예를 들어 \"AB\"는 1만큼 밀면 \"BC\"가 되고, 3만큼 밀면 \"DE\"가 됩니다.\n",
    "    - \"z\"는 1만큼 밀면 \"a\"가 됩니다. 문자열 s와 거리 n을 입력받아 s를 n만큼 민 암호문을 만드는 함수,\n",
    "    - solution을 완성해 보세요.\n",
    "\n",
    "- 제한 조건\n",
    "    - 공백은 아무리 밀어도 공백입니다.\n",
    "    - s는 알파벳 소문자, 대문자, 공백으로만 이루어져 있습니다.\n",
    "    - s의 길이는 8000이하입니다.\n",
    "    - n은 1 이상, 25이하인 자연수입니다."
   ]
  },
  {
   "cell_type": "code",
   "execution_count": 17,
   "metadata": {},
   "outputs": [
    {
     "data": {
      "text/plain": [
       "'e F d'"
      ]
     },
     "execution_count": 17,
     "metadata": {},
     "output_type": "execute_result"
    }
   ],
   "source": [
    "import string\n",
    "\n",
    "\n",
    "def solution(s, n):\n",
    "    answer = ''\n",
    "    lower = string.ascii_lowercase\n",
    "    upper = string.ascii_uppercase\n",
    "    for i in range(len(s)):\n",
    "        if s[i] in lower:\n",
    "            if lower.index(s[i])+n > 25:\n",
    "                answer += lower[lower.index(s[i])+n-26]\n",
    "                continue\n",
    "            answer += lower[lower.index(s[i])+n]\n",
    "        elif s[i] in upper:\n",
    "            if upper.index(s[i])+n > 25:\n",
    "                answer += upper[upper.index(s[i])+n-26]\n",
    "                continue\n",
    "            answer += upper[upper.index(s[i])+n]\n",
    "        else:\n",
    "            answer += s[i]\n",
    "    return answer\n",
    "\n",
    "solution(\"a B z\", 4)"
   ]
  },
  {
   "cell_type": "code",
   "execution_count": 55,
   "metadata": {},
   "outputs": [
    {
     "data": {
      "text/plain": [
       "'e F d'"
      ]
     },
     "execution_count": 55,
     "metadata": {},
     "output_type": "execute_result"
    }
   ],
   "source": [
    "def solution(s, n):\n",
    "    answer = ''\n",
    "    \n",
    "    for i in range(len(s)):\n",
    "        if s[i].islower():\n",
    "            answer += chr((ord(s[i]) - ord(\"a\") + n) % 26 + ord(\"a\"))\n",
    "        elif s[i].isupper():\n",
    "            answer += chr((ord(s[i]) - ord(\"A\") + n) % 26 + ord(\"A\"))\n",
    "        else:\n",
    "            answer += s[i]\n",
    "    \n",
    "    return answer\n",
    "\n",
    "solution(\"a B z\", 4)\n",
    "# solution(\"AB\", 2)"
   ]
  },
  {
   "cell_type": "markdown",
   "metadata": {},
   "source": [
    "## K번째 수\n",
    "- 문제 설명\n",
    "    - 배열 array의 i번째 숫자부터 j번째 숫자까지 자르고 정렬했을 때, k번째에 있는 수를 구하려 합니다.\n",
    "    - 예를 들어 array가 [1, 5, 2, 6, 3, 7, 4], i = 2, j = 5, k = 3이라면\n",
    "    - array의 2번째부터 5번째까지 자르면 [5, 2, 6, 3]입니다.\n",
    "    - 1에서 나온 배열을 정렬하면 [2, 3, 5, 6]입니다.\n",
    "    - 2에서 나온 배열의 3번째 숫자는 5입니다.\n",
    "    - 배열 array, [i, j, k]를 원소로 가진 2차원 배열 commands가 매개변수로 주어질 때,\n",
    "    - commands의 모든 원소에 대해 앞서 설명한 연산을 적용했을 때 나온 결과를 배열에 담아 return 하도록\n",
    "    - solution 함수를 작성해주세요.\n",
    "\n",
    "- 제한사항\n",
    "    - array의 길이는 1 이상 100 이하입니다.\n",
    "    - array의 각 원소는 1 이상 100 이하입니다.\n",
    "    - commands의 길이는 1 이상 50 이하입니다.\n",
    "    - commands의 각 원소는 길이가 3입니다."
   ]
  },
  {
   "cell_type": "code",
   "execution_count": 103,
   "metadata": {},
   "outputs": [
    {
     "data": {
      "text/plain": [
       "[5, 6, 3]"
      ]
     },
     "execution_count": 103,
     "metadata": {},
     "output_type": "execute_result"
    }
   ],
   "source": [
    "def solution(array, commands):\n",
    "    return [sorted(array[c[0]-1:c[1]])[c[2]-1] for c in commands]\n",
    "\n",
    "solution([1, 5, 2, 6, 3, 7, 4], [[2, 5, 3], [4, 4, 1], [1, 7, 3]])"
   ]
  },
  {
   "cell_type": "markdown",
   "metadata": {},
   "source": [
    "## 모의고사\n",
    "- 문제 설명\n",
    "    - 수포자는 수학을 포기한 사람의 준말입니다. 수포자 삼인방은 모의고사에 수학 문제를 전부 찍으려 합니다.\n",
    "    - 수포자는 1번 문제부터 마지막 문제까지 다음과 같이 찍습니다.\n",
    "    - 1번 수포자가 찍는 방식: 1, 2, 3, 4, 5, ...\n",
    "    - 2번 수포자가 찍는 방식: 2, 1, 2, 3, 2, 4, 2, 5, ...\n",
    "    - 3번 수포자가 찍는 방식: 3, 3, 1, 1, 2, 2, 4, 4, 5, 5, ...\n",
    "    - 1번 문제부터 마지막 문제까지의 정답이 순서대로 들은 배열 answers가 주어졌을 때,\n",
    "    - 가장 많은 문제를 맞힌 사람이 누구인지 배열에 담아 return 하도록 solution 함수를 작성해주세요.\n",
    "\n",
    "- 제한 조건\n",
    "    - 시험은 최대 10,000 문제로 구성되어있습니다.\n",
    "    - 문제의 정답은 1, 2, 3, 4, 5중 하나입니다.\n",
    "    - 가장 높은 점수를 받은 사람이 여럿일 경우, return하는 값을 오름차순 정렬해주세요."
   ]
  },
  {
   "cell_type": "code",
   "execution_count": 137,
   "metadata": {},
   "outputs": [
    {
     "name": "stdout",
     "output_type": "stream",
     "text": [
      "['1', '2', '3', '4', '5']\n"
     ]
    },
    {
     "data": {
      "text/plain": [
       "[]"
      ]
     },
     "execution_count": 137,
     "metadata": {},
     "output_type": "execute_result"
    }
   ],
   "source": [
    "from re import Pattern\n",
    "\n",
    "\n",
    "def solution(answers):\n",
    "    answer = []\n",
    "    p = [\"12345\", \"21232425\", \"3311224455\"]\n",
    "    answers = [\"\".join(str(a)) for a in answers]\n",
    "    print(answers)\n",
    "    \n",
    "    # for i in range(3):\n",
    "    #     q, r = divmod(len(answer), len(p[i]))\n",
    "    #     pick = p[i] * q + p[i][:r]\n",
    "    \n",
    "    return answer\n",
    "\n",
    "solution([1,2,3,4,5])"
   ]
  },
  {
   "cell_type": "code",
   "execution_count": 134,
   "metadata": {},
   "outputs": [
    {
     "name": "stdout",
     "output_type": "stream",
     "text": [
      "123451234512\n"
     ]
    }
   ],
   "source": [
    "a = \"12345\"\n",
    "b = \"321547685134\"\n",
    "c, d = divmod(len(b), len(a))\n",
    "e = \"12345\" * c + a[:d]\n",
    "print(e)"
   ]
  },
  {
   "cell_type": "code",
   "execution_count": 125,
   "metadata": {},
   "outputs": [
    {
     "data": {
      "text/plain": [
       "(2, 0)"
      ]
     },
     "execution_count": 125,
     "metadata": {},
     "output_type": "execute_result"
    }
   ],
   "source": [
    "divmod(10, 5)"
   ]
  },
  {
   "cell_type": "code",
   "execution_count": null,
   "metadata": {},
   "outputs": [],
   "source": []
  }
 ],
 "metadata": {
  "kernelspec": {
   "display_name": "Python 3.8.13 ('base')",
   "language": "python",
   "name": "python3"
  },
  "language_info": {
   "codemirror_mode": {
    "name": "ipython",
    "version": 3
   },
   "file_extension": ".py",
   "mimetype": "text/x-python",
   "name": "python",
   "nbconvert_exporter": "python",
   "pygments_lexer": "ipython3",
   "version": "3.8.13"
  },
  "orig_nbformat": 4,
  "vscode": {
   "interpreter": {
    "hash": "38cc0cca68228d4d18227abe74ed813685db17db46984279e4aabdddebf5f1ba"
   }
  }
 },
 "nbformat": 4,
 "nbformat_minor": 2
}
