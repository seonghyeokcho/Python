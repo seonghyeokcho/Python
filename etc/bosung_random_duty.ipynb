{
 "cells": [
  {
   "cell_type": "code",
   "execution_count": 53,
   "metadata": {},
   "outputs": [],
   "source": [
    "import pandas as pd\n",
    "import numpy as np\n",
    "from datetime import datetime\n",
    "from dateutil.relativedelta import relativedelta"
   ]
  },
  {
   "attachments": {},
   "cell_type": "markdown",
   "metadata": {},
   "source": [
    "- 권 보성회 근무자 정보"
   ]
  },
  {
   "cell_type": "code",
   "execution_count": 60,
   "metadata": {},
   "outputs": [
    {
     "data": {
      "text/plain": [
       "[['김세완', '잠실지역 잠실지부', '지역', '010-3762-8715'],\n",
       " ['김필립', '잠실지역 삼전지부', '지부', '010-7979-4546'],\n",
       " ['노성민', '송파지역 송파지부', '지구리더', '010-3409-0503'],\n",
       " ['박건홍', '송파지역 풍남지부', '지부', '010-6435-8796'],\n",
       " ['박종규', '잠실지역 가락지부', '지부', '010-5062-3836'],\n",
       " ['박희석', '거여지역 거여지부', '지부', '010-6545-7387'],\n",
       " ['송지훈', '잠실지역 가락지부', '그룹장', '010-4430-1540'],\n",
       " ['이노현', '거여지역 영풍지부', '지역', '010-2856-1655'],\n",
       " ['이상필', '잠실지역 문정지부', '지부', '010-3967-0502'],\n",
       " ['이영훈', '거여지역 거여지부', '회원', '010-4828-9565'],\n",
       " ['이창호', '거여지역 거여지부', '권', '010-7223-5814'],\n",
       " ['이태규', '거여지역 영풍지부', '그룹장', '010-3552-3119'],\n",
       " ['임준혁', '거여지역 영풍지부', '지구리더', '010-4059-9132'],\n",
       " ['장윤재', '송파지역 송파지부', '회원', '010-7682-8247'],\n",
       " ['정민서', '송파지역 풍납지부', '그룹장', '010-6449-7175'],\n",
       " ['정원철', '송파지역 송파지부', '지부', '010-8207-2216'],\n",
       " ['조성혁', '거여지역 마천지부', '지부', '010-5695-1153'],\n",
       " ['황희성', '잠실지역 잠실지부', '그룹장', '010-6489-1542']]"
      ]
     },
     "execution_count": 60,
     "metadata": {},
     "output_type": "execute_result"
    }
   ],
   "source": [
    "info = [\n",
    "    [\"박건홍\", \"송파지역 풍남지부\", \"지부\", \"010-6435-8796\"],\n",
    "    [\"정민서\", \"송파지역 풍납지부\", \"그룹장\", \"010-6449-7175\"],\n",
    "    [\"김세완\", \"잠실지역 잠실지부\", \"지역\", \"010-3762-8715\"],\n",
    "    [\"황희성\", \"잠실지역 잠실지부\", \"그룹장\", \"010-6489-1542\"],\n",
    "    [\"조성혁\", \"거여지역 마천지부\", \"지부\", \"010-5695-1153\"],\n",
    "    [\"박희석\", \"거여지역 거여지부\", \"지부\", \"010-6545-7387\"],\n",
    "    [\"이노현\", \"거여지역 영풍지부\", \"지역\", \"010-2856-1655\"],\n",
    "    [\"정원철\", \"송파지역 송파지부\", \"지부\", \"010-8207-2216\"],\n",
    "    [\"김필립\", \"잠실지역 삼전지부\", \"지부\", \"010-7979-4546\"],\n",
    "    [\"임준혁\", \"거여지역 영풍지부\", \"지구리더\", \"010-4059-9132\"],\n",
    "    [\"이영훈\", \"거여지역 거여지부\", \"회원\", \"010-4828-9565\"],\n",
    "    [\"노성민\", \"송파지역 송파지부\", \"지구리더\", \"010-3409-0503\"],\n",
    "    [\"송지훈\", \"잠실지역 가락지부\", \"그룹장\", \"010-4430-1540\"],\n",
    "    [\"이상필\", \"잠실지역 문정지부\", \"지부\", \"010-3967-0502\"],\n",
    "    [\"이태규\", \"거여지역 영풍지부\", \"그룹장\", \"010-3552-3119\"],\n",
    "    [\"이창호\", \"거여지역 거여지부\", \"권\", \"010-7223-5814\"],\n",
    "    [\"장윤재\", \"송파지역 송파지부\", \"회원\", \"010-7682-8247\"],\n",
    "    [\"박종규\", \"잠실지역 가락지부\", \"지부\", \"010-5062-3836\"],\n",
    "]\n",
    "sorted(info)"
   ]
  },
  {
   "cell_type": "markdown",
   "metadata": {},
   "source": [
    "- 이번 달 or 다음 달 말일 구하기"
   ]
  },
  {
   "cell_type": "code",
   "execution_count": 61,
   "metadata": {},
   "outputs": [
    {
     "name": "stdout",
     "output_type": "stream",
     "text": [
      "28\n"
     ]
    }
   ],
   "source": [
    "today = datetime.today()\n",
    "\n",
    "## 다음달 말일 구하기\n",
    "next_month_last = datetime(today.year, today.month + 2, 1) + relativedelta(seconds=-1)\n",
    "last = next_month_last.strftime(\"%d\")\n",
    "print(last)\n",
    "\n",
    "## 이번달 말일 구하기\n",
    "# this_month_last = datetime(today.year, today.month + 1, 1) + relativedelta(seconds=-1)\n",
    "# last = this_month_last.strftime(\"%d\")\n",
    "# print(last)"
   ]
  },
  {
   "attachments": {},
   "cell_type": "markdown",
   "metadata": {},
   "source": [
    "- 근무 날짜 구하기"
   ]
  },
  {
   "cell_type": "code",
   "execution_count": 78,
   "metadata": {},
   "outputs": [
    {
     "name": "stdout",
     "output_type": "stream",
     "text": [
      "[5, 6, 0, 1, 5, 6, 0, 1, 5, 6, 0, 1, 5, 6, 0, 1] ['02/04', '02/05', '02/06', '02/07', '02/11', '02/12', '02/13', '02/14', '02/18', '02/19', '02/20', '02/21', '02/25', '02/26', '02/27', '02/28']\n"
     ]
    }
   ],
   "source": [
    "work = []\n",
    "days = []\n",
    "for i in range(1, int(last)+1):\n",
    "    date = datetime(today.year, today.month + 1, i)\n",
    "    if date.weekday() in [0, 1, 5, 6]:\n",
    "        work.append(date.weekday())\n",
    "        days.append(date.strftime(\"%m/%d\"))\n",
    "\n",
    "print(work, days)"
   ]
  },
  {
   "attachments": {},
   "cell_type": "markdown",
   "metadata": {},
   "source": [
    "- 보성회 근무 매칭(랜덤)\n",
    "    - 1명당 월 1~2회 근무"
   ]
  },
  {
   "cell_type": "code",
   "execution_count": 81,
   "metadata": {},
   "outputs": [
    {
     "name": "stdout",
     "output_type": "stream",
     "text": [
      "1 02/04\n",
      "2 02/05\n",
      "3 02/06\n",
      "4 02/07\n",
      "5 02/11\n",
      "6 02/12\n",
      "7 02/13\n",
      "8 02/14\n",
      "9 02/18\n",
      "10 02/19\n",
      "11 02/20\n",
      "12 02/21\n",
      "13 02/25\n",
      "14 02/26\n",
      "15 02/27\n",
      "16 02/28\n"
     ]
    }
   ],
   "source": [
    "for i, j in zip(range(len(work)), days):\n",
    "    print(i+1, j)"
   ]
  },
  {
   "cell_type": "code",
   "execution_count": 82,
   "metadata": {},
   "outputs": [
    {
     "data": {
      "text/plain": [
       "18"
      ]
     },
     "execution_count": 82,
     "metadata": {},
     "output_type": "execute_result"
    }
   ],
   "source": [
    "len(info)"
   ]
  },
  {
   "cell_type": "code",
   "execution_count": null,
   "metadata": {},
   "outputs": [],
   "source": []
  }
 ],
 "metadata": {
  "kernelspec": {
   "display_name": "base",
   "language": "python",
   "name": "python3"
  },
  "language_info": {
   "codemirror_mode": {
    "name": "ipython",
    "version": 3
   },
   "file_extension": ".py",
   "mimetype": "text/x-python",
   "name": "python",
   "nbconvert_exporter": "python",
   "pygments_lexer": "ipython3",
   "version": "3.8.13"
  },
  "orig_nbformat": 4,
  "vscode": {
   "interpreter": {
    "hash": "38cc0cca68228d4d18227abe74ed813685db17db46984279e4aabdddebf5f1ba"
   }
  }
 },
 "nbformat": 4,
 "nbformat_minor": 2
}
