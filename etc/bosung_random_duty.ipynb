{
 "cells": [
  {
   "cell_type": "code",
   "execution_count": 1,
   "metadata": {},
   "outputs": [],
   "source": [
    "import pandas as pd\n",
    "import numpy as np\n",
    "from datetime import datetime\n",
    "from dateutil.relativedelta import relativedelta"
   ]
  },
  {
   "attachments": {},
   "cell_type": "markdown",
   "metadata": {},
   "source": [
    "- 권 보성회 근무자 정보"
   ]
  },
  {
   "cell_type": "code",
   "execution_count": 60,
   "metadata": {},
   "outputs": [
    {
     "data": {
      "text/plain": [
       "[['김세완', '잠실지역 잠실지부', '지역', '010-3762-8715'],\n",
       " ['김필립', '잠실지역 삼전지부', '지부', '010-7979-4546'],\n",
       " ['노성민', '송파지역 송파지부', '지구리더', '010-3409-0503'],\n",
       " ['박건홍', '송파지역 풍남지부', '지부', '010-6435-8796'],\n",
       " ['박종규', '잠실지역 가락지부', '지부', '010-5062-3836'],\n",
       " ['박희석', '거여지역 거여지부', '지부', '010-6545-7387'],\n",
       " ['송지훈', '잠실지역 가락지부', '그룹장', '010-4430-1540'],\n",
       " ['이노현', '거여지역 영풍지부', '지역', '010-2856-1655'],\n",
       " ['이상필', '잠실지역 문정지부', '지부', '010-3967-0502'],\n",
       " ['이영훈', '거여지역 거여지부', '회원', '010-4828-9565'],\n",
       " ['이창호', '거여지역 거여지부', '권', '010-7223-5814'],\n",
       " ['이태규', '거여지역 영풍지부', '그룹장', '010-3552-3119'],\n",
       " ['임준혁', '거여지역 영풍지부', '지구리더', '010-4059-9132'],\n",
       " ['장윤재', '송파지역 송파지부', '회원', '010-7682-8247'],\n",
       " ['정민서', '송파지역 풍납지부', '그룹장', '010-6449-7175'],\n",
       " ['정원철', '송파지역 송파지부', '지부', '010-8207-2216'],\n",
       " ['조성혁', '거여지역 마천지부', '지부', '010-5695-1153'],\n",
       " ['황희성', '잠실지역 잠실지부', '그룹장', '010-6489-1542']]"
      ]
     },
     "execution_count": 60,
     "metadata": {},
     "output_type": "execute_result"
    }
   ],
   "source": [
    "info = [\n",
    "    [\"박건홍\", \"송파지역 풍남지부\", \"지부\", \"010-6435-8796\"],\n",
    "    [\"정민서\", \"송파지역 풍납지부\", \"그룹장\", \"010-6449-7175\"],\n",
    "    [\"김세완\", \"잠실지역 잠실지부\", \"지역\", \"010-3762-8715\"],\n",
    "    [\"황희성\", \"잠실지역 잠실지부\", \"그룹장\", \"010-6489-1542\"],\n",
    "    [\"조성혁\", \"거여지역 마천지부\", \"지부\", \"010-5695-1153\"],\n",
    "    [\"박희석\", \"거여지역 거여지부\", \"지부\", \"010-6545-7387\"],\n",
    "    [\"이노현\", \"거여지역 영풍지부\", \"지역\", \"010-2856-1655\"],\n",
    "    [\"정원철\", \"송파지역 송파지부\", \"지부\", \"010-8207-2216\"],\n",
    "    [\"김필립\", \"잠실지역 삼전지부\", \"지부\", \"010-7979-4546\"],\n",
    "    [\"임준혁\", \"거여지역 영풍지부\", \"지구리더\", \"010-4059-9132\"],\n",
    "    [\"이영훈\", \"거여지역 거여지부\", \"회원\", \"010-4828-9565\"],\n",
    "    [\"노성민\", \"송파지역 송파지부\", \"지구리더\", \"010-3409-0503\"],\n",
    "    [\"송지훈\", \"잠실지역 가락지부\", \"그룹장\", \"010-4430-1540\"],\n",
    "    [\"이상필\", \"잠실지역 문정지부\", \"지부\", \"010-3967-0502\"],\n",
    "    [\"이태규\", \"거여지역 영풍지부\", \"그룹장\", \"010-3552-3119\"],\n",
    "    [\"이창호\", \"거여지역 거여지부\", \"권\", \"010-7223-5814\"],\n",
    "    [\"장윤재\", \"송파지역 송파지부\", \"회원\", \"010-7682-8247\"],\n",
    "    [\"박종규\", \"잠실지역 가락지부\", \"지부\", \"010-5062-3836\"],\n",
    "]\n",
    "sorted(info)"
   ]
  },
  {
   "cell_type": "markdown",
   "metadata": {},
   "source": [
    "- 이번 달 or 다음 달 말일 구하기"
   ]
  },
  {
   "cell_type": "code",
   "execution_count": 61,
   "metadata": {},
   "outputs": [
    {
     "name": "stdout",
     "output_type": "stream",
     "text": [
      "28\n"
     ]
    }
   ],
   "source": [
    "today = datetime.today()\n",
    "\n",
    "## 다음달 말일 구하기\n",
    "next_month_last = datetime(today.year, today.month + 2, 1) + relativedelta(seconds=-1)\n",
    "last = next_month_last.strftime(\"%d\")\n",
    "print(last)\n",
    "\n",
    "## 이번달 말일 구하기\n",
    "# this_month_last = datetime(today.year, today.month + 1, 1) + relativedelta(seconds=-1)\n",
    "# last = this_month_last.strftime(\"%d\")\n",
    "# print(last)"
   ]
  },
  {
   "attachments": {},
   "cell_type": "markdown",
   "metadata": {},
   "source": [
    "- 근무 날짜 구하기"
   ]
  },
  {
   "cell_type": "code",
   "execution_count": 78,
   "metadata": {},
   "outputs": [
    {
     "name": "stdout",
     "output_type": "stream",
     "text": [
      "[5, 6, 0, 1, 5, 6, 0, 1, 5, 6, 0, 1, 5, 6, 0, 1] ['02/04', '02/05', '02/06', '02/07', '02/11', '02/12', '02/13', '02/14', '02/18', '02/19', '02/20', '02/21', '02/25', '02/26', '02/27', '02/28']\n"
     ]
    }
   ],
   "source": [
    "work = []\n",
    "days = []\n",
    "for i in range(1, int(last)+1):\n",
    "    date = datetime(today.year, today.month + 1, i)\n",
    "    if date.weekday() in [0, 1, 5, 6]:\n",
    "        work.append(date.weekday())\n",
    "        days.append(date.strftime(\"%m/%d\"))\n",
    "\n",
    "print(work, days)"
   ]
  },
  {
   "attachments": {},
   "cell_type": "markdown",
   "metadata": {},
   "source": [
    "- 보성회 근무 매칭(랜덤)\n",
    "    - 1명당 월 1~2회 근무"
   ]
  },
  {
   "cell_type": "code",
   "execution_count": 81,
   "metadata": {},
   "outputs": [
    {
     "name": "stdout",
     "output_type": "stream",
     "text": [
      "1 02/04\n",
      "2 02/05\n",
      "3 02/06\n",
      "4 02/07\n",
      "5 02/11\n",
      "6 02/12\n",
      "7 02/13\n",
      "8 02/14\n",
      "9 02/18\n",
      "10 02/19\n",
      "11 02/20\n",
      "12 02/21\n",
      "13 02/25\n",
      "14 02/26\n",
      "15 02/27\n",
      "16 02/28\n"
     ]
    }
   ],
   "source": [
    "for i, j in zip(range(len(work)), days):\n",
    "    print(i+1, j)"
   ]
  },
  {
   "cell_type": "code",
   "execution_count": 82,
   "metadata": {},
   "outputs": [
    {
     "data": {
      "text/plain": [
       "18"
      ]
     },
     "execution_count": 82,
     "metadata": {},
     "output_type": "execute_result"
    }
   ],
   "source": [
    "len(info)"
   ]
  },
  {
   "cell_type": "code",
   "execution_count": 32,
   "metadata": {},
   "outputs": [
    {
     "data": {
      "text/html": [
       "<div>\n",
       "<style scoped>\n",
       "    .dataframe tbody tr th:only-of-type {\n",
       "        vertical-align: middle;\n",
       "    }\n",
       "\n",
       "    .dataframe tbody tr th {\n",
       "        vertical-align: top;\n",
       "    }\n",
       "\n",
       "    .dataframe thead th {\n",
       "        text-align: right;\n",
       "    }\n",
       "</style>\n",
       "<table border=\"1\" class=\"dataframe\">\n",
       "  <thead>\n",
       "    <tr style=\"text-align: right;\">\n",
       "      <th></th>\n",
       "      <th>STUDY_EXAM_NO</th>\n",
       "      <th>PASS_NO</th>\n",
       "      <th>KOR_NM</th>\n",
       "      <th>PASS_NO.1</th>\n",
       "    </tr>\n",
       "  </thead>\n",
       "  <tbody>\n",
       "    <tr>\n",
       "      <th>0</th>\n",
       "      <td>420220600100002</td>\n",
       "      <td>25025</td>\n",
       "      <td>김동섭</td>\n",
       "      <td>25025</td>\n",
       "    </tr>\n",
       "    <tr>\n",
       "      <th>1</th>\n",
       "      <td>420220600100001</td>\n",
       "      <td>25026</td>\n",
       "      <td>송세원</td>\n",
       "      <td>25026</td>\n",
       "    </tr>\n",
       "    <tr>\n",
       "      <th>2</th>\n",
       "      <td>420220600100006</td>\n",
       "      <td>25027</td>\n",
       "      <td>양현석</td>\n",
       "      <td>25027</td>\n",
       "    </tr>\n",
       "    <tr>\n",
       "      <th>3</th>\n",
       "      <td>420220600100004</td>\n",
       "      <td>25028</td>\n",
       "      <td>윤길환</td>\n",
       "      <td>25028</td>\n",
       "    </tr>\n",
       "    <tr>\n",
       "      <th>4</th>\n",
       "      <td>420220600100005</td>\n",
       "      <td>25029</td>\n",
       "      <td>한동신</td>\n",
       "      <td>25029</td>\n",
       "    </tr>\n",
       "  </tbody>\n",
       "</table>\n",
       "</div>"
      ],
      "text/plain": [
       "     STUDY_EXAM_NO  PASS_NO KOR_NM  PASS_NO.1\n",
       "0  420220600100002    25025    김동섭      25025\n",
       "1  420220600100001    25026    송세원      25026\n",
       "2  420220600100006    25027    양현석      25027\n",
       "3  420220600100004    25028    윤길환      25028\n",
       "4  420220600100005    25029    한동신      25029"
      ]
     },
     "execution_count": 32,
     "metadata": {},
     "output_type": "execute_result"
    }
   ],
   "source": [
    "import pandas as pd\n",
    "\n",
    "data = pd.read_excel(\"./data/gyohak_numbers.xlsx\")\n",
    "data.head()"
   ]
  },
  {
   "cell_type": "code",
   "execution_count": 33,
   "metadata": {},
   "outputs": [
    {
     "name": "stdout",
     "output_type": "stream",
     "text": [
      "Index(['STUDY_EXAM_NO', 'PASS_NO', 'KOR_NM', 'PASS_NO.1'], dtype='object')\n"
     ]
    },
    {
     "data": {
      "text/html": [
       "<div>\n",
       "<style scoped>\n",
       "    .dataframe tbody tr th:only-of-type {\n",
       "        vertical-align: middle;\n",
       "    }\n",
       "\n",
       "    .dataframe tbody tr th {\n",
       "        vertical-align: top;\n",
       "    }\n",
       "\n",
       "    .dataframe thead th {\n",
       "        text-align: right;\n",
       "    }\n",
       "</style>\n",
       "<table border=\"1\" class=\"dataframe\">\n",
       "  <thead>\n",
       "    <tr style=\"text-align: right;\">\n",
       "      <th></th>\n",
       "      <th>STUDY_EXAM_NO</th>\n",
       "      <th>PASS_NO</th>\n",
       "      <th>KOR_NM</th>\n",
       "      <th>PASS_NO_1</th>\n",
       "    </tr>\n",
       "  </thead>\n",
       "  <tbody>\n",
       "    <tr>\n",
       "      <th>0</th>\n",
       "      <td>420220600100002</td>\n",
       "      <td>25025</td>\n",
       "      <td>김동섭</td>\n",
       "      <td>25025</td>\n",
       "    </tr>\n",
       "    <tr>\n",
       "      <th>1</th>\n",
       "      <td>420220600100001</td>\n",
       "      <td>25026</td>\n",
       "      <td>송세원</td>\n",
       "      <td>25026</td>\n",
       "    </tr>\n",
       "    <tr>\n",
       "      <th>2</th>\n",
       "      <td>420220600100006</td>\n",
       "      <td>25027</td>\n",
       "      <td>양현석</td>\n",
       "      <td>25027</td>\n",
       "    </tr>\n",
       "    <tr>\n",
       "      <th>3</th>\n",
       "      <td>420220600100004</td>\n",
       "      <td>25028</td>\n",
       "      <td>윤길환</td>\n",
       "      <td>25028</td>\n",
       "    </tr>\n",
       "    <tr>\n",
       "      <th>4</th>\n",
       "      <td>420220600100005</td>\n",
       "      <td>25029</td>\n",
       "      <td>한동신</td>\n",
       "      <td>25029</td>\n",
       "    </tr>\n",
       "  </tbody>\n",
       "</table>\n",
       "</div>"
      ],
      "text/plain": [
       "     STUDY_EXAM_NO  PASS_NO KOR_NM  PASS_NO_1\n",
       "0  420220600100002    25025    김동섭      25025\n",
       "1  420220600100001    25026    송세원      25026\n",
       "2  420220600100006    25027    양현석      25027\n",
       "3  420220600100004    25028    윤길환      25028\n",
       "4  420220600100005    25029    한동신      25029"
      ]
     },
     "execution_count": 33,
     "metadata": {},
     "output_type": "execute_result"
    }
   ],
   "source": [
    "print(data.columns)\n",
    "data = data.rename(columns={\"PASS_NO.1\":\"PASS_NO_1\"})\n",
    "data.head()"
   ]
  },
  {
   "cell_type": "code",
   "execution_count": 34,
   "metadata": {},
   "outputs": [
    {
     "data": {
      "text/html": [
       "<div>\n",
       "<style scoped>\n",
       "    .dataframe tbody tr th:only-of-type {\n",
       "        vertical-align: middle;\n",
       "    }\n",
       "\n",
       "    .dataframe tbody tr th {\n",
       "        vertical-align: top;\n",
       "    }\n",
       "\n",
       "    .dataframe thead th {\n",
       "        text-align: right;\n",
       "    }\n",
       "</style>\n",
       "<table border=\"1\" class=\"dataframe\">\n",
       "  <thead>\n",
       "    <tr style=\"text-align: right;\">\n",
       "      <th></th>\n",
       "      <th>STUDY_EXAM_NO</th>\n",
       "      <th>PASS_NO</th>\n",
       "      <th>KOR_NM</th>\n",
       "      <th>PASS_NO_1</th>\n",
       "    </tr>\n",
       "  </thead>\n",
       "  <tbody>\n",
       "    <tr>\n",
       "      <th>1818</th>\n",
       "      <td>420220603800035</td>\n",
       "      <td>26843</td>\n",
       "      <td>김수빈</td>\n",
       "      <td>23759</td>\n",
       "    </tr>\n",
       "    <tr>\n",
       "      <th>1819</th>\n",
       "      <td>420220603800070</td>\n",
       "      <td>26844</td>\n",
       "      <td>김광림</td>\n",
       "      <td>23760</td>\n",
       "    </tr>\n",
       "    <tr>\n",
       "      <th>1820</th>\n",
       "      <td>420220603800034</td>\n",
       "      <td>26845</td>\n",
       "      <td>심민기</td>\n",
       "      <td>23761</td>\n",
       "    </tr>\n",
       "    <tr>\n",
       "      <th>1821</th>\n",
       "      <td>420220603800075</td>\n",
       "      <td>26846</td>\n",
       "      <td>조윤진</td>\n",
       "      <td>23762</td>\n",
       "    </tr>\n",
       "    <tr>\n",
       "      <th>1822</th>\n",
       "      <td>420220603800040</td>\n",
       "      <td>26847</td>\n",
       "      <td>최지희</td>\n",
       "      <td>23763</td>\n",
       "    </tr>\n",
       "    <tr>\n",
       "      <th>...</th>\n",
       "      <td>...</td>\n",
       "      <td>...</td>\n",
       "      <td>...</td>\n",
       "      <td>...</td>\n",
       "    </tr>\n",
       "    <tr>\n",
       "      <th>6647</th>\n",
       "      <td>420220614800105</td>\n",
       "      <td>31672</td>\n",
       "      <td>방수현</td>\n",
       "      <td>27056</td>\n",
       "    </tr>\n",
       "    <tr>\n",
       "      <th>6648</th>\n",
       "      <td>420220614800032</td>\n",
       "      <td>31673</td>\n",
       "      <td>정유진</td>\n",
       "      <td>27057</td>\n",
       "    </tr>\n",
       "    <tr>\n",
       "      <th>6649</th>\n",
       "      <td>420220614800076</td>\n",
       "      <td>31674</td>\n",
       "      <td>최지은</td>\n",
       "      <td>27058</td>\n",
       "    </tr>\n",
       "    <tr>\n",
       "      <th>6650</th>\n",
       "      <td>420220614800049</td>\n",
       "      <td>31675</td>\n",
       "      <td>이규담</td>\n",
       "      <td>27059</td>\n",
       "    </tr>\n",
       "    <tr>\n",
       "      <th>6651</th>\n",
       "      <td>420220614800081</td>\n",
       "      <td>31676</td>\n",
       "      <td>이젠</td>\n",
       "      <td>27060</td>\n",
       "    </tr>\n",
       "  </tbody>\n",
       "</table>\n",
       "<p>4834 rows × 4 columns</p>\n",
       "</div>"
      ],
      "text/plain": [
       "        STUDY_EXAM_NO  PASS_NO KOR_NM  PASS_NO_1\n",
       "1818  420220603800035    26843    김수빈      23759\n",
       "1819  420220603800070    26844    김광림      23760\n",
       "1820  420220603800034    26845    심민기      23761\n",
       "1821  420220603800075    26846    조윤진      23762\n",
       "1822  420220603800040    26847    최지희      23763\n",
       "...               ...      ...    ...        ...\n",
       "6647  420220614800105    31672    방수현      27056\n",
       "6648  420220614800032    31673    정유진      27057\n",
       "6649  420220614800076    31674    최지은      27058\n",
       "6650  420220614800049    31675    이규담      27059\n",
       "6651  420220614800081    31676     이젠      27060\n",
       "\n",
       "[4834 rows x 4 columns]"
      ]
     },
     "execution_count": 34,
     "metadata": {},
     "output_type": "execute_result"
    }
   ],
   "source": [
    "wrong_numbers = data.query(\"PASS_NO != PASS_NO_1\")\n",
    "wrong_numbers"
   ]
  },
  {
   "cell_type": "code",
   "execution_count": 53,
   "metadata": {},
   "outputs": [
    {
     "data": {
      "text/html": [
       "<div>\n",
       "<style scoped>\n",
       "    .dataframe tbody tr th:only-of-type {\n",
       "        vertical-align: middle;\n",
       "    }\n",
       "\n",
       "    .dataframe tbody tr th {\n",
       "        vertical-align: top;\n",
       "    }\n",
       "\n",
       "    .dataframe thead th {\n",
       "        text-align: right;\n",
       "    }\n",
       "</style>\n",
       "<table border=\"1\" class=\"dataframe\">\n",
       "  <thead>\n",
       "    <tr style=\"text-align: right;\">\n",
       "      <th></th>\n",
       "      <th>STUDY_EXAM_NO</th>\n",
       "      <th>PASS_NO</th>\n",
       "      <th>KOR_NM</th>\n",
       "      <th>PASS_NO_1</th>\n",
       "    </tr>\n",
       "  </thead>\n",
       "  <tbody>\n",
       "    <tr>\n",
       "      <th>205</th>\n",
       "      <td>420220614600026</td>\n",
       "      <td>25230</td>\n",
       "      <td>이강무</td>\n",
       "      <td>25230</td>\n",
       "    </tr>\n",
       "    <tr>\n",
       "      <th>3289</th>\n",
       "      <td>420220608100132</td>\n",
       "      <td>28314</td>\n",
       "      <td>남동완</td>\n",
       "      <td>25230</td>\n",
       "    </tr>\n",
       "    <tr>\n",
       "      <th>4821</th>\n",
       "      <td>420220611300053</td>\n",
       "      <td>29846</td>\n",
       "      <td>박무성</td>\n",
       "      <td>25230</td>\n",
       "    </tr>\n",
       "  </tbody>\n",
       "</table>\n",
       "</div>"
      ],
      "text/plain": [
       "        STUDY_EXAM_NO  PASS_NO KOR_NM  PASS_NO_1\n",
       "205   420220614600026    25230    이강무      25230\n",
       "3289  420220608100132    28314    남동완      25230\n",
       "4821  420220611300053    29846    박무성      25230"
      ]
     },
     "execution_count": 53,
     "metadata": {},
     "output_type": "execute_result"
    }
   ],
   "source": [
    "data.query(\"PASS_NO_1 == 25230\")"
   ]
  },
  {
   "cell_type": "code",
   "execution_count": 51,
   "metadata": {},
   "outputs": [
    {
     "data": {
      "text/html": [
       "<div>\n",
       "<style scoped>\n",
       "    .dataframe tbody tr th:only-of-type {\n",
       "        vertical-align: middle;\n",
       "    }\n",
       "\n",
       "    .dataframe tbody tr th {\n",
       "        vertical-align: top;\n",
       "    }\n",
       "\n",
       "    .dataframe thead th {\n",
       "        text-align: right;\n",
       "    }\n",
       "</style>\n",
       "<table border=\"1\" class=\"dataframe\">\n",
       "  <thead>\n",
       "    <tr style=\"text-align: right;\">\n",
       "      <th></th>\n",
       "      <th>STUDY_EXAM_NO</th>\n",
       "      <th>PASS_NO</th>\n",
       "      <th>KOR_NM</th>\n",
       "      <th>PASS_NO_1</th>\n",
       "    </tr>\n",
       "  </thead>\n",
       "  <tbody>\n",
       "    <tr>\n",
       "      <th>4821</th>\n",
       "      <td>420220611300053</td>\n",
       "      <td>29846</td>\n",
       "      <td>박무성</td>\n",
       "      <td>25230</td>\n",
       "    </tr>\n",
       "    <tr>\n",
       "      <th>4822</th>\n",
       "      <td>420220611300057</td>\n",
       "      <td>29847</td>\n",
       "      <td>정춘희</td>\n",
       "      <td>25231</td>\n",
       "    </tr>\n",
       "    <tr>\n",
       "      <th>4823</th>\n",
       "      <td>420220611300021</td>\n",
       "      <td>29848</td>\n",
       "      <td>김경희</td>\n",
       "      <td>25232</td>\n",
       "    </tr>\n",
       "    <tr>\n",
       "      <th>4824</th>\n",
       "      <td>420220611300063</td>\n",
       "      <td>29849</td>\n",
       "      <td>이지연</td>\n",
       "      <td>25233</td>\n",
       "    </tr>\n",
       "    <tr>\n",
       "      <th>4825</th>\n",
       "      <td>420220611300065</td>\n",
       "      <td>29850</td>\n",
       "      <td>박숙희</td>\n",
       "      <td>25234</td>\n",
       "    </tr>\n",
       "    <tr>\n",
       "      <th>...</th>\n",
       "      <td>...</td>\n",
       "      <td>...</td>\n",
       "      <td>...</td>\n",
       "      <td>...</td>\n",
       "    </tr>\n",
       "    <tr>\n",
       "      <th>6348</th>\n",
       "      <td>420220611800096</td>\n",
       "      <td>31373</td>\n",
       "      <td>박미경</td>\n",
       "      <td>26757</td>\n",
       "    </tr>\n",
       "    <tr>\n",
       "      <th>6349</th>\n",
       "      <td>420220611800013</td>\n",
       "      <td>31374</td>\n",
       "      <td>이미지</td>\n",
       "      <td>26758</td>\n",
       "    </tr>\n",
       "    <tr>\n",
       "      <th>6350</th>\n",
       "      <td>420220611800022</td>\n",
       "      <td>31375</td>\n",
       "      <td>정욱희</td>\n",
       "      <td>26759</td>\n",
       "    </tr>\n",
       "    <tr>\n",
       "      <th>6351</th>\n",
       "      <td>420220611800029</td>\n",
       "      <td>31376</td>\n",
       "      <td>이경희</td>\n",
       "      <td>26760</td>\n",
       "    </tr>\n",
       "    <tr>\n",
       "      <th>6352</th>\n",
       "      <td>420220611800070</td>\n",
       "      <td>31377</td>\n",
       "      <td>박민영</td>\n",
       "      <td>26761</td>\n",
       "    </tr>\n",
       "  </tbody>\n",
       "</table>\n",
       "<p>1532 rows × 4 columns</p>\n",
       "</div>"
      ],
      "text/plain": [
       "        STUDY_EXAM_NO  PASS_NO KOR_NM  PASS_NO_1\n",
       "4821  420220611300053    29846    박무성      25230\n",
       "4822  420220611300057    29847    정춘희      25231\n",
       "4823  420220611300021    29848    김경희      25232\n",
       "4824  420220611300063    29849    이지연      25233\n",
       "4825  420220611300065    29850    박숙희      25234\n",
       "...               ...      ...    ...        ...\n",
       "6348  420220611800096    31373    박미경      26757\n",
       "6349  420220611800013    31374    이미지      26758\n",
       "6350  420220611800022    31375    정욱희      26759\n",
       "6351  420220611800029    31376    이경희      26760\n",
       "6352  420220611800070    31377    박민영      26761\n",
       "\n",
       "[1532 rows x 4 columns]"
      ]
     },
     "execution_count": 51,
     "metadata": {},
     "output_type": "execute_result"
    }
   ],
   "source": [
    "wrong_numbers[wrong_numbers.duplicated(subset=\"PASS_NO_1\")]"
   ]
  },
  {
   "cell_type": "code",
   "execution_count": 54,
   "metadata": {},
   "outputs": [
    {
     "data": {
      "text/html": [
       "<div>\n",
       "<style scoped>\n",
       "    .dataframe tbody tr th:only-of-type {\n",
       "        vertical-align: middle;\n",
       "    }\n",
       "\n",
       "    .dataframe tbody tr th {\n",
       "        vertical-align: top;\n",
       "    }\n",
       "\n",
       "    .dataframe thead th {\n",
       "        text-align: right;\n",
       "    }\n",
       "</style>\n",
       "<table border=\"1\" class=\"dataframe\">\n",
       "  <thead>\n",
       "    <tr style=\"text-align: right;\">\n",
       "      <th></th>\n",
       "      <th>STUDY_EXAM_NO</th>\n",
       "      <th>PASS_NO</th>\n",
       "      <th>KOR_NM</th>\n",
       "      <th>PASS_NO_1</th>\n",
       "    </tr>\n",
       "  </thead>\n",
       "  <tbody>\n",
       "  </tbody>\n",
       "</table>\n",
       "</div>"
      ],
      "text/plain": [
       "Empty DataFrame\n",
       "Columns: [STUDY_EXAM_NO, PASS_NO, KOR_NM, PASS_NO_1]\n",
       "Index: []"
      ]
     },
     "execution_count": 54,
     "metadata": {},
     "output_type": "execute_result"
    }
   ],
   "source": [
    "wrong_numbers[wrong_numbers.duplicated(subset=\"PASS_NO\")]"
   ]
  },
  {
   "cell_type": "code",
   "execution_count": 26,
   "metadata": {},
   "outputs": [],
   "source": [
    "wrong_numbers.to_excel(\"data/gyohak_numbers_wrong.xlsx\", index=False)"
   ]
  },
  {
   "cell_type": "code",
   "execution_count": null,
   "metadata": {},
   "outputs": [],
   "source": []
  }
 ],
 "metadata": {
  "kernelspec": {
   "display_name": "base",
   "language": "python",
   "name": "python3"
  },
  "language_info": {
   "codemirror_mode": {
    "name": "ipython",
    "version": 3
   },
   "file_extension": ".py",
   "mimetype": "text/x-python",
   "name": "python",
   "nbconvert_exporter": "python",
   "pygments_lexer": "ipython3",
   "version": "3.8.16"
  },
  "orig_nbformat": 4,
  "vscode": {
   "interpreter": {
    "hash": "8a5edab282632443219e051e4ade2d1d5bbc671c781051bf1437897cbdfea0f1"
   }
  }
 },
 "nbformat": 4,
 "nbformat_minor": 2
}
