{
 "cells": [
  {
   "cell_type": "markdown",
   "metadata": {},
   "source": [
    "## 오픈채팅방\n",
    "- 문제 설명\n",
    "    - 카카오톡 오픈채팅방에서는 친구가 아닌 사람들과 대화를 할 수 있는데,\n",
    "    - 본래 닉네임이 아닌 가상의 닉네임을 사용하여 채팅방에 들어갈 수 있다.\n",
    "    - 신입사원인 김크루는 카카오톡 오픈 채팅방을 개설한 사람을 위해, 다양한 사람들이 들어오고,\n",
    "    - 나가는 것을 지켜볼 수 있는 관리자창을 만들기로 했다. 채팅방에 누군가 들어오면 다음 메시지가 출력된다.\n",
    "        - \"[닉네임]님이 들어왔습니다.\"\n",
    "    - 채팅방에서 누군가 나가면 다음 메시지가 출력된다.\n",
    "        - \"[닉네임]님이 나갔습니다.\"\n",
    "    - 채팅방에서 닉네임을 변경하는 방법은 다음과 같이 두 가지이다.\n",
    "        1. 채팅방을 나간 후, 새로운 닉네임으로 다시 들어간다.\n",
    "        2. 채팅방에서 닉네임을 변경한다.\n",
    "        - 닉네임을 변경할 때는 기존에 채팅방에 출력되어 있던 메시지의 닉네임도 전부 변경된다.\n",
    "    - 예를 들어, 채팅방에 \"Muzi\"와 \"Prodo\"라는 닉네임을 사용하는 사람이 순서대로 들어오면\n",
    "    - 채팅방에는 다음과 같이 메시지가 출력된다.\n",
    "        - \"Muzi님이 들어왔습니다.\"\n",
    "        - \"Prodo님이 들어왔습니다.\"\n",
    "    - 채팅방에 있던 사람이 나가면 채팅방에는 다음과 같이 메시지가 남는다.\n",
    "        - \"Muzi님이 들어왔습니다.\"\n",
    "        - \"Prodo님이 들어왔습니다.\"\n",
    "        - \"Muzi님이 나갔습니다.\"\n",
    "    - Muzi가 나간후 다시 들어올 때, Prodo 라는 닉네임으로 들어올 경우\n",
    "    - 기존에 채팅방에 남아있던 Muzi도 Prodo로 다음과 같이 변경된다.\n",
    "        - \"Prodo님이 들어왔습니다.\"\n",
    "        - \"Prodo님이 들어왔습니다.\"\n",
    "        - \"Prodo님이 나갔습니다.\"\n",
    "        - \"Prodo님이 들어왔습니다.\"\n",
    "    - 채팅방은 중복 닉네임을 허용하기 때문에, 현재 채팅방에는 Prodo라는 닉네임을 사용하는 사람이 두 명이 있다.\n",
    "    - 이제, 채팅방에 두 번째로 들어왔던 Prodo가 Ryan으로 닉네임을 변경하면 채팅방 메시지는 다음과 같이 변경된다.\n",
    "        - \"Prodo님이 들어왔습니다.\"\n",
    "        - \"Ryan님이 들어왔습니다.\"\n",
    "        - \"Prodo님이 나갔습니다.\"\n",
    "        - \"Prodo님이 들어왔습니다.\"\n",
    "    - 채팅방에 들어오고 나가거나, 닉네임을 변경한 기록이 담긴 문자열 배열 record가 매개변수로 주어질 때,\n",
    "    - 모든 기록이 처리된 후, 최종적으로 방을 개설한 사람이 보게 되는 메시지를\n",
    "    - 문자열 배열 형태로 return 하도록 solution 함수를 완성하라.\n",
    "\n",
    "- 제한사항\n",
    "    - record는 다음과 같은 문자열이 담긴 배열이며, 길이는 1 이상 100,000 이하이다.\n",
    "    - 다음은 record에 담긴 문자열에 대한 설명이다.\n",
    "        - 모든 유저는 [유저 아이디]로 구분한다.\n",
    "        - [유저 아이디] 사용자가 [닉네임]으로 채팅방에 입장 - \"Enter [유저 아이디] [닉네임]\"<br>\n",
    "        (ex. \"Enter uid1234 Muzi\")\n",
    "        - [유저 아이디] 사용자가 채팅방에서 퇴장 - \"Leave [유저 아이디]\" (ex. \"Leave uid1234\")\n",
    "        - [유저 아이디] 사용자가 닉네임을 [닉네임]으로 변경 - \"Change [유저 아이디] [닉네임]\"<br>\n",
    "        (ex. \"Change uid1234 Muzi\")\n",
    "    - 첫 단어는 Enter, Leave, Change 중 하나이다.\n",
    "    - 각 단어는 공백으로 구분되어 있으며, 알파벳 대문자, 소문자, 숫자로만 이루어져있다.\n",
    "    - 유저 아이디와 닉네임은 알파벳 대문자, 소문자를 구별한다.\n",
    "    - 유저 아이디와 닉네임의 길이는 1 이상 10 이하이다.\n",
    "    - 채팅방에서 나간 유저가 닉네임을 변경하는 등 잘못 된 입력은 주어지지 않는다."
   ]
  },
  {
   "cell_type": "code",
   "execution_count": 220,
   "metadata": {},
   "outputs": [
    {
     "name": "stdout",
     "output_type": "stream",
     "text": [
      "CPU times: user 20 µs, sys: 0 ns, total: 20 µs\n",
      "Wall time: 24.1 µs\n"
     ]
    },
    {
     "data": {
      "text/plain": [
       "['Prodo님이 들어왔습니다.', 'Ryan님이 들어왔습니다.', 'Prodo님이 나갔습니다.', 'Prodo님이 들어왔습니다.']"
      ]
     },
     "execution_count": 220,
     "metadata": {},
     "output_type": "execute_result"
    }
   ],
   "source": [
    "def solution(record):\n",
    "    answer = []\n",
    "    logs = [i.split() for i in record]\n",
    "    id_map = {}\n",
    "    \n",
    "    for index in reversed(range(len(logs))):\n",
    "        if not id_map.get(logs[index][1]) and logs[index][0].startswith((\"C\", \"E\")):\n",
    "                id_map[logs[index][1]] = logs[index][2]\n",
    "    \n",
    "    message = {\"Enter\":\"님이 들어왔습니다.\", \"Leave\":\"님이 나갔습니다.\"}\n",
    "    return [f\"{id_map[i[1]]}{message[i[0]]}\" for i in logs if not i[0].startswith(\"C\")]\n",
    "\n",
    "%time solution([\"Enter uid1234 Muzi\", \"Enter uid4567 Prodo\",\"Leave uid1234\",\"Enter uid1234 Prodo\",\"Change uid4567 Ryan\"])"
   ]
  },
  {
   "cell_type": "code",
   "execution_count": 182,
   "metadata": {},
   "outputs": [
    {
     "name": "stdout",
     "output_type": "stream",
     "text": [
      "CPU times: user 24 µs, sys: 1e+03 ns, total: 25 µs\n",
      "Wall time: 28.1 µs\n"
     ]
    },
    {
     "data": {
      "text/plain": [
       "['Prodo님이 들어왔습니다.', 'Ryan님이 들어왔습니다.', 'Prodo님이 나갔습니다.', 'Prodo님이 들어왔습니다.']"
      ]
     },
     "execution_count": 182,
     "metadata": {},
     "output_type": "execute_result"
    }
   ],
   "source": [
    "def solution(record):\n",
    "    answer = []\n",
    "    log_dict = {}\n",
    "    \n",
    "    for log in record:\n",
    "        if log_dict.get((logs := log.split())[1]) is None:\n",
    "            log_dict[logs[1]] = []  # 채팅방 메세지에 표시된 위치 정보를 담을 딕셔너리\n",
    "            \n",
    "        if logs[0] == \"Enter\":  # 채팅방 입장\n",
    "            if len(log_dict[logs[1]]):\n",
    "                message = answer[log_dict[logs[1]][0]]\n",
    "                if message[:message.index(\"님\")] != logs[2]:\n",
    "                    for i in log_dict[logs[1]]:\n",
    "                        idx = answer[i].index(\"님\")\n",
    "                        answer[i] = answer[i].replace(answer[i][:idx], logs[2])\n",
    "            answer.append(f\"{logs[2]}님이 들어왔습니다.\")\n",
    "            log_dict[logs[1]].append(len(answer) - 1)\n",
    "            \n",
    "        elif logs[0] == \"Leave\":  # 채팅방 나가기\n",
    "            message = answer[log_dict[logs[1]][0]]\n",
    "            nickname = message[:message.index(\"님\")]\n",
    "            answer.append(f\"{nickname}님이 나갔습니다.\")\n",
    "            log_dict[logs[1]].append(len(answer) - 1)\n",
    "            \n",
    "        elif  logs[0] == \"Change\":  # 채팅방 안에서 닉네임 변경\n",
    "            for i in log_dict[logs[1]]:  # 채팅방 메세지에 표시된 닉네임을 변경된 닉네임으로 모두 교체\n",
    "                idx = answer[i].index(\"님\")\n",
    "                answer[i] = answer[i].replace(answer[i][:idx], logs[2])\n",
    "    return answer\n",
    "\n",
    "%time solution([\"Enter uid1234 Muzi\", \"Enter uid4567 Prodo\",\"Leave uid1234\",\"Enter uid1234 Prodo\",\"Change uid4567 Ryan\"])"
   ]
  },
  {
   "cell_type": "markdown",
   "metadata": {},
   "source": [
    "## 기능 개발\n",
    "- 문제 설명\n",
    "    - 프로그래머스 팀에서는 기능 개선 작업을 수행 중입니다.\n",
    "    - 각 기능은 진도가 100%일 때 서비스에 반영할 수 있습니다.\n",
    "    - 또, 각 기능의 개발속도는 모두 다르기 때문에 뒤에 있는 기능이 앞에 있는 기능보다 먼저 개발될 수 있고,\n",
    "    - 이때 뒤에 있는 기능은 앞에 있는 기능이 배포될 때 함께 배포됩니다.\n",
    "    - 먼저 배포되어야 하는 순서대로 작업의 진도가 적힌 정수 배열 progresses와\n",
    "    - 각 작업의 개발 속도가 적힌 정수 배열 speeds가 주어질 때\n",
    "    - 각 배포마다 몇 개의 기능이 배포되는지를 return 하도록 solution 함수를 완성하세요.\n",
    "\n",
    "- 제한 사항\n",
    "    - 작업의 개수(progresses, speeds배열의 길이)는 100개 이하입니다.\n",
    "    - 작업 진도는 100 미만의 자연수입니다.\n",
    "    - 작업 속도는 100 이하의 자연수입니다.\n",
    "    - 배포는 하루에 한 번만 할 수 있으며, 하루의 끝에 이루어진다고 가정합니다.\n",
    "    - 예를 들어 진도율이 95%인 작업의 개발 속도가 하루에 4%라면 배포는 2일 뒤에 이루어집니다."
   ]
  },
  {
   "cell_type": "code",
   "execution_count": 1,
   "metadata": {},
   "outputs": [
    {
     "data": {
      "text/plain": [
       "[1, 3, 2]"
      ]
     },
     "execution_count": 1,
     "metadata": {},
     "output_type": "execute_result"
    }
   ],
   "source": [
    "def solution(progresses, speeds):\n",
    "    # -(-남은 진행률 // 하루 개발 속도) = 남은 날짜\n",
    "    # -(-a//b) = 파이썬 // 연산자가 내림인 점을 이용한 \"올림\"하기\n",
    "    # ex) a=7, b=4 -> -a/b = -1.75, -a//b = -2, -(-2) = 2\n",
    "    answer = [0]\n",
    "    release = -((progresses[0]-100)//speeds[0])\n",
    "    for remain in map(lambda x: -(-(100-x[0])//x[1]), zip(progresses, speeds)):\n",
    "        if remain <= release:\n",
    "            answer[-1] += 1\n",
    "        else:\n",
    "            answer.append(1)\n",
    "            release = remain\n",
    "    return answer\n",
    "\n",
    "# solution([93, 30, 55], [1, 30, 5])\n",
    "solution([95, 90, 99, 99, 80, 99], [1, 1, 1, 1, 1, 1])"
   ]
  },
  {
   "cell_type": "markdown",
   "metadata": {},
   "source": [
    "## 전화번호 목록\n",
    "- 문제 설명\n",
    "    - 전화번호부에 적힌 전화번호 중, 한 번호가 다른 번호의 접두어인 경우가 있는지 확인하려 합니다.\n",
    "    - 전화번호가 다음과 같을 경우, 구조대 전화번호는 영석이의 전화번호의 접두사입니다.\n",
    "        - 구조대 : 119\n",
    "        - 박준영 : 97 674 223\n",
    "        - 지영석 : 11 9552 4421\n",
    "    - 전화번호부에 적힌 전화번호를 담은 배열 phone_book 이 solution 함수의 매개변수로 주어질 때,\n",
    "    - 어떤 번호가 다른 번호의 접두어인 경우가 있으면 false를 그렇지 않으면 true를 return 하도록 solution 함수를 작성해주세요.\n",
    "\n",
    "- 제한 사항\n",
    "    - phone_book의 길이는 1 이상 1,000,000 이하입니다.\n",
    "    - 각 전화번호의 길이는 1 이상 20 이하입니다.\n",
    "    - 같은 전화번호가 중복해서 들어있지 않습니다."
   ]
  },
  {
   "cell_type": "code",
   "execution_count": 1,
   "metadata": {},
   "outputs": [
    {
     "data": {
      "text/plain": [
       "False"
      ]
     },
     "execution_count": 1,
     "metadata": {},
     "output_type": "execute_result"
    }
   ],
   "source": [
    "def solution(phone_book):\n",
    "    phone_book.sort()\n",
    "    return False if any([phone_book[i+1].startswith(phone_book[i]) for i in range(len(phone_book)-1)]) else True\n",
    "\n",
    "\n",
    "# def solution(phone_book):\n",
    "#     phone_book.sort()\n",
    "#     return False if any(map(lambda x: x[1].startswith(x[0]), zip(phone_book[:-1], phone_book[1:]))) else True\n",
    "\n",
    "# solution([\"123\"])\n",
    "solution([\"119\", \"97674223\", \"1195524421\"])\n",
    "# solution([\"123\",\"456\",\"789\"])\n",
    "# solution([\"12\",\"123\",\"1235\",\"567\",\"88\"])"
   ]
  },
  {
   "cell_type": "code",
   "execution_count": 81,
   "metadata": {},
   "outputs": [
    {
     "name": "stdout",
     "output_type": "stream",
     "text": [
      "0.1734558960006325\n",
      "0.222230003999357\n"
     ]
    }
   ],
   "source": [
    "# in 논리연산자 vs startswith() 함수\n",
    "# 결론: 문자열의 크기가 작을 때는 in이 유리하고, 문자열이 커질 수록 startswith() 함수가 유리하다.\n",
    "import timeit\n",
    "setup1='''\n",
    "data = \"xxxx\"*5\n",
    "def in_test(sent, word):\n",
    "    if sent.__contains__(word):\n",
    "        return True\n",
    "    else:\n",
    "        return False\n",
    "'''\n",
    "setup2='''\n",
    "data = \"xxxx\"*5\n",
    "def startswith_test(sent, word):\n",
    "    if sent.startswith(word):\n",
    "        return True\n",
    "    else:\n",
    "        return False\n",
    "'''\n",
    "\n",
    "print(timeit.timeit('in_test(data, \"this\")', setup=setup1))\n",
    "print(timeit.timeit('startswith_test(data, \"this\")', setup=setup2))"
   ]
  },
  {
   "cell_type": "code",
   "execution_count": 92,
   "metadata": {},
   "outputs": [
    {
     "data": {
      "text/plain": [
       "0"
      ]
     },
     "execution_count": 92,
     "metadata": {},
     "output_type": "execute_result"
    }
   ],
   "source": [
    "from inspect import stack\n",
    "import re\n",
    "def solution(s):\n",
    "    if s == \" \" or len(s) < 2:\n",
    "        return 0\n",
    "    ss = set(s).__iter__()\n",
    "    try:\n",
    "        while len(set(s)) > 0:\n",
    "            if (p := re.search(\"%s{2}\" %next(ss), s)):\n",
    "                s = s.replace(p.group(), \"\", 1)\n",
    "                ss = set(s).__iter__()\n",
    "    except StopIteration:\n",
    "        return 0\n",
    "    return 1 if not len(s) else 0\n",
    "\n",
    "# solution(\"baabaa\")  # 1\n",
    "# solution(\"cdcd\")  # 0\n",
    "# solution(\" \")  # 0\n",
    "# solution(\"\")  # 0\n",
    "# solution(\"a\")  # 0\n",
    "solution(\"aaaaa\")  # 0\n",
    "# solution(\"aaaa\")  # 0"
   ]
  },
  {
   "cell_type": "code",
   "execution_count": null,
   "metadata": {},
   "outputs": [],
   "source": [
    "9번\n",
    "[\"\"] 0\n",
    "[\"a\"] 0\n",
    "11번 12번\n",
    "[\"aaaaa\"] 0\n"
   ]
  },
  {
   "cell_type": "code",
   "execution_count": 64,
   "metadata": {},
   "outputs": [
    {
     "data": {
      "text/plain": [
       "'bbaa'"
      ]
     },
     "execution_count": 64,
     "metadata": {},
     "output_type": "execute_result"
    }
   ],
   "source": [
    "a = \"baabaa\"\n",
    "a.replace(\"aa\", \"\", 1)"
   ]
  },
  {
   "cell_type": "code",
   "execution_count": 87,
   "metadata": {},
   "outputs": [
    {
     "data": {
      "text/plain": [
       "0"
      ]
     },
     "execution_count": 87,
     "metadata": {},
     "output_type": "execute_result"
    }
   ],
   "source": [
    "a = \"\"\n",
    "len(a)"
   ]
  },
  {
   "cell_type": "code",
   "execution_count": null,
   "metadata": {},
   "outputs": [],
   "source": []
  }
 ],
 "metadata": {
  "kernelspec": {
   "display_name": "Python 3.8.13 ('base')",
   "language": "python",
   "name": "python3"
  },
  "language_info": {
   "codemirror_mode": {
    "name": "ipython",
    "version": 3
   },
   "file_extension": ".py",
   "mimetype": "text/x-python",
   "name": "python",
   "nbconvert_exporter": "python",
   "pygments_lexer": "ipython3",
   "version": "3.8.13"
  },
  "orig_nbformat": 4,
  "vscode": {
   "interpreter": {
    "hash": "38cc0cca68228d4d18227abe74ed813685db17db46984279e4aabdddebf5f1ba"
   }
  }
 },
 "nbformat": 4,
 "nbformat_minor": 2
}
