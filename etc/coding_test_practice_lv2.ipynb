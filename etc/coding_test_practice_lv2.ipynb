{
 "cells": [
  {
   "cell_type": "markdown",
   "metadata": {},
   "source": [
    "# 카카오 코딩테스트"
   ]
  },
  {
   "cell_type": "markdown",
   "metadata": {},
   "source": [
    "## 오픈채팅방\n",
    "- 문제 설명\n",
    "    - 카카오톡 오픈채팅방에서는 친구가 아닌 사람들과 대화를 할 수 있는데,\n",
    "    - 본래 닉네임이 아닌 가상의 닉네임을 사용하여 채팅방에 들어갈 수 있다.\n",
    "    - 신입사원인 김크루는 카카오톡 오픈 채팅방을 개설한 사람을 위해, 다양한 사람들이 들어오고,\n",
    "    - 나가는 것을 지켜볼 수 있는 관리자창을 만들기로 했다. 채팅방에 누군가 들어오면 다음 메시지가 출력된다.\n",
    "        - \"[닉네임]님이 들어왔습니다.\"\n",
    "    - 채팅방에서 누군가 나가면 다음 메시지가 출력된다.\n",
    "        - \"[닉네임]님이 나갔습니다.\"\n",
    "    - 채팅방에서 닉네임을 변경하는 방법은 다음과 같이 두 가지이다.\n",
    "        1. 채팅방을 나간 후, 새로운 닉네임으로 다시 들어간다.\n",
    "        2. 채팅방에서 닉네임을 변경한다.\n",
    "        - 닉네임을 변경할 때는 기존에 채팅방에 출력되어 있던 메시지의 닉네임도 전부 변경된다.\n",
    "    - 예를 들어, 채팅방에 \"Muzi\"와 \"Prodo\"라는 닉네임을 사용하는 사람이 순서대로 들어오면\n",
    "    - 채팅방에는 다음과 같이 메시지가 출력된다.\n",
    "        - \"Muzi님이 들어왔습니다.\"\n",
    "        - \"Prodo님이 들어왔습니다.\"\n",
    "    - 채팅방에 있던 사람이 나가면 채팅방에는 다음과 같이 메시지가 남는다.\n",
    "        - \"Muzi님이 들어왔습니다.\"\n",
    "        - \"Prodo님이 들어왔습니다.\"\n",
    "        - \"Muzi님이 나갔습니다.\"\n",
    "    - Muzi가 나간후 다시 들어올 때, Prodo 라는 닉네임으로 들어올 경우\n",
    "    - 기존에 채팅방에 남아있던 Muzi도 Prodo로 다음과 같이 변경된다.\n",
    "        - \"Prodo님이 들어왔습니다.\"\n",
    "        - \"Prodo님이 들어왔습니다.\"\n",
    "        - \"Prodo님이 나갔습니다.\"\n",
    "        - \"Prodo님이 들어왔습니다.\"\n",
    "    - 채팅방은 중복 닉네임을 허용하기 때문에, 현재 채팅방에는 Prodo라는 닉네임을 사용하는 사람이 두 명이 있다.\n",
    "    - 이제, 채팅방에 두 번째로 들어왔던 Prodo가 Ryan으로 닉네임을 변경하면 채팅방 메시지는 다음과 같이 변경된다.\n",
    "        - \"Prodo님이 들어왔습니다.\"\n",
    "        - \"Ryan님이 들어왔습니다.\"\n",
    "        - \"Prodo님이 나갔습니다.\"\n",
    "        - \"Prodo님이 들어왔습니다.\"\n",
    "    - 채팅방에 들어오고 나가거나, 닉네임을 변경한 기록이 담긴 문자열 배열 record가 매개변수로 주어질 때,\n",
    "    - 모든 기록이 처리된 후, 최종적으로 방을 개설한 사람이 보게 되는 메시지를\n",
    "    - 문자열 배열 형태로 return 하도록 solution 함수를 완성하라.\n",
    "\n",
    "- 제한사항\n",
    "    - record는 다음과 같은 문자열이 담긴 배열이며, 길이는 1 이상 100,000 이하이다.\n",
    "    - 다음은 record에 담긴 문자열에 대한 설명이다.\n",
    "        - 모든 유저는 [유저 아이디]로 구분한다.\n",
    "        - [유저 아이디] 사용자가 [닉네임]으로 채팅방에 입장 - \"Enter [유저 아이디] [닉네임]\"<br>\n",
    "        (ex. \"Enter uid1234 Muzi\")\n",
    "        - [유저 아이디] 사용자가 채팅방에서 퇴장 - \"Leave [유저 아이디]\" (ex. \"Leave uid1234\")\n",
    "        - [유저 아이디] 사용자가 닉네임을 [닉네임]으로 변경 - \"Change [유저 아이디] [닉네임]\"<br>\n",
    "        (ex. \"Change uid1234 Muzi\")\n",
    "    - 첫 단어는 Enter, Leave, Change 중 하나이다.\n",
    "    - 각 단어는 공백으로 구분되어 있으며, 알파벳 대문자, 소문자, 숫자로만 이루어져있다.\n",
    "    - 유저 아이디와 닉네임은 알파벳 대문자, 소문자를 구별한다.\n",
    "    - 유저 아이디와 닉네임의 길이는 1 이상 10 이하이다.\n",
    "    - 채팅방에서 나간 유저가 닉네임을 변경하는 등 잘못 된 입력은 주어지지 않는다."
   ]
  },
  {
   "cell_type": "code",
   "execution_count": 220,
   "metadata": {},
   "outputs": [
    {
     "name": "stdout",
     "output_type": "stream",
     "text": [
      "CPU times: user 20 µs, sys: 0 ns, total: 20 µs\n",
      "Wall time: 24.1 µs\n"
     ]
    },
    {
     "data": {
      "text/plain": [
       "['Prodo님이 들어왔습니다.', 'Ryan님이 들어왔습니다.', 'Prodo님이 나갔습니다.', 'Prodo님이 들어왔습니다.']"
      ]
     },
     "execution_count": 220,
     "metadata": {},
     "output_type": "execute_result"
    }
   ],
   "source": [
    "def solution(record):\n",
    "    answer = []\n",
    "    logs = [i.split() for i in record]\n",
    "    id_map = {}\n",
    "    \n",
    "    for index in reversed(range(len(logs))):\n",
    "        if not id_map.get(logs[index][1]) and logs[index][0].startswith((\"C\", \"E\")):\n",
    "                id_map[logs[index][1]] = logs[index][2]\n",
    "    \n",
    "    message = {\"Enter\":\"님이 들어왔습니다.\", \"Leave\":\"님이 나갔습니다.\"}\n",
    "    return [f\"{id_map[i[1]]}{message[i[0]]}\" for i in logs if not i[0].startswith(\"C\")]\n",
    "\n",
    "%time solution([\"Enter uid1234 Muzi\", \"Enter uid4567 Prodo\",\"Leave uid1234\",\"Enter uid1234 Prodo\",\"Change uid4567 Ryan\"])"
   ]
  },
  {
   "cell_type": "code",
   "execution_count": 182,
   "metadata": {},
   "outputs": [
    {
     "name": "stdout",
     "output_type": "stream",
     "text": [
      "CPU times: user 24 µs, sys: 1e+03 ns, total: 25 µs\n",
      "Wall time: 28.1 µs\n"
     ]
    },
    {
     "data": {
      "text/plain": [
       "['Prodo님이 들어왔습니다.', 'Ryan님이 들어왔습니다.', 'Prodo님이 나갔습니다.', 'Prodo님이 들어왔습니다.']"
      ]
     },
     "execution_count": 182,
     "metadata": {},
     "output_type": "execute_result"
    }
   ],
   "source": [
    "def solution(record):\n",
    "    answer = []\n",
    "    log_dict = {}\n",
    "    \n",
    "    for log in record:\n",
    "        if log_dict.get((logs := log.split())[1]) is None:\n",
    "            log_dict[logs[1]] = []  # 채팅방 메세지에 표시된 위치 정보를 담을 딕셔너리\n",
    "            \n",
    "        if logs[0] == \"Enter\":  # 채팅방 입장\n",
    "            if len(log_dict[logs[1]]):\n",
    "                message = answer[log_dict[logs[1]][0]]\n",
    "                if message[:message.index(\"님\")] != logs[2]:\n",
    "                    for i in log_dict[logs[1]]:\n",
    "                        idx = answer[i].index(\"님\")\n",
    "                        answer[i] = answer[i].replace(answer[i][:idx], logs[2])\n",
    "            answer.append(f\"{logs[2]}님이 들어왔습니다.\")\n",
    "            log_dict[logs[1]].append(len(answer) - 1)\n",
    "            \n",
    "        elif logs[0] == \"Leave\":  # 채팅방 나가기\n",
    "            message = answer[log_dict[logs[1]][0]]\n",
    "            nickname = message[:message.index(\"님\")]\n",
    "            answer.append(f\"{nickname}님이 나갔습니다.\")\n",
    "            log_dict[logs[1]].append(len(answer) - 1)\n",
    "            \n",
    "        elif  logs[0] == \"Change\":  # 채팅방 안에서 닉네임 변경\n",
    "            for i in log_dict[logs[1]]:  # 채팅방 메세지에 표시된 닉네임을 변경된 닉네임으로 모두 교체\n",
    "                idx = answer[i].index(\"님\")\n",
    "                answer[i] = answer[i].replace(answer[i][:idx], logs[2])\n",
    "    return answer\n",
    "\n",
    "%time solution([\"Enter uid1234 Muzi\", \"Enter uid4567 Prodo\",\"Leave uid1234\",\"Enter uid1234 Prodo\",\"Change uid4567 Ryan\"])"
   ]
  },
  {
   "cell_type": "code",
   "execution_count": 81,
   "metadata": {},
   "outputs": [
    {
     "name": "stdout",
     "output_type": "stream",
     "text": [
      "0.1734558960006325\n",
      "0.222230003999357\n"
     ]
    }
   ],
   "source": [
    "# in 논리연산자 vs startswith() 함수\n",
    "# 결론: 문자열의 크기가 작을 때는 in이 유리하고, 문자열이 커질 수록 startswith() 함수가 유리하다.\n",
    "import timeit\n",
    "setup1='''\n",
    "data = \"xxxx\"*5\n",
    "def in_test(sent, word):\n",
    "    if sent.__contains__(word):\n",
    "        return True\n",
    "    else:\n",
    "        return False\n",
    "'''\n",
    "setup2='''\n",
    "data = \"xxxx\"*5\n",
    "def startswith_test(sent, word):\n",
    "    if sent.startswith(word):\n",
    "        return True\n",
    "    else:\n",
    "        return False\n",
    "'''\n",
    "\n",
    "print(timeit.timeit('in_test(data, \"this\")', setup=setup1))\n",
    "print(timeit.timeit('startswith_test(data, \"this\")', setup=setup2))"
   ]
  },
  {
   "cell_type": "markdown",
   "metadata": {},
   "source": [
    "## 뉴스 클러스터링\n",
    "- 문제 설명\n",
    "    - 여러 언론사에서 쏟아지는 뉴스, 특히 속보성 뉴스를 보면 비슷비슷한 제목의 기사가 많아 정작 필요한 기사를 찾기가 어렵다.\n",
    "    - Daum 뉴스의 개발 업무를 맡게 된 신입사원 튜브는 사용자들이 편리하게 다양한 뉴스를 찾아볼 수 있도록 문제점을 개선하는 업무를 맡게 되었다.\n",
    "    - 개발의 방향을 잡기 위해 튜브는 우선 최근 화제가 되고 있는 \"카카오 신입 개발자 공채\" 관련 기사를 검색해보았다.\n",
    "        - 카카오 첫 공채..'블라인드' 방식 채용\n",
    "        - 카카오, 합병 후 첫 공채.. 블라인드 전형으로 개발자 채용\n",
    "        - 카카오, 블라인드 전형으로 신입 개발자 공채\n",
    "        - 카카오 공채, 신입 개발자 코딩 능력만 본다\n",
    "        - 카카오, 신입 공채.. \"코딩 실력만 본다\"\n",
    "        - 카카오 \"코딩 능력만으로 2018 신입 개발자 뽑는다\"\n",
    "    - 기사의 제목을 기준으로 \"블라인드 전형\"에 주목하는 기사와 \"코딩 테스트\"에 주목하는 기사로 나뉘는 걸 발견했다.\n",
    "    - 튜브는 이들을 각각 묶어서 보여주면 카카오 공채 관련 기사를 찾아보는 사용자에게 유용할 듯싶었다.\n",
    "    - 유사한 기사를 묶는 기준을 정하기 위해서 논문과 자료를 조사하던 튜브는 \"자카드 유사도\"라는 방법을 찾아냈다.\n",
    "    - 자카드 유사도는 집합 간의 유사도를 검사하는 여러 방법 중의 하나로 알려져 있다.\n",
    "    - 두 집합 A, B 사이의 자카드 유사도 J(A, B)는 두 집합의 교집합 크기를 두 집합의 합집합 크기로 나눈 값으로 정의된다.\n",
    "    - 예를 들어 집합 A = {1, 2, 3}, 집합 B = {2, 3, 4}라고 할 때,\n",
    "    - 교집합 A ∩ B = {2, 3}, 합집합 A ∪ B = {1, 2, 3, 4}이 되므로,\n",
    "    - 집합 A, B 사이의 자카드 유사도 J(A, B) = 2/4 = 0.5가 된다.\n",
    "    - 집합 A와 집합 B가 모두 공집합일 경우에는 나눗셈이 정의되지 않으니 따로 J(A, B) = 1로 정의한다.\n",
    "    - 자카드 유사도는 원소의 중복을 허용하는 다중집합에 대해서 확장할 수 있다.\n",
    "    - 다중집합 A는 원소 \"1\"을 3개 가지고 있고, 다중집합 B는 원소 \"1\"을 5개 가지고 있다고 하자.\n",
    "    - 이 다중집합의 교집합 A ∩ B는 원소 \"1\"을 min(3, 5)인 3개,\n",
    "    - 합집합 A ∪ B는 원소 \"1\"을 max(3, 5)인 5개 가지게 된다.\n",
    "    - 다중집합 A = {1, 1, 2, 2, 3}, 다중집합 B = {1, 2, 2, 4, 5}라고 하면,\n",
    "    - 교집합 A ∩ B = {1, 2, 2}, 합집합 A ∪ B = {1, 1, 2, 2, 3, 4, 5}가 되므로,\n",
    "    - 자카드 유사도 J(A, B) = 3/7, 약 0.42가 된다.\n",
    "    - 이를 이용하여 문자열 사이의 유사도를 계산하는데 이용할 수 있다.\n",
    "    - 문자열 \"FRANCE\"와 \"FRENCH\"가 주어졌을 때, 이를 두 글자씩 끊어서 다중집합을 만들 수 있다.\n",
    "    - 각각 {FR, RA, AN, NC, CE}, {FR, RE, EN, NC, CH}가 되며,\n",
    "    - 교집합은 {FR, NC}, 합집합은 {FR, RA, AN, NC, CE, RE, EN, CH}가 되므로,\n",
    "    - 두 문자열 사이의 자카드 유사도 J(\"FRANCE\", \"FRENCH\") = 2/8 = 0.25가 된다.\n",
    "\n",
    "- 입력 형식\n",
    "    - 입력으로는 str1과 str2의 두 문자열이 들어온다. 각 문자열의 길이는 2 이상, 1,000 이하이다.\n",
    "    - 입력으로 들어온 문자열은 두 글자씩 끊어서 다중집합의 원소로 만든다.\n",
    "    - 이때 영문자로 된 글자 쌍만 유효하고, 기타 공백이나 숫자, 특수 문자가 들어있는 경우는 그 글자 쌍을 버린다.\n",
    "    - 예를 들어 \"ab+\"가 입력으로 들어오면, \"ab\"만 다중집합의 원소로 삼고, \"b+\"는 버린다.\n",
    "    - 다중집합 원소 사이를 비교할 때, 대문자와 소문자의 차이는 무시한다. \"AB\"와 \"Ab\", \"ab\"는 같은 원소로 취급한다.\n",
    "\n",
    "- 출력 형식\n",
    "    - 입력으로 들어온 두 문자열의 자카드 유사도를 출력한다. 유사도 값은 0에서 1 사이의 실수이므로,\n",
    "    - 이를 다루기 쉽도록 65536을 곱한 후에 소수점 아래를 버리고 정수부만 출력한다."
   ]
  },
  {
   "cell_type": "code",
   "execution_count": 514,
   "metadata": {},
   "outputs": [
    {
     "name": "stdout",
     "output_type": "stream",
     "text": [
      "4\n",
      "1\n"
     ]
    },
    {
     "data": {
      "text/plain": [
       "8192"
      ]
     },
     "execution_count": 514,
     "metadata": {},
     "output_type": "execute_result"
    }
   ],
   "source": [
    "from collections import Counter\n",
    "\n",
    "\n",
    "def solution(str1, str2):\n",
    "    set1 = Counter([str1[i:i+2].lower() for i in range(len(str1)-1) if str1[i:i+2].isalpha()])\n",
    "    set2 = Counter([str2[i:i+2].lower() for i in range(len(str2)-1) if str2[i:i+2].isalpha()])\n",
    "    \n",
    "    if not set1 and not set2:\n",
    "        return 65536\n",
    "    \n",
    "    return int(65536 * sum((set1 & set2).values()) / sum((set1 | set2).values()))\n",
    "\n",
    "# solution(\"FRANCE\",\"french\")  # 16384\n",
    "# solution(\"handshake\",\"shake hands\")  # 65536\n",
    "# solution(\"a1\",\"f1\")  # 65536\n",
    "# solution(\"FR\",\"en\")  # 0\n",
    "# solution(\"aa1+aa2\",\"AAAA12\")  # 43690\n",
    "# solution(\"aa1+aa2\", \"AA12\")  # 32768\n",
    "solution(\"di mi mi mi mi\",\"di di di go\")  # 8192\n",
    "# solution(\"E=M*C^2\", \"e=m*c^2\")  # 65536\n",
    "# solution(\"BAAAA\", \"AAA\")  # 32768\n",
    "# solution(\"abc\", \"abbb\")  # 16384\n",
    "# solution(\"abc\", \"a1\")  # 0\n",
    "# solution(\"abc\", \"cdef\")  # 0\n",
    "# solution(\"A+C\", \"DEF\")  # 0\n",
    "# solution(\"ABC\", \"DEF\")  # 0"
   ]
  },
  {
   "cell_type": "markdown",
   "metadata": {},
   "source": [
    "## 수식 최대화\n",
    "- 문제 설명\n",
    "    - IT 벤처 회사를 운영하고 있는 라이언은 매년 사내 해커톤 대회를 개최하여 우승자에게 상금을 지급하고 있습니다.\n",
    "    - 이번 대회에서는 우승자에게 지급되는 상금을 이전 대회와는 다르게 다음과 같은 방식으로 결정하려고 합니다.\n",
    "    - 해커톤 대회에 참가하는 모든 참가자들에게는 숫자들과 3가지의 연산문자(+, -, *) 만으로 이루어진 연산 수식이 전달되며,\n",
    "    - 참가자의 미션은 전달받은 수식에 포함된 연산자의 우선순위를 자유롭게 재정의하여 만들 수 있는 가장 큰 숫자를 제출하는 것입니다.\n",
    "    - 단, 연산자의 우선순위를 새로 정의할 때, 같은 순위의 연산자는 없어야 합니다.\n",
    "    - 즉, + > - > * 또는 - > * > + 등과 같이 연산자 우선순위를 정의할 수 있으나\n",
    "    - +,* > - 또는 * > +,-처럼 2개 이상의 연산자가 동일한 순위를 가지도록 연산자 우선순위를 정의할 수는 없습니다. - 수식에 포함된 연산자가 2개라면 정의할 수 있는 연산자 우선순위 조합은 2! = 2가지이며,\n",
    "    - 연산자가 3개라면 3! = 6가지 조합이 가능합니다.\n",
    "    - 만약 계산된 결과가 음수라면 해당 숫자의 절댓값으로 변환하여 제출하며 제출한 숫자가 가장 큰 참가자를 우승자로 선정하며,\n",
    "    - 우승자가 제출한 숫자를 우승상금으로 지급하게 됩니다.\n",
    "    - 예를 들어, 참가자 중 네오가 아래와 같은 수식을 전달받았다고 가정합니다.\n",
    "        - \"100-200*300-500+20\"\n",
    "    - 일반적으로 수학 및 전산학에서 약속된 연산자 우선순위에 따르면\n",
    "    - 더하기와 빼기는 서로 동등하며 곱하기는 더하기, 빼기에 비해 우선순위가 높아 * > +,- 로 우선순위가 정의되어 있습니다.\n",
    "    - 대회 규칙에 따라 + > - > * 또는 - > * > + 등과 같이 연산자 우선순위를 정의할 수 있으나\n",
    "    - +,* > - 또는 * > +,- 처럼 2개 이상의 연산자가 동일한 순위를 가지도록 연산자 우선순위를 정의할 수는 없습니다.\n",
    "    - 수식에 연산자가 3개 주어졌으므로 가능한 연산자 우선순위 조합은 3! = 6가지이며,\n",
    "    - 그 중 + > - > * 로 연산자 우선순위를 정한다면 결괏값은 22,000원이 됩니다.\n",
    "    - 반면에 * > + > - 로 연산자 우선순위를 정한다면 수식의 결괏값은 -60,420 이지만,\n",
    "    - 규칙에 따라 우승 시 상금은 절댓값인 60,420원이 됩니다.\n",
    "    - 참가자에게 주어진 연산 수식이 담긴 문자열 expression이 매개변수로 주어질 때,\n",
    "    - 우승 시 받을 수 있는 가장 큰 상금 금액을 return 하도록 solution 함수를 완성해주세요.\n",
    "\n",
    "- 제한사항\n",
    "    - expression은 길이가 3 이상 100 이하인 문자열입니다.\n",
    "    - expression은 공백문자, 괄호문자 없이 오로지 숫자와 3가지의 연산자(+, -, *) 만으로 이루어진\n",
    "    - 올바른 중위표기법(연산의 두 대상 사이에 연산기호를 사용하는 방식)으로 표현된 연산식입니다.\n",
    "    - 잘못된 연산식은 입력으로 주어지지 않습니다.\n",
    "    - 즉, \"402+-561*\"처럼 잘못된 수식은 올바른 중위표기법이 아니므로 주어지지 않습니다.\n",
    "    - expression의 피연산자(operand)는 0 이상 999 이하의 숫자입니다.\n",
    "    - 즉, \"100-2145*458+12\"처럼 999를 초과하는 피연산자가 포함된 수식은 입력으로 주어지지 않습니다.\n",
    "    - \"-56+100\"처럼 피연산자가 음수인 수식도 입력으로 주어지지 않습니다.\n",
    "    - expression은 적어도 1개 이상의 연산자를 포함하고 있습니다.\n",
    "    - 연산자 우선순위를 어떻게 적용하더라도, expression의 중간 계산값과 최종 결괏값은\n",
    "    - 절댓값이 2^63 - 1 이하가 되도록 입력이 주어집니다.\n",
    "    - 같은 연산자끼리는 앞에 있는 것의 우선순위가 더 높습니다."
   ]
  },
  {
   "cell_type": "code",
   "execution_count": 550,
   "metadata": {},
   "outputs": [
    {
     "data": {
      "text/plain": [
       "60420"
      ]
     },
     "execution_count": 550,
     "metadata": {},
     "output_type": "execute_result"
    }
   ],
   "source": [
    "from itertools import permutations\n",
    "\n",
    "\n",
    "def calculate(priority, k, expression):\n",
    "    # ex) priority = (\"*\", \"+\", \"-\") --> \"*\" < \"+\" < \"-\"\n",
    "    if k == 2:\n",
    "        return str(eval(expression))\n",
    "    if priority[k] == \"*\":\n",
    "        result = eval(\"*\".join(calculate(priority, k+1, e) for e in expression.split(\"*\")))\n",
    "    elif priority[k] == \"+\":\n",
    "        result = eval(\"+\".join(calculate(priority, k+1, e) for e in expression.split(\"+\")))\n",
    "    else:\n",
    "        result = eval(\"-\".join(calculate(priority, k+1, e) for e in expression.split(\"-\")))\n",
    "    return str(result)\n",
    "    \n",
    "    \n",
    "def solution(expression):\n",
    "    answer = 0\n",
    "    for i in permutations([\"*\",\"+\",\"-\"]):  # 조합 가능한 우선 순위 개수 = 3!\n",
    "        answer = max(abs(int(calculate(i, 0, expression))), answer)\n",
    "    return answer\n",
    "\n",
    "solution(\"100-200*300-500+20\")\n",
    "# solution(\"50*6-3*2\")"
   ]
  },
  {
   "cell_type": "markdown",
   "metadata": {},
   "source": [
    "## 거리두기 확인하기\n",
    "- 문제 설명\n",
    "    - 개발자를 희망하는 죠르디가 카카오에 면접을 보러 왔습니다.\n",
    "    - 코로나 바이러스 감염 예방을 위해 응시자들은 거리를 둬서 대기를 해야하는데 개발 직군 면접인 만큼\n",
    "    - 아래와 같은 규칙으로 대기실에 거리를 두고 앉도록 안내하고 있습니다.\n",
    "        - 대기실은 5개이며, 각 대기실은 5x5 크기입니다.\n",
    "        - 거리두기를 위하여 응시자들 끼리는 맨해튼 거리가 2 이하로 앉지 말아 주세요.\n",
    "        - 단 응시자가 앉아있는 자리 사이가 파티션으로 막혀 있을 경우에는 허용합니다.\n",
    "    - 예를 들어,\n",
    "    - <img src=\"distance_check.png\" width=\"600\">\n",
    "    - 5개의 대기실을 본 죠르디는 각 대기실에서 응시자들이 거리두기를 잘 기키고 있는지 알고 싶어졌습니다.\n",
    "    - 자리에 앉아있는 응시자들의 정보와 대기실 구조를 대기실별로 담은 2차원 문자열 배열 places가 매개변수로 주어집니다.\n",
    "    - 각 대기실별로 거리두기를 지키고 있으면 1을, 한 명이라도 지키지 않고 있으면 0을 배열에 담아 return 하도록 solution 함수를 완성해 주세요.\n",
    "\n",
    "- 제한사항\n",
    "    - places의 행 길이(대기실 개수) = 5\n",
    "    - places의 각 행은 하나의 대기실 구조를 나타냅니다.\n",
    "    - places의 열 길이(대기실 세로 길이) = 5\n",
    "    - places의 원소는 P,O,X로 이루어진 문자열입니다.\n",
    "    - places 원소의 길이(대기실 가로 길이) = 5\n",
    "    - P는 응시자가 앉아있는 자리를 의미합니다.\n",
    "    - O는 빈 테이블을 의미합니다.\n",
    "    - X는 파티션을 의미합니다.\n",
    "    - 입력으로 주어지는 5개 대기실의 크기는 모두 5x5 입니다.\n",
    "        - return 값 형식\n",
    "        - 1차원 정수 배열에 5개의 원소를 담아서 return 합니다.\n",
    "    - places에 담겨 있는 5개 대기실의 순서대로, 거리두기 준수 여부를 차례대로 배열에 담습니다.\n",
    "    - 각 대기실 별로 모든 응시자가 거리두기를 지키고 있으면 1을, 한 명이라도 지키지 않고 있으면 0을 담습니다."
   ]
  },
  {
   "cell_type": "code",
   "execution_count": null,
   "metadata": {},
   "outputs": [],
   "source": [
    "from itertools import combinations\n",
    "\n",
    "\n",
    "def solution(places):\n",
    "    answer = []\n",
    "    \n",
    "    \n",
    "    return answer\n",
    "\n",
    "solution(\n",
    "    [[\"POOOP\", \"OXXOX\", \"OPXPX\", \"OOXOX\", \"POXXP\"],\n",
    "    [\"POOPX\", \"OXPXP\", \"PXXXO\", \"OXXXO\", \"OOOPP\"],\n",
    "    [\"PXOPX\", \"OXOXP\", \"OXPOX\", \"OXXOP\", \"PXPOX\"],\n",
    "    [\"OOOXX\", \"XOOOX\", \"OOOXX\", \"OXOOX\", \"OOOOO\"],\n",
    "    [\"PXPXP\", \"XPXPX\", \"PXPXP\", \"XPXPX\", \"PXPXP\"]]\n",
    "    )"
   ]
  },
  {
   "cell_type": "code",
   "execution_count": 207,
   "metadata": {},
   "outputs": [
    {
     "data": {
      "text/plain": [
       "[0, 4]"
      ]
     },
     "execution_count": 207,
     "metadata": {},
     "output_type": "execute_result"
    }
   ],
   "source": [
    "a = [[\"POOOP\", \"OXXOX\", \"OPXPX\", \"OOXOX\", \"POXXP\"],\n",
    "    [\"POOPX\", \"OXPXP\", \"PXXXO\", \"OXXXO\", \"OOOPP\"],\n",
    "    [\"PXOPX\", \"OXOXP\", \"OXPOX\", \"OXXOP\", \"PXPOX\"],\n",
    "    [\"OOOXX\", \"XOOOX\", \"OOOXX\", \"OXOOX\", \"OOOOO\"],\n",
    "    [\"PXPXP\", \"XPXPX\", \"PXPXP\", \"XPXPX\", \"PXPXP\"]]\n",
    "\n",
    "from more_itertools import locate\n",
    "\n",
    "list(locate(a[0][0], lambda x: x == \"P\"))"
   ]
  },
  {
   "cell_type": "markdown",
   "metadata": {},
   "source": [
    "# 힙(Heap)"
   ]
  },
  {
   "cell_type": "markdown",
   "metadata": {},
   "source": [
    "## 더 맵게\n",
    "- 문제 설명\n",
    "    - 매운 것을 좋아하는 Leo는 모든 음식의 스코빌 지수를 K 이상으로 만들고 싶습니다.\n",
    "    - 모든 음식의 스코빌 지수를 K 이상으로 만들기 위해 Leo는 스코빌 지수가 가장 낮은 두 개의 음식을\n",
    "    - 아래와 같이 특별한 방법으로 섞어 새로운 음식을 만듭니다.\n",
    "        - 섞은 음식의 스코빌 지수 = 가장 맵지 않은 음식의 스코빌 지수 + (두 번째로 맵지 않은 음식의 스코빌 지수 * 2)\n",
    "        - Leo는 모든 음식의 스코빌 지수가 K 이상이 될 때까지 반복하여 섞습니다.\n",
    "    - Leo가 가진 음식의 스코빌 지수를 담은 배열 scoville과 원하는 스코빌 지수 K가 주어질 때,\n",
    "    - 모든 음식의 스코빌 지수를 K 이상으로 만들기 위해 섞어야 하는 최소 횟수를 return 하도록 solution 함수를 작성해주세요.\n",
    "\n",
    "- 제한 사항\n",
    "    - scoville의 길이는 2 이상 1,000,000 이하입니다.\n",
    "    - K는 0 이상 1,000,000,000 이하입니다.\n",
    "    - scoville의 원소는 각각 0 이상 1,000,000 이하입니다.\n",
    "    - 모든 음식의 스코빌 지수를 K 이상으로 만들 수 없는 경우에는 -1을 return 합니다."
   ]
  },
  {
   "cell_type": "code",
   "execution_count": 203,
   "metadata": {},
   "outputs": [
    {
     "data": {
      "text/plain": [
       "2"
      ]
     },
     "execution_count": 203,
     "metadata": {},
     "output_type": "execute_result"
    }
   ],
   "source": [
    "import heapq\n",
    "\n",
    "\n",
    "def solution(scoville, K):\n",
    "    answer = 0\n",
    "    heapq.heapify(scoville)\n",
    "    \n",
    "    while scoville[0] < K:\n",
    "        if len(scoville) <= 2:\n",
    "            if len(scoville) == 2 and scoville[0] + scoville[1]*2 >= K:\n",
    "                    return 1\n",
    "            return -1\n",
    "        m1 = heapq.heappop(scoville)\n",
    "        m2 = heapq.heappop(scoville)\n",
    "        heapq.heappush(scoville, m1 + m2*2)\n",
    "        answer += 1\n",
    "    return answer\n",
    "\n",
    "solution([12, 9, 3, 2, 10, 1], 7)\n",
    "# solution([1, 1, 1, 1, 1, 1, 1], 7)\n",
    "# solution([0, 0, 0, 0], 7)\n",
    "# solution([0, 0, 0, 0, 0, 0, 0, 0, 1], 7)\n",
    "# solution([1,0,1,0,1,0,1,0,1], 60)\n",
    "# solution([1,3], 7)"
   ]
  },
  {
   "cell_type": "markdown",
   "metadata": {},
   "source": [
    "# 해시"
   ]
  },
  {
   "cell_type": "markdown",
   "metadata": {},
   "source": [
    "## 전화번호 목록\n",
    "- 문제 설명\n",
    "    - 전화번호부에 적힌 전화번호 중, 한 번호가 다른 번호의 접두어인 경우가 있는지 확인하려 합니다.\n",
    "    - 전화번호가 다음과 같을 경우, 구조대 전화번호는 영석이의 전화번호의 접두사입니다.\n",
    "        - 구조대 : 119\n",
    "        - 박준영 : 97 674 223\n",
    "        - 지영석 : 11 9552 4421\n",
    "    - 전화번호부에 적힌 전화번호를 담은 배열 phone_book 이 solution 함수의 매개변수로 주어질 때,\n",
    "    - 어떤 번호가 다른 번호의 접두어인 경우가 있으면 false를 그렇지 않으면 true를 return 하도록 solution 함수를 작성해주세요.\n",
    "\n",
    "- 제한 사항\n",
    "    - phone_book의 길이는 1 이상 1,000,000 이하입니다.\n",
    "    - 각 전화번호의 길이는 1 이상 20 이하입니다.\n",
    "    - 같은 전화번호가 중복해서 들어있지 않습니다."
   ]
  },
  {
   "cell_type": "code",
   "execution_count": 1,
   "metadata": {},
   "outputs": [
    {
     "data": {
      "text/plain": [
       "False"
      ]
     },
     "execution_count": 1,
     "metadata": {},
     "output_type": "execute_result"
    }
   ],
   "source": [
    "def solution(phone_book):\n",
    "    phone_book.sort()\n",
    "    return False if any([phone_book[i+1].startswith(phone_book[i]) for i in range(len(phone_book)-1)]) else True\n",
    "\n",
    "\n",
    "# def solution(phone_book):\n",
    "#     phone_book.sort()\n",
    "#     return False if any(map(lambda x: x[1].startswith(x[0]), zip(phone_book[:-1], phone_book[1:]))) else True\n",
    "\n",
    "# solution([\"123\"])\n",
    "solution([\"119\", \"97674223\", \"1195524421\"])\n",
    "# solution([\"123\",\"456\",\"789\"])\n",
    "# solution([\"12\",\"123\",\"1235\",\"567\",\"88\"])"
   ]
  },
  {
   "cell_type": "markdown",
   "metadata": {},
   "source": [
    "# 수학적 사고력"
   ]
  },
  {
   "cell_type": "markdown",
   "metadata": {},
   "source": [
    "## 멀쩡한 사각형\n",
    "- 문제 설명\n",
    "    - 가로 길이가 Wcm, 세로 길이가 Hcm인 직사각형 종이가 있습니다.\n",
    "    - 종이에는 가로, 세로 방향과 평행하게 격자 형태로 선이 그어져 있으며, 모든 격자칸은 1cm x 1cm 크기입니다.\n",
    "    - 이 종이를 격자 선을 따라 1cm × 1cm의 정사각형으로 잘라 사용할 예정이었는데,\n",
    "    - 누군가가 이 종이를 대각선 꼭지점 2개를 잇는 방향으로 잘라 놓았습니다.\n",
    "    - 그러므로 현재 직사각형 종이는 크기가 같은 직각삼각형 2개로 나누어진 상태입니다.\n",
    "    - 새로운 종이를 구할 수 없는 상태이기 때문에,\n",
    "    - 이 종이에서 원래 종이의 가로, 세로 방향과 평행하게 1cm × 1cm로 잘라 사용할 수 있는 만큼만 사용하기로 하였습니다.\n",
    "    - 가로의 길이 W와 세로의 길이 H가 주어질 때, 사용할 수 있는 정사각형의 개수를 구하는 solution 함수를 완성해 주세요.\n",
    "\n",
    "- 제한사항\n",
    "    - W, H : 1억 이하의 자연수"
   ]
  },
  {
   "cell_type": "code",
   "execution_count": 657,
   "metadata": {},
   "outputs": [
    {
     "name": "stdout",
     "output_type": "stream",
     "text": [
      "CPU times: user 31 µs, sys: 1 µs, total: 32 µs\n",
      "Wall time: 36 µs\n"
     ]
    },
    {
     "data": {
      "text/plain": [
       "9999999700000002"
      ]
     },
     "execution_count": 657,
     "metadata": {},
     "output_type": "execute_result"
    }
   ],
   "source": [
    "def solution(w,h):\n",
    "    gcd = lambda x, y: x if y == 0 else gcd(y, x%y)\n",
    "    return w*h-(w+h-gcd(w,h))\n",
    "\n",
    "# solution(8, 12)  # 80\n",
    "# solution(2, 2)  # 2\n",
    "# solution(1, 10000)  # 0\n",
    "# solution(7, 3)  # 12\n",
    "# solution(3, 7)  # 12\n",
    "# solution(8, 3)  # 14\n",
    "%time solution(100000000, 99999999)  # 9999999700000002\n",
    "# solution(5, 3)  # 8"
   ]
  },
  {
   "cell_type": "markdown",
   "metadata": {},
   "source": [
    "## 위장\n",
    "- 문제 설명\n",
    "    - 스파이들은 매일 다른 옷을 조합하여 입어 자신을 위장합니다.\n",
    "    - 예를 들어 스파이가 가진 옷이 아래와 같고 오늘 스파이가 동그란 안경, 긴 코트, 파란색 티셔츠를 입었다면\n",
    "    - 다음날은 청바지를 추가로 입거나 동그란 안경 대신 검정 선글라스를 착용하거나 해야 합니다.\n",
    "    - 스파이가 가진 의상들이 담긴 2차원 배열 clothes가 주어질 때\n",
    "    - 서로 다른 옷의 조합의 수를 return 하도록 solution 함수를 작성해주세요.\n",
    "\n",
    "종류|이름\n",
    ":--:|:--:\n",
    "얼굴|동그란 안경, 검정 선글라스\n",
    "상의|파란색 티셔츠\n",
    "하의|청바지\n",
    "겉옷|긴 코트\n",
    "\n",
    "- 제한사항\n",
    "    - clothes의 각 행은 [의상의 이름, 의상의 종류]로 이루어져 있습니다.\n",
    "    - 스파이가 가진 의상의 수는 1개 이상 30개 이하입니다.\n",
    "    - 같은 이름을 가진 의상은 존재하지 않습니다.\n",
    "    - clothes의 모든 원소는 문자열로 이루어져 있습니다.\n",
    "    - 모든 문자열의 길이는 1 이상 20 이하인 자연수이고 알파벳 소문자 또는 '_' 로만 이루어져 있습니다.\n",
    "    - 스파이는 하루에 최소 한 개의 의상은 입습니다."
   ]
  },
  {
   "cell_type": "code",
   "execution_count": 49,
   "metadata": {},
   "outputs": [
    {
     "name": "stdout",
     "output_type": "stream",
     "text": [
      "{'headgear': ['yellow_hat', 'green_turban'], 'eyewear': ['blue_sunglasses']}\n"
     ]
    },
    {
     "data": {
      "text/plain": [
       "5"
      ]
     },
     "execution_count": 49,
     "metadata": {},
     "output_type": "execute_result"
    }
   ],
   "source": [
    "def solution(clothes):\n",
    "    answer = 1\n",
    "    hash_map = {kind[1]:[] for kind in clothes}\n",
    "    [hash_map[kind].append(cloth) for cloth, kind in clothes]\n",
    "    \n",
    "    # 곱의 법칙: A의 경우의 수 x B의 경우의 수 ... x N의 경우의 수\n",
    "    for kind in hash_map.keys():\n",
    "        answer *= len(hash_map[kind]) + 1  # +1은 안입는 경우\n",
    "    \n",
    "    # 각각의 경우의 수 안에 해당 종류의 의상을 입지 않는 경우가 포함되어 있어,\n",
    "    # 전체 경우의 수 중 모든 종류의 의상을 안입는 경우가 존재하기 때문에 마지막에 -1을 해줌으로써 제외 시킴\n",
    "    return answer - 1\n",
    "\n",
    "solution([[\"yellow_hat\", \"headgear\"], [\"blue_sunglasses\", \"eyewear\"], [\"green_turban\", \"headgear\"]])"
   ]
  },
  {
   "cell_type": "markdown",
   "metadata": {},
   "source": [
    "# 정렬"
   ]
  },
  {
   "cell_type": "markdown",
   "metadata": {},
   "source": [
    "## 가장 큰 수\n",
    "- 문제 설명\n",
    "    - 0 또는 양의 정수가 주어졌을 때, 정수를 이어 붙여 만들 수 있는 가장 큰 수를 알아내 주세요.\n",
    "    - 예를 들어, 주어진 정수가 [6, 10, 2]라면 [6102, 6210, 1062, 1026, 2610, 2106]를 만들 수 있고,\n",
    "    - 이중 가장 큰 수는 6210입니다.\n",
    "    - 0 또는 양의 정수가 담긴 배열 numbers가 매개변수로 주어질 때,\n",
    "    - 순서를 재배치하여 만들 수 있는 가장 큰 수를 문자열로 바꾸어 return 하도록 solution 함수를 작성해주세요.\n",
    "\n",
    "- 제한 사항\n",
    "    - numbers의 길이는 1 이상 100,000 이하입니다.\n",
    "    - numbers의 원소는 0 이상 1,000 이하입니다.\n",
    "    - 정답이 너무 클 수 있으니 문자열로 바꾸어 return 합니다."
   ]
  },
  {
   "cell_type": "code",
   "execution_count": 76,
   "metadata": {},
   "outputs": [
    {
     "data": {
      "text/plain": [
       "'9799797881881817'"
      ]
     },
     "execution_count": 76,
     "metadata": {},
     "output_type": "execute_result"
    }
   ],
   "source": [
    "# def solution(numbers):\n",
    "#     return str(int(\"\".join(sorted(map(str, numbers), reverse=True, key=lambda x: x * 3))))\n",
    "\n",
    "\n",
    "# 기수 정렬로 안됨.\n",
    "def solution(numbers):\n",
    "    numbers = map(str, numbers)  # convert to string data type\n",
    "    \n",
    "    # ex) 3 vs 31 -> 두 수의 조합이 가장 크게 만들기 위해서는 31의 1의 자리수인 1이 3보다 작다면\n",
    "    # 3의 뒤에 붙어서 331이 되어야 가장 큰 수가 된다.\n",
    "    numbers = sorted(numbers, reverse=True, key=lambda x: x * 3)\n",
    "    return str(int(\"\".join(numbers)))  # int -> str : ex) \"000\" -> 0 -> \"0\"\n",
    "\n",
    "# solution([6,10,2])\n",
    "# solution([3, 30, 34, 5, 9])\n",
    "# solution(list(range(10)))\n",
    "# solution([3, 30, 34, 5, 9])\n",
    "solution([979, 97, 978, 81, 818, 817])"
   ]
  },
  {
   "cell_type": "markdown",
   "metadata": {},
   "source": [
    "## H-index\n",
    "- 문제 설명\n",
    "    - H-Index는 과학자의 생산성과 영향력을 나타내는 지표입니다.\n",
    "    - 어느 과학자의 H-Index를 나타내는 값인 h를 구하려고 합니다.\n",
    "    - 위키백과1에 따르면, H-Index는 다음과 같이 구합니다.\n",
    "    - 어떤 과학자가 발표한 논문 n편 중,\n",
    "    - h번 이상 인용된 논문이 h편 이상이고\n",
    "    - 나머지 논문이 h번 이하 인용되었다면\n",
    "    - h의 최댓값이 이 과학자의 H-Index입니다.\n",
    "\n",
    "어떤 과학자가 발표한 논문의 인용 횟수를 담은 배열 citations가 매개변수로 주어질 때, 이 과학자의 H-Index를 return 하도록 solution 함수를 작성해주세요.\n",
    "\n",
    "제한사항\n",
    "과학자가 발표한 논문의 수는 1편 이상 1,000편 이하입니다.\n",
    "논문별 인용 횟수는 0회 이상 10,000회 이하입니다."
   ]
  },
  {
   "cell_type": "code",
   "execution_count": 96,
   "metadata": {},
   "outputs": [
    {
     "data": {
      "text/plain": [
       "2"
      ]
     },
     "execution_count": 96,
     "metadata": {},
     "output_type": "execute_result"
    }
   ],
   "source": [
    "# TODO: 정의대로라면 바로 아래 셀의 코드가 맞는데 내 코드는 왜 통과됐지?\n",
    "def solution(citations):\n",
    "    citations.sort(reverse=True)\n",
    "    \n",
    "    for i in range(1, len(citations)+1):\n",
    "        if (h_index := len([j for j in citations if i <= j])) <= i:\n",
    "            return h_index\n",
    "    \n",
    "    return 0\n",
    "\n",
    "# solution([3, 0, 6, 1, 5])  # 3\n",
    "# solution([4, 8, 3, 5, 10])  # 4\n",
    "# solution([8, 25, 3, 5, 3])  # 3\n",
    "solution([3, 0, 3, 6, 1, 5])  # 2"
   ]
  },
  {
   "cell_type": "code",
   "execution_count": 100,
   "metadata": {},
   "outputs": [
    {
     "data": {
      "text/plain": [
       "3"
      ]
     },
     "execution_count": 100,
     "metadata": {},
     "output_type": "execute_result"
    }
   ],
   "source": [
    "def solution(citations):\n",
    "    citations = sorted(citations)\n",
    "    l = len(citations)\n",
    "    for i in range(l):\n",
    "        if citations[i] >= l-i:\n",
    "            return l-i\n",
    "    return 0\n",
    "\n",
    "# solution([3, 0, 3, 6, 1, 5])  # 2\n",
    "solution([8, 25, 3, 5, 3])  # 3"
   ]
  },
  {
   "cell_type": "markdown",
   "metadata": {},
   "source": [
    "# 스택/큐"
   ]
  },
  {
   "cell_type": "markdown",
   "metadata": {},
   "source": [
    "## 짝지어 제거하기\n",
    "- 문제 설명\n",
    "    - 짝지어 제거하기는, 알파벳 소문자로 이루어진 문자열을 가지고 시작합니다.\n",
    "    - 먼저 문자열에서 같은 알파벳이 2개 붙어 있는 짝을 찾습니다.\n",
    "    - 그다음, 그 둘을 제거한 뒤, 앞뒤로 문자열을 이어 붙입니다.\n",
    "    - 이 과정을 반복해서 문자열을 모두 제거한다면 짝지어 제거하기가 종료됩니다.\n",
    "    - 문자열 S가 주어졌을 때, 짝지어 제거하기를 성공적으로 수행할 수 있는지 반환하는 함수를 완성해 주세요.\n",
    "    - 성공적으로 수행할 수 있으면 1을, 아닐 경우 0을 리턴해주면 됩니다.\n",
    "        - 예를 들어, 문자열 S = baabaa 라면\n",
    "        - b'aa'baa → 'bb'aa → 'aa' →\n",
    "        - 의 순서로 문자열을 모두 제거할 수 있으므로 1을 반환합니다.\n",
    "\n",
    "- 제한사항\n",
    "    - 문자열의 길이 : 1,000,000이하의 자연수\n",
    "    - 문자열은 모두 소문자로 이루어져 있습니다.\n",
    "    - #힌트: 최대 시간복잡도 O(n)으로 풀어야 효율성 테스트를 통과할 수 있다."
   ]
  },
  {
   "cell_type": "code",
   "execution_count": 148,
   "metadata": {},
   "outputs": [
    {
     "data": {
      "text/plain": [
       "1"
      ]
     },
     "execution_count": 148,
     "metadata": {},
     "output_type": "execute_result"
    }
   ],
   "source": [
    "def solution(s):\n",
    "    if len(s) < 2:\n",
    "        return 0\n",
    "    temp = []\n",
    "    for i in s:\n",
    "        if temp[-1:] != [i]:\n",
    "            temp.append(i)\n",
    "        elif temp[-1:] == [i]:\n",
    "            temp.pop(-1)\n",
    "    return 0 if len(temp) else 1\n",
    "# solution(\"aab\")  # 0\n",
    "# solution(\"aaabaa\")  # 0\n",
    "# solution(\"baabaa\")  # 1\n",
    "# solution(\"cdcd\")  # 0\n",
    "# solution(\" \")  # 0\n",
    "# solution(\"\")  # 0\n",
    "# solution(\"a\")  # 0\n",
    "# solution(\"aaaaa\")  # 0\n",
    "solution(\"aaaa\")  # 0"
   ]
  },
  {
   "cell_type": "markdown",
   "metadata": {},
   "source": [
    "## 기능 개발\n",
    "- 문제 설명\n",
    "    - 프로그래머스 팀에서는 기능 개선 작업을 수행 중입니다.\n",
    "    - 각 기능은 진도가 100%일 때 서비스에 반영할 수 있습니다.\n",
    "    - 또, 각 기능의 개발속도는 모두 다르기 때문에 뒤에 있는 기능이 앞에 있는 기능보다 먼저 개발될 수 있고,\n",
    "    - 이때 뒤에 있는 기능은 앞에 있는 기능이 배포될 때 함께 배포됩니다.\n",
    "    - 먼저 배포되어야 하는 순서대로 작업의 진도가 적힌 정수 배열 progresses와\n",
    "    - 각 작업의 개발 속도가 적힌 정수 배열 speeds가 주어질 때\n",
    "    - 각 배포마다 몇 개의 기능이 배포되는지를 return 하도록 solution 함수를 완성하세요.\n",
    "\n",
    "- 제한 사항\n",
    "    - 작업의 개수(progresses, speeds배열의 길이)는 100개 이하입니다.\n",
    "    - 작업 진도는 100 미만의 자연수입니다.\n",
    "    - 작업 속도는 100 이하의 자연수입니다.\n",
    "    - 배포는 하루에 한 번만 할 수 있으며, 하루의 끝에 이루어진다고 가정합니다.\n",
    "    - 예를 들어 진도율이 95%인 작업의 개발 속도가 하루에 4%라면 배포는 2일 뒤에 이루어집니다."
   ]
  },
  {
   "cell_type": "code",
   "execution_count": 1,
   "metadata": {},
   "outputs": [
    {
     "data": {
      "text/plain": [
       "[1, 3, 2]"
      ]
     },
     "execution_count": 1,
     "metadata": {},
     "output_type": "execute_result"
    }
   ],
   "source": [
    "def solution(progresses, speeds):\n",
    "    # -(-남은 진행률 // 하루 개발 속도) = 남은 날짜\n",
    "    # -(-a//b) = 파이썬 // 연산자가 내림인 점을 이용한 \"올림\"하기\n",
    "    # ex) a=7, b=4 -> -a/b = -1.75, -a//b = -2, -(-2) = 2\n",
    "    answer = [0]\n",
    "    release = -((progresses[0]-100)//speeds[0])\n",
    "    for remain in map(lambda x: -(-(100-x[0])//x[1]), zip(progresses, speeds)):\n",
    "        if remain <= release:\n",
    "            answer[-1] += 1\n",
    "        else:\n",
    "            answer.append(1)\n",
    "            release = remain\n",
    "    return answer\n",
    "\n",
    "# solution([93, 30, 55], [1, 30, 5])\n",
    "solution([95, 90, 99, 99, 80, 99], [1, 1, 1, 1, 1, 1])"
   ]
  },
  {
   "cell_type": "markdown",
   "metadata": {},
   "source": [
    "## 올바른 괄호\n",
    "- 문제 설명\n",
    "    - 괄호가 바르게 짝지어졌다는 것은 '(' 문자로 열렸으면 반드시 짝지어서 ')' 문자로 닫혀야 한다는 뜻입니다.\n",
    "    - 예를 들어\n",
    "        - \"()()\" 또는 \"(())()\" 는 올바른 괄호입니다.\n",
    "        - \")()(\" 또는 \"(()(\" 는 올바르지 않은 괄호입니다.\n",
    "    - '(' 또는 ')' 로만 이루어진 문자열 s가 주어졌을 때,\n",
    "    - 문자열 s가 올바른 괄호이면 true를 return 하고,\n",
    "    - 올바르지 않은 괄호이면 false를 return 하는 solution 함수를 완성해 주세요.\n",
    "\n",
    "- 제한사항\n",
    "    - 문자열 s의 길이 : 100,000 이하의 자연수\n",
    "    - 문자열 s는 '(' 또는 ')' 로만 이루어져 있습니다."
   ]
  },
  {
   "cell_type": "code",
   "execution_count": 759,
   "metadata": {},
   "outputs": [
    {
     "data": {
      "text/plain": [
       "False"
      ]
     },
     "execution_count": 759,
     "metadata": {},
     "output_type": "execute_result"
    }
   ],
   "source": [
    "def solution(s):\n",
    "    stack = []\n",
    "    for i in s:\n",
    "        if i == \")\" and stack[-1:] == [\"(\"]:\n",
    "            stack.pop()\n",
    "            continue\n",
    "        stack.append(i)\n",
    "    return False if stack else True\n",
    "\n",
    "# solution(\"()()\")  # True\n",
    "# solution(\"(())()\")  # True\n",
    "# solution(\")()(\")  # False\n",
    "# solution(\"(()()\")  # False\n",
    "solution(\"(((())))()\")  # True\n",
    "# solution(\")(((())))(\")  # False\n",
    "# solution(\"((((()\")  # False\n",
    "# solution(\"()))))\")  # False"
   ]
  },
  {
   "cell_type": "markdown",
   "metadata": {},
   "source": [
    "## 프린터\n",
    "- 문제 설명\n",
    "    - 일반적인 프린터는 인쇄 요청이 들어온 순서대로 인쇄합니다.\n",
    "    - 그렇기 때문에 중요한 문서가 나중에 인쇄될 수 있습니다.\n",
    "    - 이런 문제를 보완하기 위해 중요도가 높은 문서를 먼저 인쇄하는 프린터를 개발했습니다.\n",
    "    - 이 새롭게 개발한 프린터는 아래와 같은 방식으로 인쇄 작업을 수행합니다.\n",
    "        - 1. 인쇄 대기목록의 가장 앞에 있는 문서(J)를 대기목록에서 꺼냅니다.\n",
    "        - 2. 나머지 인쇄 대기목록에서 J보다 중요도가 높은 문서가 한 개라도 존재하면<br>\n",
    "        J를 대기목록의 가장 마지막에 넣습니다.\n",
    "        - 3. 그렇지 않으면 J를 인쇄합니다.\n",
    "    - 예를 들어, 4개의 문서(A, B, C, D)가 순서대로 인쇄 대기목록에 있고\n",
    "    - 중요도가 2 1 3 2 라면 C D A B 순으로 인쇄하게 됩니다.\n",
    "    - 내가 인쇄를 요청한 문서가 몇 번째로 인쇄되는지 알고 싶습니다.\n",
    "    - 위의 예에서 C는 1번째로, A는 3번째로 인쇄됩니다.\n",
    "    - 현재 대기목록에 있는 문서의 중요도가 순서대로 담긴 배열 priorities와\n",
    "    - 내가 인쇄를 요청한 문서가 현재 대기목록의 어떤 위치에 있는지를 알려주는\n",
    "    - location이 매개변수로 주어질 때, 내가 인쇄를 요청한 문서가\n",
    "    - 몇 번째로 인쇄되는지 return 하도록 solution 함수를 작성해주세요.\n",
    "\n",
    "- 제한사항\n",
    "    - 현재 대기목록에는 1개 이상 100개 이하의 문서가 있습니다.\n",
    "    - 인쇄 작업의 중요도는 1~9로 표현하며 숫자가 클수록 중요하다는 뜻입니다.\n",
    "    - location은 0 이상 (현재 대기목록에 있는 작업 수 - 1) 이하의 값을 가지며\n",
    "    - 대기목록의 가장 앞에 있으면 0, 두 번째에 있으면 1로 표현합니다."
   ]
  },
  {
   "cell_type": "code",
   "execution_count": 31,
   "metadata": {},
   "outputs": [
    {
     "data": {
      "text/plain": [
       "6"
      ]
     },
     "execution_count": 31,
     "metadata": {},
     "output_type": "execute_result"
    }
   ],
   "source": [
    "def solution(priorities, location):\n",
    "    order = []\n",
    "    \n",
    "    while priorities:\n",
    "        doc = priorities.pop(0)\n",
    "        if not priorities:\n",
    "            priorities = [0]\n",
    "        if doc >= max(priorities):\n",
    "            order.append(doc)\n",
    "            if not location:\n",
    "                return len(order)\n",
    "            location -= 1\n",
    "        else:\n",
    "            priorities.append(doc)\n",
    "            if not location:\n",
    "                location = len(priorities) - 1\n",
    "                continue\n",
    "            location -= 1\n",
    "\n",
    "# solution([2, 1, 3, 2], 2)  # 1\n",
    "# solution([1, 1, 9, 1, 1, 1], 0)  # 5\n",
    "# solution([1, 1, 2, 3, 2, 1], 0)  # 5\n",
    "# solution([2, 1, 2, 1, 2, 1, 2, 1, 2], 1)  # 6\n",
    "# solution([5, 4, 3, 2, 1], 4)  # 5\n",
    "# solution([1,2,5,3,5], 3)  # 3\n",
    "# solution([1,1,1,1,1,1,1], 5)  # 6\n",
    "# solution([1,0,1,0,1,0,1], 5)  # 7\n",
    "# solution([0,0,0,5,5,4,3,0,2,0,1,0], 10)  # 6\n",
    "# solution([2,2,2,1,3,4], 3)  # 6\n",
    "solution([2,3,3,2,9,3,3], 3)  # 6"
   ]
  },
  {
   "cell_type": "markdown",
   "metadata": {},
   "source": [
    "## 다리를 지나는 트럭\n",
    "- 문제 설명\n",
    "    - 트럭 여러 대가 강을 가로지르는 일차선 다리를 정해진 순으로 건너려 합니다.\n",
    "    - 모든 트럭이 다리를 건너려면 최소 몇 초가 걸리는지 알아내야 합니다.\n",
    "    - 다리에는 트럭이 최대 bridge_length대 올라갈 수 있으며, 다리는 weight 이하까지의 무게를 견딜 수 있습니다.\n",
    "    - 단, 다리에 완전히 오르지 않은 트럭의 무게는 무시합니다.\n",
    "    - 예를 들어, 트럭 2대가 올라갈 수 있고 무게를 10kg까지 견디는 다리가 있습니다.\n",
    "    - 무게가 [7, 4, 5, 6]kg인 트럭이 순서대로 최단 시간 안에 다리를 건너려면 다음과 같이 건너야 합니다.<br>\n",
    "\n",
    "|경과 시간|다리를 지난 트럭|다리를 건너는 트럭|대기 트럭|\n",
    "|:---:|:---:|:---:|:---:|\n",
    "|0|[]|[]|[7,4,5,6]|\n",
    "|1~2|[]|[7]|[4,5,6]|\n",
    "|3|[7]|[4]|[5,6]|\n",
    "|4|[7]|[4,5]|[6]|\n",
    "|5|[7,4]|[5]|[6]|\n",
    "|6~7|[7,4,5]|[6]|[]|\n",
    "|8|[7,4,5,6]|[]|[]|\n",
    "\n",
    "- 따라서, 모든 트럭이 다리를 지나려면 최소 8초가 걸립니다.\n",
    "    - solution 함수의 매개변수로 다리에 올라갈 수 있는 트럭 수 bridge_length,\n",
    "    - 다리가 견딜 수 있는 무게 weight, 트럭 별 무게 truck_weights가 주어집니다.\n",
    "    - 이때 모든 트럭이 다리를 건너려면 최소 몇 초가 걸리는지 return 하도록 solution 함수를 완성하세요.\n",
    "\n",
    "- 제한 조건\n",
    "    - bridge_length는 1 이상 10,000 이하입니다.\n",
    "    - weight는 1 이상 10,000 이하입니다.\n",
    "    - truck_weights의 길이는 1 이상 10,000 이하입니다.\n",
    "    - 모든 트럭의 무게는 1 이상 weight 이하입니다."
   ]
  },
  {
   "cell_type": "code",
   "execution_count": 54,
   "metadata": {},
   "outputs": [
    {
     "name": "stdout",
     "output_type": "stream",
     "text": [
      "CPU times: user 37 µs, sys: 0 ns, total: 37 µs\n",
      "Wall time: 42 µs\n"
     ]
    },
    {
     "data": {
      "text/plain": [
       "110"
      ]
     },
     "execution_count": 54,
     "metadata": {},
     "output_type": "execute_result"
    }
   ],
   "source": [
    "from collections import deque\n",
    "\n",
    "\n",
    "def solution(bridge_length, weight, truck_weights):\n",
    "    answer = 0\n",
    "    curr_weight = 0\n",
    "    trucks = deque(truck_weights)\n",
    "    bridge = deque([0], maxlen=bridge_length)\n",
    "    \n",
    "    # 항상 1대의 트럭만 건널수 있는 경우 : O(bridge_length x len(truck_weights))\n",
    "    if min(truck_weights) >= weight:\n",
    "        return bridge_length * len(truck_weights) + 1\n",
    "    \n",
    "    while trucks:\n",
    "        curr_weight -= bridge[0]\n",
    "        if trucks[0] + curr_weight <= weight:\n",
    "            curr_weight += trucks[0]\n",
    "            bridge.append(trucks.popleft())\n",
    "        else:\n",
    "            bridge.append(0)\n",
    "        answer += 1\n",
    "    return answer + bridge_length\n",
    "\n",
    "# solution(2, 10, [7,4,5,6])  # 8\n",
    "# solution(100, 100, [10])  # 101\n",
    "solution(100, 100, [10,10,10,10,10,10,10,10,10,10])  # 110\n",
    "# solution(5, 5, [2,2,2,2,1,1,1,1,1])  # 19\n",
    "# solution(5, 5, [2,1,1,5,1])  # 18\n",
    "# %time solution(1000000, 1, [2]*1000000)"
   ]
  },
  {
   "cell_type": "markdown",
   "metadata": {},
   "source": [
    "## 주식가격\n",
    "- 문제 설명\n",
    "    - 초 단위로 기록된 주식가격이 담긴 배열 prices가 매개변수로 주어질 때,\n",
    "    - 가격이 떨어지지 않은 기간은 몇 초인지를 return 하도록 solution 함수를 완성하세요.\n",
    "\n",
    "- 제한사항\n",
    "    - prices의 각 가격은 1 이상 10,000 이하인 자연수입니다.\n",
    "    - prices의 길이는 2 이상 100,000 이하입니다.\n"
   ]
  },
  {
   "cell_type": "code",
   "execution_count": 110,
   "metadata": {},
   "outputs": [
    {
     "data": {
      "text/plain": [
       "[4, 3, 1, 1, 0]"
      ]
     },
     "execution_count": 110,
     "metadata": {},
     "output_type": "execute_result"
    }
   ],
   "source": [
    "# 파이썬 로직만 사용\n",
    "def solution(prices):\n",
    "    answer = []\n",
    "    for i in range(len(prices)):\n",
    "        price = prices[i]\n",
    "        for j in range(i+1, len(prices)):\n",
    "            if prices[j] < price:\n",
    "                answer.append(j-i)\n",
    "                break\n",
    "        else:\n",
    "            answer.append(len(prices)-i-1)\n",
    "    \n",
    "    return answer\n",
    "\n",
    "solution([1,2,3,2,3])  # [4,3,1,1,0]"
   ]
  },
  {
   "cell_type": "code",
   "execution_count": 127,
   "metadata": {},
   "outputs": [
    {
     "data": {
      "text/plain": [
       "[4, 3, 1, 1, 0]"
      ]
     },
     "execution_count": 127,
     "metadata": {},
     "output_type": "execute_result"
    }
   ],
   "source": [
    "from collections import deque\n",
    "\n",
    "\n",
    "# deque 사용\n",
    "def solution(prices):\n",
    "    answer = []\n",
    "    prices = deque(prices)\n",
    "    while prices:\n",
    "        take = 0\n",
    "        price = prices.popleft()\n",
    "        for i in prices:\n",
    "            if i < price:\n",
    "                take += 1\n",
    "                break\n",
    "            else:\n",
    "                take += 1\n",
    "        answer.append(take)\n",
    "    \n",
    "    return answer\n",
    "\n",
    "solution([1,2,3,2,3])  # [4,3,1,1,0]"
   ]
  },
  {
   "cell_type": "markdown",
   "metadata": {},
   "source": [
    "## 영어 끝말잇기\n",
    "- "
   ]
  },
  {
   "cell_type": "code",
   "execution_count": 85,
   "metadata": {},
   "outputs": [
    {
     "data": {
      "text/plain": [
       "[2, 2]"
      ]
     },
     "execution_count": 85,
     "metadata": {},
     "output_type": "execute_result"
    }
   ],
   "source": [
    "from collections import deque\n",
    "\n",
    "\n",
    "# 1. 스택/큐 이용한 방법\n",
    "def solution(n, words):\n",
    "    words = deque(words)\n",
    "    history = deque()\n",
    "    \n",
    "    while words:\n",
    "        word = words.popleft()\n",
    "        if history and (word in history or history[-1][-1] != word[0]):\n",
    "            cycle, order = divmod(len(history), n)\n",
    "            return [order+1, cycle+1]\n",
    "        else:\n",
    "            history.append(word)\n",
    "    return [0, 0]\n",
    "\n",
    "# %time solution(3, [\"tank\", \"kick\", \"know\", \"wheel\", \"land\", \"dream\", \"mother\", \"robot\", \"tank\"])  # [3,3]\n",
    "# %time solution(5, [\"hello\", \"observe\", \"effect\", \"take\", \"either\", \"recognize\", \"encourage\", \"ensure\", \"establish\", \"hang\", \"gather\", \"refer\", \"reference\", \"estimate\", \"executive\"])  # [0,0]\n",
    "# %time solution(2, [\"hello\", \"one\", \"even\", \"never\", \"now\", \"world\", \"draw\"])\n",
    "solution(2, [\"land\", \"dream\", \"mom\", \"mom\", \"ror\"])"
   ]
  },
  {
   "cell_type": "code",
   "execution_count": 80,
   "metadata": {},
   "outputs": [
    {
     "name": "stdout",
     "output_type": "stream",
     "text": [
      "CPU times: user 49 µs, sys: 0 ns, total: 49 µs\n",
      "Wall time: 54.8 µs\n"
     ]
    },
    {
     "data": {
      "text/plain": [
       "[3, 3]"
      ]
     },
     "execution_count": 80,
     "metadata": {},
     "output_type": "execute_result"
    }
   ],
   "source": [
    "from collections import Counter\n",
    "\n",
    "\n",
    "# 2. 완전탐색을 이용한 방법\n",
    "def solution(n, words):\n",
    "    is_overlap = Counter(words).most_common(1)[0]\n",
    "    if is_overlap[1] > 1:\n",
    "        overlapped = words.index(is_overlap[0], -1)\n",
    "        cycle, order = divmod(overlapped, n)\n",
    "        return [order+1, cycle+1]\n",
    "    else:\n",
    "        for i in range(len(words)-1):\n",
    "            if words[i][-1] != words[i+1][0]:\n",
    "                cycle, order = divmod(i+1, n)\n",
    "                return [order+1, cycle+1]\n",
    "    return [0, 0]\n",
    "\n",
    "%time solution(3, [\"tank\", \"kick\", \"know\", \"wheel\", \"land\", \"dream\", \"mother\", \"robot\", \"tank\"])  # [3,3]\n",
    "# %time solution(5, [\"hello\", \"observe\", \"effect\", \"take\", \"either\", \"recognize\", \"encourage\", \"ensure\", \"establish\", \"hang\", \"gather\", \"refer\", \"reference\", \"estimate\", \"executive\"])  # [0,0]\n",
    "# %time solution(2, [\"hello\", \"one\", \"even\", \"never\", \"now\", \"world\", \"draw\"])"
   ]
  },
  {
   "cell_type": "markdown",
   "metadata": {},
   "source": [
    "# 완전 탐색"
   ]
  },
  {
   "cell_type": "markdown",
   "metadata": {},
   "source": [
    "## 소수 찾기(완전탐색)\n",
    "- 문제 설명\n",
    "    - 한자리 숫자가 적힌 종이 조각이 흩어져있습니다. 흩어진 종이 조각을 붙여 소수를 몇 개 만들 수 있는지 알아내려 합니다.\n",
    "    - 각 종이 조각에 적힌 숫자가 적힌 문자열 numbers가 주어졌을 때,\n",
    "    - 종이 조각으로 만들 수 있는 소수가 몇 개인지 return 하도록 solution 함수를 완성해주세요.\n",
    "\n",
    "- 제한사항\n",
    "    - numbers는 길이 1 이상 7 이하인 문자열입니다.\n",
    "    - numbers는 0~9까지 숫자만으로 이루어져 있습니다.\n",
    "    - \"013\"은 0, 1, 3 숫자가 적힌 종이 조각이 흩어져있다는 의미입니다."
   ]
  },
  {
   "cell_type": "code",
   "execution_count": 182,
   "metadata": {},
   "outputs": [
    {
     "data": {
      "text/plain": [
       "18"
      ]
     },
     "execution_count": 182,
     "metadata": {},
     "output_type": "execute_result"
    }
   ],
   "source": [
    "from itertools import permutations\n",
    "\n",
    "def solution(numbers):\n",
    "    candidate = []\n",
    "    primes = 0\n",
    "    \n",
    "    for i in range(1, len((numbers := list(numbers)))+1):\n",
    "        p = permutations(numbers, i)\n",
    "        for n in p:\n",
    "            candidate.append(int(\"\".join(d for d in n)))\n",
    "    \n",
    "    for i in set(candidate) - set(range(2)):\n",
    "        if i > 1:\n",
    "            if any(j for j in range(2, int(i**0.5)+1) if not i%j):\n",
    "                continue\n",
    "            else:\n",
    "                primes += 1\n",
    "    return primes\n",
    "\n",
    "# solution(\"17\")  # 3\n",
    "# solution(\"011\")  # 2\n",
    "# solution(\"00\")  # 0\n",
    "solution(\"1231\")  # 18"
   ]
  },
  {
   "cell_type": "code",
   "execution_count": 181,
   "metadata": {},
   "outputs": [
    {
     "data": {
      "text/plain": [
       "18"
      ]
     },
     "execution_count": 181,
     "metadata": {},
     "output_type": "execute_result"
    }
   ],
   "source": [
    "from itertools import permutations\n",
    "def solution(n):\n",
    "    a = set()\n",
    "    for i in range(len(n)):\n",
    "        a |= set(map(int, map(\"\".join, permutations(list(n), i + 1))))\n",
    "    a -= set(range(0, 2))\n",
    "    for i in range(2, int(max(a) ** 0.5) + 1):\n",
    "        a -= set(range(i * 2, max(a) + 1, i))\n",
    "    return len(a)\n",
    "\n",
    "# solution(\"17\")  # 3\n",
    "# solution(\"011\")  # 2\n",
    "# solution(\"00\")  # 0\n",
    "solution(\"1231\")  # 18"
   ]
  },
  {
   "cell_type": "code",
   "execution_count": null,
   "metadata": {},
   "outputs": [],
   "source": []
  },
  {
   "cell_type": "code",
   "execution_count": null,
   "metadata": {},
   "outputs": [],
   "source": []
  },
  {
   "cell_type": "code",
   "execution_count": null,
   "metadata": {},
   "outputs": [],
   "source": []
  },
  {
   "cell_type": "code",
   "execution_count": 276,
   "metadata": {},
   "outputs": [],
   "source": []
  },
  {
   "cell_type": "code",
   "execution_count": null,
   "metadata": {},
   "outputs": [],
   "source": []
  },
  {
   "cell_type": "code",
   "execution_count": null,
   "metadata": {},
   "outputs": [],
   "source": []
  },
  {
   "cell_type": "code",
   "execution_count": null,
   "metadata": {},
   "outputs": [],
   "source": []
  }
 ],
 "metadata": {
  "kernelspec": {
   "display_name": "Python 3.8.13 ('base')",
   "language": "python",
   "name": "python3"
  },
  "language_info": {
   "codemirror_mode": {
    "name": "ipython",
    "version": 3
   },
   "file_extension": ".py",
   "mimetype": "text/x-python",
   "name": "python",
   "nbconvert_exporter": "python",
   "pygments_lexer": "ipython3",
   "version": "3.8.13"
  },
  "orig_nbformat": 4,
  "vscode": {
   "interpreter": {
    "hash": "38cc0cca68228d4d18227abe74ed813685db17db46984279e4aabdddebf5f1ba"
   }
  }
 },
 "nbformat": 4,
 "nbformat_minor": 2
}
