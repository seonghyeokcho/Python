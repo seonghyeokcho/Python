{
 "cells": [
  {
   "cell_type": "markdown",
   "metadata": {},
   "source": [
    "## 오픈채팅방\n",
    "- 문제 설명\n",
    "    - 카카오톡 오픈채팅방에서는 친구가 아닌 사람들과 대화를 할 수 있는데,\n",
    "    - 본래 닉네임이 아닌 가상의 닉네임을 사용하여 채팅방에 들어갈 수 있다.\n",
    "    - 신입사원인 김크루는 카카오톡 오픈 채팅방을 개설한 사람을 위해, 다양한 사람들이 들어오고,\n",
    "    - 나가는 것을 지켜볼 수 있는 관리자창을 만들기로 했다. 채팅방에 누군가 들어오면 다음 메시지가 출력된다.\n",
    "        - \"[닉네임]님이 들어왔습니다.\"\n",
    "    - 채팅방에서 누군가 나가면 다음 메시지가 출력된다.\n",
    "        - \"[닉네임]님이 나갔습니다.\"\n",
    "    - 채팅방에서 닉네임을 변경하는 방법은 다음과 같이 두 가지이다.\n",
    "        1. 채팅방을 나간 후, 새로운 닉네임으로 다시 들어간다.\n",
    "        2. 채팅방에서 닉네임을 변경한다.\n",
    "        - 닉네임을 변경할 때는 기존에 채팅방에 출력되어 있던 메시지의 닉네임도 전부 변경된다.\n",
    "    - 예를 들어, 채팅방에 \"Muzi\"와 \"Prodo\"라는 닉네임을 사용하는 사람이 순서대로 들어오면\n",
    "    - 채팅방에는 다음과 같이 메시지가 출력된다.\n",
    "        - \"Muzi님이 들어왔습니다.\"\n",
    "        - \"Prodo님이 들어왔습니다.\"\n",
    "    - 채팅방에 있던 사람이 나가면 채팅방에는 다음과 같이 메시지가 남는다.\n",
    "        - \"Muzi님이 들어왔습니다.\"\n",
    "        - \"Prodo님이 들어왔습니다.\"\n",
    "        - \"Muzi님이 나갔습니다.\"\n",
    "    - Muzi가 나간후 다시 들어올 때, Prodo 라는 닉네임으로 들어올 경우\n",
    "    - 기존에 채팅방에 남아있던 Muzi도 Prodo로 다음과 같이 변경된다.\n",
    "        - \"Prodo님이 들어왔습니다.\"\n",
    "        - \"Prodo님이 들어왔습니다.\"\n",
    "        - \"Prodo님이 나갔습니다.\"\n",
    "        - \"Prodo님이 들어왔습니다.\"\n",
    "    - 채팅방은 중복 닉네임을 허용하기 때문에, 현재 채팅방에는 Prodo라는 닉네임을 사용하는 사람이 두 명이 있다.\n",
    "    - 이제, 채팅방에 두 번째로 들어왔던 Prodo가 Ryan으로 닉네임을 변경하면 채팅방 메시지는 다음과 같이 변경된다.\n",
    "        - \"Prodo님이 들어왔습니다.\"\n",
    "        - \"Ryan님이 들어왔습니다.\"\n",
    "        - \"Prodo님이 나갔습니다.\"\n",
    "        - \"Prodo님이 들어왔습니다.\"\n",
    "    - 채팅방에 들어오고 나가거나, 닉네임을 변경한 기록이 담긴 문자열 배열 record가 매개변수로 주어질 때,\n",
    "    - 모든 기록이 처리된 후, 최종적으로 방을 개설한 사람이 보게 되는 메시지를\n",
    "    - 문자열 배열 형태로 return 하도록 solution 함수를 완성하라.\n",
    "\n",
    "- 제한사항\n",
    "    - record는 다음과 같은 문자열이 담긴 배열이며, 길이는 1 이상 100,000 이하이다.\n",
    "    - 다음은 record에 담긴 문자열에 대한 설명이다.\n",
    "        - 모든 유저는 [유저 아이디]로 구분한다.\n",
    "        - [유저 아이디] 사용자가 [닉네임]으로 채팅방에 입장 - \"Enter [유저 아이디] [닉네임]\"<br>\n",
    "        (ex. \"Enter uid1234 Muzi\")\n",
    "        - [유저 아이디] 사용자가 채팅방에서 퇴장 - \"Leave [유저 아이디]\" (ex. \"Leave uid1234\")\n",
    "        - [유저 아이디] 사용자가 닉네임을 [닉네임]으로 변경 - \"Change [유저 아이디] [닉네임]\"<br>\n",
    "        (ex. \"Change uid1234 Muzi\")\n",
    "    - 첫 단어는 Enter, Leave, Change 중 하나이다.\n",
    "    - 각 단어는 공백으로 구분되어 있으며, 알파벳 대문자, 소문자, 숫자로만 이루어져있다.\n",
    "    - 유저 아이디와 닉네임은 알파벳 대문자, 소문자를 구별한다.\n",
    "    - 유저 아이디와 닉네임의 길이는 1 이상 10 이하이다.\n",
    "    - 채팅방에서 나간 유저가 닉네임을 변경하는 등 잘못 된 입력은 주어지지 않는다."
   ]
  },
  {
   "cell_type": "code",
   "execution_count": 220,
   "metadata": {},
   "outputs": [
    {
     "name": "stdout",
     "output_type": "stream",
     "text": [
      "CPU times: user 20 µs, sys: 0 ns, total: 20 µs\n",
      "Wall time: 24.1 µs\n"
     ]
    },
    {
     "data": {
      "text/plain": [
       "['Prodo님이 들어왔습니다.', 'Ryan님이 들어왔습니다.', 'Prodo님이 나갔습니다.', 'Prodo님이 들어왔습니다.']"
      ]
     },
     "execution_count": 220,
     "metadata": {},
     "output_type": "execute_result"
    }
   ],
   "source": [
    "def solution(record):\n",
    "    answer = []\n",
    "    logs = [i.split() for i in record]\n",
    "    id_map = {}\n",
    "    \n",
    "    for index in reversed(range(len(logs))):\n",
    "        if not id_map.get(logs[index][1]) and logs[index][0].startswith((\"C\", \"E\")):\n",
    "                id_map[logs[index][1]] = logs[index][2]\n",
    "    \n",
    "    message = {\"Enter\":\"님이 들어왔습니다.\", \"Leave\":\"님이 나갔습니다.\"}\n",
    "    return [f\"{id_map[i[1]]}{message[i[0]]}\" for i in logs if not i[0].startswith(\"C\")]\n",
    "\n",
    "%time solution([\"Enter uid1234 Muzi\", \"Enter uid4567 Prodo\",\"Leave uid1234\",\"Enter uid1234 Prodo\",\"Change uid4567 Ryan\"])"
   ]
  },
  {
   "cell_type": "code",
   "execution_count": 182,
   "metadata": {},
   "outputs": [
    {
     "name": "stdout",
     "output_type": "stream",
     "text": [
      "CPU times: user 24 µs, sys: 1e+03 ns, total: 25 µs\n",
      "Wall time: 28.1 µs\n"
     ]
    },
    {
     "data": {
      "text/plain": [
       "['Prodo님이 들어왔습니다.', 'Ryan님이 들어왔습니다.', 'Prodo님이 나갔습니다.', 'Prodo님이 들어왔습니다.']"
      ]
     },
     "execution_count": 182,
     "metadata": {},
     "output_type": "execute_result"
    }
   ],
   "source": [
    "def solution(record):\n",
    "    answer = []\n",
    "    log_dict = {}\n",
    "    \n",
    "    for log in record:\n",
    "        if log_dict.get((logs := log.split())[1]) is None:\n",
    "            log_dict[logs[1]] = []  # 채팅방 메세지에 표시된 위치 정보를 담을 딕셔너리\n",
    "            \n",
    "        if logs[0] == \"Enter\":  # 채팅방 입장\n",
    "            if len(log_dict[logs[1]]):\n",
    "                message = answer[log_dict[logs[1]][0]]\n",
    "                if message[:message.index(\"님\")] != logs[2]:\n",
    "                    for i in log_dict[logs[1]]:\n",
    "                        idx = answer[i].index(\"님\")\n",
    "                        answer[i] = answer[i].replace(answer[i][:idx], logs[2])\n",
    "            answer.append(f\"{logs[2]}님이 들어왔습니다.\")\n",
    "            log_dict[logs[1]].append(len(answer) - 1)\n",
    "            \n",
    "        elif logs[0] == \"Leave\":  # 채팅방 나가기\n",
    "            message = answer[log_dict[logs[1]][0]]\n",
    "            nickname = message[:message.index(\"님\")]\n",
    "            answer.append(f\"{nickname}님이 나갔습니다.\")\n",
    "            log_dict[logs[1]].append(len(answer) - 1)\n",
    "            \n",
    "        elif  logs[0] == \"Change\":  # 채팅방 안에서 닉네임 변경\n",
    "            for i in log_dict[logs[1]]:  # 채팅방 메세지에 표시된 닉네임을 변경된 닉네임으로 모두 교체\n",
    "                idx = answer[i].index(\"님\")\n",
    "                answer[i] = answer[i].replace(answer[i][:idx], logs[2])\n",
    "    return answer\n",
    "\n",
    "%time solution([\"Enter uid1234 Muzi\", \"Enter uid4567 Prodo\",\"Leave uid1234\",\"Enter uid1234 Prodo\",\"Change uid4567 Ryan\"])"
   ]
  },
  {
   "cell_type": "code",
   "execution_count": null,
   "metadata": {},
   "outputs": [],
   "source": []
  },
  {
   "cell_type": "code",
   "execution_count": 239,
   "metadata": {},
   "outputs": [
    {
     "name": "stdout",
     "output_type": "stream",
     "text": [
      "101\n"
     ]
    }
   ],
   "source": [
    "def solution(n):\n",
    "    d = {0:1, 1:1, 2:2, 3:4}\n",
    "    quaternary = \"\"\n",
    "    while n > 0:\n",
    "        n, r = divmod(n, 3)\n",
    "        quaternary += str(r)\n",
    "    print(quaternary)\n",
    "    return\n",
    "#  (\"\".join(str(d[int(i)]) for i in quaternary))[::-1]\n",
    "solution(10)"
   ]
  },
  {
   "cell_type": "code",
   "execution_count": 227,
   "metadata": {},
   "outputs": [
    {
     "data": {
      "text/plain": [
       "1"
      ]
     },
     "execution_count": 227,
     "metadata": {},
     "output_type": "execute_result"
    }
   ],
   "source": [
    "d = {0:1, 1:1, 2:2, 3:4}\n",
    "d[1]"
   ]
  },
  {
   "cell_type": "code",
   "execution_count": null,
   "metadata": {},
   "outputs": [],
   "source": []
  },
  {
   "cell_type": "code",
   "execution_count": null,
   "metadata": {},
   "outputs": [],
   "source": []
  }
 ],
 "metadata": {
  "kernelspec": {
   "display_name": "Python 3.8.13 ('base')",
   "language": "python",
   "name": "python3"
  },
  "language_info": {
   "codemirror_mode": {
    "name": "ipython",
    "version": 3
   },
   "file_extension": ".py",
   "mimetype": "text/x-python",
   "name": "python",
   "nbconvert_exporter": "python",
   "pygments_lexer": "ipython3",
   "version": "3.8.13"
  },
  "orig_nbformat": 4,
  "vscode": {
   "interpreter": {
    "hash": "38cc0cca68228d4d18227abe74ed813685db17db46984279e4aabdddebf5f1ba"
   }
  }
 },
 "nbformat": 4,
 "nbformat_minor": 2
}
