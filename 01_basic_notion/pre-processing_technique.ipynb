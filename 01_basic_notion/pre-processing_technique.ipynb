{
 "cells": [
  {
   "cell_type": "markdown",
   "metadata": {},
   "source": [
    "### 3-1. 데이터의 이해\n",
    "#### 데이터 리드(data lead)"
   ]
  },
  {
   "cell_type": "code",
   "execution_count": 6,
   "metadata": {},
   "outputs": [
    {
     "data": {
      "text/html": [
       "<div>\n",
       "<style scoped>\n",
       "    .dataframe tbody tr th:only-of-type {\n",
       "        vertical-align: middle;\n",
       "    }\n",
       "\n",
       "    .dataframe tbody tr th {\n",
       "        vertical-align: top;\n",
       "    }\n",
       "\n",
       "    .dataframe thead th {\n",
       "        text-align: right;\n",
       "    }\n",
       "</style>\n",
       "<table border=\"1\" class=\"dataframe\">\n",
       "  <thead>\n",
       "    <tr style=\"text-align: right;\">\n",
       "      <th></th>\n",
       "      <th>age</th>\n",
       "      <th>job</th>\n",
       "      <th>marital</th>\n",
       "      <th>education</th>\n",
       "      <th>default</th>\n",
       "      <th>balance</th>\n",
       "      <th>housing</th>\n",
       "      <th>loan</th>\n",
       "      <th>contact</th>\n",
       "      <th>day</th>\n",
       "      <th>month</th>\n",
       "      <th>duration</th>\n",
       "      <th>campaign</th>\n",
       "      <th>pdays</th>\n",
       "      <th>previous</th>\n",
       "      <th>poutcome</th>\n",
       "      <th>y</th>\n",
       "    </tr>\n",
       "  </thead>\n",
       "  <tbody>\n",
       "    <tr>\n",
       "      <th>0</th>\n",
       "      <td>58</td>\n",
       "      <td>management</td>\n",
       "      <td>married</td>\n",
       "      <td>tertiary</td>\n",
       "      <td>no</td>\n",
       "      <td>2143</td>\n",
       "      <td>yes</td>\n",
       "      <td>no</td>\n",
       "      <td>NaN</td>\n",
       "      <td>5</td>\n",
       "      <td>may</td>\n",
       "      <td>261</td>\n",
       "      <td>1</td>\n",
       "      <td>-1</td>\n",
       "      <td>0</td>\n",
       "      <td>NaN</td>\n",
       "      <td>no</td>\n",
       "    </tr>\n",
       "    <tr>\n",
       "      <th>1</th>\n",
       "      <td>36</td>\n",
       "      <td>technician</td>\n",
       "      <td>single</td>\n",
       "      <td>secondary</td>\n",
       "      <td>no</td>\n",
       "      <td>265</td>\n",
       "      <td>yes</td>\n",
       "      <td>yes</td>\n",
       "      <td>NaN</td>\n",
       "      <td>5</td>\n",
       "      <td>may</td>\n",
       "      <td>348</td>\n",
       "      <td>1</td>\n",
       "      <td>-1</td>\n",
       "      <td>0</td>\n",
       "      <td>NaN</td>\n",
       "      <td>no</td>\n",
       "    </tr>\n",
       "    <tr>\n",
       "      <th>2</th>\n",
       "      <td>25</td>\n",
       "      <td>blue-collar</td>\n",
       "      <td>married</td>\n",
       "      <td>secondary</td>\n",
       "      <td>no</td>\n",
       "      <td>-7</td>\n",
       "      <td>yes</td>\n",
       "      <td>no</td>\n",
       "      <td>NaN</td>\n",
       "      <td>5</td>\n",
       "      <td>may</td>\n",
       "      <td>365</td>\n",
       "      <td>1</td>\n",
       "      <td>-1</td>\n",
       "      <td>0</td>\n",
       "      <td>NaN</td>\n",
       "      <td>no</td>\n",
       "    </tr>\n",
       "    <tr>\n",
       "      <th>3</th>\n",
       "      <td>53</td>\n",
       "      <td>technician</td>\n",
       "      <td>married</td>\n",
       "      <td>secondary</td>\n",
       "      <td>no</td>\n",
       "      <td>-3</td>\n",
       "      <td>no</td>\n",
       "      <td>no</td>\n",
       "      <td>NaN</td>\n",
       "      <td>5</td>\n",
       "      <td>may</td>\n",
       "      <td>1666</td>\n",
       "      <td>1</td>\n",
       "      <td>-1</td>\n",
       "      <td>0</td>\n",
       "      <td>NaN</td>\n",
       "      <td>no</td>\n",
       "    </tr>\n",
       "    <tr>\n",
       "      <th>4</th>\n",
       "      <td>24</td>\n",
       "      <td>technician</td>\n",
       "      <td>single</td>\n",
       "      <td>secondary</td>\n",
       "      <td>no</td>\n",
       "      <td>-103</td>\n",
       "      <td>yes</td>\n",
       "      <td>yes</td>\n",
       "      <td>NaN</td>\n",
       "      <td>5</td>\n",
       "      <td>may</td>\n",
       "      <td>145</td>\n",
       "      <td>1</td>\n",
       "      <td>-1</td>\n",
       "      <td>0</td>\n",
       "      <td>NaN</td>\n",
       "      <td>no</td>\n",
       "    </tr>\n",
       "  </tbody>\n",
       "</table>\n",
       "</div>"
      ],
      "text/plain": [
       "   age          job  marital  education default  balance housing loan contact  \\\n",
       "0   58   management  married   tertiary      no     2143     yes   no     NaN   \n",
       "1   36   technician   single  secondary      no      265     yes  yes     NaN   \n",
       "2   25  blue-collar  married  secondary      no       -7     yes   no     NaN   \n",
       "3   53   technician  married  secondary      no       -3      no   no     NaN   \n",
       "4   24   technician   single  secondary      no     -103     yes  yes     NaN   \n",
       "\n",
       "   day month  duration  campaign  pdays  previous poutcome   y  \n",
       "0    5   may       261         1     -1         0      NaN  no  \n",
       "1    5   may       348         1     -1         0      NaN  no  \n",
       "2    5   may       365         1     -1         0      NaN  no  \n",
       "3    5   may      1666         1     -1         0      NaN  no  \n",
       "4    5   may       145         1     -1         0      NaN  no  "
      ]
     },
     "execution_count": 6,
     "metadata": {},
     "output_type": "execute_result"
    }
   ],
   "source": [
    "import pandas as pd\n",
    "\n",
    "\n",
    "# csv 파일 불러오기\n",
    "dataframe = pd.read_csv(\"data/bank.csv\")\n",
    "\n",
    "# 처음부터 5행까지 표시\n",
    "dataframe.head()"
   ]
  },
  {
   "cell_type": "markdown",
   "metadata": {},
   "source": [
    "- 분석 목표: `계약 가능성이 높은 고객을 찾아내는 것`\n",
    "- 데이터 구성: `한 행에 고객 한 명`의 데이터가 들어있다.<br>\n",
    "고객마다 다음 항목(속성)이 있다.\n",
    "    - age: 나이\n",
    "    - job: 직업\n",
    "    - marital: 결혼 이력\n",
    "    - education: 학력\n",
    "    - default: 채무 불이행 유무\n",
    "    - balance: 연간 평균 잔고\n",
    "    - housing: 주택 대출 유무\n",
    "    - loan: 개인 대출 유무\n",
    "    - contact: 연락 수단\n",
    "    - day: 마지막으로 접촉한 날짜\n",
    "    - month: 마지막으로 접촉한 달\n",
    "    - duration: 접촉한 시간\n",
    "    - campaign: 이번 캠페인으로 접촉한 횟수\n",
    "    - pdays: 지난 번 캠페인에서 마지막으로 접촉한 후의 경과 시간\n",
    "    - previous: 이번 캠페인 이전에 접촉한 횟수\n",
    "    - poutcome: 지난 번 캠페인의 성공 유무\n",
    "    - y: 예금 신청 유무"
   ]
  },
  {
   "cell_type": "code",
   "execution_count": 7,
   "metadata": {},
   "outputs": [
    {
     "data": {
      "text/html": [
       "<div>\n",
       "<style scoped>\n",
       "    .dataframe tbody tr th:only-of-type {\n",
       "        vertical-align: middle;\n",
       "    }\n",
       "\n",
       "    .dataframe tbody tr th {\n",
       "        vertical-align: top;\n",
       "    }\n",
       "\n",
       "    .dataframe thead th {\n",
       "        text-align: right;\n",
       "    }\n",
       "</style>\n",
       "<table border=\"1\" class=\"dataframe\">\n",
       "  <thead>\n",
       "    <tr style=\"text-align: right;\">\n",
       "      <th></th>\n",
       "      <th>age</th>\n",
       "      <th>job</th>\n",
       "      <th>marital</th>\n",
       "      <th>education</th>\n",
       "      <th>default</th>\n",
       "      <th>balance</th>\n",
       "      <th>housing</th>\n",
       "      <th>loan</th>\n",
       "      <th>contact</th>\n",
       "      <th>day</th>\n",
       "      <th>month</th>\n",
       "      <th>duration</th>\n",
       "      <th>campaign</th>\n",
       "      <th>pdays</th>\n",
       "      <th>previous</th>\n",
       "      <th>poutcome</th>\n",
       "      <th>y</th>\n",
       "    </tr>\n",
       "  </thead>\n",
       "  <tbody>\n",
       "    <tr>\n",
       "      <th>7224</th>\n",
       "      <td>63</td>\n",
       "      <td>retired</td>\n",
       "      <td>married</td>\n",
       "      <td>primary</td>\n",
       "      <td>no</td>\n",
       "      <td>3738</td>\n",
       "      <td>no</td>\n",
       "      <td>no</td>\n",
       "      <td>telephone</td>\n",
       "      <td>9</td>\n",
       "      <td>nov</td>\n",
       "      <td>301</td>\n",
       "      <td>1</td>\n",
       "      <td>456</td>\n",
       "      <td>4</td>\n",
       "      <td>failure</td>\n",
       "      <td>no</td>\n",
       "    </tr>\n",
       "    <tr>\n",
       "      <th>7225</th>\n",
       "      <td>29</td>\n",
       "      <td>admin.</td>\n",
       "      <td>single</td>\n",
       "      <td>secondary</td>\n",
       "      <td>no</td>\n",
       "      <td>464</td>\n",
       "      <td>no</td>\n",
       "      <td>no</td>\n",
       "      <td>cellular</td>\n",
       "      <td>9</td>\n",
       "      <td>nov</td>\n",
       "      <td>208</td>\n",
       "      <td>2</td>\n",
       "      <td>91</td>\n",
       "      <td>3</td>\n",
       "      <td>success</td>\n",
       "      <td>yes</td>\n",
       "    </tr>\n",
       "    <tr>\n",
       "      <th>7226</th>\n",
       "      <td>33</td>\n",
       "      <td>admin.</td>\n",
       "      <td>single</td>\n",
       "      <td>secondary</td>\n",
       "      <td>no</td>\n",
       "      <td>690</td>\n",
       "      <td>no</td>\n",
       "      <td>no</td>\n",
       "      <td>cellular</td>\n",
       "      <td>10</td>\n",
       "      <td>nov</td>\n",
       "      <td>223</td>\n",
       "      <td>3</td>\n",
       "      <td>555</td>\n",
       "      <td>16</td>\n",
       "      <td>failure</td>\n",
       "      <td>no</td>\n",
       "    </tr>\n",
       "    <tr>\n",
       "      <th>7227</th>\n",
       "      <td>36</td>\n",
       "      <td>admin.</td>\n",
       "      <td>single</td>\n",
       "      <td>tertiary</td>\n",
       "      <td>no</td>\n",
       "      <td>980</td>\n",
       "      <td>no</td>\n",
       "      <td>no</td>\n",
       "      <td>cellular</td>\n",
       "      <td>11</td>\n",
       "      <td>nov</td>\n",
       "      <td>118</td>\n",
       "      <td>4</td>\n",
       "      <td>104</td>\n",
       "      <td>7</td>\n",
       "      <td>failure</td>\n",
       "      <td>no</td>\n",
       "    </tr>\n",
       "    <tr>\n",
       "      <th>7228</th>\n",
       "      <td>38</td>\n",
       "      <td>entrepreneur</td>\n",
       "      <td>single</td>\n",
       "      <td>secondary</td>\n",
       "      <td>no</td>\n",
       "      <td>2543</td>\n",
       "      <td>no</td>\n",
       "      <td>no</td>\n",
       "      <td>cellular</td>\n",
       "      <td>11</td>\n",
       "      <td>nov</td>\n",
       "      <td>357</td>\n",
       "      <td>3</td>\n",
       "      <td>93</td>\n",
       "      <td>5</td>\n",
       "      <td>success</td>\n",
       "      <td>yes</td>\n",
       "    </tr>\n",
       "    <tr>\n",
       "      <th>7229</th>\n",
       "      <td>25</td>\n",
       "      <td>services</td>\n",
       "      <td>single</td>\n",
       "      <td>secondary</td>\n",
       "      <td>no</td>\n",
       "      <td>199</td>\n",
       "      <td>no</td>\n",
       "      <td>no</td>\n",
       "      <td>cellular</td>\n",
       "      <td>16</td>\n",
       "      <td>nov</td>\n",
       "      <td>173</td>\n",
       "      <td>1</td>\n",
       "      <td>92</td>\n",
       "      <td>5</td>\n",
       "      <td>failure</td>\n",
       "      <td>no</td>\n",
       "    </tr>\n",
       "    <tr>\n",
       "      <th>7230</th>\n",
       "      <td>28</td>\n",
       "      <td>self-employed</td>\n",
       "      <td>single</td>\n",
       "      <td>tertiary</td>\n",
       "      <td>no</td>\n",
       "      <td>159</td>\n",
       "      <td>no</td>\n",
       "      <td>no</td>\n",
       "      <td>cellular</td>\n",
       "      <td>16</td>\n",
       "      <td>nov</td>\n",
       "      <td>449</td>\n",
       "      <td>2</td>\n",
       "      <td>33</td>\n",
       "      <td>4</td>\n",
       "      <td>success</td>\n",
       "      <td>yes</td>\n",
       "    </tr>\n",
       "    <tr>\n",
       "      <th>7231</th>\n",
       "      <td>59</td>\n",
       "      <td>management</td>\n",
       "      <td>married</td>\n",
       "      <td>tertiary</td>\n",
       "      <td>no</td>\n",
       "      <td>138</td>\n",
       "      <td>yes</td>\n",
       "      <td>yes</td>\n",
       "      <td>cellular</td>\n",
       "      <td>16</td>\n",
       "      <td>nov</td>\n",
       "      <td>162</td>\n",
       "      <td>2</td>\n",
       "      <td>187</td>\n",
       "      <td>5</td>\n",
       "      <td>failure</td>\n",
       "      <td>no</td>\n",
       "    </tr>\n",
       "    <tr>\n",
       "      <th>7232</th>\n",
       "      <td>37</td>\n",
       "      <td>management</td>\n",
       "      <td>married</td>\n",
       "      <td>tertiary</td>\n",
       "      <td>no</td>\n",
       "      <td>1428</td>\n",
       "      <td>no</td>\n",
       "      <td>no</td>\n",
       "      <td>cellular</td>\n",
       "      <td>16</td>\n",
       "      <td>nov</td>\n",
       "      <td>333</td>\n",
       "      <td>2</td>\n",
       "      <td>-1</td>\n",
       "      <td>0</td>\n",
       "      <td>NaN</td>\n",
       "      <td>no</td>\n",
       "    </tr>\n",
       "    <tr>\n",
       "      <th>7233</th>\n",
       "      <td>25</td>\n",
       "      <td>technician</td>\n",
       "      <td>single</td>\n",
       "      <td>secondary</td>\n",
       "      <td>no</td>\n",
       "      <td>505</td>\n",
       "      <td>no</td>\n",
       "      <td>yes</td>\n",
       "      <td>cellular</td>\n",
       "      <td>17</td>\n",
       "      <td>nov</td>\n",
       "      <td>386</td>\n",
       "      <td>2</td>\n",
       "      <td>-1</td>\n",
       "      <td>0</td>\n",
       "      <td>NaN</td>\n",
       "      <td>yes</td>\n",
       "    </tr>\n",
       "  </tbody>\n",
       "</table>\n",
       "</div>"
      ],
      "text/plain": [
       "      age            job  marital  education default  balance housing loan  \\\n",
       "7224   63        retired  married    primary      no     3738      no   no   \n",
       "7225   29         admin.   single  secondary      no      464      no   no   \n",
       "7226   33         admin.   single  secondary      no      690      no   no   \n",
       "7227   36         admin.   single   tertiary      no      980      no   no   \n",
       "7228   38   entrepreneur   single  secondary      no     2543      no   no   \n",
       "7229   25       services   single  secondary      no      199      no   no   \n",
       "7230   28  self-employed   single   tertiary      no      159      no   no   \n",
       "7231   59     management  married   tertiary      no      138     yes  yes   \n",
       "7232   37     management  married   tertiary      no     1428      no   no   \n",
       "7233   25     technician   single  secondary      no      505      no  yes   \n",
       "\n",
       "        contact  day month  duration  campaign  pdays  previous poutcome    y  \n",
       "7224  telephone    9   nov       301         1    456         4  failure   no  \n",
       "7225   cellular    9   nov       208         2     91         3  success  yes  \n",
       "7226   cellular   10   nov       223         3    555        16  failure   no  \n",
       "7227   cellular   11   nov       118         4    104         7  failure   no  \n",
       "7228   cellular   11   nov       357         3     93         5  success  yes  \n",
       "7229   cellular   16   nov       173         1     92         5  failure   no  \n",
       "7230   cellular   16   nov       449         2     33         4  success  yes  \n",
       "7231   cellular   16   nov       162         2    187         5  failure   no  \n",
       "7232   cellular   16   nov       333         2     -1         0      NaN   no  \n",
       "7233   cellular   17   nov       386         2     -1         0      NaN  yes  "
      ]
     },
     "execution_count": 7,
     "metadata": {},
     "output_type": "execute_result"
    }
   ],
   "source": [
    "# 끝에서부터 10행 위까지 표시\n",
    "dataframe.tail(10)"
   ]
  },
  {
   "cell_type": "code",
   "execution_count": 14,
   "metadata": {},
   "outputs": [
    {
     "name": "stdout",
     "output_type": "stream",
     "text": [
      "(7234, 17)\n"
     ]
    }
   ],
   "source": [
    "# 데이터의 행렬 수 파악\n",
    "print(dataframe.shape)"
   ]
  },
  {
   "cell_type": "code",
   "execution_count": 13,
   "metadata": {},
   "outputs": [
    {
     "name": "stdout",
     "output_type": "stream",
     "text": [
      "<class 'pandas.core.frame.DataFrame'>\n",
      "RangeIndex: 7234 entries, 0 to 7233\n",
      "Data columns (total 17 columns):\n",
      " #   Column     Non-Null Count  Dtype \n",
      "---  ------     --------------  ----- \n",
      " 0   age        7234 non-null   int64 \n",
      " 1   job        7190 non-null   object\n",
      " 2   marital    7234 non-null   object\n",
      " 3   education  6961 non-null   object\n",
      " 4   default    7234 non-null   object\n",
      " 5   balance    7234 non-null   int64 \n",
      " 6   housing    7234 non-null   object\n",
      " 7   loan       7234 non-null   object\n",
      " 8   contact    5196 non-null   object\n",
      " 9   day        7234 non-null   int64 \n",
      " 10  month      7234 non-null   object\n",
      " 11  duration   7234 non-null   int64 \n",
      " 12  campaign   7234 non-null   int64 \n",
      " 13  pdays      7234 non-null   int64 \n",
      " 14  previous   7234 non-null   int64 \n",
      " 15  poutcome   1334 non-null   object\n",
      " 16  y          7234 non-null   object\n",
      "dtypes: int64(7), object(10)\n",
      "memory usage: 960.9+ KB\n"
     ]
    }
   ],
   "source": [
    "# 파일 전체의 정보 표시\n",
    "dataframe.info()"
   ]
  },
  {
   "cell_type": "markdown",
   "metadata": {},
   "source": [
    "#### 결손값의 확인"
   ]
  },
  {
   "cell_type": "code",
   "execution_count": 18,
   "metadata": {},
   "outputs": [
    {
     "name": "stdout",
     "output_type": "stream",
     "text": [
      "age          False\n",
      "job           True\n",
      "marital      False\n",
      "education     True\n",
      "default      False\n",
      "balance      False\n",
      "housing      False\n",
      "loan         False\n",
      "contact       True\n",
      "day          False\n",
      "month        False\n",
      "duration     False\n",
      "campaign     False\n",
      "pdays        False\n",
      "previous     False\n",
      "poutcome      True\n",
      "y            False\n",
      "dtype: bool\n",
      "0        True\n",
      "1        True\n",
      "2        True\n",
      "3        True\n",
      "4        True\n",
      "        ...  \n",
      "7229    False\n",
      "7230    False\n",
      "7231    False\n",
      "7232     True\n",
      "7233     True\n",
      "Length: 7234, dtype: bool\n"
     ]
    }
   ],
   "source": [
    "# 데이터열에 결손값이 포함되어 있는가?\n",
    "print(dataframe.isnull().any(axis=0))\n",
    "\n",
    "# 데이터행에 결손값이 포함되어 있는가?\n",
    "print(dataframe.isnull().any(axis=1))"
   ]
  },
  {
   "cell_type": "code",
   "execution_count": 20,
   "metadata": {},
   "outputs": [
    {
     "name": "stdout",
     "output_type": "stream",
     "text": [
      "age             0\n",
      "job            44\n",
      "marital         0\n",
      "education     273\n",
      "default         0\n",
      "balance         0\n",
      "housing         0\n",
      "loan            0\n",
      "contact      2038\n",
      "day             0\n",
      "month           0\n",
      "duration        0\n",
      "campaign        0\n",
      "pdays           0\n",
      "previous        0\n",
      "poutcome     5900\n",
      "y               0\n",
      "dtype: int64\n",
      "0       2\n",
      "1       2\n",
      "2       2\n",
      "3       2\n",
      "4       2\n",
      "       ..\n",
      "7229    0\n",
      "7230    0\n",
      "7231    0\n",
      "7232    1\n",
      "7233    1\n",
      "Length: 7234, dtype: int64\n"
     ]
    }
   ],
   "source": [
    "# 데이터 열별 결손값의 갯수\n",
    "print(dataframe.isnull().sum(axis=0))\n",
    "\n",
    "# 데이터 행별 결손값의 갯수\n",
    "print(dataframe.isnull().sum(axis=1))"
   ]
  },
  {
   "cell_type": "code",
   "execution_count": 27,
   "metadata": {},
   "outputs": [
    {
     "data": {
      "text/plain": [
       "1837    4\n",
       "1629    4\n",
       "139     4\n",
       "1814    4\n",
       "1670    4\n",
       "       ..\n",
       "5919    0\n",
       "5918    0\n",
       "5917    0\n",
       "5916    0\n",
       "5379    0\n",
       "Length: 7234, dtype: int64"
      ]
     },
     "execution_count": 27,
     "metadata": {},
     "output_type": "execute_result"
    }
   ],
   "source": [
    "# 데이터 행별 결손값의 갯수를 내림차순으로 정렬\n",
    "dataframe.isnull().sum(axis=1).sort_values(ascending=False)"
   ]
  },
  {
   "cell_type": "markdown",
   "metadata": {},
   "source": [
    "#### 통계량의 계산"
   ]
  },
  {
   "cell_type": "code",
   "execution_count": 28,
   "metadata": {},
   "outputs": [
    {
     "data": {
      "text/html": [
       "<div>\n",
       "<style scoped>\n",
       "    .dataframe tbody tr th:only-of-type {\n",
       "        vertical-align: middle;\n",
       "    }\n",
       "\n",
       "    .dataframe tbody tr th {\n",
       "        vertical-align: top;\n",
       "    }\n",
       "\n",
       "    .dataframe thead th {\n",
       "        text-align: right;\n",
       "    }\n",
       "</style>\n",
       "<table border=\"1\" class=\"dataframe\">\n",
       "  <thead>\n",
       "    <tr style=\"text-align: right;\">\n",
       "      <th></th>\n",
       "      <th>age</th>\n",
       "      <th>balance</th>\n",
       "      <th>day</th>\n",
       "      <th>duration</th>\n",
       "      <th>campaign</th>\n",
       "      <th>pdays</th>\n",
       "      <th>previous</th>\n",
       "    </tr>\n",
       "  </thead>\n",
       "  <tbody>\n",
       "    <tr>\n",
       "      <th>count</th>\n",
       "      <td>7234.000000</td>\n",
       "      <td>7234.000000</td>\n",
       "      <td>7234.000000</td>\n",
       "      <td>7234.000000</td>\n",
       "      <td>7234.000000</td>\n",
       "      <td>7234.000000</td>\n",
       "      <td>7234.000000</td>\n",
       "    </tr>\n",
       "    <tr>\n",
       "      <th>mean</th>\n",
       "      <td>40.834808</td>\n",
       "      <td>1374.912911</td>\n",
       "      <td>15.623860</td>\n",
       "      <td>262.875311</td>\n",
       "      <td>2.713989</td>\n",
       "      <td>40.277716</td>\n",
       "      <td>0.565939</td>\n",
       "    </tr>\n",
       "    <tr>\n",
       "      <th>std</th>\n",
       "      <td>10.706442</td>\n",
       "      <td>3033.882933</td>\n",
       "      <td>8.307826</td>\n",
       "      <td>268.921065</td>\n",
       "      <td>2.983740</td>\n",
       "      <td>99.188008</td>\n",
       "      <td>1.825100</td>\n",
       "    </tr>\n",
       "    <tr>\n",
       "      <th>min</th>\n",
       "      <td>2.000000</td>\n",
       "      <td>-3313.000000</td>\n",
       "      <td>1.000000</td>\n",
       "      <td>0.000000</td>\n",
       "      <td>1.000000</td>\n",
       "      <td>-1.000000</td>\n",
       "      <td>0.000000</td>\n",
       "    </tr>\n",
       "    <tr>\n",
       "      <th>25%</th>\n",
       "      <td>33.000000</td>\n",
       "      <td>74.000000</td>\n",
       "      <td>8.000000</td>\n",
       "      <td>103.000000</td>\n",
       "      <td>1.000000</td>\n",
       "      <td>-1.000000</td>\n",
       "      <td>0.000000</td>\n",
       "    </tr>\n",
       "    <tr>\n",
       "      <th>50%</th>\n",
       "      <td>39.000000</td>\n",
       "      <td>453.500000</td>\n",
       "      <td>16.000000</td>\n",
       "      <td>183.000000</td>\n",
       "      <td>2.000000</td>\n",
       "      <td>-1.000000</td>\n",
       "      <td>0.000000</td>\n",
       "    </tr>\n",
       "    <tr>\n",
       "      <th>75%</th>\n",
       "      <td>48.000000</td>\n",
       "      <td>1470.750000</td>\n",
       "      <td>21.000000</td>\n",
       "      <td>321.750000</td>\n",
       "      <td>3.000000</td>\n",
       "      <td>-1.000000</td>\n",
       "      <td>0.000000</td>\n",
       "    </tr>\n",
       "    <tr>\n",
       "      <th>max</th>\n",
       "      <td>157.000000</td>\n",
       "      <td>81204.000000</td>\n",
       "      <td>31.000000</td>\n",
       "      <td>3366.000000</td>\n",
       "      <td>44.000000</td>\n",
       "      <td>850.000000</td>\n",
       "      <td>40.000000</td>\n",
       "    </tr>\n",
       "  </tbody>\n",
       "</table>\n",
       "</div>"
      ],
      "text/plain": [
       "               age       balance          day     duration     campaign  \\\n",
       "count  7234.000000   7234.000000  7234.000000  7234.000000  7234.000000   \n",
       "mean     40.834808   1374.912911    15.623860   262.875311     2.713989   \n",
       "std      10.706442   3033.882933     8.307826   268.921065     2.983740   \n",
       "min       2.000000  -3313.000000     1.000000     0.000000     1.000000   \n",
       "25%      33.000000     74.000000     8.000000   103.000000     1.000000   \n",
       "50%      39.000000    453.500000    16.000000   183.000000     2.000000   \n",
       "75%      48.000000   1470.750000    21.000000   321.750000     3.000000   \n",
       "max     157.000000  81204.000000    31.000000  3366.000000    44.000000   \n",
       "\n",
       "             pdays     previous  \n",
       "count  7234.000000  7234.000000  \n",
       "mean     40.277716     0.565939  \n",
       "std      99.188008     1.825100  \n",
       "min      -1.000000     0.000000  \n",
       "25%      -1.000000     0.000000  \n",
       "50%      -1.000000     0.000000  \n",
       "75%      -1.000000     0.000000  \n",
       "max     850.000000    40.000000  "
      ]
     },
     "execution_count": 28,
     "metadata": {},
     "output_type": "execute_result"
    }
   ],
   "source": [
    "# 수치 데이터의 요약 정보\n",
    "dataframe.describe()"
   ]
  },
  {
   "cell_type": "code",
   "execution_count": 29,
   "metadata": {},
   "outputs": [
    {
     "data": {
      "text/html": [
       "<div>\n",
       "<style scoped>\n",
       "    .dataframe tbody tr th:only-of-type {\n",
       "        vertical-align: middle;\n",
       "    }\n",
       "\n",
       "    .dataframe tbody tr th {\n",
       "        vertical-align: top;\n",
       "    }\n",
       "\n",
       "    .dataframe thead th {\n",
       "        text-align: right;\n",
       "    }\n",
       "</style>\n",
       "<table border=\"1\" class=\"dataframe\">\n",
       "  <thead>\n",
       "    <tr style=\"text-align: right;\">\n",
       "      <th></th>\n",
       "      <th>job</th>\n",
       "      <th>marital</th>\n",
       "      <th>education</th>\n",
       "      <th>default</th>\n",
       "      <th>housing</th>\n",
       "      <th>loan</th>\n",
       "      <th>contact</th>\n",
       "      <th>month</th>\n",
       "      <th>poutcome</th>\n",
       "      <th>y</th>\n",
       "    </tr>\n",
       "  </thead>\n",
       "  <tbody>\n",
       "    <tr>\n",
       "      <th>count</th>\n",
       "      <td>7190</td>\n",
       "      <td>7234</td>\n",
       "      <td>6961</td>\n",
       "      <td>7234</td>\n",
       "      <td>7234</td>\n",
       "      <td>7234</td>\n",
       "      <td>5196</td>\n",
       "      <td>7234</td>\n",
       "      <td>1334</td>\n",
       "      <td>7234</td>\n",
       "    </tr>\n",
       "    <tr>\n",
       "      <th>unique</th>\n",
       "      <td>11</td>\n",
       "      <td>3</td>\n",
       "      <td>3</td>\n",
       "      <td>2</td>\n",
       "      <td>2</td>\n",
       "      <td>2</td>\n",
       "      <td>2</td>\n",
       "      <td>12</td>\n",
       "      <td>3</td>\n",
       "      <td>2</td>\n",
       "    </tr>\n",
       "    <tr>\n",
       "      <th>top</th>\n",
       "      <td>management</td>\n",
       "      <td>married</td>\n",
       "      <td>secondary</td>\n",
       "      <td>no</td>\n",
       "      <td>yes</td>\n",
       "      <td>no</td>\n",
       "      <td>cellular</td>\n",
       "      <td>may</td>\n",
       "      <td>failure</td>\n",
       "      <td>no</td>\n",
       "    </tr>\n",
       "    <tr>\n",
       "      <th>freq</th>\n",
       "      <td>1560</td>\n",
       "      <td>4343</td>\n",
       "      <td>3745</td>\n",
       "      <td>7101</td>\n",
       "      <td>4058</td>\n",
       "      <td>6066</td>\n",
       "      <td>4697</td>\n",
       "      <td>2202</td>\n",
       "      <td>772</td>\n",
       "      <td>6381</td>\n",
       "    </tr>\n",
       "  </tbody>\n",
       "</table>\n",
       "</div>"
      ],
      "text/plain": [
       "               job  marital  education default housing  loan   contact month  \\\n",
       "count         7190     7234       6961    7234    7234  7234      5196  7234   \n",
       "unique          11        3          3       2       2     2         2    12   \n",
       "top     management  married  secondary      no     yes    no  cellular   may   \n",
       "freq          1560     4343       3745    7101    4058  6066      4697  2202   \n",
       "\n",
       "       poutcome     y  \n",
       "count      1334  7234  \n",
       "unique        3     2  \n",
       "top     failure    no  \n",
       "freq        772  6381  "
      ]
     },
     "execution_count": 29,
     "metadata": {},
     "output_type": "execute_result"
    }
   ],
   "source": [
    "# 자료형이 문자열인 각종 통계량 계산\n",
    "# unique: 원소 갯수, top: 최빈값, freq: 최빈값의 빈도수\n",
    "dataframe.describe(include=[object])"
   ]
  },
  {
   "cell_type": "markdown",
   "metadata": {},
   "source": [
    "#### 데이터의 시각화"
   ]
  },
  {
   "cell_type": "code",
   "execution_count": 30,
   "metadata": {},
   "outputs": [
    {
     "data": {
      "image/png": "[encoded data removed]",
      "text/plain": [
       "<Figure size 432x288 with 1 Axes>"
      ]
     },
     "metadata": {
      "needs_background": "light"
     },
     "output_type": "display_data"
    }
   ],
   "source": [
    "import matplotlib.pyplot as plt\n",
    "\n",
    "\n",
    "# age 열의 히스토그램 작성\n",
    "plt.hist(dataframe[\"age\"])\n",
    "plt.xlabel(\"age\")\n",
    "plt.ylabel(\"frequency\")\n",
    "plt.show()"
   ]
  },
  {
   "cell_type": "code",
   "execution_count": 31,
   "metadata": {},
   "outputs": [
    {
     "data": {
      "image/png": "[encoded data removed]",
      "text/plain": [
       "<Figure size 432x288 with 1 Axes>"
      ]
     },
     "metadata": {
      "needs_background": "light"
     },
     "output_type": "display_data"
    }
   ],
   "source": [
    "# balance 열의 히스토그램 작성\n",
    "plt.hist(dataframe[\"balance\"])\n",
    "plt.xlabel(\"balance\")\n",
    "plt.ylabel(\"frequency\")\n",
    "plt.show()"
   ]
  },
  {
   "cell_type": "code",
   "execution_count": 32,
   "metadata": {},
   "outputs": [
    {
     "data": {
      "image/png": "[encoded data removed]",
      "text/plain": [
       "<Figure size 432x288 with 1 Axes>"
      ]
     },
     "metadata": {
      "needs_background": "light"
     },
     "output_type": "display_data"
    }
   ],
   "source": [
    "# day 열의 히스토그램 작성\n",
    "plt.hist(dataframe[\"day\"])\n",
    "plt.xlabel(\"day\")\n",
    "plt.ylabel(\"frequency\")\n",
    "plt.show()"
   ]
  },
  {
   "cell_type": "code",
   "execution_count": 33,
   "metadata": {},
   "outputs": [
    {
     "data": {
      "image/png": "[encoded data removed]",
      "text/plain": [
       "<Figure size 432x288 with 1 Axes>"
      ]
     },
     "metadata": {
      "needs_background": "light"
     },
     "output_type": "display_data"
    }
   ],
   "source": [
    "# duration 열의 히스토그램 작성\n",
    "plt.hist(dataframe[\"duration\"])\n",
    "plt.xlabel(\"duration\")\n",
    "plt.ylabel(\"frequency\")\n",
    "plt.show()"
   ]
  },
  {
   "cell_type": "code",
   "execution_count": 34,
   "metadata": {},
   "outputs": [
    {
     "data": {
      "image/png": "[encoded data removed]",
      "text/plain": [
       "<Figure size 432x288 with 1 Axes>"
      ]
     },
     "metadata": {
      "needs_background": "light"
     },
     "output_type": "display_data"
    }
   ],
   "source": [
    "# campaign 열의 히스토그램 작성\n",
    "plt.hist(dataframe[\"campaign\"])\n",
    "plt.xlabel(\"campaign\")\n",
    "plt.ylabel(\"frequency\")\n",
    "plt.show()"
   ]
  },
  {
   "cell_type": "code",
   "execution_count": 35,
   "metadata": {},
   "outputs": [
    {
     "data": {
      "image/png": "[encoded data removed]",
      "text/plain": [
       "<Figure size 432x288 with 1 Axes>"
      ]
     },
     "metadata": {
      "needs_background": "light"
     },
     "output_type": "display_data"
    }
   ],
   "source": [
    "# pdays 열의 히스토그램 작성\n",
    "plt.hist(dataframe[\"pdays\"])\n",
    "plt.xlabel(\"pdays\")\n",
    "plt.ylabel(\"frequency\")\n",
    "plt.show()"
   ]
  },
  {
   "cell_type": "code",
   "execution_count": 36,
   "metadata": {},
   "outputs": [
    {
     "data": {
      "image/png": "[encoded data removed]",
      "text/plain": [
       "<Figure size 432x288 with 1 Axes>"
      ]
     },
     "metadata": {
      "needs_background": "light"
     },
     "output_type": "display_data"
    }
   ],
   "source": [
    "# previous 열의 히스토그램 작성\n",
    "plt.hist(dataframe[\"previous\"])\n",
    "plt.xlabel(\"previous\")\n",
    "plt.ylabel(\"frequency\")\n",
    "plt.show()"
   ]
  },
  {
   "cell_type": "code",
   "execution_count": 42,
   "metadata": {},
   "outputs": [
    {
     "data": {
      "image/png": "[encoded data removed]",
      "text/plain": [
       "<Figure size 432x288 with 1 Axes>"
      ]
     },
     "metadata": {
      "needs_background": "light"
     },
     "output_type": "display_data"
    },
    {
     "data": {
      "text/html": [
       "<div>\n",
       "<style scoped>\n",
       "    .dataframe tbody tr th:only-of-type {\n",
       "        vertical-align: middle;\n",
       "    }\n",
       "\n",
       "    .dataframe tbody tr th {\n",
       "        vertical-align: top;\n",
       "    }\n",
       "\n",
       "    .dataframe thead th {\n",
       "        text-align: right;\n",
       "    }\n",
       "</style>\n",
       "<table border=\"1\" class=\"dataframe\">\n",
       "  <thead>\n",
       "    <tr style=\"text-align: right;\">\n",
       "      <th></th>\n",
       "      <th>age</th>\n",
       "      <th>balance</th>\n",
       "    </tr>\n",
       "  </thead>\n",
       "  <tbody>\n",
       "    <tr>\n",
       "      <th>age</th>\n",
       "      <td>1.000000</td>\n",
       "      <td>0.112364</td>\n",
       "    </tr>\n",
       "    <tr>\n",
       "      <th>balance</th>\n",
       "      <td>0.112364</td>\n",
       "      <td>1.000000</td>\n",
       "    </tr>\n",
       "  </tbody>\n",
       "</table>\n",
       "</div>"
      ],
      "text/plain": [
       "              age   balance\n",
       "age      1.000000  0.112364\n",
       "balance  0.112364  1.000000"
      ]
     },
     "execution_count": 42,
     "metadata": {},
     "output_type": "execute_result"
    }
   ],
   "source": [
    "# age & balance 열의 산포도 작성\n",
    "plt.scatter(dataframe[\"age\"], dataframe[\"balance\"])\n",
    "plt.xlabel(\"age\")\n",
    "plt.ylabel(\"balance\")\n",
    "plt.show()\n",
    "\n",
    "# age & balance 열의 상호 관련성을 알아보기 위해 피어슨 상관계수를 사용\n",
    "dataframe[[\"age\", \"balance\"]].corr()"
   ]
  },
  {
   "cell_type": "markdown",
   "metadata": {},
   "source": [
    "- 데이터를 분석할 때 상관에 관련된 `공선성(Collinearity)`에 대해서도 고려하지 않으면 안 된다.<br>\n",
    "공선성은 변수(항목) 상호 간에 강하게 상관해 발생하는 문제이다.\n",
    "- 공선성이 일으키는 문제에는 모델 작성에 관련된 계산량의 증대, 모델의 성능 저하, 모델의 불안정화 등이 있다.<br>\n",
    "이와 같은 문제를 방지하려면 데이터 준비 단계에서 상관이 강한 변수를 제외하면 된다.<br>\n",
    "또, 상관관계가 있어도 인과관계(원인과 결과)가 꼭 있다고 하기는 어렵다. 다음 세 개의 현상들은<br>\n",
    "상관관계나 인과관계 중 어느 쪽일까?\n",
    "    - 1. 키가 크면 체중이 증가한다.\n",
    "    - 2. 파출소의 수가 많은 지역일수록 번죄 건수가 많다.\n",
    "    - 3. 기온이 상승하면 맥주 판매가 늘어난다.\n",
    "        - `1번`과 `3번`은 사상(사실과 현상) 간에 `상관관계`가 있으며, `2번`은 사상 간에 `인과관계`가 있다.<br>\n",
    "        `2번`은 범죄 건수가 많은 지역이므로 치안 유지를 위해서 파출소가 많이 설치된, 다시 말해서<br>\n",
    "        `파출소 수 -> 범죄건수`가 성립된다.\n",
    "        - 이처럼 두 개의 사상 간에 `상관관계가 있어도 인과관계는 없는`<br>\n",
    "        또는 `그 반대인(상관관계는 없지만 인과관계가 있는)` 경우도 있다."
   ]
  },
  {
   "cell_type": "code",
   "execution_count": 47,
   "metadata": {},
   "outputs": [
    {
     "data": {
      "image/png": "[encoded data removed]",
      "text/plain": [
       "<Figure size 432x288 with 16 Axes>"
      ]
     },
     "metadata": {
      "needs_background": "light"
     },
     "output_type": "display_data"
    }
   ],
   "source": [
    "# 산포도 행렬\n",
    "pd.plotting.scatter_matrix(dataframe[[\"age\", \"balance\", \"day\", \"duration\"]])\n",
    "plt.tight_layout()\n",
    "plt.show()"
   ]
  },
  {
   "cell_type": "code",
   "execution_count": null,
   "metadata": {},
   "outputs": [],
   "source": []
  }
 ],
 "metadata": {
  "interpreter": {
   "hash": "38cc0cca68228d4d18227abe74ed813685db17db46984279e4aabdddebf5f1ba"
  },
  "kernelspec": {
   "display_name": "Python 3.7.9 ('base')",
   "language": "python",
   "name": "python3"
  },
  "language_info": {
   "codemirror_mode": {
    "name": "ipython",
    "version": 3
   },
   "file_extension": ".py",
   "mimetype": "text/x-python",
   "name": "python",
   "nbconvert_exporter": "python",
   "pygments_lexer": "ipython3",
   "version": "3.7.9"
  },
  "orig_nbformat": 4
 },
 "nbformat": 4,
 "nbformat_minor": 2
}
