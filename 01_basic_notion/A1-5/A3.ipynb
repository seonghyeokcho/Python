{
 "cells": [
  {
   "cell_type": "markdown",
   "metadata": {},
   "source": [
    "### 7-3．딥러닝을 위한 데이터의 준비\n",
    "#### 모든 기사의 띄어쓰기"
   ]
  },
  {
   "cell_type": "code",
   "execution_count": 1,
   "metadata": {
    "collapsed": true,
    "jupyter": {
     "outputs_hidden": true
    }
   },
   "outputs": [
    {
     "name": "stdout",
     "output_type": "stream",
     "text": [
      "Collecting konlpy\n",
      "  Using cached konlpy-0.5.2-py2.py3-none-any.whl (19.4 MB)\n",
      "Collecting JPype1>=0.7.0\n",
      "  Using cached JPype1-0.7.2-cp37-cp37m-win_amd64.whl (1.3 MB)\n",
      "Collecting beautifulsoup4==4.6.0\n",
      "  Using cached beautifulsoup4-4.6.0-py3-none-any.whl (86 kB)\n",
      "Collecting tweepy>=3.7.0\n",
      "  Using cached tweepy-3.8.0-py2.py3-none-any.whl (28 kB)\n",
      "Requirement already satisfied: numpy>=1.6 in e:\\anaconda3\\envs\\pbook_appx\\lib\\site-packages (from konlpy) (1.18.1)\n",
      "Collecting lxml>=4.1.0\n",
      "  Using cached lxml-4.5.0-cp37-cp37m-win_amd64.whl (3.7 MB)\n",
      "Requirement already satisfied: colorama in e:\\anaconda3\\envs\\pbook_appx\\lib\\site-packages (from konlpy) (0.4.3)\n",
      "Requirement already satisfied: requests>=2.11.1 in e:\\anaconda3\\envs\\pbook_appx\\lib\\site-packages (from tweepy>=3.7.0->konlpy) (2.23.0)\n",
      "Requirement already satisfied: six>=1.10.0 in e:\\anaconda3\\envs\\pbook_appx\\lib\\site-packages (from tweepy>=3.7.0->konlpy) (1.14.0)\n",
      "Requirement already satisfied: requests-oauthlib>=0.7.0 in e:\\anaconda3\\envs\\pbook_appx\\lib\\site-packages (from tweepy>=3.7.0->konlpy) (1.3.0)\n",
      "Requirement already satisfied: PySocks>=1.5.7 in e:\\anaconda3\\envs\\pbook_appx\\lib\\site-packages (from tweepy>=3.7.0->konlpy) (1.7.1)\n",
      "Requirement already satisfied: urllib3!=1.25.0,!=1.25.1,<1.26,>=1.21.1 in e:\\anaconda3\\envs\\pbook_appx\\lib\\site-packages (from requests>=2.11.1->tweepy>=3.7.0->konlpy) (1.25.8)\n",
      "Requirement already satisfied: idna<3,>=2.5 in e:\\anaconda3\\envs\\pbook_appx\\lib\\site-packages (from requests>=2.11.1->tweepy>=3.7.0->konlpy) (2.9)\n",
      "Requirement already satisfied: certifi>=2017.4.17 in e:\\anaconda3\\envs\\pbook_appx\\lib\\site-packages (from requests>=2.11.1->tweepy>=3.7.0->konlpy) (2020.4.5.1)\n",
      "Requirement already satisfied: chardet<4,>=3.0.2 in e:\\anaconda3\\envs\\pbook_appx\\lib\\site-packages (from requests>=2.11.1->tweepy>=3.7.0->konlpy) (3.0.4)\n",
      "Requirement already satisfied: oauthlib>=3.0.0 in e:\\anaconda3\\envs\\pbook_appx\\lib\\site-packages (from requests-oauthlib>=0.7.0->tweepy>=3.7.0->konlpy) (3.1.0)\n",
      "Installing collected packages: JPype1, beautifulsoup4, tweepy, lxml, konlpy\n",
      "Successfully installed JPype1-0.7.2 beautifulsoup4-4.6.0 konlpy-0.5.2 lxml-4.5.0 tweepy-3.8.0\n"
     ]
    }
   ],
   "source": [
    "# konlpy의 인스톨\n",
    "!pip install konlpy"
   ]
  },
  {
   "cell_type": "code",
   "execution_count": 2,
   "metadata": {
    "collapsed": true,
    "jupyter": {
     "outputs_hidden": true
    }
   },
   "outputs": [
    {
     "name": "stdout",
     "output_type": "stream",
     "text": [
      "Processing c:\\users\\fshare\\appdata\\local\\pip\\cache\\wheels\\45\\6c\\46\\a1865e7ba706b3817f5d1b2ff7ce8996aabdd0d03d47ba0266\\nltk-3.5-py3-none-any.whl\n",
      "Requirement already satisfied: joblib in e:\\anaconda3\\envs\\pbook_appx\\lib\\site-packages (from nltk) (0.14.1)\n",
      "Requirement already satisfied: click in e:\\anaconda3\\envs\\pbook_appx\\lib\\site-packages (from nltk) (7.1.1)\n",
      "Collecting tqdm\n",
      "  Using cached tqdm-4.45.0-py2.py3-none-any.whl (60 kB)\n",
      "Collecting regex\n",
      "  Using cached regex-2020.4.4-cp37-cp37m-win_amd64.whl (271 kB)\n",
      "Installing collected packages: tqdm, regex, nltk\n",
      "Successfully installed nltk-3.5 regex-2020.4.4 tqdm-4.45.0\n"
     ]
    }
   ],
   "source": [
    "# nltk의 인스톨\n",
    "!pip install nltk"
   ]
  },
  {
   "cell_type": "code",
   "execution_count": 3,
   "metadata": {},
   "outputs": [],
   "source": [
    "import os\n",
    "import re\n",
    "from konlpy.tag import Okt\n",
    "okt = Okt()\n",
    "\n",
    "# 기사 폴더를 지정\n",
    "dirs = ['it-life-hack', 'movie-enter']\n",
    "\n",
    "# 단어와 레이블을 보존하는 리스트를 생성\n",
    "wakati = []     # 설명변수\n",
    "label = []       # 목적변수\n",
    "\n",
    "# 띄어쓰기용 함수를 생성\n",
    "def spacing_okt(sentence):\n",
    "    tagged = okt.pos(sentence)\n",
    "    corrected = \"\"\n",
    "    for token in tagged:\n",
    "        if token[1] in ('Josa', 'PreEomi', 'Eomi', 'Suffix', 'Punctuation'):\n",
    "            corrected += \" \" + \"'\" + token[0] + \"'\" + \",\"\n",
    "        else:\n",
    "            corrected += \" \" + \"'\" + token[0] + \"'\" + \",\"\n",
    "    if corrected[0] == \" \":\n",
    "        corrected = corrected[1:]\n",
    "    return corrected\n",
    "\n",
    "# 각 폴더의 파일을 하나씩 읽어와서 표시\n",
    "for i, d in enumerate(dirs):\n",
    "    # 파일명을 취득\n",
    "    files = os.listdir('./data/' + d)\n",
    "\n",
    "    # 파일을 오픈해서 내용을 취득\n",
    "    for file in files:\n",
    "        f = open('./data/' + d + '/' + file, 'r', encoding='utf-8')\n",
    "        text = f.read()\n",
    "\n",
    "        # 정규표현에서 불필요한 문자열을 제거해서 표시\n",
    "        reg_text = re.sub(r'[0-9a-zA-Z]+', '', text)\n",
    "        reg_text = re.sub(r'[:;/+\\.-]', '', reg_text)\n",
    "        reg_text = re.sub(r'[\\s\\n]', '', reg_text)\n",
    "\n",
    "        # 띄어쓰기를 하고 단어를 리스트에 보존\n",
    "        wakati.append(spacing_okt(reg_text))\n",
    "\n",
    "        # 기사별로 레이블을 붙여서 보존\n",
    "        label.append(i)\n",
    "        # 파일을 클로즈\n",
    "        f.close()"
   ]
  },
  {
   "cell_type": "code",
   "execution_count": 4,
   "metadata": {},
   "outputs": [
    {
     "name": "stdout",
     "output_type": "stream",
     "text": [
      "400\n",
      "'구형', '에서', '금단', '의', '파워', '업', '!', '최신', '나', '소프트웨어', '를', '한꺼', '번', '에', '체크', '[', '플래시백', ']', '텔레비전', '이나', '와', '연', '계', '할수있는나', '프로세서', ',', '전환', '등', '재미있는가', '속속', '등장', '했다', '구형', '의', '금단', '이라고도', '할수있는', '파워', '업', '방법', '에서의', '최신', ',', '화제', '의', ',', '새로운', '보안', '소프트웨어', '까지', '한꺼', '번', '에', '소개', '합니다', '■', '인텔', '을', '에', '장착', '!', '구형', '은', '얼마나', '빨라질', '것', '인가', '?(', '위', ')', '인텔', '이', '최신', ''', '시리즈', ''', '를', '출시', '했다', '현재', '중', '에서도', '최고', '의', '성능', '을', '자랑', '하', '는', '이', '제품', '을', '구형', '의', '고속', '화', '를', '도모', '한다는', '점', '에서', '리뷰', '해보았다', '조금', '색다른', '리뷰', '가', '되지만', ',', '어느', '정도', '의', '효과', '가', '있는지', ',', '기', '대가', '크다', '■', '는사', '용하는가', '(', '인텔', '등', ')', '에서', '으로', '전환', '가능한', '하이브리드', ',', '하지', '만이', '와', '동시', '에도', '바뀐다', '■', '초기', '비용', ',', '업데이트', '비용', '모두', '무료', '!', '저스트', '시스템', ',', '도마뱀', '로그', '가', '인상', '적', '인', '보안', '소프트웨어', '현재', '는', '많은', '사용자', '들이에', '보안', '프로그램', '을', '도입', '하고', '있지만', ',', '그', '대부분', '은', '매년', ',', '엔', '정도', '드는', '업데이트', '비용', '과', '그', '절차', '에', '대해', '불만', '을', '가지', '고', '있다', '유료', '소프트웨어', '를', '이용', '하', '는', '사용자', '의약', '%', '는', '무료', '보안', '소프트웨어', '를', '알고있음에도', '불구', '하고', ',', '성능', '면', '에서', '뒤', '떨어지는게', '아니냐는', '불안', '에서', '도입', '을', '미루고있는', '상황', '이다', '■', '텔레비전', '의', '새로운', '활용', '방법', '을', '제안', '!', '의봄', '신상', '는와를', '연', '계', '는', '년월', '일', ',', '개인용', '데스크톱', '인', ''\"', '시리즈', '종류', '모델', '을', '월일', '부터', '판매', '한', '다', '고', '발표', '했다신', '상품', '은', '더', '강력해진', '녹화', '기능', '외', '에도', '시청', '·', '녹화', '기능', '에', '더해서', '업계', '최초', '로', '인기', '를', '연', '계', '한', ''', '트', '위트', '플러스', ''', '를', '추가', '하', '는', '등', '컴퓨터', '만의', '기능', '을', '탑재', '스마트폰', '홈', '네트워크', '대응', '도', '강화하고', ',\"', '안심', '간단', '쾌적', '\"', '한', '디지털', '엔터테인먼트', '를', '제안', '하', '여', ',', '주요', '모델', '에', '대해', '다음', '과', '같이', '기능', '강화', '를', '실시', '했다', '■', '마치', '축제', '같은', '출하', '식', '!', '렛츠', '노트', '출하', '시', '작', '월일', '에', '발매', '되는', ''', '의', '출하', '식', '이월', '일', '국내', '제', '조', '거점', '인', '고베', '공장', '에서', '열렸다', '동', '사의', '컴퓨터', '로는', '처음', '실시', '하', '는', '출하', '식', '으로', ',', '이', '제품', '에', '얼마나', '힘', '이', '들어가있는지', '알수있다', '[', '엡손', '정품', '잉크', ']', '잉크', '카트리지', '색', '세트', '엡손', '출판사', '입', '소문', '을', '본다',\n",
      "0\n"
     ]
    }
   ],
   "source": [
    "# 리스트의 사이즈 확인\n",
    "print(len(wakati))\n",
    "# 첫번째 기사의 단어를 확인\n",
    "print(wakati[0])\n",
    "# 첫번째 기사의 레이블을 확인\n",
    "print(label[0])"
   ]
  },
  {
   "cell_type": "markdown",
   "metadata": {},
   "source": [
    "#### 단어의 수치화"
   ]
  },
  {
   "cell_type": "code",
   "execution_count": 5,
   "metadata": {},
   "outputs": [
    {
     "name": "stdout",
     "output_type": "stream",
     "text": [
      "1481\n",
      "   0\n",
      "0  '\n",
      "1  ,\n",
      "2   \n",
      "3  이\n",
      "4  다\n"
     ]
    }
   ],
   "source": [
    "import itertools\n",
    "from collections import Counter\n",
    "import pandas as pd\n",
    "\n",
    "# 단어의 출현회수를 카운트\n",
    "word_freq = Counter(itertools.chain(* wakati))\n",
    "\n",
    "# 단어를 출현회수 내림차순으로 소트\n",
    "dic = []\n",
    "for word_uniq in word_freq.most_common():\n",
    "    dic.append(word_uniq[0])\n",
    "\n",
    "# 단어수를 확인\n",
    "print(len(dic))\n",
    "print(pd.DataFrame(dic).head())"
   ]
  },
  {
   "cell_type": "code",
   "execution_count": 6,
   "metadata": {},
   "outputs": [
    {
     "name": "stdout",
     "output_type": "stream",
     "text": [
      "1481\n"
     ]
    }
   ],
   "source": [
    "# 단어에 ID를 부여하고 사전을 작성\n",
    "dic_inv = {}\n",
    "for i, word_uniq in enumerate(dic, start=1):\n",
    "    dic_inv.update({word_uniq: i})\n",
    "    \n",
    "# 사전의 길이를 확인\n",
    "print(len(dic_inv))"
   ]
  },
  {
   "cell_type": "code",
   "execution_count": 7,
   "metadata": {},
   "outputs": [
    {
     "name": "stdout",
     "output_type": "stream",
     "text": [
      "400\n",
      "[1, 93, 242, 1, 2, 3, 1, 7, 20, 1, 2, 3, 1, 157, 162, 1, 2, 3, 1, 8, 1, 2, 3, 1, 132, 262, 1, 2, 3, 1, 200, 1, 2, 3, 1, 65, 1, 2, 3, 1, 133, 73, 1, 2, 3, 1, 41, 1, 2, 3, 1, 70, 88, 39, 421, 26, 1, 2, 3, 1, 25, 1, 2, 3, 1, 19, 750, 1, 2, 3, 1, 176, 1, 2, 3, 1, 7, 1, 2, 3, 1, 182, 96, 1, 2, 3, 1, 173, 1, 2, 3, 1, 226, 156, 27, 338, 1, 2, 3, 1, 186, 1, 2, 3, 1, 406, 120, 80, 47, 1, 2, 3, 1, 4, 41, 1, 2, 3, 1, 66, 1, 2, 3, 1, 76, 1, 2, 3, 1, 97, 1, 2, 3, 1, 77, 36, 18, 6, 41, 1, 2, 3, 1, 88, 15, 79, 20, 1, 2, 3, 1, 2, 1, 2, 3, 1, 47, 292, 1, 2, 3, 1, 92, 1, 2, 3, 1, 118, 61, 18, 6, 14, 1, 2, 3, 1, 179, 179, 1, 2, 3, 1, 92, 52, 1, 2, 3, 1, 108, 5, 1, 2, 3, 1, 93, 242, 1, 2, 3, 1, 8, 1, 2, 3, 1, 157, 162, 1, 2, 3, 1, 4, 28, 11, 22, 1, 2, 3, 1, 77, 36, 18, 6, 1, 2, 3, 1, 132, 262, 1, 2, 3, 1, 200, 1, 2, 3, 1, 181, 244, 1, 2, 3, 1, 7, 20, 8, 1, 2, 3, 1, 133, 73, 1, 2, 3, 1, 2, 1, 2, 3, 1, 38, 44, 1, 2, 3, 1, 8, 1, 2, 3, 1, 2, 1, 2, 3, 1, 224, 15, 109, 1, 2, 3, 1, 50, 165, 1, 2, 3, 1, 70, 88, 39, 421, 26, 1, 2, 3, 1, 100, 13, 1, 2, 3, 1, 19, 750, 1, 2, 3, 1, 176, 1, 2, 3, 1, 7, 1, 2, 3, 1, 70, 69, 1, 2, 3, 1, 191, 32, 5, 1, 2, 3, 1, 112, 1, 2, 3, 1, 29, 406, 1, 2, 3, 1, 10, 1, 2, 3, 1, 7, 1, 2, 3, 1, 52, 335, 1, 2, 3, 1, 65, 1, 2, 3, 1, 93, 242, 1, 2, 3, 1, 23, 1, 2, 3, 1, 264, 46, 41, 1, 2, 3, 1, 634, 28, 271, 1, 2, 3, 1, 35, 1, 2, 3, 1, 29, 14, 1, 2, 3, 1, 151, 60, 1, 2, 3, 1, 113, 1, 2, 3, 1, 59, 1, 2, 3, 1, 29, 406, 1, 2, 3, 1, 4, 1, 2, 3, 1, 133, 73, 1, 2, 3, 1, 1, 1, 2, 3, 1, 27, 21, 146, 1, 2, 3, 1, 1, 1, 2, 3, 1, 25, 1, 2, 3, 1, 154, 27, 1, 2, 3, 1, 108, 5, 1, 2, 3, 1, 188, 118, 1, 2, 3, 1, 147, 1, 2, 3, 1, 7, 20, 22, 1, 2, 3, 1, 133, 11, 1, 2, 3, 1, 8, 1, 2, 3, 1, 95, 160, 1, 2, 3, 1, 10, 1, 2, 3, 1, 34, 257, 1, 2, 3, 1, 9, 1, 2, 3, 1, 6, 1, 2, 3, 1, 4, 1, 2, 3, 1, 44, 89, 1, 2, 3, 1, 10, 1, 2, 3, 1, 93, 242, 1, 2, 3, 1, 8, 1, 2, 3, 1, 11, 179, 1, 2, 3, 1, 38, 1, 2, 3, 1, 25, 1, 2, 3, 1, 22, 55, 1, 2, 3, 1, 19, 5, 6, 1, 2, 3, 1, 219, 1, 2, 3, 1, 7, 20, 1, 2, 3, 1, 21, 249, 1, 2, 3, 1, 42, 50, 277, 5, 1, 2, 3, 1, 153, 157, 1, 2, 3, 1, 309, 5, 201, 1, 2, 3, 1, 21, 249, 1, 2, 3, 1, 14, 1, 2, 3, 1, 62, 13, 43, 1, 2, 3, 1, 2, 1, 2, 3, 1, 26, 274, 1, 2, 3, 1, 49, 22, 1, 2, 3, 1, 8, 1, 2, 3, 1, 477, 74, 1, 2, 3, 1, 14, 1, 2, 3, 1, 18, 6, 13, 1, 2, 3, 1, 2, 1, 2, 3, 1, 16, 1, 2, 3, 1, 37, 14, 1, 2, 3, 1, 96, 5, 1, 2, 3, 1, 112, 1, 2, 3, 1, 6, 17, 1, 2, 3, 1, 56, 9, 6, 14, 1, 2, 3, 1, 60, 1, 2, 3, 1, 29, 406, 1, 2, 3, 1, 92, 1, 2, 3, 1, 59, 1, 2, 3, 1, 7, 20, 1, 2, 3, 1, 48, 15, 1, 2, 3, 1, 47, 292, 1, 2, 3, 1, 14, 160, 19, 1, 2, 3, 1, 9, 4, 209, 21, 57, 1, 2, 3, 1, 2, 1, 2, 3, 1, 9, 13, 1, 2, 3, 1, 43, 4, 1, 2, 3, 1, 66, 1, 2, 3, 1, 98, 27, 1, 2, 3, 1, 7, 22, 1, 2, 3, 1, 138, 846, 5, 1, 2, 3, 1, 112, 1, 2, 3, 1, 234, 16, 1, 2, 3, 1, 80, 56, 1, 2, 3, 1, 2, 1, 2, 3, 1, 200, 129, 4, 39, 1, 2, 3, 1, 80, 56, 1, 2, 3, 1, 55, 171, 1, 2, 3, 1, 90, 238, 1, 2, 3, 1, 65, 1, 2, 3, 1, 192, 24, 39, 1, 2, 3, 1, 27, 24, 442, 1, 2, 3, 1, 2, 1, 2, 3, 1, 22, 46, 566, 1, 2, 3, 1, 15, 30, 1, 2, 3, 1, 14, 1, 2, 3, 1, 29, 45, 1, 2, 3, 1, 91, 1, 2, 3, 1, 29, 1, 2, 3, 1, 50, 165, 1, 2, 3, 1, 70, 88, 39, 421, 26, 1, 2, 3, 1, 188, 118, 1, 2, 3, 1, 6, 1, 2, 3, 1, 251, 23, 1, 2, 3, 1, 17, 56, 34, 1, 2, 3, 1, 85, 4, 7, 1, 2, 3, 1, 50, 165, 1, 2, 3, 1, 88, 15, 30, 281, 1, 2, 3, 1, 10, 1, 2, 3, 1, 22, 110, 1, 2, 3, 1, 9, 11, 1, 2, 3, 1, 18, 13, 43, 1, 2, 3, 1, 2, 1, 2, 3, 1, 30, 1, 2, 3, 1, 37, 63, 150, 1, 2, 3, 1, 23, 1, 2, 3, 1, 128, 149, 1, 2, 3, 1, 2, 1, 2, 3, 1, 222, 1, 2, 3, 1, 49, 22, 1, 2, 3, 1, 57, 6, 1, 2, 3, 1, 200, 129, 4, 39, 1, 2, 3, 1, 80, 56, 1, 2, 3, 1, 74, 1, 2, 3, 1, 30, 1, 2, 3, 1, 261, 215, 1, 2, 3, 1, 7, 1, 2, 3, 1, 37, 42, 1, 2, 3, 1, 286, 43, 1, 2, 3, 1, 10, 1, 2, 3, 1, 14, 13, 1, 2, 3, 1, 11, 1, 2, 3, 1, 18, 5, 1, 2, 3, 1, 101, 238, 1, 2, 3, 1, 70, 88, 39, 421, 26, 1, 2, 3, 1, 25, 1, 2, 3, 1, 4, 56, 1, 2, 3, 1, 9, 1, 2, 3, 1, 6, 1, 2, 3, 1, 17, 56, 34, 1, 2, 3, 1, 8, 229, 1, 2, 3, 1, 518, 1, 2, 3, 1, 6, 1, 2, 3, 1, 90, 238, 1, 2, 3, 1, 50, 165, 1, 2, 3, 1, 70, 88, 39, 421, 26, 1, 2, 3, 1, 25, 1, 2, 3, 1, 230, 11, 18, 114, 7, 22, 1, 2, 3, 1, 286, 93, 1, 2, 3, 1, 9, 11, 1, 2, 3, 1, 2, 1, 2, 3, 1, 95, 160, 1, 2, 3, 1, 54, 1, 2, 3, 1, 7, 20, 1, 2, 3, 1, 485, 1, 2, 3, 1, 507, 26, 13, 6, 51, 1, 2, 3, 1, 33, 32, 710, 6, 1, 2, 3, 1, 286, 165, 1, 2, 3, 1, 7, 20, 1, 2, 3, 1, 22, 110, 1, 2, 3, 1, 10, 1, 2, 3, 1, 61, 202, 11, 18, 6, 1, 2, 3, 1, 45, 395, 1, 2, 3, 1, 4, 5, 1, 2, 3, 1, 112, 1, 2, 3, 1, 406, 120, 80, 47, 1, 2, 3, 1, 8, 1, 2, 3, 1, 224, 15, 109, 1, 2, 3, 1, 241, 56, 1, 2, 3, 1, 181, 244, 1, 2, 3, 1, 10, 1, 2, 3, 1, 44, 165, 1, 2, 3, 1, 65, 1, 2, 3, 1, 8, 769, 1, 2, 3, 1, 73, 45, 1, 2, 3, 1, 6, 66, 25, 1, 2, 3, 1, 76, 1, 2, 3, 1, 97, 1, 2, 3, 1, 6, 1, 2, 3, 1, 149, 123, 1, 2, 3, 1, 31, 1, 2, 3, 1, 2, 1, 2, 3, 1, 69, 29, 56, 1, 2, 3, 1, 129, 24, 96, 727, 1, 2, 3, 1, 29, 1, 2, 3, 1, 1, 12, 1, 2, 3, 1, 27, 21, 146, 1, 2, 3, 1, 255, 368, 1, 2, 3, 1, 55, 351, 1, 2, 3, 1, 10, 1, 2, 3, 1, 123, 31, 1, 2, 3, 1, 63, 58, 1, 2, 3, 1, 216, 128, 1, 2, 3, 1, 19, 1, 2, 3, 1, 5, 1, 2, 3, 1, 11, 1, 2, 3, 1, 119, 169, 1, 2, 3, 1, 108, 5, 73, 1, 2, 3, 1, 45, 89, 1, 2, 3, 1, 23, 1, 2, 3, 1, 142, 1, 2, 3, 1, 243, 167, 42, 83, 1, 2, 3, 1, 681, 38, 1, 2, 3, 1, 16, 160, 1, 2, 3, 1, 189, 1, 2, 3, 1, 7, 22, 1, 2, 3, 1, 27, 350, 1, 2, 3, 1, 64, 1, 2, 3, 1, 681, 38, 1, 2, 3, 1, 16, 160, 1, 2, 3, 1, 7, 1, 2, 3, 1, 142, 42, 20, 1, 2, 3, 1, 200, 97, 1, 2, 3, 1, 133, 234, 1, 2, 3, 1, 15, 1, 2, 3, 1, 29, 16, 1, 2, 3, 1, 25, 1, 2, 3, 1, 76, 1, 2, 3, 1, 97, 1, 2, 3, 1, 19, 1, 2, 3, 1, 1, 1, 2, 3, 1, 39, 1, 2, 3, 1, 113, 39, 1, 2, 3, 1, 226, 105, 24, 1, 2, 3, 1, 1, 1, 2, 3, 1, 25, 1, 2, 3, 1, 235, 14, 1, 2, 3, 1, 9, 1, 2, 3, 1, 6, 1, 2, 3, 1, 92, 1, 2, 3, 1, 439, 497, 58, 1, 2, 3, 1, 43, 8, 1, 2, 3, 1, 16, 160, 1, 2, 3, 1, 10, 1, 2, 3, 1, 293, 118, 1, 2, 3, 1, 24, 46, 39, 245, 1, 2, 3, 1, 498, 1, 2, 3, 1, 217, 39, 262, 96, 1, 2, 3, 1, 37, 206, 1, 2, 3, 1, 22, 1, 2, 3, 1, 243, 38, 9, 11, 1, 2, 3, 1, 2, 12, 1, 2, 3, 1, 165, 223, 1, 2, 3, 1, 140, 162, 1, 2, 3, 1, 499, 91, 1, 2, 3, 1, 12, 1, 2, 3, 1, 19, 1, 2, 3, 1, 102, 13, 239, 1, 2, 3, 1, 222, 58, 208, 29, 362, 39, 1, 2, 3, 1, 25, 1, 2, 3, 1, 44, 165, 1, 2, 3, 1, 9, 1, 2, 3, 1, 71, 1, 2, 3, 1, 2, 1, 2, 3, 1, 68, 75, 1, 2, 3, 1, 55, 351, 1, 2, 3, 1, 7, 1, 2, 3, 1, 37, 42, 1, 2, 3, 1, 5, 114, 1, 2, 3, 1, 74, 1, 2, 3, 1, 187, 4, 1, 2, 3, 1, 16, 160, 1, 2, 3, 1, 243, 38, 1, 2, 3, 1, 25, 1, 2, 3, 1, 127, 27, 1, 2, 3, 1, 108, 5, 1, 2, 3, 1, 112, 1, 2, 3, 1, 46, 104, 1, 2, 3, 1, 417, 44, 1, 2, 3, 1, 187, 23, 1, 2, 3, 1, 154, 9, 1, 2, 3, 1, 172, 1, 2, 3, 1, 65, 1, 2, 3, 1, 531, 232, 1, 2, 3, 1, 170, 39, 1, 2, 3, 1, 154, 9, 1, 2, 3, 1, 27, 1, 2, 3, 1, 53, 1, 2, 3, 1, 123, 31, 1, 2, 3, 1, 7, 1, 2, 3, 1, 119, 128, 1, 2, 3, 1, 62, 6, 1, 2, 3, 1, 1, 1, 2, 3, 1, 8, 1, 2, 3, 1, 154, 9, 1, 2, 3, 1, 172, 1, 2, 3, 1, 4, 123, 1, 2, 3, 1, 31, 1, 2, 3, 1, 134, 163, 1, 2, 3, 1, 44, 1, 2, 3, 1, 153, 1, 2, 3, 1, 106, 219, 1, 2, 3, 1, 29, 1, 2, 3, 1, 11, 287, 1, 2, 3, 1, 72, 52, 1, 2, 3, 1, 7, 20, 1, 2, 3, 1, 265, 466, 5, 1, 2, 3, 1, 98, 1, 2, 3, 1, 17, 8, 1, 2, 3, 1, 439, 497, 58, 1, 2, 3, 1, 15, 6, 1, 2, 3, 1, 212, 114, 1, 2, 3, 1, 127, 27, 1, 2, 3, 1, 9, 1, 2, 3, 1, 6, 1, 2, 3, 1, 154, 9, 1, 2, 3, 1, 172, 1, 2, 3, 1, 48, 15, 1, 2, 3, 1, 2, 1, 2, 3, 1, 4, 1, 2, 3, 1, 44, 89, 1, 2, 3, 1, 7, 1, 2, 3, 1, 264, 46, 41, 1, 2, 3, 1, 437, 1, 2, 3, 1, 4, 1, 2, 3, 1, 85, 26, 14, 18, 6, 13, 1, 2, 3, 1, 230, 36, 18, 5, 1, 2, 3, 1, 173, 1, 2, 3, 1, 847, 210, 1, 2, 3, 1, 49, 89, 1, 2, 3, 1, 532, 96, 1, 2, 3, 1, 186, 1, 2, 3, 1, 532, 96, 1, 2, 3, 1, 82, 39, 21, 13, 1, 2, 3, 1, 309, 1, 2, 3, 1, 79, 39, 1, 2, 3, 1, 847, 210, 1, 2, 3, 1, 154, 216, 17, 1, 2, 3, 1, 110, 1, 2, 3, 1, 70, 86, 1, 2, 3, 1, 10, 1, 2, 3, 1, 78, 5, 1, 2]\n"
     ]
    }
   ],
   "source": [
    "# 연습문제 4\n",
    "# 단어를 ID로 변환\n",
    "wakati_id = [ [ dic_inv[word] for word in waka ] for waka in wakati ]\n",
    "\n",
    "# 리스트의 사이즈 확인\n",
    "print(len(wakati_id))\n",
    "# 첫번째 기사의 단어 ID를 확인\n",
    "print(wakati_id[0])"
   ]
  },
  {
   "cell_type": "code",
   "execution_count": 8,
   "metadata": {},
   "outputs": [
    {
     "name": "stdout",
     "output_type": "stream",
     "text": [
      "Requirement already satisfied: keras in e:\\anaconda3\\envs\\pbook_appx\\lib\\site-packages (2.3.1)\n",
      "Requirement already satisfied: numpy>=1.9.1 in e:\\anaconda3\\envs\\pbook_appx\\lib\\site-packages (from keras) (1.18.1)\n",
      "Requirement already satisfied: scipy>=0.14 in e:\\anaconda3\\envs\\pbook_appx\\lib\\site-packages (from keras) (1.4.1)\n",
      "Requirement already satisfied: six>=1.9.0 in e:\\anaconda3\\envs\\pbook_appx\\lib\\site-packages (from keras) (1.14.0)\n",
      "Requirement already satisfied: pyyaml in e:\\anaconda3\\envs\\pbook_appx\\lib\\site-packages (from keras) (5.3.1)\n",
      "Requirement already satisfied: h5py in e:\\anaconda3\\envs\\pbook_appx\\lib\\site-packages (from keras) (2.8.0)\n",
      "Requirement already satisfied: keras_applications>=1.0.6 in e:\\anaconda3\\envs\\pbook_appx\\lib\\site-packages (from keras) (1.0.8)\n",
      "Requirement already satisfied: keras_preprocessing>=1.0.5 in e:\\anaconda3\\envs\\pbook_appx\\lib\\site-packages (from keras) (1.1.0)\n"
     ]
    }
   ],
   "source": [
    "# Keras를 인스톨\n",
    "!pip install keras"
   ]
  },
  {
   "cell_type": "code",
   "execution_count": 9,
   "metadata": {
    "collapsed": true,
    "jupyter": {
     "outputs_hidden": true
    }
   },
   "outputs": [
    {
     "name": "stderr",
     "output_type": "stream",
     "text": [
      "Using TensorFlow backend.\n"
     ]
    },
    {
     "name": "stdout",
     "output_type": "stream",
     "text": [
      "[  1  93 242 ...   0   0   0]\n"
     ]
    }
   ],
   "source": [
    "from keras.preprocessing import sequence\n",
    "import numpy as np\n",
    "\n",
    "# 가변사이즈를 고정사이즈로 변환\n",
    "wakati_id = sequence.pad_sequences(np.array(wakati_id), maxlen=399, padding=\"post\", truncating=\"post\")\n",
    "\n",
    "# label을Numpy배열로 변환\n",
    "label = np.array(label)\n",
    "\n",
    "# 첫번째 기사의 단어 ID를 확인\n",
    "print(wakati_id[0])"
   ]
  },
  {
   "cell_type": "markdown",
   "metadata": {},
   "source": [
    "##### === 모델의 작성은 여기서부터 ======================"
   ]
  },
  {
   "cell_type": "code",
   "execution_count": 10,
   "metadata": {},
   "outputs": [
    {
     "name": "stdout",
     "output_type": "stream",
     "text": [
      "_________________________________________________________________\n",
      "Layer (type)                 Output Shape              Param #   \n",
      "=================================================================\n",
      "embedding_1 (Embedding)      (None, 399, 512)          5908480   \n",
      "_________________________________________________________________\n",
      "lstm_1 (LSTM)                (None, 128)               328192    \n",
      "_________________________________________________________________\n",
      "dense_1 (Dense)              (None, 1)                 129       \n",
      "=================================================================\n",
      "Total params: 6,236,801\n",
      "Trainable params: 6,236,801\n",
      "Non-trainable params: 0\n",
      "_________________________________________________________________\n"
     ]
    }
   ],
   "source": [
    "from keras.models import Sequential\n",
    "from keras.layers import Embedding, LSTM, Dense\n",
    "\n",
    "model = Sequential()\n",
    "# \n",
    "model.add(Embedding(11540, 512, input_length=399))\n",
    "# \n",
    "model.add(LSTM(128, dropout=0.5))\n",
    "# \n",
    "model.add(Dense(1, activation='sigmoid'))\n",
    "\n",
    "# \n",
    "model.summary()"
   ]
  },
  {
   "cell_type": "code",
   "execution_count": 11,
   "metadata": {
    "collapsed": true,
    "jupyter": {
     "outputs_hidden": true
    }
   },
   "outputs": [
    {
     "name": "stdout",
     "output_type": "stream",
     "text": [
      "Train on 320 samples, validate on 80 samples\n",
      "Epoch 1/30\n",
      "320/320 [==============================] - 15s 47ms/step - loss: 0.6753 - acc: 0.6219 - val_loss: 1.0010 - val_acc: 0.0250\n",
      "Epoch 2/30\n",
      "320/320 [==============================] - 11s 35ms/step - loss: 0.6490 - acc: 0.6937 - val_loss: 0.8826 - val_acc: 0.1125\n",
      "Epoch 3/30\n",
      "320/320 [==============================] - 11s 35ms/step - loss: 0.6452 - acc: 0.7031 - val_loss: 1.0383 - val_acc: 0.1250\n",
      "Epoch 4/30\n",
      "320/320 [==============================] - 11s 35ms/step - loss: 0.6364 - acc: 0.7031 - val_loss: 1.0383 - val_acc: 0.1750\n",
      "Epoch 5/30\n",
      "320/320 [==============================] - 11s 35ms/step - loss: 0.6266 - acc: 0.7031 - val_loss: 1.0311 - val_acc: 0.1750\n",
      "Epoch 6/30\n",
      "320/320 [==============================] - 12s 39ms/step - loss: 0.6143 - acc: 0.7031 - val_loss: 1.0000 - val_acc: 0.2000\n",
      "Epoch 7/30\n",
      "320/320 [==============================] - 15s 48ms/step - loss: 0.5996 - acc: 0.7000 - val_loss: 0.8992 - val_acc: 0.2250\n",
      "Epoch 8/30\n",
      "320/320 [==============================] - 14s 44ms/step - loss: 0.5864 - acc: 0.7094 - val_loss: 0.9596 - val_acc: 0.2250\n",
      "Epoch 9/30\n",
      "320/320 [==============================] - 15s 47ms/step - loss: 0.5774 - acc: 0.7094 - val_loss: 0.9047 - val_acc: 0.2375\n",
      "Epoch 10/30\n",
      "320/320 [==============================] - 13s 41ms/step - loss: 0.6198 - acc: 0.7031 - val_loss: 0.9849 - val_acc: 0.2625\n",
      "Epoch 11/30\n",
      "320/320 [==============================] - 15s 46ms/step - loss: 0.5831 - acc: 0.7094 - val_loss: 1.1710 - val_acc: 0.1750\n",
      "Epoch 12/30\n",
      "320/320 [==============================] - 15s 47ms/step - loss: 0.5953 - acc: 0.7031 - val_loss: 1.0561 - val_acc: 0.1750\n",
      "Epoch 13/30\n",
      "320/320 [==============================] - 14s 44ms/step - loss: 0.5883 - acc: 0.7031 - val_loss: 0.9998 - val_acc: 0.1750\n",
      "Epoch 14/30\n",
      "320/320 [==============================] - 14s 45ms/step - loss: 0.5798 - acc: 0.7031 - val_loss: 0.9674 - val_acc: 0.1875\n",
      "Epoch 15/30\n",
      "320/320 [==============================] - 15s 46ms/step - loss: 0.5736 - acc: 0.7031 - val_loss: 0.9834 - val_acc: 0.1875\n",
      "Epoch 16/30\n",
      "320/320 [==============================] - 13s 40ms/step - loss: 0.5707 - acc: 0.7031 - val_loss: 0.9342 - val_acc: 0.2125\n",
      "Epoch 17/30\n",
      "320/320 [==============================] - 14s 43ms/step - loss: 0.5685 - acc: 0.7062 - val_loss: 0.8351 - val_acc: 0.2375\n",
      "Epoch 18/30\n",
      "320/320 [==============================] - 15s 46ms/step - loss: 0.5614 - acc: 0.7094 - val_loss: 0.8329 - val_acc: 0.2375\n",
      "Epoch 19/30\n",
      "320/320 [==============================] - 14s 45ms/step - loss: 0.5576 - acc: 0.7156 - val_loss: 0.8800 - val_acc: 0.3000\n",
      "Epoch 20/30\n",
      "320/320 [==============================] - 12s 39ms/step - loss: 0.5195 - acc: 0.7531 - val_loss: 0.7741 - val_acc: 0.3750\n",
      "Epoch 21/30\n",
      "320/320 [==============================] - 14s 43ms/step - loss: 0.6340 - acc: 0.7219 - val_loss: 1.1869 - val_acc: 0.2375\n",
      "Epoch 22/30\n",
      "320/320 [==============================] - 14s 45ms/step - loss: 0.5924 - acc: 0.7094 - val_loss: 1.1528 - val_acc: 0.2250\n",
      "Epoch 23/30\n",
      "320/320 [==============================] - 16s 49ms/step - loss: 0.5682 - acc: 0.7094 - val_loss: 0.9546 - val_acc: 0.2375\n",
      "Epoch 24/30\n",
      "320/320 [==============================] - 15s 46ms/step - loss: 0.5595 - acc: 0.7125 - val_loss: 0.8321 - val_acc: 0.2375\n",
      "Epoch 25/30\n",
      "320/320 [==============================] - 13s 41ms/step - loss: 0.5500 - acc: 0.7250 - val_loss: 0.7732 - val_acc: 0.2875\n",
      "Epoch 26/30\n",
      "320/320 [==============================] - 14s 44ms/step - loss: 0.5094 - acc: 0.7656 - val_loss: 0.3511 - val_acc: 0.7250\n",
      "Epoch 27/30\n",
      "320/320 [==============================] - 14s 43ms/step - loss: 0.4335 - acc: 0.9031 - val_loss: 0.0911 - val_acc: 0.9625\n",
      "Epoch 28/30\n",
      "320/320 [==============================] - 14s 43ms/step - loss: 0.2937 - acc: 0.9250 - val_loss: 0.2139 - val_acc: 0.9250\n",
      "Epoch 29/30\n",
      "320/320 [==============================] - 13s 39ms/step - loss: 0.4474 - acc: 0.8094 - val_loss: 0.7595 - val_acc: 0.5750\n",
      "Epoch 30/30\n",
      "320/320 [==============================] - 14s 42ms/step - loss: 0.1617 - acc: 0.9719 - val_loss: 0.0607 - val_acc: 0.9875\n"
     ]
    }
   ],
   "source": [
    "# 학습조건의 설정　오차함수 = 2값의 교차 엔트로피, 최적화 방법 = Adam법, 측정방법 = 모델의 정밀도\n",
    "model.compile(loss='binary_crossentropy', optimizer='adam', metrics=['accuracy'])\n",
    "\n",
    "# 학습의 실행\n",
    "hist = model.fit(wakati_id, label, batch_size=32, verbose=1, \n",
    "                 epochs=30, validation_split=0.2)"
   ]
  },
  {
   "cell_type": "code",
   "execution_count": 12,
   "metadata": {},
   "outputs": [
    {
     "data": {
      "image/png": "[encoded data removed]",
      "text/plain": [
       "<Figure size 432x288 with 1 Axes>"
      ]
     },
     "metadata": {
      "needs_background": "light"
     },
     "output_type": "display_data"
    }
   ],
   "source": [
    "import matplotlib.pyplot as plt\n",
    "%matplotlib inline\n",
    "\n",
    "# 훈련데이터와 테스트 데이터의 오차의 이력을 플로트\n",
    "plt.plot(hist.history['loss'])\n",
    "plt.plot(hist.history['val_loss'])\n",
    "plt.ylabel('loss')\n",
    "plt.xlabel('epoch')\n",
    "plt.legend(['train', 'val'], loc='upper right')\n",
    "plt.show()"
   ]
  },
  {
   "cell_type": "code",
   "execution_count": 13,
   "metadata": {},
   "outputs": [
    {
     "data": {
      "image/png": "[encoded data removed]",
      "text/plain": [
       "<Figure size 432x288 with 1 Axes>"
      ]
     },
     "metadata": {
      "needs_background": "light"
     },
     "output_type": "display_data"
    }
   ],
   "source": [
    "# 훈련데이터와 테스트 데이터의 정밀도의 이력을 플로트\n",
    "plt.plot(hist.history['accuracy'])\n",
    "plt.plot(hist.history['val_accuracy'])\n",
    "plt.ylabel('accuracy')\n",
    "plt.xlabel('epoch')\n",
    "plt.legend(['train', 'val'], loc='upper left')\n",
    "plt.show()"
   ]
  },
  {
   "cell_type": "markdown",
   "metadata": {},
   "source": [
    "##### === 모델의 작성은 여기까지 ======================"
   ]
  },
  {
   "cell_type": "code",
   "execution_count": null,
   "metadata": {},
   "outputs": [],
   "source": []
  }
 ],
 "metadata": {
  "kernelspec": {
   "display_name": "Python 3",
   "language": "python",
   "name": "python3"
  },
  "language_info": {
   "codemirror_mode": {
    "name": "ipython",
    "version": 3
   },
   "file_extension": ".py",
   "mimetype": "text/x-python",
   "name": "python",
   "nbconvert_exporter": "python",
   "pygments_lexer": "ipython3",
   "version": "3.7.7"
  }
 },
 "nbformat": 4,
 "nbformat_minor": 4
}
