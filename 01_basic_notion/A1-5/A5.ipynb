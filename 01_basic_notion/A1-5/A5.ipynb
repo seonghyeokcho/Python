{
 "cells": [
  {
   "cell_type": "markdown",
   "metadata": {},
   "source": [
    "### 7-2．머신러닝을 위한 데이터의 준비\n",
    "#### 전 기사의 형태소 분석"
   ]
  },
  {
   "cell_type": "code",
   "execution_count": 1,
   "metadata": {},
   "outputs": [
    {
     "name": "stdout",
     "output_type": "stream",
     "text": [
      "Collecting wordcloud\n",
      "  Using cached wordcloud-1.6.0-cp37-cp37m-win_amd64.whl (153 kB)\n",
      "Collecting pillow\n",
      "  Downloading Pillow-7.1.1-cp37-cp37m-win_amd64.whl (2.0 MB)\n",
      "Requirement already satisfied: numpy>=1.6.1 in e:\\anaconda3\\envs\\pbook_appx\\lib\\site-packages (from wordcloud) (1.18.1)\n",
      "Requirement already satisfied: matplotlib in e:\\anaconda3\\envs\\pbook_appx\\lib\\site-packages (from wordcloud) (3.1.3)\n",
      "Requirement already satisfied: python-dateutil>=2.1 in e:\\anaconda3\\envs\\pbook_appx\\lib\\site-packages (from matplotlib->wordcloud) (2.8.1)\n",
      "Requirement already satisfied: pyparsing!=2.0.4,!=2.1.2,!=2.1.6,>=2.0.1 in e:\\anaconda3\\envs\\pbook_appx\\lib\\site-packages (from matplotlib->wordcloud) (2.4.6)\n",
      "Requirement already satisfied: cycler>=0.10 in e:\\anaconda3\\envs\\pbook_appx\\lib\\site-packages (from matplotlib->wordcloud) (0.10.0)\n",
      "Requirement already satisfied: kiwisolver>=1.0.1 in e:\\anaconda3\\envs\\pbook_appx\\lib\\site-packages (from matplotlib->wordcloud) (1.1.0)\n",
      "Requirement already satisfied: six>=1.5 in e:\\anaconda3\\envs\\pbook_appx\\lib\\site-packages (from python-dateutil>=2.1->matplotlib->wordcloud) (1.14.0)\n",
      "Requirement already satisfied: setuptools in e:\\anaconda3\\envs\\pbook_appx\\lib\\site-packages (from kiwisolver>=1.0.1->matplotlib->wordcloud) (46.1.3.post20200330)\n",
      "Installing collected packages: pillow, wordcloud\n",
      "Successfully installed pillow-7.1.1 wordcloud-1.6.0\n"
     ]
    }
   ],
   "source": [
    "# WordCloud 의 인스톨\n",
    "!pip install wordcloud"
   ]
  },
  {
   "cell_type": "code",
   "execution_count": 2,
   "metadata": {},
   "outputs": [
    {
     "name": "stdout",
     "output_type": "stream",
     "text": [
      "Requirement already satisfied: konlpy in e:\\anaconda3\\envs\\pbook_appx\\lib\\site-packages (0.5.2)\n",
      "Requirement already satisfied: lxml>=4.1.0 in e:\\anaconda3\\envs\\pbook_appx\\lib\\site-packages (from konlpy) (4.5.0)\n",
      "Requirement already satisfied: JPype1>=0.7.0 in e:\\anaconda3\\envs\\pbook_appx\\lib\\site-packages (from konlpy) (0.7.2)\n",
      "Requirement already satisfied: tweepy>=3.7.0 in e:\\anaconda3\\envs\\pbook_appx\\lib\\site-packages (from konlpy) (3.8.0)\n",
      "Requirement already satisfied: beautifulsoup4==4.6.0 in e:\\anaconda3\\envs\\pbook_appx\\lib\\site-packages (from konlpy) (4.6.0)\n",
      "Requirement already satisfied: numpy>=1.6 in e:\\anaconda3\\envs\\pbook_appx\\lib\\site-packages (from konlpy) (1.18.1)\n",
      "Requirement already satisfied: colorama in e:\\anaconda3\\envs\\pbook_appx\\lib\\site-packages (from konlpy) (0.4.3)\n",
      "Requirement already satisfied: requests-oauthlib>=0.7.0 in e:\\anaconda3\\envs\\pbook_appx\\lib\\site-packages (from tweepy>=3.7.0->konlpy) (1.3.0)\n",
      "Requirement already satisfied: PySocks>=1.5.7 in e:\\anaconda3\\envs\\pbook_appx\\lib\\site-packages (from tweepy>=3.7.0->konlpy) (1.7.1)\n",
      "Requirement already satisfied: requests>=2.11.1 in e:\\anaconda3\\envs\\pbook_appx\\lib\\site-packages (from tweepy>=3.7.0->konlpy) (2.23.0)\n",
      "Requirement already satisfied: six>=1.10.0 in e:\\anaconda3\\envs\\pbook_appx\\lib\\site-packages (from tweepy>=3.7.0->konlpy) (1.14.0)\n",
      "Requirement already satisfied: oauthlib>=3.0.0 in e:\\anaconda3\\envs\\pbook_appx\\lib\\site-packages (from requests-oauthlib>=0.7.0->tweepy>=3.7.0->konlpy) (3.1.0)\n",
      "Requirement already satisfied: urllib3!=1.25.0,!=1.25.1,<1.26,>=1.21.1 in e:\\anaconda3\\envs\\pbook_appx\\lib\\site-packages (from requests>=2.11.1->tweepy>=3.7.0->konlpy) (1.25.8)\n",
      "Requirement already satisfied: idna<3,>=2.5 in e:\\anaconda3\\envs\\pbook_appx\\lib\\site-packages (from requests>=2.11.1->tweepy>=3.7.0->konlpy) (2.9)\n",
      "Requirement already satisfied: chardet<4,>=3.0.2 in e:\\anaconda3\\envs\\pbook_appx\\lib\\site-packages (from requests>=2.11.1->tweepy>=3.7.0->konlpy) (3.0.4)\n",
      "Requirement already satisfied: certifi>=2017.4.17 in e:\\anaconda3\\envs\\pbook_appx\\lib\\site-packages (from requests>=2.11.1->tweepy>=3.7.0->konlpy) (2020.4.5.1)\n"
     ]
    }
   ],
   "source": [
    "# konlpy의 인스톨\n",
    "!pip install konlpy"
   ]
  },
  {
   "cell_type": "code",
   "execution_count": 3,
   "metadata": {},
   "outputs": [
    {
     "name": "stdout",
     "output_type": "stream",
     "text": [
      "Requirement already satisfied: nltk in e:\\anaconda3\\envs\\pbook_appx\\lib\\site-packages (3.5)\n",
      "Requirement already satisfied: joblib in e:\\anaconda3\\envs\\pbook_appx\\lib\\site-packages (from nltk) (0.14.1)\n",
      "Requirement already satisfied: regex in e:\\anaconda3\\envs\\pbook_appx\\lib\\site-packages (from nltk) (2020.4.4)\n",
      "Requirement already satisfied: tqdm in e:\\anaconda3\\envs\\pbook_appx\\lib\\site-packages (from nltk) (4.45.0)\n",
      "Requirement already satisfied: click in e:\\anaconda3\\envs\\pbook_appx\\lib\\site-packages (from nltk) (7.1.1)\n"
     ]
    }
   ],
   "source": [
    "# nltk의 인스톨\n",
    "!pip install nltk"
   ]
  },
  {
   "cell_type": "code",
   "execution_count": 4,
   "metadata": {},
   "outputs": [],
   "source": [
    "import os\n",
    "import re\n",
    "from konlpy.tag import Okt\n",
    "okt = Okt()\n",
    "\n",
    "# 기사 폴더를 지정\n",
    "dirs = ['it-life-hack', 'movie-enter']\n",
    "\n",
    "# 단어와 레이블을 보존하는 리스트를 생성\n",
    "docterm = []     # 설명변수\n",
    "label = []       # 목적변수\n",
    "tmp1 = []\n",
    "tmp2 = ''\n",
    "\n",
    "# 각 폴더의 파일을 하나씩 읽어와서 표시\n",
    "for i, d in enumerate(dirs):\n",
    "    # 파일을 취득\n",
    "    files = os.listdir('./data/' + d)\n",
    "\n",
    "    # 파일을 오픈해서 내용을 취득\n",
    "    for file in files:\n",
    "        f = open('./data/' + d + '/' + file, 'r', encoding='utf-8')\n",
    "        text = f.read()\n",
    "\n",
    "        # 정규표현에서 불필요한 문자열을 제거해서 표시\n",
    "        reg_text = re.sub(r'[0-9a-zA-Z]+', '', text)\n",
    "        reg_text = re.sub(r'[:;/+\\.-]', '', reg_text)\n",
    "        reg_text = re.sub(r'[\\s\\n]', '', reg_text)\n",
    "\n",
    "        # 명사로 필터링된 형태소분석\n",
    "        for token in okt.nouns(reg_text):\n",
    "            tmp1.append(token)\n",
    "            tmp2 = ' '.join(tmp1)\n",
    "        # 기사별로 단어를 보존\n",
    "        docterm.append(tmp2)\n",
    "        tmp1 = []\n",
    "\n",
    "        # 기사별로 레이블을 붙여서 보존\n",
    "        label.append(i)\n",
    "        # 파일을 클로즈\n",
    "        f.close()"
   ]
  },
  {
   "cell_type": "code",
   "execution_count": 5,
   "metadata": {},
   "outputs": [
    {
     "data": {
      "text/html": [
       "<div>\n",
       "<style scoped>\n",
       "    .dataframe tbody tr th:only-of-type {\n",
       "        vertical-align: middle;\n",
       "    }\n",
       "\n",
       "    .dataframe tbody tr th {\n",
       "        vertical-align: top;\n",
       "    }\n",
       "\n",
       "    .dataframe thead th {\n",
       "        text-align: right;\n",
       "    }\n",
       "</style>\n",
       "<table border=\"1\" class=\"dataframe\">\n",
       "  <thead>\n",
       "    <tr style=\"text-align: right;\">\n",
       "      <th></th>\n",
       "      <th>0</th>\n",
       "    </tr>\n",
       "  </thead>\n",
       "  <tbody>\n",
       "    <tr>\n",
       "      <th>0</th>\n",
       "      <td>구형 금단 파워 업 최신 소프트웨어 번 체크 플래시백 텔레비전 이나 계 프로세서 전...</td>\n",
       "    </tr>\n",
       "    <tr>\n",
       "      <th>1</th>\n",
       "      <td>애플 개발자 미리보기 출시 차기 애플 년월 일 미국 캘리포니아주 쿠퍼티노 현지 시간...</td>\n",
       "    </tr>\n",
       "    <tr>\n",
       "      <th>2</th>\n",
       "      <td>서비스 종료 후 전자책 디지털 통 컴퓨터 엔터테인먼트 휴대 용게 임기 전달 만화 콘...</td>\n",
       "    </tr>\n",
       "    <tr>\n",
       "      <th>3</th>\n",
       "      <td>웹페이지 이미지 통째 비결 이득 치트 시트 회사 소개 웹페이지 이미지 블로그 페이지...</td>\n",
       "    </tr>\n",
       "    <tr>\n",
       "      <th>4</th>\n",
       "      <td>레노버 프로 골퍼 사이토 선수 공식 후원 계약 체결 레노보 재팬 년월 프로 골퍼 사...</td>\n",
       "    </tr>\n",
       "  </tbody>\n",
       "</table>\n",
       "</div>"
      ],
      "text/plain": [
       "                                                   0\n",
       "0  구형 금단 파워 업 최신 소프트웨어 번 체크 플래시백 텔레비전 이나 계 프로세서 전...\n",
       "1  애플 개발자 미리보기 출시 차기 애플 년월 일 미국 캘리포니아주 쿠퍼티노 현지 시간...\n",
       "2  서비스 종료 후 전자책 디지털 통 컴퓨터 엔터테인먼트 휴대 용게 임기 전달 만화 콘...\n",
       "3  웹페이지 이미지 통째 비결 이득 치트 시트 회사 소개 웹페이지 이미지 블로그 페이지...\n",
       "4  레노버 프로 골퍼 사이토 선수 공식 후원 계약 체결 레노보 재팬 년월 프로 골퍼 사..."
      ]
     },
     "execution_count": 5,
     "metadata": {},
     "output_type": "execute_result"
    }
   ],
   "source": [
    "import pandas as pd\n",
    "\n",
    "pd.DataFrame(docterm).head()"
   ]
  },
  {
   "cell_type": "code",
   "execution_count": 6,
   "metadata": {},
   "outputs": [
    {
     "name": "stdout",
     "output_type": "stream",
     "text": [
      "구형 금단 파워 업 최신 소프트웨어 번 체크 플래시백 텔레비전 이나 계 프로세서 전환 등 등장 구형 금단 파워 업 방법 최신 화제 보안 소프트웨어 번 소개 인텔 장착 구형 얼마나 것 위 인텔 최신 시리즈 를 출시 현재 최고 성능 자랑 제품 구형 고속 도모 점 리뷰 조금 리뷰 정도 효과 대가 인텔 등 전환 하이브리드 만이 동시 초기 비용 업데이트 비용 무료 저스트 시스템 도마뱀 로그 인상 보안 소프트웨어 현재 사용자 보안 프로그램 도입 대부분 매년 정도 업데이트 비용 절차 대해 불만 가지 유료 소프트웨어 이용 사용자 의약 무료 보안 소프트웨어 불구 성능 면 뒤 불안 도입 상황 텔레비전 활용 방법 제안 의봄 신상 계 년월 일 데스크톱 시리즈 종류 모델 월일 판매 고 발표 상품 더 녹화 기능 외 시청 녹화 기능 업계 최초 인기 계 트 위트 플러스 를 추가 등 컴퓨터 기능 탑재 스마트폰 홈 네트워크 대응 안심 간단 쾌적 디지털 엔터테인먼트 제안 모델 대해 다음 기능 강화 실시 마치 축제 출하 렛츠 노트 출하 월일 발매 의 출하 이월 국내 거점 고베 공장 사의 컴퓨터 처음 실시 출하 제품 얼마나 힘 엡손 정품 잉크 잉크 카트리지 색 세트 엡손 출판사 입 소문\n"
     ]
    }
   ],
   "source": [
    "# 첫번째 기사의 단어를 확인\n",
    "print(docterm[0])"
   ]
  },
  {
   "cell_type": "code",
   "execution_count": 7,
   "metadata": {},
   "outputs": [
    {
     "data": {
      "text/plain": [
       "<wordcloud.wordcloud.WordCloud at 0x23129eec108>"
      ]
     },
     "execution_count": 7,
     "metadata": {},
     "output_type": "execute_result"
    }
   ],
   "source": [
    "import matplotlib.pyplot as plt\n",
    "from wordcloud import WordCloud\n",
    "\n",
    "text = ''\n",
    "# 선두 50기사의 단어만 대상으로\n",
    "for i in range(50):\n",
    "    text = text + docterm[i]\n",
    "\n",
    "# Word Cloud의 생성\n",
    "wc = WordCloud(background_color='white', font_path=r'C:\\Windows\\Fonts\\msgothic.ttc', \n",
    "                      width=800, height=800).generate(text)\n",
    "\n",
    "# Word Cloud를 이미지로 출력\n",
    "wc.to_file('it-life-hack_50-articles.png')"
   ]
  },
  {
   "cell_type": "code",
   "execution_count": null,
   "metadata": {},
   "outputs": [],
   "source": []
  }
 ],
 "metadata": {
  "kernelspec": {
   "display_name": "Python 3",
   "language": "python",
   "name": "python3"
  },
  "language_info": {
   "codemirror_mode": {
    "name": "ipython",
    "version": 3
   },
   "file_extension": ".py",
   "mimetype": "text/x-python",
   "name": "python",
   "nbconvert_exporter": "python",
   "pygments_lexer": "ipython3",
   "version": "3.7.7"
  }
 },
 "nbformat": 4,
 "nbformat_minor": 4
}
