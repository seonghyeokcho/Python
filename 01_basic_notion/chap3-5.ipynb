{
 "cells": [
  {
   "cell_type": "markdown",
   "metadata": {},
   "source": [
    "### 3-3．모델작성\n",
    "#### 데이터의 리드와 확인"
   ]
  },
  {
   "cell_type": "code",
   "execution_count": 1,
   "metadata": {},
   "outputs": [
    {
     "data": {
      "text/html": [
       "<div>\n",
       "<style scoped>\n",
       "    .dataframe tbody tr th:only-of-type {\n",
       "        vertical-align: middle;\n",
       "    }\n",
       "\n",
       "    .dataframe tbody tr th {\n",
       "        vertical-align: top;\n",
       "    }\n",
       "\n",
       "    .dataframe thead th {\n",
       "        text-align: right;\n",
       "    }\n",
       "</style>\n",
       "<table border=\"1\" class=\"dataframe\">\n",
       "  <thead>\n",
       "    <tr style=\"text-align: right;\">\n",
       "      <th></th>\n",
       "      <th>age</th>\n",
       "      <th>default</th>\n",
       "      <th>balance</th>\n",
       "      <th>housing</th>\n",
       "      <th>loan</th>\n",
       "      <th>day</th>\n",
       "      <th>duration</th>\n",
       "      <th>campaign</th>\n",
       "      <th>pdays</th>\n",
       "      <th>previous</th>\n",
       "      <th>...</th>\n",
       "      <th>4Q</th>\n",
       "      <th>early</th>\n",
       "      <th>late</th>\n",
       "      <th>middle</th>\n",
       "      <th>long</th>\n",
       "      <th>short</th>\n",
       "      <th>one-more</th>\n",
       "      <th>zero</th>\n",
       "      <th>less</th>\n",
       "      <th>more</th>\n",
       "    </tr>\n",
       "  </thead>\n",
       "  <tbody>\n",
       "    <tr>\n",
       "      <th>0</th>\n",
       "      <td>58</td>\n",
       "      <td>0</td>\n",
       "      <td>2143</td>\n",
       "      <td>1</td>\n",
       "      <td>0</td>\n",
       "      <td>5</td>\n",
       "      <td>261</td>\n",
       "      <td>1</td>\n",
       "      <td>-1</td>\n",
       "      <td>0</td>\n",
       "      <td>...</td>\n",
       "      <td>0</td>\n",
       "      <td>1</td>\n",
       "      <td>0</td>\n",
       "      <td>0</td>\n",
       "      <td>0</td>\n",
       "      <td>1</td>\n",
       "      <td>0</td>\n",
       "      <td>1</td>\n",
       "      <td>1</td>\n",
       "      <td>0</td>\n",
       "    </tr>\n",
       "    <tr>\n",
       "      <th>1</th>\n",
       "      <td>36</td>\n",
       "      <td>0</td>\n",
       "      <td>265</td>\n",
       "      <td>1</td>\n",
       "      <td>1</td>\n",
       "      <td>5</td>\n",
       "      <td>348</td>\n",
       "      <td>1</td>\n",
       "      <td>-1</td>\n",
       "      <td>0</td>\n",
       "      <td>...</td>\n",
       "      <td>0</td>\n",
       "      <td>1</td>\n",
       "      <td>0</td>\n",
       "      <td>0</td>\n",
       "      <td>1</td>\n",
       "      <td>0</td>\n",
       "      <td>0</td>\n",
       "      <td>1</td>\n",
       "      <td>1</td>\n",
       "      <td>0</td>\n",
       "    </tr>\n",
       "    <tr>\n",
       "      <th>2</th>\n",
       "      <td>25</td>\n",
       "      <td>0</td>\n",
       "      <td>-7</td>\n",
       "      <td>1</td>\n",
       "      <td>0</td>\n",
       "      <td>5</td>\n",
       "      <td>365</td>\n",
       "      <td>1</td>\n",
       "      <td>-1</td>\n",
       "      <td>0</td>\n",
       "      <td>...</td>\n",
       "      <td>0</td>\n",
       "      <td>1</td>\n",
       "      <td>0</td>\n",
       "      <td>0</td>\n",
       "      <td>1</td>\n",
       "      <td>0</td>\n",
       "      <td>0</td>\n",
       "      <td>1</td>\n",
       "      <td>1</td>\n",
       "      <td>0</td>\n",
       "    </tr>\n",
       "    <tr>\n",
       "      <th>3</th>\n",
       "      <td>53</td>\n",
       "      <td>0</td>\n",
       "      <td>-3</td>\n",
       "      <td>0</td>\n",
       "      <td>0</td>\n",
       "      <td>5</td>\n",
       "      <td>1666</td>\n",
       "      <td>1</td>\n",
       "      <td>-1</td>\n",
       "      <td>0</td>\n",
       "      <td>...</td>\n",
       "      <td>0</td>\n",
       "      <td>1</td>\n",
       "      <td>0</td>\n",
       "      <td>0</td>\n",
       "      <td>1</td>\n",
       "      <td>0</td>\n",
       "      <td>0</td>\n",
       "      <td>1</td>\n",
       "      <td>1</td>\n",
       "      <td>0</td>\n",
       "    </tr>\n",
       "    <tr>\n",
       "      <th>4</th>\n",
       "      <td>24</td>\n",
       "      <td>0</td>\n",
       "      <td>-103</td>\n",
       "      <td>1</td>\n",
       "      <td>1</td>\n",
       "      <td>5</td>\n",
       "      <td>145</td>\n",
       "      <td>1</td>\n",
       "      <td>-1</td>\n",
       "      <td>0</td>\n",
       "      <td>...</td>\n",
       "      <td>0</td>\n",
       "      <td>1</td>\n",
       "      <td>0</td>\n",
       "      <td>0</td>\n",
       "      <td>0</td>\n",
       "      <td>1</td>\n",
       "      <td>0</td>\n",
       "      <td>1</td>\n",
       "      <td>1</td>\n",
       "      <td>0</td>\n",
       "    </tr>\n",
       "  </tbody>\n",
       "</table>\n",
       "<p>5 rows × 47 columns</p>\n",
       "</div>"
      ],
      "text/plain": [
       "   age  default  balance  housing  loan  day  duration  campaign  pdays  \\\n",
       "0   58        0     2143        1     0    5       261         1     -1   \n",
       "1   36        0      265        1     1    5       348         1     -1   \n",
       "2   25        0       -7        1     0    5       365         1     -1   \n",
       "3   53        0       -3        0     0    5      1666         1     -1   \n",
       "4   24        0     -103        1     1    5       145         1     -1   \n",
       "\n",
       "   previous  ...  4Q  early  late  middle  long  short  one-more  zero  less  \\\n",
       "0         0  ...   0      1     0       0     0      1         0     1     1   \n",
       "1         0  ...   0      1     0       0     1      0         0     1     1   \n",
       "2         0  ...   0      1     0       0     1      0         0     1     1   \n",
       "3         0  ...   0      1     0       0     1      0         0     1     1   \n",
       "4         0  ...   0      1     0       0     0      1         0     1     1   \n",
       "\n",
       "   more  \n",
       "0     0  \n",
       "1     0  \n",
       "2     0  \n",
       "3     0  \n",
       "4     0  \n",
       "\n",
       "[5 rows x 47 columns]"
      ]
     },
     "execution_count": 1,
     "metadata": {},
     "output_type": "execute_result"
    }
   ],
   "source": [
    "# Pandas의 로드\n",
    "import pandas as pd\n",
    "\n",
    "# 파일리드\n",
    "bank_df_new = pd.read_csv('bank-prep2.csv', sep=',')\n",
    "\n",
    "# 선두에서 5행까지 표시\n",
    "bank_df_new.head()"
   ]
  },
  {
   "cell_type": "markdown",
   "metadata": {},
   "source": [
    "#### 불균형 데이터의 균형화"
   ]
  },
  {
   "cell_type": "code",
   "execution_count": 2,
   "metadata": {},
   "outputs": [
    {
     "name": "stdout",
     "output_type": "stream",
     "text": [
      "Name: imbalanced-learn\n",
      "Version: 0.4.3\n",
      "Summary: Toolbox for imbalanced dataset in machine learning.\n",
      "Home-page: https://github.com/scikit-learn-contrib/imbalanced-learn\n",
      "Author: None\n",
      "Author-email: None\n",
      "License: MIT\n",
      "Location: e:\\anaconda3\\envs\\pbook_appx\\lib\\site-packages\n",
      "Requires: scipy, numpy, scikit-learn\n",
      "Required-by: \n"
     ]
    }
   ],
   "source": [
    "!pip show imbalanced-learn"
   ]
  },
  {
   "cell_type": "code",
   "execution_count": 3,
   "metadata": {},
   "outputs": [
    {
     "name": "stdout",
     "output_type": "stream",
     "text": [
      "Package             Version   \n",
      "------------------- ----------\n",
      "absl-py             0.7.0     \n",
      "astor               0.7.1     \n",
      "backcall            0.1.0     \n",
      "bleach              3.1.0     \n",
      "certifi             2018.11.29\n",
      "colorama            0.4.1     \n",
      "cycler              0.10.0    \n",
      "decorator           4.3.2     \n",
      "entrypoints         0.3       \n",
      "gast                0.2.2     \n",
      "graphviz            0.10.1    \n",
      "grpcio              1.16.1    \n",
      "h5py                2.8.0     \n",
      "imbalanced-learn    0.4.3     \n",
      "ipykernel           5.1.0     \n",
      "ipython             7.2.0     \n",
      "ipython-genutils    0.2.0     \n",
      "ipywidgets          7.4.2     \n",
      "Janome              0.3.7     \n",
      "jedi                0.13.2    \n",
      "Jinja2              2.10      \n",
      "jsonschema          2.6.0     \n",
      "jupyter             1.0.0     \n",
      "jupyter-client      5.2.4     \n",
      "jupyter-console     6.0.0     \n",
      "jupyter-core        4.4.0     \n",
      "jupyterlab          0.35.3    \n",
      "jupyterlab-server   0.2.0     \n",
      "Keras               2.2.4     \n",
      "Keras-Applications  1.0.6     \n",
      "Keras-Preprocessing 1.0.5     \n",
      "kiwisolver          1.0.1     \n",
      "Markdown            3.0.1     \n",
      "MarkupSafe          1.1.0     \n",
      "matplotlib          3.0.2     \n",
      "mistune             0.8.4     \n",
      "mkl-fft             1.0.10    \n",
      "mkl-random          1.0.2     \n",
      "nbconvert           5.3.1     \n",
      "nbformat            4.4.0     \n",
      "networkx            2.2       \n",
      "notebook            5.7.4     \n",
      "numpy               1.15.4    \n",
      "opencv-python       4.0.0.21  \n",
      "pandas              0.24.1    \n",
      "pandocfilters       1.4.2     \n",
      "parso               0.3.2     \n",
      "pickleshare         0.7.5     \n",
      "Pillow              5.4.1     \n",
      "pip                 19.0.1    \n",
      "prometheus-client   0.5.0     \n",
      "prompt-toolkit      2.0.8     \n",
      "protobuf            3.6.1     \n",
      "pydotplus           2.0.2     \n",
      "Pygments            2.3.1     \n",
      "pyparsing           2.3.1     \n",
      "python-dateutil     2.7.5     \n",
      "pytz                2018.9    \n",
      "pywinpty            0.5.5     \n",
      "PyYAML              3.13      \n",
      "pyzmq               17.1.2    \n",
      "qtconsole           4.4.3     \n",
      "scikit-learn        0.20.2    \n",
      "scipy               1.2.0     \n",
      "Send2Trash          1.5.0     \n",
      "setuptools          40.7.3    \n",
      "six                 1.12.0    \n",
      "tensorboard         1.12.2    \n",
      "tensorflow          1.12.0    \n",
      "termcolor           1.1.0     \n",
      "terminado           0.8.1     \n",
      "testpath            0.4.2     \n",
      "tornado             5.1.1     \n",
      "traitlets           4.3.2     \n",
      "wcwidth             0.1.7     \n",
      "webencodings        0.5.1     \n",
      "Werkzeug            0.14.1    \n",
      "wheel               0.32.3    \n",
      "widgetsnbextension  3.4.2     \n",
      "wincertstore        0.2       \n",
      "wordcloud           1.5.0     \n"
     ]
    }
   ],
   "source": [
    "!pip list"
   ]
  },
  {
   "cell_type": "code",
   "execution_count": 4,
   "metadata": {},
   "outputs": [
    {
     "name": "stdout",
     "output_type": "stream",
     "text": [
      "Requirement already satisfied: imbalanced-learn in e:\\anaconda3\\envs\\pbook_appx\\lib\\site-packages (0.4.3)\n",
      "Requirement already satisfied: scipy>=0.13.3 in e:\\anaconda3\\envs\\pbook_appx\\lib\\site-packages (from imbalanced-learn) (1.2.0)\n",
      "Requirement already satisfied: scikit-learn>=0.20 in e:\\anaconda3\\envs\\pbook_appx\\lib\\site-packages (from imbalanced-learn) (0.20.2)\n",
      "Requirement already satisfied: numpy>=1.8.2 in e:\\anaconda3\\envs\\pbook_appx\\lib\\site-packages (from imbalanced-learn) (1.15.4)\n"
     ]
    }
   ],
   "source": [
    "!pip install imbalanced-learn"
   ]
  },
  {
   "cell_type": "code",
   "execution_count": 5,
   "metadata": {},
   "outputs": [
    {
     "name": "stdout",
     "output_type": "stream",
     "text": [
      "820 6113\n",
      "820 820\n"
     ]
    }
   ],
   "source": [
    "# Numpy와 RandomUnderSampler의 로드\n",
    "import numpy as np\n",
    "from imblearn.under_sampling import RandomUnderSampler\n",
    "\n",
    "# 데이터 세트를 설명변수와 목적변수로 분할\n",
    "X = np.array(bank_df_new.drop('y', axis=1))\n",
    "Y = np.array(bank_df_new['y'])\n",
    "\n",
    "# y가 1또는 0인 데이터의 건수를 카운트\n",
    "print(np.sum(Y == 1), np.sum(Y == 0))\n",
    "\n",
    "# y가 1인 데이터의 건수에 맞춰서 다운사이징\n",
    "sampler = RandomUnderSampler(random_state=42)\n",
    "X, Y = sampler.fit_resample(X, Y)\n",
    "\n",
    "# y가 1또는 0인 데이터의 건수를 카운트\n",
    "print(np.sum(Y == 1), np.sum(Y == 0))"
   ]
  },
  {
   "cell_type": "markdown",
   "metadata": {},
   "source": [
    "**----여기서부터 추가----**"
   ]
  },
  {
   "cell_type": "code",
   "execution_count": 6,
   "metadata": {},
   "outputs": [
    {
     "name": "stdout",
     "output_type": "stream",
     "text": [
      "Index(['age', 'default', 'balance', 'housing', 'loan', 'day', 'duration',\n",
      "       'campaign', 'pdays', 'previous', 'divorced', 'married', 'single',\n",
      "       'primary', 'secondary', 'tertiary', 'cellular', 'telephone', 'unknown',\n",
      "       'apr', 'aug', 'dec', 'feb', 'jan', 'jul', 'jun', 'mar', 'may', 'nov',\n",
      "       'oct', 'sep', 'non-worker', 'worker', '1Q', '2Q', '3Q', '4Q', 'early',\n",
      "       'late', 'middle', 'long', 'short', 'one-more', 'zero', 'less', 'more'],\n",
      "      dtype='object')\n",
      "[False False False  True False False  True False False False False False\n",
      " False False False False False False  True False False False False False\n",
      " False False False False False False False False False False False False\n",
      " False False False False  True  True False False False False]\n"
     ]
    }
   ],
   "source": [
    "from sklearn.feature_selection import SelectKBest\n",
    "\n",
    "# 특징량을 5개 선택\n",
    "selector = SelectKBest(k=5) \n",
    "selector.fit(X, Y)\n",
    "mask = selector.get_support()\n",
    "\n",
    "# 어느 변수를 선택하였는지 확인\n",
    "print(bank_df_new.drop('y', axis=1).columns)\n",
    "print(mask)"
   ]
  },
  {
   "cell_type": "code",
   "execution_count": 7,
   "metadata": {},
   "outputs": [
    {
     "name": "stdout",
     "output_type": "stream",
     "text": [
      "[[  1  79   0   0   1]\n",
      " [  1  70   1   0   1]\n",
      " [  0 108   0   0   1]\n",
      " ...\n",
      " [  0 357   0   1   0]\n",
      " [  0 449   0   1   0]\n",
      " [  0 386   0   1   0]]\n"
     ]
    }
   ],
   "source": [
    "# 선택한 특징량의 열만 취득\n",
    "X_sel5 = selector.transform(X)\n",
    "print(X_sel5)"
   ]
  },
  {
   "cell_type": "markdown",
   "metadata": {},
   "source": [
    "**----여기까지 추가----**"
   ]
  },
  {
   "cell_type": "markdown",
   "metadata": {},
   "source": [
    "#### 결정 트리 모델의 작성과 검증"
   ]
  },
  {
   "cell_type": "code",
   "execution_count": 8,
   "metadata": {},
   "outputs": [
    {
     "name": "stdout",
     "output_type": "stream",
     "text": [
      "0.7182926829268291 0.008536585365853666\n"
     ]
    }
   ],
   "source": [
    "# Scikit-learn의 로드\n",
    "from sklearn.model_selection import KFold\n",
    "from sklearn import tree\n",
    "from sklearn.metrics import accuracy_score\n",
    "\n",
    "# K-Fold교차 검증\n",
    "kf = KFold(n_splits=10, shuffle=True)\n",
    "# 모델의 정밀도를 보존하기 위한 준비\n",
    "scores = []\n",
    "# 데이터를 셔플하고, 훈련데이터와 테스트 데이터를 분활\n",
    "for train_id, test_id in kf.split(X_sel5):\n",
    "    # 훈련 데이터를 사용한 모델을 작성\n",
    "    x = X_sel5[train_id]\n",
    "    y = Y[train_id]\n",
    "    clf = tree.DecisionTreeClassifier()\n",
    "    clf.fit(x,y)\n",
    "    # 테스트 데이터에 모델을 적용\n",
    "    pred_y = clf.predict(X_sel5[test_id])\n",
    "    # 모델의 정밀도를 계산하고 보존\n",
    "    score = accuracy_score(Y[test_id], pred_y)\n",
    "    scores.append(score)\n",
    "\n",
    "# 모델의 평균정밀도, 표준편차를 확인\n",
    "scores = np.array(scores)\n",
    "print(scores.mean(), scores.std())"
   ]
  },
  {
   "cell_type": "code",
   "execution_count": 9,
   "metadata": {},
   "outputs": [
    {
     "name": "stdout",
     "output_type": "stream",
     "text": [
      "0.675\n",
      "0.72\n"
     ]
    }
   ],
   "source": [
    "# Scikit-learn의 로드\n",
    "#from sklearn.metrics import confusion_matrix\n",
    "from sklearn.metrics import recall_score\n",
    "from sklearn.metrics import precision_score\n",
    "\n",
    "# 재현률, 적합률의 확인\n",
    "#print(confusion_matrix(Y[test_id], pred_y))\n",
    "print(recall_score(Y[test_id], pred_y))\n",
    "print(precision_score(Y[test_id], pred_y))"
   ]
  },
  {
   "cell_type": "markdown",
   "metadata": {},
   "source": [
    "#### 모델의 정밀도 향상"
   ]
  },
  {
   "cell_type": "code",
   "execution_count": 10,
   "metadata": {},
   "outputs": [
    {
     "name": "stdout",
     "output_type": "stream",
     "text": [
      "DecisionTreeClassifier(class_weight=None, criterion='gini', max_depth=None,\n",
      "            max_features=None, max_leaf_nodes=None,\n",
      "            min_impurity_decrease=0.0, min_impurity_split=None,\n",
      "            min_samples_leaf=1, min_samples_split=2,\n",
      "            min_weight_fraction_leaf=0.0, presort=False, random_state=None,\n",
      "            splitter='best')\n"
     ]
    }
   ],
   "source": [
    "# 모델작성 패러메터의 확인\n",
    "print(clf)"
   ]
  },
  {
   "cell_type": "code",
   "execution_count": 11,
   "metadata": {},
   "outputs": [
    {
     "data": {
      "text/plain": [
       "GridSearchCV(cv=KFold(n_splits=10, random_state=None, shuffle=True),\n",
       "       error_score='raise-deprecating',\n",
       "       estimator=DecisionTreeClassifier(class_weight=None, criterion='gini', max_depth=None,\n",
       "            max_features=None, max_leaf_nodes=None,\n",
       "            min_impurity_decrease=0.0, min_impurity_split=None,\n",
       "            min_samples_leaf=1, min_samples_split=2,\n",
       "            min_weight_fraction_leaf=0.0, presort=False, random_state=None,\n",
       "            splitter='best'),\n",
       "       fit_params=None, iid='warn', n_jobs=None,\n",
       "       param_grid={'criterion': ['entropy'], 'max_depth': [2, 4, 6, 8, 10], 'min_samples_leaf': [10, 20, 30, 40, 50]},\n",
       "       pre_dispatch='2*n_jobs', refit=True, return_train_score='warn',\n",
       "       scoring='accuracy', verbose=0)"
      ]
     },
     "execution_count": 11,
     "metadata": {},
     "output_type": "execute_result"
    }
   ],
   "source": [
    "# Scikit-learn의 로드\n",
    "from sklearn.model_selection import GridSearchCV\n",
    "\n",
    "# 패러메터의 범위설정\n",
    "params = {\n",
    "    'criterion': ['entropy'],    \n",
    "    'max_depth': [2, 4, 6, 8, 10],\n",
    "    'min_samples_leaf': [10, 20, 30, 40, 50],\n",
    "}\n",
    "\n",
    "# 그리드 서치의 실행조건을 설정\n",
    "clf_gs = GridSearchCV(tree.DecisionTreeClassifier(), params, \n",
    "                      cv=KFold(n_splits=10, shuffle=True), scoring='accuracy')\n",
    "\n",
    "# 그리드 서치 실행\n",
    "clf_gs.fit(X, Y)"
   ]
  },
  {
   "cell_type": "code",
   "execution_count": 12,
   "metadata": {},
   "outputs": [
    {
     "name": "stdout",
     "output_type": "stream",
     "text": [
      "0.8085365853658537\n",
      "{'criterion': 'entropy', 'max_depth': 8, 'min_samples_leaf': 20}\n"
     ]
    }
   ],
   "source": [
    "# 가장 높은 정밀도와 패러메터의 조합을 표시\n",
    "print(clf_gs.best_score_)\n",
    "print(clf_gs.best_params_)"
   ]
  }
 ],
 "metadata": {
  "kernelspec": {
   "display_name": "Python 3",
   "language": "python",
   "name": "python3"
  },
  "language_info": {
   "codemirror_mode": {
    "name": "ipython",
    "version": 3
   },
   "file_extension": ".py",
   "mimetype": "text/x-python",
   "name": "python",
   "nbconvert_exporter": "python",
   "pygments_lexer": "ipython3",
   "version": "3.7.7"
  }
 },
 "nbformat": 4,
 "nbformat_minor": 4
}
