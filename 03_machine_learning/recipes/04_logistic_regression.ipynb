{
 "cells": [
  {
   "cell_type": "markdown",
   "metadata": {},
   "source": [
    "## 4. Logistic Regression"
   ]
  },
  {
   "cell_type": "code",
   "execution_count": 1,
   "metadata": {},
   "outputs": [
    {
     "data": {
      "text/html": [
       "<div>\n",
       "<style scoped>\n",
       "    .dataframe tbody tr th:only-of-type {\n",
       "        vertical-align: middle;\n",
       "    }\n",
       "\n",
       "    .dataframe tbody tr th {\n",
       "        vertical-align: top;\n",
       "    }\n",
       "\n",
       "    .dataframe thead th {\n",
       "        text-align: right;\n",
       "    }\n",
       "</style>\n",
       "<table border=\"1\" class=\"dataframe\">\n",
       "  <thead>\n",
       "    <tr style=\"text-align: right;\">\n",
       "      <th></th>\n",
       "      <th>hour</th>\n",
       "      <th>pass</th>\n",
       "    </tr>\n",
       "  </thead>\n",
       "  <tbody>\n",
       "    <tr>\n",
       "      <th>0</th>\n",
       "      <td>0.5</td>\n",
       "      <td>0</td>\n",
       "    </tr>\n",
       "    <tr>\n",
       "      <th>1</th>\n",
       "      <td>1.2</td>\n",
       "      <td>0</td>\n",
       "    </tr>\n",
       "    <tr>\n",
       "      <th>2</th>\n",
       "      <td>1.8</td>\n",
       "      <td>0</td>\n",
       "    </tr>\n",
       "    <tr>\n",
       "      <th>3</th>\n",
       "      <td>2.4</td>\n",
       "      <td>0</td>\n",
       "    </tr>\n",
       "    <tr>\n",
       "      <th>4</th>\n",
       "      <td>2.6</td>\n",
       "      <td>0</td>\n",
       "    </tr>\n",
       "  </tbody>\n",
       "</table>\n",
       "</div>"
      ],
      "text/plain": [
       "   hour  pass\n",
       "0   0.5     0\n",
       "1   1.2     0\n",
       "2   1.8     0\n",
       "3   2.4     0\n",
       "4   2.6     0"
      ]
     },
     "execution_count": 1,
     "metadata": {},
     "output_type": "execute_result"
    }
   ],
   "source": [
    "import pandas as pd\n",
    "\n",
    "\n",
    "dataset = pd.read_csv(\"LogisticRegressionData.csv\")\n",
    "dataset.head()"
   ]
  },
  {
   "cell_type": "code",
   "execution_count": 131,
   "metadata": {},
   "outputs": [
    {
     "name": "stdout",
     "output_type": "stream",
     "text": [
      "{'A': 0, 'C': 0, 'N': 0, 'R': 0, 'J': 0, 'F': 0, 'T': 0, 'M': 0}\n",
      "{'A': 1, 'C': 1, 'N': 1, 'R': 0, 'J': 0, 'F': 0, 'T': 3, 'M': 2}\n",
      "TCMA\n"
     ]
    }
   ],
   "source": [
    "def solution(survey, choices):\n",
    "    answer = \"\"\n",
    "    types = []\n",
    "    # ==============\n",
    "    for i in survey:\n",
    "        types.append(i[0])\n",
    "        types.append(i[1])\n",
    "    \n",
    "    types = {key:0 for key in set(types)}\n",
    "    print(types)\n",
    "    # ==============\n",
    "    for i in range(0, len(survey)):\n",
    "        if choices[i] - 4 < 0:\n",
    "            types[survey[i][0]] += (abs(choices[i] - 4))\n",
    "        elif choices[i] - 4 > 0:\n",
    "            types[survey[i][1]] += (choices[i] - 4)\n",
    "    print(types)\n",
    "    # ==============\n",
    "    if types.get(\"R\") != None:\n",
    "        if types[\"T\"] == None:\n",
    "            answer += \"R\"\n",
    "        else:\n",
    "            if types[\"R\"] >= types[\"T\"]:\n",
    "                answer += \"R\"\n",
    "            elif types[\"R\"] < types[\"T\"]:\n",
    "                answer += \"T\"\n",
    "    else:\n",
    "        if types.get(\"T\") != None and types.get(\"T\") > 0:\n",
    "            answer += \"T\"\n",
    "        else:\n",
    "            answer += \"R\"\n",
    "    \n",
    "    if types.get(\"C\") != None:\n",
    "        if types[\"F\"] == None:\n",
    "            answer += \"C\"\n",
    "        else:\n",
    "            if types[\"C\"] >= types[\"F\"]:\n",
    "                answer += \"C\"\n",
    "            elif types[\"C\"] < types[\"F\"]:\n",
    "                answer += \"F\"\n",
    "    else:\n",
    "        if types.get(\"F\") != None and types.get(\"F\") > 0:\n",
    "            answer += \"F\"\n",
    "        else:\n",
    "            answer += \"C\"\n",
    "    \n",
    "    if types.get(\"J\") != None:\n",
    "        if types[\"M\"] == None:\n",
    "            answer += \"J\"\n",
    "        else:\n",
    "            if types[\"J\"] >= types[\"M\"]:\n",
    "                answer += \"J\"\n",
    "            elif types[\"J\"] < types[\"M\"]:\n",
    "                answer += \"M\"\n",
    "    else:\n",
    "        if types.get(\"M\") != None and types.get(\"M\") > 0:\n",
    "            answer += \"M\"\n",
    "        else:\n",
    "            answer += \"J\"\n",
    "    \n",
    "    if types.get(\"A\") != None:\n",
    "        if types[\"N\"] == None:\n",
    "            answer += \"A\"\n",
    "        else:\n",
    "            if types[\"A\"] >= types[\"N\"]:\n",
    "                answer += \"A\"\n",
    "            elif types[\"A\"] < types[\"N\"]:\n",
    "                answer += \"N\"\n",
    "    else:\n",
    "        if types.get(\"N\") != None and types.get(\"N\") > 0:\n",
    "            answer += \"N\"\n",
    "        else:\n",
    "            answer += \"A\"\n",
    "    # ==============\n",
    "    \n",
    "    return answer\n",
    "\n",
    "s = solution([\"AN\", \"CF\", \"MJ\", \"RT\", \"NA\"], [5, 3, 2, 7, 5])\n",
    "# s = solution([\"TR\", \"RT\", \"TR\"], [7, 1, 3])\n",
    "print(s)"
   ]
  },
  {
   "cell_type": "code",
   "execution_count": 105,
   "metadata": {},
   "outputs": [
    {
     "ename": "NameError",
     "evalue": "name 'answer' is not defined",
     "output_type": "error",
     "traceback": [
      "\u001b[0;31m---------------------------------------------------------------------------\u001b[0m",
      "\u001b[0;31mNameError\u001b[0m                                 Traceback (most recent call last)",
      "\u001b[0;32m/var/folders/0v/jgsvzrwn19qddwrlyh8yj77c0000gn/T/ipykernel_94529/1702431132.py\u001b[0m in \u001b[0;36m<module>\u001b[0;34m\u001b[0m\n\u001b[0;32m----> 1\u001b[0;31m \u001b[0manswer\u001b[0m\u001b[0;34m\u001b[0m\u001b[0;34m\u001b[0m\u001b[0m\n\u001b[0m",
      "\u001b[0;31mNameError\u001b[0m: name 'answer' is not defined"
     ]
    }
   ],
   "source": [
    "answer"
   ]
  },
  {
   "cell_type": "code",
   "execution_count": 117,
   "metadata": {},
   "outputs": [],
   "source": [
    "a = [\"AN\", \"CF\", \"MJ\", \"RT\", \"NA\"]\n",
    "b = {\"AN\":0, \"CF\":0, \"MJ\":0, \"RT\":0, \"NA\":0}\n",
    "c = \"\"\n",
    "if b.get(\"AN\") != None:\n",
    "    c = \"\".join(str(b[\"AN\"]))\n",
    "else:\n",
    "    print(\"no\")"
   ]
  },
  {
   "cell_type": "code",
   "execution_count": 118,
   "metadata": {},
   "outputs": [
    {
     "data": {
      "text/plain": [
       "'0'"
      ]
     },
     "execution_count": 118,
     "metadata": {},
     "output_type": "execute_result"
    }
   ],
   "source": [
    "c"
   ]
  },
  {
   "cell_type": "code",
   "execution_count": null,
   "metadata": {},
   "outputs": [],
   "source": []
  }
 ],
 "metadata": {
  "kernelspec": {
   "display_name": "Python 3.7.9 ('base')",
   "language": "python",
   "name": "python3"
  },
  "language_info": {
   "codemirror_mode": {
    "name": "ipython",
    "version": 3
   },
   "file_extension": ".py",
   "mimetype": "text/x-python",
   "name": "python",
   "nbconvert_exporter": "python",
   "pygments_lexer": "ipython3",
   "version": "3.7.9"
  },
  "orig_nbformat": 4,
  "vscode": {
   "interpreter": {
    "hash": "38cc0cca68228d4d18227abe74ed813685db17db46984279e4aabdddebf5f1ba"
   }
  }
 },
 "nbformat": 4,
 "nbformat_minor": 2
}
