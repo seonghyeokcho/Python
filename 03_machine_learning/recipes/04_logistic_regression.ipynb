{
 "cells": [
  {
   "cell_type": "markdown",
   "metadata": {},
   "source": [
    "## 4. Logistic Regression"
   ]
  },
  {
   "cell_type": "code",
   "execution_count": 1,
   "metadata": {},
   "outputs": [
    {
     "data": {
      "text/html": [
       "<div>\n",
       "<style scoped>\n",
       "    .dataframe tbody tr th:only-of-type {\n",
       "        vertical-align: middle;\n",
       "    }\n",
       "\n",
       "    .dataframe tbody tr th {\n",
       "        vertical-align: top;\n",
       "    }\n",
       "\n",
       "    .dataframe thead th {\n",
       "        text-align: right;\n",
       "    }\n",
       "</style>\n",
       "<table border=\"1\" class=\"dataframe\">\n",
       "  <thead>\n",
       "    <tr style=\"text-align: right;\">\n",
       "      <th></th>\n",
       "      <th>hour</th>\n",
       "      <th>pass</th>\n",
       "    </tr>\n",
       "  </thead>\n",
       "  <tbody>\n",
       "    <tr>\n",
       "      <th>0</th>\n",
       "      <td>0.5</td>\n",
       "      <td>0</td>\n",
       "    </tr>\n",
       "    <tr>\n",
       "      <th>1</th>\n",
       "      <td>1.2</td>\n",
       "      <td>0</td>\n",
       "    </tr>\n",
       "    <tr>\n",
       "      <th>2</th>\n",
       "      <td>1.8</td>\n",
       "      <td>0</td>\n",
       "    </tr>\n",
       "    <tr>\n",
       "      <th>3</th>\n",
       "      <td>2.4</td>\n",
       "      <td>0</td>\n",
       "    </tr>\n",
       "    <tr>\n",
       "      <th>4</th>\n",
       "      <td>2.6</td>\n",
       "      <td>0</td>\n",
       "    </tr>\n",
       "  </tbody>\n",
       "</table>\n",
       "</div>"
      ],
      "text/plain": [
       "   hour  pass\n",
       "0   0.5     0\n",
       "1   1.2     0\n",
       "2   1.8     0\n",
       "3   2.4     0\n",
       "4   2.6     0"
      ]
     },
     "execution_count": 1,
     "metadata": {},
     "output_type": "execute_result"
    }
   ],
   "source": [
    "import pandas as pd\n",
    "\n",
    "\n",
    "dataset = pd.read_csv(\"LogisticRegressionData.csv\")\n",
    "dataset.head()"
   ]
  },
  {
   "cell_type": "code",
   "execution_count": 17,
   "metadata": {},
   "outputs": [
    {
     "data": {
      "text/plain": [
       "{'muzi': 2}"
      ]
     },
     "execution_count": 17,
     "metadata": {},
     "output_type": "execute_result"
    }
   ],
   "source": [
    "report_dict = {\"muzi\":0}\n",
    "report_dict[\"muzi\"] = report_dict[\"muzi\"]+2\n",
    "report_dict"
   ]
  },
  {
   "cell_type": "code",
   "execution_count": 59,
   "metadata": {},
   "outputs": [
    {
     "data": {
      "text/plain": [
       "[2, 1, 1, 0]"
      ]
     },
     "execution_count": 59,
     "metadata": {},
     "output_type": "execute_result"
    }
   ],
   "source": [
    "def solution(id_list, report, k):\n",
    "    report_cnt_dict = {}\n",
    "    report_id_dict = {}\n",
    "    send_report_dict = {}\n",
    "    answer = []\n",
    "    \n",
    "    # 초기화\n",
    "    for i in id_list:\n",
    "        report_cnt_dict[i] = 0\n",
    "        report_id_dict[i] = \"\"\n",
    "        send_report_dict[i] = 0\n",
    "    \n",
    "    # 신고당한 횟수, 나를 신고한 id 추가\n",
    "    for i in id_list:\n",
    "        for j in report:\n",
    "            if i == j[:len(i)]:\n",
    "                if i in report_id_dict[j[len(i)+1:]]:\n",
    "                    continue\n",
    "                report_cnt_dict[j[len(i)+1:]] = report_cnt_dict[j[len(i)+1:]] + 1\n",
    "                report_id_dict[j[len(i)+1:]] = report_id_dict[j[len(i)+1:]] + i + \" \"\n",
    "                if report_cnt_dict[j[len(i)+1:]] == k:\n",
    "                    send_report_list = report_id_dict[j[len(i)+1:]].split()\n",
    "                    for i in send_report_list:\n",
    "                        send_report_dict[i] = send_report_dict[i] + 1\n",
    "                    break\n",
    "    \n",
    "    for i in id_list:\n",
    "        answer.append(send_report_dict[i])\n",
    "    \n",
    "    return answer\n",
    "\n",
    "solution([\"muzi\", \"frodo\", \"apeach\", \"neo\"],\n",
    "         [\"muzi frodo\",\"apeach frodo\",\"frodo neo\",\"muzi neo\",\"apeach muzi\", \"neo frodo\"],\n",
    "         2)\n",
    "# solution([\"con\", \"ryan\"],\n",
    "#          [\"ryan con\", \"ryan con\", \"ryan con\", \"ryan con\"],\n",
    "#          2)\n"
   ]
  },
  {
   "cell_type": "code",
   "execution_count": 27,
   "metadata": {},
   "outputs": [
    {
     "data": {
      "text/plain": [
       "2"
      ]
     },
     "execution_count": 27,
     "metadata": {},
     "output_type": "execute_result"
    }
   ],
   "source": [
    "list1 = [\"a\",\"a\",\"b\",\"b\",\"b\"]\n",
    "list1.count(\"a\")"
   ]
  },
  {
   "cell_type": "code",
   "execution_count": 30,
   "metadata": {},
   "outputs": [
    {
     "data": {
      "text/plain": [
       "'muzi'"
      ]
     },
     "execution_count": 30,
     "metadata": {},
     "output_type": "execute_result"
    }
   ],
   "source": [
    "a = \"muzi frodo\"\n",
    "a[:4]"
   ]
  },
  {
   "cell_type": "code",
   "execution_count": null,
   "metadata": {},
   "outputs": [],
   "source": []
  }
 ],
 "metadata": {
  "kernelspec": {
   "display_name": "Python 3.7.9 ('base')",
   "language": "python",
   "name": "python3"
  },
  "language_info": {
   "codemirror_mode": {
    "name": "ipython",
    "version": 3
   },
   "file_extension": ".py",
   "mimetype": "text/x-python",
   "name": "python",
   "nbconvert_exporter": "python",
   "pygments_lexer": "ipython3",
   "version": "3.7.9"
  },
  "orig_nbformat": 4,
  "vscode": {
   "interpreter": {
    "hash": "38cc0cca68228d4d18227abe74ed813685db17db46984279e4aabdddebf5f1ba"
   }
  }
 },
 "nbformat": 4,
 "nbformat_minor": 2
}
