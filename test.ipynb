{
 "cells": [
  {
   "cell_type": "code",
   "execution_count": 2,
   "metadata": {},
   "outputs": [],
   "source": [
    "import pandas as pd\n",
    "import numpy as np"
   ]
  },
  {
   "cell_type": "code",
   "execution_count": null,
   "metadata": {},
   "outputs": [],
   "source": [
    "from sklearn.preprocessing import LabelEncoder\n",
    "from sklearn.preprocessing import MinMaxScaler\n",
    "from sklearn.metrics import r2_score\n",
    "from tensorflow.keras.models import Sequential\n",
    "from tensorflow.keras.layers import LSTM, Dense"
   ]
  },
  {
   "cell_type": "code",
   "execution_count": 8,
   "metadata": {},
   "outputs": [
    {
     "data": {
      "text/html": [
       "<div>\n",
       "<style scoped>\n",
       "    .dataframe tbody tr th:only-of-type {\n",
       "        vertical-align: middle;\n",
       "    }\n",
       "\n",
       "    .dataframe tbody tr th {\n",
       "        vertical-align: top;\n",
       "    }\n",
       "\n",
       "    .dataframe thead th {\n",
       "        text-align: right;\n",
       "    }\n",
       "</style>\n",
       "<table border=\"1\" class=\"dataframe\">\n",
       "  <thead>\n",
       "    <tr style=\"text-align: right;\">\n",
       "      <th></th>\n",
       "      <th>거래금액(만원)</th>\n",
       "      <th>본번</th>\n",
       "      <th>부번</th>\n",
       "      <th>단지명</th>\n",
       "      <th>전용면적(㎡)</th>\n",
       "      <th>계약년월</th>\n",
       "      <th>층</th>\n",
       "      <th>건축년도</th>\n",
       "    </tr>\n",
       "  </thead>\n",
       "  <tbody>\n",
       "    <tr>\n",
       "      <th>0</th>\n",
       "      <td>60,000</td>\n",
       "      <td>655</td>\n",
       "      <td>2</td>\n",
       "      <td>개포2차현대아파트(220)</td>\n",
       "      <td>77.75</td>\n",
       "      <td>200606</td>\n",
       "      <td>4</td>\n",
       "      <td>1988</td>\n",
       "    </tr>\n",
       "    <tr>\n",
       "      <th>1</th>\n",
       "      <td>72,250</td>\n",
       "      <td>655</td>\n",
       "      <td>2</td>\n",
       "      <td>개포2차현대아파트(220)</td>\n",
       "      <td>77.75</td>\n",
       "      <td>200610</td>\n",
       "      <td>5</td>\n",
       "      <td>1988</td>\n",
       "    </tr>\n",
       "    <tr>\n",
       "      <th>2</th>\n",
       "      <td>73,500</td>\n",
       "      <td>655</td>\n",
       "      <td>2</td>\n",
       "      <td>개포2차현대아파트(220)</td>\n",
       "      <td>77.75</td>\n",
       "      <td>200610</td>\n",
       "      <td>8</td>\n",
       "      <td>1988</td>\n",
       "    </tr>\n",
       "    <tr>\n",
       "      <th>3</th>\n",
       "      <td>76,500</td>\n",
       "      <td>655</td>\n",
       "      <td>2</td>\n",
       "      <td>개포2차현대아파트(220)</td>\n",
       "      <td>77.75</td>\n",
       "      <td>200612</td>\n",
       "      <td>5</td>\n",
       "      <td>1988</td>\n",
       "    </tr>\n",
       "    <tr>\n",
       "      <th>4</th>\n",
       "      <td>88,000</td>\n",
       "      <td>658</td>\n",
       "      <td>1</td>\n",
       "      <td>개포6차우성아파트1동~8동</td>\n",
       "      <td>79.97</td>\n",
       "      <td>200605</td>\n",
       "      <td>3</td>\n",
       "      <td>1987</td>\n",
       "    </tr>\n",
       "  </tbody>\n",
       "</table>\n",
       "</div>"
      ],
      "text/plain": [
       "  거래금액(만원)   본번  부번             단지명  전용면적(㎡)    계약년월  층  건축년도\n",
       "0   60,000  655   2  개포2차현대아파트(220)    77.75  200606  4  1988\n",
       "1   72,250  655   2  개포2차현대아파트(220)    77.75  200610  5  1988\n",
       "2   73,500  655   2  개포2차현대아파트(220)    77.75  200610  8  1988\n",
       "3   76,500  655   2  개포2차현대아파트(220)    77.75  200612  5  1988\n",
       "4   88,000  658   1  개포6차우성아파트1동~8동    79.97  200605  3  1987"
      ]
     },
     "execution_count": 8,
     "metadata": {},
     "output_type": "execute_result"
    }
   ],
   "source": [
    "# Load data and select columns\n",
    "# path = 'C:/_data/'\n",
    "path = \"\"  # <- 지훈씨가 쓸 때는 이걸 주석처리하고 위에 껄 쓰시면 됩니다.\n",
    "ts = 1\n",
    "df = pd.read_csv(path + \"아파트(매매).csv\")\n",
    "\n",
    "df = df[[\"거래금액(만원)\",\"본번\", \"부번\", \"단지명\", \"전용면적(㎡)\", \"계약년월\",\"층\", \"건축년도\"]]\n",
    "df.head()"
   ]
  },
  {
   "cell_type": "code",
   "execution_count": 6,
   "metadata": {},
   "outputs": [
    {
     "data": {
      "text/html": [
       "<div>\n",
       "<style scoped>\n",
       "    .dataframe tbody tr th:only-of-type {\n",
       "        vertical-align: middle;\n",
       "    }\n",
       "\n",
       "    .dataframe tbody tr th {\n",
       "        vertical-align: top;\n",
       "    }\n",
       "\n",
       "    .dataframe thead th {\n",
       "        text-align: right;\n",
       "    }\n",
       "</style>\n",
       "<table border=\"1\" class=\"dataframe\">\n",
       "  <thead>\n",
       "    <tr style=\"text-align: right;\">\n",
       "      <th></th>\n",
       "      <th>거래금액(만원)</th>\n",
       "      <th>층</th>\n",
       "    </tr>\n",
       "  </thead>\n",
       "  <tbody>\n",
       "    <tr>\n",
       "      <th>0</th>\n",
       "      <td>60,000</td>\n",
       "      <td>4</td>\n",
       "    </tr>\n",
       "    <tr>\n",
       "      <th>1</th>\n",
       "      <td>72,250</td>\n",
       "      <td>5</td>\n",
       "    </tr>\n",
       "    <tr>\n",
       "      <th>2</th>\n",
       "      <td>73,500</td>\n",
       "      <td>8</td>\n",
       "    </tr>\n",
       "    <tr>\n",
       "      <th>3</th>\n",
       "      <td>76,500</td>\n",
       "      <td>5</td>\n",
       "    </tr>\n",
       "    <tr>\n",
       "      <th>4</th>\n",
       "      <td>88,000</td>\n",
       "      <td>3</td>\n",
       "    </tr>\n",
       "  </tbody>\n",
       "</table>\n",
       "</div>"
      ],
      "text/plain": [
       "  거래금액(만원)  층\n",
       "0   60,000  4\n",
       "1   72,250  5\n",
       "2   73,500  8\n",
       "3   76,500  5\n",
       "4   88,000  3"
      ]
     },
     "execution_count": 6,
     "metadata": {},
     "output_type": "execute_result"
    }
   ],
   "source": [
    "# df.drop('본번', axis=1)\n",
    "# df.drop('부번', axis=1)\n",
    "# df.drop('단지명', axis=1)\n",
    "# df.drop('전용면적(㎡)', axis=1)\n",
    "# df.drop('계약년월', axis=1)\n",
    "# df.drop('건축년도', axis=1)\n",
    "\n",
    "# 아래처럼 리스트로 전달하면 한 줄로 원하는 컬럼을 모두 드랍할 수 있습니다.\n",
    "# 그리고 drop() 함수는 디폴트 값이 inplace = False 이기 때문에,\n",
    "# df = df.drop('건축년도', axis=1) <- 이렇게 다시 df 에 할당 해주거나,\n",
    "# df.drop('건축년도', axis=1, inplace=True) <- inplace 파라미터에 True 값을 전달해서\n",
    "# df 라는 변수에 다시 재할당 하지 않도록 하는 방법이 있어요.\n",
    "df.drop(['본번','부번','단지명','전용면적(㎡)','계약년월','건축년도'], axis=1, inplace=True)\n",
    "df.head()"
   ]
  },
  {
   "cell_type": "code",
   "execution_count": null,
   "metadata": {},
   "outputs": [],
   "source": [
    "# Fit label encoders to categorical columns\n",
    "label_encoders = {}\n",
    "for col in df.select_dtypes(include=['object']):\n",
    "    le = LabelEncoder()\n",
    "    df[col] = le.fit_transform(df[col])\n",
    "    label_encoders[col] = le"
   ]
  },
  {
   "cell_type": "code",
   "execution_count": null,
   "metadata": {},
   "outputs": [],
   "source": [
    "# Print label mappings for each column\n",
    "for col, le in label_encoders.items():\n",
    "    print(col, dict(zip(le.classes_, le.transform(le.classes_))))"
   ]
  },
  {
   "cell_type": "code",
   "execution_count": null,
   "metadata": {},
   "outputs": [],
   "source": [
    "# Split data into train and test sets\n",
    "train_size = int(len(df) * 0.8)\n",
    "train_data = df.iloc[:train_size]\n",
    "test_data = df.iloc[train_size:]"
   ]
  },
  {
   "cell_type": "code",
   "execution_count": null,
   "metadata": {},
   "outputs": [],
   "source": [
    "# Scale data using MinMaxScaler\n",
    "scaler = MinMaxScaler()\n",
    "train_data = scaler.fit_transform(train_data)\n",
    "test_data = scaler.transform(test_data)"
   ]
  },
  {
   "cell_type": "code",
   "execution_count": null,
   "metadata": {},
   "outputs": [],
   "source": [
    "# Prepare data for LSTM model\n",
    "def prepare_data(data, time_steps=1):\n",
    "    X, Y = [], []\n",
    "    for i in range(len(data) - time_steps):\n",
    "        a = data[i:(i + time_steps), :]\n",
    "        X.append(a)\n",
    "        Y.append(data[i + time_steps, 0])\n",
    "    return np.array(X), np.array(Y)"
   ]
  },
  {
   "cell_type": "code",
   "execution_count": null,
   "metadata": {},
   "outputs": [],
   "source": [
    "train_X, train_Y = prepare_data(train_data)\n",
    "test_X, test_Y = prepare_data(test_data)"
   ]
  },
  {
   "cell_type": "code",
   "execution_count": null,
   "metadata": {},
   "outputs": [],
   "source": [
    "# Build LSTM model\n",
    "model = Sequential()\n",
    "model.add(LSTM(10, input_shape=(ts,train_X.shape[2])))\n",
    "model.add(Dense(1))\n",
    "model.compile(loss='mse', optimizer='adam')"
   ]
  },
  {
   "cell_type": "code",
   "execution_count": null,
   "metadata": {},
   "outputs": [],
   "source": [
    "# Train LSTM model\n",
    "model.fit(train_X, train_Y, epochs=200, batch_size=5, verbose=2)"
   ]
  },
  {
   "cell_type": "code",
   "execution_count": null,
   "metadata": {},
   "outputs": [],
   "source": [
    "# Evaluate LSTM model\n",
    "loss, accuracy = model.evaluate(test_X, test_Y, verbose=0)\n",
    "# print('mse', mse)  # 이건 loss 를 보고 싶으섰던 건가요?\n",
    "print(\"mse:\", loss)\n",
    "print('Test accuracy:', accuracy)"
   ]
  },
  {
   "cell_type": "code",
   "execution_count": null,
   "metadata": {},
   "outputs": [],
   "source": [
    "y_pred = model.predict(test_X)\n",
    "r2 = r2_score(test_Y, y_pred)\n",
    "print('r2 score:', r2)"
   ]
  }
 ],
 "metadata": {
  "kernelspec": {
   "display_name": "base",
   "language": "python",
   "name": "python3"
  },
  "language_info": {
   "codemirror_mode": {
    "name": "ipython",
    "version": 3
   },
   "file_extension": ".py",
   "mimetype": "text/x-python",
   "name": "python",
   "nbconvert_exporter": "python",
   "pygments_lexer": "ipython3",
   "version": "3.8.16"
  },
  "orig_nbformat": 4
 },
 "nbformat": 4,
 "nbformat_minor": 2
}
