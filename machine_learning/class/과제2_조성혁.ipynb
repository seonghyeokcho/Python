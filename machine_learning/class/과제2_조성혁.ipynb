{
 "cells": [
  {
   "cell_type": "code",
   "execution_count": 1,
   "metadata": {},
   "outputs": [],
   "source": [
    "import pandas as pd\n",
    "import numpy as np\n",
    "from sklearn.model_selection import train_test_split\n",
    "from sklearn.model_selection import KFold\n",
    "from sklearn.model_selection import cross_val_score"
   ]
  },
  {
   "cell_type": "code",
   "execution_count": 2,
   "metadata": {},
   "outputs": [
    {
     "data": {
      "text/plain": [
       "(600, 12)"
      ]
     },
     "execution_count": 2,
     "metadata": {},
     "output_type": "execute_result"
    }
   ],
   "source": [
    "df = pd.read_csv(\"data_pepTestCustomers.csv\", encoding='utf-8')\n",
    "df.shape"
   ]
  },
  {
   "cell_type": "code",
   "execution_count": 3,
   "metadata": {},
   "outputs": [
    {
     "data": {
      "text/html": [
       "<div>\n",
       "<style scoped>\n",
       "    .dataframe tbody tr th:only-of-type {\n",
       "        vertical-align: middle;\n",
       "    }\n",
       "\n",
       "    .dataframe tbody tr th {\n",
       "        vertical-align: top;\n",
       "    }\n",
       "\n",
       "    .dataframe thead th {\n",
       "        text-align: right;\n",
       "    }\n",
       "</style>\n",
       "<table border=\"1\" class=\"dataframe\">\n",
       "  <thead>\n",
       "    <tr style=\"text-align: right;\">\n",
       "      <th></th>\n",
       "      <th>id</th>\n",
       "      <th>age</th>\n",
       "      <th>sex</th>\n",
       "      <th>region</th>\n",
       "      <th>income</th>\n",
       "      <th>married</th>\n",
       "      <th>children</th>\n",
       "      <th>car</th>\n",
       "      <th>save_act</th>\n",
       "      <th>current_act</th>\n",
       "      <th>mortgage</th>\n",
       "    </tr>\n",
       "  </thead>\n",
       "  <tbody>\n",
       "    <tr>\n",
       "      <th>0</th>\n",
       "      <td>ID12701</td>\n",
       "      <td>23</td>\n",
       "      <td>1</td>\n",
       "      <td>0</td>\n",
       "      <td>18766.90</td>\n",
       "      <td>1</td>\n",
       "      <td>0</td>\n",
       "      <td>1</td>\n",
       "      <td>1</td>\n",
       "      <td>0</td>\n",
       "      <td>1</td>\n",
       "    </tr>\n",
       "    <tr>\n",
       "      <th>1</th>\n",
       "      <td>ID12702</td>\n",
       "      <td>30</td>\n",
       "      <td>1</td>\n",
       "      <td>1</td>\n",
       "      <td>9915.67</td>\n",
       "      <td>0</td>\n",
       "      <td>1</td>\n",
       "      <td>0</td>\n",
       "      <td>1</td>\n",
       "      <td>0</td>\n",
       "      <td>1</td>\n",
       "    </tr>\n",
       "    <tr>\n",
       "      <th>2</th>\n",
       "      <td>ID12703</td>\n",
       "      <td>45</td>\n",
       "      <td>0</td>\n",
       "      <td>1</td>\n",
       "      <td>21881.60</td>\n",
       "      <td>0</td>\n",
       "      <td>0</td>\n",
       "      <td>1</td>\n",
       "      <td>1</td>\n",
       "      <td>1</td>\n",
       "      <td>0</td>\n",
       "    </tr>\n",
       "    <tr>\n",
       "      <th>3</th>\n",
       "      <td>ID12704</td>\n",
       "      <td>50</td>\n",
       "      <td>1</td>\n",
       "      <td>3</td>\n",
       "      <td>46794.40</td>\n",
       "      <td>1</td>\n",
       "      <td>2</td>\n",
       "      <td>0</td>\n",
       "      <td>1</td>\n",
       "      <td>0</td>\n",
       "      <td>1</td>\n",
       "    </tr>\n",
       "    <tr>\n",
       "      <th>4</th>\n",
       "      <td>ID12705</td>\n",
       "      <td>41</td>\n",
       "      <td>0</td>\n",
       "      <td>0</td>\n",
       "      <td>20721.10</td>\n",
       "      <td>1</td>\n",
       "      <td>0</td>\n",
       "      <td>1</td>\n",
       "      <td>1</td>\n",
       "      <td>1</td>\n",
       "      <td>0</td>\n",
       "    </tr>\n",
       "  </tbody>\n",
       "</table>\n",
       "</div>"
      ],
      "text/plain": [
       "        id  age  sex  region    income  married  children  car  save_act  \\\n",
       "0  ID12701   23    1       0  18766.90        1         0    1         1   \n",
       "1  ID12702   30    1       1   9915.67        0         1    0         1   \n",
       "2  ID12703   45    0       1  21881.60        0         0    1         1   \n",
       "3  ID12704   50    1       3  46794.40        1         2    0         1   \n",
       "4  ID12705   41    0       0  20721.10        1         0    1         1   \n",
       "\n",
       "   current_act  mortgage  \n",
       "0            0         1  \n",
       "1            0         1  \n",
       "2            1         0  \n",
       "3            0         1  \n",
       "4            1         0  "
      ]
     },
     "execution_count": 3,
     "metadata": {},
     "output_type": "execute_result"
    }
   ],
   "source": [
    "new = pd.read_csv(\"data_pepNewCustomers.csv\", encoding='utf-8')\n",
    "new.head()"
   ]
  },
  {
   "cell_type": "code",
   "execution_count": 4,
   "metadata": {},
   "outputs": [],
   "source": [
    "mdf = df.copy()\n",
    "mdf.age.fillna(round(mdf.age.mean(),0), inplace=True)\n",
    "mdf['realincome'] = np.where(mdf['children']==0, mdf['income'], mdf['income']/mdf['children'])"
   ]
  },
  {
   "cell_type": "code",
   "execution_count": 5,
   "metadata": {},
   "outputs": [],
   "source": [
    "# 알고리즘's\n",
    "from sklearn.svm import SVC\n",
    "from sklearn.linear_model import LogisticRegression\n",
    "from sklearn.neighbors import KNeighborsClassifier\n",
    "from sklearn.tree import DecisionTreeClassifier\n",
    "from sklearn.neural_network import MLPClassifier\n",
    "from sklearn.ensemble import RandomForestClassifier\n",
    "from sklearn.ensemble import GradientBoostingClassifier\n",
    "from sklearn.svm import LinearSVC\n",
    "\n",
    "svm = SVC()\n",
    "kNN = KNeighborsClassifier()\n",
    "LoR = LogisticRegression()\n",
    "DTC = DecisionTreeClassifier()\n",
    "NNw = MLPClassifier()\n",
    "RFC = RandomForestClassifier()\n",
    "GBC = GradientBoostingClassifier()\n",
    "LSV = LinearSVC()"
   ]
  },
  {
   "cell_type": "code",
   "execution_count": 6,
   "metadata": {},
   "outputs": [],
   "source": [
    "# 입력 데이터,레이블 데이터로 분리\n",
    "dfX = mdf.drop(['id','car','pep'], axis=1)\n",
    "dfy = mdf['pep']"
   ]
  },
  {
   "cell_type": "code",
   "execution_count": 7,
   "metadata": {},
   "outputs": [],
   "source": [
    "# 학습 데이터,입력 데이터로 분리\n",
    "X_train, X_test, y_train, y_test = train_test_split(dfX, dfy, test_size=0.24, random_state=0, shuffle=True)"
   ]
  },
  {
   "cell_type": "markdown",
   "metadata": {},
   "source": [
    "# 각 알고리즘마다 크로스 밸리데이션 적용하기"
   ]
  },
  {
   "cell_type": "markdown",
   "metadata": {},
   "source": [
    "## 모델 : SVM"
   ]
  },
  {
   "cell_type": "code",
   "execution_count": 8,
   "metadata": {},
   "outputs": [
    {
     "name": "stdout",
     "output_type": "stream",
     "text": [
      "크로스 밸리데이션 결과 = [0.5        0.7173913  0.56521739 0.65217391 0.67391304 0.63043478\n",
      " 0.77777778 0.68888889 0.68888889 0.75555556]\n",
      "Mean: 0.665\n",
      "Std: 0.080\n",
      "Min: 0.500\n",
      "Max: 0.778\n"
     ]
    }
   ],
   "source": [
    "kfold_cv = KFold(n_splits=10, shuffle=True)\n",
    "scores = cross_val_score(svm, X_train, y_train, cv=10)\n",
    "print(\"크로스 밸리데이션 결과 =\", scores)\n",
    "print(\"Mean: {:.3f}\\nStd: {:.3f}\\nMin: {:.3f}\\nMax: {:.3f}\".format(\n",
    "    scores.mean(), scores.std(), scores.min(), scores.max()))"
   ]
  },
  {
   "cell_type": "code",
   "execution_count": 9,
   "metadata": {},
   "outputs": [
    {
     "name": "stdout",
     "output_type": "stream",
     "text": [
      "크로스 밸리데이션 결과 = [0.8        0.53333333 0.53333333 0.53333333 0.57142857 0.71428571\n",
      " 0.64285714 0.71428571 0.5        0.57142857]\n",
      "Mean: 0.611\n",
      "Std: 0.096\n",
      "Min: 0.500\n",
      "Max: 0.800\n"
     ]
    }
   ],
   "source": [
    "kfold_cv = KFold(n_splits=10, shuffle=True)\n",
    "scores = cross_val_score(svm, X_test, y_test, cv=kfold_cv)\n",
    "print(\"크로스 밸리데이션 결과 =\", scores)\n",
    "print(\"Mean: {:.3f}\\nStd: {:.3f}\\nMin: {:.3f}\\nMax: {:.3f}\".format(\n",
    "    scores.mean(), scores.std(), scores.min(), scores.max()))"
   ]
  },
  {
   "cell_type": "markdown",
   "metadata": {},
   "source": [
    "## 모델 : decision trees"
   ]
  },
  {
   "cell_type": "code",
   "execution_count": 10,
   "metadata": {},
   "outputs": [
    {
     "name": "stdout",
     "output_type": "stream",
     "text": [
      "크로스 밸리데이션 결과 = [0.86956522 0.86956522 0.73913043 0.80434783 0.7173913  0.80434783\n",
      " 0.86666667 0.82222222 0.88888889 0.8       ]\n",
      "Mean: 0.818\n",
      "Std: 0.055\n",
      "Min: 0.717\n",
      "Max: 0.889\n"
     ]
    }
   ],
   "source": [
    "kfold_cv = KFold(n_splits=10, shuffle=True)\n",
    "scores = cross_val_score(DTC, X_train, y_train, cv=kfold_cv)\n",
    "print(\"크로스 밸리데이션 결과 =\", scores)\n",
    "print(\"Mean: {:.3f}\\nStd: {:.3f}\\nMin: {:.3f}\\nMax: {:.3f}\".format(\n",
    "    scores.mean(), scores.std(), scores.min(), scores.max()))"
   ]
  },
  {
   "cell_type": "code",
   "execution_count": 11,
   "metadata": {},
   "outputs": [
    {
     "name": "stdout",
     "output_type": "stream",
     "text": [
      "크로스 밸리데이션 결과 = [0.73333333 1.         0.73333333 0.66666667 0.71428571 0.71428571\n",
      " 0.92857143 0.64285714 0.85714286 0.71428571]\n",
      "Mean: 0.770\n",
      "Std: 0.112\n",
      "Min: 0.643\n",
      "Max: 1.000\n"
     ]
    }
   ],
   "source": [
    "kfold_cv = KFold(n_splits=10, shuffle=True)\n",
    "scores = cross_val_score(DTC, X_test, y_test, cv=kfold_cv)\n",
    "print(\"크로스 밸리데이션 결과 =\", scores)\n",
    "print(\"Mean: {:.3f}\\nStd: {:.3f}\\nMin: {:.3f}\\nMax: {:.3f}\".format(\n",
    "    scores.mean(), scores.std(), scores.min(), scores.max()))"
   ]
  },
  {
   "cell_type": "markdown",
   "metadata": {},
   "source": [
    "## 모델 : k-NN"
   ]
  },
  {
   "cell_type": "code",
   "execution_count": 12,
   "metadata": {},
   "outputs": [
    {
     "name": "stdout",
     "output_type": "stream",
     "text": [
      "크로스 밸리데이션 결과 = [0.63043478 0.65217391 0.60869565 0.69565217 0.63043478 0.65217391\n",
      " 0.66666667 0.46666667 0.66666667 0.8       ]\n",
      "Mean: 0.647\n",
      "Std: 0.078\n",
      "Min: 0.467\n",
      "Max: 0.800\n"
     ]
    }
   ],
   "source": [
    "kfold_cv = KFold(n_splits=10, shuffle=True)\n",
    "scores = cross_val_score(kNN, X_train, y_train, cv=kfold_cv)\n",
    "print(\"크로스 밸리데이션 결과 =\", scores)\n",
    "print(\"Mean: {:.3f}\\nStd: {:.3f}\\nMin: {:.3f}\\nMax: {:.3f}\".format(\n",
    "    scores.mean(), scores.std(), scores.min(), scores.max()))"
   ]
  },
  {
   "cell_type": "code",
   "execution_count": 13,
   "metadata": {},
   "outputs": [
    {
     "name": "stdout",
     "output_type": "stream",
     "text": [
      "크로스 밸리데이션 결과 = [0.73333333 0.46666667 0.66666667 0.6        0.42857143 0.5\n",
      " 0.64285714 0.64285714 0.71428571 0.78571429]\n",
      "Mean: 0.618\n",
      "Std: 0.113\n",
      "Min: 0.429\n",
      "Max: 0.786\n"
     ]
    }
   ],
   "source": [
    "kfold_cv = KFold(n_splits=10, shuffle=True)\n",
    "scores = cross_val_score(kNN, X_test, y_test, cv=kfold_cv)\n",
    "print(\"크로스 밸리데이션 결과 =\", scores)\n",
    "print(\"Mean: {:.3f}\\nStd: {:.3f}\\nMin: {:.3f}\\nMax: {:.3f}\".format(\n",
    "    scores.mean(), scores.std(), scores.min(), scores.max()))"
   ]
  },
  {
   "cell_type": "markdown",
   "metadata": {},
   "source": [
    "## 모델 : LogisticRegression"
   ]
  },
  {
   "cell_type": "code",
   "execution_count": 14,
   "metadata": {},
   "outputs": [
    {
     "name": "stdout",
     "output_type": "stream",
     "text": [
      "크로스 밸리데이션 결과 = [0.47826087 0.69565217 0.67391304 0.52173913 0.60869565 0.63043478\n",
      " 0.75555556 0.46666667 0.6        0.48888889]\n",
      "Mean: 0.592\n",
      "Std: 0.095\n",
      "Min: 0.467\n",
      "Max: 0.756\n"
     ]
    }
   ],
   "source": [
    "kfold_cv = KFold(n_splits=10, shuffle=True)\n",
    "scores = cross_val_score(LoR, X_train, y_train, cv=kfold_cv)\n",
    "print(\"크로스 밸리데이션 결과 =\", scores)\n",
    "print(\"Mean: {:.3f}\\nStd: {:.3f}\\nMin: {:.3f}\\nMax: {:.3f}\".format(\n",
    "    scores.mean(), scores.std(), scores.min(), scores.max()))"
   ]
  },
  {
   "cell_type": "code",
   "execution_count": 15,
   "metadata": {},
   "outputs": [
    {
     "name": "stdout",
     "output_type": "stream",
     "text": [
      "크로스 밸리데이션 결과 = [0.46666667 0.53333333 0.46666667 0.4        0.57142857 0.42857143\n",
      " 0.64285714 0.64285714 0.21428571 0.35714286]\n",
      "Mean: 0.472\n",
      "Std: 0.126\n",
      "Min: 0.214\n",
      "Max: 0.643\n"
     ]
    }
   ],
   "source": [
    "kfold_cv = KFold(n_splits=10, shuffle=True)\n",
    "scores = cross_val_score(LoR, X_test, y_test, cv=kfold_cv)\n",
    "print(\"크로스 밸리데이션 결과 =\", scores)\n",
    "print(\"Mean: {:.3f}\\nStd: {:.3f}\\nMin: {:.3f}\\nMax: {:.3f}\".format(\n",
    "    scores.mean(), scores.std(), scores.min(), scores.max()))"
   ]
  },
  {
   "cell_type": "markdown",
   "metadata": {},
   "source": [
    "## 모델 : Neural Network"
   ]
  },
  {
   "cell_type": "code",
   "execution_count": 16,
   "metadata": {},
   "outputs": [
    {
     "name": "stdout",
     "output_type": "stream",
     "text": [
      "크로스 밸리데이션 결과 = [0.52173913 0.39130435 0.41304348 0.65217391 0.47826087 0.7173913\n",
      " 0.48888889 0.55555556 0.57777778 0.48888889]\n",
      "Mean: 0.529\n",
      "Std: 0.096\n",
      "Min: 0.391\n",
      "Max: 0.717\n"
     ]
    }
   ],
   "source": [
    "kfold_cv = KFold(n_splits=10, shuffle=True)\n",
    "scores = cross_val_score(NNw, X_train, y_train, cv=kfold_cv)\n",
    "print(\"크로스 밸리데이션 결과 =\", scores)\n",
    "print(\"Mean: {:.3f}\\nStd: {:.3f}\\nMin: {:.3f}\\nMax: {:.3f}\".format(\n",
    "    scores.mean(), scores.std(), scores.min(), scores.max()))"
   ]
  },
  {
   "cell_type": "code",
   "execution_count": 17,
   "metadata": {},
   "outputs": [
    {
     "name": "stdout",
     "output_type": "stream",
     "text": [
      "크로스 밸리데이션 결과 = [0.46666667 0.53333333 0.4        0.66666667 0.5        0.35714286\n",
      " 0.64285714 0.57142857 0.5        0.64285714]\n",
      "Mean: 0.528\n",
      "Std: 0.099\n",
      "Min: 0.357\n",
      "Max: 0.667\n"
     ]
    }
   ],
   "source": [
    "kfold_cv = KFold(n_splits=10, shuffle=True)\n",
    "scores = cross_val_score(NNw, X_test, y_test, cv=kfold_cv)\n",
    "print(\"크로스 밸리데이션 결과 =\", scores)\n",
    "print(\"Mean: {:.3f}\\nStd: {:.3f}\\nMin: {:.3f}\\nMax: {:.3f}\".format(\n",
    "    scores.mean(), scores.std(), scores.min(), scores.max()))"
   ]
  },
  {
   "cell_type": "markdown",
   "metadata": {},
   "source": [
    "## 모델 : RandomForest"
   ]
  },
  {
   "cell_type": "code",
   "execution_count": 29,
   "metadata": {},
   "outputs": [
    {
     "name": "stdout",
     "output_type": "stream",
     "text": [
      "크로스 밸리데이션 결과 = [0.89130435 0.95652174 0.89130435 0.89130435 0.86956522 0.86956522\n",
      " 0.93333333 0.75555556 0.86666667 0.8       ]\n",
      "Mean: 0.873\n",
      "Std: 0.056\n",
      "Min: 0.756\n",
      "Max: 0.957\n"
     ]
    }
   ],
   "source": [
    "kfold_cv = KFold(n_splits=10, shuffle=True)\n",
    "scores = cross_val_score(RFC, X_train, y_train, cv=kfold_cv)\n",
    "print(\"크로스 밸리데이션 결과 =\", scores)\n",
    "print(\"Mean: {:.3f}\\nStd: {:.3f}\\nMin: {:.3f}\\nMax: {:.3f}\".format(\n",
    "    scores.mean(), scores.std(), scores.min(), scores.max()))"
   ]
  },
  {
   "cell_type": "code",
   "execution_count": 31,
   "metadata": {},
   "outputs": [
    {
     "name": "stdout",
     "output_type": "stream",
     "text": [
      "크로스 밸리데이션 결과 = [0.73333333 0.86666667 0.6        1.         0.71428571 0.85714286\n",
      " 0.85714286 0.85714286 0.78571429 0.78571429]\n",
      "Mean: 0.806\n",
      "Std: 0.103\n",
      "Min: 0.600\n",
      "Max: 1.000\n"
     ]
    }
   ],
   "source": [
    "kfold_cv = KFold(n_splits=10, shuffle=True)\n",
    "scores = cross_val_score(RFC, X_test, y_test, cv=kfold_cv)\n",
    "print(\"크로스 밸리데이션 결과 =\", scores)\n",
    "print(\"Mean: {:.3f}\\nStd: {:.3f}\\nMin: {:.3f}\\nMax: {:.3f}\".format(\n",
    "    scores.mean(), scores.std(), scores.min(), scores.max()))"
   ]
  },
  {
   "cell_type": "markdown",
   "metadata": {},
   "source": [
    "## 모델 : Gradient Boosting"
   ]
  },
  {
   "cell_type": "code",
   "execution_count": 28,
   "metadata": {},
   "outputs": [
    {
     "name": "stdout",
     "output_type": "stream",
     "text": [
      "크로스 밸리데이션 결과 = [0.93478261 0.86956522 0.93478261 0.93478261 0.84782609 0.91304348\n",
      " 0.86666667 0.84444444 0.82222222 0.88888889]\n",
      "Mean: 0.886\n",
      "Std: 0.040\n",
      "Min: 0.822\n",
      "Max: 0.935\n"
     ]
    }
   ],
   "source": [
    "kfold_cv = KFold(n_splits=10, shuffle=True)\n",
    "scores = cross_val_score(GBC, X_train, y_train, cv=kfold_cv)\n",
    "print(\"크로스 밸리데이션 결과 =\", scores)\n",
    "print(\"Mean: {:.3f}\\nStd: {:.3f}\\nMin: {:.3f}\\nMax: {:.3f}\".format(\n",
    "    scores.mean(), scores.std(), scores.min(), scores.max()))"
   ]
  },
  {
   "cell_type": "code",
   "execution_count": 27,
   "metadata": {},
   "outputs": [
    {
     "name": "stdout",
     "output_type": "stream",
     "text": [
      "크로스 밸리데이션 결과 = [0.8        0.73333333 0.86666667 0.8        0.71428571 0.85714286\n",
      " 1.         0.78571429 0.78571429 0.78571429]\n",
      "Mean: 0.813\n",
      "Std: 0.076\n",
      "Min: 0.714\n",
      "Max: 1.000\n"
     ]
    }
   ],
   "source": [
    "kfold_cv = KFold(n_splits=10, shuffle=True)\n",
    "scores = cross_val_score(GBC, X_test, y_test, cv=kfold_cv)\n",
    "print(\"크로스 밸리데이션 결과 =\", scores)\n",
    "print(\"Mean: {:.3f}\\nStd: {:.3f}\\nMin: {:.3f}\\nMax: {:.3f}\".format(\n",
    "    scores.mean(), scores.std(), scores.min(), scores.max()))"
   ]
  },
  {
   "cell_type": "markdown",
   "metadata": {},
   "source": [
    "# LOOCV(Leave-One-Out Cross-Validation) 적용하기"
   ]
  },
  {
   "cell_type": "code",
   "execution_count": 36,
   "metadata": {},
   "outputs": [],
   "source": [
    "from sklearn.model_selection import LeaveOneOut"
   ]
  },
  {
   "cell_type": "code",
   "execution_count": 37,
   "metadata": {},
   "outputs": [
    {
     "data": {
      "text/plain": [
       "0.8903508771929824"
      ]
     },
     "execution_count": 37,
     "metadata": {},
     "output_type": "execute_result"
    }
   ],
   "source": [
    "# Gradient Boosting\n",
    "scores = cross_val_score(GBC, X_train, y_train, cv=LeaveOneOut())\n",
    "scores.mean()"
   ]
  },
  {
   "cell_type": "code",
   "execution_count": 38,
   "metadata": {},
   "outputs": [
    {
     "data": {
      "text/plain": [
       "0.5328947368421053"
      ]
     },
     "execution_count": 38,
     "metadata": {},
     "output_type": "execute_result"
    }
   ],
   "source": [
    "# Neural Network\n",
    "scores = cross_val_score(NNw, X_train, y_train, cv=LeaveOneOut())\n",
    "scores.mean()"
   ]
  },
  {
   "cell_type": "code",
   "execution_count": 39,
   "metadata": {},
   "outputs": [
    {
     "data": {
      "text/plain": [
       "0.6425438596491229"
      ]
     },
     "execution_count": 39,
     "metadata": {},
     "output_type": "execute_result"
    }
   ],
   "source": [
    "# k-NN\n",
    "scores = cross_val_score(kNN, X_train, y_train, cv=LeaveOneOut())\n",
    "scores.mean()"
   ]
  },
  {
   "cell_type": "code",
   "execution_count": 40,
   "metadata": {},
   "outputs": [
    {
     "data": {
      "text/plain": [
       "0.8377192982456141"
      ]
     },
     "execution_count": 40,
     "metadata": {},
     "output_type": "execute_result"
    }
   ],
   "source": [
    "# decision trees\n",
    "scores = cross_val_score(DTC, X_train, y_train, cv=LeaveOneOut())\n",
    "scores.mean()"
   ]
  },
  {
   "cell_type": "markdown",
   "metadata": {},
   "source": [
    "# Shuffle-Split Cross-Validation 적용하기"
   ]
  },
  {
   "cell_type": "code",
   "execution_count": 29,
   "metadata": {},
   "outputs": [],
   "source": [
    "from sklearn.model_selection import ShuffleSplit"
   ]
  },
  {
   "cell_type": "code",
   "execution_count": 30,
   "metadata": {},
   "outputs": [
    {
     "data": {
      "text/plain": [
       "0.8802919708029198"
      ]
     },
     "execution_count": 30,
     "metadata": {},
     "output_type": "execute_result"
    }
   ],
   "source": [
    "# Gradient Boosting\n",
    "sscv = ShuffleSplit(test_size=.3, train_size=.7, n_splits=10)\n",
    "scores = cross_val_score(GBC, X_train, y_train, cv=sscv)\n",
    "scores.mean()"
   ]
  },
  {
   "cell_type": "code",
   "execution_count": 32,
   "metadata": {},
   "outputs": [
    {
     "data": {
      "text/plain": [
       "0.5102189781021899"
      ]
     },
     "execution_count": 32,
     "metadata": {},
     "output_type": "execute_result"
    }
   ],
   "source": [
    "# Neural Network\n",
    "sscv = ShuffleSplit(test_size=.3, train_size=.7, n_splits=10)\n",
    "scores = cross_val_score(NNw, X_train, y_train, cv=sscv)\n",
    "scores.mean()"
   ]
  },
  {
   "cell_type": "code",
   "execution_count": 33,
   "metadata": {},
   "outputs": [
    {
     "data": {
      "text/plain": [
       "0.6605839416058394"
      ]
     },
     "execution_count": 33,
     "metadata": {},
     "output_type": "execute_result"
    }
   ],
   "source": [
    "# k-NN\n",
    "sscv = ShuffleSplit(test_size=.3, train_size=.7, n_splits=10)\n",
    "scores = cross_val_score(kNN, X_train, y_train, cv=sscv)\n",
    "scores.mean()"
   ]
  },
  {
   "cell_type": "code",
   "execution_count": 34,
   "metadata": {},
   "outputs": [
    {
     "data": {
      "text/plain": [
       "0.7941605839416059"
      ]
     },
     "execution_count": 34,
     "metadata": {},
     "output_type": "execute_result"
    }
   ],
   "source": [
    "# decision trees\n",
    "sscv = ShuffleSplit(test_size=.3, train_size=.7, n_splits=10)\n",
    "scores = cross_val_score(DTC, X_train, y_train, cv=sscv)\n",
    "scores.mean()"
   ]
  },
  {
   "cell_type": "markdown",
   "metadata": {},
   "source": [
    "# 그리드 서치 적용하기"
   ]
  },
  {
   "cell_type": "code",
   "execution_count": 35,
   "metadata": {},
   "outputs": [],
   "source": [
    "# 알고리즘's\n",
    "from sklearn.svm import SVC\n",
    "from sklearn.linear_model import LogisticRegression\n",
    "from sklearn.neighbors import KNeighborsClassifier\n",
    "from sklearn.tree import DecisionTreeClassifier\n",
    "from sklearn.neural_network import MLPClassifier\n",
    "from sklearn.ensemble import RandomForestClassifier\n",
    "from sklearn.ensemble import GradientBoostingClassifier\n",
    "from sklearn.svm import LinearSVC\n",
    "\n",
    "svm = SVC()\n",
    "kNN = KNeighborsClassifier()\n",
    "LoR = LogisticRegression()\n",
    "DTC = DecisionTreeClassifier()\n",
    "NNw = MLPClassifier()\n",
    "RFC = RandomForestClassifier()\n",
    "GBC = GradientBoostingClassifier()\n",
    "LSV = LinearSVC()"
   ]
  },
  {
   "cell_type": "code",
   "execution_count": 41,
   "metadata": {},
   "outputs": [],
   "source": [
    "from sklearn.model_selection import GridSearchCV"
   ]
  },
  {
   "cell_type": "code",
   "execution_count": 42,
   "metadata": {},
   "outputs": [],
   "source": [
    "param_grid = {'n_neighbors': range(1,5),\n",
    "              'weights': ['uniform','distance']}"
   ]
  },
  {
   "cell_type": "code",
   "execution_count": 45,
   "metadata": {},
   "outputs": [
    {
     "data": {
      "text/plain": [
       "(0.6736111111111112, 0.7083333333333334)"
      ]
     },
     "execution_count": 45,
     "metadata": {},
     "output_type": "execute_result"
    }
   ],
   "source": [
    "# KNeighborsClassifier\n",
    "grid_search = GridSearchCV(KNeighborsClassifier(), param_grid, cv=10, n_jobs=-1)\n",
    "grid_search.fit(X_train, y_train)\n",
    "grid_search.score(X_test, y_test), KNeighborsClassifier().fit(X_train, y_train).score(X_test, y_test)"
   ]
  },
  {
   "cell_type": "code",
   "execution_count": 46,
   "metadata": {},
   "outputs": [
    {
     "name": "stdout",
     "output_type": "stream",
     "text": [
      "Best parameters: {'n_neighbors': 4, 'weights': 'uniform'}\n",
      "Best CV score: 0.68\n",
      "Best estimator:\n",
      "KNeighborsClassifier(algorithm='auto', leaf_size=30, metric='minkowski',\n",
      "                     metric_params=None, n_jobs=None, n_neighbors=4, p=2,\n",
      "                     weights='uniform')\n"
     ]
    }
   ],
   "source": [
    "print(\"Best parameters: {}\".format(grid_search.best_params_))\n",
    "print(\"Best CV score: {:.2f}\".format(grid_search.best_score_))\n",
    "print(\"Best estimator:\\n{}\".format(grid_search.best_estimator_))"
   ]
  },
  {
   "cell_type": "markdown",
   "metadata": {},
   "source": [
    "# 랜덤 서치 적용하기"
   ]
  },
  {
   "cell_type": "code",
   "execution_count": 47,
   "metadata": {},
   "outputs": [],
   "source": [
    "from sklearn.model_selection import RandomizedSearchCV"
   ]
  },
  {
   "cell_type": "code",
   "execution_count": 48,
   "metadata": {},
   "outputs": [
    {
     "name": "stdout",
     "output_type": "stream",
     "text": [
      "0.6736111111111112\n",
      "Best estimator:\n",
      "KNeighborsClassifier(algorithm='auto', leaf_size=30, metric='minkowski',\n",
      "                     metric_params=None, n_jobs=None, n_neighbors=4, p=2,\n",
      "                     weights='uniform')\n"
     ]
    },
    {
     "name": "stderr",
     "output_type": "stream",
     "text": [
      "/opt/anaconda3/lib/python3.7/site-packages/sklearn/model_selection/_search.py:281: UserWarning: The total space of parameters 8 is smaller than n_iter=20. Running 8 iterations. For exhaustive searches, use GridSearchCV.\n",
      "  % (grid_size, self.n_iter, grid_size), UserWarning)\n"
     ]
    }
   ],
   "source": [
    "rand_search = RandomizedSearchCV(KNeighborsClassifier(), param_distributions=param_grid, n_iter=20, random_state=1)\n",
    "rand_search.fit(X_train, y_train)\n",
    "print(rand_search.score(X_test, y_test))\n",
    "print(\"Best estimator:\\n{}\".format(rand_search.best_estimator_))"
   ]
  },
  {
   "cell_type": "code",
   "execution_count": null,
   "metadata": {},
   "outputs": [],
   "source": []
  },
  {
   "cell_type": "code",
   "execution_count": null,
   "metadata": {},
   "outputs": [],
   "source": []
  }
 ],
 "metadata": {
  "kernelspec": {
   "display_name": "Python 3",
   "language": "python",
   "name": "python3"
  },
  "language_info": {
   "codemirror_mode": {
    "name": "ipython",
    "version": 3
   },
   "file_extension": ".py",
   "mimetype": "text/x-python",
   "name": "python",
   "nbconvert_exporter": "python",
   "pygments_lexer": "ipython3",
   "version": "3.7.6"
  }
 },
 "nbformat": 4,
 "nbformat_minor": 4
}
