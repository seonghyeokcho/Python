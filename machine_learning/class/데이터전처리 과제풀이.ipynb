{
 "cells": [
  {
   "cell_type": "markdown",
   "metadata": {},
   "source": [
    "# 데이터 전처리 과제\n",
    "\n",
    "* **데이터 설명**\n",
    "  * 본 데이터는 A대학 도서관에서 제공하는 온라인 DB에 대한 사용자별 이용기록(Transaction)입니다.\n",
    "  * user_id : 사용자ID\n",
    "  * region : 지역코드\n",
    "  * college : 단과대학코드\n",
    "  * major : 전공코드\n",
    "  * social_position : 직급코드\n",
    "  * month : 이용월\n",
    "  * weekday : 이용요일(1:일요일, 2:월요일, 3:화요일, 4:수요일, 5:목요일, 6:금요일, 7:토요일)\n",
    "  * hour : 이용시각(24H)\n",
    "  * DB : 이용 온라인 DB"
   ]
  },
  {
   "cell_type": "markdown",
   "metadata": {},
   "source": [
    "### 0.0. 필요한 패키지를 로딩하세요"
   ]
  },
  {
   "cell_type": "code",
   "execution_count": 1,
   "metadata": {},
   "outputs": [],
   "source": [
    "# 넘파이\n",
    "# 판다스\n",
    "import pandas as pd\n",
    "import numpy as np"
   ]
  },
  {
   "cell_type": "markdown",
   "metadata": {},
   "source": [
    "## 1. 데이터 로딩 및 문제 파악하기"
   ]
  },
  {
   "cell_type": "markdown",
   "metadata": {},
   "source": [
    "### 1.1. 데이터를 로딩하고 처음 5개의 레코드를 출력하세요."
   ]
  },
  {
   "cell_type": "code",
   "execution_count": 3,
   "metadata": {},
   "outputs": [
    {
     "data": {
      "text/html": [
       "<div>\n",
       "<style scoped>\n",
       "    .dataframe tbody tr th:only-of-type {\n",
       "        vertical-align: middle;\n",
       "    }\n",
       "\n",
       "    .dataframe tbody tr th {\n",
       "        vertical-align: top;\n",
       "    }\n",
       "\n",
       "    .dataframe thead th {\n",
       "        text-align: right;\n",
       "    }\n",
       "</style>\n",
       "<table border=\"1\" class=\"dataframe\">\n",
       "  <thead>\n",
       "    <tr style=\"text-align: right;\">\n",
       "      <th></th>\n",
       "      <th>user_id</th>\n",
       "      <th>region</th>\n",
       "      <th>college</th>\n",
       "      <th>major</th>\n",
       "      <th>social_position</th>\n",
       "      <th>month</th>\n",
       "      <th>weekday</th>\n",
       "      <th>hour</th>\n",
       "      <th>DB</th>\n",
       "    </tr>\n",
       "  </thead>\n",
       "  <tbody>\n",
       "    <tr>\n",
       "      <th>0</th>\n",
       "      <td>20200401</td>\n",
       "      <td>R01</td>\n",
       "      <td>104</td>\n",
       "      <td>M01</td>\n",
       "      <td>23078.0</td>\n",
       "      <td>1</td>\n",
       "      <td>2.0</td>\n",
       "      <td>12H</td>\n",
       "      <td>Oracle</td>\n",
       "    </tr>\n",
       "    <tr>\n",
       "      <th>1</th>\n",
       "      <td>20200402</td>\n",
       "      <td>R02</td>\n",
       "      <td>101</td>\n",
       "      <td>M01</td>\n",
       "      <td>NaN</td>\n",
       "      <td>2</td>\n",
       "      <td>3.0</td>\n",
       "      <td>10H</td>\n",
       "      <td>MySQL</td>\n",
       "    </tr>\n",
       "    <tr>\n",
       "      <th>2</th>\n",
       "      <td>20200403</td>\n",
       "      <td>R03</td>\n",
       "      <td>109</td>\n",
       "      <td>M03</td>\n",
       "      <td>23076.0</td>\n",
       "      <td>4</td>\n",
       "      <td>NaN</td>\n",
       "      <td>5H</td>\n",
       "      <td>NaN</td>\n",
       "    </tr>\n",
       "    <tr>\n",
       "      <th>3</th>\n",
       "      <td>20200404</td>\n",
       "      <td>R01</td>\n",
       "      <td>128</td>\n",
       "      <td>M04</td>\n",
       "      <td>23100.0</td>\n",
       "      <td>2</td>\n",
       "      <td>2.0</td>\n",
       "      <td>7H</td>\n",
       "      <td>Maria DB</td>\n",
       "    </tr>\n",
       "    <tr>\n",
       "      <th>4</th>\n",
       "      <td>20200405</td>\n",
       "      <td>R02</td>\n",
       "      <td>124</td>\n",
       "      <td>M01</td>\n",
       "      <td>23101.0</td>\n",
       "      <td>7</td>\n",
       "      <td>1.0</td>\n",
       "      <td>9H</td>\n",
       "      <td>DB2</td>\n",
       "    </tr>\n",
       "  </tbody>\n",
       "</table>\n",
       "</div>"
      ],
      "text/plain": [
       "    user_id region  college major  social_position  month  weekday hour  \\\n",
       "0  20200401    R01      104   M01          23078.0      1      2.0  12H   \n",
       "1  20200402    R02      101   M01              NaN      2      3.0  10H   \n",
       "2  20200403    R03      109   M03          23076.0      4      NaN   5H   \n",
       "3  20200404    R01      128   M04          23100.0      2      2.0   7H   \n",
       "4  20200405    R02      124   M01          23101.0      7      1.0   9H   \n",
       "\n",
       "         DB  \n",
       "0    Oracle  \n",
       "1     MySQL  \n",
       "2       NaN  \n",
       "3  Maria DB  \n",
       "4       DB2  "
      ]
     },
     "execution_count": 3,
     "metadata": {},
     "output_type": "execute_result"
    }
   ],
   "source": [
    "data_01 = pd.read_csv('DATA_01/DATA_01.csv')\n",
    "data_01.head()"
   ]
  },
  {
   "cell_type": "markdown",
   "metadata": {},
   "source": [
    "### 1.2. 변수별 데이터 타입을 알아볼 수는 코드를 제시하고 문제점이 있을 경우 서술하세요."
   ]
  },
  {
   "cell_type": "code",
   "execution_count": 59,
   "metadata": {},
   "outputs": [
    {
     "data": {
      "text/plain": [
       "user_id             object\n",
       "region              object\n",
       "college             object\n",
       "major               object\n",
       "social_position     object\n",
       "month              float64\n",
       "weekday              int64\n",
       "hour                 int64\n",
       "DB                  object\n",
       "dtype: object"
      ]
     },
     "execution_count": 59,
     "metadata": {},
     "output_type": "execute_result"
    }
   ],
   "source": [
    "data_01.dtypes"
   ]
  },
  {
   "cell_type": "code",
   "execution_count": 60,
   "metadata": {},
   "outputs": [
    {
     "name": "stdout",
     "output_type": "stream",
     "text": [
      "<class 'pandas.core.frame.DataFrame'>\n",
      "RangeIndex: 76806 entries, 0 to 76805\n",
      "Data columns (total 9 columns):\n",
      " #   Column           Non-Null Count  Dtype  \n",
      "---  ------           --------------  -----  \n",
      " 0   user_id          76806 non-null  object \n",
      " 1   region           76806 non-null  object \n",
      " 2   college          76806 non-null  object \n",
      " 3   major            75610 non-null  object \n",
      " 4   social_position  76806 non-null  object \n",
      " 5   month            75772 non-null  float64\n",
      " 6   weekday          76806 non-null  int64  \n",
      " 7   hour             76806 non-null  int64  \n",
      " 8   DB               76805 non-null  object \n",
      "dtypes: float64(1), int64(2), object(6)\n",
      "memory usage: 5.3+ MB\n"
     ]
    }
   ],
   "source": [
    "data_01.info()"
   ]
  },
  {
   "cell_type": "markdown",
   "metadata": {},
   "source": [
    "- 문제점 : 수치형 변수 month에서 000000 개 만큼 null 값이 존재한다."
   ]
  },
  {
   "cell_type": "markdown",
   "metadata": {},
   "source": [
    "### 1.3. 수치형 변수의 요약 통계량을 제시하세요."
   ]
  },
  {
   "cell_type": "code",
   "execution_count": 63,
   "metadata": {},
   "outputs": [
    {
     "data": {
      "text/html": [
       "<div>\n",
       "<style scoped>\n",
       "    .dataframe tbody tr th:only-of-type {\n",
       "        vertical-align: middle;\n",
       "    }\n",
       "\n",
       "    .dataframe tbody tr th {\n",
       "        vertical-align: top;\n",
       "    }\n",
       "\n",
       "    .dataframe thead th {\n",
       "        text-align: right;\n",
       "    }\n",
       "</style>\n",
       "<table border=\"1\" class=\"dataframe\">\n",
       "  <thead>\n",
       "    <tr style=\"text-align: right;\">\n",
       "      <th></th>\n",
       "      <th>count</th>\n",
       "      <th>mean</th>\n",
       "      <th>std</th>\n",
       "      <th>min</th>\n",
       "      <th>25%</th>\n",
       "      <th>50%</th>\n",
       "      <th>75%</th>\n",
       "      <th>max</th>\n",
       "    </tr>\n",
       "  </thead>\n",
       "  <tbody>\n",
       "    <tr>\n",
       "      <th>month</th>\n",
       "      <td>75772.0</td>\n",
       "      <td>6.592831</td>\n",
       "      <td>3.339591</td>\n",
       "      <td>1.0</td>\n",
       "      <td>4.0</td>\n",
       "      <td>6.0</td>\n",
       "      <td>10.0</td>\n",
       "      <td>12.0</td>\n",
       "    </tr>\n",
       "    <tr>\n",
       "      <th>weekday</th>\n",
       "      <td>76806.0</td>\n",
       "      <td>3.846614</td>\n",
       "      <td>1.863474</td>\n",
       "      <td>1.0</td>\n",
       "      <td>2.0</td>\n",
       "      <td>4.0</td>\n",
       "      <td>5.0</td>\n",
       "      <td>7.0</td>\n",
       "    </tr>\n",
       "    <tr>\n",
       "      <th>hour</th>\n",
       "      <td>76806.0</td>\n",
       "      <td>13.719748</td>\n",
       "      <td>6.742292</td>\n",
       "      <td>0.0</td>\n",
       "      <td>10.0</td>\n",
       "      <td>14.0</td>\n",
       "      <td>19.0</td>\n",
       "      <td>30.0</td>\n",
       "    </tr>\n",
       "  </tbody>\n",
       "</table>\n",
       "</div>"
      ],
      "text/plain": [
       "           count       mean       std  min   25%   50%   75%   max\n",
       "month    75772.0   6.592831  3.339591  1.0   4.0   6.0  10.0  12.0\n",
       "weekday  76806.0   3.846614  1.863474  1.0   2.0   4.0   5.0   7.0\n",
       "hour     76806.0  13.719748  6.742292  0.0  10.0  14.0  19.0  30.0"
      ]
     },
     "execution_count": 63,
     "metadata": {},
     "output_type": "execute_result"
    }
   ],
   "source": [
    "data_01.describe().T"
   ]
  },
  {
   "cell_type": "markdown",
   "metadata": {},
   "source": [
    "### 1.4. 범주형 변수의 요약 통계량을 제시하세요."
   ]
  },
  {
   "cell_type": "code",
   "execution_count": 64,
   "metadata": {},
   "outputs": [
    {
     "data": {
      "text/html": [
       "<div>\n",
       "<style scoped>\n",
       "    .dataframe tbody tr th:only-of-type {\n",
       "        vertical-align: middle;\n",
       "    }\n",
       "\n",
       "    .dataframe tbody tr th {\n",
       "        vertical-align: top;\n",
       "    }\n",
       "\n",
       "    .dataframe thead th {\n",
       "        text-align: right;\n",
       "    }\n",
       "</style>\n",
       "<table border=\"1\" class=\"dataframe\">\n",
       "  <thead>\n",
       "    <tr style=\"text-align: right;\">\n",
       "      <th></th>\n",
       "      <th>count</th>\n",
       "      <th>unique</th>\n",
       "      <th>top</th>\n",
       "      <th>freq</th>\n",
       "    </tr>\n",
       "  </thead>\n",
       "  <tbody>\n",
       "    <tr>\n",
       "      <th>user_id</th>\n",
       "      <td>76806</td>\n",
       "      <td>5067</td>\n",
       "      <td>U0061</td>\n",
       "      <td>1988</td>\n",
       "    </tr>\n",
       "    <tr>\n",
       "      <th>region</th>\n",
       "      <td>76806</td>\n",
       "      <td>3</td>\n",
       "      <td>R01</td>\n",
       "      <td>72874</td>\n",
       "    </tr>\n",
       "    <tr>\n",
       "      <th>college</th>\n",
       "      <td>76806</td>\n",
       "      <td>72</td>\n",
       "      <td>C0001</td>\n",
       "      <td>34545</td>\n",
       "    </tr>\n",
       "    <tr>\n",
       "      <th>major</th>\n",
       "      <td>75610</td>\n",
       "      <td>11</td>\n",
       "      <td>M04</td>\n",
       "      <td>18243</td>\n",
       "    </tr>\n",
       "    <tr>\n",
       "      <th>social_position</th>\n",
       "      <td>76806</td>\n",
       "      <td>8</td>\n",
       "      <td>S005</td>\n",
       "      <td>26800</td>\n",
       "    </tr>\n",
       "    <tr>\n",
       "      <th>DB</th>\n",
       "      <td>76805</td>\n",
       "      <td>73</td>\n",
       "      <td>DB048</td>\n",
       "      <td>15379</td>\n",
       "    </tr>\n",
       "  </tbody>\n",
       "</table>\n",
       "</div>"
      ],
      "text/plain": [
       "                 count unique    top   freq\n",
       "user_id          76806   5067  U0061   1988\n",
       "region           76806      3    R01  72874\n",
       "college          76806     72  C0001  34545\n",
       "major            75610     11    M04  18243\n",
       "social_position  76806      8   S005  26800\n",
       "DB               76805     73  DB048  15379"
      ]
     },
     "execution_count": 64,
     "metadata": {},
     "output_type": "execute_result"
    }
   ],
   "source": [
    "data_01.describe(include=[object, pd.Categorical]).T"
   ]
  },
  {
   "cell_type": "markdown",
   "metadata": {},
   "source": [
    "## 2. 데이터의 문제 수정하기"
   ]
  },
  {
   "cell_type": "markdown",
   "metadata": {},
   "source": [
    "### 2.1. NULL값이 존재하는 변수 중 범주형 변수의 NULL값을 'UNKNOWN'으로 대체하고 처리 결과를 제시하세요."
   ]
  },
  {
   "cell_type": "code",
   "execution_count": 65,
   "metadata": {},
   "outputs": [
    {
     "name": "stdout",
     "output_type": "stream",
     "text": [
      "<class 'pandas.core.frame.DataFrame'>\n",
      "RangeIndex: 76806 entries, 0 to 76805\n",
      "Data columns (total 9 columns):\n",
      " #   Column           Non-Null Count  Dtype  \n",
      "---  ------           --------------  -----  \n",
      " 0   user_id          76806 non-null  object \n",
      " 1   region           76806 non-null  object \n",
      " 2   college          76806 non-null  object \n",
      " 3   major            76806 non-null  object \n",
      " 4   social_position  76806 non-null  object \n",
      " 5   month            75772 non-null  float64\n",
      " 6   weekday          76806 non-null  int64  \n",
      " 7   hour             76806 non-null  int64  \n",
      " 8   DB               76805 non-null  object \n",
      "dtypes: float64(1), int64(2), object(6)\n",
      "memory usage: 5.3+ MB\n"
     ]
    }
   ],
   "source": [
    "data_01['major'] = data_01['major'].fillna('UNKNOWN')\n",
    "data_01.info()"
   ]
  },
  {
   "cell_type": "code",
   "execution_count": 66,
   "metadata": {},
   "outputs": [
    {
     "name": "stdout",
     "output_type": "stream",
     "text": [
      "<class 'pandas.core.frame.DataFrame'>\n",
      "RangeIndex: 76806 entries, 0 to 76805\n",
      "Data columns (total 9 columns):\n",
      " #   Column           Non-Null Count  Dtype  \n",
      "---  ------           --------------  -----  \n",
      " 0   user_id          76806 non-null  object \n",
      " 1   region           76806 non-null  object \n",
      " 2   college          76806 non-null  object \n",
      " 3   major            76806 non-null  object \n",
      " 4   social_position  76806 non-null  object \n",
      " 5   month            75772 non-null  float64\n",
      " 6   weekday          76806 non-null  int64  \n",
      " 7   hour             76806 non-null  int64  \n",
      " 8   DB               76806 non-null  object \n",
      "dtypes: float64(1), int64(2), object(6)\n",
      "memory usage: 5.3+ MB\n"
     ]
    }
   ],
   "source": [
    "data_01['DB'] = data_01['DB'].fillna('UNKNOWN')\n",
    "data_01.info()"
   ]
  },
  {
   "cell_type": "markdown",
   "metadata": {},
   "source": [
    "### 2.2. NULL값이 존재하는 변수 중 수치형 변수의 NULL값은 제거하고 처리 뒤 데이터의 행과 열을 제시하세요."
   ]
  },
  {
   "cell_type": "code",
   "execution_count": 67,
   "metadata": {},
   "outputs": [
    {
     "name": "stdout",
     "output_type": "stream",
     "text": [
      "<class 'pandas.core.frame.DataFrame'>\n",
      "Int64Index: 75772 entries, 0 to 76805\n",
      "Data columns (total 9 columns):\n",
      " #   Column           Non-Null Count  Dtype  \n",
      "---  ------           --------------  -----  \n",
      " 0   user_id          75772 non-null  object \n",
      " 1   region           75772 non-null  object \n",
      " 2   college          75772 non-null  object \n",
      " 3   major            75772 non-null  object \n",
      " 4   social_position  75772 non-null  object \n",
      " 5   month            75772 non-null  float64\n",
      " 6   weekday          75772 non-null  int64  \n",
      " 7   hour             75772 non-null  int64  \n",
      " 8   DB               75772 non-null  object \n",
      "dtypes: float64(1), int64(2), object(6)\n",
      "memory usage: 5.8+ MB\n"
     ]
    }
   ],
   "source": [
    "data_01 = data_01.dropna(subset=['month'])\n",
    "data_01.info()"
   ]
  },
  {
   "cell_type": "code",
   "execution_count": 68,
   "metadata": {},
   "outputs": [
    {
     "data": {
      "text/plain": [
       "0"
      ]
     },
     "execution_count": 68,
     "metadata": {},
     "output_type": "execute_result"
    }
   ],
   "source": [
    "data_01.isnull().sum().sum()"
   ]
  },
  {
   "cell_type": "code",
   "execution_count": 69,
   "metadata": {},
   "outputs": [],
   "source": [
    "data_01.to_csv('output_data_01.csv', index=False)"
   ]
  },
  {
   "cell_type": "markdown",
   "metadata": {},
   "source": [
    "## 3. 데이터 파악하기"
   ]
  },
  {
   "cell_type": "markdown",
   "metadata": {},
   "source": [
    "### 3.1. 전공 중 가장 많은 전공 코드를 제시하세요."
   ]
  },
  {
   "cell_type": "code",
   "execution_count": 70,
   "metadata": {},
   "outputs": [
    {
     "data": {
      "text/plain": [
       "M04        18000\n",
       "M11        10571\n",
       "M09         8050\n",
       "M05         7930\n",
       "M08         7745\n",
       "M01         6935\n",
       "M06         5129\n",
       "M03         4635\n",
       "M02         2108\n",
       "M10         1826\n",
       "M07         1668\n",
       "UNKNOWN     1175\n",
       "Name: major, dtype: int64"
      ]
     },
     "execution_count": 70,
     "metadata": {},
     "output_type": "execute_result"
    }
   ],
   "source": [
    "data_01.major.value_counts()"
   ]
  },
  {
   "cell_type": "code",
   "execution_count": 71,
   "metadata": {},
   "outputs": [
    {
     "data": {
      "text/plain": [
       "18000"
      ]
     },
     "execution_count": 71,
     "metadata": {},
     "output_type": "execute_result"
    }
   ],
   "source": [
    "data_01.major.value_counts().max()"
   ]
  },
  {
   "cell_type": "markdown",
   "metadata": {},
   "source": [
    "### 3.2. 지역이 R02이면서 전공이 M01 이고 오전9시부터 10시까지 사용한 사람은 몇 명인지 제시하세요."
   ]
  },
  {
   "cell_type": "code",
   "execution_count": 73,
   "metadata": {},
   "outputs": [
    {
     "data": {
      "text/html": [
       "<div>\n",
       "<style scoped>\n",
       "    .dataframe tbody tr th:only-of-type {\n",
       "        vertical-align: middle;\n",
       "    }\n",
       "\n",
       "    .dataframe tbody tr th {\n",
       "        vertical-align: top;\n",
       "    }\n",
       "\n",
       "    .dataframe thead th {\n",
       "        text-align: right;\n",
       "    }\n",
       "</style>\n",
       "<table border=\"1\" class=\"dataframe\">\n",
       "  <thead>\n",
       "    <tr style=\"text-align: right;\">\n",
       "      <th></th>\n",
       "      <th>user_id</th>\n",
       "      <th>region</th>\n",
       "      <th>college</th>\n",
       "      <th>major</th>\n",
       "      <th>social_position</th>\n",
       "      <th>month</th>\n",
       "      <th>weekday</th>\n",
       "      <th>hour</th>\n",
       "      <th>DB</th>\n",
       "    </tr>\n",
       "  </thead>\n",
       "  <tbody>\n",
       "    <tr>\n",
       "      <th>0</th>\n",
       "      <td>U0002</td>\n",
       "      <td>R01</td>\n",
       "      <td>C0002</td>\n",
       "      <td>M09</td>\n",
       "      <td>S005</td>\n",
       "      <td>3.0</td>\n",
       "      <td>3</td>\n",
       "      <td>21</td>\n",
       "      <td>DB048</td>\n",
       "    </tr>\n",
       "    <tr>\n",
       "      <th>1</th>\n",
       "      <td>U0003</td>\n",
       "      <td>R01</td>\n",
       "      <td>C0003</td>\n",
       "      <td>M01</td>\n",
       "      <td>S001</td>\n",
       "      <td>3.0</td>\n",
       "      <td>2</td>\n",
       "      <td>12</td>\n",
       "      <td>DB048</td>\n",
       "    </tr>\n",
       "  </tbody>\n",
       "</table>\n",
       "</div>"
      ],
      "text/plain": [
       "  user_id region college major social_position  month  weekday  hour     DB\n",
       "0   U0002    R01   C0002   M09            S005    3.0        3    21  DB048\n",
       "1   U0003    R01   C0003   M01            S001    3.0        2    12  DB048"
      ]
     },
     "execution_count": 73,
     "metadata": {},
     "output_type": "execute_result"
    }
   ],
   "source": [
    "data_01.head(2)"
   ]
  },
  {
   "cell_type": "code",
   "execution_count": 75,
   "metadata": {},
   "outputs": [
    {
     "data": {
      "text/plain": [
       "(33, 9)"
      ]
     },
     "execution_count": 75,
     "metadata": {},
     "output_type": "execute_result"
    }
   ],
   "source": [
    "d1 = data_01.region == 'R02'\n",
    "d2 = data_01.major == 'M01'\n",
    "d3 = (data_01.hour >= 9) & (data_01.hour <= 10)\n",
    "d = d1&d2&d3\n",
    "data_01[d].shape"
   ]
  },
  {
   "cell_type": "code",
   "execution_count": 76,
   "metadata": {},
   "outputs": [
    {
     "data": {
      "text/html": [
       "<div>\n",
       "<style scoped>\n",
       "    .dataframe tbody tr th:only-of-type {\n",
       "        vertical-align: middle;\n",
       "    }\n",
       "\n",
       "    .dataframe tbody tr th {\n",
       "        vertical-align: top;\n",
       "    }\n",
       "\n",
       "    .dataframe thead th {\n",
       "        text-align: right;\n",
       "    }\n",
       "</style>\n",
       "<table border=\"1\" class=\"dataframe\">\n",
       "  <thead>\n",
       "    <tr style=\"text-align: right;\">\n",
       "      <th></th>\n",
       "      <th>user_id</th>\n",
       "      <th>region</th>\n",
       "      <th>college</th>\n",
       "      <th>major</th>\n",
       "      <th>social_position</th>\n",
       "      <th>month</th>\n",
       "      <th>weekday</th>\n",
       "      <th>hour</th>\n",
       "      <th>DB</th>\n",
       "    </tr>\n",
       "  </thead>\n",
       "  <tbody>\n",
       "    <tr>\n",
       "      <th>7014</th>\n",
       "      <td>U1120</td>\n",
       "      <td>R02</td>\n",
       "      <td>C0053</td>\n",
       "      <td>M01</td>\n",
       "      <td>S004</td>\n",
       "      <td>4.0</td>\n",
       "      <td>1</td>\n",
       "      <td>9</td>\n",
       "      <td>DB018</td>\n",
       "    </tr>\n",
       "    <tr>\n",
       "      <th>15109</th>\n",
       "      <td>U1899</td>\n",
       "      <td>R02</td>\n",
       "      <td>C0055</td>\n",
       "      <td>M01</td>\n",
       "      <td>S006</td>\n",
       "      <td>5.0</td>\n",
       "      <td>4</td>\n",
       "      <td>10</td>\n",
       "      <td>DB031</td>\n",
       "    </tr>\n",
       "    <tr>\n",
       "      <th>15110</th>\n",
       "      <td>U1899</td>\n",
       "      <td>R02</td>\n",
       "      <td>C0055</td>\n",
       "      <td>M01</td>\n",
       "      <td>S006</td>\n",
       "      <td>5.0</td>\n",
       "      <td>4</td>\n",
       "      <td>10</td>\n",
       "      <td>DB031</td>\n",
       "    </tr>\n",
       "    <tr>\n",
       "      <th>15111</th>\n",
       "      <td>U1899</td>\n",
       "      <td>R02</td>\n",
       "      <td>C0055</td>\n",
       "      <td>M01</td>\n",
       "      <td>S006</td>\n",
       "      <td>5.0</td>\n",
       "      <td>4</td>\n",
       "      <td>10</td>\n",
       "      <td>DB048</td>\n",
       "    </tr>\n",
       "    <tr>\n",
       "      <th>15325</th>\n",
       "      <td>U1899</td>\n",
       "      <td>R02</td>\n",
       "      <td>C0055</td>\n",
       "      <td>M01</td>\n",
       "      <td>S006</td>\n",
       "      <td>5.0</td>\n",
       "      <td>5</td>\n",
       "      <td>10</td>\n",
       "      <td>DB044</td>\n",
       "    </tr>\n",
       "  </tbody>\n",
       "</table>\n",
       "</div>"
      ],
      "text/plain": [
       "      user_id region college major social_position  month  weekday  hour  \\\n",
       "7014    U1120    R02   C0053   M01            S004    4.0        1     9   \n",
       "15109   U1899    R02   C0055   M01            S006    5.0        4    10   \n",
       "15110   U1899    R02   C0055   M01            S006    5.0        4    10   \n",
       "15111   U1899    R02   C0055   M01            S006    5.0        4    10   \n",
       "15325   U1899    R02   C0055   M01            S006    5.0        5    10   \n",
       "\n",
       "          DB  \n",
       "7014   DB018  \n",
       "15109  DB031  \n",
       "15110  DB031  \n",
       "15111  DB048  \n",
       "15325  DB044  "
      ]
     },
     "execution_count": 76,
     "metadata": {},
     "output_type": "execute_result"
    }
   ],
   "source": [
    "data_01[d].head()"
   ]
  },
  {
   "cell_type": "code",
   "execution_count": 78,
   "metadata": {},
   "outputs": [
    {
     "data": {
      "text/plain": [
       "5"
      ]
     },
     "execution_count": 78,
     "metadata": {},
     "output_type": "execute_result"
    }
   ],
   "source": [
    "data_01[d]['user_id'].nunique()"
   ]
  },
  {
   "cell_type": "markdown",
   "metadata": {},
   "source": [
    "### 3.2. 에서 구한 내용에서 컬럼명이 user_id, region, major, hour의 리스트를 보여 주세요."
   ]
  },
  {
   "cell_type": "code",
   "execution_count": 81,
   "metadata": {},
   "outputs": [
    {
     "data": {
      "text/html": [
       "<div>\n",
       "<style scoped>\n",
       "    .dataframe tbody tr th:only-of-type {\n",
       "        vertical-align: middle;\n",
       "    }\n",
       "\n",
       "    .dataframe tbody tr th {\n",
       "        vertical-align: top;\n",
       "    }\n",
       "\n",
       "    .dataframe thead th {\n",
       "        text-align: right;\n",
       "    }\n",
       "</style>\n",
       "<table border=\"1\" class=\"dataframe\">\n",
       "  <thead>\n",
       "    <tr style=\"text-align: right;\">\n",
       "      <th></th>\n",
       "      <th>user_id</th>\n",
       "      <th>region</th>\n",
       "      <th>major</th>\n",
       "      <th>hour</th>\n",
       "    </tr>\n",
       "  </thead>\n",
       "  <tbody>\n",
       "    <tr>\n",
       "      <th>7014</th>\n",
       "      <td>U1120</td>\n",
       "      <td>R02</td>\n",
       "      <td>M01</td>\n",
       "      <td>9</td>\n",
       "    </tr>\n",
       "    <tr>\n",
       "      <th>15109</th>\n",
       "      <td>U1899</td>\n",
       "      <td>R02</td>\n",
       "      <td>M01</td>\n",
       "      <td>10</td>\n",
       "    </tr>\n",
       "    <tr>\n",
       "      <th>15110</th>\n",
       "      <td>U1899</td>\n",
       "      <td>R02</td>\n",
       "      <td>M01</td>\n",
       "      <td>10</td>\n",
       "    </tr>\n",
       "    <tr>\n",
       "      <th>15111</th>\n",
       "      <td>U1899</td>\n",
       "      <td>R02</td>\n",
       "      <td>M01</td>\n",
       "      <td>10</td>\n",
       "    </tr>\n",
       "    <tr>\n",
       "      <th>15325</th>\n",
       "      <td>U1899</td>\n",
       "      <td>R02</td>\n",
       "      <td>M01</td>\n",
       "      <td>10</td>\n",
       "    </tr>\n",
       "  </tbody>\n",
       "</table>\n",
       "</div>"
      ],
      "text/plain": [
       "      user_id region major  hour\n",
       "7014    U1120    R02   M01     9\n",
       "15109   U1899    R02   M01    10\n",
       "15110   U1899    R02   M01    10\n",
       "15111   U1899    R02   M01    10\n",
       "15325   U1899    R02   M01    10"
      ]
     },
     "execution_count": 81,
     "metadata": {},
     "output_type": "execute_result"
    }
   ],
   "source": [
    "cols = ['user_id', 'region', 'major', 'hour']\n",
    "data_01.loc[d, cols].head()"
   ]
  },
  {
   "cell_type": "markdown",
   "metadata": {},
   "source": [
    "## 3.2에서 구한 내용에서 컬럼수를 처음부터 6개만 보여주세요."
   ]
  },
  {
   "cell_type": "code",
   "execution_count": 82,
   "metadata": {},
   "outputs": [
    {
     "data": {
      "text/html": [
       "<div>\n",
       "<style scoped>\n",
       "    .dataframe tbody tr th:only-of-type {\n",
       "        vertical-align: middle;\n",
       "    }\n",
       "\n",
       "    .dataframe tbody tr th {\n",
       "        vertical-align: top;\n",
       "    }\n",
       "\n",
       "    .dataframe thead th {\n",
       "        text-align: right;\n",
       "    }\n",
       "</style>\n",
       "<table border=\"1\" class=\"dataframe\">\n",
       "  <thead>\n",
       "    <tr style=\"text-align: right;\">\n",
       "      <th></th>\n",
       "      <th>user_id</th>\n",
       "      <th>region</th>\n",
       "      <th>college</th>\n",
       "      <th>major</th>\n",
       "      <th>social_position</th>\n",
       "      <th>month</th>\n",
       "    </tr>\n",
       "  </thead>\n",
       "  <tbody>\n",
       "    <tr>\n",
       "      <th>7014</th>\n",
       "      <td>U1120</td>\n",
       "      <td>R02</td>\n",
       "      <td>C0053</td>\n",
       "      <td>M01</td>\n",
       "      <td>S004</td>\n",
       "      <td>4.0</td>\n",
       "    </tr>\n",
       "    <tr>\n",
       "      <th>15109</th>\n",
       "      <td>U1899</td>\n",
       "      <td>R02</td>\n",
       "      <td>C0055</td>\n",
       "      <td>M01</td>\n",
       "      <td>S006</td>\n",
       "      <td>5.0</td>\n",
       "    </tr>\n",
       "    <tr>\n",
       "      <th>15110</th>\n",
       "      <td>U1899</td>\n",
       "      <td>R02</td>\n",
       "      <td>C0055</td>\n",
       "      <td>M01</td>\n",
       "      <td>S006</td>\n",
       "      <td>5.0</td>\n",
       "    </tr>\n",
       "    <tr>\n",
       "      <th>15111</th>\n",
       "      <td>U1899</td>\n",
       "      <td>R02</td>\n",
       "      <td>C0055</td>\n",
       "      <td>M01</td>\n",
       "      <td>S006</td>\n",
       "      <td>5.0</td>\n",
       "    </tr>\n",
       "    <tr>\n",
       "      <th>15325</th>\n",
       "      <td>U1899</td>\n",
       "      <td>R02</td>\n",
       "      <td>C0055</td>\n",
       "      <td>M01</td>\n",
       "      <td>S006</td>\n",
       "      <td>5.0</td>\n",
       "    </tr>\n",
       "  </tbody>\n",
       "</table>\n",
       "</div>"
      ],
      "text/plain": [
       "      user_id region college major social_position  month\n",
       "7014    U1120    R02   C0053   M01            S004    4.0\n",
       "15109   U1899    R02   C0055   M01            S006    5.0\n",
       "15110   U1899    R02   C0055   M01            S006    5.0\n",
       "15111   U1899    R02   C0055   M01            S006    5.0\n",
       "15325   U1899    R02   C0055   M01            S006    5.0"
      ]
     },
     "execution_count": 82,
     "metadata": {},
     "output_type": "execute_result"
    }
   ],
   "source": [
    "data_01.iloc[d.values, range(6)].head()"
   ]
  },
  {
   "cell_type": "markdown",
   "metadata": {},
   "source": [
    "### 3.3. 월요일(2)에 가장 빠른 시간에 이용한 기록을 5개 제시하세요."
   ]
  },
  {
   "cell_type": "code",
   "execution_count": 83,
   "metadata": {},
   "outputs": [
    {
     "data": {
      "text/html": [
       "<div>\n",
       "<style scoped>\n",
       "    .dataframe tbody tr th:only-of-type {\n",
       "        vertical-align: middle;\n",
       "    }\n",
       "\n",
       "    .dataframe tbody tr th {\n",
       "        vertical-align: top;\n",
       "    }\n",
       "\n",
       "    .dataframe thead th {\n",
       "        text-align: right;\n",
       "    }\n",
       "</style>\n",
       "<table border=\"1\" class=\"dataframe\">\n",
       "  <thead>\n",
       "    <tr style=\"text-align: right;\">\n",
       "      <th></th>\n",
       "      <th>user_id</th>\n",
       "      <th>region</th>\n",
       "      <th>college</th>\n",
       "      <th>major</th>\n",
       "      <th>social_position</th>\n",
       "      <th>month</th>\n",
       "      <th>weekday</th>\n",
       "      <th>hour</th>\n",
       "      <th>DB</th>\n",
       "    </tr>\n",
       "  </thead>\n",
       "  <tbody>\n",
       "    <tr>\n",
       "      <th>63308</th>\n",
       "      <td>U1127</td>\n",
       "      <td>R01</td>\n",
       "      <td>C0001</td>\n",
       "      <td>M09</td>\n",
       "      <td>S005</td>\n",
       "      <td>2.0</td>\n",
       "      <td>2</td>\n",
       "      <td>0</td>\n",
       "      <td>DB018</td>\n",
       "    </tr>\n",
       "    <tr>\n",
       "      <th>50679</th>\n",
       "      <td>U3110</td>\n",
       "      <td>R01</td>\n",
       "      <td>C0018</td>\n",
       "      <td>M07</td>\n",
       "      <td>S004</td>\n",
       "      <td>11.0</td>\n",
       "      <td>2</td>\n",
       "      <td>0</td>\n",
       "      <td>DB039</td>\n",
       "    </tr>\n",
       "    <tr>\n",
       "      <th>50678</th>\n",
       "      <td>U1528</td>\n",
       "      <td>R01</td>\n",
       "      <td>C0013</td>\n",
       "      <td>M08</td>\n",
       "      <td>S008</td>\n",
       "      <td>11.0</td>\n",
       "      <td>2</td>\n",
       "      <td>0</td>\n",
       "      <td>DB050</td>\n",
       "    </tr>\n",
       "    <tr>\n",
       "      <th>50677</th>\n",
       "      <td>U2255</td>\n",
       "      <td>R01</td>\n",
       "      <td>C0001</td>\n",
       "      <td>M05</td>\n",
       "      <td>S005</td>\n",
       "      <td>11.0</td>\n",
       "      <td>2</td>\n",
       "      <td>0</td>\n",
       "      <td>DB051</td>\n",
       "    </tr>\n",
       "    <tr>\n",
       "      <th>50676</th>\n",
       "      <td>U4590</td>\n",
       "      <td>R01</td>\n",
       "      <td>C0014</td>\n",
       "      <td>M04</td>\n",
       "      <td>S005</td>\n",
       "      <td>11.0</td>\n",
       "      <td>2</td>\n",
       "      <td>0</td>\n",
       "      <td>DB031</td>\n",
       "    </tr>\n",
       "  </tbody>\n",
       "</table>\n",
       "</div>"
      ],
      "text/plain": [
       "      user_id region college major social_position  month  weekday  hour  \\\n",
       "63308   U1127    R01   C0001   M09            S005    2.0        2     0   \n",
       "50679   U3110    R01   C0018   M07            S004   11.0        2     0   \n",
       "50678   U1528    R01   C0013   M08            S008   11.0        2     0   \n",
       "50677   U2255    R01   C0001   M05            S005   11.0        2     0   \n",
       "50676   U4590    R01   C0014   M04            S005   11.0        2     0   \n",
       "\n",
       "          DB  \n",
       "63308  DB018  \n",
       "50679  DB039  \n",
       "50678  DB050  \n",
       "50677  DB051  \n",
       "50676  DB031  "
      ]
     },
     "execution_count": 83,
     "metadata": {},
     "output_type": "execute_result"
    }
   ],
   "source": [
    "dw = data_01.weekday == 2\n",
    "data_01[dw].sort_values(by='hour', ascending=True).head()"
   ]
  },
  {
   "cell_type": "code",
   "execution_count": 84,
   "metadata": {},
   "outputs": [
    {
     "data": {
      "text/html": [
       "<div>\n",
       "<style scoped>\n",
       "    .dataframe tbody tr th:only-of-type {\n",
       "        vertical-align: middle;\n",
       "    }\n",
       "\n",
       "    .dataframe tbody tr th {\n",
       "        vertical-align: top;\n",
       "    }\n",
       "\n",
       "    .dataframe thead th {\n",
       "        text-align: right;\n",
       "    }\n",
       "</style>\n",
       "<table border=\"1\" class=\"dataframe\">\n",
       "  <thead>\n",
       "    <tr style=\"text-align: right;\">\n",
       "      <th></th>\n",
       "      <th>user_id</th>\n",
       "      <th>region</th>\n",
       "      <th>college</th>\n",
       "      <th>major</th>\n",
       "      <th>social_position</th>\n",
       "      <th>month</th>\n",
       "      <th>weekday</th>\n",
       "      <th>hour</th>\n",
       "      <th>DB</th>\n",
       "    </tr>\n",
       "  </thead>\n",
       "  <tbody>\n",
       "    <tr>\n",
       "      <th>235</th>\n",
       "      <td>U0129</td>\n",
       "      <td>R01</td>\n",
       "      <td>C0030</td>\n",
       "      <td>M10</td>\n",
       "      <td>S002</td>\n",
       "      <td>3.0</td>\n",
       "      <td>2</td>\n",
       "      <td>0</td>\n",
       "      <td>DB077</td>\n",
       "    </tr>\n",
       "    <tr>\n",
       "      <th>236</th>\n",
       "      <td>U0003</td>\n",
       "      <td>R01</td>\n",
       "      <td>C0003</td>\n",
       "      <td>M01</td>\n",
       "      <td>S001</td>\n",
       "      <td>3.0</td>\n",
       "      <td>2</td>\n",
       "      <td>0</td>\n",
       "      <td>DB048</td>\n",
       "    </tr>\n",
       "    <tr>\n",
       "      <th>237</th>\n",
       "      <td>U0003</td>\n",
       "      <td>R01</td>\n",
       "      <td>C0003</td>\n",
       "      <td>M01</td>\n",
       "      <td>S001</td>\n",
       "      <td>3.0</td>\n",
       "      <td>2</td>\n",
       "      <td>0</td>\n",
       "      <td>DB048</td>\n",
       "    </tr>\n",
       "    <tr>\n",
       "      <th>238</th>\n",
       "      <td>U0129</td>\n",
       "      <td>R01</td>\n",
       "      <td>C0030</td>\n",
       "      <td>M10</td>\n",
       "      <td>S002</td>\n",
       "      <td>3.0</td>\n",
       "      <td>2</td>\n",
       "      <td>0</td>\n",
       "      <td>DB077</td>\n",
       "    </tr>\n",
       "    <tr>\n",
       "      <th>239</th>\n",
       "      <td>U0131</td>\n",
       "      <td>R02</td>\n",
       "      <td>C0031</td>\n",
       "      <td>M07</td>\n",
       "      <td>S004</td>\n",
       "      <td>3.0</td>\n",
       "      <td>2</td>\n",
       "      <td>0</td>\n",
       "      <td>DB031</td>\n",
       "    </tr>\n",
       "  </tbody>\n",
       "</table>\n",
       "</div>"
      ],
      "text/plain": [
       "    user_id region college major social_position  month  weekday  hour     DB\n",
       "235   U0129    R01   C0030   M10            S002    3.0        2     0  DB077\n",
       "236   U0003    R01   C0003   M01            S001    3.0        2     0  DB048\n",
       "237   U0003    R01   C0003   M01            S001    3.0        2     0  DB048\n",
       "238   U0129    R01   C0030   M10            S002    3.0        2     0  DB077\n",
       "239   U0131    R02   C0031   M07            S004    3.0        2     0  DB031"
      ]
     },
     "execution_count": 84,
     "metadata": {},
     "output_type": "execute_result"
    }
   ],
   "source": [
    "data_01[dw].nsmallest(5, 'hour')"
   ]
  },
  {
   "cell_type": "code",
   "execution_count": null,
   "metadata": {},
   "outputs": [],
   "source": []
  }
 ],
 "metadata": {
  "kernelspec": {
   "display_name": "Python 3",
   "language": "python",
   "name": "python3"
  },
  "language_info": {
   "codemirror_mode": {
    "name": "ipython",
    "version": 3
   },
   "file_extension": ".py",
   "mimetype": "text/x-python",
   "name": "python",
   "nbconvert_exporter": "python",
   "pygments_lexer": "ipython3",
   "version": "3.7.6"
  }
 },
 "nbformat": 4,
 "nbformat_minor": 4
}
