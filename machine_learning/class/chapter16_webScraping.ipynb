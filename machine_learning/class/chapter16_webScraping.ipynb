{
 "cells": [
  {
   "cell_type": "markdown",
   "metadata": {},
   "source": [
    "## 비정형 데이터 분석\n",
    "\n",
    "- 정형(structured) 데이터: 표 형태의 데이터\n",
    "- 비정형(unstructured) 데이터: 텍스트, 이미지, 음성 등"
   ]
  },
  {
   "cell_type": "markdown",
   "metadata": {},
   "source": [
    "# 웹 스크래핑 1"
   ]
  },
  {
   "cell_type": "markdown",
   "metadata": {},
   "source": [
    "### Python으로 URL 분석하기"
   ]
  },
  {
   "cell_type": "code",
   "execution_count": null,
   "metadata": {},
   "outputs": [],
   "source": [
    "import urllib.parse"
   ]
  },
  {
   "cell_type": "code",
   "execution_count": null,
   "metadata": {},
   "outputs": [],
   "source": [
    "p = urllib.parse.urlparse('http://www.bobaedream.co.kr/mycar/mycar_list.php?sel_m_gubun=ALL&page=2')"
   ]
  },
  {
   "cell_type": "code",
   "execution_count": null,
   "metadata": {},
   "outputs": [],
   "source": [
    "p.scheme"
   ]
  },
  {
   "cell_type": "code",
   "execution_count": null,
   "metadata": {},
   "outputs": [],
   "source": [
    "p.hostname"
   ]
  },
  {
   "cell_type": "code",
   "execution_count": null,
   "metadata": {},
   "outputs": [],
   "source": [
    "p.path"
   ]
  },
  {
   "cell_type": "code",
   "execution_count": null,
   "metadata": {},
   "outputs": [],
   "source": [
    "p.query"
   ]
  },
  {
   "cell_type": "markdown",
   "metadata": {},
   "source": [
    "### 요청보내기"
   ]
  },
  {
   "cell_type": "code",
   "execution_count": null,
   "metadata": {},
   "outputs": [],
   "source": [
    "import requests"
   ]
  },
  {
   "cell_type": "code",
   "execution_count": null,
   "metadata": {},
   "outputs": [],
   "source": [
    "# GET 요청을 보내고 응답을 받아와 res 변수에 할당한다.\n",
    "url = 'http://www.bobaedream.co.kr/mycar/mycar_list.php?sel_m_gubun=ALL&page=2'\n",
    "res = requests.get(url)"
   ]
  },
  {
   "cell_type": "code",
   "execution_count": null,
   "metadata": {},
   "outputs": [],
   "source": [
    "res"
   ]
  },
  {
   "cell_type": "code",
   "execution_count": null,
   "metadata": {},
   "outputs": [],
   "source": [
    "res.status_code\n",
    "# 응답의 상태 코드를 확인하면 200번을 얻는다."
   ]
  },
  {
   "cell_type": "code",
   "execution_count": null,
   "metadata": {},
   "outputs": [],
   "source": [
    "requests.get('http://www.bobaedream.co.kr/aaaaaaa')"
   ]
  },
  {
   "cell_type": "markdown",
   "metadata": {},
   "source": [
    "## 상태코드\n",
    "\n",
    "- 2XX: 성공\n",
    "- 3XX: 다른 주소로 이동\n",
    "- 4XX: 클라이언트 오류\n",
    "  - 404: 존재하지 않는 주소\n",
    "- 5XX: 서버 오류\n",
    "  - 503: 서버가 다운 등의 문제로 서비스 불가 상태"
   ]
  },
  {
   "cell_type": "markdown",
   "metadata": {},
   "source": [
    "## HTML\n",
    "\n",
    "- 웹 페이지의 내용을 표현하는 방법\n",
    "- 노드라는 단위로 구성\n",
    "- 하나의 노드는 여는 태그, 태그의 내용, 닫는 태그로 구성\n",
    "- 예: `<a href=\"http://www.google.com\">구글</a>`\n",
    "  - 여는 태그: `<a href=\"http://www.google.com\">`\n",
    "  - 내용: `구글`\n",
    "  - 닫는 태그: `</a>`"
   ]
  },
  {
   "cell_type": "markdown",
   "metadata": {},
   "source": [
    "## 개발자 도구\n",
    "\n",
    "- 웹 브라우저에서 F12 또는 우클릭 후 \"검사\" 메뉴를 클릭하면 개발자도구로 진입\n",
    "- HTML의 구조와 통신 내역 등을 확인"
   ]
  },
  {
   "cell_type": "markdown",
   "metadata": {},
   "source": [
    "## HTML의 주요 태그\n",
    "\n",
    "- div: 구역(division)\n",
    "- span: 범위(span)\n",
    "- ul: 번호 없는 리스트(unordered list)\n",
    "- ol: 번호 리스트(ordered list)\n",
    "- li: 리스트 항목(list item)\n",
    "- a: 링크(anchor)"
   ]
  },
  {
   "cell_type": "markdown",
   "metadata": {},
   "source": [
    "## 응답 내용에서 특정 태그 찾기\n",
    "\n",
    "먼저 cssselect 패키지를 설치한다."
   ]
  },
  {
   "cell_type": "code",
   "execution_count": null,
   "metadata": {},
   "outputs": [],
   "source": [
    "#!pip install cssselect"
   ]
  },
  {
   "cell_type": "markdown",
   "metadata": {},
   "source": [
    "HTML 해석을 위한 lxml.html을 불러온다."
   ]
  },
  {
   "cell_type": "code",
   "execution_count": null,
   "metadata": {},
   "outputs": [],
   "source": [
    "import lxml.html"
   ]
  },
  {
   "cell_type": "markdown",
   "metadata": {},
   "source": [
    "응답의 텍스트(res.text)를 해석한다."
   ]
  },
  {
   "cell_type": "code",
   "execution_count": null,
   "metadata": {},
   "outputs": [],
   "source": [
    "root = lxml.html.fromstring(res.text)"
   ]
  },
  {
   "cell_type": "markdown",
   "metadata": {},
   "source": [
    "a 태그를 모두 찾는다."
   ]
  },
  {
   "cell_type": "code",
   "execution_count": null,
   "metadata": {},
   "outputs": [],
   "source": [
    "root.cssselect('a')"
   ]
  },
  {
   "cell_type": "markdown",
   "metadata": {},
   "source": [
    "## 속성\n",
    "HTML 태그는 **속성**(attribute)라는 추가 정보를 포함한다. 대표적인 것은 다음과 같다.\n",
    "\n",
    "- `id`: 노드의 고유 아이디\n",
    "- `class`: 노드의 서식 유형\n",
    "- `href`: `a` 태그에만 사용. 링크된 주소.\n",
    "\n",
    "## CSS 선택자\n",
    "- HTML에서 특정 노드를 선택하기 위한 표기법\n",
    "- `.cssselect` 함수에 사용한다\n",
    "\n",
    "## 클래스의 선택자\n",
    "- 특정 class의 태그를 지정할 때는 `태그.클래스`와 같이 `.`으로 표시한다\n",
    "- 선택자에서 `p.tit`는 HTML에서 `<p class=\"tit\">`"
   ]
  },
  {
   "cell_type": "code",
   "execution_count": null,
   "metadata": {},
   "outputs": [],
   "source": [
    "root.cssselect('em.cr')"
   ]
  },
  {
   "cell_type": "markdown",
   "metadata": {},
   "source": [
    "## 클래스가 2개일 때\n",
    "- `태그.클래스1.클래스2`와 같이 `.`으로 구분하여 표시한다\n",
    "- 선택자에서 `p.tit.ellipsis`는 HTML에서 `<p class=\"tit ellipsis\">`\n",
    "- `p.tit`이나 `p.ellipsis`만 해도 `p.tit.ellipsis`는 선택 된다\n",
    "\n",
    "## 포함관계인 노드의 선택자\n",
    "```html\n",
    "<p class=\"tit ellipsis\">\n",
    "    <a href=\"...\">아우디 A8</a>\n",
    "</p>\n",
    "```\n",
    "- 위의 예는 `p` 태그 안에 `a` 태그가 포함됨\n",
    "- 선택자에서 포함관계는 공백으로 표시: `p.tit a`"
   ]
  },
  {
   "cell_type": "code",
   "execution_count": null,
   "metadata": {},
   "outputs": [],
   "source": [
    "links = root.cssselect('p.tit a')"
   ]
  },
  {
   "cell_type": "code",
   "execution_count": null,
   "metadata": {},
   "outputs": [],
   "source": [
    "links"
   ]
  },
  {
   "cell_type": "markdown",
   "metadata": {},
   "source": [
    "## href 속성 모으기\n",
    "\n",
    "링크의 걸린 주소를 수집한다"
   ]
  },
  {
   "cell_type": "code",
   "execution_count": null,
   "metadata": {},
   "outputs": [],
   "source": [
    "link = links[0]"
   ]
  },
  {
   "cell_type": "code",
   "execution_count": null,
   "metadata": {},
   "outputs": [],
   "source": [
    "link.attrib['href'] "
   ]
  },
  {
   "cell_type": "code",
   "execution_count": null,
   "metadata": {},
   "outputs": [],
   "source": [
    "for link in links:\n",
    "    print(link.attrib['href'])"
   ]
  },
  {
   "cell_type": "code",
   "execution_count": null,
   "metadata": {},
   "outputs": [],
   "source": [
    "x = [1,2,3]\n",
    "x.append(5)\n",
    "x"
   ]
  },
  {
   "cell_type": "code",
   "execution_count": null,
   "metadata": {},
   "outputs": [],
   "source": [
    "urls = []\n",
    "for link in links:\n",
    "    urls.append(link.attrib['href'])"
   ]
  },
  {
   "cell_type": "code",
   "execution_count": null,
   "metadata": {},
   "outputs": [],
   "source": [
    "urls"
   ]
  },
  {
   "cell_type": "markdown",
   "metadata": {},
   "source": [
    "## 상대주소\n",
    "\n",
    "- `/mycar/mycar_view.php?no=1944109&gubun=K`는 스키마와 호스트가 생략된 상대주소\n",
    "\n",
    "- 원래 주소 `http://www.bobaedream.co.kr/mycar/mycar_list.php?sel_m_gubun=ALL&page=2`를 이용해 절대주소로 변환"
   ]
  },
  {
   "cell_type": "code",
   "execution_count": null,
   "metadata": {},
   "outputs": [],
   "source": [
    "import urllib.parse"
   ]
  },
  {
   "cell_type": "code",
   "execution_count": null,
   "metadata": {},
   "outputs": [],
   "source": [
    "urllib.parse.urljoin(url, '/mycar/mycar_view.php?no=1944109&gubun=K')"
   ]
  },
  {
   "cell_type": "markdown",
   "metadata": {},
   "source": [
    "링크된 주소를 절대 주소로 수집"
   ]
  },
  {
   "cell_type": "code",
   "execution_count": null,
   "metadata": {},
   "outputs": [],
   "source": [
    "urls = []\n",
    "for link in links:\n",
    "    href = urllib.parse.urljoin(url, link.attrib['href'])\n",
    "    urls.append(href)"
   ]
  },
  {
   "cell_type": "code",
   "execution_count": null,
   "metadata": {},
   "outputs": [],
   "source": [
    "urls"
   ]
  },
  {
   "cell_type": "markdown",
   "metadata": {},
   "source": [
    "링크에서 텍스트를 추출"
   ]
  },
  {
   "cell_type": "code",
   "execution_count": null,
   "metadata": {},
   "outputs": [],
   "source": [
    "texts = []\n",
    "for link in links:\n",
    "    texts.append(link.text_content())"
   ]
  },
  {
   "cell_type": "code",
   "execution_count": null,
   "metadata": {},
   "outputs": [],
   "source": [
    "texts"
   ]
  },
  {
   "cell_type": "markdown",
   "metadata": {},
   "source": [
    "수집된 주소를 저장"
   ]
  },
  {
   "cell_type": "code",
   "execution_count": null,
   "metadata": {},
   "outputs": [],
   "source": [
    "import pandas"
   ]
  },
  {
   "cell_type": "code",
   "execution_count": null,
   "metadata": {},
   "outputs": [],
   "source": [
    "df = pandas.DataFrame({'url': urls, 'text': texts})"
   ]
  },
  {
   "cell_type": "code",
   "execution_count": null,
   "metadata": {},
   "outputs": [],
   "source": [
    "df.head()"
   ]
  },
  {
   "cell_type": "code",
   "execution_count": null,
   "metadata": {},
   "outputs": [],
   "source": [
    "df.to_excel('중고차.xlsx')"
   ]
  },
  {
   "cell_type": "markdown",
   "metadata": {},
   "source": [
    "# 웹 스크랩 2"
   ]
  },
  {
   "cell_type": "markdown",
   "metadata": {},
   "source": [
    "## 네이버 의사모\n",
    "- PC버전: https://cafe.naver.com/duoin\n",
    "- 모바일버전: https://m.cafe.naver.com/duoin\n",
    "\n",
    "모바일 버전은 주소 m이 들어가있는 형태가 많음\n",
    "\n",
    "## 본문 긁기\n",
    "https://m.cafe.naver.com/ArticleRead.nhn?clubid=19773565&articleid=83048&page=1&boardtype=L&menuid=366"
   ]
  },
  {
   "cell_type": "code",
   "execution_count": null,
   "metadata": {},
   "outputs": [],
   "source": [
    "import requests\n",
    "article_url = 'https://m.cafe.naver.com/ArticleRead.nhn?clubid=19773565&articleid=83048&page=1&boardtype=L&menuid=366'"
   ]
  },
  {
   "cell_type": "code",
   "execution_count": null,
   "metadata": {},
   "outputs": [],
   "source": [
    "res = requests.get(article_url)"
   ]
  },
  {
   "cell_type": "markdown",
   "metadata": {},
   "source": [
    "## id 선택자\n",
    "\n",
    "- 본문 영역은 다음 태그로 감싸여 있다\n",
    "\n",
    "```html\n",
    "<div id=\"postContent\" class=\"post_cont font_zoom1\" style=\"overflow-x:auto;\">\n",
    "```\n",
    "\n",
    "- `id`는 선택자에서 `#`으로 표시"
   ]
  },
  {
   "cell_type": "code",
   "execution_count": null,
   "metadata": {},
   "outputs": [],
   "source": [
    "import lxml.html\n",
    "root = lxml.html.fromstring(res.text)"
   ]
  },
  {
   "cell_type": "code",
   "execution_count": null,
   "metadata": {},
   "outputs": [],
   "source": [
    "root.cssselect('div#postContent')"
   ]
  },
  {
   "cell_type": "markdown",
   "metadata": {},
   "source": [
    "## 본문 내용 보기\n",
    "\n",
    "- `cssselect`는 결과를 항상 리스트 형식으로 반환\n",
    "- 본문은 리스트의 첫번째 값이므로 0번을 지정"
   ]
  },
  {
   "cell_type": "code",
   "execution_count": null,
   "metadata": {},
   "outputs": [],
   "source": [
    "content = root.cssselect('div#postContent')[0]"
   ]
  },
  {
   "cell_type": "code",
   "execution_count": null,
   "metadata": {},
   "outputs": [],
   "source": [
    "content.text_content()"
   ]
  },
  {
   "cell_type": "markdown",
   "metadata": {},
   "source": [
    "## 정규표현식으로 공백지우기\n",
    "\n",
    "- `\\n`, `\\t`는 엔터와 탭을 나타냄. \n",
    "- 공백문자는 택스트 분석에서 무시되므로 굳이 지울 필요는 없음\n",
    "- 깔끔하게 처리하고 싶으면\n",
    "- 불필요한 공백을 지우려면 다음과 같이 정규표현식 사용"
   ]
  },
  {
   "cell_type": "code",
   "execution_count": null,
   "metadata": {},
   "outputs": [],
   "source": [
    "import re"
   ]
  },
  {
   "cell_type": "code",
   "execution_count": null,
   "metadata": {},
   "outputs": [],
   "source": [
    "re.sub('[\\s\\u200b]+', ' ', content.text_content())"
   ]
  },
  {
   "cell_type": "markdown",
   "metadata": {},
   "source": [
    "## 정규표현식 설명\n",
    "\n",
    "- 정규표현식에서 `[]`는 교체할 글자 범위\n",
    "- `\\s`는 일반적 공백\n",
    "- `\\u200b는 유니코드의 `200B` 폭없는 공백 문자\n",
    "- 끝의 +는 1개 이상이라는 뜻\n",
    "- `[\\s\\u200b]+` '공백과 폭 없는 공백문자가 1개 이상 반복되는 경우'"
   ]
  },
  {
   "cell_type": "markdown",
   "metadata": {},
   "source": [
    "## 회원 전용 게시판\n",
    "\n",
    "- 모바일 버전으로 접속\n",
    "- 우상단 ☰ 버튼 클릭 후 아래쪽에서 찾음\n",
    "\n",
    "https://m.cafe.naver.com/ArticleList.nhn?search.clubid=19773565&search.menuid=98&search.boardtype=L\n",
    "\n",
    "- 대부분 게시물이 회원만 볼 수 있음\n",
    "\n",
    "https://m.cafe.naver.com/ArticleRead.nhn?clubid=19773565&articleid=82659&page=1&boardtype=L&menuid=98"
   ]
  },
  {
   "cell_type": "markdown",
   "metadata": {},
   "source": [
    "회원 전용 게시판 스크랩"
   ]
  },
  {
   "cell_type": "code",
   "execution_count": null,
   "metadata": {},
   "outputs": [],
   "source": [
    "article_url = 'https://m.cafe.naver.com/ArticleRead.nhn?clubid=19773565&articleid=82659&page=1&boardtype=L&menuid=98'"
   ]
  },
  {
   "cell_type": "code",
   "execution_count": null,
   "metadata": {},
   "outputs": [],
   "source": [
    "res = requests.get(article_url)"
   ]
  },
  {
   "cell_type": "code",
   "execution_count": null,
   "metadata": {},
   "outputs": [],
   "source": [
    "root = lxml.html.fromstring(res.text)"
   ]
  },
  {
   "cell_type": "markdown",
   "metadata": {},
   "source": [
    "본문을 읽을 수 없음"
   ]
  },
  {
   "cell_type": "code",
   "execution_count": null,
   "metadata": {},
   "outputs": [],
   "source": [
    "root.cssselect('#postContent')"
   ]
  },
  {
   "cell_type": "markdown",
   "metadata": {},
   "source": [
    "## 리퍼러 바꾸기\n",
    "\n",
    "- 대부분 네이버 카페 게시물은 검색을 통해서 들어가면 게시물을 볼 수 있음\n",
    "- 마치 검색을 거쳐온 것처럼 하면 회원 전용 게시물도 열람 가능\n",
    "- 리퍼러(referer): 거쳐온 주소"
   ]
  },
  {
   "cell_type": "code",
   "execution_count": null,
   "metadata": {},
   "outputs": [],
   "source": [
    "search_url = 'https://search.naver.com/search.naver?sm=top_hty&fbm=1&ie=utf8&query=1'"
   ]
  },
  {
   "cell_type": "code",
   "execution_count": null,
   "metadata": {},
   "outputs": [],
   "source": [
    "res = requests.get(article_url, headers={'Referer': search_url})"
   ]
  },
  {
   "cell_type": "code",
   "execution_count": null,
   "metadata": {},
   "outputs": [],
   "source": [
    "root = lxml.html.fromstring(res.text)"
   ]
  },
  {
   "cell_type": "markdown",
   "metadata": {},
   "source": [
    "본문 영역이 선택됨"
   ]
  },
  {
   "cell_type": "code",
   "execution_count": null,
   "metadata": {},
   "outputs": [],
   "source": [
    "root.cssselect('#postContent')"
   ]
  },
  {
   "cell_type": "markdown",
   "metadata": {},
   "source": [
    "## 한글이 깨지는 경우\n",
    "\n",
    "대법원 홈페이지에 접속하면 한글이 깨져보인다"
   ]
  },
  {
   "cell_type": "code",
   "execution_count": null,
   "metadata": {},
   "outputs": [],
   "source": [
    "res = requests.get('http://scourt.go.kr/scourt/index.html')"
   ]
  },
  {
   "cell_type": "code",
   "execution_count": null,
   "metadata": {},
   "outputs": [],
   "source": [
    "root = lxml.html.fromstring(res.text)"
   ]
  },
  {
   "cell_type": "code",
   "execution_count": null,
   "metadata": {},
   "outputs": [],
   "source": [
    "root.cssselect('title')[0].text_content()"
   ]
  },
  {
   "cell_type": "markdown",
   "metadata": {},
   "source": [
    "## 한글 인코딩\n",
    "- 컴퓨터는 모든 것을 수(number)로 다룸\n",
    "- 한글 인코딩: 한글을 수로 나타내는 방법\n",
    "- 현재 국내에서 흔히 사용되는 인코딩은 2가지\n",
    "  - UTF-8: 유니코드라는 국제 표준의 한 형식\n",
    "  - EUC-KR: 완성형 국내 표준\n",
    "\n",
    "## requests의 인코딩 처리\n",
    "- 인코딩을 자동 인식하나 가끔 부정확\n",
    "- 대법원 사이트의 경우 EUC-KR을 ISO-8859-1로 오인식\n",
    "- ISO-8859-1은 서유럽 언어를 위한 유니코드 이전 국제표준(Latin-1)\n",
    "\n",
    "## 인코딩 바꾸기\n",
    "- 인코딩 값을 바꿔주면 됨\n",
    "- 국내 사이트의 경우 `euc-kr`과 `utf8` 둘 중에 하나이므로 하나씩 시도"
   ]
  },
  {
   "cell_type": "code",
   "execution_count": null,
   "metadata": {},
   "outputs": [],
   "source": [
    "res.encoding"
   ]
  },
  {
   "cell_type": "code",
   "execution_count": null,
   "metadata": {},
   "outputs": [],
   "source": [
    "res.encoding = 'euc-kr'\n",
    "#res.encoding = 'utf-8'"
   ]
  },
  {
   "cell_type": "markdown",
   "metadata": {},
   "source": [
    "다시 처리해보면"
   ]
  },
  {
   "cell_type": "code",
   "execution_count": null,
   "metadata": {},
   "outputs": [],
   "source": [
    "root = lxml.html.fromstring(res.text)"
   ]
  },
  {
   "cell_type": "code",
   "execution_count": null,
   "metadata": {},
   "outputs": [],
   "source": [
    "root.cssselect('title')[0].text_content()"
   ]
  },
  {
   "cell_type": "markdown",
   "metadata": {},
   "source": [
    "# 셀레늄"
   ]
  },
  {
   "cell_type": "markdown",
   "metadata": {},
   "source": [
    "## 학습목표\n",
    "\n",
    "웹브라우저가 필요한 상황에서 셀레늄을 이용해 스크래핑하는 방법을 알아본다"
   ]
  },
  {
   "cell_type": "markdown",
   "metadata": {},
   "source": [
    "## 최근의 웹 트렌드\n",
    "\n",
    "- HTML + 프로그램(JavaScript)\n",
    "- 웹 페이지의 내용이 동적으로 변화\n",
    "- 단순히 HTML만 긁어서 내용 파악이 불가능"
   ]
  },
  {
   "cell_type": "markdown",
   "metadata": {},
   "source": [
    "## 트립어드바이저\n",
    "\n",
    "https://www.tripadvisor.co.kr/Restaurant_Review-g294197-d1371740-Reviews-Mugyodong_Bugeokukjib-Seoul.html\n",
    "\n",
    "- 리뷰의 모든 내용은 '더보기' 버튼을 클릭해야 볼 수 있음\n",
    "- 개발자 도구에서 Network를 확인해보면 더보기 버튼 클릭시 통신이 이뤄지며 리뷰 내용을 가져오는 것을 확인"
   ]
  },
  {
   "cell_type": "markdown",
   "metadata": {},
   "source": [
    "## 리뷰 수집 방법\n",
    "\n",
    "1. '더보기' 버튼을 클릭했을 때 통신 내역을 requests로 따라한다\n",
    "2. 웹 브라우저를 띄워서 '더보기' 버튼을 클릭한다"
   ]
  },
  {
   "cell_type": "markdown",
   "metadata": {},
   "source": [
    "## 셀레늄\n",
    "\n",
    "- 웹 브라우저 제어 도구\n",
    "- 원래는 웹 사이트 자동 테스트를 위한 목적\n",
    "- 웹 사이트에 requests 등으로 긁기 어려운 부분이 있을 때 활용\n",
    "- 속도는 느림"
   ]
  },
  {
   "cell_type": "markdown",
   "metadata": {},
   "source": [
    "## 드라이버\n",
    "\n",
    "브라우저별로 '드라이버'가 필요\n",
    "\n",
    "  1. 셀레늄 홈페이지 https://www.seleniumhq.org/\n",
    "  2. Download 탭 이동\n",
    "  3. 필요한 드라이버 링크 선택"
   ]
  },
  {
   "cell_type": "markdown",
   "metadata": {},
   "source": [
    "## 크롬 드라이버\n",
    "\n",
    "- 인터넷 익스플로러는 셀레늄과 문제가 있음\n",
    "- 구글 크롬(Chrome) 사용을 추천\n",
    "  1. 셀레늄 홈페이지에서 Google Chrome Driver를 클릭\n",
    "  2. Latest Release 링크를 클릭\n",
    "  3. Chrome Driver X.XX 링크를 클릭\n",
    "  4. 운영체제(win, mac, linux)에 맞는 파일을 다운로드\n",
    "  5. 압축을 해제\n",
    "  6. chromedriver.exe 파일을 현재 작업 폴더로 복사"
   ]
  },
  {
   "cell_type": "markdown",
   "metadata": {},
   "source": [
    "## 크롬 브라우저 띄우기"
   ]
  },
  {
   "cell_type": "code",
   "execution_count": 9,
   "metadata": {},
   "outputs": [],
   "source": [
    "from selenium.webdriver import Chrome"
   ]
  },
  {
   "cell_type": "code",
   "execution_count": 13,
   "metadata": {},
   "outputs": [
    {
     "ename": "WebDriverException",
     "evalue": "Message: 'chromedriver' executable needs to be in PATH. Please see https://sites.google.com/a/chromium.org/chromedriver/home\n",
     "output_type": "error",
     "traceback": [
      "\u001b[0;31m---------------------------------------------------------------------------\u001b[0m",
      "\u001b[0;31mFileNotFoundError\u001b[0m                         Traceback (most recent call last)",
      "\u001b[0;32m/opt/anaconda3/lib/python3.7/site-packages/selenium/webdriver/common/service.py\u001b[0m in \u001b[0;36mstart\u001b[0;34m(self)\u001b[0m\n\u001b[1;32m     75\u001b[0m                                             \u001b[0mstderr\u001b[0m\u001b[0;34m=\u001b[0m\u001b[0mself\u001b[0m\u001b[0;34m.\u001b[0m\u001b[0mlog_file\u001b[0m\u001b[0;34m,\u001b[0m\u001b[0;34m\u001b[0m\u001b[0;34m\u001b[0m\u001b[0m\n\u001b[0;32m---> 76\u001b[0;31m                                             stdin=PIPE)\n\u001b[0m\u001b[1;32m     77\u001b[0m         \u001b[0;32mexcept\u001b[0m \u001b[0mTypeError\u001b[0m\u001b[0;34m:\u001b[0m\u001b[0;34m\u001b[0m\u001b[0;34m\u001b[0m\u001b[0m\n",
      "\u001b[0;32m/opt/anaconda3/lib/python3.7/subprocess.py\u001b[0m in \u001b[0;36m__init__\u001b[0;34m(self, args, bufsize, executable, stdin, stdout, stderr, preexec_fn, close_fds, shell, cwd, env, universal_newlines, startupinfo, creationflags, restore_signals, start_new_session, pass_fds, encoding, errors, text)\u001b[0m\n\u001b[1;32m    799\u001b[0m                                 \u001b[0merrread\u001b[0m\u001b[0;34m,\u001b[0m \u001b[0merrwrite\u001b[0m\u001b[0;34m,\u001b[0m\u001b[0;34m\u001b[0m\u001b[0;34m\u001b[0m\u001b[0m\n\u001b[0;32m--> 800\u001b[0;31m                                 restore_signals, start_new_session)\n\u001b[0m\u001b[1;32m    801\u001b[0m         \u001b[0;32mexcept\u001b[0m\u001b[0;34m:\u001b[0m\u001b[0;34m\u001b[0m\u001b[0;34m\u001b[0m\u001b[0m\n",
      "\u001b[0;32m/opt/anaconda3/lib/python3.7/subprocess.py\u001b[0m in \u001b[0;36m_execute_child\u001b[0;34m(self, args, executable, preexec_fn, close_fds, pass_fds, cwd, env, startupinfo, creationflags, shell, p2cread, p2cwrite, c2pread, c2pwrite, errread, errwrite, restore_signals, start_new_session)\u001b[0m\n\u001b[1;32m   1550\u001b[0m                             \u001b[0merr_msg\u001b[0m \u001b[0;34m+=\u001b[0m \u001b[0;34m': '\u001b[0m \u001b[0;34m+\u001b[0m \u001b[0mrepr\u001b[0m\u001b[0;34m(\u001b[0m\u001b[0merr_filename\u001b[0m\u001b[0;34m)\u001b[0m\u001b[0;34m\u001b[0m\u001b[0;34m\u001b[0m\u001b[0m\n\u001b[0;32m-> 1551\u001b[0;31m                     \u001b[0;32mraise\u001b[0m \u001b[0mchild_exception_type\u001b[0m\u001b[0;34m(\u001b[0m\u001b[0merrno_num\u001b[0m\u001b[0;34m,\u001b[0m \u001b[0merr_msg\u001b[0m\u001b[0;34m,\u001b[0m \u001b[0merr_filename\u001b[0m\u001b[0;34m)\u001b[0m\u001b[0;34m\u001b[0m\u001b[0;34m\u001b[0m\u001b[0m\n\u001b[0m\u001b[1;32m   1552\u001b[0m                 \u001b[0;32mraise\u001b[0m \u001b[0mchild_exception_type\u001b[0m\u001b[0;34m(\u001b[0m\u001b[0merr_msg\u001b[0m\u001b[0;34m)\u001b[0m\u001b[0;34m\u001b[0m\u001b[0;34m\u001b[0m\u001b[0m\n",
      "\u001b[0;31mFileNotFoundError\u001b[0m: [Errno 2] No such file or directory: 'chromedriver': 'chromedriver'",
      "\nDuring handling of the above exception, another exception occurred:\n",
      "\u001b[0;31mWebDriverException\u001b[0m                        Traceback (most recent call last)",
      "\u001b[0;32m<ipython-input-13-3400761f9336>\u001b[0m in \u001b[0;36m<module>\u001b[0;34m\u001b[0m\n\u001b[0;32m----> 1\u001b[0;31m \u001b[0mbrowser\u001b[0m \u001b[0;34m=\u001b[0m \u001b[0mChrome\u001b[0m\u001b[0;34m(\u001b[0m\u001b[0;34m)\u001b[0m\u001b[0;34m\u001b[0m\u001b[0;34m\u001b[0m\u001b[0m\n\u001b[0m",
      "\u001b[0;32m/opt/anaconda3/lib/python3.7/site-packages/selenium/webdriver/chrome/webdriver.py\u001b[0m in \u001b[0;36m__init__\u001b[0;34m(self, executable_path, port, options, service_args, desired_capabilities, service_log_path, chrome_options, keep_alive)\u001b[0m\n\u001b[1;32m     71\u001b[0m             \u001b[0mservice_args\u001b[0m\u001b[0;34m=\u001b[0m\u001b[0mservice_args\u001b[0m\u001b[0;34m,\u001b[0m\u001b[0;34m\u001b[0m\u001b[0;34m\u001b[0m\u001b[0m\n\u001b[1;32m     72\u001b[0m             log_path=service_log_path)\n\u001b[0;32m---> 73\u001b[0;31m         \u001b[0mself\u001b[0m\u001b[0;34m.\u001b[0m\u001b[0mservice\u001b[0m\u001b[0;34m.\u001b[0m\u001b[0mstart\u001b[0m\u001b[0;34m(\u001b[0m\u001b[0;34m)\u001b[0m\u001b[0;34m\u001b[0m\u001b[0;34m\u001b[0m\u001b[0m\n\u001b[0m\u001b[1;32m     74\u001b[0m \u001b[0;34m\u001b[0m\u001b[0m\n\u001b[1;32m     75\u001b[0m         \u001b[0;32mtry\u001b[0m\u001b[0;34m:\u001b[0m\u001b[0;34m\u001b[0m\u001b[0;34m\u001b[0m\u001b[0m\n",
      "\u001b[0;32m/opt/anaconda3/lib/python3.7/site-packages/selenium/webdriver/common/service.py\u001b[0m in \u001b[0;36mstart\u001b[0;34m(self)\u001b[0m\n\u001b[1;32m     81\u001b[0m                 raise WebDriverException(\n\u001b[1;32m     82\u001b[0m                     \"'%s' executable needs to be in PATH. %s\" % (\n\u001b[0;32m---> 83\u001b[0;31m                         os.path.basename(self.path), self.start_error_message)\n\u001b[0m\u001b[1;32m     84\u001b[0m                 )\n\u001b[1;32m     85\u001b[0m             \u001b[0;32melif\u001b[0m \u001b[0merr\u001b[0m\u001b[0;34m.\u001b[0m\u001b[0merrno\u001b[0m \u001b[0;34m==\u001b[0m \u001b[0merrno\u001b[0m\u001b[0;34m.\u001b[0m\u001b[0mEACCES\u001b[0m\u001b[0;34m:\u001b[0m\u001b[0;34m\u001b[0m\u001b[0;34m\u001b[0m\u001b[0m\n",
      "\u001b[0;31mWebDriverException\u001b[0m: Message: 'chromedriver' executable needs to be in PATH. Please see https://sites.google.com/a/chromium.org/chromedriver/home\n"
     ]
    }
   ],
   "source": [
    "browser = Chrome()"
   ]
  },
  {
   "cell_type": "markdown",
   "metadata": {},
   "source": [
    "크롬이 뜨면서 **Chrome이 자동화된 테스트 소프트웨어에 의해 제어되고 있습니다**라고 표시"
   ]
  },
  {
   "cell_type": "code",
   "execution_count": 3,
   "metadata": {},
   "outputs": [],
   "source": [
    "url = 'https://www.tripadvisor.co.kr/Restaurant_Review-g294197-d1371740-Reviews-Mugyodong_Bugeokukjib-Seoul.html'"
   ]
  },
  {
   "cell_type": "code",
   "execution_count": 4,
   "metadata": {},
   "outputs": [
    {
     "ename": "NameError",
     "evalue": "name 'browser' is not defined",
     "output_type": "error",
     "traceback": [
      "\u001b[0;31m---------------------------------------------------------------------------\u001b[0m",
      "\u001b[0;31mNameError\u001b[0m                                 Traceback (most recent call last)",
      "\u001b[0;32m<ipython-input-4-fbd1285cc3ac>\u001b[0m in \u001b[0;36m<module>\u001b[0;34m\u001b[0m\n\u001b[0;32m----> 1\u001b[0;31m \u001b[0mbrowser\u001b[0m\u001b[0;34m.\u001b[0m\u001b[0mget\u001b[0m\u001b[0;34m(\u001b[0m\u001b[0murl\u001b[0m\u001b[0;34m)\u001b[0m\u001b[0;34m\u001b[0m\u001b[0;34m\u001b[0m\u001b[0m\n\u001b[0m\u001b[1;32m      2\u001b[0m \u001b[0;31m#browser.get('https://www.naver.com')\u001b[0m\u001b[0;34m\u001b[0m\u001b[0;34m\u001b[0m\u001b[0;34m\u001b[0m\u001b[0m\n",
      "\u001b[0;31mNameError\u001b[0m: name 'browser' is not defined"
     ]
    }
   ],
   "source": [
    "browser.get(url)\n",
    "#browser.get('https://www.naver.com')"
   ]
  },
  {
   "cell_type": "markdown",
   "metadata": {},
   "source": [
    "## 링크 찾기\n",
    "\n",
    "- `find_elements_by_css_selector`로 '더보기' 링크를 찾는다. \n",
    "  - 단수형 `find_element_~`: 첫번째를 찾음\n",
    "  - 복수형 `find_elements_~`: 모두 찾음(`lxml.html`의 `cssselect`와 동일)"
   ]
  },
  {
   "cell_type": "code",
   "execution_count": 5,
   "metadata": {},
   "outputs": [
    {
     "ename": "NameError",
     "evalue": "name 'browser' is not defined",
     "output_type": "error",
     "traceback": [
      "\u001b[0;31m---------------------------------------------------------------------------\u001b[0m",
      "\u001b[0;31mNameError\u001b[0m                                 Traceback (most recent call last)",
      "\u001b[0;32m<ipython-input-5-34bd1e435bc1>\u001b[0m in \u001b[0;36m<module>\u001b[0;34m\u001b[0m\n\u001b[0;32m----> 1\u001b[0;31m \u001b[0mmore_links\u001b[0m \u001b[0;34m=\u001b[0m \u001b[0mbrowser\u001b[0m\u001b[0;34m.\u001b[0m\u001b[0mfind_elements_by_css_selector\u001b[0m\u001b[0;34m(\u001b[0m\u001b[0;34m'.ulBlueLinks'\u001b[0m\u001b[0;34m)\u001b[0m\u001b[0;34m\u001b[0m\u001b[0;34m\u001b[0m\u001b[0m\n\u001b[0m",
      "\u001b[0;31mNameError\u001b[0m: name 'browser' is not defined"
     ]
    }
   ],
   "source": [
    "more_links = browser.find_elements_by_css_selector('.ulBlueLinks')"
   ]
  },
  {
   "cell_type": "code",
   "execution_count": null,
   "metadata": {},
   "outputs": [],
   "source": [
    "more_links"
   ]
  },
  {
   "cell_type": "markdown",
   "metadata": {},
   "source": [
    "## 클릭\n",
    "\n",
    "`.click` 메소드로 클릭"
   ]
  },
  {
   "cell_type": "code",
   "execution_count": null,
   "metadata": {},
   "outputs": [],
   "source": [
    "for link in more_links:  # 모든 링크를\n",
    "    try:\n",
    "        link.click()     # 하나씩 클릭한다\n",
    "    except:              # 예외가 발생하면\n",
    "        pass             # 넘어간다"
   ]
  },
  {
   "cell_type": "markdown",
   "metadata": {},
   "source": [
    "## 리뷰\n",
    "\n",
    "- `.text`로 텍스트 확인\n",
    "- `lxml.html`의 `.text_content()`와 동일"
   ]
  },
  {
   "cell_type": "code",
   "execution_count": null,
   "metadata": {},
   "outputs": [],
   "source": [
    "reviews = browser.find_elements_by_css_selector('.partial_entry')"
   ]
  },
  {
   "cell_type": "code",
   "execution_count": null,
   "metadata": {},
   "outputs": [],
   "source": [
    "for review in reviews:\n",
    "    print(review.text)"
   ]
  },
  {
   "cell_type": "code",
   "execution_count": null,
   "metadata": {},
   "outputs": [],
   "source": [
    "data = []\n",
    "for review in reviews:\n",
    "    data.append(review.text)"
   ]
  },
  {
   "cell_type": "code",
   "execution_count": null,
   "metadata": {},
   "outputs": [],
   "source": [
    "import pandas as pd"
   ]
  },
  {
   "cell_type": "code",
   "execution_count": null,
   "metadata": {},
   "outputs": [],
   "source": [
    "#pd.DataFrame({'text':data}).to_excel('북어국.xlsx')\n",
    "df = pd.DataFrame({'text':data})\n",
    "df.to_excel('북어국.xlsx')"
   ]
  },
  {
   "cell_type": "markdown",
   "metadata": {},
   "source": [
    "## 셀레늄 문서\n",
    "\n",
    "https://selenium-python.readthedocs.io"
   ]
  },
  {
   "cell_type": "code",
   "execution_count": null,
   "metadata": {},
   "outputs": [],
   "source": [
    "df"
   ]
  },
  {
   "cell_type": "code",
   "execution_count": 14,
   "metadata": {},
   "outputs": [],
   "source": [
    "import os"
   ]
  },
  {
   "cell_type": "code",
   "execution_count": 15,
   "metadata": {},
   "outputs": [
    {
     "data": {
      "text/plain": [
       "'/Users/HumanRevolution/jupytercreation/class'"
      ]
     },
     "execution_count": 15,
     "metadata": {},
     "output_type": "execute_result"
    }
   ],
   "source": [
    "os.getcwd()"
   ]
  },
  {
   "cell_type": "code",
   "execution_count": 16,
   "metadata": {},
   "outputs": [],
   "source": [
    "import time"
   ]
  },
  {
   "cell_type": "code",
   "execution_count": 17,
   "metadata": {},
   "outputs": [
    {
     "name": "stdout",
     "output_type": "stream",
     "text": [
      "hell\n",
      "o\n"
     ]
    }
   ],
   "source": [
    "print('hell')\n",
    "time.sleep(3)\n",
    "print('o')"
   ]
  },
  {
   "cell_type": "markdown",
   "metadata": {},
   "source": [
    "# 워드 클라우드"
   ]
  },
  {
   "cell_type": "markdown",
   "metadata": {},
   "source": [
    "데이터 가져오기"
   ]
  },
  {
   "cell_type": "code",
   "execution_count": 1,
   "metadata": {},
   "outputs": [],
   "source": [
    "import pandas as pd\n",
    "import lxml.html\n",
    "import requests"
   ]
  },
  {
   "cell_type": "code",
   "execution_count": 2,
   "metadata": {},
   "outputs": [],
   "source": [
    "res = requests.get('https://www.nytimes.com/2019/06/03/technology/itunes-shutting-down.html')"
   ]
  },
  {
   "cell_type": "code",
   "execution_count": 3,
   "metadata": {},
   "outputs": [
    {
     "data": {
      "text/plain": [
       "<Response [200]>"
      ]
     },
     "execution_count": 3,
     "metadata": {},
     "output_type": "execute_result"
    }
   ],
   "source": [
    "res"
   ]
  },
  {
   "cell_type": "code",
   "execution_count": 4,
   "metadata": {},
   "outputs": [],
   "source": [
    "root = lxml.html.fromstring(res.text)"
   ]
  },
  {
   "cell_type": "code",
   "execution_count": 5,
   "metadata": {},
   "outputs": [],
   "source": [
    "content = root.cssselect('[itemProp=\"articleBody\"]')[0].text_content()"
   ]
  },
  {
   "cell_type": "code",
   "execution_count": 6,
   "metadata": {},
   "outputs": [
    {
     "data": {
      "text/plain": [
       "'Dearly beloved,We are gathered here today to say goodbye to our friend iTunes, who went to the great trash can in the sky on Monday.It was a gentle, dignified passing. ITunes was surrounded by family and friends at Apple’s annual developer conference when Apple executives announced that it would be dismantled, and its features would be split among three apps: Apple Music, Apple Podcasts and Apple TV.ITunes entered this world 18 years ago as a “digital jukebox” that let users import their favorite CDs, organize their libraries and burn custom mixes. It then became a music store of its own — a magical, one-click emporium where 99 cents could get you almost any song under the sun. Steve Jobs heralded its birth as the dawn of a new age of media consumption, one in which consumers would own the digital rights to their own music.“We think people want to buy their music on the internet by buying downloads, just like they bought LPs, just like they bought cassettes, just like they bought CDs,” he said in a 2003 talk.[Highlights from Apple’s Worldwide Developers Conference: $6,000 Macs and more.]At the time, iTunes represented an ambitious attempt to wrest control of digital music back from Napster and other bootleg file-sharing services, which were causing havoc in the music industry. Apple was betting that people would pay for music if it was legal, cheap and easy.The fact that many popular Windows file-sharing apps were ridden with bugs and malware didn’t hurt. Mr. Jobs joked that giving Windows users access to iTunes’s clean interface was “like giving a glass of ice water to somebody in hell.”I first met iTunes back in high school. I was a music nerd and a cheapskate, and I had amassed a library of tens of thousands of MP3s, most of them downloaded illegally from services like Napster and Limewire. I imported those songs into iTunes, and spent untold hundreds of hours naming, categorizing and arranging them into a pristine music collection that would have made the librarians of ancient Alexandria jealous.I swore I would never pay for music again, but a few years later, Apple won me over with its reliable file quality, speedy downloads and ability to sync music across devices. ITunes was simple and elegant, and it assuaged my fear of going to jail for music piracy. Within a few years, Napster had been sued out of existence, and I was getting most of my music from a company that, just a few years earlier, had been known for selling candy-colored computers.In the commercial internet’s early days, it was a common refrain among techies that “information wants to be free,” and many assumed that people would never buy content that they could get without paying, even if it required little effort.ITunes and its 99-cent songs proved those people wrong, and created an entirely new business model for digital media. That breakthrough not only saved the music industry — it may have saved the film, TV and book publishing industries, too.I’ve come to think of iTunes as a core piece of what I call the Middle Internet — the period between the Wild West days of Napster and the hyper-centralized era of Facebook and YouTube.It was an era of clean, well-lit marketplaces where people could buy things to listen to, without worrying about buffering or corrupted files. It filled an important technological gap in the period when lots of people had internet access, but few people had smartphones with data plans capable of streaming high-quality media on demand.And it was a time when people actively curated their own online media, rather than having it algorithmically spoon-fed to them.But nothing gold can stay. And in the early part of this decade, subscription music services like Spotify and Pandora, which offered an all-you-can-eat bacchanal of music for a monthly subscription fee, began to eat away at Apple’s advantage.Ultimately, Mr. Jobs’s prophecy was wrong. People wanted to rent access to a centralized streaming library, not pay a small fee to own every song. As streaming services grew, sales of music downloads plummeted. According to the Recording Industry Association of America, downloads now make up a smaller percentage of recording sales than physical albums — a twist Mr. Jobs could never have seen coming.In 2015, Apple tried to rescue iTunes by bolting on its own streaming service, Apple Music. But the idea was doomed from the outset. People couldn’t figure out the new, Frankensteinian hybrid. Which of their songs were hosted in the cloud? Why did they need to re-enter their Apple ID every time they wanted to play an album? Where were their downloads going? Marco Arment, a longtime Apple blogger, called iTunes a “toxic hellstew.”Since we’re among friends, I can be candid: ITunes didn’t age well. In recent years, it had become a bloated, buggy nightmare. Apple crammed more and more into iTunes — movies, TV shows, podcasts — until the whole thing was slow and confusing.My encounters with the program were increasingly maddening: I’d open an audio file in iTunes by mistake, wait three minutes for it to load, and have to force-quit the app in frustration. (And don’t even get me started on the time iTunes forced a U2 album on millions of unsuspecting people — midlife crisis doesn’t even begin to describe it.)But let’s not remember iTunes as the mess it became. Instead, let’s remember it as it once was: a revolutionary product that transformed the music industry, ushered in a new model of digital ownership and tamed a messy, chaotic part of the internet by building something simple and elegant to replace it.My 15-year-old self, drunk on freedom and awash in pirated MP3s, might have cheered the demise of a corporate-controlled music clearinghouse. But my current self gets a little wistful watching an icon of the old internet pass into obsolescence, and knowing that the iTunes library I spent all those hours perfecting is collecting dust on a hard drive somewhere in my closet, another casualty of progress.'"
      ]
     },
     "execution_count": 6,
     "metadata": {},
     "output_type": "execute_result"
    }
   ],
   "source": [
    "content"
   ]
  },
  {
   "cell_type": "markdown",
   "metadata": {},
   "source": [
    "TDM"
   ]
  },
  {
   "cell_type": "code",
   "execution_count": null,
   "metadata": {},
   "outputs": [],
   "source": [
    "from sklearn.feature_extraction.text import CountVectorizer\n",
    "cv = CountVectorizer(stop_words='english')"
   ]
  },
  {
   "cell_type": "code",
   "execution_count": null,
   "metadata": {},
   "outputs": [],
   "source": [
    "tdm = cv.fit_transform([content]).toarray()"
   ]
  },
  {
   "cell_type": "code",
   "execution_count": null,
   "metadata": {},
   "outputs": [],
   "source": [
    "df = pd.DataFrame({\n",
    "    'word': cv.get_feature_names(),\n",
    "    'freq': tdm.flat\n",
    "})"
   ]
  },
  {
   "cell_type": "code",
   "execution_count": null,
   "metadata": {},
   "outputs": [],
   "source": [
    "df.sort_values('freq', ascending=False).head(20)"
   ]
  },
  {
   "cell_type": "markdown",
   "metadata": {},
   "source": [
    "단어 구름 그리기"
   ]
  },
  {
   "cell_type": "code",
   "execution_count": null,
   "metadata": {},
   "outputs": [],
   "source": [
    "from wordcloud import WordCloud"
   ]
  },
  {
   "cell_type": "code",
   "execution_count": null,
   "metadata": {},
   "outputs": [],
   "source": [
    "wc = WordCloud(width=400, height=400, background_color='white')\n",
    "#wc = WordCloud(font_path='C:\\Windows\\Fonts\\malgun.ttf', width=400, height=400, background_color='white')\n",
    "# 한글 파일일 경우 폰트 지정할 것."
   ]
  },
  {
   "cell_type": "code",
   "execution_count": null,
   "metadata": {},
   "outputs": [],
   "source": [
    "frequencies = {word: freq for word, freq in zip(cv.get_feature_names(), tdm.flat)}\n",
    "# dictionery 형태로 변경"
   ]
  },
  {
   "cell_type": "code",
   "execution_count": null,
   "metadata": {},
   "outputs": [],
   "source": [
    "wc.fit_words(frequencies)"
   ]
  },
  {
   "cell_type": "code",
   "execution_count": null,
   "metadata": {},
   "outputs": [],
   "source": [
    "wc.to_image()"
   ]
  },
  {
   "cell_type": "code",
   "execution_count": null,
   "metadata": {},
   "outputs": [],
   "source": []
  }
 ],
 "metadata": {
  "kernelspec": {
   "display_name": "Python 3",
   "language": "python",
   "name": "python3"
  },
  "language_info": {
   "codemirror_mode": {
    "name": "ipython",
    "version": 3
   },
   "file_extension": ".py",
   "mimetype": "text/x-python",
   "name": "python",
   "nbconvert_exporter": "python",
   "pygments_lexer": "ipython3",
   "version": "3.7.6"
  }
 },
 "nbformat": 4,
 "nbformat_minor": 4
}
