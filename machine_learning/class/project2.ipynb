{
 "cells": [
  {
   "cell_type": "markdown",
   "metadata": {},
   "source": [
    "# 0413 ~ 0424 Team Assignment 01 :\n",
    "### predict customer's gender of department store"
   ]
  },
  {
   "cell_type": "code",
   "execution_count": 1,
   "metadata": {},
   "outputs": [],
   "source": [
    "import pandas as pd\n",
    "import numpy as np\n",
    "import copy\n",
    "import matplotlib.pyplot as plt\n",
    "%matplotlib inline\n",
    "import seaborn as sns"
   ]
  },
  {
   "cell_type": "code",
   "execution_count": 2,
   "metadata": {},
   "outputs": [],
   "source": [
    "from sklearn.linear_model import LogisticRegression\n",
    "from sklearn.tree import DecisionTreeClassifier\n",
    "from sklearn.neighbors import KNeighborsClassifier\n",
    "from sklearn.svm import SVC\n",
    "from sklearn.ensemble import RandomForestClassifier\n",
    "from sklearn.neural_network import MLPClassifier\n",
    "from sklearn.ensemble import GradientBoostingClassifier\n",
    "from sklearn.ensemble import AdaBoostClassifier\n",
    "from sklearn.svm import LinearSVC\n",
    "\n",
    "logreg = LogisticRegression()\n",
    "tree = DecisionTreeClassifier(max_depth=8, random_state=0)\n",
    "knn = KNeighborsClassifier()\n",
    "svm = SVC()\n",
    "mlp = MLPClassifier(alpha=1)\n",
    "ranfor = RandomForestClassifier()\n",
    "gbm = GradientBoostingClassifier()\n",
    "ada = AdaBoostClassifier()\n",
    "lsv = LinearSVC()"
   ]
  },
  {
   "cell_type": "markdown",
   "metadata": {},
   "source": [
    "#### 데이터 불러오기"
   ]
  },
  {
   "cell_type": "code",
   "execution_count": 3,
   "metadata": {},
   "outputs": [
    {
     "data": {
      "text/html": [
       "<div>\n",
       "<style scoped>\n",
       "    .dataframe tbody tr th:only-of-type {\n",
       "        vertical-align: middle;\n",
       "    }\n",
       "\n",
       "    .dataframe tbody tr th {\n",
       "        vertical-align: top;\n",
       "    }\n",
       "\n",
       "    .dataframe thead th {\n",
       "        text-align: right;\n",
       "    }\n",
       "</style>\n",
       "<table border=\"1\" class=\"dataframe\">\n",
       "  <thead>\n",
       "    <tr style=\"text-align: right;\">\n",
       "      <th></th>\n",
       "      <th>custid</th>\n",
       "      <th>gender</th>\n",
       "      <th>총구매액</th>\n",
       "      <th>구매건수</th>\n",
       "      <th>평균구매가격</th>\n",
       "      <th>평균할부개월수</th>\n",
       "      <th>구매브랜드종류</th>\n",
       "      <th>내점일수</th>\n",
       "      <th>수입상품_구매비율</th>\n",
       "      <th>주말방문비율</th>\n",
       "      <th>가을_구매건수</th>\n",
       "      <th>겨울_구매건수</th>\n",
       "      <th>봄_구매건수</th>\n",
       "      <th>여름_구매건수</th>\n",
       "      <th>아침_구매건수</th>\n",
       "      <th>저녁_구매건수</th>\n",
       "      <th>점심_구매건수</th>\n",
       "      <th>주구매코너</th>\n",
       "    </tr>\n",
       "  </thead>\n",
       "  <tbody>\n",
       "    <tr>\n",
       "      <th>0</th>\n",
       "      <td>18</td>\n",
       "      <td>0</td>\n",
       "      <td>680100</td>\n",
       "      <td>15</td>\n",
       "      <td>45340</td>\n",
       "      <td>1.7</td>\n",
       "      <td>9</td>\n",
       "      <td>10</td>\n",
       "      <td>26.7</td>\n",
       "      <td>100.0</td>\n",
       "      <td>NaN</td>\n",
       "      <td>9.0</td>\n",
       "      <td>6.0</td>\n",
       "      <td>NaN</td>\n",
       "      <td>NaN</td>\n",
       "      <td>6.0</td>\n",
       "      <td>9.0</td>\n",
       "      <td>화장품</td>\n",
       "    </tr>\n",
       "    <tr>\n",
       "      <th>1</th>\n",
       "      <td>21</td>\n",
       "      <td>0</td>\n",
       "      <td>353450</td>\n",
       "      <td>9</td>\n",
       "      <td>39272</td>\n",
       "      <td>1.2</td>\n",
       "      <td>6</td>\n",
       "      <td>8</td>\n",
       "      <td>11.1</td>\n",
       "      <td>37.5</td>\n",
       "      <td>NaN</td>\n",
       "      <td>5.0</td>\n",
       "      <td>4.0</td>\n",
       "      <td>NaN</td>\n",
       "      <td>3.0</td>\n",
       "      <td>NaN</td>\n",
       "      <td>6.0</td>\n",
       "      <td>영캐주얼</td>\n",
       "    </tr>\n",
       "    <tr>\n",
       "      <th>2</th>\n",
       "      <td>23</td>\n",
       "      <td>0</td>\n",
       "      <td>5671400</td>\n",
       "      <td>36</td>\n",
       "      <td>157539</td>\n",
       "      <td>2.8</td>\n",
       "      <td>22</td>\n",
       "      <td>16</td>\n",
       "      <td>5.6</td>\n",
       "      <td>37.5</td>\n",
       "      <td>7.0</td>\n",
       "      <td>17.0</td>\n",
       "      <td>12.0</td>\n",
       "      <td>NaN</td>\n",
       "      <td>10.0</td>\n",
       "      <td>11.0</td>\n",
       "      <td>15.0</td>\n",
       "      <td>장신구</td>\n",
       "    </tr>\n",
       "    <tr>\n",
       "      <th>3</th>\n",
       "      <td>26</td>\n",
       "      <td>0</td>\n",
       "      <td>1964000</td>\n",
       "      <td>28</td>\n",
       "      <td>70143</td>\n",
       "      <td>1.4</td>\n",
       "      <td>15</td>\n",
       "      <td>14</td>\n",
       "      <td>39.3</td>\n",
       "      <td>28.6</td>\n",
       "      <td>5.0</td>\n",
       "      <td>8.0</td>\n",
       "      <td>15.0</td>\n",
       "      <td>NaN</td>\n",
       "      <td>NaN</td>\n",
       "      <td>18.0</td>\n",
       "      <td>10.0</td>\n",
       "      <td>화장품</td>\n",
       "    </tr>\n",
       "    <tr>\n",
       "      <th>4</th>\n",
       "      <td>35</td>\n",
       "      <td>0</td>\n",
       "      <td>885000</td>\n",
       "      <td>5</td>\n",
       "      <td>177000</td>\n",
       "      <td>6.0</td>\n",
       "      <td>5</td>\n",
       "      <td>2</td>\n",
       "      <td>0.0</td>\n",
       "      <td>100.0</td>\n",
       "      <td>NaN</td>\n",
       "      <td>NaN</td>\n",
       "      <td>5.0</td>\n",
       "      <td>NaN</td>\n",
       "      <td>NaN</td>\n",
       "      <td>5.0</td>\n",
       "      <td>NaN</td>\n",
       "      <td>피혁A</td>\n",
       "    </tr>\n",
       "  </tbody>\n",
       "</table>\n",
       "</div>"
      ],
      "text/plain": [
       "   custid  gender     총구매액  구매건수  평균구매가격  평균할부개월수  구매브랜드종류  내점일수  수입상품_구매비율  \\\n",
       "0      18       0   680100    15   45340      1.7        9    10       26.7   \n",
       "1      21       0   353450     9   39272      1.2        6     8       11.1   \n",
       "2      23       0  5671400    36  157539      2.8       22    16        5.6   \n",
       "3      26       0  1964000    28   70143      1.4       15    14       39.3   \n",
       "4      35       0   885000     5  177000      6.0        5     2        0.0   \n",
       "\n",
       "   주말방문비율  가을_구매건수  겨울_구매건수  봄_구매건수  여름_구매건수  아침_구매건수  저녁_구매건수  점심_구매건수 주구매코너  \n",
       "0   100.0      NaN      9.0     6.0      NaN      NaN      6.0      9.0   화장품  \n",
       "1    37.5      NaN      5.0     4.0      NaN      3.0      NaN      6.0  영캐주얼  \n",
       "2    37.5      7.0     17.0    12.0      NaN     10.0     11.0     15.0   장신구  \n",
       "3    28.6      5.0      8.0    15.0      NaN      NaN     18.0     10.0   화장품  \n",
       "4   100.0      NaN      NaN     5.0      NaN      NaN      5.0      NaN   피혁A  "
      ]
     },
     "execution_count": 3,
     "metadata": {},
     "output_type": "execute_result"
    }
   ],
   "source": [
    "df = pd.read_csv('data/train.csv', encoding='cp949')\n",
    "ndf = pd.read_csv('data/test.csv', encoding='cp949')\n",
    "df.head()  # 가을구매건수부터 점심구매건수까지 결측치 존재, 주구매코너 데이터 한글"
   ]
  },
  {
   "cell_type": "code",
   "execution_count": 4,
   "metadata": {},
   "outputs": [
    {
     "name": "stdout",
     "output_type": "stream",
     "text": [
      "<class 'pandas.core.frame.DataFrame'>\n",
      "RangeIndex: 5000 entries, 0 to 4999\n",
      "Data columns (total 18 columns):\n",
      " #   Column     Non-Null Count  Dtype  \n",
      "---  ------     --------------  -----  \n",
      " 0   custid     5000 non-null   int64  \n",
      " 1   gender     5000 non-null   int64  \n",
      " 2   총구매액       5000 non-null   int64  \n",
      " 3   구매건수       5000 non-null   int64  \n",
      " 4   평균구매가격     5000 non-null   int64  \n",
      " 5   평균할부개월수    5000 non-null   float64\n",
      " 6   구매브랜드종류    5000 non-null   int64  \n",
      " 7   내점일수       5000 non-null   int64  \n",
      " 8   수입상품_구매비율  5000 non-null   float64\n",
      " 9   주말방문비율     5000 non-null   float64\n",
      " 10  가을_구매건수    4055 non-null   float64\n",
      " 11  겨울_구매건수    4103 non-null   float64\n",
      " 12  봄_구매건수     4311 non-null   float64\n",
      " 13  여름_구매건수    3978 non-null   float64\n",
      " 14  아침_구매건수    3558 non-null   float64\n",
      " 15  저녁_구매건수    4033 non-null   float64\n",
      " 16  점심_구매건수    4855 non-null   float64\n",
      " 17  주구매코너      5000 non-null   object \n",
      "dtypes: float64(10), int64(7), object(1)\n",
      "memory usage: 703.2+ KB\n"
     ]
    }
   ],
   "source": [
    "# null 값이 각 상황별 구매건수에만 존재하고\n",
    "# 이러한 null 값은 모두 구매건수가 0이다 라고 표현 가능합니다.\n",
    "# 주구매코너에 들어있는 값의 type이 object 이기떄문에\n",
    "# category 타입으로 변경 후 숫자로 바꿔줍니다.\n",
    "df.info()"
   ]
  },
  {
   "cell_type": "markdown",
   "metadata": {},
   "source": [
    "#### 결측치 채우기"
   ]
  },
  {
   "cell_type": "markdown",
   "metadata": {},
   "source": [
    "데이터를 분석하기에 앞서 계절,시간대 별로 구매한 건수가 NoN인 곳들은 그 상황에서 구매하지 않았다.<br>즉, 0건이기 때문에 이를 먼저 채워줍니다.\n",
    "그리고 유일한 한글 데이터인 주구매코너 또한 숫자로 변환해줍니다.\n",
    "- 여기에선 먼저 astype 을 사용해 object로 된 한글데이터를 category로 바꿔줍니다.\n",
    "- 이어서 바꿔준 한글데이터를 .cat.codes 를 사용하여 숫자로 변형 시켜줍니다."
   ]
  },
  {
   "cell_type": "code",
   "execution_count": 5,
   "metadata": {},
   "outputs": [
    {
     "data": {
      "text/plain": [
       "0"
      ]
     },
     "execution_count": 5,
     "metadata": {},
     "output_type": "execute_result"
    }
   ],
   "source": [
    "# 구매 건수가 0건임을 표현하기 위해 fillna를\n",
    "# 사용하여 일괄적으로 값을 0으로 바꿔줍니다.\n",
    "df.fillna(0, inplace=True)\n",
    "\n",
    "# 0이라는 값이 채워졌는지 확인 합니다.\n",
    "df.isnull().sum().sum()"
   ]
  },
  {
   "cell_type": "code",
   "execution_count": 6,
   "metadata": {},
   "outputs": [],
   "source": [
    "# 데이터타입 카테고리로 변경 후 한글을 숫자로 변형합니다.\n",
    "obj = ['주구매코너']\n",
    "df[obj] = df[obj].apply(lambda x: x.astype('category').cat.codes)"
   ]
  },
  {
   "cell_type": "code",
   "execution_count": 7,
   "metadata": {},
   "outputs": [
    {
     "name": "stderr",
     "output_type": "stream",
     "text": [
      "/opt/anaconda3/lib/python3.7/site-packages/matplotlib/backends/backend_agg.py:211: RuntimeWarning: Glyph 44396 missing from current font.\n",
      "  font.set_text(s, 0.0, flags=flags)\n",
      "/opt/anaconda3/lib/python3.7/site-packages/matplotlib/backends/backend_agg.py:211: RuntimeWarning: Glyph 47588 missing from current font.\n",
      "  font.set_text(s, 0.0, flags=flags)\n",
      "/opt/anaconda3/lib/python3.7/site-packages/matplotlib/backends/backend_agg.py:211: RuntimeWarning: Glyph 44148 missing from current font.\n",
      "  font.set_text(s, 0.0, flags=flags)\n",
      "/opt/anaconda3/lib/python3.7/site-packages/matplotlib/backends/backend_agg.py:211: RuntimeWarning: Glyph 49688 missing from current font.\n",
      "  font.set_text(s, 0.0, flags=flags)\n"
     ]
    },
    {
     "data": {
      "text/plain": [
       "<seaborn.axisgrid.FacetGrid at 0x10fd046d0>"
      ]
     },
     "execution_count": 7,
     "metadata": {},
     "output_type": "execute_result"
    },
    {
     "name": "stderr",
     "output_type": "stream",
     "text": [
      "/opt/anaconda3/lib/python3.7/site-packages/matplotlib/backends/backend_agg.py:180: RuntimeWarning: Glyph 44396 missing from current font.\n",
      "  font.set_text(s, 0, flags=flags)\n",
      "/opt/anaconda3/lib/python3.7/site-packages/matplotlib/backends/backend_agg.py:180: RuntimeWarning: Glyph 47588 missing from current font.\n",
      "  font.set_text(s, 0, flags=flags)\n",
      "/opt/anaconda3/lib/python3.7/site-packages/matplotlib/backends/backend_agg.py:180: RuntimeWarning: Glyph 44148 missing from current font.\n",
      "  font.set_text(s, 0, flags=flags)\n",
      "/opt/anaconda3/lib/python3.7/site-packages/matplotlib/backends/backend_agg.py:180: RuntimeWarning: Glyph 49688 missing from current font.\n",
      "  font.set_text(s, 0, flags=flags)\n"
     ]
    },
    {
     "data": {
      "image/png": "[encoded data removed]",
      "text/plain": [
       "<Figure size 3024x2160 with 2 Axes>"
      ]
     },
     "metadata": {
      "needs_background": "light"
     },
     "output_type": "display_data"
    }
   ],
   "source": [
    "sns.catplot(y=\"구매건수\", hue=None, col=\"gender\",\n",
    "                data=df, kind=\"count\",\n",
    "                height=30, aspect=.7)"
   ]
  },
  {
   "cell_type": "code",
   "execution_count": 8,
   "metadata": {},
   "outputs": [
    {
     "name": "stderr",
     "output_type": "stream",
     "text": [
      "/opt/anaconda3/lib/python3.7/site-packages/matplotlib/backends/backend_agg.py:211: RuntimeWarning: Glyph 54217 missing from current font.\n",
      "  font.set_text(s, 0.0, flags=flags)\n",
      "/opt/anaconda3/lib/python3.7/site-packages/matplotlib/backends/backend_agg.py:211: RuntimeWarning: Glyph 44512 missing from current font.\n",
      "  font.set_text(s, 0.0, flags=flags)\n",
      "/opt/anaconda3/lib/python3.7/site-packages/matplotlib/backends/backend_agg.py:211: RuntimeWarning: Glyph 44032 missing from current font.\n",
      "  font.set_text(s, 0.0, flags=flags)\n",
      "/opt/anaconda3/lib/python3.7/site-packages/matplotlib/backends/backend_agg.py:211: RuntimeWarning: Glyph 44201 missing from current font.\n",
      "  font.set_text(s, 0.0, flags=flags)\n",
      "/opt/anaconda3/lib/python3.7/site-packages/matplotlib/backends/backend_agg.py:211: RuntimeWarning: Glyph 52509 missing from current font.\n",
      "  font.set_text(s, 0.0, flags=flags)\n",
      "/opt/anaconda3/lib/python3.7/site-packages/matplotlib/backends/backend_agg.py:211: RuntimeWarning: Glyph 50529 missing from current font.\n",
      "  font.set_text(s, 0.0, flags=flags)\n",
      "/opt/anaconda3/lib/python3.7/site-packages/matplotlib/backends/backend_agg.py:180: RuntimeWarning: Glyph 54217 missing from current font.\n",
      "  font.set_text(s, 0, flags=flags)\n",
      "/opt/anaconda3/lib/python3.7/site-packages/matplotlib/backends/backend_agg.py:180: RuntimeWarning: Glyph 44512 missing from current font.\n",
      "  font.set_text(s, 0, flags=flags)\n",
      "/opt/anaconda3/lib/python3.7/site-packages/matplotlib/backends/backend_agg.py:180: RuntimeWarning: Glyph 44032 missing from current font.\n",
      "  font.set_text(s, 0, flags=flags)\n",
      "/opt/anaconda3/lib/python3.7/site-packages/matplotlib/backends/backend_agg.py:180: RuntimeWarning: Glyph 44201 missing from current font.\n",
      "  font.set_text(s, 0, flags=flags)\n",
      "/opt/anaconda3/lib/python3.7/site-packages/matplotlib/backends/backend_agg.py:180: RuntimeWarning: Glyph 52509 missing from current font.\n",
      "  font.set_text(s, 0, flags=flags)\n",
      "/opt/anaconda3/lib/python3.7/site-packages/matplotlib/backends/backend_agg.py:180: RuntimeWarning: Glyph 50529 missing from current font.\n",
      "  font.set_text(s, 0, flags=flags)\n"
     ]
    },
    {
     "data": {
      "text/plain": [
       "<seaborn.axisgrid.FacetGrid at 0x1a27b9e1d0>"
      ]
     },
     "execution_count": 8,
     "metadata": {},
     "output_type": "execute_result"
    },
    {
     "data": {
      "image/png": "[encoded data removed]",
      "text/plain": [
       "<Figure size 403.5x360 with 1 Axes>"
      ]
     },
     "metadata": {
      "needs_background": "light"
     },
     "output_type": "display_data"
    }
   ],
   "source": [
    "sns.lmplot(data=df, x=\"평균구매가격\", y=\"총구매액\", hue=\"gender\", fit_reg=False)"
   ]
  },
  {
   "cell_type": "code",
   "execution_count": 9,
   "metadata": {},
   "outputs": [
    {
     "data": {
      "text/plain": [
       "((5000, 18), (4869, 18))"
      ]
     },
     "execution_count": 9,
     "metadata": {},
     "output_type": "execute_result"
    }
   ],
   "source": [
    "low_df = df[(df['총구매액'] <= 20000000) & (df['평균구매가격'] <= 400000)]\n",
    "df.shape,low_df.shape"
   ]
  },
  {
   "cell_type": "code",
   "execution_count": 10,
   "metadata": {},
   "outputs": [
    {
     "data": {
      "text/plain": [
       "<seaborn.axisgrid.FacetGrid at 0x1a295d25d0>"
      ]
     },
     "execution_count": 10,
     "metadata": {},
     "output_type": "execute_result"
    },
    {
     "data": {
      "image/png": "[encoded data removed]",
      "text/plain": [
       "<Figure size 403.5x360 with 1 Axes>"
      ]
     },
     "metadata": {
      "needs_background": "light"
     },
     "output_type": "display_data"
    }
   ],
   "source": [
    "sns.lmplot(data=low_df, x=\"평균구매가격\", y=\"총구매액\", hue=\"gender\", fit_reg=False)"
   ]
  },
  {
   "cell_type": "code",
   "execution_count": 11,
   "metadata": {},
   "outputs": [
    {
     "data": {
      "text/plain": [
       "((4869, 18), (4576, 18))"
      ]
     },
     "execution_count": 11,
     "metadata": {},
     "output_type": "execute_result"
    }
   ],
   "source": [
    "low_low_df = df[(df['총구매액'] <= 10000000) & (df['평균구매가격'] <= 300000)]\n",
    "low_df.shape, low_low_df.shape"
   ]
  },
  {
   "cell_type": "code",
   "execution_count": 12,
   "metadata": {},
   "outputs": [
    {
     "data": {
      "text/plain": [
       "<seaborn.axisgrid.FacetGrid at 0x1a29817810>"
      ]
     },
     "execution_count": 12,
     "metadata": {},
     "output_type": "execute_result"
    },
    {
     "data": {
      "image/png": "[encoded data removed]",
      "text/plain": [
       "<Figure size 403.5x360 with 1 Axes>"
      ]
     },
     "metadata": {
      "needs_background": "light"
     },
     "output_type": "display_data"
    }
   ],
   "source": [
    "sns.lmplot(data=low_low_df, x=\"평균구매가격\", y=\"총구매액\", hue=\"gender\", fit_reg=False)"
   ]
  },
  {
   "cell_type": "code",
   "execution_count": 13,
   "metadata": {},
   "outputs": [
    {
     "data": {
      "text/plain": [
       "((4576, 18), (4000, 18))"
      ]
     },
     "execution_count": 13,
     "metadata": {},
     "output_type": "execute_result"
    }
   ],
   "source": [
    "low_low_low_df = df[(df['총구매액'] <= 6000000) & (df['평균구매가격'] <= 200000)]\n",
    "low_low_df.shape, low_low_low_df.shape"
   ]
  },
  {
   "cell_type": "code",
   "execution_count": 14,
   "metadata": {},
   "outputs": [
    {
     "data": {
      "text/plain": [
       "<seaborn.axisgrid.FacetGrid at 0x1a298ec9d0>"
      ]
     },
     "execution_count": 14,
     "metadata": {},
     "output_type": "execute_result"
    },
    {
     "data": {
      "image/png": "[encoded data removed]",
      "text/plain": [
       "<Figure size 403.5x360 with 1 Axes>"
      ]
     },
     "metadata": {
      "needs_background": "light"
     },
     "output_type": "display_data"
    }
   ],
   "source": [
    "sns.lmplot(data=low_low_low_df, x=\"평균구매가격\", y=\"총구매액\", hue=\"gender\", fit_reg=False)"
   ]
  },
  {
   "cell_type": "code",
   "execution_count": 15,
   "metadata": {},
   "outputs": [
    {
     "data": {
      "text/plain": [
       "<seaborn.axisgrid.FacetGrid at 0x1a29cfe8d0>"
      ]
     },
     "execution_count": 15,
     "metadata": {},
     "output_type": "execute_result"
    },
    {
     "data": {
      "image/png": "[encoded data removed]",
      "text/plain": [
       "<Figure size 403.5x360 with 1 Axes>"
      ]
     },
     "metadata": {
      "needs_background": "light"
     },
     "output_type": "display_data"
    }
   ],
   "source": [
    "sns.lmplot(data=df, y=\"평균구매가격\", x=\"구매건수\", hue=\"gender\", fit_reg=False)"
   ]
  },
  {
   "cell_type": "code",
   "execution_count": 16,
   "metadata": {},
   "outputs": [],
   "source": [
    "light_df = df[(df['평균구매가격'] <= 200000) & (df['구매건수'] <= 100)]"
   ]
  },
  {
   "cell_type": "code",
   "execution_count": 17,
   "metadata": {},
   "outputs": [
    {
     "data": {
      "text/plain": [
       "<seaborn.axisgrid.FacetGrid at 0x1a29ea9ad0>"
      ]
     },
     "execution_count": 17,
     "metadata": {},
     "output_type": "execute_result"
    },
    {
     "data": {
      "image/png": "[encoded data removed]",
      "text/plain": [
       "<Figure size 403.5x360 with 1 Axes>"
      ]
     },
     "metadata": {
      "needs_background": "light"
     },
     "output_type": "display_data"
    }
   ],
   "source": [
    "sns.lmplot(data=light_df, y=\"평균구매가격\", x=\"구매건수\", hue=\"gender\", fit_reg=False)"
   ]
  },
  {
   "cell_type": "code",
   "execution_count": 18,
   "metadata": {},
   "outputs": [
    {
     "data": {
      "text/html": [
       "<div>\n",
       "<style scoped>\n",
       "    .dataframe tbody tr th:only-of-type {\n",
       "        vertical-align: middle;\n",
       "    }\n",
       "\n",
       "    .dataframe tbody tr th {\n",
       "        vertical-align: top;\n",
       "    }\n",
       "\n",
       "    .dataframe thead th {\n",
       "        text-align: right;\n",
       "    }\n",
       "</style>\n",
       "<table border=\"1\" class=\"dataframe\">\n",
       "  <thead>\n",
       "    <tr style=\"text-align: right;\">\n",
       "      <th></th>\n",
       "      <th>light_shop</th>\n",
       "    </tr>\n",
       "  </thead>\n",
       "  <tbody>\n",
       "    <tr>\n",
       "      <th>0</th>\n",
       "      <td>True</td>\n",
       "    </tr>\n",
       "    <tr>\n",
       "      <th>1</th>\n",
       "      <td>True</td>\n",
       "    </tr>\n",
       "    <tr>\n",
       "      <th>2</th>\n",
       "      <td>False</td>\n",
       "    </tr>\n",
       "    <tr>\n",
       "      <th>3</th>\n",
       "      <td>True</td>\n",
       "    </tr>\n",
       "    <tr>\n",
       "      <th>4</th>\n",
       "      <td>False</td>\n",
       "    </tr>\n",
       "  </tbody>\n",
       "</table>\n",
       "</div>"
      ],
      "text/plain": [
       "   light_shop\n",
       "0        True\n",
       "1        True\n",
       "2       False\n",
       "3        True\n",
       "4       False"
      ]
     },
     "execution_count": 18,
     "metadata": {},
     "output_type": "execute_result"
    }
   ],
   "source": [
    "df['light_shop'] = (df['총구매액'] <= 4000000) & (df['평균구매가격'] <= 150000) & (df['구매건수'] <= 50)\n",
    "df[['light_shop']].head()"
   ]
  },
  {
   "cell_type": "code",
   "execution_count": 19,
   "metadata": {},
   "outputs": [
    {
     "data": {
      "text/plain": [
       "<seaborn.axisgrid.FacetGrid at 0x1a29eec810>"
      ]
     },
     "execution_count": 19,
     "metadata": {},
     "output_type": "execute_result"
    },
    {
     "data": {
      "image/png": "[encoded data removed]",
      "text/plain": [
       "<Figure size 1008x720 with 2 Axes>"
      ]
     },
     "metadata": {
      "needs_background": "light"
     },
     "output_type": "display_data"
    }
   ],
   "source": [
    "sns.catplot(x=\"light_shop\", hue=None, col=\"gender\",\n",
    "                data=df, kind=\"count\",\n",
    "                height=10, aspect=.7)"
   ]
  },
  {
   "cell_type": "code",
   "execution_count": 20,
   "metadata": {},
   "outputs": [
    {
     "data": {
      "text/html": [
       "<div>\n",
       "<style scoped>\n",
       "    .dataframe tbody tr th:only-of-type {\n",
       "        vertical-align: middle;\n",
       "    }\n",
       "\n",
       "    .dataframe tbody tr th {\n",
       "        vertical-align: top;\n",
       "    }\n",
       "\n",
       "    .dataframe thead th {\n",
       "        text-align: right;\n",
       "    }\n",
       "</style>\n",
       "<table border=\"1\" class=\"dataframe\">\n",
       "  <thead>\n",
       "    <tr style=\"text-align: right;\">\n",
       "      <th></th>\n",
       "      <th>light_shop</th>\n",
       "    </tr>\n",
       "    <tr>\n",
       "      <th>gender</th>\n",
       "      <th></th>\n",
       "    </tr>\n",
       "  </thead>\n",
       "  <tbody>\n",
       "    <tr>\n",
       "      <th>0</th>\n",
       "      <td>0.655073</td>\n",
       "    </tr>\n",
       "    <tr>\n",
       "      <th>1</th>\n",
       "      <td>0.539119</td>\n",
       "    </tr>\n",
       "  </tbody>\n",
       "</table>\n",
       "</div>"
      ],
      "text/plain": [
       "        light_shop\n",
       "gender            \n",
       "0         0.655073\n",
       "1         0.539119"
      ]
     },
     "execution_count": 20,
     "metadata": {},
     "output_type": "execute_result"
    }
   ],
   "source": [
    "pd.pivot_table(df, index=\"gender\", values=\"light_shop\")"
   ]
  },
  {
   "cell_type": "code",
   "execution_count": 21,
   "metadata": {},
   "outputs": [
    {
     "data": {
      "text/html": [
       "<div>\n",
       "<style scoped>\n",
       "    .dataframe tbody tr th:only-of-type {\n",
       "        vertical-align: middle;\n",
       "    }\n",
       "\n",
       "    .dataframe tbody tr th {\n",
       "        vertical-align: top;\n",
       "    }\n",
       "\n",
       "    .dataframe thead th {\n",
       "        text-align: right;\n",
       "    }\n",
       "</style>\n",
       "<table border=\"1\" class=\"dataframe\">\n",
       "  <thead>\n",
       "    <tr style=\"text-align: right;\">\n",
       "      <th></th>\n",
       "      <th>mor_shop</th>\n",
       "    </tr>\n",
       "  </thead>\n",
       "  <tbody>\n",
       "    <tr>\n",
       "      <th>0</th>\n",
       "      <td>False</td>\n",
       "    </tr>\n",
       "    <tr>\n",
       "      <th>1</th>\n",
       "      <td>True</td>\n",
       "    </tr>\n",
       "    <tr>\n",
       "      <th>2</th>\n",
       "      <td>True</td>\n",
       "    </tr>\n",
       "    <tr>\n",
       "      <th>3</th>\n",
       "      <td>False</td>\n",
       "    </tr>\n",
       "    <tr>\n",
       "      <th>4</th>\n",
       "      <td>False</td>\n",
       "    </tr>\n",
       "  </tbody>\n",
       "</table>\n",
       "</div>"
      ],
      "text/plain": [
       "   mor_shop\n",
       "0     False\n",
       "1      True\n",
       "2      True\n",
       "3     False\n",
       "4     False"
      ]
     },
     "execution_count": 21,
     "metadata": {},
     "output_type": "execute_result"
    }
   ],
   "source": [
    "df['mor_shop'] = df['아침_구매건수'] >= 1\n",
    "df[['mor_shop']].head()"
   ]
  },
  {
   "cell_type": "code",
   "execution_count": 22,
   "metadata": {},
   "outputs": [
    {
     "data": {
      "text/html": [
       "<div>\n",
       "<style scoped>\n",
       "    .dataframe tbody tr th:only-of-type {\n",
       "        vertical-align: middle;\n",
       "    }\n",
       "\n",
       "    .dataframe tbody tr th {\n",
       "        vertical-align: top;\n",
       "    }\n",
       "\n",
       "    .dataframe thead th {\n",
       "        text-align: right;\n",
       "    }\n",
       "</style>\n",
       "<table border=\"1\" class=\"dataframe\">\n",
       "  <thead>\n",
       "    <tr style=\"text-align: right;\">\n",
       "      <th></th>\n",
       "      <th>lun_shop</th>\n",
       "    </tr>\n",
       "  </thead>\n",
       "  <tbody>\n",
       "    <tr>\n",
       "      <th>0</th>\n",
       "      <td>True</td>\n",
       "    </tr>\n",
       "    <tr>\n",
       "      <th>1</th>\n",
       "      <td>True</td>\n",
       "    </tr>\n",
       "    <tr>\n",
       "      <th>2</th>\n",
       "      <td>True</td>\n",
       "    </tr>\n",
       "    <tr>\n",
       "      <th>3</th>\n",
       "      <td>True</td>\n",
       "    </tr>\n",
       "    <tr>\n",
       "      <th>4</th>\n",
       "      <td>False</td>\n",
       "    </tr>\n",
       "  </tbody>\n",
       "</table>\n",
       "</div>"
      ],
      "text/plain": [
       "   lun_shop\n",
       "0      True\n",
       "1      True\n",
       "2      True\n",
       "3      True\n",
       "4     False"
      ]
     },
     "execution_count": 22,
     "metadata": {},
     "output_type": "execute_result"
    }
   ],
   "source": [
    "df['lun_shop'] = df['점심_구매건수'] >= 1\n",
    "df[['lun_shop']].head()"
   ]
  },
  {
   "cell_type": "code",
   "execution_count": 23,
   "metadata": {},
   "outputs": [
    {
     "data": {
      "text/html": [
       "<div>\n",
       "<style scoped>\n",
       "    .dataframe tbody tr th:only-of-type {\n",
       "        vertical-align: middle;\n",
       "    }\n",
       "\n",
       "    .dataframe tbody tr th {\n",
       "        vertical-align: top;\n",
       "    }\n",
       "\n",
       "    .dataframe thead th {\n",
       "        text-align: right;\n",
       "    }\n",
       "</style>\n",
       "<table border=\"1\" class=\"dataframe\">\n",
       "  <thead>\n",
       "    <tr style=\"text-align: right;\">\n",
       "      <th></th>\n",
       "      <th>eve_shop</th>\n",
       "    </tr>\n",
       "  </thead>\n",
       "  <tbody>\n",
       "    <tr>\n",
       "      <th>0</th>\n",
       "      <td>True</td>\n",
       "    </tr>\n",
       "    <tr>\n",
       "      <th>1</th>\n",
       "      <td>False</td>\n",
       "    </tr>\n",
       "    <tr>\n",
       "      <th>2</th>\n",
       "      <td>True</td>\n",
       "    </tr>\n",
       "    <tr>\n",
       "      <th>3</th>\n",
       "      <td>True</td>\n",
       "    </tr>\n",
       "    <tr>\n",
       "      <th>4</th>\n",
       "      <td>True</td>\n",
       "    </tr>\n",
       "  </tbody>\n",
       "</table>\n",
       "</div>"
      ],
      "text/plain": [
       "   eve_shop\n",
       "0      True\n",
       "1     False\n",
       "2      True\n",
       "3      True\n",
       "4      True"
      ]
     },
     "execution_count": 23,
     "metadata": {},
     "output_type": "execute_result"
    }
   ],
   "source": [
    "df['eve_shop'] = df['저녁_구매건수'] >= 1\n",
    "df[['eve_shop']].head()"
   ]
  },
  {
   "cell_type": "code",
   "execution_count": 24,
   "metadata": {},
   "outputs": [
    {
     "data": {
      "text/html": [
       "<div>\n",
       "<style scoped>\n",
       "    .dataframe tbody tr th:only-of-type {\n",
       "        vertical-align: middle;\n",
       "    }\n",
       "\n",
       "    .dataframe tbody tr th {\n",
       "        vertical-align: top;\n",
       "    }\n",
       "\n",
       "    .dataframe thead th {\n",
       "        text-align: right;\n",
       "    }\n",
       "</style>\n",
       "<table border=\"1\" class=\"dataframe\">\n",
       "  <thead>\n",
       "    <tr style=\"text-align: right;\">\n",
       "      <th></th>\n",
       "      <th>allday_shop</th>\n",
       "    </tr>\n",
       "  </thead>\n",
       "  <tbody>\n",
       "    <tr>\n",
       "      <th>0</th>\n",
       "      <td>False</td>\n",
       "    </tr>\n",
       "    <tr>\n",
       "      <th>1</th>\n",
       "      <td>False</td>\n",
       "    </tr>\n",
       "    <tr>\n",
       "      <th>2</th>\n",
       "      <td>True</td>\n",
       "    </tr>\n",
       "    <tr>\n",
       "      <th>3</th>\n",
       "      <td>False</td>\n",
       "    </tr>\n",
       "    <tr>\n",
       "      <th>4</th>\n",
       "      <td>False</td>\n",
       "    </tr>\n",
       "  </tbody>\n",
       "</table>\n",
       "</div>"
      ],
      "text/plain": [
       "   allday_shop\n",
       "0        False\n",
       "1        False\n",
       "2         True\n",
       "3        False\n",
       "4        False"
      ]
     },
     "execution_count": 24,
     "metadata": {},
     "output_type": "execute_result"
    }
   ],
   "source": [
    "df['allday_shop'] = (df['mor_shop'] == 1) & (df['lun_shop'] == 1) & (df['eve_shop'] == 1)\n",
    "df[['allday_shop']].head()"
   ]
  },
  {
   "cell_type": "code",
   "execution_count": 25,
   "metadata": {},
   "outputs": [
    {
     "data": {
      "text/html": [
       "<div>\n",
       "<style scoped>\n",
       "    .dataframe tbody tr th:only-of-type {\n",
       "        vertical-align: middle;\n",
       "    }\n",
       "\n",
       "    .dataframe tbody tr th {\n",
       "        vertical-align: top;\n",
       "    }\n",
       "\n",
       "    .dataframe thead th {\n",
       "        text-align: right;\n",
       "    }\n",
       "</style>\n",
       "<table border=\"1\" class=\"dataframe\">\n",
       "  <thead>\n",
       "    <tr style=\"text-align: right;\">\n",
       "      <th></th>\n",
       "      <th>spr_shop</th>\n",
       "      <th>allday_shop</th>\n",
       "    </tr>\n",
       "  </thead>\n",
       "  <tbody>\n",
       "    <tr>\n",
       "      <th>0</th>\n",
       "      <td>True</td>\n",
       "      <td>False</td>\n",
       "    </tr>\n",
       "    <tr>\n",
       "      <th>1</th>\n",
       "      <td>True</td>\n",
       "      <td>False</td>\n",
       "    </tr>\n",
       "    <tr>\n",
       "      <th>2</th>\n",
       "      <td>True</td>\n",
       "      <td>True</td>\n",
       "    </tr>\n",
       "    <tr>\n",
       "      <th>3</th>\n",
       "      <td>True</td>\n",
       "      <td>False</td>\n",
       "    </tr>\n",
       "    <tr>\n",
       "      <th>4</th>\n",
       "      <td>True</td>\n",
       "      <td>False</td>\n",
       "    </tr>\n",
       "  </tbody>\n",
       "</table>\n",
       "</div>"
      ],
      "text/plain": [
       "   spr_shop  allday_shop\n",
       "0      True        False\n",
       "1      True        False\n",
       "2      True         True\n",
       "3      True        False\n",
       "4      True        False"
      ]
     },
     "execution_count": 25,
     "metadata": {},
     "output_type": "execute_result"
    }
   ],
   "source": [
    "df['spr_shop'] = df['봄_구매건수'] >= 1\n",
    "df[['spr_shop','allday_shop']].head()"
   ]
  },
  {
   "cell_type": "code",
   "execution_count": 26,
   "metadata": {},
   "outputs": [
    {
     "data": {
      "text/html": [
       "<div>\n",
       "<style scoped>\n",
       "    .dataframe tbody tr th:only-of-type {\n",
       "        vertical-align: middle;\n",
       "    }\n",
       "\n",
       "    .dataframe tbody tr th {\n",
       "        vertical-align: top;\n",
       "    }\n",
       "\n",
       "    .dataframe thead th {\n",
       "        text-align: right;\n",
       "    }\n",
       "</style>\n",
       "<table border=\"1\" class=\"dataframe\">\n",
       "  <thead>\n",
       "    <tr style=\"text-align: right;\">\n",
       "      <th></th>\n",
       "      <th>summ_shop</th>\n",
       "      <th>allday_shop</th>\n",
       "    </tr>\n",
       "  </thead>\n",
       "  <tbody>\n",
       "    <tr>\n",
       "      <th>0</th>\n",
       "      <td>False</td>\n",
       "      <td>False</td>\n",
       "    </tr>\n",
       "    <tr>\n",
       "      <th>1</th>\n",
       "      <td>False</td>\n",
       "      <td>False</td>\n",
       "    </tr>\n",
       "    <tr>\n",
       "      <th>2</th>\n",
       "      <td>False</td>\n",
       "      <td>True</td>\n",
       "    </tr>\n",
       "    <tr>\n",
       "      <th>3</th>\n",
       "      <td>False</td>\n",
       "      <td>False</td>\n",
       "    </tr>\n",
       "    <tr>\n",
       "      <th>4</th>\n",
       "      <td>False</td>\n",
       "      <td>False</td>\n",
       "    </tr>\n",
       "  </tbody>\n",
       "</table>\n",
       "</div>"
      ],
      "text/plain": [
       "   summ_shop  allday_shop\n",
       "0      False        False\n",
       "1      False        False\n",
       "2      False         True\n",
       "3      False        False\n",
       "4      False        False"
      ]
     },
     "execution_count": 26,
     "metadata": {},
     "output_type": "execute_result"
    }
   ],
   "source": [
    "df['summ_shop'] = df['여름_구매건수'] >= 1\n",
    "df[['summ_shop','allday_shop']].head()"
   ]
  },
  {
   "cell_type": "code",
   "execution_count": 27,
   "metadata": {},
   "outputs": [
    {
     "data": {
      "text/html": [
       "<div>\n",
       "<style scoped>\n",
       "    .dataframe tbody tr th:only-of-type {\n",
       "        vertical-align: middle;\n",
       "    }\n",
       "\n",
       "    .dataframe tbody tr th {\n",
       "        vertical-align: top;\n",
       "    }\n",
       "\n",
       "    .dataframe thead th {\n",
       "        text-align: right;\n",
       "    }\n",
       "</style>\n",
       "<table border=\"1\" class=\"dataframe\">\n",
       "  <thead>\n",
       "    <tr style=\"text-align: right;\">\n",
       "      <th></th>\n",
       "      <th>aut_shop</th>\n",
       "      <th>allday_shop</th>\n",
       "    </tr>\n",
       "  </thead>\n",
       "  <tbody>\n",
       "    <tr>\n",
       "      <th>0</th>\n",
       "      <td>False</td>\n",
       "      <td>False</td>\n",
       "    </tr>\n",
       "    <tr>\n",
       "      <th>1</th>\n",
       "      <td>False</td>\n",
       "      <td>False</td>\n",
       "    </tr>\n",
       "    <tr>\n",
       "      <th>2</th>\n",
       "      <td>True</td>\n",
       "      <td>True</td>\n",
       "    </tr>\n",
       "    <tr>\n",
       "      <th>3</th>\n",
       "      <td>True</td>\n",
       "      <td>False</td>\n",
       "    </tr>\n",
       "    <tr>\n",
       "      <th>4</th>\n",
       "      <td>False</td>\n",
       "      <td>False</td>\n",
       "    </tr>\n",
       "  </tbody>\n",
       "</table>\n",
       "</div>"
      ],
      "text/plain": [
       "   aut_shop  allday_shop\n",
       "0     False        False\n",
       "1     False        False\n",
       "2      True         True\n",
       "3      True        False\n",
       "4     False        False"
      ]
     },
     "execution_count": 27,
     "metadata": {},
     "output_type": "execute_result"
    }
   ],
   "source": [
    "df['aut_shop'] = df['가을_구매건수'] >= 1\n",
    "df[['aut_shop','allday_shop']].head()"
   ]
  },
  {
   "cell_type": "code",
   "execution_count": 28,
   "metadata": {},
   "outputs": [
    {
     "data": {
      "text/html": [
       "<div>\n",
       "<style scoped>\n",
       "    .dataframe tbody tr th:only-of-type {\n",
       "        vertical-align: middle;\n",
       "    }\n",
       "\n",
       "    .dataframe tbody tr th {\n",
       "        vertical-align: top;\n",
       "    }\n",
       "\n",
       "    .dataframe thead th {\n",
       "        text-align: right;\n",
       "    }\n",
       "</style>\n",
       "<table border=\"1\" class=\"dataframe\">\n",
       "  <thead>\n",
       "    <tr style=\"text-align: right;\">\n",
       "      <th></th>\n",
       "      <th>win_shop</th>\n",
       "      <th>allday_shop</th>\n",
       "    </tr>\n",
       "  </thead>\n",
       "  <tbody>\n",
       "    <tr>\n",
       "      <th>0</th>\n",
       "      <td>True</td>\n",
       "      <td>False</td>\n",
       "    </tr>\n",
       "    <tr>\n",
       "      <th>1</th>\n",
       "      <td>True</td>\n",
       "      <td>False</td>\n",
       "    </tr>\n",
       "    <tr>\n",
       "      <th>2</th>\n",
       "      <td>True</td>\n",
       "      <td>True</td>\n",
       "    </tr>\n",
       "    <tr>\n",
       "      <th>3</th>\n",
       "      <td>True</td>\n",
       "      <td>False</td>\n",
       "    </tr>\n",
       "    <tr>\n",
       "      <th>4</th>\n",
       "      <td>False</td>\n",
       "      <td>False</td>\n",
       "    </tr>\n",
       "  </tbody>\n",
       "</table>\n",
       "</div>"
      ],
      "text/plain": [
       "   win_shop  allday_shop\n",
       "0      True        False\n",
       "1      True        False\n",
       "2      True         True\n",
       "3      True        False\n",
       "4     False        False"
      ]
     },
     "execution_count": 28,
     "metadata": {},
     "output_type": "execute_result"
    }
   ],
   "source": [
    "df['win_shop'] = df['겨울_구매건수'] >= 1\n",
    "df[['win_shop','allday_shop']].head()"
   ]
  },
  {
   "cell_type": "code",
   "execution_count": 29,
   "metadata": {},
   "outputs": [
    {
     "data": {
      "text/html": [
       "<div>\n",
       "<style scoped>\n",
       "    .dataframe tbody tr th:only-of-type {\n",
       "        vertical-align: middle;\n",
       "    }\n",
       "\n",
       "    .dataframe tbody tr th {\n",
       "        vertical-align: top;\n",
       "    }\n",
       "\n",
       "    .dataframe thead th {\n",
       "        text-align: right;\n",
       "    }\n",
       "</style>\n",
       "<table border=\"1\" class=\"dataframe\">\n",
       "  <thead>\n",
       "    <tr style=\"text-align: right;\">\n",
       "      <th></th>\n",
       "      <th>win_allday_shop</th>\n",
       "    </tr>\n",
       "  </thead>\n",
       "  <tbody>\n",
       "    <tr>\n",
       "      <th>0</th>\n",
       "      <td>False</td>\n",
       "    </tr>\n",
       "    <tr>\n",
       "      <th>1</th>\n",
       "      <td>False</td>\n",
       "    </tr>\n",
       "    <tr>\n",
       "      <th>2</th>\n",
       "      <td>True</td>\n",
       "    </tr>\n",
       "    <tr>\n",
       "      <th>3</th>\n",
       "      <td>False</td>\n",
       "    </tr>\n",
       "    <tr>\n",
       "      <th>4</th>\n",
       "      <td>False</td>\n",
       "    </tr>\n",
       "  </tbody>\n",
       "</table>\n",
       "</div>"
      ],
      "text/plain": [
       "   win_allday_shop\n",
       "0            False\n",
       "1            False\n",
       "2             True\n",
       "3            False\n",
       "4            False"
      ]
     },
     "execution_count": 29,
     "metadata": {},
     "output_type": "execute_result"
    }
   ],
   "source": [
    "df['win_allday_shop'] = (df['win_shop'] == 1) & (df['allday_shop'] == 1)\n",
    "df[['win_allday_shop']].head()"
   ]
  },
  {
   "cell_type": "code",
   "execution_count": 30,
   "metadata": {},
   "outputs": [
    {
     "data": {
      "text/html": [
       "<div>\n",
       "<style scoped>\n",
       "    .dataframe tbody tr th:only-of-type {\n",
       "        vertical-align: middle;\n",
       "    }\n",
       "\n",
       "    .dataframe tbody tr th {\n",
       "        vertical-align: top;\n",
       "    }\n",
       "\n",
       "    .dataframe thead th {\n",
       "        text-align: right;\n",
       "    }\n",
       "</style>\n",
       "<table border=\"1\" class=\"dataframe\">\n",
       "  <thead>\n",
       "    <tr style=\"text-align: right;\">\n",
       "      <th></th>\n",
       "      <th>aut_allday_shop</th>\n",
       "    </tr>\n",
       "  </thead>\n",
       "  <tbody>\n",
       "    <tr>\n",
       "      <th>0</th>\n",
       "      <td>False</td>\n",
       "    </tr>\n",
       "    <tr>\n",
       "      <th>1</th>\n",
       "      <td>False</td>\n",
       "    </tr>\n",
       "    <tr>\n",
       "      <th>2</th>\n",
       "      <td>True</td>\n",
       "    </tr>\n",
       "    <tr>\n",
       "      <th>3</th>\n",
       "      <td>False</td>\n",
       "    </tr>\n",
       "    <tr>\n",
       "      <th>4</th>\n",
       "      <td>False</td>\n",
       "    </tr>\n",
       "  </tbody>\n",
       "</table>\n",
       "</div>"
      ],
      "text/plain": [
       "   aut_allday_shop\n",
       "0            False\n",
       "1            False\n",
       "2             True\n",
       "3            False\n",
       "4            False"
      ]
     },
     "execution_count": 30,
     "metadata": {},
     "output_type": "execute_result"
    }
   ],
   "source": [
    "df['aut_allday_shop'] = (df['aut_shop'] == 1) & (df['allday_shop'] == 1)\n",
    "df[['aut_allday_shop']].head()"
   ]
  },
  {
   "cell_type": "code",
   "execution_count": 31,
   "metadata": {},
   "outputs": [
    {
     "data": {
      "text/html": [
       "<div>\n",
       "<style scoped>\n",
       "    .dataframe tbody tr th:only-of-type {\n",
       "        vertical-align: middle;\n",
       "    }\n",
       "\n",
       "    .dataframe tbody tr th {\n",
       "        vertical-align: top;\n",
       "    }\n",
       "\n",
       "    .dataframe thead th {\n",
       "        text-align: right;\n",
       "    }\n",
       "</style>\n",
       "<table border=\"1\" class=\"dataframe\">\n",
       "  <thead>\n",
       "    <tr style=\"text-align: right;\">\n",
       "      <th></th>\n",
       "      <th>summ_allday_shop</th>\n",
       "    </tr>\n",
       "  </thead>\n",
       "  <tbody>\n",
       "    <tr>\n",
       "      <th>0</th>\n",
       "      <td>False</td>\n",
       "    </tr>\n",
       "    <tr>\n",
       "      <th>1</th>\n",
       "      <td>False</td>\n",
       "    </tr>\n",
       "    <tr>\n",
       "      <th>2</th>\n",
       "      <td>False</td>\n",
       "    </tr>\n",
       "    <tr>\n",
       "      <th>3</th>\n",
       "      <td>False</td>\n",
       "    </tr>\n",
       "    <tr>\n",
       "      <th>4</th>\n",
       "      <td>False</td>\n",
       "    </tr>\n",
       "  </tbody>\n",
       "</table>\n",
       "</div>"
      ],
      "text/plain": [
       "   summ_allday_shop\n",
       "0             False\n",
       "1             False\n",
       "2             False\n",
       "3             False\n",
       "4             False"
      ]
     },
     "execution_count": 31,
     "metadata": {},
     "output_type": "execute_result"
    }
   ],
   "source": [
    "df['summ_allday_shop'] = (df['summ_shop'] == 1) & (df['allday_shop'] == 1)\n",
    "df[['summ_allday_shop']].head()"
   ]
  },
  {
   "cell_type": "code",
   "execution_count": 32,
   "metadata": {},
   "outputs": [
    {
     "data": {
      "text/html": [
       "<div>\n",
       "<style scoped>\n",
       "    .dataframe tbody tr th:only-of-type {\n",
       "        vertical-align: middle;\n",
       "    }\n",
       "\n",
       "    .dataframe tbody tr th {\n",
       "        vertical-align: top;\n",
       "    }\n",
       "\n",
       "    .dataframe thead th {\n",
       "        text-align: right;\n",
       "    }\n",
       "</style>\n",
       "<table border=\"1\" class=\"dataframe\">\n",
       "  <thead>\n",
       "    <tr style=\"text-align: right;\">\n",
       "      <th></th>\n",
       "      <th>spr_allday_shop</th>\n",
       "    </tr>\n",
       "  </thead>\n",
       "  <tbody>\n",
       "    <tr>\n",
       "      <th>0</th>\n",
       "      <td>False</td>\n",
       "    </tr>\n",
       "    <tr>\n",
       "      <th>1</th>\n",
       "      <td>False</td>\n",
       "    </tr>\n",
       "    <tr>\n",
       "      <th>2</th>\n",
       "      <td>True</td>\n",
       "    </tr>\n",
       "    <tr>\n",
       "      <th>3</th>\n",
       "      <td>False</td>\n",
       "    </tr>\n",
       "    <tr>\n",
       "      <th>4</th>\n",
       "      <td>False</td>\n",
       "    </tr>\n",
       "  </tbody>\n",
       "</table>\n",
       "</div>"
      ],
      "text/plain": [
       "   spr_allday_shop\n",
       "0            False\n",
       "1            False\n",
       "2             True\n",
       "3            False\n",
       "4            False"
      ]
     },
     "execution_count": 32,
     "metadata": {},
     "output_type": "execute_result"
    }
   ],
   "source": [
    "df['spr_allday_shop'] = (df['spr_shop'] == 1) & (df['allday_shop'] == 1)\n",
    "df[['spr_allday_shop']].head()"
   ]
  },
  {
   "cell_type": "code",
   "execution_count": null,
   "metadata": {},
   "outputs": [],
   "source": [
    "train['4season shopping'] = (train)"
   ]
  },
  {
   "cell_type": "code",
   "execution_count": 33,
   "metadata": {},
   "outputs": [
    {
     "data": {
      "text/html": [
       "<div>\n",
       "<style scoped>\n",
       "    .dataframe tbody tr th:only-of-type {\n",
       "        vertical-align: middle;\n",
       "    }\n",
       "\n",
       "    .dataframe tbody tr th {\n",
       "        vertical-align: top;\n",
       "    }\n",
       "\n",
       "    .dataframe thead th {\n",
       "        text-align: right;\n",
       "    }\n",
       "</style>\n",
       "<table border=\"1\" class=\"dataframe\">\n",
       "  <thead>\n",
       "    <tr style=\"text-align: right;\">\n",
       "      <th></th>\n",
       "      <th>crazy_shop</th>\n",
       "    </tr>\n",
       "  </thead>\n",
       "  <tbody>\n",
       "    <tr>\n",
       "      <th>0</th>\n",
       "      <td>False</td>\n",
       "    </tr>\n",
       "    <tr>\n",
       "      <th>1</th>\n",
       "      <td>False</td>\n",
       "    </tr>\n",
       "    <tr>\n",
       "      <th>2</th>\n",
       "      <td>False</td>\n",
       "    </tr>\n",
       "    <tr>\n",
       "      <th>3</th>\n",
       "      <td>False</td>\n",
       "    </tr>\n",
       "    <tr>\n",
       "      <th>4</th>\n",
       "      <td>False</td>\n",
       "    </tr>\n",
       "  </tbody>\n",
       "</table>\n",
       "</div>"
      ],
      "text/plain": [
       "   crazy_shop\n",
       "0       False\n",
       "1       False\n",
       "2       False\n",
       "3       False\n",
       "4       False"
      ]
     },
     "execution_count": 33,
     "metadata": {},
     "output_type": "execute_result"
    }
   ],
   "source": [
    "df['crazy_shop'] = (df['allday_shop'] == 1) & (df['spr_shop'] == 1) &\\\n",
    "(df['summ_shop'] == 1) & (df['aut_shop'] == 1) & (df['win_shop'] == 1)\n",
    "df[['crazy_shop']].head()"
   ]
  },
  {
   "cell_type": "code",
   "execution_count": 34,
   "metadata": {},
   "outputs": [
    {
     "data": {
      "text/plain": [
       "<seaborn.axisgrid.FacetGrid at 0x1a2a62add0>"
      ]
     },
     "execution_count": 34,
     "metadata": {},
     "output_type": "execute_result"
    },
    {
     "data": {
      "image/png": "[encoded data removed]",
      "text/plain": [
       "<Figure size 1008x720 with 2 Axes>"
      ]
     },
     "metadata": {
      "needs_background": "light"
     },
     "output_type": "display_data"
    }
   ],
   "source": [
    "sns.catplot(x=\"mor_shop\", hue=None, col=\"gender\",\n",
    "                data=df, kind=\"count\",\n",
    "                height=10, aspect=.7)"
   ]
  },
  {
   "cell_type": "code",
   "execution_count": 35,
   "metadata": {},
   "outputs": [
    {
     "data": {
      "text/html": [
       "<div>\n",
       "<style scoped>\n",
       "    .dataframe tbody tr th:only-of-type {\n",
       "        vertical-align: middle;\n",
       "    }\n",
       "\n",
       "    .dataframe tbody tr th {\n",
       "        vertical-align: top;\n",
       "    }\n",
       "\n",
       "    .dataframe thead th {\n",
       "        text-align: right;\n",
       "    }\n",
       "</style>\n",
       "<table border=\"1\" class=\"dataframe\">\n",
       "  <thead>\n",
       "    <tr style=\"text-align: right;\">\n",
       "      <th></th>\n",
       "      <th>mor_shop</th>\n",
       "    </tr>\n",
       "    <tr>\n",
       "      <th>gender</th>\n",
       "      <th></th>\n",
       "    </tr>\n",
       "  </thead>\n",
       "  <tbody>\n",
       "    <tr>\n",
       "      <th>0</th>\n",
       "      <td>0.682955</td>\n",
       "    </tr>\n",
       "    <tr>\n",
       "      <th>1</th>\n",
       "      <td>0.777120</td>\n",
       "    </tr>\n",
       "  </tbody>\n",
       "</table>\n",
       "</div>"
      ],
      "text/plain": [
       "        mor_shop\n",
       "gender          \n",
       "0       0.682955\n",
       "1       0.777120"
      ]
     },
     "execution_count": 35,
     "metadata": {},
     "output_type": "execute_result"
    }
   ],
   "source": [
    "pd.pivot_table(df, index=\"gender\", values=\"mor_shop\")"
   ]
  },
  {
   "cell_type": "code",
   "execution_count": 36,
   "metadata": {},
   "outputs": [
    {
     "data": {
      "text/plain": [
       "<seaborn.axisgrid.FacetGrid at 0x1a2a839d10>"
      ]
     },
     "execution_count": 36,
     "metadata": {},
     "output_type": "execute_result"
    },
    {
     "data": {
      "image/png": "[encoded data removed]",
      "text/plain": [
       "<Figure size 1008x720 with 2 Axes>"
      ]
     },
     "metadata": {
      "needs_background": "light"
     },
     "output_type": "display_data"
    }
   ],
   "source": [
    "sns.catplot(x=\"lun_shop\", hue=None, col=\"gender\",\n",
    "                data=df, kind=\"count\",\n",
    "                height=10, aspect=.7)"
   ]
  },
  {
   "cell_type": "code",
   "execution_count": 37,
   "metadata": {},
   "outputs": [
    {
     "data": {
      "text/html": [
       "<div>\n",
       "<style scoped>\n",
       "    .dataframe tbody tr th:only-of-type {\n",
       "        vertical-align: middle;\n",
       "    }\n",
       "\n",
       "    .dataframe tbody tr th {\n",
       "        vertical-align: top;\n",
       "    }\n",
       "\n",
       "    .dataframe thead th {\n",
       "        text-align: right;\n",
       "    }\n",
       "</style>\n",
       "<table border=\"1\" class=\"dataframe\">\n",
       "  <thead>\n",
       "    <tr style=\"text-align: right;\">\n",
       "      <th></th>\n",
       "      <th>lun_shop</th>\n",
       "    </tr>\n",
       "    <tr>\n",
       "      <th>gender</th>\n",
       "      <th></th>\n",
       "    </tr>\n",
       "  </thead>\n",
       "  <tbody>\n",
       "    <tr>\n",
       "      <th>0</th>\n",
       "      <td>0.970394</td>\n",
       "    </tr>\n",
       "    <tr>\n",
       "      <th>1</th>\n",
       "      <td>0.972387</td>\n",
       "    </tr>\n",
       "  </tbody>\n",
       "</table>\n",
       "</div>"
      ],
      "text/plain": [
       "        lun_shop\n",
       "gender          \n",
       "0       0.970394\n",
       "1       0.972387"
      ]
     },
     "execution_count": 37,
     "metadata": {},
     "output_type": "execute_result"
    }
   ],
   "source": [
    "pd.pivot_table(df, index=\"gender\", values=\"lun_shop\")"
   ]
  },
  {
   "cell_type": "code",
   "execution_count": 38,
   "metadata": {},
   "outputs": [
    {
     "data": {
      "text/plain": [
       "<seaborn.axisgrid.FacetGrid at 0x1a2a839050>"
      ]
     },
     "execution_count": 38,
     "metadata": {},
     "output_type": "execute_result"
    },
    {
     "data": {
      "image/png": "[encoded data removed]",
      "text/plain": [
       "<Figure size 1008x720 with 2 Axes>"
      ]
     },
     "metadata": {
      "needs_background": "light"
     },
     "output_type": "display_data"
    }
   ],
   "source": [
    "sns.catplot(x=\"eve_shop\", hue=None, col=\"gender\",\n",
    "                data=df, kind=\"count\",\n",
    "                height=10, aspect=.7)"
   ]
  },
  {
   "cell_type": "code",
   "execution_count": 39,
   "metadata": {},
   "outputs": [
    {
     "data": {
      "text/html": [
       "<div>\n",
       "<style scoped>\n",
       "    .dataframe tbody tr th:only-of-type {\n",
       "        vertical-align: middle;\n",
       "    }\n",
       "\n",
       "    .dataframe tbody tr th {\n",
       "        vertical-align: top;\n",
       "    }\n",
       "\n",
       "    .dataframe thead th {\n",
       "        text-align: right;\n",
       "    }\n",
       "</style>\n",
       "<table border=\"1\" class=\"dataframe\">\n",
       "  <thead>\n",
       "    <tr style=\"text-align: right;\">\n",
       "      <th></th>\n",
       "      <th>eve_shop</th>\n",
       "    </tr>\n",
       "    <tr>\n",
       "      <th>gender</th>\n",
       "      <th></th>\n",
       "    </tr>\n",
       "  </thead>\n",
       "  <tbody>\n",
       "    <tr>\n",
       "      <th>0</th>\n",
       "      <td>0.812302</td>\n",
       "    </tr>\n",
       "    <tr>\n",
       "      <th>1</th>\n",
       "      <td>0.793557</td>\n",
       "    </tr>\n",
       "  </tbody>\n",
       "</table>\n",
       "</div>"
      ],
      "text/plain": [
       "        eve_shop\n",
       "gender          \n",
       "0       0.812302\n",
       "1       0.793557"
      ]
     },
     "execution_count": 39,
     "metadata": {},
     "output_type": "execute_result"
    }
   ],
   "source": [
    "pd.pivot_table(df, index=\"gender\", values=\"eve_shop\")"
   ]
  },
  {
   "cell_type": "code",
   "execution_count": 40,
   "metadata": {},
   "outputs": [
    {
     "data": {
      "text/plain": [
       "<seaborn.axisgrid.FacetGrid at 0x1a2697dfd0>"
      ]
     },
     "execution_count": 40,
     "metadata": {},
     "output_type": "execute_result"
    },
    {
     "data": {
      "image/png": "[encoded data removed]",
      "text/plain": [
       "<Figure size 1008x720 with 2 Axes>"
      ]
     },
     "metadata": {
      "needs_background": "light"
     },
     "output_type": "display_data"
    }
   ],
   "source": [
    "sns.catplot(x=\"allday_shop\", hue=None, col=\"gender\",\n",
    "                data=df, kind=\"count\",\n",
    "                height=10, aspect=.7)"
   ]
  },
  {
   "cell_type": "code",
   "execution_count": 41,
   "metadata": {},
   "outputs": [
    {
     "data": {
      "text/html": [
       "<div>\n",
       "<style scoped>\n",
       "    .dataframe tbody tr th:only-of-type {\n",
       "        vertical-align: middle;\n",
       "    }\n",
       "\n",
       "    .dataframe tbody tr th {\n",
       "        vertical-align: top;\n",
       "    }\n",
       "\n",
       "    .dataframe thead th {\n",
       "        text-align: right;\n",
       "    }\n",
       "</style>\n",
       "<table border=\"1\" class=\"dataframe\">\n",
       "  <thead>\n",
       "    <tr style=\"text-align: right;\">\n",
       "      <th></th>\n",
       "      <th>allday_shop</th>\n",
       "    </tr>\n",
       "    <tr>\n",
       "      <th>gender</th>\n",
       "      <th></th>\n",
       "    </tr>\n",
       "  </thead>\n",
       "  <tbody>\n",
       "    <tr>\n",
       "      <th>0</th>\n",
       "      <td>0.569129</td>\n",
       "    </tr>\n",
       "    <tr>\n",
       "      <th>1</th>\n",
       "      <td>0.623274</td>\n",
       "    </tr>\n",
       "  </tbody>\n",
       "</table>\n",
       "</div>"
      ],
      "text/plain": [
       "        allday_shop\n",
       "gender             \n",
       "0          0.569129\n",
       "1          0.623274"
      ]
     },
     "execution_count": 41,
     "metadata": {},
     "output_type": "execute_result"
    }
   ],
   "source": [
    "pd.pivot_table(df, index=\"gender\", values=\"allday_shop\")"
   ]
  },
  {
   "cell_type": "code",
   "execution_count": 58,
   "metadata": {},
   "outputs": [
    {
     "data": {
      "text/plain": [
       "<matplotlib.axes._subplots.AxesSubplot at 0x1a29195ad0>"
      ]
     },
     "execution_count": 58,
     "metadata": {},
     "output_type": "execute_result"
    },
    {
     "data": {
      "image/png": "[encoded data removed]",
      "text/plain": [
       "<Figure size 432x288 with 1 Axes>"
      ]
     },
     "metadata": {
      "needs_background": "light"
     },
     "output_type": "display_data"
    }
   ],
   "source": [
    "sns.countplot(data=df, x=\"lun_shop\", hue=\"gender\")"
   ]
  },
  {
   "cell_type": "code",
   "execution_count": 49,
   "metadata": {},
   "outputs": [
    {
     "name": "stdout",
     "output_type": "stream",
     "text": [
      "(5000, 35)\n"
     ]
    },
    {
     "data": {
      "text/html": [
       "<div>\n",
       "<style scoped>\n",
       "    .dataframe tbody tr th:only-of-type {\n",
       "        vertical-align: middle;\n",
       "    }\n",
       "\n",
       "    .dataframe tbody tr th {\n",
       "        vertical-align: top;\n",
       "    }\n",
       "\n",
       "    .dataframe thead th {\n",
       "        text-align: right;\n",
       "    }\n",
       "</style>\n",
       "<table border=\"1\" class=\"dataframe\">\n",
       "  <thead>\n",
       "    <tr style=\"text-align: right;\">\n",
       "      <th></th>\n",
       "      <th>light_pur</th>\n",
       "      <th>middle_pur</th>\n",
       "      <th>heavy_pur</th>\n",
       "    </tr>\n",
       "  </thead>\n",
       "  <tbody>\n",
       "    <tr>\n",
       "      <th>0</th>\n",
       "      <td>True</td>\n",
       "      <td>False</td>\n",
       "      <td>False</td>\n",
       "    </tr>\n",
       "    <tr>\n",
       "      <th>1</th>\n",
       "      <td>True</td>\n",
       "      <td>False</td>\n",
       "      <td>False</td>\n",
       "    </tr>\n",
       "    <tr>\n",
       "      <th>2</th>\n",
       "      <td>False</td>\n",
       "      <td>True</td>\n",
       "      <td>False</td>\n",
       "    </tr>\n",
       "    <tr>\n",
       "      <th>3</th>\n",
       "      <td>False</td>\n",
       "      <td>True</td>\n",
       "      <td>False</td>\n",
       "    </tr>\n",
       "    <tr>\n",
       "      <th>4</th>\n",
       "      <td>True</td>\n",
       "      <td>False</td>\n",
       "      <td>False</td>\n",
       "    </tr>\n",
       "  </tbody>\n",
       "</table>\n",
       "</div>"
      ],
      "text/plain": [
       "   light_pur  middle_pur  heavy_pur\n",
       "0       True       False      False\n",
       "1       True       False      False\n",
       "2      False        True      False\n",
       "3      False        True      False\n",
       "4       True       False      False"
      ]
     },
     "execution_count": 49,
     "metadata": {},
     "output_type": "execute_result"
    }
   ],
   "source": [
    "df['light_pur'] = df['구매건수'] <= 20\n",
    "df['middle_pur'] = (df['구매건수'] > 20) & (df['구매건수'] <= 100)\n",
    "df['heavy_pur'] = df['구매건수'] > 100\n",
    "\n",
    "print(df.shape)\n",
    "df[['light_pur','middle_pur','heavy_pur']].head()"
   ]
  },
  {
   "cell_type": "code",
   "execution_count": 48,
   "metadata": {},
   "outputs": [
    {
     "data": {
      "text/plain": [
       "<matplotlib.axes._subplots.AxesSubplot at 0x1a2aef68d0>"
      ]
     },
     "execution_count": 48,
     "metadata": {},
     "output_type": "execute_result"
    },
    {
     "data": {
      "image/png": "[encoded data removed]",
      "text/plain": [
       "<Figure size 432x288 with 1 Axes>"
      ]
     },
     "metadata": {
      "needs_background": "light"
     },
     "output_type": "display_data"
    }
   ],
   "source": [
    "sns.countplot(data=df, x='light_pur', hue=\"gender\")"
   ]
  },
  {
   "cell_type": "code",
   "execution_count": 50,
   "metadata": {},
   "outputs": [
    {
     "data": {
      "text/plain": [
       "<matplotlib.axes._subplots.AxesSubplot at 0x1a2b165550>"
      ]
     },
     "execution_count": 50,
     "metadata": {},
     "output_type": "execute_result"
    },
    {
     "data": {
      "image/png": "[encoded data removed]",
      "text/plain": [
       "<Figure size 432x288 with 1 Axes>"
      ]
     },
     "metadata": {
      "needs_background": "light"
     },
     "output_type": "display_data"
    }
   ],
   "source": [
    "sns.countplot(data=df, x='middle_pur', hue=\"gender\")"
   ]
  },
  {
   "cell_type": "code",
   "execution_count": 51,
   "metadata": {},
   "outputs": [
    {
     "data": {
      "text/plain": [
       "<matplotlib.axes._subplots.AxesSubplot at 0x1a2b09a090>"
      ]
     },
     "execution_count": 51,
     "metadata": {},
     "output_type": "execute_result"
    },
    {
     "data": {
      "image/png": "[encoded data removed]",
      "text/plain": [
       "<Figure size 432x288 with 1 Axes>"
      ]
     },
     "metadata": {
      "needs_background": "light"
     },
     "output_type": "display_data"
    }
   ],
   "source": [
    "sns.countplot(data=df, x='heavy_pur', hue=\"gender\")"
   ]
  },
  {
   "cell_type": "code",
   "execution_count": 53,
   "metadata": {},
   "outputs": [
    {
     "data": {
      "text/plain": [
       "<seaborn.axisgrid.FacetGrid at 0x1a2b3fbc10>"
      ]
     },
     "execution_count": 53,
     "metadata": {},
     "output_type": "execute_result"
    },
    {
     "data": {
      "image/png": "[encoded data removed]",
      "text/plain": [
       "<Figure size 1070.12x720 with 2 Axes>"
      ]
     },
     "metadata": {
      "needs_background": "light"
     },
     "output_type": "display_data"
    }
   ],
   "source": [
    "sns.catplot(x=\"light_pur\", hue=\"mor_shop\", col=\"gender\",\n",
    "                data=df, kind=\"count\",\n",
    "                height=10, aspect=.7)"
   ]
  },
  {
   "cell_type": "markdown",
   "metadata": {},
   "source": [
    "1. 구매건수 20건 이하 고객들이 아침에 쇼핑할 확률 = 여성 < 남성\n",
    "2. 구매건수 20건 이상 고객들이 아침에 쇼핑할 확률 = 여성 < 남성"
   ]
  },
  {
   "cell_type": "code",
   "execution_count": 57,
   "metadata": {},
   "outputs": [
    {
     "data": {
      "text/plain": [
       "<seaborn.axisgrid.FacetGrid at 0x1a2b43f9d0>"
      ]
     },
     "execution_count": 57,
     "metadata": {},
     "output_type": "execute_result"
    },
    {
     "data": {
      "image/png": "[encoded data removed]",
      "text/plain": [
       "<Figure size 1070.12x720 with 2 Axes>"
      ]
     },
     "metadata": {
      "needs_background": "light"
     },
     "output_type": "display_data"
    }
   ],
   "source": [
    "sns.catplot(x=\"light_pur\", hue=\"lun_shop\", col=\"gender\",\n",
    "                data=df, kind=\"count\",\n",
    "                height=10, aspect=.7)"
   ]
  },
  {
   "cell_type": "markdown",
   "metadata": {},
   "source": [
    "1. 구매건수에 상관없이 남여 모두 점심에 구매할 확률이 압도적으로 높다"
   ]
  },
  {
   "cell_type": "code",
   "execution_count": 59,
   "metadata": {},
   "outputs": [
    {
     "data": {
      "text/plain": [
       "<seaborn.axisgrid.FacetGrid at 0x1a2b6769d0>"
      ]
     },
     "execution_count": 59,
     "metadata": {},
     "output_type": "execute_result"
    },
    {
     "data": {
      "image/png": "[encoded data removed]",
      "text/plain": [
       "<Figure size 1070.12x720 with 2 Axes>"
      ]
     },
     "metadata": {
      "needs_background": "light"
     },
     "output_type": "display_data"
    }
   ],
   "source": [
    "sns.catplot(x=\"light_pur\", hue=\"eve_shop\", col=\"gender\",\n",
    "                data=df, kind=\"count\",\n",
    "                height=10, aspect=.7)"
   ]
  },
  {
   "cell_type": "markdown",
   "metadata": {},
   "source": [
    "1. 구매건수 20건 이하 고객들이 저녁에 쇼핑할 확률 = 여성 > 남성"
   ]
  },
  {
   "cell_type": "code",
   "execution_count": 71,
   "metadata": {},
   "outputs": [],
   "source": [
    "mdf = df.copy()"
   ]
  },
  {
   "cell_type": "code",
   "execution_count": 73,
   "metadata": {},
   "outputs": [
    {
     "data": {
      "text/html": [
       "<div>\n",
       "<style scoped>\n",
       "    .dataframe tbody tr th:only-of-type {\n",
       "        vertical-align: middle;\n",
       "    }\n",
       "\n",
       "    .dataframe tbody tr th {\n",
       "        vertical-align: top;\n",
       "    }\n",
       "\n",
       "    .dataframe thead th {\n",
       "        text-align: right;\n",
       "    }\n",
       "</style>\n",
       "<table border=\"1\" class=\"dataframe\">\n",
       "  <thead>\n",
       "    <tr style=\"text-align: right;\">\n",
       "      <th></th>\n",
       "      <th>custid</th>\n",
       "      <th>gender</th>\n",
       "      <th>총구매액</th>\n",
       "      <th>구매건수</th>\n",
       "      <th>평균구매가격</th>\n",
       "      <th>평균할부개월수</th>\n",
       "      <th>구매브랜드종류</th>\n",
       "      <th>내점일수</th>\n",
       "      <th>수입상품_구매비율</th>\n",
       "      <th>주말방문비율</th>\n",
       "      <th>...</th>\n",
       "      <th>win_shop</th>\n",
       "      <th>win_allday_shop</th>\n",
       "      <th>aut_allday_shop</th>\n",
       "      <th>summ_allday_shop</th>\n",
       "      <th>spr_allday_shop</th>\n",
       "      <th>crazy_shop</th>\n",
       "      <th>light_pur</th>\n",
       "      <th>middle_pur</th>\n",
       "      <th>heavy_pur</th>\n",
       "      <th>wlight_eve_shop</th>\n",
       "    </tr>\n",
       "  </thead>\n",
       "  <tbody>\n",
       "    <tr>\n",
       "      <th>custid</th>\n",
       "      <td>1.000000</td>\n",
       "      <td>0.262472</td>\n",
       "      <td>0.217251</td>\n",
       "      <td>0.218914</td>\n",
       "      <td>0.117939</td>\n",
       "      <td>0.093048</td>\n",
       "      <td>0.154303</td>\n",
       "      <td>0.212969</td>\n",
       "      <td>-0.017958</td>\n",
       "      <td>-0.162393</td>\n",
       "      <td>...</td>\n",
       "      <td>0.070861</td>\n",
       "      <td>0.118894</td>\n",
       "      <td>0.141161</td>\n",
       "      <td>0.160565</td>\n",
       "      <td>0.118664</td>\n",
       "      <td>0.164613</td>\n",
       "      <td>-0.184735</td>\n",
       "      <td>0.114192</td>\n",
       "      <td>0.145770</td>\n",
       "      <td>-0.254073</td>\n",
       "    </tr>\n",
       "    <tr>\n",
       "      <th>gender</th>\n",
       "      <td>0.262472</td>\n",
       "      <td>1.000000</td>\n",
       "      <td>0.099137</td>\n",
       "      <td>0.094022</td>\n",
       "      <td>0.072181</td>\n",
       "      <td>-0.020066</td>\n",
       "      <td>0.083988</td>\n",
       "      <td>0.084255</td>\n",
       "      <td>-0.021294</td>\n",
       "      <td>0.020457</td>\n",
       "      <td>...</td>\n",
       "      <td>0.032707</td>\n",
       "      <td>0.056399</td>\n",
       "      <td>0.061731</td>\n",
       "      <td>0.061750</td>\n",
       "      <td>0.054819</td>\n",
       "      <td>0.068299</td>\n",
       "      <td>-0.059852</td>\n",
       "      <td>0.029050</td>\n",
       "      <td>0.063453</td>\n",
       "      <td>-0.487542</td>\n",
       "    </tr>\n",
       "    <tr>\n",
       "      <th>총구매액</th>\n",
       "      <td>0.217251</td>\n",
       "      <td>0.099137</td>\n",
       "      <td>1.000000</td>\n",
       "      <td>0.712183</td>\n",
       "      <td>0.376395</td>\n",
       "      <td>0.137335</td>\n",
       "      <td>0.714774</td>\n",
       "      <td>0.617210</td>\n",
       "      <td>-0.048053</td>\n",
       "      <td>-0.048515</td>\n",
       "      <td>...</td>\n",
       "      <td>0.221515</td>\n",
       "      <td>0.332984</td>\n",
       "      <td>0.335986</td>\n",
       "      <td>0.334941</td>\n",
       "      <td>0.326461</td>\n",
       "      <td>0.381316</td>\n",
       "      <td>-0.451553</td>\n",
       "      <td>0.195910</td>\n",
       "      <td>0.526199</td>\n",
       "      <td>-0.347248</td>\n",
       "    </tr>\n",
       "    <tr>\n",
       "      <th>구매건수</th>\n",
       "      <td>0.218914</td>\n",
       "      <td>0.094022</td>\n",
       "      <td>0.712183</td>\n",
       "      <td>1.000000</td>\n",
       "      <td>-0.057376</td>\n",
       "      <td>-0.037878</td>\n",
       "      <td>0.869075</td>\n",
       "      <td>0.942115</td>\n",
       "      <td>-0.210022</td>\n",
       "      <td>-0.096558</td>\n",
       "      <td>...</td>\n",
       "      <td>0.295140</td>\n",
       "      <td>0.449973</td>\n",
       "      <td>0.453383</td>\n",
       "      <td>0.453505</td>\n",
       "      <td>0.442005</td>\n",
       "      <td>0.521629</td>\n",
       "      <td>-0.604874</td>\n",
       "      <td>0.238551</td>\n",
       "      <td>0.753619</td>\n",
       "      <td>-0.458924</td>\n",
       "    </tr>\n",
       "    <tr>\n",
       "      <th>평균구매가격</th>\n",
       "      <td>0.117939</td>\n",
       "      <td>0.072181</td>\n",
       "      <td>0.376395</td>\n",
       "      <td>-0.057376</td>\n",
       "      <td>1.000000</td>\n",
       "      <td>0.407556</td>\n",
       "      <td>0.002931</td>\n",
       "      <td>-0.091136</td>\n",
       "      <td>0.189608</td>\n",
       "      <td>0.036426</td>\n",
       "      <td>...</td>\n",
       "      <td>-0.023776</td>\n",
       "      <td>-0.044894</td>\n",
       "      <td>-0.038309</td>\n",
       "      <td>-0.043445</td>\n",
       "      <td>-0.036902</td>\n",
       "      <td>-0.053074</td>\n",
       "      <td>0.046474</td>\n",
       "      <td>-0.027649</td>\n",
       "      <td>-0.038872</td>\n",
       "      <td>-0.002565</td>\n",
       "    </tr>\n",
       "    <tr>\n",
       "      <th>평균할부개월수</th>\n",
       "      <td>0.093048</td>\n",
       "      <td>-0.020066</td>\n",
       "      <td>0.137335</td>\n",
       "      <td>-0.037878</td>\n",
       "      <td>0.407556</td>\n",
       "      <td>1.000000</td>\n",
       "      <td>-0.002074</td>\n",
       "      <td>-0.076343</td>\n",
       "      <td>0.097727</td>\n",
       "      <td>-0.001625</td>\n",
       "      <td>...</td>\n",
       "      <td>-0.028724</td>\n",
       "      <td>-0.032676</td>\n",
       "      <td>-0.027171</td>\n",
       "      <td>-0.031504</td>\n",
       "      <td>-0.025934</td>\n",
       "      <td>-0.046588</td>\n",
       "      <td>0.018414</td>\n",
       "      <td>-0.005421</td>\n",
       "      <td>-0.026701</td>\n",
       "      <td>0.029991</td>\n",
       "    </tr>\n",
       "    <tr>\n",
       "      <th>구매브랜드종류</th>\n",
       "      <td>0.154303</td>\n",
       "      <td>0.083988</td>\n",
       "      <td>0.714774</td>\n",
       "      <td>0.869075</td>\n",
       "      <td>0.002931</td>\n",
       "      <td>-0.002074</td>\n",
       "      <td>1.000000</td>\n",
       "      <td>0.780303</td>\n",
       "      <td>-0.234547</td>\n",
       "      <td>-0.080674</td>\n",
       "      <td>...</td>\n",
       "      <td>0.350264</td>\n",
       "      <td>0.504113</td>\n",
       "      <td>0.507402</td>\n",
       "      <td>0.504499</td>\n",
       "      <td>0.494962</td>\n",
       "      <td>0.569115</td>\n",
       "      <td>-0.685446</td>\n",
       "      <td>0.397749</td>\n",
       "      <td>0.593852</td>\n",
       "      <td>-0.518945</td>\n",
       "    </tr>\n",
       "    <tr>\n",
       "      <th>내점일수</th>\n",
       "      <td>0.212969</td>\n",
       "      <td>0.084255</td>\n",
       "      <td>0.617210</td>\n",
       "      <td>0.942115</td>\n",
       "      <td>-0.091136</td>\n",
       "      <td>-0.076343</td>\n",
       "      <td>0.780303</td>\n",
       "      <td>1.000000</td>\n",
       "      <td>-0.225363</td>\n",
       "      <td>-0.114795</td>\n",
       "      <td>...</td>\n",
       "      <td>0.316733</td>\n",
       "      <td>0.465223</td>\n",
       "      <td>0.465957</td>\n",
       "      <td>0.464488</td>\n",
       "      <td>0.455376</td>\n",
       "      <td>0.537197</td>\n",
       "      <td>-0.600706</td>\n",
       "      <td>0.261277</td>\n",
       "      <td>0.698670</td>\n",
       "      <td>-0.454541</td>\n",
       "    </tr>\n",
       "    <tr>\n",
       "      <th>수입상품_구매비율</th>\n",
       "      <td>-0.017958</td>\n",
       "      <td>-0.021294</td>\n",
       "      <td>-0.048053</td>\n",
       "      <td>-0.210022</td>\n",
       "      <td>0.189608</td>\n",
       "      <td>0.097727</td>\n",
       "      <td>-0.234547</td>\n",
       "      <td>-0.225363</td>\n",
       "      <td>1.000000</td>\n",
       "      <td>0.016123</td>\n",
       "      <td>...</td>\n",
       "      <td>-0.210195</td>\n",
       "      <td>-0.230160</td>\n",
       "      <td>-0.227913</td>\n",
       "      <td>-0.222041</td>\n",
       "      <td>-0.229667</td>\n",
       "      <td>-0.218220</td>\n",
       "      <td>0.246490</td>\n",
       "      <td>-0.201166</td>\n",
       "      <td>-0.094866</td>\n",
       "      <td>0.198107</td>\n",
       "    </tr>\n",
       "    <tr>\n",
       "      <th>주말방문비율</th>\n",
       "      <td>-0.162393</td>\n",
       "      <td>0.020457</td>\n",
       "      <td>-0.048515</td>\n",
       "      <td>-0.096558</td>\n",
       "      <td>0.036426</td>\n",
       "      <td>-0.001625</td>\n",
       "      <td>-0.080674</td>\n",
       "      <td>-0.114795</td>\n",
       "      <td>0.016123</td>\n",
       "      <td>1.000000</td>\n",
       "      <td>...</td>\n",
       "      <td>-0.004465</td>\n",
       "      <td>-0.047129</td>\n",
       "      <td>-0.060498</td>\n",
       "      <td>-0.063057</td>\n",
       "      <td>-0.064288</td>\n",
       "      <td>-0.056886</td>\n",
       "      <td>0.089937</td>\n",
       "      <td>-0.062137</td>\n",
       "      <td>-0.057609</td>\n",
       "      <td>0.034336</td>\n",
       "    </tr>\n",
       "    <tr>\n",
       "      <th>가을_구매건수</th>\n",
       "      <td>0.187350</td>\n",
       "      <td>0.088600</td>\n",
       "      <td>0.657523</td>\n",
       "      <td>0.896969</td>\n",
       "      <td>-0.036019</td>\n",
       "      <td>-0.018789</td>\n",
       "      <td>0.777740</td>\n",
       "      <td>0.843133</td>\n",
       "      <td>-0.183411</td>\n",
       "      <td>-0.084014</td>\n",
       "      <td>...</td>\n",
       "      <td>0.248393</td>\n",
       "      <td>0.395082</td>\n",
       "      <td>0.434589</td>\n",
       "      <td>0.403109</td>\n",
       "      <td>0.381109</td>\n",
       "      <td>0.469375</td>\n",
       "      <td>-0.534947</td>\n",
       "      <td>0.210644</td>\n",
       "      <td>0.667169</td>\n",
       "      <td>-0.407849</td>\n",
       "    </tr>\n",
       "    <tr>\n",
       "      <th>겨울_구매건수</th>\n",
       "      <td>0.164901</td>\n",
       "      <td>0.065261</td>\n",
       "      <td>0.620446</td>\n",
       "      <td>0.879652</td>\n",
       "      <td>-0.052918</td>\n",
       "      <td>-0.039526</td>\n",
       "      <td>0.774681</td>\n",
       "      <td>0.836375</td>\n",
       "      <td>-0.185994</td>\n",
       "      <td>-0.071125</td>\n",
       "      <td>...</td>\n",
       "      <td>0.362764</td>\n",
       "      <td>0.438984</td>\n",
       "      <td>0.394224</td>\n",
       "      <td>0.375592</td>\n",
       "      <td>0.391805</td>\n",
       "      <td>0.458057</td>\n",
       "      <td>-0.540134</td>\n",
       "      <td>0.214442</td>\n",
       "      <td>0.670054</td>\n",
       "      <td>-0.407362</td>\n",
       "    </tr>\n",
       "    <tr>\n",
       "      <th>봄_구매건수</th>\n",
       "      <td>0.184422</td>\n",
       "      <td>0.076116</td>\n",
       "      <td>0.635757</td>\n",
       "      <td>0.895580</td>\n",
       "      <td>-0.048857</td>\n",
       "      <td>-0.033855</td>\n",
       "      <td>0.784562</td>\n",
       "      <td>0.843763</td>\n",
       "      <td>-0.193382</td>\n",
       "      <td>-0.093424</td>\n",
       "      <td>...</td>\n",
       "      <td>0.238179</td>\n",
       "      <td>0.394135</td>\n",
       "      <td>0.391320</td>\n",
       "      <td>0.383905</td>\n",
       "      <td>0.420118</td>\n",
       "      <td>0.459360</td>\n",
       "      <td>-0.546435</td>\n",
       "      <td>0.212044</td>\n",
       "      <td>0.687872</td>\n",
       "      <td>-0.413642</td>\n",
       "    </tr>\n",
       "    <tr>\n",
       "      <th>여름_구매건수</th>\n",
       "      <td>0.236324</td>\n",
       "      <td>0.101900</td>\n",
       "      <td>0.619743</td>\n",
       "      <td>0.883784</td>\n",
       "      <td>-0.064851</td>\n",
       "      <td>-0.041831</td>\n",
       "      <td>0.755035</td>\n",
       "      <td>0.827751</td>\n",
       "      <td>-0.184013</td>\n",
       "      <td>-0.092989</td>\n",
       "      <td>...</td>\n",
       "      <td>0.211456</td>\n",
       "      <td>0.376563</td>\n",
       "      <td>0.393472</td>\n",
       "      <td>0.445145</td>\n",
       "      <td>0.378956</td>\n",
       "      <td>0.467711</td>\n",
       "      <td>-0.530024</td>\n",
       "      <td>0.211367</td>\n",
       "      <td>0.655595</td>\n",
       "      <td>-0.403350</td>\n",
       "    </tr>\n",
       "    <tr>\n",
       "      <th>아침_구매건수</th>\n",
       "      <td>0.199936</td>\n",
       "      <td>0.127779</td>\n",
       "      <td>0.456158</td>\n",
       "      <td>0.672721</td>\n",
       "      <td>-0.040362</td>\n",
       "      <td>-0.047450</td>\n",
       "      <td>0.582657</td>\n",
       "      <td>0.638138</td>\n",
       "      <td>-0.133133</td>\n",
       "      <td>-0.113193</td>\n",
       "      <td>...</td>\n",
       "      <td>0.190933</td>\n",
       "      <td>0.310074</td>\n",
       "      <td>0.314960</td>\n",
       "      <td>0.315750</td>\n",
       "      <td>0.307048</td>\n",
       "      <td>0.353516</td>\n",
       "      <td>-0.405795</td>\n",
       "      <td>0.149506</td>\n",
       "      <td>0.527088</td>\n",
       "      <td>-0.315791</td>\n",
       "    </tr>\n",
       "    <tr>\n",
       "      <th>저녁_구매건수</th>\n",
       "      <td>-0.001832</td>\n",
       "      <td>-0.021618</td>\n",
       "      <td>0.398494</td>\n",
       "      <td>0.643764</td>\n",
       "      <td>-0.092749</td>\n",
       "      <td>-0.051170</td>\n",
       "      <td>0.578552</td>\n",
       "      <td>0.634809</td>\n",
       "      <td>-0.170649</td>\n",
       "      <td>-0.006852</td>\n",
       "      <td>...</td>\n",
       "      <td>0.207765</td>\n",
       "      <td>0.324261</td>\n",
       "      <td>0.321440</td>\n",
       "      <td>0.318470</td>\n",
       "      <td>0.320240</td>\n",
       "      <td>0.357428</td>\n",
       "      <td>-0.412865</td>\n",
       "      <td>0.177880</td>\n",
       "      <td>0.483658</td>\n",
       "      <td>-0.302572</td>\n",
       "    </tr>\n",
       "    <tr>\n",
       "      <th>점심_구매건수</th>\n",
       "      <td>0.247271</td>\n",
       "      <td>0.097237</td>\n",
       "      <td>0.709572</td>\n",
       "      <td>0.945027</td>\n",
       "      <td>-0.028726</td>\n",
       "      <td>-0.014389</td>\n",
       "      <td>0.813712</td>\n",
       "      <td>0.875888</td>\n",
       "      <td>-0.186310</td>\n",
       "      <td>-0.094814</td>\n",
       "      <td>...</td>\n",
       "      <td>0.274349</td>\n",
       "      <td>0.406714</td>\n",
       "      <td>0.411033</td>\n",
       "      <td>0.412192</td>\n",
       "      <td>0.397679</td>\n",
       "      <td>0.482241</td>\n",
       "      <td>-0.561708</td>\n",
       "      <td>0.219430</td>\n",
       "      <td>0.704120</td>\n",
       "      <td>-0.427469</td>\n",
       "    </tr>\n",
       "    <tr>\n",
       "      <th>주구매코너</th>\n",
       "      <td>-0.131943</td>\n",
       "      <td>-0.039270</td>\n",
       "      <td>-0.141735</td>\n",
       "      <td>-0.143826</td>\n",
       "      <td>-0.044333</td>\n",
       "      <td>-0.021258</td>\n",
       "      <td>-0.166345</td>\n",
       "      <td>-0.136688</td>\n",
       "      <td>0.277087</td>\n",
       "      <td>0.064942</td>\n",
       "      <td>...</td>\n",
       "      <td>-0.093652</td>\n",
       "      <td>-0.117452</td>\n",
       "      <td>-0.116645</td>\n",
       "      <td>-0.127685</td>\n",
       "      <td>-0.115001</td>\n",
       "      <td>-0.119251</td>\n",
       "      <td>0.142117</td>\n",
       "      <td>-0.103198</td>\n",
       "      <td>-0.080801</td>\n",
       "      <td>0.111220</td>\n",
       "    </tr>\n",
       "    <tr>\n",
       "      <th>light_shop</th>\n",
       "      <td>-0.229873</td>\n",
       "      <td>-0.109895</td>\n",
       "      <td>-0.523727</td>\n",
       "      <td>-0.539797</td>\n",
       "      <td>-0.459811</td>\n",
       "      <td>-0.190483</td>\n",
       "      <td>-0.549465</td>\n",
       "      <td>-0.504062</td>\n",
       "      <td>0.033886</td>\n",
       "      <td>0.051847</td>\n",
       "      <td>...</td>\n",
       "      <td>-0.178292</td>\n",
       "      <td>-0.278962</td>\n",
       "      <td>-0.276141</td>\n",
       "      <td>-0.284127</td>\n",
       "      <td>-0.275072</td>\n",
       "      <td>-0.340793</td>\n",
       "      <td>0.399497</td>\n",
       "      <td>-0.238639</td>\n",
       "      <td>-0.332191</td>\n",
       "      <td>0.319602</td>\n",
       "    </tr>\n",
       "    <tr>\n",
       "      <th>mor_shop</th>\n",
       "      <td>0.198834</td>\n",
       "      <td>0.095631</td>\n",
       "      <td>0.260210</td>\n",
       "      <td>0.342201</td>\n",
       "      <td>-0.017680</td>\n",
       "      <td>-0.004423</td>\n",
       "      <td>0.384011</td>\n",
       "      <td>0.353078</td>\n",
       "      <td>-0.201862</td>\n",
       "      <td>-0.132096</td>\n",
       "      <td>...</td>\n",
       "      <td>0.261545</td>\n",
       "      <td>0.689759</td>\n",
       "      <td>0.687819</td>\n",
       "      <td>0.673326</td>\n",
       "      <td>0.706374</td>\n",
       "      <td>0.572362</td>\n",
       "      <td>-0.428054</td>\n",
       "      <td>0.352457</td>\n",
       "      <td>0.158386</td>\n",
       "      <td>-0.360584</td>\n",
       "    </tr>\n",
       "    <tr>\n",
       "      <th>lun_shop</th>\n",
       "      <td>0.058439</td>\n",
       "      <td>0.005464</td>\n",
       "      <td>0.103023</td>\n",
       "      <td>0.134208</td>\n",
       "      <td>-0.029134</td>\n",
       "      <td>-0.060253</td>\n",
       "      <td>0.175453</td>\n",
       "      <td>0.140245</td>\n",
       "      <td>-0.196190</td>\n",
       "      <td>-0.001030</td>\n",
       "      <td>...</td>\n",
       "      <td>0.208082</td>\n",
       "      <td>0.187244</td>\n",
       "      <td>0.186717</td>\n",
       "      <td>0.182783</td>\n",
       "      <td>0.191754</td>\n",
       "      <td>0.155375</td>\n",
       "      <td>-0.172815</td>\n",
       "      <td>0.151592</td>\n",
       "      <td>0.044963</td>\n",
       "      <td>-0.124588</td>\n",
       "    </tr>\n",
       "    <tr>\n",
       "      <th>eve_shop</th>\n",
       "      <td>-0.077546</td>\n",
       "      <td>-0.021835</td>\n",
       "      <td>0.176905</td>\n",
       "      <td>0.247657</td>\n",
       "      <td>-0.044826</td>\n",
       "      <td>-0.017231</td>\n",
       "      <td>0.298062</td>\n",
       "      <td>0.256492</td>\n",
       "      <td>-0.202130</td>\n",
       "      <td>0.046918</td>\n",
       "      <td>...</td>\n",
       "      <td>0.255401</td>\n",
       "      <td>0.530539</td>\n",
       "      <td>0.529046</td>\n",
       "      <td>0.517899</td>\n",
       "      <td>0.543318</td>\n",
       "      <td>0.440241</td>\n",
       "      <td>-0.317768</td>\n",
       "      <td>0.264981</td>\n",
       "      <td>0.110775</td>\n",
       "      <td>-0.214593</td>\n",
       "    </tr>\n",
       "    <tr>\n",
       "      <th>allday_shop</th>\n",
       "      <td>0.114949</td>\n",
       "      <td>0.050567</td>\n",
       "      <td>0.307647</td>\n",
       "      <td>0.414418</td>\n",
       "      <td>-0.036275</td>\n",
       "      <td>-0.018926</td>\n",
       "      <td>0.468398</td>\n",
       "      <td>0.425768</td>\n",
       "      <td>-0.234440</td>\n",
       "      <td>-0.060850</td>\n",
       "      <td>...</td>\n",
       "      <td>0.314567</td>\n",
       "      <td>0.911438</td>\n",
       "      <td>0.908874</td>\n",
       "      <td>0.889724</td>\n",
       "      <td>0.933392</td>\n",
       "      <td>0.756311</td>\n",
       "      <td>-0.514324</td>\n",
       "      <td>0.419296</td>\n",
       "      <td>0.198872</td>\n",
       "      <td>-0.391192</td>\n",
       "    </tr>\n",
       "    <tr>\n",
       "      <th>spr_shop</th>\n",
       "      <td>0.055718</td>\n",
       "      <td>0.034801</td>\n",
       "      <td>0.193747</td>\n",
       "      <td>0.260605</td>\n",
       "      <td>-0.013471</td>\n",
       "      <td>-0.029159</td>\n",
       "      <td>0.310634</td>\n",
       "      <td>0.276758</td>\n",
       "      <td>-0.198775</td>\n",
       "      <td>-0.084593</td>\n",
       "      <td>...</td>\n",
       "      <td>0.156357</td>\n",
       "      <td>0.268999</td>\n",
       "      <td>0.267817</td>\n",
       "      <td>0.256624</td>\n",
       "      <td>0.443584</td>\n",
       "      <td>0.359428</td>\n",
       "      <td>-0.351600</td>\n",
       "      <td>0.303447</td>\n",
       "      <td>0.101632</td>\n",
       "      <td>-0.278583</td>\n",
       "    </tr>\n",
       "    <tr>\n",
       "      <th>summ_shop</th>\n",
       "      <td>0.176178</td>\n",
       "      <td>0.052706</td>\n",
       "      <td>0.224656</td>\n",
       "      <td>0.306724</td>\n",
       "      <td>-0.055687</td>\n",
       "      <td>-0.040122</td>\n",
       "      <td>0.357993</td>\n",
       "      <td>0.320560</td>\n",
       "      <td>-0.212931</td>\n",
       "      <td>-0.052734</td>\n",
       "      <td>...</td>\n",
       "      <td>0.168883</td>\n",
       "      <td>0.301396</td>\n",
       "      <td>0.343680</td>\n",
       "      <td>0.536092</td>\n",
       "      <td>0.301117</td>\n",
       "      <td>0.455705</td>\n",
       "      <td>-0.393834</td>\n",
       "      <td>0.333058</td>\n",
       "      <td>0.127804</td>\n",
       "      <td>-0.316738</td>\n",
       "    </tr>\n",
       "    <tr>\n",
       "      <th>aut_shop</th>\n",
       "      <td>0.127197</td>\n",
       "      <td>0.051598</td>\n",
       "      <td>0.233860</td>\n",
       "      <td>0.313277</td>\n",
       "      <td>-0.031124</td>\n",
       "      <td>-0.019722</td>\n",
       "      <td>0.374542</td>\n",
       "      <td>0.329413</td>\n",
       "      <td>-0.240703</td>\n",
       "      <td>-0.041067</td>\n",
       "      <td>...</td>\n",
       "      <td>0.276224</td>\n",
       "      <td>0.332399</td>\n",
       "      <td>0.521573</td>\n",
       "      <td>0.355042</td>\n",
       "      <td>0.323009</td>\n",
       "      <td>0.434022</td>\n",
       "      <td>-0.418385</td>\n",
       "      <td>0.360856</td>\n",
       "      <td>0.121407</td>\n",
       "      <td>-0.338139</td>\n",
       "    </tr>\n",
       "    <tr>\n",
       "      <th>win_shop</th>\n",
       "      <td>0.070861</td>\n",
       "      <td>0.032707</td>\n",
       "      <td>0.221515</td>\n",
       "      <td>0.295140</td>\n",
       "      <td>-0.023776</td>\n",
       "      <td>-0.028724</td>\n",
       "      <td>0.350264</td>\n",
       "      <td>0.316733</td>\n",
       "      <td>-0.210195</td>\n",
       "      <td>-0.004465</td>\n",
       "      <td>...</td>\n",
       "      <td>1.000000</td>\n",
       "      <td>0.506598</td>\n",
       "      <td>0.318004</td>\n",
       "      <td>0.297183</td>\n",
       "      <td>0.309169</td>\n",
       "      <td>0.420375</td>\n",
       "      <td>-0.382432</td>\n",
       "      <td>0.324616</td>\n",
       "      <td>0.121650</td>\n",
       "      <td>-0.301278</td>\n",
       "    </tr>\n",
       "    <tr>\n",
       "      <th>win_allday_shop</th>\n",
       "      <td>0.118894</td>\n",
       "      <td>0.056399</td>\n",
       "      <td>0.332984</td>\n",
       "      <td>0.449973</td>\n",
       "      <td>-0.044894</td>\n",
       "      <td>-0.032676</td>\n",
       "      <td>0.504113</td>\n",
       "      <td>0.465223</td>\n",
       "      <td>-0.230160</td>\n",
       "      <td>-0.047129</td>\n",
       "      <td>...</td>\n",
       "      <td>0.506598</td>\n",
       "      <td>1.000000</td>\n",
       "      <td>0.853096</td>\n",
       "      <td>0.824251</td>\n",
       "      <td>0.862704</td>\n",
       "      <td>0.829800</td>\n",
       "      <td>-0.548585</td>\n",
       "      <td>0.443185</td>\n",
       "      <td>0.220371</td>\n",
       "      <td>-0.421688</td>\n",
       "    </tr>\n",
       "    <tr>\n",
       "      <th>aut_allday_shop</th>\n",
       "      <td>0.141161</td>\n",
       "      <td>0.061731</td>\n",
       "      <td>0.335986</td>\n",
       "      <td>0.453383</td>\n",
       "      <td>-0.038309</td>\n",
       "      <td>-0.027171</td>\n",
       "      <td>0.507402</td>\n",
       "      <td>0.465957</td>\n",
       "      <td>-0.227913</td>\n",
       "      <td>-0.060498</td>\n",
       "      <td>...</td>\n",
       "      <td>0.318004</td>\n",
       "      <td>0.853096</td>\n",
       "      <td>1.000000</td>\n",
       "      <td>0.856774</td>\n",
       "      <td>0.859982</td>\n",
       "      <td>0.832141</td>\n",
       "      <td>-0.560179</td>\n",
       "      <td>0.455305</td>\n",
       "      <td>0.219406</td>\n",
       "      <td>-0.431283</td>\n",
       "    </tr>\n",
       "    <tr>\n",
       "      <th>summ_allday_shop</th>\n",
       "      <td>0.160565</td>\n",
       "      <td>0.061750</td>\n",
       "      <td>0.334941</td>\n",
       "      <td>0.453505</td>\n",
       "      <td>-0.043445</td>\n",
       "      <td>-0.031504</td>\n",
       "      <td>0.504499</td>\n",
       "      <td>0.464488</td>\n",
       "      <td>-0.222041</td>\n",
       "      <td>-0.063057</td>\n",
       "      <td>...</td>\n",
       "      <td>0.297183</td>\n",
       "      <td>0.824251</td>\n",
       "      <td>0.856774</td>\n",
       "      <td>1.000000</td>\n",
       "      <td>0.838016</td>\n",
       "      <td>0.850051</td>\n",
       "      <td>-0.544332</td>\n",
       "      <td>0.436832</td>\n",
       "      <td>0.224619</td>\n",
       "      <td>-0.417531</td>\n",
       "    </tr>\n",
       "    <tr>\n",
       "      <th>spr_allday_shop</th>\n",
       "      <td>0.118664</td>\n",
       "      <td>0.054819</td>\n",
       "      <td>0.326461</td>\n",
       "      <td>0.442005</td>\n",
       "      <td>-0.036902</td>\n",
       "      <td>-0.025934</td>\n",
       "      <td>0.494962</td>\n",
       "      <td>0.455376</td>\n",
       "      <td>-0.229667</td>\n",
       "      <td>-0.064288</td>\n",
       "      <td>...</td>\n",
       "      <td>0.309169</td>\n",
       "      <td>0.862704</td>\n",
       "      <td>0.859982</td>\n",
       "      <td>0.838016</td>\n",
       "      <td>1.000000</td>\n",
       "      <td>0.810282</td>\n",
       "      <td>-0.547127</td>\n",
       "      <td>0.445317</td>\n",
       "      <td>0.213029</td>\n",
       "      <td>-0.418215</td>\n",
       "    </tr>\n",
       "    <tr>\n",
       "      <th>crazy_shop</th>\n",
       "      <td>0.164613</td>\n",
       "      <td>0.068299</td>\n",
       "      <td>0.381316</td>\n",
       "      <td>0.521629</td>\n",
       "      <td>-0.053074</td>\n",
       "      <td>-0.046588</td>\n",
       "      <td>0.569115</td>\n",
       "      <td>0.537197</td>\n",
       "      <td>-0.218220</td>\n",
       "      <td>-0.056886</td>\n",
       "      <td>...</td>\n",
       "      <td>0.420375</td>\n",
       "      <td>0.829800</td>\n",
       "      <td>0.832141</td>\n",
       "      <td>0.850051</td>\n",
       "      <td>0.810282</td>\n",
       "      <td>1.000000</td>\n",
       "      <td>-0.610145</td>\n",
       "      <td>0.482547</td>\n",
       "      <td>0.266274</td>\n",
       "      <td>-0.468386</td>\n",
       "    </tr>\n",
       "    <tr>\n",
       "      <th>light_pur</th>\n",
       "      <td>-0.184735</td>\n",
       "      <td>-0.059852</td>\n",
       "      <td>-0.451553</td>\n",
       "      <td>-0.604874</td>\n",
       "      <td>0.046474</td>\n",
       "      <td>0.018414</td>\n",
       "      <td>-0.685446</td>\n",
       "      <td>-0.600706</td>\n",
       "      <td>0.246490</td>\n",
       "      <td>0.089937</td>\n",
       "      <td>...</td>\n",
       "      <td>-0.382432</td>\n",
       "      <td>-0.548585</td>\n",
       "      <td>-0.560179</td>\n",
       "      <td>-0.544332</td>\n",
       "      <td>-0.547127</td>\n",
       "      <td>-0.610145</td>\n",
       "      <td>1.000000</td>\n",
       "      <td>-0.880612</td>\n",
       "      <td>-0.253193</td>\n",
       "      <td>0.757687</td>\n",
       "    </tr>\n",
       "    <tr>\n",
       "      <th>middle_pur</th>\n",
       "      <td>0.114192</td>\n",
       "      <td>0.029050</td>\n",
       "      <td>0.195910</td>\n",
       "      <td>0.238551</td>\n",
       "      <td>-0.027649</td>\n",
       "      <td>-0.005421</td>\n",
       "      <td>0.397749</td>\n",
       "      <td>0.261277</td>\n",
       "      <td>-0.201166</td>\n",
       "      <td>-0.062137</td>\n",
       "      <td>...</td>\n",
       "      <td>0.324616</td>\n",
       "      <td>0.443185</td>\n",
       "      <td>0.455305</td>\n",
       "      <td>0.436832</td>\n",
       "      <td>0.445317</td>\n",
       "      <td>0.482547</td>\n",
       "      <td>-0.880612</td>\n",
       "      <td>1.000000</td>\n",
       "      <td>-0.235433</td>\n",
       "      <td>-0.667228</td>\n",
       "    </tr>\n",
       "    <tr>\n",
       "      <th>heavy_pur</th>\n",
       "      <td>0.145770</td>\n",
       "      <td>0.063453</td>\n",
       "      <td>0.526199</td>\n",
       "      <td>0.753619</td>\n",
       "      <td>-0.038872</td>\n",
       "      <td>-0.026701</td>\n",
       "      <td>0.593852</td>\n",
       "      <td>0.698670</td>\n",
       "      <td>-0.094866</td>\n",
       "      <td>-0.057609</td>\n",
       "      <td>...</td>\n",
       "      <td>0.121650</td>\n",
       "      <td>0.220371</td>\n",
       "      <td>0.219406</td>\n",
       "      <td>0.224619</td>\n",
       "      <td>0.213029</td>\n",
       "      <td>0.266274</td>\n",
       "      <td>-0.253193</td>\n",
       "      <td>-0.235433</td>\n",
       "      <td>1.000000</td>\n",
       "      <td>-0.191841</td>\n",
       "    </tr>\n",
       "    <tr>\n",
       "      <th>wlight_eve_shop</th>\n",
       "      <td>-0.254073</td>\n",
       "      <td>-0.487542</td>\n",
       "      <td>-0.347248</td>\n",
       "      <td>-0.458924</td>\n",
       "      <td>-0.002565</td>\n",
       "      <td>0.029991</td>\n",
       "      <td>-0.518945</td>\n",
       "      <td>-0.454541</td>\n",
       "      <td>0.198107</td>\n",
       "      <td>0.034336</td>\n",
       "      <td>...</td>\n",
       "      <td>-0.301278</td>\n",
       "      <td>-0.421688</td>\n",
       "      <td>-0.431283</td>\n",
       "      <td>-0.417531</td>\n",
       "      <td>-0.418215</td>\n",
       "      <td>-0.468386</td>\n",
       "      <td>0.757687</td>\n",
       "      <td>-0.667228</td>\n",
       "      <td>-0.191841</td>\n",
       "      <td>1.000000</td>\n",
       "    </tr>\n",
       "  </tbody>\n",
       "</table>\n",
       "<p>36 rows × 36 columns</p>\n",
       "</div>"
      ],
      "text/plain": [
       "                    custid    gender      총구매액      구매건수    평균구매가격   평균할부개월수  \\\n",
       "custid            1.000000  0.262472  0.217251  0.218914  0.117939  0.093048   \n",
       "gender            0.262472  1.000000  0.099137  0.094022  0.072181 -0.020066   \n",
       "총구매액              0.217251  0.099137  1.000000  0.712183  0.376395  0.137335   \n",
       "구매건수              0.218914  0.094022  0.712183  1.000000 -0.057376 -0.037878   \n",
       "평균구매가격            0.117939  0.072181  0.376395 -0.057376  1.000000  0.407556   \n",
       "평균할부개월수           0.093048 -0.020066  0.137335 -0.037878  0.407556  1.000000   \n",
       "구매브랜드종류           0.154303  0.083988  0.714774  0.869075  0.002931 -0.002074   \n",
       "내점일수              0.212969  0.084255  0.617210  0.942115 -0.091136 -0.076343   \n",
       "수입상품_구매비율        -0.017958 -0.021294 -0.048053 -0.210022  0.189608  0.097727   \n",
       "주말방문비율           -0.162393  0.020457 -0.048515 -0.096558  0.036426 -0.001625   \n",
       "가을_구매건수           0.187350  0.088600  0.657523  0.896969 -0.036019 -0.018789   \n",
       "겨울_구매건수           0.164901  0.065261  0.620446  0.879652 -0.052918 -0.039526   \n",
       "봄_구매건수            0.184422  0.076116  0.635757  0.895580 -0.048857 -0.033855   \n",
       "여름_구매건수           0.236324  0.101900  0.619743  0.883784 -0.064851 -0.041831   \n",
       "아침_구매건수           0.199936  0.127779  0.456158  0.672721 -0.040362 -0.047450   \n",
       "저녁_구매건수          -0.001832 -0.021618  0.398494  0.643764 -0.092749 -0.051170   \n",
       "점심_구매건수           0.247271  0.097237  0.709572  0.945027 -0.028726 -0.014389   \n",
       "주구매코너            -0.131943 -0.039270 -0.141735 -0.143826 -0.044333 -0.021258   \n",
       "light_shop       -0.229873 -0.109895 -0.523727 -0.539797 -0.459811 -0.190483   \n",
       "mor_shop          0.198834  0.095631  0.260210  0.342201 -0.017680 -0.004423   \n",
       "lun_shop          0.058439  0.005464  0.103023  0.134208 -0.029134 -0.060253   \n",
       "eve_shop         -0.077546 -0.021835  0.176905  0.247657 -0.044826 -0.017231   \n",
       "allday_shop       0.114949  0.050567  0.307647  0.414418 -0.036275 -0.018926   \n",
       "spr_shop          0.055718  0.034801  0.193747  0.260605 -0.013471 -0.029159   \n",
       "summ_shop         0.176178  0.052706  0.224656  0.306724 -0.055687 -0.040122   \n",
       "aut_shop          0.127197  0.051598  0.233860  0.313277 -0.031124 -0.019722   \n",
       "win_shop          0.070861  0.032707  0.221515  0.295140 -0.023776 -0.028724   \n",
       "win_allday_shop   0.118894  0.056399  0.332984  0.449973 -0.044894 -0.032676   \n",
       "aut_allday_shop   0.141161  0.061731  0.335986  0.453383 -0.038309 -0.027171   \n",
       "summ_allday_shop  0.160565  0.061750  0.334941  0.453505 -0.043445 -0.031504   \n",
       "spr_allday_shop   0.118664  0.054819  0.326461  0.442005 -0.036902 -0.025934   \n",
       "crazy_shop        0.164613  0.068299  0.381316  0.521629 -0.053074 -0.046588   \n",
       "light_pur        -0.184735 -0.059852 -0.451553 -0.604874  0.046474  0.018414   \n",
       "middle_pur        0.114192  0.029050  0.195910  0.238551 -0.027649 -0.005421   \n",
       "heavy_pur         0.145770  0.063453  0.526199  0.753619 -0.038872 -0.026701   \n",
       "wlight_eve_shop  -0.254073 -0.487542 -0.347248 -0.458924 -0.002565  0.029991   \n",
       "\n",
       "                   구매브랜드종류      내점일수  수입상품_구매비율    주말방문비율  ...  win_shop  \\\n",
       "custid            0.154303  0.212969  -0.017958 -0.162393  ...  0.070861   \n",
       "gender            0.083988  0.084255  -0.021294  0.020457  ...  0.032707   \n",
       "총구매액              0.714774  0.617210  -0.048053 -0.048515  ...  0.221515   \n",
       "구매건수              0.869075  0.942115  -0.210022 -0.096558  ...  0.295140   \n",
       "평균구매가격            0.002931 -0.091136   0.189608  0.036426  ... -0.023776   \n",
       "평균할부개월수          -0.002074 -0.076343   0.097727 -0.001625  ... -0.028724   \n",
       "구매브랜드종류           1.000000  0.780303  -0.234547 -0.080674  ...  0.350264   \n",
       "내점일수              0.780303  1.000000  -0.225363 -0.114795  ...  0.316733   \n",
       "수입상품_구매비율        -0.234547 -0.225363   1.000000  0.016123  ... -0.210195   \n",
       "주말방문비율           -0.080674 -0.114795   0.016123  1.000000  ... -0.004465   \n",
       "가을_구매건수           0.777740  0.843133  -0.183411 -0.084014  ...  0.248393   \n",
       "겨울_구매건수           0.774681  0.836375  -0.185994 -0.071125  ...  0.362764   \n",
       "봄_구매건수            0.784562  0.843763  -0.193382 -0.093424  ...  0.238179   \n",
       "여름_구매건수           0.755035  0.827751  -0.184013 -0.092989  ...  0.211456   \n",
       "아침_구매건수           0.582657  0.638138  -0.133133 -0.113193  ...  0.190933   \n",
       "저녁_구매건수           0.578552  0.634809  -0.170649 -0.006852  ...  0.207765   \n",
       "점심_구매건수           0.813712  0.875888  -0.186310 -0.094814  ...  0.274349   \n",
       "주구매코너            -0.166345 -0.136688   0.277087  0.064942  ... -0.093652   \n",
       "light_shop       -0.549465 -0.504062   0.033886  0.051847  ... -0.178292   \n",
       "mor_shop          0.384011  0.353078  -0.201862 -0.132096  ...  0.261545   \n",
       "lun_shop          0.175453  0.140245  -0.196190 -0.001030  ...  0.208082   \n",
       "eve_shop          0.298062  0.256492  -0.202130  0.046918  ...  0.255401   \n",
       "allday_shop       0.468398  0.425768  -0.234440 -0.060850  ...  0.314567   \n",
       "spr_shop          0.310634  0.276758  -0.198775 -0.084593  ...  0.156357   \n",
       "summ_shop         0.357993  0.320560  -0.212931 -0.052734  ...  0.168883   \n",
       "aut_shop          0.374542  0.329413  -0.240703 -0.041067  ...  0.276224   \n",
       "win_shop          0.350264  0.316733  -0.210195 -0.004465  ...  1.000000   \n",
       "win_allday_shop   0.504113  0.465223  -0.230160 -0.047129  ...  0.506598   \n",
       "aut_allday_shop   0.507402  0.465957  -0.227913 -0.060498  ...  0.318004   \n",
       "summ_allday_shop  0.504499  0.464488  -0.222041 -0.063057  ...  0.297183   \n",
       "spr_allday_shop   0.494962  0.455376  -0.229667 -0.064288  ...  0.309169   \n",
       "crazy_shop        0.569115  0.537197  -0.218220 -0.056886  ...  0.420375   \n",
       "light_pur        -0.685446 -0.600706   0.246490  0.089937  ... -0.382432   \n",
       "middle_pur        0.397749  0.261277  -0.201166 -0.062137  ...  0.324616   \n",
       "heavy_pur         0.593852  0.698670  -0.094866 -0.057609  ...  0.121650   \n",
       "wlight_eve_shop  -0.518945 -0.454541   0.198107  0.034336  ... -0.301278   \n",
       "\n",
       "                  win_allday_shop  aut_allday_shop  summ_allday_shop  \\\n",
       "custid                   0.118894         0.141161          0.160565   \n",
       "gender                   0.056399         0.061731          0.061750   \n",
       "총구매액                     0.332984         0.335986          0.334941   \n",
       "구매건수                     0.449973         0.453383          0.453505   \n",
       "평균구매가격                  -0.044894        -0.038309         -0.043445   \n",
       "평균할부개월수                 -0.032676        -0.027171         -0.031504   \n",
       "구매브랜드종류                  0.504113         0.507402          0.504499   \n",
       "내점일수                     0.465223         0.465957          0.464488   \n",
       "수입상품_구매비율               -0.230160        -0.227913         -0.222041   \n",
       "주말방문비율                  -0.047129        -0.060498         -0.063057   \n",
       "가을_구매건수                  0.395082         0.434589          0.403109   \n",
       "겨울_구매건수                  0.438984         0.394224          0.375592   \n",
       "봄_구매건수                   0.394135         0.391320          0.383905   \n",
       "여름_구매건수                  0.376563         0.393472          0.445145   \n",
       "아침_구매건수                  0.310074         0.314960          0.315750   \n",
       "저녁_구매건수                  0.324261         0.321440          0.318470   \n",
       "점심_구매건수                  0.406714         0.411033          0.412192   \n",
       "주구매코너                   -0.117452        -0.116645         -0.127685   \n",
       "light_shop              -0.278962        -0.276141         -0.284127   \n",
       "mor_shop                 0.689759         0.687819          0.673326   \n",
       "lun_shop                 0.187244         0.186717          0.182783   \n",
       "eve_shop                 0.530539         0.529046          0.517899   \n",
       "allday_shop              0.911438         0.908874          0.889724   \n",
       "spr_shop                 0.268999         0.267817          0.256624   \n",
       "summ_shop                0.301396         0.343680          0.536092   \n",
       "aut_shop                 0.332399         0.521573          0.355042   \n",
       "win_shop                 0.506598         0.318004          0.297183   \n",
       "win_allday_shop          1.000000         0.853096          0.824251   \n",
       "aut_allday_shop          0.853096         1.000000          0.856774   \n",
       "summ_allday_shop         0.824251         0.856774          1.000000   \n",
       "spr_allday_shop          0.862704         0.859982          0.838016   \n",
       "crazy_shop               0.829800         0.832141          0.850051   \n",
       "light_pur               -0.548585        -0.560179         -0.544332   \n",
       "middle_pur               0.443185         0.455305          0.436832   \n",
       "heavy_pur                0.220371         0.219406          0.224619   \n",
       "wlight_eve_shop         -0.421688        -0.431283         -0.417531   \n",
       "\n",
       "                  spr_allday_shop  crazy_shop  light_pur  middle_pur  \\\n",
       "custid                   0.118664    0.164613  -0.184735    0.114192   \n",
       "gender                   0.054819    0.068299  -0.059852    0.029050   \n",
       "총구매액                     0.326461    0.381316  -0.451553    0.195910   \n",
       "구매건수                     0.442005    0.521629  -0.604874    0.238551   \n",
       "평균구매가격                  -0.036902   -0.053074   0.046474   -0.027649   \n",
       "평균할부개월수                 -0.025934   -0.046588   0.018414   -0.005421   \n",
       "구매브랜드종류                  0.494962    0.569115  -0.685446    0.397749   \n",
       "내점일수                     0.455376    0.537197  -0.600706    0.261277   \n",
       "수입상품_구매비율               -0.229667   -0.218220   0.246490   -0.201166   \n",
       "주말방문비율                  -0.064288   -0.056886   0.089937   -0.062137   \n",
       "가을_구매건수                  0.381109    0.469375  -0.534947    0.210644   \n",
       "겨울_구매건수                  0.391805    0.458057  -0.540134    0.214442   \n",
       "봄_구매건수                   0.420118    0.459360  -0.546435    0.212044   \n",
       "여름_구매건수                  0.378956    0.467711  -0.530024    0.211367   \n",
       "아침_구매건수                  0.307048    0.353516  -0.405795    0.149506   \n",
       "저녁_구매건수                  0.320240    0.357428  -0.412865    0.177880   \n",
       "점심_구매건수                  0.397679    0.482241  -0.561708    0.219430   \n",
       "주구매코너                   -0.115001   -0.119251   0.142117   -0.103198   \n",
       "light_shop              -0.275072   -0.340793   0.399497   -0.238639   \n",
       "mor_shop                 0.706374    0.572362  -0.428054    0.352457   \n",
       "lun_shop                 0.191754    0.155375  -0.172815    0.151592   \n",
       "eve_shop                 0.543318    0.440241  -0.317768    0.264981   \n",
       "allday_shop              0.933392    0.756311  -0.514324    0.419296   \n",
       "spr_shop                 0.443584    0.359428  -0.351600    0.303447   \n",
       "summ_shop                0.301117    0.455705  -0.393834    0.333058   \n",
       "aut_shop                 0.323009    0.434022  -0.418385    0.360856   \n",
       "win_shop                 0.309169    0.420375  -0.382432    0.324616   \n",
       "win_allday_shop          0.862704    0.829800  -0.548585    0.443185   \n",
       "aut_allday_shop          0.859982    0.832141  -0.560179    0.455305   \n",
       "summ_allday_shop         0.838016    0.850051  -0.544332    0.436832   \n",
       "spr_allday_shop          1.000000    0.810282  -0.547127    0.445317   \n",
       "crazy_shop               0.810282    1.000000  -0.610145    0.482547   \n",
       "light_pur               -0.547127   -0.610145   1.000000   -0.880612   \n",
       "middle_pur               0.445317    0.482547  -0.880612    1.000000   \n",
       "heavy_pur                0.213029    0.266274  -0.253193   -0.235433   \n",
       "wlight_eve_shop         -0.418215   -0.468386   0.757687   -0.667228   \n",
       "\n",
       "                  heavy_pur  wlight_eve_shop  \n",
       "custid             0.145770        -0.254073  \n",
       "gender             0.063453        -0.487542  \n",
       "총구매액               0.526199        -0.347248  \n",
       "구매건수               0.753619        -0.458924  \n",
       "평균구매가격            -0.038872        -0.002565  \n",
       "평균할부개월수           -0.026701         0.029991  \n",
       "구매브랜드종류            0.593852        -0.518945  \n",
       "내점일수               0.698670        -0.454541  \n",
       "수입상품_구매비율         -0.094866         0.198107  \n",
       "주말방문비율            -0.057609         0.034336  \n",
       "가을_구매건수            0.667169        -0.407849  \n",
       "겨울_구매건수            0.670054        -0.407362  \n",
       "봄_구매건수             0.687872        -0.413642  \n",
       "여름_구매건수            0.655595        -0.403350  \n",
       "아침_구매건수            0.527088        -0.315791  \n",
       "저녁_구매건수            0.483658        -0.302572  \n",
       "점심_구매건수            0.704120        -0.427469  \n",
       "주구매코너             -0.080801         0.111220  \n",
       "light_shop        -0.332191         0.319602  \n",
       "mor_shop           0.158386        -0.360584  \n",
       "lun_shop           0.044963        -0.124588  \n",
       "eve_shop           0.110775        -0.214593  \n",
       "allday_shop        0.198872        -0.391192  \n",
       "spr_shop           0.101632        -0.278583  \n",
       "summ_shop          0.127804        -0.316738  \n",
       "aut_shop           0.121407        -0.338139  \n",
       "win_shop           0.121650        -0.301278  \n",
       "win_allday_shop    0.220371        -0.421688  \n",
       "aut_allday_shop    0.219406        -0.431283  \n",
       "summ_allday_shop   0.224619        -0.417531  \n",
       "spr_allday_shop    0.213029        -0.418215  \n",
       "crazy_shop         0.266274        -0.468386  \n",
       "light_pur         -0.253193         0.757687  \n",
       "middle_pur        -0.235433        -0.667228  \n",
       "heavy_pur          1.000000        -0.191841  \n",
       "wlight_eve_shop   -0.191841         1.000000  \n",
       "\n",
       "[36 rows x 36 columns]"
      ]
     },
     "execution_count": 73,
     "metadata": {},
     "output_type": "execute_result"
    }
   ],
   "source": [
    "mdf.corr()"
   ]
  },
  {
   "cell_type": "code",
   "execution_count": null,
   "metadata": {},
   "outputs": [],
   "source": []
  },
  {
   "cell_type": "code",
   "execution_count": null,
   "metadata": {},
   "outputs": [],
   "source": []
  },
  {
   "cell_type": "code",
   "execution_count": null,
   "metadata": {},
   "outputs": [],
   "source": []
  },
  {
   "cell_type": "code",
   "execution_count": null,
   "metadata": {},
   "outputs": [],
   "source": []
  },
  {
   "cell_type": "code",
   "execution_count": null,
   "metadata": {},
   "outputs": [],
   "source": []
  },
  {
   "cell_type": "code",
   "execution_count": null,
   "metadata": {},
   "outputs": [],
   "source": []
  },
  {
   "cell_type": "code",
   "execution_count": null,
   "metadata": {},
   "outputs": [],
   "source": []
  },
  {
   "cell_type": "code",
   "execution_count": null,
   "metadata": {},
   "outputs": [],
   "source": []
  },
  {
   "cell_type": "code",
   "execution_count": null,
   "metadata": {},
   "outputs": [],
   "source": []
  },
  {
   "cell_type": "code",
   "execution_count": null,
   "metadata": {},
   "outputs": [],
   "source": []
  },
  {
   "cell_type": "code",
   "execution_count": null,
   "metadata": {},
   "outputs": [],
   "source": []
  },
  {
   "cell_type": "markdown",
   "metadata": {},
   "source": [
    "### 파생변수 생성"
   ]
  },
  {
   "cell_type": "code",
   "execution_count": 9,
   "metadata": {},
   "outputs": [],
   "source": [
    "# 상관계수 0.07\n",
    "import_prdt_count = df['구매건수'] * df['수입상품_구매비율'] / 100  # 구매 건수 중 수입상품 구매 건수\n",
    "\n",
    "prod_index = df.columns.get_loc('수입상품_구매비율')\n",
    "df.insert(loc=prod_index, column='수입상품_구매건수', value=import_prdt_count)"
   ]
  },
  {
   "cell_type": "code",
   "execution_count": 10,
   "metadata": {},
   "outputs": [],
   "source": [
    "# 상관계수 0.06\n",
    "import_product_cost = df['총구매액'] * df['수입상품_구매비율'] / 100  # 총 구매액 중 수입상품 구매 가격\n",
    "cost_index = df.columns.get_loc('수입상품_구매건수')\n",
    "df.insert(loc=cost_index, column='수입상품_구매가격', value=import_product_cost)"
   ]
  },
  {
   "cell_type": "code",
   "execution_count": 11,
   "metadata": {},
   "outputs": [],
   "source": [
    "# 상관계수 -0.02\n",
    "ratio_wdvisit = 100 - df['주말방문비율']  # 평일 방문 비율\n",
    "wdvisit_index = df.columns.get_loc('주말방문비율')\n",
    "df.insert(loc=wdvisit_index, column='평일방문비율', value=ratio_wdvisit)"
   ]
  },
  {
   "cell_type": "code",
   "execution_count": 12,
   "metadata": {},
   "outputs": [],
   "source": [
    "# 상관계수 0.04\n",
    "m_1d_pur = df['구매건수'] / df['내점일수']  # 하루 평균 구매 건수\n",
    "m_1d_index = df.columns.get_loc('구매건수')+1\n",
    "df.insert(loc=m_1d_index, column='하루평균_구매건수', value=m_1d_pur)"
   ]
  },
  {
   "cell_type": "code",
   "execution_count": 13,
   "metadata": {},
   "outputs": [],
   "source": [
    "# 상관계수 0.06\n",
    "m_bnd_pur_count = df['구매건수'] / df['구매브랜드종류']  # 브랜드별 평균 구매건수\n",
    "m_bnd_index = df.columns.get_loc('구매브랜드종류')+1\n",
    "df.insert(loc=m_bnd_index, column='브랜드별_평균구매건수', value=m_bnd_pur_count)"
   ]
  },
  {
   "cell_type": "code",
   "execution_count": 18,
   "metadata": {},
   "outputs": [],
   "source": [
    "# 상관계수 0.09\n",
    "mul_cost = df['평균구매가격'] * df['점심_구매건수']  # 이지은's idea\n",
    "lun_pur_cost = np.where(df['점심_구매건수']==0,0,mul_cost)\n",
    "lun_purc_inx = df.columns.get_loc('점심_구매건수')\n",
    "df.insert(loc=lun_purc_inx, column='점심_구매가격', value=lun_pur_cost)"
   ]
  },
  {
   "cell_type": "code",
   "execution_count": 19,
   "metadata": {},
   "outputs": [],
   "source": [
    "# 상관계수 0.01\n",
    "mul_cost = df['평균구매가격'] * df['저녁_구매건수']\n",
    "lun_pur_cost = np.where(df['저녁_구매건수']==0,0,mul_cost)\n",
    "lun_purc_inx = df.columns.get_loc('저녁_구매건수')\n",
    "df.insert(loc=lun_purc_inx, column='저녁_구매가격', value=lun_pur_cost)"
   ]
  },
  {
   "cell_type": "code",
   "execution_count": 20,
   "metadata": {},
   "outputs": [],
   "source": [
    "# 상관계수 0.12\n",
    "mul_cost = df['평균구매가격'] * df['아침_구매건수']\n",
    "lun_pur_cost = np.where(df['아침_구매건수']==0,0,mul_cost)\n",
    "lun_purc_inx = df.columns.get_loc('아침_구매건수')\n",
    "df.insert(loc=lun_purc_inx, column='아침_구매가격', value=lun_pur_cost)"
   ]
  },
  {
   "cell_type": "code",
   "execution_count": 21,
   "metadata": {},
   "outputs": [],
   "source": [
    "# 상관계수 0.12\n",
    "ratio_mpur = df['아침_구매건수'] / df['구매건수']\n",
    "ratio_mpur = np.where(df['아침_구매건수']==0,0,ratio_mpur)\n",
    "ratio_mpur_inx = df.columns.get_loc('아침_구매건수')+1\n",
    "df.insert(loc=ratio_mpur_inx, column='아침_구매비율', value=ratio_mpur)"
   ]
  },
  {
   "cell_type": "code",
   "execution_count": 22,
   "metadata": {},
   "outputs": [],
   "source": [
    "# 상관계수 -0.12\n",
    "ratio_epur = df['저녁_구매건수'] / df['구매건수']\n",
    "ratio_epur = np.where(df['저녁_구매건수']==0,0,ratio_epur)\n",
    "ratio_epur_inx = df.columns.get_loc('저녁_구매건수')+1\n",
    "df.insert(loc=ratio_epur_inx, column='저녁_구매비율', value=ratio_epur)"
   ]
  },
  {
   "cell_type": "code",
   "execution_count": 23,
   "metadata": {},
   "outputs": [],
   "source": [
    "# 상관계수 0.02\n",
    "ratio_lpur = df['점심_구매건수'] / df['구매건수']\n",
    "ratio_lpur = np.where(df['점심_구매건수']==0,0,ratio_lpur)\n",
    "ratio_lpur_inx = df.columns.get_loc('점심_구매건수')+1\n",
    "df.insert(loc=ratio_lpur_inx, column='점심_구매비율', value=ratio_lpur)"
   ]
  },
  {
   "cell_type": "code",
   "execution_count": 17,
   "metadata": {},
   "outputs": [
    {
     "data": {
      "text/plain": [
       "gender       1.000000\n",
       "custid       0.262472\n",
       "아침_구매건수      0.127779\n",
       "여름_구매건수      0.101900\n",
       "총구매액         0.099137\n",
       "점심_구매건수      0.097237\n",
       "구매건수         0.094022\n",
       "가을_구매건수      0.088600\n",
       "내점일수         0.084255\n",
       "구매브랜드종류      0.083988\n",
       "봄_구매건수       0.076116\n",
       "평균구매가격       0.072181\n",
       "수입상품_구매건수    0.070279\n",
       "수입상품_구매가격    0.065523\n",
       "겨울_구매건수      0.065261\n",
       "주말방문비율       0.020457\n",
       "평균할부개월수     -0.020066\n",
       "평일방문비율      -0.020457\n",
       "수입상품_구매비율   -0.021294\n",
       "저녁_구매건수     -0.021618\n",
       "주구매코너       -0.039270\n",
       "Name: gender, dtype: float64"
      ]
     },
     "execution_count": 17,
     "metadata": {},
     "output_type": "execute_result"
    }
   ],
   "source": [
    "corr = df.corr()\n",
    "corr.gender.sort_values(ascending=False)"
   ]
  },
  {
   "cell_type": "code",
   "execution_count": 109,
   "metadata": {},
   "outputs": [
    {
     "data": {
      "text/html": [
       "<div>\n",
       "<style scoped>\n",
       "    .dataframe tbody tr th:only-of-type {\n",
       "        vertical-align: middle;\n",
       "    }\n",
       "\n",
       "    .dataframe tbody tr th {\n",
       "        vertical-align: top;\n",
       "    }\n",
       "\n",
       "    .dataframe thead th {\n",
       "        text-align: right;\n",
       "    }\n",
       "</style>\n",
       "<table border=\"1\" class=\"dataframe\">\n",
       "  <thead>\n",
       "    <tr style=\"text-align: right;\">\n",
       "      <th></th>\n",
       "      <th>0</th>\n",
       "    </tr>\n",
       "  </thead>\n",
       "  <tbody>\n",
       "    <tr>\n",
       "      <th>custid</th>\n",
       "      <td>18</td>\n",
       "    </tr>\n",
       "    <tr>\n",
       "      <th>gender</th>\n",
       "      <td>0</td>\n",
       "    </tr>\n",
       "    <tr>\n",
       "      <th>총구매액</th>\n",
       "      <td>680100</td>\n",
       "    </tr>\n",
       "    <tr>\n",
       "      <th>구매건수</th>\n",
       "      <td>15</td>\n",
       "    </tr>\n",
       "    <tr>\n",
       "      <th>평균구매가격</th>\n",
       "      <td>45340</td>\n",
       "    </tr>\n",
       "    <tr>\n",
       "      <th>평균할부개월수</th>\n",
       "      <td>1.7</td>\n",
       "    </tr>\n",
       "    <tr>\n",
       "      <th>구매브랜드종류</th>\n",
       "      <td>9</td>\n",
       "    </tr>\n",
       "    <tr>\n",
       "      <th>내점일수</th>\n",
       "      <td>10</td>\n",
       "    </tr>\n",
       "    <tr>\n",
       "      <th>수입상품_구매비율</th>\n",
       "      <td>26.7</td>\n",
       "    </tr>\n",
       "    <tr>\n",
       "      <th>주말방문비율</th>\n",
       "      <td>100</td>\n",
       "    </tr>\n",
       "    <tr>\n",
       "      <th>가을_구매건수</th>\n",
       "      <td>NaN</td>\n",
       "    </tr>\n",
       "    <tr>\n",
       "      <th>겨울_구매건수</th>\n",
       "      <td>9</td>\n",
       "    </tr>\n",
       "    <tr>\n",
       "      <th>봄_구매건수</th>\n",
       "      <td>6</td>\n",
       "    </tr>\n",
       "    <tr>\n",
       "      <th>여름_구매건수</th>\n",
       "      <td>NaN</td>\n",
       "    </tr>\n",
       "    <tr>\n",
       "      <th>아침_구매건수</th>\n",
       "      <td>NaN</td>\n",
       "    </tr>\n",
       "    <tr>\n",
       "      <th>저녁_구매건수</th>\n",
       "      <td>6</td>\n",
       "    </tr>\n",
       "    <tr>\n",
       "      <th>점심_구매건수</th>\n",
       "      <td>9</td>\n",
       "    </tr>\n",
       "    <tr>\n",
       "      <th>주구매코너</th>\n",
       "      <td>화장품</td>\n",
       "    </tr>\n",
       "    <tr>\n",
       "      <th>mor_shop</th>\n",
       "      <td>False</td>\n",
       "    </tr>\n",
       "    <tr>\n",
       "      <th>lun_shop</th>\n",
       "      <td>True</td>\n",
       "    </tr>\n",
       "    <tr>\n",
       "      <th>eve_shop</th>\n",
       "      <td>True</td>\n",
       "    </tr>\n",
       "    <tr>\n",
       "      <th>allday_shop</th>\n",
       "      <td>False</td>\n",
       "    </tr>\n",
       "    <tr>\n",
       "      <th>spr_shop</th>\n",
       "      <td>True</td>\n",
       "    </tr>\n",
       "    <tr>\n",
       "      <th>summ_shop</th>\n",
       "      <td>False</td>\n",
       "    </tr>\n",
       "    <tr>\n",
       "      <th>aut_shop</th>\n",
       "      <td>False</td>\n",
       "    </tr>\n",
       "    <tr>\n",
       "      <th>win_shop</th>\n",
       "      <td>True</td>\n",
       "    </tr>\n",
       "    <tr>\n",
       "      <th>win_allday_shop</th>\n",
       "      <td>False</td>\n",
       "    </tr>\n",
       "  </tbody>\n",
       "</table>\n",
       "</div>"
      ],
      "text/plain": [
       "                      0\n",
       "custid               18\n",
       "gender                0\n",
       "총구매액             680100\n",
       "구매건수                 15\n",
       "평균구매가격            45340\n",
       "평균할부개월수             1.7\n",
       "구매브랜드종류               9\n",
       "내점일수                 10\n",
       "수입상품_구매비율          26.7\n",
       "주말방문비율              100\n",
       "가을_구매건수             NaN\n",
       "겨울_구매건수               9\n",
       "봄_구매건수                6\n",
       "여름_구매건수             NaN\n",
       "아침_구매건수             NaN\n",
       "저녁_구매건수               6\n",
       "점심_구매건수               9\n",
       "주구매코너               화장품\n",
       "mor_shop          False\n",
       "lun_shop           True\n",
       "eve_shop           True\n",
       "allday_shop       False\n",
       "spr_shop           True\n",
       "summ_shop         False\n",
       "aut_shop          False\n",
       "win_shop           True\n",
       "win_allday_shop   False"
      ]
     },
     "execution_count": 109,
     "metadata": {},
     "output_type": "execute_result"
    }
   ],
   "source": [
    "df_copy = mdf.copy()\n",
    "df_copy.head(1).T"
   ]
  },
  {
   "cell_type": "code",
   "execution_count": 377,
   "metadata": {},
   "outputs": [],
   "source": [
    "# 상관계수 0.09\n",
    "mul_cost = df_copy['평균구매가격'] * df_copy['점심_구매건수']  # 이지은's idea\n",
    "lun_pur_cost = np.where(df['점심_구매건수']==0,0,mul_cost)\n",
    "lun_purc_inx = df_copy.columns.get_loc('점심_구매건수')\n",
    "df_copy.insert(loc=lun_purc_inx, column='점심_구매가격', value=lun_pur_cost)"
   ]
  },
  {
   "cell_type": "code",
   "execution_count": 378,
   "metadata": {},
   "outputs": [],
   "source": [
    "# 상관계수 0.01\n",
    "mul_cost = df_copy['평균구매가격'] * df_copy['저녁_구매건수']\n",
    "lun_pur_cost = np.where(df['저녁_구매건수']==0,0,mul_cost)\n",
    "lun_purc_inx = df_copy.columns.get_loc('저녁_구매건수')\n",
    "df_copy.insert(loc=lun_purc_inx, column='저녁_구매가격', value=lun_pur_cost)"
   ]
  },
  {
   "cell_type": "code",
   "execution_count": 379,
   "metadata": {},
   "outputs": [],
   "source": [
    "# 상관계수 0.12\n",
    "mul_cost = df_copy['평균구매가격'] * df_copy['아침_구매건수']\n",
    "lun_pur_cost = np.where(df['아침_구매건수']==0,0,mul_cost)\n",
    "lun_purc_inx = df_copy.columns.get_loc('아침_구매건수')\n",
    "df_copy.insert(loc=lun_purc_inx, column='아침_구매가격', value=lun_pur_cost)"
   ]
  },
  {
   "cell_type": "code",
   "execution_count": 380,
   "metadata": {},
   "outputs": [],
   "source": [
    "# 상관계수 0.12\n",
    "ratio_mpur = df_copy['아침_구매건수'] / df_copy['구매건수']\n",
    "ratio_mpur = np.where(df['아침_구매건수']==0,0,ratio_mpur)\n",
    "ratio_mpur_inx = df_copy.columns.get_loc('아침_구매건수')+1\n",
    "df_copy.insert(loc=ratio_mpur_inx, column='아침_구매비율', value=ratio_mpur)"
   ]
  },
  {
   "cell_type": "code",
   "execution_count": 381,
   "metadata": {},
   "outputs": [],
   "source": [
    "# 상관계수 -0.12\n",
    "ratio_epur = df_copy['저녁_구매건수'] / df_copy['구매건수']\n",
    "ratio_epur = np.where(df['저녁_구매건수']==0,0,ratio_epur)\n",
    "ratio_epur_inx = df_copy.columns.get_loc('저녁_구매건수')+1\n",
    "df_copy.insert(loc=ratio_epur_inx, column='저녁_구매비율', value=ratio_epur)"
   ]
  },
  {
   "cell_type": "code",
   "execution_count": 382,
   "metadata": {},
   "outputs": [],
   "source": [
    "# 상관계수 0.02\n",
    "ratio_lpur = df_copy['점심_구매건수'] / df_copy['구매건수']\n",
    "ratio_lpur = np.where(df['점심_구매건수']==0,0,ratio_lpur)\n",
    "ratio_lpur_inx = df_copy.columns.get_loc('점심_구매건수')+1\n",
    "df_copy.insert(loc=ratio_lpur_inx, column='점심_구매비율', value=ratio_lpur)"
   ]
  },
  {
   "cell_type": "code",
   "execution_count": 111,
   "metadata": {},
   "outputs": [
    {
     "data": {
      "text/plain": [
       "gender             1.000000\n",
       "custid             0.262472\n",
       "아침_구매건수            0.117025\n",
       "총구매액               0.099137\n",
       "점심_구매건수            0.098814\n",
       "여름_구매건수            0.098237\n",
       "mor_shop           0.095631\n",
       "구매건수               0.094022\n",
       "내점일수               0.084255\n",
       "구매브랜드종류            0.083988\n",
       "가을_구매건수            0.082396\n",
       "봄_구매건수             0.073478\n",
       "평균구매가격             0.072181\n",
       "겨울_구매건수            0.062853\n",
       "win_allday_shop    0.056399\n",
       "summ_shop          0.052706\n",
       "aut_shop           0.051598\n",
       "allday_shop        0.050567\n",
       "spr_shop           0.034801\n",
       "win_shop           0.032707\n",
       "주말방문비율             0.020457\n",
       "lun_shop           0.005464\n",
       "저녁_구매건수           -0.017439\n",
       "평균할부개월수           -0.020066\n",
       "수입상품_구매비율         -0.021294\n",
       "eve_shop          -0.021835\n",
       "Name: gender, dtype: float64"
      ]
     },
     "execution_count": 111,
     "metadata": {},
     "output_type": "execute_result"
    }
   ],
   "source": [
    "corr = mdf.corr()\n",
    "corr.gender.sort_values(ascending=False)"
   ]
  },
  {
   "cell_type": "code",
   "execution_count": 329,
   "metadata": {},
   "outputs": [
    {
     "data": {
      "text/html": [
       "<div>\n",
       "<style scoped>\n",
       "    .dataframe tbody tr th:only-of-type {\n",
       "        vertical-align: middle;\n",
       "    }\n",
       "\n",
       "    .dataframe tbody tr th {\n",
       "        vertical-align: top;\n",
       "    }\n",
       "\n",
       "    .dataframe thead th {\n",
       "        text-align: right;\n",
       "    }\n",
       "</style>\n",
       "<table border=\"1\" class=\"dataframe\">\n",
       "  <thead>\n",
       "    <tr style=\"text-align: right;\">\n",
       "      <th></th>\n",
       "      <th>custid</th>\n",
       "      <th>gender</th>\n",
       "      <th>총구매액</th>\n",
       "      <th>구매건수</th>\n",
       "      <th>하루평균_구매건수</th>\n",
       "      <th>평균구매가격</th>\n",
       "      <th>평균할부개월수</th>\n",
       "      <th>구매브랜드종류</th>\n",
       "      <th>브랜드별_평균구매건수</th>\n",
       "      <th>내점일수</th>\n",
       "      <th>...</th>\n",
       "      <th>평일방문비율</th>\n",
       "      <th>주말방문비율</th>\n",
       "      <th>가을_구매건수</th>\n",
       "      <th>겨울_구매건수</th>\n",
       "      <th>봄_구매건수</th>\n",
       "      <th>여름_구매건수</th>\n",
       "      <th>아침_구매건수</th>\n",
       "      <th>저녁_구매건수</th>\n",
       "      <th>점심_구매건수</th>\n",
       "      <th>주구매코너</th>\n",
       "    </tr>\n",
       "  </thead>\n",
       "  <tbody>\n",
       "    <tr>\n",
       "      <th>0</th>\n",
       "      <td>18</td>\n",
       "      <td>0</td>\n",
       "      <td>680100</td>\n",
       "      <td>15</td>\n",
       "      <td>1.500</td>\n",
       "      <td>45340</td>\n",
       "      <td>1.7</td>\n",
       "      <td>9</td>\n",
       "      <td>1.666667</td>\n",
       "      <td>10</td>\n",
       "      <td>...</td>\n",
       "      <td>0.0</td>\n",
       "      <td>100.0</td>\n",
       "      <td>0.0</td>\n",
       "      <td>9.0</td>\n",
       "      <td>6.0</td>\n",
       "      <td>0.0</td>\n",
       "      <td>0.0</td>\n",
       "      <td>6.0</td>\n",
       "      <td>9.0</td>\n",
       "      <td>24</td>\n",
       "    </tr>\n",
       "    <tr>\n",
       "      <th>1</th>\n",
       "      <td>21</td>\n",
       "      <td>0</td>\n",
       "      <td>353450</td>\n",
       "      <td>9</td>\n",
       "      <td>1.125</td>\n",
       "      <td>39272</td>\n",
       "      <td>1.2</td>\n",
       "      <td>6</td>\n",
       "      <td>1.500000</td>\n",
       "      <td>8</td>\n",
       "      <td>...</td>\n",
       "      <td>62.5</td>\n",
       "      <td>37.5</td>\n",
       "      <td>0.0</td>\n",
       "      <td>5.0</td>\n",
       "      <td>4.0</td>\n",
       "      <td>0.0</td>\n",
       "      <td>3.0</td>\n",
       "      <td>0.0</td>\n",
       "      <td>6.0</td>\n",
       "      <td>11</td>\n",
       "    </tr>\n",
       "    <tr>\n",
       "      <th>2</th>\n",
       "      <td>23</td>\n",
       "      <td>0</td>\n",
       "      <td>5671400</td>\n",
       "      <td>36</td>\n",
       "      <td>2.250</td>\n",
       "      <td>157539</td>\n",
       "      <td>2.8</td>\n",
       "      <td>22</td>\n",
       "      <td>1.636364</td>\n",
       "      <td>16</td>\n",
       "      <td>...</td>\n",
       "      <td>62.5</td>\n",
       "      <td>37.5</td>\n",
       "      <td>7.0</td>\n",
       "      <td>17.0</td>\n",
       "      <td>12.0</td>\n",
       "      <td>0.0</td>\n",
       "      <td>10.0</td>\n",
       "      <td>11.0</td>\n",
       "      <td>15.0</td>\n",
       "      <td>15</td>\n",
       "    </tr>\n",
       "    <tr>\n",
       "      <th>3</th>\n",
       "      <td>26</td>\n",
       "      <td>0</td>\n",
       "      <td>1964000</td>\n",
       "      <td>28</td>\n",
       "      <td>2.000</td>\n",
       "      <td>70143</td>\n",
       "      <td>1.4</td>\n",
       "      <td>15</td>\n",
       "      <td>1.866667</td>\n",
       "      <td>14</td>\n",
       "      <td>...</td>\n",
       "      <td>71.4</td>\n",
       "      <td>28.6</td>\n",
       "      <td>5.0</td>\n",
       "      <td>8.0</td>\n",
       "      <td>15.0</td>\n",
       "      <td>0.0</td>\n",
       "      <td>0.0</td>\n",
       "      <td>18.0</td>\n",
       "      <td>10.0</td>\n",
       "      <td>24</td>\n",
       "    </tr>\n",
       "    <tr>\n",
       "      <th>4</th>\n",
       "      <td>35</td>\n",
       "      <td>0</td>\n",
       "      <td>885000</td>\n",
       "      <td>5</td>\n",
       "      <td>2.500</td>\n",
       "      <td>177000</td>\n",
       "      <td>6.0</td>\n",
       "      <td>5</td>\n",
       "      <td>1.000000</td>\n",
       "      <td>2</td>\n",
       "      <td>...</td>\n",
       "      <td>0.0</td>\n",
       "      <td>100.0</td>\n",
       "      <td>0.0</td>\n",
       "      <td>0.0</td>\n",
       "      <td>5.0</td>\n",
       "      <td>0.0</td>\n",
       "      <td>0.0</td>\n",
       "      <td>5.0</td>\n",
       "      <td>0.0</td>\n",
       "      <td>22</td>\n",
       "    </tr>\n",
       "  </tbody>\n",
       "</table>\n",
       "<p>5 rows × 23 columns</p>\n",
       "</div>"
      ],
      "text/plain": [
       "   custid  gender     총구매액  구매건수  하루평균_구매건수  평균구매가격  평균할부개월수  구매브랜드종류  \\\n",
       "0      18       0   680100    15      1.500   45340      1.7        9   \n",
       "1      21       0   353450     9      1.125   39272      1.2        6   \n",
       "2      23       0  5671400    36      2.250  157539      2.8       22   \n",
       "3      26       0  1964000    28      2.000   70143      1.4       15   \n",
       "4      35       0   885000     5      2.500  177000      6.0        5   \n",
       "\n",
       "   브랜드별_평균구매건수  내점일수  ...  평일방문비율  주말방문비율  가을_구매건수  겨울_구매건수  봄_구매건수  여름_구매건수  \\\n",
       "0     1.666667    10  ...     0.0   100.0      0.0      9.0     6.0      0.0   \n",
       "1     1.500000     8  ...    62.5    37.5      0.0      5.0     4.0      0.0   \n",
       "2     1.636364    16  ...    62.5    37.5      7.0     17.0    12.0      0.0   \n",
       "3     1.866667    14  ...    71.4    28.6      5.0      8.0    15.0      0.0   \n",
       "4     1.000000     2  ...     0.0   100.0      0.0      0.0     5.0      0.0   \n",
       "\n",
       "   아침_구매건수  저녁_구매건수  점심_구매건수  주구매코너  \n",
       "0      0.0      6.0      9.0     24  \n",
       "1      3.0      0.0      6.0     11  \n",
       "2     10.0     11.0     15.0     15  \n",
       "3      0.0     18.0     10.0     24  \n",
       "4      0.0      5.0      0.0     22  \n",
       "\n",
       "[5 rows x 23 columns]"
      ]
     },
     "execution_count": 329,
     "metadata": {},
     "output_type": "execute_result"
    }
   ],
   "source": [
    "df_copy.head()"
   ]
  },
  {
   "cell_type": "code",
   "execution_count": 25,
   "metadata": {},
   "outputs": [
    {
     "data": {
      "text/html": [
       "<div>\n",
       "<style scoped>\n",
       "    .dataframe tbody tr th:only-of-type {\n",
       "        vertical-align: middle;\n",
       "    }\n",
       "\n",
       "    .dataframe tbody tr th {\n",
       "        vertical-align: top;\n",
       "    }\n",
       "\n",
       "    .dataframe thead th {\n",
       "        text-align: right;\n",
       "    }\n",
       "</style>\n",
       "<table border=\"1\" class=\"dataframe\">\n",
       "  <thead>\n",
       "    <tr style=\"text-align: right;\">\n",
       "      <th></th>\n",
       "      <th>gender</th>\n",
       "      <th>구매건수</th>\n",
       "      <th>하루평균_구매건수</th>\n",
       "      <th>평균할부개월수</th>\n",
       "      <th>구매브랜드종류</th>\n",
       "      <th>브랜드별_평균구매건수</th>\n",
       "      <th>내점일수</th>\n",
       "      <th>수입상품_구매건수</th>\n",
       "      <th>수입상품_구매비율</th>\n",
       "      <th>평일방문비율</th>\n",
       "      <th>...</th>\n",
       "      <th>아침_구매가격</th>\n",
       "      <th>아침_구매건수</th>\n",
       "      <th>아침_구매비율</th>\n",
       "      <th>저녁_구매가격</th>\n",
       "      <th>저녁_구매건수</th>\n",
       "      <th>저녁_구매비율</th>\n",
       "      <th>점심_구매가격</th>\n",
       "      <th>점심_구매건수</th>\n",
       "      <th>점심_구매비율</th>\n",
       "      <th>주구매코너</th>\n",
       "    </tr>\n",
       "    <tr>\n",
       "      <th>custid</th>\n",
       "      <th></th>\n",
       "      <th></th>\n",
       "      <th></th>\n",
       "      <th></th>\n",
       "      <th></th>\n",
       "      <th></th>\n",
       "      <th></th>\n",
       "      <th></th>\n",
       "      <th></th>\n",
       "      <th></th>\n",
       "      <th></th>\n",
       "      <th></th>\n",
       "      <th></th>\n",
       "      <th></th>\n",
       "      <th></th>\n",
       "      <th></th>\n",
       "      <th></th>\n",
       "      <th></th>\n",
       "      <th></th>\n",
       "      <th></th>\n",
       "      <th></th>\n",
       "    </tr>\n",
       "  </thead>\n",
       "  <tbody>\n",
       "    <tr>\n",
       "      <th>18</th>\n",
       "      <td>0</td>\n",
       "      <td>15</td>\n",
       "      <td>1.500</td>\n",
       "      <td>1.7</td>\n",
       "      <td>9</td>\n",
       "      <td>1.666667</td>\n",
       "      <td>10</td>\n",
       "      <td>4.005</td>\n",
       "      <td>26.7</td>\n",
       "      <td>0.0</td>\n",
       "      <td>...</td>\n",
       "      <td>0.0</td>\n",
       "      <td>0.0</td>\n",
       "      <td>0.000000</td>\n",
       "      <td>272040.0</td>\n",
       "      <td>6.0</td>\n",
       "      <td>0.400000</td>\n",
       "      <td>408060.0</td>\n",
       "      <td>9.0</td>\n",
       "      <td>0.600000</td>\n",
       "      <td>24</td>\n",
       "    </tr>\n",
       "    <tr>\n",
       "      <th>21</th>\n",
       "      <td>0</td>\n",
       "      <td>9</td>\n",
       "      <td>1.125</td>\n",
       "      <td>1.2</td>\n",
       "      <td>6</td>\n",
       "      <td>1.500000</td>\n",
       "      <td>8</td>\n",
       "      <td>0.999</td>\n",
       "      <td>11.1</td>\n",
       "      <td>62.5</td>\n",
       "      <td>...</td>\n",
       "      <td>117816.0</td>\n",
       "      <td>3.0</td>\n",
       "      <td>0.333333</td>\n",
       "      <td>0.0</td>\n",
       "      <td>0.0</td>\n",
       "      <td>0.000000</td>\n",
       "      <td>235632.0</td>\n",
       "      <td>6.0</td>\n",
       "      <td>0.666667</td>\n",
       "      <td>11</td>\n",
       "    </tr>\n",
       "    <tr>\n",
       "      <th>23</th>\n",
       "      <td>0</td>\n",
       "      <td>36</td>\n",
       "      <td>2.250</td>\n",
       "      <td>2.8</td>\n",
       "      <td>22</td>\n",
       "      <td>1.636364</td>\n",
       "      <td>16</td>\n",
       "      <td>2.016</td>\n",
       "      <td>5.6</td>\n",
       "      <td>62.5</td>\n",
       "      <td>...</td>\n",
       "      <td>1575390.0</td>\n",
       "      <td>10.0</td>\n",
       "      <td>0.277778</td>\n",
       "      <td>1732929.0</td>\n",
       "      <td>11.0</td>\n",
       "      <td>0.305556</td>\n",
       "      <td>2363085.0</td>\n",
       "      <td>15.0</td>\n",
       "      <td>0.416667</td>\n",
       "      <td>15</td>\n",
       "    </tr>\n",
       "    <tr>\n",
       "      <th>26</th>\n",
       "      <td>0</td>\n",
       "      <td>28</td>\n",
       "      <td>2.000</td>\n",
       "      <td>1.4</td>\n",
       "      <td>15</td>\n",
       "      <td>1.866667</td>\n",
       "      <td>14</td>\n",
       "      <td>11.004</td>\n",
       "      <td>39.3</td>\n",
       "      <td>71.4</td>\n",
       "      <td>...</td>\n",
       "      <td>0.0</td>\n",
       "      <td>0.0</td>\n",
       "      <td>0.000000</td>\n",
       "      <td>1262574.0</td>\n",
       "      <td>18.0</td>\n",
       "      <td>0.642857</td>\n",
       "      <td>701430.0</td>\n",
       "      <td>10.0</td>\n",
       "      <td>0.357143</td>\n",
       "      <td>24</td>\n",
       "    </tr>\n",
       "    <tr>\n",
       "      <th>35</th>\n",
       "      <td>0</td>\n",
       "      <td>5</td>\n",
       "      <td>2.500</td>\n",
       "      <td>6.0</td>\n",
       "      <td>5</td>\n",
       "      <td>1.000000</td>\n",
       "      <td>2</td>\n",
       "      <td>0.000</td>\n",
       "      <td>0.0</td>\n",
       "      <td>0.0</td>\n",
       "      <td>...</td>\n",
       "      <td>0.0</td>\n",
       "      <td>0.0</td>\n",
       "      <td>0.000000</td>\n",
       "      <td>885000.0</td>\n",
       "      <td>5.0</td>\n",
       "      <td>1.000000</td>\n",
       "      <td>0.0</td>\n",
       "      <td>0.0</td>\n",
       "      <td>0.000000</td>\n",
       "      <td>22</td>\n",
       "    </tr>\n",
       "  </tbody>\n",
       "</table>\n",
       "<p>5 rows × 25 columns</p>\n",
       "</div>"
      ],
      "text/plain": [
       "        gender  구매건수  하루평균_구매건수  평균할부개월수  구매브랜드종류  브랜드별_평균구매건수  내점일수  \\\n",
       "custid                                                                 \n",
       "18           0    15      1.500      1.7        9     1.666667    10   \n",
       "21           0     9      1.125      1.2        6     1.500000     8   \n",
       "23           0    36      2.250      2.8       22     1.636364    16   \n",
       "26           0    28      2.000      1.4       15     1.866667    14   \n",
       "35           0     5      2.500      6.0        5     1.000000     2   \n",
       "\n",
       "        수입상품_구매건수  수입상품_구매비율  평일방문비율  ...    아침_구매가격  아침_구매건수   아침_구매비율  \\\n",
       "custid                                ...                                 \n",
       "18          4.005       26.7     0.0  ...        0.0      0.0  0.000000   \n",
       "21          0.999       11.1    62.5  ...   117816.0      3.0  0.333333   \n",
       "23          2.016        5.6    62.5  ...  1575390.0     10.0  0.277778   \n",
       "26         11.004       39.3    71.4  ...        0.0      0.0  0.000000   \n",
       "35          0.000        0.0     0.0  ...        0.0      0.0  0.000000   \n",
       "\n",
       "          저녁_구매가격  저녁_구매건수   저녁_구매비율    점심_구매가격  점심_구매건수   점심_구매비율  주구매코너  \n",
       "custid                                                                     \n",
       "18       272040.0      6.0  0.400000   408060.0      9.0  0.600000     24  \n",
       "21            0.0      0.0  0.000000   235632.0      6.0  0.666667     11  \n",
       "23      1732929.0     11.0  0.305556  2363085.0     15.0  0.416667     15  \n",
       "26      1262574.0     18.0  0.642857   701430.0     10.0  0.357143     24  \n",
       "35       885000.0      5.0  1.000000        0.0      0.0  0.000000     22  \n",
       "\n",
       "[5 rows x 25 columns]"
      ]
     },
     "execution_count": 25,
     "metadata": {},
     "output_type": "execute_result"
    }
   ],
   "source": [
    "change = ['총구매액','평균구매가격','수입상품_구매가격']\n",
    "df_copy = df_copy.drop(change, axis=1)\n",
    "df_copy.head()"
   ]
  },
  {
   "cell_type": "markdown",
   "metadata": {},
   "source": [
    "### Standardization"
   ]
  },
  {
   "cell_type": "code",
   "execution_count": 331,
   "metadata": {},
   "outputs": [],
   "source": [
    "from sklearn.preprocessing import StandardScaler\n",
    "scaler = StandardScaler()\n",
    "scaler.fit(df_s)\n",
    "x = scaler.transform(df_s)\n",
    "df_st = pd.DataFrame(x, columns=df_s.columns)"
   ]
  },
  {
   "cell_type": "markdown",
   "metadata": {},
   "source": [
    "### min-max scaling"
   ]
  },
  {
   "cell_type": "code",
   "execution_count": 26,
   "metadata": {},
   "outputs": [],
   "source": [
    "from sklearn.preprocessing import MinMaxScaler\n",
    "scaler = MinMaxScaler()\n",
    "scaler.fit(df_copy)\n",
    "\n",
    "x = scaler.transform(df_copy)\n",
    "df_s = pd.DataFrame(x, columns=df_copy.columns)"
   ]
  },
  {
   "cell_type": "code",
   "execution_count": 27,
   "metadata": {},
   "outputs": [
    {
     "data": {
      "text/html": [
       "<div>\n",
       "<style scoped>\n",
       "    .dataframe tbody tr th:only-of-type {\n",
       "        vertical-align: middle;\n",
       "    }\n",
       "\n",
       "    .dataframe tbody tr th {\n",
       "        vertical-align: top;\n",
       "    }\n",
       "\n",
       "    .dataframe thead th {\n",
       "        text-align: right;\n",
       "    }\n",
       "</style>\n",
       "<table border=\"1\" class=\"dataframe\">\n",
       "  <thead>\n",
       "    <tr style=\"text-align: right;\">\n",
       "      <th></th>\n",
       "      <th>gender</th>\n",
       "      <th>구매건수</th>\n",
       "      <th>하루평균_구매건수</th>\n",
       "      <th>평균할부개월수</th>\n",
       "      <th>구매브랜드종류</th>\n",
       "      <th>브랜드별_평균구매건수</th>\n",
       "      <th>내점일수</th>\n",
       "      <th>수입상품_구매건수</th>\n",
       "      <th>수입상품_구매비율</th>\n",
       "      <th>평일방문비율</th>\n",
       "      <th>...</th>\n",
       "      <th>아침_구매가격</th>\n",
       "      <th>아침_구매건수</th>\n",
       "      <th>아침_구매비율</th>\n",
       "      <th>저녁_구매가격</th>\n",
       "      <th>저녁_구매건수</th>\n",
       "      <th>저녁_구매비율</th>\n",
       "      <th>점심_구매가격</th>\n",
       "      <th>점심_구매건수</th>\n",
       "      <th>점심_구매비율</th>\n",
       "      <th>주구매코너</th>\n",
       "    </tr>\n",
       "  </thead>\n",
       "  <tbody>\n",
       "    <tr>\n",
       "      <th>0</th>\n",
       "      <td>0.0</td>\n",
       "      <td>0.028571</td>\n",
       "      <td>0.090909</td>\n",
       "      <td>0.077778</td>\n",
       "      <td>0.060150</td>\n",
       "      <td>0.048309</td>\n",
       "      <td>0.036290</td>\n",
       "      <td>0.038847</td>\n",
       "      <td>0.267</td>\n",
       "      <td>0.000</td>\n",
       "      <td>...</td>\n",
       "      <td>0.009989</td>\n",
       "      <td>0.000000</td>\n",
       "      <td>0.000000</td>\n",
       "      <td>0.022815</td>\n",
       "      <td>0.035928</td>\n",
       "      <td>0.400000</td>\n",
       "      <td>0.015525</td>\n",
       "      <td>0.024590</td>\n",
       "      <td>0.600000</td>\n",
       "      <td>1.000000</td>\n",
       "    </tr>\n",
       "    <tr>\n",
       "      <th>1</th>\n",
       "      <td>0.0</td>\n",
       "      <td>0.016327</td>\n",
       "      <td>0.022727</td>\n",
       "      <td>0.022222</td>\n",
       "      <td>0.037594</td>\n",
       "      <td>0.036232</td>\n",
       "      <td>0.028226</td>\n",
       "      <td>0.009690</td>\n",
       "      <td>0.111</td>\n",
       "      <td>0.625</td>\n",
       "      <td>...</td>\n",
       "      <td>0.014424</td>\n",
       "      <td>0.017241</td>\n",
       "      <td>0.333333</td>\n",
       "      <td>0.011798</td>\n",
       "      <td>0.000000</td>\n",
       "      <td>0.000000</td>\n",
       "      <td>0.013169</td>\n",
       "      <td>0.016393</td>\n",
       "      <td>0.666667</td>\n",
       "      <td>0.458333</td>\n",
       "    </tr>\n",
       "    <tr>\n",
       "      <th>2</th>\n",
       "      <td>0.0</td>\n",
       "      <td>0.071429</td>\n",
       "      <td>0.227273</td>\n",
       "      <td>0.200000</td>\n",
       "      <td>0.157895</td>\n",
       "      <td>0.046113</td>\n",
       "      <td>0.060484</td>\n",
       "      <td>0.019555</td>\n",
       "      <td>0.056</td>\n",
       "      <td>0.625</td>\n",
       "      <td>...</td>\n",
       "      <td>0.069298</td>\n",
       "      <td>0.057471</td>\n",
       "      <td>0.277778</td>\n",
       "      <td>0.081983</td>\n",
       "      <td>0.065868</td>\n",
       "      <td>0.305556</td>\n",
       "      <td>0.042237</td>\n",
       "      <td>0.040984</td>\n",
       "      <td>0.416667</td>\n",
       "      <td>0.625000</td>\n",
       "    </tr>\n",
       "    <tr>\n",
       "      <th>3</th>\n",
       "      <td>0.0</td>\n",
       "      <td>0.055102</td>\n",
       "      <td>0.181818</td>\n",
       "      <td>0.044444</td>\n",
       "      <td>0.105263</td>\n",
       "      <td>0.062802</td>\n",
       "      <td>0.052419</td>\n",
       "      <td>0.106735</td>\n",
       "      <td>0.393</td>\n",
       "      <td>0.714</td>\n",
       "      <td>...</td>\n",
       "      <td>0.009989</td>\n",
       "      <td>0.000000</td>\n",
       "      <td>0.000000</td>\n",
       "      <td>0.062933</td>\n",
       "      <td>0.107784</td>\n",
       "      <td>0.642857</td>\n",
       "      <td>0.019533</td>\n",
       "      <td>0.027322</td>\n",
       "      <td>0.357143</td>\n",
       "      <td>1.000000</td>\n",
       "    </tr>\n",
       "    <tr>\n",
       "      <th>4</th>\n",
       "      <td>0.0</td>\n",
       "      <td>0.008163</td>\n",
       "      <td>0.272727</td>\n",
       "      <td>0.555556</td>\n",
       "      <td>0.030075</td>\n",
       "      <td>0.000000</td>\n",
       "      <td>0.004032</td>\n",
       "      <td>0.000000</td>\n",
       "      <td>0.000</td>\n",
       "      <td>0.000</td>\n",
       "      <td>...</td>\n",
       "      <td>0.009989</td>\n",
       "      <td>0.000000</td>\n",
       "      <td>0.000000</td>\n",
       "      <td>0.047641</td>\n",
       "      <td>0.029940</td>\n",
       "      <td>1.000000</td>\n",
       "      <td>0.009950</td>\n",
       "      <td>0.000000</td>\n",
       "      <td>0.000000</td>\n",
       "      <td>0.916667</td>\n",
       "    </tr>\n",
       "  </tbody>\n",
       "</table>\n",
       "<p>5 rows × 25 columns</p>\n",
       "</div>"
      ],
      "text/plain": [
       "   gender      구매건수  하루평균_구매건수   평균할부개월수   구매브랜드종류  브랜드별_평균구매건수      내점일수  \\\n",
       "0     0.0  0.028571   0.090909  0.077778  0.060150     0.048309  0.036290   \n",
       "1     0.0  0.016327   0.022727  0.022222  0.037594     0.036232  0.028226   \n",
       "2     0.0  0.071429   0.227273  0.200000  0.157895     0.046113  0.060484   \n",
       "3     0.0  0.055102   0.181818  0.044444  0.105263     0.062802  0.052419   \n",
       "4     0.0  0.008163   0.272727  0.555556  0.030075     0.000000  0.004032   \n",
       "\n",
       "   수입상품_구매건수  수입상품_구매비율  평일방문비율  ...   아침_구매가격   아침_구매건수   아침_구매비율   저녁_구매가격  \\\n",
       "0   0.038847      0.267   0.000  ...  0.009989  0.000000  0.000000  0.022815   \n",
       "1   0.009690      0.111   0.625  ...  0.014424  0.017241  0.333333  0.011798   \n",
       "2   0.019555      0.056   0.625  ...  0.069298  0.057471  0.277778  0.081983   \n",
       "3   0.106735      0.393   0.714  ...  0.009989  0.000000  0.000000  0.062933   \n",
       "4   0.000000      0.000   0.000  ...  0.009989  0.000000  0.000000  0.047641   \n",
       "\n",
       "    저녁_구매건수   저녁_구매비율   점심_구매가격   점심_구매건수   점심_구매비율     주구매코너  \n",
       "0  0.035928  0.400000  0.015525  0.024590  0.600000  1.000000  \n",
       "1  0.000000  0.000000  0.013169  0.016393  0.666667  0.458333  \n",
       "2  0.065868  0.305556  0.042237  0.040984  0.416667  0.625000  \n",
       "3  0.107784  0.642857  0.019533  0.027322  0.357143  1.000000  \n",
       "4  0.029940  1.000000  0.009950  0.000000  0.000000  0.916667  \n",
       "\n",
       "[5 rows x 25 columns]"
      ]
     },
     "execution_count": 27,
     "metadata": {},
     "output_type": "execute_result"
    }
   ],
   "source": [
    "df_s.head()"
   ]
  },
  {
   "cell_type": "code",
   "execution_count": 141,
   "metadata": {},
   "outputs": [
    {
     "name": "stdout",
     "output_type": "stream",
     "text": [
      "<class 'pandas.core.frame.DataFrame'>\n",
      "RangeIndex: 5000 entries, 0 to 4999\n",
      "Data columns (total 31 columns):\n",
      " #   Column            Non-Null Count  Dtype  \n",
      "---  ------            --------------  -----  \n",
      " 0   custid            5000 non-null   int64  \n",
      " 1   gender            5000 non-null   int64  \n",
      " 2   총구매액              5000 non-null   int64  \n",
      " 3   구매건수              5000 non-null   int64  \n",
      " 4   평균구매가격            5000 non-null   int64  \n",
      " 5   평균할부개월수           5000 non-null   float64\n",
      " 6   구매브랜드종류           5000 non-null   int64  \n",
      " 7   내점일수              5000 non-null   int64  \n",
      " 8   수입상품_구매비율         5000 non-null   float64\n",
      " 9   주말방문비율            5000 non-null   float64\n",
      " 10  가을_구매건수           4055 non-null   float64\n",
      " 11  겨울_구매건수           4103 non-null   float64\n",
      " 12  봄_구매건수            4311 non-null   float64\n",
      " 13  여름_구매건수           3978 non-null   float64\n",
      " 14  아침_구매건수           3558 non-null   float64\n",
      " 15  저녁_구매건수           4033 non-null   float64\n",
      " 16  점심_구매건수           4855 non-null   float64\n",
      " 17  주구매코너             5000 non-null   object \n",
      " 18  mor_shop          5000 non-null   bool   \n",
      " 19  lun_shop          5000 non-null   bool   \n",
      " 20  eve_shop          5000 non-null   bool   \n",
      " 21  allday_shop       5000 non-null   bool   \n",
      " 22  spr_shop          5000 non-null   bool   \n",
      " 23  summ_shop         5000 non-null   bool   \n",
      " 24  aut_shop          5000 non-null   bool   \n",
      " 25  win_shop          5000 non-null   bool   \n",
      " 26  win_allday_shop   5000 non-null   bool   \n",
      " 27  aut_allday_shop   5000 non-null   bool   \n",
      " 28  summ_allday_shop  5000 non-null   bool   \n",
      " 29  spr_allday_shop   5000 non-null   bool   \n",
      " 30  crazy_shop        5000 non-null   bool   \n",
      "dtypes: bool(13), float64(10), int64(7), object(1)\n",
      "memory usage: 766.7+ KB\n"
     ]
    }
   ],
   "source": [
    "mdf.info()"
   ]
  },
  {
   "cell_type": "code",
   "execution_count": 142,
   "metadata": {},
   "outputs": [],
   "source": [
    "from sklearn.model_selection import train_test_split\n",
    "\n",
    "dy = mdf['gender']\n",
    "dx = mdf[['mor_shop','lun_shop','eve_shop','allday_shop','spr_shop','spr_shop',\n",
    "          'summ_shop','aut_shop','win_shop','win_allday_shop','aut_allday_shop',\n",
    "          'summ_allday_shop','spr_allday_shop','crazy_shop']]\n",
    "X_train, X_test, y_train, y_test = train_test_split(dx, dy, test_size=0.25,)"
   ]
  },
  {
   "cell_type": "code",
   "execution_count": 30,
   "metadata": {},
   "outputs": [
    {
     "data": {
      "text/plain": [
       "0.6864"
      ]
     },
     "execution_count": 30,
     "metadata": {},
     "output_type": "execute_result"
    }
   ],
   "source": [
    "# preprocessing using 0-1 scaling\n",
    "from sklearn.preprocessing import MinMaxScaler\n",
    "scaler = MinMaxScaler()\n",
    "X_train_scaled = scaler.fit(X_train).transform(X_train)\n",
    "# Scaling training and test data the same way\n",
    "#X_test_scaled = scaler.fit(X_test).transform(X_test)\n",
    "X_test_scaled = scaler.transform(X_test) \n",
    "lsv.fit(X_train_scaled, y_train).score(X_test_scaled, y_test)"
   ]
  },
  {
   "cell_type": "code",
   "execution_count": 114,
   "metadata": {},
   "outputs": [],
   "source": [
    "from sklearn.dummy import DummyClassifier\n",
    "dummy = DummyClassifier(strategy='most_frequent').fit(X_train, y_train)\n",
    "pred_dummy = dummy.predict(X_test)"
   ]
  },
  {
   "cell_type": "code",
   "execution_count": 115,
   "metadata": {},
   "outputs": [],
   "source": [
    "from sklearn.tree import DecisionTreeClassifier\n",
    "tree = DecisionTreeClassifier(max_depth=2).fit(X_train, y_train)\n",
    "pred_tree = tree.predict(X_test)"
   ]
  },
  {
   "cell_type": "code",
   "execution_count": 116,
   "metadata": {},
   "outputs": [
    {
     "name": "stdout",
     "output_type": "stream",
     "text": [
      "Dummy model:\n",
      "0.6888\n",
      "Decision tree:\n",
      "0.6888\n"
     ]
    }
   ],
   "source": [
    "from sklearn.metrics import accuracy_score\n",
    "print(\"Dummy model:\")\n",
    "print(accuracy_score(y_test, pred_dummy))\n",
    "print(\"Decision tree:\")\n",
    "print(accuracy_score(y_test, pred_tree))"
   ]
  },
  {
   "cell_type": "code",
   "execution_count": 117,
   "metadata": {},
   "outputs": [
    {
     "name": "stdout",
     "output_type": "stream",
     "text": [
      "Dummy model:\n",
      "[[861   0]\n",
      " [389   0]]\n",
      "Decision tree:\n",
      "[[861   0]\n",
      " [389   0]]\n"
     ]
    }
   ],
   "source": [
    "from sklearn.metrics import confusion_matrix\n",
    "print(\"Dummy model:\")\n",
    "print(confusion_matrix(y_test, pred_dummy))\n",
    "print(\"Decision tree:\")\n",
    "print(confusion_matrix(y_test, pred_tree))"
   ]
  },
  {
   "cell_type": "code",
   "execution_count": 118,
   "metadata": {},
   "outputs": [
    {
     "name": "stdout",
     "output_type": "stream",
     "text": [
      "Dummy model:\n",
      "              precision    recall  f1-score   support\n",
      "\n",
      "       not 9       0.69      1.00      0.82       861\n",
      "           9       0.00      0.00      0.00       389\n",
      "\n",
      "    accuracy                           0.69      1250\n",
      "   macro avg       0.34      0.50      0.41      1250\n",
      "weighted avg       0.47      0.69      0.56      1250\n",
      "\n",
      "\n",
      "Decision tree:\n",
      "              precision    recall  f1-score   support\n",
      "\n",
      "       not 9       0.69      1.00      0.82       861\n",
      "           9       0.00      0.00      0.00       389\n",
      "\n",
      "    accuracy                           0.69      1250\n",
      "   macro avg       0.34      0.50      0.41      1250\n",
      "weighted avg       0.47      0.69      0.56      1250\n",
      "\n"
     ]
    },
    {
     "name": "stderr",
     "output_type": "stream",
     "text": [
      "/opt/anaconda3/lib/python3.7/site-packages/sklearn/metrics/_classification.py:1272: UndefinedMetricWarning: Precision and F-score are ill-defined and being set to 0.0 in labels with no predicted samples. Use `zero_division` parameter to control this behavior.\n",
      "  _warn_prf(average, modifier, msg_start, len(result))\n"
     ]
    }
   ],
   "source": [
    "from sklearn.metrics import classification_report\n",
    "print(\"Dummy model:\")\n",
    "print(classification_report(y_test, pred_dummy, \n",
    "                            target_names=[\"not 9\", \"9\"]))\n",
    "print(\"\\nDecision tree:\")\n",
    "print(classification_report(y_test, pred_tree, \n",
    "                            target_names=[\"not 9\", \"9\"]))"
   ]
  },
  {
   "cell_type": "markdown",
   "metadata": {},
   "source": [
    "### voting ensemble"
   ]
  },
  {
   "cell_type": "code",
   "execution_count": 143,
   "metadata": {},
   "outputs": [],
   "source": [
    "from sklearn.ensemble import VotingClassifier"
   ]
  },
  {
   "cell_type": "code",
   "execution_count": 144,
   "metadata": {},
   "outputs": [],
   "source": [
    "logreg = LogisticRegression()\n",
    "tree = DecisionTreeClassifier()\n",
    "knn = KNeighborsClassifier()\n",
    "voting = VotingClassifier(\n",
    "    estimators = [('logreg', logreg), ('tree', tree), ('knn', knn)],\n",
    "    voting = 'hard')"
   ]
  },
  {
   "cell_type": "code",
   "execution_count": 145,
   "metadata": {},
   "outputs": [
    {
     "name": "stdout",
     "output_type": "stream",
     "text": [
      "LogisticRegression 0.7008\n",
      "DecisionTreeClassifier 0.6928\n",
      "KNeighborsClassifier 0.6888\n",
      "VotingClassifier 0.7008\n"
     ]
    }
   ],
   "source": [
    "from sklearn.metrics import accuracy_score\n",
    "for clf in (logreg, tree, knn, voting) :\n",
    "    clf.fit(X_train, y_train)\n",
    "    print(clf.__class__.__name__, \n",
    "          accuracy_score(y_test, clf.predict(X_test)))"
   ]
  },
  {
   "cell_type": "markdown",
   "metadata": {},
   "source": [
    "### Averaging predictions"
   ]
  },
  {
   "cell_type": "code",
   "execution_count": 146,
   "metadata": {},
   "outputs": [
    {
     "data": {
      "text/plain": [
       "VotingClassifier(estimators=[('logreg',\n",
       "                              LogisticRegression(C=1.0, class_weight=None,\n",
       "                                                 dual=False, fit_intercept=True,\n",
       "                                                 intercept_scaling=1,\n",
       "                                                 l1_ratio=None, max_iter=100,\n",
       "                                                 multi_class='auto',\n",
       "                                                 n_jobs=None, penalty='l2',\n",
       "                                                 random_state=None,\n",
       "                                                 solver='lbfgs', tol=0.0001,\n",
       "                                                 verbose=0, warm_start=False)),\n",
       "                             ('tree',\n",
       "                              DecisionTreeClassifier(ccp_alpha=0.0,\n",
       "                                                     class_weight=None,\n",
       "                                                     criterion='...\n",
       "                                                     min_impurity_split=None,\n",
       "                                                     min_samples_leaf=1,\n",
       "                                                     min_samples_split=2,\n",
       "                                                     min_weight_fraction_leaf=0.0,\n",
       "                                                     presort='deprecated',\n",
       "                                                     random_state=None,\n",
       "                                                     splitter='best')),\n",
       "                             ('knn',\n",
       "                              KNeighborsClassifier(algorithm='auto',\n",
       "                                                   leaf_size=30,\n",
       "                                                   metric='minkowski',\n",
       "                                                   metric_params=None,\n",
       "                                                   n_jobs=None, n_neighbors=5,\n",
       "                                                   p=2, weights='uniform'))],\n",
       "                 flatten_transform=True, n_jobs=None, voting='soft',\n",
       "                 weights=None)"
      ]
     },
     "execution_count": 146,
     "metadata": {},
     "output_type": "execute_result"
    }
   ],
   "source": [
    "averaging = VotingClassifier(\n",
    "    estimators = [('logreg', logreg), ('tree', tree), ('knn', knn)],\n",
    "    voting = 'soft')\n",
    "averaging.fit(X_train, y_train)"
   ]
  },
  {
   "cell_type": "code",
   "execution_count": 147,
   "metadata": {},
   "outputs": [
    {
     "data": {
      "text/plain": [
       "0.7008"
      ]
     },
     "execution_count": 147,
     "metadata": {},
     "output_type": "execute_result"
    }
   ],
   "source": [
    "averaging.fit(X_train, y_train).score(X_test, y_test)"
   ]
  },
  {
   "cell_type": "markdown",
   "metadata": {},
   "source": [
    "### Stacking"
   ]
  },
  {
   "cell_type": "code",
   "execution_count": 148,
   "metadata": {},
   "outputs": [
    {
     "name": "stdout",
     "output_type": "stream",
     "text": [
      "AdaBoostClassifier 0.7008\n",
      "MLPClassifier 0.7008\n",
      "SVC 0.7008\n",
      "LinearSVC 0.7008\n",
      "DecisionTreeClassifier 0.6928\n",
      "KNeighborsClassifier 0.6888\n",
      "GradientBoostingClassifier 0.6984\n",
      "RandomForestClassifier 0.6888\n",
      "StackingClassifier 0.692\n"
     ]
    }
   ],
   "source": [
    "from mlxtend.classifier import StackingClassifier\n",
    "import numpy as np\n",
    "np.random.seed(1671)\n",
    "\n",
    "stacking = StackingClassifier(classifiers=[ada,mlp,lsv,tree,svm,knn,gbm,ranfor], \n",
    "                              meta_classifier=logreg, # blender or meta-learner\n",
    "                              use_probas=False,\n",
    "                              average_probas=False)\n",
    "\n",
    "for clf in (ada, mlp, svm, lsv, tree, knn, gbm, ranfor, stacking) :\n",
    "    clf.fit(X_train, y_train)\n",
    "    print(clf.__class__.__name__, accuracy_score(\n",
    "        y_test, clf.predict(X_test)))"
   ]
  },
  {
   "cell_type": "markdown",
   "metadata": {},
   "source": [
    "### Bagging"
   ]
  },
  {
   "cell_type": "code",
   "execution_count": 149,
   "metadata": {},
   "outputs": [
    {
     "data": {
      "text/plain": [
       "0.7008"
      ]
     },
     "execution_count": 149,
     "metadata": {},
     "output_type": "execute_result"
    }
   ],
   "source": [
    "from sklearn.ensemble import BaggingClassifier\n",
    "# RandomForestClassifier()[96.5] / KNeighborsClassifier()[93.7] / MLPClassifier(alpha=1)[93.7] / SVC()[93.7] / DecisionTreeClassifier()[97.9] / LogisticRegression()[95.1]\n",
    "# GradientBoostingClassifier()[96.5] / AdaBoostClassifier()[98.6]\n",
    "bagging = BaggingClassifier(base_estimator=LogisticRegression(), random_state=0, n_estimators=200)\n",
    "bagging.fit(X_train, y_train).score(X_test, y_test)"
   ]
  },
  {
   "cell_type": "code",
   "execution_count": 150,
   "metadata": {},
   "outputs": [
    {
     "data": {
      "text/plain": [
       "0.7008"
      ]
     },
     "execution_count": 150,
     "metadata": {},
     "output_type": "execute_result"
    }
   ],
   "source": [
    "from sklearn.ensemble import AdaBoostClassifier\n",
    "\n",
    "ada = AdaBoostClassifier(n_estimators=200, random_state=0)\n",
    "ada.fit(X_train, y_train).score(X_test, y_test)"
   ]
  },
  {
   "cell_type": "code",
   "execution_count": 151,
   "metadata": {},
   "outputs": [
    {
     "data": {
      "text/plain": [
       "0.6976"
      ]
     },
     "execution_count": 151,
     "metadata": {},
     "output_type": "execute_result"
    }
   ],
   "source": [
    "from sklearn.ensemble import GradientBoostingClassifier\n",
    "\n",
    "gbm = GradientBoostingClassifier(n_estimators=200, random_state=0)\n",
    "gbm.fit(X_train, y_train).score(X_test, y_test)"
   ]
  },
  {
   "cell_type": "code",
   "execution_count": 47,
   "metadata": {},
   "outputs": [
    {
     "name": "stderr",
     "output_type": "stream",
     "text": [
      "/opt/anaconda3/lib/python3.7/site-packages/sklearn/model_selection/_split.py:296: FutureWarning: Setting a random_state has no effect since shuffle is False. This will raise an error in 0.24. You should leave random_state to its default (None), or set shuffle=True.\n",
      "  FutureWarning\n"
     ]
    },
    {
     "data": {
      "text/plain": [
       "<matplotlib.axes._subplots.AxesSubplot at 0x1a234f6e90>"
      ]
     },
     "execution_count": 47,
     "metadata": {},
     "output_type": "execute_result"
    },
    {
     "data": {
      "image/png": "[encoded data removed]",
      "text/plain": [
       "<Figure size 864x432 with 1 Axes>"
      ]
     },
     "metadata": {
      "needs_background": "light"
     },
     "output_type": "display_data"
    }
   ],
   "source": [
    "from sklearn.model_selection import KFold #for K-fold cross validation\n",
    "from sklearn.model_selection import cross_val_score #score evaluation\n",
    "from sklearn.model_selection import cross_val_predict #prediction\n",
    "\n",
    "kfold = KFold(n_splits=10, random_state=22) # k=10, split the data into 10 equal parts\n",
    "xyz = []\n",
    "std = []\n",
    "accuracy = []\n",
    "classifiers = ['Voting','Averaging','Stacking','Bagging','AdaBoost','Gradient Boosting']\n",
    "models = [voting, averaging, stacking, bagging, ada, gbm]\n",
    "\n",
    "for model in models:\n",
    "    cv_result = cross_val_score(model, X_train, y_train, cv = kfold, scoring = \"accuracy\")\n",
    "    xyz.append(cv_result.mean())\n",
    "    std.append(cv_result.std())\n",
    "    accuracy.append(cv_result)\n",
    "\n",
    "models_dataframe = pd.DataFrame({'CV Mean':xyz,'Std':std},index=classifiers)       \n",
    "plt.subplots(figsize=(12,6))\n",
    "box = pd.DataFrame(accuracy,index=classifiers)\n",
    "box.T.boxplot()"
   ]
  },
  {
   "cell_type": "markdown",
   "metadata": {},
   "source": [
    "### 크로스 밸리데이션"
   ]
  },
  {
   "cell_type": "code",
   "execution_count": 152,
   "metadata": {},
   "outputs": [],
   "source": [
    "from sklearn.model_selection import KFold\n",
    "from sklearn.model_selection import cross_val_score"
   ]
  },
  {
   "cell_type": "code",
   "execution_count": null,
   "metadata": {},
   "outputs": [],
   "source": [
    "# logreg - 72.8 / mlp - 72.3 / ranfor - 71.5 / lsv - 72.5 / gbm - 71.5 / ada - 71.7"
   ]
  },
  {
   "cell_type": "code",
   "execution_count": 163,
   "metadata": {},
   "outputs": [
    {
     "name": "stdout",
     "output_type": "stream",
     "text": [
      "크로스 밸리데이션 결과 = [0.69333333 0.69333333 0.69333333 0.69333333 0.69333333 0.69333333\n",
      " 0.69333333 0.696      0.696      0.696     ]\n",
      "Mean: 0.694\n",
      "Std: 0.001\n",
      "Min: 0.693\n",
      "Max: 0.696\n"
     ]
    }
   ],
   "source": [
    "scores = cross_val_score(ada, X_train, y_train, cv=10)\n",
    "print(\"크로스 밸리데이션 결과 =\", scores)\n",
    "print(\"Mean: {:.3f}\\nStd: {:.3f}\\nMin: {:.3f}\\nMax: {:.3f}\".format(\n",
    "    scores.mean(), scores.std(), scores.min(), scores.max()))"
   ]
  },
  {
   "cell_type": "markdown",
   "metadata": {},
   "source": [
    "### LOOCV"
   ]
  },
  {
   "cell_type": "code",
   "execution_count": 400,
   "metadata": {},
   "outputs": [],
   "source": [
    "from sklearn.model_selection import LeaveOneOut"
   ]
  },
  {
   "cell_type": "code",
   "execution_count": 401,
   "metadata": {},
   "outputs": [
    {
     "data": {
      "text/plain": [
       "0.7024"
      ]
     },
     "execution_count": 401,
     "metadata": {},
     "output_type": "execute_result"
    }
   ],
   "source": [
    "# Gradient Boosting\n",
    "scores = cross_val_score(logreg, X_train, y_train, cv=LeaveOneOut())\n",
    "scores.mean()"
   ]
  },
  {
   "cell_type": "markdown",
   "metadata": {},
   "source": [
    "### 셔플 스플릿 크로스 밸리데이션"
   ]
  },
  {
   "cell_type": "code",
   "execution_count": 391,
   "metadata": {},
   "outputs": [],
   "source": [
    "from sklearn.model_selection import ShuffleSplit"
   ]
  },
  {
   "cell_type": "code",
   "execution_count": 392,
   "metadata": {},
   "outputs": [
    {
     "data": {
      "text/plain": [
       "0.7027505330490404"
      ]
     },
     "execution_count": 392,
     "metadata": {},
     "output_type": "execute_result"
    }
   ],
   "source": [
    "# Gradient Boosting\n",
    "sscv = ShuffleSplit(test_size=.25, train_size=.7, n_splits=200)\n",
    "scores = cross_val_score(logreg, X_train, y_train, cv=sscv)\n",
    "scores.mean()"
   ]
  },
  {
   "cell_type": "markdown",
   "metadata": {},
   "source": [
    "### 그리드서치"
   ]
  },
  {
   "cell_type": "code",
   "execution_count": 394,
   "metadata": {},
   "outputs": [],
   "source": [
    "from sklearn.model_selection import GridSearchCV"
   ]
  },
  {
   "cell_type": "code",
   "execution_count": 395,
   "metadata": {},
   "outputs": [],
   "source": [
    "param_grid = {'n_neighbors': range(1,5),\n",
    "              'weights': ['uniform','distance']}"
   ]
  },
  {
   "cell_type": "code",
   "execution_count": 396,
   "metadata": {},
   "outputs": [
    {
     "data": {
      "text/plain": [
       "(0.644, 0.6312)"
      ]
     },
     "execution_count": 396,
     "metadata": {},
     "output_type": "execute_result"
    }
   ],
   "source": [
    "# KNeighborsClassifier\n",
    "grid_search = GridSearchCV(KNeighborsClassifier(), param_grid, cv=10, n_jobs=-1)\n",
    "grid_search.fit(X_train, y_train)\n",
    "grid_search.score(X_test, y_test), KNeighborsClassifier().fit(X_train, y_train).score(X_test, y_test)"
   ]
  },
  {
   "cell_type": "markdown",
   "metadata": {},
   "source": [
    "### 랜덤서치 CV"
   ]
  },
  {
   "cell_type": "code",
   "execution_count": 397,
   "metadata": {},
   "outputs": [],
   "source": [
    "from sklearn.model_selection import RandomizedSearchCV"
   ]
  },
  {
   "cell_type": "code",
   "execution_count": 398,
   "metadata": {},
   "outputs": [
    {
     "name": "stderr",
     "output_type": "stream",
     "text": [
      "/opt/anaconda3/lib/python3.7/site-packages/sklearn/model_selection/_search.py:281: UserWarning: The total space of parameters 8 is smaller than n_iter=20. Running 8 iterations. For exhaustive searches, use GridSearchCV.\n",
      "  % (grid_size, self.n_iter, grid_size), UserWarning)\n"
     ]
    },
    {
     "name": "stdout",
     "output_type": "stream",
     "text": [
      "0.644\n",
      "Best estimator:\n",
      "KNeighborsClassifier(algorithm='auto', leaf_size=30, metric='minkowski',\n",
      "                     metric_params=None, n_jobs=None, n_neighbors=4, p=2,\n",
      "                     weights='uniform')\n"
     ]
    }
   ],
   "source": [
    "rand_search = RandomizedSearchCV(KNeighborsClassifier(), param_distributions=param_grid, n_iter=20, random_state=1)\n",
    "rand_search.fit(X_train, y_train)\n",
    "print(rand_search.score(X_test, y_test))\n",
    "print(\"Best estimator:\\n{}\".format(rand_search.best_estimator_))"
   ]
  },
  {
   "cell_type": "markdown",
   "metadata": {},
   "source": [
    "### Radial Basis Function Kernel"
   ]
  },
  {
   "cell_type": "code",
   "execution_count": 452,
   "metadata": {},
   "outputs": [],
   "source": [
    "from sklearn.kernel_approximation import RBFSampler\n",
    "from sklearn.linear_model import SGDClassifier"
   ]
  },
  {
   "cell_type": "code",
   "execution_count": 465,
   "metadata": {},
   "outputs": [
    {
     "name": "stderr",
     "output_type": "stream",
     "text": [
      "/opt/anaconda3/lib/python3.7/site-packages/sklearn/linear_model/_stochastic_gradient.py:557: ConvergenceWarning: Maximum number of iteration reached before convergence. Consider increasing max_iter to improve the fit.\n",
      "  ConvergenceWarning)\n"
     ]
    },
    {
     "data": {
      "text/plain": [
       "0.676"
      ]
     },
     "execution_count": 465,
     "metadata": {},
     "output_type": "execute_result"
    }
   ],
   "source": [
    "rbf_feature = RBFSampler(gamma=1, random_state=1)\n",
    "X_features = rbf_feature.fit_transform(X_train)\n",
    "X_features_test = rbf_feature.fit_transform(X_test)\n",
    "clf = SGDClassifier(max_iter=19)\n",
    "clf.fit(X_features, y_train)\n",
    "clf.score(X_features_test, y_test)"
   ]
  },
  {
   "cell_type": "markdown",
   "metadata": {},
   "source": [
    "- XGBoost\n",
    "    - cmd창 : conda install -c anaconda py-xgboost"
   ]
  },
  {
   "cell_type": "code",
   "execution_count": 26,
   "metadata": {},
   "outputs": [],
   "source": [
    "import xgboost as xgb\n",
    "from xgboost import XGBClassifier\n",
    "from xgboost import plot_importance\n",
    "import pandas as pd\n",
    "import numpy as np"
   ]
  },
  {
   "cell_type": "code",
   "execution_count": 27,
   "metadata": {},
   "outputs": [],
   "source": [
    "dtrain = xgb.DMatrix(data=X_train_fs, label=y_train)\n",
    "dtest = xgb.DMatrix(data=X_test_fs, label=y_test)"
   ]
  },
  {
   "cell_type": "code",
   "execution_count": 48,
   "metadata": {},
   "outputs": [],
   "source": [
    "params = {'max_depth':3,\n",
    "          'eta':0.1,\n",
    "          'objective':'binary:logistic',\n",
    "          'eval_metric':'logloss',\n",
    "          'early_stoppings':100\n",
    "         }\n",
    "num_rounds = 300"
   ]
  },
  {
   "cell_type": "code",
   "execution_count": 49,
   "metadata": {},
   "outputs": [
    {
     "name": "stdout",
     "output_type": "stream",
     "text": [
      "[0]\ttrain-logloss:0.674589\teval-logloss:0.675728\n",
      "Multiple eval metrics have been passed: 'eval-logloss' will be used for early stopping.\n",
      "\n",
      "Will train until eval-logloss hasn't improved in 200 rounds.\n",
      "[1]\ttrain-logloss:0.659441\teval-logloss:0.662042\n",
      "[2]\ttrain-logloss:0.646557\teval-logloss:0.650314\n",
      "[3]\ttrain-logloss:0.635768\teval-logloss:0.640507\n",
      "[4]\ttrain-logloss:0.626979\teval-logloss:0.633056\n",
      "[5]\ttrain-logloss:0.618936\teval-logloss:0.626114\n",
      "[6]\ttrain-logloss:0.612457\teval-logloss:0.621281\n",
      "[7]\ttrain-logloss:0.606743\teval-logloss:0.616607\n",
      "[8]\ttrain-logloss:0.601894\teval-logloss:0.612357\n",
      "[9]\ttrain-logloss:0.597352\teval-logloss:0.60933\n",
      "[10]\ttrain-logloss:0.593444\teval-logloss:0.606438\n",
      "[11]\ttrain-logloss:0.589964\teval-logloss:0.603513\n",
      "[12]\ttrain-logloss:0.58677\teval-logloss:0.601417\n",
      "[13]\ttrain-logloss:0.584083\teval-logloss:0.599274\n",
      "[14]\ttrain-logloss:0.581602\teval-logloss:0.598129\n",
      "[15]\ttrain-logloss:0.579504\teval-logloss:0.597223\n",
      "[16]\ttrain-logloss:0.577375\teval-logloss:0.596404\n",
      "[17]\ttrain-logloss:0.57515\teval-logloss:0.595361\n",
      "[18]\ttrain-logloss:0.573352\teval-logloss:0.594553\n",
      "[19]\ttrain-logloss:0.571442\teval-logloss:0.593638\n",
      "[20]\ttrain-logloss:0.569708\teval-logloss:0.593227\n",
      "[21]\ttrain-logloss:0.567779\teval-logloss:0.593337\n",
      "[22]\ttrain-logloss:0.566282\teval-logloss:0.592522\n",
      "[23]\ttrain-logloss:0.564595\teval-logloss:0.591536\n",
      "[24]\ttrain-logloss:0.563101\teval-logloss:0.591066\n",
      "[25]\ttrain-logloss:0.561784\teval-logloss:0.590484\n",
      "[26]\ttrain-logloss:0.560576\teval-logloss:0.590342\n",
      "[27]\ttrain-logloss:0.559017\teval-logloss:0.590151\n",
      "[28]\ttrain-logloss:0.55785\teval-logloss:0.589847\n",
      "[29]\ttrain-logloss:0.556661\teval-logloss:0.590154\n",
      "[30]\ttrain-logloss:0.555259\teval-logloss:0.589939\n",
      "[31]\ttrain-logloss:0.554088\teval-logloss:0.59051\n",
      "[32]\ttrain-logloss:0.552847\teval-logloss:0.59037\n",
      "[33]\ttrain-logloss:0.551462\teval-logloss:0.590006\n",
      "[34]\ttrain-logloss:0.550304\teval-logloss:0.58972\n",
      "[35]\ttrain-logloss:0.54896\teval-logloss:0.590106\n",
      "[36]\ttrain-logloss:0.547964\teval-logloss:0.590683\n",
      "[37]\ttrain-logloss:0.54697\teval-logloss:0.590645\n",
      "[38]\ttrain-logloss:0.546101\teval-logloss:0.590694\n",
      "[39]\ttrain-logloss:0.54496\teval-logloss:0.590813\n",
      "[40]\ttrain-logloss:0.543815\teval-logloss:0.590908\n",
      "[41]\ttrain-logloss:0.542205\teval-logloss:0.590916\n",
      "[42]\ttrain-logloss:0.541338\teval-logloss:0.590761\n",
      "[43]\ttrain-logloss:0.540532\teval-logloss:0.591384\n",
      "[44]\ttrain-logloss:0.539824\teval-logloss:0.591361\n",
      "[45]\ttrain-logloss:0.538803\teval-logloss:0.591496\n",
      "[46]\ttrain-logloss:0.537551\teval-logloss:0.591668\n",
      "[47]\ttrain-logloss:0.536014\teval-logloss:0.592317\n",
      "[48]\ttrain-logloss:0.53499\teval-logloss:0.592175\n",
      "[49]\ttrain-logloss:0.533675\teval-logloss:0.592537\n",
      "[50]\ttrain-logloss:0.53239\teval-logloss:0.592695\n",
      "[51]\ttrain-logloss:0.53173\teval-logloss:0.59276\n",
      "[52]\ttrain-logloss:0.530728\teval-logloss:0.592554\n",
      "[53]\ttrain-logloss:0.530048\teval-logloss:0.592952\n",
      "[54]\ttrain-logloss:0.528854\teval-logloss:0.593445\n",
      "[55]\ttrain-logloss:0.527879\teval-logloss:0.593191\n",
      "[56]\ttrain-logloss:0.527117\teval-logloss:0.593105\n",
      "[57]\ttrain-logloss:0.526805\teval-logloss:0.593442\n",
      "[58]\ttrain-logloss:0.525666\teval-logloss:0.593301\n",
      "[59]\ttrain-logloss:0.524553\teval-logloss:0.593317\n",
      "[60]\ttrain-logloss:0.524103\teval-logloss:0.593538\n",
      "[61]\ttrain-logloss:0.523342\teval-logloss:0.592898\n",
      "[62]\ttrain-logloss:0.522812\teval-logloss:0.593044\n",
      "[63]\ttrain-logloss:0.522455\teval-logloss:0.593289\n",
      "[64]\ttrain-logloss:0.52167\teval-logloss:0.59321\n",
      "[65]\ttrain-logloss:0.520541\teval-logloss:0.593633\n",
      "[66]\ttrain-logloss:0.519373\teval-logloss:0.593879\n",
      "[67]\ttrain-logloss:0.518646\teval-logloss:0.593704\n",
      "[68]\ttrain-logloss:0.517733\teval-logloss:0.593899\n",
      "[69]\ttrain-logloss:0.517359\teval-logloss:0.594131\n",
      "[70]\ttrain-logloss:0.516555\teval-logloss:0.593786\n",
      "[71]\ttrain-logloss:0.515517\teval-logloss:0.594091\n",
      "[72]\ttrain-logloss:0.514391\teval-logloss:0.594387\n",
      "[73]\ttrain-logloss:0.513538\teval-logloss:0.594406\n",
      "[74]\ttrain-logloss:0.51248\teval-logloss:0.594293\n",
      "[75]\ttrain-logloss:0.511494\teval-logloss:0.594232\n",
      "[76]\ttrain-logloss:0.510315\teval-logloss:0.59426\n",
      "[77]\ttrain-logloss:0.509656\teval-logloss:0.594447\n",
      "[78]\ttrain-logloss:0.50856\teval-logloss:0.594941\n",
      "[79]\ttrain-logloss:0.50772\teval-logloss:0.594978\n",
      "[80]\ttrain-logloss:0.506779\teval-logloss:0.594926\n",
      "[81]\ttrain-logloss:0.505787\teval-logloss:0.595166\n",
      "[82]\ttrain-logloss:0.504896\teval-logloss:0.594818\n",
      "[83]\ttrain-logloss:0.50444\teval-logloss:0.594933\n",
      "[84]\ttrain-logloss:0.503636\teval-logloss:0.595033\n",
      "[85]\ttrain-logloss:0.502968\teval-logloss:0.594782\n",
      "[86]\ttrain-logloss:0.502645\teval-logloss:0.59503\n",
      "[87]\ttrain-logloss:0.501951\teval-logloss:0.594942\n",
      "[88]\ttrain-logloss:0.501057\teval-logloss:0.594845\n",
      "[89]\ttrain-logloss:0.500031\teval-logloss:0.594261\n",
      "[90]\ttrain-logloss:0.499431\teval-logloss:0.594393\n",
      "[91]\ttrain-logloss:0.49849\teval-logloss:0.594515\n",
      "[92]\ttrain-logloss:0.498026\teval-logloss:0.59482\n",
      "[93]\ttrain-logloss:0.497239\teval-logloss:0.594711\n",
      "[94]\ttrain-logloss:0.496859\teval-logloss:0.594844\n",
      "[95]\ttrain-logloss:0.49639\teval-logloss:0.594625\n",
      "[96]\ttrain-logloss:0.495451\teval-logloss:0.594335\n",
      "[97]\ttrain-logloss:0.494264\teval-logloss:0.59451\n",
      "[98]\ttrain-logloss:0.493243\teval-logloss:0.59403\n",
      "[99]\ttrain-logloss:0.492857\teval-logloss:0.594307\n",
      "[100]\ttrain-logloss:0.492202\teval-logloss:0.594544\n",
      "[101]\ttrain-logloss:0.491343\teval-logloss:0.594619\n",
      "[102]\ttrain-logloss:0.490574\teval-logloss:0.594586\n",
      "[103]\ttrain-logloss:0.489797\teval-logloss:0.594511\n",
      "[104]\ttrain-logloss:0.489435\teval-logloss:0.594633\n",
      "[105]\ttrain-logloss:0.488577\teval-logloss:0.594534\n",
      "[106]\ttrain-logloss:0.487638\teval-logloss:0.594633\n",
      "[107]\ttrain-logloss:0.486722\teval-logloss:0.594366\n",
      "[108]\ttrain-logloss:0.485995\teval-logloss:0.594669\n",
      "[109]\ttrain-logloss:0.485111\teval-logloss:0.595029\n",
      "[110]\ttrain-logloss:0.484239\teval-logloss:0.595141\n",
      "[111]\ttrain-logloss:0.483199\teval-logloss:0.595545\n",
      "[112]\ttrain-logloss:0.482374\teval-logloss:0.595924\n",
      "[113]\ttrain-logloss:0.482024\teval-logloss:0.595852\n",
      "[114]\ttrain-logloss:0.48154\teval-logloss:0.596202\n",
      "[115]\ttrain-logloss:0.480773\teval-logloss:0.595963\n",
      "[116]\ttrain-logloss:0.479949\teval-logloss:0.595338\n",
      "[117]\ttrain-logloss:0.479761\teval-logloss:0.595597\n",
      "[118]\ttrain-logloss:0.478874\teval-logloss:0.595692\n",
      "[119]\ttrain-logloss:0.477999\teval-logloss:0.595837\n",
      "[120]\ttrain-logloss:0.477206\teval-logloss:0.596455\n",
      "[121]\ttrain-logloss:0.476604\teval-logloss:0.596733\n",
      "[122]\ttrain-logloss:0.475789\teval-logloss:0.597161\n",
      "[123]\ttrain-logloss:0.475035\teval-logloss:0.59704\n",
      "[124]\ttrain-logloss:0.474128\teval-logloss:0.597029\n",
      "[125]\ttrain-logloss:0.473122\teval-logloss:0.597044\n",
      "[126]\ttrain-logloss:0.472461\teval-logloss:0.597282\n",
      "[127]\ttrain-logloss:0.471643\teval-logloss:0.59707\n",
      "[128]\ttrain-logloss:0.470728\teval-logloss:0.597302\n",
      "[129]\ttrain-logloss:0.469826\teval-logloss:0.597822\n",
      "[130]\ttrain-logloss:0.469008\teval-logloss:0.598287\n",
      "[131]\ttrain-logloss:0.46825\teval-logloss:0.59825\n",
      "[132]\ttrain-logloss:0.467953\teval-logloss:0.598309\n",
      "[133]\ttrain-logloss:0.467576\teval-logloss:0.598048\n",
      "[134]\ttrain-logloss:0.467331\teval-logloss:0.598341\n",
      "[135]\ttrain-logloss:0.466843\teval-logloss:0.598238\n",
      "[136]\ttrain-logloss:0.466632\teval-logloss:0.59825\n",
      "[137]\ttrain-logloss:0.465812\teval-logloss:0.598355\n",
      "[138]\ttrain-logloss:0.465063\teval-logloss:0.598705\n",
      "[139]\ttrain-logloss:0.464516\teval-logloss:0.598574\n",
      "[140]\ttrain-logloss:0.463657\teval-logloss:0.598931\n",
      "[141]\ttrain-logloss:0.462638\teval-logloss:0.599129\n",
      "[142]\ttrain-logloss:0.461776\teval-logloss:0.599158\n",
      "[143]\ttrain-logloss:0.461006\teval-logloss:0.599458\n",
      "[144]\ttrain-logloss:0.460234\teval-logloss:0.59922\n",
      "[145]\ttrain-logloss:0.459549\teval-logloss:0.599178\n",
      "[146]\ttrain-logloss:0.45883\teval-logloss:0.599315\n",
      "[147]\ttrain-logloss:0.45825\teval-logloss:0.599337\n",
      "[148]\ttrain-logloss:0.457345\teval-logloss:0.599202\n",
      "[149]\ttrain-logloss:0.45683\teval-logloss:0.599181\n",
      "[150]\ttrain-logloss:0.45604\teval-logloss:0.599159\n",
      "[151]\ttrain-logloss:0.455232\teval-logloss:0.59862\n",
      "[152]\ttrain-logloss:0.455007\teval-logloss:0.598792\n",
      "[153]\ttrain-logloss:0.454491\teval-logloss:0.598982\n",
      "[154]\ttrain-logloss:0.453821\teval-logloss:0.598891\n",
      "[155]\ttrain-logloss:0.453239\teval-logloss:0.598696\n",
      "[156]\ttrain-logloss:0.452786\teval-logloss:0.599002\n",
      "[157]\ttrain-logloss:0.452364\teval-logloss:0.599274\n",
      "[158]\ttrain-logloss:0.451627\teval-logloss:0.599556\n",
      "[159]\ttrain-logloss:0.451057\teval-logloss:0.599386\n",
      "[160]\ttrain-logloss:0.450056\teval-logloss:0.599732\n",
      "[161]\ttrain-logloss:0.449706\teval-logloss:0.599882\n",
      "[162]\ttrain-logloss:0.448932\teval-logloss:0.600091\n",
      "[163]\ttrain-logloss:0.448504\teval-logloss:0.600006\n",
      "[164]\ttrain-logloss:0.447751\teval-logloss:0.599534\n",
      "[165]\ttrain-logloss:0.447547\teval-logloss:0.599585\n",
      "[166]\ttrain-logloss:0.447181\teval-logloss:0.599483\n",
      "[167]\ttrain-logloss:0.446239\teval-logloss:0.599794\n",
      "[168]\ttrain-logloss:0.445429\teval-logloss:0.599492\n",
      "[169]\ttrain-logloss:0.444722\teval-logloss:0.599437\n",
      "[170]\ttrain-logloss:0.444065\teval-logloss:0.599589\n",
      "[171]\ttrain-logloss:0.443468\teval-logloss:0.599327\n",
      "[172]\ttrain-logloss:0.442703\teval-logloss:0.599299\n",
      "[173]\ttrain-logloss:0.441885\teval-logloss:0.599672\n",
      "[174]\ttrain-logloss:0.441053\teval-logloss:0.600022\n",
      "[175]\ttrain-logloss:0.440181\teval-logloss:0.600213\n",
      "[176]\ttrain-logloss:0.439467\teval-logloss:0.600586\n",
      "[177]\ttrain-logloss:0.438946\teval-logloss:0.600829\n",
      "[178]\ttrain-logloss:0.438692\teval-logloss:0.600892\n",
      "[179]\ttrain-logloss:0.437797\teval-logloss:0.601475\n",
      "[180]\ttrain-logloss:0.437169\teval-logloss:0.601338\n",
      "[181]\ttrain-logloss:0.436863\teval-logloss:0.601533\n",
      "[182]\ttrain-logloss:0.436463\teval-logloss:0.601871\n",
      "[183]\ttrain-logloss:0.435833\teval-logloss:0.601603\n",
      "[184]\ttrain-logloss:0.43508\teval-logloss:0.601599\n",
      "[185]\ttrain-logloss:0.434336\teval-logloss:0.602075\n",
      "[186]\ttrain-logloss:0.433679\teval-logloss:0.602279\n",
      "[187]\ttrain-logloss:0.433057\teval-logloss:0.602711\n",
      "[188]\ttrain-logloss:0.432469\teval-logloss:0.602544\n",
      "[189]\ttrain-logloss:0.431719\teval-logloss:0.602727\n",
      "[190]\ttrain-logloss:0.430975\teval-logloss:0.602976\n",
      "[191]\ttrain-logloss:0.430206\teval-logloss:0.602793\n",
      "[192]\ttrain-logloss:0.429782\teval-logloss:0.602839\n",
      "[193]\ttrain-logloss:0.429326\teval-logloss:0.60303\n",
      "[194]\ttrain-logloss:0.428987\teval-logloss:0.603386\n",
      "[195]\ttrain-logloss:0.428367\teval-logloss:0.603907\n",
      "[196]\ttrain-logloss:0.427771\teval-logloss:0.60377\n",
      "[197]\ttrain-logloss:0.427369\teval-logloss:0.603706\n",
      "[198]\ttrain-logloss:0.42671\teval-logloss:0.603858\n",
      "[199]\ttrain-logloss:0.425892\teval-logloss:0.60406\n",
      "[200]\ttrain-logloss:0.425335\teval-logloss:0.60413\n",
      "[201]\ttrain-logloss:0.424718\teval-logloss:0.604155\n",
      "[202]\ttrain-logloss:0.424593\teval-logloss:0.604404\n",
      "[203]\ttrain-logloss:0.424096\teval-logloss:0.604152\n",
      "[204]\ttrain-logloss:0.423161\teval-logloss:0.604182\n",
      "[205]\ttrain-logloss:0.422193\teval-logloss:0.603456\n",
      "[206]\ttrain-logloss:0.421927\teval-logloss:0.603665\n",
      "[207]\ttrain-logloss:0.421467\teval-logloss:0.603509\n",
      "[208]\ttrain-logloss:0.420768\teval-logloss:0.603708\n",
      "[209]\ttrain-logloss:0.420467\teval-logloss:0.603587\n",
      "[210]\ttrain-logloss:0.419759\teval-logloss:0.603814\n",
      "[211]\ttrain-logloss:0.419159\teval-logloss:0.604315\n",
      "[212]\ttrain-logloss:0.418734\teval-logloss:0.60436\n",
      "[213]\ttrain-logloss:0.418184\teval-logloss:0.603968\n",
      "[214]\ttrain-logloss:0.417333\teval-logloss:0.604407\n",
      "[215]\ttrain-logloss:0.41692\teval-logloss:0.604013\n",
      "[216]\ttrain-logloss:0.416009\teval-logloss:0.603858\n",
      "[217]\ttrain-logloss:0.415357\teval-logloss:0.60397\n",
      "[218]\ttrain-logloss:0.414638\teval-logloss:0.60432\n",
      "[219]\ttrain-logloss:0.41398\teval-logloss:0.604307\n",
      "[220]\ttrain-logloss:0.413444\teval-logloss:0.604342\n",
      "[221]\ttrain-logloss:0.412627\teval-logloss:0.604321\n",
      "[222]\ttrain-logloss:0.412144\teval-logloss:0.604103\n",
      "[223]\ttrain-logloss:0.411713\teval-logloss:0.604592\n",
      "[224]\ttrain-logloss:0.411238\teval-logloss:0.604286\n",
      "[225]\ttrain-logloss:0.410706\teval-logloss:0.604203\n",
      "[226]\ttrain-logloss:0.410018\teval-logloss:0.604044\n",
      "[227]\ttrain-logloss:0.409165\teval-logloss:0.603806\n",
      "[228]\ttrain-logloss:0.408483\teval-logloss:0.604004\n",
      "[229]\ttrain-logloss:0.407794\teval-logloss:0.604052\n",
      "[230]\ttrain-logloss:0.406964\teval-logloss:0.604026\n",
      "[231]\ttrain-logloss:0.406393\teval-logloss:0.603576\n",
      "[232]\ttrain-logloss:0.405766\teval-logloss:0.603505\n",
      "[233]\ttrain-logloss:0.405201\teval-logloss:0.603639\n",
      "[234]\ttrain-logloss:0.404562\teval-logloss:0.603871\n",
      "Stopping. Best iteration:\n",
      "[34]\ttrain-logloss:0.550304\teval-logloss:0.58972\n",
      "\n"
     ]
    }
   ],
   "source": [
    "# train 데이터 세트는 'train', evaluation(test) 데이터 세트는 'eval'로 명기\n",
    "wlist = [(dtrain, 'train'),(dtest, 'eval')]\n",
    "# 하이퍼 파라미터와 early stoppinig 파라미터를 train() 함수의 파라미터로 전달\n",
    "xgb_model = xgb.train(params=params, dtrain=dtrain, num_boost_round=num_rounds, evals=wlist, early_stopping_rounds=200)"
   ]
  },
  {
   "cell_type": "code",
   "execution_count": 50,
   "metadata": {},
   "outputs": [
    {
     "name": "stdout",
     "output_type": "stream",
     "text": [
      "predict() 수행 결과값을 10개만 표시, 예측 확률값으로 표시됨\n",
      "[0.198 0.635 0.339 0.159 0.162 0.2   0.201 0.513 0.236 0.315]\n"
     ]
    }
   ],
   "source": [
    "pred_probs = xgb_model.predict(dtest)\n",
    "print('predict() 수행 결과값을 10개만 표시, 예측 확률값으로 표시됨')\n",
    "print(np.round(pred_probs[:10], 3))\n",
    "\n",
    "preds = [1 if x > 0.5 else 0 for x in pred_probs]"
   ]
  },
  {
   "cell_type": "code",
   "execution_count": 51,
   "metadata": {},
   "outputs": [],
   "source": [
    "from sklearn.metrics import accuracy_score, recall_score, precision_score, confusion_matrix\n",
    "def get_clf_eval(y_test, pred):\n",
    "    confusion = confusion_matrix(y_test, pred)\n",
    "    accuracy = accuracy_score(y_test, pred)\n",
    "    precision = precision_score(y_test, pred)\n",
    "    recall = recall_score(y_test, pred)\n",
    "    print('오차행렬')\n",
    "    print(confusion)\n",
    "    print('정확도: {0:.4f}, 정밀도: {1:.4f}, 재현율: {2:.4f}'.format(accuracy, precision, recall))"
   ]
  },
  {
   "cell_type": "code",
   "execution_count": 52,
   "metadata": {},
   "outputs": [
    {
     "name": "stdout",
     "output_type": "stream",
     "text": [
      "오차행렬\n",
      "[[649  59]\n",
      " [247  45]]\n",
      "정확도: 0.6940, 정밀도: 0.4327, 재현율: 0.1541\n"
     ]
    }
   ],
   "source": [
    "get_clf_eval(y_test, preds)"
   ]
  },
  {
   "cell_type": "code",
   "execution_count": null,
   "metadata": {},
   "outputs": [],
   "source": []
  },
  {
   "cell_type": "markdown",
   "metadata": {},
   "source": [
    "### 전개"
   ]
  },
  {
   "cell_type": "code",
   "execution_count": 8,
   "metadata": {},
   "outputs": [
    {
     "data": {
      "text/plain": [
       "(5000, 17)"
      ]
     },
     "execution_count": 8,
     "metadata": {},
     "output_type": "execute_result"
    }
   ],
   "source": [
    "ndf = pd.read_csv('data/test.csv', encoding='cp949')\n",
    "ndf.fillna(0, inplace=True)\n",
    "df.isnull().sum().sum()"
   ]
  },
  {
   "cell_type": "code",
   "execution_count": null,
   "metadata": {},
   "outputs": [],
   "source": [
    "obj = ['주구매코너']\n",
    "ndf[obj] = ndf[obj].apply(lambda x: x.astype('category').cat.codes)\n",
    "df.dtype"
   ]
  }
 ],
 "metadata": {
  "kernelspec": {
   "display_name": "Python 3",
   "language": "python",
   "name": "python3"
  },
  "language_info": {
   "codemirror_mode": {
    "name": "ipython",
    "version": 3
   },
   "file_extension": ".py",
   "mimetype": "text/x-python",
   "name": "python",
   "nbconvert_exporter": "python",
   "pygments_lexer": "ipython3",
   "version": "3.7.6"
  }
 },
 "nbformat": 4,
 "nbformat_minor": 4
}
