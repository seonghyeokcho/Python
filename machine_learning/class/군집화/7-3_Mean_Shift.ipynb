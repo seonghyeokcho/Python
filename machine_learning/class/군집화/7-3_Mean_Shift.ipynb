{
 "cells": [
  {
   "cell_type": "markdown",
   "metadata": {},
   "source": [
    "### Mean Shift(평균이동) 개요\n",
    "- K-평균은 중심에 소속된 데이터의 평균 거리 중심으로 이동\n",
    "- 평균이동은 중심을 데이터가 모여 있는 밀도가 가장 높은 곳으로 이동시킴.\n",
    "- 데이터의 분포도를 이용해 군집 중심점을 찾아 간다. 이를위해 확률밀도함수를 이용한다.\n",
    "- 평균이동은 K-평균과 다르게 군집의 개수를 지정할 필요가 없다. \n",
    "- 대역폭의 크기에 따라 알로리즘 자체에서 군집의 개수를 최적으로 정한다.\n",
    "- 사이킷런은 평균이동군집화를 위해 MeanShift 클래스를 제공한다."
   ]
  },
  {
   "cell_type": "code",
   "execution_count": 1,
   "metadata": {},
   "outputs": [
    {
     "name": "stdout",
     "output_type": "stream",
     "text": [
      "cluster labels 유형: [0 1 2 3 4 5 6 7]\n"
     ]
    }
   ],
   "source": [
    "import numpy as np\n",
    "from sklearn.datasets import make_blobs\n",
    "from sklearn.cluster import MeanShift\n",
    "\n",
    "# make_blobs()의 cluster_std를 0.8로 정한 3개의 군집의 데이터에 대해 \n",
    "# bandwidth를 0.9로 설정한 평균이동알고리즘을 적용한 예제 \n",
    "# 일반적으로 bandwidth 값을 작게 할수록 군집 개수가 많아짐.\n",
    "\n",
    "X, y = make_blobs(n_samples=200, n_features=2, centers=3, \n",
    "                  cluster_std=0.8, random_state=0)\n",
    "\n",
    "meanshift= MeanShift(bandwidth=0.9)\n",
    "cluster_labels = meanshift.fit_predict(X)\n",
    "print('cluster labels 유형:', np.unique(cluster_labels))"
   ]
  },
  {
   "cell_type": "code",
   "execution_count": 2,
   "metadata": {},
   "outputs": [
    {
     "name": "stdout",
     "output_type": "stream",
     "text": [
      "cluster labels 유형: [0 1 2]\n"
     ]
    }
   ],
   "source": [
    "meanshift= MeanShift(bandwidth=1)\n",
    "cluster_labels = meanshift.fit_predict(X)\n",
    "print('cluster labels 유형:', np.unique(cluster_labels))"
   ]
  },
  {
   "cell_type": "markdown",
   "metadata": {},
   "source": [
    "### estimate_bandwidth()\n",
    "- bandwidth를 1.0으로 조절하니 3개의 군집으로 잘 군집화 됨.\n",
    "- MeanShift에서는 bandwidth를 최적화 값으로 설정하는 것이 매우 중요하다.\n",
    "- 최적화된 bandwidth 값을 찾기 위해 estimate_bandwidth()를 제공한다.\n",
    "- estimate_bandwidth()로 피처 데이터 세트를 입력하면 최적화된 bandwidth 값을 반환해 준다."
   ]
  },
  {
   "cell_type": "code",
   "execution_count": 3,
   "metadata": {},
   "outputs": [
    {
     "name": "stdout",
     "output_type": "stream",
     "text": [
      "bandwidth 값: 1.444\n"
     ]
    }
   ],
   "source": [
    "from sklearn.cluster import estimate_bandwidth\n",
    "\n",
    "bandwidth = estimate_bandwidth(X,quantile=0.2)\n",
    "print('bandwidth 값:', round(bandwidth,3))"
   ]
  },
  {
   "cell_type": "code",
   "execution_count": 4,
   "metadata": {},
   "outputs": [
    {
     "name": "stdout",
     "output_type": "stream",
     "text": [
      "cluster labels 유형: [0 1 2]\n"
     ]
    }
   ],
   "source": [
    "# estimate_bandwidth()로 측정된 bandwidth를 평균이동입력 값으로 적용해 \n",
    "# 동일한 make_blobs()데이터 세트에 군집화 수행\n",
    "\n",
    "import pandas as pd\n",
    "\n",
    "clusterDF = pd.DataFrame(data=X, columns=['ftr1', 'ftr2'])\n",
    "clusterDF['target'] = y\n",
    "\n",
    "# estimate_bandwidth()로 최적의 bandwidth 계산\n",
    "best_bandwidth = estimate_bandwidth(X, quantile=0.2)\n",
    "\n",
    "meanshift= MeanShift(bandwidth=1)\n",
    "cluster_labels = meanshift.fit_predict(X)\n",
    "print('cluster labels 유형:',np.unique(cluster_labels))    "
   ]
  },
  {
   "cell_type": "code",
   "execution_count": 5,
   "metadata": {},
   "outputs": [
    {
     "data": {
      "image/png": "[encoded data removed]",
      "text/plain": [
       "<Figure size 432x288 with 1 Axes>"
      ]
     },
     "metadata": {
      "needs_background": "light"
     },
     "output_type": "display_data"
    }
   ],
   "source": [
    "# 구성된 3개의 군집을 시각화\n",
    "# 평균이동도 K-평균과 유사하게 중심을 가지고 있으므로 \n",
    "# Cluster_centers_ 속성으로 군집 중심 좌표를 표시할 수 있다. \n",
    "\n",
    "import matplotlib.pyplot as plt\n",
    "%matplotlib inline\n",
    "\n",
    "clusterDF['meanshift_label']  = cluster_labels\n",
    "centers = meanshift.cluster_centers_\n",
    "unique_labels = np.unique(cluster_labels)\n",
    "markers=['o', 's', '^', 'x', '*']\n",
    "\n",
    "for label in unique_labels:\n",
    "    label_cluster = clusterDF[clusterDF['meanshift_label']==label]\n",
    "    center_x_y = centers[label]\n",
    "    # 군집별로 다른 marker로 scatter plot 적용\n",
    "    plt.scatter(x=label_cluster['ftr1'], y=label_cluster['ftr2'], edgecolor='k', \n",
    "                marker=markers[label] )\n",
    "    \n",
    "    # 군집별 중심 시각화\n",
    "    plt.scatter(x=center_x_y[0], y=center_x_y[1], s=200, color='white',\n",
    "                edgecolor='k', alpha=0.9, marker=markers[label])\n",
    "    plt.scatter(x=center_x_y[0], y=center_x_y[1], s=70, color='k', edgecolor='k', \n",
    "                marker='$%d$' % label)\n",
    "    \n",
    "plt.show()\n"
   ]
  },
  {
   "cell_type": "code",
   "execution_count": 6,
   "metadata": {},
   "outputs": [
    {
     "name": "stdout",
     "output_type": "stream",
     "text": [
      "target  meanshift_label\n",
      "0       0                  67\n",
      "1       2                  67\n",
      "2       1                  66\n",
      "Name: meanshift_label, dtype: int64\n"
     ]
    }
   ],
   "source": [
    "print(clusterDF.groupby('target')['meanshift_label'].value_counts())"
   ]
  },
  {
   "cell_type": "markdown",
   "metadata": {},
   "source": [
    "### 평균이동의 장단점\n",
    "장점\n",
    "- 유연한 군집화 가능\n",
    "- 이상치의 영향을 받지 않는다.\n",
    "- 미리 군집의 개수를 정할 필요가 없다.\n",
    "\n",
    "단점\n",
    "- 알고리즘 수행시간이 오래걸린다.\n",
    "- bandwidth의 크기에 따른 군집화 영향도가 매우 크다."
   ]
  },
  {
   "cell_type": "markdown",
   "metadata": {},
   "source": [
    "### 평균 이동 군집화 기법의 사용 영역\n",
    "- 업무기반의 데이터 세트보다는 컴퓨터비전 영역에서 주로 사용\n",
    "- 이미지나 영상 데이터에서 특정 개체를 구분하거나 움직임을 추적하는 데 뛰어난 역활을 수행하는 알고리즘"
   ]
  }
 ],
 "metadata": {
  "kernelspec": {
   "display_name": "Python 3",
   "language": "python",
   "name": "python3"
  },
  "language_info": {
   "codemirror_mode": {
    "name": "ipython",
    "version": 3
   },
   "file_extension": ".py",
   "mimetype": "text/x-python",
   "name": "python",
   "nbconvert_exporter": "python",
   "pygments_lexer": "ipython3",
   "version": "3.7.4"
  }
 },
 "nbformat": 4,
 "nbformat_minor": 4
}
