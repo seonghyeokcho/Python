{
 "cells": [
  {
   "cell_type": "markdown",
   "metadata": {},
   "source": [
    "## 문자열 구간 지정"
   ]
  },
  {
   "cell_type": "code",
   "execution_count": 4,
   "metadata": {},
   "outputs": [
    {
     "name": "stdout",
     "output_type": "stream",
     "text": [
      "able\n",
      "A tabl\n",
      "나가리라\n"
     ]
    }
   ],
   "source": [
    "txt1 = 'A table that was not right'\n",
    "txt2 = '이 또한 지나가리라'\n",
    "print(txt1[3:7])  # 3 이상 7 미만까지 출력\n",
    "print(txt1[:6])  # 0 이상 6 미만\n",
    "print(txt2[-4:])  # -4 이상부터"
   ]
  },
  {
   "cell_type": "markdown",
   "metadata": {},
   "source": [
    "## 홀수번째 문자만 출력"
   ]
  },
  {
   "cell_type": "code",
   "execution_count": 10,
   "metadata": {},
   "outputs": [
    {
     "name": "stdout",
     "output_type": "stream",
     "text": [
      "abcdefghijk\n",
      "ABCDEFGHIJK\n"
     ]
    }
   ],
   "source": [
    "txt = 'aAbBcCdDeEfFgGhHiIjJkK'\n",
    "ret = txt[::2]  # 0번째부터 두칸마다 출력 = 소문자만\n",
    "ret1 = txt[1::2]  # 1번재부터 두칸마다 = 대문자만\n",
    "print(ret)\n",
    "print(ret1)"
   ]
  },
  {
   "cell_type": "markdown",
   "metadata": {},
   "source": [
    "## 문자열 거꾸로 만들기"
   ]
  },
  {
   "cell_type": "code",
   "execution_count": 3,
   "metadata": {},
   "outputs": [
    {
     "name": "stdout",
     "output_type": "stream",
     "text": [
      "kjihgfedcba\n"
     ]
    }
   ],
   "source": [
    "txt = 'abcdefghijk'\n",
    "ret = txt[::-1]\n",
    "print(ret)"
   ]
  },
  {
   "cell_type": "markdown",
   "metadata": {},
   "source": [
    "## 문자열 대소문자 변환"
   ]
  },
  {
   "cell_type": "code",
   "execution_count": 14,
   "metadata": {},
   "outputs": [
    {
     "name": "stdout",
     "output_type": "stream",
     "text": [
      "A LOT OF THINGS OCCUR EACH DAY. a lot of things occur each day.\n"
     ]
    }
   ],
   "source": [
    "txt = 'A lot of Things occur each day.'\n",
    "ret1 = txt.upper()  # 전체를 대문자로 변환\n",
    "ret2 = txt.lower()  # 전체를 소문자로 변환\n",
    "print(ret1, ret2)"
   ]
  },
  {
   "cell_type": "markdown",
   "metadata": {},
   "source": [
    "## 문자열 좌우 공백 제거"
   ]
  },
  {
   "cell_type": "code",
   "execution_count": 19,
   "metadata": {},
   "outputs": [
    {
     "name": "stdout",
     "output_type": "stream",
     "text": [
      "<     양쪽에 공백이 있다.      >\n",
      "<양쪽에 공백이 있다.      >\n",
      "<     양쪽에 공백이 있다.>\n",
      "<양쪽에 공백이 있다.>\n"
     ]
    }
   ],
   "source": [
    "txt = '     양쪽에 공백이 있다.      '\n",
    "print('<'+ txt +'>')\n",
    "print('<'+ txt.lstrip() +'>')\n",
    "print('<'+ txt.rstrip() +'>')\n",
    "print('<'+ txt.strip() +'>')"
   ]
  },
  {
   "cell_type": "markdown",
   "metadata": {},
   "source": [
    "## 문자열 개수 구하기"
   ]
  },
  {
   "cell_type": "code",
   "execution_count": 9,
   "metadata": {},
   "outputs": [
    {
     "name": "stdout",
     "output_type": "stream",
     "text": [
      "2 8 1\n"
     ]
    }
   ],
   "source": [
    "txt = 'A lot of Things Occur Each Day, Every Day.'\n",
    "word_count1 = txt.count('o'); word_count2 = txt.count(' '); word_count3 = txt.count('T')\n",
    "print(word_count1, word_count2, word_count3)"
   ]
  },
  {
   "cell_type": "markdown",
   "metadata": {},
   "source": [
    "## 문자열 분리(split)"
   ]
  },
  {
   "cell_type": "code",
   "execution_count": 3,
   "metadata": {},
   "outputs": [
    {
     "name": "stdout",
     "output_type": "stream",
     "text": [
      "['http:', '', 'www.naver.com', 'news', 'today=20200331']\n",
      "['name:홍길동', 'age:17', 'sex:남성', 'nation:헬조선']\n",
      "['name', '홍길동']\n",
      "['age', '17']\n",
      "['sex', '남성']\n",
      "['nation', '헬조선']\n",
      "name -> 홍길동\n",
      "age -> 17\n",
      "sex -> 남성\n",
      "nation -> 헬조선\n"
     ]
    }
   ],
   "source": [
    "url = 'http://www.naver.com/news/today=20200331'; log = 'name:홍길동 age:17 sex:남성 nation:헬조선';\n",
    "ret1 = url.split('/')\n",
    "print(ret1)\n",
    "\n",
    "ret2 = log.split()  # 괄호안에 빈칸이면 공백기준으로 잘림\n",
    "print(ret2)  # 변수 log 안에 들어있는 문자열이 공백 기준으로 잘려서 총 4개가 리스트 형태로 배열 됨\n",
    "\n",
    "# ret2 name -> 홍길동\n",
    "for stat in ret2:\n",
    "    status = stat.split(':')\n",
    "    print(status)  # 각각의 리스트들이 ':'기준으로 다시 잘려 총 2개가 배열된 리스트 4개가 출력 됨\n",
    "    \n",
    "for stat in ret2:\n",
    "    s1,s2 = stat.split(':')\n",
    "    print('%s -> %s' %(s1,s2))"
   ]
  },
  {
   "cell_type": "markdown",
   "metadata": {},
   "source": [
    "## 문자열 결합(join)"
   ]
  },
  {
   "cell_type": "code",
   "execution_count": 34,
   "metadata": {},
   "outputs": [
    {
     "name": "stdout",
     "output_type": "stream",
     "text": [
      "2020/03/31 11:38:10||200||ok||이 또한 지나가리라\n"
     ]
    }
   ],
   "source": [
    "loglist = ['2020/03/31 11:38:10', '200', 'ok', '이 또한 지나가리라']\n",
    "bond = '||'\n",
    "print(bond.join(loglist))"
   ]
  },
  {
   "cell_type": "markdown",
   "metadata": {},
   "source": [
    "## 문자열 바꾸기(replace)"
   ]
  },
  {
   "cell_type": "code",
   "execution_count": 8,
   "metadata": {},
   "outputs": [
    {
     "name": "stdout",
     "output_type": "stream",
     "text": [
      "My Passward is 2nd right finger\n",
      "My Passward is second R finger\n",
      "항상 많은 일들이 일어납니다.\n",
      "매일 많은 사건이 일어납니다.\n"
     ]
    }
   ],
   "source": [
    "txt = 'My Passward is second right finger'\n",
    "print(txt.replace('second', '2nd'))\n",
    "print(txt.replace('right', 'R'))\n",
    "\n",
    "txt = '매일 많은 일들이 일어납니다.'\n",
    "print(txt.replace('매일', '항상'))\n",
    "print(txt.replace('일들', '사건'))"
   ]
  },
  {
   "cell_type": "markdown",
   "metadata": {},
   "source": [
    "## 문자열 정렬"
   ]
  },
  {
   "cell_type": "code",
   "execution_count": 14,
   "metadata": {},
   "outputs": [
    {
     "name": "stdin",
     "output_type": "stream",
     "text": [
      "정렬할 문자열을 입력하세요: ㅎㄱㅇㅅ\n"
     ]
    },
    {
     "name": "stdout",
     "output_type": "stream",
     "text": [
      "ㅎㄱㅇㅅ\n",
      "['ㄱ', 'ㅅ', 'ㅇ', 'ㅎ']\n",
      "['ㅎ', 'ㅇ', 'ㅅ', 'ㄱ']\n",
      "오름차순으로 정렬된 문자열은 <ㄱㅅㅇㅎ> 입니다.\n",
      "내림차순으로 정렬된 문자열은 <ㅎㅇㅅㄱ> 입니다.\n"
     ]
    }
   ],
   "source": [
    "strdata = input('정렬할 문자열을 입력하세요:')\n",
    "print(strdata)\n",
    "print(sorted(strdata))\n",
    "print(sorted(strdata, reverse=True))\n",
    "ret1 = ''.join(sorted(strdata))\n",
    "ret2 = ''.join(sorted(strdata, reverse=True))\n",
    "print('오름차순으로 정렬된 문자열은 <'+ ret1 +'> 입니다.')\n",
    "print('내림차순으로 정렬된 문자열은 <'+ ret2 +'> 입니다.')"
   ]
  },
  {
   "cell_type": "markdown",
   "metadata": {},
   "source": [
    "## 문자열 포맷팅"
   ]
  },
  {
   "cell_type": "code",
   "execution_count": 23,
   "metadata": {},
   "outputs": [
    {
     "name": "stdout",
     "output_type": "stream",
     "text": [
      "나는 자바보다 파이썬에 더 익숙합니다.\n",
      "5는 10보다 큰 정수입니다.\n",
      "파이썬은 자바보다 5배 더 쉽습니다.\n",
      "5 + 10 = 15\n",
      "작년 세계 경제 성장률은 전년에 비해 5% 증가했다.\n"
     ]
    }
   ],
   "source": [
    "# %s 문자열에 대응\n",
    "# %c 문자나 기호 한개에 대응\n",
    "# %f 실수에 대응\n",
    "# %d 정수에 대응\n",
    "# %% 퍼센트 기호 자체를 의미\n",
    "\n",
    "txt1 = '자바'; txt2 = '파이썬'\n",
    "num1 = 5; num2 = 10\n",
    "print('나는 %s보다 %s에 더 익숙합니다.' %(txt1, txt2))\n",
    "print('%d는 %d보다 큰 정수입니다.' %(num1, num2))\n",
    "print('%s은 %s보다 %d배 더 쉽습니다.' %(txt2, txt1, num1))  # 파이썬은 자바보다 5 배 더 쉽습니다.\n",
    "print('%d + %d = %d' %(num1, num2, num1 + num2))  # 5 + 10 = 15\n",
    "print('작년 세계 경제 성장률은 전년에 비해 %d%% 증가했다.' %(num1))  # 작년 세계 경제 성장률은 전년에 비해 5% 증가했다.\n"
   ]
  },
  {
   "cell_type": "code",
   "execution_count": 14,
   "metadata": {},
   "outputs": [
    {
     "name": "stdout",
     "output_type": "stream",
     "text": [
      "진행률 0%                                                                                                                                                                                                                                                                                                                                                                                                            "
     ]
    }
   ],
   "source": [
    "from time import sleep\n",
    "\n",
    "for i in range(1,101):\n",
    "    msg = '\\r진행률 %d%%' %(100-i)  # \\r 줄의 맨처음\n",
    "    print(' '*len(msg), end='')  # msg 길이만큼 공백묹바를 줄바꿈없이 화면에 출력\n",
    "    print(msg, end='')\n",
    "    sleep(0.1)"
   ]
  },
  {
   "cell_type": "markdown",
   "metadata": {},
   "source": [
    "## 이스케이프 문자"
   ]
  },
  {
   "cell_type": "code",
   "execution_count": 21,
   "metadata": {},
   "outputs": [
    {
     "name": "stdout",
     "output_type": "stream",
     "text": [
      "나는 파이썬을 사랑합니다. \n",
      "파이썬은 자바보다 쉽습니다.\n",
      "Name: John smith\tSex: Male\tAge: 22\n",
      "이 문장은 화면폭에 비해 너무 길어 보기가 힘듭니다. 그래서 \\enter키를 이용해 문장을 다음줄과 연속되도록 했습니다.\n",
      "작은 따옴표(')와 큰 따옴표(\")는 문자열을 정의할 때 사용합니다.\n"
     ]
    }
   ],
   "source": [
    "# \\n 줄바꾸기\n",
    "# \\t 탭\n",
    "print('나는 파이썬을 사랑합니다. \\n파이썬은 자바보다 쉽습니다.')\n",
    "print('Name: John smith\\tSex: Male\\tAge: 22')\n",
    "print('이 문장은 화면폭에 비해 너무 길어 보기가 힘듭니다. \\\n",
    "그래서 \\\\enter키를 이용해 문장을 다음줄과 연속되도록 했습니다.')\n",
    "print('작은 따옴표(\\')와 큰 따옴표(\")는 문자열을 정의할 때 사용합니다.')"
   ]
  },
  {
   "cell_type": "markdown",
   "metadata": {},
   "source": [
    "## 리스트와 튜플"
   ]
  },
  {
   "cell_type": "code",
   "execution_count": 151,
   "metadata": {},
   "outputs": [
    {
     "name": "stdout",
     "output_type": "stream",
     "text": [
      "[1, 'a', 'abc', [1, 2, 3, 4, 5], [6, 'b', 'c']]\n",
      "False\n",
      "True\n",
      "안녕하세요\n",
      "True\n"
     ]
    }
   ],
   "source": [
    "# 리스트\n",
    "list1 = [1, 2, 3, 4, 5]\n",
    "list2 = ['a', 'b', 'c']\n",
    "list3 = [1, 'a', 'abc', [1,2,3,4,5], ['a','b','c']]\n",
    "list3[4][0] = 6\n",
    "print(list3)\n",
    "print(5 in list3)    # 리스트 안의 리스트에 있는 값을 확인하려면\n",
    "print(5 in list3[3]) # 해당 리스트의 인덱스 번호를 한번 더 지정 해줘야 한다.\n",
    "\n",
    "def myfunc():\n",
    "    print('안녕하세요')\n",
    "list4 = [1,2,myfunc]\n",
    "list4[2]()\n",
    "\n",
    "# 튜플\n",
    "tuple1 = (1,2,3,4,5)\n",
    "tuple2 = ('a','b','c')\n",
    "tuple3 = (1,'a','abc',[1,2,3,4,5],['a','b','c'])\n",
    "#tuple1[0] = 6   # 변조가 안됨 -> 보인 좋음 -> 고정된 값 설정\n",
    "#print(tuple1)\n",
    "print(1 in tuple1)"
   ]
  },
  {
   "cell_type": "code",
   "execution_count": 30,
   "metadata": {},
   "outputs": [
    {
     "name": "stdout",
     "output_type": "stream",
     "text": [
      "안녕하세요\n"
     ]
    }
   ],
   "source": [
    "def myfunc():\n",
    "    print('안녕하세요')\n",
    "tuple4 = ([1,2,myfunc],2)\n",
    "tuple4[0][2]()"
   ]
  },
  {
   "cell_type": "markdown",
   "metadata": {},
   "source": [
    "## 사전"
   ]
  },
  {
   "cell_type": "code",
   "execution_count": 15,
   "metadata": {},
   "outputs": [
    {
     "name": "stdout",
     "output_type": "stream",
     "text": [
      "1\n",
      "{'a': 1, 'b': 2, 'c': 3, 'd': 4}\n",
      "{'a': 1, 'b': 7, 'c': 3, 'd': 4}\n",
      "4\n"
     ]
    }
   ],
   "source": [
    "dict1 = {'a':1,'b':2,'c':3}\n",
    "print(dict1['a'])\n",
    "\n",
    "dict1['d'] = 4  # 사전안에 새로운 정의를 추가\n",
    "print(dict1)\n",
    "\n",
    "dict1['b'] = 7\n",
    "print(dict1)\n",
    "print(len(dict1))  # 사전안에 들어 있는 요소 수를 정수 길이로 표현"
   ]
  },
  {
   "cell_type": "markdown",
   "metadata": {},
   "source": [
    "## 함수"
   ]
  },
  {
   "cell_type": "code",
   "execution_count": 35,
   "metadata": {},
   "outputs": [
    {
     "name": "stdout",
     "output_type": "stream",
     "text": [
      "4\n",
      "대한민국최고\n"
     ]
    }
   ],
   "source": [
    "def add_number(n1,n2):\n",
    "    ret=n1+n2\n",
    "    return ret\n",
    "def add_txt(t1,t2):\n",
    "    print(t1+t2)\n",
    "\n",
    "print(add_number(1,3))\n",
    "add_txt('대한민국','최고')"
   ]
  },
  {
   "cell_type": "code",
   "execution_count": 37,
   "metadata": {},
   "outputs": [],
   "source": [
    "# 태극 모양을 그리는 프로그램\n",
    "\n",
    "def taegeuk(n1,n2,n3,n4,n5):\n",
    "    t.bgcolor(n5)\n",
    "    t.speed(0)\n",
    "    for x in range(n1):\n",
    "        if x % 3 == 0:\n",
    "            t.color(n2)\n",
    "        if x % 3 == 1:\n",
    "            t.color(n3)\n",
    "        if x % 3 == 2:\n",
    "            t.color(n4)\n",
    "        t.forward(x * 2)  # x*2 만큼 앞으로 이동(반복하면서 선이 점점 길어진다.)\n",
    "        t.left(119)  # 거북이 119도 왼쪽 회전\n"
   ]
  },
  {
   "cell_type": "code",
   "execution_count": 38,
   "metadata": {},
   "outputs": [],
   "source": [
    "taegeuk(400,'red','yellow','blue','black')"
   ]
  },
  {
   "cell_type": "code",
   "execution_count": 36,
   "metadata": {},
   "outputs": [],
   "source": [
    "import turtle as t\n",
    "t.shape(\"turtle\")"
   ]
  },
  {
   "cell_type": "markdown",
   "metadata": {},
   "source": [
    "## 전역 변수와 지역변수"
   ]
  },
  {
   "cell_type": "code",
   "execution_count": 51,
   "metadata": {},
   "outputs": [],
   "source": [
    "param = 10\n",
    "strdata = '전역변수'\n",
    "\n",
    "def func1():\n",
    "    strdata = '지역변수'\n",
    "    print(strdata)\n",
    "    \n",
    "def func2(param):\n",
    "    param = 1\n",
    "    print(param)\n",
    "    \n",
    "def func3():\n",
    "    global param\n",
    "    param = 50\n",
    "    print(param)\n",
    "    \n"
   ]
  },
  {
   "cell_type": "code",
   "execution_count": 55,
   "metadata": {},
   "outputs": [
    {
     "name": "stdout",
     "output_type": "stream",
     "text": [
      "지역변수\n",
      "전역변수\n",
      "50\n"
     ]
    }
   ],
   "source": [
    "func1()\n",
    "print(strdata)\n",
    "print(param)"
   ]
  },
  {
   "cell_type": "code",
   "execution_count": 46,
   "metadata": {},
   "outputs": [
    {
     "name": "stdout",
     "output_type": "stream",
     "text": [
      "1\n",
      "10\n"
     ]
    }
   ],
   "source": [
    "func2(param)\n",
    "print(param)"
   ]
  },
  {
   "cell_type": "code",
   "execution_count": 54,
   "metadata": {},
   "outputs": [
    {
     "name": "stdout",
     "output_type": "stream",
     "text": [
      "50\n"
     ]
    }
   ],
   "source": [
    "print(param)"
   ]
  },
  {
   "cell_type": "markdown",
   "metadata": {},
   "source": [
    "## 리스트\n",
    "### 순차적인 정수 리스트"
   ]
  },
  {
   "cell_type": "code",
   "execution_count": 9,
   "metadata": {},
   "outputs": [
    {
     "name": "stdout",
     "output_type": "stream",
     "text": [
      "[0, 1, 2, 3, 4, 5, 6, 7, 8, 9]\n"
     ]
    }
   ],
   "source": [
    "range1 = range(10)\n",
    "print(list(range1))"
   ]
  },
  {
   "cell_type": "code",
   "execution_count": 10,
   "metadata": {},
   "outputs": [
    {
     "name": "stdout",
     "output_type": "stream",
     "text": [
      "[10, 11, 12, 13, 14, 15, 16, 17, 18, 19]\n"
     ]
    }
   ],
   "source": [
    "range2 = range(10, 20)\n",
    "print(list(range2))"
   ]
  },
  {
   "cell_type": "code",
   "execution_count": 56,
   "metadata": {},
   "outputs": [
    {
     "name": "stdout",
     "output_type": "stream",
     "text": [
      "[10, 12, 14, 16, 18, 20]\n"
     ]
    }
   ],
   "source": [
    "range3 = range(10, 21, 2)\n",
    "print(list(range3))"
   ]
  },
  {
   "cell_type": "markdown",
   "metadata": {},
   "source": [
    "## 리스트에서 특정 위치 요소 얻기"
   ]
  },
  {
   "cell_type": "code",
   "execution_count": 19,
   "metadata": {},
   "outputs": [
    {
     "name": "stdout",
     "output_type": "stream",
     "text": [
      "2\n",
      "b\n",
      "5\n"
     ]
    }
   ],
   "source": [
    "listdata = [1,2,'a','b','c',[4,5,6]]\n",
    "val1 = listdata[1]\n",
    "val2 = listdata[3]\n",
    "val3 = listdata[5][1]\n",
    "print(val1)\n",
    "print(val2)\n",
    "print(val3)"
   ]
  },
  {
   "cell_type": "markdown",
   "metadata": {},
   "source": [
    "## 특정요소의 위치 구하기(index)"
   ]
  },
  {
   "cell_type": "code",
   "execution_count": 66,
   "metadata": {},
   "outputs": [
    {
     "name": "stdout",
     "output_type": "stream",
     "text": [
      "지구는 리스트안에서 4번째에 위치하고 있습니다.\n",
      "지구는 리스트안에서 10번째에 위치하고 있습니다.\n"
     ]
    }
   ],
   "source": [
    "solarsys = ['태양','수성','금성','지구','화성','목성','토성','천왕성','해왕성','지구']\n",
    "planet = '지구'\n",
    "pos = solarsys.index(planet)\n",
    "print('%s는 리스트안에서 %d번째에 위치하고 있습니다.' %(planet,pos+1))\n",
    "pos = solarsys.index(planet, 4)\n",
    "print('%s는 리스트안에서 %d번째에 위치하고 있습니다.' %(planet,pos+1))"
   ]
  },
  {
   "cell_type": "markdown",
   "metadata": {},
   "source": [
    "## 특정위치 요소 변경"
   ]
  },
  {
   "cell_type": "code",
   "execution_count": 36,
   "metadata": {},
   "outputs": [
    {
     "name": "stdout",
     "output_type": "stream",
     "text": [
      "4\n",
      "['태양', '수성', '금성', '지구', 'Mars', '목성', '토성', '천왕성', '해왕성']\n"
     ]
    }
   ],
   "source": [
    "solarsys = ['태양','수성','금성','지구','화성','목성','토성','천왕성','해왕성']\n",
    "planet = '화성'\n",
    "pos = solarsys.index(planet)\n",
    "print(pos)\n",
    "solarsys[pos] = 'Mars'\n",
    "print(solarsys)\n"
   ]
  },
  {
   "cell_type": "markdown",
   "metadata": {},
   "source": [
    "## 특정구간 요소 추출"
   ]
  },
  {
   "cell_type": "code",
   "execution_count": 42,
   "metadata": {},
   "outputs": [
    {
     "name": "stdout",
     "output_type": "stream",
     "text": [
      "태양계의 암석형 행성: ['수성', '금성', '지구', '화성']\n",
      "태양계의 가스형 행성: ['목성', '토성', '천왕성', '해왕성']\n"
     ]
    }
   ],
   "source": [
    "solarsys = ['태양','수성','금성','지구','화성','목성','토성','천왕성','해왕성']\n",
    "rock_planets = solarsys[1:5]\n",
    "gas_planets = solarsys[5:]\n",
    "print('태양계의 암석형 행성: ', end=''); print(rock_planets)\n",
    "print('태양계의 가스형 행성: ', end=''); print(gas_planets)"
   ]
  },
  {
   "cell_type": "code",
   "execution_count": 71,
   "metadata": {},
   "outputs": [
    {
     "name": "stdout",
     "output_type": "stream",
     "text": [
      "태양계의 암석형 행성: ['수성', '금성', '지구', '화성']\n",
      "태양계의 가스형 행성: ['목성', '토성', '천왕성', '해왕성']\n"
     ]
    }
   ],
   "source": [
    "solarsys = ['태양','수성','금성','지구','화성','목성','토성','천왕성','해왕성']\n",
    "rock_planets = solarsys[1:5]\n",
    "gas_planets = solarsys[5:]\n",
    "print('태양계의 암석형 행성: %s' %rock_planets)\n",
    "print('태양계의 가스형 행성: %s' %gas_planets)"
   ]
  },
  {
   "cell_type": "markdown",
   "metadata": {},
   "source": [
    "## 짝수 번째 요소만 추출"
   ]
  },
  {
   "cell_type": "code",
   "execution_count": 58,
   "metadata": {},
   "outputs": [
    {
     "name": "stdout",
     "output_type": "stream",
     "text": [
      "[2, 4, 6, 8, 10, 12, 14, 16, 18, 20]\n",
      "[2, 4, 6, 8, 10, 12, 14, 16, 18, 20]\n"
     ]
    }
   ],
   "source": [
    "listdata = list(range(2,21,2))\n",
    "print(listdata)\n",
    "listdata = list(range(1,21))\n",
    "print(listdata[1::2])"
   ]
  },
  {
   "cell_type": "markdown",
   "metadata": {},
   "source": [
    "## 요소 추가(append)"
   ]
  },
  {
   "cell_type": "code",
   "execution_count": 77,
   "metadata": {},
   "outputs": [
    {
     "name": "stdin",
     "output_type": "stream",
     "text": [
      "리스트에 추가할 값을 입력하세요[1/3]:  i\n"
     ]
    },
    {
     "name": "stdout",
     "output_type": "stream",
     "text": [
      "i\n"
     ]
    },
    {
     "name": "stdin",
     "output_type": "stream",
     "text": [
      "리스트에 추가할 값을 입력하세요[2/3]:  love\n"
     ]
    },
    {
     "name": "stdout",
     "output_type": "stream",
     "text": [
      "i love\n"
     ]
    },
    {
     "name": "stdin",
     "output_type": "stream",
     "text": [
      "리스트에 추가할 값을 입력하세요[3/3]:  you\n"
     ]
    },
    {
     "name": "stdout",
     "output_type": "stream",
     "text": [
      "i love you\n"
     ]
    }
   ],
   "source": [
    "listdata = []\n",
    "for x in range(3):\n",
    "    txt = input('리스트에 추가할 값을 입력하세요[%d/3]: ' %(x+1))\n",
    "    listdata.append(txt)\n",
    "    bond = ' '\n",
    "    print(bond.join(listdata))"
   ]
  },
  {
   "cell_type": "markdown",
   "metadata": {},
   "source": [
    "## 특정위치 요소 삽입(insert)"
   ]
  },
  {
   "cell_type": "code",
   "execution_count": 82,
   "metadata": {},
   "outputs": [
    {
     "name": "stdout",
     "output_type": "stream",
     "text": [
      "5\n",
      "['태양', '수성', '금성', '지구', '화성', '소행성', '목성', '토성', '천왕성', '해왕성']\n"
     ]
    }
   ],
   "source": [
    "solarsys = ['태양','수성','금성','지구','화성','목성','토성','천왕성','해왕성']\n",
    "pos = solarsys.index('목성')\n",
    "print(pos)\n",
    "solarsys.insert(pos,'소행성')\n",
    "print(solarsys)"
   ]
  },
  {
   "cell_type": "markdown",
   "metadata": {},
   "source": [
    "## 특정위치 요소 제거(del)"
   ]
  },
  {
   "cell_type": "code",
   "execution_count": 129,
   "metadata": {},
   "outputs": [
    {
     "name": "stdout",
     "output_type": "stream",
     "text": [
      "['수성', '금성', '지구', '화성', '목성', '토성', '천왕성', '해왕성']\n",
      "['수성', '금성', '지구', '화성', '목성', '토성', '해왕성']\n",
      "['태양', '수성', '금성', '지구', '화성', '목성', '토성', '해왕성']\n",
      "['태양', '수성', '금성', '지구', '화성', '목성', '토성', '천왕성', '해왕성']\n",
      "['태양', '수성', '금성', '지구']\n",
      "['태양', '수성', '금성', '지구', '화성', '목성', '토성', '천왕성', '해왕성']\n",
      "[]\n"
     ]
    }
   ],
   "source": [
    "solarsys = ['태양','수성','금성','지구','화성','목성','토성','천왕성','해왕성']\n",
    "append = solarsys[4]\n",
    "append1 = solarsys[5]\n",
    "append2 = solarsys[6]\n",
    "append3 = solarsys[7]\n",
    "append4 = solarsys[8]\n",
    "del solarsys[0]\n",
    "print(solarsys)\n",
    "del solarsys[-2]\n",
    "print(solarsys)\n",
    "solarsys.insert(0,'태양')\n",
    "print(solarsys)\n",
    "solarsys.insert(-1,'천왕성')\n",
    "print(solarsys)\n",
    "del solarsys[4:]\n",
    "print(solarsys)\n",
    "solarsys.append(append)\n",
    "solarsys.append(append1)\n",
    "solarsys.append(append2)\n",
    "solarsys.append(append3)\n",
    "solarsys.append(append4)\n",
    "print(solarsys)\n",
    "solarsys.clear()\n",
    "print(solarsys)"
   ]
  },
  {
   "cell_type": "code",
   "execution_count": 131,
   "metadata": {},
   "outputs": [
    {
     "ename": "AttributeError",
     "evalue": "'tuple' object has no attribute 'clear'",
     "output_type": "error",
     "traceback": [
      "\u001b[0;31m---------------------------------------------------------------------------\u001b[0m",
      "\u001b[0;31mAttributeError\u001b[0m                            Traceback (most recent call last)",
      "\u001b[0;32m<ipython-input-131-6453af65b97e>\u001b[0m in \u001b[0;36m<module>\u001b[0;34m\u001b[0m\n\u001b[1;32m      1\u001b[0m \u001b[0msolarsys\u001b[0m \u001b[0;34m=\u001b[0m \u001b[0;34m(\u001b[0m\u001b[0;34m'태양'\u001b[0m\u001b[0;34m,\u001b[0m\u001b[0;34m'수성'\u001b[0m\u001b[0;34m,\u001b[0m\u001b[0;34m'금성'\u001b[0m\u001b[0;34m,\u001b[0m\u001b[0;34m'지구'\u001b[0m\u001b[0;34m,\u001b[0m\u001b[0;34m'화성'\u001b[0m\u001b[0;34m,\u001b[0m\u001b[0;34m'목성'\u001b[0m\u001b[0;34m,\u001b[0m\u001b[0;34m'토성'\u001b[0m\u001b[0;34m,\u001b[0m\u001b[0;34m'천왕성'\u001b[0m\u001b[0;34m,\u001b[0m\u001b[0;34m'해왕성'\u001b[0m\u001b[0;34m)\u001b[0m\u001b[0;34m\u001b[0m\u001b[0;34m\u001b[0m\u001b[0m\n\u001b[0;32m----> 2\u001b[0;31m \u001b[0msolarsys\u001b[0m\u001b[0;34m.\u001b[0m\u001b[0mclear\u001b[0m\u001b[0;34m(\u001b[0m\u001b[0;34m)\u001b[0m\u001b[0;34m\u001b[0m\u001b[0;34m\u001b[0m\u001b[0m\n\u001b[0m\u001b[1;32m      3\u001b[0m \u001b[0mprint\u001b[0m\u001b[0;34m(\u001b[0m\u001b[0msolarsys\u001b[0m\u001b[0;34m)\u001b[0m\u001b[0;34m\u001b[0m\u001b[0;34m\u001b[0m\u001b[0m\n",
      "\u001b[0;31mAttributeError\u001b[0m: 'tuple' object has no attribute 'clear'"
     ]
    }
   ],
   "source": [
    "solarsys = ('태양','수성','금성','지구','화성','목성','토성','천왕성','해왕성')\n",
    "solarsys.clear()\n",
    "print(solarsys)"
   ]
  },
  {
   "cell_type": "markdown",
   "metadata": {},
   "source": [
    "## 특정 요소 제거(remove)"
   ]
  },
  {
   "cell_type": "code",
   "execution_count": 117,
   "metadata": {},
   "outputs": [
    {
     "name": "stdout",
     "output_type": "stream",
     "text": [
      "['수성', '금성', '지구', '화성', '목성', '토성', '천왕성', '해왕성']\n"
     ]
    }
   ],
   "source": [
    "solarsys = ['태양','수성','금성','지구','화성','목성','토성','천왕성','해왕성']\n",
    "solarsys.remove('태양')  # 리스트 안에 있는 값의 이름을 1개 지정하여 삭제\n",
    "print(solarsys)"
   ]
  },
  {
   "cell_type": "markdown",
   "metadata": {},
   "source": [
    "## 특정구간 요소 제거(del) "
   ]
  },
  {
   "cell_type": "code",
   "execution_count": 118,
   "metadata": {},
   "outputs": [
    {
     "name": "stdout",
     "output_type": "stream",
     "text": [
      "['수성', '지구', '목성', '천왕성']\n"
     ]
    }
   ],
   "source": [
    "solarsys = ['태양','수성','금성','지구','화성','목성','토성','천왕성','해왕성']\n",
    "del solarsys[::2] # del solarsys[:9:2] or del solarsys[0:9:2] 와 모두 같음\n",
    "print(solarsys)"
   ]
  },
  {
   "cell_type": "code",
   "execution_count": 83,
   "metadata": {},
   "outputs": [
    {
     "name": "stdout",
     "output_type": "stream",
     "text": [
      "['토성', '천왕성', '해왕성']\n"
     ]
    }
   ],
   "source": [
    "solarsys = ['태양','수성','금성','지구','화성','목성','토성','천왕성','해왕성']\n",
    "del solarsys[0:6]\n",
    "print(solarsys)"
   ]
  },
  {
   "cell_type": "markdown",
   "metadata": {},
   "source": [
    "## 리스트 제거"
   ]
  },
  {
   "cell_type": "code",
   "execution_count": 82,
   "metadata": {},
   "outputs": [
    {
     "ename": "NameError",
     "evalue": "name 'solarsys' is not defined",
     "output_type": "error",
     "traceback": [
      "\u001b[0;31m---------------------------------------------------------------------------\u001b[0m",
      "\u001b[0;31mNameError\u001b[0m                                 Traceback (most recent call last)",
      "\u001b[0;32m<ipython-input-82-33b0ee04ffa2>\u001b[0m in \u001b[0;36m<module>\u001b[0;34m\u001b[0m\n\u001b[1;32m      1\u001b[0m \u001b[0msolarsys\u001b[0m \u001b[0;34m=\u001b[0m \u001b[0;34m[\u001b[0m\u001b[0;34m'태양'\u001b[0m\u001b[0;34m,\u001b[0m\u001b[0;34m'수성'\u001b[0m\u001b[0;34m,\u001b[0m\u001b[0;34m'금성'\u001b[0m\u001b[0;34m,\u001b[0m\u001b[0;34m'지구'\u001b[0m\u001b[0;34m,\u001b[0m\u001b[0;34m'화성'\u001b[0m\u001b[0;34m,\u001b[0m\u001b[0;34m'목성'\u001b[0m\u001b[0;34m,\u001b[0m\u001b[0;34m'토성'\u001b[0m\u001b[0;34m,\u001b[0m\u001b[0;34m'천왕성'\u001b[0m\u001b[0;34m,\u001b[0m\u001b[0;34m'해왕성'\u001b[0m\u001b[0;34m]\u001b[0m\u001b[0;34m\u001b[0m\u001b[0;34m\u001b[0m\u001b[0m\n\u001b[1;32m      2\u001b[0m \u001b[0;32mdel\u001b[0m \u001b[0msolarsys\u001b[0m\u001b[0;34m\u001b[0m\u001b[0;34m\u001b[0m\u001b[0m\n\u001b[0;32m----> 3\u001b[0;31m \u001b[0mprint\u001b[0m\u001b[0;34m(\u001b[0m\u001b[0msolarsys\u001b[0m\u001b[0;34m)\u001b[0m\u001b[0;34m\u001b[0m\u001b[0;34m\u001b[0m\u001b[0m\n\u001b[0m",
      "\u001b[0;31mNameError\u001b[0m: name 'solarsys' is not defined"
     ]
    }
   ],
   "source": [
    "solarsys = ['태양','수성','금성','지구','화성','목성','토성','천왕성','해왕성']\n",
    "del solarsys\n",
    "print(solarsys)"
   ]
  },
  {
   "cell_type": "markdown",
   "metadata": {},
   "source": [
    "## 정렬(sort)"
   ]
  },
  {
   "cell_type": "markdown",
   "metadata": {},
   "source": [
    "#### 딕셔너리는 dict.sort() 형태는 불가능 -> 변수 = sorted(dict) 형태만 가능"
   ]
  },
  {
   "cell_type": "code",
   "execution_count": 127,
   "metadata": {},
   "outputs": [
    {
     "name": "stdout",
     "output_type": "stream",
     "text": [
      "['Aimy', 'Bob', 'Kelly', 'Mary', 'Michale', 'Sams', 'Tom']\n"
     ]
    }
   ],
   "source": [
    "# 정렬 1\n",
    "namelist = ['Mary','Sams','Aimy','Tom','Michale','Bob','Kelly']\n",
    "namelist.sort()\n",
    "print(namelist)"
   ]
  },
  {
   "cell_type": "code",
   "execution_count": 128,
   "metadata": {},
   "outputs": [
    {
     "name": "stdout",
     "output_type": "stream",
     "text": [
      "['Tom', 'Sams', 'Michale', 'Mary', 'Kelly', 'Bob', 'Aimy']\n"
     ]
    }
   ],
   "source": [
    "# 정렬 2\n",
    "namelist = ['Mary','Sams','Aimy','Tom','Michale','Bob','Kelly']\n",
    "namelist.sort(reverse=True)\n",
    "print(namelist)"
   ]
  },
  {
   "cell_type": "code",
   "execution_count": 124,
   "metadata": {},
   "outputs": [
    {
     "name": "stdout",
     "output_type": "stream",
     "text": [
      "['Aimy', 'Bob', 'Kelly', 'Mary', 'Michale', 'Sams', 'Tom']\n"
     ]
    }
   ],
   "source": [
    "# 정렬 3\n",
    "namelist = ['Mary','Sams','Aimy','Tom','Michale','Bob','Kelly']\n",
    "print(sorted(namelist))"
   ]
  },
  {
   "cell_type": "code",
   "execution_count": 88,
   "metadata": {},
   "outputs": [
    {
     "name": "stdout",
     "output_type": "stream",
     "text": [
      "['Tom', 'Sams', 'Michale', 'Mary', 'Kelly', 'Bob', 'Aimy']\n"
     ]
    }
   ],
   "source": [
    "# 정렬 4\n",
    "namelist = ['Mary','Sams','Aimy','Tom','Michale','Bob','Kelly']\n",
    "print(sorted(namelist, reverse=True))"
   ]
  },
  {
   "cell_type": "code",
   "execution_count": 98,
   "metadata": {},
   "outputs": [
    {
     "name": "stdout",
     "output_type": "stream",
     "text": [
      "[1, 2, 3, 4, 5, 6, 7, 8, 9, 10]\n",
      "[2, 5, 6, 3, 9, 8, 1, 7, 4, 10]\n",
      "[4, 3, 8, 1, 7, 5, 2, 10, 9, 6]\n",
      "[10, 1, 8, 6, 9, 3, 7, 2, 4, 5]\n"
     ]
    }
   ],
   "source": [
    "# 섞기(shuffle)\n",
    "from random import shuffle\n",
    "\n",
    "listdata = list(range(1,11))\n",
    "print(listdata)\n",
    "for x in range(3):\n",
    "    shuffle(listdata)\n",
    "    print(listdata)"
   ]
  },
  {
   "cell_type": "code",
   "execution_count": null,
   "metadata": {},
   "outputs": [],
   "source": []
  },
  {
   "cell_type": "code",
   "execution_count": null,
   "metadata": {},
   "outputs": [],
   "source": []
  },
  {
   "cell_type": "code",
   "execution_count": null,
   "metadata": {},
   "outputs": [],
   "source": []
  },
  {
   "cell_type": "code",
   "execution_count": null,
   "metadata": {},
   "outputs": [],
   "source": []
  },
  {
   "cell_type": "code",
   "execution_count": null,
   "metadata": {},
   "outputs": [],
   "source": []
  },
  {
   "cell_type": "code",
   "execution_count": null,
   "metadata": {},
   "outputs": [],
   "source": []
  },
  {
   "cell_type": "code",
   "execution_count": null,
   "metadata": {},
   "outputs": [],
   "source": []
  },
  {
   "cell_type": "code",
   "execution_count": null,
   "metadata": {},
   "outputs": [],
   "source": []
  },
  {
   "cell_type": "code",
   "execution_count": null,
   "metadata": {},
   "outputs": [],
   "source": []
  }
 ],
 "metadata": {
  "kernelspec": {
   "display_name": "Python 3",
   "language": "python",
   "name": "python3"
  },
  "language_info": {
   "codemirror_mode": {
    "name": "ipython",
    "version": 3
   },
   "file_extension": ".py",
   "mimetype": "text/x-python",
   "name": "python",
   "nbconvert_exporter": "python",
   "pygments_lexer": "ipython3",
   "version": "3.7.6"
  }
 },
 "nbformat": 4,
 "nbformat_minor": 4
}
