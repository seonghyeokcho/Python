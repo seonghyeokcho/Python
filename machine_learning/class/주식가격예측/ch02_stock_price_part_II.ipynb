{
 "cells": [
  {
   "cell_type": "code",
   "execution_count": 17,
   "metadata": {},
   "outputs": [],
   "source": [
    "import pandas as pd\n",
    "import numpy as np\n",
    "import matplotlib.pyplot as plt\n",
    "from sklearn.metrics import r2_score\n",
    "%matplotlib inline"
   ]
  },
  {
   "cell_type": "code",
   "execution_count": 18,
   "metadata": {},
   "outputs": [
    {
     "data": {
      "text/html": [
       "<div>\n",
       "<style scoped>\n",
       "    .dataframe tbody tr th:only-of-type {\n",
       "        vertical-align: middle;\n",
       "    }\n",
       "\n",
       "    .dataframe tbody tr th {\n",
       "        vertical-align: top;\n",
       "    }\n",
       "\n",
       "    .dataframe thead th {\n",
       "        text-align: right;\n",
       "    }\n",
       "</style>\n",
       "<table border=\"1\" class=\"dataframe\">\n",
       "  <thead>\n",
       "    <tr style=\"text-align: right;\">\n",
       "      <th></th>\n",
       "      <th>prices</th>\n",
       "      <th>compound</th>\n",
       "      <th>neg</th>\n",
       "      <th>neu</th>\n",
       "      <th>pos</th>\n",
       "    </tr>\n",
       "  </thead>\n",
       "  <tbody>\n",
       "    <tr>\n",
       "      <th>2007-01-01</th>\n",
       "      <td>12469</td>\n",
       "      <td>-0.9851</td>\n",
       "      <td>0.160</td>\n",
       "      <td>0.738</td>\n",
       "      <td>0.102</td>\n",
       "    </tr>\n",
       "    <tr>\n",
       "      <th>2007-01-02</th>\n",
       "      <td>12472</td>\n",
       "      <td>0.4395</td>\n",
       "      <td>0.117</td>\n",
       "      <td>0.775</td>\n",
       "      <td>0.109</td>\n",
       "    </tr>\n",
       "    <tr>\n",
       "      <th>2007-01-03</th>\n",
       "      <td>12474</td>\n",
       "      <td>-0.9995</td>\n",
       "      <td>0.192</td>\n",
       "      <td>0.748</td>\n",
       "      <td>0.060</td>\n",
       "    </tr>\n",
       "    <tr>\n",
       "      <th>2007-01-04</th>\n",
       "      <td>12480</td>\n",
       "      <td>-0.9973</td>\n",
       "      <td>0.113</td>\n",
       "      <td>0.827</td>\n",
       "      <td>0.060</td>\n",
       "    </tr>\n",
       "    <tr>\n",
       "      <th>2007-01-05</th>\n",
       "      <td>12398</td>\n",
       "      <td>0.9726</td>\n",
       "      <td>0.082</td>\n",
       "      <td>0.829</td>\n",
       "      <td>0.089</td>\n",
       "    </tr>\n",
       "  </tbody>\n",
       "</table>\n",
       "</div>"
      ],
      "text/plain": [
       "            prices  compound    neg    neu    pos\n",
       "2007-01-01   12469   -0.9851  0.160  0.738  0.102\n",
       "2007-01-02   12472    0.4395  0.117  0.775  0.109\n",
       "2007-01-03   12474   -0.9995  0.192  0.748  0.060\n",
       "2007-01-04   12480   -0.9973  0.113  0.827  0.060\n",
       "2007-01-05   12398    0.9726  0.082  0.829  0.089"
      ]
     },
     "execution_count": 18,
     "metadata": {},
     "output_type": "execute_result"
    }
   ],
   "source": [
    "df = pd.read_pickle('data/train_set.pkl')\n",
    "df.head()"
   ]
  },
  {
   "cell_type": "code",
   "execution_count": 3,
   "metadata": {},
   "outputs": [
    {
     "data": {
      "text/html": [
       "<div>\n",
       "<style scoped>\n",
       "    .dataframe tbody tr th:only-of-type {\n",
       "        vertical-align: middle;\n",
       "    }\n",
       "\n",
       "    .dataframe tbody tr th {\n",
       "        vertical-align: top;\n",
       "    }\n",
       "\n",
       "    .dataframe thead th {\n",
       "        text-align: right;\n",
       "    }\n",
       "</style>\n",
       "<table border=\"1\" class=\"dataframe\">\n",
       "  <thead>\n",
       "    <tr style=\"text-align: right;\">\n",
       "      <th></th>\n",
       "      <th>prices</th>\n",
       "      <th>compound</th>\n",
       "      <th>neg</th>\n",
       "      <th>neu</th>\n",
       "      <th>pos</th>\n",
       "    </tr>\n",
       "  </thead>\n",
       "  <tbody>\n",
       "    <tr>\n",
       "      <th>2016-12-27</th>\n",
       "      <td>19945</td>\n",
       "      <td>-0.9845</td>\n",
       "      <td>0.150</td>\n",
       "      <td>0.748</td>\n",
       "      <td>0.102</td>\n",
       "    </tr>\n",
       "    <tr>\n",
       "      <th>2016-12-28</th>\n",
       "      <td>19833</td>\n",
       "      <td>0.5733</td>\n",
       "      <td>0.113</td>\n",
       "      <td>0.783</td>\n",
       "      <td>0.104</td>\n",
       "    </tr>\n",
       "    <tr>\n",
       "      <th>2016-12-29</th>\n",
       "      <td>19819</td>\n",
       "      <td>-0.9866</td>\n",
       "      <td>0.144</td>\n",
       "      <td>0.758</td>\n",
       "      <td>0.099</td>\n",
       "    </tr>\n",
       "    <tr>\n",
       "      <th>2016-12-30</th>\n",
       "      <td>19819</td>\n",
       "      <td>-0.9961</td>\n",
       "      <td>0.165</td>\n",
       "      <td>0.742</td>\n",
       "      <td>0.093</td>\n",
       "    </tr>\n",
       "    <tr>\n",
       "      <th>2016-12-31</th>\n",
       "      <td>19819</td>\n",
       "      <td>0.8577</td>\n",
       "      <td>0.155</td>\n",
       "      <td>0.683</td>\n",
       "      <td>0.162</td>\n",
       "    </tr>\n",
       "  </tbody>\n",
       "</table>\n",
       "</div>"
      ],
      "text/plain": [
       "            prices  compound    neg    neu    pos\n",
       "2016-12-27   19945   -0.9845  0.150  0.748  0.102\n",
       "2016-12-28   19833    0.5733  0.113  0.783  0.104\n",
       "2016-12-29   19819   -0.9866  0.144  0.758  0.099\n",
       "2016-12-30   19819   -0.9961  0.165  0.742  0.093\n",
       "2016-12-31   19819    0.8577  0.155  0.683  0.162"
      ]
     },
     "execution_count": 3,
     "metadata": {},
     "output_type": "execute_result"
    }
   ],
   "source": [
    "df.tail()"
   ]
  },
  {
   "cell_type": "code",
   "execution_count": 4,
   "metadata": {},
   "outputs": [],
   "source": [
    "train_end = '2014-12-31'\n",
    "test_start = '2015-01-01'\n",
    "train_x = df.loc[:train_end]\n",
    "test_x = df.loc[test_start:]\n",
    "train_y = train_x.prices\n",
    "test_y = test_x.prices\n",
    "train_x = train_x.drop('prices', axis='columns')\n",
    "test_x = test_x.drop('prices', axis='columns')"
   ]
  },
  {
   "cell_type": "code",
   "execution_count": 5,
   "metadata": {},
   "outputs": [
    {
     "data": {
      "text/plain": [
       "RandomForestRegressor(bootstrap=True, ccp_alpha=0.0, criterion='mse',\n",
       "                      max_depth=None, max_features='auto', max_leaf_nodes=None,\n",
       "                      max_samples=None, min_impurity_decrease=0.0,\n",
       "                      min_impurity_split=None, min_samples_leaf=1,\n",
       "                      min_samples_split=2, min_weight_fraction_leaf=0.0,\n",
       "                      n_estimators=100, n_jobs=None, oob_score=False,\n",
       "                      random_state=None, verbose=0, warm_start=False)"
      ]
     },
     "execution_count": 5,
     "metadata": {},
     "output_type": "execute_result"
    }
   ],
   "source": [
    "from sklearn.ensemble import RandomForestRegressor\n",
    "\n",
    "rf = RandomForestRegressor()\n",
    "rf.fit(train_x, train_y)"
   ]
  },
  {
   "cell_type": "code",
   "execution_count": 6,
   "metadata": {},
   "outputs": [
    {
     "name": "stdout",
     "output_type": "stream",
     "text": [
      "(2921, 4) (730, 4)\n"
     ]
    }
   ],
   "source": [
    "print(train_x.shape, test_x.shape)"
   ]
  },
  {
   "cell_type": "code",
   "execution_count": 7,
   "metadata": {},
   "outputs": [
    {
     "data": {
      "text/html": [
       "<div>\n",
       "<style scoped>\n",
       "    .dataframe tbody tr th:only-of-type {\n",
       "        vertical-align: middle;\n",
       "    }\n",
       "\n",
       "    .dataframe tbody tr th {\n",
       "        vertical-align: top;\n",
       "    }\n",
       "\n",
       "    .dataframe thead th {\n",
       "        text-align: right;\n",
       "    }\n",
       "</style>\n",
       "<table border=\"1\" class=\"dataframe\">\n",
       "  <thead>\n",
       "    <tr style=\"text-align: right;\">\n",
       "      <th></th>\n",
       "      <th>pred_prices</th>\n",
       "    </tr>\n",
       "  </thead>\n",
       "  <tbody>\n",
       "    <tr>\n",
       "      <th>2015-01-01</th>\n",
       "      <td>11964.94</td>\n",
       "    </tr>\n",
       "    <tr>\n",
       "      <th>2015-01-02</th>\n",
       "      <td>13529.01</td>\n",
       "    </tr>\n",
       "    <tr>\n",
       "      <th>2015-01-03</th>\n",
       "      <td>11534.99</td>\n",
       "    </tr>\n",
       "    <tr>\n",
       "      <th>2015-01-04</th>\n",
       "      <td>12446.20</td>\n",
       "    </tr>\n",
       "    <tr>\n",
       "      <th>2015-01-05</th>\n",
       "      <td>12303.85</td>\n",
       "    </tr>\n",
       "  </tbody>\n",
       "</table>\n",
       "</div>"
      ],
      "text/plain": [
       "            pred_prices\n",
       "2015-01-01     11964.94\n",
       "2015-01-02     13529.01\n",
       "2015-01-03     11534.99\n",
       "2015-01-04     12446.20\n",
       "2015-01-05     12303.85"
      ]
     },
     "execution_count": 7,
     "metadata": {},
     "output_type": "execute_result"
    }
   ],
   "source": [
    "pred = rf.predict(test_x)\n",
    "pred_df = pd.DataFrame(data=pred, index=test_x.index, columns=['pred_prices'])\n",
    "pred_df.head()"
   ]
  },
  {
   "cell_type": "code",
   "execution_count": 8,
   "metadata": {},
   "outputs": [
    {
     "data": {
      "text/plain": [
       "-38.241619594342474"
      ]
     },
     "execution_count": 8,
     "metadata": {},
     "output_type": "execute_result"
    }
   ],
   "source": [
    "r2_score(test_y, pred_df)"
   ]
  },
  {
   "cell_type": "code",
   "execution_count": 9,
   "metadata": {},
   "outputs": [
    {
     "data": {
      "image/png": "[encoded data removed]",
      "text/plain": [
       "<Figure size 432x288 with 1 Axes>"
      ]
     },
     "metadata": {
      "needs_background": "light"
     },
     "output_type": "display_data"
    }
   ],
   "source": [
    "ax = pred_df.plot()\n",
    "fig = pd.DataFrame(test_y).plot(ax=ax)"
   ]
  },
  {
   "cell_type": "code",
   "execution_count": 10,
   "metadata": {},
   "outputs": [],
   "source": [
    "train_pred = rf.predict(train_x)\n",
    "train_pred = pd.Series(train_pred, index=train_x.index)"
   ]
  },
  {
   "cell_type": "code",
   "execution_count": 11,
   "metadata": {},
   "outputs": [
    {
     "data": {
      "text/plain": [
       "2921"
      ]
     },
     "execution_count": 11,
     "metadata": {},
     "output_type": "execute_result"
    }
   ],
   "source": [
    "len(train_x)"
   ]
  },
  {
   "cell_type": "code",
   "execution_count": 12,
   "metadata": {},
   "outputs": [
    {
     "data": {
      "text/plain": [
       "array([   5,   10,   15,   20,   25,   30,   35,   40,   45,   50,   55,\n",
       "         60,   65,   70,   75,   80,   85,   90,   95,  100,  105,  110,\n",
       "        115,  120,  125,  130,  135,  140,  145,  150,  155,  160,  165,\n",
       "        170,  175,  180,  185,  190,  195,  200,  205,  210,  215,  220,\n",
       "        225,  230,  235,  240,  245,  250,  255,  260,  265,  270,  275,\n",
       "        280,  285,  290,  295,  300,  305,  310,  315,  320,  325,  330,\n",
       "        335,  340,  345,  350,  355,  360,  365,  370,  375,  380,  385,\n",
       "        390,  395,  400,  405,  410,  415,  420,  425,  430,  435,  440,\n",
       "        445,  450,  455,  460,  465,  470,  475,  480,  485,  490,  495,\n",
       "        500,  505,  510,  515,  520,  525,  530,  535,  540,  545,  550,\n",
       "        555,  560,  565,  570,  575,  580,  585,  590,  595,  600,  605,\n",
       "        610,  615,  620,  625,  630,  635,  640,  645,  650,  655,  660,\n",
       "        665,  670,  675,  680,  685,  690,  695,  700,  705,  710,  715,\n",
       "        720,  725,  730,  735,  740,  745,  750,  755,  760,  765,  770,\n",
       "        775,  780,  785,  790,  795,  800,  805,  810,  815,  820,  825,\n",
       "        830,  835,  840,  845,  850,  855,  860,  865,  870,  875,  880,\n",
       "        885,  890,  895,  900,  905,  910,  915,  920,  925,  930,  935,\n",
       "        940,  945,  950,  955,  960,  965,  970,  975,  980,  985,  990,\n",
       "        995, 1000, 1005, 1010, 1015, 1020, 1025, 1030, 1035, 1040, 1045,\n",
       "       1050, 1055, 1060, 1065, 1070, 1075, 1080, 1085, 1090, 1095, 1100,\n",
       "       1105, 1110, 1115, 1120, 1125, 1130, 1135, 1140, 1145, 1150, 1155,\n",
       "       1160, 1165, 1170, 1175, 1180, 1185, 1190, 1195, 1200, 1205, 1210,\n",
       "       1215, 1220, 1225, 1230, 1235, 1240, 1245, 1250, 1255, 1260, 1265,\n",
       "       1270, 1275, 1280, 1285, 1290, 1295, 1300, 1305, 1310, 1315, 1320,\n",
       "       1325, 1330, 1335, 1340, 1345, 1350, 1355, 1360, 1365, 1370, 1375,\n",
       "       1380, 1385, 1390, 1395, 1400, 1405, 1410, 1415, 1420, 1425, 1430,\n",
       "       1435, 1440, 1445, 1450, 1455, 1460, 1465, 1470, 1475, 1480, 1485,\n",
       "       1490, 1495, 1500, 1505, 1510, 1515, 1520, 1525, 1530, 1535, 1540,\n",
       "       1545, 1550, 1555, 1560, 1565, 1570, 1575, 1580, 1585, 1590, 1595,\n",
       "       1600, 1605, 1610, 1615, 1620, 1625, 1630, 1635, 1640, 1645, 1650,\n",
       "       1655, 1660, 1665, 1670, 1675, 1680, 1685, 1690, 1695, 1700, 1705,\n",
       "       1710, 1715, 1720, 1725, 1730, 1735, 1740, 1745, 1750, 1755, 1760,\n",
       "       1765, 1770, 1775, 1780, 1785, 1790, 1795, 1800, 1805, 1810, 1815,\n",
       "       1820, 1825, 1830, 1835, 1840, 1845, 1850, 1855, 1860, 1865, 1870,\n",
       "       1875, 1880, 1885, 1890, 1895, 1900, 1905, 1910, 1915, 1920, 1925,\n",
       "       1930, 1935, 1940, 1945, 1950, 1955, 1960, 1965, 1970, 1975, 1980,\n",
       "       1985, 1990, 1995, 2000, 2005, 2010, 2015, 2020, 2025, 2030, 2035,\n",
       "       2040, 2045, 2050, 2055, 2060, 2065, 2070, 2075, 2080, 2085, 2090,\n",
       "       2095, 2100, 2105, 2110, 2115, 2120, 2125, 2130, 2135, 2140, 2145,\n",
       "       2150, 2155, 2160, 2165, 2170, 2175, 2180, 2185, 2190, 2195, 2200,\n",
       "       2205, 2210, 2215, 2220, 2225, 2230, 2235, 2240, 2245, 2250, 2255,\n",
       "       2260, 2265, 2270, 2275, 2280, 2285, 2290, 2295, 2300, 2305, 2310,\n",
       "       2315, 2320, 2325, 2330, 2335, 2340, 2345, 2350, 2355, 2360, 2365,\n",
       "       2370, 2375, 2380, 2385, 2390, 2395, 2400, 2405, 2410, 2415, 2420,\n",
       "       2425, 2430, 2435, 2440, 2445, 2450, 2455, 2460, 2465, 2470, 2475,\n",
       "       2480, 2485, 2490, 2495, 2500, 2505, 2510, 2515, 2520, 2525, 2530,\n",
       "       2535, 2540, 2545, 2550, 2555, 2560, 2565, 2570, 2575, 2580, 2585,\n",
       "       2590, 2595, 2600, 2605, 2610, 2615, 2620, 2625, 2630, 2635, 2640,\n",
       "       2645, 2650, 2655, 2660, 2665, 2670, 2675, 2680, 2685, 2690, 2695,\n",
       "       2700, 2705, 2710, 2715, 2720, 2725, 2730, 2735, 2740, 2745, 2750,\n",
       "       2755, 2760, 2765, 2770, 2775, 2780, 2785, 2790, 2795, 2800, 2805,\n",
       "       2810, 2815, 2820, 2825, 2830, 2835, 2840, 2845, 2850, 2855, 2860,\n",
       "       2865, 2870, 2875, 2880, 2885, 2890, 2895, 2900, 2905, 2910, 2915])"
      ]
     },
     "execution_count": 12,
     "metadata": {},
     "output_type": "execute_result"
    }
   ],
   "source": [
    "days = 5\n",
    "day_int = np.arange(days, len(train_x)-days, days)\n",
    "day_int"
   ]
  },
  {
   "cell_type": "code",
   "execution_count": 13,
   "metadata": {},
   "outputs": [
    {
     "data": {
      "text/plain": [
       "5.238967009719884"
      ]
     },
     "execution_count": 13,
     "metadata": {},
     "output_type": "execute_result"
    }
   ],
   "source": [
    "days = 5\n",
    "day_int = np.arange(days, len(train_x)-days, days)\n",
    "total_days=0\n",
    "mean_diff = 0\n",
    "for day in day_int:\n",
    "    act_mean = train_y[(day-days):day].mean()\n",
    "    pred_mean = train_pred[day:(day+days)].mean()\n",
    "    mean_diff += (pred_mean-act_mean)\n",
    "    total_days += 1\n",
    "mean_diff = mean_diff / total_days\n",
    "mean_diff"
   ]
  },
  {
   "cell_type": "code",
   "execution_count": 14,
   "metadata": {},
   "outputs": [
    {
     "data": {
      "text/html": [
       "<div>\n",
       "<style scoped>\n",
       "    .dataframe tbody tr th:only-of-type {\n",
       "        vertical-align: middle;\n",
       "    }\n",
       "\n",
       "    .dataframe tbody tr th {\n",
       "        vertical-align: top;\n",
       "    }\n",
       "\n",
       "    .dataframe thead th {\n",
       "        text-align: right;\n",
       "    }\n",
       "</style>\n",
       "<table border=\"1\" class=\"dataframe\">\n",
       "  <thead>\n",
       "    <tr style=\"text-align: right;\">\n",
       "      <th></th>\n",
       "      <th>pred_prices</th>\n",
       "      <th>ewm_prices</th>\n",
       "    </tr>\n",
       "  </thead>\n",
       "  <tbody>\n",
       "    <tr>\n",
       "      <th>2015-01-01</th>\n",
       "      <td>11964.94</td>\n",
       "      <td>11970.178967</td>\n",
       "    </tr>\n",
       "    <tr>\n",
       "      <th>2015-01-02</th>\n",
       "      <td>13529.01</td>\n",
       "      <td>12765.247884</td>\n",
       "    </tr>\n",
       "    <tr>\n",
       "      <th>2015-01-03</th>\n",
       "      <td>11534.99</td>\n",
       "      <td>12343.222572</td>\n",
       "    </tr>\n",
       "    <tr>\n",
       "      <th>2015-01-04</th>\n",
       "      <td>12446.20</td>\n",
       "      <td>12371.644151</td>\n",
       "    </tr>\n",
       "    <tr>\n",
       "      <th>2015-01-05</th>\n",
       "      <td>12303.85</td>\n",
       "      <td>12358.285383</td>\n",
       "    </tr>\n",
       "  </tbody>\n",
       "</table>\n",
       "</div>"
      ],
      "text/plain": [
       "            pred_prices    ewm_prices\n",
       "2015-01-01     11964.94  11970.178967\n",
       "2015-01-02     13529.01  12765.247884\n",
       "2015-01-03     11534.99  12343.222572\n",
       "2015-01-04     12446.20  12371.644151\n",
       "2015-01-05     12303.85  12358.285383"
      ]
     },
     "execution_count": 14,
     "metadata": {},
     "output_type": "execute_result"
    }
   ],
   "source": [
    "pred_df['ewm_prices'] = pred_df.ewm(span=60).mean() + mean_diff\n",
    "pred_df.head()"
   ]
  },
  {
   "cell_type": "code",
   "execution_count": 15,
   "metadata": {},
   "outputs": [
    {
     "data": {
      "text/plain": [
       "-36.956285074304915"
      ]
     },
     "execution_count": 15,
     "metadata": {},
     "output_type": "execute_result"
    }
   ],
   "source": [
    "r2_score(test_y, pred_df.ewm_prices)"
   ]
  },
  {
   "cell_type": "code",
   "execution_count": 16,
   "metadata": {},
   "outputs": [
    {
     "data": {
      "image/png": "[encoded data removed]",
      "text/plain": [
       "<Figure size 432x288 with 1 Axes>"
      ]
     },
     "metadata": {
      "needs_background": "light"
     },
     "output_type": "display_data"
    }
   ],
   "source": [
    "ax = pred_df[['ewm_prices']].plot()\n",
    "fig = pd.DataFrame(test_y).plot(ax=ax)"
   ]
  },
  {
   "cell_type": "code",
   "execution_count": null,
   "metadata": {},
   "outputs": [],
   "source": []
  }
 ],
 "metadata": {
  "kernelspec": {
   "display_name": "Python 3",
   "language": "python",
   "name": "python3"
  },
  "language_info": {
   "codemirror_mode": {
    "name": "ipython",
    "version": 3
   },
   "file_extension": ".py",
   "mimetype": "text/x-python",
   "name": "python",
   "nbconvert_exporter": "python",
   "pygments_lexer": "ipython3",
   "version": "3.7.6"
  }
 },
 "nbformat": 4,
 "nbformat_minor": 4
}
