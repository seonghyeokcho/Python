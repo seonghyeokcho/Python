{
 "cells": [
  {
   "cell_type": "markdown",
   "metadata": {},
   "source": [
    "## 타자게임 만들기"
   ]
  },
  {
   "cell_type": "code",
   "execution_count": 2,
   "metadata": {},
   "outputs": [
    {
     "name": "stdout",
     "output_type": "stream",
     "text": [
      "[타자게임] 준비되면 엔터\n",
      "\n",
      "*문제 1\n",
      "snake\n",
      "snake\n",
      "통과\n",
      "타자시간: 1.49 초\n",
      "*문제 2\n",
      "cat\n",
      "cta\n",
      "오타 다시도전\n",
      "*문제 2\n",
      "cat\n",
      "cat\n",
      "통과\n",
      "타자시간: 2.30 초\n",
      "*문제 3\n",
      "monkey\n",
      "monkey\n",
      "통과\n",
      "타자시간: 2.90 초\n",
      "*문제 4\n",
      "snake\n",
      "snake\n",
      "통과\n",
      "타자시간: 2.00 초\n",
      "*문제 5\n",
      "cat\n",
      "cay\n",
      "오타 다시도전\n",
      "*문제 5\n",
      "cat\n",
      "cat\n",
      "통과\n",
      "타자시간: 1.41 초\n",
      "총 타자시간: 14.98 초\n"
     ]
    }
   ],
   "source": [
    "\"\"\"\n",
    "1. 사전 준비\n",
    "게임에 필요한 모듈을 import합니다. input 함수를 이용하여 사용자가\n",
    "타자 게임을 시작할 준비를 하고 enter를 누를 때까지 기다립니다.\n",
    "2. 메인 프로그램\n",
    "사용자에게 문제를 보여 주고 타자입력을 받고 처리하는 과정을 다섯번 반복\n",
    "(오타가 나면 다섯 번 이상 반복해야 할 수 있으므로 for가 아닌 while 명령사용)\n",
    "3. 결과를 계산해서 보여주기\n",
    "사용자가 타자 문제를 모두 입력하는데 걸린 시간을 소숫점 둘째자리까지 계산해서\n",
    "출력한다.\n",
    "\"\"\"\n",
    "\n",
    "import random\n",
    "import time\n",
    "\n",
    "# 단어 리스트 : 여기에 단어를 추가하면 문제에 나옵니다.\n",
    "w = [\"cat\", \"dog\", \"fox\", \"monkey\",  \"mouse\", \"panda\", \"frog\", \"snake\", \"wolf\"]\n",
    "n = 1\n",
    "\n",
    "print(\"[타자게임] 준비되면 엔터\")\n",
    "input()  # 사용자가 엔터를 누를때까지 기다린다.\n",
    "\n",
    "start = time.time()  # 시작 시간을 기록\n",
    "q = random.choice(w)  # 단어 리스트에서 랜덤으로 하나 뽑는다.\n",
    "\n",
    "while n <= 5:\n",
    "    print(\"*문제\", n)\n",
    "    print(q)         # 문제를 보여준다.\n",
    "    startTime = time.time()\n",
    "    x = input()      # 사용자 입력을 받는다.\n",
    "    if q == x:       # 문제와 입력이 같을 때(올바로 입력 했을 때)\n",
    "        endTime = time.time() - startTime\n",
    "        endTime = format(endTime, \".2f\")\n",
    "        print(\"통과\")     # \"통과\"라고 출력한다.\n",
    "        print(\"타자시간:\", endTime, \"초\")\n",
    "        n = n + 1        # 문제 번호를 1 증가 시킨다.\n",
    "        q = random.choice(w)        # 새 문제를 뽑는다.\n",
    "    else:                           # 문제와 입력이 다를 때(올바로 입력 못 했을 때)\n",
    "        print(\"오타 다시도전\")         # \"오타 다시도전\"을 출력합니다.\n",
    "                                    \n",
    "end = time.time()  # 끝난 시간을 기록\n",
    "et = end - start   # 실제로 걸린 시간 계산\n",
    "et = format(et, \".2f\")  # 보기좋게 소수점 2자리까지만 표기한다.\n",
    "print(\"총 타자시간:\", et, \"초\")"
   ]
  },
  {
   "cell_type": "code",
   "execution_count": null,
   "metadata": {},
   "outputs": [],
   "source": []
  },
  {
   "cell_type": "code",
   "execution_count": null,
   "metadata": {},
   "outputs": [],
   "source": []
  }
 ],
 "metadata": {
  "kernelspec": {
   "display_name": "Python 3",
   "language": "python",
   "name": "python3"
  },
  "language_info": {
   "codemirror_mode": {
    "name": "ipython",
    "version": 3
   },
   "file_extension": ".py",
   "mimetype": "text/x-python",
   "name": "python",
   "nbconvert_exporter": "python",
   "pygments_lexer": "ipython3",
   "version": "3.7.6"
  }
 },
 "nbformat": 4,
 "nbformat_minor": 4
}
