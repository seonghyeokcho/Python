{
 "cells": [
  {
   "cell_type": "code",
   "execution_count": null,
   "metadata": {},
   "outputs": [],
   "source": [
    "# 실행"
   ]
  },
  {
   "cell_type": "code",
   "execution_count": 1,
   "metadata": {},
   "outputs": [],
   "source": [
    "import turtle as t\n",
    "t.shape(\"turtle\")"
   ]
  },
  {
   "cell_type": "code",
   "execution_count": 3,
   "metadata": {},
   "outputs": [],
   "source": [
    "t.forward(30)"
   ]
  },
  {
   "cell_type": "code",
   "execution_count": 6,
   "metadata": {},
   "outputs": [],
   "source": [
    "t.right(180)"
   ]
  },
  {
   "cell_type": "code",
   "execution_count": 4,
   "metadata": {},
   "outputs": [],
   "source": [
    "t.left(90)"
   ]
  },
  {
   "cell_type": "code",
   "execution_count": 65,
   "metadata": {},
   "outputs": [],
   "source": [
    "t.penup()"
   ]
  },
  {
   "cell_type": "code",
   "execution_count": 70,
   "metadata": {},
   "outputs": [],
   "source": [
    "t.pendown()"
   ]
  },
  {
   "cell_type": "code",
   "execution_count": 51,
   "metadata": {},
   "outputs": [],
   "source": [
    "t.circle(30)"
   ]
  },
  {
   "cell_type": "code",
   "execution_count": 35,
   "metadata": {},
   "outputs": [
    {
     "name": "stdout",
     "output_type": "stream",
     "text": [
      "72.0\n"
     ]
    }
   ],
   "source": [
    "a = 360\n",
    "b = 5\n",
    "print(a/b)"
   ]
  },
  {
   "cell_type": "markdown",
   "metadata": {},
   "source": [
    "## 원그리기"
   ]
  },
  {
   "cell_type": "code",
   "execution_count": 1,
   "metadata": {},
   "outputs": [
    {
     "ename": "NameError",
     "evalue": "name 't' is not defined",
     "output_type": "error",
     "traceback": [
      "\u001b[0;31m---------------------------------------------------------------------------\u001b[0m",
      "\u001b[0;31mNameError\u001b[0m                                 Traceback (most recent call last)",
      "\u001b[0;32m<ipython-input-1-4480732ffab8>\u001b[0m in \u001b[0;36m<module>\u001b[0;34m\u001b[0m\n\u001b[0;32m----> 1\u001b[0;31m \u001b[0mt\u001b[0m\u001b[0;34m.\u001b[0m\u001b[0mright\u001b[0m\u001b[0;34m(\u001b[0m\u001b[0;36m180\u001b[0m\u001b[0;34m)\u001b[0m\u001b[0;34m\u001b[0m\u001b[0;34m\u001b[0m\u001b[0m\n\u001b[0m\u001b[1;32m      2\u001b[0m \u001b[0mt\u001b[0m\u001b[0;34m.\u001b[0m\u001b[0mcircle\u001b[0m\u001b[0;34m(\u001b[0m\u001b[0;36m40\u001b[0m\u001b[0;34m)\u001b[0m\u001b[0;34m\u001b[0m\u001b[0;34m\u001b[0m\u001b[0m\n\u001b[1;32m      3\u001b[0m \u001b[0mt\u001b[0m\u001b[0;34m.\u001b[0m\u001b[0mright\u001b[0m\u001b[0;34m(\u001b[0m\u001b[0;36m180\u001b[0m\u001b[0;34m)\u001b[0m\u001b[0;34m\u001b[0m\u001b[0;34m\u001b[0m\u001b[0m\n\u001b[1;32m      4\u001b[0m \u001b[0mt\u001b[0m\u001b[0;34m.\u001b[0m\u001b[0mpenup\u001b[0m\u001b[0;34m(\u001b[0m\u001b[0;34m)\u001b[0m\u001b[0;34m\u001b[0m\u001b[0;34m\u001b[0m\u001b[0m\n\u001b[1;32m      5\u001b[0m \u001b[0mt\u001b[0m\u001b[0;34m.\u001b[0m\u001b[0mforward\u001b[0m\u001b[0;34m(\u001b[0m\u001b[0;36m50\u001b[0m\u001b[0;34m)\u001b[0m\u001b[0;34m\u001b[0m\u001b[0;34m\u001b[0m\u001b[0m\n",
      "\u001b[0;31mNameError\u001b[0m: name 't' is not defined"
     ]
    }
   ],
   "source": [
    "t.right(180)\n",
    "t.circle(40)\n",
    "t.right(180)\n",
    "t.penup()\n",
    "t.forward(50)\n",
    "t.left(90)\n",
    "t.pendown()\n",
    "t.forward(30)\n",
    "t.right(180)\n",
    "t.forward(130)\n",
    "t.left(90)\n",
    "t.penup()\n",
    "t.forward(50)\n",
    "t.left(90)\n",
    "t.pendown()"
   ]
  },
  {
   "cell_type": "code",
   "execution_count": 10,
   "metadata": {},
   "outputs": [],
   "source": [
    "t.bgcolor(\"skyblue\")"
   ]
  },
  {
   "cell_type": "markdown",
   "metadata": {},
   "source": [
    "## 자기 이름 그리기"
   ]
  },
  {
   "cell_type": "code",
   "execution_count": 11,
   "metadata": {},
   "outputs": [],
   "source": [
    "t.forward(100)\n",
    "t.right(135)\n",
    "t.forward(130)\n",
    "t.right(180)\n",
    "t.forward(75)\n",
    "t.right(90)\n",
    "t.forward(75)\n",
    "t.right(180)\n",
    "t.forward(75)\n",
    "t.left(135)\n",
    "t.penup()\n",
    "t.forward(30)\n",
    "t.pendown()\n",
    "t.forward(70)\n",
    "t.right(90)\n",
    "t.forward(50)\n",
    "t.right(180)\n",
    "t.forward(100)\n",
    "t.left(90)\n",
    "t.penup()\n",
    "t.forward(140)\n",
    "t.right(90)\n",
    "t.forward(70)\n",
    "t.right(135)\n",
    "t.pendown()\n",
    "t.forward(100)\n",
    "t.right(180)\n",
    "t.forward(50)\n",
    "t.right(90)\n",
    "t.forward(50)\n",
    "t.right(180)\n",
    "t.forward(50)\n",
    "t.right(135)\n",
    "t.penup()\n",
    "t.forward(30)\n",
    "t.pendown()\n",
    "t.forward(50)\n",
    "t.left(90)\n",
    "t.forward(50)\n",
    "t.right(180)\n",
    "t.forward(100)\n",
    "t.right(90)\n",
    "t.penup()\n",
    "t.forward(40)\n",
    "t.pendown()\n",
    "t.circle(30)\n",
    "t.right(180)\n",
    "t.penup()\n",
    "t.forward(70)\n",
    "t.left(90)\n",
    "t.forward(100)\n",
    "t.right(90)\n",
    "t.forward(20)\n",
    "t.pendown()\n",
    "t.forward(30)\n",
    "t.right(90)\n",
    "t.penup()\n",
    "t.forward(20)\n",
    "t.left(90)\n",
    "t.pendown()\n",
    "t.forward(15)\n",
    "t.right(180)\n",
    "t.forward(60)\n",
    "t.right(180)\n",
    "t.forward(30)\n",
    "t.right(90)\n",
    "t.penup()\n",
    "t.forward(20)\n",
    "t.right(90)\n",
    "t.pendown()\n",
    "t.circle(30)\n",
    "t.right(180)\n",
    "t.penup()\n",
    "t.forward(50)\n",
    "t.pendown()\n",
    "t.forward(20)\n",
    "t.left(90)\n",
    "t.forward(50)\n",
    "t.right(180)\n",
    "t.forward(120)\n",
    "t.right(180)\n",
    "t.forward(50)\n",
    "t.left(90)\n",
    "t.forward(20)\n",
    "t.right(180)\n",
    "t.forward(20)\n",
    "t.right(90)\n",
    "t.forward(50)\n",
    "t.right(90)\n",
    "t.penup()\n",
    "t.forward(10)\n",
    "t.pendown()\n",
    "t.forward(50)\n",
    "t.right(180)\n",
    "t.forward(50)\n",
    "t.right(90)\n",
    "t.forward(50)"
   ]
  },
  {
   "cell_type": "code",
   "execution_count": 1,
   "metadata": {},
   "outputs": [],
   "source": [
    "import turtle as t\n",
    "t.shape(\"turtle\")"
   ]
  },
  {
   "cell_type": "code",
   "execution_count": 2,
   "metadata": {},
   "outputs": [],
   "source": [
    "# 삼각형 만들기\n",
    "t.color(\"red\")\n",
    "t.forward(100)\n",
    "t.left(120)\n",
    "t.forward(100)\n",
    "t.left(120)\n",
    "t.forward(100)\n",
    "t.left(120)\n",
    "\n",
    "# 사각형 만들기\n",
    "t.color(\"green\")\n",
    "t.pensize(3)\n",
    "t.forward(100)\n",
    "t.left(90)\n",
    "t.forward(100)\n",
    "t.left(90)\n",
    "t.forward(100)\n",
    "t.left(90)\n",
    "t.forward(100)\n",
    "t.left(90)\n",
    "\n",
    "# 원 그리기\n",
    "t.penup()\n",
    "t.forward(50)\n",
    "t.pendown()\n",
    "t.color(\"blue\")\n",
    "t.pensize(5)\n",
    "t.circle(50)"
   ]
  },
  {
   "cell_type": "markdown",
   "metadata": {},
   "source": [
    "## for문 응용"
   ]
  },
  {
   "cell_type": "code",
   "execution_count": 2,
   "metadata": {},
   "outputs": [],
   "source": [
    "# 삼각형\n",
    "t.color(\"red\")\n",
    "for x in range(3):\n",
    "    t.forward(100)\n",
    "    t.left(120)\n",
    "# 사각형\n",
    "t.color(\"green\")\n",
    "t.pensize(3)\n",
    "for x in range(4):\n",
    "    t.forward(100)\n",
    "    t.left(90)\n",
    "# 원\n",
    "t.color(\"blue\")\n",
    "t.pensize(5)\n",
    "t.circle(50)"
   ]
  },
  {
   "cell_type": "code",
   "execution_count": 2,
   "metadata": {},
   "outputs": [],
   "source": [
    "# 원을 반복해서 그리는 프로그램\n",
    "n = 50  # 원을 50개 그린다.\n",
    "t.bgcolor(\"black\")  # 배경 색\n",
    "t.color(\"green\")  # 펜 색\n",
    "t.speed(0)  # 거북이 이동속도 max\n",
    "for x in range(n):\n",
    "    t.circle(80)\n",
    "    t.left(360/n)"
   ]
  },
  {
   "cell_type": "code",
   "execution_count": 1,
   "metadata": {},
   "outputs": [],
   "source": [
    "import turtle as t\n",
    "t.shape(\"turtle\")"
   ]
  },
  {
   "cell_type": "code",
   "execution_count": 6,
   "metadata": {},
   "outputs": [],
   "source": [
    "# 선을 반복해서 그리는 프로그램\n",
    "angle = 91  # 거북이가 왼쪽으로 회적할 각도를 지정\n",
    "t.bgcolor(\"black\")  # 배경 색\n",
    "t.color(\"yellow\")  # 펜 색\n",
    "t.speed(0)  # 거북이 이동속도 max\n",
    "for x in range(200):\n",
    "    t.circle(x)  # x 만큼 앞으로 이동\n",
    "    t.left(angle)  # 거북이가 왼쪽으로 89도 회전"
   ]
  },
  {
   "cell_type": "code",
   "execution_count": 2,
   "metadata": {},
   "outputs": [],
   "source": [
    "# 태극 모양을 그리는 프로그램\n",
    "t.bgcolor(\"black\")\n",
    "t.speed(0)\n",
    "\n",
    "for x in range(200):\n",
    "    if x % 3 == 0:\n",
    "        t.color(\"red\")\n",
    "    if x % 3 == 1:\n",
    "        t.color('yellow')\n",
    "    if x % 3 == 2:\n",
    "        t.color(\"blue\")\n",
    "    t.forward(x * 2)  # x*2 만큼 앞으로 이동(반복하면서 선이 점점 길어진다.)\n",
    "    t.left(119)  # 거북이 119도 왼쪽 회전\n",
    "    "
   ]
  },
  {
   "cell_type": "code",
   "execution_count": null,
   "metadata": {},
   "outputs": [],
   "source": [
    "\\"
   ]
  },
  {
   "cell_type": "code",
   "execution_count": null,
   "metadata": {},
   "outputs": [],
   "source": []
  },
  {
   "cell_type": "code",
   "execution_count": null,
   "metadata": {},
   "outputs": [],
   "source": []
  },
  {
   "cell_type": "code",
   "execution_count": null,
   "metadata": {},
   "outputs": [],
   "source": []
  },
  {
   "cell_type": "code",
   "execution_count": null,
   "metadata": {},
   "outputs": [],
   "source": []
  }
 ],
 "metadata": {
  "kernelspec": {
   "display_name": "Python 3",
   "language": "python",
   "name": "python3"
  },
  "language_info": {
   "codemirror_mode": {
    "name": "ipython",
    "version": 3
   },
   "file_extension": ".py",
   "mimetype": "text/x-python",
   "name": "python",
   "nbconvert_exporter": "python",
   "pygments_lexer": "ipython3",
   "version": "3.7.6"
  }
 },
 "nbformat": 4,
 "nbformat_minor": 4
}
