{
 "cells": [
  {
   "cell_type": "markdown",
   "metadata": {},
   "source": [
    "# 0413 ~ 0424 Team Assignment 01 :\n",
    "### predict customer's gender of department store"
   ]
  },
  {
   "cell_type": "code",
   "execution_count": 1,
   "metadata": {},
   "outputs": [
    {
     "name": "stdout",
     "output_type": "stream",
     "text": [
      "CPython 3.7.6\n",
      "IPython 7.12.0\n",
      "\n",
      "numpy 1.18.1\n",
      "scipy 1.4.1\n",
      "sklearn 0.22.1\n",
      "pandas 1.0.1\n",
      "matplotlib 3.1.3\n"
     ]
    }
   ],
   "source": [
    "%load_ext watermark\n",
    "%watermark -v -p numpy,scipy,sklearn,pandas,matplotlib"
   ]
  },
  {
   "cell_type": "code",
   "execution_count": 2,
   "metadata": {},
   "outputs": [],
   "source": [
    "import numpy as np\n",
    "import pandas as pd\n",
    "\n",
    "import matplotlib.pyplot as plt\n",
    "import seaborn as sns\n",
    "from matplotlib import font_manager, rc\n",
    "%matplotlib inline\n",
    "\n",
    "from sklearn.impute import SimpleImputer\n",
    "from sklearn.model_selection import cross_val_score, StratifiedShuffleSplit\n",
    "from sklearn.model_selection import KFold\n",
    "from sklearn.model_selection import train_test_split\n",
    "from sklearn.model_selection import RandomizedSearchCV\n",
    "from sklearn.metrics import roc_curve\n",
    "from sklearn.metrics import auc\n",
    "from sklearn.metrics import accuracy_score\n",
    "from sklearn.metrics import roc_auc_score\n",
    "from sklearn.metrics import f1_score\n",
    "from sklearn.metrics import classification_report\n",
    "from sklearn.metrics import confusion_matrix\n",
    "from sklearn.dummy import DummyClassifier\n",
    "from sklearn.linear_model import LogisticRegression\n",
    "from sklearn.tree import DecisionTreeClassifier\n",
    "from sklearn.neural_network import MLPClassifier\n",
    "from sklearn.svm import SVC\n",
    "from sklearn.svm import LinearSVC\n",
    "from sklearn.ensemble import GradientBoostingClassifier\n",
    "from sklearn.ensemble import AdaBoostClassifier\n",
    "from sklearn.ensemble import RandomForestClassifier\n",
    "from sklearn.neighbors import KNeighborsClassifier\n",
    "from sklearn.decomposition import PCA\n",
    "from sklearn.preprocessing import PolynomialFeatures\n",
    "\n",
    "from imblearn.under_sampling import *\n",
    "from imblearn.combine import SMOTETomek\n",
    "\n",
    "from lightgbm import LGBMClassifier\n",
    "from xgboost import XGBClassifier\n",
    "import xgboost as xgb\n",
    "\n",
    "import warnings\n",
    "warnings.filterwarnings('ignore')"
   ]
  },
  {
   "cell_type": "markdown",
   "metadata": {},
   "source": [
    "# Data Reading & Checking"
   ]
  },
  {
   "cell_type": "code",
   "execution_count": 5,
   "metadata": {},
   "outputs": [
    {
     "data": {
      "text/html": [
       "<div>\n",
       "<style scoped>\n",
       "    .dataframe tbody tr th:only-of-type {\n",
       "        vertical-align: middle;\n",
       "    }\n",
       "\n",
       "    .dataframe tbody tr th {\n",
       "        vertical-align: top;\n",
       "    }\n",
       "\n",
       "    .dataframe thead th {\n",
       "        text-align: right;\n",
       "    }\n",
       "</style>\n",
       "<table border=\"1\" class=\"dataframe\">\n",
       "  <thead>\n",
       "    <tr style=\"text-align: right;\">\n",
       "      <th></th>\n",
       "      <th>gender</th>\n",
       "      <th>총구매액</th>\n",
       "      <th>구매건수</th>\n",
       "      <th>평균구매가격</th>\n",
       "      <th>평균할부개월수</th>\n",
       "      <th>구매브랜드종류</th>\n",
       "      <th>내점일수</th>\n",
       "      <th>수입상품_구매비율</th>\n",
       "      <th>주말방문비율</th>\n",
       "      <th>가을_구매건수</th>\n",
       "      <th>겨울_구매건수</th>\n",
       "      <th>봄_구매건수</th>\n",
       "      <th>여름_구매건수</th>\n",
       "      <th>아침_구매건수</th>\n",
       "      <th>저녁_구매건수</th>\n",
       "      <th>점심_구매건수</th>\n",
       "      <th>주구매코너</th>\n",
       "    </tr>\n",
       "    <tr>\n",
       "      <th>custid</th>\n",
       "      <th></th>\n",
       "      <th></th>\n",
       "      <th></th>\n",
       "      <th></th>\n",
       "      <th></th>\n",
       "      <th></th>\n",
       "      <th></th>\n",
       "      <th></th>\n",
       "      <th></th>\n",
       "      <th></th>\n",
       "      <th></th>\n",
       "      <th></th>\n",
       "      <th></th>\n",
       "      <th></th>\n",
       "      <th></th>\n",
       "      <th></th>\n",
       "      <th></th>\n",
       "    </tr>\n",
       "  </thead>\n",
       "  <tbody>\n",
       "    <tr>\n",
       "      <th>18</th>\n",
       "      <td>0</td>\n",
       "      <td>680100</td>\n",
       "      <td>15</td>\n",
       "      <td>45340</td>\n",
       "      <td>1.7</td>\n",
       "      <td>9</td>\n",
       "      <td>10</td>\n",
       "      <td>26.7</td>\n",
       "      <td>100.0</td>\n",
       "      <td>NaN</td>\n",
       "      <td>9.0</td>\n",
       "      <td>6.0</td>\n",
       "      <td>NaN</td>\n",
       "      <td>NaN</td>\n",
       "      <td>6.0</td>\n",
       "      <td>9.0</td>\n",
       "      <td>화.장품</td>\n",
       "    </tr>\n",
       "    <tr>\n",
       "      <th>21</th>\n",
       "      <td>0</td>\n",
       "      <td>353450</td>\n",
       "      <td>9</td>\n",
       "      <td>39272</td>\n",
       "      <td>1.2</td>\n",
       "      <td>6</td>\n",
       "      <td>8</td>\n",
       "      <td>11.1</td>\n",
       "      <td>37.5</td>\n",
       "      <td>NaN</td>\n",
       "      <td>5.0</td>\n",
       "      <td>4.0</td>\n",
       "      <td>NaN</td>\n",
       "      <td>3.0</td>\n",
       "      <td>NaN</td>\n",
       "      <td>6.0</td>\n",
       "      <td>영.캐주얼</td>\n",
       "    </tr>\n",
       "  </tbody>\n",
       "</table>\n",
       "</div>"
      ],
      "text/plain": [
       "        gender    총구매액  구매건수  평균구매가격  평균할부개월수  구매브랜드종류  내점일수  수입상품_구매비율  \\\n",
       "custid                                                                    \n",
       "18           0  680100    15   45340      1.7        9    10       26.7   \n",
       "21           0  353450     9   39272      1.2        6     8       11.1   \n",
       "\n",
       "        주말방문비율  가을_구매건수  겨울_구매건수  봄_구매건수  여름_구매건수  아침_구매건수  저녁_구매건수  점심_구매건수  \\\n",
       "custid                                                                         \n",
       "18       100.0      NaN      9.0     6.0      NaN      NaN      6.0      9.0   \n",
       "21        37.5      NaN      5.0     4.0      NaN      3.0      NaN      6.0   \n",
       "\n",
       "        주구매코너  \n",
       "custid         \n",
       "18       화.장품  \n",
       "21      영.캐주얼  "
      ]
     },
     "execution_count": 5,
     "metadata": {},
     "output_type": "execute_result"
    }
   ],
   "source": [
    "train = pd.read_csv('../data/train.csv', encoding='cp949', index_col='custid')\n",
    "train.head(2)"
   ]
  },
  {
   "cell_type": "code",
   "execution_count": 6,
   "metadata": {},
   "outputs": [
    {
     "name": "stdout",
     "output_type": "stream",
     "text": [
      "<class 'pandas.core.frame.DataFrame'>\n",
      "Int64Index: 5000 entries, 18 to 49993\n",
      "Data columns (total 17 columns):\n",
      " #   Column     Non-Null Count  Dtype  \n",
      "---  ------     --------------  -----  \n",
      " 0   gender     5000 non-null   int64  \n",
      " 1   총구매액       5000 non-null   int64  \n",
      " 2   구매건수       5000 non-null   int64  \n",
      " 3   평균구매가격     5000 non-null   int64  \n",
      " 4   평균할부개월수    5000 non-null   float64\n",
      " 5   구매브랜드종류    5000 non-null   int64  \n",
      " 6   내점일수       5000 non-null   int64  \n",
      " 7   수입상품_구매비율  5000 non-null   float64\n",
      " 8   주말방문비율     5000 non-null   float64\n",
      " 9   가을_구매건수    4055 non-null   float64\n",
      " 10  겨울_구매건수    4103 non-null   float64\n",
      " 11  봄_구매건수     4311 non-null   float64\n",
      " 12  여름_구매건수    3978 non-null   float64\n",
      " 13  아침_구매건수    3558 non-null   float64\n",
      " 14  저녁_구매건수    4033 non-null   float64\n",
      " 15  점심_구매건수    4855 non-null   float64\n",
      " 16  주구매코너      5000 non-null   object \n",
      "dtypes: float64(10), int64(6), object(1)\n",
      "memory usage: 703.1+ KB\n"
     ]
    }
   ],
   "source": [
    "train.info()"
   ]
  },
  {
   "cell_type": "code",
   "execution_count": 7,
   "metadata": {},
   "outputs": [
    {
     "data": {
      "text/plain": [
       "<seaborn.axisgrid.FacetGrid at 0x10a4efc10>"
      ]
     },
     "execution_count": 7,
     "metadata": {},
     "output_type": "execute_result"
    },
    {
     "data": {
      "image/png": "[encoded data removed]",
      "text/plain": [
       "<Figure size 504x720 with 1 Axes>"
      ]
     },
     "metadata": {
      "needs_background": "light"
     },
     "output_type": "display_data"
    }
   ],
   "source": [
    "# 그래프를 통해 직관적으로 봤을때도 여성비율이 남성보다\n",
    "# 최소 두배이상은 차이나 나보임\n",
    "sns.catplot(x=\"gender\", hue=None, col=None,\n",
    "                data=train, kind=\"count\",\n",
    "                height=10, aspect=.7)"
   ]
  },
  {
   "cell_type": "code",
   "execution_count": 8,
   "metadata": {},
   "outputs": [
    {
     "data": {
      "text/plain": [
       "0    3479\n",
       "1    1521\n",
       "Name: gender, dtype: int64"
      ]
     },
     "execution_count": 8,
     "metadata": {},
     "output_type": "execute_result"
    }
   ],
   "source": [
    "# 여성이 남성의 2.287310979618672 배이다.\n",
    "# 3479 / 1521 = 2.287310979618672\n",
    "# 1521 * 2.287310979618672 = 3479.0000000000005\n",
    "train['gender'].value_counts()"
   ]
  },
  {
   "cell_type": "code",
   "execution_count": 9,
   "metadata": {},
   "outputs": [],
   "source": [
    "# 남녀간 아침구매 빈도\n",
    "gender_purcnt = train.groupby(['gender', '아침_구매건수'])['구매건수'].agg('count').to_frame()\n",
    "df_purcnt = gender_purcnt.reset_index()\n",
    "df_purcnt.columns = ['gender', 'morning purchase', 'counts']"
   ]
  },
  {
   "cell_type": "markdown",
   "metadata": {},
   "source": [
    "- <font color = \"#CC3D3D\">학습데이터에 주구매코너는 사용하기 않을 예정이기 때문에 주구매코너를 제외한 나머지 경우들 중 아침구매건수에서 그나마 차이남<font>"
   ]
  },
  {
   "cell_type": "code",
   "execution_count": 10,
   "metadata": {},
   "outputs": [
    {
     "data": {
      "image/png": "[encoded data removed]",
      "text/plain": [
       "<Figure size 432x288 with 1 Axes>"
      ]
     },
     "metadata": {
      "needs_background": "light"
     },
     "output_type": "display_data"
    }
   ],
   "source": [
    "# 남녀간에 아침에 구매하는 빈도가 약간 차이가 있음\n",
    "g = sns.kdeplot(df_purcnt[\"morning purchase\"][(df_purcnt[\"gender\"] == 0) &\\\n",
    "                                               (df_purcnt[\"morning purchase\"].notnull())], color=\"Red\", shade = True)\n",
    "g = sns.kdeplot(df_purcnt[\"morning purchase\"][(df_purcnt[\"gender\"] == 1) &\\\n",
    "                                               (df_purcnt[\"morning purchase\"].notnull())], ax =g, color=\"Blue\", shade= True)\n",
    "g.set_xlabel(\"morning purchase\")\n",
    "g.set_ylabel(\"Frequency\")\n",
    "g = g.legend([\"female\",\"male\"])"
   ]
  },
  {
   "cell_type": "code",
   "execution_count": 11,
   "metadata": {},
   "outputs": [
    {
     "data": {
      "text/html": [
       "<div>\n",
       "<style scoped>\n",
       "    .dataframe tbody tr th:only-of-type {\n",
       "        vertical-align: middle;\n",
       "    }\n",
       "\n",
       "    .dataframe tbody tr th {\n",
       "        vertical-align: top;\n",
       "    }\n",
       "\n",
       "    .dataframe thead th {\n",
       "        text-align: right;\n",
       "    }\n",
       "</style>\n",
       "<table border=\"1\" class=\"dataframe\">\n",
       "  <thead>\n",
       "    <tr style=\"text-align: right;\">\n",
       "      <th></th>\n",
       "      <th>morning_shop</th>\n",
       "    </tr>\n",
       "    <tr>\n",
       "      <th>custid</th>\n",
       "      <th></th>\n",
       "    </tr>\n",
       "  </thead>\n",
       "  <tbody>\n",
       "    <tr>\n",
       "      <th>18</th>\n",
       "      <td>False</td>\n",
       "    </tr>\n",
       "    <tr>\n",
       "      <th>21</th>\n",
       "      <td>True</td>\n",
       "    </tr>\n",
       "    <tr>\n",
       "      <th>23</th>\n",
       "      <td>True</td>\n",
       "    </tr>\n",
       "    <tr>\n",
       "      <th>26</th>\n",
       "      <td>False</td>\n",
       "    </tr>\n",
       "    <tr>\n",
       "      <th>35</th>\n",
       "      <td>False</td>\n",
       "    </tr>\n",
       "  </tbody>\n",
       "</table>\n",
       "</div>"
      ],
      "text/plain": [
       "        morning_shop\n",
       "custid              \n",
       "18             False\n",
       "21              True\n",
       "23              True\n",
       "26             False\n",
       "35             False"
      ]
     },
     "execution_count": 11,
     "metadata": {},
     "output_type": "execute_result"
    }
   ],
   "source": [
    "data_check = train.copy()\n",
    "data_check['morning_shop'] = data_check['아침_구매건수'] >= 1\n",
    "data_check[['morning_shop']].head()"
   ]
  },
  {
   "cell_type": "code",
   "execution_count": 12,
   "metadata": {},
   "outputs": [
    {
     "data": {
      "text/plain": [
       "<seaborn.axisgrid.FacetGrid at 0x1a3e66f810>"
      ]
     },
     "execution_count": 12,
     "metadata": {},
     "output_type": "execute_result"
    },
    {
     "data": {
      "image/png": "[encoded data removed]",
      "text/plain": [
       "<Figure size 1008x720 with 2 Axes>"
      ]
     },
     "metadata": {
      "needs_background": "light"
     },
     "output_type": "display_data"
    }
   ],
   "source": [
    "# 남녀간 아침구매 빈도 차이\n",
    "sns.catplot(x=\"morning_shop\", hue=None, col=\"gender\",\n",
    "                data=data_check, kind=\"count\",\n",
    "                height=10, aspect=.7)"
   ]
  },
  {
   "cell_type": "code",
   "execution_count": 13,
   "metadata": {},
   "outputs": [
    {
     "data": {
      "text/html": [
       "<div>\n",
       "<style scoped>\n",
       "    .dataframe tbody tr th:only-of-type {\n",
       "        vertical-align: middle;\n",
       "    }\n",
       "\n",
       "    .dataframe tbody tr th {\n",
       "        vertical-align: top;\n",
       "    }\n",
       "\n",
       "    .dataframe thead th {\n",
       "        text-align: right;\n",
       "    }\n",
       "</style>\n",
       "<table border=\"1\" class=\"dataframe\">\n",
       "  <thead>\n",
       "    <tr style=\"text-align: right;\">\n",
       "      <th></th>\n",
       "      <th>morning_shop</th>\n",
       "    </tr>\n",
       "    <tr>\n",
       "      <th>gender</th>\n",
       "      <th></th>\n",
       "    </tr>\n",
       "  </thead>\n",
       "  <tbody>\n",
       "    <tr>\n",
       "      <th>0</th>\n",
       "      <td>0.682955</td>\n",
       "    </tr>\n",
       "    <tr>\n",
       "      <th>1</th>\n",
       "      <td>0.777120</td>\n",
       "    </tr>\n",
       "  </tbody>\n",
       "</table>\n",
       "</div>"
      ],
      "text/plain": [
       "        morning_shop\n",
       "gender              \n",
       "0           0.682955\n",
       "1           0.777120"
      ]
     },
     "execution_count": 13,
     "metadata": {},
     "output_type": "execute_result"
    }
   ],
   "source": [
    "pd.pivot_table(data_check, index=\"gender\", values=\"morning_shop\")"
   ]
  },
  {
   "cell_type": "markdown",
   "metadata": {},
   "source": [
    "# Fill Missing Values"
   ]
  },
  {
   "cell_type": "markdown",
   "metadata": {},
   "source": [
    "<font color = \"#CC3D3D\">데이터의 계절,시간대 별로 구매한 건수가 NoN인 곳들은 그 상황에서 구매하지 않았다.<font>\n",
    "\n",
    "<font color = \"#CC3D3D\">즉, 0건이기 때문에 이를 먼저 채워줌 그리고 한글 데이터인 주구매코너는 모델링을 위해<font>\n",
    "\n",
    "<font color = \"#CC3D3D\">정수형으로 바꿔준 후 제거 예정<font>"
   ]
  },
  {
   "cell_type": "code",
   "execution_count": 14,
   "metadata": {},
   "outputs": [
    {
     "data": {
      "text/plain": [
       "gender          0\n",
       "총구매액            0\n",
       "구매건수            0\n",
       "평균구매가격          0\n",
       "평균할부개월수         0\n",
       "구매브랜드종류         0\n",
       "내점일수            0\n",
       "수입상품_구매비율       0\n",
       "주말방문비율          0\n",
       "가을_구매건수       945\n",
       "겨울_구매건수       897\n",
       "봄_구매건수        689\n",
       "여름_구매건수      1022\n",
       "아침_구매건수      1442\n",
       "저녁_구매건수       967\n",
       "점심_구매건수       145\n",
       "주구매코너           0\n",
       "dtype: int64"
      ]
     },
     "execution_count": 14,
     "metadata": {},
     "output_type": "execute_result"
    }
   ],
   "source": [
    "train.isnull().sum()"
   ]
  },
  {
   "cell_type": "code",
   "execution_count": 15,
   "metadata": {},
   "outputs": [
    {
     "data": {
      "text/plain": [
       "0"
      ]
     },
     "execution_count": 15,
     "metadata": {},
     "output_type": "execute_result"
    }
   ],
   "source": [
    "# 구매 건수가 0건임을 표현하기 위해 fillna를\n",
    "# 사용하여 일괄적으로 값을 0으로 바꿔줍니다.\n",
    "train.fillna(value=0, inplace=True)\n",
    "\n",
    "# 0이라는 값이 채워졌는지 확인 합니다.\n",
    "train.isnull().sum().sum()"
   ]
  },
  {
   "cell_type": "code",
   "execution_count": 16,
   "metadata": {},
   "outputs": [
    {
     "data": {
      "text/html": [
       "<div>\n",
       "<style scoped>\n",
       "    .dataframe tbody tr th:only-of-type {\n",
       "        vertical-align: middle;\n",
       "    }\n",
       "\n",
       "    .dataframe tbody tr th {\n",
       "        vertical-align: top;\n",
       "    }\n",
       "\n",
       "    .dataframe thead th {\n",
       "        text-align: right;\n",
       "    }\n",
       "</style>\n",
       "<table border=\"1\" class=\"dataframe\">\n",
       "  <thead>\n",
       "    <tr style=\"text-align: right;\">\n",
       "      <th></th>\n",
       "      <th>주구매코너</th>\n",
       "    </tr>\n",
       "    <tr>\n",
       "      <th>custid</th>\n",
       "      <th></th>\n",
       "    </tr>\n",
       "  </thead>\n",
       "  <tbody>\n",
       "    <tr>\n",
       "      <th>18</th>\n",
       "      <td>1206</td>\n",
       "    </tr>\n",
       "    <tr>\n",
       "      <th>21</th>\n",
       "      <td>246</td>\n",
       "    </tr>\n",
       "    <tr>\n",
       "      <th>23</th>\n",
       "      <td>68</td>\n",
       "    </tr>\n",
       "    <tr>\n",
       "      <th>26</th>\n",
       "      <td>1206</td>\n",
       "    </tr>\n",
       "    <tr>\n",
       "      <th>35</th>\n",
       "      <td>75</td>\n",
       "    </tr>\n",
       "  </tbody>\n",
       "</table>\n",
       "</div>"
      ],
      "text/plain": [
       "        주구매코너\n",
       "custid       \n",
       "18       1206\n",
       "21        246\n",
       "23         68\n",
       "26       1206\n",
       "35         75"
      ]
     },
     "execution_count": 16,
     "metadata": {},
     "output_type": "execute_result"
    }
   ],
   "source": [
    "import category_encoders as ce\n",
    "cat_features = ['주구매코너']\n",
    "count_enc = ce.CountEncoder()\n",
    "count_encoded = count_enc.fit_transform(train[cat_features])\n",
    "count_encoded.head()"
   ]
  },
  {
   "cell_type": "code",
   "execution_count": null,
   "metadata": {},
   "outputs": [],
   "source": [
    "train"
   ]
  },
  {
   "cell_type": "code",
   "execution_count": 14,
   "metadata": {},
   "outputs": [
    {
     "data": {
      "text/html": [
       "<div>\n",
       "<style scoped>\n",
       "    .dataframe tbody tr th:only-of-type {\n",
       "        vertical-align: middle;\n",
       "    }\n",
       "\n",
       "    .dataframe tbody tr th {\n",
       "        vertical-align: top;\n",
       "    }\n",
       "\n",
       "    .dataframe thead th {\n",
       "        text-align: right;\n",
       "    }\n",
       "</style>\n",
       "<table border=\"1\" class=\"dataframe\">\n",
       "  <thead>\n",
       "    <tr style=\"text-align: right;\">\n",
       "      <th></th>\n",
       "      <th>gender</th>\n",
       "      <th>총구매액</th>\n",
       "      <th>구매건수</th>\n",
       "      <th>평균구매가격</th>\n",
       "      <th>평균할부개월수</th>\n",
       "      <th>구매브랜드종류</th>\n",
       "      <th>내점일수</th>\n",
       "      <th>수입상품_구매비율</th>\n",
       "      <th>주말방문비율</th>\n",
       "      <th>가을_구매건수</th>\n",
       "      <th>겨울_구매건수</th>\n",
       "      <th>봄_구매건수</th>\n",
       "      <th>여름_구매건수</th>\n",
       "      <th>아침_구매건수</th>\n",
       "      <th>저녁_구매건수</th>\n",
       "      <th>점심_구매건수</th>\n",
       "      <th>주구매코너</th>\n",
       "    </tr>\n",
       "    <tr>\n",
       "      <th>custid</th>\n",
       "      <th></th>\n",
       "      <th></th>\n",
       "      <th></th>\n",
       "      <th></th>\n",
       "      <th></th>\n",
       "      <th></th>\n",
       "      <th></th>\n",
       "      <th></th>\n",
       "      <th></th>\n",
       "      <th></th>\n",
       "      <th></th>\n",
       "      <th></th>\n",
       "      <th></th>\n",
       "      <th></th>\n",
       "      <th></th>\n",
       "      <th></th>\n",
       "      <th></th>\n",
       "    </tr>\n",
       "  </thead>\n",
       "  <tbody>\n",
       "    <tr>\n",
       "      <th>18</th>\n",
       "      <td>0</td>\n",
       "      <td>680100</td>\n",
       "      <td>15</td>\n",
       "      <td>45340</td>\n",
       "      <td>1.7</td>\n",
       "      <td>9</td>\n",
       "      <td>10</td>\n",
       "      <td>26.7</td>\n",
       "      <td>100.0</td>\n",
       "      <td>0.0</td>\n",
       "      <td>9.0</td>\n",
       "      <td>6.0</td>\n",
       "      <td>0.0</td>\n",
       "      <td>0.0</td>\n",
       "      <td>6.0</td>\n",
       "      <td>9.0</td>\n",
       "      <td>24</td>\n",
       "    </tr>\n",
       "  </tbody>\n",
       "</table>\n",
       "</div>"
      ],
      "text/plain": [
       "        gender    총구매액  구매건수  평균구매가격  평균할부개월수  구매브랜드종류  내점일수  수입상품_구매비율  \\\n",
       "custid                                                                    \n",
       "18           0  680100    15   45340      1.7        9    10       26.7   \n",
       "\n",
       "        주말방문비율  가을_구매건수  겨울_구매건수  봄_구매건수  여름_구매건수  아침_구매건수  저녁_구매건수  점심_구매건수  \\\n",
       "custid                                                                         \n",
       "18       100.0      0.0      9.0     6.0      0.0      0.0      6.0      9.0   \n",
       "\n",
       "        주구매코너  \n",
       "custid         \n",
       "18         24  "
      ]
     },
     "execution_count": 14,
     "metadata": {},
     "output_type": "execute_result"
    }
   ],
   "source": [
    "obj = ['주구매코너']\n",
    "train[obj] = train[obj].apply(lambda x: x.astype('category').cat.codes)\n",
    "train.head(1)"
   ]
  },
  {
   "cell_type": "markdown",
   "metadata": {},
   "source": [
    "# Modeling"
   ]
  },
  {
   "cell_type": "code",
   "execution_count": 15,
   "metadata": {},
   "outputs": [
    {
     "name": "stdout",
     "output_type": "stream",
     "text": [
      "(3750, 16) (1250, 16)\n"
     ]
    }
   ],
   "source": [
    "# 나누기 이전 데이터의 비율과 많이 차이 안나게 하도록 난수초깃값을 42로\n",
    "# 지정하여 나눠준 후 확인합니다.\n",
    "y = train['gender']\n",
    "x = train.drop('gender', axis=1)\n",
    "X_train, X_test, y_train, y_test = train_test_split(x, y, test_size=0.25, random_state=42)\n",
    "print(X_train.shape, X_test.shape)"
   ]
  },
  {
   "cell_type": "code",
   "execution_count": 16,
   "metadata": {},
   "outputs": [
    {
     "name": "stdout",
     "output_type": "stream",
     "text": [
      "0    0.6958\n",
      "1    0.3042\n",
      "Name: gender, dtype: float64\n",
      "0    0.693067\n",
      "1    0.306933\n",
      "Name: gender, dtype: float64\n"
     ]
    }
   ],
   "source": [
    "print(train['gender'].value_counts() / len(train))\n",
    "print(y_train.value_counts() / len(y_train))"
   ]
  },
  {
   "cell_type": "markdown",
   "metadata": {},
   "source": [
    "<font color = \"#CC3D3D\">총 9개의 알고리즘을 적용해봤습니다.<font>\n",
    "- <font color = \"#CC3D3D\">neural network 개선 안됨<font>\n",
    "- <font color = \"#CC3D3D\">linearSVC 개선 안됨<font>\n",
    "- <font color = \"#CC3D3D\">logistic regression 개선 안됨<font>"
   ]
  },
  {
   "cell_type": "code",
   "execution_count": 17,
   "metadata": {},
   "outputs": [],
   "source": [
    "dummy = DummyClassifier(strategy='most_frequent').fit(X_train, y_train)\n",
    "pred_dummy = dummy.predict(X_test)"
   ]
  },
  {
   "cell_type": "code",
   "execution_count": 18,
   "metadata": {},
   "outputs": [
    {
     "name": "stdout",
     "output_type": "stream",
     "text": [
      "              precision    recall  f1-score   support\n",
      "\n",
      "           0       0.71      0.90      0.80       880\n",
      "           1       0.37      0.13      0.19       370\n",
      "\n",
      "    accuracy                           0.68      1250\n",
      "   macro avg       0.54      0.52      0.50      1250\n",
      "weighted avg       0.61      0.68      0.62      1250\n",
      "\n",
      "-----------------------------------\n",
      "Dummy model:\n",
      "[[880   0]\n",
      " [370   0]]\n",
      "Decision tree:\n",
      "[[795  85]\n",
      " [321  49]]\n"
     ]
    }
   ],
   "source": [
    "# decision tree 로 모델링\n",
    "tree = DecisionTreeClassifier(max_depth=6, random_state=0); tree.fit(X_train, y_train)\n",
    "pred_tree = tree.predict(X_test); print(classification_report(y_test, pred_tree))\n",
    "print(\"-----------------------------------\")\n",
    "print(\"Dummy model:\"); print(confusion_matrix(y_test, pred_dummy))\n",
    "print(\"Decision tree:\"); print(confusion_matrix(y_test, pred_tree))"
   ]
  },
  {
   "cell_type": "code",
   "execution_count": 19,
   "metadata": {},
   "outputs": [
    {
     "name": "stdout",
     "output_type": "stream",
     "text": [
      "              precision    recall  f1-score   support\n",
      "\n",
      "           0       0.70      1.00      0.83       880\n",
      "           1       0.33      0.00      0.01       370\n",
      "\n",
      "    accuracy                           0.70      1250\n",
      "   macro avg       0.52      0.50      0.42      1250\n",
      "weighted avg       0.59      0.70      0.58      1250\n",
      "\n",
      "-----------------------------------\n",
      "Dummy model:\n",
      "[[880   0]\n",
      " [370   0]]\n",
      "Decision tree:\n",
      "[[878   2]\n",
      " [369   1]]\n"
     ]
    }
   ],
   "source": [
    "# svm 으로 모델링\n",
    "svm = SVC(random_state=0); svm.fit(X_train, y_train)\n",
    "pred_svm = svm.predict(X_test); print(classification_report(y_test, pred_svm))\n",
    "print(\"-----------------------------------\")\n",
    "print(\"Dummy model:\")\n",
    "print(confusion_matrix(y_test, pred_dummy))\n",
    "print(\"Decision tree:\")\n",
    "print(confusion_matrix(y_test, pred_svm))"
   ]
  },
  {
   "cell_type": "code",
   "execution_count": 20,
   "metadata": {},
   "outputs": [
    {
     "name": "stdout",
     "output_type": "stream",
     "text": [
      "              precision    recall  f1-score   support\n",
      "\n",
      "           0       0.71      0.93      0.81       880\n",
      "           1       0.42      0.12      0.18       370\n",
      "\n",
      "    accuracy                           0.69      1250\n",
      "   macro avg       0.57      0.52      0.50      1250\n",
      "weighted avg       0.63      0.69      0.62      1250\n",
      "\n",
      "-----------------------------------\n",
      "Dummy model:\n",
      "[[880   0]\n",
      " [370   0]]\n",
      "Decision tree:\n",
      "[[820  60]\n",
      " [327  43]]\n"
     ]
    }
   ],
   "source": [
    "# gradientboosting 으로 모델링\n",
    "gbm = GradientBoostingClassifier(n_estimators=200, random_state=0); gbm.fit(X_train, y_train)\n",
    "pred_gbm = gbm.predict(X_test); print(classification_report(y_test, pred_gbm))\n",
    "print(\"-----------------------------------\")\n",
    "print(\"Dummy model:\"); print(confusion_matrix(y_test, pred_dummy))\n",
    "print(\"Decision tree:\"); print(confusion_matrix(y_test, pred_gbm))"
   ]
  },
  {
   "cell_type": "code",
   "execution_count": 21,
   "metadata": {},
   "outputs": [
    {
     "name": "stdout",
     "output_type": "stream",
     "text": [
      "              precision    recall  f1-score   support\n",
      "\n",
      "           0       0.71      0.93      0.81       880\n",
      "           1       0.39      0.11      0.17       370\n",
      "\n",
      "    accuracy                           0.68      1250\n",
      "   macro avg       0.55      0.52      0.49      1250\n",
      "weighted avg       0.62      0.68      0.62      1250\n",
      "\n",
      "-----------------------------------\n",
      "Dummy model:\n",
      "[[880   0]\n",
      " [370   0]]\n",
      "Decision tree:\n",
      "[[815  65]\n",
      " [329  41]]\n"
     ]
    }
   ],
   "source": [
    "# AdaBoost 로 모델링\n",
    "ada = AdaBoostClassifier(n_estimators=200, random_state=0); ada.fit(X_train, y_train)\n",
    "pred_ada = ada.predict(X_test); print(classification_report(y_test, pred_ada))\n",
    "print(\"-----------------------------------\")\n",
    "print(\"Dummy model:\"); print(confusion_matrix(y_test, pred_dummy))\n",
    "print(\"Decision tree:\"); print(confusion_matrix(y_test, pred_ada))"
   ]
  },
  {
   "cell_type": "code",
   "execution_count": 22,
   "metadata": {},
   "outputs": [
    {
     "name": "stdout",
     "output_type": "stream",
     "text": [
      "              precision    recall  f1-score   support\n",
      "\n",
      "           0       0.71      0.98      0.82       880\n",
      "           1       0.50      0.04      0.07       370\n",
      "\n",
      "    accuracy                           0.70      1250\n",
      "   macro avg       0.60      0.51      0.45      1250\n",
      "weighted avg       0.65      0.70      0.60      1250\n",
      "\n",
      "-----------------------------------\n",
      "Dummy model:\n",
      "[[880   0]\n",
      " [370   0]]\n",
      "Decision tree:\n",
      "[[866  14]\n",
      " [356  14]]\n"
     ]
    }
   ],
   "source": [
    "# randomforest 로 모델링\n",
    "ranfor = RandomForestClassifier(max_depth=6, random_state=0); ranfor.fit(X_train, y_train)\n",
    "pred_ranfor = ranfor.predict(X_test); print(classification_report(y_test, pred_ranfor))\n",
    "print(\"-----------------------------------\")\n",
    "print(\"Dummy model:\"); print(confusion_matrix(y_test, pred_dummy))\n",
    "print(\"Decision tree:\"); print(confusion_matrix(y_test, pred_ranfor))"
   ]
  },
  {
   "cell_type": "code",
   "execution_count": 23,
   "metadata": {},
   "outputs": [
    {
     "name": "stdout",
     "output_type": "stream",
     "text": [
      "              precision    recall  f1-score   support\n",
      "\n",
      "           0       0.71      0.82      0.76       880\n",
      "           1       0.31      0.19      0.24       370\n",
      "\n",
      "    accuracy                           0.64      1250\n",
      "   macro avg       0.51      0.51      0.50      1250\n",
      "weighted avg       0.59      0.64      0.61      1250\n",
      "\n",
      "-----------------------------------\n",
      "Dummy model:\n",
      "[[880   0]\n",
      " [370   0]]\n",
      "Decision tree:\n",
      "[[725 155]\n",
      " [299  71]]\n"
     ]
    }
   ],
   "source": [
    "#  KNeighbors 로 모델링\n",
    "knn = KNeighborsClassifier(); knn.fit(X_train, y_train)\n",
    "pred_knn = knn.predict(X_test); print(classification_report(y_test, pred_knn))\n",
    "print(\"-----------------------------------\")\n",
    "print(\"Dummy model:\"); print(confusion_matrix(y_test, pred_dummy))\n",
    "print(\"Decision tree:\"); print(confusion_matrix(y_test, pred_knn))"
   ]
  },
  {
   "cell_type": "markdown",
   "metadata": {},
   "source": [
    "<font color = \"#CC3D3D\">SMOTE + Tomek<font>\n",
    "- <font color = \"#CC3D3D\">적용한 모든 알고리즘이 개선됨<font>"
   ]
  },
  {
   "cell_type": "code",
   "execution_count": 24,
   "metadata": {},
   "outputs": [
    {
     "name": "stdout",
     "output_type": "stream",
     "text": [
      "              precision    recall  f1-score   support\n",
      "\n",
      "           0       0.74      0.56      0.63       880\n",
      "           1       0.33      0.53      0.41       370\n",
      "\n",
      "    accuracy                           0.55      1250\n",
      "   macro avg       0.54      0.54      0.52      1250\n",
      "weighted avg       0.62      0.55      0.57      1250\n",
      "\n",
      "-----------------------------------\n",
      "Dummy model:\n",
      "[[880   0]\n",
      " [370   0]]\n",
      "Decision tree:\n",
      "[[490 390]\n",
      " [175 195]]\n"
     ]
    }
   ],
   "source": [
    "XX, yy = SMOTETomek(random_state=0).fit_sample(X_train, y_train)\n",
    "tree = DecisionTreeClassifier(max_depth=4, random_state=0)\n",
    "tree.fit(XX, yy)\n",
    "y_pred = tree.predict(X_test)\n",
    "print(classification_report(y_test, y_pred))\n",
    "print(\"-----------------------------------\")\n",
    "print(\"Dummy model:\"); print(confusion_matrix(y_test, pred_dummy))\n",
    "print(\"Decision tree:\"); print(confusion_matrix(y_test, y_pred))"
   ]
  },
  {
   "cell_type": "code",
   "execution_count": 25,
   "metadata": {},
   "outputs": [
    {
     "name": "stdout",
     "output_type": "stream",
     "text": [
      "              precision    recall  f1-score   support\n",
      "\n",
      "           0       0.73      0.74      0.74       880\n",
      "           1       0.37      0.36      0.37       370\n",
      "\n",
      "    accuracy                           0.63      1250\n",
      "   macro avg       0.55      0.55      0.55      1250\n",
      "weighted avg       0.63      0.63      0.63      1250\n",
      "\n",
      "-----------------------------------\n",
      "Dummy model:\n",
      "[[880   0]\n",
      " [370   0]]\n",
      "Decision tree:\n",
      "[[651 229]\n",
      " [235 135]]\n"
     ]
    }
   ],
   "source": [
    "XX, yy = SMOTETomek(random_state=0).fit_sample(X_train, y_train)\n",
    "svm = SVC(random_state=0)\n",
    "svm.fit(XX, yy)\n",
    "y_pred = svm.predict(X_test)\n",
    "print(classification_report(y_test, y_pred))\n",
    "print(\"-----------------------------------\")\n",
    "print(\"Dummy model:\"); print(confusion_matrix(y_test, pred_dummy))\n",
    "print(\"Decision tree:\"); print(confusion_matrix(y_test, y_pred))"
   ]
  },
  {
   "cell_type": "code",
   "execution_count": 26,
   "metadata": {},
   "outputs": [
    {
     "name": "stdout",
     "output_type": "stream",
     "text": [
      "              precision    recall  f1-score   support\n",
      "\n",
      "           0       0.74      0.82      0.78       880\n",
      "           1       0.43      0.32      0.36       370\n",
      "\n",
      "    accuracy                           0.67      1250\n",
      "   macro avg       0.58      0.57      0.57      1250\n",
      "weighted avg       0.65      0.67      0.66      1250\n",
      "\n",
      "-----------------------------------\n",
      "Dummy model:\n",
      "[[880   0]\n",
      " [370   0]]\n",
      "Decision tree:\n",
      "[[723 157]\n",
      " [253 117]]\n"
     ]
    }
   ],
   "source": [
    "XX, yy = SMOTETomek(random_state=0).fit_sample(X_train, y_train)\n",
    "gbm = GradientBoostingClassifier(n_estimators=200, random_state=0)\n",
    "gbm.fit(XX, yy)\n",
    "y_pred = gbm.predict(X_test)\n",
    "print(classification_report(y_test, y_pred))\n",
    "print(\"-----------------------------------\")\n",
    "print(\"Dummy model:\"); print(confusion_matrix(y_test, pred_dummy))\n",
    "print(\"Decision tree:\"); print(confusion_matrix(y_test, y_pred))"
   ]
  },
  {
   "cell_type": "code",
   "execution_count": 27,
   "metadata": {},
   "outputs": [
    {
     "name": "stdout",
     "output_type": "stream",
     "text": [
      "              precision    recall  f1-score   support\n",
      "\n",
      "           0       0.74      0.75      0.74       880\n",
      "           1       0.38      0.36      0.37       370\n",
      "\n",
      "    accuracy                           0.64      1250\n",
      "   macro avg       0.56      0.56      0.56      1250\n",
      "weighted avg       0.63      0.64      0.63      1250\n",
      "\n",
      "-----------------------------------\n",
      "Dummy model:\n",
      "[[880   0]\n",
      " [370   0]]\n",
      "Decision tree:\n",
      "[[660 220]\n",
      " [235 135]]\n"
     ]
    }
   ],
   "source": [
    "XX, yy = SMOTETomek(random_state=0).fit_sample(X_train, y_train)\n",
    "ada = AdaBoostClassifier(n_estimators=200, random_state=0)\n",
    "ada.fit(XX, yy)\n",
    "y_pred = ada.predict(X_test)\n",
    "print(classification_report(y_test, y_pred))\n",
    "print(\"-----------------------------------\")\n",
    "print(\"Dummy model:\"); print(confusion_matrix(y_test, pred_dummy))\n",
    "print(\"Decision tree:\"); print(confusion_matrix(y_test, y_pred))"
   ]
  },
  {
   "cell_type": "code",
   "execution_count": 28,
   "metadata": {},
   "outputs": [
    {
     "name": "stdout",
     "output_type": "stream",
     "text": [
      "              precision    recall  f1-score   support\n",
      "\n",
      "           0       0.74      0.66      0.70       880\n",
      "           1       0.36      0.45      0.40       370\n",
      "\n",
      "    accuracy                           0.60      1250\n",
      "   macro avg       0.55      0.56      0.55      1250\n",
      "weighted avg       0.63      0.60      0.61      1250\n",
      "\n",
      "-----------------------------------\n",
      "Dummy model:\n",
      "[[880   0]\n",
      " [370   0]]\n",
      "Decision tree:\n",
      "[[582 298]\n",
      " [203 167]]\n"
     ]
    }
   ],
   "source": [
    "XX, yy = SMOTETomek(random_state=0).fit_sample(X_train, y_train)\n",
    "ranfor = RandomForestClassifier(max_depth=6, random_state=0)\n",
    "ranfor.fit(XX, yy)\n",
    "y_pred = ranfor.predict(X_test)\n",
    "print(classification_report(y_test, y_pred))\n",
    "print(\"-----------------------------------\")\n",
    "print(\"Dummy model:\"); print(confusion_matrix(y_test, pred_dummy))\n",
    "print(\"Decision tree:\"); print(confusion_matrix(y_test, y_pred))"
   ]
  },
  {
   "cell_type": "code",
   "execution_count": 29,
   "metadata": {},
   "outputs": [
    {
     "name": "stdout",
     "output_type": "stream",
     "text": [
      "              precision    recall  f1-score   support\n",
      "\n",
      "           0       0.70      0.56      0.62       880\n",
      "           1       0.29      0.42      0.34       370\n",
      "\n",
      "    accuracy                           0.52      1250\n",
      "   macro avg       0.49      0.49      0.48      1250\n",
      "weighted avg       0.58      0.52      0.54      1250\n",
      "\n",
      "-----------------------------------\n",
      "Dummy model:\n",
      "[[880   0]\n",
      " [370   0]]\n",
      "Decision tree:\n",
      "[[489 391]\n",
      " [213 157]]\n"
     ]
    }
   ],
   "source": [
    "XX, yy = SMOTETomek(random_state=0).fit_sample(X_train, y_train)\n",
    "knn = KNeighborsClassifier()\n",
    "knn.fit(XX, yy)\n",
    "y_pred = knn.predict(X_test)\n",
    "print(classification_report(y_test, y_pred))\n",
    "print(\"-----------------------------------\")\n",
    "print(\"Dummy model:\"); print(confusion_matrix(y_test, pred_dummy))\n",
    "print(\"Decision tree:\"); print(confusion_matrix(y_test, y_pred))"
   ]
  },
  {
   "cell_type": "markdown",
   "metadata": {},
   "source": [
    "# Feature Engineering"
   ]
  },
  {
   "cell_type": "code",
   "execution_count": 30,
   "metadata": {},
   "outputs": [],
   "source": [
    "def create_feature(data):\n",
    "    # 내점구매율에 대한 아침에 구매한 건수의 비율을 표현\n",
    "    arithmetic = (data['구매건수']/data['내점일수']) / data['구매건수'] * data['아침_구매건수']\n",
    "    apply = np.where(data['아침_구매건수']==0,0,arithmetic)\n",
    "    local = data.columns.get_loc('내점일수') + 1\n",
    "    data.insert(loc=local, column='morning visit purchase ratio', value=apply)\n",
    "\n",
    "    # 아침에 구매한 가격을 평균구매가격으로 곱하여 아침에 구매한 총 건수에 대한 평균가격을 표현\n",
    "    multiply = data['평균구매가격'] * data['아침_구매건수']\n",
    "    apply = np.where(data['아침_구매건수']==0,0,multiply)\n",
    "    local = data.columns.get_loc('아침_구매건수')\n",
    "    data.insert(loc=local, column='morning purchase price', value=apply)\n",
    "\n",
    "    # 구매건수 중 아침에 구매한 비율을 표현\n",
    "    ratio = data['아침_구매건수'] / data['구매건수']\n",
    "    apply = np.where(train['아침_구매건수']==0,0,ratio)\n",
    "    local = data.columns.get_loc('아침_구매건수') + 1\n",
    "    data.insert(loc=local, column='morning purchase ratio', value=apply)\n",
    "\n",
    "    # 아침부터 점심까지 구매한 평균가격을 표현\n",
    "    multiply = data['평균구매가격'] * (data['아침_구매건수'] + data['점심_구매건수'])\n",
    "    apply = np.where((data['아침_구매건수']==0) & (data['점심_구매건수']==0),0,multiply)\n",
    "    local = data.columns.get_loc('morning purchase ratio') + 1\n",
    "    data.insert(loc=local, column='morning-lunch purchase price', value=apply)\n",
    "\n",
    "    # 아침부터 점심까지 구매한 건수를 표현\n",
    "    plus = data['아침_구매건수'] + data['점심_구매건수']\n",
    "    apply = np.where((data['아침_구매건수']==0) & (data['점심_구매건수']==0),0,plus)\n",
    "    local = data.columns.get_loc('morning-lunch purchase price') + 1\n",
    "    data.insert(loc=local, column='morning-lunch purchase count', value=apply)\n",
    "\n",
    "    # 아침부터 점심까지 구매한 비율을 표현\n",
    "    plus = (data['아침_구매건수'] + data['점심_구매건수']) / data['구매건수']\n",
    "    apply = np.where((data['아침_구매건수']==0) & (data['점심_구매건수']==0),0,plus)\n",
    "    local = data.columns.get_loc('morning-lunch purchase count') + 1\n",
    "    data.insert(loc=local, column='morning-lunch purchase ratio', value=apply)\n",
    "    \n",
    "    return"
   ]
  },
  {
   "cell_type": "code",
   "execution_count": 31,
   "metadata": {},
   "outputs": [
    {
     "data": {
      "text/html": [
       "<div>\n",
       "<style scoped>\n",
       "    .dataframe tbody tr th:only-of-type {\n",
       "        vertical-align: middle;\n",
       "    }\n",
       "\n",
       "    .dataframe tbody tr th {\n",
       "        vertical-align: top;\n",
       "    }\n",
       "\n",
       "    .dataframe thead th {\n",
       "        text-align: right;\n",
       "    }\n",
       "</style>\n",
       "<table border=\"1\" class=\"dataframe\">\n",
       "  <thead>\n",
       "    <tr style=\"text-align: right;\">\n",
       "      <th>custid</th>\n",
       "      <th>18</th>\n",
       "    </tr>\n",
       "  </thead>\n",
       "  <tbody>\n",
       "    <tr>\n",
       "      <th>gender</th>\n",
       "      <td>0.0</td>\n",
       "    </tr>\n",
       "    <tr>\n",
       "      <th>총구매액</th>\n",
       "      <td>680100.0</td>\n",
       "    </tr>\n",
       "    <tr>\n",
       "      <th>구매건수</th>\n",
       "      <td>15.0</td>\n",
       "    </tr>\n",
       "    <tr>\n",
       "      <th>평균구매가격</th>\n",
       "      <td>45340.0</td>\n",
       "    </tr>\n",
       "    <tr>\n",
       "      <th>평균할부개월수</th>\n",
       "      <td>1.7</td>\n",
       "    </tr>\n",
       "    <tr>\n",
       "      <th>구매브랜드종류</th>\n",
       "      <td>9.0</td>\n",
       "    </tr>\n",
       "    <tr>\n",
       "      <th>내점일수</th>\n",
       "      <td>10.0</td>\n",
       "    </tr>\n",
       "    <tr>\n",
       "      <th>morning visit purchase ratio</th>\n",
       "      <td>0.0</td>\n",
       "    </tr>\n",
       "    <tr>\n",
       "      <th>수입상품_구매비율</th>\n",
       "      <td>26.7</td>\n",
       "    </tr>\n",
       "    <tr>\n",
       "      <th>주말방문비율</th>\n",
       "      <td>100.0</td>\n",
       "    </tr>\n",
       "    <tr>\n",
       "      <th>가을_구매건수</th>\n",
       "      <td>0.0</td>\n",
       "    </tr>\n",
       "    <tr>\n",
       "      <th>겨울_구매건수</th>\n",
       "      <td>9.0</td>\n",
       "    </tr>\n",
       "    <tr>\n",
       "      <th>봄_구매건수</th>\n",
       "      <td>6.0</td>\n",
       "    </tr>\n",
       "    <tr>\n",
       "      <th>여름_구매건수</th>\n",
       "      <td>0.0</td>\n",
       "    </tr>\n",
       "    <tr>\n",
       "      <th>morning purchase price</th>\n",
       "      <td>0.0</td>\n",
       "    </tr>\n",
       "    <tr>\n",
       "      <th>아침_구매건수</th>\n",
       "      <td>0.0</td>\n",
       "    </tr>\n",
       "    <tr>\n",
       "      <th>morning purchase ratio</th>\n",
       "      <td>0.0</td>\n",
       "    </tr>\n",
       "    <tr>\n",
       "      <th>morning-lunch purchase price</th>\n",
       "      <td>408060.0</td>\n",
       "    </tr>\n",
       "    <tr>\n",
       "      <th>morning-lunch purchase count</th>\n",
       "      <td>9.0</td>\n",
       "    </tr>\n",
       "    <tr>\n",
       "      <th>morning-lunch purchase ratio</th>\n",
       "      <td>0.6</td>\n",
       "    </tr>\n",
       "    <tr>\n",
       "      <th>저녁_구매건수</th>\n",
       "      <td>6.0</td>\n",
       "    </tr>\n",
       "    <tr>\n",
       "      <th>점심_구매건수</th>\n",
       "      <td>9.0</td>\n",
       "    </tr>\n",
       "    <tr>\n",
       "      <th>주구매코너</th>\n",
       "      <td>24.0</td>\n",
       "    </tr>\n",
       "  </tbody>\n",
       "</table>\n",
       "</div>"
      ],
      "text/plain": [
       "custid                              18\n",
       "gender                             0.0\n",
       "총구매액                          680100.0\n",
       "구매건수                              15.0\n",
       "평균구매가격                         45340.0\n",
       "평균할부개월수                            1.7\n",
       "구매브랜드종류                            9.0\n",
       "내점일수                              10.0\n",
       "morning visit purchase ratio       0.0\n",
       "수입상품_구매비율                         26.7\n",
       "주말방문비율                           100.0\n",
       "가을_구매건수                            0.0\n",
       "겨울_구매건수                            9.0\n",
       "봄_구매건수                             6.0\n",
       "여름_구매건수                            0.0\n",
       "morning purchase price             0.0\n",
       "아침_구매건수                            0.0\n",
       "morning purchase ratio             0.0\n",
       "morning-lunch purchase price  408060.0\n",
       "morning-lunch purchase count       9.0\n",
       "morning-lunch purchase ratio       0.6\n",
       "저녁_구매건수                            6.0\n",
       "점심_구매건수                            9.0\n",
       "주구매코너                             24.0"
      ]
     },
     "execution_count": 31,
     "metadata": {},
     "output_type": "execute_result"
    }
   ],
   "source": [
    "create_feature(train)\n",
    "train.head(1).T"
   ]
  },
  {
   "cell_type": "code",
   "execution_count": 32,
   "metadata": {},
   "outputs": [
    {
     "data": {
      "text/plain": [
       "gender                          1.000000\n",
       "morning visit purchase ratio    0.131328\n",
       "morning-lunch purchase ratio    0.129500\n",
       "아침_구매건수                         0.127779\n",
       "morning purchase ratio          0.122799\n",
       "morning purchase price          0.120622\n",
       "morning-lunch purchase count    0.119054\n",
       "morning-lunch purchase price    0.111192\n",
       "여름_구매건수                         0.101900\n",
       "총구매액                            0.099137\n",
       "점심_구매건수                         0.097237\n",
       "구매건수                            0.094022\n",
       "가을_구매건수                         0.088600\n",
       "내점일수                            0.084255\n",
       "구매브랜드종류                         0.083988\n",
       "봄_구매건수                          0.076116\n",
       "평균구매가격                          0.072181\n",
       "겨울_구매건수                         0.065261\n",
       "주말방문비율                          0.020457\n",
       "평균할부개월수                        -0.020066\n",
       "수입상품_구매비율                      -0.021294\n",
       "저녁_구매건수                        -0.021618\n",
       "주구매코너                          -0.039270\n",
       "Name: gender, dtype: float64"
      ]
     },
     "execution_count": 32,
     "metadata": {},
     "output_type": "execute_result"
    }
   ],
   "source": [
    "corr = train.corr()\n",
    "corr.gender.sort_values(ascending=False)"
   ]
  },
  {
   "cell_type": "markdown",
   "metadata": {},
   "source": [
    "- <font color = \"#CC3D3D\">새로 적용한 파생변수들의 상관계수는 0.13, 0.129, 0.122, 0.12, 0.119, 0.11로<font>\n",
    "- <font color = \"#CC3D3D\">기존에 계수가 가장 높았던 아침_구매건수와 비슷하게(+0.004 ~ -0.016) 6개가 추가로 생성됨<font>"
   ]
  },
  {
   "cell_type": "code",
   "execution_count": 33,
   "metadata": {},
   "outputs": [
    {
     "data": {
      "text/plain": [
       "<matplotlib.axes._subplots.AxesSubplot at 0x1a3b6df510>"
      ]
     },
     "execution_count": 33,
     "metadata": {},
     "output_type": "execute_result"
    },
    {
     "data": {
      "image/png": "[encoded data removed]",
      "text/plain": [
       "<Figure size 432x288 with 2 Axes>"
      ]
     },
     "metadata": {
      "needs_background": "light"
     },
     "output_type": "display_data"
    }
   ],
   "source": [
    "sns.heatmap(train[[\"gender\",\"morning visit purchase ratio\",\"morning-lunch purchase ratio\",\n",
    "                   \"morning purchase ratio\",\"morning purchase price\",\"morning-lunch purchase count\",\n",
    "                   \"morning-lunch purchase price\"]].corr(),annot=True, fmt = \".2f\", cmap = \"coolwarm\")"
   ]
  },
  {
   "cell_type": "code",
   "execution_count": 34,
   "metadata": {},
   "outputs": [],
   "source": [
    "# lightgbm 알고리즘에 한글로된 컬럼은 넣어지지 않아 이를 해결하고\n",
    "# 학습시키기위해 한글로 된 컬럼명을 영어로 바꿔줍니다.\n",
    "def data_setting(data):\n",
    "    data['purchasing number'] = data['구매건수']\n",
    "    data['average purchase price'] = data['평균구매가격']\n",
    "    data['visit days'] = data['내점일수']\n",
    "    data['spring purchase number'] = data['봄_구매건수']\n",
    "    data['summer purchase number'] = data['여름_구매건수']\n",
    "    data['autumn purchase number'] = data['가을_구매건수']\n",
    "    data['winter purchase number'] = data['겨울_구매건수']\n",
    "    data['morning purchase number'] = data['아침_구매건수']\n",
    "    data['lunch purchase number'] = data['점심_구매건수']\n",
    "    return"
   ]
  },
  {
   "cell_type": "code",
   "execution_count": 35,
   "metadata": {},
   "outputs": [
    {
     "data": {
      "text/html": [
       "<div>\n",
       "<style scoped>\n",
       "    .dataframe tbody tr th:only-of-type {\n",
       "        vertical-align: middle;\n",
       "    }\n",
       "\n",
       "    .dataframe tbody tr th {\n",
       "        vertical-align: top;\n",
       "    }\n",
       "\n",
       "    .dataframe thead th {\n",
       "        text-align: right;\n",
       "    }\n",
       "</style>\n",
       "<table border=\"1\" class=\"dataframe\">\n",
       "  <thead>\n",
       "    <tr style=\"text-align: right;\">\n",
       "      <th>custid</th>\n",
       "      <th>18</th>\n",
       "    </tr>\n",
       "  </thead>\n",
       "  <tbody>\n",
       "    <tr>\n",
       "      <th>gender</th>\n",
       "      <td>0.0</td>\n",
       "    </tr>\n",
       "    <tr>\n",
       "      <th>총구매액</th>\n",
       "      <td>680100.0</td>\n",
       "    </tr>\n",
       "    <tr>\n",
       "      <th>구매건수</th>\n",
       "      <td>15.0</td>\n",
       "    </tr>\n",
       "    <tr>\n",
       "      <th>평균구매가격</th>\n",
       "      <td>45340.0</td>\n",
       "    </tr>\n",
       "    <tr>\n",
       "      <th>평균할부개월수</th>\n",
       "      <td>1.7</td>\n",
       "    </tr>\n",
       "    <tr>\n",
       "      <th>구매브랜드종류</th>\n",
       "      <td>9.0</td>\n",
       "    </tr>\n",
       "    <tr>\n",
       "      <th>내점일수</th>\n",
       "      <td>10.0</td>\n",
       "    </tr>\n",
       "    <tr>\n",
       "      <th>morning visit purchase ratio</th>\n",
       "      <td>0.0</td>\n",
       "    </tr>\n",
       "    <tr>\n",
       "      <th>수입상품_구매비율</th>\n",
       "      <td>26.7</td>\n",
       "    </tr>\n",
       "    <tr>\n",
       "      <th>주말방문비율</th>\n",
       "      <td>100.0</td>\n",
       "    </tr>\n",
       "    <tr>\n",
       "      <th>가을_구매건수</th>\n",
       "      <td>0.0</td>\n",
       "    </tr>\n",
       "    <tr>\n",
       "      <th>겨울_구매건수</th>\n",
       "      <td>9.0</td>\n",
       "    </tr>\n",
       "    <tr>\n",
       "      <th>봄_구매건수</th>\n",
       "      <td>6.0</td>\n",
       "    </tr>\n",
       "    <tr>\n",
       "      <th>여름_구매건수</th>\n",
       "      <td>0.0</td>\n",
       "    </tr>\n",
       "    <tr>\n",
       "      <th>morning purchase price</th>\n",
       "      <td>0.0</td>\n",
       "    </tr>\n",
       "    <tr>\n",
       "      <th>아침_구매건수</th>\n",
       "      <td>0.0</td>\n",
       "    </tr>\n",
       "    <tr>\n",
       "      <th>morning purchase ratio</th>\n",
       "      <td>0.0</td>\n",
       "    </tr>\n",
       "    <tr>\n",
       "      <th>morning-lunch purchase price</th>\n",
       "      <td>408060.0</td>\n",
       "    </tr>\n",
       "    <tr>\n",
       "      <th>morning-lunch purchase count</th>\n",
       "      <td>9.0</td>\n",
       "    </tr>\n",
       "    <tr>\n",
       "      <th>morning-lunch purchase ratio</th>\n",
       "      <td>0.6</td>\n",
       "    </tr>\n",
       "    <tr>\n",
       "      <th>저녁_구매건수</th>\n",
       "      <td>6.0</td>\n",
       "    </tr>\n",
       "    <tr>\n",
       "      <th>점심_구매건수</th>\n",
       "      <td>9.0</td>\n",
       "    </tr>\n",
       "    <tr>\n",
       "      <th>주구매코너</th>\n",
       "      <td>24.0</td>\n",
       "    </tr>\n",
       "    <tr>\n",
       "      <th>purchasing number</th>\n",
       "      <td>15.0</td>\n",
       "    </tr>\n",
       "    <tr>\n",
       "      <th>average purchase price</th>\n",
       "      <td>45340.0</td>\n",
       "    </tr>\n",
       "    <tr>\n",
       "      <th>visit days</th>\n",
       "      <td>10.0</td>\n",
       "    </tr>\n",
       "    <tr>\n",
       "      <th>spring purchase number</th>\n",
       "      <td>6.0</td>\n",
       "    </tr>\n",
       "    <tr>\n",
       "      <th>summer purchase number</th>\n",
       "      <td>0.0</td>\n",
       "    </tr>\n",
       "    <tr>\n",
       "      <th>autumn purchase number</th>\n",
       "      <td>0.0</td>\n",
       "    </tr>\n",
       "    <tr>\n",
       "      <th>winter purchase number</th>\n",
       "      <td>9.0</td>\n",
       "    </tr>\n",
       "    <tr>\n",
       "      <th>morning purchase number</th>\n",
       "      <td>0.0</td>\n",
       "    </tr>\n",
       "    <tr>\n",
       "      <th>lunch purchase number</th>\n",
       "      <td>9.0</td>\n",
       "    </tr>\n",
       "  </tbody>\n",
       "</table>\n",
       "</div>"
      ],
      "text/plain": [
       "custid                              18\n",
       "gender                             0.0\n",
       "총구매액                          680100.0\n",
       "구매건수                              15.0\n",
       "평균구매가격                         45340.0\n",
       "평균할부개월수                            1.7\n",
       "구매브랜드종류                            9.0\n",
       "내점일수                              10.0\n",
       "morning visit purchase ratio       0.0\n",
       "수입상품_구매비율                         26.7\n",
       "주말방문비율                           100.0\n",
       "가을_구매건수                            0.0\n",
       "겨울_구매건수                            9.0\n",
       "봄_구매건수                             6.0\n",
       "여름_구매건수                            0.0\n",
       "morning purchase price             0.0\n",
       "아침_구매건수                            0.0\n",
       "morning purchase ratio             0.0\n",
       "morning-lunch purchase price  408060.0\n",
       "morning-lunch purchase count       9.0\n",
       "morning-lunch purchase ratio       0.6\n",
       "저녁_구매건수                            6.0\n",
       "점심_구매건수                            9.0\n",
       "주구매코너                             24.0\n",
       "purchasing number                 15.0\n",
       "average purchase price         45340.0\n",
       "visit days                        10.0\n",
       "spring purchase number             6.0\n",
       "summer purchase number             0.0\n",
       "autumn purchase number             0.0\n",
       "winter purchase number             9.0\n",
       "morning purchase number            0.0\n",
       "lunch purchase number              9.0"
      ]
     },
     "execution_count": 35,
     "metadata": {},
     "output_type": "execute_result"
    }
   ],
   "source": [
    "data_setting(train)\n",
    "train.head(1).T"
   ]
  },
  {
   "cell_type": "code",
   "execution_count": 36,
   "metadata": {},
   "outputs": [],
   "source": [
    "# 학습용 데이터 확정\n",
    "trainCP = train.copy()\n",
    "trainLD = trainCP.drop(['총구매액','구매브랜드종류','주말방문비율','저녁_구매건수',\n",
    "                          '평균할부개월수','수입상품_구매비율','주구매코너'], axis=1)\n",
    "trainFD = trainLD.drop(['구매건수','평균구매가격','내점일수','봄_구매건수','여름_구매건수',\n",
    "                          '가을_구매건수','겨울_구매건수','아침_구매건수','점심_구매건수'], axis=1)\n",
    "dy = trainFD['gender']\n",
    "dx = trainFD.drop(['gender'], axis=1)"
   ]
  },
  {
   "cell_type": "code",
   "execution_count": 37,
   "metadata": {},
   "outputs": [
    {
     "name": "stdout",
     "output_type": "stream",
     "text": [
      "(5000, 15)\n"
     ]
    },
    {
     "data": {
      "text/html": [
       "<div>\n",
       "<style scoped>\n",
       "    .dataframe tbody tr th:only-of-type {\n",
       "        vertical-align: middle;\n",
       "    }\n",
       "\n",
       "    .dataframe tbody tr th {\n",
       "        vertical-align: top;\n",
       "    }\n",
       "\n",
       "    .dataframe thead th {\n",
       "        text-align: right;\n",
       "    }\n",
       "</style>\n",
       "<table border=\"1\" class=\"dataframe\">\n",
       "  <thead>\n",
       "    <tr style=\"text-align: right;\">\n",
       "      <th></th>\n",
       "      <th>gender</th>\n",
       "      <th>morning visit purchase ratio</th>\n",
       "      <th>morning purchase price</th>\n",
       "      <th>morning purchase ratio</th>\n",
       "      <th>morning-lunch purchase price</th>\n",
       "      <th>morning-lunch purchase count</th>\n",
       "      <th>morning-lunch purchase ratio</th>\n",
       "      <th>purchasing number</th>\n",
       "      <th>average purchase price</th>\n",
       "      <th>visit days</th>\n",
       "      <th>spring purchase number</th>\n",
       "      <th>summer purchase number</th>\n",
       "      <th>autumn purchase number</th>\n",
       "      <th>winter purchase number</th>\n",
       "      <th>morning purchase number</th>\n",
       "      <th>lunch purchase number</th>\n",
       "    </tr>\n",
       "    <tr>\n",
       "      <th>custid</th>\n",
       "      <th></th>\n",
       "      <th></th>\n",
       "      <th></th>\n",
       "      <th></th>\n",
       "      <th></th>\n",
       "      <th></th>\n",
       "      <th></th>\n",
       "      <th></th>\n",
       "      <th></th>\n",
       "      <th></th>\n",
       "      <th></th>\n",
       "      <th></th>\n",
       "      <th></th>\n",
       "      <th></th>\n",
       "      <th></th>\n",
       "      <th></th>\n",
       "    </tr>\n",
       "  </thead>\n",
       "  <tbody>\n",
       "    <tr>\n",
       "      <th>18</th>\n",
       "      <td>0</td>\n",
       "      <td>0.0</td>\n",
       "      <td>0.0</td>\n",
       "      <td>0.0</td>\n",
       "      <td>408060.0</td>\n",
       "      <td>9.0</td>\n",
       "      <td>0.6</td>\n",
       "      <td>15</td>\n",
       "      <td>45340</td>\n",
       "      <td>10</td>\n",
       "      <td>6.0</td>\n",
       "      <td>0.0</td>\n",
       "      <td>0.0</td>\n",
       "      <td>9.0</td>\n",
       "      <td>0.0</td>\n",
       "      <td>9.0</td>\n",
       "    </tr>\n",
       "  </tbody>\n",
       "</table>\n",
       "</div>"
      ],
      "text/plain": [
       "        gender  morning visit purchase ratio  morning purchase price  \\\n",
       "custid                                                                 \n",
       "18           0                           0.0                     0.0   \n",
       "\n",
       "        morning purchase ratio  morning-lunch purchase price  \\\n",
       "custid                                                         \n",
       "18                         0.0                      408060.0   \n",
       "\n",
       "        morning-lunch purchase count  morning-lunch purchase ratio  \\\n",
       "custid                                                               \n",
       "18                               9.0                           0.6   \n",
       "\n",
       "        purchasing number  average purchase price  visit days  \\\n",
       "custid                                                          \n",
       "18                     15                   45340          10   \n",
       "\n",
       "        spring purchase number  summer purchase number  \\\n",
       "custid                                                   \n",
       "18                         6.0                     0.0   \n",
       "\n",
       "        autumn purchase number  winter purchase number  \\\n",
       "custid                                                   \n",
       "18                         0.0                     9.0   \n",
       "\n",
       "        morning purchase number  lunch purchase number  \n",
       "custid                                                  \n",
       "18                          0.0                    9.0  "
      ]
     },
     "execution_count": 37,
     "metadata": {},
     "output_type": "execute_result"
    }
   ],
   "source": [
    "print(dx.shape)\n",
    "trainFD.head(1)"
   ]
  },
  {
   "cell_type": "markdown",
   "metadata": {},
   "source": [
    "- <font color = \"#CC3D3D\">최종적으로 SMOTE + Tomek의 복합샘플링기법을 이용한 X_resampled,y_resampled를 사용함<font>"
   ]
  },
  {
   "cell_type": "code",
   "execution_count": 38,
   "metadata": {},
   "outputs": [
    {
     "name": "stdout",
     "output_type": "stream",
     "text": [
      "(5000, 15) (5914, 15) (4435, 15) (1479, 15)\n"
     ]
    }
   ],
   "source": [
    "X_resampled, y_resampled = SMOTETomek(random_state=0).fit_sample(dx, dy)\n",
    "X_train, X_test, y_train, y_test = train_test_split(X_resampled, y_resampled, test_size=0.25, random_state=0)\n",
    "print(dx.shape, X_resampled.shape, X_train.shape, X_test.shape)"
   ]
  },
  {
   "cell_type": "markdown",
   "metadata": {},
   "source": [
    "- <font color = \"#CC3D3D\">ML_exam_v1.0 파일에 있는 코드를 이용해 최고 0.784의 예측률을 만들어냄<font>"
   ]
  },
  {
   "cell_type": "code",
   "execution_count": 39,
   "metadata": {},
   "outputs": [],
   "source": [
    "def bestGBDTNextModel(model, isKfold, nfold, searchCV, Xtrain, ytrain, Xtest, ytest, nIter, scoring, errScore, verbose, nJobs):\n",
    "    grd_prams = {}\n",
    "    classifier = LGBMClassifier(random_state=0, objective='binary:logistic')\n",
    "    cv = KFold(n_splits=nfold, shuffle=True, random_state=0)\n",
    "    if model == 'LGBM':  \n",
    "        grd_prams.update({'max_depth': [50, 100],\n",
    "              'learning_rate' : [0.01, 0.05],\n",
    "              'num_leaves': [150, 200],\n",
    "              'n_estimators': [300, 400],\n",
    "              'num_boost_round':[4000, 5000],\n",
    "              'subsample': [0.5, 1],\n",
    "              'reg_alpha': [0.01, 0.1],\n",
    "              'reg_lambda': [0.01, 0.1],\n",
    "              'min_data_in_leaf': [20, 30],\n",
    "              'lambda_l1': [0.01, 0.1],\n",
    "              'lambda_l2': [0.01, 0.1]\n",
    "            })\n",
    "        classifier = LGBMClassifier(random_state=0, boosting_type='gbdt', objective='binary', metric='auc')\n",
    "    if isKfold == False:\n",
    "        cv = StratifiedShuffleSplit(n_splits=nfold, test_size=0.2, random_state=0)\n",
    "    grid_ = RandomizedSearchCV(classifier, param_distributions=grd_prams,\n",
    "                               n_iter=nIter, scoring=scoring, error_score=errScore, verbose=verbose, n_jobs=nJobs, cv=cv)\n",
    "    grid_.fit(Xtrain, ytrain)\n",
    "    score_ = grid_.score(Xtest, ytest)\n",
    "    print(\"{} grid_.best_score {}\".format(model, np.round(grid_.best_score_,3)))\n",
    "    print(\"{} grid_.best_score {}\".format(model, np.round(score_,3)))\n",
    "    print(\"{} best_estimator {}\".format(model, grid_.best_estimator_))\n",
    "    return grid_.best_params_"
   ]
  },
  {
   "cell_type": "code",
   "execution_count": 41,
   "metadata": {},
   "outputs": [
    {
     "name": "stdout",
     "output_type": "stream",
     "text": [
      "Fitting 5 folds for each of 15 candidates, totalling 75 fits\n"
     ]
    },
    {
     "name": "stderr",
     "output_type": "stream",
     "text": [
      "[Parallel(n_jobs=-1)]: Using backend LokyBackend with 4 concurrent workers.\n",
      "[Parallel(n_jobs=-1)]: Done  24 tasks      | elapsed:  1.3min\n",
      "[Parallel(n_jobs=-1)]: Done  75 out of  75 | elapsed:  6.5min finished\n"
     ]
    },
    {
     "name": "stdout",
     "output_type": "stream",
     "text": [
      "LGBM grid_.best_score 0.823\n",
      "LGBM grid_.best_score 0.86\n",
      "LGBM best_estimator LGBMClassifier(boosting_type='gbdt', class_weight=None, colsample_bytree=1.0,\n",
      "               importance_type='split', lambda_l1=0.01, lambda_l2=0.01,\n",
      "               learning_rate=0.01, max_depth=50, metric='auc',\n",
      "               min_child_samples=20, min_child_weight=0.001,\n",
      "               min_data_in_leaf=20, min_split_gain=0.0, n_estimators=400,\n",
      "               n_jobs=-1, num_boost_round=4000, num_leaves=150,\n",
      "               objective='binary', random_state=0, reg_alpha=0.1,\n",
      "               reg_lambda=0.1, silent=True, subsample=0.5,\n",
      "               subsample_for_bin=200000, subsample_freq=0)\n",
      "score_lgbm ::: 0.7843137254901961\n",
      "-----------------------------------\n",
      "              precision    recall  f1-score   support\n",
      "\n",
      "           0       0.77      0.81      0.79       738\n",
      "           1       0.80      0.76      0.78       741\n",
      "\n",
      "    accuracy                           0.78      1479\n",
      "   macro avg       0.79      0.78      0.78      1479\n",
      "weighted avg       0.79      0.78      0.78      1479\n",
      "\n"
     ]
    }
   ],
   "source": [
    "best_param = bestGBDTNextModel('LGBM', False, 5, 'RANDOM', X_train, y_train, X_test, y_test, 15, 'roc_auc', 0, 3, -1)\n",
    "lgbm = LGBMClassifier(**best_param)\n",
    "score_lgbm = lgbm.fit(X_train, y_train).score(X_test, y_test)\n",
    "print(\"score_lgbm ::: {}\".format(score_lgbm))\n",
    "print(\"-----------------------------------\")\n",
    "y_lgbm = lgbm.predict(X_test)\n",
    "print(classification_report(y_test, y_lgbm))"
   ]
  },
  {
   "cell_type": "markdown",
   "metadata": {},
   "source": [
    "# Deployment"
   ]
  },
  {
   "cell_type": "code",
   "execution_count": 40,
   "metadata": {},
   "outputs": [
    {
     "data": {
      "text/html": [
       "<div>\n",
       "<style scoped>\n",
       "    .dataframe tbody tr th:only-of-type {\n",
       "        vertical-align: middle;\n",
       "    }\n",
       "\n",
       "    .dataframe tbody tr th {\n",
       "        vertical-align: top;\n",
       "    }\n",
       "\n",
       "    .dataframe thead th {\n",
       "        text-align: right;\n",
       "    }\n",
       "</style>\n",
       "<table border=\"1\" class=\"dataframe\">\n",
       "  <thead>\n",
       "    <tr style=\"text-align: right;\">\n",
       "      <th></th>\n",
       "      <th>총구매액</th>\n",
       "      <th>구매건수</th>\n",
       "      <th>평균구매가격</th>\n",
       "      <th>평균할부개월수</th>\n",
       "      <th>구매브랜드종류</th>\n",
       "      <th>내점일수</th>\n",
       "      <th>수입상품_구매비율</th>\n",
       "      <th>주말방문비율</th>\n",
       "      <th>가을_구매건수</th>\n",
       "      <th>겨울_구매건수</th>\n",
       "      <th>봄_구매건수</th>\n",
       "      <th>여름_구매건수</th>\n",
       "      <th>아침_구매건수</th>\n",
       "      <th>저녁_구매건수</th>\n",
       "      <th>점심_구매건수</th>\n",
       "      <th>주구매코너</th>\n",
       "    </tr>\n",
       "    <tr>\n",
       "      <th>custid</th>\n",
       "      <th></th>\n",
       "      <th></th>\n",
       "      <th></th>\n",
       "      <th></th>\n",
       "      <th></th>\n",
       "      <th></th>\n",
       "      <th></th>\n",
       "      <th></th>\n",
       "      <th></th>\n",
       "      <th></th>\n",
       "      <th></th>\n",
       "      <th></th>\n",
       "      <th></th>\n",
       "      <th></th>\n",
       "      <th></th>\n",
       "      <th></th>\n",
       "    </tr>\n",
       "  </thead>\n",
       "  <tbody>\n",
       "    <tr>\n",
       "      <th>100001</th>\n",
       "      <td>3439000</td>\n",
       "      <td>25</td>\n",
       "      <td>137560</td>\n",
       "      <td>2.2</td>\n",
       "      <td>19</td>\n",
       "      <td>16</td>\n",
       "      <td>12.0</td>\n",
       "      <td>31.2</td>\n",
       "      <td>5.0</td>\n",
       "      <td>4.0</td>\n",
       "      <td>7.0</td>\n",
       "      <td>9.0</td>\n",
       "      <td>13.0</td>\n",
       "      <td>1.0</td>\n",
       "      <td>11.0</td>\n",
       "      <td>장.신구</td>\n",
       "    </tr>\n",
       "  </tbody>\n",
       "</table>\n",
       "</div>"
      ],
      "text/plain": [
       "           총구매액  구매건수  평균구매가격  평균할부개월수  구매브랜드종류  내점일수  수입상품_구매비율  주말방문비율  \\\n",
       "custid                                                                     \n",
       "100001  3439000    25  137560      2.2       19    16       12.0    31.2   \n",
       "\n",
       "        가을_구매건수  겨울_구매건수  봄_구매건수  여름_구매건수  아침_구매건수  저녁_구매건수  점심_구매건수 주구매코너  \n",
       "custid                                                                      \n",
       "100001      5.0      4.0     7.0      9.0     13.0      1.0     11.0  장.신구  "
      ]
     },
     "execution_count": 40,
     "metadata": {},
     "output_type": "execute_result"
    }
   ],
   "source": [
    "# 1. 예측용 데이터(test.csv) 불러오기\n",
    "test = pd.read_csv('data/test.csv', encoding='cp949', index_col='custid')\n",
    "test_ = test.copy()\n",
    "test_.head(1)"
   ]
  },
  {
   "cell_type": "code",
   "execution_count": 41,
   "metadata": {},
   "outputs": [
    {
     "data": {
      "text/plain": [
       "총구매액            0\n",
       "구매건수            0\n",
       "평균구매가격          0\n",
       "평균할부개월수         0\n",
       "구매브랜드종류         0\n",
       "내점일수            0\n",
       "수입상품_구매비율       0\n",
       "주말방문비율          0\n",
       "가을_구매건수       948\n",
       "겨울_구매건수       911\n",
       "봄_구매건수        681\n",
       "여름_구매건수       991\n",
       "아침_구매건수      1392\n",
       "저녁_구매건수      1025\n",
       "점심_구매건수       139\n",
       "주구매코너           0\n",
       "dtype: int64"
      ]
     },
     "execution_count": 41,
     "metadata": {},
     "output_type": "execute_result"
    }
   ],
   "source": [
    "# 예측용 데이터의 결측치 확인\n",
    "test_.isnull().sum()"
   ]
  },
  {
   "cell_type": "code",
   "execution_count": 42,
   "metadata": {},
   "outputs": [
    {
     "data": {
      "text/plain": [
       "0"
      ]
     },
     "metadata": {},
     "output_type": "display_data"
    },
    {
     "data": {
      "text/plain": [
       "(5000, 15)"
      ]
     },
     "metadata": {},
     "output_type": "display_data"
    },
    {
     "data": {
      "text/plain": [
       "(5000, 15)"
      ]
     },
     "metadata": {},
     "output_type": "display_data"
    },
    {
     "data": {
      "text/html": [
       "<div>\n",
       "<style scoped>\n",
       "    .dataframe tbody tr th:only-of-type {\n",
       "        vertical-align: middle;\n",
       "    }\n",
       "\n",
       "    .dataframe tbody tr th {\n",
       "        vertical-align: top;\n",
       "    }\n",
       "\n",
       "    .dataframe thead th {\n",
       "        text-align: right;\n",
       "    }\n",
       "</style>\n",
       "<table border=\"1\" class=\"dataframe\">\n",
       "  <thead>\n",
       "    <tr style=\"text-align: right;\">\n",
       "      <th></th>\n",
       "      <th>morning visit purchase ratio</th>\n",
       "      <th>morning purchase price</th>\n",
       "      <th>morning purchase ratio</th>\n",
       "      <th>morning-lunch purchase price</th>\n",
       "      <th>morning-lunch purchase count</th>\n",
       "      <th>morning-lunch purchase ratio</th>\n",
       "      <th>purchasing number</th>\n",
       "      <th>average purchase price</th>\n",
       "      <th>visit days</th>\n",
       "      <th>spring purchase number</th>\n",
       "      <th>summer purchase number</th>\n",
       "      <th>autumn purchase number</th>\n",
       "      <th>winter purchase number</th>\n",
       "      <th>morning purchase number</th>\n",
       "      <th>lunch purchase number</th>\n",
       "    </tr>\n",
       "    <tr>\n",
       "      <th>custid</th>\n",
       "      <th></th>\n",
       "      <th></th>\n",
       "      <th></th>\n",
       "      <th></th>\n",
       "      <th></th>\n",
       "      <th></th>\n",
       "      <th></th>\n",
       "      <th></th>\n",
       "      <th></th>\n",
       "      <th></th>\n",
       "      <th></th>\n",
       "      <th></th>\n",
       "      <th></th>\n",
       "      <th></th>\n",
       "      <th></th>\n",
       "    </tr>\n",
       "  </thead>\n",
       "  <tbody>\n",
       "    <tr>\n",
       "      <th>100001</th>\n",
       "      <td>0.8125</td>\n",
       "      <td>1788280.0</td>\n",
       "      <td>0.0</td>\n",
       "      <td>3301440.0</td>\n",
       "      <td>24.0</td>\n",
       "      <td>0.96</td>\n",
       "      <td>25</td>\n",
       "      <td>137560</td>\n",
       "      <td>16</td>\n",
       "      <td>7.0</td>\n",
       "      <td>9.0</td>\n",
       "      <td>5.0</td>\n",
       "      <td>4.0</td>\n",
       "      <td>13.0</td>\n",
       "      <td>11.0</td>\n",
       "    </tr>\n",
       "  </tbody>\n",
       "</table>\n",
       "</div>"
      ],
      "text/plain": [
       "        morning visit purchase ratio  morning purchase price  \\\n",
       "custid                                                         \n",
       "100001                        0.8125               1788280.0   \n",
       "\n",
       "        morning purchase ratio  morning-lunch purchase price  \\\n",
       "custid                                                         \n",
       "100001                     0.0                     3301440.0   \n",
       "\n",
       "        morning-lunch purchase count  morning-lunch purchase ratio  \\\n",
       "custid                                                               \n",
       "100001                          24.0                          0.96   \n",
       "\n",
       "        purchasing number  average purchase price  visit days  \\\n",
       "custid                                                          \n",
       "100001                 25                  137560          16   \n",
       "\n",
       "        spring purchase number  summer purchase number  \\\n",
       "custid                                                   \n",
       "100001                     7.0                     9.0   \n",
       "\n",
       "        autumn purchase number  winter purchase number  \\\n",
       "custid                                                   \n",
       "100001                     5.0                     4.0   \n",
       "\n",
       "        morning purchase number  lunch purchase number  \n",
       "custid                                                  \n",
       "100001                     13.0                   11.0  "
      ]
     },
     "execution_count": 42,
     "metadata": {},
     "output_type": "execute_result"
    }
   ],
   "source": [
    "# 2. test 파일도 동일하게 결측치 처리\n",
    "test_.fillna(0, inplace=True)\n",
    "\n",
    "# 3. train 파일과 동일하게 범주형을 숫자형으로 바꿔줍니다.\n",
    "obj = ['주구매코너']\n",
    "test_[obj] = test[obj].apply(lambda x: x.astype('category').cat.codes)\n",
    "\n",
    "# 4. test 파일에 train과 동일한 파생변수 추가\n",
    "create_feature(test_)\n",
    "\n",
    "# 5. 한글컬럼명을 영어로 바꿔줌\n",
    "data_setting(test_)\n",
    "\n",
    "# 6. 예측용 데이터로 변형\n",
    "testCP = test_.copy()\n",
    "testLD = testCP.drop(['총구매액','구매브랜드종류','주말방문비율','저녁_구매건수',\n",
    "                          '평균할부개월수','수입상품_구매비율','주구매코너'], axis=1)\n",
    "pred_test = testLD.drop(['구매건수','평균구매가격','내점일수','봄_구매건수','여름_구매건수',\n",
    "                          '가을_구매건수','겨울_구매건수','아침_구매건수','점심_구매건수'], axis=1)\n",
    "\n",
    "# 예측용 데이터안에 결측값이 채워졌는지 확인 합니다.\n",
    "display(pred_test.isnull().sum().sum())\n",
    "# 예측용 데이터가 train 학습용 데이터와 일치하는지 확인\n",
    "display(dx.shape, pred_test.shape)\n",
    "\n",
    "pred_test.head(1)"
   ]
  },
  {
   "cell_type": "markdown",
   "metadata": {},
   "source": [
    "### Best Model"
   ]
  },
  {
   "cell_type": "code",
   "execution_count": 45,
   "metadata": {},
   "outputs": [
    {
     "name": "stdout",
     "output_type": "stream",
     "text": [
      "super_model ---------------------------------------0.786\n",
      "              precision    recall  f1-score   support\n",
      "\n",
      "           0       0.77      0.82      0.79       738\n",
      "           1       0.81      0.75      0.78       741\n",
      "\n",
      "    accuracy                           0.79      1479\n",
      "   macro avg       0.79      0.79      0.79      1479\n",
      "weighted avg       0.79      0.79      0.79      1479\n",
      "\n"
     ]
    }
   ],
   "source": [
    "# 앞에서 학습한 베스트 모델 예측률 : 0.79\n",
    "# 학습데이터에 알맞은 best estimators\n",
    "super_model = LGBMClassifier(boosting_type='gbdt', class_weight=None, colsample_bytree=1.0,\n",
    "               importance_type='split', lambda_l1=0.1, lambda_l2=0.01,\n",
    "               learning_rate=0.01, max_depth=100, metric='auc',\n",
    "               min_child_samples=20, min_child_weight=0.001,\n",
    "               min_data_in_leaf=20, min_split_gain=0.0, n_estimators=300,\n",
    "               n_jobs=-1, num_boost_round=5000, num_leaves=200,\n",
    "               objective='binary', random_state=0, reg_alpha=0.01,\n",
    "               reg_lambda=0.01, silent=True, subsample=0.5,\n",
    "               subsample_for_bin=200000, subsample_freq=0)\n",
    "best_score = super_model.fit(X_train, y_train).score(X_test, y_test)\n",
    "y_super = super_model.predict(X_test)\n",
    "\n",
    "print(\"super_model ---------------------------------------{}\".format(np.round(best_score,3)))\n",
    "print(classification_report(y_test, y_super))"
   ]
  },
  {
   "cell_type": "markdown",
   "metadata": {},
   "source": [
    "- <font color = \"#CC3D3D\">best model 성능확인<font>"
   ]
  },
  {
   "cell_type": "markdown",
   "metadata": {
    "colab": {
     "autoexec": {
      "startup": false,
      "wait_interval": 0
     }
    },
    "colab_type": "code",
    "id": "HZOMDTeBN5hr"
   },
   "source": [
    "#### AUC"
   ]
  },
  {
   "cell_type": "code",
   "execution_count": 46,
   "metadata": {},
   "outputs": [
    {
     "data": {
      "text/plain": [
       "0.8578643816127769"
      ]
     },
     "execution_count": 46,
     "metadata": {},
     "output_type": "execute_result"
    }
   ],
   "source": [
    "fpr, tpr, _ = roc_curve(y_test, super_model.predict_proba(X_test)[:,1])\n",
    "auc(fpr, tpr)"
   ]
  },
  {
   "cell_type": "markdown",
   "metadata": {
    "colab_type": "text",
    "id": "NLGktmeZN5ht"
   },
   "source": [
    "##### Define ROC curve drawing fuction ####"
   ]
  },
  {
   "cell_type": "code",
   "execution_count": 47,
   "metadata": {},
   "outputs": [],
   "source": [
    "def plot_roc_curve(fpr, tpr, model, color=None) :\n",
    "    model = model + ' (auc = %0.3f)' % auc(fpr, tpr)\n",
    "    plt.plot(fpr, tpr, label=model, color=color)\n",
    "    plt.plot([0, 1], [0, 1], color='navy', linestyle='--')\n",
    "    plt.axis([0,1,0,1])\n",
    "    plt.xlabel('FPR (1 - specificity)')\n",
    "    plt.ylabel('TPR (recall)')\n",
    "    plt.title('ROC curve')\n",
    "    plt.legend(loc=\"lower right\")"
   ]
  },
  {
   "cell_type": "code",
   "execution_count": 48,
   "metadata": {},
   "outputs": [
    {
     "data": {
      "image/png": "[encoded data removed]",
      "text/plain": [
       "<Figure size 432x288 with 1 Axes>"
      ]
     },
     "metadata": {
      "needs_background": "light"
     },
     "output_type": "display_data"
    }
   ],
   "source": [
    "fpr_dummy, tpr_dummy, _ = roc_curve(y_test, \n",
    "                                    dummy.predict_proba(X_test)[:,1])\n",
    "plot_roc_curve(fpr_dummy, tpr_dummy, 'dummy model', 'hotpink')\n",
    "fpr_tree, tpr_tree, _ = roc_curve(y_test, \n",
    "                                  super_model.predict_proba(X_test)[:,1])\n",
    "plot_roc_curve(fpr_tree, tpr_tree, 'lightgbm', 'darkgreen')"
   ]
  },
  {
   "cell_type": "markdown",
   "metadata": {},
   "source": [
    "- <font color = \"#CC3D3D\">아래 그림상의 0.85와 0.95사이의 모형성능을 보임<font>"
   ]
  },
  {
   "cell_type": "markdown",
   "metadata": {
    "colab_type": "text",
    "id": "IsdOm5-vN5hr"
   },
   "source": [
    "<font color='green'>\n",
    "<p>\n",
    "### ROC & AUC \n",
    "\n",
    "<img align=\"left\" src=\"http://drive.google.com/uc?export=view&id=1Htx445FclSqHhhNxPT_uOYQOBiuneWXJ\" width=auto height=auto>"
   ]
  },
  {
   "cell_type": "markdown",
   "metadata": {},
   "source": [
    "#### PR curve"
   ]
  },
  {
   "cell_type": "code",
   "execution_count": 49,
   "metadata": {},
   "outputs": [],
   "source": [
    "from sklearn.metrics import precision_recall_curve\n",
    "\n",
    "def plot_precision_recall_curve(precisions, recalls) :\n",
    "    plt.plot(recalls, precisions, color='blue')\n",
    "    plt.axis([0,1,0,1])\n",
    "    plt.xlabel('Recall')\n",
    "    plt.ylabel('Precision')\n",
    "    plt.title('PR curve')"
   ]
  },
  {
   "cell_type": "code",
   "execution_count": 50,
   "metadata": {},
   "outputs": [
    {
     "data": {
      "image/png": "[encoded data removed]",
      "text/plain": [
       "<Figure size 432x288 with 1 Axes>"
      ]
     },
     "metadata": {
      "needs_background": "light"
     },
     "output_type": "display_data"
    }
   ],
   "source": [
    "precisions, recalls, _ = precision_recall_curve(y_test, \n",
    "                                    super_model.predict_proba(X_test)[:,1])\n",
    "plot_precision_recall_curve(precisions, recalls)"
   ]
  },
  {
   "cell_type": "markdown",
   "metadata": {},
   "source": [
    "### predict"
   ]
  },
  {
   "cell_type": "code",
   "execution_count": 51,
   "metadata": {},
   "outputs": [],
   "source": [
    "# 선정한 best model을 이용해 성별 예측\n",
    "new_data = pred_test.copy()\n",
    "new_data['gender_predict'] = super_model.predict(pred_test)\n",
    "new_data['gender_pred_prob'] = super_model.predict_proba(pred_test)[:,1]"
   ]
  },
  {
   "cell_type": "code",
   "execution_count": 52,
   "metadata": {},
   "outputs": [
    {
     "data": {
      "text/html": [
       "<div>\n",
       "<style scoped>\n",
       "    .dataframe tbody tr th:only-of-type {\n",
       "        vertical-align: middle;\n",
       "    }\n",
       "\n",
       "    .dataframe tbody tr th {\n",
       "        vertical-align: top;\n",
       "    }\n",
       "\n",
       "    .dataframe thead th {\n",
       "        text-align: right;\n",
       "    }\n",
       "</style>\n",
       "<table border=\"1\" class=\"dataframe\">\n",
       "  <thead>\n",
       "    <tr style=\"text-align: right;\">\n",
       "      <th></th>\n",
       "      <th>총구매액</th>\n",
       "      <th>구매건수</th>\n",
       "      <th>평균구매가격</th>\n",
       "      <th>평균할부개월수</th>\n",
       "      <th>구매브랜드종류</th>\n",
       "      <th>내점일수</th>\n",
       "      <th>수입상품_구매비율</th>\n",
       "      <th>주말방문비율</th>\n",
       "      <th>가을_구매건수</th>\n",
       "      <th>겨울_구매건수</th>\n",
       "      <th>봄_구매건수</th>\n",
       "      <th>여름_구매건수</th>\n",
       "      <th>아침_구매건수</th>\n",
       "      <th>저녁_구매건수</th>\n",
       "      <th>점심_구매건수</th>\n",
       "      <th>주구매코너</th>\n",
       "    </tr>\n",
       "    <tr>\n",
       "      <th>custid</th>\n",
       "      <th></th>\n",
       "      <th></th>\n",
       "      <th></th>\n",
       "      <th></th>\n",
       "      <th></th>\n",
       "      <th></th>\n",
       "      <th></th>\n",
       "      <th></th>\n",
       "      <th></th>\n",
       "      <th></th>\n",
       "      <th></th>\n",
       "      <th></th>\n",
       "      <th></th>\n",
       "      <th></th>\n",
       "      <th></th>\n",
       "      <th></th>\n",
       "    </tr>\n",
       "  </thead>\n",
       "  <tbody>\n",
       "    <tr>\n",
       "      <th>104996</th>\n",
       "      <td>670690</td>\n",
       "      <td>5</td>\n",
       "      <td>134138</td>\n",
       "      <td>1.4</td>\n",
       "      <td>5</td>\n",
       "      <td>4</td>\n",
       "      <td>0.0</td>\n",
       "      <td>75.0</td>\n",
       "      <td>1.0</td>\n",
       "      <td>2.0</td>\n",
       "      <td>2.0</td>\n",
       "      <td>NaN</td>\n",
       "      <td>1.0</td>\n",
       "      <td>1.0</td>\n",
       "      <td>3.0</td>\n",
       "      <td>일.반식품</td>\n",
       "    </tr>\n",
       "    <tr>\n",
       "      <th>104997</th>\n",
       "      <td>628700</td>\n",
       "      <td>13</td>\n",
       "      <td>48362</td>\n",
       "      <td>1.8</td>\n",
       "      <td>10</td>\n",
       "      <td>7</td>\n",
       "      <td>7.7</td>\n",
       "      <td>42.9</td>\n",
       "      <td>NaN</td>\n",
       "      <td>5.0</td>\n",
       "      <td>1.0</td>\n",
       "      <td>7.0</td>\n",
       "      <td>NaN</td>\n",
       "      <td>3.0</td>\n",
       "      <td>10.0</td>\n",
       "      <td>조.리욕실</td>\n",
       "    </tr>\n",
       "    <tr>\n",
       "      <th>104998</th>\n",
       "      <td>960923</td>\n",
       "      <td>12</td>\n",
       "      <td>80077</td>\n",
       "      <td>1.8</td>\n",
       "      <td>7</td>\n",
       "      <td>7</td>\n",
       "      <td>0.0</td>\n",
       "      <td>42.9</td>\n",
       "      <td>4.0</td>\n",
       "      <td>1.0</td>\n",
       "      <td>6.0</td>\n",
       "      <td>1.0</td>\n",
       "      <td>NaN</td>\n",
       "      <td>NaN</td>\n",
       "      <td>12.0</td>\n",
       "      <td>일.반식품</td>\n",
       "    </tr>\n",
       "    <tr>\n",
       "      <th>104999</th>\n",
       "      <td>786600</td>\n",
       "      <td>14</td>\n",
       "      <td>56186</td>\n",
       "      <td>1.7</td>\n",
       "      <td>12</td>\n",
       "      <td>9</td>\n",
       "      <td>14.3</td>\n",
       "      <td>55.6</td>\n",
       "      <td>NaN</td>\n",
       "      <td>7.0</td>\n",
       "      <td>4.0</td>\n",
       "      <td>3.0</td>\n",
       "      <td>2.0</td>\n",
       "      <td>4.0</td>\n",
       "      <td>8.0</td>\n",
       "      <td>화.장품</td>\n",
       "    </tr>\n",
       "    <tr>\n",
       "      <th>105000</th>\n",
       "      <td>2568073</td>\n",
       "      <td>76</td>\n",
       "      <td>33790</td>\n",
       "      <td>1.6</td>\n",
       "      <td>23</td>\n",
       "      <td>35</td>\n",
       "      <td>10.5</td>\n",
       "      <td>22.9</td>\n",
       "      <td>23.0</td>\n",
       "      <td>20.0</td>\n",
       "      <td>9.0</td>\n",
       "      <td>24.0</td>\n",
       "      <td>11.0</td>\n",
       "      <td>4.0</td>\n",
       "      <td>61.0</td>\n",
       "      <td>일.반식품</td>\n",
       "    </tr>\n",
       "  </tbody>\n",
       "</table>\n",
       "</div>"
      ],
      "text/plain": [
       "           총구매액  구매건수  평균구매가격  평균할부개월수  구매브랜드종류  내점일수  수입상품_구매비율  주말방문비율  \\\n",
       "custid                                                                     \n",
       "104996   670690     5  134138      1.4        5     4        0.0    75.0   \n",
       "104997   628700    13   48362      1.8       10     7        7.7    42.9   \n",
       "104998   960923    12   80077      1.8        7     7        0.0    42.9   \n",
       "104999   786600    14   56186      1.7       12     9       14.3    55.6   \n",
       "105000  2568073    76   33790      1.6       23    35       10.5    22.9   \n",
       "\n",
       "        가을_구매건수  겨울_구매건수  봄_구매건수  여름_구매건수  아침_구매건수  저녁_구매건수  점심_구매건수  주구매코너  \n",
       "custid                                                                       \n",
       "104996      1.0      2.0     2.0      NaN      1.0      1.0      3.0  일.반식품  \n",
       "104997      NaN      5.0     1.0      7.0      NaN      3.0     10.0  조.리욕실  \n",
       "104998      4.0      1.0     6.0      1.0      NaN      NaN     12.0  일.반식품  \n",
       "104999      NaN      7.0     4.0      3.0      2.0      4.0      8.0   화.장품  \n",
       "105000     23.0     20.0     9.0     24.0     11.0      4.0     61.0  일.반식품  "
      ]
     },
     "execution_count": 52,
     "metadata": {},
     "output_type": "execute_result"
    }
   ],
   "source": [
    "test.tail()"
   ]
  },
  {
   "cell_type": "code",
   "execution_count": 53,
   "metadata": {},
   "outputs": [
    {
     "data": {
      "text/html": [
       "<div>\n",
       "<style scoped>\n",
       "    .dataframe tbody tr th:only-of-type {\n",
       "        vertical-align: middle;\n",
       "    }\n",
       "\n",
       "    .dataframe tbody tr th {\n",
       "        vertical-align: top;\n",
       "    }\n",
       "\n",
       "    .dataframe thead th {\n",
       "        text-align: right;\n",
       "    }\n",
       "</style>\n",
       "<table border=\"1\" class=\"dataframe\">\n",
       "  <thead>\n",
       "    <tr style=\"text-align: right;\">\n",
       "      <th></th>\n",
       "      <th>morning visit purchase ratio</th>\n",
       "      <th>morning purchase price</th>\n",
       "      <th>morning purchase ratio</th>\n",
       "      <th>morning-lunch purchase price</th>\n",
       "      <th>morning-lunch purchase count</th>\n",
       "      <th>morning-lunch purchase ratio</th>\n",
       "      <th>purchasing number</th>\n",
       "      <th>average purchase price</th>\n",
       "      <th>visit days</th>\n",
       "      <th>spring purchase number</th>\n",
       "      <th>summer purchase number</th>\n",
       "      <th>autumn purchase number</th>\n",
       "      <th>winter purchase number</th>\n",
       "      <th>morning purchase number</th>\n",
       "      <th>lunch purchase number</th>\n",
       "      <th>gender_predict</th>\n",
       "      <th>gender_pred_prob</th>\n",
       "    </tr>\n",
       "    <tr>\n",
       "      <th>custid</th>\n",
       "      <th></th>\n",
       "      <th></th>\n",
       "      <th></th>\n",
       "      <th></th>\n",
       "      <th></th>\n",
       "      <th></th>\n",
       "      <th></th>\n",
       "      <th></th>\n",
       "      <th></th>\n",
       "      <th></th>\n",
       "      <th></th>\n",
       "      <th></th>\n",
       "      <th></th>\n",
       "      <th></th>\n",
       "      <th></th>\n",
       "      <th></th>\n",
       "      <th></th>\n",
       "    </tr>\n",
       "  </thead>\n",
       "  <tbody>\n",
       "    <tr>\n",
       "      <th>104996</th>\n",
       "      <td>0.250000</td>\n",
       "      <td>134138.0</td>\n",
       "      <td>0.200000</td>\n",
       "      <td>536552.0</td>\n",
       "      <td>4.0</td>\n",
       "      <td>0.800000</td>\n",
       "      <td>5</td>\n",
       "      <td>134138</td>\n",
       "      <td>4</td>\n",
       "      <td>2.0</td>\n",
       "      <td>0.0</td>\n",
       "      <td>1.0</td>\n",
       "      <td>2.0</td>\n",
       "      <td>1.0</td>\n",
       "      <td>3.0</td>\n",
       "      <td>0</td>\n",
       "      <td>0.001291</td>\n",
       "    </tr>\n",
       "    <tr>\n",
       "      <th>104997</th>\n",
       "      <td>0.000000</td>\n",
       "      <td>0.0</td>\n",
       "      <td>0.000000</td>\n",
       "      <td>483620.0</td>\n",
       "      <td>10.0</td>\n",
       "      <td>0.769231</td>\n",
       "      <td>13</td>\n",
       "      <td>48362</td>\n",
       "      <td>7</td>\n",
       "      <td>1.0</td>\n",
       "      <td>7.0</td>\n",
       "      <td>0.0</td>\n",
       "      <td>5.0</td>\n",
       "      <td>0.0</td>\n",
       "      <td>10.0</td>\n",
       "      <td>0</td>\n",
       "      <td>0.157573</td>\n",
       "    </tr>\n",
       "    <tr>\n",
       "      <th>104998</th>\n",
       "      <td>0.000000</td>\n",
       "      <td>0.0</td>\n",
       "      <td>0.000000</td>\n",
       "      <td>960924.0</td>\n",
       "      <td>12.0</td>\n",
       "      <td>1.000000</td>\n",
       "      <td>12</td>\n",
       "      <td>80077</td>\n",
       "      <td>7</td>\n",
       "      <td>6.0</td>\n",
       "      <td>1.0</td>\n",
       "      <td>4.0</td>\n",
       "      <td>1.0</td>\n",
       "      <td>0.0</td>\n",
       "      <td>12.0</td>\n",
       "      <td>0</td>\n",
       "      <td>0.047800</td>\n",
       "    </tr>\n",
       "    <tr>\n",
       "      <th>104999</th>\n",
       "      <td>0.222222</td>\n",
       "      <td>112372.0</td>\n",
       "      <td>0.000000</td>\n",
       "      <td>561860.0</td>\n",
       "      <td>10.0</td>\n",
       "      <td>0.714286</td>\n",
       "      <td>14</td>\n",
       "      <td>56186</td>\n",
       "      <td>9</td>\n",
       "      <td>4.0</td>\n",
       "      <td>3.0</td>\n",
       "      <td>0.0</td>\n",
       "      <td>7.0</td>\n",
       "      <td>2.0</td>\n",
       "      <td>8.0</td>\n",
       "      <td>0</td>\n",
       "      <td>0.027451</td>\n",
       "    </tr>\n",
       "    <tr>\n",
       "      <th>105000</th>\n",
       "      <td>0.314286</td>\n",
       "      <td>371690.0</td>\n",
       "      <td>0.144737</td>\n",
       "      <td>2432880.0</td>\n",
       "      <td>72.0</td>\n",
       "      <td>0.947368</td>\n",
       "      <td>76</td>\n",
       "      <td>33790</td>\n",
       "      <td>35</td>\n",
       "      <td>9.0</td>\n",
       "      <td>24.0</td>\n",
       "      <td>23.0</td>\n",
       "      <td>20.0</td>\n",
       "      <td>11.0</td>\n",
       "      <td>61.0</td>\n",
       "      <td>0</td>\n",
       "      <td>0.433519</td>\n",
       "    </tr>\n",
       "  </tbody>\n",
       "</table>\n",
       "</div>"
      ],
      "text/plain": [
       "        morning visit purchase ratio  morning purchase price  \\\n",
       "custid                                                         \n",
       "104996                      0.250000                134138.0   \n",
       "104997                      0.000000                     0.0   \n",
       "104998                      0.000000                     0.0   \n",
       "104999                      0.222222                112372.0   \n",
       "105000                      0.314286                371690.0   \n",
       "\n",
       "        morning purchase ratio  morning-lunch purchase price  \\\n",
       "custid                                                         \n",
       "104996                0.200000                      536552.0   \n",
       "104997                0.000000                      483620.0   \n",
       "104998                0.000000                      960924.0   \n",
       "104999                0.000000                      561860.0   \n",
       "105000                0.144737                     2432880.0   \n",
       "\n",
       "        morning-lunch purchase count  morning-lunch purchase ratio  \\\n",
       "custid                                                               \n",
       "104996                           4.0                      0.800000   \n",
       "104997                          10.0                      0.769231   \n",
       "104998                          12.0                      1.000000   \n",
       "104999                          10.0                      0.714286   \n",
       "105000                          72.0                      0.947368   \n",
       "\n",
       "        purchasing number  average purchase price  visit days  \\\n",
       "custid                                                          \n",
       "104996                  5                  134138           4   \n",
       "104997                 13                   48362           7   \n",
       "104998                 12                   80077           7   \n",
       "104999                 14                   56186           9   \n",
       "105000                 76                   33790          35   \n",
       "\n",
       "        spring purchase number  summer purchase number  \\\n",
       "custid                                                   \n",
       "104996                     2.0                     0.0   \n",
       "104997                     1.0                     7.0   \n",
       "104998                     6.0                     1.0   \n",
       "104999                     4.0                     3.0   \n",
       "105000                     9.0                    24.0   \n",
       "\n",
       "        autumn purchase number  winter purchase number  \\\n",
       "custid                                                   \n",
       "104996                     1.0                     2.0   \n",
       "104997                     0.0                     5.0   \n",
       "104998                     4.0                     1.0   \n",
       "104999                     0.0                     7.0   \n",
       "105000                    23.0                    20.0   \n",
       "\n",
       "        morning purchase number  lunch purchase number  gender_predict  \\\n",
       "custid                                                                   \n",
       "104996                      1.0                    3.0               0   \n",
       "104997                      0.0                   10.0               0   \n",
       "104998                      0.0                   12.0               0   \n",
       "104999                      2.0                    8.0               0   \n",
       "105000                     11.0                   61.0               0   \n",
       "\n",
       "        gender_pred_prob  \n",
       "custid                    \n",
       "104996          0.001291  \n",
       "104997          0.157573  \n",
       "104998          0.047800  \n",
       "104999          0.027451  \n",
       "105000          0.433519  "
      ]
     },
     "execution_count": 53,
     "metadata": {},
     "output_type": "execute_result"
    }
   ],
   "source": [
    "new_data.tail()"
   ]
  },
  {
   "cell_type": "code",
   "execution_count": 54,
   "metadata": {},
   "outputs": [
    {
     "data": {
      "text/html": [
       "<div>\n",
       "<style scoped>\n",
       "    .dataframe tbody tr th:only-of-type {\n",
       "        vertical-align: middle;\n",
       "    }\n",
       "\n",
       "    .dataframe tbody tr th {\n",
       "        vertical-align: top;\n",
       "    }\n",
       "\n",
       "    .dataframe thead th {\n",
       "        text-align: right;\n",
       "    }\n",
       "</style>\n",
       "<table border=\"1\" class=\"dataframe\">\n",
       "  <thead>\n",
       "    <tr style=\"text-align: right;\">\n",
       "      <th></th>\n",
       "      <th>총구매액</th>\n",
       "      <th>구매건수</th>\n",
       "      <th>평균구매가격</th>\n",
       "      <th>평균할부개월수</th>\n",
       "      <th>구매브랜드종류</th>\n",
       "      <th>내점일수</th>\n",
       "      <th>수입상품_구매비율</th>\n",
       "      <th>주말방문비율</th>\n",
       "      <th>가을_구매건수</th>\n",
       "      <th>겨울_구매건수</th>\n",
       "      <th>봄_구매건수</th>\n",
       "      <th>여름_구매건수</th>\n",
       "      <th>아침_구매건수</th>\n",
       "      <th>저녁_구매건수</th>\n",
       "      <th>점심_구매건수</th>\n",
       "      <th>주구매코너</th>\n",
       "      <th>gender_predict</th>\n",
       "      <th>gender_pred_prob</th>\n",
       "    </tr>\n",
       "    <tr>\n",
       "      <th>custid</th>\n",
       "      <th></th>\n",
       "      <th></th>\n",
       "      <th></th>\n",
       "      <th></th>\n",
       "      <th></th>\n",
       "      <th></th>\n",
       "      <th></th>\n",
       "      <th></th>\n",
       "      <th></th>\n",
       "      <th></th>\n",
       "      <th></th>\n",
       "      <th></th>\n",
       "      <th></th>\n",
       "      <th></th>\n",
       "      <th></th>\n",
       "      <th></th>\n",
       "      <th></th>\n",
       "      <th></th>\n",
       "    </tr>\n",
       "  </thead>\n",
       "  <tbody>\n",
       "    <tr>\n",
       "      <th>104996</th>\n",
       "      <td>670690</td>\n",
       "      <td>5</td>\n",
       "      <td>134138</td>\n",
       "      <td>1.4</td>\n",
       "      <td>5</td>\n",
       "      <td>4</td>\n",
       "      <td>0.0</td>\n",
       "      <td>75.0</td>\n",
       "      <td>1.0</td>\n",
       "      <td>2.0</td>\n",
       "      <td>2.0</td>\n",
       "      <td>NaN</td>\n",
       "      <td>1.0</td>\n",
       "      <td>1.0</td>\n",
       "      <td>3.0</td>\n",
       "      <td>일.반식품</td>\n",
       "      <td>0</td>\n",
       "      <td>0.001291</td>\n",
       "    </tr>\n",
       "    <tr>\n",
       "      <th>104997</th>\n",
       "      <td>628700</td>\n",
       "      <td>13</td>\n",
       "      <td>48362</td>\n",
       "      <td>1.8</td>\n",
       "      <td>10</td>\n",
       "      <td>7</td>\n",
       "      <td>7.7</td>\n",
       "      <td>42.9</td>\n",
       "      <td>NaN</td>\n",
       "      <td>5.0</td>\n",
       "      <td>1.0</td>\n",
       "      <td>7.0</td>\n",
       "      <td>NaN</td>\n",
       "      <td>3.0</td>\n",
       "      <td>10.0</td>\n",
       "      <td>조.리욕실</td>\n",
       "      <td>0</td>\n",
       "      <td>0.157573</td>\n",
       "    </tr>\n",
       "    <tr>\n",
       "      <th>104998</th>\n",
       "      <td>960923</td>\n",
       "      <td>12</td>\n",
       "      <td>80077</td>\n",
       "      <td>1.8</td>\n",
       "      <td>7</td>\n",
       "      <td>7</td>\n",
       "      <td>0.0</td>\n",
       "      <td>42.9</td>\n",
       "      <td>4.0</td>\n",
       "      <td>1.0</td>\n",
       "      <td>6.0</td>\n",
       "      <td>1.0</td>\n",
       "      <td>NaN</td>\n",
       "      <td>NaN</td>\n",
       "      <td>12.0</td>\n",
       "      <td>일.반식품</td>\n",
       "      <td>0</td>\n",
       "      <td>0.047800</td>\n",
       "    </tr>\n",
       "    <tr>\n",
       "      <th>104999</th>\n",
       "      <td>786600</td>\n",
       "      <td>14</td>\n",
       "      <td>56186</td>\n",
       "      <td>1.7</td>\n",
       "      <td>12</td>\n",
       "      <td>9</td>\n",
       "      <td>14.3</td>\n",
       "      <td>55.6</td>\n",
       "      <td>NaN</td>\n",
       "      <td>7.0</td>\n",
       "      <td>4.0</td>\n",
       "      <td>3.0</td>\n",
       "      <td>2.0</td>\n",
       "      <td>4.0</td>\n",
       "      <td>8.0</td>\n",
       "      <td>화.장품</td>\n",
       "      <td>0</td>\n",
       "      <td>0.027451</td>\n",
       "    </tr>\n",
       "    <tr>\n",
       "      <th>105000</th>\n",
       "      <td>2568073</td>\n",
       "      <td>76</td>\n",
       "      <td>33790</td>\n",
       "      <td>1.6</td>\n",
       "      <td>23</td>\n",
       "      <td>35</td>\n",
       "      <td>10.5</td>\n",
       "      <td>22.9</td>\n",
       "      <td>23.0</td>\n",
       "      <td>20.0</td>\n",
       "      <td>9.0</td>\n",
       "      <td>24.0</td>\n",
       "      <td>11.0</td>\n",
       "      <td>4.0</td>\n",
       "      <td>61.0</td>\n",
       "      <td>일.반식품</td>\n",
       "      <td>0</td>\n",
       "      <td>0.433519</td>\n",
       "    </tr>\n",
       "  </tbody>\n",
       "</table>\n",
       "</div>"
      ],
      "text/plain": [
       "           총구매액  구매건수  평균구매가격  평균할부개월수  구매브랜드종류  내점일수  수입상품_구매비율  주말방문비율  \\\n",
       "custid                                                                     \n",
       "104996   670690     5  134138      1.4        5     4        0.0    75.0   \n",
       "104997   628700    13   48362      1.8       10     7        7.7    42.9   \n",
       "104998   960923    12   80077      1.8        7     7        0.0    42.9   \n",
       "104999   786600    14   56186      1.7       12     9       14.3    55.6   \n",
       "105000  2568073    76   33790      1.6       23    35       10.5    22.9   \n",
       "\n",
       "        가을_구매건수  겨울_구매건수  봄_구매건수  여름_구매건수  아침_구매건수  저녁_구매건수  점심_구매건수  주구매코너  \\\n",
       "custid                                                                        \n",
       "104996      1.0      2.0     2.0      NaN      1.0      1.0      3.0  일.반식품   \n",
       "104997      NaN      5.0     1.0      7.0      NaN      3.0     10.0  조.리욕실   \n",
       "104998      4.0      1.0     6.0      1.0      NaN      NaN     12.0  일.반식품   \n",
       "104999      NaN      7.0     4.0      3.0      2.0      4.0      8.0   화.장품   \n",
       "105000     23.0     20.0     9.0     24.0     11.0      4.0     61.0  일.반식품   \n",
       "\n",
       "        gender_predict  gender_pred_prob  \n",
       "custid                                    \n",
       "104996               0          0.001291  \n",
       "104997               0          0.157573  \n",
       "104998               0          0.047800  \n",
       "104999               0          0.027451  \n",
       "105000               0          0.433519  "
      ]
     },
     "execution_count": 54,
     "metadata": {},
     "output_type": "execute_result"
    }
   ],
   "source": [
    "predicted = new_data[['gender_predict', 'gender_pred_prob']]\n",
    "\n",
    "target = pd.merge(test, predicted, on='custid')\n",
    "target.tail()"
   ]
  },
  {
   "cell_type": "code",
   "execution_count": 55,
   "metadata": {},
   "outputs": [
    {
     "data": {
      "text/plain": [
       "custid              5000\n",
       "총구매액                5000\n",
       "구매건수                5000\n",
       "평균구매가격              5000\n",
       "평균할부개월수             5000\n",
       "구매브랜드종류             5000\n",
       "내점일수                5000\n",
       "수입상품_구매비율           5000\n",
       "주말방문비율              5000\n",
       "가을_구매건수             4052\n",
       "겨울_구매건수             4089\n",
       "봄_구매건수              4319\n",
       "여름_구매건수             4009\n",
       "아침_구매건수             3608\n",
       "저녁_구매건수             3975\n",
       "점심_구매건수             4861\n",
       "주구매코너               5000\n",
       "gender_predict      5000\n",
       "gender_pred_prob    5000\n",
       "dtype: int64"
      ]
     },
     "execution_count": 55,
     "metadata": {},
     "output_type": "execute_result"
    }
   ],
   "source": [
    "# 예측한 test data를 csv파일로 저장하여 제출\n",
    "target.to_csv(\"gender.csv\", encoding='utf-8')\n",
    "pd.read_csv(\"gender.csv\").count()"
   ]
  },
  {
   "cell_type": "code",
   "execution_count": 56,
   "metadata": {},
   "outputs": [
    {
     "data": {
      "text/html": [
       "<div>\n",
       "<style scoped>\n",
       "    .dataframe tbody tr th:only-of-type {\n",
       "        vertical-align: middle;\n",
       "    }\n",
       "\n",
       "    .dataframe tbody tr th {\n",
       "        vertical-align: top;\n",
       "    }\n",
       "\n",
       "    .dataframe thead th {\n",
       "        text-align: right;\n",
       "    }\n",
       "</style>\n",
       "<table border=\"1\" class=\"dataframe\">\n",
       "  <thead>\n",
       "    <tr style=\"text-align: right;\">\n",
       "      <th></th>\n",
       "      <th>custid</th>\n",
       "      <th>총구매액</th>\n",
       "      <th>구매건수</th>\n",
       "      <th>평균구매가격</th>\n",
       "      <th>평균할부개월수</th>\n",
       "      <th>구매브랜드종류</th>\n",
       "      <th>내점일수</th>\n",
       "      <th>수입상품_구매비율</th>\n",
       "      <th>주말방문비율</th>\n",
       "      <th>가을_구매건수</th>\n",
       "      <th>겨울_구매건수</th>\n",
       "      <th>봄_구매건수</th>\n",
       "      <th>여름_구매건수</th>\n",
       "      <th>아침_구매건수</th>\n",
       "      <th>저녁_구매건수</th>\n",
       "      <th>점심_구매건수</th>\n",
       "      <th>주구매코너</th>\n",
       "      <th>gender_predict</th>\n",
       "      <th>gender_pred_prob</th>\n",
       "    </tr>\n",
       "  </thead>\n",
       "  <tbody>\n",
       "    <tr>\n",
       "      <th>0</th>\n",
       "      <td>100001</td>\n",
       "      <td>3439000</td>\n",
       "      <td>25</td>\n",
       "      <td>137560</td>\n",
       "      <td>2.2</td>\n",
       "      <td>19</td>\n",
       "      <td>16</td>\n",
       "      <td>12.0</td>\n",
       "      <td>31.2</td>\n",
       "      <td>5.0</td>\n",
       "      <td>4.0</td>\n",
       "      <td>7.0</td>\n",
       "      <td>9.0</td>\n",
       "      <td>13.0</td>\n",
       "      <td>1.0</td>\n",
       "      <td>11.0</td>\n",
       "      <td>장.신구</td>\n",
       "      <td>0</td>\n",
       "      <td>0.268422</td>\n",
       "    </tr>\n",
       "    <tr>\n",
       "      <th>1</th>\n",
       "      <td>100002</td>\n",
       "      <td>2073090</td>\n",
       "      <td>39</td>\n",
       "      <td>53156</td>\n",
       "      <td>1.3</td>\n",
       "      <td>18</td>\n",
       "      <td>29</td>\n",
       "      <td>0.0</td>\n",
       "      <td>20.7</td>\n",
       "      <td>13.0</td>\n",
       "      <td>8.0</td>\n",
       "      <td>10.0</td>\n",
       "      <td>8.0</td>\n",
       "      <td>4.0</td>\n",
       "      <td>10.0</td>\n",
       "      <td>25.0</td>\n",
       "      <td>유.아동복</td>\n",
       "      <td>1</td>\n",
       "      <td>0.534733</td>\n",
       "    </tr>\n",
       "    <tr>\n",
       "      <th>2</th>\n",
       "      <td>100003</td>\n",
       "      <td>1303800</td>\n",
       "      <td>22</td>\n",
       "      <td>59264</td>\n",
       "      <td>1.8</td>\n",
       "      <td>14</td>\n",
       "      <td>12</td>\n",
       "      <td>0.0</td>\n",
       "      <td>41.7</td>\n",
       "      <td>6.0</td>\n",
       "      <td>7.0</td>\n",
       "      <td>3.0</td>\n",
       "      <td>6.0</td>\n",
       "      <td>3.0</td>\n",
       "      <td>1.0</td>\n",
       "      <td>18.0</td>\n",
       "      <td>유.아동복</td>\n",
       "      <td>1</td>\n",
       "      <td>0.560825</td>\n",
       "    </tr>\n",
       "    <tr>\n",
       "      <th>3</th>\n",
       "      <td>100004</td>\n",
       "      <td>6696522</td>\n",
       "      <td>46</td>\n",
       "      <td>145577</td>\n",
       "      <td>1.7</td>\n",
       "      <td>31</td>\n",
       "      <td>22</td>\n",
       "      <td>37.0</td>\n",
       "      <td>50.0</td>\n",
       "      <td>5.0</td>\n",
       "      <td>15.0</td>\n",
       "      <td>9.0</td>\n",
       "      <td>17.0</td>\n",
       "      <td>NaN</td>\n",
       "      <td>4.0</td>\n",
       "      <td>42.0</td>\n",
       "      <td>수.입명품</td>\n",
       "      <td>0</td>\n",
       "      <td>0.012044</td>\n",
       "    </tr>\n",
       "    <tr>\n",
       "      <th>4</th>\n",
       "      <td>100005</td>\n",
       "      <td>1297640</td>\n",
       "      <td>26</td>\n",
       "      <td>49909</td>\n",
       "      <td>2.3</td>\n",
       "      <td>13</td>\n",
       "      <td>9</td>\n",
       "      <td>11.5</td>\n",
       "      <td>22.2</td>\n",
       "      <td>18.0</td>\n",
       "      <td>NaN</td>\n",
       "      <td>5.0</td>\n",
       "      <td>3.0</td>\n",
       "      <td>NaN</td>\n",
       "      <td>NaN</td>\n",
       "      <td>26.0</td>\n",
       "      <td>스.포츠</td>\n",
       "      <td>0</td>\n",
       "      <td>0.075072</td>\n",
       "    </tr>\n",
       "    <tr>\n",
       "      <th>...</th>\n",
       "      <td>...</td>\n",
       "      <td>...</td>\n",
       "      <td>...</td>\n",
       "      <td>...</td>\n",
       "      <td>...</td>\n",
       "      <td>...</td>\n",
       "      <td>...</td>\n",
       "      <td>...</td>\n",
       "      <td>...</td>\n",
       "      <td>...</td>\n",
       "      <td>...</td>\n",
       "      <td>...</td>\n",
       "      <td>...</td>\n",
       "      <td>...</td>\n",
       "      <td>...</td>\n",
       "      <td>...</td>\n",
       "      <td>...</td>\n",
       "      <td>...</td>\n",
       "      <td>...</td>\n",
       "    </tr>\n",
       "    <tr>\n",
       "      <th>4995</th>\n",
       "      <td>104996</td>\n",
       "      <td>670690</td>\n",
       "      <td>5</td>\n",
       "      <td>134138</td>\n",
       "      <td>1.4</td>\n",
       "      <td>5</td>\n",
       "      <td>4</td>\n",
       "      <td>0.0</td>\n",
       "      <td>75.0</td>\n",
       "      <td>1.0</td>\n",
       "      <td>2.0</td>\n",
       "      <td>2.0</td>\n",
       "      <td>NaN</td>\n",
       "      <td>1.0</td>\n",
       "      <td>1.0</td>\n",
       "      <td>3.0</td>\n",
       "      <td>일.반식품</td>\n",
       "      <td>0</td>\n",
       "      <td>0.001291</td>\n",
       "    </tr>\n",
       "    <tr>\n",
       "      <th>4996</th>\n",
       "      <td>104997</td>\n",
       "      <td>628700</td>\n",
       "      <td>13</td>\n",
       "      <td>48362</td>\n",
       "      <td>1.8</td>\n",
       "      <td>10</td>\n",
       "      <td>7</td>\n",
       "      <td>7.7</td>\n",
       "      <td>42.9</td>\n",
       "      <td>NaN</td>\n",
       "      <td>5.0</td>\n",
       "      <td>1.0</td>\n",
       "      <td>7.0</td>\n",
       "      <td>NaN</td>\n",
       "      <td>3.0</td>\n",
       "      <td>10.0</td>\n",
       "      <td>조.리욕실</td>\n",
       "      <td>0</td>\n",
       "      <td>0.157573</td>\n",
       "    </tr>\n",
       "    <tr>\n",
       "      <th>4997</th>\n",
       "      <td>104998</td>\n",
       "      <td>960923</td>\n",
       "      <td>12</td>\n",
       "      <td>80077</td>\n",
       "      <td>1.8</td>\n",
       "      <td>7</td>\n",
       "      <td>7</td>\n",
       "      <td>0.0</td>\n",
       "      <td>42.9</td>\n",
       "      <td>4.0</td>\n",
       "      <td>1.0</td>\n",
       "      <td>6.0</td>\n",
       "      <td>1.0</td>\n",
       "      <td>NaN</td>\n",
       "      <td>NaN</td>\n",
       "      <td>12.0</td>\n",
       "      <td>일.반식품</td>\n",
       "      <td>0</td>\n",
       "      <td>0.047800</td>\n",
       "    </tr>\n",
       "    <tr>\n",
       "      <th>4998</th>\n",
       "      <td>104999</td>\n",
       "      <td>786600</td>\n",
       "      <td>14</td>\n",
       "      <td>56186</td>\n",
       "      <td>1.7</td>\n",
       "      <td>12</td>\n",
       "      <td>9</td>\n",
       "      <td>14.3</td>\n",
       "      <td>55.6</td>\n",
       "      <td>NaN</td>\n",
       "      <td>7.0</td>\n",
       "      <td>4.0</td>\n",
       "      <td>3.0</td>\n",
       "      <td>2.0</td>\n",
       "      <td>4.0</td>\n",
       "      <td>8.0</td>\n",
       "      <td>화.장품</td>\n",
       "      <td>0</td>\n",
       "      <td>0.027451</td>\n",
       "    </tr>\n",
       "    <tr>\n",
       "      <th>4999</th>\n",
       "      <td>105000</td>\n",
       "      <td>2568073</td>\n",
       "      <td>76</td>\n",
       "      <td>33790</td>\n",
       "      <td>1.6</td>\n",
       "      <td>23</td>\n",
       "      <td>35</td>\n",
       "      <td>10.5</td>\n",
       "      <td>22.9</td>\n",
       "      <td>23.0</td>\n",
       "      <td>20.0</td>\n",
       "      <td>9.0</td>\n",
       "      <td>24.0</td>\n",
       "      <td>11.0</td>\n",
       "      <td>4.0</td>\n",
       "      <td>61.0</td>\n",
       "      <td>일.반식품</td>\n",
       "      <td>0</td>\n",
       "      <td>0.433519</td>\n",
       "    </tr>\n",
       "  </tbody>\n",
       "</table>\n",
       "<p>5000 rows × 19 columns</p>\n",
       "</div>"
      ],
      "text/plain": [
       "      custid     총구매액  구매건수  평균구매가격  평균할부개월수  구매브랜드종류  내점일수  수입상품_구매비율  \\\n",
       "0     100001  3439000    25  137560      2.2       19    16       12.0   \n",
       "1     100002  2073090    39   53156      1.3       18    29        0.0   \n",
       "2     100003  1303800    22   59264      1.8       14    12        0.0   \n",
       "3     100004  6696522    46  145577      1.7       31    22       37.0   \n",
       "4     100005  1297640    26   49909      2.3       13     9       11.5   \n",
       "...      ...      ...   ...     ...      ...      ...   ...        ...   \n",
       "4995  104996   670690     5  134138      1.4        5     4        0.0   \n",
       "4996  104997   628700    13   48362      1.8       10     7        7.7   \n",
       "4997  104998   960923    12   80077      1.8        7     7        0.0   \n",
       "4998  104999   786600    14   56186      1.7       12     9       14.3   \n",
       "4999  105000  2568073    76   33790      1.6       23    35       10.5   \n",
       "\n",
       "      주말방문비율  가을_구매건수  겨울_구매건수  봄_구매건수  여름_구매건수  아침_구매건수  저녁_구매건수  점심_구매건수  \\\n",
       "0       31.2      5.0      4.0     7.0      9.0     13.0      1.0     11.0   \n",
       "1       20.7     13.0      8.0    10.0      8.0      4.0     10.0     25.0   \n",
       "2       41.7      6.0      7.0     3.0      6.0      3.0      1.0     18.0   \n",
       "3       50.0      5.0     15.0     9.0     17.0      NaN      4.0     42.0   \n",
       "4       22.2     18.0      NaN     5.0      3.0      NaN      NaN     26.0   \n",
       "...      ...      ...      ...     ...      ...      ...      ...      ...   \n",
       "4995    75.0      1.0      2.0     2.0      NaN      1.0      1.0      3.0   \n",
       "4996    42.9      NaN      5.0     1.0      7.0      NaN      3.0     10.0   \n",
       "4997    42.9      4.0      1.0     6.0      1.0      NaN      NaN     12.0   \n",
       "4998    55.6      NaN      7.0     4.0      3.0      2.0      4.0      8.0   \n",
       "4999    22.9     23.0     20.0     9.0     24.0     11.0      4.0     61.0   \n",
       "\n",
       "      주구매코너  gender_predict  gender_pred_prob  \n",
       "0      장.신구               0          0.268422  \n",
       "1     유.아동복               1          0.534733  \n",
       "2     유.아동복               1          0.560825  \n",
       "3     수.입명품               0          0.012044  \n",
       "4      스.포츠               0          0.075072  \n",
       "...     ...             ...               ...  \n",
       "4995  일.반식품               0          0.001291  \n",
       "4996  조.리욕실               0          0.157573  \n",
       "4997  일.반식품               0          0.047800  \n",
       "4998   화.장품               0          0.027451  \n",
       "4999  일.반식품               0          0.433519  \n",
       "\n",
       "[5000 rows x 19 columns]"
      ]
     },
     "execution_count": 56,
     "metadata": {},
     "output_type": "execute_result"
    }
   ],
   "source": [
    "predicted_data = pd.read_csv('gender.csv')\n",
    "predicted_data"
   ]
  },
  {
   "cell_type": "code",
   "execution_count": 57,
   "metadata": {},
   "outputs": [
    {
     "data": {
      "text/plain": [
       "0    3822\n",
       "1    1178\n",
       "Name: gender_predict, dtype: int64"
      ]
     },
     "execution_count": 57,
     "metadata": {},
     "output_type": "execute_result"
    }
   ],
   "source": [
    "# 예측된 데이터상에 여성이 남성의 3.2444821731748728 배이다.\n",
    "predicted_data['gender_predict'].value_counts()"
   ]
  },
  {
   "cell_type": "code",
   "execution_count": 56,
   "metadata": {},
   "outputs": [
    {
     "data": {
      "text/plain": [
       "3.2444821731748728"
      ]
     },
     "execution_count": 56,
     "metadata": {},
     "output_type": "execute_result"
    }
   ],
   "source": [
    "3822/1178"
   ]
  },
  {
   "cell_type": "code",
   "execution_count": null,
   "metadata": {},
   "outputs": [],
   "source": []
  },
  {
   "cell_type": "code",
   "execution_count": null,
   "metadata": {},
   "outputs": [],
   "source": []
  }
 ],
 "metadata": {
  "kernelspec": {
   "display_name": "Python 3",
   "language": "python",
   "name": "python3"
  },
  "language_info": {
   "codemirror_mode": {
    "name": "ipython",
    "version": 3
   },
   "file_extension": ".py",
   "mimetype": "text/x-python",
   "name": "python",
   "nbconvert_exporter": "python",
   "pygments_lexer": "ipython3",
   "version": "3.7.6"
  }
 },
 "nbformat": 4,
 "nbformat_minor": 4
}