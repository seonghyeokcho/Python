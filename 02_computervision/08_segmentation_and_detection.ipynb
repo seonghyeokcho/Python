{
 "cells": [
  {
   "cell_type": "markdown",
   "metadata": {},
   "source": [
    "## <font color = \"#CC3D3D\">Case #1: GrabCut</font>"
   ]
  },
  {
   "cell_type": "markdown",
   "metadata": {},
   "source": [
    "<hr>\n",
    "\n",
    "### Step #1: Concept\n",
    "<hr>"
   ]
  },
  {
   "cell_type": "code",
   "execution_count": null,
   "metadata": {},
   "outputs": [],
   "source": [
    "- mask: 이전에 공부했던 마스크 연산시에 사용하는 마스크 영상(0또는 255의 이진 영상)과는 다르다. 0,1,2,3 로 구성되어 있다. "
   ]
  },
  {
   "cell_type": "code",
   "execution_count": 2,
   "metadata": {},
   "outputs": [
    {
     "name": "stdout",
     "output_type": "stream",
     "text": [
      "Select a ROI and then press SPACE or ENTER button!\n",
      "Cancel the selection process by pressing c button!\n"
     ]
    },
    {
     "data": {
      "text/plain": [
       "-1"
      ]
     },
     "execution_count": 2,
     "metadata": {},
     "output_type": "execute_result"
    }
   ],
   "source": [
    "import cv2\n",
    "import matplotlib.pyplot as plt\n",
    "import numpy as np\n",
    "\n",
    "source = cv2.imread(\"images/nemo.jpg\")\n",
    "\n",
    "ROI = cv2.selectROI(source)\n",
    "mask = np.zeros(source.shape[:2], np.uint8)\n",
    "\n",
    "cv2.grabCut(source, mask, ROI, None, None, 5, cv2.GC_INIT_WITH_RECT)\n",
    "\n",
    "mask2 = np.where((mask == 0) | (mask == 2), 0, 1).astype(\"uint8\")\n",
    "destination = source * mask2[:, :, np.newaxis]\n",
    "\n",
    "mask *= 64\n",
    "\n",
    "cv2.imshow(\"GrabCut\", destination)\n",
    "cv2.imshow(\"mask\", mask)\n",
    "\n",
    "cv2.waitKey()\n",
    "cv2.destroyAllWindows()\n",
    "cv2.waitKey(1)"
   ]
  },
  {
   "cell_type": "code",
   "execution_count": 11,
   "metadata": {},
   "outputs": [
    {
     "name": "stdout",
     "output_type": "stream",
     "text": [
      "Select a ROI and then press SPACE or ENTER button!\n",
      "Cancel the selection process by pressing c button!\n"
     ]
    },
    {
     "data": {
      "text/plain": [
       "-1"
      ]
     },
     "execution_count": 11,
     "metadata": {},
     "output_type": "execute_result"
    }
   ],
   "source": [
    "import cv2\n",
    "import matplotlib.pyplot as plt\n",
    "import numpy as np\n",
    "\n",
    "source = cv2.imread(\"images/pose1.jpg\")\n",
    "\n",
    "if source is None:\n",
    "    print(\"Image load failed!\")\n",
    "\n",
    "mask = np.zeros(source.shape[:2], np.uint8)\n",
    "background_model = np.zeros((1, 65), np.float64)\n",
    "foreground_model = np.zeros((1, 65), np.float64)\n",
    "\n",
    "ROI = cv2.selectROI(source)\n",
    "\n",
    "cv2.grabCut(source, mask, ROI, background_model, foreground_model, 1, cv2.GC_INIT_WITH_RECT)\n",
    "\n",
    "mask2 = np.where((mask == 0) | (mask == 2), 0, 1).astype(\"uint8\")\n",
    "destination = source * mask2[:, :, np.newaxis]\n",
    "\n",
    "cv2.imshow(\"GrabCut\", destination)\n",
    "\n",
    "\n",
    "def on_mouse(event, x, y, flags, param):\n",
    "    if event == cv2.EVENT_LBUTTONDOWN:\n",
    "        cv2.circle(destination, (x, y), 3, (255, 0, 0), -1)\n",
    "        cv2.circle(mask, (x, y), 3, cv2.GC_FGD, -1)\n",
    "        cv2.imshow(\"GrabCut\", destination)\n",
    "    elif event == cv2.EVENT_RBUTTONDOWN:\n",
    "        cv2.circle(destination, (x, y), 3, (0, 0, 255), -1)\n",
    "        cv2.circle(mask, (x, y), 3, cv2.GC_BGD, -1)\n",
    "        cv2.imshow(\"GrabCut\", destination)\n",
    "    elif event == cv2.EVENT_MOUSEMOVE:\n",
    "        if flags & cv2.EVENT_FLAG_LBUTTON:\n",
    "            cv2.circle(destination, (x, y), 3, (255, 0, 0), -1)\n",
    "            cv2.circle(mask, (x, y), 3, cv2.GC_FGD, -1)\n",
    "            cv2.imshow(\"GrabCut\", destination)\n",
    "        elif flags & cv2.EVENT_FLAG_RBUTTON:\n",
    "            cv2.circle(destination, (x, y), 3, (0, 0, 255), -1)\n",
    "            cv2.circle(mask, (x, y), 3, cv2.GC_BGD, -1)\n",
    "            cv2.imshow(\"GrabCut\", destination)\n",
    "\n",
    "\n",
    "cv2.setMouseCallback(\"GrabCut\", on_mouse)\n",
    "\n",
    "while(1):\n",
    "    key = cv2.waitKey()\n",
    "    if key is 13:\n",
    "        cv2.grabCut(source, mask, ROI, background_model, foreground_model, 1, cv2.GC_INIT_WITH_MASK)\n",
    "        mask2 = np.where((mask == 0) | (mask == 2), 0, 1).astype(\"uint8\")\n",
    "        destination = source * mask2[:, :, np.newaxis]\n",
    "        cv2.imshow(\"GrabCut\", destination)\n",
    "    elif key is 27:\n",
    "        break\n",
    "\n",
    "cv2.destroyAllWindows()\n",
    "cv2.waitKey(1)"
   ]
  },
  {
   "cell_type": "markdown",
   "metadata": {},
   "source": [
    "## <font color = \"#CC3D3D\">Case #2: Moments based object detection</font>"
   ]
  },
  {
   "cell_type": "code",
   "execution_count": 41,
   "metadata": {},
   "outputs": [],
   "source": [
    "import cv2\n",
    "import matplotlib.pyplot as plt\n",
    "\n",
    "object = cv2.imread(\"images/spades.png\", cv2.IMREAD_GRAYSCALE)\n",
    "source = cv2.imread(\"images/symbols.png\", cv2.IMREAD_GRAYSCALE)\n",
    "\n",
    "if object is None or source is None:\n",
    "    print(\"Image load failed!\")\n",
    "\n",
    "    \n",
    "_, object_binarization = cv2.threshold(object, 0, 255, cv2.THRESH_BINARY_INV | cv2.THRESH_OTSU)\n",
    "object_contour, _ = cv2.findContours(object_binarization, cv2.RETR_EXTERNAL, cv2.CHAIN_APPROX_NONE)\n",
    "object_points = object_contour[0]\n",
    "\n",
    "\n",
    "_, source_binarization = cv2.threshold(source, 0, 255, cv2.THRESH_BINARY_INV | cv2.THRESH_OTSU)\n",
    "source_contours, _ = cv2.findContours(source_binarization, cv2.RETR_EXTERNAL, cv2.CHAIN_APPROX_NONE)\n",
    "\n",
    "\n",
    "object = cv2.cvtColor(object, cv2.COLOR_GRAY2BGR)\n",
    "destination = cv2.cvtColor(source, cv2.COLOR_GRAY2BGR)\n",
    "\n",
    "\n",
    "for points in source_contours:\n",
    "    rectangle = cv2.boundingRect(points)\n",
    "    origin = (rectangle[0], rectangle[1] - 3)\n",
    "    \n",
    "    distance = cv2.matchShapes(object_points, points, cv2.CONTOURS_MATCH_I3, 0)\n",
    "    \n",
    "    cv2.putText(destination, str(round(distance, 4)), origin, cv2.FONT_HERSHEY_SIMPLEX, 0.6, (255, 0, 0), 1, cv2.LINE_AA)\n",
    "\n",
    "    if distance < 0.1:\n",
    "        cv2.rectangle(destination, rectangle, (0, 0, 255), 2)\n",
    "        continue\n",
    "    \n",
    "    cv2.rectangle(destination, rectangle, (255, 0, 0), 1)\n",
    "\n"
   ]
  },
  {
   "cell_type": "code",
   "execution_count": 42,
   "metadata": {},
   "outputs": [
    {
     "data": {
      "image/png": "[encoded data removed]",
      "text/plain": [
       "<Figure size 864x432 with 2 Axes>"
      ]
     },
     "metadata": {},
     "output_type": "display_data"
    }
   ],
   "source": [
    "# pyplot으로 출력\n",
    "plt.figure(figsize=(12, 6), facecolor=\"lightgray\")\n",
    "\n",
    "plt.subplot(121, title=\"Object\").axis(\"off\")\n",
    "plt.imshow(object[:, :, ::-1])\n",
    "\n",
    "plt.subplot(122, title=\"Moments detection\").axis(\"off\")\n",
    "plt.imshow(destination[:, :, ::-1])\n",
    "\n",
    "plt.show()"
   ]
  },
  {
   "cell_type": "code",
   "execution_count": null,
   "metadata": {},
   "outputs": [],
   "source": [
    "# OpenCV 가상 윈도우로 출력\n",
    "cv2.imshow(\"Object\", object)\n",
    "cv2.imshow(\"Moments detection\", destination)\n",
    "\n",
    "cv2.waitKey()\n",
    "cv2.destroyAllWindows()\n",
    "cv2.waitKey(1)"
   ]
  },
  {
   "cell_type": "markdown",
   "metadata": {},
   "source": [
    "## <font color = \"#CC3D3D\">Case #3: Template matching</font>"
   ]
  },
  {
   "cell_type": "code",
   "execution_count": null,
   "metadata": {},
   "outputs": [],
   "source": [
    "import cv2\n",
    "import matplotlib.pyplot. as plt\n",
    "import numpy as np"
   ]
  },
  {
   "cell_type": "markdown",
   "metadata": {},
   "source": [
    "## <font color = \"#CC3D3D\">Case #4: HOG(Histogram of Oriented Gradients)</font>"
   ]
  },
  {
   "cell_type": "code",
   "execution_count": null,
   "metadata": {},
   "outputs": [],
   "source": []
  },
  {
   "cell_type": "markdown",
   "metadata": {},
   "source": [
    "## <font color = \"#CC3D3D\">Training #1: Narrow snow app</font>"
   ]
  },
  {
   "cell_type": "code",
   "execution_count": null,
   "metadata": {},
   "outputs": [],
   "source": []
  }
 ],
 "metadata": {
  "interpreter": {
   "hash": "38cc0cca68228d4d18227abe74ed813685db17db46984279e4aabdddebf5f1ba"
  },
  "kernelspec": {
   "display_name": "Python 3.7.9 64-bit ('base': conda)",
   "language": "python",
   "name": "python3"
  },
  "language_info": {
   "codemirror_mode": {
    "name": "ipython",
    "version": 3
   },
   "file_extension": ".py",
   "mimetype": "text/x-python",
   "name": "python",
   "nbconvert_exporter": "python",
   "pygments_lexer": "ipython3",
   "version": "3.7.9"
  },
  "orig_nbformat": 4
 },
 "nbformat": 4,
 "nbformat_minor": 2
}
