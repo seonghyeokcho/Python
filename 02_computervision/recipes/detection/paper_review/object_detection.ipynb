{
 "cells": [
  {
   "cell_type": "markdown",
   "metadata": {},
   "source": [
    "# Object Detection(객체 탐지)\n",
    "<hr>\n",
    "\n",
    "- 두 가지 작업(task)을 포함한 것을 `Object Detection`이라고 함\n",
    "    - `bounding box regression(위치결정)`: 이미지 안에 존재하는 1개 이상 객체(물체)의 `위치 정보`를<br>\n",
    "    `bounding box`를 통해 찾는 것\n",
    "        - `위치 정보`: 더 정확하게는 객체(물체)가 있을 것 같은 `경계상자`의 `offset`을 찾는 것\n",
    "    - Classification(분류): 해당 `bounding box`에 포함되어 있는 객체(물체)가 `무엇인지 분류`하는 것\n",
    "    - Regression과 Classification을 수행하기 위해서 일반적으로 두 단계가 필요\n",
    "        - 1단계. 객체(물체)가 있을 만한 `bounding box`를 추출\n",
    "            - `bounding box`: resions of interest, `ROI`(관심 영역)\n",
    "        - 2단계. 추출된 `ROI`를 이용하여 Regression과 Classification을 수행\n",
    "    - Object Detection 알고리즘은 크게 두 가지로 구분됨\n",
    "        - `One Stage Detectors(or Algorithm)`\n",
    "            - 위 두 단계를 한 번에 수행\n",
    "            - 알고리즘: SSD(Single Shot Detection), YOLO(You Only Look Once) 등\n",
    "            - 특징: `two stage detectors`에 비해 상대적으로 연산 속도가 빠르고, 정확도는 낮지만 큰 차이는<br>\n",
    "            없거나 더 좋은 경우도 있음\n",
    "        - `Two Stage Detectors(or Algorithm)`\n",
    "            - 위 두 단계를 구분하여 수행\n",
    "            - 알고리즘: `R-CNN` family(R-CNN, Fast R-CNN, Faster R-CNN, `Mask R-CNN`)\n",
    "                - `R-CNN`: Region-based Convolutional Neural Network(영역 기반 합성곱 신경망)\n",
    "                - `Mask R-CNN`: 객체(물체) 탐지도 수행하지만 주 목적은 Object Detection보다<br>\n",
    "                발전된 형태인 픽셀 단위 Object Detection 즉, `Image Segmentation`(이미지 분할)\n",
    "            - 특징: `one stage detectors`에 비해 상대적으로 연산 속도가 느리고, 정확도는 높다.\n",
    "- Object Detection은 지도학습과 비지도학습 중 `지도학습`에 해당함\n",
    "    - Regression과 Classification 이라는 두가지 작업에 해당하기 때문에 각각에 대한 레이블이 필요함"
   ]
  },
  {
   "cell_type": "markdown",
   "metadata": {},
   "source": [
    "### Faster R-CNN(Towards Real-Time Object Detection with Region Proposal Networks)\n",
    "<hr>"
   ]
  },
  {
   "cell_type": "markdown",
   "metadata": {},
   "source": []
  },
  {
   "cell_type": "markdown",
   "metadata": {},
   "source": []
  },
  {
   "cell_type": "markdown",
   "metadata": {},
   "source": []
  },
  {
   "cell_type": "markdown",
   "metadata": {},
   "source": []
  },
  {
   "cell_type": "markdown",
   "metadata": {},
   "source": []
  },
  {
   "cell_type": "markdown",
   "metadata": {},
   "source": []
  }
 ],
 "metadata": {
  "interpreter": {
   "hash": "38cc0cca68228d4d18227abe74ed813685db17db46984279e4aabdddebf5f1ba"
  },
  "kernelspec": {
   "display_name": "Python 3.7.9 ('base')",
   "language": "python",
   "name": "python3"
  },
  "language_info": {
   "codemirror_mode": {
    "name": "ipython",
    "version": 3
   },
   "file_extension": ".py",
   "mimetype": "text/x-python",
   "name": "python",
   "nbconvert_exporter": "python",
   "pygments_lexer": "ipython3",
   "version": "3.7.9"
  },
  "orig_nbformat": 4
 },
 "nbformat": 4,
 "nbformat_minor": 2
}
