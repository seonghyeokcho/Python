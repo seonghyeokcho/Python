{
 "cells": [
  {
   "cell_type": "markdown",
   "metadata": {},
   "source": [
    "### Rich feature hierarchies for accurate object detection and semantic segmentation\n",
    "- R-CNN: Regions with CNN features\n",
    "<hr>"
   ]
  },
  {
   "cell_type": "markdown",
   "metadata": {},
   "source": [
    "#### Overview\n",
    "- Abstract<br>\n",
    "<br>\n",
    "    - 논문에서는 PASCAL VOC 2012에서 가장 우수한 결과를 낸 것보다 30% 이상의 `mAP(53.3%)`를 향상시킨 간단하고 확장 가능한 탐지 알고리즘을 제안 \n",
    "    - R-CNN은 두 가지의 통찰을 제공\n",
    "        1. 객체 탐지(object detection) 분야에서도 object localization & segmentation에 적법한 `영역 제안(region proposals)`을<br>\n",
    "        하기 위해 `CNN`을 적용할 수 있다는 점\n",
    "            - 당시 CNN 기법은 classification 분야에서 혁신적인 성능 향상을 이루어 냈고, 다른 분야에서도 이를 적용하려는 연구가 진행됨\n",
    "        2. 레이블된 훈련 데이터가 부족하여 사전 학습 모형(backbone networks)을 사용하고 도메인별 미세 조정(fine-tuning)을 통해 상당한<br>\n",
    "        성능향상을 얻을 수 있다는 점\n",
    "            - 당시엔 레이블된 데이터 즉, ground truth bounding box(정답 상자)를 레이블링한 데이터가 부족했음"
   ]
  },
  {
   "cell_type": "markdown",
   "metadata": {},
   "source": []
  },
  {
   "cell_type": "markdown",
   "metadata": {},
   "source": []
  },
  {
   "cell_type": "markdown",
   "metadata": {},
   "source": []
  },
  {
   "cell_type": "markdown",
   "metadata": {},
   "source": []
  },
  {
   "cell_type": "markdown",
   "metadata": {},
   "source": [
    "가가가가가가가가가가가가가가가가가가가가가가가가가가가가가가가가가가가가가가가가가가가가가가가가가가가가가가가가가가가가가가가가가가가가가가가가"
   ]
  }
 ],
 "metadata": {
  "interpreter": {
   "hash": "38cc0cca68228d4d18227abe74ed813685db17db46984279e4aabdddebf5f1ba"
  },
  "kernelspec": {
   "display_name": "Python 3.7.9 ('base')",
   "language": "python",
   "name": "python3"
  },
  "language_info": {
   "codemirror_mode": {
    "name": "ipython",
    "version": 3
   },
   "file_extension": ".py",
   "mimetype": "text/x-python",
   "name": "python",
   "nbconvert_exporter": "python",
   "pygments_lexer": "ipython3",
   "version": "3.7.9"
  },
  "orig_nbformat": 4
 },
 "nbformat": 4,
 "nbformat_minor": 2
}
