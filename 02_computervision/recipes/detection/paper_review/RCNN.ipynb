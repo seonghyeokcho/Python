{
 "cells": [
  {
   "cell_type": "markdown",
   "metadata": {},
   "source": [
    "### Rich feature hierarchies for accurate object detection and semantic segmentation\n",
    "- R-CNN: Regions with CNN features\n",
    "<hr>"
   ]
  },
  {
   "cell_type": "markdown",
   "metadata": {},
   "source": [
    "- Abstract<br>\n",
    "<br>\n",
    "    - 논문에서는 PASCAL VOC 2012에서 가장 우수한 결과를 낸 것보다 30% 이상의 `mAP(53.3%)`를 향상시킨 간단하고 확장 가능한 탐지 알고리즘을 제안 \n",
    "    - R-CNN은 두 가지의 통찰을 제공\n",
    "        1. 객체 탐지(object detection) 분야에서도 object localization & segmentation에 적법한 `영역 제안(region proposals)`을<br>\n",
    "        하기 위해 `CNN`을 적용할 수 있다는 점\n",
    "            - 당시 CNN 기법은 classification 분야에서 혁신적인 성능 향상을 이루어 냈고, 다른 분야에서도 이를 적용하려는 연구가 진행됨\n",
    "        2. 레이블된 훈련 데이터가 부족하여 `사전 학습 모형(backbone networks)`을 사용하고 도메인별 `domain-specific fine-tuning`을 통해<br>\n",
    "        상당한 성능향상을 얻을 수 있다는 점\n",
    "            - 당시엔 레이블된 데이터 즉, ground truth bounding box(정답 상자)를 레이블링한 데이터가 부족했음\n",
    "            - `domain-specific fine-tuning`: 2.3 Training 부분에서 자세히 다룸\n",
    "    - 논문 저자들은 영역 제안 이라는 시스템과 CNN을 결합하였기 때문에 알고리즘의 이름을 `R-CNN`이라고 지었다고 서술함"
   ]
  },
  {
   "cell_type": "markdown",
   "metadata": {},
   "source": [
    "- Introduction<br>\n",
    "<br>\n",
    "    - 본 논문에서는 CNN의 계보에 대한 이야기로 시작함\n",
    "        - 자세한 설명은 [5_Classic_CNN.ipynb](../../../../04_deep_learning/lecture/thejoeun/5_Classic_CNN.ipynb) 파일 참고\n",
    "    - 2012년도 ILSVRC 에서 선보인 AlexNet의 결과로 인해 당시 2012 ILSVRC 워크샵에서 이에 대해 격렬하게 논의되었고 핵심적인 문제는 다음과 같이 요약됨<br>\n",
    "    -> \"ImageNet의 CNN 분류 결과(AlexNet)는 PASCAL VOC Challenge의 Object Detection 결과에 어느정도로 일반화 될까?\"<br>\n",
    "    즉, 그동안 주목 받지 못했던 CNN을 Object Detection 분야에도 적용시켜서 어느 정도까지 성능을 이끌어 낼 수 있는지가 핵심 주제였다고 보여짐\n",
    "    - 저자들은 이미지 분류와 객체 탐지 사이의 간극을 매워 위 질문에 답하길 이 논문은 CNN이 단순한 HOG와 같은 유사한 기능을 기반으로 하는 시스템과 비교하여<br>\n",
    "    PASCAL VOC에서 극적으로 더 높은 객체 탐지 성능으로 이어질 수 있음을 처음으로 보여준다고 서술함\n",
    "    - 위와 같은 극적인 결과를 내기까지 두 가지의 문제에 집중함\n",
    "        1. DNN(Deep Neural Network)으로 객체를 표현하는 경계상자(Bounding box)의 위치를 결정해야 한다는 점\n",
    "            - 이미지 분류 문제와 달리 객체 탐지는 이미지 내에서 상대적으로 더 많은 객체의 위치 결정(localizing)을 해야 하고, 이를 위한 해답으로 3가지의 접근 방법을 제시함\n",
    "            - Approach 1: 객체의 위치 결정 문제를 경계 상자의 오프셋을 이용하여 회귀 문제로 바라보고 처리하는 방법\n",
    "        2. 적은 양의 주석이 달린(annotated) 탐지 데이터만으로 고용량의 모델을 훈련시켜야 한다는 점"
   ]
  },
  {
   "cell_type": "markdown",
   "metadata": {},
   "source": []
  },
  {
   "cell_type": "markdown",
   "metadata": {},
   "source": []
  },
  {
   "cell_type": "markdown",
   "metadata": {},
   "source": []
  },
  {
   "cell_type": "markdown",
   "metadata": {},
   "source": [
    "가가가가가가가가가가가가가가가가가가가가가가가가가가가가가가가가가가가가가가가가가가가가가가가가가가가가가가가가가가가가가가가가가가가가가가가가"
   ]
  }
 ],
 "metadata": {
  "interpreter": {
   "hash": "38cc0cca68228d4d18227abe74ed813685db17db46984279e4aabdddebf5f1ba"
  },
  "kernelspec": {
   "display_name": "Python 3.7.9 ('base')",
   "language": "python",
   "name": "python3"
  },
  "language_info": {
   "codemirror_mode": {
    "name": "ipython",
    "version": 3
   },
   "file_extension": ".py",
   "mimetype": "text/x-python",
   "name": "python",
   "nbconvert_exporter": "python",
   "pygments_lexer": "ipython3",
   "version": "3.7.9"
  },
  "orig_nbformat": 4
 },
 "nbformat": 4,
 "nbformat_minor": 2
}
