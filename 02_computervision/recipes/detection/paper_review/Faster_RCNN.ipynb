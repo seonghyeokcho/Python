{
 "cells": [
  {
   "cell_type": "markdown",
   "metadata": {},
   "source": [
    "### Faster R-CNN: Towards Real-Time Object Detection with Region Proposal Networks\n",
    "<hr>"
   ]
  },
  {
   "cell_type": "markdown",
   "metadata": {},
   "source": [
    "- R-CNN 계열 기법들의 발전 방향 및 장단점 분석\n",
    "    - R-CNN(CVPR 2014)\n",
    "        - 장점: CNN을 이용해 각 Region의 클래스를 분류하는 기법으로 딥러닝 기법을 효과적으로<br>\n",
    "        `object detection` 분야에 적용함으로써 당시 기준으로 큰 성능 향상을 이끌어 냄\n",
    "        - 단점: 다양한 구성 요소(component) 붙여 넣은 방식이라서 성능이 낮음뿐만아니라 속도가 느리고,<br>\n",
    "        전체 프레임워크를 end-to-end 방식으로 학습할 수 없음. 따라서 전방위적인 최적의 해결책<br>\n",
    "        (Global Optimal Solution) 을 찾기 어려움\n",
    "    - Fast R-CNN(ICCV 2015)\n",
    "        - 장점: Selective Search를 제외한 다른 부분(Feature Extraction, RoI Pooling, Region<br>\n",
    "        Classification, Bounding box Regression)의 단계(step)를 하나의 네트워크(end-to-end)로<br>\n",
    "        묶어서 학습이 가능하도록 만들었기 때문에 상대적으로 R-CNN에 비해 Global Optimal Solution을<br>\n",
    "        잘 찾을수 있게 됨\n",
    "        - 단점: 하지만 여전히 영역 제안(Region Proposals)을 위한 Selective Search는 CPU에서 수행<br>\n",
    "        해야되므로 이 부분이 bottleneck(병목 현상)으로 작용되어 속도 측면에서 아직도 많이 느림\n",
    "    - Faster R-CNN(NIPS 2015)\n",
    "        - 장점: 기존의 Selective Search 방식 대신 GPU에서 작업이 이루어지는 RPN(Region Proposal Networks)<br>\n",
    "        을 제안, 이를 사용하여 처리 시간이 상당히 줄어들었고, 전체 프레임워크를 하나의 네트워크(end-to-end)로<br>\n",
    "        학습하여 당시 비약적인 성능향상을 이루어서 현재까지도 Baseline Model로 채택되고 있음\n",
    "        - 단점: 여전히 많은 구성 요소(Component)가 존재하여 전체 구조체(architecture)가 여전히 많이 복잡할<br>\n",
    "        뿐만아니라 Region Classification 단계를 진행할 때 각각의 Region에 대한 특징 벡터가 개별적으로<br>\n",
    "        구분되어 FC(Fully-Connected) layer로 전달(Forwards)됨"
   ]
  },
  {
   "cell_type": "markdown",
   "metadata": {},
   "source": [
    "#### Overview\n",
    "- ㅇㅇㄹㄹ"
   ]
  },
  {
   "cell_type": "markdown",
   "metadata": {},
   "source": []
  },
  {
   "cell_type": "markdown",
   "metadata": {},
   "source": []
  },
  {
   "cell_type": "markdown",
   "metadata": {},
   "source": []
  },
  {
   "cell_type": "markdown",
   "metadata": {},
   "source": []
  },
  {
   "cell_type": "markdown",
   "metadata": {},
   "source": []
  },
  {
   "cell_type": "code",
   "execution_count": 6,
   "metadata": {},
   "outputs": [
    {
     "data": {
      "text/plain": [
       "True"
      ]
     },
     "execution_count": 6,
     "metadata": {},
     "output_type": "execute_result"
    }
   ],
   "source": [
    "from math import *\n",
    "\n",
    "round(1/sqrt(2), 3) == round(sqrt(1/2), 3)"
   ]
  },
  {
   "cell_type": "code",
   "execution_count": 8,
   "metadata": {},
   "outputs": [
    {
     "data": {
      "text/plain": [
       "0.7071067811865476"
      ]
     },
     "execution_count": 8,
     "metadata": {},
     "output_type": "execute_result"
    }
   ],
   "source": [
    "sqrt(1/2)"
   ]
  },
  {
   "cell_type": "code",
   "execution_count": 7,
   "metadata": {},
   "outputs": [
    {
     "data": {
      "text/plain": [
       "0.7071067811865475"
      ]
     },
     "execution_count": 7,
     "metadata": {},
     "output_type": "execute_result"
    }
   ],
   "source": [
    "1/sqrt(2)"
   ]
  },
  {
   "cell_type": "code",
   "execution_count": 114,
   "metadata": {},
   "outputs": [
    {
     "name": "stdout",
     "output_type": "stream",
     "text": [
      "your password is : eKp0`;i[R7\n"
     ]
    }
   ],
   "source": [
    "import string\n",
    "import random\n",
    "\n",
    "lowercase = list(string.ascii_lowercase)\n",
    "uppercase = list(string.ascii_uppercase)\n",
    "digits = list(string.digits)\n",
    "punctuation = list(string.punctuation)\n",
    "\n",
    "characters_number = input(\"생성할 비빌번호의 길이를 숫자로 입력하세요: \")\n",
    "\n",
    "while True:\n",
    "    try:\n",
    "        characters_number=int(characters_number)\n",
    "        if characters_number < 6:\n",
    "            print(\"강력한 비밀번호 설정을 위해 최소 6자 이상이 필요합니다!\")\n",
    "            characters_number=input(\"생성할 비빌번호의 길이를 숫자로 입력하세요: \")\n",
    "        else:\n",
    "            break\n",
    "    except:\n",
    "        print(\"X X X    비밀번호의 길이를 숫자로 입력하세요!\")\n",
    "        characters_number=input(\"생성할 비빌번호의 길이를 숫자로 입력하세요: \")\n",
    "\n",
    "random.shuffle(lowercase)\n",
    "random.shuffle(uppercase)\n",
    "random.shuffle(digits)\n",
    "random.shuffle(punctuation)\n",
    "\n",
    "# 30% of the characters_number\n",
    "ratio30 = round(characters_number * 0.3) \n",
    "# 20% of the characters_number\n",
    "ratio20 = round(characters_number * 0.2)\n",
    "\n",
    "created = []\n",
    "\n",
    "for i in range(characters_number):\n",
    "    while True:\n",
    "        if i < characters_number // 3:\n",
    "            element = punctuation[random.randint(0, len(punctuation) - 1)]\n",
    "            if element not in created:\n",
    "                break\n",
    "        elif characters_number // 3 <= i < characters_number // 3 * 2:\n",
    "            element = lowercase[random.randint(0, len(lowercase) - 1)]\n",
    "            if element.upper() not in created and element.lower() not in created:\n",
    "                break\n",
    "        elif characters_number // 3 * 2 <= i < round(characters_number * 0.8):\n",
    "            element = digits[random.randint(0, len(digits) - 1)]\n",
    "            if element not in created:\n",
    "                break\n",
    "        else:\n",
    "            element = uppercase[random.randint(0, len(uppercase) - 1)]\n",
    "            if element.upper() not in created and element.lower() not in created:\n",
    "                break\n",
    "    created.append(element)\n",
    "\n",
    "# punctuation select\n",
    "# for i in range(ratio20):\n",
    "#     while True:\n",
    "#         s1 = punctuation[random.randint(0, len(punctuation) - 1)]\n",
    "#         if s1 not in created:\n",
    "#             break\n",
    "#     created.append(s1)\n",
    "\n",
    "# # lowercase select\n",
    "# for i in range(ratio30):\n",
    "#     while True:\n",
    "#         s2 = lowercase[random.randint(0, len(lowercase) - 1)]\n",
    "#         if s2.upper() not in created and s2.lower() not in created:\n",
    "#             break\n",
    "#     created.append(s2)\n",
    "\n",
    "# # digits select\n",
    "# for i in range(ratio20):\n",
    "#     while True:\n",
    "#         s3 = digits[random.randint(0, len(digits) - 1)]\n",
    "#         if s3 not in created:\n",
    "#             break\n",
    "#     created.append(s3)\n",
    "\n",
    "# # uppercase select\n",
    "# for i in range(ratio30):\n",
    "#     while True:\n",
    "#         s4 = uppercase[random.randint(0, len(uppercase) - 1)]\n",
    "#         if s4.upper() not in created and s4.lower() not in created:\n",
    "#             break\n",
    "#     created.append(s4)\n",
    "\n",
    "random.shuffle(created)\n",
    "\n",
    "password=\"\".join(created[0:])\n",
    "print(f\"your password is : {password}\")"
   ]
  },
  {
   "cell_type": "code",
   "execution_count": 110,
   "metadata": {},
   "outputs": [
    {
     "data": {
      "text/plain": [
       "8"
      ]
     },
     "execution_count": 110,
     "metadata": {},
     "output_type": "execute_result"
    }
   ],
   "source": [
    "round(10 * 0.8)"
   ]
  },
  {
   "cell_type": "code",
   "execution_count": 45,
   "metadata": {},
   "outputs": [
    {
     "data": {
      "text/plain": [
       "24"
      ]
     },
     "execution_count": 45,
     "metadata": {},
     "output_type": "execute_result"
    }
   ],
   "source": [
    "len(s1) - end1"
   ]
  },
  {
   "cell_type": "code",
   "execution_count": 30,
   "metadata": {},
   "outputs": [
    {
     "data": {
      "text/plain": [
       "8"
      ]
     },
     "execution_count": 30,
     "metadata": {},
     "output_type": "execute_result"
    }
   ],
   "source": [
    "10 - random.randint(0, len(s1) - end1 - 1)"
   ]
  },
  {
   "cell_type": "code",
   "execution_count": 35,
   "metadata": {},
   "outputs": [
    {
     "data": {
      "text/plain": [
       "19"
      ]
     },
     "execution_count": 35,
     "metadata": {},
     "output_type": "execute_result"
    }
   ],
   "source": [
    "len(s1) - end1 - 1"
   ]
  },
  {
   "cell_type": "code",
   "execution_count": null,
   "metadata": {},
   "outputs": [],
   "source": []
  }
 ],
 "metadata": {
  "interpreter": {
   "hash": "38cc0cca68228d4d18227abe74ed813685db17db46984279e4aabdddebf5f1ba"
  },
  "kernelspec": {
   "display_name": "Python 3.7.9 ('base')",
   "language": "python",
   "name": "python3"
  },
  "language_info": {
   "codemirror_mode": {
    "name": "ipython",
    "version": 3
   },
   "file_extension": ".py",
   "mimetype": "text/x-python",
   "name": "python",
   "nbconvert_exporter": "python",
   "pygments_lexer": "ipython3",
   "version": "3.7.9"
  },
  "orig_nbformat": 4
 },
 "nbformat": 4,
 "nbformat_minor": 2
}
