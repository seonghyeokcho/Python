{
 "cells": [
  {
   "cell_type": "markdown",
   "metadata": {},
   "source": [
    "### Faster R-CNN: Towards Real-Time Object Detection with Region Proposal Networks\n",
    "<hr>"
   ]
  },
  {
   "cell_type": "markdown",
   "metadata": {},
   "source": [
    "- R-CNN 계열 기법들의 발전 방향 및 장단점 분석\n",
    "    - R-CNN(CVPR 2014)\n",
    "        - 장점: CNN을 이용해 각 Region의 클래스를 분류하는 기법으로 딥러닝 기법을 효과적으로<br>\n",
    "        `object detection` 분야에 적용함으로써 당시 기준으로 큰 성능 향상을 이끌어 냄\n",
    "        - 단점: 다양한 구성 요소(component) 붙여 넣은 방식이라서 성능이 낮음뿐만아니라 속도가 느리고,<br>\n",
    "        전체 프레임워크를 end-to-end 방식으로 학습할 수 없음. 따라서 전방위적인 최적의 해결책<br>\n",
    "        (Global Optimal Solution) 을 찾기 어려움\n",
    "    - Fast R-CNN(ICCV 2015)\n",
    "        - 장점: Selective Search를 제외한 다른 부분(Feature Extraction, RoI Pooling, Region<br>\n",
    "        Classification, Bounding box Regression)의 단계(step)를 하나의 네트워크(end-to-end)로<br>\n",
    "        묶어서 학습이 가능하도록 만들었기 때문에 상대적으로 R-CNN에 비해 Global Optimal Solution을<br>\n",
    "        잘 찾을수 있게 됨\n",
    "        - 단점: 하지만 여전히 영역 제안(Region Proposals)을 위한 Selective Search는 CPU에서 수행<br>\n",
    "        해야되므로 이 부분이 bottleneck(병목 현상)으로 작용되어 속도 측면에서 아직도 많이 느림\n",
    "    - Faster R-CNN(NIPS 2015)\n",
    "        - 장점: 기존의 Selective Search 방식 대신 GPU에서 작업이 이루어지는 RPN(Region Proposal Networks)<br>\n",
    "        을 제안, 이를 사용하여 처리 시간이 상당히 줄어들었고, 전체 프레임워크를 하나의 네트워크(end-to-end)로<br>\n",
    "        학습하여 당시 비약적인 성능향상을 이루어서 현재까지도 Baseline Model로 채택되고 있음\n",
    "        - 단점: 여전히 많은 구성 요소(Component)가 존재하여 전체 구조체(architecture)가 여전히 많이 복잡할<br>\n",
    "        뿐만아니라 Region Classification 단계를 진행할 때 각각의 Region에 대한 특징 벡터가 개별적으로<br>\n",
    "        구분되어 FC(Fully-Connected) layer로 전달(Forwards)됨"
   ]
  },
  {
   "cell_type": "markdown",
   "metadata": {},
   "source": [
    "#### Overview\n",
    "- "
   ]
  },
  {
   "cell_type": "markdown",
   "metadata": {},
   "source": []
  },
  {
   "cell_type": "markdown",
   "metadata": {},
   "source": []
  },
  {
   "cell_type": "markdown",
   "metadata": {},
   "source": []
  },
  {
   "cell_type": "markdown",
   "metadata": {},
   "source": []
  },
  {
   "cell_type": "markdown",
   "metadata": {},
   "source": []
  }
 ],
 "metadata": {
  "interpreter": {
   "hash": "38cc0cca68228d4d18227abe74ed813685db17db46984279e4aabdddebf5f1ba"
  },
  "kernelspec": {
   "display_name": "Python 3.7.9 ('base')",
   "language": "python",
   "name": "python3"
  },
  "language_info": {
   "codemirror_mode": {
    "name": "ipython",
    "version": 3
   },
   "file_extension": ".py",
   "mimetype": "text/x-python",
   "name": "python",
   "nbconvert_exporter": "python",
   "pygments_lexer": "ipython3",
   "version": "3.7.9"
  },
  "orig_nbformat": 4
 },
 "nbformat": 4,
 "nbformat_minor": 2
}
