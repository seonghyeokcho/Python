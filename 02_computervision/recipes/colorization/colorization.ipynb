{
 "cells": [
  {
   "cell_type": "code",
   "execution_count": 7,
   "metadata": {},
   "outputs": [
    {
     "name": "stdout",
     "output_type": "stream",
     "text": [
      "DONE !!!\n"
     ]
    },
    {
     "data": {
      "text/plain": [
       "-1"
      ]
     },
     "execution_count": 7,
     "metadata": {},
     "output_type": "execute_result"
    }
   ],
   "source": [
    "import re\n",
    "\n",
    "import numpy as np\n",
    "import cv2 as cv\n",
    "\n",
    "if __name__ == '__main__':\n",
    "    W_in = 224\n",
    "    H_in = 224\n",
    "    \n",
    "    # input이 동영상인지 영상(이미지)인지 여부\n",
    "    isVideo = True\n",
    "\n",
    "    prototxt = \"colorization_deploy_v2.prototxt.txt\"\n",
    "    caffemodel = \"colorization_release_v2.caffemodel\"\n",
    "    kernel = \"pts_in_hull.npy\"\n",
    "    input = \"test3.jpg\"\n",
    "\n",
    "    # Select desired model\n",
    "    net = cv.dnn.readNetFromCaffe(prototxt, caffemodel)\n",
    "\n",
    "    pts_in_hull = np.load(kernel) # load cluster centers\n",
    "\n",
    "    # populate cluster centers as 1x1 convolution kernel\n",
    "    pts_in_hull = pts_in_hull.transpose().reshape(2, 313, 1, 1)\n",
    "    net.getLayer(net.getLayerId('class8_ab')).blobs = [pts_in_hull.astype(np.float32)]\n",
    "    net.getLayer(net.getLayerId('conv8_313_rh')).blobs = [np.full([1, 313], 2.606, np.float32)]\n",
    "\n",
    "    if input:\n",
    "        if \"jpg\" in input or \"png\" in input or \"bmp\" in input or \"jpeg\" in input:\n",
    "            isVideo = False  # input이 이미지(영상)일 때\n",
    "        cap = cv.VideoCapture(input)\n",
    "    else:\n",
    "        cap = cv.VideoCapture(0)\n",
    "\n",
    "    width = int(cap.get(cv.CAP_PROP_FRAME_WIDTH))\n",
    "    height = int(cap.get(cv.CAP_PROP_FRAME_HEIGHT))\n",
    "\n",
    "    imshowSize = (width, height)\n",
    "    \n",
    "    if isVideo:  # input이 동영상일 때\n",
    "        # 초 당 프레임 수 & 딜레이 구하기\n",
    "        fps = round(cap.get(cv.CAP_PROP_FPS))\n",
    "        delay = round(1000 / fps)\n",
    "        \n",
    "        # print(imshowSize, fps, delay)\n",
    "        \n",
    "        # 4-문자 코드 지정\n",
    "        fourcc = cv.VideoWriter_fourcc(*'mp4v')\n",
    "        # 동영상 파일 정의\n",
    "        out = cv.VideoWriter(\n",
    "            \"colorization{}.mp4\".format(re.findall(r'\\d+', input)[0]),\n",
    "            fourcc, fps, (width, height), True)\n",
    "\n",
    "    while cv.waitKey(1) < 0:\n",
    "        hasFrame, frame = cap.read()\n",
    "        if not hasFrame:\n",
    "            cv.waitKey()\n",
    "            print(\"DONE !!!\")\n",
    "            break\n",
    "\n",
    "        img_rgb = (frame[:,:,[2, 1, 0]] * 1.0 / 255).astype(np.float32)\n",
    "\n",
    "        img_lab = cv.cvtColor(img_rgb, cv.COLOR_RGB2Lab)\n",
    "        img_l = img_lab[:,:,0] # pull out L channel\n",
    "        (H_orig,W_orig) = img_rgb.shape[:2] # original image size\n",
    "\n",
    "        # resize image to network input size\n",
    "        img_rs = cv.resize(img_rgb, (W_in, H_in)) # resize image to network input size\n",
    "        img_lab_rs = cv.cvtColor(img_rs, cv.COLOR_RGB2Lab)\n",
    "        img_l_rs = img_lab_rs[:,:,0]\n",
    "        img_l_rs -= 50 # subtract 50 for mean-centering\n",
    "\n",
    "        net.setInput(cv.dnn.blobFromImage(img_l_rs))\n",
    "        ab_dec = net.forward()[0,:,:,:].transpose((1,2,0)) # this is our result\n",
    "\n",
    "        (H_out,W_out) = ab_dec.shape[:2]\n",
    "        ab_dec_us = cv.resize(ab_dec, (W_orig, H_orig))\n",
    "        img_lab_out = np.concatenate((img_l[:,:,np.newaxis],ab_dec_us),axis=2) # concatenate with original image L\n",
    "        img_bgr_out = np.clip(cv.cvtColor(img_lab_out, cv.COLOR_Lab2BGR), 0, 1)\n",
    "        \n",
    "        frame = cv.resize(frame, imshowSize)\n",
    "        \n",
    "        img_min = np.min(img_bgr_out)\n",
    "        img_max = np.max(img_bgr_out)\n",
    "        normalized_array = np.clip((img_bgr_out - img_min) * 255. / (img_max - img_min), 0, 255).astype(np.uint8)\n",
    "        colorized = cv.resize(normalized_array, imshowSize)\n",
    "        \n",
    "        if isVideo:  # input이 동영상일 때\n",
    "            out.write(colorized)\n",
    "        else:  # input이 영상(이미지)일 때\n",
    "            cv.imwrite(\"result{}.png\".format(re.sub(r'[^0-9]', \"\", input)), colorized)\n",
    "        \n",
    "        if cv.waitKey(delay) == 27:  # esc 누를 시\n",
    "            break\n",
    "        \n",
    "        # 화면에 출력\n",
    "        cv.imshow('origin', frame)\n",
    "        cv.imshow('gray', cv.cvtColor(frame, cv.COLOR_RGB2GRAY))\n",
    "        cv.imshow('colorized', cv.resize(img_bgr_out, imshowSize))\n",
    "        \n",
    "cap.release()\n",
    "out.release()\n",
    "cv.destroyAllWindows()\n",
    "cv.waitKey(1)"
   ]
  },
  {
   "cell_type": "code",
   "execution_count": 2,
   "metadata": {},
   "outputs": [
    {
     "name": "stdout",
     "output_type": "stream",
     "text": [
      "['3', '4']\n"
     ]
    }
   ],
   "source": [
    "string = 'test_video3.mp4'\n",
    "numbers = re.findall(r'\\d+', string)\n",
    "print(numbers)"
   ]
  },
  {
   "cell_type": "code",
   "execution_count": null,
   "metadata": {},
   "outputs": [],
   "source": []
  }
 ],
 "metadata": {
  "interpreter": {
   "hash": "38cc0cca68228d4d18227abe74ed813685db17db46984279e4aabdddebf5f1ba"
  },
  "kernelspec": {
   "display_name": "Python 3.7.9 ('base')",
   "language": "python",
   "name": "python3"
  },
  "language_info": {
   "codemirror_mode": {
    "name": "ipython",
    "version": 3
   },
   "file_extension": ".py",
   "mimetype": "text/x-python",
   "name": "python",
   "nbconvert_exporter": "python",
   "pygments_lexer": "ipython3",
   "version": "3.7.9"
  },
  "orig_nbformat": 4
 },
 "nbformat": 4,
 "nbformat_minor": 2
}
