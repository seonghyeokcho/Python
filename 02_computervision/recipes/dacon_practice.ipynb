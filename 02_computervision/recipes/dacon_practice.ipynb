{
 "cells": [
  {
   "cell_type": "code",
   "execution_count": 12,
   "metadata": {},
   "outputs": [],
   "source": [
    "# Tensorflow: 네트워크 모델 만들기\n",
    "import cv2\n",
    "\n",
    "import numpy as np\n",
    "\n",
    "import tensorflow as tf\n",
    "from tensorflow.examples.tutorials.mnist import input_data\n",
    "from tensorflow.python.framework import graph_util\n",
    "from tensorflow.python.platform import gfile\n",
    "from tensorflow.keras.utils import to_categorical\n",
    "\n",
    "from glob import glob\n",
    "\n",
    "tf.logging.set_verbosity(tf.logging.ERROR)\n",
    "\n",
    "# set hyper parameters\n",
    "learning_rate = 1e-3\n",
    "training_epochs = 20\n",
    "batch_size = 100"
   ]
  },
  {
   "cell_type": "code",
   "execution_count": 37,
   "metadata": {},
   "outputs": [
    {
     "name": "stdout",
     "output_type": "stream",
     "text": [
      "(50000, 32, 32, 3) (50000, 1)\n",
      "(50000, 32, 32, 3) (50000, 10)\n"
     ]
    }
   ],
   "source": [
    "# Load data\n",
    "def load_data(filepath):\n",
    "    images = []\n",
    "    labels = []\n",
    "    \n",
    "    label = 0\n",
    "    \n",
    "    for path in glob(filepath + \"*\"):\n",
    "        for file in glob(path + \"/*.jpg\"):\n",
    "            image = cv2.imread(file)\n",
    "            images.append(image)\n",
    "            \n",
    "            labels.append(label)\n",
    "        label += 1\n",
    "    \n",
    "    return np.array(images), np.array(labels).reshape(-1, 1)\n",
    "\n",
    "train_data, train_label = load_data(\"data/train/\")\n",
    "print(train_data.shape, train_label.shape)\n",
    "train_label = to_categorical(train_label)\n",
    "print(train_data.shape, train_label.shape)"
   ]
  },
  {
   "cell_type": "code",
   "execution_count": 38,
   "metadata": {},
   "outputs": [],
   "source": [
    "# Model configuration\n",
    "X = tf.placeholder(dtype=tf.float32, shape=[None, 32, 32, 3], name=\"data\")\n",
    "Y = tf.placeholder(tf.float32, [None, 10])\n",
    "\n",
    "conv1 = tf.layers.conv2d(inputs=X, filters=10, kernel_size=[3, 3], padding=\"same\", activation=tf.nn.relu)\n",
    "pool1 = tf.layers.max_pooling2d(inputs=conv1, pool_size=[2, 2], strides=2, padding=\"same\")\n",
    "\n",
    "conv2 = tf.layers.conv2d(pool1, 20, [3, 3], padding=\"same\", activation=tf.nn.relu)\n",
    "pool2 = tf.layers.max_pooling2d(conv2, [2, 2], 2, \"same\")\n",
    "\n",
    "fc1 = tf.contrib.layers.flatten(pool2)\n",
    "fc2 = tf.layers.dense(inputs=fc1, units=200, activation=tf.nn.relu)\n",
    "logits = tf.layers.dense(fc2, 10, tf.nn.relu)\n",
    "output = tf.nn.softmax(logits, name=\"probability\")\n",
    "\n",
    "# 비용 함수(cost func) or 손실 함수(loss func) 지정\n",
    "cost = tf.reduce_mean(input_tensor=tf.nn.softmax_cross_entropy_with_logits_v2(labels=Y, logits=logits))\n",
    "\n",
    "# 최적화기 지정\n",
    "optimizer = tf.train.AdamOptimizer(learning_rate=learning_rate).minimize(loss=cost)"
   ]
  },
  {
   "cell_type": "code",
   "execution_count": 39,
   "metadata": {},
   "outputs": [
    {
     "name": "stdout",
     "output_type": "stream",
     "text": [
      "Start learning!\n",
      "Epoch: 1, Avg. Cost = 14.8842\n",
      "Epoch: 2, Avg. Cost = 2.3018\n",
      "Epoch: 3, Avg. Cost = 6.3687\n",
      "Epoch: 4, Avg. Cost = 2.2998\n",
      "Epoch: 5, Avg. Cost = 2.9997\n",
      "Epoch: 6, Avg. Cost = 14.8624\n",
      "Epoch: 7, Avg. Cost = 2.3026\n",
      "Epoch: 8, Avg. Cost = 2.3026\n",
      "Epoch: 9, Avg. Cost = 2.3026\n",
      "Epoch: 10, Avg. Cost = 2.3026\n",
      "Epoch: 11, Avg. Cost = 2.3026\n",
      "Epoch: 12, Avg. Cost = 2.3026\n",
      "Epoch: 13, Avg. Cost = 2.3026\n",
      "Epoch: 14, Avg. Cost = 2.3026\n",
      "Epoch: 15, Avg. Cost = 2.3026\n",
      "Epoch: 16, Avg. Cost = 2.3026\n",
      "Epoch: 17, Avg. Cost = 2.3026\n",
      "Epoch: 18, Avg. Cost = 2.3026\n",
      "Epoch: 19, Avg. Cost = 2.3026\n",
      "Epoch: 20, Avg. Cost = 2.3026\n",
      "Learning finished!\n"
     ]
    }
   ],
   "source": [
    "# Training\n",
    "sess = tf.Session()\n",
    "sess.run(fetches=tf.global_variables_initializer())\n",
    "total_batch = int(len(train_data) / batch_size)  # 50000 / 100 = '500 -> total_batch'\n",
    "\n",
    "print(\"Start learning!\")\n",
    "for epoch in range(training_epochs):\n",
    "    total_cost = 0\n",
    "    \n",
    "    for i in range(total_batch):\n",
    "        batch_xs = train_data[batch_size * i:batch_size * (i+1)]\n",
    "        batch_ys = train_label[batch_size * i:batch_size * (i+1)]\n",
    "        _, cost_val = sess.run([optimizer, cost], feed_dict={X: batch_xs, Y: batch_ys})\n",
    "        total_cost += cost_val\n",
    "    \n",
    "    print(\"Epoch: {}, Avg. Cost = {:.4f}\".format(epoch + 1, total_cost/total_batch))\n",
    "\n",
    "print(\"Learning finished!\")"
   ]
  },
  {
   "cell_type": "code",
   "execution_count": null,
   "metadata": {},
   "outputs": [],
   "source": [
    "# Freeze variables and save pb file\n",
    "output_graph_def = graph_util.convert_variables_to_constants(\n",
    "    sess=sess, input_graph_def=sess.graph_def, output_node_names=[\"probability\"])\n",
    "with gfile.FastGFile(\"./models/dacon_practice.pb\", \"wb\") as f:\n",
    "    f.write(output_graph_def.SerializeToString())\n",
    "\n",
    "print(\"dacon_practice.pb file is created successfully!\")"
   ]
  },
  {
   "cell_type": "code",
   "execution_count": null,
   "metadata": {},
   "outputs": [],
   "source": [
    "# Case #2에서 만든 \"mnist_cnn.pb\" 모델 불러오기\n",
    "net = cv2.dnn.readNet(\"models/dacon_practice.pb\")\n",
    "\n",
    "if net.empty():\n",
    "    print(\"Network load failed!\")"
   ]
  },
  {
   "cell_type": "code",
   "execution_count": null,
   "metadata": {},
   "outputs": [],
   "source": [
    "image = np.zeros((400, 400), np.uint8)\n",
    "\n",
    "cv2.imshow(\"image\", image)\n",
    "cv2.setMouseCallback(\"image\", on_mouse)\n",
    "\n",
    "while True:\n",
    "    key = cv2.waitKey()\n",
    "    \n",
    "    if key == 27:\n",
    "        break\n",
    "    elif key == ord(\" \"):\n",
    "        # MNIST 모델은 입력 데이터를 0~1 사이로 정규화하여 입력을 받기 때문에 여기서도 입력 픽셀 값을 0~1 사이로 정규화 한다.\n",
    "        blob = cv2.dnn.blobFromImage(norm_digit(image), 1/255., (28, 28))\n",
    "        net.setInput(blob)\n",
    "        probability = net.forward()\n",
    "        \n",
    "        # return: min value, max value, min location, max location\n",
    "        _, max_value, _, max_loc = cv2.minMaxLoc(probability)\n",
    "        digit = max_loc[0]\n",
    "        \n",
    "        print(f\"{digit} ({max_value * 100:4.2f})\")\n",
    "        \n",
    "        image.fill(0)\n",
    "        cv2.imshow(\"image\", image)\n",
    "\n",
    "cv2.destroyAllWindows()\n",
    "cv2.waitKey(1)"
   ]
  }
 ],
 "metadata": {
  "interpreter": {
   "hash": "38cc0cca68228d4d18227abe74ed813685db17db46984279e4aabdddebf5f1ba"
  },
  "kernelspec": {
   "display_name": "Python 3.7.9 ('base')",
   "language": "python",
   "name": "python3"
  },
  "language_info": {
   "codemirror_mode": {
    "name": "ipython",
    "version": 3
   },
   "file_extension": ".py",
   "mimetype": "text/x-python",
   "name": "python",
   "nbconvert_exporter": "python",
   "pygments_lexer": "ipython3",
   "version": "3.7.9"
  },
  "orig_nbformat": 4
 },
 "nbformat": 4,
 "nbformat_minor": 2
}
