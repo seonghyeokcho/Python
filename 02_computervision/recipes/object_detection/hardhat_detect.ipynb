{
 "cells": [
  {
   "cell_type": "markdown",
   "metadata": {},
   "source": [
    "### 안전모(hard hat) 탐지 모델"
   ]
  },
  {
   "cell_type": "markdown",
   "metadata": {},
   "source": [
    "#### 데이터셋 다운로드\n",
    "- 안전모 데이터셋: https://public.roboflow.com/object-detection/hard-hat-workers/"
   ]
  },
  {
   "cell_type": "code",
   "execution_count": null,
   "metadata": {},
   "outputs": [],
   "source": [
    "%mkdir yolov5/hardhat\n",
    "%cd yolov5/hardhat\n",
    "!curl -L \"https://public.roboflow.com/ds/BJRRyYVjUg?key=W9Z9bx4j2u\" > roboflow.zip; unzip roboflow.zip; rm roboflow.zip\n",
    "%cd ../.."
   ]
  },
  {
   "cell_type": "code",
   "execution_count": 5,
   "metadata": {},
   "outputs": [
    {
     "name": "stdout",
     "output_type": "stream",
     "text": [
      "5269 1766\n"
     ]
    }
   ],
   "source": [
    "from glob import glob\n",
    "\n",
    "train_image_list = glob(\"yolov5/hardhat/train/images/*.jpg\")\n",
    "test_image_list = glob(\"yolov5/hardhat/test/images/*.jpg\")\n",
    "\n",
    "print(len(train_image_list), len(test_image_list))"
   ]
  },
  {
   "cell_type": "code",
   "execution_count": 7,
   "metadata": {},
   "outputs": [
    {
     "name": "stdout",
     "output_type": "stream",
     "text": [
      "883 883\n"
     ]
    }
   ],
   "source": [
    "from sklearn.model_selection import train_test_split\n",
    "\n",
    "\n",
    "test_image_list, valid_image_list = train_test_split(test_image_list, test_size=0.5, random_state=777)\n",
    "print(len(test_image_list), len(valid_image_list))"
   ]
  },
  {
   "cell_type": "code",
   "execution_count": 8,
   "metadata": {},
   "outputs": [],
   "source": [
    "import yaml\n",
    "\n",
    "with open(\"yolov5/hardhat/train.txt\", \"w\") as f:\n",
    "    f.write(\"\\n\".join(train_image_list) + \"\\n\")\n",
    "\n",
    "with open(\"yolov5/hardhat/test.txt\", \"w\") as f:\n",
    "    f.write(\"\\n\".join(test_image_list) + \"\\n\")\n",
    "\n",
    "with open(\"yolov5/hardhat/valid.txt\", \"w\") as f:\n",
    "    f.write(\"\\n\".join(valid_image_list) + \"\\n\")"
   ]
  },
  {
   "cell_type": "code",
   "execution_count": 9,
   "metadata": {},
   "outputs": [],
   "source": [
    "from IPython.core.magic import register_line_cell_magic\n",
    "\n",
    "@register_line_cell_magic\n",
    "def write_template(line, cell):\n",
    "    with open(line, \"w\") as f:\n",
    "        f.write(cell.format(**globals()))"
   ]
  },
  {
   "cell_type": "code",
   "execution_count": 11,
   "metadata": {},
   "outputs": [
    {
     "name": "stdout",
     "output_type": "stream",
     "text": [
      "train: ../train/images\n",
      "val: ../valid/images\n",
      "\n",
      "nc: 3\n",
      "names: ['head', 'helmet', 'person']"
     ]
    }
   ],
   "source": [
    "%cat yolov5/hardhat/data.yaml"
   ]
  },
  {
   "cell_type": "code",
   "execution_count": 19,
   "metadata": {},
   "outputs": [],
   "source": [
    "%%write_template yolov5/hardhat/data.yaml\n",
    "\n",
    "train: ./hardhat/train/images\n",
    "test: ./hardhat/test/images\n",
    "val: ./hardhat/test/images\n",
    "\n",
    "nc: 3\n",
    "names: ['head', 'helmet', 'person']"
   ]
  },
  {
   "cell_type": "code",
   "execution_count": 20,
   "metadata": {},
   "outputs": [
    {
     "name": "stdout",
     "output_type": "stream",
     "text": [
      "\n",
      "train: ./hardhat/train/images\n",
      "test: ./hardhat/test/images\n",
      "val: ./hardhat/test/images\n",
      "\n",
      "nc: 3\n",
      "names: ['head', 'helmet', 'person']\n"
     ]
    }
   ],
   "source": [
    "%cat yolov5/hardhat/data.yaml"
   ]
  },
  {
   "cell_type": "markdown",
   "metadata": {},
   "source": [
    "#### 모델 구성"
   ]
  },
  {
   "cell_type": "code",
   "execution_count": 21,
   "metadata": {},
   "outputs": [
    {
     "name": "stdout",
     "output_type": "stream",
     "text": [
      "# YOLOv5 🚀 by Ultralytics, GPL-3.0 license\n",
      "\n",
      "# Parameters\n",
      "nc: 80  # number of classes\n",
      "depth_multiple: 0.33  # model depth multiple\n",
      "width_multiple: 0.50  # layer channel multiple\n",
      "anchors:\n",
      "  - [10,13, 16,30, 33,23]  # P3/8\n",
      "  - [30,61, 62,45, 59,119]  # P4/16\n",
      "  - [116,90, 156,198, 373,326]  # P5/32\n",
      "\n",
      "# YOLOv5 v6.0 backbone\n",
      "backbone:\n",
      "  # [from, number, module, args]\n",
      "  [[-1, 1, Conv, [64, 6, 2, 2]],  # 0-P1/2\n",
      "   [-1, 1, Conv, [128, 3, 2]],  # 1-P2/4\n",
      "   [-1, 3, C3, [128]],\n",
      "   [-1, 1, Conv, [256, 3, 2]],  # 3-P3/8\n",
      "   [-1, 6, C3, [256]],\n",
      "   [-1, 1, Conv, [512, 3, 2]],  # 5-P4/16\n",
      "   [-1, 9, C3, [512]],\n",
      "   [-1, 1, Conv, [1024, 3, 2]],  # 7-P5/32\n",
      "   [-1, 3, C3, [1024]],\n",
      "   [-1, 1, SPPF, [1024, 5]],  # 9\n",
      "  ]\n",
      "\n",
      "# YOLOv5 v6.0 head\n",
      "head:\n",
      "  [[-1, 1, Conv, [512, 1, 1]],\n",
      "   [-1, 1, nn.Upsample, [None, 2, 'nearest']],\n",
      "   [[-1, 6], 1, Concat, [1]],  # cat backbone P4\n",
      "   [-1, 3, C3, [512, False]],  # 13\n",
      "\n",
      "   [-1, 1, Conv, [256, 1, 1]],\n",
      "   [-1, 1, nn.Upsample, [None, 2, 'nearest']],\n",
      "   [[-1, 4], 1, Concat, [1]],  # cat backbone P3\n",
      "   [-1, 3, C3, [256, False]],  # 17 (P3/8-small)\n",
      "\n",
      "   [-1, 1, Conv, [256, 3, 2]],\n",
      "   [[-1, 14], 1, Concat, [1]],  # cat head P4\n",
      "   [-1, 3, C3, [512, False]],  # 20 (P4/16-medium)\n",
      "\n",
      "   [-1, 1, Conv, [512, 3, 2]],\n",
      "   [[-1, 10], 1, Concat, [1]],  # cat head P5\n",
      "   [-1, 3, C3, [1024, False]],  # 23 (P5/32-large)\n",
      "\n",
      "   [[17, 20, 23], 1, Detect, [nc, anchors]],  # Detect(P3, P4, P5)\n",
      "  ]\n"
     ]
    }
   ],
   "source": [
    "import yaml\n",
    "\n",
    "with open(\"yolov5/hardhat/data.yaml\", \"r\") as stream:\n",
    "    num_classes = str(yaml.safe_load(stream)[\"nc\"])\n",
    "\n",
    "%cat yolov5/models/yolov5s.yaml"
   ]
  },
  {
   "cell_type": "code",
   "execution_count": 22,
   "metadata": {},
   "outputs": [],
   "source": [
    "%%write_template yolov5/models/custom_yolov5s.yaml\n",
    "\n",
    "# Parameters\n",
    "nc: {num_classes}  # number of classes\n",
    "depth_multiple: 0.33  # model depth multiple\n",
    "width_multiple: 0.50  # layer channel multiple\n",
    "anchors:\n",
    "  - [10,13, 16,30, 33,23]  # P3/8\n",
    "  - [30,61, 62,45, 59,119]  # P4/16\n",
    "  - [116,90, 156,198, 373,326]  # P5/32\n",
    "\n",
    "# YOLOv5 v6.0 backbone\n",
    "backbone:\n",
    "  # [from, number, module, args]\n",
    "  [[-1, 1, Conv, [64, 6, 2, 2]],  # 0-P1/2\n",
    "   [-1, 1, Conv, [128, 3, 2]],  # 1-P2/4\n",
    "   [-1, 3, C3, [128]],\n",
    "   [-1, 1, Conv, [256, 3, 2]],  # 3-P3/8\n",
    "   [-1, 6, C3, [256]],\n",
    "   [-1, 1, Conv, [512, 3, 2]],  # 5-P4/16\n",
    "   [-1, 9, C3, [512]],\n",
    "   [-1, 1, Conv, [1024, 3, 2]],  # 7-P5/32\n",
    "   [-1, 3, C3, [1024]],\n",
    "   [-1, 1, SPPF, [1024, 5]],  # 9\n",
    "  ]\n",
    "\n",
    "# YOLOv5 v6.0 head\n",
    "head:\n",
    "  [[-1, 1, Conv, [512, 1, 1]],\n",
    "   [-1, 1, nn.Upsample, [None, 2, 'nearest']],\n",
    "   [[-1, 6], 1, Concat, [1]],  # cat backbone P4\n",
    "   [-1, 3, C3, [512, False]],  # 13\n",
    "\n",
    "   [-1, 1, Conv, [256, 1, 1]],\n",
    "   [-1, 1, nn.Upsample, [None, 2, 'nearest']],\n",
    "   [[-1, 4], 1, Concat, [1]],  # cat backbone P3\n",
    "   [-1, 3, C3, [256, False]],  # 17 (P3/8-small)\n",
    "\n",
    "   [-1, 1, Conv, [256, 3, 2]],\n",
    "   [[-1, 14], 1, Concat, [1]],  # cat head P4\n",
    "   [-1, 3, C3, [512, False]],  # 20 (P4/16-medium)\n",
    "\n",
    "   [-1, 1, Conv, [512, 3, 2]],\n",
    "   [[-1, 10], 1, Concat, [1]],  # cat head P5\n",
    "   [-1, 3, C3, [1024, False]],  # 23 (P5/32-large)\n",
    "\n",
    "   [[17, 20, 23], 1, Detect, [nc, anchors]],  # Detect(P3, P4, P5)\n",
    "  ]"
   ]
  },
  {
   "cell_type": "code",
   "execution_count": 23,
   "metadata": {},
   "outputs": [
    {
     "name": "stdout",
     "output_type": "stream",
     "text": [
      "\n",
      "# Parameters\n",
      "nc: 3  # number of classes\n",
      "depth_multiple: 0.33  # model depth multiple\n",
      "width_multiple: 0.50  # layer channel multiple\n",
      "anchors:\n",
      "  - [10,13, 16,30, 33,23]  # P3/8\n",
      "  - [30,61, 62,45, 59,119]  # P4/16\n",
      "  - [116,90, 156,198, 373,326]  # P5/32\n",
      "\n",
      "# YOLOv5 v6.0 backbone\n",
      "backbone:\n",
      "  # [from, number, module, args]\n",
      "  [[-1, 1, Conv, [64, 6, 2, 2]],  # 0-P1/2\n",
      "   [-1, 1, Conv, [128, 3, 2]],  # 1-P2/4\n",
      "   [-1, 3, C3, [128]],\n",
      "   [-1, 1, Conv, [256, 3, 2]],  # 3-P3/8\n",
      "   [-1, 6, C3, [256]],\n",
      "   [-1, 1, Conv, [512, 3, 2]],  # 5-P4/16\n",
      "   [-1, 9, C3, [512]],\n",
      "   [-1, 1, Conv, [1024, 3, 2]],  # 7-P5/32\n",
      "   [-1, 3, C3, [1024]],\n",
      "   [-1, 1, SPPF, [1024, 5]],  # 9\n",
      "  ]\n",
      "\n",
      "# YOLOv5 v6.0 head\n",
      "head:\n",
      "  [[-1, 1, Conv, [512, 1, 1]],\n",
      "   [-1, 1, nn.Upsample, [None, 2, 'nearest']],\n",
      "   [[-1, 6], 1, Concat, [1]],  # cat backbone P4\n",
      "   [-1, 3, C3, [512, False]],  # 13\n",
      "\n",
      "   [-1, 1, Conv, [256, 1, 1]],\n",
      "   [-1, 1, nn.Upsample, [None, 2, 'nearest']],\n",
      "   [[-1, 4], 1, Concat, [1]],  # cat backbone P3\n",
      "   [-1, 3, C3, [256, False]],  # 17 (P3/8-small)\n",
      "\n",
      "   [-1, 1, Conv, [256, 3, 2]],\n",
      "   [[-1, 14], 1, Concat, [1]],  # cat head P4\n",
      "   [-1, 3, C3, [512, False]],  # 20 (P4/16-medium)\n",
      "\n",
      "   [-1, 1, Conv, [512, 3, 2]],\n",
      "   [[-1, 10], 1, Concat, [1]],  # cat head P5\n",
      "   [-1, 3, C3, [1024, False]],  # 23 (P5/32-large)\n",
      "\n",
      "   [[17, 20, 23], 1, Detect, [nc, anchors]],  # Detect(P3, P4, P5)\n",
      "  ]\n"
     ]
    }
   ],
   "source": [
    "%cat yolov5/models/custom_yolov5s.yaml"
   ]
  },
  {
   "cell_type": "markdown",
   "metadata": {},
   "source": [
    "#### 학습(Training)\n",
    "- img: 입력 이미지 크기 정의\n",
    "- batch: 배치 크기 정의\n",
    "- epochs: 학습 횟수 정의\n",
    "- data: yaml 파일 경로\n",
    "- cfg: 모델 구성 지정\n",
    "- weights: 가중치에 대한 경로 지정\n",
    "- name: 결과 이름\n",
    "- nosave: 최종 체크포인트만 저장\n",
    "- cache: 빠른 학습을 위한 이미지 캐시"
   ]
  },
  {
   "cell_type": "code",
   "execution_count": 25,
   "metadata": {},
   "outputs": [
    {
     "name": "stdout",
     "output_type": "stream",
     "text": [
      "CPU times: user 3 µs, sys: 0 ns, total: 3 µs\n",
      "Wall time: 4.77 µs\n",
      "/Users/csh/programming_language/001_Python/02_computervision/recipes/object_detection/yolov5\n",
      "\u001b[34m\u001b[1mwandb\u001b[0m: (1) Create a W&B account\n",
      "\u001b[34m\u001b[1mwandb\u001b[0m: (2) Use an existing W&B account\n",
      "\u001b[34m\u001b[1mwandb\u001b[0m: (3) Don't visualize my results\n",
      "\u001b[34m\u001b[1mwandb\u001b[0m: Enter your choice: (30 second timeout) ^C\n",
      "Traceback (most recent call last):\n",
      "  File \"train.py\", line 53, in <module>\n",
      "    from utils.loggers import Loggers\n",
      "  File \"/Users/csh/programming_language/001_Python/02_computervision/recipes/object_detection/yolov5/utils/loggers/__init__.py\", line 28, in <module>\n",
      "    wandb_login_success = wandb.login(timeout=30)\n",
      "  File \"/Users/csh/opt/anaconda3/lib/python3.7/site-packages/wandb/sdk/wandb_login.py\", line 76, in login\n",
      "    configured = _login(**kwargs)\n",
      "  File \"/Users/csh/opt/anaconda3/lib/python3.7/site-packages/wandb/sdk/wandb_login.py\", line 297, in _login\n",
      "    wlogin.prompt_api_key()\n",
      "  File \"/Users/csh/opt/anaconda3/lib/python3.7/site-packages/wandb/sdk/wandb_login.py\", line 220, in prompt_api_key\n",
      "    key, status = self._prompt_api_key()\n",
      "  File \"/Users/csh/opt/anaconda3/lib/python3.7/site-packages/wandb/sdk/wandb_login.py\", line 204, in _prompt_api_key\n",
      "    no_create=self._settings.force if self._settings else None,\n",
      "  File \"/Users/csh/opt/anaconda3/lib/python3.7/site-packages/wandb/sdk/lib/apikey.py\", line 92, in prompt_api_key\n",
      "    choices, input_timeout=settings.login_timeout, jupyter=jupyter\n",
      "  File \"/Users/csh/opt/anaconda3/lib/python3.7/site-packages/wandb/util.py\", line 1157, in prompt_choices\n",
      "    choice = _prompt_choice(input_timeout=input_timeout, jupyter=jupyter)\n",
      "  File \"/Users/csh/opt/anaconda3/lib/python3.7/site-packages/wandb/util.py\", line 1142, in _prompt_choice\n",
      "    choice = input_fn(text, jupyter=jupyter)\n",
      "  File \"/Users/csh/opt/anaconda3/lib/python3.7/site-packages/wandb/sdk/lib/timed_input.py\", line 120, in timed_input\n",
      "    return _timed_input(prompt=prompt, timeout=timeout)\n",
      "  File \"/Users/csh/opt/anaconda3/lib/python3.7/site-packages/wandb/sdk/lib/timed_input.py\", line 26, in _posix_timed_input\n",
      "    events = sel.select(timeout=timeout)\n",
      "  File \"/Users/csh/opt/anaconda3/lib/python3.7/selectors.py\", line 558, in select\n",
      "    kev_list = self._selector.control(None, max_ev, timeout)\n",
      "KeyboardInterrupt\n"
     ]
    }
   ],
   "source": [
    "%time\n",
    "%cd yolov5\n",
    "\n",
    "!python train.py --img 416 --batch 128 --epochs 100 --data hardhat/data.yaml --cfg models/custom_yolov5.yaml --weights \"\" --name hardhat_results --cache"
   ]
  },
  {
   "cell_type": "code",
   "execution_count": null,
   "metadata": {},
   "outputs": [],
   "source": []
  }
 ],
 "metadata": {
  "interpreter": {
   "hash": "38cc0cca68228d4d18227abe74ed813685db17db46984279e4aabdddebf5f1ba"
  },
  "kernelspec": {
   "display_name": "Python 3.7.9 ('base')",
   "language": "python",
   "name": "python3"
  },
  "language_info": {
   "codemirror_mode": {
    "name": "ipython",
    "version": 3
   },
   "file_extension": ".py",
   "mimetype": "text/x-python",
   "name": "python",
   "nbconvert_exporter": "python",
   "pygments_lexer": "ipython3",
   "version": "3.7.9"
  },
  "orig_nbformat": 4
 },
 "nbformat": 4,
 "nbformat_minor": 2
}
