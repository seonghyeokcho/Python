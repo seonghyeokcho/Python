{
 "cells": [
  {
   "cell_type": "code",
   "execution_count": 2,
   "metadata": {},
   "outputs": [
    {
     "ename": "SyntaxError",
     "evalue": "invalid syntax (_mask.py, line 104)",
     "output_type": "error",
     "traceback": [
      "Traceback \u001b[0;36m(most recent call last)\u001b[0m:\n",
      "  File \u001b[1;32m\"/Users/csh/opt/anaconda3/lib/python3.7/site-packages/IPython/core/interactiveshell.py\"\u001b[0m, line \u001b[1;32m3457\u001b[0m, in \u001b[1;35mrun_code\u001b[0m\n    exec(code_obj, self.user_global_ns, self.user_ns)\n",
      "  File \u001b[1;32m\"/var/folders/0v/jgsvzrwn19qddwrlyh8yj77c0000gn/T/ipykernel_39276/3668611154.py\"\u001b[0m, line \u001b[1;32m1\u001b[0m, in \u001b[1;35m<module>\u001b[0m\n    from pycocotools.coco import COCO\n",
      "  File \u001b[1;32m\"/Users/csh/opt/anaconda3/lib/python3.7/site-packages/pycocotools/coco.py\"\u001b[0m, line \u001b[1;32m55\u001b[0m, in \u001b[1;35m<module>\u001b[0m\n    from . import mask as maskUtils\n",
      "\u001b[0;36m  File \u001b[0;32m\"/Users/csh/opt/anaconda3/lib/python3.7/site-packages/pycocotools/mask.py\"\u001b[0;36m, line \u001b[0;32m3\u001b[0;36m, in \u001b[0;35m<module>\u001b[0;36m\u001b[0m\n\u001b[0;31m    import pycocotools._mask as _mask\u001b[0m\n",
      "\u001b[0;36m  File \u001b[0;32m\"/Users/csh/opt/anaconda3/lib/python3.7/site-packages/pycocotools/_mask.py\"\u001b[0;36m, line \u001b[0;32m104\u001b[0m\n\u001b[0;31m    cdef siz n = Rs.n\u001b[0m\n\u001b[0m           ^\u001b[0m\n\u001b[0;31mSyntaxError\u001b[0m\u001b[0;31m:\u001b[0m invalid syntax\n"
     ]
    }
   ],
   "source": []
  },
  {
   "cell_type": "code",
   "execution_count": 6,
   "metadata": {},
   "outputs": [
    {
     "name": "stdout",
     "output_type": "stream",
     "text": [
      "/Users/csh/opt/anaconda3/lib/python3.7/random.py\n",
      "/Users/csh/opt/anaconda3/lib/python3.7/site-packages/matplotlib/pyplot.py\n"
     ]
    }
   ],
   "source": []
  },
  {
   "cell_type": "code",
   "execution_count": null,
   "metadata": {},
   "outputs": [],
   "source": []
  }
 ],
 "metadata": {
  "interpreter": {
   "hash": "38cc0cca68228d4d18227abe74ed813685db17db46984279e4aabdddebf5f1ba"
  },
  "kernelspec": {
   "display_name": "Python 3.7.9 ('base')",
   "language": "python",
   "name": "python3"
  },
  "language_info": {
   "codemirror_mode": {
    "name": "ipython",
    "version": 3
   },
   "file_extension": ".py",
   "mimetype": "text/x-python",
   "name": "python",
   "nbconvert_exporter": "python",
   "pygments_lexer": "ipython3",
   "version": "3.7.9"
  },
  "orig_nbformat": 4
 },
 "nbformat": 4,
 "nbformat_minor": 2
}
