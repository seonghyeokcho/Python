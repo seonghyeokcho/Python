{
 "cells": [
  {
   "cell_type": "code",
   "execution_count": 25,
   "metadata": {},
   "outputs": [],
   "source": [
    "# Mask R-CNN 영역 분할 예제\n",
    "import cv2\n",
    "import numpy as np\n",
    "import matplotlib.pyplot as plt\n",
    "\n",
    "\n",
    "def draw_box(image, class_id, confidence, left, top, right, bottom):\n",
    "    # Draw a bounding box.\n",
    "    image = cv2.rectangle(image, (left, top), (right, bottom), colors[class_id], 2)\n",
    "\n",
    "    label = f'{classes[class_id]}: {confidence:.2f}'\n",
    "\n",
    "    labelSize, baseLine = cv2.getTextSize(label, cv2.FONT_HERSHEY_SIMPLEX, 0.6, 1)\n",
    "    top = max(top, labelSize[1])\n",
    "    image = cv2.rectangle(image, (left - 1, top - labelSize[1] - baseLine),\n",
    "                  (left + labelSize[0], top), colors[class_id], -1)\n",
    "    image = cv2.putText(image, label, (left, top - baseLine), cv2.FONT_HERSHEY_SIMPLEX,\n",
    "                0.6, (0, 0, 0), 1, cv2.LINE_AA)\n",
    "    \n",
    "    return image\n",
    "\n",
    "\n",
    "# 모델 & 설정 파일\n",
    "model = \"pre-trained/mask_rcnn/frozen_inference_graph.pb\"\n",
    "config = \"pre-trained/mask_rcnn/mask_rcnn_inception_v2_coco_2018_01_28.pbtxt\"\n",
    "class_labels = \"pre-trained/mask_rcnn/coco_90.names\"\n",
    "confThreshold = 0.6\n",
    "maskThreshold = 0.3\n",
    "\n",
    "# 테스트 이미지 파일\n",
    "image_files = [\"dog.jpg\", \"person.jpg\", \"sheep.jpg\", \"kite.jpg\", \"traffic.jpg\"]\n",
    "images = []"
   ]
  },
  {
   "cell_type": "code",
   "execution_count": 26,
   "metadata": {},
   "outputs": [
    {
     "name": "stdout",
     "output_type": "stream",
     "text": [
      "['detection_out_final', 'detection_masks']\n"
     ]
    }
   ],
   "source": [
    "# 네트워크 생성\n",
    "network = cv2.dnn.readNet(model, config)\n",
    "\n",
    "if network.empty():\n",
    "    print(\"Network open failed!\")\n",
    "\n",
    "# 클래스 이름 불러오기\n",
    "classes = []\n",
    "with open(class_labels, \"rt\") as f:\n",
    "    classes = f.read().rstrip(\"\\n\").split(\"\\n\")\n",
    "\n",
    "# 각각의 클래스에 대한 랜덤한 색상\n",
    "colors = np.random.uniform(0, 255, (len(classes), 3))ㅇ\n",
    "\n",
    "# 출력 레이어 이름 받아오기\n",
    "# for name in layer_names:\n",
    "#     print(name)\n",
    "output_layers = list([\"detection_out_final\", network.getUnconnectedOutLayersNames()[0]])\n",
    "print(output_layers)"
   ]
  },
  {
   "cell_type": "code",
   "execution_count": 27,
   "metadata": {},
   "outputs": [
    {
     "name": "stdout",
     "output_type": "stream",
     "text": [
      "Image load failed!\n"
     ]
    },
    {
     "name": "stderr",
     "output_type": "stream",
     "text": [
      "[ WARN:0@40871.928] global /Users/runner/work/opencv-python/opencv-python/opencv/modules/imgcodecs/src/loadsave.cpp (239) findDecoder imread_('images/dog.jpg'): can't open/read file: check file path/integrity\n"
     ]
    },
    {
     "ename": "error",
     "evalue": "OpenCV(4.5.5) /Users/runner/work/opencv-python/opencv-python/opencv/modules/core/src/matrix_wrap.cpp:1286: error: (-215:Assertion failed) !(m.empty() && fixedType() && fixedSize()) && \"Can't reallocate empty Mat with locked layout (probably due to misused 'const' modifier)\" in function 'create'\n",
     "output_type": "error",
     "traceback": [
      "\u001b[0;31m---------------------------------------------------------------------------\u001b[0m",
      "\u001b[0;31merror\u001b[0m                                     Traceback (most recent call last)",
      "\u001b[0;32m/var/folders/0v/jgsvzrwn19qddwrlyh8yj77c0000gn/T/ipykernel_23111/3224457522.py\u001b[0m in \u001b[0;36m<module>\u001b[0;34m\u001b[0m\n\u001b[1;32m      7\u001b[0m \u001b[0;34m\u001b[0m\u001b[0m\n\u001b[1;32m      8\u001b[0m     \u001b[0;31m# 블롭 생성\u001b[0m\u001b[0;34m\u001b[0m\u001b[0;34m\u001b[0m\u001b[0;34m\u001b[0m\u001b[0m\n\u001b[0;32m----> 9\u001b[0;31m     \u001b[0mblob\u001b[0m \u001b[0;34m=\u001b[0m \u001b[0mcv2\u001b[0m\u001b[0;34m.\u001b[0m\u001b[0mdnn\u001b[0m\u001b[0;34m.\u001b[0m\u001b[0mblobFromImage\u001b[0m\u001b[0;34m(\u001b[0m\u001b[0mimage\u001b[0m\u001b[0;34m,\u001b[0m \u001b[0mswapRB\u001b[0m\u001b[0;34m=\u001b[0m\u001b[0;32mTrue\u001b[0m\u001b[0;34m)\u001b[0m\u001b[0;34m\u001b[0m\u001b[0;34m\u001b[0m\u001b[0m\n\u001b[0m\u001b[1;32m     10\u001b[0m     \u001b[0mnetwork\u001b[0m\u001b[0;34m.\u001b[0m\u001b[0msetInput\u001b[0m\u001b[0;34m(\u001b[0m\u001b[0mblob\u001b[0m\u001b[0;34m)\u001b[0m\u001b[0;34m\u001b[0m\u001b[0;34m\u001b[0m\u001b[0m\n\u001b[1;32m     11\u001b[0m     \u001b[0;31m# 추론\u001b[0m\u001b[0;34m\u001b[0m\u001b[0;34m\u001b[0m\u001b[0;34m\u001b[0m\u001b[0m\n",
      "\u001b[0;31merror\u001b[0m: OpenCV(4.5.5) /Users/runner/work/opencv-python/opencv-python/opencv/modules/core/src/matrix_wrap.cpp:1286: error: (-215:Assertion failed) !(m.empty() && fixedType() && fixedSize()) && \"Can't reallocate empty Mat with locked layout (probably due to misused 'const' modifier)\" in function 'create'\n"
     ]
    }
   ],
   "source": [
    "# 실행\n",
    "for file in image_files:\n",
    "    image = cv2.imread(f\"images/{file}\")\n",
    "    \n",
    "    if image is None:\n",
    "        print(\"Image load failed!\")\n",
    "    \n",
    "    # 블롭 생성\n",
    "    blob = cv2.dnn.blobFromImage(image, swapRB=True)\n",
    "    network.setInput(blob)\n",
    "    # 추론\n",
    "    boxes, masks = network.forward(output_layers)\n",
    "    # boxes: shape=(1, 1, 100, 7)\n",
    "    # masks: shape=(100, 90, 15, 15)\n",
    "    \n",
    "    \n",
    "    HEIGHT, WIDTH = image.shape[:2]\n",
    "    num_classes = masks.shape[1]  # 90: coco_90.names 클래스 개수\n",
    "    num_detections = boxes.shape[2]  # 100\n",
    "    \n",
    "    boxes_to_draw = []\n",
    "    for i in range(num_detections):\n",
    "        box = boxes[0, 0, i]  # shape=(7,)\n",
    "        mask = masks[i]  # shape=(90, 15, 15)\n",
    "        score = box[2]  # box: dummy, classId, \"conf\", x1, y1, x2, y2\n",
    "        if score > confThreshold:\n",
    "            class_id = int(box[1])\n",
    "            \n",
    "            x1 = int(box[3] * WIDTH)\n",
    "            y1 = int(box[4] * HEIGHT)\n",
    "            x2 = int(box[5] * WIDTH)\n",
    "            y2 = int(box[6] * HEIGHT)\n",
    "            \n",
    "            # x1 = max(0, min(x1, WIDTH - 1))\n",
    "            # y1 = max(0, min(y1, HEIGHT - 1))\n",
    "            # x2 = max(0, min(x2, WIDTH - 1))\n",
    "            # y2 = max(0, min(y2, HEIGHT - 1))\n",
    "            \n",
    "            boxes_to_draw.append([image, class_id, score, x1, y1, x2, y2])\n",
    "            class_mask = mask[class_id]\n",
    "            \n",
    "            # 객체별 15x15 마스크를 바운딩 박스 크기로 resize한 후, 불투명 컬러로 표시\n",
    "            class_mask = cv2.resize(class_mask, (x2 - x1 + 1, y2 - y1 + 1))\n",
    "            mask = (class_mask > maskThreshold)\n",
    "            \n",
    "            ROI = image[y1:y2+1, x1:x2+1][mask]\n",
    "            image[y1:y2+1, x1:x2+1][mask] = (colors[class_id] * 0.7 + ROI * 0.3).astype(np.uint8)\n",
    "    \n",
    "    # 객체별 바운딩 박스 그리기 & 클래스 이름 표시\n",
    "    for box in boxes_to_draw:\n",
    "        image = draw_box(*box)\n",
    "    \n",
    "    # 추론 시간 표시\n",
    "    t, _ = network.getPerfProfile()\n",
    "    label = f\"Inference time: {t*1000. / cv2.getTickFrequency():.2f} ms\"\n",
    "    image = cv2.putText(image, label, (10, 30), cv2.FONT_HERSHEY_SIMPLEX, 0.7, (0, 0, 255), 1, cv2.LINE_AA)\n",
    "    images.append(image)\n",
    "    \n",
    "    # cv2.imshow(\"image\", image)\n",
    "    # cv2.waitKey()\n",
    "\n",
    "# cv2.destroyAllWindows()\n",
    "# cv2.waitKey(1)"
   ]
  },
  {
   "cell_type": "code",
   "execution_count": null,
   "metadata": {},
   "outputs": [],
   "source": [
    "# pyplot 으로 출력\n",
    "plt.figure(figsize=(16, 50), facecolor=\"lightgray\")\n",
    "\n",
    "plt.subplot(511).axis(\"off\")\n",
    "plt.imshow(images[0][..., ::-1])\n",
    "\n",
    "plt.subplot(512).axis(\"off\")\n",
    "plt.imshow(images[1][..., ::-1])\n",
    "\n",
    "plt.subplot(513).axis(\"off\")\n",
    "plt.imshow(images[2][..., ::-1])\n",
    "\n",
    "plt.subplot(514).axis(\"off\")\n",
    "plt.imshow(images[3][..., ::-1])\n",
    "\n",
    "plt.subplot(515).axis(\"off\")\n",
    "plt.imshow(images[4][..., ::-1])\n",
    "\n",
    "plt.show()"
   ]
  }
 ],
 "metadata": {
  "interpreter": {
   "hash": "38cc0cca68228d4d18227abe74ed813685db17db46984279e4aabdddebf5f1ba"
  },
  "kernelspec": {
   "display_name": "Python 3.7.9 ('base')",
   "language": "python",
   "name": "python3"
  },
  "language_info": {
   "codemirror_mode": {
    "name": "ipython",
    "version": 3
   },
   "file_extension": ".py",
   "mimetype": "text/x-python",
   "name": "python",
   "nbconvert_exporter": "python",
   "pygments_lexer": "ipython3",
   "version": "3.7.9"
  },
  "orig_nbformat": 4
 },
 "nbformat": 4,
 "nbformat_minor": 2
}
