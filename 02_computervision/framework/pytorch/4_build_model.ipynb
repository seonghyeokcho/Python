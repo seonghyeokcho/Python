{
 "cells": [
  {
   "cell_type": "markdown",
   "metadata": {},
   "source": [
    "### Build the Neural Network\n",
    "- 신경망은 데이터에 대한 연산을 수행하는 layers(계층)/modules(모듈) 로 구성되어 있다.<br>\n",
    "`torch.nn` namespace 는 신경망을 구성하는데 필요한 모든 구성 요소를 제공한다.<br>\n",
    "PyTorch 의 모든 modules 는 `nn.Module` 의 subclass(하위 클래스) 이다.<br>\n",
    "신경망은 다른 modules(layers) 로 구성된 module 이다. 이러한 nested structure(중첩된 구조) 는<br>\n",
    "복잡한 architecture 를 쉽게 구축하고 관리할 수 있다."
   ]
  },
  {
   "cell_type": "code",
   "execution_count": 18,
   "metadata": {},
   "outputs": [],
   "source": [
    "import os\n",
    "\n",
    "import torch\n",
    "from torch import nn\n",
    "from torch.utils.data import DataLoader\n",
    "from torchvision import datasets, transforms"
   ]
  },
  {
   "cell_type": "code",
   "execution_count": 19,
   "metadata": {},
   "outputs": [
    {
     "name": "stdout",
     "output_type": "stream",
     "text": [
      "Using cpu device\n"
     ]
    }
   ],
   "source": [
    "# 학습을 위한 장치 얻기\n",
    "device = \"cuda\" if torch.cuda.is_available() else \"cpu\"\n",
    "print(f\"Using {device} device\")"
   ]
  },
  {
   "cell_type": "markdown",
   "metadata": {},
   "source": [
    "#### 클래스 정의하기\n",
    "- 신경망 모델을 `nn.Module` 의 subclass 로 정의하고, `__init__` 에서 신경망 계층들을 초기화한다.<br>\n",
    "`nn.Module` 을 상속받은 모든 클래스는 `forward` 메소드에 입력 데이터에 대한 연산들을 구현한다."
   ]
  },
  {
   "cell_type": "code",
   "execution_count": 20,
   "metadata": {},
   "outputs": [
    {
     "name": "stdout",
     "output_type": "stream",
     "text": [
      "NeuralNetwork(\n",
      "  (flatten): Flatten(start_dim=1, end_dim=-1)\n",
      "  (linear_relu_stack): Sequential(\n",
      "    (0): Linear(in_features=784, out_features=512, bias=True)\n",
      "    (1): ReLU()\n",
      "    (2): Linear(in_features=512, out_features=512, bias=True)\n",
      "    (3): ReLU()\n",
      "    (4): Linear(in_features=512, out_features=10, bias=True)\n",
      "  )\n",
      ")\n"
     ]
    }
   ],
   "source": [
    "class NeuralNetwork(nn.Module):\n",
    "    def __init__(self):\n",
    "        super(NeuralNetwork, self).__init__()\n",
    "        self.flatten = nn.Flatten()\n",
    "        self.linear_relu_stack = nn.Sequential(\n",
    "            nn.Linear(28*28, 512),\n",
    "            nn.ReLU(),\n",
    "            nn.Linear(512, 512),\n",
    "            nn.ReLU(),\n",
    "            nn.Linear(512, 10)\n",
    "        )\n",
    "    \n",
    "    def forward(self, x):\n",
    "        x = self.flatten(x)\n",
    "        logits = self.linear_relu_stack(x)\n",
    "        return logits\n",
    "\n",
    "model = NeuralNetwork().to(device)\n",
    "print(model)"
   ]
  },
  {
   "cell_type": "code",
   "execution_count": 24,
   "metadata": {},
   "outputs": [
    {
     "name": "stdout",
     "output_type": "stream",
     "text": [
      "Predicted class: tensor([1])\n"
     ]
    }
   ],
   "source": [
    "X = torch.rand(1, 28, 28)\n",
    "logits = model(X)\n",
    "pred_probab = nn.Softmax(1)(logits)\n",
    "y_pred = pred_probab.argmax(1)\n",
    "print(f\"Predicted class: {y_pred}\")"
   ]
  },
  {
   "cell_type": "markdown",
   "metadata": {},
   "source": [
    "#### 모델 계층(Layer)\n",
    "- FashionMNIST 모델의 계층들을 각각 살펴보기위해 28 x 28 크기의 이미지 3개로 구성된 minibatch 를 가져와,<br>\n",
    "신경망을 통과할 때 어떤 일이 발생하는지 알아보기"
   ]
  },
  {
   "cell_type": "code",
   "execution_count": 26,
   "metadata": {},
   "outputs": [
    {
     "name": "stdout",
     "output_type": "stream",
     "text": [
      "torch.Size([3, 28, 28])\n"
     ]
    }
   ],
   "source": [
    "input_image = torch.rand(3, 28, 28)\n",
    "print(input_image.size())"
   ]
  },
  {
   "cell_type": "code",
   "execution_count": 27,
   "metadata": {},
   "outputs": [
    {
     "name": "stdout",
     "output_type": "stream",
     "text": [
      "torch.Size([3, 784])\n"
     ]
    }
   ],
   "source": [
    "# nn.Flatten: 28 x 28 의 2D 영상을 784 픽셀 값을 갖는 1D 배열로 반환한다.\n",
    "# 이 때 dim=0 의 minibatch 차원은 유지된다.\n",
    "flatten = nn.Flatten()\n",
    "flat_image = flatten(input_image)\n",
    "print(flat_image.size())"
   ]
  },
  {
   "cell_type": "code",
   "execution_count": 30,
   "metadata": {},
   "outputs": [
    {
     "name": "stdout",
     "output_type": "stream",
     "text": [
      "torch.Size([3, 20])\n"
     ]
    }
   ],
   "source": [
    "# nn.Linear\n",
    "# linear 계층은 저장된 가중치(weight)와 편향(bias)을 사용하여 입력에 선형 변환(linear transformation)을\n",
    "# 적용하는 모듈이다.\n",
    "layer1 = nn.Linear(28*28, 20)\n",
    "hidden1 = layer1(flat_image)\n",
    "print(hidden1.size())"
   ]
  },
  {
   "cell_type": "code",
   "execution_count": 31,
   "metadata": {},
   "outputs": [
    {
     "name": "stdout",
     "output_type": "stream",
     "text": [
      "Before ReLU: tensor([[ 0.5355, -0.4473,  0.3768,  0.4140,  0.3452, -0.2701, -0.2226, -0.1164,\n",
      "          0.6100, -0.0298,  0.0867,  0.2006, -0.1352, -0.2160, -0.5956,  0.1883,\n",
      "          0.3782, -0.2448, -0.1244, -0.2186],\n",
      "        [ 0.3681, -0.2529,  0.2594,  0.2858,  0.0838, -0.2304, -0.3866, -0.0099,\n",
      "          0.3116,  0.2426, -0.0185, -0.0186,  0.1046, -0.2370, -0.5441,  0.4314,\n",
      "          0.4622,  0.2673, -0.4008, -0.3181],\n",
      "        [ 0.4651, -0.3663,  0.0704,  0.6769,  0.2379,  0.0259, -0.3038,  0.0255,\n",
      "          0.5264,  0.1843, -0.0126, -0.0781,  0.1702,  0.0289, -0.8257,  0.1674,\n",
      "          0.1141, -0.2245, -0.1461, -0.4462]], grad_fn=<AddmmBackward0>)\n",
      "\n",
      "\n",
      "After ReLU: tensor([[0.5355, 0.0000, 0.3768, 0.4140, 0.3452, 0.0000, 0.0000, 0.0000, 0.6100,\n",
      "         0.0000, 0.0867, 0.2006, 0.0000, 0.0000, 0.0000, 0.1883, 0.3782, 0.0000,\n",
      "         0.0000, 0.0000],\n",
      "        [0.3681, 0.0000, 0.2594, 0.2858, 0.0838, 0.0000, 0.0000, 0.0000, 0.3116,\n",
      "         0.2426, 0.0000, 0.0000, 0.1046, 0.0000, 0.0000, 0.4314, 0.4622, 0.2673,\n",
      "         0.0000, 0.0000],\n",
      "        [0.4651, 0.0000, 0.0704, 0.6769, 0.2379, 0.0259, 0.0000, 0.0255, 0.5264,\n",
      "         0.1843, 0.0000, 0.0000, 0.1702, 0.0289, 0.0000, 0.1674, 0.1141, 0.0000,\n",
      "         0.0000, 0.0000]], grad_fn=<ReluBackward0>)\n"
     ]
    }
   ],
   "source": [
    "# nn.ReLU\n",
    "# \n",
    "print(f\"Before ReLU: {hidden1}\\n\\n\")\n",
    "hidden1 = nn.ReLU()(hidden1)\n",
    "print(f\"After ReLU: {hidden1}\")"
   ]
  },
  {
   "cell_type": "code",
   "execution_count": 33,
   "metadata": {},
   "outputs": [
    {
     "name": "stdout",
     "output_type": "stream",
     "text": [
      "tensor([[ 0.2362,  0.1134,  0.0634,  0.2016,  0.2382,  0.2145,  0.0105, -0.5061,\n",
      "          0.1440,  0.1566],\n",
      "        [ 0.1635,  0.1120,  0.0651,  0.2072,  0.0589,  0.0845,  0.0042, -0.3615,\n",
      "          0.0991,  0.0791],\n",
      "        [ 0.2728,  0.1067,  0.0020,  0.1893,  0.2406,  0.1815,  0.0375, -0.4241,\n",
      "          0.2675,  0.1433]], grad_fn=<AddmmBackward0>)\n"
     ]
    }
   ],
   "source": [
    "# nn.Sequential\n",
    "# nn.Sequential 은 순서를 갖는 모듈의 container 이다.\n",
    "# 데이터는 정의된 것과 같은 순서로 모든 모듈들을 통해 전달된다.\n",
    "# sequential container 를 사용하여 아래와 같이 신경망을 빠르게 만들 수 있다.\n",
    "seq_modules = nn.Sequential(\n",
    "    flatten,\n",
    "    layer1,\n",
    "    nn.ReLU(),\n",
    "    nn.Linear(20, 10)\n",
    ")\n",
    "input_image = torch.rand(3, 28, 28)\n",
    "logits = seq_modules(input_image)\n",
    "print(logits)"
   ]
  },
  {
   "cell_type": "code",
   "execution_count": 34,
   "metadata": {},
   "outputs": [
    {
     "name": "stdout",
     "output_type": "stream",
     "text": [
      "tensor([[0.1139, 0.1007, 0.0958, 0.1100, 0.1141, 0.1114, 0.0909, 0.0542, 0.1038,\n",
      "         0.1052],\n",
      "        [0.1108, 0.1052, 0.1004, 0.1157, 0.0998, 0.1024, 0.0945, 0.0655, 0.1039,\n",
      "         0.1018],\n",
      "        [0.1167, 0.0988, 0.0890, 0.1073, 0.1130, 0.1065, 0.0922, 0.0581, 0.1160,\n",
      "         0.1025]], grad_fn=<SoftmaxBackward0>)\n"
     ]
    }
   ],
   "source": [
    "# nn.Softmax\n",
    "# 신경망의 마지막 선형 계층은 nn.Softmax 모듈에 전달될 [-inf, inf] 범위의 raw value 인 logits 를 반환한다.\n",
    "# logits 는 모델의 각 분류(class)에 대한 예측 확률을 나타내도록 [0, 1] 범위로 비례하여 조정(scale)된다.\n",
    "# dim 매개변수(parameter)는 값의 합이 1이 되는 차원을 나타낸다.\n",
    "softmax = nn.Softmax(dim=1)\n",
    "pred_probab = softmax(logits)\n",
    "print(pred_probab)"
   ]
  },
  {
   "cell_type": "code",
   "execution_count": 36,
   "metadata": {},
   "outputs": [
    {
     "name": "stdout",
     "output_type": "stream",
     "text": [
      "Model structure: NeuralNetwork(\n",
      "  (flatten): Flatten(start_dim=1, end_dim=-1)\n",
      "  (linear_relu_stack): Sequential(\n",
      "    (0): Linear(in_features=784, out_features=512, bias=True)\n",
      "    (1): ReLU()\n",
      "    (2): Linear(in_features=512, out_features=512, bias=True)\n",
      "    (3): ReLU()\n",
      "    (4): Linear(in_features=512, out_features=10, bias=True)\n",
      "  )\n",
      ")\n",
      "\n",
      "\n",
      "Layer: linear_relu_stack.0.weight | Size: torch.Size([512, 784]) | Values: tensor([[-0.0056,  0.0233,  0.0035,  ..., -0.0132,  0.0337,  0.0278],\n",
      "        [-0.0215,  0.0298,  0.0311,  ...,  0.0329,  0.0125, -0.0091]],\n",
      "       grad_fn=<SliceBackward0>) \n",
      "\n",
      "Layer: linear_relu_stack.0.bias | Size: torch.Size([512]) | Values: tensor([-0.0208, -0.0329], grad_fn=<SliceBackward0>) \n",
      "\n",
      "Layer: linear_relu_stack.2.weight | Size: torch.Size([512, 512]) | Values: tensor([[ 0.0163,  0.0277,  0.0209,  ...,  0.0352,  0.0106,  0.0259],\n",
      "        [-0.0373,  0.0349,  0.0427,  ..., -0.0007, -0.0150, -0.0022]],\n",
      "       grad_fn=<SliceBackward0>) \n",
      "\n",
      "Layer: linear_relu_stack.2.bias | Size: torch.Size([512]) | Values: tensor([-0.0298, -0.0082], grad_fn=<SliceBackward0>) \n",
      "\n",
      "Layer: linear_relu_stack.4.weight | Size: torch.Size([10, 512]) | Values: tensor([[-0.0306, -0.0257, -0.0295,  ...,  0.0273,  0.0345, -0.0120],\n",
      "        [ 0.0036,  0.0146, -0.0041,  ...,  0.0245,  0.0337,  0.0020]],\n",
      "       grad_fn=<SliceBackward0>) \n",
      "\n",
      "Layer: linear_relu_stack.4.bias | Size: torch.Size([10]) | Values: tensor([0.0019, 0.0177], grad_fn=<SliceBackward0>) \n",
      "\n"
     ]
    }
   ],
   "source": [
    "# 모델 매개변수\n",
    "# 신경망 내부의 많은 계층들은 매개변수화(parameterize) 된다.\n",
    "# 즉, 학습 중에 최적화되는 가중치와 편향과 연관지어진다.\n",
    "# nn.Module 을 상속하면 모델 객체 내부의 모든 필드들이 자동으로 추적(track)되며,\n",
    "# 모델의 parameters() 및 named_parameters() 메소드로 모든 매개변수에 접근할 수 있게 된다.\n",
    "print(f\"Model structure: {model}\\n\\n\")\n",
    "\n",
    "for name, param in model.named_parameters():\n",
    "    print(f\"Layer: {name} | Size: {param.size()} | Values: {param[:2]} \\n\")"
   ]
  },
  {
   "cell_type": "code",
   "execution_count": null,
   "metadata": {},
   "outputs": [],
   "source": []
  }
 ],
 "metadata": {
  "kernelspec": {
   "display_name": "Python 3.8.13 ('base')",
   "language": "python",
   "name": "python3"
  },
  "language_info": {
   "codemirror_mode": {
    "name": "ipython",
    "version": 3
   },
   "file_extension": ".py",
   "mimetype": "text/x-python",
   "name": "python",
   "nbconvert_exporter": "python",
   "pygments_lexer": "ipython3",
   "version": "3.8.13"
  },
  "orig_nbformat": 4,
  "vscode": {
   "interpreter": {
    "hash": "38cc0cca68228d4d18227abe74ed813685db17db46984279e4aabdddebf5f1ba"
   }
  }
 },
 "nbformat": 4,
 "nbformat_minor": 2
}
