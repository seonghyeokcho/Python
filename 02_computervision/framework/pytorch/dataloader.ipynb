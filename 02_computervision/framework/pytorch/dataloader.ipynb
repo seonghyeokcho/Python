{
 "cells": [
  {
   "cell_type": "markdown",
   "metadata": {},
   "source": [
    "### Dataset 과 DataLoder\n",
    "\n",
    "- 데이터 샘플을 처리하는 코드는 지저분하고 유지보수가 어려울 수 있다.<br>\n",
    "더 나은 가독성(readability)과 모듈성(modularity)을 위해 데이터셋 코드를<br>\n",
    "모델 학습 코드로부터 분리하는 것이 이상적이다.<br>\n",
    "PyTorch는 `torch.utils.data.Dataset`과 `torch.utils.data.DataLoader`의<br>\n",
    "두 가지 데이터 기본 요소를 제공하여 미리 준비해둔(pre-loaded) 데이터셋 뿐만 아니라<br>\n",
    "가지고 있는 데이터를 사용할 수 있도록 한다.\n",
    "    - Dataset: 샘플과 정답(label)을 저장한다.\n",
    "    - DataLoader: Dataset을 샘플에 쉽게 접근할 수 있도록 순회(반복) 가능한 객체<br>\n",
    "    (iterable)로 감싼다."
   ]
  },
  {
   "cell_type": "code",
   "execution_count": 13,
   "metadata": {},
   "outputs": [],
   "source": [
    "import torch\n",
    "from torchvision import datasets\n",
    "from torchvision.transforms import ToTensor\n",
    "\n",
    "import matplotlib.pyplot as plt"
   ]
  },
  {
   "cell_type": "code",
   "execution_count": 3,
   "metadata": {},
   "outputs": [
    {
     "name": "stdout",
     "output_type": "stream",
     "text": [
      "Downloading http://fashion-mnist.s3-website.eu-central-1.amazonaws.com/train-images-idx3-ubyte.gz\n",
      "Downloading http://fashion-mnist.s3-website.eu-central-1.amazonaws.com/train-images-idx3-ubyte.gz to ./data/FashionMNIST/raw/train-images-idx3-ubyte.gz\n"
     ]
    },
    {
     "data": {
      "application/vnd.jupyter.widget-view+json": {
       "model_id": "57d020fc1a444704ab894ba01562ebd8",
       "version_major": 2,
       "version_minor": 0
      },
      "text/plain": [
       "  0%|          | 0/26421880 [00:00<?, ?it/s]"
      ]
     },
     "metadata": {},
     "output_type": "display_data"
    },
    {
     "name": "stdout",
     "output_type": "stream",
     "text": [
      "Extracting ./data/FashionMNIST/raw/train-images-idx3-ubyte.gz to ./data/FashionMNIST/raw\n",
      "\n",
      "Downloading http://fashion-mnist.s3-website.eu-central-1.amazonaws.com/train-labels-idx1-ubyte.gz\n",
      "Downloading http://fashion-mnist.s3-website.eu-central-1.amazonaws.com/train-labels-idx1-ubyte.gz to ./data/FashionMNIST/raw/train-labels-idx1-ubyte.gz\n"
     ]
    },
    {
     "data": {
      "application/vnd.jupyter.widget-view+json": {
       "model_id": "b9675999cd1d4451aa1672826de794ad",
       "version_major": 2,
       "version_minor": 0
      },
      "text/plain": [
       "  0%|          | 0/29515 [00:00<?, ?it/s]"
      ]
     },
     "metadata": {},
     "output_type": "display_data"
    },
    {
     "name": "stdout",
     "output_type": "stream",
     "text": [
      "Extracting ./data/FashionMNIST/raw/train-labels-idx1-ubyte.gz to ./data/FashionMNIST/raw\n",
      "\n",
      "Downloading http://fashion-mnist.s3-website.eu-central-1.amazonaws.com/t10k-images-idx3-ubyte.gz\n",
      "Downloading http://fashion-mnist.s3-website.eu-central-1.amazonaws.com/t10k-images-idx3-ubyte.gz to ./data/FashionMNIST/raw/t10k-images-idx3-ubyte.gz\n"
     ]
    },
    {
     "data": {
      "application/vnd.jupyter.widget-view+json": {
       "model_id": "e4167045e4244f748b5961aaeadcd6bf",
       "version_major": 2,
       "version_minor": 0
      },
      "text/plain": [
       "  0%|          | 0/4422102 [00:00<?, ?it/s]"
      ]
     },
     "metadata": {},
     "output_type": "display_data"
    },
    {
     "name": "stdout",
     "output_type": "stream",
     "text": [
      "Extracting ./data/FashionMNIST/raw/t10k-images-idx3-ubyte.gz to ./data/FashionMNIST/raw\n",
      "\n",
      "Downloading http://fashion-mnist.s3-website.eu-central-1.amazonaws.com/t10k-labels-idx1-ubyte.gz\n",
      "Downloading http://fashion-mnist.s3-website.eu-central-1.amazonaws.com/t10k-labels-idx1-ubyte.gz to ./data/FashionMNIST/raw/t10k-labels-idx1-ubyte.gz\n"
     ]
    },
    {
     "data": {
      "application/vnd.jupyter.widget-view+json": {
       "model_id": "fc0785f2492b4c4aac8323d603b4d7a2",
       "version_major": 2,
       "version_minor": 0
      },
      "text/plain": [
       "  0%|          | 0/5148 [00:00<?, ?it/s]"
      ]
     },
     "metadata": {},
     "output_type": "display_data"
    },
    {
     "name": "stdout",
     "output_type": "stream",
     "text": [
      "Extracting ./data/FashionMNIST/raw/t10k-labels-idx1-ubyte.gz to ./data/FashionMNIST/raw\n",
      "\n"
     ]
    }
   ],
   "source": [
    "training_data = datasets.FashionMNIST(\n",
    "    root=\"./data\",  # 학습/테스트 데이터가 저장되는 경로\n",
    "    train=True,  # 학습용 또는 테스트용 데이터셋 여부를 지정, 기본값 = True\n",
    "    download=True,  # root에 데이터가 없는 경우 인터넷에서 다운로드, 기본값 = False\n",
    "    transform=ToTensor()  # 또다른 매개변수인 target_transform와 함께 각각 특징(feature)과 정답(label)의 변형을 지정\n",
    ")\n",
    "\n",
    "test_data = datasets.FashionMNIST(\n",
    "    root=\"./data\",\n",
    "    train=False,\n",
    "    download=True,\n",
    "    transform=ToTensor()\n",
    ")"
   ]
  },
  {
   "cell_type": "markdown",
   "metadata": {},
   "source": [
    "#### 데이터 순회 & 시각화"
   ]
  },
  {
   "cell_type": "code",
   "execution_count": 11,
   "metadata": {},
   "outputs": [
    {
     "data": {
      "image/png": "[encoded data removed]",
      "text/plain": [
       "<Figure size 576x576 with 9 Axes>"
      ]
     },
     "metadata": {
      "needs_background": "light"
     },
     "output_type": "display_data"
    }
   ],
   "source": [
    "labels_map = {\n",
    "    0: \"T-Shirt\",\n",
    "    1: \"Trouser\",\n",
    "    2: \"Pullover\",\n",
    "    3: \"Dress\",\n",
    "    4: \"Coat\",\n",
    "    5: \"Sandal\",\n",
    "    6: \"Shirt\",\n",
    "    7: \"Sneaker\",\n",
    "    8: \"Bag\",\n",
    "    9: \"Ankle Boot\",\n",
    "}\n",
    "figure = plt.figure(figsize=(8, 8))\n",
    "cols = rows = 3\n",
    "for i in range(1, cols * rows + 1):\n",
    "    # item() 메서드를 사용하여 python 숫자 값으로 변환\n",
    "    sample_index = torch.randint(len(training_data), size=(1,)).item()\n",
    "    image, label = training_data[sample_index]\n",
    "    figure.add_subplot(rows, cols, i, title=labels_map[label]).axis(\"off\")\n",
    "    plt.imshow(image.squeeze(), cmap=\"gray\")\n",
    "plt.show()\n",
    "    \n",
    "    "
   ]
  },
  {
   "cell_type": "markdown",
   "metadata": {},
   "source": [
    "#### 사용자 정의 데이터셋 만들기\n",
    "- 사용자 정의 Dataset 클래스는 반드시 3개 함수를 구현해야 한다.\n",
    "    1. \\__init__\n",
    "    2. \\__len__\n",
    "    3. \\__getitem__"
   ]
  },
  {
   "cell_type": "code",
   "execution_count": 16,
   "metadata": {},
   "outputs": [],
   "source": [
    "import os\n",
    "\n",
    "from torch.utils.data import Dataset\n",
    "from torchvision.io import read_image\n",
    "\n",
    "import pandas as pd\n",
    "\n",
    "\n",
    "class CustomImageDataset(Dataset):\n",
    "    \n",
    "    def __init__(self, annotations_file, image_dir, transform=None, target_transform=None):\n",
    "        '''\n",
    "        __init__ 함수는 Dataset 객체(인스턴스)가 생성될 때 한 번만 실행된다.\\n\n",
    "        여기서는 이미지와 주석 파일(annotation_file)이 포함된 경로(dir)와 두가지 변형(transform)을 초기화한다.\n",
    "        \n",
    "        labels.csv 파일 예시는 다음과 같다.\n",
    "        \n",
    "            tshirt1.jpg, 0\\n\n",
    "            tshirt2.jpg, 0\\n\n",
    "            ......\\n\n",
    "            ankleboot999.jpg, 9\n",
    "        '''\n",
    "        self.image_labels = pd.read_csv(annotations_file, names=[\"file_name\", \"label\"])\n",
    "        self.image_dir = image_dir\n",
    "        self.transform = transform\n",
    "        self.target_transform = target_transform\n",
    "    \n",
    "    def __len__(self):\n",
    "        '''\n",
    "        __len__ 함수는 데이터셋의 샘플 개수를 반환한다.\n",
    "        '''\n",
    "        return len(self.image_labels)\n",
    "    \n",
    "    def __getitem__(self, index):\n",
    "        '''\n",
    "        __getitem__ 함수는 주어진 인덱스에 해당하는 샘플을 데이터셋에서 불러오고 반환한다.\\n\n",
    "        인덱스를 기반으로, 디스크에서 이미지의 위치를 식별하고, `read_image`를 사용하여 이미지를 텐서로 변환하고,\\n\n",
    "        `self.image_labels`의 csv 데이터로부터 해당하는 정답(label)을 가져오고,\\n\n",
    "        (해당하는 경우에) 변형 함수들을 호출한 뒤, 텐서 이미지와 라벨을 Python 사전형으로 반환한다.\n",
    "        '''\n",
    "        image_path = os.path.join(self.image_dir, self.image_labels.iloc[index, 0])\n",
    "        image = read_image(image_path)\n",
    "        label = self.image_labels.iloc[index, 1]\n",
    "        if self.transform:\n",
    "            image = self.transform(image)\n",
    "        if self.target_transform:\n",
    "            label = self.target_transform(label)\n",
    "        sample = {\"image\":image, \"label\":label}\n",
    "        return sample\n",
    "        "
   ]
  },
  {
   "cell_type": "markdown",
   "metadata": {},
   "source": [
    "#### DataLoader로 학습용 데이터 준비하기\n",
    "- `Dataset`은 데이터셋의 특징(feature)을 가져오고 하나의 샘플에 정답(label)을 지정하는 일을 한 번에 한다.<br>\n",
    "모델을 학습할 때, 일반적으로 샘플들을 \"미니배치(minibatch)\"로 전달하고,<br>\n",
    "매 에폭(epoch)마다 데이터를 다시 섞어서 과적합(overfit)을 막고,<br>\n",
    "Python의 `multiprocessing`을 사용하여 데이터 검색 속도를 높이려고 한다.<br>\n",
    "`DataLoader`는 간단한 API로 이러한 복잡한 과정들을 추상화한 순회 가능한 객체(iterable)이다."
   ]
  },
  {
   "cell_type": "code",
   "execution_count": 17,
   "metadata": {},
   "outputs": [],
   "source": [
    "from torch.utils.data import DataLoader\n",
    "\n",
    "\n",
    "train_dataloader = DataLoader(training_data, batch_size=64, shuffle=True)\n",
    "test_dataloader = DataLoader(test_data, batch_size=64, shuffle=True)"
   ]
  },
  {
   "cell_type": "markdown",
   "metadata": {},
   "source": [
    "#### DataLoader를 통해 순회하기(iterate)\n",
    "- `DataLoader`에 데이터셋을 불러온 뒤에는 필요에 따라 데이터셋을 순회(iterate)할 수 있다.<br>\n",
    "아래의 각 순회는 (각각 `batch_size=64`의 특징과 정답을 포함하는) `train_features`와 `train_labels`의<br>\n",
    "묶음(batch)를 반환한다. `shuffle=True`로 지정했으므로, 모든 배치를 순회한 뒤 데이터가 섞인다."
   ]
  },
  {
   "cell_type": "code",
   "execution_count": 18,
   "metadata": {},
   "outputs": [
    {
     "name": "stdout",
     "output_type": "stream",
     "text": [
      "Feature batch shape: torch.Size([64, 1, 28, 28])\n",
      "Labels batch shape: torch.Size([64])\n"
     ]
    },
    {
     "data": {
      "image/png": "[encoded data removed]",
      "text/plain": [
       "<Figure size 432x288 with 1 Axes>"
      ]
     },
     "metadata": {
      "needs_background": "light"
     },
     "output_type": "display_data"
    },
    {
     "name": "stdout",
     "output_type": "stream",
     "text": [
      "Label: 9\n"
     ]
    }
   ],
   "source": [
    "# 영상과 정답을 표시\n",
    "train_features, train_labels = next(iter(train_dataloader))\n",
    "print(f\"Feature batch shape: {train_features.size()}\")\n",
    "print(f\"Labels batch shape: {train_labels.size()}\")\n",
    "\n",
    "image = train_features[0].squeeze()\n",
    "label = train_labels[0]\n",
    "plt.imshow(image, cmap=\"gray\")\n",
    "plt.show()\n",
    "print(f\"Label: {label}\")"
   ]
  },
  {
   "cell_type": "code",
   "execution_count": null,
   "metadata": {},
   "outputs": [],
   "source": []
  }
 ],
 "metadata": {
  "kernelspec": {
   "display_name": "Python 3.8.13 ('base')",
   "language": "python",
   "name": "python3"
  },
  "language_info": {
   "codemirror_mode": {
    "name": "ipython",
    "version": 3
   },
   "file_extension": ".py",
   "mimetype": "text/x-python",
   "name": "python",
   "nbconvert_exporter": "python",
   "pygments_lexer": "ipython3",
   "version": "3.8.13"
  },
  "orig_nbformat": 4,
  "vscode": {
   "interpreter": {
    "hash": "38cc0cca68228d4d18227abe74ed813685db17db46984279e4aabdddebf5f1ba"
   }
  }
 },
 "nbformat": 4,
 "nbformat_minor": 2
}
