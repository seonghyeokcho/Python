{
 "cells": [
  {
   "cell_type": "markdown",
   "metadata": {},
   "source": [
    "### Dataset 과 DataLoder\n",
    "\n",
    "- 데이터 샘플을 처리하는 코드는 지저분하고 유지보수가 어려울 수 있다.<br>\n",
    "더 나은 가독성(readability)과 모듈성(modularity)을 위해 데이터셋 코드를<br>\n",
    "모델 학습 코드로부터 분리하는 것이 이상적이다.<br>\n",
    "PyTorch는 `torch.utils.data.Dataset`과 `torch.utils.data.DataLoader`의<br>\n",
    "두 가지 데이터 기본 요소를 제공하여 미리 준비해둔(pre-loaded) 데이터셋 뿐만 아니라<br>\n",
    "가지고 있는 데이터를 사용할 수 있도록 한다.\n",
    "    - Dataset: 샘플과 정답(label)을 저장한다.\n",
    "    - DataLoader: Dataset을 샘플에 쉽게 접근할 수 있도록 순회(반복) 가능한 객체<br>\n",
    "    (iterable)로 감싼다."
   ]
  },
  {
   "cell_type": "code",
   "execution_count": 2,
   "metadata": {},
   "outputs": [],
   "source": [
    "import torch\n",
    "from torch.utils.data import Dataset\n",
    "from torchvision import datasets\n",
    "from torchvision.transforms import ToTensor\n",
    "import matplotlib.pyplot as plt"
   ]
  },
  {
   "cell_type": "code",
   "execution_count": null,
   "metadata": {},
   "outputs": [],
   "source": []
  }
 ],
 "metadata": {
  "kernelspec": {
   "display_name": "Python 3.8.13 ('base')",
   "language": "python",
   "name": "python3"
  },
  "language_info": {
   "codemirror_mode": {
    "name": "ipython",
    "version": 3
   },
   "file_extension": ".py",
   "mimetype": "text/x-python",
   "name": "python",
   "nbconvert_exporter": "python",
   "pygments_lexer": "ipython3",
   "version": "3.8.13"
  },
  "orig_nbformat": 4,
  "vscode": {
   "interpreter": {
    "hash": "38cc0cca68228d4d18227abe74ed813685db17db46984279e4aabdddebf5f1ba"
   }
  }
 },
 "nbformat": 4,
 "nbformat_minor": 2
}
