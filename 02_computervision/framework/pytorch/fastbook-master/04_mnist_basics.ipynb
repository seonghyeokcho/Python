{
  "cells": [
    {
      "cell_type": "code",
      "execution_count": 1,
      "metadata": {
        "colab": {
          "base_uri": "https://localhost:8080/"
        },
        "id": "3A1F5YWLy5S7",
        "outputId": "381bd0be-7640-4daa-bfa0-c314df2336a5"
      },
      "outputs": [
        {
          "name": "stdout",
          "output_type": "stream",
          "text": [
            "\u001b[K     |████████████████████████████████| 719 kB 5.0 MB/s \n",
            "\u001b[K     |████████████████████████████████| 432 kB 60.0 MB/s \n",
            "\u001b[K     |████████████████████████████████| 4.9 MB 52.0 MB/s \n",
            "\u001b[K     |████████████████████████████████| 1.3 MB 47.9 MB/s \n",
            "\u001b[K     |████████████████████████████████| 212 kB 73.7 MB/s \n",
            "\u001b[K     |████████████████████████████████| 163 kB 68.7 MB/s \n",
            "\u001b[K     |████████████████████████████████| 115 kB 48.8 MB/s \n",
            "\u001b[K     |████████████████████████████████| 127 kB 75.3 MB/s \n",
            "\u001b[K     |████████████████████████████████| 6.6 MB 57.1 MB/s \n",
            "\u001b[?25h"
          ]
        }
      ],
      "source": [
        "#hide\n",
        "!pip install -Uqq fastbook"
      ]
    },
    {
      "cell_type": "code",
      "execution_count": 2,
      "metadata": {
        "id": "MDOFM6AHy5S_"
      },
      "outputs": [],
      "source": [
        "#hide\n",
        "from fastai.vision.all import *\n",
        "from fastbook import *\n",
        "\n",
        "matplotlib.rc('image', cmap='Greys')"
      ]
    },
    {
      "cell_type": "markdown",
      "metadata": {
        "id": "gdpB2rG1y5S_"
      },
      "source": [
        "# Under the Hood: Training a Digit Classifier\n",
        "- 숫자 분류기의 학습 내부 들여다보기"
      ]
    },
    {
      "cell_type": "code",
      "execution_count": 3,
      "metadata": {
        "colab": {
          "base_uri": "https://localhost:8080/",
          "height": 37
        },
        "id": "Zn-36duMy5TC",
        "outputId": "1ad3096b-5c98-42fe-b9c1-15c2864a65d1"
      },
      "outputs": [
        {
          "data": {
            "text/html": [
              "\n",
              "<style>\n",
              "    /* Turns off some styling */\n",
              "    progress {\n",
              "        /* gets rid of default border in Firefox and Opera. */\n",
              "        border: none;\n",
              "        /* Needs to be in here for Safari polyfill so background images work as expected. */\n",
              "        background-size: auto;\n",
              "    }\n",
              "    progress:not([value]), progress:not([value])::-webkit-progress-bar {\n",
              "        background: repeating-linear-gradient(45deg, #7e7e7e, #7e7e7e 10px, #5c5c5c 10px, #5c5c5c 20px);\n",
              "    }\n",
              "    .progress-bar-interrupted, .progress-bar-interrupted::-webkit-progress-bar {\n",
              "        background: #F44336;\n",
              "    }\n",
              "</style>\n"
            ],
            "text/plain": [
              "<IPython.core.display.HTML object>"
            ]
          },
          "metadata": {},
          "output_type": "display_data"
        },
        {
          "data": {
            "text/html": [
              "\n",
              "    <div>\n",
              "      <progress value='3219456' class='' max='3214948' style='width:300px; height:20px; vertical-align: middle;'></progress>\n",
              "      100.14% [3219456/3214948 00:00&lt;00:00]\n",
              "    </div>\n",
              "    "
            ],
            "text/plain": [
              "<IPython.core.display.HTML object>"
            ]
          },
          "metadata": {},
          "output_type": "display_data"
        }
      ],
      "source": [
        "path = untar_data(URLs.MNIST_SAMPLE)"
      ]
    },
    {
      "cell_type": "code",
      "execution_count": 4,
      "metadata": {
        "id": "P7rBiMr7y5TD"
      },
      "outputs": [],
      "source": [
        "#hide\n",
        "Path.BASE_PATH = path"
      ]
    },
    {
      "cell_type": "code",
      "execution_count": 5,
      "metadata": {
        "colab": {
          "base_uri": "https://localhost:8080/"
        },
        "id": "XPiF5PeZy5TD",
        "outputId": "da3d7f00-638c-48ff-e519-1be0e747a17b"
      },
      "outputs": [
        {
          "data": {
            "text/plain": [
              "(#3) [Path('train'),Path('valid'),Path('labels.csv')]"
            ]
          },
          "execution_count": 5,
          "metadata": {},
          "output_type": "execute_result"
        }
      ],
      "source": [
        "path.ls()"
      ]
    },
    {
      "cell_type": "code",
      "execution_count": 6,
      "metadata": {
        "colab": {
          "base_uri": "https://localhost:8080/"
        },
        "id": "jWoB8F71y5TE",
        "outputId": "74688e7d-d0ab-49ef-807f-f07a962a8e3e"
      },
      "outputs": [
        {
          "data": {
            "text/plain": [
              "(#2) [Path('train/3'),Path('train/7')]"
            ]
          },
          "execution_count": 6,
          "metadata": {},
          "output_type": "execute_result"
        }
      ],
      "source": [
        "(path/'train').ls()"
      ]
    },
    {
      "cell_type": "code",
      "execution_count": 7,
      "metadata": {
        "colab": {
          "base_uri": "https://localhost:8080/"
        },
        "id": "CUCJszy1y5TE",
        "outputId": "80566cbc-8a38-413f-f9df-208cc5812b28"
      },
      "outputs": [
        {
          "data": {
            "text/plain": [
              "(#6131) [Path('train/3/10.png'),Path('train/3/10000.png'),Path('train/3/10011.png'),Path('train/3/10031.png'),Path('train/3/10034.png'),Path('train/3/10042.png'),Path('train/3/10052.png'),Path('train/3/1007.png'),Path('train/3/10074.png'),Path('train/3/10091.png')...]"
            ]
          },
          "execution_count": 7,
          "metadata": {},
          "output_type": "execute_result"
        }
      ],
      "source": [
        "threes = (path/'train'/'3').ls().sorted()\n",
        "sevens = (path/'train'/'7').ls().sorted()\n",
        "threes"
      ]
    },
    {
      "cell_type": "code",
      "execution_count": 8,
      "metadata": {
        "colab": {
          "base_uri": "https://localhost:8080/",
          "height": 45
        },
        "id": "JJpVDfvUy5TF",
        "outputId": "1bcb01e6-a09c-4480-96e5-8b9e824f6745"
      },
      "outputs": [
        {
          "data": {
            "image/png": "[encoded data removed]",
            "text/plain": [
              "<PIL.PngImagePlugin.PngImageFile image mode=L size=28x28>"
            ]
          },
          "execution_count": 8,
          "metadata": {},
          "output_type": "execute_result"
        }
      ],
      "source": [
        "im3 = Image.open(threes[1])\n",
        "im3"
      ]
    },
    {
      "cell_type": "code",
      "execution_count": 9,
      "metadata": {
        "colab": {
          "base_uri": "https://localhost:8080/"
        },
        "id": "SuSaUhMAy5TF",
        "outputId": "569c4c27-ac6a-49f9-8343-8cd5e838c2c5"
      },
      "outputs": [
        {
          "data": {
            "text/plain": [
              "array([[  0,   0,   0,   0,   0,   0],\n",
              "       [  0,   0,   0,   0,   0,  29],\n",
              "       [  0,   0,   0,  48, 166, 224],\n",
              "       [  0,  93, 244, 249, 253, 187],\n",
              "       [  0, 107, 253, 253, 230,  48],\n",
              "       [  0,   3,  20,  20,  15,   0]], dtype=uint8)"
            ]
          },
          "execution_count": 9,
          "metadata": {},
          "output_type": "execute_result"
        }
      ],
      "source": [
        "array(im3)[4:10,4:10]"
      ]
    },
    {
      "cell_type": "code",
      "execution_count": 10,
      "metadata": {
        "colab": {
          "base_uri": "https://localhost:8080/"
        },
        "id": "Jwn_D7-xy5TG",
        "outputId": "ffd40564-5bb2-4b2e-c209-d0248830c403"
      },
      "outputs": [
        {
          "data": {
            "text/plain": [
              "tensor([[  0,   0,   0,   0,   0,   0],\n",
              "        [  0,   0,   0,   0,   0,  29],\n",
              "        [  0,   0,   0,  48, 166, 224],\n",
              "        [  0,  93, 244, 249, 253, 187],\n",
              "        [  0, 107, 253, 253, 230,  48],\n",
              "        [  0,   3,  20,  20,  15,   0]], dtype=torch.uint8)"
            ]
          },
          "execution_count": 10,
          "metadata": {},
          "output_type": "execute_result"
        }
      ],
      "source": [
        "tensor(im3)[4:10,4:10]"
      ]
    },
    {
      "cell_type": "code",
      "execution_count": 11,
      "metadata": {
        "colab": {
          "base_uri": "https://localhost:8080/",
          "height": 394
        },
        "id": "YcD32LMCy5TG",
        "outputId": "034fb876-be74-463f-bc16-7e6649f331c7"
      },
      "outputs": [
        {
          "data": {
            "text/html": [
              "<style type=\"text/css\">\n",
              "#T_d5ffd_row0_col0, #T_d5ffd_row0_col1, #T_d5ffd_row0_col2, #T_d5ffd_row0_col3, #T_d5ffd_row0_col4, #T_d5ffd_row0_col5, #T_d5ffd_row0_col6, #T_d5ffd_row0_col7, #T_d5ffd_row0_col8, #T_d5ffd_row0_col9, #T_d5ffd_row0_col10, #T_d5ffd_row0_col11, #T_d5ffd_row0_col12, #T_d5ffd_row0_col13, #T_d5ffd_row0_col14, #T_d5ffd_row0_col15, #T_d5ffd_row0_col16, #T_d5ffd_row0_col17, #T_d5ffd_row1_col0, #T_d5ffd_row1_col1, #T_d5ffd_row1_col2, #T_d5ffd_row1_col3, #T_d5ffd_row1_col4, #T_d5ffd_row1_col15, #T_d5ffd_row1_col16, #T_d5ffd_row1_col17, #T_d5ffd_row2_col0, #T_d5ffd_row2_col1, #T_d5ffd_row2_col2, #T_d5ffd_row2_col15, #T_d5ffd_row2_col16, #T_d5ffd_row2_col17, #T_d5ffd_row3_col0, #T_d5ffd_row3_col15, #T_d5ffd_row3_col16, #T_d5ffd_row3_col17, #T_d5ffd_row4_col0, #T_d5ffd_row4_col6, #T_d5ffd_row4_col7, #T_d5ffd_row4_col8, #T_d5ffd_row4_col9, #T_d5ffd_row4_col10, #T_d5ffd_row4_col15, #T_d5ffd_row4_col16, #T_d5ffd_row4_col17, #T_d5ffd_row5_col0, #T_d5ffd_row5_col5, #T_d5ffd_row5_col6, #T_d5ffd_row5_col7, #T_d5ffd_row5_col8, #T_d5ffd_row5_col9, #T_d5ffd_row5_col15, #T_d5ffd_row5_col16, #T_d5ffd_row5_col17, #T_d5ffd_row6_col0, #T_d5ffd_row6_col1, #T_d5ffd_row6_col2, #T_d5ffd_row6_col3, #T_d5ffd_row6_col4, #T_d5ffd_row6_col5, #T_d5ffd_row6_col6, #T_d5ffd_row6_col7, #T_d5ffd_row6_col8, #T_d5ffd_row6_col9, #T_d5ffd_row6_col14, #T_d5ffd_row6_col15, #T_d5ffd_row6_col16, #T_d5ffd_row6_col17, #T_d5ffd_row7_col0, #T_d5ffd_row7_col1, #T_d5ffd_row7_col2, #T_d5ffd_row7_col3, #T_d5ffd_row7_col4, #T_d5ffd_row7_col5, #T_d5ffd_row7_col6, #T_d5ffd_row7_col13, #T_d5ffd_row7_col14, #T_d5ffd_row7_col15, #T_d5ffd_row7_col16, #T_d5ffd_row7_col17, #T_d5ffd_row8_col0, #T_d5ffd_row8_col1, #T_d5ffd_row8_col2, #T_d5ffd_row8_col3, #T_d5ffd_row8_col4, #T_d5ffd_row8_col13, #T_d5ffd_row8_col14, #T_d5ffd_row8_col15, #T_d5ffd_row8_col16, #T_d5ffd_row8_col17, #T_d5ffd_row9_col0, #T_d5ffd_row9_col1, #T_d5ffd_row9_col2, #T_d5ffd_row9_col3, #T_d5ffd_row9_col4, #T_d5ffd_row9_col16, #T_d5ffd_row9_col17, #T_d5ffd_row10_col0, #T_d5ffd_row10_col1, #T_d5ffd_row10_col2, #T_d5ffd_row10_col3, #T_d5ffd_row10_col4, #T_d5ffd_row10_col5, #T_d5ffd_row10_col6, #T_d5ffd_row10_col17 {\n",
              "  font-size: 6pt;\n",
              "  background-color: #ffffff;\n",
              "  color: #000000;\n",
              "}\n",
              "#T_d5ffd_row1_col5 {\n",
              "  font-size: 6pt;\n",
              "  background-color: #efefef;\n",
              "  color: #000000;\n",
              "}\n",
              "#T_d5ffd_row1_col6, #T_d5ffd_row1_col13 {\n",
              "  font-size: 6pt;\n",
              "  background-color: #7c7c7c;\n",
              "  color: #f1f1f1;\n",
              "}\n",
              "#T_d5ffd_row1_col7 {\n",
              "  font-size: 6pt;\n",
              "  background-color: #4a4a4a;\n",
              "  color: #f1f1f1;\n",
              "}\n",
              "#T_d5ffd_row1_col8, #T_d5ffd_row1_col9, #T_d5ffd_row1_col10, #T_d5ffd_row2_col5, #T_d5ffd_row2_col6, #T_d5ffd_row2_col7, #T_d5ffd_row2_col11, #T_d5ffd_row2_col12, #T_d5ffd_row2_col13, #T_d5ffd_row3_col4, #T_d5ffd_row3_col12, #T_d5ffd_row3_col13, #T_d5ffd_row4_col1, #T_d5ffd_row4_col2, #T_d5ffd_row4_col3, #T_d5ffd_row4_col12, #T_d5ffd_row4_col13, #T_d5ffd_row5_col12, #T_d5ffd_row6_col11, #T_d5ffd_row9_col11, #T_d5ffd_row10_col11, #T_d5ffd_row10_col12, #T_d5ffd_row10_col13, #T_d5ffd_row10_col14, #T_d5ffd_row10_col15, #T_d5ffd_row10_col16 {\n",
              "  font-size: 6pt;\n",
              "  background-color: #000000;\n",
              "  color: #f1f1f1;\n",
              "}\n",
              "#T_d5ffd_row1_col11 {\n",
              "  font-size: 6pt;\n",
              "  background-color: #606060;\n",
              "  color: #f1f1f1;\n",
              "}\n",
              "#T_d5ffd_row1_col12 {\n",
              "  font-size: 6pt;\n",
              "  background-color: #4d4d4d;\n",
              "  color: #f1f1f1;\n",
              "}\n",
              "#T_d5ffd_row1_col14 {\n",
              "  font-size: 6pt;\n",
              "  background-color: #bbbbbb;\n",
              "  color: #000000;\n",
              "}\n",
              "#T_d5ffd_row2_col3 {\n",
              "  font-size: 6pt;\n",
              "  background-color: #e4e4e4;\n",
              "  color: #000000;\n",
              "}\n",
              "#T_d5ffd_row2_col4, #T_d5ffd_row8_col6 {\n",
              "  font-size: 6pt;\n",
              "  background-color: #6b6b6b;\n",
              "  color: #f1f1f1;\n",
              "}\n",
              "#T_d5ffd_row2_col8, #T_d5ffd_row2_col14, #T_d5ffd_row3_col14 {\n",
              "  font-size: 6pt;\n",
              "  background-color: #171717;\n",
              "  color: #f1f1f1;\n",
              "}\n",
              "#T_d5ffd_row2_col9, #T_d5ffd_row3_col11 {\n",
              "  font-size: 6pt;\n",
              "  background-color: #4b4b4b;\n",
              "  color: #f1f1f1;\n",
              "}\n",
              "#T_d5ffd_row2_col10, #T_d5ffd_row7_col10, #T_d5ffd_row8_col8, #T_d5ffd_row8_col10, #T_d5ffd_row9_col8, #T_d5ffd_row9_col10 {\n",
              "  font-size: 6pt;\n",
              "  background-color: #010101;\n",
              "  color: #f1f1f1;\n",
              "}\n",
              "#T_d5ffd_row3_col1 {\n",
              "  font-size: 6pt;\n",
              "  background-color: #272727;\n",
              "  color: #f1f1f1;\n",
              "}\n",
              "#T_d5ffd_row3_col2 {\n",
              "  font-size: 6pt;\n",
              "  background-color: #0a0a0a;\n",
              "  color: #f1f1f1;\n",
              "}\n",
              "#T_d5ffd_row3_col3 {\n",
              "  font-size: 6pt;\n",
              "  background-color: #050505;\n",
              "  color: #f1f1f1;\n",
              "}\n",
              "#T_d5ffd_row3_col5 {\n",
              "  font-size: 6pt;\n",
              "  background-color: #333333;\n",
              "  color: #f1f1f1;\n",
              "}\n",
              "#T_d5ffd_row3_col6 {\n",
              "  font-size: 6pt;\n",
              "  background-color: #e6e6e6;\n",
              "  color: #000000;\n",
              "}\n",
              "#T_d5ffd_row3_col7, #T_d5ffd_row3_col10 {\n",
              "  font-size: 6pt;\n",
              "  background-color: #fafafa;\n",
              "  color: #000000;\n",
              "}\n",
              "#T_d5ffd_row3_col8 {\n",
              "  font-size: 6pt;\n",
              "  background-color: #fbfbfb;\n",
              "  color: #000000;\n",
              "}\n",
              "#T_d5ffd_row3_col9 {\n",
              "  font-size: 6pt;\n",
              "  background-color: #fdfdfd;\n",
              "  color: #000000;\n",
              "}\n",
              "#T_d5ffd_row4_col4 {\n",
              "  font-size: 6pt;\n",
              "  background-color: #1b1b1b;\n",
              "  color: #f1f1f1;\n",
              "}\n",
              "#T_d5ffd_row4_col5 {\n",
              "  font-size: 6pt;\n",
              "  background-color: #e0e0e0;\n",
              "  color: #000000;\n",
              "}\n",
              "#T_d5ffd_row4_col11 {\n",
              "  font-size: 6pt;\n",
              "  background-color: #4e4e4e;\n",
              "  color: #f1f1f1;\n",
              "}\n",
              "#T_d5ffd_row4_col14 {\n",
              "  font-size: 6pt;\n",
              "  background-color: #767676;\n",
              "  color: #f1f1f1;\n",
              "}\n",
              "#T_d5ffd_row5_col1 {\n",
              "  font-size: 6pt;\n",
              "  background-color: #fcfcfc;\n",
              "  color: #000000;\n",
              "}\n",
              "#T_d5ffd_row5_col2, #T_d5ffd_row5_col3 {\n",
              "  font-size: 6pt;\n",
              "  background-color: #f6f6f6;\n",
              "  color: #000000;\n",
              "}\n",
              "#T_d5ffd_row5_col4, #T_d5ffd_row7_col7 {\n",
              "  font-size: 6pt;\n",
              "  background-color: #f8f8f8;\n",
              "  color: #000000;\n",
              "}\n",
              "#T_d5ffd_row5_col10, #T_d5ffd_row10_col7 {\n",
              "  font-size: 6pt;\n",
              "  background-color: #e8e8e8;\n",
              "  color: #000000;\n",
              "}\n",
              "#T_d5ffd_row5_col11 {\n",
              "  font-size: 6pt;\n",
              "  background-color: #222222;\n",
              "  color: #f1f1f1;\n",
              "}\n",
              "#T_d5ffd_row5_col13, #T_d5ffd_row6_col12 {\n",
              "  font-size: 6pt;\n",
              "  background-color: #090909;\n",
              "  color: #f1f1f1;\n",
              "}\n",
              "#T_d5ffd_row5_col14 {\n",
              "  font-size: 6pt;\n",
              "  background-color: #d0d0d0;\n",
              "  color: #000000;\n",
              "}\n",
              "#T_d5ffd_row6_col10, #T_d5ffd_row7_col11, #T_d5ffd_row9_col6 {\n",
              "  font-size: 6pt;\n",
              "  background-color: #060606;\n",
              "  color: #f1f1f1;\n",
              "}\n",
              "#T_d5ffd_row6_col13 {\n",
              "  font-size: 6pt;\n",
              "  background-color: #979797;\n",
              "  color: #f1f1f1;\n",
              "}\n",
              "#T_d5ffd_row7_col8 {\n",
              "  font-size: 6pt;\n",
              "  background-color: #b6b6b6;\n",
              "  color: #000000;\n",
              "}\n",
              "#T_d5ffd_row7_col9 {\n",
              "  font-size: 6pt;\n",
              "  background-color: #252525;\n",
              "  color: #f1f1f1;\n",
              "}\n",
              "#T_d5ffd_row7_col12 {\n",
              "  font-size: 6pt;\n",
              "  background-color: #999999;\n",
              "  color: #f1f1f1;\n",
              "}\n",
              "#T_d5ffd_row8_col5 {\n",
              "  font-size: 6pt;\n",
              "  background-color: #f9f9f9;\n",
              "  color: #000000;\n",
              "}\n",
              "#T_d5ffd_row8_col7 {\n",
              "  font-size: 6pt;\n",
              "  background-color: #101010;\n",
              "  color: #f1f1f1;\n",
              "}\n",
              "#T_d5ffd_row8_col9, #T_d5ffd_row9_col9 {\n",
              "  font-size: 6pt;\n",
              "  background-color: #020202;\n",
              "  color: #f1f1f1;\n",
              "}\n",
              "#T_d5ffd_row8_col11 {\n",
              "  font-size: 6pt;\n",
              "  background-color: #545454;\n",
              "  color: #f1f1f1;\n",
              "}\n",
              "#T_d5ffd_row8_col12 {\n",
              "  font-size: 6pt;\n",
              "  background-color: #f1f1f1;\n",
              "  color: #000000;\n",
              "}\n",
              "#T_d5ffd_row9_col5 {\n",
              "  font-size: 6pt;\n",
              "  background-color: #f7f7f7;\n",
              "  color: #000000;\n",
              "}\n",
              "#T_d5ffd_row9_col7 {\n",
              "  font-size: 6pt;\n",
              "  background-color: #030303;\n",
              "  color: #f1f1f1;\n",
              "}\n",
              "#T_d5ffd_row9_col12 {\n",
              "  font-size: 6pt;\n",
              "  background-color: #181818;\n",
              "  color: #f1f1f1;\n",
              "}\n",
              "#T_d5ffd_row9_col13 {\n",
              "  font-size: 6pt;\n",
              "  background-color: #303030;\n",
              "  color: #f1f1f1;\n",
              "}\n",
              "#T_d5ffd_row9_col14 {\n",
              "  font-size: 6pt;\n",
              "  background-color: #a9a9a9;\n",
              "  color: #f1f1f1;\n",
              "}\n",
              "#T_d5ffd_row9_col15 {\n",
              "  font-size: 6pt;\n",
              "  background-color: #fefefe;\n",
              "  color: #000000;\n",
              "}\n",
              "#T_d5ffd_row10_col8, #T_d5ffd_row10_col9 {\n",
              "  font-size: 6pt;\n",
              "  background-color: #bababa;\n",
              "  color: #000000;\n",
              "}\n",
              "#T_d5ffd_row10_col10 {\n",
              "  font-size: 6pt;\n",
              "  background-color: #393939;\n",
              "  color: #f1f1f1;\n",
              "}\n",
              "</style>\n",
              "<table id=\"T_d5ffd_\" class=\"dataframe\">\n",
              "  <thead>\n",
              "    <tr>\n",
              "      <th class=\"blank level0\" >&nbsp;</th>\n",
              "      <th class=\"col_heading level0 col0\" >0</th>\n",
              "      <th class=\"col_heading level0 col1\" >1</th>\n",
              "      <th class=\"col_heading level0 col2\" >2</th>\n",
              "      <th class=\"col_heading level0 col3\" >3</th>\n",
              "      <th class=\"col_heading level0 col4\" >4</th>\n",
              "      <th class=\"col_heading level0 col5\" >5</th>\n",
              "      <th class=\"col_heading level0 col6\" >6</th>\n",
              "      <th class=\"col_heading level0 col7\" >7</th>\n",
              "      <th class=\"col_heading level0 col8\" >8</th>\n",
              "      <th class=\"col_heading level0 col9\" >9</th>\n",
              "      <th class=\"col_heading level0 col10\" >10</th>\n",
              "      <th class=\"col_heading level0 col11\" >11</th>\n",
              "      <th class=\"col_heading level0 col12\" >12</th>\n",
              "      <th class=\"col_heading level0 col13\" >13</th>\n",
              "      <th class=\"col_heading level0 col14\" >14</th>\n",
              "      <th class=\"col_heading level0 col15\" >15</th>\n",
              "      <th class=\"col_heading level0 col16\" >16</th>\n",
              "      <th class=\"col_heading level0 col17\" >17</th>\n",
              "    </tr>\n",
              "  </thead>\n",
              "  <tbody>\n",
              "    <tr>\n",
              "      <th id=\"T_d5ffd_level0_row0\" class=\"row_heading level0 row0\" >0</th>\n",
              "      <td id=\"T_d5ffd_row0_col0\" class=\"data row0 col0\" >0</td>\n",
              "      <td id=\"T_d5ffd_row0_col1\" class=\"data row0 col1\" >0</td>\n",
              "      <td id=\"T_d5ffd_row0_col2\" class=\"data row0 col2\" >0</td>\n",
              "      <td id=\"T_d5ffd_row0_col3\" class=\"data row0 col3\" >0</td>\n",
              "      <td id=\"T_d5ffd_row0_col4\" class=\"data row0 col4\" >0</td>\n",
              "      <td id=\"T_d5ffd_row0_col5\" class=\"data row0 col5\" >0</td>\n",
              "      <td id=\"T_d5ffd_row0_col6\" class=\"data row0 col6\" >0</td>\n",
              "      <td id=\"T_d5ffd_row0_col7\" class=\"data row0 col7\" >0</td>\n",
              "      <td id=\"T_d5ffd_row0_col8\" class=\"data row0 col8\" >0</td>\n",
              "      <td id=\"T_d5ffd_row0_col9\" class=\"data row0 col9\" >0</td>\n",
              "      <td id=\"T_d5ffd_row0_col10\" class=\"data row0 col10\" >0</td>\n",
              "      <td id=\"T_d5ffd_row0_col11\" class=\"data row0 col11\" >0</td>\n",
              "      <td id=\"T_d5ffd_row0_col12\" class=\"data row0 col12\" >0</td>\n",
              "      <td id=\"T_d5ffd_row0_col13\" class=\"data row0 col13\" >0</td>\n",
              "      <td id=\"T_d5ffd_row0_col14\" class=\"data row0 col14\" >0</td>\n",
              "      <td id=\"T_d5ffd_row0_col15\" class=\"data row0 col15\" >0</td>\n",
              "      <td id=\"T_d5ffd_row0_col16\" class=\"data row0 col16\" >0</td>\n",
              "      <td id=\"T_d5ffd_row0_col17\" class=\"data row0 col17\" >0</td>\n",
              "    </tr>\n",
              "    <tr>\n",
              "      <th id=\"T_d5ffd_level0_row1\" class=\"row_heading level0 row1\" >1</th>\n",
              "      <td id=\"T_d5ffd_row1_col0\" class=\"data row1 col0\" >0</td>\n",
              "      <td id=\"T_d5ffd_row1_col1\" class=\"data row1 col1\" >0</td>\n",
              "      <td id=\"T_d5ffd_row1_col2\" class=\"data row1 col2\" >0</td>\n",
              "      <td id=\"T_d5ffd_row1_col3\" class=\"data row1 col3\" >0</td>\n",
              "      <td id=\"T_d5ffd_row1_col4\" class=\"data row1 col4\" >0</td>\n",
              "      <td id=\"T_d5ffd_row1_col5\" class=\"data row1 col5\" >29</td>\n",
              "      <td id=\"T_d5ffd_row1_col6\" class=\"data row1 col6\" >150</td>\n",
              "      <td id=\"T_d5ffd_row1_col7\" class=\"data row1 col7\" >195</td>\n",
              "      <td id=\"T_d5ffd_row1_col8\" class=\"data row1 col8\" >254</td>\n",
              "      <td id=\"T_d5ffd_row1_col9\" class=\"data row1 col9\" >255</td>\n",
              "      <td id=\"T_d5ffd_row1_col10\" class=\"data row1 col10\" >254</td>\n",
              "      <td id=\"T_d5ffd_row1_col11\" class=\"data row1 col11\" >176</td>\n",
              "      <td id=\"T_d5ffd_row1_col12\" class=\"data row1 col12\" >193</td>\n",
              "      <td id=\"T_d5ffd_row1_col13\" class=\"data row1 col13\" >150</td>\n",
              "      <td id=\"T_d5ffd_row1_col14\" class=\"data row1 col14\" >96</td>\n",
              "      <td id=\"T_d5ffd_row1_col15\" class=\"data row1 col15\" >0</td>\n",
              "      <td id=\"T_d5ffd_row1_col16\" class=\"data row1 col16\" >0</td>\n",
              "      <td id=\"T_d5ffd_row1_col17\" class=\"data row1 col17\" >0</td>\n",
              "    </tr>\n",
              "    <tr>\n",
              "      <th id=\"T_d5ffd_level0_row2\" class=\"row_heading level0 row2\" >2</th>\n",
              "      <td id=\"T_d5ffd_row2_col0\" class=\"data row2 col0\" >0</td>\n",
              "      <td id=\"T_d5ffd_row2_col1\" class=\"data row2 col1\" >0</td>\n",
              "      <td id=\"T_d5ffd_row2_col2\" class=\"data row2 col2\" >0</td>\n",
              "      <td id=\"T_d5ffd_row2_col3\" class=\"data row2 col3\" >48</td>\n",
              "      <td id=\"T_d5ffd_row2_col4\" class=\"data row2 col4\" >166</td>\n",
              "      <td id=\"T_d5ffd_row2_col5\" class=\"data row2 col5\" >224</td>\n",
              "      <td id=\"T_d5ffd_row2_col6\" class=\"data row2 col6\" >253</td>\n",
              "      <td id=\"T_d5ffd_row2_col7\" class=\"data row2 col7\" >253</td>\n",
              "      <td id=\"T_d5ffd_row2_col8\" class=\"data row2 col8\" >234</td>\n",
              "      <td id=\"T_d5ffd_row2_col9\" class=\"data row2 col9\" >196</td>\n",
              "      <td id=\"T_d5ffd_row2_col10\" class=\"data row2 col10\" >253</td>\n",
              "      <td id=\"T_d5ffd_row2_col11\" class=\"data row2 col11\" >253</td>\n",
              "      <td id=\"T_d5ffd_row2_col12\" class=\"data row2 col12\" >253</td>\n",
              "      <td id=\"T_d5ffd_row2_col13\" class=\"data row2 col13\" >253</td>\n",
              "      <td id=\"T_d5ffd_row2_col14\" class=\"data row2 col14\" >233</td>\n",
              "      <td id=\"T_d5ffd_row2_col15\" class=\"data row2 col15\" >0</td>\n",
              "      <td id=\"T_d5ffd_row2_col16\" class=\"data row2 col16\" >0</td>\n",
              "      <td id=\"T_d5ffd_row2_col17\" class=\"data row2 col17\" >0</td>\n",
              "    </tr>\n",
              "    <tr>\n",
              "      <th id=\"T_d5ffd_level0_row3\" class=\"row_heading level0 row3\" >3</th>\n",
              "      <td id=\"T_d5ffd_row3_col0\" class=\"data row3 col0\" >0</td>\n",
              "      <td id=\"T_d5ffd_row3_col1\" class=\"data row3 col1\" >93</td>\n",
              "      <td id=\"T_d5ffd_row3_col2\" class=\"data row3 col2\" >244</td>\n",
              "      <td id=\"T_d5ffd_row3_col3\" class=\"data row3 col3\" >249</td>\n",
              "      <td id=\"T_d5ffd_row3_col4\" class=\"data row3 col4\" >253</td>\n",
              "      <td id=\"T_d5ffd_row3_col5\" class=\"data row3 col5\" >187</td>\n",
              "      <td id=\"T_d5ffd_row3_col6\" class=\"data row3 col6\" >46</td>\n",
              "      <td id=\"T_d5ffd_row3_col7\" class=\"data row3 col7\" >10</td>\n",
              "      <td id=\"T_d5ffd_row3_col8\" class=\"data row3 col8\" >8</td>\n",
              "      <td id=\"T_d5ffd_row3_col9\" class=\"data row3 col9\" >4</td>\n",
              "      <td id=\"T_d5ffd_row3_col10\" class=\"data row3 col10\" >10</td>\n",
              "      <td id=\"T_d5ffd_row3_col11\" class=\"data row3 col11\" >194</td>\n",
              "      <td id=\"T_d5ffd_row3_col12\" class=\"data row3 col12\" >253</td>\n",
              "      <td id=\"T_d5ffd_row3_col13\" class=\"data row3 col13\" >253</td>\n",
              "      <td id=\"T_d5ffd_row3_col14\" class=\"data row3 col14\" >233</td>\n",
              "      <td id=\"T_d5ffd_row3_col15\" class=\"data row3 col15\" >0</td>\n",
              "      <td id=\"T_d5ffd_row3_col16\" class=\"data row3 col16\" >0</td>\n",
              "      <td id=\"T_d5ffd_row3_col17\" class=\"data row3 col17\" >0</td>\n",
              "    </tr>\n",
              "    <tr>\n",
              "      <th id=\"T_d5ffd_level0_row4\" class=\"row_heading level0 row4\" >4</th>\n",
              "      <td id=\"T_d5ffd_row4_col0\" class=\"data row4 col0\" >0</td>\n",
              "      <td id=\"T_d5ffd_row4_col1\" class=\"data row4 col1\" >107</td>\n",
              "      <td id=\"T_d5ffd_row4_col2\" class=\"data row4 col2\" >253</td>\n",
              "      <td id=\"T_d5ffd_row4_col3\" class=\"data row4 col3\" >253</td>\n",
              "      <td id=\"T_d5ffd_row4_col4\" class=\"data row4 col4\" >230</td>\n",
              "      <td id=\"T_d5ffd_row4_col5\" class=\"data row4 col5\" >48</td>\n",
              "      <td id=\"T_d5ffd_row4_col6\" class=\"data row4 col6\" >0</td>\n",
              "      <td id=\"T_d5ffd_row4_col7\" class=\"data row4 col7\" >0</td>\n",
              "      <td id=\"T_d5ffd_row4_col8\" class=\"data row4 col8\" >0</td>\n",
              "      <td id=\"T_d5ffd_row4_col9\" class=\"data row4 col9\" >0</td>\n",
              "      <td id=\"T_d5ffd_row4_col10\" class=\"data row4 col10\" >0</td>\n",
              "      <td id=\"T_d5ffd_row4_col11\" class=\"data row4 col11\" >192</td>\n",
              "      <td id=\"T_d5ffd_row4_col12\" class=\"data row4 col12\" >253</td>\n",
              "      <td id=\"T_d5ffd_row4_col13\" class=\"data row4 col13\" >253</td>\n",
              "      <td id=\"T_d5ffd_row4_col14\" class=\"data row4 col14\" >156</td>\n",
              "      <td id=\"T_d5ffd_row4_col15\" class=\"data row4 col15\" >0</td>\n",
              "      <td id=\"T_d5ffd_row4_col16\" class=\"data row4 col16\" >0</td>\n",
              "      <td id=\"T_d5ffd_row4_col17\" class=\"data row4 col17\" >0</td>\n",
              "    </tr>\n",
              "    <tr>\n",
              "      <th id=\"T_d5ffd_level0_row5\" class=\"row_heading level0 row5\" >5</th>\n",
              "      <td id=\"T_d5ffd_row5_col0\" class=\"data row5 col0\" >0</td>\n",
              "      <td id=\"T_d5ffd_row5_col1\" class=\"data row5 col1\" >3</td>\n",
              "      <td id=\"T_d5ffd_row5_col2\" class=\"data row5 col2\" >20</td>\n",
              "      <td id=\"T_d5ffd_row5_col3\" class=\"data row5 col3\" >20</td>\n",
              "      <td id=\"T_d5ffd_row5_col4\" class=\"data row5 col4\" >15</td>\n",
              "      <td id=\"T_d5ffd_row5_col5\" class=\"data row5 col5\" >0</td>\n",
              "      <td id=\"T_d5ffd_row5_col6\" class=\"data row5 col6\" >0</td>\n",
              "      <td id=\"T_d5ffd_row5_col7\" class=\"data row5 col7\" >0</td>\n",
              "      <td id=\"T_d5ffd_row5_col8\" class=\"data row5 col8\" >0</td>\n",
              "      <td id=\"T_d5ffd_row5_col9\" class=\"data row5 col9\" >0</td>\n",
              "      <td id=\"T_d5ffd_row5_col10\" class=\"data row5 col10\" >43</td>\n",
              "      <td id=\"T_d5ffd_row5_col11\" class=\"data row5 col11\" >224</td>\n",
              "      <td id=\"T_d5ffd_row5_col12\" class=\"data row5 col12\" >253</td>\n",
              "      <td id=\"T_d5ffd_row5_col13\" class=\"data row5 col13\" >245</td>\n",
              "      <td id=\"T_d5ffd_row5_col14\" class=\"data row5 col14\" >74</td>\n",
              "      <td id=\"T_d5ffd_row5_col15\" class=\"data row5 col15\" >0</td>\n",
              "      <td id=\"T_d5ffd_row5_col16\" class=\"data row5 col16\" >0</td>\n",
              "      <td id=\"T_d5ffd_row5_col17\" class=\"data row5 col17\" >0</td>\n",
              "    </tr>\n",
              "    <tr>\n",
              "      <th id=\"T_d5ffd_level0_row6\" class=\"row_heading level0 row6\" >6</th>\n",
              "      <td id=\"T_d5ffd_row6_col0\" class=\"data row6 col0\" >0</td>\n",
              "      <td id=\"T_d5ffd_row6_col1\" class=\"data row6 col1\" >0</td>\n",
              "      <td id=\"T_d5ffd_row6_col2\" class=\"data row6 col2\" >0</td>\n",
              "      <td id=\"T_d5ffd_row6_col3\" class=\"data row6 col3\" >0</td>\n",
              "      <td id=\"T_d5ffd_row6_col4\" class=\"data row6 col4\" >0</td>\n",
              "      <td id=\"T_d5ffd_row6_col5\" class=\"data row6 col5\" >0</td>\n",
              "      <td id=\"T_d5ffd_row6_col6\" class=\"data row6 col6\" >0</td>\n",
              "      <td id=\"T_d5ffd_row6_col7\" class=\"data row6 col7\" >0</td>\n",
              "      <td id=\"T_d5ffd_row6_col8\" class=\"data row6 col8\" >0</td>\n",
              "      <td id=\"T_d5ffd_row6_col9\" class=\"data row6 col9\" >0</td>\n",
              "      <td id=\"T_d5ffd_row6_col10\" class=\"data row6 col10\" >249</td>\n",
              "      <td id=\"T_d5ffd_row6_col11\" class=\"data row6 col11\" >253</td>\n",
              "      <td id=\"T_d5ffd_row6_col12\" class=\"data row6 col12\" >245</td>\n",
              "      <td id=\"T_d5ffd_row6_col13\" class=\"data row6 col13\" >126</td>\n",
              "      <td id=\"T_d5ffd_row6_col14\" class=\"data row6 col14\" >0</td>\n",
              "      <td id=\"T_d5ffd_row6_col15\" class=\"data row6 col15\" >0</td>\n",
              "      <td id=\"T_d5ffd_row6_col16\" class=\"data row6 col16\" >0</td>\n",
              "      <td id=\"T_d5ffd_row6_col17\" class=\"data row6 col17\" >0</td>\n",
              "    </tr>\n",
              "    <tr>\n",
              "      <th id=\"T_d5ffd_level0_row7\" class=\"row_heading level0 row7\" >7</th>\n",
              "      <td id=\"T_d5ffd_row7_col0\" class=\"data row7 col0\" >0</td>\n",
              "      <td id=\"T_d5ffd_row7_col1\" class=\"data row7 col1\" >0</td>\n",
              "      <td id=\"T_d5ffd_row7_col2\" class=\"data row7 col2\" >0</td>\n",
              "      <td id=\"T_d5ffd_row7_col3\" class=\"data row7 col3\" >0</td>\n",
              "      <td id=\"T_d5ffd_row7_col4\" class=\"data row7 col4\" >0</td>\n",
              "      <td id=\"T_d5ffd_row7_col5\" class=\"data row7 col5\" >0</td>\n",
              "      <td id=\"T_d5ffd_row7_col6\" class=\"data row7 col6\" >0</td>\n",
              "      <td id=\"T_d5ffd_row7_col7\" class=\"data row7 col7\" >14</td>\n",
              "      <td id=\"T_d5ffd_row7_col8\" class=\"data row7 col8\" >101</td>\n",
              "      <td id=\"T_d5ffd_row7_col9\" class=\"data row7 col9\" >223</td>\n",
              "      <td id=\"T_d5ffd_row7_col10\" class=\"data row7 col10\" >253</td>\n",
              "      <td id=\"T_d5ffd_row7_col11\" class=\"data row7 col11\" >248</td>\n",
              "      <td id=\"T_d5ffd_row7_col12\" class=\"data row7 col12\" >124</td>\n",
              "      <td id=\"T_d5ffd_row7_col13\" class=\"data row7 col13\" >0</td>\n",
              "      <td id=\"T_d5ffd_row7_col14\" class=\"data row7 col14\" >0</td>\n",
              "      <td id=\"T_d5ffd_row7_col15\" class=\"data row7 col15\" >0</td>\n",
              "      <td id=\"T_d5ffd_row7_col16\" class=\"data row7 col16\" >0</td>\n",
              "      <td id=\"T_d5ffd_row7_col17\" class=\"data row7 col17\" >0</td>\n",
              "    </tr>\n",
              "    <tr>\n",
              "      <th id=\"T_d5ffd_level0_row8\" class=\"row_heading level0 row8\" >8</th>\n",
              "      <td id=\"T_d5ffd_row8_col0\" class=\"data row8 col0\" >0</td>\n",
              "      <td id=\"T_d5ffd_row8_col1\" class=\"data row8 col1\" >0</td>\n",
              "      <td id=\"T_d5ffd_row8_col2\" class=\"data row8 col2\" >0</td>\n",
              "      <td id=\"T_d5ffd_row8_col3\" class=\"data row8 col3\" >0</td>\n",
              "      <td id=\"T_d5ffd_row8_col4\" class=\"data row8 col4\" >0</td>\n",
              "      <td id=\"T_d5ffd_row8_col5\" class=\"data row8 col5\" >11</td>\n",
              "      <td id=\"T_d5ffd_row8_col6\" class=\"data row8 col6\" >166</td>\n",
              "      <td id=\"T_d5ffd_row8_col7\" class=\"data row8 col7\" >239</td>\n",
              "      <td id=\"T_d5ffd_row8_col8\" class=\"data row8 col8\" >253</td>\n",
              "      <td id=\"T_d5ffd_row8_col9\" class=\"data row8 col9\" >253</td>\n",
              "      <td id=\"T_d5ffd_row8_col10\" class=\"data row8 col10\" >253</td>\n",
              "      <td id=\"T_d5ffd_row8_col11\" class=\"data row8 col11\" >187</td>\n",
              "      <td id=\"T_d5ffd_row8_col12\" class=\"data row8 col12\" >30</td>\n",
              "      <td id=\"T_d5ffd_row8_col13\" class=\"data row8 col13\" >0</td>\n",
              "      <td id=\"T_d5ffd_row8_col14\" class=\"data row8 col14\" >0</td>\n",
              "      <td id=\"T_d5ffd_row8_col15\" class=\"data row8 col15\" >0</td>\n",
              "      <td id=\"T_d5ffd_row8_col16\" class=\"data row8 col16\" >0</td>\n",
              "      <td id=\"T_d5ffd_row8_col17\" class=\"data row8 col17\" >0</td>\n",
              "    </tr>\n",
              "    <tr>\n",
              "      <th id=\"T_d5ffd_level0_row9\" class=\"row_heading level0 row9\" >9</th>\n",
              "      <td id=\"T_d5ffd_row9_col0\" class=\"data row9 col0\" >0</td>\n",
              "      <td id=\"T_d5ffd_row9_col1\" class=\"data row9 col1\" >0</td>\n",
              "      <td id=\"T_d5ffd_row9_col2\" class=\"data row9 col2\" >0</td>\n",
              "      <td id=\"T_d5ffd_row9_col3\" class=\"data row9 col3\" >0</td>\n",
              "      <td id=\"T_d5ffd_row9_col4\" class=\"data row9 col4\" >0</td>\n",
              "      <td id=\"T_d5ffd_row9_col5\" class=\"data row9 col5\" >16</td>\n",
              "      <td id=\"T_d5ffd_row9_col6\" class=\"data row9 col6\" >248</td>\n",
              "      <td id=\"T_d5ffd_row9_col7\" class=\"data row9 col7\" >250</td>\n",
              "      <td id=\"T_d5ffd_row9_col8\" class=\"data row9 col8\" >253</td>\n",
              "      <td id=\"T_d5ffd_row9_col9\" class=\"data row9 col9\" >253</td>\n",
              "      <td id=\"T_d5ffd_row9_col10\" class=\"data row9 col10\" >253</td>\n",
              "      <td id=\"T_d5ffd_row9_col11\" class=\"data row9 col11\" >253</td>\n",
              "      <td id=\"T_d5ffd_row9_col12\" class=\"data row9 col12\" >232</td>\n",
              "      <td id=\"T_d5ffd_row9_col13\" class=\"data row9 col13\" >213</td>\n",
              "      <td id=\"T_d5ffd_row9_col14\" class=\"data row9 col14\" >111</td>\n",
              "      <td id=\"T_d5ffd_row9_col15\" class=\"data row9 col15\" >2</td>\n",
              "      <td id=\"T_d5ffd_row9_col16\" class=\"data row9 col16\" >0</td>\n",
              "      <td id=\"T_d5ffd_row9_col17\" class=\"data row9 col17\" >0</td>\n",
              "    </tr>\n",
              "    <tr>\n",
              "      <th id=\"T_d5ffd_level0_row10\" class=\"row_heading level0 row10\" >10</th>\n",
              "      <td id=\"T_d5ffd_row10_col0\" class=\"data row10 col0\" >0</td>\n",
              "      <td id=\"T_d5ffd_row10_col1\" class=\"data row10 col1\" >0</td>\n",
              "      <td id=\"T_d5ffd_row10_col2\" class=\"data row10 col2\" >0</td>\n",
              "      <td id=\"T_d5ffd_row10_col3\" class=\"data row10 col3\" >0</td>\n",
              "      <td id=\"T_d5ffd_row10_col4\" class=\"data row10 col4\" >0</td>\n",
              "      <td id=\"T_d5ffd_row10_col5\" class=\"data row10 col5\" >0</td>\n",
              "      <td id=\"T_d5ffd_row10_col6\" class=\"data row10 col6\" >0</td>\n",
              "      <td id=\"T_d5ffd_row10_col7\" class=\"data row10 col7\" >43</td>\n",
              "      <td id=\"T_d5ffd_row10_col8\" class=\"data row10 col8\" >98</td>\n",
              "      <td id=\"T_d5ffd_row10_col9\" class=\"data row10 col9\" >98</td>\n",
              "      <td id=\"T_d5ffd_row10_col10\" class=\"data row10 col10\" >208</td>\n",
              "      <td id=\"T_d5ffd_row10_col11\" class=\"data row10 col11\" >253</td>\n",
              "      <td id=\"T_d5ffd_row10_col12\" class=\"data row10 col12\" >253</td>\n",
              "      <td id=\"T_d5ffd_row10_col13\" class=\"data row10 col13\" >253</td>\n",
              "      <td id=\"T_d5ffd_row10_col14\" class=\"data row10 col14\" >253</td>\n",
              "      <td id=\"T_d5ffd_row10_col15\" class=\"data row10 col15\" >187</td>\n",
              "      <td id=\"T_d5ffd_row10_col16\" class=\"data row10 col16\" >22</td>\n",
              "      <td id=\"T_d5ffd_row10_col17\" class=\"data row10 col17\" >0</td>\n",
              "    </tr>\n",
              "  </tbody>\n",
              "</table>\n"
            ],
            "text/plain": [
              "<pandas.io.formats.style.Styler at 0x7f3c4ea1e790>"
            ]
          },
          "execution_count": 11,
          "metadata": {},
          "output_type": "execute_result"
        }
      ],
      "source": [
        "im3_t = tensor(im3)\n",
        "df = pd.DataFrame(im3_t[4:15,4:22])\n",
        "df.style.set_properties(**{'font-size':'6pt'}).background_gradient('Greys')"
      ]
    },
    {
      "cell_type": "markdown",
      "metadata": {},
      "source": [
        "- WARNING: 더 나아가기 전에 컴퓨터에 이 두 숫자를 인식시킬 방법을 잠시 생각해보자. 숫자로 표현된 픽셀값에 어떤 특징이 있을까? 특징은 어떻게 식별할 수 있을까? 잠시 진행을 멈추고, 떠오르는 생각을 정리해보거나 종이에 적어보자."
      ]
    },
    {
      "cell_type": "markdown",
      "metadata": {
        "id": "S2D1o9fey5TG"
      },
      "source": [
        "## First Try: Pixel Similarity\n",
        "- 첫 번째 시도: 픽셀 유사성(유사도)\n",
        "    - 첫 번째로 시도할 방법은 이렇다. 숫자 3과 7 각각에 대한 모든 이미지의 평균 픽셀값을 구한다. 두 숫자에 대해 얻은 평균 픽셀값을 각각 '이상적인' 3과 7로 정의해볼 수 있다. 그리고 새로운 이미지가 이상적인 두 이미지(3과 7) 중 어느 쪽에 가까운지 계산하여 분류할 수 있다. 최선의 방법은 아니지만 없는 것보다는 나은 방법이므로, 이를 `초기 기준선`으로 설정할 수 있다.\n",
        "        - 하지만 이 방법은 가지고 있는 훈련 데이터에 많이 의존하는 문제가 있다."
      ]
    },
    {
      "cell_type": "markdown",
      "metadata": {},
      "source": [
        "- `NOTE: 기준선(Baseline)` - 신뢰할 수 있는 간단한 모델은 적정 수준으로 잘 작동해야만 한다. 또한 다양한 아이디어를 테스트하고 기준선보다 더 나은지를 확인해보려면 구현과 테스트가 쉬워야만 한다. 적당한 기준선이 없다면 내가 만든 복잡한 모델이 얼마나 더 나은지 알 길이 없다. 직전에 언급했듯이, 구현이 쉬운 간단한 모델을 생각해보는 방법으로 기준선을 만들 수 있다. 또는 자신이 원하는 문제와 유사한 문제를 해결한 다른 사람의 해결책을 찾아서 자신의 데이터셋에 적용해보는 방법도 있다. 사실 두 방법을 모두 시도해보는 편이 이상적이다."
      ]
    },
    {
      "cell_type": "code",
      "execution_count": 12,
      "metadata": {
        "colab": {
          "base_uri": "https://localhost:8080/"
        },
        "id": "azMH3-d1y5TG",
        "outputId": "4862eecf-2d11-439f-b70c-c556267159b0"
      },
      "outputs": [
        {
          "data": {
            "text/plain": [
              "(6131, 6265)"
            ]
          },
          "execution_count": 12,
          "metadata": {},
          "output_type": "execute_result"
        }
      ],
      "source": [
        "seven_tensors = [tensor(Image.open(o)) for o in sevens]\n",
        "three_tensors = [tensor(Image.open(o)) for o in threes]\n",
        "len(three_tensors),len(seven_tensors)"
      ]
    },
    {
      "cell_type": "markdown",
      "metadata": {},
      "source": [
        "- PIL 패키지의 Image 객체가 아니라 텐서 형식으로 담긴 이미지를 출력하려면 fastai가 제공하는 `show_image` 함수를 사용한다."
      ]
    },
    {
      "cell_type": "code",
      "execution_count": 13,
      "metadata": {
        "colab": {
          "base_uri": "https://localhost:8080/",
          "height": 85
        },
        "id": "rb7y2D1Gy5TH",
        "outputId": "087b1b65-b4dc-45bd-ed4f-b1f4462b0225"
      },
      "outputs": [
        {
          "data": {
            "image/png": "[encoded data removed]",
            "text/plain": [
              "<Figure size 72x72 with 1 Axes>"
            ]
          },
          "metadata": {
            "needs_background": "light"
          },
          "output_type": "display_data"
        }
      ],
      "source": [
        "show_image(three_tensors[1]);"
      ]
    },
    {
      "cell_type": "markdown",
      "metadata": {},
      "source": [
        "- 평균 계산 등 파이토치가 제공하는 일부 연산은 정수 대신 `부동소수형` 데이터만을 지원하여, 작업에 따라 `형 변환`을 해야 한다. 사실 지금 당장 형 변환을 해야 하는 것은 아니지만, 언젠가 해야 하는 작업이므로 구성된 텐서를 미리 부동소수형 데이터로 변환한다. 파이토치에서 형 변환은 매우 간단하다. 단순히 원하는 자료형 이름의 메서드를 호출해주기만 하면 된다.\n",
        "- 일반적으로 픽셀값을 부동소수로 표현할 때는 그 값을 `0과 1사이로 맞춰준다(min max scaling).` 다음과 같이 255로 나누어 픽셀값이 0~1 범위가 되도록 변환해준다."
      ]
    },
    {
      "cell_type": "code",
      "execution_count": 14,
      "metadata": {
        "colab": {
          "base_uri": "https://localhost:8080/"
        },
        "id": "w-ZD83hQy5TH",
        "outputId": "f9f45f4f-f668-4f75-ea14-a70dd77ea7f7"
      },
      "outputs": [
        {
          "data": {
            "text/plain": [
              "torch.Size([6131, 28, 28])"
            ]
          },
          "execution_count": 14,
          "metadata": {},
          "output_type": "execute_result"
        }
      ],
      "source": [
        "stacked_sevens = torch.stack(seven_tensors).float()/255\n",
        "stacked_threes = torch.stack(three_tensors).float()/255\n",
        "stacked_threes.shape"
      ]
    },
    {
      "cell_type": "markdown",
      "metadata": {},
      "source": [
        "- 텐서의 속성 중에는 각 축의 길이를 표현하는 `shape`이 가장 중요하다. 앞 코드의 출력 내용을 보면 이미지가 6,131장 있으며, 각각 28x28 픽셀로 구성되었음을 알 수 있다. 하지만 텐서 자체만으로는 각 축이 이미지 개수, 높이 폭을 의미한다는 사실을 알 수 없다. `텐서를 구성하는 각 축의 의미는 순전히 텐서를 만드는 우리가 정한다.` 파이토치 입장에서는 단지 수많은 숫자를 메모리에 저장한다고만 생각할 뿐이다."
      ]
    },
    {
      "cell_type": "code",
      "execution_count": 15,
      "metadata": {
        "colab": {
          "base_uri": "https://localhost:8080/"
        },
        "id": "sV92tpphBZME",
        "outputId": "d3d7aeb1-67e6-49a5-837f-5b5e3abc658f"
      },
      "outputs": [
        {
          "data": {
            "text/plain": [
              "torch.Size([28, 28])"
            ]
          },
          "execution_count": 15,
          "metadata": {},
          "output_type": "execute_result"
        }
      ],
      "source": [
        "stacked_threes[0].shape"
      ]
    },
    {
      "cell_type": "markdown",
      "metadata": {},
      "source": [
        "- 텐서의 `shape` 속성 길이는 `랭크`라고 표현한다."
      ]
    },
    {
      "cell_type": "code",
      "execution_count": 16,
      "metadata": {
        "colab": {
          "base_uri": "https://localhost:8080/"
        },
        "id": "yJyoQucry5TH",
        "outputId": "7ce4f4c0-914b-4570-9486-d905730739eb"
      },
      "outputs": [
        {
          "data": {
            "text/plain": [
              "3"
            ]
          },
          "execution_count": 16,
          "metadata": {},
          "output_type": "execute_result"
        }
      ],
      "source": [
        "len(stacked_threes.shape)"
      ]
    },
    {
      "cell_type": "markdown",
      "metadata": {},
      "source": [
        "- TIP: '차원'이라는 용어는 두 가지 뜻으로 사용되므로 주의해야 한다. 우리는 '3차원 공간'에 살고, 이 공간의 물리적 위치는 `길이가 3인 벡터 v 로 묘사할 수 있다.` 하지만 파이토치에서 해당 벡터의 `ndim` 속성값은 3이 아니라 1이다(v의 '차원 개수'처럼 보이지만). `v는 벡터라서 랭크가 1인 텐서이다.` 즉 해당 축의 길이가 3이어도 단 하나의 축만 존재한다. 다시 말해 `축의 크기`로 차원을 사용하기도 하지만(3차원 공간), `축의 개수 또는 랭크`로 사용할 때도 있다('두 차원'을 가지는 행렬)."
      ]
    },
    {
      "cell_type": "markdown",
      "metadata": {},
      "source": [
        "- 텐서에 관련된 용어를 외우고, 이해하고, 쓰임새를 연습해보는 일은 정말 중요하다. 랭크는 텐서의 차원 또는 축의 개수를 뜻하며, `shape`는 텐서 각 축의 크기를 표현한다.\n",
        "- `len()`함수를 사용하는 대신 `ndim` 속성으로 텐서의 랭크를 즉시 확인할 수 있다."
      ]
    },
    {
      "cell_type": "code",
      "execution_count": 17,
      "metadata": {
        "colab": {
          "base_uri": "https://localhost:8080/"
        },
        "id": "ksywF9q2y5TI",
        "outputId": "38c4754f-9a22-4277-ac9e-6d8fb6d8d516"
      },
      "outputs": [
        {
          "data": {
            "text/plain": [
              "3"
            ]
          },
          "execution_count": 17,
          "metadata": {},
          "output_type": "execute_result"
        }
      ],
      "source": [
        "stacked_threes.ndim"
      ]
    },
    {
      "cell_type": "markdown",
      "metadata": {},
      "source": [
        "- 쌓아 올린 랭크3 텐서에서 `0번째 차원의 평균`을 구해서 모든 이미지 텐서의 평균을 얻습니다. 0번째 차원은 이미지를 색인하는 차원(인덱스)이다. 다시 말해 이 계산은 28x28 크기의 이미지에서 각 픽셀 위치에 대한 `모든 이미지의 평균`을 구하고, 평균 픽셀값으로 구성된 `한장의 이미지`를 만든다."
      ]
    },
    {
      "cell_type": "code",
      "execution_count": 18,
      "metadata": {
        "colab": {
          "base_uri": "https://localhost:8080/",
          "height": 85
        },
        "id": "oxmITlEay5TI",
        "outputId": "04ccbb44-6b47-42d5-f870-2f6fcfd28cdb"
      },
      "outputs": [
        {
          "data": {
            "image/png": "[encoded data removed]",
            "text/plain": [
              "<Figure size 72x72 with 1 Axes>"
            ]
          },
          "metadata": {
            "needs_background": "light"
          },
          "output_type": "display_data"
        }
      ],
      "source": [
        "mean3 = stacked_threes.mean(0)\n",
        "show_image(mean3);"
      ]
    },
    {
      "cell_type": "markdown",
      "metadata": {},
      "source": [
        "- 인터넷에 올라오는 '한국인의 평균 얼굴 이미지'를 떠올리면 이 작업이 어떤 의미인지 이해가 될 것이다. 현재 주어진 학습 데이터내에서는 숫자 3을 가장 잘 표현하는(일반화된) 이미지이다. 모든 이미지에 대하여 공통적으로 어두운 부분은 매우 어둡고, 일부 이미지에서만 어두운 부분은 희미하고 흐릿하다.\n",
        "- 숫자 7에 대해서도 같은 작업을 한다."
      ]
    },
    {
      "cell_type": "code",
      "execution_count": 19,
      "metadata": {
        "colab": {
          "base_uri": "https://localhost:8080/",
          "height": 85
        },
        "id": "2wM7lhEEy5TI",
        "outputId": "5aa4f826-7fe7-43a6-b639-bffbf2fb94a4"
      },
      "outputs": [
        {
          "data": {
            "image/png": "[encoded data removed]",
            "text/plain": [
              "<Figure size 72x72 with 1 Axes>"
            ]
          },
          "metadata": {
            "needs_background": "light"
          },
          "output_type": "display_data"
        }
      ],
      "source": [
        "mean7 = stacked_sevens.mean(0)\n",
        "show_image(mean7);"
      ]
    },
    {
      "cell_type": "markdown",
      "metadata": {},
      "source": [
        "- 이제 임의의 숫자 3 이미지를 고른 다음 '이상적인 숫자들'과의 `거리`를 측정해본다."
      ]
    },
    {
      "cell_type": "code",
      "execution_count": 20,
      "metadata": {
        "colab": {
          "base_uri": "https://localhost:8080/",
          "height": 85
        },
        "id": "DfTZWNiXy5TJ",
        "outputId": "69f5d8c6-181a-4651-eaf8-3fb2293c18be"
      },
      "outputs": [
        {
          "data": {
            "image/png": "[encoded data removed]",
            "text/plain": [
              "<Figure size 72x72 with 1 Axes>"
            ]
          },
          "metadata": {
            "needs_background": "light"
          },
          "output_type": "display_data"
        }
      ],
      "source": [
        "a_3 = stacked_threes[1]\n",
        "show_image(a_3);"
      ]
    },
    {
      "cell_type": "markdown",
      "metadata": {},
      "source": [
        "- 이상적인 숫자 3과의 거리를 어떻게 결정할 것인가? `이상적인 숫자와의 픽셀 간 차이`를 단순히 더해서는 문제를 해결할 수 없다. 일부 차이에서는 양수, 다른 차이에서는 음수가 발생한다면 서로를 더했을 때 상쇄된다. 극단적으로는 차이를 더했을 때 0으로만 구성되는, 즉 이상적인 숫자와 차이가 없어 보이게 만드는 결과를 얻을지도 모른다. 그리하여 데이터 과학자는 주로 두 가지 방법으로 이 문제 현상을 방지한다.\n",
        "    - `차이의 절댓값에 대한 평균`을 구하는(음수를 양수화) 방법. `L1 노름` 또는 `평균절대오차, Mean Absolute Error(MAE)`라고 한다.\n",
        "    - `차이의 제곱(모든 수를 양수화)에 대한 평균의 제곱근`을 구하는 방법. `L2 노름` 또는 `평균제곱근오차, Root Mean Squared Error(RMSE)`라고 한다."
      ]
    },
    {
      "cell_type": "code",
      "execution_count": 21,
      "metadata": {
        "colab": {
          "base_uri": "https://localhost:8080/"
        },
        "id": "oJxCo_Sxy5TJ",
        "outputId": "2d6d1356-7b53-48ea-b280-92a0e673ffb2"
      },
      "outputs": [
        {
          "data": {
            "text/plain": [
              "(tensor(0.1114), tensor(0.2021))"
            ]
          },
          "execution_count": 21,
          "metadata": {},
          "output_type": "execute_result"
        }
      ],
      "source": [
        "dist_3_abs = (a_3 - mean3).abs().mean()\n",
        "dist_3_sqr = ((a_3 - mean3)**2).mean().sqrt()\n",
        "dist_3_abs, dist_3_sqr"
      ]
    },
    {
      "cell_type": "code",
      "execution_count": 22,
      "metadata": {
        "colab": {
          "base_uri": "https://localhost:8080/"
        },
        "id": "RZkC21qAy5TJ",
        "outputId": "24f0b81c-1b19-4332-e6db-d61177588fb6"
      },
      "outputs": [
        {
          "data": {
            "text/plain": [
              "(tensor(0.1586), tensor(0.3021))"
            ]
          },
          "execution_count": 22,
          "metadata": {},
          "output_type": "execute_result"
        }
      ],
      "source": [
        "dist_7_abs = (a_3 - mean7).abs().mean()\n",
        "dist_7_sqr = ((a_3 - mean7)**2).mean().sqrt()\n",
        "dist_7_abs, dist_7_sqr"
      ]
    },
    {
      "cell_type": "markdown",
      "metadata": {},
      "source": [
        "- 각 방법 모두에서 선택한 '임의의 숫자 3 이미지'는 이상적인 숫자 7보다 이상적인 숫자 3과의 거리가 더 짧다. 즉 간단히 만든 기준선 모델이 예측을 올바르게 수행했다고 볼 수 있다.\n",
        "- 파이토치는 이 두 방법에 대한 `손실 함수`를 제공한다. 각 손실 함수는 `torch.nn.functional` 에서 찾아볼 수 있다.\n",
        "    - 파이토치 제작팀은 이 모듈을 `F`라는 이름으로 `import` 하기를 권장하며, `fastai`도 이를 `F`로 `import` 한다."
      ]
    },
    {
      "cell_type": "code",
      "execution_count": 23,
      "metadata": {
        "colab": {
          "base_uri": "https://localhost:8080/"
        },
        "id": "dUOI8Z_6y5TJ",
        "outputId": "cd134446-2ddf-4fcf-fbe4-58caff209695"
      },
      "outputs": [
        {
          "data": {
            "text/plain": [
              "(tensor(0.1586), tensor(0.3021))"
            ]
          },
          "execution_count": 23,
          "metadata": {},
          "output_type": "execute_result"
        }
      ],
      "source": [
        "F.l1_loss(a_3.float(),mean7), F.mse_loss(a_3,mean7).sqrt()"
      ]
    },
    {
      "cell_type": "markdown",
      "metadata": {},
      "source": [
        "- `F.mse_loss()`는 `MSE, 평균제곱오차`, `F.l1_loss()`는 `MAE, 평균절대오차` 혹은 `L1 노름`을 의미한다.\n",
        "- TIP: 직관적으로 `RMSE`는 `MAE(L1 노름)`보다 실수에 더 강한 패널티를 부여한다고 볼 수 있다(반대로 작은 실수에는 더 관대)."
      ]
    },
    {
      "cell_type": "markdown",
      "metadata": {
        "id": "EaWPXYlmy5TJ"
      },
      "source": [
        "### NumPy Arrays and PyTorch Tensors\n",
        "- 넘파이 배열과 파이토치 텐서\n",
        "    - 파이썬은 다른 컴퓨터 언어보다 속도가 느리다. 파이썬에서 그나마 빠르다고 할만한 부분은 NumPy, PyTorch와 같은 라이브러리이다. 그런데 사실 이런 라이브러리는 파이썬이 아닌 다른 언어로 작성되었다. 최적화된 컴파일 단계로 만들어진 객체를 파이썬으로 래핑(lapping)한 것이다(넘파이 및 파이토치의 실제 구현체는 C로 작성됨). 실제로 넘파이 배열과 파이토치 텐서는 순수 파이썬 코드보다 수천 배 빠르게 계산한다.\n",
        "    - 비슷한 두 구조의 차이점\n",
        "        - 넘파이 배열은 `다차원 테이블`의 형태로 데이터를 담고, 배열 내의 모든 데이터는 같은 자료형을 따라야 한다. 이 제약사항만 맞춰주면 다양한 모습의 배열을 만들 수 있다. 가령 크기가 서로 다른 배열을 포함한 들쭉날쭉한(jagged) 배열을 정의할 수 있다. '다차원 테이블'이란 리스트(1차원), 테이블/행렬(2차원), 중첩 테이블/큐브(3차원) 이상의 모든 형상을 표현할 수 있음을 의미한다. 또한 넘파이는 내부적으로 모두 같은 자료형의 데이터(넘파이 자료구조의 제약사항)를 `C의 자료구조로 압축`하여 메모리에 저장한다. 여기가 바로 넘파이가 빛나는 부분이다. 이렇게 압축된 자료구조에 최적화된 C 코드로 작성된 다양한 연산자 및 메서드를 제공하여 빠른 속도를 보장한다.\n",
        "        - 파이토치 텐서는 넘파이 배열과 거의 같지만 추가 기능에 따른 제약사항이 있다. `동일 자료형 데이터가 있는 다차원 테이블`이라는 부분은 같지만, 기본적인 수치형 데이터만 사용할 수 있다. 또한 들쭉날쭉한 배열과 같은 구성도 불가능해서, 항상 크기가 일정한 직사각형 모양이어야 한다. 파이토치는 넘파이가 제공하는 대다수의 연산자 및 메서드를 같은 형식으로 지원한다. 또한 파이토치 텐서만의 능력이 더 있다(그래야만 파이토치 텐서를 쓰는 이유가 있지 않겠는가?). 그중 가장 중요한 능력은 파이토치 텐서를 GPU에 적재한다는 것이다. 그러면 넘파이보다 훨씬 더 빠른 GPU에 최적화된 계산을 할 수 있다. 또한 파이토치는 자동으로 미분(다양한 연산 조합에 대한 미분까지도)을 실행하여 미분계수(기울기, 경사도)를 계산할 수 있다."
      ]
    },
    {
      "cell_type": "code",
      "execution_count": 24,
      "metadata": {
        "id": "IaQxMYiiy5TJ"
      },
      "outputs": [],
      "source": [
        "data = [[1,2,3],[4,5,6]]\n",
        "arr = array(data)\n",
        "tns = tensor(data)"
      ]
    },
    {
      "cell_type": "code",
      "execution_count": 25,
      "metadata": {
        "colab": {
          "base_uri": "https://localhost:8080/"
        },
        "id": "EdcTT95Zy5TK",
        "outputId": "de976661-f0d3-4e58-e544-3219796b1bc1"
      },
      "outputs": [
        {
          "data": {
            "text/plain": [
              "array([[1, 2, 3],\n",
              "       [4, 5, 6]])"
            ]
          },
          "execution_count": 25,
          "metadata": {},
          "output_type": "execute_result"
        }
      ],
      "source": [
        "arr  # NumPy"
      ]
    },
    {
      "cell_type": "code",
      "execution_count": 26,
      "metadata": {
        "colab": {
          "base_uri": "https://localhost:8080/"
        },
        "id": "Nk-D5Z-Yy5TK",
        "outputId": "d8aeccee-d512-43ca-c3a6-66502eae3dec"
      },
      "outputs": [
        {
          "data": {
            "text/plain": [
              "tensor([[1, 2, 3],\n",
              "        [4, 5, 6]])"
            ]
          },
          "execution_count": 26,
          "metadata": {},
          "output_type": "execute_result"
        }
      ],
      "source": [
        "tns  # PyTorch"
      ]
    },
    {
      "cell_type": "code",
      "execution_count": 27,
      "metadata": {
        "colab": {
          "base_uri": "https://localhost:8080/"
        },
        "id": "GHKGq5Xiy5TK",
        "outputId": "4e179374-e2ec-462f-ec48-d8a928feb2ab"
      },
      "outputs": [
        {
          "data": {
            "text/plain": [
              "tensor([4, 5, 6])"
            ]
          },
          "execution_count": 27,
          "metadata": {},
          "output_type": "execute_result"
        }
      ],
      "source": [
        "tns[1]"
      ]
    },
    {
      "cell_type": "code",
      "execution_count": 28,
      "metadata": {
        "colab": {
          "base_uri": "https://localhost:8080/"
        },
        "id": "Y-k_2b9Ky5TK",
        "outputId": "ff128f5e-3157-4e96-e7d8-bed1f4f49a9f"
      },
      "outputs": [
        {
          "data": {
            "text/plain": [
              "tensor([2, 5])"
            ]
          },
          "execution_count": 28,
          "metadata": {},
          "output_type": "execute_result"
        }
      ],
      "source": [
        "tns[:,1]"
      ]
    },
    {
      "cell_type": "code",
      "execution_count": 29,
      "metadata": {
        "colab": {
          "base_uri": "https://localhost:8080/"
        },
        "id": "wEm5ac6jy5TK",
        "outputId": "e2a788d4-5904-4637-e84e-76b2b9639a33"
      },
      "outputs": [
        {
          "data": {
            "text/plain": [
              "tensor([5, 6])"
            ]
          },
          "execution_count": 29,
          "metadata": {},
          "output_type": "execute_result"
        }
      ],
      "source": [
        "tns[1,1:3]"
      ]
    },
    {
      "cell_type": "code",
      "execution_count": 30,
      "metadata": {
        "colab": {
          "base_uri": "https://localhost:8080/"
        },
        "id": "Y0JK7IUSy5TL",
        "outputId": "332819cd-1658-4bb3-ba8a-793532a37ce9"
      },
      "outputs": [
        {
          "data": {
            "text/plain": [
              "tensor([[2, 3, 4],\n",
              "        [5, 6, 7]])"
            ]
          },
          "execution_count": 30,
          "metadata": {},
          "output_type": "execute_result"
        }
      ],
      "source": [
        "tns+1"
      ]
    },
    {
      "cell_type": "code",
      "execution_count": 31,
      "metadata": {
        "colab": {
          "base_uri": "https://localhost:8080/",
          "height": 35
        },
        "id": "G3biVt55y5TL",
        "outputId": "a0d0108c-67ba-4125-e1c5-c047144e4ae8"
      },
      "outputs": [
        {
          "data": {
            "application/vnd.google.colaboratory.intrinsic+json": {
              "type": "string"
            },
            "text/plain": [
              "'torch.LongTensor'"
            ]
          },
          "execution_count": 31,
          "metadata": {},
          "output_type": "execute_result"
        }
      ],
      "source": [
        "tns.type()"
      ]
    },
    {
      "cell_type": "markdown",
      "metadata": {},
      "source": [
        "- 텐서에는 자료형이 있다. 그리고 필요하면 자동으로 자료형을 바꾼다. 다음은 정수에서 부동소수로 자료형이 자동으로 바뀌는 예이다."
      ]
    },
    {
      "cell_type": "code",
      "execution_count": 32,
      "metadata": {
        "colab": {
          "base_uri": "https://localhost:8080/"
        },
        "id": "e72yYIaCy5TL",
        "outputId": "1372c78a-f92b-425b-8cd6-948d4f24b52c"
      },
      "outputs": [
        {
          "data": {
            "text/plain": [
              "(tensor([[1.5000, 3.0000, 4.5000],\n",
              "         [6.0000, 7.5000, 9.0000]]), 'torch.FloatTensor')"
            ]
          },
          "execution_count": 32,
          "metadata": {},
          "output_type": "execute_result"
        }
      ],
      "source": [
        "tns*1.5, (tns*1.5).type()"
      ]
    },
    {
      "cell_type": "markdown",
      "metadata": {
        "id": "4RsOnlv4y5TL"
      },
      "source": [
        "## Computing Metrics Using Broadcasting\n",
        "- 브로드캐스팅으로 평가지표 계산하기\n",
        "    - `평가지표`란 데이터셋에 표기된 올바른 레이블(객체 검출분야에서는 이를 `ground truth`라고 표현함)과 모델이 도출한 예측을 비교해서 모델이 얼마나 좋은지를 `사용자`가 평가하는 단일 숫자이다. 예를 들어 앞서 본 평균제곱오차, 평균절대오차, 전체 평균을 구하는 함수를 평가지표로 사용할 수도 있겠으나, 세 지표 모두 사람이 직관적으로 이해하기는 쉽지 않으므로 보통 `정확도(accuracy)`를 분류 모델 평가지표로 사용한다.\n",
        "    - 우리가 평가지표를 계산하려는 대상은 `검증용 데이터셋(validation set)`이다. 즉 모델이 훈련용 데이터로 학습한 후 검증용 데이터를 이용하여 예측을 수행한 것을 해당 검증용 데이터의 올바른 레이블과 비교하여 평가지표를 계산한다. 그 이유는 의도치 않게 학습용 데이터셋에서만 잘 작동하는 `과적합(overfit)`을 피하기 위함이다. 첫 번째 시도로 만든 픽셀 유사도 모델은 학습이라는 요소가 전혀 없어서 이런 문제가 없었다. 하지만 모델은 대부분 학습으로 구축되기 때문에 관례적으로 검증용 데이터셋을 사용한다. 이 관례를 따르는 두 번째 시도를 준비하는 일환으로 검증용 데이터셋을 사용한다.\n",
        "    - 검증용 데이터셋을 얻으려면 학습에 사용되는 일부 데이터를 완전히 제거해야 한다. 혹은 검증용 데이터셋을 따로 구축하여 사용해야 한다. 그래야만 모델이 전혀 본 적 없는 데이터를 예측 함으로써 좀 더 객관화된 결과를 얻을 수 있다."
      ]
    },
    {
      "cell_type": "code",
      "execution_count": 33,
      "metadata": {
        "colab": {
          "base_uri": "https://localhost:8080/"
        },
        "id": "-cNAOChry5TL",
        "outputId": "7c0d86db-69ae-4300-a7ec-7c2cc592a7ad"
      },
      "outputs": [
        {
          "data": {
            "text/plain": [
              "(torch.Size([1010, 28, 28]), torch.Size([1028, 28, 28]))"
            ]
          },
          "execution_count": 33,
          "metadata": {},
          "output_type": "execute_result"
        }
      ],
      "source": [
        "valid_3_tens = torch.stack([tensor(Image.open(o)) \n",
        "                            for o in (path/'valid'/'3').ls()])\n",
        "valid_3_tens = valid_3_tens.float()/255\n",
        "valid_7_tens = torch.stack([tensor(Image.open(o)) \n",
        "                            for o in (path/'valid'/'7').ls()])\n",
        "valid_7_tens = valid_7_tens.float()/255\n",
        "valid_3_tens.shape, valid_7_tens.shape"
      ]
    },
    {
      "cell_type": "markdown",
      "metadata": {},
      "source": [
        "- 위 코드에서 보다시피 크기가 28x28인 1,010장의 숫자 3에 대한 검증용 이미지, 크기가 28x28인 1,010장의 숫자 7에 대한 검증용 이미지를 표현하는 두 텐서를 만들었다.\n",
        "- 궁극적인 목표는 임의로 입력된 이미지가 3 또는 7인지를 판단하는 함수를 만드는 것이다. 즉 임의의 이미지가 '이상적인 숫자' 두 개 중 어느 쪽에 더 가까운지를 결정하는 역할을 한다. 여기서는 이 함수를 `is_3` 라는 이름으로 정의한다. 그리고 이 함수를 만들려면 두 이미지 사이의 거리를 계산해야 하므로, 우선 거리의 개념부터 정의해야 한다.\n",
        "- `is_3` 함수가 반환하는 결괏값은 이전에 살펴본 평균절대오차(MAE)와 매우 유사한 형태로 숫자 3과 7을 결정하는 거리를 계산한 결과를 반환한다."
      ]
    },
    {
      "cell_type": "code",
      "execution_count": 34,
      "metadata": {
        "colab": {
          "base_uri": "https://localhost:8080/"
        },
        "id": "7jjhVG85y5TL",
        "outputId": "31401915-1f0e-4a59-99c6-ec856299c7d1"
      },
      "outputs": [
        {
          "data": {
            "text/plain": [
              "tensor(0.1114)"
            ]
          },
          "execution_count": 34,
          "metadata": {},
          "output_type": "execute_result"
        }
      ],
      "source": [
        "def mnist_distance(a, b):\n",
        "    return (a-b).abs().mean((-1, -2))\n",
        "\n",
        "mnist_distance(a_3, mean3)"
      ]
    },
    {
      "cell_type": "markdown",
      "metadata": {},
      "source": [
        "- `a_3`와 `mean3`는 단일 이미지를 표현하는 텐서이다. 각각 임의의 숫자 3, 이상적인 숫자 3을 표현하며, 둘 다 [28, 28] 모양이다. 그리고 계산 결과는 앞서 계산된 두 이미지 사이의 거리와 같음을 볼 수 있다.\n",
        "- 그런데 전체 이미지에 대한 평가지표를 계산하려면, 검증용 데이터셋 내 `모든 이미지`와 이상적인 숫자 3 이미지의 거리를 계산해야만 한다. 이런 계산은 단순히 생각해봤을 때, 반복문을 통해서 검증용 데이터셋을 담은 [1028, 28, 28] 모양의 텐서 `valid_3_tens`에 반복 접근하여, 한 번에 개별 이미지 텐서 하나씩 접근하여 거리를 계산해야 할 것만 같다. 하지만 이보다 더 나은 방법이 넘파이 배열이나 파이토치의 텐서에는 존재한다. 바로 숫자 3의 검증용 데이터셋을 나타내는 텐서 `valid_3_tens`를 통째로 `mnist_distance` 함수에 넣어주는 것이다."
      ]
    },
    {
      "cell_type": "code",
      "execution_count": 35,
      "metadata": {
        "colab": {
          "base_uri": "https://localhost:8080/"
        },
        "id": "lDHxOjc2y5TM",
        "outputId": "12d2e3a4-d286-4f69-d95c-6151ec05ee95"
      },
      "outputs": [
        {
          "data": {
            "text/plain": [
              "(tensor([0.1195, 0.1406, 0.1257,  ..., 0.1160, 0.1358, 0.1436]),\n",
              " torch.Size([1010]))"
            ]
          },
          "execution_count": 35,
          "metadata": {},
          "output_type": "execute_result"
        }
      ],
      "source": [
        "valid_3_dist = mnist_distance(valid_3_tens, mean3)\n",
        "valid_3_dist, valid_3_dist.shape"
      ]
    },
    {
      "cell_type": "markdown",
      "metadata": {},
      "source": [
        "- 모양 불일치 에러가 발생하지 않고 모든 이미지에 대해 측정한 거리를 담는 길이가 1,010인 벡터를 반환한다. 여기서 생각해볼것은 위 결과가 바로 이전에 설명했던대로 검증용 데이터셋의 이미지에 각각 접근하여 이상적인 숫자 3 이미지와의 거리를 각각 계산한 결과를 반환했다는 것이다. 어떻게 이런 일이 일어났을까?\n",
        "- `mnist_distance` 함수 내부에는 뺄셈하는 부분인 `(a-b)`가 있다. 이 부분이 파이토치로 랭크가 서로 다른 두 텐서 간의 연산을 수행할 때 발생하는 `브로드캐스팅`에 기인한다. 브로드캐스팅은 더 낮은 랭크의 텐서를 더 높은 랭크의 텐서와 같은 크기로 자동 확장한다. 이는 텐서를 사용한 코드를 훨씬 쉽고 간결하게 만들어주는 매우 중요한 기능이다. 물론 속도도 반복문을 사용했을 때보다 더 빠르다.\n",
        "    - 입력 받은 랭크가 서로 다른 두 텐서를 같은 랭크로 만들어주는 브로드캐스팅이 일어난 후, 파이토치는 랭크가 같은 두 텐서에 평상시와 같은 로직을 적용한다. 즉 두 텐서의 서로 대응되는 요소에 연산을 수행하여 얻는 텐서를 결과로 반환한다. 아래는 이를 보여주는 간단한 예시이다."
      ]
    },
    {
      "cell_type": "code",
      "execution_count": 36,
      "metadata": {
        "colab": {
          "base_uri": "https://localhost:8080/"
        },
        "id": "Rgim_a_sy5TM",
        "outputId": "de1f7c1d-5572-4172-cfb1-874f5c40bea9"
      },
      "outputs": [
        {
          "data": {
            "text/plain": [
              "tensor([2, 3, 4])"
            ]
          },
          "execution_count": 36,
          "metadata": {},
          "output_type": "execute_result"
        }
      ],
      "source": [
        "tensor([1,2,3]) + tensor(1)"
      ]
    },
    {
      "cell_type": "markdown",
      "metadata": {},
      "source": [
        "- 파이토치는 단일 이미지를 표현하는 랭크2 텐서인 `mean3`에 복사본 이미지가 1,010장 있다고 `취급`하여 검증용 데이터셋 내의 각 이미지와 복사본 이미지에서 뺄셈을 수행한다. 그 결과로 얻은 텐서의 모양은 다음과 같다.\n",
        "    - 이상적인 숫자 3과 검증용 데이터셋의 모든 숫자3 이미지 간의 차이를 계산한 결과로 얻은 텐서의 모양은 [1028, 28, 28]이다.\n",
        "- 성능, 표현성 측면에서 모두 뛰어난 브로드캐스팅을 구현할 때 중요한 고려사항이 두 가지 있다.\n",
        "    - 사실 파이토치는 `mean3`을 1,010번 복사하지 않는다. `그 모양의 텐서인 척`하지만, 실제로 메모리를 추가 할당하지는 않는다.\n",
        "    - 실제 모든 계산은 C로 수행된다(GPU가 있고 CUDA를 설치했다면, GPU를 활용하는 C 코드가 수행된다). 순수 파이썬보다 수만 배 빠르며, GPU 사용시 수백만 배 빠르게 계산을 수행한다."
      ]
    },
    {
      "cell_type": "code",
      "execution_count": 37,
      "metadata": {
        "colab": {
          "base_uri": "https://localhost:8080/"
        },
        "id": "M-jiV0b8y5TM",
        "outputId": "184a8999-750e-4d71-e74c-86f674bb6296"
      },
      "outputs": [
        {
          "data": {
            "text/plain": [
              "torch.Size([1010, 28, 28])"
            ]
          },
          "execution_count": 37,
          "metadata": {},
          "output_type": "execute_result"
        }
      ],
      "source": [
        "(valid_3_tens - mean3).shape"
      ]
    },
    {
      "cell_type": "markdown",
      "metadata": {},
      "source": [
        "```python\n",
        "def mnist_distance(a, b):\n",
        "    return (a-b).abs().mean((-1, -2))\n",
        "```\n",
        "- 이제 `mnist_distance` 함수에서 `.abs()` 부분을 살펴보면 텐서내 개별 요소(여기서는 이미지의 각 픽셀을 의미)마다 `abs`메서드가 적용되어 새로운 텐서를 반환한다. 즉 `abs`메서드는 `요소별로` 적용된다. 따라서 절댓값으로 바뀐 값(28x28) 1,010개로 구성된 텐서를 얻는다.\n",
        "- `mnist_distance` 함수는 마지막으로 `.mean(-1, -2)` 를 호출한다. `(-1, -2)` 튜플은 축의 범위를 의미한다. 즉 이미지의 가러와 세로에 대해서만 범위를 지정했으므로, 이 코드는 이미지 텐서의 가로와 세로의 모든 값에 대한 평균을 구하는 작업을 수행한다. 마지막 두 축에서 평균을 구한 결과로 얻는 텐서에는 이미지의 인덱스를 담당한 첫 번째 축만 남게 된다. 최종적으로 얻은 텐서의 크기가 [1010]인 이유이다. 즉 모든 이미지에 대해 각 이미지의 픽셀 강도평균을 구한것이다.\n",
        "- `mnist_distance` 함수를 '만약 특정 숫자 이미지와 이상적인 숫자 3과의 거리가 이상적인 숫자 7과의 거리보다 짧다면, 그 숫자 이미지를 3이라고 판단하는' 로직에 활용하면 이미지가 숫자 3인지 혹은 7인지를 알아낼 수 있다. 이 함수는 모든 파이토치의 함수와 연산자처럼 자동으로 브로드캐스팅을 수행하고 요소별로 적용될 수 있다."
      ]
    },
    {
      "cell_type": "code",
      "execution_count": 38,
      "metadata": {
        "id": "FZbBbsDty5TM"
      },
      "outputs": [],
      "source": [
        "def is_3(x):\n",
        "    return mnist_distance(x, mean3) < mnist_distance(x, mean7)"
      ]
    },
    {
      "cell_type": "markdown",
      "metadata": {},
      "source": [
        "- 예시를 들어 임의의 숫자3 단일 이미지를 `is_3` 함수에 넣어보자"
      ]
    },
    {
      "cell_type": "code",
      "execution_count": 39,
      "metadata": {
        "colab": {
          "base_uri": "https://localhost:8080/"
        },
        "id": "KmGvxp8hy5TM",
        "outputId": "c1e9ef0d-aa37-468e-8625-5b627c8190ce"
      },
      "outputs": [
        {
          "data": {
            "text/plain": [
              "(tensor(True), tensor(1.))"
            ]
          },
          "execution_count": 39,
          "metadata": {},
          "output_type": "execute_result"
        }
      ],
      "source": [
        "is_3(a_3), is_3(a_3).float()"
      ]
    },
    {
      "cell_type": "markdown",
      "metadata": {},
      "source": [
        "- `is_3` 함수는 결과로 불리언값을 반환하는데, 이를 `float`메서드로 부동소수화하면 `True`와 `False`에서 각각 `1.0`과 `0.0`을 얻는다.\n",
        "- 또한 브로드캐스팅 덕분에 검증용 데이터셋의 모든 숫자 3 이미지에서도 적용시켜볼 수 있다."
      ]
    },
    {
      "cell_type": "code",
      "execution_count": 40,
      "metadata": {
        "colab": {
          "base_uri": "https://localhost:8080/"
        },
        "id": "wf8rd7Mky5TM",
        "outputId": "27b9d592-8a44-43f6-87b2-a347636207b1"
      },
      "outputs": [
        {
          "data": {
            "text/plain": [
              "tensor([True, True, True,  ..., True, True, True])"
            ]
          },
          "execution_count": 40,
          "metadata": {},
          "output_type": "execute_result"
        }
      ],
      "source": [
        "is_3(valid_3_tens)"
      ]
    },
    {
      "cell_type": "markdown",
      "metadata": {},
      "source": [
        "- 이제 모든 준비가 끝났으니 `is_3` 함수를 이용하여 검증용 데이터셋의 모든 숫자 3과 7에 대한 평균을 계산해서 각각의 이미지가 어떤 숫자인지 판단하고 그에 대한 정확도를 계산할 수 있다."
      ]
    },
    {
      "cell_type": "code",
      "execution_count": 41,
      "metadata": {
        "colab": {
          "base_uri": "https://localhost:8080/"
        },
        "id": "qSSQI_KWy5TN",
        "outputId": "83881485-996c-47c9-fc40-e3020d65659e"
      },
      "outputs": [
        {
          "data": {
            "text/plain": [
              "(tensor(0.9168), tensor(0.9854), tensor(0.9511))"
            ]
          },
          "execution_count": 41,
          "metadata": {},
          "output_type": "execute_result"
        }
      ],
      "source": [
        "accuracy_3s = is_3(valid_3_tens).float().mean()\n",
        "accuracy_7s = (1 - is_3(valid_7_tens).float()).mean()\n",
        "\n",
        "accuracy_3s, accuracy_7s, (accuracy_3s + accuracy_7s) / 2"
      ]
    },
    {
      "cell_type": "markdown",
      "metadata": {
        "id": "_rSp6y2ny5TN"
      },
      "source": [
        "## Stochastic Gradient Descent (SGD) - 확률적 경사 하강법\n",
        "\n",
        "- 아서 사무엘이 묘사한 머신러닝: `\"실제 성능적 관점에서 현재 할당된 모든 가중치의 유효성을 자동으로 검증하는 수단이 있으며, 성능을 최대화하는 방향으로 할당된 가중치를 수정해나가는 매커니즘이 존재한다고 가정해봅시다. 그렇다면 전체를 자동화하는 과정을 살세히 이해할 필요 없이, 단지 컴퓨터가 경험으로부터 '학습'하며 프로그래밍되는 것을 지켜보기만 하면 됩니다.\"`\n",
        "- 이 부분이 바로 학습을 통해서 모델이 계속 더 나아지는 비결이다. 그런데 앞서 만든 기준점(픽셀 유사도 방식)은 이런 학습의 과정을 전혀 수행하지 않는다. 가중치 할당, 할당된 가중치의 유효성 판단에 기반해 성능을 향상하는 방식을 제공하지 않는다. 즉 파라미터 조정을 사용한 픽셀유사도 방식의 개선이 불가능하다. 딥러닝의 능력을 이용하려면, 사무엘이 묘사한 방식대로 풀고자 하는 문제를 정의해야만 한다.\n",
        "- 특정 이미지와 '이상적인 이미지' 사이의 유사도를 찾는 대신, 개별 픽셀마다 가중치를 설정하고 숫자를 표현하는 검은색 픽셀의 가중치를 높이는 방법을 생각해보자. 가령 숫자 7 이미지 우측 하단에 위치한 픽셀은 활성화될 가능성이 매우 낮지만, 숫자 3 이미지라면 해당 부분이 높은 확률로 활성화될 것이라고 예측할 수 있다. 따라서 이미지 우측 하단 픽셀들의 가중치는 숫자 7에서는 낮게, 숫자 3에서는 높게 매겨진다. 이 과정은 이미지 픽셀(x)과 각 픽셀에 대한 가중치(w)를 입력받는 함수로 표현할 수 있다.\n",
        "- 예시로 아래 셀의 코드는 숫자 3이 될 확률을 표현한다."
      ]
    },
    {
      "cell_type": "code",
      "execution_count": 42,
      "metadata": {
        "id": "fG0p1xt1rMSj"
      },
      "outputs": [],
      "source": [
        "def pr_three(x, w):\n",
        "    return (x*w).sum()"
      ]
    },
    {
      "cell_type": "markdown",
      "metadata": {},
      "source": [
        "- 여기서 이미지를 나타내는 벡터 `x`는 2차원으로 표현된 픽셀의 각 행을 이어붙인 1차원의 긴 배열이라고 가정한다. 그리고 `w`는 가중치 벡터이다. 함수를 정의한 다음에는 가중치를 약간씩 조정하는 방법을 생각해봐야 한다. 그래야 충분할 떄까지 가중치 조정 과정을 여러 번 반복하며 더 나은 가중치를 얻을 수 있다.\n",
        "- 좀 더 구체적으로 알아본다면 다음과 같다. 이는 위에서 작성한 함수를 머신러닝 분류 모델로 만드는 데 필요한 단계이다. 다시 말해 아직 딥러닝을 사용한 훈련을 하는 것이 아닌 간단한 함수를 통해 '머신러닝 분류 모델'을 만드는 실습을 진행하는 것이다.\n",
        "    1. 가중치를 `초기화(initialize)`한다.\n",
        "    2. 현재 가중치로 이미지가 3 또는 7인지를 `예측(predict)`한다.\n",
        "    3. 예측한 결과로 모델이 얼마나 좋은지 계산한다(정답 레이블과의 `손실` 측정)\n",
        "    4. 가중치 갱신 정도가 손실에 미치는 영향을 측정하는 `그래디언트(경사도 or 기울기, gradient)`를 계산한다.\n",
        "    5. 4번 단계에서 계산한 그래디언트로 가중치의 값을 `한 단계(step)` 조정한다.\n",
        "    6. 2번 단계로 돌아가서 2~5 과정을 `반복(repeat)`한다.\n",
        "    7. 학습 과정을 `멈춰도 좋다`는 판단이 설 떄까지 계속해서 반복한다.\n",
        "        - 멈춰도 좋다라는 판단 기준은 `모델 성능이 충분`하다고 판단하거나, 시간상 제약으로 멈춰야 할지도 모른다.\n",
        "        - 모델 성능이 충분하다는 의미는 `모델의 정확도가 높아지다가 낮아지는 시점(변곡점)`을 말한다.\n",
        "- 위 7단계는 `모든 딥러닝 모델을 학습시키는 핵심 과정`이며 아래 이미지에서도 묘사되고 있다."
      ]
    },
    {
      "cell_type": "code",
      "execution_count": 43,
      "metadata": {
        "colab": {
          "base_uri": "https://localhost:8080/",
          "height": 125
        },
        "id": "wK90It6ey5TN",
        "outputId": "a7ecea98-0e0a-47ea-d1f6-8ff9a59c7c21"
      },
      "outputs": [
        {
          "data": {
            "image/svg+xml": "<?xml version=\"1.0\" encoding=\"UTF-8\" standalone=\"no\"?>\n<!DOCTYPE svg PUBLIC \"-//W3C//DTD SVG 1.1//EN\"\n \"http://www.w3.org/Graphics/SVG/1.1/DTD/svg11.dtd\">\n<!-- Generated by graphviz version 2.40.1 (20161225.0304)\n -->\n<!-- Title: G Pages: 1 -->\n<svg width=\"597pt\" height=\"78pt\"\n viewBox=\"0.00 0.00 596.69 78.00\" xmlns=\"http://www.w3.org/2000/svg\" xmlns:xlink=\"http://www.w3.org/1999/xlink\">\n<g id=\"graph0\" class=\"graph\" transform=\"scale(1 1) rotate(0) translate(4 74)\">\n<title>G</title>\n<polygon fill=\"#ffffff\" stroke=\"transparent\" points=\"-4,4 -4,-74 592.6863,-74 592.6863,4 -4,4\"/>\n<!-- init -->\n<g id=\"node1\" class=\"node\">\n<title>init</title>\n<ellipse fill=\"none\" stroke=\"#000000\" cx=\"27\" cy=\"-18\" rx=\"27\" ry=\"18\"/>\n<text text-anchor=\"middle\" x=\"27\" y=\"-14.3\" font-family=\"Times,serif\" font-size=\"14.00\" fill=\"#000000\">init</text>\n</g>\n<!-- predict -->\n<g id=\"node2\" class=\"node\">\n<title>predict</title>\n<ellipse fill=\"none\" stroke=\"#000000\" cx=\"127.3968\" cy=\"-18\" rx=\"36.2938\" ry=\"18\"/>\n<text text-anchor=\"middle\" x=\"127.3968\" y=\"-14.3\" font-family=\"Times,serif\" font-size=\"14.00\" fill=\"#000000\">predict</text>\n</g>\n<!-- init&#45;&gt;predict -->\n<g id=\"edge1\" class=\"edge\">\n<title>init&#45;&gt;predict</title>\n<path fill=\"none\" stroke=\"#000000\" d=\"M54.1688,-18C62.3543,-18 71.5827,-18 80.6596,-18\"/>\n<polygon fill=\"#000000\" stroke=\"#000000\" points=\"80.7795,-21.5001 90.7795,-18 80.7795,-14.5001 80.7795,-21.5001\"/>\n</g>\n<!-- loss -->\n<g id=\"node3\" class=\"node\">\n<title>loss</title>\n<ellipse fill=\"none\" stroke=\"#000000\" cx=\"227.7935\" cy=\"-52\" rx=\"27\" ry=\"18\"/>\n<text text-anchor=\"middle\" x=\"227.7935\" y=\"-48.3\" font-family=\"Times,serif\" font-size=\"14.00\" fill=\"#000000\">loss</text>\n</g>\n<!-- predict&#45;&gt;loss -->\n<g id=\"edge2\" class=\"edge\">\n<title>predict&#45;&gt;loss</title>\n<path fill=\"none\" stroke=\"#000000\" d=\"M157.5191,-28.2011C168.9806,-32.0826 182.1139,-36.5303 193.9014,-40.5222\"/>\n<polygon fill=\"#000000\" stroke=\"#000000\" points=\"192.8259,-43.8532 203.4202,-43.7458 195.0713,-37.2231 192.8259,-43.8532\"/>\n</g>\n<!-- gradient -->\n<g id=\"node4\" class=\"node\">\n<title>gradient</title>\n<ellipse fill=\"none\" stroke=\"#000000\" cx=\"365.7399\" cy=\"-52\" rx=\"40.8928\" ry=\"18\"/>\n<text text-anchor=\"middle\" x=\"365.7399\" y=\"-48.3\" font-family=\"Times,serif\" font-size=\"14.00\" fill=\"#000000\">gradient</text>\n</g>\n<!-- loss&#45;&gt;gradient -->\n<g id=\"edge3\" class=\"edge\">\n<title>loss&#45;&gt;gradient</title>\n<path fill=\"none\" stroke=\"#000000\" d=\"M255.0473,-52C272.0415,-52 294.4481,-52 314.6545,-52\"/>\n<polygon fill=\"#000000\" stroke=\"#000000\" points=\"314.671,-55.5001 324.671,-52 314.671,-48.5001 314.671,-55.5001\"/>\n</g>\n<!-- step -->\n<g id=\"node5\" class=\"node\">\n<title>step</title>\n<ellipse fill=\"none\" stroke=\"#000000\" cx=\"470.6863\" cy=\"-18\" rx=\"27\" ry=\"18\"/>\n<text text-anchor=\"middle\" x=\"470.6863\" y=\"-14.3\" font-family=\"Times,serif\" font-size=\"14.00\" fill=\"#000000\">step</text>\n</g>\n<!-- gradient&#45;&gt;step -->\n<g id=\"edge4\" class=\"edge\">\n<title>gradient&#45;&gt;step</title>\n<path fill=\"none\" stroke=\"#000000\" d=\"M398.9456,-41.2422C410.9558,-37.3512 424.5297,-32.9536 436.6132,-29.0388\"/>\n<polygon fill=\"#000000\" stroke=\"#000000\" points=\"437.9112,-32.2975 446.3457,-25.8857 435.7537,-25.6382 437.9112,-32.2975\"/>\n</g>\n<!-- step&#45;&gt;predict -->\n<g id=\"edge6\" class=\"edge\">\n<title>step&#45;&gt;predict</title>\n<path fill=\"none\" stroke=\"#000000\" d=\"M443.4266,-18C384.9297,-18 246.7861,-18 174.0495,-18\"/>\n<polygon fill=\"#000000\" stroke=\"#000000\" points=\"173.8098,-14.5001 163.8098,-18 173.8097,-21.5001 173.8098,-14.5001\"/>\n<text text-anchor=\"middle\" x=\"289.7935\" y=\"-21.8\" font-family=\"Times,serif\" font-size=\"14.00\" fill=\"#000000\">repeat</text>\n</g>\n<!-- stop -->\n<g id=\"node6\" class=\"node\">\n<title>stop</title>\n<ellipse fill=\"none\" stroke=\"#000000\" cx=\"561.6863\" cy=\"-18\" rx=\"27\" ry=\"18\"/>\n<text text-anchor=\"middle\" x=\"561.6863\" y=\"-14.3\" font-family=\"Times,serif\" font-size=\"14.00\" fill=\"#000000\">stop</text>\n</g>\n<!-- step&#45;&gt;stop -->\n<g id=\"edge5\" class=\"edge\">\n<title>step&#45;&gt;stop</title>\n<path fill=\"none\" stroke=\"#000000\" d=\"M497.9893,-18C506.2676,-18 515.508,-18 524.3268,-18\"/>\n<polygon fill=\"#000000\" stroke=\"#000000\" points=\"524.4026,-21.5001 534.4025,-18 524.4025,-14.5001 524.4026,-21.5001\"/>\n</g>\n</g>\n</svg>\n",
            "text/plain": [
              "<graphviz.files.Source at 0x7f3c4d2f1f50>"
            ]
          },
          "execution_count": 43,
          "metadata": {},
          "output_type": "execute_result"
        }
      ],
      "source": [
        "gv('''\n",
        "init->predict->loss->gradient->step->stop\n",
        "step->predict[label=repeat]\n",
        "''')"
      ]
    },
    {
      "cell_type": "markdown",
      "metadata": {
        "id": "sWmOHn6urlUF"
      },
      "source": [
        "- 위 이미지 상에서 딥러닝의 각 단계를 달성하는 다양한 방법은 딥러닝 실무자들 간의 큰 차이를 만드는 세부 사항이지만, 각 단계의 일반적인 접근법에는 기본 원칙이 존재한다.\n",
        "    - 초기화\n",
        "        - 파라미터의 값을 무작위로 초기화한다. 무작위라는 점이 황당하게 들릴지도 모른다. 물론 특정 범주에서 활성화되는 픽셀의 비율에 따른 초기화 등 다른 방법을 생각해볼 수도 있다. 하지만 앞서 배운 가중치를 개선하는 일련의 과정을 거치면 무작위로 초기화된 가중치가 꽤 잘 작동하는 방향으로 갱신된다.\n",
        "    - 손실\n",
        "        - 실제 성능 측면에서 현재 할당된 가중치의 유효성 검증에 관해 사무엘이 언급한 내용이다. 여기에는 `모델의 성능이 좋을 때 낮은 값을 반환`하는 함수가 필요하다.(일반적으로 적은 손실은 좋고 큰 손실은 나쁘다고 취급한다.)\n",
        "    - 가중치 단계 갱신\n",
        "        - 가중치를 약간 크게 또는 작게 조정해야 하는지를 알아내는 간단한 방법은 일단 시도하는 것이다. 가중치를 약간씩 조정하고 손실의 변화를 관찰하면 된다. 일단 올바른 방향을 찾으면, 잘 작동하는 크기를 찾을 때까지 좀 더 크거나 작은 크기로 바꿔주는 시도를 해볼 수 있다. 하지만 이 과정은 하나씩 건드리며 진행하므로 느릴 수밖에 없다. 그 대신 `미적분학을 사용하여 그래디언트를 계산하면 방향을 즉시 알 수 있으며, 크기를 조금씩 바꾸는 방식을 사용하지 않아도 개략적으로 가중치를 얼마나 갱신해야 하는지를 알 수 있다.` 이는 단순히 성능 최적화 문제로, 수작업으로 천천히 계산하더라도 같은 결과를 얻을 수는 있다.\n",
        "    - 훈련 종료\n",
        "        - 모델을 학습할 에포크 횟수를 정하고 적용한다. 숫자 분류 모델 예제에서는 `모델의 정확도가 높아지다가 낮아지는 시점`까지, 또는 시간이 부족한 시점까지 계속해서 학습을 수행한다."
      ]
    },
    {
      "cell_type": "markdown",
      "metadata": {},
      "source": [
        "- 위와 같은 단계를 이미지 분류 문제에 적용하기 전에 좀 더 간단한 예를 들어 실습해본다. 일단 매우 간단한 2차 함수를 정의한다. 그리고 이 함수를 손실 함수, `x`를 함수의 가중치 파라미터라고 가정한다."
      ]
    },
    {
      "cell_type": "code",
      "execution_count": 44,
      "metadata": {
        "id": "Uw7IJ7tDy5TN"
      },
      "outputs": [],
      "source": [
        "def f(x): return x**2"
      ]
    },
    {
      "cell_type": "markdown",
      "metadata": {},
      "source": [
        "- 아래 이미지는 `f(x) = x**2` 함수의 그래프이다."
      ]
    },
    {
      "cell_type": "code",
      "execution_count": 45,
      "metadata": {
        "colab": {
          "base_uri": "https://localhost:8080/",
          "height": 285
        },
        "id": "ehXYypeAy5TN",
        "outputId": "0c4cc550-f35f-4e17-b204-90a05d54fe62"
      },
      "outputs": [
        {
          "data": {
            "image/png": "[encoded data removed]",
            "text/plain": [
              "<Figure size 432x288 with 1 Axes>"
            ]
          },
          "metadata": {
            "needs_background": "light"
          },
          "output_type": "display_data"
        }
      ],
      "source": [
        "plot_function(f, 'x', 'x**2')"
      ]
    },
    {
      "cell_type": "markdown",
      "metadata": {},
      "source": [
        "- 앞서 설명한 과정의 시작 부분(파라미터 초기화)처럼 임의의 파라미터값을 선택하고 손실값을 계산한다."
      ]
    },
    {
      "cell_type": "code",
      "execution_count": 46,
      "metadata": {
        "colab": {
          "base_uri": "https://localhost:8080/",
          "height": 285
        },
        "id": "KZHP1Jxgy5TN",
        "outputId": "ba4aa368-f15a-4fb3-c1c2-582f3c69f2de"
      },
      "outputs": [
        {
          "data": {
            "image/png": "[encoded data removed]",
            "text/plain": [
              "<Figure size 432x288 with 1 Axes>"
            ]
          },
          "metadata": {
            "needs_background": "light"
          },
          "output_type": "display_data"
        }
      ],
      "source": [
        "plot_function(f, 'x', 'x**2')\n",
        "plt.scatter(-1.5, f(-1.5), color='red');"
      ]
    },
    {
      "cell_type": "markdown",
      "metadata": {},
      "source": [
        "- 그리고 파라미터를 약간씩 크거나 작게 `조정(adjustment)`했을 때 일어나는 일을 살펴보면, 우선 임의로 선택한 특정 지점의 기울기를 구해서 조정의 방향을 정한다.<br>\n",
        "<br>\n",
        "- <img src=\"images/grad_illustration.svg\" style=\"background-color:white\">\n",
        "- 그런 다음 기울기 방향에 따라서 가중치를 약간 바꾼다. 그 후 다시 손실을 계산하고 가중치를 조정하는 과정을 수차례 반복하다 보면, 결국 2차 함수 곡선의 가장 낮은 부분(극소점)에 도달하게 된다.\n",
        "- 기본 아이디어는 이 방식으로 어떤 함수도 최적화할 수 있다고 지적한 `아이작 뉴턴`의 시대까지 거슬러 올라간다. 함수의 복잡도와는 상관없이, 기본 경사 하강법을 이요한 접근법은 크게 바뀌지 않는다. 다만 가중치 갱신과 관련한 더 좋은 값을 찾아내서 갱신 과정을 빠르게 하는 수준의 변화를 줄 수는 있다."
      ]
    },
    {
      "cell_type": "markdown",
      "metadata": {
        "id": "EmlOqUwjy5TN"
      },
      "source": [
        "### Calculating Gradients - 그래디언트(기울기) 계산하기\n",
        "- 학습의 마법은 그래디언트를 계산할 때 일어난다. 앞서 미적분을 사용하여 성능 최적화를 한다고 언급했다. 파라미터값을 크거나 작게 조정할 때 손실이 커지거나 작아지는지를 더 빠르게 계산할 수 있기 때문이다. 즉 그래디언트는 모델이 더 나아지려면 갱신해야 할 가중치의 정도를 알려준다.\n",
        "- 미분의 핵심은 이러하다. 앞서 본 2차 함수를 포함한 어떤 함수(단, 함수가 연속이고 미분계수가 존재한다면)도 미분을 계산할 수 있다. 미분 또한 함수이며 값 자체를 계산하지 않고 값의 변화 정도를 계산한다. 가령 값이 3인 지점에서 2차 함수에 대한 미분은 값 3에서 2차 함수가 얼마나 빠르게 변화하는지를 알려준다. 그래디언트가 `y의 변화량/x의 변화량`으로 정의된다는 사실을 상기해보자. 즉 파라미터값의 변화로 함숫값(손실)의 변화를 나눈다. 함수가 변화하는 방식을 알면 무엇을 해야 변화가 작아지는지도 알 수 있다. 이것이 바로 머신러닝의 핵심으로, 함수의 그래디언트를 더 작게 만들도록 파라미터를 조정하는 방법이다.\n",
        "- 하지만 한 가지 중요한 사실은 함수가 매우 많은 가중치로 구성된다는 점이다. 따라서 미분을 계산할 때도 하나가 아니라 모든 가중치에 대한 그래디언트를 계산해야 한다. 하지만 수학적으로 까다로운 점은 없다. 한 가줃ㅇ치에 대한 미분 계산 시, `다른 가중치들을 상수처럼 취급`하면 그만이다. 그리고 머든 가중치에 대해 이 과정을 반복 수행한다. 그러면 모든 가중치에 대한 그래디언트를 계산할 수 있다. 정리하자면 각각의 가중치에 대한 편미분을 계산하고, 이 과정을 모든 가중치에 적용시킨다."
      ]
    },
    {
      "cell_type": "markdown",
      "metadata": {},
      "source": [
        "- 파이토치는 거의 모든 함수에 대한 미분을 자동으로 계산해내는 능력이 있다. 심지어 매우 빠르기까지 하다. 아무리 느려도 사람이 직접 계산할 때보다는 훨씬 빠르다. 아래는 자동 미분에 대한 예시이다.\n",
        "- 우선 그래디언트를 계산하려는 텐서값 하나를 고른다."
      ]
    },
    {
      "cell_type": "code",
      "execution_count": 47,
      "metadata": {
        "colab": {
          "base_uri": "https://localhost:8080/"
        },
        "id": "gTHD2cL9y5TO",
        "outputId": "794d547d-0e0b-451e-eedc-c33404f0770e"
      },
      "outputs": [
        {
          "data": {
            "text/plain": [
              "tensor(3., device='cuda:0', grad_fn=<ToCopyBackward0>)"
            ]
          },
          "execution_count": 47,
          "metadata": {},
          "output_type": "execute_result"
        }
      ],
      "source": [
        "xt = tensor(3.).requires_grad_()\n",
        "xt.to(\"cuda\")"
      ]
    },
    {
      "cell_type": "markdown",
      "metadata": {},
      "source": [
        "- `requires_grad_`라는 특별한 메서드가 바로 파이토치에 특정 값의 변수에 대한 그래디언트를 계산해 달라고 하는 마법의 주문이다. 내부적으로는 변수에 일종의 태그를 붙이는 방법이 적용되고, 파이토치는 태그 정보를 활용해 기존의 텐서에 추가 연산이 발생하더라도 모든 연산을 추적하여 그래디언트는 계산하는 방법을 기억한다."
      ]
    },
    {
      "cell_type": "markdown",
      "metadata": {},
      "source": [
        "- TIP: 만약 수학이나 물리학을 배웠다면 API 이름에서 혼란을 느낄지도 모른다. 수학이나 물리학에서 말하는 함수의 '그래디언트'는 또 다른 함수(예: 미분)를 의미하므로 그래디언트 관련 API가 새로운 함수를 반환한다고 기대할 수도 있다. 하지만 딥러닝에서는 보통 '그래디언트'가 특정 인잣값(arguments)에 대한 함수의 `미분된 값`을 의미한다."
      ]
    },
    {
      "cell_type": "markdown",
      "metadata": {},
      "source": [
        "- 이제 그 값으로 함수를 계산해본다. 파이토치가 계산한 결과를 출력해보면, 단순히 계산된 값뿐만 아니라 그래디언트 함수도 포함한다는 사실을 알 수 있다. 이 함수는 요청 시 경사(slope)를 계산한다."
      ]
    },
    {
      "cell_type": "code",
      "execution_count": 48,
      "metadata": {
        "colab": {
          "base_uri": "https://localhost:8080/"
        },
        "id": "FFwkVIGQy5TO",
        "outputId": "2342c4f3-f47a-41f6-eee4-fe0fe6cee7a0"
      },
      "outputs": [
        {
          "data": {
            "text/plain": [
              "tensor(9., grad_fn=<PowBackward0>)"
            ]
          },
          "execution_count": 48,
          "metadata": {},
          "output_type": "execute_result"
        }
      ],
      "source": [
        "yt = f(xt)\n",
        "yt"
      ]
    },
    {
      "cell_type": "markdown",
      "metadata": {},
      "source": [
        "- 마지막으로 `backward` 메서드를 호출하여 그래디언트를 계산한다."
      ]
    },
    {
      "cell_type": "code",
      "execution_count": 49,
      "metadata": {
        "id": "ec9GTcpyy5TO"
      },
      "outputs": [],
      "source": [
        "yt.backward()"
      ]
    },
    {
      "cell_type": "markdown",
      "metadata": {},
      "source": [
        "- 'backward(역방향)'라는 함수(메서드)의 이름은 각 계층의 미분을 계산하는 과정인 `역전파(backpropagation)`에서 따왔다. 이 과정이 수행되는 방법은 17장에서 심층신경망의 그래디언트는 밑바닥에서부터 계산하는 부분에서 정확히 살펴본다. 역전파틑 네트워크의 `역방향 전파(backward pass)`라고도 불리며, 이에 반대되는 개념으로 활성(activation, 여기서는 모델이 학습과정에서 수행하는 예측값을 의미)을 계산하는 `순방향 전파(forward pass)`가 있다.\n",
        "- 그래디언트를 계산한 후 텐서의 `grad` 속성(attribute)으로 실제 계산된 그래디언트를 알 수 있다."
      ]
    },
    {
      "cell_type": "code",
      "execution_count": 50,
      "metadata": {
        "colab": {
          "base_uri": "https://localhost:8080/"
        },
        "id": "3QtLg9m_y5TO",
        "outputId": "240cd6f7-2539-4786-ef0e-ae7f425b95d1"
      },
      "outputs": [
        {
          "data": {
            "text/plain": [
              "tensor(6.)"
            ]
          },
          "execution_count": 50,
          "metadata": {},
          "output_type": "execute_result"
        }
      ],
      "source": [
        "xt.grad"
      ]
    },
    {
      "cell_type": "markdown",
      "metadata": {},
      "source": [
        "- TIP: `x.grad` 처럼 뒤에 '()'없이 호출되는 것을 `속성`이라고 하며, `x.backward()` 처럼 뒤에 '()'를 입력한 후에 호출되는 것을 `함수, 메서드`라고 한다."
      ]
    },
    {
      "cell_type": "markdown",
      "metadata": {},
      "source": [
        "- 고등학교 미적분에서 배운 규칙을 기억한다면, $x^2$의 미분이 $2x$임을 알 것이다. 따라서, `x=3`의 그래디언트는 `2*3=6`이 되고, 파이토치가 이를 잘 계산했음을 알 수 있다.\n",
        "- 이번에는 함수에 단일 숫자 대신 벡터를 입력해서 그래디언트를 다시 구해본다."
      ]
    },
    {
      "cell_type": "code",
      "execution_count": 51,
      "metadata": {
        "colab": {
          "base_uri": "https://localhost:8080/"
        },
        "id": "9BkZlfCsy5TO",
        "outputId": "49e04713-5bff-466d-d953-80cb2226039d"
      },
      "outputs": [
        {
          "data": {
            "text/plain": [
              "tensor([ 3.,  4., 10.], requires_grad=True)"
            ]
          },
          "execution_count": 51,
          "metadata": {},
          "output_type": "execute_result"
        }
      ],
      "source": [
        "xt = tensor([3.,4.,10.]).requires_grad_()\n",
        "xt"
      ]
    },
    {
      "cell_type": "markdown",
      "metadata": {},
      "source": [
        "- 그리고 함수에 `sum` 함수를 추가해서, `벡터(랭크1의 텐서)`가 입력되었을 때 `스칼라값(랭크0의 텐서)`을 출력하도록 만들어준다."
      ]
    },
    {
      "cell_type": "code",
      "execution_count": 52,
      "metadata": {
        "colab": {
          "base_uri": "https://localhost:8080/"
        },
        "id": "mjylAhqty5TO",
        "outputId": "44856b85-c9cd-4051-f1f6-54e9e833b8f2"
      },
      "outputs": [
        {
          "data": {
            "text/plain": [
              "tensor(125., grad_fn=<SumBackward0>)"
            ]
          },
          "execution_count": 52,
          "metadata": {},
          "output_type": "execute_result"
        }
      ],
      "source": [
        "def f(x): return (x**2).sum()\n",
        "\n",
        "yt = f(xt)\n",
        "yt"
      ]
    },
    {
      "cell_type": "markdown",
      "metadata": {},
      "source": [
        "- 이또한 위와 같은 괴정을 거치면 기대한 대로 그래디언트 `2*xt`를 구했다."
      ]
    },
    {
      "cell_type": "code",
      "execution_count": 53,
      "metadata": {
        "colab": {
          "base_uri": "https://localhost:8080/"
        },
        "id": "BwC2SEB1y5TO",
        "outputId": "0c26908e-3654-4f4e-cbef-bc84b6064273"
      },
      "outputs": [
        {
          "data": {
            "text/plain": [
              "tensor([ 6.,  8., 20.])"
            ]
          },
          "execution_count": 53,
          "metadata": {},
          "output_type": "execute_result"
        }
      ],
      "source": [
        "yt.backward()\n",
        "xt.grad"
      ]
    },
    {
      "cell_type": "markdown",
      "metadata": {},
      "source": [
        "- 그래디언트는 함수의 기울기만 알려준다. `파라미터를 얼마나 조정해야 하는지`를 알려주지는 않는다. 하지만 목적지까지 떨어진 정도에 관한 몇 가지 아이디어를 제공한다. 가령 경사가 매우 가파르면 조정을 더 많이 해야 하고, 경사가 덜 가파르면 최적의 값에 가깝다는 사실을 알 수 있다."
      ]
    },
    {
      "cell_type": "markdown",
      "metadata": {
        "id": "8ka2K8Lmy5TP"
      },
      "source": [
        "### Stepping With a Learning Rate - 학습률을 사용해 단계 밟아 나가기\n",
        "- "
      ]
    },
    {
      "cell_type": "markdown",
      "metadata": {
        "id": "DBL4ipvyy5TP"
      },
      "source": [
        "### An End-to-End SGD Example\n",
        "- SGD를 활용한 시작부터 끝까지를 보여주는 예제"
      ]
    },
    {
      "cell_type": "code",
      "execution_count": 54,
      "metadata": {
        "colab": {
          "base_uri": "https://localhost:8080/"
        },
        "id": "XvhixqMSy5TP",
        "outputId": "181f91d9-49b4-41b1-fbe2-7bd2be43bd90"
      },
      "outputs": [
        {
          "data": {
            "text/plain": [
              "tensor([ 0.,  1.,  2.,  3.,  4.,  5.,  6.,  7.,  8.,  9., 10., 11., 12., 13., 14., 15., 16., 17., 18., 19.])"
            ]
          },
          "execution_count": 54,
          "metadata": {},
          "output_type": "execute_result"
        }
      ],
      "source": [
        "time = torch.arange(0,20).float()\n",
        "time"
      ]
    },
    {
      "cell_type": "code",
      "execution_count": 55,
      "metadata": {
        "colab": {
          "base_uri": "https://localhost:8080/",
          "height": 268
        },
        "id": "yybP-3LUy5TP",
        "outputId": "aad6bebd-b04d-41a5-d90c-e48a1c839db0"
      },
      "outputs": [
        {
          "data": {
            "image/png": "[encoded data removed]",
            "text/plain": [
              "<Figure size 432x288 with 1 Axes>"
            ]
          },
          "metadata": {
            "needs_background": "light"
          },
          "output_type": "display_data"
        }
      ],
      "source": [
        "speed = torch.randn(20)*3 + 0.75*(time-9.5)**2 + 1\n",
        "plt.scatter(time, speed);"
      ]
    },
    {
      "cell_type": "code",
      "execution_count": 56,
      "metadata": {
        "id": "_SRG9ftMy5TP"
      },
      "outputs": [],
      "source": [
        "def f(t, params):\n",
        "    a,b,c = params\n",
        "    return a*(t**2) + (b*t) + c"
      ]
    },
    {
      "cell_type": "code",
      "execution_count": 57,
      "metadata": {
        "id": "rk4c1srhy5TP"
      },
      "outputs": [],
      "source": [
        "def mse(preds, targets): return ((preds-targets)**2).mean()"
      ]
    },
    {
      "cell_type": "markdown",
      "metadata": {
        "id": "vvHSIYAEy5TP"
      },
      "source": [
        "#### Step 1: Initialize the parameters\n",
        "- 파라미터 초기화"
      ]
    },
    {
      "cell_type": "code",
      "execution_count": 58,
      "metadata": {
        "id": "PCo9nwwBy5TQ"
      },
      "outputs": [],
      "source": [
        "params = torch.randn(3).requires_grad_()"
      ]
    },
    {
      "cell_type": "code",
      "execution_count": 59,
      "metadata": {
        "colab": {
          "base_uri": "https://localhost:8080/"
        },
        "id": "G8hqsBfuP2Wt",
        "outputId": "a4abe0b6-aa2a-42f5-87d6-1cd5a9496eff"
      },
      "outputs": [
        {
          "data": {
            "text/plain": [
              "tensor([-0.7658, -0.7506,  1.3525], requires_grad=True)"
            ]
          },
          "execution_count": 59,
          "metadata": {},
          "output_type": "execute_result"
        }
      ],
      "source": [
        "params"
      ]
    },
    {
      "cell_type": "code",
      "execution_count": 60,
      "metadata": {
        "id": "pSUzzM9fy5TQ"
      },
      "outputs": [],
      "source": [
        "#hide\n",
        "orig_params = params.clone()"
      ]
    },
    {
      "cell_type": "markdown",
      "metadata": {
        "id": "Mchuaz62y5TQ"
      },
      "source": [
        "#### Step 2: Calculate the predictions\n",
        "- 예측 계산"
      ]
    },
    {
      "cell_type": "code",
      "execution_count": 61,
      "metadata": {
        "id": "BoVqe9l6y5TQ"
      },
      "outputs": [],
      "source": [
        "preds = f(time, params)"
      ]
    },
    {
      "cell_type": "code",
      "execution_count": 62,
      "metadata": {
        "id": "ySfC8Du_y5TQ"
      },
      "outputs": [],
      "source": [
        "def show_preds(preds, ax=None):\n",
        "    if ax is None: ax=plt.subplots()[1]\n",
        "    ax.scatter(time, speed)\n",
        "    ax.scatter(time, to_np(preds), color='red')\n",
        "    ax.set_ylim(-300,100)"
      ]
    },
    {
      "cell_type": "code",
      "execution_count": 63,
      "metadata": {
        "colab": {
          "base_uri": "https://localhost:8080/",
          "height": 273
        },
        "id": "IGygeF3ly5TQ",
        "outputId": "80aea227-b11a-4a12-afa8-6f8f620c1337"
      },
      "outputs": [
        {
          "data": {
            "image/png": "[encoded data removed]",
            "text/plain": [
              "<Figure size 432x288 with 1 Axes>"
            ]
          },
          "metadata": {
            "needs_background": "light"
          },
          "output_type": "display_data"
        }
      ],
      "source": [
        "show_preds(preds)"
      ]
    },
    {
      "cell_type": "markdown",
      "metadata": {
        "id": "3eIAtEccy5TQ"
      },
      "source": [
        "#### Step 3: Calculate the loss\n",
        "- 손실 계산"
      ]
    },
    {
      "cell_type": "code",
      "execution_count": 64,
      "metadata": {
        "colab": {
          "base_uri": "https://localhost:8080/"
        },
        "id": "NgSF7fCjy5TQ",
        "outputId": "e270e9d7-04a5-420c-ce3c-479e0b62fbbf"
      },
      "outputs": [
        {
          "data": {
            "text/plain": [
              "tensor(25823.8086, grad_fn=<MeanBackward0>)"
            ]
          },
          "execution_count": 64,
          "metadata": {},
          "output_type": "execute_result"
        }
      ],
      "source": [
        "loss = mse(preds, speed)\n",
        "loss"
      ]
    },
    {
      "cell_type": "markdown",
      "metadata": {
        "id": "WabcDv6Zy5TR"
      },
      "source": [
        "#### Step 4: Calculate the gradients\n",
        "- 그래디언트(기울기) 계산"
      ]
    },
    {
      "cell_type": "code",
      "execution_count": 65,
      "metadata": {
        "colab": {
          "base_uri": "https://localhost:8080/"
        },
        "id": "hIfhnpU7y5TR",
        "outputId": "64a7d6c9-5441-477c-8b18-ecfad65e0867"
      },
      "outputs": [
        {
          "data": {
            "text/plain": [
              "tensor([-53195.8633,  -3419.7148,   -253.8908])"
            ]
          },
          "execution_count": 65,
          "metadata": {},
          "output_type": "execute_result"
        }
      ],
      "source": [
        "loss.backward()\n",
        "params.grad"
      ]
    },
    {
      "cell_type": "code",
      "execution_count": 66,
      "metadata": {
        "colab": {
          "base_uri": "https://localhost:8080/"
        },
        "id": "Yq0EKPugy5TR",
        "outputId": "2458f0db-0acf-4461-f80c-a5513e67b223"
      },
      "outputs": [
        {
          "data": {
            "text/plain": [
              "tensor([-0.5320, -0.0342, -0.0025])"
            ]
          },
          "execution_count": 66,
          "metadata": {},
          "output_type": "execute_result"
        }
      ],
      "source": [
        "params.grad * 1e-5"
      ]
    },
    {
      "cell_type": "code",
      "execution_count": 67,
      "metadata": {
        "colab": {
          "base_uri": "https://localhost:8080/"
        },
        "id": "6PXTib50y5TR",
        "outputId": "42121b11-9376-4b4f-9f28-3b8f1f955875"
      },
      "outputs": [
        {
          "data": {
            "text/plain": [
              "tensor([-0.7658, -0.7506,  1.3525], requires_grad=True)"
            ]
          },
          "execution_count": 67,
          "metadata": {},
          "output_type": "execute_result"
        }
      ],
      "source": [
        "params"
      ]
    },
    {
      "cell_type": "markdown",
      "metadata": {
        "id": "-Bt9w5l_y5TR"
      },
      "source": [
        "#### Step 5: Step the weights.\n",
        "- 가중치 (한 단계)갱신"
      ]
    },
    {
      "cell_type": "code",
      "execution_count": 68,
      "metadata": {
        "id": "AiPXrLo-y5TR"
      },
      "outputs": [],
      "source": [
        "lr = 1e-5\n",
        "params.data -= lr * params.grad.data\n",
        "params.grad = None"
      ]
    },
    {
      "cell_type": "code",
      "execution_count": 69,
      "metadata": {
        "colab": {
          "base_uri": "https://localhost:8080/"
        },
        "id": "xfkTRw1dRXPX",
        "outputId": "8d3a86ce-143a-41a2-d4d7-f3fe644074ce"
      },
      "outputs": [
        {
          "data": {
            "text/plain": [
              "tensor([-0.2339, -0.7164,  1.3551])"
            ]
          },
          "execution_count": 69,
          "metadata": {},
          "output_type": "execute_result"
        }
      ],
      "source": [
        "params.data"
      ]
    },
    {
      "cell_type": "code",
      "execution_count": 70,
      "metadata": {
        "colab": {
          "base_uri": "https://localhost:8080/"
        },
        "id": "jf7eqF4Oy5TR",
        "outputId": "0c94c9ff-ba53-40bd-e13b-d5f44efebbf2"
      },
      "outputs": [
        {
          "data": {
            "text/plain": [
              "tensor(5435.5356, grad_fn=<MeanBackward0>)"
            ]
          },
          "execution_count": 70,
          "metadata": {},
          "output_type": "execute_result"
        }
      ],
      "source": [
        "preds = f(time, params)\n",
        "mse(preds, speed)"
      ]
    },
    {
      "cell_type": "code",
      "execution_count": 71,
      "metadata": {
        "colab": {
          "base_uri": "https://localhost:8080/",
          "height": 273
        },
        "id": "TbtuhQn0y5TR",
        "outputId": "907113d3-efb4-43ab-c942-3d5f5223b750"
      },
      "outputs": [
        {
          "data": {
            "image/png": "[encoded data removed]",
            "text/plain": [
              "<Figure size 432x288 with 1 Axes>"
            ]
          },
          "metadata": {
            "needs_background": "light"
          },
          "output_type": "display_data"
        }
      ],
      "source": [
        "show_preds(preds)"
      ]
    },
    {
      "cell_type": "code",
      "execution_count": 72,
      "metadata": {
        "id": "1yRYY3W5y5TS"
      },
      "outputs": [],
      "source": [
        "def apply_step(params, prn=True):\n",
        "    preds = f(time, params)\n",
        "    loss = mse(preds, speed)\n",
        "    loss.backward()\n",
        "    params.data -= lr * params.grad.data\n",
        "    params.grad = None\n",
        "    if prn: print(loss.item())\n",
        "    return preds"
      ]
    },
    {
      "cell_type": "markdown",
      "metadata": {
        "id": "7_YO2ZOpy5TS"
      },
      "source": [
        "#### Step 6: Repeat the process\n",
        "- 처리 과정 반복"
      ]
    },
    {
      "cell_type": "code",
      "execution_count": 73,
      "metadata": {
        "colab": {
          "base_uri": "https://localhost:8080/"
        },
        "id": "6boeLMJXy5TS",
        "outputId": "716b9353-4b5d-4d54-d4ef-190159f43d83"
      },
      "outputs": [
        {
          "name": "stdout",
          "output_type": "stream",
          "text": [
            "5435.53564453125\n",
            "1577.44921875\n",
            "847.3778076171875\n",
            "709.2225341796875\n",
            "683.0758056640625\n",
            "678.1243896484375\n",
            "677.1838989257812\n",
            "677.0023803710938\n",
            "676.9645385742188\n",
            "676.9537353515625\n"
          ]
        }
      ],
      "source": [
        "for i in range(10): apply_step(params)"
      ]
    },
    {
      "cell_type": "code",
      "execution_count": 74,
      "metadata": {
        "id": "LywEyuXpy5TS"
      },
      "outputs": [],
      "source": [
        "#hide\n",
        "params = orig_params.detach().requires_grad_()"
      ]
    },
    {
      "cell_type": "code",
      "execution_count": 75,
      "metadata": {
        "colab": {
          "base_uri": "https://localhost:8080/",
          "height": 221
        },
        "id": "2mGSdIKAy5TS",
        "outputId": "fbcea4c7-cf31-4e67-91f5-bedbdb172bfb"
      },
      "outputs": [
        {
          "data": {
            "image/png": "[encoded data removed]",
            "text/plain": [
              "<Figure size 864x216 with 4 Axes>"
            ]
          },
          "metadata": {
            "needs_background": "light"
          },
          "output_type": "display_data"
        }
      ],
      "source": [
        "_,axs = plt.subplots(1,4,figsize=(12,3))\n",
        "for ax in axs: show_preds(apply_step(params, False), ax)\n",
        "plt.tight_layout()"
      ]
    },
    {
      "cell_type": "markdown",
      "metadata": {
        "id": "2KsmIF6ty5TS"
      },
      "source": [
        "#### Step 7: stop\n",
        "- 학습 종료\n",
        "    - 10번의 에포크 후 학습을 종료했다. 임의로 정한 횟수이기에 큰 의미는 없지만, 실전에서는 학습용과 검증용 데이터셋에 대한 손실 및 평가지표를 주시하면서 학습 종료 시점을 결정해야 한다."
      ]
    },
    {
      "cell_type": "markdown",
      "metadata": {
        "id": "EzJeUJfIy5TT"
      },
      "source": [
        "### Summarizing Gradient Descent"
      ]
    },
    {
      "cell_type": "code",
      "execution_count": 76,
      "metadata": {
        "colab": {
          "base_uri": "https://localhost:8080/",
          "height": 125
        },
        "id": "fBo1rtJIy5TT",
        "outputId": "84c881e4-8395-489a-af17-abda5c4fe755"
      },
      "outputs": [
        {
          "data": {
            "image/svg+xml": "<?xml version=\"1.0\" encoding=\"UTF-8\" standalone=\"no\"?>\n<!DOCTYPE svg PUBLIC \"-//W3C//DTD SVG 1.1//EN\"\n \"http://www.w3.org/Graphics/SVG/1.1/DTD/svg11.dtd\">\n<!-- Generated by graphviz version 2.40.1 (20161225.0304)\n -->\n<!-- Title: G Pages: 1 -->\n<svg width=\"597pt\" height=\"78pt\"\n viewBox=\"0.00 0.00 596.69 78.00\" xmlns=\"http://www.w3.org/2000/svg\" xmlns:xlink=\"http://www.w3.org/1999/xlink\">\n<g id=\"graph0\" class=\"graph\" transform=\"scale(1 1) rotate(0) translate(4 74)\">\n<title>G</title>\n<polygon fill=\"#ffffff\" stroke=\"transparent\" points=\"-4,4 -4,-74 592.6863,-74 592.6863,4 -4,4\"/>\n<!-- init -->\n<g id=\"node1\" class=\"node\">\n<title>init</title>\n<ellipse fill=\"none\" stroke=\"#000000\" cx=\"27\" cy=\"-18\" rx=\"27\" ry=\"18\"/>\n<text text-anchor=\"middle\" x=\"27\" y=\"-14.3\" font-family=\"Times,serif\" font-size=\"14.00\" fill=\"#000000\">init</text>\n</g>\n<!-- predict -->\n<g id=\"node2\" class=\"node\">\n<title>predict</title>\n<ellipse fill=\"none\" stroke=\"#000000\" cx=\"127.3968\" cy=\"-18\" rx=\"36.2938\" ry=\"18\"/>\n<text text-anchor=\"middle\" x=\"127.3968\" y=\"-14.3\" font-family=\"Times,serif\" font-size=\"14.00\" fill=\"#000000\">predict</text>\n</g>\n<!-- init&#45;&gt;predict -->\n<g id=\"edge1\" class=\"edge\">\n<title>init&#45;&gt;predict</title>\n<path fill=\"none\" stroke=\"#000000\" d=\"M54.1688,-18C62.3543,-18 71.5827,-18 80.6596,-18\"/>\n<polygon fill=\"#000000\" stroke=\"#000000\" points=\"80.7795,-21.5001 90.7795,-18 80.7795,-14.5001 80.7795,-21.5001\"/>\n</g>\n<!-- loss -->\n<g id=\"node3\" class=\"node\">\n<title>loss</title>\n<ellipse fill=\"none\" stroke=\"#000000\" cx=\"227.7935\" cy=\"-52\" rx=\"27\" ry=\"18\"/>\n<text text-anchor=\"middle\" x=\"227.7935\" y=\"-48.3\" font-family=\"Times,serif\" font-size=\"14.00\" fill=\"#000000\">loss</text>\n</g>\n<!-- predict&#45;&gt;loss -->\n<g id=\"edge2\" class=\"edge\">\n<title>predict&#45;&gt;loss</title>\n<path fill=\"none\" stroke=\"#000000\" d=\"M157.5191,-28.2011C168.9806,-32.0826 182.1139,-36.5303 193.9014,-40.5222\"/>\n<polygon fill=\"#000000\" stroke=\"#000000\" points=\"192.8259,-43.8532 203.4202,-43.7458 195.0713,-37.2231 192.8259,-43.8532\"/>\n</g>\n<!-- gradient -->\n<g id=\"node4\" class=\"node\">\n<title>gradient</title>\n<ellipse fill=\"none\" stroke=\"#000000\" cx=\"365.7399\" cy=\"-52\" rx=\"40.8928\" ry=\"18\"/>\n<text text-anchor=\"middle\" x=\"365.7399\" y=\"-48.3\" font-family=\"Times,serif\" font-size=\"14.00\" fill=\"#000000\">gradient</text>\n</g>\n<!-- loss&#45;&gt;gradient -->\n<g id=\"edge3\" class=\"edge\">\n<title>loss&#45;&gt;gradient</title>\n<path fill=\"none\" stroke=\"#000000\" d=\"M255.0473,-52C272.0415,-52 294.4481,-52 314.6545,-52\"/>\n<polygon fill=\"#000000\" stroke=\"#000000\" points=\"314.671,-55.5001 324.671,-52 314.671,-48.5001 314.671,-55.5001\"/>\n</g>\n<!-- step -->\n<g id=\"node5\" class=\"node\">\n<title>step</title>\n<ellipse fill=\"none\" stroke=\"#000000\" cx=\"470.6863\" cy=\"-18\" rx=\"27\" ry=\"18\"/>\n<text text-anchor=\"middle\" x=\"470.6863\" y=\"-14.3\" font-family=\"Times,serif\" font-size=\"14.00\" fill=\"#000000\">step</text>\n</g>\n<!-- gradient&#45;&gt;step -->\n<g id=\"edge4\" class=\"edge\">\n<title>gradient&#45;&gt;step</title>\n<path fill=\"none\" stroke=\"#000000\" d=\"M398.9456,-41.2422C410.9558,-37.3512 424.5297,-32.9536 436.6132,-29.0388\"/>\n<polygon fill=\"#000000\" stroke=\"#000000\" points=\"437.9112,-32.2975 446.3457,-25.8857 435.7537,-25.6382 437.9112,-32.2975\"/>\n</g>\n<!-- step&#45;&gt;predict -->\n<g id=\"edge6\" class=\"edge\">\n<title>step&#45;&gt;predict</title>\n<path fill=\"none\" stroke=\"#000000\" d=\"M443.4266,-18C384.9297,-18 246.7861,-18 174.0495,-18\"/>\n<polygon fill=\"#000000\" stroke=\"#000000\" points=\"173.8098,-14.5001 163.8098,-18 173.8097,-21.5001 173.8098,-14.5001\"/>\n<text text-anchor=\"middle\" x=\"289.7935\" y=\"-21.8\" font-family=\"Times,serif\" font-size=\"14.00\" fill=\"#000000\">repeat</text>\n</g>\n<!-- stop -->\n<g id=\"node6\" class=\"node\">\n<title>stop</title>\n<ellipse fill=\"none\" stroke=\"#000000\" cx=\"561.6863\" cy=\"-18\" rx=\"27\" ry=\"18\"/>\n<text text-anchor=\"middle\" x=\"561.6863\" y=\"-14.3\" font-family=\"Times,serif\" font-size=\"14.00\" fill=\"#000000\">stop</text>\n</g>\n<!-- step&#45;&gt;stop -->\n<g id=\"edge5\" class=\"edge\">\n<title>step&#45;&gt;stop</title>\n<path fill=\"none\" stroke=\"#000000\" d=\"M497.9893,-18C506.2676,-18 515.508,-18 524.3268,-18\"/>\n<polygon fill=\"#000000\" stroke=\"#000000\" points=\"524.4026,-21.5001 534.4025,-18 524.4025,-14.5001 524.4026,-21.5001\"/>\n</g>\n</g>\n</svg>\n",
            "text/plain": [
              "<graphviz.files.Source at 0x7f3c4d3512d0>"
            ]
          },
          "execution_count": 76,
          "metadata": {},
          "output_type": "execute_result"
        }
      ],
      "source": [
        "gv('''\n",
        "init->predict->loss->gradient->step->stop\n",
        "step->predict[label=repeat]\n",
        "''')"
      ]
    },
    {
      "cell_type": "markdown",
      "metadata": {},
      "source": [
        "- 경사 하강법 요약\n",
        "    - 시작 단계에서는 모델의 가중치를 임의의 값으로 설정하거나(`밑바닥부터, from scratch` 학습) 사전에 학습된 모델로부터 설정할 수 있다(`전이 학습, transfer learning`). 첫 번째 방법으로는 입력 데이터에서 원하는 결과를 얻을 수 없다. 두 번째 방법도 완벽하지 않다. 사전에 학습된 모델이 우리가 원하는 특정 문제에서 좋은 성능을 보일 가능성은 작다. 따라서 모델은 `더 나은 가중치를 학습`해야만 한다.\n",
        "    - `손실 함수(loss func, cost func)`로 모델의 출력값(`활성값, 예측값`)과 타겟값을 비교한다. 그러면 손실 함수는 가중치를 개선해서 가능한 한 낮춰야만 하는 손실값을 반환한다. 이미지 같은 학습용 데이터셋의 데이터 일부(검증용 데이터)를 모델에 주입한다. 그리고 모델이 도출한 예측과 타겟을 손실 함수로 비교한다. 그렇게 얻은 손실값은 모델의 예측이 어긋난 정도를 알려주는 단서이다. 이를 기반으로 가중치를 조금 바꾸면 약간 더 나은 모델을 만들 수 있다.\n",
        "    - 미적분으로 `그래디언트`를 계산한다.(사실 파이토치는 이를 자동으로 계산하면서 손실을 조금 더 개선하는 가중치 변경 방법을 찾을 수 있다.) 비유적으로 표현해보면, 등산로 입구에 차를 주차하고 등산하다가 산 중턱에서 길을 잃어버린 상황을 상상해보자. 다시 주차장으로 돌아가는 길을 찾으려고 어딘지 모를 임의의 방향으로 방황할지도 모른다. 그런데 이런 길 찾기 방법은 별로 도음이 되지 않는다. 가장 낮은 지점인 등산로 입구에 주차장이 있다는 사실을 알고 있으니 일단 내리막을 찾아 내려가는 편이 '임의의 방향'보다 더 나은 결정이다. 가장 가파른 내리막길 방향으로 계속 내려가야 목적지에 도착할 가능성이 높다. 그리고 경사진 정도(가파른 정도)에 `학습률(learning rate)`이라는 숫자를 곱해서 한 번에 움직여야 하는 양을 알 수 있다. 이 과정을 가장 낮은 등산로 입구 지점에 도달할 떄까지 `반복(iterate)`한다. 그리고 도달하면 그 과정을 `멈춘다.`"
      ]
    },
    {
      "cell_type": "markdown",
      "metadata": {
        "id": "IfiSCm6Cy5TT"
      },
      "source": [
        "## The MNIST Loss Function\n",
        "- MNIST 손실 함수"
      ]
    },
    {
      "cell_type": "code",
      "execution_count": 77,
      "metadata": {
        "id": "6-v5r_HCy5TT"
      },
      "outputs": [],
      "source": [
        "train_x = torch.cat([stacked_threes, stacked_sevens]).view(-1, 28*28)"
      ]
    },
    {
      "cell_type": "code",
      "execution_count": 78,
      "metadata": {
        "colab": {
          "base_uri": "https://localhost:8080/"
        },
        "id": "ors0dM1Ty5TT",
        "outputId": "660984d0-8002-49ee-e24c-5b65db7e6210"
      },
      "outputs": [
        {
          "data": {
            "text/plain": [
              "(torch.Size([12396, 784]), torch.Size([12396, 1]))"
            ]
          },
          "execution_count": 78,
          "metadata": {},
          "output_type": "execute_result"
        }
      ],
      "source": [
        "train_y = tensor([1]*len(threes) + [0]*len(sevens)).unsqueeze(1)\n",
        "train_x.shape, train_y.shape"
      ]
    },
    {
      "cell_type": "code",
      "execution_count": 79,
      "metadata": {
        "colab": {
          "base_uri": "https://localhost:8080/"
        },
        "id": "x14_xcnBy5TT",
        "outputId": "a5a429ba-ca42-4213-af28-f469ee37d2a7"
      },
      "outputs": [
        {
          "data": {
            "text/plain": [
              "(torch.Size([784]), tensor([1]))"
            ]
          },
          "execution_count": 79,
          "metadata": {},
          "output_type": "execute_result"
        }
      ],
      "source": [
        "dset = list(zip(train_x,train_y))\n",
        "x, y = dset[0]\n",
        "x.shape, y"
      ]
    },
    {
      "cell_type": "code",
      "execution_count": 80,
      "metadata": {
        "id": "P1m0zx-0y5TT"
      },
      "outputs": [],
      "source": [
        "valid_x = torch.cat([valid_3_tens, valid_7_tens]).view(-1, 28*28)\n",
        "valid_y = tensor([1]*len(valid_3_tens) + [0]*len(valid_7_tens)).unsqueeze(1)\n",
        "valid_dset = list(zip(valid_x,valid_y))"
      ]
    },
    {
      "cell_type": "code",
      "execution_count": 81,
      "metadata": {
        "id": "wqI0N-R8y5TU"
      },
      "outputs": [],
      "source": [
        "def init_params(size, std=1.0): return (torch.randn(size)*std).requires_grad_()"
      ]
    },
    {
      "cell_type": "code",
      "execution_count": 82,
      "metadata": {
        "id": "ujltR0MKy5TU"
      },
      "outputs": [],
      "source": [
        "weights = init_params((28*28,1))"
      ]
    },
    {
      "cell_type": "code",
      "execution_count": 83,
      "metadata": {
        "id": "JCJbABvDy5TU"
      },
      "outputs": [],
      "source": [
        "bias = init_params(1)"
      ]
    },
    {
      "cell_type": "markdown",
      "metadata": {},
      "source": [
        "-  `NOTE: parameters(파라미터, 매개변수)` - 신경망(모델)을 구성하는 `가중치`와 `편향`을 뜻한다.<br>\n",
        "`w*x + b` 방정식의 `w`와 `b`가 각각 가중치와 편향이다."
      ]
    },
    {
      "cell_type": "code",
      "execution_count": 84,
      "metadata": {
        "colab": {
          "base_uri": "https://localhost:8080/"
        },
        "id": "t2iniS-HW6g0",
        "outputId": "90bb460e-6329-4e0d-d94d-469dcc0a25ae"
      },
      "outputs": [
        {
          "data": {
            "text/plain": [
              "(torch.Size([784, 1]), tensor([0.6863], requires_grad=True))"
            ]
          },
          "execution_count": 84,
          "metadata": {},
          "output_type": "execute_result"
        }
      ],
      "source": [
        "weights.shape, bias  # 가중치, 편향"
      ]
    },
    {
      "cell_type": "code",
      "execution_count": 85,
      "metadata": {
        "colab": {
          "base_uri": "https://localhost:8080/"
        },
        "id": "vBMHbcv9y5TU",
        "outputId": "404c12dd-ec94-4edc-aa49-c3dce64f9012"
      },
      "outputs": [
        {
          "data": {
            "text/plain": [
              "tensor([20.2336], grad_fn=<AddBackward0>)"
            ]
          },
          "execution_count": 85,
          "metadata": {},
          "output_type": "execute_result"
        }
      ],
      "source": [
        "(train_x[0]*weights.T).sum() + bias"
      ]
    },
    {
      "cell_type": "code",
      "execution_count": 86,
      "metadata": {
        "colab": {
          "base_uri": "https://localhost:8080/"
        },
        "id": "R9czTmqVy5TU",
        "outputId": "8678a7c3-83f3-4eda-b7b9-d49cf6d6097b"
      },
      "outputs": [
        {
          "data": {
            "text/plain": [
              "(tensor([[20.2336],\n",
              "         [17.0644],\n",
              "         [15.2384],\n",
              "         ...,\n",
              "         [18.3804],\n",
              "         [23.8567],\n",
              "         [28.6816]], grad_fn=<AddBackward0>), torch.Size([12396, 1]))"
            ]
          },
          "execution_count": 86,
          "metadata": {},
          "output_type": "execute_result"
        }
      ],
      "source": [
        "def linear1(xb): return xb@weights + bias\n",
        "preds = linear1(train_x)\n",
        "preds, preds.shape"
      ]
    },
    {
      "cell_type": "code",
      "execution_count": 87,
      "metadata": {
        "colab": {
          "base_uri": "https://localhost:8080/"
        },
        "id": "wwniq9TRy5TU",
        "outputId": "55f8f9bb-eb8d-4ba7-a079-9539f403540e"
      },
      "outputs": [
        {
          "data": {
            "text/plain": [
              "(tensor([[ True],\n",
              "         [ True],\n",
              "         [ True],\n",
              "         ...,\n",
              "         [False],\n",
              "         [False],\n",
              "         [False]]), torch.Size([12396, 1]))"
            ]
          },
          "execution_count": 87,
          "metadata": {},
          "output_type": "execute_result"
        }
      ],
      "source": [
        "corrects = (preds>0.0).float() == train_y\n",
        "corrects, corrects.shape"
      ]
    },
    {
      "cell_type": "code",
      "execution_count": 88,
      "metadata": {
        "colab": {
          "base_uri": "https://localhost:8080/"
        },
        "id": "MWU1elSIy5TU",
        "outputId": "d9041ccc-c94a-451f-b3cc-2c3a302a6f4a"
      },
      "outputs": [
        {
          "data": {
            "text/plain": [
              "0.4912068545818329"
            ]
          },
          "execution_count": 88,
          "metadata": {},
          "output_type": "execute_result"
        }
      ],
      "source": [
        "corrects.float().mean().item()"
      ]
    },
    {
      "cell_type": "code",
      "execution_count": 89,
      "metadata": {
        "id": "k4-or5gxy5TV"
      },
      "outputs": [],
      "source": [
        "with torch.no_grad(): weights[0] *= 1.0001"
      ]
    },
    {
      "cell_type": "code",
      "execution_count": 90,
      "metadata": {
        "colab": {
          "base_uri": "https://localhost:8080/"
        },
        "id": "3WrXciHJy5TV",
        "outputId": "f3525edd-65d4-4536-9d0a-60f5c5715212"
      },
      "outputs": [
        {
          "data": {
            "text/plain": [
              "0.4912068545818329"
            ]
          },
          "execution_count": 90,
          "metadata": {},
          "output_type": "execute_result"
        }
      ],
      "source": [
        "preds = linear1(train_x)\n",
        "((preds>0.0).float() == train_y).float().mean().item()"
      ]
    },
    {
      "cell_type": "code",
      "execution_count": 91,
      "metadata": {
        "id": "ADxPCBGBy5TV"
      },
      "outputs": [],
      "source": [
        "trgts  = tensor([1,0,1])\n",
        "prds   = tensor([0.9, 0.4, 0.2])"
      ]
    },
    {
      "cell_type": "code",
      "execution_count": 92,
      "metadata": {
        "id": "U6uzD1xhy5TV"
      },
      "outputs": [],
      "source": [
        "def mnist_loss(predictions, targets):\n",
        "    # torch.where(a, b, c) -> [b[i] if a[i] else c[i] for i in range(len(a))]\n",
        "    # 여기서는 정답이 1일 때 예측이 1과 떨어진 정도를, 정답이 0일 때 예측이 0과 떨어진 정도를 측정하고\n",
        "    # 이렇게 구한 모든 거리의 평균을 구한다.\n",
        "    return torch.where(targets==1, 1-predictions, predictions).mean()"
      ]
    },
    {
      "cell_type": "code",
      "execution_count": 93,
      "metadata": {
        "colab": {
          "base_uri": "https://localhost:8080/"
        },
        "id": "xgUwOYS5y5TV",
        "outputId": "dd53bb08-354a-42e3-a533-2be37b71229b"
      },
      "outputs": [
        {
          "data": {
            "text/plain": [
              "tensor([0.1000, 0.4000, 0.8000])"
            ]
          },
          "execution_count": 93,
          "metadata": {},
          "output_type": "execute_result"
        }
      ],
      "source": [
        "torch.where(trgts==1, 1-prds, prds)"
      ]
    },
    {
      "cell_type": "code",
      "execution_count": 94,
      "metadata": {
        "colab": {
          "base_uri": "https://localhost:8080/"
        },
        "id": "uFBIT5Hxy5TV",
        "outputId": "c33cfd0d-123e-4663-e288-d93b07a5e907"
      },
      "outputs": [
        {
          "data": {
            "text/plain": [
              "tensor(0.4333)"
            ]
          },
          "execution_count": 94,
          "metadata": {},
          "output_type": "execute_result"
        }
      ],
      "source": [
        "mnist_loss(prds,trgts)"
      ]
    },
    {
      "cell_type": "code",
      "execution_count": 95,
      "metadata": {
        "colab": {
          "base_uri": "https://localhost:8080/"
        },
        "id": "5gGmZe8Ly5TV",
        "outputId": "296b635c-a9a0-4f34-aa69-aeb1f2eda6b7"
      },
      "outputs": [
        {
          "data": {
            "text/plain": [
              "tensor(0.2333)"
            ]
          },
          "execution_count": 95,
          "metadata": {},
          "output_type": "execute_result"
        }
      ],
      "source": [
        "mnist_loss(tensor([0.9, 0.4, 0.8]),trgts)"
      ]
    },
    {
      "cell_type": "markdown",
      "metadata": {
        "id": "tCc-ZoRay5TV"
      },
      "source": [
        "### Sigmoid Function\n",
        "- 시그모이드 함수\n",
        "    - (입력값에 상관없이)항상 0~1 사이의 숫자를 출력(반환)\n",
        "    - 오직 증가만 하는 부드러운 곡선 형태의 함수라서 SGD가 의미 있는 그래디언트를 더 쉽게 찾도록 도와준다."
      ]
    },
    {
      "cell_type": "code",
      "execution_count": 96,
      "metadata": {
        "id": "tdhMSrkny5TV"
      },
      "outputs": [],
      "source": [
        "# sigmoid 함수를 파이썬 코드로 구현한 모습\n",
        "def sigmoid(x): return 1/(1+torch.exp(-x))"
      ]
    },
    {
      "cell_type": "code",
      "execution_count": 97,
      "metadata": {
        "colab": {
          "base_uri": "https://localhost:8080/",
          "height": 285
        },
        "id": "1leqbFUsy5TW",
        "outputId": "e6ba51ed-9c07-460f-b6cd-cea7f3a4826e"
      },
      "outputs": [
        {
          "data": {
            "image/png": "[encoded data removed]",
            "text/plain": [
              "<Figure size 432x288 with 1 Axes>"
            ]
          },
          "metadata": {
            "needs_background": "light"
          },
          "output_type": "display_data"
        }
      ],
      "source": [
        "plot_function(torch.sigmoid, title='Sigmoid', min=-4, max=4)"
      ]
    },
    {
      "cell_type": "code",
      "execution_count": 98,
      "metadata": {
        "id": "Xk1irDYMy5TW"
      },
      "outputs": [],
      "source": [
        "def mnist_loss(predictions, targets):\n",
        "    predictions = predictions.sigmoid()\n",
        "    return torch.where(targets==1, 1-predictions, predictions).mean()"
      ]
    },
    {
      "cell_type": "markdown",
      "metadata": {
        "id": "enBWNy3_eZS6"
      },
      "source": [
        "- 손실 함수가 필요한 이유(왜 손실을 정의해야 할까?)\n",
        "    - `평가지표`는 사람의 이해를 돕고, `손실`은 자동화된 학습을 이끌어간다는 점이 주된 차이점이다. 따라서 손실은 유의미한 미분이 있는 함수(즉 미분 가능한 함수 -> 연속 함수)여야만 한다. 넓고 평평하거나 급작스러운 변화 구간이 있어선 안되며, 적당히 매끄러운 형태를 띠어야만 한다. 앞서 구상했던 작은 신뢰도 변화에도 반응하는 손실 함수가 이런 특징을 수용한다. 손실 함수의 요구 사항은 사람이 정한 달성목표를 정확히 반영하지는 못하지만, 달성 목표와 그래디언트로 최적화될 수 있는 함수 사이의 절충안으로 볼 수 있다. 손실 함수는 데이터셋의 각 요소에 대해 계산되고, 한 에포크가 끝나는 시점에는 모든 손실값의 평균을 구할 수 있다. 반면 평가지표는 사람이 실제로 관심을 가지는 숫자이다. 매 에포크의 끝에서 모델이 얼마나 학습을 잘했는지를 알려주는 값이다. `손실보다는 평가지표로 모델의 성능을 판단해야 한다는 사실을 알아둬야 한다.`"
      ]
    },
    {
      "cell_type": "markdown",
      "metadata": {
        "id": "XL6YUS-Iy5TW"
      },
      "source": [
        "### SGD and Mini-Batches\n",
        "- SGD와 미니배치\n",
        "    - 그래디언트에 기반하여 가중치를 갱신하는 학습의 과정을 `최적화 단계`라고 한다. 최적화 단계를 거치려면 하나 이상의 데이터에 대한 손실을 계산해야만 한다. 그렇다면 얼마나 많은 데이터가 필요할까?\n",
        "        - 전체 데이터셋에 대한 손실을 계산한다 -> 시간이 너무 오래 걸린다.\n",
        "        - 단일 데이터셋에 대해서만 손실을 계산 -> 많은(다양한) 정보를 활용할 수 없어서 부정확하고 불안정한 그래디언트가 계산된다. 단일 항목에만 의존하여 모델의 성능을 개선하므로 가중치 갱신에 문제를 겪게 된다.\n",
        "    - 따라서 절출안이 필요하다. 즉 한 번에 일정 개수의 데이터에 대한 `손실의 평균`을 계산한다. 이런 방식을 `미니배치학습(mini batch training)`이라 하고, 미니배치에 포함된 데이터 개수를 `배치 크기(batch size)`라고 한다. 배치 크기가 클수록 손실 함수로 계산되는 그래디언트가 더 정확하고 안정적으로 추정되지만, 이또한 단일 데이터에 대한 손실 계산보다 상대적으로 계산이 오래 걸린다. 그렇다면 미니배치의 배치 크기를 조정해보면서 모델을 빠르고 정확히 학습시키는 적당한 배치 크기를 고를 수 있어야 한다.\n",
        "    - 그래디언트 계산을 개별 데이터 대신 미니배치로 해야 하는 또 다른 이유는 학습을 보통 GPU 같은 가속장치에서 수행하기 때문이다. 그리고 이런 가속장치는 한 번에 많은 일을 처리해야 할 때만 성능이 좋다. 즉 가속장치 작업으로 `가능한 한 많은 데이터`를 할당하면 도움이 되며, 미니배치는 이를 위한 좋은 방법이 되는 것이다. 그러나 예상할 수 있듯이 너무나도 많은 데이터 처리를 요청한다면 자칫 메모리 부족 현상을 겪을지도 모른다. 이는 GPU를 효율적으로 활용하기도 꽤 까다로워 딥러닝 실무자에게 `적절한 배치 크기 선정`이 요구된다는 점을 시사한다."
      ]
    },
    {
      "cell_type": "code",
      "execution_count": 99,
      "metadata": {
        "colab": {
          "base_uri": "https://localhost:8080/"
        },
        "id": "3ljAz5tJy5TW",
        "outputId": "b984d21b-8498-44bf-ef73-a97fc81f9303"
      },
      "outputs": [
        {
          "data": {
            "text/plain": [
              "[tensor([ 3, 12,  8, 10,  2]),\n",
              " tensor([ 9,  4,  7, 14,  5]),\n",
              " tensor([ 1, 13,  0,  6, 11])]"
            ]
          },
          "execution_count": 99,
          "metadata": {},
          "output_type": "execute_result"
        }
      ],
      "source": [
        "coll = range(15)\n",
        "dl = DataLoader(coll, batch_size=5, shuffle=True)\n",
        "list(dl)"
      ]
    },
    {
      "cell_type": "code",
      "execution_count": 102,
      "metadata": {
        "colab": {
          "base_uri": "https://localhost:8080/"
        },
        "id": "jutD9bJey5TW",
        "outputId": "cc8cad81-0051-4428-aba0-17d5ddabcbac"
      },
      "outputs": [
        {
          "data": {
            "text/plain": [
              "(#26) [(0, 'a'),(1, 'b'),(2, 'c'),(3, 'd'),(4, 'e'),(5, 'f'),(6, 'g'),(7, 'h'),(8, 'i'),(9, 'j')...]"
            ]
          },
          "execution_count": 102,
          "metadata": {},
          "output_type": "execute_result"
        }
      ],
      "source": [
        "ds = L(enumerate(string.ascii_lowercase))\n",
        "ds"
      ]
    },
    {
      "cell_type": "code",
      "execution_count": 103,
      "metadata": {
        "colab": {
          "base_uri": "https://localhost:8080/"
        },
        "id": "f5SJkr2Zy5TW",
        "outputId": "48badb94-5d79-48c5-b5f5-81b07d936f8e"
      },
      "outputs": [
        {
          "data": {
            "text/plain": [
              "[(tensor([17, 18, 10, 22,  8, 14]), ('r', 's', 'k', 'w', 'i', 'o')),\n",
              " (tensor([20, 15,  9, 13, 21, 12]), ('u', 'p', 'j', 'n', 'v', 'm')),\n",
              " (tensor([ 7, 25,  6,  5, 11, 23]), ('h', 'z', 'g', 'f', 'l', 'x')),\n",
              " (tensor([ 1,  3,  0, 24, 19, 16]), ('b', 'd', 'a', 'y', 't', 'q')),\n",
              " (tensor([2, 4]), ('c', 'e'))]"
            ]
          },
          "execution_count": 103,
          "metadata": {},
          "output_type": "execute_result"
        }
      ],
      "source": [
        "dl = DataLoader(ds, batch_size=6, shuffle=True)\n",
        "list(dl)"
      ]
    },
    {
      "cell_type": "markdown",
      "metadata": {
        "id": "77IpWRxKy5TW"
      },
      "source": [
        "## Putting It All Together\n",
        "- 모든 것을 한 자리에"
      ]
    },
    {
      "cell_type": "code",
      "execution_count": 104,
      "metadata": {
        "id": "7-x1Yhc6y5TW"
      },
      "outputs": [],
      "source": [
        "# 파라미터 초기화\n",
        "weights = init_params((28*28,1))\n",
        "bias = init_params(1)"
      ]
    },
    {
      "cell_type": "code",
      "execution_count": 105,
      "metadata": {
        "colab": {
          "base_uri": "https://localhost:8080/"
        },
        "id": "X9rglqVyy5TW",
        "outputId": "cc7e8c22-4b3c-44e0-aa32-e3125e35c5df"
      },
      "outputs": [
        {
          "data": {
            "text/plain": [
              "(torch.Size([256, 784]), torch.Size([256, 1]))"
            ]
          },
          "execution_count": 105,
          "metadata": {},
          "output_type": "execute_result"
        }
      ],
      "source": [
        "# 만들어둔 데이터셋으로 DataLoader 생성\n",
        "dl = DataLoader(dset, batch_size=256)\n",
        "xb,yb = first(dl)\n",
        "xb.shape,yb.shape"
      ]
    },
    {
      "cell_type": "code",
      "execution_count": 106,
      "metadata": {
        "id": "yVdmSb11y5TX"
      },
      "outputs": [],
      "source": [
        "# 검증용 데이터셋에도 같은 작업\n",
        "valid_dl = DataLoader(valid_dset, batch_size=256)"
      ]
    },
    {
      "cell_type": "markdown",
      "metadata": {},
      "source": [
        "- 크기가 4인 미니배치를 만들어서 간단한 검사 진행"
      ]
    },
    {
      "cell_type": "code",
      "execution_count": 107,
      "metadata": {
        "colab": {
          "base_uri": "https://localhost:8080/"
        },
        "id": "0KrAJ7YNy5TX",
        "outputId": "cd8170f2-afc3-4bf1-8dd6-59cc029e137c"
      },
      "outputs": [
        {
          "data": {
            "text/plain": [
              "torch.Size([4, 784])"
            ]
          },
          "execution_count": 107,
          "metadata": {},
          "output_type": "execute_result"
        }
      ],
      "source": [
        "batch = train_x[:4]\n",
        "batch.shape"
      ]
    },
    {
      "cell_type": "code",
      "execution_count": 108,
      "metadata": {
        "colab": {
          "base_uri": "https://localhost:8080/"
        },
        "id": "qg1gZ_vSy5TX",
        "outputId": "5d5234e8-7c76-4ca0-f851-fa7e35edf51c"
      },
      "outputs": [
        {
          "data": {
            "text/plain": [
              "tensor([[-2.1876],\n",
              "        [-8.3973],\n",
              "        [ 2.5000],\n",
              "        [-4.9473]], grad_fn=<AddBackward0>)"
            ]
          },
          "execution_count": 108,
          "metadata": {},
          "output_type": "execute_result"
        }
      ],
      "source": [
        "preds = linear1(batch)\n",
        "preds"
      ]
    },
    {
      "cell_type": "code",
      "execution_count": 109,
      "metadata": {
        "colab": {
          "base_uri": "https://localhost:8080/"
        },
        "id": "GIM45vzLy5TX",
        "outputId": "49e22482-f65a-4486-943f-0e94512ebd82"
      },
      "outputs": [
        {
          "data": {
            "text/plain": [
              "tensor(0.7419, grad_fn=<MeanBackward0>)"
            ]
          },
          "execution_count": 109,
          "metadata": {},
          "output_type": "execute_result"
        }
      ],
      "source": [
        "loss = mnist_loss(preds, train_y[:4])\n",
        "loss"
      ]
    },
    {
      "cell_type": "code",
      "execution_count": 110,
      "metadata": {
        "colab": {
          "base_uri": "https://localhost:8080/"
        },
        "id": "cLz9Qqp-y5TX",
        "outputId": "9cbbb744-4ee9-4744-f3c8-228c17cb7cd9"
      },
      "outputs": [
        {
          "data": {
            "text/plain": [
              "(torch.Size([784, 1]), tensor(-0.0061), tensor([-0.0420]))"
            ]
          },
          "execution_count": 110,
          "metadata": {},
          "output_type": "execute_result"
        }
      ],
      "source": [
        "loss.backward()\n",
        "weights.grad.shape, weights.grad.mean(), bias.grad"
      ]
    },
    {
      "cell_type": "markdown",
      "metadata": {},
      "source": [
        "- 크기가 4인 미니배치로 진행해본 모든 내용을 함수 하나로 정의한다."
      ]
    },
    {
      "cell_type": "code",
      "execution_count": 111,
      "metadata": {
        "id": "X9kymjU-y5TX"
      },
      "outputs": [],
      "source": [
        "def calc_grad(xb, yb, model):\n",
        "    preds = model(xb)\n",
        "    loss = mnist_loss(preds, yb)\n",
        "    loss.backward()"
      ]
    },
    {
      "cell_type": "markdown",
      "metadata": {},
      "source": [
        "- 그리고 크기 4의 미니배치를 함수로 만든 버전에 다시 한번 적용시켜본다."
      ]
    },
    {
      "cell_type": "code",
      "execution_count": 112,
      "metadata": {
        "colab": {
          "base_uri": "https://localhost:8080/"
        },
        "id": "uL661yypy5TX",
        "outputId": "f290a94c-1eaa-43ec-ad6d-66ebf353d5a2"
      },
      "outputs": [
        {
          "data": {
            "text/plain": [
              "(tensor(-0.0121), tensor([-0.0840]))"
            ]
          },
          "execution_count": 112,
          "metadata": {},
          "output_type": "execute_result"
        }
      ],
      "source": [
        "calc_grad(batch, train_y[:4], linear1)\n",
        "weights.grad.mean(), bias.grad"
      ]
    },
    {
      "cell_type": "code",
      "execution_count": 113,
      "metadata": {
        "colab": {
          "base_uri": "https://localhost:8080/"
        },
        "id": "-eIt2V2gy5TX",
        "outputId": "4e35592f-fabc-4dc9-c568-9668e0c4b33c"
      },
      "outputs": [
        {
          "data": {
            "text/plain": [
              "(tensor(-0.0182), tensor([-0.1260]))"
            ]
          },
          "execution_count": 113,
          "metadata": {},
          "output_type": "execute_result"
        }
      ],
      "source": [
        "calc_grad(batch, train_y[:4], linear1)\n",
        "weights.grad.mean(),bias.grad"
      ]
    },
    {
      "cell_type": "markdown",
      "metadata": {},
      "source": [
        "- 그런데 현재까지 크기 4의 미니배치로 진행 해본 검사는 모두 같은 작업의 반복이었다. 하지만 총 3번의 호출 뒤에 어떤 일이 일어났는지 관찰해보면, 가중치 갱신(최적화 단계) 과정을 거치지 않았음에도 그래디언트가 변했다. `loss.backward()`는 현재 계산된 손실의 그래디언트를 앞서 계산된 그래디언트에 `누적하여 더하기` 때문이다. 따라서 최적화 단계를 거친 후에 그래디언트를 0으로 설정(리셋)해줘야 한다."
      ]
    },
    {
      "cell_type": "code",
      "execution_count": 114,
      "metadata": {
        "id": "1WGxpirvy5TY"
      },
      "outputs": [],
      "source": [
        "weights.grad.zero_()\n",
        "bias.grad.zero_();"
      ]
    },
    {
      "cell_type": "markdown",
      "metadata": {},
      "source": [
        "- `NOTE`: 파이토치가 제공하는 메서드 중 이름의 마지막에 밑줄이 포함된 것은 해당 객체를 `제자리에서(in-place)` 조작한다. 가령 `bias.zero_` 라는 메서드는 `bias` 자체의 모든 요소를 0으로 설정한다."
      ]
    },
    {
      "cell_type": "markdown",
      "metadata": {},
      "source": [
        "- 이제 그래디언트 및 학습률에 기반해 가중치과 편향을 갱신하는 단계(최적화 단계)만 남았다. 그러려면 여기서도 파이토치가 그래디언트를 계산하지 못하도록 조치해야 한다. 안 그러면 다음 배치의 미분 계산 시 매우 혼란스러운 상황이 발생할 수 있다. 조치로는 텐서의 `data` 속성에 갱신할 값을 할당하면 파이토치는 해당 단계에서 그래디언트를 계산하지 않는다.\n",
        "- 아래는 한 에포크에서 수행되는 간단한 학습 루트이다."
      ]
    },
    {
      "cell_type": "code",
      "execution_count": 115,
      "metadata": {
        "id": "M_UJR3EZy5TY"
      },
      "outputs": [],
      "source": [
        "def train_epoch(model, lr, params):\n",
        "    for xb,yb in dl:\n",
        "        calc_grad(xb, yb, model)\n",
        "        for p in params:\n",
        "            p.data -= p.grad*lr\n",
        "            p.grad.zero_()"
      ]
    },
    {
      "cell_type": "markdown",
      "metadata": {},
      "source": [
        "- 또한 검증용 데이터셋으로 정확도를 확인하여 학습이 얼마나 잘 이뤄지는지를 확인해야 한다.(평가지표)\n",
        "- 반복문 없이 브로드캐스팅으로 다음처럼 각 데이터에 대한 정확도를 계산한다."
      ]
    },
    {
      "cell_type": "code",
      "execution_count": 117,
      "metadata": {
        "colab": {
          "base_uri": "https://localhost:8080/"
        },
        "id": "VPu7ILEsy5TY",
        "outputId": "9602a95f-d6e6-4361-abb1-6e7650d1c7bd"
      },
      "outputs": [
        {
          "data": {
            "text/plain": [
              "tensor([[False],\n",
              "        [False],\n",
              "        [ True],\n",
              "        [False]])"
            ]
          },
          "execution_count": 117,
          "metadata": {},
          "output_type": "execute_result"
        }
      ],
      "source": [
        "(preds>0.5).float() == train_y[:4]"
      ]
    },
    {
      "cell_type": "markdown",
      "metadata": {},
      "source": [
        "- 위와 같은 방식으로 배치 단위의 평균 정확도를 계산하는 함수를 만들 수 있다."
      ]
    },
    {
      "cell_type": "code",
      "execution_count": 118,
      "metadata": {
        "id": "vWvfoVZ5y5TY"
      },
      "outputs": [],
      "source": [
        "def batch_accuracy(xb, yb):\n",
        "    preds = xb.sigmoid()\n",
        "    correct = (preds>0.5) == yb\n",
        "    return correct.float().mean()"
      ]
    },
    {
      "cell_type": "code",
      "execution_count": 119,
      "metadata": {
        "colab": {
          "base_uri": "https://localhost:8080/"
        },
        "id": "ApaZ9TxPy5TY",
        "outputId": "5f7b1b34-dcad-4e53-a229-b9b83d907805"
      },
      "outputs": [
        {
          "data": {
            "text/plain": [
              "tensor(0.2500)"
            ]
          },
          "execution_count": 119,
          "metadata": {},
          "output_type": "execute_result"
        }
      ],
      "source": [
        "batch_accuracy(linear1(batch), train_y[:4])"
      ]
    },
    {
      "cell_type": "markdown",
      "metadata": {},
      "source": [
        "- 이제 검증용 데이터셋의 모든 배치에 `batch_accuracy` 함수를 적용해서 얻은 결과들의 평균(미니배치의 평균 정확도들의 평균 정확도)을 구해본다."
      ]
    },
    {
      "cell_type": "code",
      "execution_count": 120,
      "metadata": {
        "id": "f55ckUH3y5TY"
      },
      "outputs": [],
      "source": [
        "def validate_epoch(model):\n",
        "    accs = [batch_accuracy(model(xb), yb) for xb,yb in valid_dl]\n",
        "    return round(torch.stack(accs).mean().item(), 4)"
      ]
    },
    {
      "cell_type": "code",
      "execution_count": 121,
      "metadata": {
        "colab": {
          "base_uri": "https://localhost:8080/"
        },
        "id": "zef12WqQy5TY",
        "outputId": "a5208be8-768b-4e54-81ab-234ca3e95213"
      },
      "outputs": [
        {
          "data": {
            "text/plain": [
              "0.5264"
            ]
          },
          "execution_count": 121,
          "metadata": {},
          "output_type": "execute_result"
        }
      ],
      "source": [
        "validate_epoch(linear1)"
      ]
    },
    {
      "cell_type": "markdown",
      "metadata": {},
      "source": [
        "- 여기까지가 학습을 진행하기 위한 출발점이다. 그러면 이번에는 한 에포크 동안 모델을 학습시킨 다음 정확도가 개선되는지를 확인해본다."
      ]
    },
    {
      "cell_type": "code",
      "execution_count": 122,
      "metadata": {
        "colab": {
          "base_uri": "https://localhost:8080/"
        },
        "id": "qJzlcmJby5TY",
        "outputId": "507d3bc6-3ae2-4f62-d3d0-e38e425c6971"
      },
      "outputs": [
        {
          "data": {
            "text/plain": [
              "0.6663"
            ]
          },
          "execution_count": 122,
          "metadata": {},
          "output_type": "execute_result"
        }
      ],
      "source": [
        "lr = 1.\n",
        "params = weights, bias\n",
        "train_epoch(linear1, lr, params)\n",
        "validate_epoch(linear1)"
      ]
    },
    {
      "cell_type": "markdown",
      "metadata": {},
      "source": [
        "- 조금 개선이 되었다. 에포크를 20번 더 반복해본다."
      ]
    },
    {
      "cell_type": "code",
      "execution_count": 123,
      "metadata": {
        "colab": {
          "base_uri": "https://localhost:8080/"
        },
        "id": "cWQys6rLy5Tc",
        "outputId": "aaec252a-2c6c-49df-f7ef-da567aaf3a82"
      },
      "outputs": [
        {
          "name": "stdout",
          "output_type": "stream",
          "text": [
            "0.8265 0.89 0.9183 0.9276 0.9398 0.9466 0.9505 0.9525 0.9559 0.9578 0.9598 0.9608 0.9613 0.9618 0.9633 0.9637 0.9647 0.9657 0.9672 0.9677 "
          ]
        }
      ],
      "source": [
        "for i in range(20):\n",
        "    train_epoch(linear1, lr, params)\n",
        "    print(validate_epoch(linear1), end=' ')"
      ]
    },
    {
      "cell_type": "markdown",
      "metadata": {},
      "source": [
        "- 결과가 꽤 괜찮아 보인다. 범용적으로 사용할 수 있는 `기본적인 코드`를 직접 만들었을 뿐만 아니라, 이미 '픽셀 유사도' 접근과 유사한 수준의 정확도까지 도달하였다. 다음으로는 SGD 단계를 포장하여 객체로서 다룰 수 있게끔 만들어 본다. 파이토치에서는 이런 객체를 `최적화기(optimizer)`라고 한다."
      ]
    },
    {
      "cell_type": "markdown",
      "metadata": {
        "id": "N1wr0jb2y5Tc"
      },
      "source": [
        "### Creating an Optimizer\n",
        "- 최적화기 만들기"
      ]
    },
    {
      "cell_type": "code",
      "execution_count": 124,
      "metadata": {
        "id": "-PlCHYtyy5Tc"
      },
      "outputs": [],
      "source": [
        "linear_model = nn.Linear(28*28,1)"
      ]
    },
    {
      "cell_type": "code",
      "execution_count": 125,
      "metadata": {
        "colab": {
          "base_uri": "https://localhost:8080/"
        },
        "id": "oRubIi5xy5Tc",
        "outputId": "e209fb61-3344-4c9b-d2ab-ce9d81470378"
      },
      "outputs": [
        {
          "data": {
            "text/plain": [
              "(torch.Size([1, 784]), torch.Size([1]))"
            ]
          },
          "execution_count": 125,
          "metadata": {},
          "output_type": "execute_result"
        }
      ],
      "source": [
        "w,b = linear_model.parameters()\n",
        "w.shape,b.shape"
      ]
    },
    {
      "cell_type": "code",
      "execution_count": 126,
      "metadata": {
        "id": "98RE0WIdy5Tc"
      },
      "outputs": [],
      "source": [
        "class BasicOptim:\n",
        "    def __init__(self,params,lr): self.params,self.lr = list(params),lr\n",
        "\n",
        "    def step(self, *args, **kwargs):\n",
        "        for p in self.params: p.data -= p.grad.data * self.lr\n",
        "\n",
        "    def zero_grad(self, *args, **kwargs):\n",
        "        for p in self.params: p.grad = None"
      ]
    },
    {
      "cell_type": "code",
      "execution_count": 127,
      "metadata": {
        "id": "kAocctQ5y5Tc"
      },
      "outputs": [],
      "source": [
        "opt = BasicOptim(linear_model.parameters(), lr)"
      ]
    },
    {
      "cell_type": "code",
      "execution_count": 128,
      "metadata": {
        "id": "aO-vlCC1y5Td"
      },
      "outputs": [],
      "source": [
        "def train_epoch(model):\n",
        "    for xb,yb in dl:\n",
        "        calc_grad(xb, yb, model)\n",
        "        opt.step()\n",
        "        opt.zero_grad()"
      ]
    },
    {
      "cell_type": "code",
      "execution_count": 129,
      "metadata": {
        "colab": {
          "base_uri": "https://localhost:8080/"
        },
        "id": "9YQemn0_y5Td",
        "outputId": "bad326fc-5de1-49ff-9132-b4e2008e4e27"
      },
      "outputs": [
        {
          "data": {
            "text/plain": [
              "0.4605"
            ]
          },
          "execution_count": 129,
          "metadata": {},
          "output_type": "execute_result"
        }
      ],
      "source": [
        "validate_epoch(linear_model)"
      ]
    },
    {
      "cell_type": "code",
      "execution_count": 130,
      "metadata": {
        "id": "xTdqQicly5Td"
      },
      "outputs": [],
      "source": [
        "def train_model(model, epochs):\n",
        "    for i in range(epochs):\n",
        "        train_epoch(model)\n",
        "        print(validate_epoch(model), end=' ')"
      ]
    },
    {
      "cell_type": "code",
      "execution_count": 131,
      "metadata": {
        "colab": {
          "base_uri": "https://localhost:8080/"
        },
        "id": "XAS8docRy5Td",
        "outputId": "b276e809-326f-4357-fe61-6a0a3df538b7"
      },
      "outputs": [
        {
          "name": "stdout",
          "output_type": "stream",
          "text": [
            "0.4932 0.7686 0.8555 0.9136 0.9346 0.9482 0.957 0.9634 0.9658 0.9678 0.9697 0.9717 0.9736 0.9746 0.9761 0.9771 0.9775 0.9775 0.978 0.9785 "
          ]
        }
      ],
      "source": [
        "train_model(linear_model, 20)"
      ]
    },
    {
      "cell_type": "code",
      "execution_count": 132,
      "metadata": {
        "colab": {
          "base_uri": "https://localhost:8080/"
        },
        "id": "OOyKx2C4y5Td",
        "outputId": "5beae03f-7c08-4907-b2af-0c4e3b99cffe"
      },
      "outputs": [
        {
          "name": "stdout",
          "output_type": "stream",
          "text": [
            "0.4932 0.8179 0.8496 0.9141 0.9346 0.9482 0.957 0.9619 0.9658 0.9673 0.9692 0.9712 0.9741 0.9751 0.9761 0.9775 0.9775 0.978 0.9785 0.979 "
          ]
        }
      ],
      "source": [
        "linear_model = nn.Linear(28*28,1)\n",
        "opt = SGD(linear_model.parameters(), lr)\n",
        "train_model(linear_model, 20)"
      ]
    },
    {
      "cell_type": "code",
      "execution_count": 133,
      "metadata": {
        "id": "m_rrTdE_y5Td"
      },
      "outputs": [],
      "source": [
        "dls = DataLoaders(dl, valid_dl)"
      ]
    },
    {
      "cell_type": "code",
      "execution_count": 134,
      "metadata": {
        "id": "oYJ10XzTy5Td"
      },
      "outputs": [],
      "source": [
        "learn = Learner(dls, nn.Linear(28*28,1), opt_func=SGD,\n",
        "                loss_func=mnist_loss, metrics=batch_accuracy)"
      ]
    },
    {
      "cell_type": "code",
      "execution_count": 135,
      "metadata": {
        "colab": {
          "base_uri": "https://localhost:8080/",
          "height": 363
        },
        "id": "ZVbKVGk8y5Td",
        "outputId": "c7083a6e-45aa-46f9-97c6-a62b06926ca0"
      },
      "outputs": [
        {
          "data": {
            "text/html": [
              "\n",
              "<style>\n",
              "    /* Turns off some styling */\n",
              "    progress {\n",
              "        /* gets rid of default border in Firefox and Opera. */\n",
              "        border: none;\n",
              "        /* Needs to be in here for Safari polyfill so background images work as expected. */\n",
              "        background-size: auto;\n",
              "    }\n",
              "    progress:not([value]), progress:not([value])::-webkit-progress-bar {\n",
              "        background: repeating-linear-gradient(45deg, #7e7e7e, #7e7e7e 10px, #5c5c5c 10px, #5c5c5c 20px);\n",
              "    }\n",
              "    .progress-bar-interrupted, .progress-bar-interrupted::-webkit-progress-bar {\n",
              "        background: #F44336;\n",
              "    }\n",
              "</style>\n"
            ],
            "text/plain": [
              "<IPython.core.display.HTML object>"
            ]
          },
          "metadata": {},
          "output_type": "display_data"
        },
        {
          "data": {
            "text/html": [
              "<table border=\"1\" class=\"dataframe\">\n",
              "  <thead>\n",
              "    <tr style=\"text-align: left;\">\n",
              "      <th>epoch</th>\n",
              "      <th>train_loss</th>\n",
              "      <th>valid_loss</th>\n",
              "      <th>batch_accuracy</th>\n",
              "      <th>time</th>\n",
              "    </tr>\n",
              "  </thead>\n",
              "  <tbody>\n",
              "    <tr>\n",
              "      <td>0</td>\n",
              "      <td>0.636709</td>\n",
              "      <td>0.503144</td>\n",
              "      <td>0.495584</td>\n",
              "      <td>00:00</td>\n",
              "    </tr>\n",
              "    <tr>\n",
              "      <td>1</td>\n",
              "      <td>0.429828</td>\n",
              "      <td>0.248517</td>\n",
              "      <td>0.777233</td>\n",
              "      <td>00:00</td>\n",
              "    </tr>\n",
              "    <tr>\n",
              "      <td>2</td>\n",
              "      <td>0.161680</td>\n",
              "      <td>0.155361</td>\n",
              "      <td>0.861629</td>\n",
              "      <td>00:00</td>\n",
              "    </tr>\n",
              "    <tr>\n",
              "      <td>3</td>\n",
              "      <td>0.072948</td>\n",
              "      <td>0.097722</td>\n",
              "      <td>0.917566</td>\n",
              "      <td>00:00</td>\n",
              "    </tr>\n",
              "    <tr>\n",
              "      <td>4</td>\n",
              "      <td>0.040128</td>\n",
              "      <td>0.073205</td>\n",
              "      <td>0.936212</td>\n",
              "      <td>00:00</td>\n",
              "    </tr>\n",
              "    <tr>\n",
              "      <td>5</td>\n",
              "      <td>0.027210</td>\n",
              "      <td>0.059466</td>\n",
              "      <td>0.950442</td>\n",
              "      <td>00:00</td>\n",
              "    </tr>\n",
              "    <tr>\n",
              "      <td>6</td>\n",
              "      <td>0.021837</td>\n",
              "      <td>0.050799</td>\n",
              "      <td>0.957802</td>\n",
              "      <td>00:00</td>\n",
              "    </tr>\n",
              "    <tr>\n",
              "      <td>7</td>\n",
              "      <td>0.019398</td>\n",
              "      <td>0.044980</td>\n",
              "      <td>0.964181</td>\n",
              "      <td>00:00</td>\n",
              "    </tr>\n",
              "    <tr>\n",
              "      <td>8</td>\n",
              "      <td>0.018122</td>\n",
              "      <td>0.040853</td>\n",
              "      <td>0.966143</td>\n",
              "      <td>00:00</td>\n",
              "    </tr>\n",
              "    <tr>\n",
              "      <td>9</td>\n",
              "      <td>0.017330</td>\n",
              "      <td>0.037788</td>\n",
              "      <td>0.968106</td>\n",
              "      <td>00:00</td>\n",
              "    </tr>\n",
              "  </tbody>\n",
              "</table>"
            ],
            "text/plain": [
              "<IPython.core.display.HTML object>"
            ]
          },
          "metadata": {},
          "output_type": "display_data"
        }
      ],
      "source": [
        "learn.fit(10, lr=lr)"
      ]
    },
    {
      "cell_type": "markdown",
      "metadata": {
        "id": "wgzNvypey5Te"
      },
      "source": [
        "## Adding a Nonlinearity\n",
        "- 비선형성 추가"
      ]
    },
    {
      "cell_type": "code",
      "execution_count": 136,
      "metadata": {
        "id": "vD-QG5Z3y5Te"
      },
      "outputs": [],
      "source": [
        "def simple_net(xb): \n",
        "    res = xb@w1 + b1\n",
        "    res = res.max(tensor(0.0))\n",
        "    res = res@w2 + b2\n",
        "    return res"
      ]
    },
    {
      "cell_type": "code",
      "execution_count": 137,
      "metadata": {
        "id": "UnaM7byhy5Te"
      },
      "outputs": [],
      "source": [
        "w1 = init_params((28*28,30))\n",
        "b1 = init_params(30)\n",
        "w2 = init_params((30,1))\n",
        "b2 = init_params(1)"
      ]
    },
    {
      "cell_type": "code",
      "execution_count": 138,
      "metadata": {
        "colab": {
          "base_uri": "https://localhost:8080/",
          "height": 268
        },
        "id": "7ylN0pray5Te",
        "outputId": "bccb5549-7d7b-4e4b-ce52-021f4aea25cb"
      },
      "outputs": [
        {
          "data": {
            "image/png": "[encoded data removed]",
            "text/plain": [
              "<Figure size 432x288 with 1 Axes>"
            ]
          },
          "metadata": {
            "needs_background": "light"
          },
          "output_type": "display_data"
        }
      ],
      "source": [
        "plot_function(F.relu)"
      ]
    },
    {
      "cell_type": "code",
      "execution_count": 139,
      "metadata": {
        "id": "Cs265lnny5Te"
      },
      "outputs": [],
      "source": [
        "simple_net = nn.Sequential(\n",
        "    nn.Linear(28*28,30),\n",
        "    nn.ReLU(),\n",
        "    nn.Linear(30,1)\n",
        ")"
      ]
    },
    {
      "cell_type": "code",
      "execution_count": 140,
      "metadata": {
        "id": "pM0RfkDcy5Te"
      },
      "outputs": [],
      "source": [
        "learn = Learner(dls, simple_net, opt_func=SGD,\n",
        "                loss_func=mnist_loss, metrics=batch_accuracy)"
      ]
    },
    {
      "cell_type": "code",
      "execution_count": 141,
      "metadata": {
        "colab": {
          "base_uri": "https://localhost:8080/",
          "height": 1000
        },
        "id": "zYGJnkeHy5Te",
        "outputId": "bfd6c8b6-d9f2-4d84-de84-e1d2e111e11b"
      },
      "outputs": [
        {
          "data": {
            "text/html": [
              "\n",
              "<style>\n",
              "    /* Turns off some styling */\n",
              "    progress {\n",
              "        /* gets rid of default border in Firefox and Opera. */\n",
              "        border: none;\n",
              "        /* Needs to be in here for Safari polyfill so background images work as expected. */\n",
              "        background-size: auto;\n",
              "    }\n",
              "    progress:not([value]), progress:not([value])::-webkit-progress-bar {\n",
              "        background: repeating-linear-gradient(45deg, #7e7e7e, #7e7e7e 10px, #5c5c5c 10px, #5c5c5c 20px);\n",
              "    }\n",
              "    .progress-bar-interrupted, .progress-bar-interrupted::-webkit-progress-bar {\n",
              "        background: #F44336;\n",
              "    }\n",
              "</style>\n"
            ],
            "text/plain": [
              "<IPython.core.display.HTML object>"
            ]
          },
          "metadata": {},
          "output_type": "display_data"
        },
        {
          "data": {
            "text/html": [
              "<table border=\"1\" class=\"dataframe\">\n",
              "  <thead>\n",
              "    <tr style=\"text-align: left;\">\n",
              "      <th>epoch</th>\n",
              "      <th>train_loss</th>\n",
              "      <th>valid_loss</th>\n",
              "      <th>batch_accuracy</th>\n",
              "      <th>time</th>\n",
              "    </tr>\n",
              "  </thead>\n",
              "  <tbody>\n",
              "    <tr>\n",
              "      <td>0</td>\n",
              "      <td>0.333021</td>\n",
              "      <td>0.396112</td>\n",
              "      <td>0.512267</td>\n",
              "      <td>00:00</td>\n",
              "    </tr>\n",
              "    <tr>\n",
              "      <td>1</td>\n",
              "      <td>0.152461</td>\n",
              "      <td>0.235238</td>\n",
              "      <td>0.797350</td>\n",
              "      <td>00:00</td>\n",
              "    </tr>\n",
              "    <tr>\n",
              "      <td>2</td>\n",
              "      <td>0.083573</td>\n",
              "      <td>0.117471</td>\n",
              "      <td>0.911678</td>\n",
              "      <td>00:00</td>\n",
              "    </tr>\n",
              "    <tr>\n",
              "      <td>3</td>\n",
              "      <td>0.054309</td>\n",
              "      <td>0.078720</td>\n",
              "      <td>0.940628</td>\n",
              "      <td>00:00</td>\n",
              "    </tr>\n",
              "    <tr>\n",
              "      <td>4</td>\n",
              "      <td>0.040829</td>\n",
              "      <td>0.061228</td>\n",
              "      <td>0.956330</td>\n",
              "      <td>00:00</td>\n",
              "    </tr>\n",
              "    <tr>\n",
              "      <td>5</td>\n",
              "      <td>0.034006</td>\n",
              "      <td>0.051490</td>\n",
              "      <td>0.963690</td>\n",
              "      <td>00:00</td>\n",
              "    </tr>\n",
              "    <tr>\n",
              "      <td>6</td>\n",
              "      <td>0.030123</td>\n",
              "      <td>0.045381</td>\n",
              "      <td>0.966634</td>\n",
              "      <td>00:00</td>\n",
              "    </tr>\n",
              "    <tr>\n",
              "      <td>7</td>\n",
              "      <td>0.027619</td>\n",
              "      <td>0.041218</td>\n",
              "      <td>0.968106</td>\n",
              "      <td>00:00</td>\n",
              "    </tr>\n",
              "    <tr>\n",
              "      <td>8</td>\n",
              "      <td>0.025825</td>\n",
              "      <td>0.038200</td>\n",
              "      <td>0.969087</td>\n",
              "      <td>00:00</td>\n",
              "    </tr>\n",
              "    <tr>\n",
              "      <td>9</td>\n",
              "      <td>0.024441</td>\n",
              "      <td>0.035901</td>\n",
              "      <td>0.969578</td>\n",
              "      <td>00:00</td>\n",
              "    </tr>\n",
              "    <tr>\n",
              "      <td>10</td>\n",
              "      <td>0.023321</td>\n",
              "      <td>0.034082</td>\n",
              "      <td>0.971541</td>\n",
              "      <td>00:00</td>\n",
              "    </tr>\n",
              "    <tr>\n",
              "      <td>11</td>\n",
              "      <td>0.022387</td>\n",
              "      <td>0.032598</td>\n",
              "      <td>0.972031</td>\n",
              "      <td>00:00</td>\n",
              "    </tr>\n",
              "    <tr>\n",
              "      <td>12</td>\n",
              "      <td>0.021592</td>\n",
              "      <td>0.031353</td>\n",
              "      <td>0.974485</td>\n",
              "      <td>00:00</td>\n",
              "    </tr>\n",
              "    <tr>\n",
              "      <td>13</td>\n",
              "      <td>0.020904</td>\n",
              "      <td>0.030284</td>\n",
              "      <td>0.975466</td>\n",
              "      <td>00:00</td>\n",
              "    </tr>\n",
              "    <tr>\n",
              "      <td>14</td>\n",
              "      <td>0.020300</td>\n",
              "      <td>0.029352</td>\n",
              "      <td>0.975466</td>\n",
              "      <td>00:00</td>\n",
              "    </tr>\n",
              "    <tr>\n",
              "      <td>15</td>\n",
              "      <td>0.019766</td>\n",
              "      <td>0.028526</td>\n",
              "      <td>0.975466</td>\n",
              "      <td>00:00</td>\n",
              "    </tr>\n",
              "    <tr>\n",
              "      <td>16</td>\n",
              "      <td>0.019288</td>\n",
              "      <td>0.027788</td>\n",
              "      <td>0.976448</td>\n",
              "      <td>00:00</td>\n",
              "    </tr>\n",
              "    <tr>\n",
              "      <td>17</td>\n",
              "      <td>0.018857</td>\n",
              "      <td>0.027124</td>\n",
              "      <td>0.977429</td>\n",
              "      <td>00:00</td>\n",
              "    </tr>\n",
              "    <tr>\n",
              "      <td>18</td>\n",
              "      <td>0.018465</td>\n",
              "      <td>0.026523</td>\n",
              "      <td>0.978410</td>\n",
              "      <td>00:00</td>\n",
              "    </tr>\n",
              "    <tr>\n",
              "      <td>19</td>\n",
              "      <td>0.018107</td>\n",
              "      <td>0.025977</td>\n",
              "      <td>0.978901</td>\n",
              "      <td>00:00</td>\n",
              "    </tr>\n",
              "    <tr>\n",
              "      <td>20</td>\n",
              "      <td>0.017777</td>\n",
              "      <td>0.025479</td>\n",
              "      <td>0.978901</td>\n",
              "      <td>00:00</td>\n",
              "    </tr>\n",
              "    <tr>\n",
              "      <td>21</td>\n",
              "      <td>0.017473</td>\n",
              "      <td>0.025022</td>\n",
              "      <td>0.979392</td>\n",
              "      <td>00:00</td>\n",
              "    </tr>\n",
              "    <tr>\n",
              "      <td>22</td>\n",
              "      <td>0.017191</td>\n",
              "      <td>0.024601</td>\n",
              "      <td>0.980373</td>\n",
              "      <td>00:00</td>\n",
              "    </tr>\n",
              "    <tr>\n",
              "      <td>23</td>\n",
              "      <td>0.016927</td>\n",
              "      <td>0.024213</td>\n",
              "      <td>0.980373</td>\n",
              "      <td>00:00</td>\n",
              "    </tr>\n",
              "    <tr>\n",
              "      <td>24</td>\n",
              "      <td>0.016680</td>\n",
              "      <td>0.023855</td>\n",
              "      <td>0.981354</td>\n",
              "      <td>00:00</td>\n",
              "    </tr>\n",
              "    <tr>\n",
              "      <td>25</td>\n",
              "      <td>0.016449</td>\n",
              "      <td>0.023521</td>\n",
              "      <td>0.981354</td>\n",
              "      <td>00:00</td>\n",
              "    </tr>\n",
              "    <tr>\n",
              "      <td>26</td>\n",
              "      <td>0.016230</td>\n",
              "      <td>0.023211</td>\n",
              "      <td>0.981354</td>\n",
              "      <td>00:00</td>\n",
              "    </tr>\n",
              "    <tr>\n",
              "      <td>27</td>\n",
              "      <td>0.016023</td>\n",
              "      <td>0.022922</td>\n",
              "      <td>0.981354</td>\n",
              "      <td>00:00</td>\n",
              "    </tr>\n",
              "    <tr>\n",
              "      <td>28</td>\n",
              "      <td>0.015827</td>\n",
              "      <td>0.022653</td>\n",
              "      <td>0.981845</td>\n",
              "      <td>00:00</td>\n",
              "    </tr>\n",
              "    <tr>\n",
              "      <td>29</td>\n",
              "      <td>0.015641</td>\n",
              "      <td>0.022401</td>\n",
              "      <td>0.981845</td>\n",
              "      <td>00:00</td>\n",
              "    </tr>\n",
              "    <tr>\n",
              "      <td>30</td>\n",
              "      <td>0.015463</td>\n",
              "      <td>0.022165</td>\n",
              "      <td>0.981845</td>\n",
              "      <td>00:00</td>\n",
              "    </tr>\n",
              "    <tr>\n",
              "      <td>31</td>\n",
              "      <td>0.015294</td>\n",
              "      <td>0.021944</td>\n",
              "      <td>0.983317</td>\n",
              "      <td>00:00</td>\n",
              "    </tr>\n",
              "    <tr>\n",
              "      <td>32</td>\n",
              "      <td>0.015132</td>\n",
              "      <td>0.021736</td>\n",
              "      <td>0.982826</td>\n",
              "      <td>00:00</td>\n",
              "    </tr>\n",
              "    <tr>\n",
              "      <td>33</td>\n",
              "      <td>0.014977</td>\n",
              "      <td>0.021541</td>\n",
              "      <td>0.982826</td>\n",
              "      <td>00:00</td>\n",
              "    </tr>\n",
              "    <tr>\n",
              "      <td>34</td>\n",
              "      <td>0.014828</td>\n",
              "      <td>0.021357</td>\n",
              "      <td>0.982336</td>\n",
              "      <td>00:00</td>\n",
              "    </tr>\n",
              "    <tr>\n",
              "      <td>35</td>\n",
              "      <td>0.014686</td>\n",
              "      <td>0.021184</td>\n",
              "      <td>0.982336</td>\n",
              "      <td>00:00</td>\n",
              "    </tr>\n",
              "    <tr>\n",
              "      <td>36</td>\n",
              "      <td>0.014549</td>\n",
              "      <td>0.021019</td>\n",
              "      <td>0.982336</td>\n",
              "      <td>00:00</td>\n",
              "    </tr>\n",
              "    <tr>\n",
              "      <td>37</td>\n",
              "      <td>0.014417</td>\n",
              "      <td>0.020864</td>\n",
              "      <td>0.982336</td>\n",
              "      <td>00:00</td>\n",
              "    </tr>\n",
              "    <tr>\n",
              "      <td>38</td>\n",
              "      <td>0.014290</td>\n",
              "      <td>0.020716</td>\n",
              "      <td>0.982336</td>\n",
              "      <td>00:00</td>\n",
              "    </tr>\n",
              "    <tr>\n",
              "      <td>39</td>\n",
              "      <td>0.014168</td>\n",
              "      <td>0.020576</td>\n",
              "      <td>0.982336</td>\n",
              "      <td>00:00</td>\n",
              "    </tr>\n",
              "  </tbody>\n",
              "</table>"
            ],
            "text/plain": [
              "<IPython.core.display.HTML object>"
            ]
          },
          "metadata": {},
          "output_type": "display_data"
        }
      ],
      "source": [
        "learn.fit(40, 0.1)"
      ]
    },
    {
      "cell_type": "code",
      "execution_count": 142,
      "metadata": {
        "colab": {
          "base_uri": "https://localhost:8080/",
          "height": 270
        },
        "id": "p44h04Y_y5Te",
        "outputId": "ced645a0-407f-4118-9ef9-63e92d35c2ab"
      },
      "outputs": [
        {
          "data": {
            "image/png": "[encoded data removed]",
            "text/plain": [
              "<Figure size 432x288 with 1 Axes>"
            ]
          },
          "metadata": {
            "needs_background": "light"
          },
          "output_type": "display_data"
        }
      ],
      "source": [
        "plt.plot(L(learn.recorder.values).itemgot(2));"
      ]
    },
    {
      "cell_type": "code",
      "execution_count": 143,
      "metadata": {
        "colab": {
          "base_uri": "https://localhost:8080/"
        },
        "id": "Gez4cQ3Fy5Te",
        "outputId": "a41eddad-ab4f-40b7-c7ca-74ed1ef59b57"
      },
      "outputs": [
        {
          "data": {
            "text/plain": [
              "0.98233562707901"
            ]
          },
          "execution_count": 143,
          "metadata": {},
          "output_type": "execute_result"
        }
      ],
      "source": [
        "learn.recorder.values[-1][2]"
      ]
    },
    {
      "cell_type": "markdown",
      "metadata": {
        "id": "XEWAk-yp6lHK"
      },
      "source": [
        "- 이 시점에서 마법이라고 할만한 결과를 얻었다.\n",
        "    - 올바른 파라미터 집합(w1, b1, w2, b2, ... )이 주어지면 모든 문제를 원하는 정확도로 풀어낼 수 있는 함수(신경망)\n",
        "    - 모든 함수에 대한 최적의 파라미터 집합을 찾아내는 방법(SGD)\n",
        "- 이 두 가지가 딥러닝이 환상적인 일을 해낼 수 있는 이유이다."
      ]
    },
    {
      "cell_type": "markdown",
      "metadata": {
        "id": "o8lam2cTy5Tf"
      },
      "source": [
        "### Going Deeper\n",
        "- 좀 더 깊은 모델"
      ]
    },
    {
      "cell_type": "code",
      "execution_count": 144,
      "metadata": {
        "colab": {
          "base_uri": "https://localhost:8080/",
          "height": 172
        },
        "id": "NB_Xqnb9y5Tf",
        "outputId": "51ff4dad-ec0d-4bc7-853c-f8e114671e88"
      },
      "outputs": [
        {
          "name": "stderr",
          "output_type": "stream",
          "text": [
            "/usr/local/lib/python3.7/dist-packages/torchvision/models/_utils.py:209: UserWarning: The parameter 'pretrained' is deprecated since 0.13 and will be removed in 0.15, please use 'weights' instead.\n",
            "  f\"The parameter '{pretrained_param}' is deprecated since 0.13 and will be removed in 0.15, \"\n",
            "/usr/local/lib/python3.7/dist-packages/torchvision/models/_utils.py:223: UserWarning: Arguments other than a weight enum or `None` for 'weights' are deprecated since 0.13 and will be removed in 0.15. The current behavior is equivalent to passing `weights=None`.\n",
            "  warnings.warn(msg)\n"
          ]
        },
        {
          "data": {
            "text/html": [
              "\n",
              "<style>\n",
              "    /* Turns off some styling */\n",
              "    progress {\n",
              "        /* gets rid of default border in Firefox and Opera. */\n",
              "        border: none;\n",
              "        /* Needs to be in here for Safari polyfill so background images work as expected. */\n",
              "        background-size: auto;\n",
              "    }\n",
              "    progress:not([value]), progress:not([value])::-webkit-progress-bar {\n",
              "        background: repeating-linear-gradient(45deg, #7e7e7e, #7e7e7e 10px, #5c5c5c 10px, #5c5c5c 20px);\n",
              "    }\n",
              "    .progress-bar-interrupted, .progress-bar-interrupted::-webkit-progress-bar {\n",
              "        background: #F44336;\n",
              "    }\n",
              "</style>\n"
            ],
            "text/plain": [
              "<IPython.core.display.HTML object>"
            ]
          },
          "metadata": {},
          "output_type": "display_data"
        },
        {
          "data": {
            "text/html": [
              "<table border=\"1\" class=\"dataframe\">\n",
              "  <thead>\n",
              "    <tr style=\"text-align: left;\">\n",
              "      <th>epoch</th>\n",
              "      <th>train_loss</th>\n",
              "      <th>valid_loss</th>\n",
              "      <th>accuracy</th>\n",
              "      <th>time</th>\n",
              "    </tr>\n",
              "  </thead>\n",
              "  <tbody>\n",
              "    <tr>\n",
              "      <td>0</td>\n",
              "      <td>0.111870</td>\n",
              "      <td>0.017281</td>\n",
              "      <td>0.995093</td>\n",
              "      <td>00:23</td>\n",
              "    </tr>\n",
              "  </tbody>\n",
              "</table>"
            ],
            "text/plain": [
              "<IPython.core.display.HTML object>"
            ]
          },
          "metadata": {},
          "output_type": "display_data"
        }
      ],
      "source": [
        "dls = ImageDataLoaders.from_folder(path)\n",
        "learn = vision_learner(dls, resnet18, pretrained=False,\n",
        "                    loss_func=F.cross_entropy, metrics=accuracy)\n",
        "learn.fit_one_cycle(1, 0.1)"
      ]
    },
    {
      "cell_type": "markdown",
      "metadata": {
        "id": "9HbEtQkSy5Tf"
      },
      "source": [
        "## Jargon Recap\n",
        "- 신경망은 수많은 수로 구성되지만, `계산된 수`와 `이 수를 계산하는 파라미터`라는 단 두 종류로 분류할 수 있다. 이는 가장 중요한 두 전문용어와 관련이 있다.\n",
        "    - 활성(Activation): 선형 및 비선형 계층에서 계산된 수\n",
        "    - 파라미터(Parameter): 임의로 초기화되고 최적화된 수(즉 모델을 정의하는 수)\n",
        "- 활성과 파라미터는 추상적인 개념이 아니라 실제로 모델을 구성하는 구체적인 수이다. 뛰어난 딥러닝 실무자는 활성과 파라미터를 잘 살필줄 아는 사람이고, 그래프를 그려서 이들의 작동이 올바른지 검사 및 확인할 수 있어야 한다.\n",
        "- 활성과 파라미터는 모두 `텐서`로 저장된다. 즉 행렬과 같은 일반적인 모양의 배열일 뿐이다. 행렬을 행과 열로 구성되는데, 이들을 `축` 또는 `차원`이라고 부르기도 한다. 텐서의 차원 개수는 해당 텐서의 랭크이다. 다음은 몇 가지 특별한 텐서의 예이다.\n",
        "    - 랭크 0: 스칼라(단일 값)\n",
        "    - 랭크 1: 벡터(1차원 배열 또는 시퀀스)\n",
        "    - 랭크 2: 행렬\n",
        "- `신경망`은 여러 계층으로 구성된다. 그리고 계층은 `선형` 또는 `비선형`의 형태를 따른다. 일반적으로 이 두 종류의 계층을 번갈아 사용하여 신경망을 만든다. 선형 계층과 따라 나오는 비선형 계층을 묶어서 하나의 계층이라고 표현하는 사람도 있다. 그래서 가끔은 혼란스러울지도 모른다. 때로는 비선형성을 `활성화 함수`라고 표현하기도 한다.(실제로 TensorFlow 프레임워크에서 계층을 선언할 때 각 계층에 매개변수로 활성화 함수를 지정할 수 있다.)\n",
        "- SGD와 관련된 전문용어\n",
        "    - ReLU: 양수의 입력은 그대로 출력하고 음수의 입력은 0으로 반환하는 함수\n",
        "    - mini-batch(미니배치): 전체적인 데이터셋의 입력과 타겟 두 배열 안의 작은 그룹이다. 경사 하강 단계는 한 에포크 전체에 대해 수행되지 않고 미니배치 단위로 수행된다.\n",
        "    - foward propagation(순전파): `입력을 모델에 적용하여 예측을 수행하는 과정`이다. 즉 입력과 파라미터의 조합을 아키텍쳐(모델)에 넣고 예측을 하기까지의 과정을 말한다.\n",
        "    - loss(손실): 모델이 얼마나 잘하는지, 못하는지를 표현하는 값이다. 이를 토대로 SGD가 그래디언트를 계산(미분)한다.\n",
        "    - gradient(그래디언트, 기울기, 경사도): 모델의 일부 파라미터에 대한 손실을 미분한 값이다. 이 값을 이용하여 모델이 예측을 더 잘할 수 있도록 파라미터를 조정한다.\n",
        "    - backpropagation(역전파): 모델의 모든 파라미터에 대한 손실의 그래디언트를 계산하는 과정을 말한다.\n",
        "    - gradient descent(경사 하강): 모델의 파라미터를 약간 더 좋게 만들려고 `그래디언트의 반대 방향`으로 나아가는 한 번의 단계를 말한다.\n",
        "    - learning rate(학습률): SGD를 적용하여 모델의 파라미터가 갱신되어야 하는 크기를 말한다. 즉 경사 하강을 하는데, 어느 정도만큼을 하강해야하는지 나타내는 값이다."
      ]
    },
    {
      "cell_type": "markdown",
      "metadata": {
        "id": "2sb512JYy5Tf"
      },
      "source": [
        "## Questionnaire"
      ]
    },
    {
      "cell_type": "markdown",
      "metadata": {
        "id": "DJ5FLk0zy5Tf"
      },
      "source": [
        "1. How is a grayscale image represented on a computer? How about a color image?\n",
        "1. How are the files and folders in the `MNIST_SAMPLE` dataset structured? Why?\n",
        "1. Explain how the \"pixel similarity\" approach to classifying digits works.\n",
        "1. What is a list comprehension? Create one now that selects odd numbers from a list and doubles them.\n",
        "1. What is a \"rank-3 tensor\"?\n",
        "1. What is the difference between tensor rank and shape? How do you get the rank from the shape?\n",
        "1. What are RMSE and L1 norm?\n",
        "1. How can you apply a calculation on thousands of numbers at once, many thousands of times faster than a Python loop?\n",
        "1. Create a 3×3 tensor or array containing the numbers from 1 to 9. Double it. Select the bottom-right four numbers.\n",
        "1. What is broadcasting?\n",
        "1. Are metrics generally calculated using the training set, or the validation set? Why?\n",
        "1. What is SGD?\n",
        "1. Why does SGD use mini-batches?\n",
        "1. What are the seven steps in SGD for machine learning?\n",
        "1. How do we initialize the weights in a model?\n",
        "1. What is \"loss\"?\n",
        "1. Why can't we always use a high learning rate?\n",
        "1. What is a \"gradient\"?\n",
        "1. Do you need to know how to calculate gradients yourself?\n",
        "1. Why can't we use accuracy as a loss function?\n",
        "1. Draw the sigmoid function. What is special about its shape?\n",
        "1. What is the difference between a loss function and a metric?\n",
        "1. What is the function to calculate new weights using a learning rate?\n",
        "1. What does the `DataLoader` class do?\n",
        "1. Write pseudocode showing the basic steps taken in each epoch for SGD.\n",
        "1. Create a function that, if passed two arguments `[1,2,3,4]` and `'abcd'`, returns `[(1, 'a'), (2, 'b'), (3, 'c'), (4, 'd')]`. What is special about that output data structure?\n",
        "1. What does `view` do in PyTorch?\n",
        "1. What are the \"bias\" parameters in a neural network? Why do we need them?\n",
        "1. What does the `@` operator do in Python?\n",
        "1. What does the `backward` method do?\n",
        "1. Why do we have to zero the gradients?\n",
        "1. What information do we have to pass to `Learner`?\n",
        "1. Show Python or pseudocode for the basic steps of a training loop.\n",
        "1. What is \"ReLU\"? Draw a plot of it for values from `-2` to `+2`.\n",
        "1. What is an \"activation function\"?\n",
        "1. What's the difference between `F.relu` and `nn.ReLU`?\n",
        "1. The universal approximation theorem shows that any function can be approximated as closely as needed using just one nonlinearity. So why do we normally use more?"
      ]
    },
    {
      "cell_type": "markdown",
      "metadata": {
        "id": "c8MN5SBHy5Tg"
      },
      "source": [
        "### Further Research"
      ]
    },
    {
      "cell_type": "markdown",
      "metadata": {
        "id": "Y1jxp47ty5Tg"
      },
      "source": [
        "1. Create your own implementation of `Learner` from scratch, based on the training loop shown in this chapter.\n",
        "1. Complete all the steps in this chapter using the full MNIST datasets (that is, for all digits, not just 3s and 7s). This is a significant project and will take you quite a bit of time to complete! You'll need to do some of your own research to figure out how to overcome some obstacles you'll meet on the way."
      ]
    },
    {
      "cell_type": "code",
      "execution_count": null,
      "metadata": {
        "id": "iNvux9Sky5Tg"
      },
      "outputs": [],
      "source": []
    }
  ],
  "metadata": {
    "accelerator": "GPU",
    "colab": {
      "provenance": []
    },
    "jupytext": {
      "split_at_heading": true
    },
    "kernelspec": {
      "display_name": "Python 3.8.13 ('base')",
      "language": "python",
      "name": "python3"
    },
    "language_info": {
      "codemirror_mode": {
        "name": "ipython",
        "version": 3
      },
      "file_extension": ".py",
      "mimetype": "text/x-python",
      "name": "python",
      "nbconvert_exporter": "python",
      "pygments_lexer": "ipython3",
      "version": "3.8.13 (default, Mar 28 2022, 06:16:26) \n[Clang 12.0.0 ]"
    },
    "vscode": {
      "interpreter": {
        "hash": "38cc0cca68228d4d18227abe74ed813685db17db46984279e4aabdddebf5f1ba"
      }
    }
  },
  "nbformat": 4,
  "nbformat_minor": 0
}
