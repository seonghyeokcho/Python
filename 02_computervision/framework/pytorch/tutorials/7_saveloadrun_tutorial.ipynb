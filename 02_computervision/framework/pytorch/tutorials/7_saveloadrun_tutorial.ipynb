{
  "cells": [
    {
      "cell_type": "code",
      "execution_count": null,
      "metadata": {
        "collapsed": false
      },
      "outputs": [],
      "source": [
        "%matplotlib inline"
      ]
    },
    {
      "cell_type": "markdown",
      "metadata": {},
      "source": [
        "\n`\ud30c\uc774\ud1a0\uce58(PyTorch) \uae30\ubcf8 \uc775\ud788\uae30 <intro.html>`_ ||\n`\ube60\ub978 \uc2dc\uc791 <quickstart_tutorial.html>`_ ||\n`\ud150\uc11c(Tensor) <tensorqs_tutorial.html>`_ ||\n`Dataset\uacfc Dataloader <data_tutorial.html>`_ ||\n`\ubcc0\ud615(Transform) <transforms_tutorial.html>`_ ||\n`\uc2e0\uacbd\ub9dd \ubaa8\ub378 \uad6c\uc131\ud558\uae30 <buildmodel_tutorial.html>`_ ||\n`Autograd <autogradqs_tutorial.html>`_ ||\n`\ucd5c\uc801\ud654(Optimization) <optimization_tutorial.html>`_ ||\n**\ubaa8\ub378 \uc800\uc7a5\ud558\uace0 \ubd88\ub7ec\uc624\uae30**\n\n\ubaa8\ub378 \uc800\uc7a5\ud558\uace0 \ubd88\ub7ec\uc624\uae30\n==========================================================================\n\n\uc774\ubc88 \uc7a5\uc5d0\uc11c\ub294 \uc800\uc7a5\ud558\uae30\ub098 \ubd88\ub7ec\uc624\uae30\ub97c \ud1b5\ud574 \ubaa8\ub378\uc758 \uc0c1\ud0dc\ub97c \uc720\uc9c0(persist)\ud558\uace0 \ubaa8\ub378\uc758 \uc608\uce21\uc744 \uc2e4\ud589\ud558\ub294 \ubc29\ubc95\uc744 \uc54c\uc544\ubcf4\uaca0\uc2b5\ub2c8\ub2e4.\n"
      ]
    },
    {
      "cell_type": "code",
      "execution_count": null,
      "metadata": {
        "collapsed": false
      },
      "outputs": [],
      "source": [
        "import torch\nimport torchvision.models as models"
      ]
    },
    {
      "cell_type": "markdown",
      "metadata": {},
      "source": [
        "\ubaa8\ub378 \uac00\uc911\uce58 \uc800\uc7a5\ud558\uace0 \ubd88\ub7ec\uc624\uae30\n------------------------------------------------------------------------------------------\n\nPyTorch \ubaa8\ub378\uc740 \ud559\uc2b5\ud55c \ub9e4\uac1c\ubcc0\uc218\ub97c ``state_dict``\\ \ub77c\uace0 \ubd88\ub9ac\ub294 \ub0b4\ubd80 \uc0c1\ud0dc \uc0ac\uc804(internal state dictionary)\uc5d0 \uc800\uc7a5\ud569\ub2c8\ub2e4.\n\uc774 \uc0c1\ud0dc \uac12\ub4e4\uc740 ``torch.save`` \uba54\uc18c\ub4dc\ub97c \uc0ac\uc6a9\ud558\uc5ec \uc800\uc7a5(persist)\ud560 \uc218 \uc788\uc2b5\ub2c8\ub2e4:\n\n"
      ]
    },
    {
      "cell_type": "code",
      "execution_count": null,
      "metadata": {
        "collapsed": false
      },
      "outputs": [],
      "source": [
        "model = models.vgg16(pretrained=True)\ntorch.save(model.state_dict(), 'model_weights.pth')"
      ]
    },
    {
      "cell_type": "markdown",
      "metadata": {},
      "source": [
        "\ubaa8\ub378 \uac00\uc911\uce58\ub97c \ubd88\ub7ec\uc624\uae30 \uc704\ud574\uc11c\ub294, \uba3c\uc800 \ub3d9\uc77c\ud55c \ubaa8\ub378\uc758 \uc778\uc2a4\ud134\uc2a4(instance)\ub97c \uc0dd\uc131\ud55c \ub2e4\uc74c\uc5d0 ``load_state_dict()`` \uba54\uc18c\ub4dc\ub97c \uc0ac\uc6a9\ud558\uc5ec\n\ub9e4\uac1c\ubcc0\uc218\ub4e4\uc744 \ubd88\ub7ec\uc635\ub2c8\ub2e4.\n\n"
      ]
    },
    {
      "cell_type": "code",
      "execution_count": null,
      "metadata": {
        "collapsed": false
      },
      "outputs": [],
      "source": [
        "model = models.vgg16() # \uae30\ubcf8 \uac00\uc911\uce58\ub97c \ubd88\ub7ec\uc624\uc9c0 \uc54a\uc73c\ubbc0\ub85c pretrained=True\ub97c \uc9c0\uc815\ud558\uc9c0 \uc54a\uc2b5\ub2c8\ub2e4.\nmodel.load_state_dict(torch.load('model_weights.pth'))\nmodel.eval()"
      ]
    },
    {
      "cell_type": "markdown",
      "metadata": {},
      "source": [
        "<div class=\"alert alert-info\"><h4>Note</h4><p>\ucd94\ub860(inference)\uc744 \ud558\uae30 \uc804\uc5d0 ``model.eval()`` \uba54\uc18c\ub4dc\ub97c \ud638\ucd9c\ud558\uc5ec \ub4dc\ub86d\uc544\uc6c3(dropout)\uacfc \ubc30\uce58 \uc815\uaddc\ud654(batch normalization)\ub97c \ud3c9\uac00 \ubaa8\ub4dc(evaluation mode)\ub85c \uc124\uc815\ud574\uc57c \ud569\ub2c8\ub2e4. \uadf8\ub807\uc9c0 \uc54a\uc73c\uba74 \uc77c\uad00\uc131 \uc5c6\ub294 \ucd94\ub860 \uacb0\uacfc\uac00 \uc0dd\uc131\ub429\ub2c8\ub2e4.</p></div>\n\n"
      ]
    },
    {
      "cell_type": "markdown",
      "metadata": {},
      "source": [
        "\ubaa8\ub378\uc758 \ud615\ud0dc\ub97c \ud3ec\ud568\ud558\uc5ec \uc800\uc7a5\ud558\uace0 \ubd88\ub7ec\uc624\uae30\n------------------------------------------------------------------------------------------\n\n\ubaa8\ub378\uc758 \uac00\uc911\uce58\ub97c \ubd88\ub7ec\uc62c \ub54c, \uc2e0\uacbd\ub9dd\uc758 \uad6c\uc870\ub97c \uc815\uc758\ud558\uae30 \uc704\ud574 \ubaa8\ub378 \ud074\ub798\uc2a4\ub97c \uba3c\uc800 \uc0dd\uc131(instantiate)\ud574\uc57c \ud588\uc2b5\ub2c8\ub2e4.\n\uc774 \ud074\ub798\uc2a4\uc758 \uad6c\uc870\ub97c \ubaa8\ub378\uacfc \ud568\uaed8 \uc800\uc7a5\ud558\uace0 \uc2f6\uc73c\uba74, (``model.state_dict()``\\ \uac00 \uc544\ub2cc) ``model`` \uc744 \uc800\uc7a5 \ud568\uc218\uc5d0\n\uc804\ub2ec\ud569\ub2c8\ub2e4:\n\n"
      ]
    },
    {
      "cell_type": "code",
      "execution_count": null,
      "metadata": {
        "collapsed": false
      },
      "outputs": [],
      "source": [
        "torch.save(model, 'model.pth')"
      ]
    },
    {
      "cell_type": "markdown",
      "metadata": {},
      "source": [
        "\ub2e4\uc74c\uacfc \uac19\uc774 \ubaa8\ub378\uc744 \ubd88\ub7ec\uc62c \uc218 \uc788\uc2b5\ub2c8\ub2e4:\n\n"
      ]
    },
    {
      "cell_type": "code",
      "execution_count": null,
      "metadata": {
        "collapsed": false
      },
      "outputs": [],
      "source": [
        "model = torch.load('model.pth')"
      ]
    },
    {
      "cell_type": "markdown",
      "metadata": {},
      "source": [
        "<div class=\"alert alert-info\"><h4>Note</h4><p>\uc774 \uc811\uadfc \ubc29\uc2dd\uc740 Python `pickle <https://docs.python.org/3/library/pickle.html>`_ \ubaa8\ub4c8\uc744 \uc0ac\uc6a9\ud558\uc5ec \ubaa8\ub378\uc744 \uc9c1\ub82c\ud654(serialize)\ud558\ubbc0\ub85c, \ubaa8\ub378\uc744 \ubd88\ub7ec\uc62c \ub54c \uc2e4\uc81c \ud074\ub798\uc2a4 \uc815\uc758(definition)\ub97c \uc801\uc6a9(rely on)\ud569\ub2c8\ub2e4.</p></div>\n\n"
      ]
    },
    {
      "cell_type": "markdown",
      "metadata": {},
      "source": [
        "\uad00\ub828 \ud29c\ud1a0\ub9ac\uc5bc\n-----------------\n:doc:`/recipes/recipes/saving_and_loading_a_general_checkpoint`\n\n"
      ]
    }
  ],
  "metadata": {
    "kernelspec": {
      "display_name": "Python 3",
      "language": "python",
      "name": "python3"
    },
    "language_info": {
      "codemirror_mode": {
        "name": "ipython",
        "version": 3
      },
      "file_extension": ".py",
      "mimetype": "text/x-python",
      "name": "python",
      "nbconvert_exporter": "python",
      "pygments_lexer": "ipython3",
      "version": "3.8.8"
    }
  },
  "nbformat": 4,
  "nbformat_minor": 0
}