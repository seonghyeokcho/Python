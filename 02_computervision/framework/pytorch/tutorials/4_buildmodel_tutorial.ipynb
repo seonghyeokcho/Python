{
  "cells": [
    {
      "cell_type": "code",
      "execution_count": null,
      "metadata": {
        "collapsed": false
      },
      "outputs": [],
      "source": [
        "%matplotlib inline"
      ]
    },
    {
      "cell_type": "markdown",
      "metadata": {},
      "source": [
        "\n`\ud30c\uc774\ud1a0\uce58(PyTorch) \uae30\ubcf8 \uc775\ud788\uae30 <intro.html>`_ ||\n`\ube60\ub978 \uc2dc\uc791 <quickstart_tutorial.html>`_ ||\n`\ud150\uc11c(Tensor) <tensorqs_tutorial.html>`_ ||\n`Dataset\uacfc Dataloader <data_tutorial.html>`_ ||\n`\ubcc0\ud615(Transform) <transforms_tutorial.html>`_ ||\n**\uc2e0\uacbd\ub9dd \ubaa8\ub378 \uad6c\uc131\ud558\uae30** ||\n`Autograd <autogradqs_tutorial.html>`_ ||\n`\ucd5c\uc801\ud654(Optimization) <optimization_tutorial.html>`_ ||\n`\ubaa8\ub378 \uc800\uc7a5\ud558\uace0 \ubd88\ub7ec\uc624\uae30 <saveloadrun_tutorial.html>`_\n\n\uc2e0\uacbd\ub9dd \ubaa8\ub378 \uad6c\uc131\ud558\uae30\n==========================================================================\n\n\uc2e0\uacbd\ub9dd\uc740 \ub370\uc774\ud130\uc5d0 \ub300\ud55c \uc5f0\uc0b0\uc744 \uc218\ud589\ud558\ub294 \uacc4\uce35(layer)/\ubaa8\ub4c8(module)\ub85c \uad6c\uc131\ub418\uc5b4 \uc788\uc2b5\ub2c8\ub2e4.\n`torch.nn <https://pytorch.org/docs/stable/nn.html>`_ \ub124\uc784\uc2a4\ud398\uc774\uc2a4\ub294 \uc2e0\uacbd\ub9dd\uc744 \uad6c\uc131\ud558\ub294\ub370 \ud544\uc694\ud55c \ubaa8\ub4e0 \uad6c\uc131 \uc694\uc18c\ub97c \uc81c\uacf5\ud569\ub2c8\ub2e4.\nPyTorch\uc758 \ubaa8\ub4e0 \ubaa8\ub4c8\uc740 `nn.Module <https://pytorch.org/docs/stable/generated/torch.nn.Module.html>`_ \uc758 \ud558\uc704 \ud074\ub798\uc2a4(subclass)\n\uc785\ub2c8\ub2e4. \uc2e0\uacbd\ub9dd\uc740 \ub2e4\ub978 \ubaa8\ub4c8(\uacc4\uce35; layer)\ub85c \uad6c\uc131\ub41c \ubaa8\ub4c8\uc785\ub2c8\ub2e4. \uc774\ub7ec\ud55c \uc911\ucca9\ub41c \uad6c\uc870\ub294 \ubcf5\uc7a1\ud55c \uc544\ud0a4\ud14d\ucc98\ub97c \uc27d\uac8c \uad6c\ucd95\ud558\uace0 \uad00\ub9ac\ud560 \uc218 \uc788\uc2b5\ub2c8\ub2e4.\n\n\uc774\uc5b4\uc9c0\ub294 \uc7a5\uc5d0\uc11c\ub294 FashionMNIST \ub370\uc774\ud130\uc14b\uc758 \uc774\ubbf8\uc9c0\ub4e4\uc744 \ubd84\ub958\ud558\ub294 \uc2e0\uacbd\ub9dd\uc744 \uad6c\uc131\ud574\ubcf4\uaca0\uc2b5\ub2c8\ub2e4.\n"
      ]
    },
    {
      "cell_type": "code",
      "execution_count": null,
      "metadata": {
        "collapsed": false
      },
      "outputs": [],
      "source": [
        "import os\nimport torch\nfrom torch import nn\nfrom torch.utils.data import DataLoader\nfrom torchvision import datasets, transforms"
      ]
    },
    {
      "cell_type": "markdown",
      "metadata": {},
      "source": [
        "\ud559\uc2b5\uc744 \uc704\ud55c \uc7a5\uce58 \uc5bb\uae30\n------------------------------------------------------------------------------------------\n\n\uac00\ub2a5\ud55c \uacbd\uc6b0 GPU\uc640 \uac19\uc740 \ud558\ub4dc\uc6e8\uc5b4 \uac00\uc18d\uae30\uc5d0\uc11c \ubaa8\ub378\uc744 \ud559\uc2b5\ud558\ub824\uace0 \ud569\ub2c8\ub2e4.\n`torch.cuda <https://pytorch.org/docs/stable/notes/cuda.html>`_ \ub97c \uc0ac\uc6a9\ud560 \uc218 \uc788\ub294\uc9c0\n\ud655\uc778\ud558\uace0 \uadf8\ub807\uc9c0 \uc54a\uc73c\uba74 CPU\ub97c \uacc4\uc18d \uc0ac\uc6a9\ud569\ub2c8\ub2e4.\n\n"
      ]
    },
    {
      "cell_type": "code",
      "execution_count": null,
      "metadata": {
        "collapsed": false
      },
      "outputs": [],
      "source": [
        "device = \"cuda\" if torch.cuda.is_available() else \"cpu\"\nprint(f\"Using {device} device\")"
      ]
    },
    {
      "cell_type": "markdown",
      "metadata": {},
      "source": [
        "\ud074\ub798\uc2a4 \uc815\uc758\ud558\uae30\n------------------------------------------------------------------------------------------\n\n\uc2e0\uacbd\ub9dd \ubaa8\ub378\uc744 ``nn.Module`` \uc758 \ud558\uc704\ud074\ub798\uc2a4\ub85c \uc815\uc758\ud558\uace0, ``__init__`` \uc5d0\uc11c \uc2e0\uacbd\ub9dd \uacc4\uce35\ub4e4\uc744 \ucd08\uae30\ud654\ud569\ub2c8\ub2e4.\n``nn.Module`` \uc744 \uc0c1\uc18d\ubc1b\uc740 \ubaa8\ub4e0 \ud074\ub798\uc2a4\ub294 ``forward`` \uba54\uc18c\ub4dc\uc5d0 \uc785\ub825 \ub370\uc774\ud130\uc5d0 \ub300\ud55c \uc5f0\uc0b0\ub4e4\uc744 \uad6c\ud604\ud569\ub2c8\ub2e4.\n\n"
      ]
    },
    {
      "cell_type": "code",
      "execution_count": null,
      "metadata": {
        "collapsed": false
      },
      "outputs": [],
      "source": [
        "class NeuralNetwork(nn.Module):\n    def __init__(self):\n        super(NeuralNetwork, self).__init__()\n        self.flatten = nn.Flatten()\n        self.linear_relu_stack = nn.Sequential(\n            nn.Linear(28*28, 512),\n            nn.ReLU(),\n            nn.Linear(512, 512),\n            nn.ReLU(),\n            nn.Linear(512, 10),\n        )\n\n    def forward(self, x):\n        x = self.flatten(x)\n        logits = self.linear_relu_stack(x)\n        return logits"
      ]
    },
    {
      "cell_type": "markdown",
      "metadata": {},
      "source": [
        "``NeuralNetwork`` \uc758 \uc778\uc2a4\ud134\uc2a4(instance)\ub97c \uc0dd\uc131\ud558\uace0 \uc774\ub97c ``device`` \ub85c \uc774\ub3d9\ud55c \ub4a4,\n\uad6c\uc870(structure)\ub97c \ucd9c\ub825\ud569\ub2c8\ub2e4.\n\n"
      ]
    },
    {
      "cell_type": "code",
      "execution_count": null,
      "metadata": {
        "collapsed": false
      },
      "outputs": [],
      "source": [
        "model = NeuralNetwork().to(device)\nprint(model)"
      ]
    },
    {
      "cell_type": "markdown",
      "metadata": {},
      "source": [
        "\ubaa8\ub378\uc744 \uc0ac\uc6a9\ud558\uae30 \uc704\ud574 \uc785\ub825 \ub370\uc774\ud130\ub97c \uc804\ub2ec\ud569\ub2c8\ub2e4. \uc774\ub294 \uc77c\ubd80\n`\ubc31\uadf8\ub77c\uc6b4\ub4dc \uc5f0\uc0b0\ub4e4 <https://github.com/pytorch/pytorch/blob/270111b7b611d174967ed204776985cefca9c144/torch/nn/modules/module.py#L866>`_ \uacfc \ud568\uaed8\n\ubaa8\ub378\uc758 ``forward`` \ub97c \uc2e4\ud589\ud569\ub2c8\ub2e4. ``model.forward()`` \ub97c \uc9c1\uc811 \ud638\ucd9c\ud558\uc9c0 \ub9c8\uc138\uc694!\n\n\ubaa8\ub378\uc5d0 \uc785\ub825\uc744 \ud638\ucd9c\ud558\uba74 \uac01 \ubd84\ub958(class)\uc5d0 \ub300\ud55c \uc6d0\uc2dc(raw) \uc608\uce21\uac12\uc774 \uc788\ub294 10-\ucc28\uc6d0 \ud150\uc11c\uac00 \ubc18\ud658\ub429\ub2c8\ub2e4.\n\uc6d0\uc2dc \uc608\uce21\uac12\uc744 ``nn.Softmax`` \ubaa8\ub4c8\uc758 \uc778\uc2a4\ud134\uc2a4\uc5d0 \ud1b5\uacfc\uc2dc\ucf1c \uc608\uce21 \ud655\ub960\uc744 \uc5bb\uc2b5\ub2c8\ub2e4.\n\n"
      ]
    },
    {
      "cell_type": "code",
      "execution_count": null,
      "metadata": {
        "collapsed": false
      },
      "outputs": [],
      "source": [
        "X = torch.rand(1, 28, 28, device=device)\nlogits = model(X)\npred_probab = nn.Softmax(dim=1)(logits)\ny_pred = pred_probab.argmax(1)\nprint(f\"Predicted class: {y_pred}\")"
      ]
    },
    {
      "cell_type": "markdown",
      "metadata": {},
      "source": [
        "------------------------------------------------------------------------------------------\n\n\n"
      ]
    },
    {
      "cell_type": "markdown",
      "metadata": {},
      "source": [
        "\ubaa8\ub378 \uacc4\uce35(Layer)\n------------------------------------------------------------------------------------------\n\nFashionMNIST \ubaa8\ub378\uc758 \uacc4\uce35\ub4e4\uc744 \uc0b4\ud3b4\ubcf4\uaca0\uc2b5\ub2c8\ub2e4. \uc774\ub97c \uc124\uba85\ud558\uae30 \uc704\ud574, 28x28 \ud06c\uae30\uc758 \uc774\ubbf8\uc9c0 3\uac1c\ub85c \uad6c\uc131\ub41c\n\ubbf8\ub2c8\ubc30\uce58\ub97c \uac00\uc838\uc640, \uc2e0\uacbd\ub9dd\uc744 \ud1b5\uacfc\ud560 \ub54c \uc5b4\ub5a4 \uc77c\uc774 \ubc1c\uc0dd\ud558\ub294\uc9c0 \uc54c\uc544\ubcf4\uaca0\uc2b5\ub2c8\ub2e4.\n\n"
      ]
    },
    {
      "cell_type": "code",
      "execution_count": null,
      "metadata": {
        "collapsed": false
      },
      "outputs": [],
      "source": [
        "input_image = torch.rand(3,28,28)\nprint(input_image.size())"
      ]
    },
    {
      "cell_type": "markdown",
      "metadata": {},
      "source": [
        "nn.Flatten\n^^^^^^^^^^^^^^^^^^^^^^\n`nn.Flatten  <https://pytorch.org/docs/stable/generated/torch.nn.Flatten.html>`_ \uacc4\uce35\uc744 \ucd08\uae30\ud654\ud558\uc5ec\n\uac01 28x28\uc758 2D \uc774\ubbf8\uc9c0\ub97c 784 \ud53d\uc140 \uac12\uc744 \uac16\ub294 \uc5f0\uc18d\ub41c \ubc30\uc5f4\ub85c \ubcc0\ud658\ud569\ub2c8\ub2e4. (dim=0\uc758 \ubbf8\ub2c8\ubc30\uce58 \ucc28\uc6d0\uc740 \uc720\uc9c0\ub429\ub2c8\ub2e4.)\n\n"
      ]
    },
    {
      "cell_type": "code",
      "execution_count": null,
      "metadata": {
        "collapsed": false
      },
      "outputs": [],
      "source": [
        "flatten = nn.Flatten()\nflat_image = flatten(input_image)\nprint(flat_image.size())"
      ]
    },
    {
      "cell_type": "markdown",
      "metadata": {},
      "source": [
        "nn.Linear\n^^^^^^^^^^^^^^^^^^^^^^\n`\uc120\ud615 \uacc4\uce35 <https://pytorch.org/docs/stable/generated/torch.nn.Linear.html>`_ \uc740 \uc800\uc7a5\ub41c \uac00\uc911\uce58(weight)\uc640\n\ud3b8\ud5a5(bias)\uc744 \uc0ac\uc6a9\ud558\uc5ec \uc785\ub825\uc5d0 \uc120\ud615 \ubcc0\ud658(linear transformation)\uc744 \uc801\uc6a9\ud558\ub294 \ubaa8\ub4c8\uc785\ub2c8\ub2e4.\n\n\n"
      ]
    },
    {
      "cell_type": "code",
      "execution_count": null,
      "metadata": {
        "collapsed": false
      },
      "outputs": [],
      "source": [
        "layer1 = nn.Linear(in_features=28*28, out_features=20)\nhidden1 = layer1(flat_image)\nprint(hidden1.size())"
      ]
    },
    {
      "cell_type": "markdown",
      "metadata": {},
      "source": [
        "nn.ReLU\n^^^^^^^^^^^^^^^^^^^^^^\n\ube44\uc120\ud615 \ud65c\uc131\ud654(activation)\ub294 \ubaa8\ub378\uc758 \uc785\ub825\uacfc \ucd9c\ub825 \uc0ac\uc774\uc5d0 \ubcf5\uc7a1\ud55c \uad00\uacc4(mapping)\ub97c \ub9cc\ub4ed\ub2c8\ub2e4.\n\ube44\uc120\ud615 \ud65c\uc131\ud654\ub294 \uc120\ud615 \ubcc0\ud658 \ud6c4\uc5d0 \uc801\uc6a9\ub418\uc5b4 *\ube44\uc120\ud615\uc131(nonlinearity)* \uc744 \ub3c4\uc785\ud558\uace0, \uc2e0\uacbd\ub9dd\uc774 \ub2e4\uc591\ud55c \ud604\uc0c1\uc744 \ud559\uc2b5\ud560 \uc218 \uc788\ub3c4\ub85d \ub3d5\uc2b5\ub2c8\ub2e4.\n\n\uc774 \ubaa8\ub378\uc5d0\uc11c\ub294 `nn.ReLU <https://pytorch.org/docs/stable/generated/torch.nn.ReLU.html>`_ \ub97c \uc120\ud615 \uacc4\uce35\ub4e4 \uc0ac\uc774\uc5d0 \uc0ac\uc6a9\ud558\uc9c0\ub9cc,\n\ubaa8\ub378\uc744 \ub9cc\ub4e4 \ub54c\ub294 \ube44\uc120\ud615\uc131\uc744 \uac00\uc9c4 \ub2e4\ub978 \ud65c\uc131\ud654\ub97c \ub3c4\uc785\ud560 \uc218\ub3c4 \uc788\uc2b5\ub2c8\ub2e4.\n\n"
      ]
    },
    {
      "cell_type": "code",
      "execution_count": null,
      "metadata": {
        "collapsed": false
      },
      "outputs": [],
      "source": [
        "print(f\"Before ReLU: {hidden1}\\n\\n\")\nhidden1 = nn.ReLU()(hidden1)\nprint(f\"After ReLU: {hidden1}\")"
      ]
    },
    {
      "cell_type": "markdown",
      "metadata": {},
      "source": [
        "nn.Sequential\n^^^^^^^^^^^^^^^^^^^^^^\n`nn.Sequential <https://pytorch.org/docs/stable/generated/torch.nn.Sequential.html>`_ \uc740 \uc21c\uc11c\ub97c \uac16\ub294\n\ubaa8\ub4c8\uc758 \ucee8\ud14c\uc774\ub108\uc785\ub2c8\ub2e4. \ub370\uc774\ud130\ub294 \uc815\uc758\ub41c \uac83\uacfc \uac19\uc740 \uc21c\uc11c\ub85c \ubaa8\ub4e0 \ubaa8\ub4c8\ub4e4\uc744 \ud1b5\ud574 \uc804\ub2ec\ub429\ub2c8\ub2e4. \uc21c\ucc28 \ucee8\ud14c\uc774\ub108(sequential container)\ub97c \uc0ac\uc6a9\ud558\uc5ec\n\uc544\ub798\uc758 ``seq_modules`` \uc640 \uac19\uc740 \uc2e0\uacbd\ub9dd\uc744 \ube60\ub974\uac8c \ub9cc\ub4e4 \uc218 \uc788\uc2b5\ub2c8\ub2e4.\n\n"
      ]
    },
    {
      "cell_type": "code",
      "execution_count": null,
      "metadata": {
        "collapsed": false
      },
      "outputs": [],
      "source": [
        "seq_modules = nn.Sequential(\n    flatten,\n    layer1,\n    nn.ReLU(),\n    nn.Linear(20, 10)\n)\ninput_image = torch.rand(3,28,28)\nlogits = seq_modules(input_image)"
      ]
    },
    {
      "cell_type": "markdown",
      "metadata": {},
      "source": [
        "nn.Softmax\n^^^^^^^^^^^^^^^^^^^^^^\n\uc2e0\uacbd\ub9dd\uc758 \ub9c8\uc9c0\ub9c9 \uc120\ud615 \uacc4\uce35\uc740 `nn.Softmax <https://pytorch.org/docs/stable/generated/torch.nn.Softmax.html>`_ \ubaa8\ub4c8\uc5d0 \uc804\ub2ec\ub420\n([-\\infty, \\infty] \ubc94\uc704\uc758 \uc6d0\uc2dc \uac12(raw value)\uc778) `logits` \ub97c \ubc18\ud658\ud569\ub2c8\ub2e4. logits\ub294 \ubaa8\ub378\uc758 \uac01 \ubd84\ub958(class)\uc5d0 \ub300\ud55c \uc608\uce21 \ud655\ub960\uc744 \ub098\ud0c0\ub0b4\ub3c4\ub85d\n[0, 1] \ubc94\uc704\ub85c \ube44\ub840\ud558\uc5ec \uc870\uc815(scale)\ub429\ub2c8\ub2e4. ``dim`` \ub9e4\uac1c\ubcc0\uc218\ub294 \uac12\uc758 \ud569\uc774 1\uc774 \ub418\ub294 \ucc28\uc6d0\uc744 \ub098\ud0c0\ub0c5\ub2c8\ub2e4.\n\n"
      ]
    },
    {
      "cell_type": "code",
      "execution_count": null,
      "metadata": {
        "collapsed": false
      },
      "outputs": [],
      "source": [
        "softmax = nn.Softmax(dim=1)\npred_probab = softmax(logits)"
      ]
    },
    {
      "cell_type": "markdown",
      "metadata": {},
      "source": [
        "\ubaa8\ub378 \ub9e4\uac1c\ubcc0\uc218\n------------------------------------------------------------------------------------------\n\n\uc2e0\uacbd\ub9dd \ub0b4\ubd80\uc758 \ub9ce\uc740 \uacc4\uce35\ub4e4\uc740 *\ub9e4\uac1c\ubcc0\uc218\ud654(parameterize)* \ub429\ub2c8\ub2e4. \uc989, \ud559\uc2b5 \uc911\uc5d0 \ucd5c\uc801\ud654\ub418\ub294 \uac00\uc911\uce58\uc640 \ud3b8\ud5a5\uacfc \uc5f0\uad00\uc9c0\uc5b4\uc9d1\ub2c8\ub2e4.\n``nn.Module`` \uc744 \uc0c1\uc18d\ud558\uba74 \ubaa8\ub378 \uac1d\uccb4 \ub0b4\ubd80\uc758 \ubaa8\ub4e0 \ud544\ub4dc\ub4e4\uc774 \uc790\ub3d9\uc73c\ub85c \ucd94\uc801(track)\ub418\uba70, \ubaa8\ub378\uc758 ``parameters()`` \ubc0f\n``named_parameters()`` \uba54\uc18c\ub4dc\ub85c \ubaa8\ub4e0 \ub9e4\uac1c\ubcc0\uc218\uc5d0 \uc811\uadfc\ud560 \uc218 \uc788\uac8c \ub429\ub2c8\ub2e4.\n\n\uc774 \uc608\uc81c\uc5d0\uc11c\ub294 \uac01 \ub9e4\uac1c\ubcc0\uc218\ub4e4\uc744 \uc21c\ud68c\ud558\uba70(iterate), \ub9e4\uac1c\ubcc0\uc218\uc758 \ud06c\uae30\uc640 \uac12\uc744 \ucd9c\ub825\ud569\ub2c8\ub2e4.\n\n\n"
      ]
    },
    {
      "cell_type": "code",
      "execution_count": null,
      "metadata": {
        "collapsed": false
      },
      "outputs": [],
      "source": [
        "print(f\"Model structure: {model}\\n\\n\")\n\nfor name, param in model.named_parameters():\n    print(f\"Layer: {name} | Size: {param.size()} | Values : {param[:2]} \\n\")"
      ]
    },
    {
      "cell_type": "markdown",
      "metadata": {},
      "source": [
        "------------------------------------------------------------------------------------------\n\n\n"
      ]
    },
    {
      "cell_type": "markdown",
      "metadata": {},
      "source": [
        "\ub354 \uc77d\uc5b4\ubcf4\uae30\n------------------------------------------------------------------------------------------\n- `torch.nn API <https://pytorch.org/docs/stable/nn.html>`_\n\n"
      ]
    }
  ],
  "metadata": {
    "kernelspec": {
      "display_name": "Python 3",
      "language": "python",
      "name": "python3"
    },
    "language_info": {
      "codemirror_mode": {
        "name": "ipython",
        "version": 3
      },
      "file_extension": ".py",
      "mimetype": "text/x-python",
      "name": "python",
      "nbconvert_exporter": "python",
      "pygments_lexer": "ipython3",
      "version": "3.8.8"
    }
  },
  "nbformat": 4,
  "nbformat_minor": 0
}