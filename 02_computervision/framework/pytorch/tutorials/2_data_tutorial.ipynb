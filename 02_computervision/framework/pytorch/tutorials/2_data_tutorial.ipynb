{
  "cells": [
    {
      "cell_type": "code",
      "execution_count": null,
      "metadata": {
        "collapsed": false
      },
      "outputs": [],
      "source": [
        "%matplotlib inline"
      ]
    },
    {
      "cell_type": "markdown",
      "metadata": {},
      "source": [
        "\n`\ud30c\uc774\ud1a0\uce58(PyTorch) \uae30\ubcf8 \uc775\ud788\uae30 <intro.html>`_ ||\n`\ube60\ub978 \uc2dc\uc791 <quickstart_tutorial.html>`_ ||\n`\ud150\uc11c(Tensor) <tensorqs_tutorial.html>`_ ||\n**Dataset\uacfc DataLoader** ||\n`\ubcc0\ud615(Transform) <transforms_tutorial.html>`_ ||\n`\uc2e0\uacbd\ub9dd \ubaa8\ub378 \uad6c\uc131\ud558\uae30 <buildmodel_tutorial.html>`_ ||\n`Autograd <autogradqs_tutorial.html>`_ ||\n`\ucd5c\uc801\ud654(Optimization) <optimization_tutorial.html>`_ ||\n`\ubaa8\ub378 \uc800\uc7a5\ud558\uace0 \ubd88\ub7ec\uc624\uae30 <saveloadrun_tutorial.html>`_\n\nDataset\uacfc DataLoader\n==========================================================================\n"
      ]
    },
    {
      "cell_type": "markdown",
      "metadata": {},
      "source": [
        "\ub370\uc774\ud130 \uc0d8\ud50c\uc744 \ucc98\ub9ac\ud558\ub294 \ucf54\ub4dc\ub294 \uc9c0\uc800\ubd84(messy)\ud558\uace0 \uc720\uc9c0\ubcf4\uc218\uac00 \uc5b4\ub824\uc6b8 \uc218 \uc788\uc2b5\ub2c8\ub2e4;\n\ub354 \ub098\uc740 \uac00\ub3c5\uc131(readability)\uacfc \ubaa8\ub4c8\uc131(modularity)\uc744 \uc704\ud574 \ub370\uc774\ud130\uc14b \ucf54\ub4dc\ub97c \ubaa8\ub378 \ud559\uc2b5 \ucf54\ub4dc\ub85c\ubd80\ud130 \ubd84\ub9ac\ud558\ub294 \uac83\uc774 \uc774\uc0c1\uc801\uc785\ub2c8\ub2e4.\nPyTorch\ub294 ``torch.utils.data.DataLoader`` \uc640 ``torch.utils.data.Dataset`` \uc758 \ub450 \uac00\uc9c0 \ub370\uc774\ud130 \uae30\ubcf8 \uc694\uc18c\ub97c\n\uc81c\uacf5\ud558\uc5ec \ubbf8\ub9ac \uc900\ube44\ud574\ub41c(pre-loaded) \ub370\uc774\ud130\uc14b \ubfd0\ub9cc \uc544\ub2c8\ub77c \uac00\uc9c0\uace0 \uc788\ub294 \ub370\uc774\ud130\ub97c \uc0ac\uc6a9\ud560 \uc218 \uc788\ub3c4\ub85d \ud569\ub2c8\ub2e4.\n``Dataset`` \uc740 \uc0d8\ud50c\uacfc \uc815\ub2f5(label)\uc744 \uc800\uc7a5\ud558\uace0, ``DataLoader`` \ub294 ``Dataset`` \uc744 \uc0d8\ud50c\uc5d0 \uc27d\uac8c \uc811\uadfc\ud560 \uc218 \uc788\ub3c4\ub85d\n\uc21c\ud68c \uac00\ub2a5\ud55c \uac1d\uccb4(iterable)\ub85c \uac10\uc309\ub2c8\ub2e4.\n\nPyTorch\uc758 \ub3c4\uba54\uc778 \ud2b9\ud654 \ub77c\uc774\ube0c\ub7ec\ub9ac\ub4e4\uc740 (FashionMNIST\uc640 \uac19\uc740) \ub2e4\uc591\ud55c \ubbf8\ub9ac \uc900\ube44\ud574\ub454(pre-loaded) \ub370\uc774\ud130\uc14b\uc744 \uc81c\uacf5\ud569\ub2c8\ub2e4.\n\ub370\uc774\ud130\uc14b\uc740 ``torch.utils.data.Dataset`` \uc758 \ud558\uc704 \ud074\ub798\uc2a4\ub85c \uac1c\ubcc4 \ub370\uc774\ud130\ub97c \ud2b9\uc815\ud558\ub294 \ud568\uc218\uac00 \uad6c\ud604\ub418\uc5b4 \uc788\uc2b5\ub2c8\ub2e4.\n\uc774\ub7ec\ud55c \ub370\uc774\ud130\uc14b\uc740 \ubaa8\ub378\uc744 \ub9cc\ub4e4\uc5b4\ubcf4\uace0(prototype) \uc131\ub2a5\uc744 \uce21\uc815(benchmark)\ud558\ub294\ub370 \uc0ac\uc6a9\ud560 \uc218 \uc788\uc2b5\ub2c8\ub2e4.\n\uc5ec\uae30\uc5d0\uc11c \ub370\uc774\ud130\uc14b\ub4e4\uc744 \ucc3e\uc544\ubcfc \uc218 \uc788\uc2b5\ub2c8\ub2e4:\n`\uc774\ubbf8\uc9c0 \ub370\uc774\ud130\uc14b <https://pytorch.org/vision/stable/datasets.html>`_,\n`\ud14d\uc2a4\ud2b8 \ub370\uc774\ud130\uc14b <https://pytorch.org/text/stable/datasets.html>`_ \ubc0f\n`\uc624\ub514\uc624 \ub370\uc774\ud130\uc14b <https://pytorch.org/audio/stable/datasets.html>`_\n\n\n"
      ]
    },
    {
      "cell_type": "markdown",
      "metadata": {},
      "source": [
        "\ub370\uc774\ud130\uc14b \ubd88\ub7ec\uc624\uae30\n------------------------------------------------------------------------------------------\n\n`TorchVision` \uc5d0\uc11c `Fashion-MNIST <https://research.zalando.com/project/fashion_mnist/fashion_mnist/>`_ \ub370\uc774\ud130\uc14b\uc744\n\ubd88\ub7ec\uc624\ub294 \uc608\uc81c\ub97c \uc0b4\ud3b4\ubcf4\uaca0\uc2b5\ub2c8\ub2e4. Fashion-MNIST\ub294 Zalando\uc758 \uae30\uc0ac \uc774\ubbf8\uc9c0 \ub370\uc774\ud130\uc14b\uc73c\ub85c 60,000\uac1c\uc758 \ud559\uc2b5 \uc608\uc81c\uc640 10,000\uac1c\uc758 \ud14c\uc2a4\ud2b8 \uc608\uc81c\ub85c \uc774\ub8e8\uc5b4\uc838 \uc788\uc2b5\ub2c8\ub2e4.\n\uac01 \uc608\uc81c\ub294 \ud751\ubc31(grayscale)\uc758 28x28 \uc774\ubbf8\uc9c0\uc640 10\uac1c \ubd84\ub958(class) \uc911 \ud558\ub098\uc778 \uc815\ub2f5(label)\uc73c\ub85c \uad6c\uc131\ub429\ub2c8\ub2e4.\n\n\ub2e4\uc74c \ub9e4\uac1c\ubcc0\uc218\ub4e4\uc744 \uc0ac\uc6a9\ud558\uc5ec `FashionMNIST \ub370\uc774\ud130\uc14b <https://pytorch.org/vision/stable/datasets.html#fashion-mnist>`_ \uc744 \ubd88\ub7ec\uc635\ub2c8\ub2e4:\n - ``root`` \ub294 \ud559\uc2b5/\ud14c\uc2a4\ud2b8 \ub370\uc774\ud130\uac00 \uc800\uc7a5\ub418\ub294 \uacbd\ub85c\uc785\ub2c8\ub2e4.\n - ``train`` \uc740 \ud559\uc2b5\uc6a9 \ub610\ub294 \ud14c\uc2a4\ud2b8\uc6a9 \ub370\uc774\ud130\uc14b \uc5ec\ubd80\ub97c \uc9c0\uc815\ud569\ub2c8\ub2e4.\n - ``download=True`` \ub294 ``root`` \uc5d0 \ub370\uc774\ud130\uac00 \uc5c6\ub294 \uacbd\uc6b0 \uc778\ud130\ub137\uc5d0\uc11c \ub2e4\uc6b4\ub85c\ub4dc\ud569\ub2c8\ub2e4.\n - ``transform`` \uacfc ``target_transform`` \uc740 \ud2b9\uc9d5(feature)\uacfc \uc815\ub2f5(label) \ubcc0\ud615(transform)\uc744 \uc9c0\uc815\ud569\ub2c8\ub2e4.\n\n"
      ]
    },
    {
      "cell_type": "code",
      "execution_count": null,
      "metadata": {
        "collapsed": false
      },
      "outputs": [],
      "source": [
        "import torch\nfrom torch.utils.data import Dataset\nfrom torchvision import datasets\nfrom torchvision.transforms import ToTensor\nimport matplotlib.pyplot as plt\n\n\ntraining_data = datasets.FashionMNIST(\n    root=\"data\",\n    train=True,\n    download=True,\n    transform=ToTensor()\n)\n\ntest_data = datasets.FashionMNIST(\n    root=\"data\",\n    train=False,\n    download=True,\n    transform=ToTensor()\n)"
      ]
    },
    {
      "cell_type": "markdown",
      "metadata": {},
      "source": [
        "\ub370\uc774\ud130\uc14b\uc744 \uc21c\ud68c\ud558\uace0 \uc2dc\uac01\ud654\ud558\uae30\n------------------------------------------------------------------------------------------\n\n``Dataset`` \uc5d0 \ub9ac\uc2a4\ud2b8(list)\ucc98\ub7fc \uc9c1\uc811 \uc811\uadfc(index)\ud560 \uc218 \uc788\uc2b5\ub2c8\ub2e4: ``training_data[index]``.\n``matplotlib`` \uc744 \uc0ac\uc6a9\ud558\uc5ec \ud559\uc2b5 \ub370\uc774\ud130\uc758 \uc77c\ubd80\ub97c \uc2dc\uac01\ud654\ud574\ubcf4\uaca0\uc2b5\ub2c8\ub2e4.\n\n"
      ]
    },
    {
      "cell_type": "code",
      "execution_count": null,
      "metadata": {
        "collapsed": false
      },
      "outputs": [],
      "source": [
        "labels_map = {\n    0: \"T-Shirt\",\n    1: \"Trouser\",\n    2: \"Pullover\",\n    3: \"Dress\",\n    4: \"Coat\",\n    5: \"Sandal\",\n    6: \"Shirt\",\n    7: \"Sneaker\",\n    8: \"Bag\",\n    9: \"Ankle Boot\",\n}\nfigure = plt.figure(figsize=(8, 8))\ncols, rows = 3, 3\nfor i in range(1, cols * rows + 1):\n    sample_idx = torch.randint(len(training_data), size=(1,)).item()\n    img, label = training_data[sample_idx]\n    figure.add_subplot(rows, cols, i)\n    plt.title(labels_map[label])\n    plt.axis(\"off\")\n    plt.imshow(img.squeeze(), cmap=\"gray\")\nplt.show()"
      ]
    },
    {
      "cell_type": "markdown",
      "metadata": {},
      "source": [
        "..\n .. figure:: /_static/img/basics/fashion_mnist.png\n   :alt: fashion_mnist\n\n"
      ]
    },
    {
      "cell_type": "markdown",
      "metadata": {},
      "source": [
        "------------------------------------------------------------------------------------------\n\n\n"
      ]
    },
    {
      "cell_type": "markdown",
      "metadata": {},
      "source": [
        "\ud30c\uc77c\uc5d0\uc11c \uc0ac\uc6a9\uc790 \uc815\uc758 \ub370\uc774\ud130\uc14b \ub9cc\ub4e4\uae30\n------------------------------------------------------------------------------------------\n\n\uc0ac\uc6a9\uc790 \uc815\uc758 Dataset \ud074\ub798\uc2a4\ub294 \ubc18\ub4dc\uc2dc 3\uac1c \ud568\uc218\ub97c \uad6c\ud604\ud574\uc57c \ud569\ub2c8\ub2e4: `__init__`, `__len__`, and `__getitem__`.\n\uc544\ub798 \uad6c\ud604\uc744 \uc0b4\ud3b4\ubcf4\uba74 FashionMNIST \uc774\ubbf8\uc9c0\ub4e4\uc740 ``img_dir`` \ub514\ub809\ud1a0\ub9ac\uc5d0 \uc800\uc7a5\ub418\uace0, \uc815\ub2f5\uc740 ``annotations_file`` csv \ud30c\uc77c\uc5d0\n\ubcc4\ub3c4\ub85c \uc800\uc7a5\ub429\ub2c8\ub2e4.\n\n\ub2e4\uc74c \uc7a5\uc5d0\uc11c \uac01 \ud568\uc218\ub4e4\uc5d0\uc11c \uc77c\uc5b4\ub098\ub294 \uc77c\ub4e4\uc744 \uc790\uc138\ud788 \uc0b4\ud3b4\ubcf4\uaca0\uc2b5\ub2c8\ub2e4.\n\n"
      ]
    },
    {
      "cell_type": "code",
      "execution_count": null,
      "metadata": {
        "collapsed": false
      },
      "outputs": [],
      "source": [
        "import os\nimport pandas as pd\nfrom torchvision.io import read_image\n\nclass CustomImageDataset(Dataset):\n    def __init__(self, annotations_file, img_dir, transform=None, target_transform=None):\n        self.img_labels = pd.read_csv(annotations_file, names=['file_name', 'label'])\n        self.img_dir = img_dir\n        self.transform = transform\n        self.target_transform = target_transform\n\n    def __len__(self):\n        return len(self.img_labels)\n\n    def __getitem__(self, idx):\n        img_path = os.path.join(self.img_dir, self.img_labels.iloc[idx, 0])\n        image = read_image(img_path)\n        label = self.img_labels.iloc[idx, 1]\n        if self.transform:\n            image = self.transform(image)\n        if self.target_transform:\n            label = self.target_transform(label)\n        return image, label"
      ]
    },
    {
      "cell_type": "markdown",
      "metadata": {},
      "source": [
        "__init__\n^^^^^^^^^^^^^^^^^^^^\n\n__init__ \ud568\uc218\ub294 Dataset \uac1d\uccb4\uac00 \uc0dd\uc131(instantiate)\ub420 \ub54c \ud55c \ubc88\ub9cc \uc2e4\ud589\ub429\ub2c8\ub2e4.\n\uc5ec\uae30\uc11c\ub294 \uc774\ubbf8\uc9c0\uc640 \uc8fc\uc11d \ud30c\uc77c(annotation_file)\uc774 \ud3ec\ud568\ub41c \ub514\ub809\ud1a0\ub9ac\uc640 (\ub2e4\uc74c \uc7a5\uc5d0\uc11c \uc790\uc138\ud788 \uc0b4\ud3b4\ubcfc) \ub450\uac00\uc9c0\n\ubcc0\ud615(transform)\uc744 \ucd08\uae30\ud654\ud569\ub2c8\ub2e4.\n\nlabels.csv \ud30c\uc77c\uc740 \ub2e4\uc74c\uacfc \uac19\uc2b5\ub2c8\ub2e4: ::\n\n    tshirt1.jpg, 0\n    tshirt2.jpg, 0\n    ......\n    ankleboot999.jpg, 9\n\n"
      ]
    },
    {
      "cell_type": "code",
      "execution_count": null,
      "metadata": {
        "collapsed": false
      },
      "outputs": [],
      "source": [
        "def __init__(self, annotations_file, img_dir, transform=None, target_transform=None):\n    self.img_labels = pd.read_csv(annotations_file)\n    self.img_dir = img_dir\n    self.transform = transform\n    self.target_transform = target_transform"
      ]
    },
    {
      "cell_type": "markdown",
      "metadata": {},
      "source": [
        "__len__\n^^^^^^^^^^^^^^^^^^^^\n\n__len__ \ud568\uc218\ub294 \ub370\uc774\ud130\uc14b\uc758 \uc0d8\ud50c \uac1c\uc218\ub97c \ubc18\ud658\ud569\ub2c8\ub2e4.\n\n\uc608:\n\n"
      ]
    },
    {
      "cell_type": "code",
      "execution_count": null,
      "metadata": {
        "collapsed": false
      },
      "outputs": [],
      "source": [
        "def __len__(self):\n    return len(self.img_labels)"
      ]
    },
    {
      "cell_type": "markdown",
      "metadata": {},
      "source": [
        "__getitem__\n^^^^^^^^^^^^^^^^^^^^\n\n__getitem__ \ud568\uc218\ub294 \uc8fc\uc5b4\uc9c4 \uc778\ub371\uc2a4 ``idx`` \uc5d0 \ud574\ub2f9\ud558\ub294 \uc0d8\ud50c\uc744 \ub370\uc774\ud130\uc14b\uc5d0\uc11c \ubd88\ub7ec\uc624\uace0 \ubc18\ud658\ud569\ub2c8\ub2e4.\n\uc778\ub371\uc2a4\ub97c \uae30\ubc18\uc73c\ub85c, \ub514\uc2a4\ud06c\uc5d0\uc11c \uc774\ubbf8\uc9c0\uc758 \uc704\uce58\ub97c \uc2dd\ubcc4\ud558\uace0, ``read_image`` \ub97c \uc0ac\uc6a9\ud558\uc5ec \uc774\ubbf8\uc9c0\ub97c \ud150\uc11c\ub85c \ubcc0\ud658\ud558\uace0, ``self.img_labels`` \uc758 csv \ub370\uc774\ud130\ub85c\ubd80\ud130\n\ud574\ub2f9\ud558\ub294 \uc815\ub2f5(label)\uc744 \uac00\uc838\uc624\uace0, (\ud574\ub2f9\ud558\ub294 \uacbd\uc6b0) \ubcc0\ud615(transform) \ud568\uc218\ub4e4\uc744 \ud638\ucd9c\ud55c \ub4a4, \ud150\uc11c \uc774\ubbf8\uc9c0\uc640 \ub77c\ubca8\uc744 Python \uc0ac\uc804(dict)\ud615\uc73c\ub85c \ubc18\ud658\ud569\ub2c8\ub2e4.\n\n"
      ]
    },
    {
      "cell_type": "code",
      "execution_count": null,
      "metadata": {
        "collapsed": false
      },
      "outputs": [],
      "source": [
        "def __getitem__(self, idx):\n    img_path = os.path.join(self.img_dir, self.img_labels.iloc[idx, 0])\n    image = read_image(img_path)\n    label = self.img_labels.iloc[idx, 1]\n    if self.transform:\n        image = self.transform(image)\n    if self.target_transform:\n        label = self.target_transform(label)\n    sample = {\"image\": image, \"label\": label}\n    return sample"
      ]
    },
    {
      "cell_type": "markdown",
      "metadata": {},
      "source": [
        "------------------------------------------------------------------------------------------\n\n\n"
      ]
    },
    {
      "cell_type": "markdown",
      "metadata": {},
      "source": [
        "DataLoader\ub85c \ud559\uc2b5\uc6a9 \ub370\uc774\ud130 \uc900\ube44\ud558\uae30\n------------------------------------------------------------------------------------------\n\n``Dataset`` \uc740 \ub370\uc774\ud130\uc14b\uc758 \ud2b9\uc9d5(feature)\uc744 \uac00\uc838\uc624\uace0 \ud558\ub098\uc758 \uc0d8\ud50c\uc5d0 \uc815\ub2f5(label)\uc744 \uc9c0\uc815\ud558\ub294 \uc77c\uc744 \ud55c \ubc88\uc5d0 \ud569\ub2c8\ub2e4.\n\ubaa8\ub378\uc744 \ud559\uc2b5\ud560 \ub54c, \uc77c\ubc18\uc801\uc73c\ub85c \uc0d8\ud50c\ub4e4\uc744 \"\ubbf8\ub2c8\ubc30\uce58(minibatch)\"\ub85c \uc804\ub2ec\ud558\uace0, \ub9e4 \uc5d0\ud3ed(epoch)\ub9c8\ub2e4 \ub370\uc774\ud130\ub97c \ub2e4\uc2dc \uc11e\uc5b4\uc11c \uacfc\uc801\ud569(overfit)\uc744 \ub9c9\uace0,\nPython\uc758 ``multiprocessing`` \uc744 \uc0ac\uc6a9\ud558\uc5ec \ub370\uc774\ud130 \uac80\uc0c9 \uc18d\ub3c4\ub97c \ub192\uc774\ub824\uace0 \ud569\ub2c8\ub2e4.\n\n``DataLoader`` \ub294 \uac04\ub2e8\ud55c API\ub85c \uc774\ub7ec\ud55c \ubcf5\uc7a1\ud55c \uacfc\uc815\ub4e4\uc744 \ucd94\uc0c1\ud654\ud55c \uc21c\ud68c \uac00\ub2a5\ud55c \uac1d\uccb4(iterable)\uc785\ub2c8\ub2e4.\n\n"
      ]
    },
    {
      "cell_type": "code",
      "execution_count": null,
      "metadata": {
        "collapsed": false
      },
      "outputs": [],
      "source": [
        "from torch.utils.data import DataLoader\n\ntrain_dataloader = DataLoader(training_data, batch_size=64, shuffle=True)\ntest_dataloader = DataLoader(test_data, batch_size=64, shuffle=True)"
      ]
    },
    {
      "cell_type": "markdown",
      "metadata": {},
      "source": [
        "DataLoader\ub97c \ud1b5\ud574 \uc21c\ud68c\ud558\uae30(iterate)\n------------------------------------------------------------------------------------------\n\n``DataLoader`` \uc5d0 \ub370\uc774\ud130\uc14b\uc744 \ubd88\ub7ec\uc628 \ub4a4\uc5d0\ub294 \ud544\uc694\uc5d0 \ub530\ub77c \ub370\uc774\ud130\uc14b\uc744 \uc21c\ud68c(iterate)\ud560 \uc218 \uc788\uc2b5\ub2c8\ub2e4.\n\uc544\ub798\uc758 \uac01 \uc21c\ud68c(iteration)\ub294 (\uac01\uac01 ``batch_size=64`` \uc758 \ud2b9\uc9d5(feature)\uacfc \uc815\ub2f5(label)\uc744 \ud3ec\ud568\ud558\ub294) ``train_features`` \uc640\n``train_labels`` \uc758 \ubb36\uc74c(batch)\uc744 \ubc18\ud658\ud569\ub2c8\ub2e4. ``shuffle=True`` \ub85c \uc9c0\uc815\ud588\uc73c\ubbc0\ub85c, \ubaa8\ub4e0 \ubc30\uce58\ub97c \uc21c\ud68c\ud55c \ub4a4 \ub370\uc774\ud130\uac00 \uc11e\uc785\ub2c8\ub2e4.\n(\ub370\uc774\ud130 \ubd88\ub7ec\uc624\uae30 \uc21c\uc11c\ub97c \ubcf4\ub2e4 \uc138\ubc00\ud558\uac8c(finer-grained) \uc81c\uc5b4\ud558\ub824\uba74 `Samplers <https://pytorch.org/docs/stable/data.html#data-loading-order-and-sampler>`_\n\ub97c \uc0b4\ud3b4\ubcf4\uc138\uc694.)\n\n"
      ]
    },
    {
      "cell_type": "code",
      "execution_count": null,
      "metadata": {
        "collapsed": false
      },
      "outputs": [],
      "source": [
        "# \uc774\ubbf8\uc9c0\uc640 \uc815\ub2f5(label)\uc744 \ud45c\uc2dc\ud569\ub2c8\ub2e4.\ntrain_features, train_labels = next(iter(train_dataloader))\nprint(f\"Feature batch shape: {train_features.size()}\")\nprint(f\"Labels batch shape: {train_labels.size()}\")\nimg = train_features[0].squeeze()\nlabel = train_labels[0]\nplt.imshow(img, cmap=\"gray\")\nplt.show()\nprint(f\"Label: {label}\")"
      ]
    },
    {
      "cell_type": "markdown",
      "metadata": {},
      "source": [
        "------------------------------------------------------------------------------------------\n\n\n"
      ]
    },
    {
      "cell_type": "markdown",
      "metadata": {},
      "source": [
        "\ub354 \uc77d\uc5b4\ubcf4\uae30\n------------------------------------------------------------------------------------------\n- `torch.utils.data API <https://pytorch.org/docs/stable/data.html>`_\n\n"
      ]
    }
  ],
  "metadata": {
    "kernelspec": {
      "display_name": "Python 3",
      "language": "python",
      "name": "python3"
    },
    "language_info": {
      "codemirror_mode": {
        "name": "ipython",
        "version": 3
      },
      "file_extension": ".py",
      "mimetype": "text/x-python",
      "name": "python",
      "nbconvert_exporter": "python",
      "pygments_lexer": "ipython3",
      "version": "3.8.8"
    }
  },
  "nbformat": 4,
  "nbformat_minor": 0
}