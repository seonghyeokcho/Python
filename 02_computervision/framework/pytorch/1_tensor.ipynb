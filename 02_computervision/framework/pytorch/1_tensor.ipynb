{
 "cells": [
  {
   "cell_type": "markdown",
   "metadata": {},
   "source": [
    "### tensor(텐서)\n",
    "- 텐서는 배열(array)이나 행렬(matrix)과 매우 유사한 특수한 자료구조(data structure)이다.<br>\n",
    "PyTorch에서는 텐서를 사용하여 모델의 입력(input)과 출력(output), 그리고 모델의 매개변수들을 부호화(encode)한다.\n",
    "- 텐서는 GPU나 다른 하드웨어 가속기에서 실행할 수 있다는 점만 제외하면 `NumPy`의 `ndarray`와 유사하다.<br>\n",
    "실제로 텐서와 `NumPy 배열(array)`은 종종 동일한 내부(underly) 메모리를 공유할 수 있어 데이터를 복사할 필요가 없다.<br>\n",
    "텐서는 또한 자동 미분(automatic differentiation)에 최적화 되어 있다.<br>\n",
    "`ndarray`에 익숙하다면 `Tensor API` 또한 쉽게 사용할 수 있을 것이다."
   ]
  },
  {
   "cell_type": "code",
   "execution_count": 3,
   "metadata": {},
   "outputs": [
    {
     "data": {
      "text/plain": [
       "'1.13.0.dev20220915'"
      ]
     },
     "execution_count": 3,
     "metadata": {},
     "output_type": "execute_result"
    }
   ],
   "source": [
    "import torch\n",
    "import numpy as np\n",
    "torch.__version__"
   ]
  },
  {
   "cell_type": "code",
   "execution_count": 5,
   "metadata": {},
   "outputs": [
    {
     "name": "stdout",
     "output_type": "stream",
     "text": [
      "tensor([[1, 2],\n",
      "        [3, 4]])\n",
      "[[1 2]\n",
      " [3 4]]\n"
     ]
    }
   ],
   "source": [
    "# 임의의 데이터로부터 직접 텐서 생성하기 - 이 때 데이터의 자료형을 따로 입력하지 않으면 자동으로 유추된다\n",
    "data = [[1,2],[3,4]]\n",
    "x_data = torch.tensor(data)\n",
    "np_array = np.array(data)\n",
    "\n",
    "print(x_data, np_array, sep=\"\\n\")"
   ]
  },
  {
   "cell_type": "code",
   "execution_count": 7,
   "metadata": {},
   "outputs": [
    {
     "name": "stdout",
     "output_type": "stream",
     "text": [
      "tensor([[1, 2],\n",
      "        [3, 4]])\n",
      "[[1 2]\n",
      " [3 4]]\n"
     ]
    }
   ],
   "source": [
    "# numpy 배열로부터 텐서 생성하기 - 텐서에서 넘파이 배열로도 가능\n",
    "x_np = torch.from_numpy(np_array)\n",
    "print(x_np)\n",
    "to_np = x_np.numpy()\n",
    "print(to_np)"
   ]
  },
  {
   "cell_type": "code",
   "execution_count": 23,
   "metadata": {},
   "outputs": [
    {
     "name": "stdout",
     "output_type": "stream",
     "text": [
      "<class 'torch.Tensor'>\n",
      "torch.int64\n",
      "tensor([[1, 1],\n",
      "        [1, 1]])\n",
      "tensor([[0.5088, 0.8424],\n",
      "        [0.0607, 0.6890]])\n"
     ]
    }
   ],
   "source": [
    "# 다른 텐서로부터 텐서 생성하기 - 명시적으로 재정의(overriding) 하지 않는다면,\n",
    "# 인자(argument) 로 주어진 텐서의 속성(shape, dtype)을 유지한다.\n",
    "\n",
    "# x_data -> 임의의 데이터로부터 생성된 텐서\n",
    "print(type(x_data))\n",
    "print(x_data.dtype)\n",
    "\n",
    "x_ones = torch.ones_like(x_data)  # 입력 데이터의 속성을 유지함\n",
    "print(x_ones)\n",
    "\n",
    "x_rand = torch.rand_like(x_data, dtype=torch.float)  # 입력 데이터의 속성을 명시하여 덮어 씌움\n",
    "print(x_rand)"
   ]
  },
  {
   "cell_type": "code",
   "execution_count": 24,
   "metadata": {},
   "outputs": [
    {
     "name": "stdout",
     "output_type": "stream",
     "text": [
      "tensor([[0.3683, 0.4223, 0.1018],\n",
      "        [0.2091, 0.9842, 0.6533]])\n",
      "tensor([[1., 1., 1.],\n",
      "        [1., 1., 1.]])\n",
      "tensor([[0., 0., 0.],\n",
      "        [0., 0., 0.]])\n"
     ]
    }
   ],
   "source": [
    "# 무작위(random) 또는 상수(constant) 값을 텐서로써 사용하기\n",
    "shape = (2,3)\n",
    "rand_tensor = torch.rand(shape)\n",
    "ones_tensor = torch.ones(shape)\n",
    "zeros_tensor = torch.zeros(shape)\n",
    "\n",
    "print(rand_tensor)\n",
    "print(ones_tensor)\n",
    "print(zeros_tensor)"
   ]
  },
  {
   "cell_type": "markdown",
   "metadata": {},
   "source": [
    "### 텐서의 속성(Attribute)\n",
    "- 텐서의 속성은 모양(shape), 자료형(data type) 및 어느 장치(CPU or GPU)에 저장되는지를 나타낸다."
   ]
  },
  {
   "cell_type": "code",
   "execution_count": 25,
   "metadata": {},
   "outputs": [
    {
     "name": "stdout",
     "output_type": "stream",
     "text": [
      "torch.Size([3, 4])\n",
      "torch.float32\n",
      "cpu\n"
     ]
    }
   ],
   "source": [
    "tensor = torch.rand(3,4)\n",
    "\n",
    "print(tensor.shape)\n",
    "print(tensor.dtype)\n",
    "print(tensor.device)"
   ]
  },
  {
   "cell_type": "markdown",
   "metadata": {},
   "source": [
    "### 텐서의 연산(Operation)\n",
    "- 전치, 인덱싱, 슬라이싱, 수학 계산, 선형 대수, 임의 샘플링 등 100가지 이상의 텐서 연산들은 [여기](https://pytorch.org/docs/stable/torch.html)에서 확인 가능"
   ]
  },
  {
   "cell_type": "code",
   "execution_count": 34,
   "metadata": {},
   "outputs": [
    {
     "name": "stdout",
     "output_type": "stream",
     "text": [
      "not available GPU\n",
      "tensor([[0.6016, 0.6248, 0.8897, 0.0635],\n",
      "        [0.9292, 0.5868, 0.1256, 0.3579],\n",
      "        [0.4259, 0.7948, 0.7762, 0.7429]]) torch.float32\n",
      "[[0.6016283631324768, 0.6248472332954407, 0.8896991610527039, 0.06352609395980835], [0.9292129874229431, 0.5867754220962524, 0.1255967617034912, 0.35789698362350464], [0.42592257261276245, 0.7947680354118347, 0.7762494087219238, 0.7429388761520386]]\n"
     ]
    }
   ],
   "source": [
    "# GPU가 존재하면 텐서를 이동시킴\n",
    "tensor = torch.rand(3,4)\n",
    "if torch.cuda.is_available():\n",
    "    # 기본적으로 텐서는 CPU에서 생성됨. 하지만 장치들 간에 큰 텐서들을 복사하는 것은\n",
    "    # 시간과 메모리 측면에서 비용(cost)이 많이든다는 것을 기억하자\n",
    "    tensor = tensor.to(\"cuda\")\n",
    "else:\n",
    "    print(\"not available GPU\")\n",
    "\n",
    "print(tensor, tensor.dtype)\n",
    "print(tensor.tolist())"
   ]
  },
  {
   "cell_type": "markdown",
   "metadata": {},
   "source": [
    "#### 인덱싱과 슬라이싱"
   ]
  },
  {
   "cell_type": "code",
   "execution_count": 39,
   "metadata": {},
   "outputs": [
    {
     "name": "stdout",
     "output_type": "stream",
     "text": [
      "tensor([[1., 1., 1., 1.],\n",
      "        [1., 1., 1., 1.],\n",
      "        [1., 1., 1., 1.],\n",
      "        [1., 1., 1., 1.]])\n",
      "first row: tensor([1., 1., 1., 1.])\n",
      "first column: tensor([1., 1., 1., 1.])\n",
      "last column: tensor([1., 1., 1., 1.])\n",
      "tensor([[1., 0., 1., 1.],\n",
      "        [1., 0., 1., 1.],\n",
      "        [1., 0., 1., 1.],\n",
      "        [1., 0., 1., 1.]])\n"
     ]
    }
   ],
   "source": [
    "# NumPy식의 표준 인덱싱과 슬라이싱과 같은 방식으로 동작한다.\n",
    "tensor = torch.ones(4, 4)\n",
    "print(tensor)\n",
    "print(f\"first row: {tensor[0]}\")\n",
    "print(f\"first column: {tensor[:, 0]}\")\n",
    "# print(f\"last column: {tensor[:, -1]}\")\n",
    "print(f\"last column: {tensor[..., -1]}\")\n",
    "\n",
    "# 두번째 열을 0으로 교체\n",
    "tensor[:, 1] = 0\n",
    "print(tensor)"
   ]
  },
  {
   "cell_type": "markdown",
   "metadata": {},
   "source": [
    "#### 텐서 합치기"
   ]
  },
  {
   "cell_type": "code",
   "execution_count": 56,
   "metadata": {},
   "outputs": [
    {
     "name": "stdout",
     "output_type": "stream",
     "text": [
      "tensor([[0.3196, 0.6250],\n",
      "        [0.3493, 0.9406]])\n",
      "tensor([[0.3196, 0.6250],\n",
      "        [0.3493, 0.9406],\n",
      "        [0.3196, 0.6250],\n",
      "        [0.3493, 0.9406],\n",
      "        [0.3196, 0.6250],\n",
      "        [0.3493, 0.9406]])\n",
      "tensor([[[0.3196, 0.6250],\n",
      "         [0.3493, 0.9406]],\n",
      "\n",
      "        [[0.3196, 0.6250],\n",
      "         [0.3493, 0.9406]],\n",
      "\n",
      "        [[0.3196, 0.6250],\n",
      "         [0.3493, 0.9406]]])\n"
     ]
    }
   ],
   "source": [
    "# 텐서 합치기(torch.cat)를 사용하여 주어진 차원(dimension)에 따라 일련의 텐서를 연결할 수 있다.\n",
    "tensor = torch.rand(2, 2)\n",
    "print(tensor)\n",
    "\n",
    "t1 = torch.cat([tensor, tensor, tensor], dim=0)  # dim=0 -> 행으로 결합, dim=1 -> 열로 결합\n",
    "print(t1)\n",
    "\n",
    "# torch.cat 과 미묘하게 다른 또다른 텐서 결합 연산인 torch.stack도 있다.\n",
    "t2 = torch.stack([tensor, tensor, tensor], dim=0)\n",
    "print(t2)"
   ]
  },
  {
   "cell_type": "markdown",
   "metadata": {},
   "source": [
    "#### 산술 연산(Arithmetic Operations)"
   ]
  },
  {
   "cell_type": "code",
   "execution_count": 69,
   "metadata": {},
   "outputs": [
    {
     "name": "stdout",
     "output_type": "stream",
     "text": [
      "tensor([[1., 0., 1., 1.],\n",
      "        [1., 0., 1., 1.],\n",
      "        [1., 0., 1., 1.],\n",
      "        [1., 0., 1., 1.]]) tensor([[1., 1., 1., 1.],\n",
      "        [0., 0., 0., 0.],\n",
      "        [1., 1., 1., 1.],\n",
      "        [1., 1., 1., 1.]])\n",
      "\n",
      "tensor([[3., 3., 3., 3.],\n",
      "        [3., 3., 3., 3.],\n",
      "        [3., 3., 3., 3.],\n",
      "        [3., 3., 3., 3.]])\n",
      "tensor([[3., 3., 3., 3.],\n",
      "        [3., 3., 3., 3.],\n",
      "        [3., 3., 3., 3.],\n",
      "        [3., 3., 3., 3.]])\n",
      "tensor([[3., 3., 3., 3.],\n",
      "        [3., 3., 3., 3.],\n",
      "        [3., 3., 3., 3.],\n",
      "        [3., 3., 3., 3.]])\n"
     ]
    }
   ],
   "source": [
    "# 두 텐서 간의 행렬 곱(matrix multiplication)을 계산\n",
    "tensor = torch.ones(4, 4)\n",
    "tensor[:, 1] = 0\n",
    "print(tensor, tensor.T)\n",
    "print()\n",
    "\n",
    "y1 = tensor @ tensor.T\n",
    "y2 = tensor.matmul(tensor.T)\n",
    "print(y1)\n",
    "print(y2)\n",
    "\n",
    "y3 = torch.rand_like(y1)\n",
    "print(torch.matmul(tensor, tensor.T, out=y3))"
   ]
  },
  {
   "cell_type": "code",
   "execution_count": 70,
   "metadata": {},
   "outputs": [
    {
     "name": "stdout",
     "output_type": "stream",
     "text": [
      "tensor([[1., 0., 1., 1.],\n",
      "        [1., 0., 1., 1.],\n",
      "        [1., 0., 1., 1.],\n",
      "        [1., 0., 1., 1.]])\n",
      "tensor([[1., 0., 1., 1.],\n",
      "        [1., 0., 1., 1.],\n",
      "        [1., 0., 1., 1.],\n",
      "        [1., 0., 1., 1.]])\n",
      "tensor([[1., 0., 1., 1.],\n",
      "        [1., 0., 1., 1.],\n",
      "        [1., 0., 1., 1.],\n",
      "        [1., 0., 1., 1.]])\n"
     ]
    }
   ],
   "source": [
    "# 요소별 곱(element-wise product)을 계산\n",
    "z1 = tensor * tensor\n",
    "z2 = tensor.mul(tensor)\n",
    "print(z1)\n",
    "print(z2)\n",
    "\n",
    "z3 = torch.rand_like(tensor)\n",
    "print(torch.mul(tensor, tensor, out=z3))"
   ]
  },
  {
   "cell_type": "markdown",
   "metadata": {},
   "source": [
    "#### 단일 요소 텐서 변환"
   ]
  },
  {
   "cell_type": "code",
   "execution_count": 71,
   "metadata": {},
   "outputs": [
    {
     "name": "stdout",
     "output_type": "stream",
     "text": [
      "16.0 <class 'float'>\n"
     ]
    }
   ],
   "source": [
    "# 단일-요소(single-element) 텐서의 모든 값을 하나로 집계(aggregate)하여 요소가 하나인 텐서의 경우,\n",
    "# item() 메서드를 사용하여 python 숫자 값으로 변환할 수 있다.\n",
    "tensor = torch.ones(4, 4)\n",
    "agg = tensor.sum()\n",
    "agg_item = agg.item()\n",
    "print(agg_item, type(agg_item))"
   ]
  },
  {
   "cell_type": "markdown",
   "metadata": {},
   "source": [
    "#### 바꿔치기(in-place) 연산"
   ]
  },
  {
   "cell_type": "code",
   "execution_count": 72,
   "metadata": {},
   "outputs": [
    {
     "name": "stdout",
     "output_type": "stream",
     "text": [
      "tensor([[1., 1., 1., 1.],\n",
      "        [1., 1., 1., 1.],\n",
      "        [1., 1., 1., 1.],\n",
      "        [1., 1., 1., 1.]])\n",
      "tensor([[6., 6., 6., 6.],\n",
      "        [6., 6., 6., 6.],\n",
      "        [6., 6., 6., 6.],\n",
      "        [6., 6., 6., 6.]])\n"
     ]
    }
   ],
   "source": [
    "# 바꿔치기 연산은 연산 결과를 피연산자(operand)에 저장하는 연산, 메서드 뒤에 접미사 _ 를 갖는다.\n",
    "tensor = torch.ones(4, 4)\n",
    "print(tensor)\n",
    "tensor.add_(5)\n",
    "print(tensor)"
   ]
  },
  {
   "cell_type": "markdown",
   "metadata": {},
   "source": [
    "#### 참조 변환(Reference Bridge)"
   ]
  },
  {
   "cell_type": "code",
   "execution_count": 74,
   "metadata": {},
   "outputs": [
    {
     "name": "stdout",
     "output_type": "stream",
     "text": [
      "tensor([1., 1., 1., 1., 1.])\n",
      "[1. 1. 1. 1. 1.]\n",
      "tensor([2., 2., 2., 2., 2.])\n",
      "[2. 2. 2. 2. 2.]\n"
     ]
    }
   ],
   "source": [
    "# tensor -> numpy, 텐서 바꿔치기 연산\n",
    "t = torch.ones(5)\n",
    "print(t)\n",
    "n = t.numpy()\n",
    "print(n)\n",
    "t.add_(1)\n",
    "print(t)\n",
    "print(n)"
   ]
  },
  {
   "cell_type": "code",
   "execution_count": 81,
   "metadata": {},
   "outputs": [
    {
     "name": "stdout",
     "output_type": "stream",
     "text": [
      "[1. 1. 1. 1. 1.]\n",
      "tensor([1., 1., 1., 1., 1.], dtype=torch.float64)\n",
      "[2. 2. 2. 2. 2.]\n",
      "tensor([2., 2., 2., 2., 2.], dtype=torch.float64)\n"
     ]
    }
   ],
   "source": [
    "# numpy -> tensor, 넘파이 바꿔치기 연산\n",
    "n = np.ones(5)\n",
    "print(n)\n",
    "t = torch.from_numpy(n)\n",
    "# t = torch.tensor(n)  # torch.tensor 를 사용하여 텐서로 변환할수도 있지만, 더이상 넘파이를 참조하지 않는다.\n",
    "print(t)\n",
    "np.add(n, 1, out=n)\n",
    "print(n)\n",
    "print(t)"
   ]
  },
  {
   "cell_type": "code",
   "execution_count": null,
   "metadata": {},
   "outputs": [],
   "source": []
  }
 ],
 "metadata": {
  "kernelspec": {
   "display_name": "Python 3.8.13 ('base')",
   "language": "python",
   "name": "python3"
  },
  "language_info": {
   "codemirror_mode": {
    "name": "ipython",
    "version": 3
   },
   "file_extension": ".py",
   "mimetype": "text/x-python",
   "name": "python",
   "nbconvert_exporter": "python",
   "pygments_lexer": "ipython3",
   "version": "3.8.13"
  },
  "orig_nbformat": 4,
  "vscode": {
   "interpreter": {
    "hash": "38cc0cca68228d4d18227abe74ed813685db17db46984279e4aabdddebf5f1ba"
   }
  }
 },
 "nbformat": 4,
 "nbformat_minor": 2
}
