{
 "cells": [
  {
   "cell_type": "markdown",
   "metadata": {},
   "source": [
    "### torch.autograd 를 사용한 지동 미분\n",
    "- 신경망을 학습할 때 가장 자주 사용되는 알고리즘은 역전파입니다.<br>\n",
    "이 알고리즘에서, 매개변수(모델 가중치)는 주어진 매개변수에 대한 손실 함수의 변화도(gradient)에 따라 조정됩니다.\n",
    "- 이러한 변화도를 계산하기 위해 `PyTorch` 에는 `torch.autograd` 라고 불리는 자동 미분 엔진이 내장되어 있습니다.<br>\n",
    "이는 모든 계산 그래프에 대한 변화도의 자동 계산을 지원합니다.\n",
    "- 입력 `x`, 매개변수 `w`와 `b` , 그리고 일부 손실 함수가 있는 가장 간단한 단일 계층 신경망을 가정하겠습니다.<br>\n",
    "`PyTorch` 에서는 다음과 같이 정의할 수 있습니다."
   ]
  },
  {
   "cell_type": "code",
   "execution_count": 1,
   "metadata": {},
   "outputs": [
    {
     "name": "stdout",
     "output_type": "stream",
     "text": [
      "x: tensor([1., 1., 1., 1., 1.])\n",
      "y: tensor([0., 0., 0.])\n",
      "Weight: tensor([[ 0.4489, -1.4925, -0.6521],\n",
      "        [ 0.1760,  0.2058,  1.0680],\n",
      "        [ 0.5655, -0.6015,  0.1471],\n",
      "        [-0.0664, -0.1417,  0.1662],\n",
      "        [-1.3512, -0.7873,  1.0274]], requires_grad=True)\n",
      "Bias: tensor([-1.2979, -0.0958, -0.1840], requires_grad=True)\n",
      "z: tensor([-1.5251, -2.9130,  1.5726], grad_fn=<AddBackward0>)\n",
      "Loss: 0.6703190803527832\n"
     ]
    }
   ],
   "source": [
    "import torch\n",
    "\n",
    "x = torch.ones(5)\n",
    "y = torch.zeros(3)\n",
    "# requires_grad 의 값은 텐서를 생성할 때 설정하거나, 나중에 x.requires_grad_(True) 메소드를 사용하여 설정할 수도 있다.\n",
    "w = torch.randn(5, 3, requires_grad=True)\n",
    "b = torch.randn(3, requires_grad=True)\n",
    "z = torch.matmul(x, w) + b\n",
    "loss = torch.nn.functional.binary_cross_entropy_with_logits(z, y)\n",
    "print(f\"x: {x}\")\n",
    "print(f\"y: {y}\")\n",
    "print(f\"Weight: {w}\")\n",
    "print(f\"Bias: {b}\")\n",
    "print(f\"z: {z}\")\n",
    "print(f\"Loss: {loss}\")"
   ]
  },
  {
   "cell_type": "code",
   "execution_count": null,
   "metadata": {},
   "outputs": [],
   "source": []
  },
  {
   "cell_type": "code",
   "execution_count": null,
   "metadata": {},
   "outputs": [],
   "source": []
  },
  {
   "cell_type": "code",
   "execution_count": null,
   "metadata": {},
   "outputs": [],
   "source": []
  },
  {
   "cell_type": "code",
   "execution_count": null,
   "metadata": {},
   "outputs": [],
   "source": []
  }
 ],
 "metadata": {
  "kernelspec": {
   "display_name": "Python 3.8.13 ('base')",
   "language": "python",
   "name": "python3"
  },
  "language_info": {
   "codemirror_mode": {
    "name": "ipython",
    "version": 3
   },
   "file_extension": ".py",
   "mimetype": "text/x-python",
   "name": "python",
   "nbconvert_exporter": "python",
   "pygments_lexer": "ipython3",
   "version": "3.8.13"
  },
  "orig_nbformat": 4,
  "vscode": {
   "interpreter": {
    "hash": "38cc0cca68228d4d18227abe74ed813685db17db46984279e4aabdddebf5f1ba"
   }
  }
 },
 "nbformat": 4,
 "nbformat_minor": 2
}
