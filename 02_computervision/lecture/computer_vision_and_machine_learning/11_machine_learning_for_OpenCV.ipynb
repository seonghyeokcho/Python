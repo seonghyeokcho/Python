{
 "cells": [
  {
   "cell_type": "markdown",
   "metadata": {},
   "source": [
    "## <font color = \"#CC3D3D\">Case #1: Machine Learning</font>"
   ]
  },
  {
   "cell_type": "markdown",
   "metadata": {},
   "source": [
    "<hr>\n",
    "\n",
    "### Step #1: Concept\n",
    "<hr>\n",
    "\n",
    "- 머신 러닝(machine learning)\n",
    "    - 주어진 데이터`(normally big data)`를 분석하여 규칙성, 패턴 등을 찾고, 이를 이용하여 의미 있는(가치 있는)<br>\n",
    "    정보를 추출하여 통찰`(insight)`을 얻는 과정이다.\n",
    "    - Machine learning (ML) is the scientific study of algorithms and statistical models that<br>\n",
    "    computer systems use to perform a specific task without using explicit instructions, relying<br>\n",
    "    on patterns and inference instead.<br>\n",
    "    (머신 러닝은 컴퓨터 시스템이 명시적 지침을 사용하지 않고 패턴과 추론에 의존하여 특정 작업을 수행하는 데 사용하는<br>\n",
    "    알고리즘 및 통계 모델에 대한 과학적 연구입니다.)\n",
    "        - > [https://en.wikipedia.org/wiki/Machine_learning](https://en.wikipedia.org/wiki/Machine_learning)\n",
    "    - <img src=\"images/markdown/.png\" width=\"600\">"
   ]
  },
  {
   "cell_type": "markdown",
   "metadata": {},
   "source": [
    "<hr>\n",
    "\n",
    "### Step #2: About machine learning\n",
    "<hr>\n",
    "\n",
    "- 머신 러닝의 예\n",
    "    - 붓꽃(IRIS) 품종 분류: Setosa vs. Vericolor\n",
    "    - 꽃잎(petal)과 꽃받침(sepal)의 길이에 의한 분류\n",
    "    - <img src=\"images/markdown/.png\" width=\"600\">\n",
    "    - > image from: [https://github.com/rasbt/python-machine-learning-book-2nd-edition](https://github.com/rasbt/python-machine-learning-book-2nd-edition)\n",
    "\n",
    "<hr>\n",
    "\n",
    "- 머신 러닝에 의한 붓꽃 분류(Con't)\n",
    "    - Adaline: Adaptive Linear Neuron\n",
    "    - <img src=\"images/markdown/.png\" width=\"600\">\n",
    "    - > image from: [https://github.com/rasbt/python-machine-learning-book-2nd-edition](https://github.com/rasbt/python-machine-learning-book-2nd-edition)\n",
    "\n",
    "<hr>\n",
    "\n",
    "- 머신 러닝 종류\n",
    "    - <img src=\"images/markdown/.png\" width=\"600\">\n",
    "\n",
    "<hr>\n",
    "\n",
    "- 머신 러닝 단계\n",
    "    - 학습(Train): 학습 데이터를 이용하여 `모델을 학습`하는 과정을 의미한다.\n",
    "    - 예측(Predict): 학습된 모델을 이용하여 `새로운 데이터(미지의 데이터)로부터 적절한 값을 예측`하는 과정을 의미한다.\n",
    "        - `추론(Inference)`이라고도 한다.\n",
    "    - <img src=\"images/markdown/.png\" width=\"600\">\n",
    "\n",
    "<hr>\n",
    "\n",
    "- 머신 러닝 학습\n",
    "    - 목적: 미래의 새로운 데이터를 더 정확하게 예측하기 위함이다.\n",
    "        - `모델의 일반화(generalization) 성능을 향상`시키는 방향으로 학습해야 한다.\n",
    "        - <img src=\"images/markdown/.png\" width=\"600\">\n",
    "        - 과적합(overfitting)\n",
    "            - 학습 데이터셋을 지나치게 정확하게 구분하도록 학습하여 모델의 일반화 성능이 떨어지게 되는 현상을 말한다.\n",
    "            - 과적합 발생 원인\n",
    "                - 학습 데이터셋 문제\n",
    "                    - 학습 데이터 셋이 너무 적은 경우\n",
    "                    - 학습 데이터 셋이 전체 데이터셋의 특성/분포를 반영하지 않는 경우\n",
    "                - 모델 문제\n",
    "                    - 모델이 복잡할수록 과적합 발생 확률이 높다.\n",
    "    - 학습 데이터의 분할\n",
    "        - 학습 가능한 데이터를 학습, 검증, 테스트 데이터 셋으로 분할하여 사용한다.\n",
    "        - <img src=\"images/markdown/.png\" width=\"600\">\n",
    "    - k-폴드 교차 검증(k-fold cross-validation)\n",
    "        - 학습 데이터를 k개로 분할하여 여러 번 검증을 수행한다.\n",
    "        - <img src=\"images/markdown/.png\" width=\"600\">"
   ]
  },
  {
   "cell_type": "markdown",
   "metadata": {},
   "source": [
    "## <font color = \"#CC3D3D\">Case #2: OpenCV ML class</font>"
   ]
  },
  {
   "cell_type": "markdown",
   "metadata": {},
   "source": [
    "<hr>\n",
    "\n",
    "### Step #1: ML Class\n",
    "<hr>\n",
    "\n",
    "- cv2.ml_StatModel 클래스\n",
    "    - <img src=\"images/markdown/.png\" width=\"600\">\n",
    "\n",
    "<hr>\n",
    "\n",
    "- OpenCV 머신 러닝 클래스 설명\n",
    "    - <img src=\"images/markdown/.png\" width=\"600\">\n",
    "    - <img src=\"images/markdown/.png\" width=\"600\">"
   ]
  },
  {
   "cell_type": "markdown",
   "metadata": {},
   "source": [
    "<hr>\n",
    "\n",
    "### Step #2: OpenCV function\n",
    "<hr>\n",
    "\n",
    "> `머신 러닝 알고리즘 객체 생성`\n",
    "\n",
    "$$\\mathsf{{\\color{RoyalBlue} }{\\color{Tan} }()\\rightarrow }$$\n",
    "\n",
    "> `머신 러닝 알고리즘 학습`\n",
    "\n",
    "$$\\mathsf{{\\color{RoyalBlue} }{\\color{Tan} }()\\rightarrow }$$\n",
    "\n",
    "> `머신 러닝 알고리즘 예측`\n",
    "\n",
    "$$\\mathsf{{\\color{RoyalBlue} }{\\color{Tan} }()\\rightarrow }$$"
   ]
  },
  {
   "cell_type": "markdown",
   "metadata": {},
   "source": [
    "## <font color = \"#CC3D3D\">Case #3: KNN algorithm</font>"
   ]
  },
  {
   "cell_type": "code",
   "execution_count": null,
   "metadata": {},
   "outputs": [],
   "source": [
    "ㄴ"
   ]
  },
  {
   "cell_type": "code",
   "execution_count": null,
   "metadata": {},
   "outputs": [],
   "source": [
    "$$\\mathsf{{\\color{RoyalBlue} }{\\color{Tan} }()\\rightarrow }$$\n",
    "- <img src=\"images/markdown/.png\" width=\"600\">"
   ]
  },
  {
   "cell_type": "code",
   "execution_count": null,
   "metadata": {},
   "outputs": [],
   "source": []
  },
  {
   "cell_type": "code",
   "execution_count": null,
   "metadata": {},
   "outputs": [],
   "source": []
  },
  {
   "cell_type": "markdown",
   "metadata": {},
   "source": [
    "## <font color = \"#CC3D3D\">Case #4: SVM algorithm</font>"
   ]
  },
  {
   "cell_type": "code",
   "execution_count": null,
   "metadata": {},
   "outputs": [],
   "source": []
  },
  {
   "cell_type": "code",
   "execution_count": null,
   "metadata": {},
   "outputs": [],
   "source": []
  },
  {
   "cell_type": "code",
   "execution_count": null,
   "metadata": {},
   "outputs": [],
   "source": []
  },
  {
   "cell_type": "code",
   "execution_count": null,
   "metadata": {},
   "outputs": [],
   "source": []
  },
  {
   "cell_type": "code",
   "execution_count": null,
   "metadata": {},
   "outputs": [],
   "source": []
  },
  {
   "cell_type": "markdown",
   "metadata": {},
   "source": [
    "## <font color = \"#CC3D3D\">Case #5: K-Mean algorithm</font>"
   ]
  },
  {
   "cell_type": "code",
   "execution_count": null,
   "metadata": {},
   "outputs": [],
   "source": []
  },
  {
   "cell_type": "code",
   "execution_count": null,
   "metadata": {},
   "outputs": [],
   "source": []
  },
  {
   "cell_type": "code",
   "execution_count": null,
   "metadata": {},
   "outputs": [],
   "source": []
  },
  {
   "cell_type": "code",
   "execution_count": null,
   "metadata": {},
   "outputs": [],
   "source": []
  },
  {
   "cell_type": "code",
   "execution_count": null,
   "metadata": {},
   "outputs": [],
   "source": []
  },
  {
   "cell_type": "markdown",
   "metadata": {},
   "source": [
    "## <font color = \"#CC3D3D\">Training #1: Document print number recognition</font>"
   ]
  },
  {
   "cell_type": "code",
   "execution_count": null,
   "metadata": {},
   "outputs": [],
   "source": []
  },
  {
   "cell_type": "code",
   "execution_count": null,
   "metadata": {},
   "outputs": [],
   "source": []
  },
  {
   "cell_type": "code",
   "execution_count": null,
   "metadata": {},
   "outputs": [],
   "source": []
  }
 ],
 "metadata": {
  "interpreter": {
   "hash": "38cc0cca68228d4d18227abe74ed813685db17db46984279e4aabdddebf5f1ba"
  },
  "kernelspec": {
   "display_name": "Python 3.7.9 64-bit ('base': conda)",
   "language": "python",
   "name": "python3"
  },
  "language_info": {
   "codemirror_mode": {
    "name": "ipython",
    "version": 3
   },
   "file_extension": ".py",
   "mimetype": "text/x-python",
   "name": "python",
   "nbconvert_exporter": "python",
   "pygments_lexer": "ipython3",
   "version": "3.7.9"
  },
  "orig_nbformat": 4
 },
 "nbformat": 4,
 "nbformat_minor": 2
}
