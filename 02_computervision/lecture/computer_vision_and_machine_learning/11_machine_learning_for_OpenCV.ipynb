{
 "cells": [
  {
   "cell_type": "markdown",
   "metadata": {},
   "source": [
    "## <font color = \"#CC3D3D\">Case #1: Machine Learning</font>"
   ]
  },
  {
   "cell_type": "markdown",
   "metadata": {},
   "source": [
    "<hr>\n",
    "\n",
    "### Step #1: Concept\n",
    "<hr>\n",
    "\n",
    "- 머신 러닝(machine learning)\n",
    "    - 주어진 데이터`(normally big data)`를 분석하여 규칙성, 패턴 등을 찾고, 이를 이용하여 의미 있는(가치 있는)<br>\n",
    "    정보를 추출하여 통찰`(insight)`을 얻는 과정이다.\n",
    "    - Machine learning (ML) is the scientific study of algorithms and statistical models that<br>\n",
    "    computer systems use to perform a specific task without using explicit instructions, relying<br>\n",
    "    on patterns and inference instead.<br>\n",
    "    (머신 러닝은 컴퓨터 시스템이 명시적 지침을 사용하지 않고 패턴과 추론에 의존하여 특정 작업을 수행하는 데 사용하는<br>\n",
    "    알고리즘 및 통계 모델에 대한 과학적 연구입니다.)\n",
    "        - > [https://en.wikipedia.org/wiki/Machine_learning](https://en.wikipedia.org/wiki/Machine_learning)\n",
    "    - <img src=\"images/markdown/machine_learning.png\" width=\"600\">"
   ]
  },
  {
   "cell_type": "markdown",
   "metadata": {},
   "source": [
    "<hr>\n",
    "\n",
    "### Step #2: About machine learning\n",
    "<hr>\n",
    "\n",
    "- 머신 러닝의 예\n",
    "    - 붓꽃(IRIS) 품종 분류: Setosa vs. Vericolor\n",
    "    - 꽃잎(petal)과 꽃받침(sepal)의 길이에 의한 분류\n",
    "    - <img src=\"images/markdown/machine_learning_exam1.png\" width=\"600\">\n",
    "    - > image from: [https://github.com/rasbt/python-machine-learning-book-2nd-edition](https://github.com/rasbt/python-machine-learning-book-2nd-edition)\n",
    "\n",
    "<hr>\n",
    "\n",
    "- 머신 러닝에 의한 붓꽃 분류(Con't)\n",
    "    - Adaline: Adaptive Linear Neuron\n",
    "    - <img src=\"images/markdown/machine_learning_exam2.png\" width=\"600\">\n",
    "    - > image from: [https://github.com/rasbt/python-machine-learning-book-2nd-edition](https://github.com/rasbt/python-machine-learning-book-2nd-edition)\n",
    "\n",
    "<hr>\n",
    "\n",
    "- 머신 러닝 종류\n",
    "    - <img src=\"images/markdown/machine_learning_kinds.png\" width=\"600\">\n",
    "\n",
    "<hr>\n",
    "\n",
    "- 머신 러닝 단계\n",
    "    - 학습(Train): 학습 데이터를 이용하여 `모델을 학습`하는 과정을 의미한다.\n",
    "    - 예측(Predict): 학습된 모델을 이용하여 `새로운 데이터(미지의 데이터)로부터 적절한 값을 예측`하는 과정을 의미한다.\n",
    "        - `추론(Inference)`이라고도 한다.\n",
    "    - <img src=\"images/markdown/machine_learning_steps.png\" width=\"600\">\n",
    "\n",
    "<hr>\n",
    "\n",
    "- 머신 러닝 학습\n",
    "    - 목적: 미래의 새로운 데이터를 더 정확하게 예측하기 위함이다.\n",
    "        - `모델의 일반화(generalization) 성능을 향상`시키는 방향으로 학습해야 한다.\n",
    "        - <img src=\"images/markdown/machine_learning_training.png\" width=\"600\">\n",
    "        - 과적합(overfitting)\n",
    "            - 학습 데이터셋을 지나치게 정확하게 구분하도록 학습하여 모델의 일반화 성능이 떨어지게 되는 현상을 말한다.\n",
    "            - 과적합 발생 원인\n",
    "                - 학습 데이터셋 문제\n",
    "                    - 학습 데이터 셋이 너무 적은 경우\n",
    "                    - 학습 데이터 셋이 전체 데이터셋의 특성/분포를 반영하지 않는 경우\n",
    "                - 모델 문제\n",
    "                    - 모델이 복잡할수록 과적합 발생 확률이 높다.\n",
    "    - 학습 데이터의 분할\n",
    "        - 학습 가능한 데이터를 학습, 검증, 테스트 데이터 셋으로 분할하여 사용한다.\n",
    "        - <img src=\"images/markdown/train_data_split1.png\" width=\"500\">\n",
    "    - k-폴드 교차 검증(k-fold cross-validation)\n",
    "        - 학습 데이터를 k개로 분할하여 여러 번 검증을 수행한다.\n",
    "        - <img src=\"images/markdown/train_data_split2.png\" width=\"500\">"
   ]
  },
  {
   "cell_type": "markdown",
   "metadata": {},
   "source": [
    "## <font color = \"#CC3D3D\">Case #2: OpenCV ML class</font>"
   ]
  },
  {
   "cell_type": "markdown",
   "metadata": {},
   "source": [
    "<hr>\n",
    "\n",
    "### Step #1: ML Class\n",
    "<hr>\n",
    "\n",
    "- cv2.ml_StatModel 클래스\n",
    "    - <img src=\"images/markdown/OpenCV_ML_class.png\" width=\"600\">\n",
    "\n",
    "<hr>\n",
    "\n",
    "- OpenCV 머신 러닝 클래스 설명\n",
    "    - <img src=\"images/markdown/OpenCV_ML_desc1.png\" width=\"600\">\n",
    "    - <img src=\"images/markdown/OpenCV_ML_desc2.png\" width=\"600\">"
   ]
  },
  {
   "cell_type": "markdown",
   "metadata": {},
   "source": [
    "<hr>\n",
    "\n",
    "### Step #2: OpenCV function\n",
    "<hr>\n",
    "\n",
    "> `머신 러닝 알고리즘 객체 생성`\n",
    "\n",
    "$$\\mathsf{{\\color{RoyalBlue}cv2.ml.}{\\color{Tan}StatModel\\_create}()\\rightarrow retval}$$\n",
    "- retval: 각 머신 러닝 알고리즘 클래스 인스턴스(객체)\n",
    "\n",
    "> `머신 러닝 알고리즘 학습`\n",
    "\n",
    "$$\\mathsf{{\\color{RoyalBlue}cv2.ml\\_StatModel.}{\\color{Tan}train}(samples, layout, responses)\\rightarrow retval}$$\n",
    "- samples: 학습 데이터 행렬\n",
    "- layout: 학습 데이터 배치 방법\n",
    "- responses: 각 학습 데이터에 대응되는 응답(레이블) 행렬\n",
    "- retval: 학습이 성공하면 True\n",
    "- `참고사항:`\n",
    "    - samples:\n",
    "        - type=`numpy.ndarray`\n",
    "        - shape=`(N, d)` -> d: 차원 수(dimension)\n",
    "        - dtype=`numpy.float32`\n",
    "    - layout:\n",
    "        - cv2.ROW_SAMPLE: 하나의 데이터가 한 행으로 구성된다.\n",
    "        - cv2.COL_SAMPLE: 하나의 데이터가 한 열로 구성된다.\n",
    "    - responses:\n",
    "        - type=`numpy.ndarray`\n",
    "        - shape=`(N, 1)`\n",
    "        - dtype=`numpy.int32` or `numpy.float32`\n",
    "\n",
    "> `머신 러닝 알고리즘 예측`\n",
    "\n",
    "$$\\mathsf{{\\color{RoyalBlue}cv2.ml\\_StatModel.}{\\color{Tan}predict}(samples, results, flags)\\rightarrow retval, results}$$\n",
    "- samples: 입력 벡터가 행 단위로 저장된 행렬\n",
    "- results: 각 입력 샘플에 대한 예측(분류 또는 회귀) 결과를 저장한 행렬\n",
    "- flags: 추가적인 StatModel 플래그 열거형 상수\n",
    "- retval: 알고리즘에 따라 다르다.\n",
    "- `참고사항:`\n",
    "    - samples:\n",
    "        - type=`numpy.ndarray`\n",
    "        - shape=`(N, d)` -> d: 차원 수(dimension)\n",
    "        - dtype=`numpy.float32`\n",
    "    - results:\n",
    "        - type=`numpy.ndarray`\n",
    "        - shape=`(N, 1)`\n",
    "        - dtype=`numpy.float32`\n",
    "    - flags: `cv2.ml.STAT_MODEL_RAW_OUTPUT`을 플래그로 지정하면 클래스 레이블이 아닌 실제 계산 결과 값을 출력한다.\n",
    "        - `기본값은 0`"
   ]
  },
  {
   "cell_type": "markdown",
   "metadata": {},
   "source": [
    "## <font color = \"#CC3D3D\">Case #3: kNN algorithm</font>"
   ]
  },
  {
   "cell_type": "markdown",
   "metadata": {},
   "source": [
    "<hr>\n",
    "\n",
    "### Step #1: Concept\n",
    "<hr>\n",
    "\n",
    "- k 최근접 이웃(kNN, k-Nearest Neighbor) 알고리즘\n",
    "    - 특징 공간에서 테스트 데이터와 가장 가까이 있는 `k개의 학습 데이터`를 찾아 `분류 또는 회귀`를 수행하는 지도 학습 알고리즘의 하나이다.\n",
    "    - <img src=\"images/markdown/.png\" width=\"600\">\n",
    "\n",
    "<hr>\n",
    "\n",
    "- NN vs. kNN\n",
    "    - NN: Nearest Neighbor(k=1)\n",
    "    - <img src=\"images/markdown/.png\" width=\"600\">"
   ]
  },
  {
   "cell_type": "markdown",
   "metadata": {},
   "source": [
    "<hr>\n",
    "\n",
    "### Step #2: OpenCV function\n",
    "<hr>\n",
    "\n",
    "> `kNN 알고리즘 객체 생성`\n",
    "\n",
    "$$\\mathsf{{\\color{RoyalBlue}cv2.ml.}{\\color{Tan}KNearest\\_create}()\\rightarrow retval}$$\n",
    "- retval: `cv2.ml_KNearest` 클래스 인스턴스(객체)\n",
    "\n",
    "> `kNN 알고리즘으로 입력 데이터의 클래스 예측`\n",
    "\n",
    "$$\\mathsf{{\\color{RoyalBlue}cv2.ml\\_KNearest.}{\\color{Tan}findNearest}(samples, k, results, neighborResponses, dist, flags)\\rightarrow retval, results, neighborResponses}$$\n",
    "- samples: 입력 벡터가 행 단위로 저장된 행렬\n",
    "- k: 사용할 최근접 이웃 개수\n",
    "- results: 각 입력 샘플에 대한 예측(분류 또는 회귀) 결과를 저장한 행렬\n",
    "- neighborResponses: 예측에 사용된 k개의 최근접 이웃 클래스 정보 행렬\n",
    "- dist: 입력 벡터와 예측에 사용된 k개의 최근접 이웃과의 거리를 저장한 행렬\n",
    "- retval: 입력 벡터가 하나인 경우에 대한 응답\n",
    "- `참고사항:`\n",
    "    - samples:\n",
    "        - type=`numpy.ndarray`\n",
    "        - shape=`(N, d)` -> d: 차원 수(dimension)\n",
    "        - dtype=`numpy.float32`\n",
    "    - results:\n",
    "        - type=`numpy.ndarray`\n",
    "        - shape=`(N, 1)`\n",
    "        - dtype=`numpy.float32`\n",
    "    - neighborResponses:\n",
    "        - type=`numpy.ndarray`\n",
    "        - shape=`(N, k)`\n",
    "        - dtype=`numpy.float32`\n",
    "    - dist:\n",
    "        - type=`numpy.ndarray`\n",
    "        - shape=`(N, k)`\n",
    "        - dtype=`numpy.float32`"
   ]
  },
  {
   "cell_type": "markdown",
   "metadata": {},
   "source": [
    "<hr>\n",
    "\n",
    "### Step #3: kNN visualization\n",
    "<hr>"
   ]
  },
  {
   "cell_type": "code",
   "execution_count": 57,
   "metadata": {},
   "outputs": [],
   "source": [
    "# kNN 알고리즘 분류 시각화\n",
    "import cv2\n",
    "import matplotlib.pyplot as plt\n",
    "import numpy as np\n",
    "\n",
    "\n",
    "def add_point(x, y, c):\n",
    "    train.append([x, y])\n",
    "    label.append([c])\n",
    "\n",
    "\n",
    "def on_k_changed(pos):\n",
    "    global k_value\n",
    "\n",
    "    k_value = pos\n",
    "    if k_value < 1:\n",
    "        k_value = 1\n",
    "\n",
    "    display_results()\n",
    "\n",
    "\n",
    "def training():\n",
    "    train_data = np.array(train, dtype=np.float32)\n",
    "    label_data = np.array(label, dtype=np.int32)\n",
    "\n",
    "    # train_data: (90, 2), float32\n",
    "    # label_data: (90, ), int32\n",
    "    kNN.train(train_data, cv2.ml.ROW_SAMPLE, label_data)\n",
    "\n",
    "\n",
    "def display_results():\n",
    "    \n",
    "    for i in range(len(train)):\n",
    "        x, y = train[i]\n",
    "        l = label[i][0]\n",
    "\n",
    "        if l == 0:\n",
    "            cv2.circle(image, (x, y), 5, (0, 0, 128), -1, cv2.LINE_AA)\n",
    "        elif l == 1:\n",
    "            cv2.circle(image, (x, y), 5, (0, 128, 0), -1, cv2.LINE_AA)\n",
    "        elif l == 2:\n",
    "            cv2.circle(image, (x, y), 5, (128, 0, 0), -1, cv2.LINE_AA)\n",
    "\n",
    "\n",
    "def predict(k):\n",
    "    training()  # 훈련\n",
    "    \n",
    "    h, w = image.shape[:2]\n",
    "    for y in range(h):\n",
    "        for x in range(w):\n",
    "            sample = np.array([[x, y]]).astype(np.float32)\n",
    "\n",
    "            # sample에 하나의 데이터만 있으므로 retval 반환값 사용 가능\n",
    "            retval, _, _, _ = kNN.findNearest(sample, k)\n",
    "\n",
    "            retval = int(retval)\n",
    "            if retval == 0:\n",
    "                image[y, x] = (128, 128, 255)\n",
    "            elif retval == 1:\n",
    "                image[y, x] = (128, 255, 128)\n",
    "            elif retval == 2:\n",
    "                image[y, x] = (255, 128, 128)\n",
    "    \n",
    "    display_results()  # 시각화\n",
    "    \n",
    "    return image"
   ]
  },
  {
   "cell_type": "code",
   "execution_count": 58,
   "metadata": {},
   "outputs": [],
   "source": [
    "# 학습 데이터 & 레이블\n",
    "train = []\n",
    "label = []\n",
    "\n",
    "k_value = 1\n",
    "image = np.full((500, 500, 3), 255, np.uint8)\n",
    "kNN = cv2.ml_KNearest.create()\n",
    "\n",
    "# 랜덤 데이터 생성\n",
    "NUM = 30\n",
    "random_number = np.zeros((NUM, 2), np.int32)\n",
    "\n",
    "# (150, 150) 근방의 점은 0번 클래스로 설정\n",
    "cv2.randn(random_number, 0, 50)\n",
    "for i in range(NUM):\n",
    "    add_point(random_number[i, 0]+150, random_number[i, 1]+150, 0)\n",
    "\n",
    "# (150, 150) 근방의 점은 1번 클래스로 설정\n",
    "cv2.randn(random_number, 0, 50)\n",
    "for i in range(NUM):\n",
    "    add_point(random_number[i, 0]+350, random_number[i, 1]+150, 1)\n",
    "\n",
    "# (150, 150) 근방의 점은 2번 클래스로 설정\n",
    "cv2.randn(random_number, 0, 70)\n",
    "for i in range(NUM):\n",
    "    add_point(random_number[i, 0]+250, random_number[i, 1]+400, 2)"
   ]
  },
  {
   "cell_type": "code",
   "execution_count": 59,
   "metadata": {},
   "outputs": [
    {
     "data": {
      "image/png": "[encoded data removed]",
      "text/plain": [
       "<Figure size 1296x432 with 3 Axes>"
      ]
     },
     "metadata": {},
     "output_type": "display_data"
    }
   ],
   "source": [
    "# pyplot으로 출력\n",
    "\n",
    "plt.figure(figsize=(18, 6), facecolor=\"lightgray\")\n",
    "\n",
    "plt.subplot(131, title=\"k = 1\").axis(\"off\")\n",
    "plt.imshow(predict(1)[..., ::-1])\n",
    "\n",
    "plt.subplot(132, title=\"k = 3\").axis(\"off\")\n",
    "plt.imshow(predict(3)[..., ::-1])\n",
    "\n",
    "plt.subplot(133, title=\"k = 5\").axis(\"off\")\n",
    "plt.imshow(predict(5)[..., ::-1])\n",
    "\n",
    "plt.show()"
   ]
  },
  {
   "cell_type": "markdown",
   "metadata": {},
   "source": [
    "<hr>\n",
    "\n",
    "### Step #4: kNN Cursive Number Recognition\n",
    "<hr>\n",
    "\n",
    "- 만약 정해진 폰트로 인쇄된 숫자라면?\n",
    "    - `템플릿 매칭`으로도 인식 가능하다.\n",
    "    - <img src=\"images/markdown/.png\" width=\"600\">\n",
    "\n",
    "<hr>\n",
    "\n",
    "- OpenCV 필기 숫자 데이터\n",
    "    - 크기: 2000 x 1000\n",
    "        - `20 x 20` 숫자 영상이 `가로 100`개, `세로 50`개 `총 5000`개\n",
    "        - `0 ~ 9` 까지의 필기체 숫자 영상이 `각 500`개가 있다.\n",
    "        - <img src=\"images/digits.png\" width=\"700\">\n",
    "\n",
    "<hr>\n",
    "\n",
    "- kNN 필기체 숫자 인식\n",
    "    - 가장 간단한 방법으로 구현을 실습해보기 위해 `kNN 알고리즘`을 사용하고, 단순하게 `픽셀 값만을 이용`하여<br>\n",
    "    필기체 숫자를 인식해봄으로써 `필기체 숫자 인식 프로그램 구현의 전체적인 흐름`을 파악하는 것에 중점을 둔다.\n",
    "        - `※실제 필기체 알고리즘을 구현할 때는 권장되지 않는 방법`\n",
    "    - 20x20 크기 영상의 픽셀 값을 이용하여 400차원 공간에서 한 점의 좌표를 생성한다.\n",
    "    - 400차원 공간에서 kNN 알고리즘 점 분류\n",
    "\n",
    "<hr>\n",
    "\n",
    "- kNN 필기체 숫자 인식 흐름도\n",
    "    - <img src=\"images/markdown/.png\" width=\"600\">"
   ]
  },
  {
   "cell_type": "code",
   "execution_count": null,
   "metadata": {},
   "outputs": [],
   "source": [
    "# kNN 필기체 숫자 인식 예제(Narrow)\n",
    "import cv2\n",
    "import numpy as np\n",
    "\n"
   ]
  },
  {
   "cell_type": "code",
   "execution_count": null,
   "metadata": {},
   "outputs": [],
   "source": []
  },
  {
   "cell_type": "markdown",
   "metadata": {},
   "source": [
    "## <font color = \"#CC3D3D\">Case #4: SVM algorithm</font>"
   ]
  },
  {
   "cell_type": "code",
   "execution_count": null,
   "metadata": {},
   "outputs": [],
   "source": []
  },
  {
   "cell_type": "code",
   "execution_count": null,
   "metadata": {},
   "outputs": [],
   "source": [
    "$$\\mathsf{{\\color{RoyalBlue} }{\\color{Tan} }()\\rightarrow }$$\n",
    "- <img src=\"images/markdown/.png\" width=\"600\">"
   ]
  },
  {
   "cell_type": "code",
   "execution_count": null,
   "metadata": {},
   "outputs": [],
   "source": []
  },
  {
   "cell_type": "code",
   "execution_count": null,
   "metadata": {},
   "outputs": [],
   "source": []
  },
  {
   "cell_type": "code",
   "execution_count": null,
   "metadata": {},
   "outputs": [],
   "source": []
  },
  {
   "cell_type": "code",
   "execution_count": null,
   "metadata": {},
   "outputs": [],
   "source": []
  },
  {
   "cell_type": "markdown",
   "metadata": {},
   "source": [
    "## <font color = \"#CC3D3D\">Case #5: K-Mean algorithm</font>"
   ]
  },
  {
   "cell_type": "code",
   "execution_count": null,
   "metadata": {},
   "outputs": [],
   "source": []
  },
  {
   "cell_type": "code",
   "execution_count": null,
   "metadata": {},
   "outputs": [],
   "source": []
  },
  {
   "cell_type": "code",
   "execution_count": null,
   "metadata": {},
   "outputs": [],
   "source": []
  },
  {
   "cell_type": "code",
   "execution_count": null,
   "metadata": {},
   "outputs": [],
   "source": []
  },
  {
   "cell_type": "code",
   "execution_count": null,
   "metadata": {},
   "outputs": [],
   "source": []
  },
  {
   "cell_type": "markdown",
   "metadata": {},
   "source": [
    "## <font color = \"#CC3D3D\">Training #1: Document print number recognition</font>"
   ]
  },
  {
   "cell_type": "code",
   "execution_count": null,
   "metadata": {},
   "outputs": [],
   "source": []
  },
  {
   "cell_type": "code",
   "execution_count": null,
   "metadata": {},
   "outputs": [],
   "source": []
  },
  {
   "cell_type": "code",
   "execution_count": null,
   "metadata": {},
   "outputs": [],
   "source": []
  }
 ],
 "metadata": {
  "interpreter": {
   "hash": "38cc0cca68228d4d18227abe74ed813685db17db46984279e4aabdddebf5f1ba"
  },
  "kernelspec": {
   "display_name": "Python 3.7.9 64-bit ('base': conda)",
   "language": "python",
   "name": "python3"
  },
  "language_info": {
   "codemirror_mode": {
    "name": "ipython",
    "version": 3
   },
   "file_extension": ".py",
   "mimetype": "text/x-python",
   "name": "python",
   "nbconvert_exporter": "python",
   "pygments_lexer": "ipython3",
   "version": "3.7.9"
  },
  "orig_nbformat": 4
 },
 "nbformat": 4,
 "nbformat_minor": 2
}
