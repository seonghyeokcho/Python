{
 "cells": [
  {
   "cell_type": "markdown",
   "metadata": {},
   "source": [
    "## <font color = \"#CC3D3D\">Case #1: Machine Learning</font>"
   ]
  },
  {
   "cell_type": "markdown",
   "metadata": {},
   "source": [
    "<hr>\n",
    "\n",
    "### Step #1: Concept\n",
    "<hr>\n",
    "\n",
    "- 머신 러닝(machine learning)\n",
    "    - 주어진 데이터`(normally big data)`를 분석하여 규칙성, 패턴 등을 찾고, 이를 이용하여 의미 있는(가치 있는)<br>\n",
    "    정보를 추출하여 통찰`(insight)`을 얻는 과정이다.\n",
    "    - Machine learning (ML) is the scientific study of algorithms and statistical models that<br>\n",
    "    computer systems use to perform a specific task without using explicit instructions, relying<br>\n",
    "    on patterns and inference instead.<br>\n",
    "    (머신 러닝은 컴퓨터 시스템이 명시적 지침을 사용하지 않고 패턴과 추론에 의존하여 특정 작업을 수행하는 데 사용하는<br>\n",
    "    알고리즘 및 통계 모델에 대한 과학적 연구입니다.)\n",
    "        - > [https://en.wikipedia.org/wiki/Machine_learning](https://en.wikipedia.org/wiki/Machine_learning)\n",
    "    - <img src=\"images/markdown/machine_learning.png\" width=\"600\">"
   ]
  },
  {
   "cell_type": "markdown",
   "metadata": {},
   "source": [
    "<hr>\n",
    "\n",
    "### Step #2: About machine learning\n",
    "<hr>\n",
    "\n",
    "- 머신 러닝의 예\n",
    "    - 붓꽃(IRIS) 품종 분류: Setosa vs. Vericolor\n",
    "    - 꽃잎(petal)과 꽃받침(sepal)의 길이에 의한 분류\n",
    "    - <img src=\"images/markdown/machine_learning_exam1.png\" width=\"600\">\n",
    "    - > image from: [https://github.com/rasbt/python-machine-learning-book-2nd-edition](https://github.com/rasbt/python-machine-learning-book-2nd-edition)\n",
    "\n",
    "<hr>\n",
    "\n",
    "- 머신 러닝에 의한 붓꽃 분류(Con't)\n",
    "    - Adaline: Adaptive Linear Neuron\n",
    "    - <img src=\"images/markdown/machine_learning_exam2.png\" width=\"600\">\n",
    "    - > image from: [https://github.com/rasbt/python-machine-learning-book-2nd-edition](https://github.com/rasbt/python-machine-learning-book-2nd-edition)\n",
    "\n",
    "<hr>\n",
    "\n",
    "- 머신 러닝 종류\n",
    "    - <img src=\"images/markdown/machine_learning_kinds.png\" width=\"600\">\n",
    "\n",
    "<hr>\n",
    "\n",
    "- 머신 러닝 단계\n",
    "    - 학습(Train): 학습 데이터를 이용하여 `모델을 학습`하는 과정을 의미한다.\n",
    "    - 예측(Predict): 학습된 모델을 이용하여 `새로운 데이터(미지의 데이터)로부터 적절한 값을 예측`하는 과정을 의미한다.\n",
    "        - `추론(Inference)`이라고도 한다.\n",
    "    - <img src=\"images/markdown/machine_learning_steps.png\" width=\"600\">\n",
    "\n",
    "<hr>\n",
    "\n",
    "- 머신 러닝 학습\n",
    "    - 목적: 미래의 새로운 데이터를 더 정확하게 예측하기 위함이다.\n",
    "        - `모델의 일반화(generalization) 성능을 향상`시키는 방향으로 학습해야 한다.\n",
    "        - <img src=\"images/markdown/machine_learning_training.png\" width=\"600\">\n",
    "        - 과적합(overfitting)\n",
    "            - 학습 데이터셋을 지나치게 정확하게 구분하도록 학습하여 모델의 일반화 성능이 떨어지게 되는 현상을 말한다.\n",
    "            - 과적합 발생 원인\n",
    "                - 학습 데이터셋 문제\n",
    "                    - 학습 데이터 셋이 너무 적은 경우\n",
    "                    - 학습 데이터 셋이 전체 데이터셋의 특성/분포를 반영하지 않는 경우\n",
    "                - 모델 문제\n",
    "                    - 모델이 복잡할수록 과적합 발생 확률이 높다.\n",
    "    - 학습 데이터의 분할\n",
    "        - 학습 가능한 데이터를 학습, 검증, 테스트 데이터 셋으로 분할하여 사용한다.\n",
    "        - <img src=\"images/markdown/train_data_split1.png\" width=\"500\">\n",
    "    - k-폴드 교차 검증(k-fold cross-validation)\n",
    "        - 학습 데이터를 k개로 분할하여 여러 번 검증을 수행한다.\n",
    "        - <img src=\"images/markdown/train_data_split2.png\" width=\"500\">"
   ]
  },
  {
   "cell_type": "markdown",
   "metadata": {},
   "source": [
    "## <font color = \"#CC3D3D\">Case #2: OpenCV ML class</font>"
   ]
  },
  {
   "cell_type": "markdown",
   "metadata": {},
   "source": [
    "<hr>\n",
    "\n",
    "### Step #1: ML Class\n",
    "<hr>\n",
    "\n",
    "- cv2.ml_StatModel 클래스\n",
    "    - <img src=\"images/markdown/OpenCV_ML_class.png\" width=\"600\">\n",
    "\n",
    "<hr>\n",
    "\n",
    "- OpenCV 머신 러닝 클래스 설명\n",
    "    - <img src=\"images/markdown/OpenCV_ML_desc1.png\" width=\"600\">\n",
    "    - <img src=\"images/markdown/OpenCV_ML_desc2.png\" width=\"600\">"
   ]
  },
  {
   "cell_type": "markdown",
   "metadata": {},
   "source": [
    "<hr>\n",
    "\n",
    "### Step #2: OpenCV function\n",
    "<hr>\n",
    "\n",
    "> `머신 러닝 알고리즘 객체 생성`\n",
    "\n",
    "$$\\mathsf{{\\color{RoyalBlue}cv2.ml.}{\\color{Tan}StatModel\\_create}()\\rightarrow retval}$$\n",
    "- retval: 각 머신 러닝 알고리즘 클래스 인스턴스(객체)\n",
    "\n",
    "> `머신 러닝 알고리즘 학습`\n",
    "\n",
    "$$\\mathsf{{\\color{RoyalBlue}cv2.ml\\_StatModel.}{\\color{Tan}train}(samples, layout, responses)\\rightarrow retval}$$\n",
    "- samples: 학습 데이터 행렬\n",
    "- layout: 학습 데이터 배치 방법\n",
    "- responses: 각 학습 데이터에 대응되는 응답(레이블) 행렬\n",
    "- retval: 학습이 성공하면 True\n",
    "- `참고사항:`\n",
    "    - samples:\n",
    "        - type=`numpy.ndarray`\n",
    "        - shape=`(N, d)` -> d: 차원 수(dimension)\n",
    "        - dtype=`numpy.float32`\n",
    "    - layout:\n",
    "        - cv2.ROW_SAMPLE: 하나의 데이터가 한 행으로 구성된다.\n",
    "        - cv2.COL_SAMPLE: 하나의 데이터가 한 열로 구성된다.\n",
    "    - responses:\n",
    "        - type=`numpy.ndarray`\n",
    "        - shape=`(N, 1)`\n",
    "        - dtype=`numpy.int32` or `numpy.float32`\n",
    "\n",
    "> `머신 러닝 알고리즘 예측`\n",
    "\n",
    "$$\\mathsf{{\\color{RoyalBlue}cv2.ml\\_StatModel.}{\\color{Tan}predict}(samples, results, flags)\\rightarrow retval, results}$$\n",
    "- samples: 입력 벡터가 행 단위로 저장된 행렬\n",
    "- results: 각 입력 샘플에 대한 예측(분류 또는 회귀) 결과를 저장한 행렬\n",
    "- flags: 추가적인 StatModel 플래그 열거형 상수\n",
    "- retval: 알고리즘에 따라 다르다.\n",
    "- `참고사항:`\n",
    "    - samples:\n",
    "        - type=`numpy.ndarray`\n",
    "        - shape=`(N, d)` -> d: 차원 수(dimension)\n",
    "        - dtype=`numpy.float32`\n",
    "    - results:\n",
    "        - type=`numpy.ndarray`\n",
    "        - shape=`(N, 1)`\n",
    "        - dtype=`numpy.float32`\n",
    "    - flags: `cv2.ml.STAT_MODEL_RAW_OUTPUT`을 플래그로 지정하면 클래스 레이블이 아닌 실제 계산 결과 값을 출력한다.\n",
    "        - `기본값은 0`"
   ]
  },
  {
   "cell_type": "markdown",
   "metadata": {},
   "source": [
    "## <font color = \"#CC3D3D\">Case #3: kNN algorithm</font>"
   ]
  },
  {
   "cell_type": "markdown",
   "metadata": {},
   "source": [
    "<hr>\n",
    "\n",
    "### Step #1: Concept\n",
    "<hr>\n",
    "\n",
    "- k 최근접 이웃(kNN, k-Nearest Neighbor) 알고리즘\n",
    "    - 특징 공간에서 테스트 데이터와 가장 가까이 있는 `k개의 학습 데이터`를 찾아 `분류 또는 회귀`를 수행하는 지도 학습 알고리즘의 하나이다.\n",
    "    - <img src=\"images/markdown/.png\" width=\"600\">\n",
    "\n",
    "<hr>\n",
    "\n",
    "- NN vs. kNN\n",
    "    - NN: Nearest Neighbor(k=1)\n",
    "    - <img src=\"images/markdown/.png\" width=\"600\">"
   ]
  },
  {
   "cell_type": "markdown",
   "metadata": {},
   "source": [
    "<hr>\n",
    "\n",
    "### Step #2: OpenCV function\n",
    "<hr>\n",
    "\n",
    "> `kNN 알고리즘 객체 생성`\n",
    "\n",
    "$$\\mathsf{{\\color{RoyalBlue}cv2.ml.}{\\color{Tan}KNearest\\_create}()\\rightarrow retval}$$\n",
    "- retval: `cv2.ml_KNearest` 클래스 인스턴스(객체)\n",
    "\n",
    "> `kNN 알고리즘으로 입력 데이터의 클래스 예측`\n",
    "\n",
    "$$\\mathsf{{\\color{RoyalBlue}cv2.ml\\_KNearest.}{\\color{Tan}findNearest}(samples, k, results, neighborResponses, dist, flags)\\rightarrow retval, results, neighborResponses}$$\n",
    "- samples: 입력 벡터가 행 단위로 저장된 행렬\n",
    "- k: 사용할 최근접 이웃 개수\n",
    "- results: 각 입력 샘플에 대한 예측(분류 또는 회귀) 결과를 저장한 행렬\n",
    "- neighborResponses: 예측에 사용된 k개의 최근접 이웃 클래스 정보 행렬\n",
    "- dist: 입력 벡터와 예측에 사용된 k개의 최근접 이웃과의 거리를 저장한 행렬\n",
    "- retval: 입력 벡터가 하나인 경우에 대한 응답\n",
    "- `참고사항:`\n",
    "    - samples:\n",
    "        - type=`numpy.ndarray`\n",
    "        - shape=`(N, d)` -> d: 차원 수(dimension)\n",
    "        - dtype=`numpy.float32`\n",
    "    - results:\n",
    "        - type=`numpy.ndarray`\n",
    "        - shape=`(N, 1)`\n",
    "        - dtype=`numpy.float32`\n",
    "    - neighborResponses:\n",
    "        - type=`numpy.ndarray`\n",
    "        - shape=`(N, k)`\n",
    "        - dtype=`numpy.float32`\n",
    "    - dist:\n",
    "        - type=`numpy.ndarray`\n",
    "        - shape=`(N, k)`\n",
    "        - dtype=`numpy.float32`"
   ]
  },
  {
   "cell_type": "markdown",
   "metadata": {},
   "source": [
    "<hr>\n",
    "\n",
    "### Step #3: kNN Visualization\n",
    "<hr>"
   ]
  },
  {
   "cell_type": "code",
   "execution_count": 68,
   "metadata": {},
   "outputs": [],
   "source": [
    "# kNN 알고리즘 분류 시각화\n",
    "import cv2\n",
    "import matplotlib.pyplot as plt\n",
    "import numpy as np\n",
    "\n",
    "\n",
    "def add_point(x, y, c):\n",
    "    train.append([x, y])\n",
    "    label.append([c])\n",
    "\n",
    "\n",
    "def training():\n",
    "    train_data = np.array(train, dtype=np.float32)\n",
    "    label_data = np.array(label, dtype=np.int32)\n",
    "\n",
    "    # train_data: (90, 2), float32\n",
    "    # label_data: (90, ), int32\n",
    "    kNN.train(train_data, cv2.ml.ROW_SAMPLE, label_data)\n",
    "\n",
    "\n",
    "def display_results():\n",
    "    \n",
    "    for i in range(len(train)):\n",
    "        x, y = train[i]\n",
    "        l = label[i][0]\n",
    "\n",
    "        if l == 0:\n",
    "            cv2.circle(image, (x, y), 5, (0, 0, 128), -1, cv2.LINE_AA)\n",
    "        elif l == 1:\n",
    "            cv2.circle(image, (x, y), 5, (0, 128, 0), -1, cv2.LINE_AA)\n",
    "        elif l == 2:\n",
    "            cv2.circle(image, (x, y), 5, (128, 0, 0), -1, cv2.LINE_AA)\n",
    "\n",
    "\n",
    "def predict(k):\n",
    "    training()  # 훈련\n",
    "    \n",
    "    h, w = image.shape[:2]\n",
    "    for y in range(h):\n",
    "        for x in range(w):\n",
    "            sample = np.array([[x, y]]).astype(np.float32)\n",
    "\n",
    "            # sample에 하나의 데이터만 있으므로 retval 반환값 사용 가능\n",
    "            retval, _, _, _ = kNN.findNearest(sample, k)\n",
    "\n",
    "            retval = int(retval)\n",
    "            if retval == 0:\n",
    "                image[y, x] = (128, 128, 255)\n",
    "            elif retval == 1:\n",
    "                image[y, x] = (128, 255, 128)\n",
    "            elif retval == 2:\n",
    "                image[y, x] = (255, 128, 128)\n",
    "    \n",
    "    display_results()  # 시각화\n",
    "    \n",
    "    return image"
   ]
  },
  {
   "cell_type": "code",
   "execution_count": 69,
   "metadata": {},
   "outputs": [],
   "source": [
    "# 학습 데이터 & 레이블\n",
    "train = []\n",
    "label = []\n",
    "\n",
    "k_value = 1\n",
    "image = np.full((500, 500, 3), 255, np.uint8)\n",
    "kNN = cv2.ml_KNearest.create()\n",
    "\n",
    "# 랜덤 데이터 생성\n",
    "NUM = 30\n",
    "random_number = np.zeros((NUM, 2), np.int32)\n",
    "\n",
    "# (150, 150) 근방의 점은 0번 클래스로 설정\n",
    "cv2.randn(random_number, 0, 50)\n",
    "for i in range(NUM):\n",
    "    add_point(random_number[i, 0]+150, random_number[i, 1]+150, 0)\n",
    "\n",
    "# (150, 150) 근방의 점은 1번 클래스로 설정\n",
    "cv2.randn(random_number, 0, 50)\n",
    "for i in range(NUM):\n",
    "    add_point(random_number[i, 0]+350, random_number[i, 1]+150, 1)\n",
    "\n",
    "# (150, 150) 근방의 점은 2번 클래스로 설정\n",
    "cv2.randn(random_number, 0, 70)\n",
    "for i in range(NUM):\n",
    "    add_point(random_number[i, 0]+250, random_number[i, 1]+400, 2)"
   ]
  },
  {
   "cell_type": "code",
   "execution_count": 70,
   "metadata": {},
   "outputs": [
    {
     "data": {
      "image/png": "[encoded data removed]",
      "text/plain": [
       "<Figure size 1296x432 with 3 Axes>"
      ]
     },
     "metadata": {},
     "output_type": "display_data"
    }
   ],
   "source": [
    "# pyplot으로 출력\n",
    "\n",
    "plt.figure(figsize=(18, 6), facecolor=\"lightgray\")\n",
    "\n",
    "plt.subplot(131, title=\"k = 1\").axis(\"off\")\n",
    "plt.imshow(predict(1)[..., ::-1])\n",
    "\n",
    "plt.subplot(132, title=\"k = 3\").axis(\"off\")\n",
    "plt.imshow(predict(3)[..., ::-1])\n",
    "\n",
    "plt.subplot(133, title=\"k = 5\").axis(\"off\")\n",
    "plt.imshow(predict(5)[..., ::-1])\n",
    "\n",
    "plt.show()"
   ]
  },
  {
   "cell_type": "markdown",
   "metadata": {},
   "source": [
    "<hr>\n",
    "\n",
    "### Step #4: kNN Cursive Number Recognition\n",
    "<hr>\n",
    "\n",
    "- 만약 정해진 폰트로 인쇄된 숫자라면?\n",
    "    - `템플릿 매칭`으로도 인식 가능하다.\n",
    "    - <img src=\"images/markdown/.png\" width=\"600\">\n",
    "\n",
    "<hr>\n",
    "\n",
    "- OpenCV 필기 숫자 데이터\n",
    "    - 크기: 2000 x 1000\n",
    "        - `20 x 20` 숫자 영상이 `가로 100`개, `세로 50`개 `총 5000`개\n",
    "        - `0 ~ 9` 까지의 필기체 숫자 영상이 `각 500`개가 있다.\n",
    "        - <img src=\"images/digits.png\" width=\"700\">\n",
    "\n",
    "<hr>\n",
    "\n",
    "- kNN 필기체 숫자 인식\n",
    "    - 가장 간단한 방법으로 구현을 실습해보기 위해 `kNN 알고리즘`을 사용하고, 단순하게 `픽셀 값만을 이용`하여<br>\n",
    "    필기체 숫자를 인식해봄으로써 `필기체 숫자 인식 프로그램 구현의 전체적인 흐름`을 파악하는 것에 중점을 둔다.\n",
    "        - `※실제 필기체 알고리즘을 구현할 때는 권장되지 않는 방법`\n",
    "    - 20x20 크기 영상의 픽셀 값을 이용하여 400차원 공간에서 한 점의 좌표를 생성한다.\n",
    "    - 400차원 공간에서 kNN 알고리즘 점 분류\n",
    "\n",
    "<hr>\n",
    "\n",
    "- kNN 필기체 숫자 인식 흐름도\n",
    "    - <img src=\"images/markdown/.png\" width=\"600\">"
   ]
  },
  {
   "cell_type": "code",
   "execution_count": 71,
   "metadata": {},
   "outputs": [],
   "source": [
    "# kNN 필기체 숫자 인식 예제(Narrow)\n",
    "import cv2\n",
    "import numpy as np\n",
    "\n",
    "\n",
    "# 마우스 콜백 함수 정의\n",
    "old_x, old_y = -1, -1\n",
    "\n",
    "def on_mouse(event, x, y, flags, _):\n",
    "    global old_x, old_y\n",
    "    \n",
    "    if event == cv2.EVENT_LBUTTONDOWN:\n",
    "        old_x, old_y = x, y\n",
    "    elif event == cv2.EVENT_LBUTTONUP:\n",
    "        old_x, old_y = -1, -1\n",
    "    elif event == cv2.EVENT_MOUSEMOVE:\n",
    "        if flags & cv2.EVENT_FLAG_LBUTTON:\n",
    "            cv2.line(image, (old_x, old_y), (x, y), (255, 255, 255), 40, cv2.LINE_AA)\n",
    "            \n",
    "            old_x, old_y = x, y\n",
    "            \n",
    "            cv2.imshow(\"image\", image)"
   ]
  },
  {
   "cell_type": "code",
   "execution_count": 150,
   "metadata": {},
   "outputs": [
    {
     "name": "stdout",
     "output_type": "stream",
     "text": [
      "(50, 100, 20, 20)\n"
     ]
    }
   ],
   "source": [
    "# 학습 데이터 & 레이블 행렬 생성\n",
    "digits = cv2.imread(\"images/digits.png\", cv2.IMREAD_GRAYSCALE)\n",
    "\n",
    "HEIGHT, WIDTH = digits.shape[:2]\n",
    "\n",
    "cells = [np.hsplit(row, WIDTH // 20) for row in np.vsplit(digits, HEIGHT // 20)]\n",
    "cells = np.array(cells)  # (50, 100, 20, 20), uint8\n",
    "\n",
    "train_images = cells.reshape(-1, 400).astype(np.float32)  # (5000, 400), float32 \n",
    "train_labels = np.repeat(np.arange(10), len(train_images) / 10)  # (5000, ), int32"
   ]
  },
  {
   "cell_type": "code",
   "execution_count": 103,
   "metadata": {},
   "outputs": [
    {
     "data": {
      "text/plain": [
       "True"
      ]
     },
     "execution_count": 103,
     "metadata": {},
     "output_type": "execute_result"
    }
   ],
   "source": [
    "# kNN 알고리즘에 훈련 데이터 학습\n",
    "kNN = cv2.ml.KNearest_create()\n",
    "kNN.train(train_images, cv2.ml.ROW_SAMPLE, train_labels)"
   ]
  },
  {
   "cell_type": "code",
   "execution_count": null,
   "metadata": {},
   "outputs": [],
   "source": [
    "# 사용자 입력 영상에 대해 예측\n",
    "image = np.zeros((400, 400), np.uint8)\n",
    "\n",
    "cv2.imshow(\"image\", image)\n",
    "cv2.setMouseCallback(\"image\", on_mouse)\n",
    "\n",
    "while True:\n",
    "    key = cv2.waitKey()\n",
    "    \n",
    "    if key == 27:\n",
    "        break\n",
    "    elif key == ord(\" \"):\n",
    "        test_image = cv2.resize(image, (20, 20), interpolation=cv2.INTER_AREA)\n",
    "        test_image = test_image.reshape((-1, 400)).astype(np.float32)\n",
    "        \n",
    "        # 예측 후 결과 값 출력\n",
    "        retval, _, _, _ = kNN.findNearest(test_image, 5)\n",
    "        print(int(retval))\n",
    "        \n",
    "        # 초기화\n",
    "        image.fill(0)\n",
    "        cv2.imshow(\"image\", image)\n",
    "\n",
    "cv2.destroyAllWindows()\n",
    "cv2.waitKey(1)"
   ]
  },
  {
   "cell_type": "markdown",
   "metadata": {},
   "source": [
    "## <font color = \"#CC3D3D\">Case #4: SVM algorithm</font>"
   ]
  },
  {
   "cell_type": "markdown",
   "metadata": {},
   "source": [
    "<hr>\n",
    "\n",
    "### Step #1: Concept\n",
    "<hr>\n",
    "\n",
    "- 서포트 벡터 머신(SVM, Support Vector Machine)\n",
    "    - 기본적으로 두 개의 그룹(데이터)을 분리하는 방법으로 데이터들과 거리가<br>\n",
    "    가장 먼 초평면(hyperplane)을 선택하여 분리하는 방법(maximum margin classifier)\n",
    "    - <img src=\"images/markdown/.png\" width=\"600\">"
   ]
  },
  {
   "cell_type": "markdown",
   "metadata": {},
   "source": [
    "<hr>\n",
    "\n",
    "### Step #2: OpenCV function\n",
    "<hr>\n",
    "\n",
    "> `SVM 알고리즘 객체 생성`\n",
    "\n",
    "$$\\mathsf{{\\color{RoyalBlue}cv2.ml.}{\\color{Tan}SVM\\_create}()\\rightarrow retval}$$\n",
    "- retval: cv2.ml_SVM 클래스 인스턴스(객체)\n",
    "\n",
    "> `SVM 알고리즘 타입 지정`\n",
    "\n",
    "$$\\mathsf{{\\color{RoyalBlue}cv2.ml\\_SVM.}{\\color{Tan}setType}(type)\\rightarrow None}$$\n",
    "- type: SVM 종류. cv2.ml.SVM_으로 시작하는 SVM types 열거형 상수\n",
    "    - <img src=\"images/markdown/.png\" width=\"600\">\n",
    "\n",
    "> `SVM 알고리즘 커널 지정`\n",
    "\n",
    "$$\\mathsf{{\\color{RoyalBlue}cv2.ml\\_SVM.}{\\color{Tan}setKernel}(kernelType)\\rightarrow None}$$\n",
    "- kernelType: 커널 함수 종류. cv2.ml.SVM_으로 시작하는 SVM KernelTypes 열거형 상수\n",
    "    - <img src=\"images/markdown/.png\" width=\"600\">\n",
    "\n",
    "> `SVM 알고리즘 자동 학습(k-폴드 교차 검증)`\n",
    "\n",
    "$$\\mathsf{{\\color{RoyalBlue}cv2.ml\\_SVM.}{\\color{Tan}trainAuto}(samples, layout, responses, kFold, ...)\\rightarrow retval}$$\n",
    "- samples: 학습 데이터 행렬\n",
    "- layout: 학습 데이터 배치 방법\n",
    "- responses: 각 학습 데이터에 대응되는 응답(레이블) 행렬\n",
    "- kFold: 교차 검증을 위한 부분 집합 개수\n",
    "- retval: 학습이 정상적으로 완료되면 `True` 반환\n",
    "- `참고사항:`\n",
    "    - samples:\n",
    "        - type=`numpy.ndarray`\n",
    "        - shape=`(N, d)`\n",
    "        - dtype=`numpy.float32`\n",
    "    - layout:\n",
    "        - cv2.ROW_SAMPLE: 하나의 데이터가 한 행으로 구성된다.\n",
    "        - cv2.COL_SAMPLE: 하나의 데이터가 한 열로 구성된다.\n",
    "    - responses:\n",
    "        - type=`numpy.ndarray`\n",
    "        - shape=`(N, 1)`\n",
    "        - dtype=`numpy.int32` or `numpy.float32`\n",
    "    - `※ 권장사항`: 기본적으로 trainAuto 함수는 모든 경우의 수(default 값 범위 내)를 적용하여 학습하기 때문에 속도가 느리다.<br>\n",
    "    그러기에 학습 데이터가 많을 경우에는 trainAuto를 처음부터 사용하지 않고, 학습 데이터의 일부를 랜덤하게 추출하여<br>\n",
    "    trainAuto 함수를 통해 적절한 파라미터 값을 리턴 받은 후 전체 학습 데이터를 train 함수로 학습시킨다."
   ]
  },
  {
   "cell_type": "markdown",
   "metadata": {},
   "source": [
    "<hr>\n",
    "\n",
    "### Step #3: SVM Visualization\n",
    "<hr>"
   ]
  },
  {
   "cell_type": "code",
   "execution_count": 45,
   "metadata": {},
   "outputs": [],
   "source": [
    "# SVM 알고리즘을 이용한 점 분류 시각화\n",
    "import cv2\n",
    "import matplotlib.pyplot as plt\n",
    "import numpy as np\n",
    "\n",
    "\n",
    "# 학습 데이터 & 레이블 데이터 생성\n",
    "trains = np.array([\n",
    "                [150, 200], [200, 250],\n",
    "                [100, 250], [150, 300],\n",
    "                [350, 100], [400, 200],\n",
    "                [400, 300], [350, 400]], dtype=np.float32)\n",
    "labels = np.array([0, 0, 0, 0, 1, 1, 1, 1])"
   ]
  },
  {
   "cell_type": "code",
   "execution_count": 46,
   "metadata": {},
   "outputs": [
    {
     "name": "stdout",
     "output_type": "stream",
     "text": [
      "C: 2.5\n",
      "Gamma: 1e-05\n"
     ]
    }
   ],
   "source": [
    "# SVM 알고리즘 객체 생성 & 타입 및 커널 함수 지정\n",
    "SVM = cv2.ml.SVM_create()\n",
    "SVM.setType(cv2.ml.SVM_C_SVC)\n",
    "# SVM.setKernel(cv2.ml.SVM_LINEAR)\n",
    "SVM.setKernel(cv2.ml.SVM_RBF)\n",
    "\n",
    "# 학습 데이터 자동 학습\n",
    "SVM.trainAuto(trains, cv2.ml.ROW_SAMPLE, labels)\n",
    "print(\"C:\", SVM.getC())\n",
    "print(\"Gamma:\", SVM.getGamma())"
   ]
  },
  {
   "cell_type": "code",
   "execution_count": 55,
   "metadata": {},
   "outputs": [
    {
     "data": {
      "image/png": "[encoded data removed]",
      "text/plain": [
       "<Figure size 432x432 with 1 Axes>"
      ]
     },
     "metadata": {},
     "output_type": "display_data"
    }
   ],
   "source": [
    "# 훈련 결과 시각화\n",
    "WIDTH, HEIGHT = 500, 500\n",
    "image = np.zeros((WIDTH, HEIGHT, 3), np.uint8)\n",
    "\n",
    "# 0, 1 클래스 영역 분할\n",
    "for y in range(HEIGHT):\n",
    "    for x in range(WIDTH):\n",
    "        test = np.array([[x, y]], np.float32)\n",
    "        _, response = SVM.predict(test)\n",
    "        response = int(response[0, 0])\n",
    "        \n",
    "        if response == 0:\n",
    "            image[y, x] = (128, 128, 255)  # Red\n",
    "        else:\n",
    "            image[y, x] = (128, 255, 128)  # Green\n",
    "\n",
    "color = [(0, 0, 128), (0, 128, 0)]\n",
    "\n",
    "for i in range(trains.shape[0]):\n",
    "    x = int(trains[i, 0])\n",
    "    y = int(trains[i, 1])\n",
    "    L = labels[i]\n",
    "    \n",
    "    image = cv2.circle(image, (x, y), 5, color[L], -1, cv2.LINE_AA)\n",
    "\n",
    "# pyplot으로 출력\n",
    "plt.figure(figsize=(6, 6), facecolor=\"lightgray\")\n",
    "# plt.title(\"SVM, kernel: cv2.ml.SVM_LINEAR\")\n",
    "plt.title(\"SVM, kernel: cv2.ml.SVM_RBF\")\n",
    "plt.imshow(image[..., ::-1])\n",
    "plt.axis(\"off\")\n",
    "plt.show()"
   ]
  },
  {
   "cell_type": "code",
   "execution_count": 127,
   "metadata": {},
   "outputs": [
    {
     "data": {
      "text/plain": [
       "-1"
      ]
     },
     "execution_count": 127,
     "metadata": {},
     "output_type": "execute_result"
    }
   ],
   "source": [
    "# OpenCV 가상 윈도우로 출력\n",
    "# cv2.imshow(\"SVM, kernel: cv2.ml.SVM_LINEAR\", image)\n",
    "cv2.imshow(\"SVM, kernel: cv2.ml.SVM_RBF\", image)\n",
    "\n",
    "cv2.waitKey()\n",
    "cv2.destroyAllWindows()\n",
    "cv2.waitKey(1)"
   ]
  },
  {
   "cell_type": "markdown",
   "metadata": {},
   "source": [
    "<hr>\n",
    "\n",
    "### Step #4: Application\n",
    "<hr>\n",
    "\n",
    "- HOG & SVM 필기체 숫자 인식\n",
    "    - HOG 특징 벡터를 이용한 SVM 학습\n",
    "    - <img src=\"images/markdown/.png\" width=\"600\">"
   ]
  },
  {
   "cell_type": "code",
   "execution_count": 43,
   "metadata": {},
   "outputs": [],
   "source": [
    "# HOG & SVM 필기체 숫자 인식 예제\n",
    "import cv2\n",
    "import numpy as np\n",
    "\n",
    "\n",
    "old_x, old_y = -1, -1\n",
    "\n",
    "\n",
    "# 마우스 콜백함수 정의\n",
    "def on_mouse(event, x, y, flags, _):\n",
    "    global old_x, old_y\n",
    "    \n",
    "    if event == cv2.EVENT_LBUTTONDOWN:\n",
    "        old_x, old_y = x, y\n",
    "    elif event == cv2.EVENT_LBUTTONUP:\n",
    "        old_x, old_y = -1, -1\n",
    "    elif flags & cv2.EVENT_FLAG_LBUTTON:\n",
    "        if event == cv2.EVENT_MOUSEMOVE:\n",
    "            cv2.line(image, (old_x, old_y), (x, y), (255, 255, 255), 40, cv2.LINE_AA)\n",
    "            old_x, old_y = x, y\n",
    "            cv2.imshow(\"image\", image)"
   ]
  },
  {
   "cell_type": "code",
   "execution_count": 40,
   "metadata": {},
   "outputs": [
    {
     "name": "stdout",
     "output_type": "stream",
     "text": [
      "Descriptor Size: 324\n",
      "digits shape(before): (50, 100, 20, 20)\n",
      "digits shape(after): (5000, 20, 20)\n",
      "train_desc info: shape=(5000, 324), dtype=float32\n",
      "train_labels info: shape=(5000,), dtype=int32\n"
     ]
    }
   ],
   "source": [
    "# 학습 데이터 & 레이블 행렬 생성\n",
    "digits = cv2.imread(\"images/digits.png\", cv2.IMREAD_GRAYSCALE)\n",
    "\n",
    "HEIGHT, WIDTH = digits.shape[:2]\n",
    "\n",
    "# HOGDescriptor 객체 생성: winSize=(20, 20), blockSize=(10, 10), blockStride=(5, 5), cellSize=(5, 5), nbins=9\n",
    "HOG = cv2.HOGDescriptor((20, 20), (10, 10), (5, 5), (5, 5), 9)\n",
    "print(\"Descriptor Size:\", HOG.getDescriptorSize())\n",
    "\n",
    "digits = [np.hsplit(row, WIDTH // 20) for row in np.vsplit(digits, HEIGHT // 20)]\n",
    "digits = np.array(digits)\n",
    "print(\"digits shape(before):\", digits.shape)\n",
    "digits = digits.reshape(-1, 20, 20)\n",
    "print(\"digits shape(after):\", digits.shape)\n",
    "\n",
    "# HOGDescriptor 계산\n",
    "descriptor = []\n",
    "for digit in digits:\n",
    "    descriptor.append(HOG.compute(digit))\n",
    "\n",
    "train_desc = np.array(descriptor)\n",
    "train_desc = train_desc.squeeze().astype(np.float32)\n",
    "train_labels = np.repeat(np.arange(10), len(train_desc) / 10).astype(np.int32)  # 0 ~ 9 각 500개\n",
    "\n",
    "print(\"train_desc info: shape={}, dtype={}\".format(train_desc.shape, train_desc.dtype))\n",
    "print(\"train_labels info: shape={}, dtype={}\".format(train_labels.shape, train_labels.dtype))"
   ]
  },
  {
   "cell_type": "code",
   "execution_count": 41,
   "metadata": {},
   "outputs": [],
   "source": [
    "# SVM 알고리즘에 학습\n",
    "SVM = cv2.ml.SVM_create()\n",
    "SVM.setType(cv2.ml.SVM_C_SVC)\n",
    "SVM.setKernel(cv2.ml.SVM_RBF)\n",
    "# 미리 반환받은 최적의 파라미터 값 설정\n",
    "SVM.setC(2.5)\n",
    "SVM.setGamma(0.50625)\n",
    "\n",
    "SVM.train(train_desc, cv2.ml.ROW_SAMPLE, train_labels)\n",
    "SVM.save(\"models/svmDigits.yml\")  # 학습된 모델 저장"
   ]
  },
  {
   "cell_type": "code",
   "execution_count": 56,
   "metadata": {},
   "outputs": [
    {
     "name": "stdout",
     "output_type": "stream",
     "text": [
      "8\n",
      "9\n",
      "7\n"
     ]
    },
    {
     "data": {
      "text/plain": [
       "-1"
      ]
     },
     "execution_count": 56,
     "metadata": {},
     "output_type": "execute_result"
    }
   ],
   "source": [
    "# 학습된 SVM 모델 불러오기\n",
    "SVM = cv2.ml.SVM_load(\"models/svmDigits.yml\")\n",
    "\n",
    "# 사용자 입력 영상에 대해 예측\n",
    "image = np.zeros((400, 400), np.uint8)\n",
    "\n",
    "cv2.imshow(\"image\", image)\n",
    "cv2.setMouseCallback(\"image\", on_mouse)\n",
    "\n",
    "while True:\n",
    "    key = cv2.waitKey()\n",
    "    \n",
    "    if key == 27:\n",
    "        break\n",
    "    elif key == ord(\" \"):\n",
    "        test_image = cv2.resize(image, (20, 20), interpolation=cv2.INTER_AREA)\n",
    "        test_desc = HOG.compute(test_image).reshape(1, 324)\n",
    "        \n",
    "        # 예측 후 결과 값 출력\n",
    "        _, response = SVM.predict(test_desc)\n",
    "        print(int(response[0, 0]))\n",
    "        \n",
    "        # 초기화\n",
    "        image.fill(0)\n",
    "        cv2.imshow(\"image\", image)\n",
    "\n",
    "cv2.destroyAllWindows()\n",
    "cv2.waitKey(1)"
   ]
  },
  {
   "cell_type": "markdown",
   "metadata": {},
   "source": [
    "<hr>\n",
    "\n",
    "### Step #4-1: Number image normalization\n",
    "<hr>\n",
    "\n",
    "- 정중앙에 숫자를 쓰지 않을 겅우\n",
    "    - <img src=\"images/markdown/.png\" width=\"600\">\n",
    "    - digits.png 데이터를 80:20으로 나눠서 검증할 경우 정확도가 98.7% 이지만,<br>\n",
    "    체감 성능은 훨씬 낮게 나타난다\n",
    "        - why?\n",
    "            - 한쪽으로 치우친 숫자 영상을 테스트할 때 특징 기술자 벡터를 사용하기 때문에 특징 자체가 달라지기 때문이다.\n",
    "        - `solution`\n",
    "            - 학습 데이터 영상 정규화(Normalization)\n",
    "                - 학습 데이터 영상과 테스트 데이터 영상의 `위치, 크기, 회전` 등의 요소를 정규화함으로써 인식 성능을 향상시킨다.\n",
    "                - 숫자 영상의 `무게 중심`이 영상 `전체의 중앙`이 되도록 위치를 정규화한다.\n",
    "                - <img src=\"images/markdown/.png\" width=\"600\">\n",
    "                - 이외에도 `크기에 대한 정규화`, `회전에 대한 정규화` 또한 함께 진행한다면 더 높은 성능의 모델을 만들수 있다.\n",
    "\n",
    "$$\\cdot\\ {\\scriptstyle\\text{영상의 무게 중심}}=(\\bar x,\\bar y)=\\left(\\frac{m_{10}}{m_{00}},\\frac{m_{01}}{m_{00}}\\right)$$"
   ]
  },
  {
   "cell_type": "code",
   "execution_count": 57,
   "metadata": {},
   "outputs": [],
   "source": [
    "import cv2\n",
    "import matplotlib.pyplot as plt\n",
    "import numpy as np\n",
    "\n",
    "\n",
    "old_x, old_y = -1, -1\n",
    "\n",
    "\n",
    "def on_mouse(event, x, y, flags, _):\n",
    "    global old_x, old_y\n",
    "    \n",
    "    if event == cv2.EVENT_LBUTTONDOWN:\n",
    "        old_x, old_y = x, y\n",
    "    elif event == cv2.EVENT_LBUTTONUP:\n",
    "        old_x, old_y = -1, -1\n",
    "    elif event == cv2.EVENT_MOUSEMOVE:\n",
    "        if flags & cv2.EVENT_FLAG_LBUTTON:\n",
    "            old_x, old_y = x, y\n",
    "            cv2.line(image, (old_x, old_y), (x, y), (255, 255, 255), 40, cv2.LINE_AA)\n",
    "            \n",
    "            cv2.imshow(\"image\", image)\n",
    "\n",
    "\n",
    "def norm_digit(image):\n",
    "    moments = cv2.moments(image)\n",
    "    \n",
    "    center_x = moments[\"m10\"] / moments[\"m00\"]\n",
    "    center_y = moments[\"m01\"] / moments[\"m00\"]\n",
    "    \n",
    "    HEIGHT, WIDTH = image.shape[:2]\n",
    "    \n",
    "    affine_matrix = np.array([[1, 0, WIDTH/2 - center_x], [0, 1, HEIGHT/2 - center_y]], np.float32)\n",
    "\n",
    "    destination = cv2.warpAffine(image, affine_matrix, (0, 0))\n",
    "    \n",
    "    return destination"
   ]
  },
  {
   "cell_type": "code",
   "execution_count": 58,
   "metadata": {},
   "outputs": [
    {
     "name": "stdout",
     "output_type": "stream",
     "text": [
      "Descriptor Size: 324\n",
      "digits shape(before): (50, 100, 20, 20)\n",
      "digits shape(after): (5000, 20, 20)\n",
      "train_desc info: shape=(5000, 324), dtype=float32\n",
      "train_labels info: shape=(5000,), dtype=int32\n"
     ]
    }
   ],
   "source": [
    "# 학습 데이터 & 레이블 행렬 생성\n",
    "digits = cv2.imread(\"images/digits.png\", cv2.IMREAD_GRAYSCALE)\n",
    "\n",
    "HEIGHT, WIDTH = digits.shape[:2]\n",
    "\n",
    "# HOGDescriptor 객체 생성: winSize=(20, 20), blockSize=(10, 10), blockStride=(5, 5), cellSize=(5, 5), nbins=9\n",
    "HOG = cv2.HOGDescriptor((20, 20), (10, 10), (5, 5), (5, 5), 9)\n",
    "print(\"Descriptor Size:\", HOG.getDescriptorSize())\n",
    "\n",
    "digits = [np.hsplit(row, WIDTH // 20) for row in np.vsplit(digits, HEIGHT // 20)]\n",
    "digits = np.array(digits)\n",
    "print(\"digits shape(before):\", digits.shape)\n",
    "digits = digits.reshape(-1, 20, 20)\n",
    "print(\"digits shape(after):\", digits.shape)\n",
    "\n",
    "# HOGDescriptor 계산\n",
    "descriptor = []\n",
    "for digit in digits:\n",
    "    digit = norm_digit(digit)  # 정규화(무게중심 이동)\n",
    "    descriptor.append(HOG.compute(digit))\n",
    "\n",
    "train_desc = np.array(descriptor)\n",
    "train_desc = train_desc.astype(np.float32)\n",
    "train_labels = np.repeat(np.arange(10), len(train_desc) / 10).astype(np.int32)  # 0 ~ 9 각 500개\n",
    "\n",
    "print(\"train_desc info: shape={}, dtype={}\".format(train_desc.shape, train_desc.dtype))\n",
    "print(\"train_labels info: shape={}, dtype={}\".format(train_labels.shape, train_labels.dtype))"
   ]
  },
  {
   "cell_type": "code",
   "execution_count": 59,
   "metadata": {},
   "outputs": [],
   "source": [
    "# SVM 알고리즘에 학습\n",
    "SVM = cv2.ml.SVM_create()\n",
    "SVM.setType(cv2.ml.SVM_C_SVC)\n",
    "SVM.setKernel(cv2.ml.SVM_RBF)\n",
    "# 미리 반환받은 최적의 파라미터 값 설정\n",
    "SVM.setC(2.5)\n",
    "SVM.setGamma(0.50625)\n",
    "\n",
    "SVM.train(train_desc, cv2.ml.ROW_SAMPLE, train_labels)\n",
    "SVM.save(\"models/svmDigits_norm.yml\")  # 학습된 모델 저장"
   ]
  },
  {
   "cell_type": "code",
   "execution_count": 70,
   "metadata": {},
   "outputs": [
    {
     "data": {
      "text/plain": [
       "-1"
      ]
     },
     "execution_count": 70,
     "metadata": {},
     "output_type": "execute_result"
    }
   ],
   "source": [
    "# 숫자 영상 위치 정규화 추가\n",
    "import cv2\n",
    "import numpy as np\n",
    "\n",
    "\n",
    "# 학습된 SVM 모델 불러오기\n",
    "SVM = cv2.ml.SVM_load(\"models/svmDigits_norm.yml\")\n",
    "\n",
    "# 사용자 입력 영상에 대해 예측\n",
    "image = np.zeros((400, 400), np.uint8)\n",
    "answer = np.zeros((50, 250), np.uint8)\n",
    "\n",
    "cv2.imshow(\"image\", image)\n",
    "cv2.setMouseCallback(\"image\", on_mouse)\n",
    "\n",
    "while True:\n",
    "    key = cv2.waitKey()\n",
    "    \n",
    "    if key == 27:\n",
    "        break\n",
    "    elif key == ord(\" \"):\n",
    "        test_image = cv2.resize(image, (20, 20), interpolation=cv2.INTER_AREA)\n",
    "        test_image = norm_digit(test_image)  # 정규화(무게중심 이동)\n",
    "        test_desc = HOG.compute(test_image).reshape(1, 324)\n",
    "        \n",
    "        # 예측 후 결과 값 출력\n",
    "        _, response = SVM.predict(test_desc)\n",
    "        \n",
    "        script = \"answer = {}\".format(int(response[0, 0]))\n",
    "        cv2.putText(answer, script, (0, 30), cv2.FONT_HERSHEY_SIMPLEX, 1, (255, 255, 255), 1, cv2.LINE_AA)\n",
    "        cv2.imshow(\"answer\", answer)\n",
    "        # print(int(response[0, 0]))\n",
    "        \n",
    "        # 초기화\n",
    "        image.fill(0)\n",
    "        answer.fill(0)\n",
    "        cv2.imshow(\"image\", image)\n",
    "\n",
    "cv2.destroyAllWindows()\n",
    "cv2.waitKey(1)"
   ]
  },
  {
   "cell_type": "markdown",
   "metadata": {},
   "source": [
    "## <font color = \"#CC3D3D\">Case #5: K-Mean algorithm</font>"
   ]
  },
  {
   "cell_type": "markdown",
   "metadata": {},
   "source": [
    "<hr>\n",
    "\n",
    "### Step #1: Concept\n",
    "<hr>\n",
    "\n",
    "- k-평균(k-means) 알고리즘\n",
    "    - `비지도 학습`중 하나로 주어진 데이터를 `k개의 구역`으로 나누는 군집화 알고리즘이다.\n",
    "\n",
    "$$\\mathrm{arg min}\\sum_{i=1}^k\\sum_{\\mathbf{x}\\in S_i}\\|\\mathbf{x-\\mu_i}\\|^2,\\quad k:\\ {\\scriptstyle\\text{사용자 지정 파라미터}}$$\n",
    "\n",
    "- 동작 순서\n",
    "    1. `임의의 k개 중심`을 선정한다.\n",
    "    2. 모든 데이터에 대하여 `가장 가까운 중심`을 선택한다.\n",
    "    3. 각 군집에 대해 `중심을 다시 계산`한다.\n",
    "    4. 중심이 변경되면 `2~3 과정을 반복`한다.\n",
    "    5. 그렇지 않으면(종료 기준을 충족하면) 종료\n",
    "    - <img src=\"images/markdown/.png\" width=\"600\">\n",
    "\n",
    "<hr>\n",
    "\n",
    "- k-평균 알고리즘을 이용한 `컬러 영상 분할`(또는 `컬러 양자화, color quantization`)\n",
    "    - 입력 영상의 각 픽셀 값을 색 공간 상의 한 점으로 표현한다.\n",
    "        - e.g., `RGB` 3차원 공간에서의 한 점, `HS` 2차원 공간에서의 한 점\n",
    "    - 색 공간에서 k-평균 알고리즘 수행한다.\n",
    "    - 각 픽셀 값을 k개의 대표 색상으로 치환한다.\n",
    "    - <img src=\"images/markdown/.png\" width=\"600\">"
   ]
  },
  {
   "cell_type": "markdown",
   "metadata": {},
   "source": [
    "<hr>\n",
    "\n",
    "### Step #2: OpenCV function\n",
    "<hr>\n",
    "\n",
    "> `k-평균 군집화 함수`\n",
    "\n",
    "$$\\mathsf{{\\color{RoyalBlue}cv2.}{\\color{Tan}kmeans}(data, K, bestLabels, criteria, attempts, flags, centers)\\rightarrow retval, bestLabels, centers}$$\n",
    "- data: 학습 데이터 행렬\n",
    "- K: 군집 개수\n",
    "- bestLabels: 각 샘플의 군집 번호 행렬\n",
    "- criteria: 종료 기준\n",
    "- attempts: 다른 초기 레이블을 이용해 반복 실행할 횟수\n",
    "- flags: 초기 중앙 설점 방법\n",
    "- centers: 군집 중심을 나타내는 행렬\n",
    "- retval: Compactness measure\n",
    "- `참고사항:`\n",
    "    - data:\n",
    "    - bestLabels:\n",
    "    - criteria:\n",
    "    - attempts:\n",
    "    - flags:\n",
    "    - centers\n",
    "\n",
    "$$\\sum_i \\|samples_i-centers_{labels_i}\\|^2$$"
   ]
  },
  {
   "cell_type": "code",
   "execution_count": null,
   "metadata": {},
   "outputs": [],
   "source": []
  },
  {
   "cell_type": "code",
   "execution_count": null,
   "metadata": {},
   "outputs": [],
   "source": []
  },
  {
   "cell_type": "code",
   "execution_count": null,
   "metadata": {},
   "outputs": [],
   "source": []
  },
  {
   "cell_type": "markdown",
   "metadata": {},
   "source": [
    "## <font color = \"#CC3D3D\">Training #1: Document print number recognition</font>"
   ]
  },
  {
   "cell_type": "code",
   "execution_count": null,
   "metadata": {},
   "outputs": [],
   "source": []
  },
  {
   "cell_type": "code",
   "execution_count": null,
   "metadata": {},
   "outputs": [],
   "source": [
    "$$\\mathsf{{\\color{RoyalBlue} }{\\color{Tan} }()\\rightarrow }$$\n",
    "- <img src=\"images/markdown/.png\" width=\"600\">"
   ]
  },
  {
   "cell_type": "code",
   "execution_count": null,
   "metadata": {},
   "outputs": [],
   "source": []
  },
  {
   "cell_type": "code",
   "execution_count": null,
   "metadata": {},
   "outputs": [],
   "source": []
  }
 ],
 "metadata": {
  "interpreter": {
   "hash": "38cc0cca68228d4d18227abe74ed813685db17db46984279e4aabdddebf5f1ba"
  },
  "kernelspec": {
   "display_name": "Python 3.7.9 64-bit ('base': conda)",
   "language": "python",
   "name": "python3"
  },
  "language_info": {
   "codemirror_mode": {
    "name": "ipython",
    "version": 3
   },
   "file_extension": ".py",
   "mimetype": "text/x-python",
   "name": "python",
   "nbconvert_exporter": "python",
   "pygments_lexer": "ipython3",
   "version": "3.7.9"
  },
  "orig_nbformat": 4
 },
 "nbformat": 4,
 "nbformat_minor": 2
}
