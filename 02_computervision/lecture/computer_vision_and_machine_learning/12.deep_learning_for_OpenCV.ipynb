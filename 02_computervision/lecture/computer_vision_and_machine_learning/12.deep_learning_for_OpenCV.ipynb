{
 "cells": [
  {
   "cell_type": "markdown",
   "metadata": {},
   "source": [
    "## <font color = \"#CC3D3D\">Case #1: Deep Learning</font>"
   ]
  },
  {
   "cell_type": "markdown",
   "metadata": {},
   "source": [
    "<hr>\n",
    "\n",
    "### Step #1: Concept\n",
    "<hr>\n",
    "\n",
    "- 딥러닝(Deep Learning)\n",
    "    - 2000년대부터 사용되고 있는 심층 신경망(deep neural network)의 또 다른 이름이다.\n",
    "    - \"Deep learning is part of a broader family of machone learning methods based on artificial<br>\n",
    "    neural networks.\" - [wikipedia, Deep_learning](https://en.wikipedia.org/wiki/Deep_learning)\n",
    "    - <img src=\"images/markdown/.png\" width=\"600\">"
   ]
  },
  {
   "cell_type": "markdown",
   "metadata": {},
   "source": [
    "<hr>\n",
    "\n",
    "### Step #2: ML vs. DL\n",
    "<hr>\n",
    "\n",
    "- <img src=\"images/markdown/.png\" width=\"600\">"
   ]
  },
  {
   "cell_type": "markdown",
   "metadata": {},
   "source": [
    "<hr>\n",
    "\n",
    "### Step #3: Deep Learning Application\n",
    "<hr>\n",
    "\n",
    "- <img src=\"images/markdown/.png\" width=\"600\">\n",
    "- <img src=\"images/markdown/.png\" width=\"600\">\n",
    "- <img src=\"images/markdown/.png\" width=\"600\">\n",
    "- <img src=\"images/markdown/.png\" width=\"600\">\n",
    "- <img src=\"images/markdown/.png\" width=\"600\">\n",
    "- <img src=\"images/markdown/.png\" width=\"600\">\n",
    "- <img src=\"images/markdown/.png\" width=\"600\">\n",
    "- <img src=\"images/markdown/.png\" width=\"600\">\n",
    "- <img src=\"images/markdown/.png\" width=\"600\">"
   ]
  },
  {
   "cell_type": "markdown",
   "metadata": {},
   "source": [
    "<hr>\n",
    "\n",
    "### Step #4: Neural Network Basics\n",
    "<hr>\n",
    "\n",
    "- 퍼셉트론(perceptron)\n",
    "    - 다수의 입력으로부터 가중합을 계산하고, 이를 이용하여 하나의 출력을 만들어내는 구조(1950년대)\n",
    "    - <img src=\"images/markdown/.png\" width=\"600\">\n",
    "    - <img src=\"images/markdown/.png\" width=\"600\">\n",
    "\n",
    "<hr>\n",
    "\n",
    "- 퍼셉트론에 의한 OR 연산 구현\n",
    "    - <img src=\"images/markdown/.png\" width=\"600\">\n",
    "\n",
    "<hr>\n",
    "\n",
    "- 활성화 함수(activation function)\n",
    "    - 생물학적 뉴런(neuron)에서 입력 신호가 `일정 크기 이상일 때만 신호를 전달`하는 메커니즘을 모방했다.\n",
    "    - 비선형 함수를 사용한다.\n",
    "    - <img src=\"images/markdown/.png\" width=\"600\">\n",
    "\n",
    "<hr>\n",
    "\n",
    "- 퍼셉트론에 의한 XOR 연산 구현\n",
    "    - XOR는 단순한 입력-출력 구조의 퍼셉트론으로 구현 불가\n",
    "        - i.e., XOR는 선형이 아니다.\n",
    "    - <img src=\"images/markdown/.png\" width=\"600\">\n",
    "\n",
    "<hr>\n",
    "\n",
    "- (단층) 퍼셉트론 vs. 다층 퍼셉트론 vs. 심층 신경망\n",
    "    - 다층 퍼셉트론(MLP, Multi Layer Perceptron): 은닉층(hidden layer)이 한 개 이상\n",
    "    - 심층 신경망(DNN, Deep Neural Network): 은닉층(hidden layer)이 두 개 이상\n",
    "    - <img src=\"images/markdown/.png\" width=\"600\">\n",
    "\n",
    "<hr>\n",
    "\n",
    "- 신경망 학습\n",
    "    - 신경망 학습이란 좋은 `가중치(weight)`를 결정하는 방법을 의미한다. 이는 곧 `신경망 학습의 결과`이다.\n",
    "    - 신경망 학습 방법\n",
    "        - 학습의 기준이 되는 `비용(cost)` 또는 `손실(loss)` 함수를 정의한 후, 비용을 `최소화`하는 방향으로 학습을 진행한다.\n",
    "        - `경사 하강법(gradient descent)` 또는 `오류역전파(error backpropagation)` 알고리즘을 사용한다.\n",
    "            - 경사 하강법: 그래디언트 반대 방향으로 이동하면서 최솟값 위치를 찾는 방법\n",
    "            - 오류 역전파: 미분의 체인룰(chain-rule)을 이용하여 전체 가중치를 업데이트하는 방법\n",
    "\n",
    "$$\\cdot\\ e.g.,\\ cost={\\textstyle\\sum_{i}}(y_i-x_i)^2$$"
   ]
  },
  {
   "cell_type": "markdown",
   "metadata": {},
   "source": [
    "<hr>\n",
    "\n",
    "### Step #4-1: Problem & Solution of DNN\n",
    "<hr>\n",
    "\n",
    "- 학습이 제대로 안 되는 현상\n",
    "    - `P`: 사라지는 기울기(Vanishing Gradient) -> `S`: `ReLU(Rectified LInear Units)`\n",
    "    - `P`: 과적합(Overfitting) -> `S`: Regularization(Dropout, Batch Normalization)\n",
    "    - `P`: 가중치 초기화(Weight initialization) -> `S`: Random initialization, Xavier method, etc.\n",
    "- 학습이 너무 느린 점\n",
    "    - `P`: 하드웨어 성능이 뒷받침 되지 않음 -> `S`: CPU, `GPU` 성능 발전\n",
    "    - `P`: 경사 하강법의 느린 속도 -> `S`: SGD, Mini-Batch, Adam method\n",
    "- 부족한 데이터 셋\n",
    "    - e.g., 일반적인 영상 인식에 쓰이는 영상 데이터 셋의 크기는 10만 ~ 100만이다.\n",
    "    -> `S`: 디지털 카메라 보급, 인터넷 발전, `Large dataset(ImageNet, COCO, etc.)`"
   ]
  },
  {
   "cell_type": "markdown",
   "metadata": {},
   "source": [
    "## <font color = \"#CC3D3D\">Case #2: CNN</font>"
   ]
  },
  {
   "cell_type": "markdown",
   "metadata": {},
   "source": [
    "<hr>\n",
    "\n",
    "### Step #1: Concept\n",
    "<hr>\n",
    "\n",
    "- 컨볼루션 신경망(Convolutional Neural Network)\n",
    "    - 영상 인식 등을 위한 딥러닝에 특화된 네트워크 구조\n",
    "        - 일반적인 구조: 컨볼루션(convolution) + 풀링(pooling) + ... + 완전 연결 레이어(FC, Fully Connected Layer)\n",
    "        - <img src=\"images/markdown/.png\" width=\"600\">"
   ]
  },
  {
   "cell_type": "markdown",
   "metadata": {},
   "source": [
    "<hr>\n",
    "\n",
    "### Step #2: About CNN\n",
    "<hr>\n",
    "\n",
    "- 컨볼루션 레이어(Convolution Layer)\n",
    "    - 2차원 영상에서 유효한 `특징(feature)`을 찾아내는 역할을 담당한다.\n",
    "    - 유용한 필터 마스크가 학습에 의해 결정된다.\n",
    "    - 보통 ReLU 활성화 함수(activation function)를 함께 사용한다.\n",
    "    - <img src=\"images/markdown/.png\" width=\"600\">\n",
    "    - > image from: [http://cs231n.stanford.edu/](http://cs231n.stanford.edu/)\n",
    "\n",
    "<hr>\n",
    "\n",
    "- 풀링 레이어(Pooling Layer)\n",
    "    - 유용한 정보는 유지하면서 입력 크기를 줄임으로써 `과적합(overfitting)을 예방`하고 `계산량을 감소`시키는 효과를 낸다.\n",
    "    - `최대 풀링(max pooling)` 또는 `평균 풀링(average pooling)`을 사용한다.\n",
    "    - 학습이 따로 필요 없다.\n",
    "    - <img src=\"images/markdown/.png\" width=\"600\">\n",
    "    - > image from: [http://cs231n.stanford.edu/](http://cs231n.stanford.edu/)\n",
    "\n",
    "<hr>\n",
    "\n",
    "- 완전 연결 레이어(Fully Connected Layer)\n",
    "    - 3차원 구조의 `activation map(H x W x C)`의 모든 값을 일렬로 이어 붙인다.\n",
    "    - `인식(recognition)`의 경우, `소프트맥스(softmax) 레이어`를 추가하여 각 `클래스에 대한 확률 값`을 결과로 얻는다.\n",
    "    - <img src=\"images/markdown/.png\" width=\"600\">\n",
    "    - > image from: [https://www.slideshare.net/JinwonLee9/ss-70446412](https://www.slideshare.net/JinwonLee9/ss-70446412)"
   ]
  },
  {
   "cell_type": "markdown",
   "metadata": {},
   "source": [
    "<hr>\n",
    "\n",
    "### Step #3: Examples CNN\n",
    "<hr>\n",
    "\n",
    "- 학습된 컨볼루션 레이어 필터의 예\n",
    "    - <img src=\"images/markdown/.png\" width=\"600\">\n",
    "\n",
    "<hr>\n",
    "\n",
    "- 필기체 숫자 인식을 위한 LeNet-5(LeCun et al., 1998)\n",
    "    - CNN 원조\n",
    "    - 28x28 필기체 숫자 영상을 32x32로 확장하여 만든 입력 데이터를 사용한다.\n",
    "    - 전체는 7개의 레이어로 이루어져 있다.\n",
    "        - Conv-Pool-Conv-Pool-FC-FC-FC\n",
    "    - <img src=\"images/markdown/.png\" width=\"600\">\n",
    "\n",
    "<hr>\n",
    "\n",
    "- AlexNet(Krizhevsky et al., 2012)\n",
    "    - 2012년 ILSVRC(ImageNet Large Scale Visual Recognition Challenge) 영상 인식 분야에서 1위를 차지한 알고리즘이다.\n",
    "        - 1000개의 카테고리, 120만개의 훈련 영상, 15만개의 테스트 영상을 사용했다.\n",
    "    - Top-5 Error: `15.4%` (다른 컴퓨터 비전 기반 방법들 > 25%)\n",
    "    - 하드웨어의 제약으로 2개의 GPU 사용\n",
    "    - <img src=\"images/markdown/.png\" width=\"600\">\n",
    "    - > image from: [https://proceedings.neurips.cc/paper/2012/file/c399862d3b9d6b76c8436e924a68c45b-Paper.pdf](https://proceedings.neurips.cc/paper/2012/file/c399862d3b9d6b76c8436e924a68c45b-Paper.pdf)\n",
    "\n",
    "<hr>\n",
    "\n",
    "- VGG-16(Simonyan and Zisserman, 2014)\n",
    "    - 2014년 ILSVRC(ImageNet Large Scale Visual Recognition Challenge) 영상 인식 분야에서 2위를 차지한 알고리즘이다.\n",
    "    - Top-5 Error: `7.3%`\n",
    "        - 후에 알고리즘을 업그레이드하여 `6.8%`까지 오차율을 내린 결과를 논문으로 발표하였다.\n",
    "    - 컨볼루션 레이어에서 3x3 필터만 사용했다.\n",
    "    - 총 16개의 레이어로 구성되었다.\n",
    "    - <img src=\"images/markdown/.png\" width=\"600\">\n",
    "    - > image from: [https://excelsior-cjh.tistory.com/160](https://excelsior-cjh.tistory.com/160)\n",
    "    - > thesis: [https://arxiv.org/pdf/1409.1556.pdf](https://arxiv.org/pdf/1409.1556.pdf)\n",
    "\n",
    "<hr>\n",
    "\n",
    "- GoogLeNet(Szegedy er al., 2014)\n",
    "    - 2014년 ILSVRC(ImageNet Large Scale Visual Recognition Challenge) 영상 인식 분야에서 1위를 차지한 알고리즘이다.\n",
    "    - Top-5 Error: `6.7%`\n",
    "        - i.e., 사람의 Top-5 Error는 `5.1%`이다.\n",
    "    - 총 22개의 레이어로 구성되었다.\n",
    "    - Inception 모듈\n",
    "    - <img src=\"images/markdown/.png\" width=\"600\">\n",
    "    - > image from: [https://arxiv.org/pdf/1409.4842.pdf](https://arxiv.org/pdf/1409.4842.pdf)"
   ]
  },
  {
   "cell_type": "markdown",
   "metadata": {},
   "source": [
    "<hr>\n",
    "\n",
    "### Step #4: Implementation DNN\n",
    "<hr>\n",
    "\n",
    "- Tensorflow 1.x 로 필기체 숫자 인식 학습하기\n",
    "    - OpenCV DNN 모듈에서 이용할 목적으로 Tensorflow를 이용하여 필기체 숫자 인식을 학습하고, 그 결과를 pb 파일로 저장하기\n",
    "    - 네트워크 구조: [Conv-Pool-Conv-Pool-FC-FC-FC]\n",
    "    - 학습 데이터: `MNIST 데이터셋`\n",
    "        - Yann LeCun 교수가 필기체 숫자 인식을 위해 사용했던 데이터셋\n",
    "        - 각각의 숫자는 28x28 크기의 0~1 사이의 실수값으로 구성된 영상 데이터\n",
    "        - 60,000개의 훈련용 영상과 10,000개의 테스트 영상으로 구성되어 있다.\n",
    "\n",
    "<hr>\n",
    "\n",
    "- 준비 사항\n",
    "    - Tensorflow 1.13.1 설치(어떤 임의의 버전을 사용해도 좋음)\n",
    "        - > terminal or CMD -> pip install tensorflow==1.13.1"
   ]
  },
  {
   "cell_type": "code",
   "execution_count": 2,
   "metadata": {},
   "outputs": [
    {
     "data": {
      "text/plain": [
       "0.001"
      ]
     },
     "execution_count": 2,
     "metadata": {},
     "output_type": "execute_result"
    }
   ],
   "source": [
    "1e-3"
   ]
  },
  {
   "cell_type": "code",
   "execution_count": 3,
   "metadata": {},
   "outputs": [
    {
     "name": "stdout",
     "output_type": "stream",
     "text": [
      "Successfully downloaded train-images-idx3-ubyte.gz 9912422 bytes.\n",
      "Extracting ./MNIST_data/train-images-idx3-ubyte.gz\n",
      "Successfully downloaded train-labels-idx1-ubyte.gz 28881 bytes.\n",
      "Extracting ./MNIST_data/train-labels-idx1-ubyte.gz\n",
      "Successfully downloaded t10k-images-idx3-ubyte.gz 1648877 bytes.\n",
      "Extracting ./MNIST_data/t10k-images-idx3-ubyte.gz\n",
      "Successfully downloaded t10k-labels-idx1-ubyte.gz 4542 bytes.\n",
      "Extracting ./MNIST_data/t10k-labels-idx1-ubyte.gz\n"
     ]
    }
   ],
   "source": [
    "# Tensorflow MNIST 학습: 네트워크 모델 만들기\n",
    "import tensorflow as tf\n",
    "from tensorflow.examples.tutorials.mnist import input_data\n",
    "from tensorflow.python.framework import graph_util\n",
    "from tensorflow.python.platform import gfile\n",
    "\n",
    "tf.logging.set_verbosity(tf.logging.ERROR)\n",
    "\n",
    "mnist = input_data.read_data_sets(\"./MNIST_data/\", one_hot=True)\n",
    "\n",
    "# set hyper parameters\n",
    "learning_rate = 1e-3\n",
    "training_epochs = 20\n",
    "batch_size = 100"
   ]
  },
  {
   "cell_type": "code",
   "execution_count": null,
   "metadata": {},
   "outputs": [],
   "source": []
  },
  {
   "cell_type": "markdown",
   "metadata": {},
   "source": [
    "## <font color = \"#CC3D3D\">Case #3: OpenCV DNN Module</font>"
   ]
  },
  {
   "cell_type": "code",
   "execution_count": null,
   "metadata": {},
   "outputs": [],
   "source": []
  },
  {
   "cell_type": "code",
   "execution_count": null,
   "metadata": {},
   "outputs": [],
   "source": [
    "$$\\mathsf{{\\color{RoyalBlue} }{\\color{Tan} }()\\rightarrow }$$\n",
    "- <img src=\"images/markdown/.png\" width=\"600\">"
   ]
  },
  {
   "cell_type": "code",
   "execution_count": null,
   "metadata": {},
   "outputs": [],
   "source": []
  },
  {
   "cell_type": "code",
   "execution_count": null,
   "metadata": {},
   "outputs": [],
   "source": []
  },
  {
   "cell_type": "markdown",
   "metadata": {},
   "source": [
    "## <font color = \"#CC3D3D\">Case #4: pre-trained model</font>"
   ]
  },
  {
   "cell_type": "code",
   "execution_count": null,
   "metadata": {},
   "outputs": [],
   "source": []
  },
  {
   "cell_type": "code",
   "execution_count": null,
   "metadata": {},
   "outputs": [],
   "source": []
  },
  {
   "cell_type": "code",
   "execution_count": null,
   "metadata": {},
   "outputs": [],
   "source": []
  },
  {
   "cell_type": "markdown",
   "metadata": {},
   "source": [
    "## <font color = \"#CC3D3D\">Training #1: Hanguel cursive recognition</font>"
   ]
  },
  {
   "cell_type": "markdown",
   "metadata": {},
   "source": []
  }
 ],
 "metadata": {
  "interpreter": {
   "hash": "38cc0cca68228d4d18227abe74ed813685db17db46984279e4aabdddebf5f1ba"
  },
  "kernelspec": {
   "display_name": "Python 3.7.9 ('base')",
   "language": "python",
   "name": "python3"
  },
  "language_info": {
   "codemirror_mode": {
    "name": "ipython",
    "version": 3
   },
   "file_extension": ".py",
   "mimetype": "text/x-python",
   "name": "python",
   "nbconvert_exporter": "python",
   "pygments_lexer": "ipython3",
   "version": "3.7.9"
  },
  "orig_nbformat": 4
 },
 "nbformat": 4,
 "nbformat_minor": 2
}
