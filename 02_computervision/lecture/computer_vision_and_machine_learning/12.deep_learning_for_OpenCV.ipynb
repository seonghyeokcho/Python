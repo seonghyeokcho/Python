{
 "cells": [
  {
   "cell_type": "markdown",
   "metadata": {},
   "source": [
    "## <font color = \"#CC3D3D\">Case #1: Deep Learning</font>"
   ]
  },
  {
   "cell_type": "markdown",
   "metadata": {},
   "source": [
    "<hr>\n",
    "\n",
    "### Step #1: Concept\n",
    "<hr>\n",
    "\n",
    "- 딥러닝(Deep Learning)\n",
    "    - 2000년대부터 사용되고 있는 심층 신경망(deep neural network)의 또 다른 이름이다.\n",
    "    - \"Deep learning is part of a broader family of machone learning methods based on artificial<br>\n",
    "    neural networks.\" - [wikipedia, Deep_learning](https://en.wikipedia.org/wiki/Deep_learning)\n",
    "    - <img src=\"images/markdown/.png\" width=\"600\">"
   ]
  },
  {
   "cell_type": "markdown",
   "metadata": {},
   "source": [
    "<hr>\n",
    "\n",
    "### Step #2: ML vs. DL\n",
    "<hr>\n",
    "\n",
    "- <img src=\"images/markdown/.png\" width=\"600\">"
   ]
  },
  {
   "cell_type": "markdown",
   "metadata": {},
   "source": [
    "<hr>\n",
    "\n",
    "### Step #3: Deep Learning Application\n",
    "<hr>\n",
    "\n",
    "- <img src=\"images/markdown/.png\" width=\"600\">\n",
    "- <img src=\"images/markdown/.png\" width=\"600\">\n",
    "- <img src=\"images/markdown/.png\" width=\"600\">\n",
    "- <img src=\"images/markdown/.png\" width=\"600\">\n",
    "- <img src=\"images/markdown/.png\" width=\"600\">\n",
    "- <img src=\"images/markdown/.png\" width=\"600\">\n",
    "- <img src=\"images/markdown/.png\" width=\"600\">\n",
    "- <img src=\"images/markdown/.png\" width=\"600\">\n",
    "- <img src=\"images/markdown/.png\" width=\"600\">"
   ]
  },
  {
   "cell_type": "markdown",
   "metadata": {},
   "source": [
    "<hr>\n",
    "\n",
    "### Step #4: Neural Network Basics\n",
    "<hr>\n",
    "\n",
    "- 퍼셉트론(perceptron)\n",
    "    - 다수의 입력으로부터 가중합을 계산하고, 이를 이용하여 하나의 출력을 만들어내는 구조(1950년대)\n",
    "    - <img src=\"images/markdown/.png\" width=\"600\">\n",
    "    - <img src=\"images/markdown/.png\" width=\"600\">\n",
    "\n",
    "<hr>\n",
    "\n",
    "- 퍼셉트론에 의한 OR 연산 구현\n",
    "    - <img src=\"images/markdown/.png\" width=\"600\">\n",
    "\n",
    "<hr>\n",
    "\n",
    "- 활성화 함수(activation function)\n",
    "    - 생물학적 뉴런(neuron)에서 입력 신호가 `일정 크기 이상일 때만 신호를 전달`하는 메커니즘을 모방했다.\n",
    "    - 비선형 함수를 사용한다.\n",
    "    - <img src=\"images/markdown/.png\" width=\"600\">\n",
    "\n",
    "<hr>\n",
    "\n",
    "- 퍼셉트론에 의한 XOR 연산 구현\n",
    "    - XOR는 단순한 입력-출력 구조의 퍼셉트론으로 구현 불가\n",
    "        - i.e., XOR는 선형이 아니다.\n",
    "    - <img src=\"images/markdown/.png\" width=\"600\">\n",
    "\n",
    "<hr>\n",
    "\n",
    "- (단층) 퍼셉트론 vs. 다층 퍼셉트론 vs. 심층 신경망\n",
    "    - 다층 퍼셉트론(MLP, Multi Layer Perceptron): 은닉층(hidden layer)이 한 개 이상\n",
    "    - 심층 신경망(DNN, Deep Neural Network): 은닉층(hidden layer)이 두 개 이상\n",
    "    - <img src=\"images/markdown/.png\" width=\"600\">\n",
    "\n",
    "<hr>\n",
    "\n",
    "- 신경망 학습\n",
    "    - 신경망 학습이란 좋은 `가중치(weight)`를 결정하는 방법을 의미한다. 이는 곧 `신경망 학습의 결과`이다.\n",
    "    - 신경망 학습 방법\n",
    "        - 학습의 기준이 되는 `비용(cost)` 또는 `손실(loss)` 함수를 정의한 후, 비용을 `최소화`하는 방향으로 학습을 진행한다.\n",
    "        - `경사 하강법(gradient descent)` 또는 `오류역전파(error backpropagation)` 알고리즘을 사용한다.\n",
    "            - 경사 하강법: 그래디언트 반대 방향으로 이동하면서 최솟값 위치를 찾는 방법\n",
    "            - 오류 역전파: 미분의 체인룰(chain-rule)을 이용하여 전체 가중치를 업데이트하는 방법\n",
    "\n",
    "$$\\cdot\\ e.g.,\\ cost={\\textstyle\\sum_{i}}(y_i-x_i)^2$$"
   ]
  },
  {
   "cell_type": "markdown",
   "metadata": {},
   "source": [
    "<hr>\n",
    "\n",
    "### Step #4-1: Problem & Solution of DNN\n",
    "<hr>\n",
    "\n",
    "- 학습이 제대로 안 되는 현상\n",
    "    - `P`: 사라지는 기울기(Vanishing Gradient) -> `S`: `ReLU(Rectified LInear Units)`\n",
    "    - `P`: 과적합(Overfitting) -> `S`: Regularization(Dropout, Batch Normalization)\n",
    "    - `P`: 가중치 초기화(Weight initialization) -> `S`: Random initialization, Xavier method, etc.\n",
    "- 학습이 너무 느린 점\n",
    "    - `P`: 하드웨어 성능이 뒷받침 되지 않음 -> `S`: CPU, `GPU` 성능 발전\n",
    "    - `P`: 경사 하강법의 느린 속도 -> `S`: SGD, Mini-Batch, Adam method\n",
    "- 부족한 데이터 셋\n",
    "    - e.g., 일반적인 영상 인식에 쓰이는 영상 데이터 셋의 크기는 10만 ~ 100만이다.\n",
    "    -> `S`: 디지털 카메라 보급, 인터넷 발전, `Large dataset(ImageNet, COCO, etc.)`"
   ]
  },
  {
   "cell_type": "markdown",
   "metadata": {},
   "source": [
    "## <font color = \"#CC3D3D\">Case #2: CNN</font>"
   ]
  },
  {
   "cell_type": "markdown",
   "metadata": {},
   "source": [
    "<hr>\n",
    "\n",
    "### Step #1: Concept\n",
    "<hr>\n",
    "\n",
    "- 컨볼루션 신경망\n",
    "    - "
   ]
  },
  {
   "cell_type": "code",
   "execution_count": null,
   "metadata": {},
   "outputs": [],
   "source": [
    "$$\\mathsf{{\\color{RoyalBlue} }{\\color{Tan} }()\\rightarrow }$$\n",
    "- <img src=\"images/markdown/.png\" width=\"600\">"
   ]
  },
  {
   "cell_type": "code",
   "execution_count": null,
   "metadata": {},
   "outputs": [],
   "source": []
  },
  {
   "cell_type": "code",
   "execution_count": null,
   "metadata": {},
   "outputs": [],
   "source": []
  },
  {
   "cell_type": "markdown",
   "metadata": {},
   "source": [
    "## <font color = \"#CC3D3D\">Case #3: Tensorflow</font>"
   ]
  },
  {
   "cell_type": "code",
   "execution_count": null,
   "metadata": {},
   "outputs": [],
   "source": []
  },
  {
   "cell_type": "code",
   "execution_count": null,
   "metadata": {},
   "outputs": [],
   "source": []
  },
  {
   "cell_type": "code",
   "execution_count": null,
   "metadata": {},
   "outputs": [],
   "source": []
  },
  {
   "cell_type": "markdown",
   "metadata": {},
   "source": [
    "## <font color = \"#CC3D3D\">Case #4: OpenCV DNN Module</font>"
   ]
  },
  {
   "cell_type": "code",
   "execution_count": null,
   "metadata": {},
   "outputs": [],
   "source": []
  },
  {
   "cell_type": "code",
   "execution_count": null,
   "metadata": {},
   "outputs": [],
   "source": []
  },
  {
   "cell_type": "code",
   "execution_count": null,
   "metadata": {},
   "outputs": [],
   "source": []
  },
  {
   "cell_type": "markdown",
   "metadata": {},
   "source": [
    "## <font color = \"#CC3D3D\">Case #5: pre-trained model</font>"
   ]
  },
  {
   "cell_type": "code",
   "execution_count": null,
   "metadata": {},
   "outputs": [],
   "source": []
  },
  {
   "cell_type": "code",
   "execution_count": null,
   "metadata": {},
   "outputs": [],
   "source": []
  },
  {
   "cell_type": "code",
   "execution_count": null,
   "metadata": {},
   "outputs": [],
   "source": []
  },
  {
   "cell_type": "markdown",
   "metadata": {},
   "source": [
    "## <font color = \"#CC3D3D\">Training #1: Hanguel cursive recognition</font>"
   ]
  },
  {
   "cell_type": "markdown",
   "metadata": {},
   "source": []
  }
 ],
 "metadata": {
  "interpreter": {
   "hash": "38cc0cca68228d4d18227abe74ed813685db17db46984279e4aabdddebf5f1ba"
  },
  "kernelspec": {
   "display_name": "Python 3.7.9 ('base')",
   "language": "python",
   "name": "python3"
  },
  "language_info": {
   "codemirror_mode": {
    "name": "ipython",
    "version": 3
   },
   "file_extension": ".py",
   "mimetype": "text/x-python",
   "name": "python",
   "nbconvert_exporter": "python",
   "pygments_lexer": "ipython3",
   "version": "3.7.9"
  },
  "orig_nbformat": 4
 },
 "nbformat": 4,
 "nbformat_minor": 2
}
