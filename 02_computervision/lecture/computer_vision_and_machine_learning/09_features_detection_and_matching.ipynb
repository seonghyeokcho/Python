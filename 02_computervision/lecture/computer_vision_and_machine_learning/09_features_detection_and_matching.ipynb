{
 "cells": [
  {
   "cell_type": "markdown",
   "metadata": {},
   "source": [
    "## <font color = \"#CC3D3D\">Case #1: Corner detection</font>"
   ]
  },
  {
   "cell_type": "markdown",
   "metadata": {},
   "source": [
    "<hr>\n",
    "\n",
    "### Features of corner\n",
    "<hr>\n",
    "\n",
    "- 영상에서 특징(feature)이란 영상으로부터 추출할 수 있는 유용한 정보를 의미하며 평균 밝기, 히스토그램, 에지,<br>\n",
    "직선 성분, 코너 등이 특징이 될 수 있다. 영상의 특징 중에서 에지, 직선 성분, 코너처럼 영상 전체가 아닌 일부 영역에서<br>\n",
    "추출할 수 있는 특징을 지역 특징(local feature)이라고 한다.\n",
    "\n",
    "<hr>\n",
    "\n",
    "- 코너(corner)의 특징\n",
    "    - 보통 평탄한 영역(flat) & 에지(edge) 영역은 고유한 위치를 찾기 어렵다. 그러나 코너는 에지의 방향이<br>\n",
    "    급격하게 변하는 부분으로서 삼각형의 꼭지점이나 연필 심처럼 뾰족하게 튀어나와 있는 부분이 코너가 될 수 있다.\n",
    "    - 코너는 에지나 직선 성분 등의 다른 지역 특징에 비해 변별력이 높고 대체로 영상 전 영역에 골고루 분포하기<br>\n",
    "    때문에 영상을 분석하는 데 유용한 지역 특징으로 사용된다.\n",
    "        - 참고로 코너처럼 한 점의 형태로 표현할 수 있는 특징을 특징점(feature point)이라고 하며,<br>\n",
    "        특징점은 키포인트(keypoint) 또는 관심점(interest point)이라고 부르기도 한다.\n",
    "        - 영상의 이동, 회전 변환에 강인하다는 특징 또한 있다.\n",
    "    - 아래 영상은 코너 특징점의 변별력을 가늠하기 위한 예시이다.\n",
    "    - <img src=\"images/markdown/corner.png\" width=\"600\">\n",
    "    - 오른쪽에 나타난 A, B, C 부분 영상은 왼쪽 원본 영상에서 추출한 부분 영상이다.\n",
    "    - A 부분 영상은 내부 픽셀 값 변화가 크지 않은 평탄한 영역이며, 원본 영상에서 하늘 영역 전체는 모두 A와<br>\n",
    "    비슷한 픽셀 값 분포를 가진다.\n",
    "    - B 부분 영상은 하늘과 바다가 만나는 수평선 부근에서 추출되었다는 것을 쉽게 알아차릴 수 있지만, 정확한<br>\n",
    "    x 좌표는 가늠하기 어렵다.\n",
    "    - 반면에 C 부분 영상은 특정 건물이 뾰족하게 튀어나와 있는 부분 영상이며, 원본 영상 오른쪽 산등성이에서<br>\n",
    "    유일한 위치를 찾을 수 있다.\n",
    "    - C 부분 영상에서 뾰족하게 튀어나와 있는 건물이 영상에서 코너 역할을 하며, 코너는 에지나 평탄한 영역에 비해<br>\n",
    "    변별력이 높아서 그 위치를 파악하기 수월하다."
   ]
  },
  {
   "cell_type": "markdown",
   "metadata": {},
   "source": [
    "<hr>\n",
    "\n",
    "### Step #1: Method\n",
    "<hr>\n",
    "\n",
    "- 해리스(Harris) 코너 검출"
   ]
  },
  {
   "cell_type": "code",
   "execution_count": null,
   "metadata": {},
   "outputs": [],
   "source": [
    "good features to track - 코너 점들의 좌표를 그대로 반환하기 때문에 사용하기에 좀 더 편리하다는 장점이 있다."
   ]
  },
  {
   "cell_type": "code",
   "execution_count": null,
   "metadata": {},
   "outputs": [],
   "source": [
    "$$\\mathsf{{\\color{RoyalBlue} }{\\color{Tan} }()\\rightarrow }$$\n",
    "- <img src=\"images/markdown/.png\" width=\"600\">"
   ]
  },
  {
   "cell_type": "code",
   "execution_count": null,
   "metadata": {},
   "outputs": [],
   "source": [
    "import cv2\n",
    "import matplotlib.pyplot as plt\n",
    "import numpy as np\n",
    "\n",
    "source = cv2.imread(\"images/\")"
   ]
  },
  {
   "cell_type": "code",
   "execution_count": null,
   "metadata": {},
   "outputs": [],
   "source": []
  },
  {
   "cell_type": "code",
   "execution_count": null,
   "metadata": {},
   "outputs": [],
   "source": []
  },
  {
   "cell_type": "code",
   "execution_count": null,
   "metadata": {},
   "outputs": [],
   "source": []
  }
 ],
 "metadata": {
  "interpreter": {
   "hash": "38cc0cca68228d4d18227abe74ed813685db17db46984279e4aabdddebf5f1ba"
  },
  "kernelspec": {
   "display_name": "Python 3.7.9 64-bit ('base': conda)",
   "language": "python",
   "name": "python3"
  },
  "language_info": {
   "codemirror_mode": {
    "name": "ipython",
    "version": 3
   },
   "file_extension": ".py",
   "mimetype": "text/x-python",
   "name": "python",
   "nbconvert_exporter": "python",
   "pygments_lexer": "ipython3",
   "version": "3.7.9"
  },
  "orig_nbformat": 4
 },
 "nbformat": 4,
 "nbformat_minor": 2
}
