{
 "cells": [
  {
   "cell_type": "code",
   "execution_count": 20,
   "metadata": {},
   "outputs": [
    {
     "name": "stdout",
     "output_type": "stream",
     "text": [
      "[5, 2, 6, 3, 1, 4]\n",
      "[1, 2, 3, 4, 5, 6]\n"
     ]
    }
   ],
   "source": [
    "# bubble sort(버블 정렬)\n",
    "L = [5,2,6,3,1,4]\n",
    "print(L)\n",
    "for _ in range(len(L)-1):\n",
    "    for i in range(len(L)-1):\n",
    "        if L[i] > L[i+1]:\n",
    "            left = L[i]\n",
    "            right = L[i+1]\n",
    "            L[i], L[i+1] = right, left\n",
    "\n",
    "print(L)"
   ]
  },
  {
   "cell_type": "code",
   "execution_count": 16,
   "metadata": {},
   "outputs": [
    {
     "name": "stdout",
     "output_type": "stream",
     "text": [
      "[5, 2, 6, 3, 1, 4]\n",
      "[1, 2, 3, 4, 5, 6]\n"
     ]
    }
   ],
   "source": [
    "# selection sort(선택 정렬)\n",
    "L = [5,2,6,3,1,4]\n",
    "print(L)\n",
    "\n",
    "for i in range(len(L)-1):\n",
    "    minimum = L[i]\n",
    "    idx = i\n",
    "    for j in range(i, len(L)):\n",
    "        if minimum > L[j]:\n",
    "            minimum = L[j]\n",
    "            idx = j\n",
    "    L[idx] = L[i]\n",
    "    L[i] = minimum\n",
    "print(L)"
   ]
  },
  {
   "cell_type": "code",
   "execution_count": null,
   "metadata": {},
   "outputs": [],
   "source": [
    "# insertion sort(삽입 정렬)\n",
    "L = [5,2,6,3,1,4]\n",
    "print(L)"
   ]
  },
  {
   "cell_type": "code",
   "execution_count": 37,
   "metadata": {},
   "outputs": [
    {
     "ename": "TypeError",
     "evalue": "'dictionary' object does not support item assignment",
     "output_type": "error",
     "traceback": [
      "\u001b[0;31m---------------------------------------------------------------------------\u001b[0m",
      "\u001b[0;31mTypeError\u001b[0m                                 Traceback (most recent call last)",
      "\u001b[1;32m/Users/csh/programming_language/001_Python/000_data_structures_and_algorithms/notebook.ipynb 셀 4\u001b[0m in \u001b[0;36m<cell line: 8>\u001b[0;34m()\u001b[0m\n\u001b[1;32m      <a href='vscode-notebook-cell:/Users/csh/programming_language/001_Python/000_data_structures_and_algorithms/notebook.ipynb#W5sZmlsZQ%3D%3D?line=4'>5</a>\u001b[0m         \u001b[39mreturn\u001b[39;00m \u001b[39msetattr\u001b[39m(\u001b[39mself\u001b[39m, key, value)\n\u001b[1;32m      <a href='vscode-notebook-cell:/Users/csh/programming_language/001_Python/000_data_structures_and_algorithms/notebook.ipynb#W5sZmlsZQ%3D%3D?line=6'>7</a>\u001b[0m price \u001b[39m=\u001b[39m dictionary()\n\u001b[0;32m----> <a href='vscode-notebook-cell:/Users/csh/programming_language/001_Python/000_data_structures_and_algorithms/notebook.ipynb#W5sZmlsZQ%3D%3D?line=7'>8</a>\u001b[0m price[\u001b[39m\"\u001b[39m\u001b[39mpizza\u001b[39m\u001b[39m\"\u001b[39m] \u001b[39m=\u001b[39m \u001b[39m\"\u001b[39m\u001b[39m$5\u001b[39m\u001b[39m\"\u001b[39m\n\u001b[1;32m      <a href='vscode-notebook-cell:/Users/csh/programming_language/001_Python/000_data_structures_and_algorithms/notebook.ipynb#W5sZmlsZQ%3D%3D?line=8'>9</a>\u001b[0m \u001b[39mprint\u001b[39m(price[\u001b[39m\"\u001b[39m\u001b[39mpizza\u001b[39m\u001b[39m\"\u001b[39m])\n",
      "\u001b[0;31mTypeError\u001b[0m: 'dictionary' object does not support item assignment"
     ]
    }
   ],
   "source": [
    "class dictionary:\n",
    "    def __getitem__(self, key):\n",
    "        return getattr(self, key)\n",
    "    \n",
    "    def __setattr__(self, key, value):\n",
    "        return setattr(self, key, value)\n",
    "\n",
    "price = dictionary()\n",
    "price[\"pizza\"] = \"$5\"\n",
    "print(price[\"pizza\"])"
   ]
  },
  {
   "cell_type": "code",
   "execution_count": 27,
   "metadata": {},
   "outputs": [
    {
     "data": {
      "text/plain": [
       "[None, None, None, None, None, None, None, None, None, None]"
      ]
     },
     "execution_count": 27,
     "metadata": {},
     "output_type": "execute_result"
    }
   ],
   "source": [
    "[None] * 10"
   ]
  },
  {
   "cell_type": "code",
   "execution_count": null,
   "metadata": {},
   "outputs": [],
   "source": []
  }
 ],
 "metadata": {
  "kernelspec": {
   "display_name": "Python 3.8.13 ('base')",
   "language": "python",
   "name": "python3"
  },
  "language_info": {
   "codemirror_mode": {
    "name": "ipython",
    "version": 3
   },
   "file_extension": ".py",
   "mimetype": "text/x-python",
   "name": "python",
   "nbconvert_exporter": "python",
   "pygments_lexer": "ipython3",
   "version": "3.8.13"
  },
  "orig_nbformat": 4,
  "vscode": {
   "interpreter": {
    "hash": "38cc0cca68228d4d18227abe74ed813685db17db46984279e4aabdddebf5f1ba"
   }
  }
 },
 "nbformat": 4,
 "nbformat_minor": 2
}
