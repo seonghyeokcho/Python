{
 "cells": [
  {
   "cell_type": "code",
   "execution_count": 49,
   "metadata": {},
   "outputs": [
    {
     "name": "stdout",
     "output_type": "stream",
     "text": [
      "62.4 µs ± 2.58 µs per loop (mean ± std. dev. of 7 runs, 10,000 loops each)\n"
     ]
    },
    {
     "data": {
      "text/plain": [
       "[1, 1, 2, 2, 3, 3, 4, 4, 4, 5, 5, 5, 5, 6, 6, 7, 7, 7, 7, 9]"
      ]
     },
     "execution_count": 49,
     "metadata": {},
     "output_type": "execute_result"
    }
   ],
   "source": [
    "# bubble sort(버블 정렬)\n",
    "def bubble_sort(L):\n",
    "    for _ in range(len(L)-1):\n",
    "        for i in range(len(L)-1):\n",
    "            if L[i] > L[i+1]:\n",
    "                left = L[i]\n",
    "                right = L[i+1]\n",
    "                L[i], L[i+1] = right, left\n",
    "    return L\n",
    "\n",
    "L = [5,2,6,3,1,4,4,7,5,6,2,1,7,5,7,9,7,5,4,3]\n",
    "%timeit bubble_sort(L)\n",
    "bubble_sort(L)"
   ]
  },
  {
   "cell_type": "code",
   "execution_count": 50,
   "metadata": {},
   "outputs": [
    {
     "name": "stdout",
     "output_type": "stream",
     "text": [
      "31 µs ± 1.03 µs per loop (mean ± std. dev. of 7 runs, 10,000 loops each)\n"
     ]
    },
    {
     "data": {
      "text/plain": [
       "[1, 1, 2, 2, 3, 3, 4, 4, 4, 5, 5, 5, 5, 6, 6, 7, 7, 7, 7, 9]"
      ]
     },
     "execution_count": 50,
     "metadata": {},
     "output_type": "execute_result"
    }
   ],
   "source": [
    "# selection sort(선택 정렬)\n",
    "def selection_sort(L):\n",
    "    for i in range(len(L)-1):\n",
    "        minimum = L[i]\n",
    "        idx = i\n",
    "        for j in range(i, len(L)):\n",
    "            if minimum > L[j]:\n",
    "                minimum = L[j]\n",
    "                idx = j\n",
    "        L[idx] = L[i]\n",
    "        L[i] = minimum\n",
    "    return L\n",
    "L = [5,2,6,3,1,4,4,7,5,6,2,1,7,5,7,9,7,5,4,3]\n",
    "%timeit selection_sort(L)\n",
    "selection_sort(L)"
   ]
  },
  {
   "cell_type": "code",
   "execution_count": 51,
   "metadata": {},
   "outputs": [
    {
     "name": "stdout",
     "output_type": "stream",
     "text": [
      "3.99 µs ± 328 ns per loop (mean ± std. dev. of 7 runs, 100,000 loops each)\n"
     ]
    },
    {
     "data": {
      "text/plain": [
       "[1, 1, 2, 2, 3, 3, 4, 4, 4, 5, 5, 5, 5, 6, 6, 7, 7, 7, 7, 9]"
      ]
     },
     "execution_count": 51,
     "metadata": {},
     "output_type": "execute_result"
    }
   ],
   "source": [
    "# insertion sort(삽입 정렬)\n",
    "def insertion_sort(L):\n",
    "    for i in range(1, len(L)):\n",
    "        if L[i-1] > L[i]:\n",
    "            j = 0\n",
    "            while L[i-1-j] > L[i-j] and i-1-j > -1:\n",
    "                swap = L[i-1-j]\n",
    "                L[i-1-j] = L[i-j]\n",
    "                L[i-j] = swap\n",
    "                j += 1\n",
    "    return L\n",
    "\n",
    "L = [5,2,6,3,1,4,4,7,5,6,2,1,7,5,7,9,7,5,4,3]\n",
    "%timeit insertion_sort(L)\n",
    "insertion_sort(L)"
   ]
  },
  {
   "cell_type": "code",
   "execution_count": null,
   "metadata": {},
   "outputs": [],
   "source": []
  },
  {
   "cell_type": "code",
   "execution_count": 27,
   "metadata": {},
   "outputs": [
    {
     "data": {
      "text/plain": [
       "[None, None, None, None, None, None, None, None, None, None]"
      ]
     },
     "execution_count": 27,
     "metadata": {},
     "output_type": "execute_result"
    }
   ],
   "source": [
    "[None] * 10"
   ]
  },
  {
   "cell_type": "code",
   "execution_count": 20,
   "metadata": {},
   "outputs": [
    {
     "name": "stdout",
     "output_type": "stream",
     "text": [
      "512 µs ± 28.5 µs per loop (mean ± std. dev. of 7 runs, 1,000 loops each)\n"
     ]
    }
   ],
   "source": [
    "def linear_search(array, k):\n",
    "    # O(n)\n",
    "    # n(array의 길이)이 10000일 때, k = 7800 이라면 7800번 걸림(최악의 경우 k = n 이라면 n번 걸림)\n",
    "    for i in array:\n",
    "        if i == k:\n",
    "            return i\n",
    "\n",
    "a = list(range(10000))\n",
    "%timeit linear_search(a, 7800)"
   ]
  },
  {
   "cell_type": "code",
   "execution_count": 40,
   "metadata": {},
   "outputs": [
    {
     "name": "stdout",
     "output_type": "stream",
     "text": [
      "CPU times: user 91 µs, sys: 2 µs, total: 93 µs\n",
      "Wall time: 98 µs\n"
     ]
    },
    {
     "data": {
      "text/plain": [
       "(7502, 13)"
      ]
     },
     "execution_count": 40,
     "metadata": {},
     "output_type": "execute_result"
    }
   ],
   "source": [
    "def binary_search(array, k):\n",
    "    # O(logn)\n",
    "    # n(array의 길이)이 10000일 때, 13번 안에 원하는 수 k를 찾음(최악의 경우 14번째에 찾음)\n",
    "    for i in array:\n",
    "        if array[len(array)//2] < k:\n",
    "            array = array[len(array)//2+1:]\n",
    "        elif array[len(array)//2] > k:\n",
    "            array = array[:len(array)//2]\n",
    "        else:\n",
    "            return k, i+1\n",
    "\n",
    "a = list(range(10000))\n",
    "%time binary_search(a, 7502)"
   ]
  },
  {
   "cell_type": "code",
   "execution_count": 34,
   "metadata": {},
   "outputs": [
    {
     "data": {
      "text/plain": [
       "13.287712379549449"
      ]
     },
     "execution_count": 34,
     "metadata": {},
     "output_type": "execute_result"
    }
   ],
   "source": [
    "import math\n",
    "math.log2(10000)"
   ]
  },
  {
   "cell_type": "code",
   "execution_count": 53,
   "metadata": {},
   "outputs": [
    {
     "data": {
      "text/plain": [
       "True"
      ]
     },
     "execution_count": 53,
     "metadata": {},
     "output_type": "execute_result"
    }
   ],
   "source": []
  },
  {
   "cell_type": "code",
   "execution_count": null,
   "metadata": {},
   "outputs": [],
   "source": []
  }
 ],
 "metadata": {
  "kernelspec": {
   "display_name": "Python 3.8.13 ('base')",
   "language": "python",
   "name": "python3"
  },
  "language_info": {
   "codemirror_mode": {
    "name": "ipython",
    "version": 3
   },
   "file_extension": ".py",
   "mimetype": "text/x-python",
   "name": "python",
   "nbconvert_exporter": "python",
   "pygments_lexer": "ipython3",
   "version": "3.8.13"
  },
  "orig_nbformat": 4,
  "vscode": {
   "interpreter": {
    "hash": "38cc0cca68228d4d18227abe74ed813685db17db46984279e4aabdddebf5f1ba"
   }
  }
 },
 "nbformat": 4,
 "nbformat_minor": 2
}
