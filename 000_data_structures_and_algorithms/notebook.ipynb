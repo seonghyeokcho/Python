{
 "cells": [
  {
   "cell_type": "markdown",
   "metadata": {},
   "source": [
    "### 탐색 알고리즘"
   ]
  },
  {
   "cell_type": "code",
   "execution_count": 20,
   "metadata": {},
   "outputs": [
    {
     "name": "stdout",
     "output_type": "stream",
     "text": [
      "512 µs ± 28.5 µs per loop (mean ± std. dev. of 7 runs, 1,000 loops each)\n"
     ]
    }
   ],
   "source": [
    "# linear search(선형 탐색)\n",
    "def linear_search(array, k):\n",
    "    # O(n)\n",
    "    # n(array의 길이)이 10000일 때, k = 7800 이라면 7800번 걸림(최악의 경우 k = n 이라면 n번 걸림)\n",
    "    for i in array:\n",
    "        if i == k:\n",
    "            return i\n",
    "\n",
    "a = list(range(10000))\n",
    "%timeit linear_search(a, 7800)"
   ]
  },
  {
   "cell_type": "code",
   "execution_count": 40,
   "metadata": {},
   "outputs": [
    {
     "name": "stdout",
     "output_type": "stream",
     "text": [
      "CPU times: user 91 µs, sys: 2 µs, total: 93 µs\n",
      "Wall time: 98 µs\n"
     ]
    },
    {
     "data": {
      "text/plain": [
       "(7502, 13)"
      ]
     },
     "execution_count": 40,
     "metadata": {},
     "output_type": "execute_result"
    }
   ],
   "source": [
    "# binary search(이진 탐색)\n",
    "def binary_search(array, k):\n",
    "    # O(logn)\n",
    "    # n(array의 길이)이 10000일 때, 13번 안에 원하는 수 k를 찾음(최악의 경우 14번째에 찾음)\n",
    "    for i in array:\n",
    "        if array[len(array)//2] < k:\n",
    "            array = array[len(array)//2+1:]\n",
    "        elif array[len(array)//2] > k:\n",
    "            array = array[:len(array)//2]\n",
    "        else:\n",
    "            return k, i+1\n",
    "\n",
    "a = list(range(10000))\n",
    "%time binary_search(a, 7502)"
   ]
  },
  {
   "cell_type": "markdown",
   "metadata": {},
   "source": [
    "### 정렬 알고리즘"
   ]
  },
  {
   "cell_type": "code",
   "execution_count": 173,
   "metadata": {},
   "outputs": [
    {
     "name": "stdout",
     "output_type": "stream",
     "text": [
      "2.48 s ± 81.9 ms per loop (mean ± std. dev. of 7 runs, 1 loop each)\n"
     ]
    }
   ],
   "source": [
    "# bubble sort(버블 정렬) - O(n^2)\n",
    "def bubble_sort(L):\n",
    "    for _ in range(len(L)-1):\n",
    "        for i in range(len(L)-1):\n",
    "            if L[i] > L[i+1]:\n",
    "                L[i], L[i+1] = L[i+1], L[i]\n",
    "    return L\n",
    "\n",
    "# L = [5,2,6,3,1,4,4,7,5,6,2,1,7,5,7,9,7,5,4,3]\n",
    "L = list(range(4000, 0, -1))\n",
    "%timeit bubble_sort(L)\n",
    "# bubble_sort(L)"
   ]
  },
  {
   "cell_type": "code",
   "execution_count": 172,
   "metadata": {},
   "outputs": [
    {
     "name": "stdout",
     "output_type": "stream",
     "text": [
      "927 ms ± 38 ms per loop (mean ± std. dev. of 7 runs, 1 loop each)\n"
     ]
    }
   ],
   "source": [
    "# selection sort(선택 정렬) - O(n^2)\n",
    "def selection_sort(L):\n",
    "    for i in range(len(L)-1):\n",
    "        minimum = L[i]\n",
    "        idx = i\n",
    "        for j in range(i, len(L)):\n",
    "            if minimum > L[j]:\n",
    "                minimum = L[j]\n",
    "                idx = j\n",
    "        L[idx] = L[i]\n",
    "        L[i] = minimum\n",
    "    return L\n",
    "# L = [5,2,6,3,1,4,4,7,5,6,2,1,7,5,7,9,7,5,4,3]\n",
    "L = list(range(4000, 0, -1))\n",
    "%timeit selection_sort(L)\n",
    "# selection_sort(L)"
   ]
  },
  {
   "cell_type": "code",
   "execution_count": 171,
   "metadata": {},
   "outputs": [
    {
     "name": "stdout",
     "output_type": "stream",
     "text": [
      "588 µs ± 3.88 µs per loop (mean ± std. dev. of 7 runs, 1 loop each)\n"
     ]
    }
   ],
   "source": [
    "# insertion sort(삽입 정렬) - O(n^2)\n",
    "# for python -> 0.2 O(n^2) µs, for C -> 0.01 O(n^2) µs\n",
    "def insertion_sort(L):\n",
    "    for i in range(1, len(L)):\n",
    "        if L[i-1] > L[i]:\n",
    "            j = 0\n",
    "            while L[i-1-j] > L[i-j] and i-1-j > -1:\n",
    "                L[i-1-j], L[i-j] = L[i-j], L[i-1-j]\n",
    "                j += 1\n",
    "    return L\n",
    "\n",
    "# L = [5,2,6,3,1,4,4,7,5,6,2,1,7,5,7,9,7,5,4,3]\n",
    "L = list(range(4000, 0, -1))\n",
    "%timeit insertion_sort(L)\n",
    "# insertion_sort(L)"
   ]
  },
  {
   "cell_type": "code",
   "execution_count": 170,
   "metadata": {},
   "outputs": [
    {
     "name": "stdout",
     "output_type": "stream",
     "text": [
      "22.8 ms ± 1.61 ms per loop (mean ± std. dev. of 7 runs, 10 loops each)\n"
     ]
    }
   ],
   "source": [
    "# merge sort(합병 정렬) - O(nlogn)\n",
    "# for python -> 2.2 O(nlogn) µs\n",
    "def merge_sort(L):\n",
    "    if len(L) == 1:\n",
    "        return L\n",
    "    \n",
    "    L_p = merge_sort(L[:len(L)//2])\n",
    "    R_p = merge_sort(L[len(L)//2:])\n",
    "    \n",
    "    merged_L = []\n",
    "    l = r = 0\n",
    "    while l < len(L_p) and r < len(R_p):\n",
    "        if L_p[l] > R_p[r]:\n",
    "            merged_L.append(R_p[r])\n",
    "            r += 1\n",
    "        else:\n",
    "            merged_L.append(L_p[l])\n",
    "            l += 1\n",
    "    \n",
    "    merged_L += L_p[l:]\n",
    "    merged_L += R_p[r:]\n",
    "    \n",
    "    return merged_L\n",
    "\n",
    "# L = [5,2,6,3,1,4,4,7,5,6,2,1,7,5,7,9,7,5,4,3]\n",
    "L = list(range(4000, 0, -1))\n",
    "%timeit merge_sort(L)\n",
    "# merge_sort(L)"
   ]
  },
  {
   "cell_type": "markdown",
   "metadata": {},
   "source": [
    "- 힙(heap) 자료구조를 사용하는 이유는 최대-힙의 경우 반복적으로 extact_max()를 사용하기 위해서이다.(최소-힙도 같은 이유)\n",
    "    - extract_max(): 최대 key(즉, 루트)를 반환하고 집합 S에서 제거"
   ]
  },
  {
   "cell_type": "code",
   "execution_count": 174,
   "metadata": {},
   "outputs": [
    {
     "name": "stdout",
     "output_type": "stream",
     "text": [
      "2.86 ms ± 523 µs per loop (mean ± std. dev. of 7 runs, 100 loops each)\n"
     ]
    }
   ],
   "source": [
    "class heapQ:\n",
    "    def max_heapify(self, A, i):\n",
    "        L = 2*i\n",
    "        R = 2*i + 1\n",
    "        \n",
    "        if L <= len(A) and A[L-1] > A[i-1]:\n",
    "            lagest = L\n",
    "        else:\n",
    "            lagest = i\n",
    "        \n",
    "        if R <= len(A) and A[R-1] > A[lagest-1]:\n",
    "            lagest = R\n",
    "        \n",
    "        if lagest != i:\n",
    "            A[i-1], A[lagest-1] = A[lagest-1], A[i-1]\n",
    "            self.max_heapify(A, lagest)\n",
    "        return A\n",
    "    \n",
    "    \n",
    "    def min_heapify(self, A, i):\n",
    "        L = 2*i\n",
    "        R = 2*i + 1\n",
    "        \n",
    "        if L <= len(A) and A[L-1] < A[i-1]:\n",
    "            smallest = L\n",
    "        else:\n",
    "            smallest = i\n",
    "        \n",
    "        if R <= len(A) and A[R-1] < A[smallest-1]:\n",
    "            smallest = R\n",
    "        \n",
    "        if smallest != i:\n",
    "            A[i-1], A[smallest-1] = A[smallest-1], A[i-1]\n",
    "            self.min_heapify(A, smallest)\n",
    "        return A\n",
    "    \n",
    "    \n",
    "    def heap_pop(self, A):\n",
    "        extract = A[0]\n",
    "        A[0] = A.pop()\n",
    "        if A[0] > A[1]:\n",
    "            self.min_heapify(A, 1)\n",
    "        elif A[0] < A[1]:\n",
    "            self.max_heapify(A, 1)\n",
    "        return extract\n",
    "    \n",
    "    \n",
    "    def build_max_heap(self, A):\n",
    "        for i in range(len(A)//2, 0, -1):\n",
    "            max_heap = self.max_heapify(A, i)\n",
    "        return None\n",
    "    \n",
    "    \n",
    "    def build_min_heap(self, A):\n",
    "        for i in range(len(A)//2, 0, -1):\n",
    "            min_heap = self.min_heapify(A, i)\n",
    "        return None\n",
    "\n",
    "# L = [5,2,3,1,4,6,9,7,8]\n",
    "L = list(range(4000, 0, -1))\n",
    "%timeit heapQ().build_min_heap(L)\n",
    "# print(L)\n",
    "# print(heapQ().heap_pop(L))\n",
    "# print(L)"
   ]
  },
  {
   "cell_type": "markdown",
   "metadata": {},
   "source": [
    "### binary search tree(이진 탐색 트리)"
   ]
  },
  {
   "cell_type": "code",
   "execution_count": null,
   "metadata": {},
   "outputs": [],
   "source": [
    "#트리를 구성하는 노드 클래스\n",
    "from ctypes import pointer\n",
    "\n",
    "\n",
    "class Node:\n",
    "    \"\"\"생성자\"\"\"\n",
    "    def __init__(self, key,value):\n",
    "        self.key = key  # 키\n",
    "        self.value = value # 값\n",
    "        self.pointers()\n",
    "    def pointers(self):\n",
    "        self.left = None # 왼쪽 자식 참조\n",
    "        self.right = None # 오른쪽 자식 참조\n",
    "\n",
    "class BinarySearchTree():\t\n",
    "    # 생성자\n",
    "    def __init__(self):\n",
    "        self.root = None  # 루트 설정\n",
    "\n",
    "    # 검색하는 메소드\n",
    "    def search(self, key):  # -> int\n",
    "        '''\n",
    "        루트에서 시작하여 찾고자 하는 키의 대소 관계를 판단한 결과에 따라\n",
    "        노드 x에 대해 key(x) > k이면 왼쪽 or key(x) < k이면 오른쪽 서브트리를\n",
    "        따라가면서 수행한다. 만약 key(x) = k이면 검색 성공.\n",
    "        '''\n",
    "        node = self.root\n",
    "        while node is not None:  # 더이상 진행할 수 없을때까지 반복\n",
    "            if key == node.key:\n",
    "                return node.value  # 검색 성공\n",
    "            elif key < node.key:\n",
    "                node = node.left  # Go left\n",
    "            else:\n",
    "                node = node.right  # Go right\n",
    "                \n",
    "    # 노드 삽입(추가)하는 메소드\n",
    "    def insert(self, key, value):  # -> bool\n",
    "        '''\n",
    "        노드 삽입시 트리의 형태가 이진 탐색 트리의 조건을 유지해야 한다는\n",
    "        전제 조건이 있다. 따라서 노드 삽입 시에는 먼저 탐색을 통해\n",
    "        삽입할 위치를 찾아낸 뒤에 수행한다.\n",
    "        알고리즘은 다음과 같다.\n",
    "            1. root가 있는지 파악한다.\n",
    "                - root가 없으면 생성(삽입)\n",
    "                - root가 있으면 root부터 삽입할 위치 검색 시작\n",
    "            2. (root가 이미 존재한다는 전제) root -> 현재 노드 x로 지정하고,\n",
    "            삽입하려는 값 k와 현재 노드의 key를 비교한다.\n",
    "                - k == key(x)이면 중복이므로 중단\n",
    "                - k < key(x)일 때, left(x) is None -> 그 자리에 삽입\n",
    "                left(x) is not None -> current(x) = left(x)\n",
    "                - k > key(x)일 때, right(x) is None -> 그 자리에 삽입\n",
    "                right(x) is not None -> current(x) = right(x)\n",
    "            3. 2번 과정을 더이상 진행할 수 없을때까지 반복한다.\n",
    "            4. 2번 과정을 while 반복문이 아닌 꼬리 재귀 함수 호출로 구현했다.\n",
    "        '''\n",
    "        def loop(node, key, value):  # -> None\n",
    "            if key == node.key:\n",
    "                return False\n",
    "            elif key < node.key:\n",
    "                if node.left is None:\n",
    "                    node.left = Node(key, value)\n",
    "                else:\n",
    "                    loop(node.left, key, value)\n",
    "            else:\n",
    "                if node.right is None:\n",
    "                    node.right = Node(key, value)\n",
    "                else:\n",
    "                    loop(node.right, key, value)\n",
    "            return True\n",
    "        \n",
    "        if self.root is None:\n",
    "            self.root = Node(key, value)\n",
    "            return True\n",
    "        else:\n",
    "            return loop(self.root, key, value)\n",
    "            \n",
    "    # 노드 삭제하는 메소드\n",
    "    def remove(self, key):  # -> bool\n",
    "        '''\n",
    "        삭제 또한 삽입과 마찬가지로 \n",
    "        알고리즘은 다음과 같다.\n",
    "            1. root -> 현재 노드 x로 지정\n",
    "            2. 삭제하려는 key와 key(x)를 비교한다.\n",
    "                - key == key(x) -> 삭제할 key를 찾았으므로 비교 종료\n",
    "                - key < key(x) -> x = left(x)\n",
    "                - key > key(x) -> x = right(x)\n",
    "            3. 2번에서 삭제할 키를 찾았다면 케이스를 다음과 같이 나눈다.\n",
    "                3-1. 단말(leaf) 노드를 삭제하는 경우\n",
    "                3-2. 1개의 자식만을 가진 노드를 삭제하는 경우\n",
    "                3-3. 2개 자식을 모두 가진 노드를 삭제하는 경우\n",
    "            4. 3번에 따라서 각각 다른 방법으로 진행한다.\n",
    "        3번에서 언급한 각각의 케이스에 대해 살펴보면,\n",
    "            3-1 -> 단말(leaf) 노드를 삭제하는 경우\n",
    "                if x == left(parent(x)):\n",
    "                    parent.left = None\n",
    "                else:\n",
    "                    parent.right = None\n",
    "            3-2 -> 1개의 자식만을 가진 노드를 삭제하는 경우\n",
    "                delete(x) & x = child(x), 그렇게 하면 child(x)를 루트로 하는\n",
    "                서브트리의 모든 노드 y에 대해 x == right(parent(x))이면\n",
    "                key(y) > key(parent(x))를, x == left(parent(x))이면\n",
    "                key(y) < key(parent(x))를 만족한다.\n",
    "                    - x == left(parent(x)) -> left(parent(x)) = child(x)\n",
    "                    - x == right(parent(x)) -> right(parent(x)) = child(x)\n",
    "            3-3 -> 2개 자식을 모두 가진 노드를 삭제하는 경우\n",
    "        '''\n",
    "        node = self.root\n",
    "        parent = None\n",
    "        is_left_child = None\n",
    "        \n",
    "        # 삭제할 노드 탐색\n",
    "        while True:\n",
    "            if node is None:\n",
    "                return False\n",
    "            \n",
    "            if key == node.key:\n",
    "                break\n",
    "            else:\n",
    "                parent = node\n",
    "                if key < node.key:\n",
    "                    node = node.left\n",
    "                    is_left_child = True\n",
    "                else:\n",
    "                    node = node.right\n",
    "                    is_left_child = False\n",
    "        \n",
    "        # case 1: 단말 노드인 경우\n",
    "        if node.left is None:\n",
    "            if node is self.root:\n",
    "                self.root = node.right\n",
    "            elif is_left_child:\n",
    "                parent.left = node.right\n",
    "            else:\n",
    "                parent.right = node.right\n",
    "    # 노드 출력하는 메소드\n",
    "    def dump(self):\n",
    "        pass\n",
    "    \n",
    "    # def in_order_traversal(self):\n",
    "    #     def _in_order_traversal(root):\n",
    "    #         if root is None:\n",
    "    #             pass\n",
    "    #         else:\n",
    "    #             _in_order_traversal(root.left)\n",
    "    #             print(root.data)\n",
    "    #             _in_order_traversal(root.right)\n",
    "    #     _in_order_traversal(self.root)"
   ]
  },
  {
   "cell_type": "code",
   "execution_count": null,
   "metadata": {},
   "outputs": [],
   "source": []
  },
  {
   "cell_type": "code",
   "execution_count": null,
   "metadata": {},
   "outputs": [],
   "source": []
  }
 ],
 "metadata": {
  "kernelspec": {
   "display_name": "Python 3.8.13 ('base')",
   "language": "python",
   "name": "python3"
  },
  "language_info": {
   "codemirror_mode": {
    "name": "ipython",
    "version": 3
   },
   "file_extension": ".py",
   "mimetype": "text/x-python",
   "name": "python",
   "nbconvert_exporter": "python",
   "pygments_lexer": "ipython3",
   "version": "3.8.13"
  },
  "orig_nbformat": 4,
  "vscode": {
   "interpreter": {
    "hash": "38cc0cca68228d4d18227abe74ed813685db17db46984279e4aabdddebf5f1ba"
   }
  }
 },
 "nbformat": 4,
 "nbformat_minor": 2
}
