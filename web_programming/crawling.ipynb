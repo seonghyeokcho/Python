{
 "cells": [
  {
   "cell_type": "code",
   "execution_count": null,
   "metadata": {
    "colab": {},
    "colab_type": "code",
    "id": "Pvc5oZy4iDhc"
   },
   "outputs": [],
   "source": [
    "#네이버 실검\n",
    "\n",
    "#모듈 불러오기 (개발자들이 미리 만들어 놓은 도구 가방 가져오기)\n",
    "\n",
    "#모듈 => 미리 내장된 모듈, 따로 설치받아야 하는 모듈 있음\n",
    "\n",
    "#따로 설치받아야 되는 모듈 => pip, conda\n",
    "\n",
    "\n",
    "from bs4 import BeautifulSoup\n",
    "import requests #서버랑 통신하기 위한 모듈\n",
    "\n",
    "url = 'https://www.naver.com/' #통신 하고 싶은 페이지 \n",
    "result = requests.get(url) #홈페이지 내용을 가져오도록 요청하는건 request, request 안에 get(메소드)함수\n",
    "\n",
    "tem = result.text #html 코드 불러오는게 .text 붙이기 \n",
    "\n",
    "soup = BeautifulSoup(tem, 'html.parser') #tem을 BeautifulSoup로 가공, 파이썬에서 다룰 수 있도록 바꿔주는 모듈 => BeautifulSoup\n",
    "\n",
    "result = soup.find_all('span',{'class': 'ah_k'})\n",
    "#result = soup.find_all('li',{'class' : 'ah_item'}) #전체 코드 안에서 싹 다 찾는다 #리스트로 결과 반환됨 #딕셔너리 안에다가 class = ah_item을 가져와라\n",
    "\n",
    "result = result[0:20]\n",
    "\n",
    "for i in result:\n",
    "  print(i.text.strip())\n",
    "\n",
    "\n",
    "\n",
    "\n"
   ]
  },
  {
   "cell_type": "code",
   "execution_count": null,
   "metadata": {
    "colab": {
     "base_uri": "https://localhost:8080/",
     "height": 204
    },
    "colab_type": "code",
    "executionInfo": {
     "elapsed": 1137,
     "status": "ok",
     "timestamp": 1577088781894,
     "user": {
      "displayName": "이지은",
      "photoUrl": "",
      "userId": "11110360646913580225"
     },
     "user_tz": -540
    },
    "id": "r3P0YpZGxQz2",
    "outputId": "8769eafe-edf0-4e95-caac-14173c721f96"
   },
   "outputs": [
    {
     "name": "stdout",
     "output_type": "stream",
     "text": [
      "인생존망-6화 : 첫번째 인생존망 사건\n",
      "백수세끼-17화 마라탕\n",
      "윈드브레이커-3부 - 40화 남성춘쌤과 특훈 (2)\n",
      "신의 탑-3부 42화\n",
      "칼가는 소녀-26화\n",
      "일진이 사나워-52화\n",
      "데드라이프-앵거의 부활\n",
      "지구멸망버튼-1화\n",
      "평범한 8반-5장 39화_ 구멍(1)\n",
      "악취-27화. 호랑이 굴 (3)\n"
     ]
    }
   ],
   "source": [
    "#네이버웹툰\n",
    "from bs4 import BeautifulSoup\n",
    "import requests\n",
    "\n",
    "url = 'https://comic.naver.com/webtoon/weekday.nhn'\n",
    "result = requests.get(url)\n",
    "\n",
    "tem = result.text\n",
    "soup = BeautifulSoup(tem, 'html.parser') \n",
    "\n",
    "result = soup.find('ol',{'class':'asideBoxRank'}) #find_all 내가 쓴 태그랑 클래스명은 다가져와라 find는 그중에서 0번째 인덱스만 가져와라\n",
    "\n",
    "result = result.find_all('a')\n",
    "\n",
    "\n",
    "for i in result:\n",
    "  print(i.text)\n"
   ]
  },
  {
   "cell_type": "code",
   "execution_count": null,
   "metadata": {
    "colab": {
     "base_uri": "https://localhost:8080/",
     "height": 136
    },
    "colab_type": "code",
    "executionInfo": {
     "elapsed": 1597,
     "status": "error",
     "timestamp": 1583226551924,
     "user": {
      "displayName": "이지은",
      "photoUrl": "",
      "userId": "11110360646913580225"
     },
     "user_tz": -540
    },
    "id": "Yu6VgRGkg040",
    "outputId": "52878890-39ef-46a2-b19b-fd9c42e6910d"
   },
   "outputs": [
    {
     "ename": "SyntaxError",
     "evalue": "ignored",
     "output_type": "error",
     "traceback": [
      "\u001b[0;36m  File \u001b[0;32m\"<ipython-input-22-62115be1d202>\"\u001b[0;36m, line \u001b[0;32m11\u001b[0m\n\u001b[0;31m    for i in result:\u001b[0m\n\u001b[0m                   ^\u001b[0m\n\u001b[0;31mSyntaxError\u001b[0m\u001b[0;31m:\u001b[0m invalid syntax\n"
     ]
    }
   ],
   "source": [
    "from bs4 import BeautifulSoup\n",
    "import requests\n",
    "\n",
    "url = \"https://store.naver.com/hairshops/detail?id=1377606557&tab=bookingReview#_tab\"\n",
    "result = requests.get(url)\n",
    "tem = result.text\n",
    "soup = BeautifulSoup(tem, 'html.parser') \n",
    "\n",
    "result = soup.find_all('ul',{'class':'list_booking_review'}\n",
    "\n",
    "for i in result:\n",
    "  print(i.text)\n",
    "\n"
   ]
  },
  {
   "cell_type": "code",
   "execution_count": null,
   "metadata": {
    "colab": {
     "base_uri": "https://localhost:8080/",
     "height": 325
    },
    "colab_type": "code",
    "executionInfo": {
     "elapsed": 2304,
     "status": "ok",
     "timestamp": 1583225793751,
     "user": {
      "displayName": "이지은",
      "photoUrl": "",
      "userId": "11110360646913580225"
     },
     "user_tz": -540
    },
    "id": "pvggjCuT2h85",
    "outputId": "f05055f8-870b-41fb-8ab9-af0af541e47f"
   },
   "outputs": [
    {
     "name": "stdout",
     "output_type": "stream",
     "text": [
      "인사말하는 이진욱 음악감독 (브라더스 까라마조프)\n",
      "이진욱 작곡가, 훈훈한 비주얼 (브라더스 까라마조프)\n",
      "간담회 참석한 오세혁 연출-이진욱 작곡가 (브라더스 까라마조프)\n",
      "\n",
      "보내기\n",
      "네이버뉴스\n",
      "이진욱, 봄 느낌 물씬…로맨틱 패션 화보\n",
      "[화보IS] 이진욱, 봄을 부르는 로맨틱 무드 화보\n",
      "남성복 에디션 센서빌리티, 배우 이진욱 봄 화보 공개\n",
      "\n",
      "보내기\n",
      "네이버뉴스\n",
      "5000만원으로 만든 BB크림, 2조에 판다...닥터자르트 이진욱 대표\n",
      "'BB크림의 남자' 이진욱 2조 잭팟…\"난 남들 안하는 것 한다\"\n",
      "네이버뉴스\n",
      "네이버뉴스\n",
      "남성복 에디션 센서빌리티, 배우 이진욱 봄 화보 공개\n"
     ]
    }
   ],
   "source": [
    "#이진욱 기사 제목 가져오기\n",
    "url = 'https://search.naver.com/search.naver?sm=tab_hty.top&where=news&query=%EC%9D%B4%EC%A7%84%EC%9A%B1&oquery=%EB%84%A4%EC%9D%B4%EB%B2%84%EC%9B%B9%ED%88%B0&tqi=UltG%2Fsp0JXossb9ehC4ssssss7V-294452'\n",
    "result = requests.get(url)\n",
    "tem = result.text\n",
    "soup = BeautifulSoup(tem, 'html.parser') \n",
    "result = soup.find('ul',{'class':'type01'})\n",
    "result = result.find_all('a')\n",
    "for i in result[1::3]:   #3개씩 건너띄기\n",
    "  print(i.text)"
   ]
  },
  {
   "cell_type": "code",
   "execution_count": null,
   "metadata": {
    "colab": {
     "base_uri": "https://localhost:8080/",
     "height": 297
    },
    "colab_type": "code",
    "executionInfo": {
     "elapsed": 3253,
     "status": "ok",
     "timestamp": 1577090865578,
     "user": {
      "displayName": "이지은",
      "photoUrl": "",
      "userId": "11110360646913580225"
     },
     "user_tz": -540
    },
    "id": "UvEkwMBm7qYB",
    "outputId": "c4e76207-c939-4129-b112-7439f6ee325b"
   },
   "outputs": [
    {
     "name": "stdout",
     "output_type": "stream",
     "text": [
      "'40살' 코앞에 뒀는데 여전히 20대 비주얼 뽐내는 '81년생' 남배우 6인\n",
      "이진욱X이시영X송강, 이응복 감독 차기작 넷플릭스 '스위트홈' 출연\n",
      "인하대병원, 조지아 Aversi클리닉과 업무협약 체결\n",
      "인하대병원, 조지아 Aversi클리닉과 업무협약 체결\n",
      "넷플릭스, 이응복 PD 연출 '스위트홈' 제작…송강·이진욱 출연\n",
      "`태후` 이응복 감독 신작 스위트홈… 이진욱X이시영 케미 기대되네\n",
      "미스터 션샤인의 이응복 감독이 넷플릭스 오리지널 시리즈로~? '스위트홈'\n",
      "5000만원으로 만든 BB크림, 2조에 판다...닥터자르트 이진욱 대표\n",
      "이도현, 넷플릭스 '스위트홈' 주인공 낙점…이진욱과 호흡\n",
      "스튜디오N, 넷플릭스 오리지널 시리즈 ‘스위트홈’ 공동제작\n",
      "[S포토] 이진욱, '잘생긴 미소'\n",
      "에스티로더가 '픽' 닥터자르트…'2조 기업' 일군 이진욱 대표\n",
      "[영상] ‘가슴 따뜻해지는’ 이나영-정해인-박서준-이진욱의 발열내의 전달소감\n",
      "[사진] 이진욱 '남성미 넘치는 외모'\n",
      "미소에 빠져든다 배우 ‘이진욱’\n"
     ]
    }
   ],
   "source": [
    "#모바일 이진욱 기사 제목 가져오기\n",
    "url = 'https://m.search.naver.com/search.naver?where=m_news&sm=mtb_jum&query=%EC%9D%B4%EC%A7%84%EC%9A%B1'\n",
    "result = requests.get(url)\n",
    "tem = result.text\n",
    "soup = BeautifulSoup(tem, 'html.parser') \n",
    "result = soup.find_all('div',{'api_txt_lines tit'})\n",
    "for i in result:\n",
    "  print(i.text)"
   ]
  },
  {
   "cell_type": "markdown",
   "metadata": {
    "colab_type": "text",
    "id": "q6dqwn6Biq8s"
   },
   "source": [
    "프론트엔드 - 껍데기 (html, javascript, css)\n",
    "\n",
    "백엔드 - 서버, DB\n",
    "\n",
    "풀스택 개발자 - 프론트, 백\n",
    "\n",
    "html\n",
    "<div class = \"u_skip\">\n",
    "div => 태그\n",
    "class, id,.... = 명칭 달아줌\n",
    "\n",
    "\n",
    "크롤링 => 규칙 찾기 =  = 공통된 원하는 태그 형식 가져오기\n",
    "\n"
   ]
  },
  {
   "cell_type": "code",
   "execution_count": null,
   "metadata": {
    "colab": {
     "base_uri": "https://localhost:8080/",
     "height": 241
    },
    "colab_type": "code",
    "executionInfo": {
     "elapsed": 3867,
     "status": "ok",
     "timestamp": 1579595193805,
     "user": {
      "displayName": "이지은",
      "photoUrl": "",
      "userId": "11110360646913580225"
     },
     "user_tz": -540
    },
    "id": "ma20A5JAHYxv",
    "outputId": "d5451b1e-6f90-4c85-daf7-7b19597b071d"
   },
   "outputs": [
    {
     "name": "stdout",
     "output_type": "stream",
     "text": [
      "미국 USD 1,168.00\n",
      "일본 JPY(100엔) 1,061.96\n",
      "유럽연합 EUR 1,295.55\n",
      "중국 CNY 169.05\n",
      "일본 엔/달러 110.1700\n",
      "달러/유로 1.1082\n",
      "달러/영국파운드 1.2996\n",
      "달러인덱스 97.3500\n",
      "달러 58.54\n",
      "원 1571.13\n",
      "달러 1558.8\n",
      "원 58667.69\n"
     ]
    }
   ],
   "source": [
    "import requests\n",
    "from bs4 import BeautifulSoup\n",
    "\n",
    "res = requests.get('https://finance.naver.com/marketindex/')\n",
    "res = res.text\n",
    "res = BeautifulSoup(res, 'html.parser')\n",
    "\n",
    "name = []\n",
    "value = []\n",
    "\n",
    "lst=res.find_all('span',{'class':'blind'})\n",
    "for i in (lst[::3]):\n",
    "  name.append(i.text)\n",
    "\n",
    "a = res.find_all('span',{'class':'value'})\n",
    "for i in a:\n",
    "  value.append(i.text)\n",
    "\n",
    "for i in range(len(value)):\n",
    "    print(name[i],value[i])\n",
    "    "
   ]
  }
 ],
 "metadata": {
  "colab": {
   "collapsed_sections": [],
   "name": "크롤링.ipynb",
   "provenance": []
  },
  "kernelspec": {
   "display_name": "Python 3",
   "language": "python",
   "name": "python3"
  },
  "language_info": {
   "codemirror_mode": {
    "name": "ipython",
    "version": 3
   },
   "file_extension": ".py",
   "mimetype": "text/x-python",
   "name": "python",
   "nbconvert_exporter": "python",
   "pygments_lexer": "ipython3",
   "version": "3.7.6"
  }
 },
 "nbformat": 4,
 "nbformat_minor": 4
}
