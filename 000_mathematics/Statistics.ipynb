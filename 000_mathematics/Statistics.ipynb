{
 "cells": [
  {
   "cell_type": "markdown",
   "metadata": {},
   "source": [
    "# Basic of probability theory - 확률론 기초"
   ]
  },
  {
   "cell_type": "markdown",
   "metadata": {},
   "source": [
    "## 1. Probability and Counting - 확률과 셈 원리"
   ]
  },
  {
   "cell_type": "markdown",
   "metadata": {},
   "source": [
    "<hr>\n",
    "\n",
    "- Sample space - 표본공간 : 표본공간은 어떤 실험에서 `발생 가능한 모든 경우의 집합`을 의미한다. 여기서 실험이란 무엇이든 될 수 있다. `모든 원인에는 가능한 특정한 결과`가 있다. 하지만 실험을 하기 전엔 어떤 결과가 발생할지 알 수 없다. 그리고 실험을 진행하면 특정한 결과가 발생한다. 즉, `표본공간은 어떠한 상황도 표현할 수 있는것`이다. 따라서 표본공간은 실험에 대한 `발생 가능한 모든 결과의 집합`이다."
   ]
  },
  {
   "cell_type": "markdown",
   "metadata": {},
   "source": [
    "<hr>\n",
    "\n",
    "- Event - 사건 : 사건은 `표본공간의 부분 집합`을 의미한다."
   ]
  },
  {
   "cell_type": "markdown",
   "metadata": {},
   "source": [
    "<hr>\n",
    "\n",
    "- Naive definition of probability - 확률의 단순한 정의 :\n",
    "$$사건\\ A가\\ 발생할\\ 확률 = P(A) = \\frac{사건\\ A가\\ 발생하는\\ 경우의\\ 수}{발생\\ 가능한\\ 모든\\ 경우의\\ 수 = 표본공간의\\ 크기}\\frac{}{}$$\n",
    "- 내포하고 있는 가정\n",
    "    - 표본공간에서 발생하는 모든 경우의 수가 같은 확률로 나온다.\n",
    "    - 유한한 표본공간. 즉, 표본공간에서 발생하는 모든 경우의 수는 유한하다.<br>\n",
    "(i.e.) 표본공간에서 발생 가능한 모든 경우. 즉, 실험의 결과는 어떠한 실수 또는 정수가 될 수 있다.<br>\n",
    "그런데 만약 분모(발생 가능한 모든 경우의 수)가 무한대가 된다면 분자(사건 A가 발생하는 경우의 수)는 의미가 없게 된다.<br>\n",
    "따라서 이것을 적용하기 위해 분모가 유한한 값을 가져야 한다.\n",
    "    - 첫 번째 가정에서의 \"표본공간에서 발생하는 모든 경우의 수가 같은 확률로 나온다.\"는 매우 엄격한 가정이다.<br>\n",
    "항상 이 가정이 만족되는 것이 아니기 때문에 적용 불가한 경우들이 존재한다."
   ]
  },
  {
   "cell_type": "markdown",
   "metadata": {},
   "source": [
    "<hr>\n",
    "\n",
    "- Counting Principle - 셈 원리\n",
    "    - Multiplication Rule - 곱의 법칙 : 발생 가능한 경우의 수가 $n_1, n_2, ..., n_r$가지인 1, 2, ..., r번의 시행에서 발생 가능한 모든 경우의 수는 $n_1\\times n_2\\times ...\\times n_r$이다.\n",
    "    - (e.g.) 예를 들어 어떤 아이스크림 가게에서는 두가지 종류의 콘과 3가지 종류의 맛을 판매하고 있다면<br>\n",
    "소비자의 선택은 두가지 콘 중 하나와 그에 따라서 세 가지 맛 중에 하나를 골라야 할 것이다.<br>\n",
    "그렇다면 소비자가 구입할 수 있는 아이스크림 종류의 수는 6가지가 된다.\n",
    "$$ice\\ cream\\ shop\\begin{cases}cake\\ corn & \\begin{cases}chocolate \\\\ vanilla \\\\ strawberry \\end{cases} \\\\ \n",
    "waffle\\ corn & \\begin{cases}chocolate \\\\ vanilla \\\\ strawberry \\end{cases} \\end{cases}$$"
   ]
  },
  {
   "cell_type": "markdown",
   "metadata": {},
   "source": [
    "<hr>\n",
    "\n",
    "- Binomial Coefficient - 이항계수 : $\\binom{n}{k} = \\frac{n!}{(n-k)!k!}$ 크기 n의 집합에서 만들 수 있는 크기 k인 부분집합의 수(순서 관계 없이)<br>\n",
    "(i.e.) n명의 사람이 있을 때 그 중 k명을 선택하는 경우의 수, k가 n보다 큰 경우는 0이라 정의한다. (e.g.) 10명의 사람들 중에서 11명을 선택하는 것은 불가능하기 때문이다.\n",
    "<hr>\n",
    "\n",
    "- 표본추출 표(Sampling Table) : n개 중에서 k개 뽑기\n",
    "\n",
    "||순서 상관 있음|순서 상관 없음|\n",
    "|-:|:--:|:--:|\n",
    "|복원| $n^k$ | $\\binom{n + k - 1}{k}$ |\n",
    "|비복원| $n\\times (n - 1)\\times\\dots\\times (n - k + 1)$ | $\\binom{n}{k}$ |"
   ]
  },
  {
   "cell_type": "code",
   "execution_count": null,
   "metadata": {},
   "outputs": [],
   "source": []
  }
 ],
 "metadata": {
  "interpreter": {
   "hash": "38cc0cca68228d4d18227abe74ed813685db17db46984279e4aabdddebf5f1ba"
  },
  "kernelspec": {
   "display_name": "Python 3.7.9 64-bit ('base': conda)",
   "language": "python",
   "name": "python3"
  },
  "language_info": {
   "codemirror_mode": {
    "name": "ipython",
    "version": 3
   },
   "file_extension": ".py",
   "mimetype": "text/x-python",
   "name": "python",
   "nbconvert_exporter": "python",
   "pygments_lexer": "ipython3",
   "version": "3.7.9"
  },
  "orig_nbformat": 4
 },
 "nbformat": 4,
 "nbformat_minor": 2
}
