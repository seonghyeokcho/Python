{
 "metadata": {
  "language_info": {
   "codemirror_mode": {
    "name": "ipython",
    "version": 3
   },
   "file_extension": ".py",
   "mimetype": "text/x-python",
   "name": "python",
   "nbconvert_exporter": "python",
   "pygments_lexer": "ipython3",
   "version": "3.7.6-final"
  },
  "orig_nbformat": 2,
  "kernelspec": {
   "name": "python_defaultSpec_1598983744789",
   "display_name": "Python 3.7.6 64-bit ('base': conda)"
  }
 },
 "nbformat": 4,
 "nbformat_minor": 2,
 "cells": [
  {
   "cell_type": "code",
   "execution_count": 2,
   "metadata": {
    "tags": []
   },
   "outputs": [
    {
     "output_type": "stream",
     "name": "stdout",
     "text": "50 50 0\n0 {'pos_x': 50, 'pos_y': 50, 'img_idx': 0, 'to_x': 3, 'to_y': -6, 'init_spe_y': -18}\n"
    }
   ],
   "source": [
    "ball_speed_y = [-18, -15, -12, -9]\n",
    "\n",
    "balls = []\n",
    "balls.append({\n",
    "    \"pos_x\" : 50,  # 공의 x 좌표\n",
    "    \"pos_y\" : 50,  # 공의 y 좌표\n",
    "    \"img_idx\" : 0,  # 공의 이미지 인덱스\n",
    "    \"to_x\" : 3,  # 공의 x축 이동 방향, -3 이면 왼쪽으로, 3 이면 오른쪽으로\n",
    "    \"to_y\" : -6,  # 공의 y축 이동 방향\n",
    "    \"init_spe_y\" : ball_speed_y[0]  # y 최초 속도\n",
    "})\n",
    "\n",
    "for ball_idx, ball_val in enumerate(balls):\n",
    "        ball_pos_x = ball_val[\"pos_x\"]\n",
    "        ball_pos_y = ball_val[\"pos_y\"]\n",
    "        ball_img_idx = ball_val[\"img_idx\"]\n",
    "\n",
    "        print(ball_pos_x, ball_pos_y, ball_img_idx)\n",
    "        print(ball_idx, ball_val)"
   ]
  },
  {
   "cell_type": "code",
   "execution_count": 18,
   "metadata": {},
   "outputs": [
    {
     "output_type": "execute_result",
     "data": {
      "text/plain": "'999'"
     },
     "metadata": {},
     "execution_count": 18
    }
   ],
   "source": [
    "score = ['9','9','9']\n",
    "score[0]+score[1]+score[2]"
   ]
  },
  {
   "cell_type": "code",
   "execution_count": 15,
   "metadata": {},
   "outputs": [
    {
     "output_type": "execute_result",
     "data": {
      "text/plain": "['0', '0', '10']"
     },
     "metadata": {},
     "execution_count": 15
    }
   ],
   "source": [
    "score[2] = str(int(score[2]) + 1)\n",
    "score"
   ]
  },
  {
   "cell_type": "code",
   "execution_count": 19,
   "metadata": {},
   "outputs": [
    {
     "output_type": "execute_result",
     "data": {
      "text/plain": "999"
     },
     "metadata": {},
     "execution_count": 19
    }
   ],
   "source": [
    "int(score[0]+score[1]+score[2])"
   ]
  },
  {
   "cell_type": "code",
   "execution_count": null,
   "metadata": {},
   "outputs": [],
   "source": []
  }
 ]
}