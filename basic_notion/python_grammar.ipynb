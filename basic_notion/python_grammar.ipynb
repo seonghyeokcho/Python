{
 "cells": [
  {
   "cell_type": "markdown",
   "metadata": {},
   "source": [
    "### 자기관찰"
   ]
  },
  {
   "cell_type": "code",
   "execution_count": null,
   "metadata": {
    "tags": []
   },
   "outputs": [
    {
     "name": "stdout",
     "output_type": "stream",
     "text": [
      "\u001b[0;31mType:\u001b[0m        list\n",
      "\u001b[0;31mString form:\u001b[0m [1, 2, 3, 4]\n",
      "\u001b[0;31mLength:\u001b[0m      4\n",
      "\u001b[0;31mDocstring:\u001b[0m  \n",
      "Built-in mutable sequence.\n",
      "\n",
      "If no argument is given, the constructor creates a new empty list.\n",
      "The argument must be an iterable if specified.\n"
     ]
    }
   ],
   "source": [
    "# 변수 이름 앞이나 뒤에 ? 기호를 붙이면 그 객체에 대한 일반 정보를 출력함\n",
    "a = [1,2,3,4]\n",
    "?a"
   ]
  },
  {
   "cell_type": "code",
   "execution_count": null,
   "metadata": {},
   "outputs": [
    {
     "name": "stdout",
     "output_type": "stream",
     "text": [
      "\u001b[0;31mType:\u001b[0m        list\n",
      "\u001b[0;31mString form:\u001b[0m [1, 2, 3, 4]\n",
      "\u001b[0;31mLength:\u001b[0m      4\n",
      "\u001b[0;31mDocstring:\u001b[0m  \n",
      "Built-in mutable sequence.\n",
      "\n",
      "If no argument is given, the constructor creates a new empty list.\n",
      "The argument must be an iterable if specified.\n"
     ]
    }
   ],
   "source": [
    "a?"
   ]
  },
  {
   "cell_type": "code",
   "execution_count": null,
   "metadata": {},
   "outputs": [
    {
     "name": "stdout",
     "output_type": "stream",
     "text": [
      "\u001b[0;31mSignature:\u001b[0m \u001b[0madd_number\u001b[0m\u001b[0;34m(\u001b[0m\u001b[0ma\u001b[0m\u001b[0;34m,\u001b[0m \u001b[0mb\u001b[0m\u001b[0;34m)\u001b[0m\u001b[0;34m\u001b[0m\u001b[0;34m\u001b[0m\u001b[0m\n",
      "\u001b[0;31mDocstring:\u001b[0m Add numbers together\n",
      "\u001b[0;31mFile:\u001b[0m      ~/jupytercreation/Python_Practice/<ipython-input-16-a4038b607d68>\n",
      "\u001b[0;31mType:\u001b[0m      function\n"
     ]
    }
   ],
   "source": [
    "# 만약 객체가 함수이거나 인스턴스 메서드라면 정의되어 있는 문서를 출력함\n",
    "def add_number(a,b):\n",
    "    \"\"\"\n",
    "    Add numbers together\n",
    "    \"\"\"\n",
    "    return a+b\n",
    "\n",
    "add_number?\n",
    "#?add_number"
   ]
  },
  {
   "cell_type": "code",
   "execution_count": null,
   "metadata": {},
   "outputs": [
    {
     "name": "stdout",
     "output_type": "stream",
     "text": [
      "\u001b[0;31mSignature:\u001b[0m \u001b[0madd_number\u001b[0m\u001b[0;34m(\u001b[0m\u001b[0ma\u001b[0m\u001b[0;34m,\u001b[0m \u001b[0mb\u001b[0m\u001b[0;34m)\u001b[0m\u001b[0;34m\u001b[0m\u001b[0;34m\u001b[0m\u001b[0m\n",
      "\u001b[0;31mSource:\u001b[0m   \n",
      "\u001b[0;32mdef\u001b[0m \u001b[0madd_number\u001b[0m\u001b[0;34m(\u001b[0m\u001b[0ma\u001b[0m\u001b[0;34m,\u001b[0m\u001b[0mb\u001b[0m\u001b[0;34m)\u001b[0m\u001b[0;34m:\u001b[0m\u001b[0;34m\u001b[0m\n",
      "\u001b[0;34m\u001b[0m    \u001b[0;34m\"\"\"\u001b[0m\n",
      "\u001b[0;34m    Add numbers together\u001b[0m\n",
      "\u001b[0;34m    \"\"\"\u001b[0m\u001b[0;34m\u001b[0m\n",
      "\u001b[0;34m\u001b[0m    \u001b[0;32mreturn\u001b[0m \u001b[0ma\u001b[0m\u001b[0;34m+\u001b[0m\u001b[0mb\u001b[0m\u001b[0;34m\u001b[0m\u001b[0;34m\u001b[0m\u001b[0m\n",
      "\u001b[0;31mFile:\u001b[0m      ~/jupytercreation/Python_Practice/<ipython-input-6-95c94314cc5c>\n",
      "\u001b[0;31mType:\u001b[0m      function\n"
     ]
    }
   ],
   "source": [
    "## ?? 를 사용하면 가능한 경우 함수의 소스 코드도 보여준다.\n",
    "add_number??\n",
    "#??add_number"
   ]
  },
  {
   "cell_type": "code",
   "execution_count": null,
   "metadata": {},
   "outputs": [
    {
     "name": "stdout",
     "output_type": "stream",
     "text": [
      "np.__loader__\n",
      "np.load\n",
      "np.loads\n",
      "np.loadtxt"
     ]
    }
   ],
   "source": [
    "import numpy as np\n",
    "np.*load*?"
   ]
  },
  {
   "cell_type": "markdown",
   "metadata": {},
   "source": [
    "## 자주 사용하는 IPython 매직 명령어\n",
    "\n",
    "- %quickref - IPython의 빠른 도움말 표시\n",
    "- %magic - 모든 매직함수에 대한 상세 도움말 출력\n",
    "- %debug - 최근 예외 트레이스백의 하단에서 대화형 디버거로 진입\n",
    "- %hist - 명령어 입력(그리고 선택적 출력) 히스토리 출력\n",
    "- %pdb - 예외가 발생하면 자동으로 디버거로 진입\n",
    "- %paste - 클립보드에서 들여쓰기 된 채로 파이썬 코드 가져오기\n",
    "- %cpaste - 실행할 파이썬 코드를 수동으로 붗여 넣을 수 있는 프롬프트 표시\n",
    "- %reset - 대화형 네임스페이스에 정의된 모든 변수와 이름을 삭제\n",
    "- %page OBJECT - 객체를 pager를 통해 보기 좋게 출력\n",
    "- %run FILEDIRECT/FILENAME - IPython 내에서 파이썬 스크립트 실행\n",
    "- %prun VARIABLE - cProfile을 이용하여 지정된 변수를 실행하고 프로파일 결과를 출력\n",
    "- %time VARIABLE - 해당 변수의 단일 실행 시간을 출력\n",
    "- %timeit VARIABLE - 해당 변수를 여러 차례 실행한 후 평균 실행 시간을 출력. 매우 짧은 시간안에 끝나는 코드의 시간을 측정할 때 유용하다.\n",
    "- %who, %who_ls, %whos - 대화형 네임스페이스 내에 정의된 변수를 다양한 방법으로 표시\n",
    "- %xdel VARIABLE - 변수를 삭제하고 IPython 내부적으로 해당 객체에 대한 모든 참조를 제거\n"
   ]
  },
  {
   "cell_type": "code",
   "execution_count": null,
   "metadata": {
    "tags": []
   },
   "outputs": [
    {
     "name": "stdout",
     "output_type": "stream",
     "text": [
      "[1, 2, 3, 4]"
     ]
    }
   ],
   "source": [
    "%page a"
   ]
  },
  {
   "cell_type": "code",
   "execution_count": null,
   "metadata": {
    "tags": []
   },
   "outputs": [
    {
     "name": "stdout",
     "output_type": "stream",
     "text": [
      "CPU times: user 2 µs, sys: 1 µs, total: 3 µs\n",
      "Wall time: 4.77 µs\n"
     ]
    },
    {
     "data": {
      "text/plain": [
       "<function __main__.add_number(a, b)>"
      ]
     },
     "metadata": {},
     "output_type": "display_data"
    }
   ],
   "source": [
    "%time add_number"
   ]
  },
  {
   "cell_type": "code",
   "execution_count": null,
   "metadata": {
    "tags": []
   },
   "outputs": [
    {
     "name": "stdout",
     "output_type": "stream",
     "text": [
      "17 ns ± 0.0414 ns per loop (mean ± std. dev. of 7 runs, 100000000 loops each)\n"
     ]
    }
   ],
   "source": [
    "%timeit a"
   ]
  },
  {
   "cell_type": "code",
   "execution_count": null,
   "metadata": {
    "tags": []
   },
   "outputs": [
    {
     "name": "stdout",
     "output_type": "stream",
     "text": [
      "a\t add_number\t os\t sys\t \n"
     ]
    }
   ],
   "source": [
    "%who  # 현재까지 정의된 모든 변수를 탭(\\t)으로 구분하여 출력"
   ]
  },
  {
   "cell_type": "code",
   "execution_count": null,
   "metadata": {},
   "outputs": [
    {
     "data": {
      "text/plain": [
       "['a', 'add_number', 'os', 'sys']"
      ]
     },
     "metadata": {},
     "output_type": "display_data"
    }
   ],
   "source": [
    "%who_ls  # 현재까지 정의된 모든 변수를 리스트형으로 출력"
   ]
  },
  {
   "cell_type": "code",
   "execution_count": null,
   "metadata": {
    "tags": []
   },
   "outputs": [
    {
     "name": "stdout",
     "output_type": "stream",
     "text": [
      "Variable     Type        Data/Info\n",
      "----------------------------------\n",
      "a            list        n=4\n",
      "add_number   function    <function add_number at 0x7fa0f46c5f80>\n",
      "os           module      <module 'os' from '/opt/a<...>da3/lib/python3.7/os.py'>\n",
      "sys          module      <module 'sys' (built-in)>\n"
     ]
    }
   ],
   "source": [
    "%whos  # 현재까지 정의된 모든 변수의 이름, 타입, 데이터정보를 출력"
   ]
  },
  {
   "cell_type": "code",
   "execution_count": null,
   "metadata": {},
   "outputs": [
    {
     "data": {
      "text/plain": [
       "[1, 2, 3, 4, 5]"
      ]
     },
     "metadata": {},
     "output_type": "display_data"
    }
   ],
   "source": [
    "b = [1,2,3,4,5]\n",
    "b"
   ]
  },
  {
   "cell_type": "code",
   "execution_count": null,
   "metadata": {},
   "outputs": [],
   "source": [
    "%xdel b"
   ]
  },
  {
   "cell_type": "code",
   "execution_count": null,
   "metadata": {},
   "outputs": [
    {
     "ename": "NameError",
     "evalue": "name 'b' is not defined",
     "output_type": "error",
     "traceback": [
      "\u001b[0;31m---------------------------------------------------------------------------\u001b[0m\n",
      "\u001b[0;31mNameError\u001b[0m                                 Traceback (most recent call last)\n",
      "\u001b[0;32m<ipython-input-28-89e6c98d9288>\u001b[0m in \u001b[0;36m<module>\u001b[0;34m\u001b[0m\n",
      "\u001b[0;32m----> 1\u001b[0;31m \u001b[0mb\u001b[0m\u001b[0;34m\u001b[0m\u001b[0;34m\u001b[0m\u001b[0m\n",
      "\u001b[0m\n",
      "\u001b[0;31mNameError\u001b[0m: name 'b' is not defined"
     ]
    }
   ],
   "source": [
    "b"
   ]
  },
  {
   "cell_type": "code",
   "execution_count": null,
   "metadata": {},
   "outputs": [
    {
     "data": {
      "text/plain": [
       "[<matplotlib.lines.Line2D at 0x7fa0d9daab10>]"
      ]
     },
     "metadata": {},
     "output_type": "display_data"
    },
    {
     "data": {
      "image/png": "[encoded data removed]",
      "image/svg+xml": "<?xml version=\"1.0\" encoding=\"utf-8\" standalone=\"no\"?>\n<!DOCTYPE svg PUBLIC \"-//W3C//DTD SVG 1.1//EN\"\n  \"http://www.w3.org/Graphics/SVG/1.1/DTD/svg11.dtd\">\n<!-- Created with matplotlib (https://matplotlib.org/) -->\n<svg height=\"248.518125pt\" version=\"1.1\" viewBox=\"0 0 377.304687 248.518125\" width=\"377.304687pt\" xmlns=\"http://www.w3.org/2000/svg\" xmlns:xlink=\"http://www.w3.org/1999/xlink\">\n <defs>\n  <style type=\"text/css\">\n*{stroke-linecap:butt;stroke-linejoin:round;}\n  </style>\n </defs>\n <g id=\"figure_1\">\n  <g id=\"patch_1\">\n   <path d=\"M 0 248.518125 \nL 377.304687 248.518125 \nL 377.304687 0 \nL 0 0 \nz\n\" style=\"fill:none;\"/>\n  </g>\n  <g id=\"axes_1\">\n   <g id=\"patch_2\">\n    <path d=\"M 35.304688 224.64 \nL 370.104688 224.64 \nL 370.104688 7.2 \nL 35.304688 7.2 \nz\n\" style=\"fill:#ffffff;\"/>\n   </g>\n   <g id=\"matplotlib.axis_1\">\n    <g id=\"xtick_1\">\n     <g id=\"line2d_1\">\n      <defs>\n       <path d=\"M 0 0 \nL 0 3.5 \n\" id=\"me55d1146d2\" style=\"stroke:#000000;stroke-width:0.8;\"/>\n      </defs>\n      <g>\n       <use style=\"stroke:#000000;stroke-width:0.8;\" x=\"50.522869\" xlink:href=\"#me55d1146d2\" y=\"224.64\"/>\n      </g>\n     </g>\n     <g id=\"text_1\">\n      <!-- 0 -->\n      <defs>\n       <path d=\"M 31.78125 66.40625 \nQ 24.171875 66.40625 20.328125 58.90625 \nQ 16.5 51.421875 16.5 36.375 \nQ 16.5 21.390625 20.328125 13.890625 \nQ 24.171875 6.390625 31.78125 6.390625 \nQ 39.453125 6.390625 43.28125 13.890625 \nQ 47.125 21.390625 47.125 36.375 \nQ 47.125 51.421875 43.28125 58.90625 \nQ 39.453125 66.40625 31.78125 66.40625 \nz\nM 31.78125 74.21875 \nQ 44.046875 74.21875 50.515625 64.515625 \nQ 56.984375 54.828125 56.984375 36.375 \nQ 56.984375 17.96875 50.515625 8.265625 \nQ 44.046875 -1.421875 31.78125 -1.421875 \nQ 19.53125 -1.421875 13.0625 8.265625 \nQ 6.59375 17.96875 6.59375 36.375 \nQ 6.59375 54.828125 13.0625 64.515625 \nQ 19.53125 74.21875 31.78125 74.21875 \nz\n\" id=\"DejaVuSans-48\"/>\n      </defs>\n      <g transform=\"translate(47.341619 239.238437)scale(0.1 -0.1)\">\n       <use xlink:href=\"#DejaVuSans-48\"/>\n      </g>\n     </g>\n    </g>\n    <g id=\"xtick_2\">\n     <g id=\"line2d_2\">\n      <g>\n       <use style=\"stroke:#000000;stroke-width:0.8;\" x=\"112.637897\" xlink:href=\"#me55d1146d2\" y=\"224.64\"/>\n      </g>\n     </g>\n     <g id=\"text_2\">\n      <!-- 10 -->\n      <defs>\n       <path d=\"M 12.40625 8.296875 \nL 28.515625 8.296875 \nL 28.515625 63.921875 \nL 10.984375 60.40625 \nL 10.984375 69.390625 \nL 28.421875 72.90625 \nL 38.28125 72.90625 \nL 38.28125 8.296875 \nL 54.390625 8.296875 \nL 54.390625 0 \nL 12.40625 0 \nz\n\" id=\"DejaVuSans-49\"/>\n      </defs>\n      <g transform=\"translate(106.275397 239.238437)scale(0.1 -0.1)\">\n       <use xlink:href=\"#DejaVuSans-49\"/>\n       <use x=\"63.623047\" xlink:href=\"#DejaVuSans-48\"/>\n      </g>\n     </g>\n    </g>\n    <g id=\"xtick_3\">\n     <g id=\"line2d_3\">\n      <g>\n       <use style=\"stroke:#000000;stroke-width:0.8;\" x=\"174.752925\" xlink:href=\"#me55d1146d2\" y=\"224.64\"/>\n      </g>\n     </g>\n     <g id=\"text_3\">\n      <!-- 20 -->\n      <defs>\n       <path d=\"M 19.1875 8.296875 \nL 53.609375 8.296875 \nL 53.609375 0 \nL 7.328125 0 \nL 7.328125 8.296875 \nQ 12.9375 14.109375 22.625 23.890625 \nQ 32.328125 33.6875 34.8125 36.53125 \nQ 39.546875 41.84375 41.421875 45.53125 \nQ 43.3125 49.21875 43.3125 52.78125 \nQ 43.3125 58.59375 39.234375 62.25 \nQ 35.15625 65.921875 28.609375 65.921875 \nQ 23.96875 65.921875 18.8125 64.3125 \nQ 13.671875 62.703125 7.8125 59.421875 \nL 7.8125 69.390625 \nQ 13.765625 71.78125 18.9375 73 \nQ 24.125 74.21875 28.421875 74.21875 \nQ 39.75 74.21875 46.484375 68.546875 \nQ 53.21875 62.890625 53.21875 53.421875 \nQ 53.21875 48.921875 51.53125 44.890625 \nQ 49.859375 40.875 45.40625 35.40625 \nQ 44.1875 33.984375 37.640625 27.21875 \nQ 31.109375 20.453125 19.1875 8.296875 \nz\n\" id=\"DejaVuSans-50\"/>\n      </defs>\n      <g transform=\"translate(168.390425 239.238437)scale(0.1 -0.1)\">\n       <use xlink:href=\"#DejaVuSans-50\"/>\n       <use x=\"63.623047\" xlink:href=\"#DejaVuSans-48\"/>\n      </g>\n     </g>\n    </g>\n    <g id=\"xtick_4\">\n     <g id=\"line2d_4\">\n      <g>\n       <use style=\"stroke:#000000;stroke-width:0.8;\" x=\"236.867953\" xlink:href=\"#me55d1146d2\" y=\"224.64\"/>\n      </g>\n     </g>\n     <g id=\"text_4\">\n      <!-- 30 -->\n      <defs>\n       <path d=\"M 40.578125 39.3125 \nQ 47.65625 37.796875 51.625 33 \nQ 55.609375 28.21875 55.609375 21.1875 \nQ 55.609375 10.40625 48.1875 4.484375 \nQ 40.765625 -1.421875 27.09375 -1.421875 \nQ 22.515625 -1.421875 17.65625 -0.515625 \nQ 12.796875 0.390625 7.625 2.203125 \nL 7.625 11.71875 \nQ 11.71875 9.328125 16.59375 8.109375 \nQ 21.484375 6.890625 26.8125 6.890625 \nQ 36.078125 6.890625 40.9375 10.546875 \nQ 45.796875 14.203125 45.796875 21.1875 \nQ 45.796875 27.640625 41.28125 31.265625 \nQ 36.765625 34.90625 28.71875 34.90625 \nL 20.21875 34.90625 \nL 20.21875 43.015625 \nL 29.109375 43.015625 \nQ 36.375 43.015625 40.234375 45.921875 \nQ 44.09375 48.828125 44.09375 54.296875 \nQ 44.09375 59.90625 40.109375 62.90625 \nQ 36.140625 65.921875 28.71875 65.921875 \nQ 24.65625 65.921875 20.015625 65.03125 \nQ 15.375 64.15625 9.8125 62.3125 \nL 9.8125 71.09375 \nQ 15.4375 72.65625 20.34375 73.4375 \nQ 25.25 74.21875 29.59375 74.21875 \nQ 40.828125 74.21875 47.359375 69.109375 \nQ 53.90625 64.015625 53.90625 55.328125 \nQ 53.90625 49.265625 50.4375 45.09375 \nQ 46.96875 40.921875 40.578125 39.3125 \nz\n\" id=\"DejaVuSans-51\"/>\n      </defs>\n      <g transform=\"translate(230.505453 239.238437)scale(0.1 -0.1)\">\n       <use xlink:href=\"#DejaVuSans-51\"/>\n       <use x=\"63.623047\" xlink:href=\"#DejaVuSans-48\"/>\n      </g>\n     </g>\n    </g>\n    <g id=\"xtick_5\">\n     <g id=\"line2d_5\">\n      <g>\n       <use style=\"stroke:#000000;stroke-width:0.8;\" x=\"298.982981\" xlink:href=\"#me55d1146d2\" y=\"224.64\"/>\n      </g>\n     </g>\n     <g id=\"text_5\">\n      <!-- 40 -->\n      <defs>\n       <path d=\"M 37.796875 64.3125 \nL 12.890625 25.390625 \nL 37.796875 25.390625 \nz\nM 35.203125 72.90625 \nL 47.609375 72.90625 \nL 47.609375 25.390625 \nL 58.015625 25.390625 \nL 58.015625 17.1875 \nL 47.609375 17.1875 \nL 47.609375 0 \nL 37.796875 0 \nL 37.796875 17.1875 \nL 4.890625 17.1875 \nL 4.890625 26.703125 \nz\n\" id=\"DejaVuSans-52\"/>\n      </defs>\n      <g transform=\"translate(292.620481 239.238437)scale(0.1 -0.1)\">\n       <use xlink:href=\"#DejaVuSans-52\"/>\n       <use x=\"63.623047\" xlink:href=\"#DejaVuSans-48\"/>\n      </g>\n     </g>\n    </g>\n    <g id=\"xtick_6\">\n     <g id=\"line2d_6\">\n      <g>\n       <use style=\"stroke:#000000;stroke-width:0.8;\" x=\"361.098008\" xlink:href=\"#me55d1146d2\" y=\"224.64\"/>\n      </g>\n     </g>\n     <g id=\"text_6\">\n      <!-- 50 -->\n      <defs>\n       <path d=\"M 10.796875 72.90625 \nL 49.515625 72.90625 \nL 49.515625 64.59375 \nL 19.828125 64.59375 \nL 19.828125 46.734375 \nQ 21.96875 47.46875 24.109375 47.828125 \nQ 26.265625 48.1875 28.421875 48.1875 \nQ 40.625 48.1875 47.75 41.5 \nQ 54.890625 34.8125 54.890625 23.390625 \nQ 54.890625 11.625 47.5625 5.09375 \nQ 40.234375 -1.421875 26.90625 -1.421875 \nQ 22.3125 -1.421875 17.546875 -0.640625 \nQ 12.796875 0.140625 7.71875 1.703125 \nL 7.71875 11.625 \nQ 12.109375 9.234375 16.796875 8.0625 \nQ 21.484375 6.890625 26.703125 6.890625 \nQ 35.15625 6.890625 40.078125 11.328125 \nQ 45.015625 15.765625 45.015625 23.390625 \nQ 45.015625 31 40.078125 35.4375 \nQ 35.15625 39.890625 26.703125 39.890625 \nQ 22.75 39.890625 18.8125 39.015625 \nQ 14.890625 38.140625 10.796875 36.28125 \nz\n\" id=\"DejaVuSans-53\"/>\n      </defs>\n      <g transform=\"translate(354.735508 239.238437)scale(0.1 -0.1)\">\n       <use xlink:href=\"#DejaVuSans-53\"/>\n       <use x=\"63.623047\" xlink:href=\"#DejaVuSans-48\"/>\n      </g>\n     </g>\n    </g>\n   </g>\n   <g id=\"matplotlib.axis_2\">\n    <g id=\"ytick_1\">\n     <g id=\"line2d_7\">\n      <defs>\n       <path d=\"M 0 0 \nL -3.5 0 \n\" id=\"m0fa31d6ee1\" style=\"stroke:#000000;stroke-width:0.8;\"/>\n      </defs>\n      <g>\n       <use style=\"stroke:#000000;stroke-width:0.8;\" x=\"35.304688\" xlink:href=\"#m0fa31d6ee1\" y=\"219.235492\"/>\n      </g>\n     </g>\n     <g id=\"text_7\">\n      <!-- −10 -->\n      <defs>\n       <path d=\"M 10.59375 35.5 \nL 73.1875 35.5 \nL 73.1875 27.203125 \nL 10.59375 27.203125 \nz\n\" id=\"DejaVuSans-8722\"/>\n      </defs>\n      <g transform=\"translate(7.2 223.03471)scale(0.1 -0.1)\">\n       <use xlink:href=\"#DejaVuSans-8722\"/>\n       <use x=\"83.789062\" xlink:href=\"#DejaVuSans-49\"/>\n       <use x=\"147.412109\" xlink:href=\"#DejaVuSans-48\"/>\n      </g>\n     </g>\n    </g>\n    <g id=\"ytick_2\">\n     <g id=\"line2d_8\">\n      <g>\n       <use style=\"stroke:#000000;stroke-width:0.8;\" x=\"35.304688\" xlink:href=\"#m0fa31d6ee1\" y=\"179.811433\"/>\n      </g>\n     </g>\n     <g id=\"text_8\">\n      <!-- −8 -->\n      <defs>\n       <path d=\"M 31.78125 34.625 \nQ 24.75 34.625 20.71875 30.859375 \nQ 16.703125 27.09375 16.703125 20.515625 \nQ 16.703125 13.921875 20.71875 10.15625 \nQ 24.75 6.390625 31.78125 6.390625 \nQ 38.8125 6.390625 42.859375 10.171875 \nQ 46.921875 13.96875 46.921875 20.515625 \nQ 46.921875 27.09375 42.890625 30.859375 \nQ 38.875 34.625 31.78125 34.625 \nz\nM 21.921875 38.8125 \nQ 15.578125 40.375 12.03125 44.71875 \nQ 8.5 49.078125 8.5 55.328125 \nQ 8.5 64.0625 14.71875 69.140625 \nQ 20.953125 74.21875 31.78125 74.21875 \nQ 42.671875 74.21875 48.875 69.140625 \nQ 55.078125 64.0625 55.078125 55.328125 \nQ 55.078125 49.078125 51.53125 44.71875 \nQ 48 40.375 41.703125 38.8125 \nQ 48.828125 37.15625 52.796875 32.3125 \nQ 56.78125 27.484375 56.78125 20.515625 \nQ 56.78125 9.90625 50.3125 4.234375 \nQ 43.84375 -1.421875 31.78125 -1.421875 \nQ 19.734375 -1.421875 13.25 4.234375 \nQ 6.78125 9.90625 6.78125 20.515625 \nQ 6.78125 27.484375 10.78125 32.3125 \nQ 14.796875 37.15625 21.921875 38.8125 \nz\nM 18.3125 54.390625 \nQ 18.3125 48.734375 21.84375 45.5625 \nQ 25.390625 42.390625 31.78125 42.390625 \nQ 38.140625 42.390625 41.71875 45.5625 \nQ 45.3125 48.734375 45.3125 54.390625 \nQ 45.3125 60.0625 41.71875 63.234375 \nQ 38.140625 66.40625 31.78125 66.40625 \nQ 25.390625 66.40625 21.84375 63.234375 \nQ 18.3125 60.0625 18.3125 54.390625 \nz\n\" id=\"DejaVuSans-56\"/>\n      </defs>\n      <g transform=\"translate(13.5625 183.610652)scale(0.1 -0.1)\">\n       <use xlink:href=\"#DejaVuSans-8722\"/>\n       <use x=\"83.789062\" xlink:href=\"#DejaVuSans-56\"/>\n      </g>\n     </g>\n    </g>\n    <g id=\"ytick_3\">\n     <g id=\"line2d_9\">\n      <g>\n       <use style=\"stroke:#000000;stroke-width:0.8;\" x=\"35.304688\" xlink:href=\"#m0fa31d6ee1\" y=\"140.387375\"/>\n      </g>\n     </g>\n     <g id=\"text_9\">\n      <!-- −6 -->\n      <defs>\n       <path d=\"M 33.015625 40.375 \nQ 26.375 40.375 22.484375 35.828125 \nQ 18.609375 31.296875 18.609375 23.390625 \nQ 18.609375 15.53125 22.484375 10.953125 \nQ 26.375 6.390625 33.015625 6.390625 \nQ 39.65625 6.390625 43.53125 10.953125 \nQ 47.40625 15.53125 47.40625 23.390625 \nQ 47.40625 31.296875 43.53125 35.828125 \nQ 39.65625 40.375 33.015625 40.375 \nz\nM 52.59375 71.296875 \nL 52.59375 62.3125 \nQ 48.875 64.0625 45.09375 64.984375 \nQ 41.3125 65.921875 37.59375 65.921875 \nQ 27.828125 65.921875 22.671875 59.328125 \nQ 17.53125 52.734375 16.796875 39.40625 \nQ 19.671875 43.65625 24.015625 45.921875 \nQ 28.375 48.1875 33.59375 48.1875 \nQ 44.578125 48.1875 50.953125 41.515625 \nQ 57.328125 34.859375 57.328125 23.390625 \nQ 57.328125 12.15625 50.6875 5.359375 \nQ 44.046875 -1.421875 33.015625 -1.421875 \nQ 20.359375 -1.421875 13.671875 8.265625 \nQ 6.984375 17.96875 6.984375 36.375 \nQ 6.984375 53.65625 15.1875 63.9375 \nQ 23.390625 74.21875 37.203125 74.21875 \nQ 40.921875 74.21875 44.703125 73.484375 \nQ 48.484375 72.75 52.59375 71.296875 \nz\n\" id=\"DejaVuSans-54\"/>\n      </defs>\n      <g transform=\"translate(13.5625 144.186594)scale(0.1 -0.1)\">\n       <use xlink:href=\"#DejaVuSans-8722\"/>\n       <use x=\"83.789062\" xlink:href=\"#DejaVuSans-54\"/>\n      </g>\n     </g>\n    </g>\n    <g id=\"ytick_4\">\n     <g id=\"line2d_10\">\n      <g>\n       <use style=\"stroke:#000000;stroke-width:0.8;\" x=\"35.304688\" xlink:href=\"#m0fa31d6ee1\" y=\"100.963317\"/>\n      </g>\n     </g>\n     <g id=\"text_10\">\n      <!-- −4 -->\n      <g transform=\"translate(13.5625 104.762536)scale(0.1 -0.1)\">\n       <use xlink:href=\"#DejaVuSans-8722\"/>\n       <use x=\"83.789062\" xlink:href=\"#DejaVuSans-52\"/>\n      </g>\n     </g>\n    </g>\n    <g id=\"ytick_5\">\n     <g id=\"line2d_11\">\n      <g>\n       <use style=\"stroke:#000000;stroke-width:0.8;\" x=\"35.304688\" xlink:href=\"#m0fa31d6ee1\" y=\"61.539259\"/>\n      </g>\n     </g>\n     <g id=\"text_11\">\n      <!-- −2 -->\n      <g transform=\"translate(13.5625 65.338478)scale(0.1 -0.1)\">\n       <use xlink:href=\"#DejaVuSans-8722\"/>\n       <use x=\"83.789062\" xlink:href=\"#DejaVuSans-50\"/>\n      </g>\n     </g>\n    </g>\n    <g id=\"ytick_6\">\n     <g id=\"line2d_12\">\n      <g>\n       <use style=\"stroke:#000000;stroke-width:0.8;\" x=\"35.304688\" xlink:href=\"#m0fa31d6ee1\" y=\"22.115201\"/>\n      </g>\n     </g>\n     <g id=\"text_12\">\n      <!-- 0 -->\n      <g transform=\"translate(21.942188 25.91442)scale(0.1 -0.1)\">\n       <use xlink:href=\"#DejaVuSans-48\"/>\n      </g>\n     </g>\n    </g>\n   </g>\n   <g id=\"line2d_13\">\n    <path clip-path=\"url(#p83c8f8de9f)\" d=\"M 50.522869 17.083636 \nL 56.734372 27.34353 \nL 62.945875 69.183203 \nL 69.157378 69.940624 \nL 75.36888 95.211091 \nL 81.580383 110.210462 \nL 87.791886 108.899559 \nL 94.003389 88.914151 \nL 100.214892 38.760613 \nL 106.426394 42.87149 \nL 112.637897 59.770943 \nL 118.8494 68.804792 \nL 125.060903 90.581934 \nL 131.272405 78.272428 \nL 137.483908 91.39407 \nL 143.695411 115.410539 \nL 149.906914 131.722364 \nL 156.118417 117.093814 \nL 162.329919 95.765274 \nL 168.541422 107.917613 \nL 174.752925 95.76797 \nL 180.964428 109.817566 \nL 187.175931 120.940957 \nL 193.387433 121.930874 \nL 199.598936 113.967064 \nL 205.810439 141.074135 \nL 212.021942 105.699215 \nL 218.233444 127.339533 \nL 224.444947 143.783171 \nL 230.65645 135.811059 \nL 236.867953 119.689367 \nL 243.079456 131.306217 \nL 249.290958 114.254611 \nL 255.502461 129.742202 \nL 261.713964 117.047138 \nL 267.925467 106.699084 \nL 274.13697 98.468681 \nL 280.348472 122.332136 \nL 286.559975 117.758319 \nL 292.771478 136.144614 \nL 298.982981 118.543114 \nL 305.194483 126.859815 \nL 311.405986 126.100011 \nL 317.617489 124.854264 \nL 323.828992 138.853093 \nL 330.040495 148.211878 \nL 336.251997 184.070045 \nL 342.4635 194.689582 \nL 348.675003 183.458496 \nL 354.886506 214.756364 \n\" style=\"fill:none;stroke:#1f77b4;stroke-linecap:square;stroke-width:1.5;\"/>\n   </g>\n   <g id=\"patch_3\">\n    <path d=\"M 35.304688 224.64 \nL 35.304688 7.2 \n\" style=\"fill:none;stroke:#000000;stroke-linecap:square;stroke-linejoin:miter;stroke-width:0.8;\"/>\n   </g>\n   <g id=\"patch_4\">\n    <path d=\"M 370.104688 224.64 \nL 370.104688 7.2 \n\" style=\"fill:none;stroke:#000000;stroke-linecap:square;stroke-linejoin:miter;stroke-width:0.8;\"/>\n   </g>\n   <g id=\"patch_5\">\n    <path d=\"M 35.304688 224.64 \nL 370.104688 224.64 \n\" style=\"fill:none;stroke:#000000;stroke-linecap:square;stroke-linejoin:miter;stroke-width:0.8;\"/>\n   </g>\n   <g id=\"patch_6\">\n    <path d=\"M 35.304688 7.2 \nL 370.104688 7.2 \n\" style=\"fill:none;stroke:#000000;stroke-linecap:square;stroke-linejoin:miter;stroke-width:0.8;\"/>\n   </g>\n  </g>\n </g>\n <defs>\n  <clipPath id=\"p83c8f8de9f\">\n   <rect height=\"217.44\" width=\"334.8\" x=\"35.304688\" y=\"7.2\"/>\n  </clipPath>\n </defs>\n</svg>\n",
      "text/plain": [
       "<Figure size 432x288 with 1 Axes>"
      ]
     },
     "metadata": {},
     "output_type": "display_data"
    }
   ],
   "source": [
    "import matplotlib.pyplot as plt\n",
    "import numpy as np\n",
    "%matplotlib inline\n",
    "\n",
    "plt.plot(np.random.randn(50).cumsum())"
   ]
  },
  {
   "cell_type": "markdown",
   "metadata": {},
   "source": [
    "## 파이썬에 내장 되어 있는 속성(attribute)과 메서드(method)\n",
    "- .capitalize()\n",
    "- .casefold()\n",
    "- .center()\n",
    "- .count(str, start:index, end:index)\n",
    "- .decode()\n",
    "- .encode(encoding:str)\n",
    "- .endswith(suffix:str, start:index, end:index)\n",
    "- .expandtabs(int)\n",
    "- .find(substring:str, start:index, end:index)\n",
    "- .format(*args:object, **kwargs:object)\n",
    "- .format_map(mapping)\n",
    "- .index(substring:str, start:index, end:index)\n",
    "- .isalnum()\n",
    "- .isalpha()\n",
    "- .isascii()\n",
    "- .isdecimal()\n",
    "- .isdigit()\n",
    "- .isidentifier()\n",
    "- .islower()\n",
    "- .isnumeric()\n",
    "- .isprintable()\n",
    "- .isspace()\n",
    "- .istitle()\n",
    "- .isupper()\n",
    "- .join(iterable:iterable[str])\n",
    "- .ljust(width:int, fillchar:str)\n",
    "- .lower()\n",
    "- .lstrip(chars:str)\n",
    "- .partition(sep:str)\n",
    "- .replace(old:str, new:str, count:index)\n",
    "- .rfind(substring:str, start:index, end:index)\n",
    "- .rindex(substring:str, start:index, end:index)\n",
    "- .rjust(width:int, fillchar:str)\n",
    "- .rpartition(sep:str)\n",
    "- .rsplit(sep:str, maxsplit:index)\n",
    "- .rstrip(chars:str)\n",
    "- .split(sep:str, maxsplit:index)\n",
    "- .splitlines(keepends:bool)\n",
    "- .startswith(prefix:str, start:index, end:index)\n",
    "- .strip(chars:str)\n",
    "- .swapcase()\n",
    "- .title() - 각 단어의 첫 글자는 대문자, 나머지는 소문자형태로 변환\n",
    "- .translate(table:mapping|sequence)\n",
    "- .upper() - 알파벳을 모두 대문자로 변환\n",
    "- .zfill(width:int)\n"
   ]
  },
  {
   "cell_type": "code",
   "execution_count": null,
   "metadata": {},
   "outputs": [
    {
     "data": {
      "text/plain": [
       "True"
      ]
     },
     "metadata": {},
     "output_type": "display_data"
    }
   ],
   "source": [
    "# isinstance : 어떤 객체가 무슨 자료형인지 검사할 수 있다.\n",
    "a =  5\n",
    "isinstance(a, int)"
   ]
  },
  {
   "cell_type": "code",
   "execution_count": null,
   "metadata": {},
   "outputs": [
    {
     "data": {
      "text/plain": [
       "True"
      ]
     },
     "metadata": {},
     "output_type": "display_data"
    }
   ],
   "source": [
    "# 튜플을 건내서 객체의 자료형이 주어진 튜플 중 하나인지 검사할 수도 있다.\n",
    "a = 4.5; b = 5\n",
    "isinstance(a, (int,float))"
   ]
  },
  {
   "cell_type": "code",
   "execution_count": null,
   "metadata": {},
   "outputs": [
    {
     "data": {
      "text/plain": [
       "True"
      ]
     },
     "metadata": {},
     "output_type": "display_data"
    }
   ],
   "source": [
    "isinstance(b, (int,float))"
   ]
  },
  {
   "cell_type": "code",
   "execution_count": null,
   "metadata": {},
   "outputs": [
    {
     "data": {
      "text/plain": [
       "<function str.split(sep=None, maxsplit=-1)>"
      ]
     },
     "metadata": {},
     "output_type": "display_data"
    }
   ],
   "source": [
    "a = 'foo'\n",
    "getattr(a, 'split')"
   ]
  },
  {
   "cell_type": "code",
   "execution_count": null,
   "metadata": {},
   "outputs": [
    {
     "data": {
      "text/plain": [
       "True"
      ]
     },
     "metadata": {},
     "output_type": "display_data"
    }
   ],
   "source": [
    "hasattr(a, 'count')"
   ]
  },
  {
   "cell_type": "code",
   "execution_count": null,
   "metadata": {},
   "outputs": [],
   "source": [
    "# 객채의 자료형에는 관심이 없고 그 객체가 어떤 메서드나 행동을 지원하는지만 알고 싶은 경우가 있다.\n",
    "# 이를 '덕 타이핑'이라고 부름, 예를 들어 어떤 객체가 이터레이터를 구현했다면 순회가 가능한 객체인지 검증할 수 있다.\n",
    "# 이는 대부분의 객체의 경우 __iter__라는 매직 메서드를 가지고 있는지 확인하면 된다. 좀 더 나은 방법은 iter 함수를 이용해서 검사하는것\n",
    "def isiterable(obj):\n",
    "    try:\n",
    "        iter(obj)\n",
    "        return True\n",
    "    except TypeError:  # iterable 객체가 아님\n",
    "        return False"
   ]
  },
  {
   "cell_type": "code",
   "execution_count": null,
   "metadata": {},
   "outputs": [
    {
     "data": {
      "text/plain": [
       "True"
      ]
     },
     "metadata": {},
     "output_type": "display_data"
    }
   ],
   "source": [
    "isiterable('a string')"
   ]
  },
  {
   "cell_type": "code",
   "execution_count": null,
   "metadata": {},
   "outputs": [
    {
     "data": {
      "text/plain": [
       "True"
      ]
     },
     "metadata": {},
     "output_type": "display_data"
    }
   ],
   "source": [
    "isiterable([1,2,3])"
   ]
  },
  {
   "cell_type": "code",
   "execution_count": null,
   "metadata": {},
   "outputs": [
    {
     "data": {
      "text/plain": [
       "False"
      ]
     },
     "metadata": {},
     "output_type": "display_data"
    }
   ],
   "source": [
    "isiterable(5)"
   ]
  },
  {
   "cell_type": "code",
   "execution_count": null,
   "metadata": {},
   "outputs": [
    {
     "data": {
      "text/plain": [
       "'\\n여러줄의\\n문자열'"
      ]
     },
     "metadata": {},
     "output_type": "display_data"
    }
   ],
   "source": [
    "c = \"\"\"\n",
    "여러줄의\n",
    "문자열\"\"\"\n",
    "c"
   ]
  },
  {
   "cell_type": "code",
   "execution_count": null,
   "metadata": {},
   "outputs": [
    {
     "data": {
      "text/plain": [
       "2"
      ]
     },
     "metadata": {},
     "output_type": "display_data"
    }
   ],
   "source": [
    "c.count('\\n')"
   ]
  },
  {
   "cell_type": "code",
   "execution_count": null,
   "metadata": {
    "scrolled": true
   },
   "outputs": [
    {
     "data": {
      "text/plain": [
       "'this\\\\has\\\\no\\\\special\\\\characters'"
      ]
     },
     "metadata": {},
     "output_type": "display_data"
    }
   ],
   "source": [
    "# tip 특수문자 없이 역슬래시(\\)가 많이 포함된 문자열읠 나타내려면 좀 귀찮을 수 있는데,\n",
    "# 다행히도 문자열 앞에 r을 써서 문자열을 있는 그대로 해석하도록 할 수 있다.\n",
    "s = r'this\\has\\no\\special\\characters'\n",
    "s"
   ]
  },
  {
   "cell_type": "code",
   "execution_count": 1,
   "metadata": {},
   "outputs": [
    {
     "data": {
      "text/plain": [
       "'4.56 Argentine Pesos are worth US$1'"
      ]
     },
     "execution_count": 1,
     "metadata": {},
     "output_type": "execute_result"
    }
   ],
   "source": [
    "template = '{0:.2f} {1:s} are worth US${2:d}'.format(4.5560, 'Argentine Pesos', 1)\n",
    "template"
   ]
  },
  {
   "cell_type": "code",
   "execution_count": 2,
   "metadata": {},
   "outputs": [
    {
     "data": {
      "text/plain": [
       "'4.556 Argentine Pesos are worth US$1'"
      ]
     },
     "execution_count": 2,
     "metadata": {},
     "output_type": "execute_result"
    }
   ],
   "source": [
    "template2 = '{} {} are worth US${}'.format(4.5560, 'Argentine Pesos', 1)\n",
    "template2"
   ]
  },
  {
   "cell_type": "code",
   "execution_count": 3,
   "metadata": {},
   "outputs": [
    {
     "data": {
      "text/plain": [
       "'español'"
      ]
     },
     "execution_count": 3,
     "metadata": {},
     "output_type": "execute_result"
    }
   ],
   "source": [
    "val = 'español'\n",
    "val"
   ]
  },
  {
   "cell_type": "code",
   "execution_count": 4,
   "metadata": {},
   "outputs": [
    {
     "data": {
      "text/plain": [
       "b'espa\\xc3\\xb1ol'"
      ]
     },
     "execution_count": 4,
     "metadata": {},
     "output_type": "execute_result"
    }
   ],
   "source": [
    "val_utf8 = val.encode('utf-8')\n",
    "val_utf8"
   ]
  },
  {
   "cell_type": "code",
   "execution_count": 5,
   "metadata": {},
   "outputs": [
    {
     "data": {
      "text/plain": [
       "(bytes, str)"
      ]
     },
     "execution_count": 5,
     "metadata": {},
     "output_type": "execute_result"
    }
   ],
   "source": [
    "type(val_utf8), type(val)"
   ]
  },
  {
   "cell_type": "code",
   "execution_count": 6,
   "metadata": {},
   "outputs": [
    {
     "data": {
      "text/plain": [
       "'español'"
      ]
     },
     "execution_count": 6,
     "metadata": {},
     "output_type": "execute_result"
    }
   ],
   "source": [
    "val_utf8.decode('utf-8')"
   ]
  },
  {
   "cell_type": "code",
   "execution_count": 7,
   "metadata": {},
   "outputs": [
    {
     "data": {
      "text/plain": [
       "b'espa\\xf1ol'"
      ]
     },
     "execution_count": 7,
     "metadata": {},
     "output_type": "execute_result"
    }
   ],
   "source": [
    "val.encode('latin1')"
   ]
  },
  {
   "cell_type": "code",
   "execution_count": 8,
   "metadata": {},
   "outputs": [
    {
     "data": {
      "text/plain": [
       "b'\\xff\\xfee\\x00s\\x00p\\x00a\\x00\\xf1\\x00o\\x00l\\x00'"
      ]
     },
     "execution_count": 8,
     "metadata": {},
     "output_type": "execute_result"
    }
   ],
   "source": [
    "val.encode('utf-16')"
   ]
  },
  {
   "cell_type": "code",
   "execution_count": 9,
   "metadata": {},
   "outputs": [
    {
     "data": {
      "text/plain": [
       "b'e\\x00s\\x00p\\x00a\\x00\\xf1\\x00o\\x00l\\x00'"
      ]
     },
     "execution_count": 9,
     "metadata": {},
     "output_type": "execute_result"
    }
   ],
   "source": [
    "val.encode('utf-16le')"
   ]
  },
  {
   "cell_type": "code",
   "execution_count": 10,
   "metadata": {},
   "outputs": [
    {
     "data": {
      "text/plain": [
       "b'this is bytes'"
      ]
     },
     "execution_count": 10,
     "metadata": {},
     "output_type": "execute_result"
    }
   ],
   "source": [
    "bytes_val = b'this is bytes'\n",
    "bytes_val"
   ]
  },
  {
   "cell_type": "code",
   "execution_count": 11,
   "metadata": {},
   "outputs": [
    {
     "data": {
      "text/plain": [
       "'this is bytes'"
      ]
     },
     "execution_count": 11,
     "metadata": {},
     "output_type": "execute_result"
    }
   ],
   "source": [
    "bytes_val.decode('utf8')"
   ]
  },
  {
   "cell_type": "code",
   "execution_count": 12,
   "metadata": {},
   "outputs": [
    {
     "data": {
      "text/plain": [
       "'this is bytes'"
      ]
     },
     "execution_count": 12,
     "metadata": {},
     "output_type": "execute_result"
    }
   ],
   "source": [
    "bytes_val.decode('latin1')"
   ]
  },
  {
   "cell_type": "code",
   "execution_count": 13,
   "metadata": {},
   "outputs": [
    {
     "data": {
      "text/plain": [
       "'this is bytes'"
      ]
     },
     "execution_count": 13,
     "metadata": {},
     "output_type": "execute_result"
    }
   ],
   "source": [
    "bytes_val.decode('cp949')"
   ]
  },
  {
   "cell_type": "code",
   "execution_count": 14,
   "metadata": {},
   "outputs": [
    {
     "data": {
      "text/plain": [
       "datetime.datetime(2020, 8, 3, 17, 31, 39)"
      ]
     },
     "execution_count": 14,
     "metadata": {},
     "output_type": "execute_result"
    }
   ],
   "source": [
    "from datetime import datetime, date, time\n",
    "dt = datetime(2020,8,3,17,31,39)\n",
    "dt"
   ]
  },
  {
   "cell_type": "code",
   "execution_count": 15,
   "metadata": {},
   "outputs": [
    {
     "data": {
      "text/plain": [
       "(2020, 8, 3, 17, 31, 39)"
      ]
     },
     "execution_count": 15,
     "metadata": {},
     "output_type": "execute_result"
    }
   ],
   "source": [
    "dt.year,dt.month,dt.day,dt.hour,dt.minute,dt.second"
   ]
  },
  {
   "cell_type": "code",
   "execution_count": 16,
   "metadata": {},
   "outputs": [
    {
     "data": {
      "text/plain": [
       "datetime.date(2020, 8, 3)"
      ]
     },
     "execution_count": 16,
     "metadata": {},
     "output_type": "execute_result"
    }
   ],
   "source": [
    "dt.date()  # 년:월:일 을 반환"
   ]
  },
  {
   "cell_type": "code",
   "execution_count": 17,
   "metadata": {},
   "outputs": [
    {
     "data": {
      "text/plain": [
       "datetime.time(17, 31, 39)"
      ]
     },
     "execution_count": 17,
     "metadata": {},
     "output_type": "execute_result"
    }
   ],
   "source": [
    "dt.time()  # 시간:분:초 를 반환"
   ]
  },
  {
   "cell_type": "code",
   "execution_count": 18,
   "metadata": {},
   "outputs": [
    {
     "data": {
      "text/plain": [
       "'08/03/2020 17:31'"
      ]
     },
     "execution_count": 18,
     "metadata": {},
     "output_type": "execute_result"
    }
   ],
   "source": [
    "## strftime 메서드는 datetime을 문자열로 만들어준다.\n",
    "dt.strftime('%m/%d/%Y %H:%M')"
   ]
  },
  {
   "cell_type": "code",
   "execution_count": 19,
   "metadata": {},
   "outputs": [
    {
     "data": {
      "text/plain": [
       "'2020-08-03 17:31:39'"
      ]
     },
     "execution_count": 19,
     "metadata": {},
     "output_type": "execute_result"
    }
   ],
   "source": [
    "dt.strftime('%Y-%m-%d %H:%M:%S')"
   ]
  },
  {
   "cell_type": "code",
   "execution_count": 20,
   "metadata": {},
   "outputs": [
    {
     "data": {
      "text/plain": [
       "datetime.datetime(2020, 8, 3, 0, 0)"
      ]
     },
     "execution_count": 20,
     "metadata": {},
     "output_type": "execute_result"
    }
   ],
   "source": [
    "## strptime 함수는 반대로 문자열을 해석하여 datetime 객체로 만들어준다.\n",
    "datetime.strptime('20200803', '%Y%m%d')"
   ]
  },
  {
   "cell_type": "code",
   "execution_count": 21,
   "metadata": {},
   "outputs": [
    {
     "data": {
      "text/plain": [
       "datetime.datetime(2020, 8, 3, 17, 0)"
      ]
     },
     "execution_count": 21,
     "metadata": {},
     "output_type": "execute_result"
    }
   ],
   "source": [
    "dt.replace(minute=0, second=0)"
   ]
  },
  {
   "cell_type": "code",
   "execution_count": 22,
   "metadata": {},
   "outputs": [
    {
     "data": {
      "text/plain": [
       "7179"
      ]
     },
     "execution_count": 22,
     "metadata": {},
     "output_type": "execute_result"
    }
   ],
   "source": [
    "(60*119) + 39"
   ]
  },
  {
   "cell_type": "code",
   "execution_count": 23,
   "metadata": {},
   "outputs": [
    {
     "data": {
      "text/plain": [
       "datetime.datetime(2020, 8, 3, 17, 31, 39)"
      ]
     },
     "execution_count": 23,
     "metadata": {},
     "output_type": "execute_result"
    }
   ],
   "source": [
    "dt"
   ]
  },
  {
   "cell_type": "code",
   "execution_count": 24,
   "metadata": {},
   "outputs": [
    {
     "data": {
      "text/plain": [
       "datetime.datetime(2020, 8, 5, 17, 31, 39)"
      ]
     },
     "execution_count": 24,
     "metadata": {},
     "output_type": "execute_result"
    }
   ],
   "source": [
    "dt2 = datetime(2020,8,5,17,31,39)\n",
    "dt2"
   ]
  },
  {
   "cell_type": "code",
   "execution_count": 25,
   "metadata": {},
   "outputs": [
    {
     "data": {
      "text/plain": [
       "datetime.timedelta(days=2)"
      ]
     },
     "execution_count": 25,
     "metadata": {},
     "output_type": "execute_result"
    }
   ],
   "source": [
    "# 두 datetime 객체의 차는 datetime.timedelta 객체를 반환한다.\n",
    "# 이 경우 정확히 2일 만큼의 시간차이를 나타낸다.\n",
    "delta = dt2 - dt\n",
    "delta"
   ]
  },
  {
   "cell_type": "code",
   "execution_count": 26,
   "metadata": {},
   "outputs": [
    {
     "data": {
      "text/plain": [
       "datetime.timedelta"
      ]
     },
     "execution_count": 26,
     "metadata": {},
     "output_type": "execute_result"
    }
   ],
   "source": [
    "type(delta)"
   ]
  },
  {
   "cell_type": "code",
   "execution_count": 27,
   "metadata": {},
   "outputs": [
    {
     "data": {
      "text/plain": [
       "datetime.datetime(2020, 8, 3, 17, 31, 39)"
      ]
     },
     "execution_count": 27,
     "metadata": {},
     "output_type": "execute_result"
    }
   ],
   "source": [
    "dt"
   ]
  },
  {
   "cell_type": "code",
   "execution_count": 28,
   "metadata": {},
   "outputs": [
    {
     "data": {
      "text/plain": [
       "datetime.datetime(2020, 8, 5, 17, 31, 39)"
      ]
     },
     "execution_count": 28,
     "metadata": {},
     "output_type": "execute_result"
    }
   ],
   "source": [
    "dt + delta  # timedelta 객체를 datetime 객체에 더하면 그만큼 시간이 미뤄진 datetime 객체를 얻을 수 있다."
   ]
  },
  {
   "cell_type": "code",
   "execution_count": 1,
   "metadata": {},
   "outputs": [],
   "source": [
    "## datetime 포맷 규칙\n",
    "# %Y : 4자리 연도\n",
    "# %y : 2자리 연도\n",
    "# %m : 2자리 월[[01,12]]\n",
    "# %d : 2자리 일[[01,31]]\n",
    "# %H : 시간(24시간 형식)[[00,23]]\n",
    "# %I : 시간(12시간 형식)[[01,12]]\n",
    "# %M : 2자리 분[[00,59]]\n",
    "# %S : 초[[00,61]](60,61은 윤초)\n",
    "# %w : 정수로 나타낸 요일[[0(일요일),6]]\n",
    "# %U : 연중 주차[[00,53]]. 일요일을 그 주의 첫 번째 날로 간주하며, 그 해에서 첫 번째 일요일 앞에 있는 날은 0주차가 된다.\n",
    "# %W : 연중 주차[[00,53]]. 월요일을 그 주의 첫 번째 날로 간주하며, 그 해에서 첫 번째 월요일 앞에 있는 날은 0주차가 된다.\n",
    "# %z : UTC 시간대 오프셋을 +HHMM 또는 -HHMM으로 표현한다. 만약 시간대를 신경쓰지 않는다면 비워둔다.\n",
    "# %F : %Y-%m-%d 형식에 대한 축약(예: 2012-4-18)\n",
    "# %D : %m/%d/%y 형식데 대한 축약(예: 04/18/12)"
   ]
  },
  {
   "cell_type": "code",
   "execution_count": 30,
   "metadata": {},
   "outputs": [
    {
     "name": "stdout",
     "output_type": "stream",
     "text": [
      "Made it!\n"
     ]
    }
   ],
   "source": [
    "a = 5; b = 7; c = 8; d = 4\n",
    "if a<b or c<d:  # 왼쪽부터 검사해 둘 중 하나라도 참이면 다른 한 조건은 검사하지 않음.(fact. c는 d보다 크다.)\n",
    "    print('Made it!')"
   ]
  },
  {
   "cell_type": "code",
   "execution_count": 31,
   "metadata": {},
   "outputs": [
    {
     "data": {
      "text/plain": [
       "13"
      ]
     },
     "execution_count": 31,
     "metadata": {},
     "output_type": "execute_result"
    }
   ],
   "source": [
    "sequence = [1,2,None,4,None,6]\n",
    "total = 0\n",
    "for value in sequence:\n",
    "    if value == None:\n",
    "        continue\n",
    "    total += value\n",
    "\n",
    "total"
   ]
  },
  {
   "cell_type": "code",
   "execution_count": 32,
   "metadata": {},
   "outputs": [
    {
     "name": "stdout",
     "output_type": "stream",
     "text": [
      "(1, 1)\n",
      "(2, 1)\n",
      "(2, 2)\n",
      "(3, 1)\n",
      "(3, 2)\n",
      "(3, 3)\n",
      "(4, 1)\n",
      "(4, 2)\n",
      "(4, 3)\n",
      "(4, 4)\n",
      "(5, 1)\n",
      "(5, 2)\n",
      "(5, 3)\n",
      "(5, 4)\n",
      "(5, 5)\n",
      "(6, 1)\n",
      "(6, 2)\n",
      "(6, 3)\n",
      "(6, 4)\n",
      "(6, 5)\n",
      "(6, 6)\n",
      "(7, 1)\n",
      "(7, 2)\n",
      "(7, 3)\n",
      "(7, 4)\n",
      "(7, 5)\n",
      "(7, 6)\n",
      "(7, 7)\n",
      "(8, 1)\n",
      "(8, 2)\n",
      "(8, 3)\n",
      "(8, 4)\n",
      "(8, 5)\n",
      "(8, 6)\n",
      "(8, 7)\n",
      "(8, 8)\n",
      "(9, 1)\n",
      "(9, 2)\n",
      "(9, 3)\n",
      "(9, 4)\n",
      "(9, 5)\n",
      "(9, 6)\n",
      "(9, 7)\n",
      "(9, 8)\n",
      "(9, 9)\n"
     ]
    }
   ],
   "source": [
    "for i in range(1,10):\n",
    "    for j in range(1,10):\n",
    "        if j > i:\n",
    "            break\n",
    "        print((i, j))"
   ]
  },
  {
   "cell_type": "code",
   "execution_count": 36,
   "metadata": {},
   "outputs": [
    {
     "name": "stdout",
     "output_type": "stream",
     "text": [
      "0 Nagative (-23)\n",
      "1 Nagative (-35)\n",
      "3 Nagative (-35)\n",
      "5 Positive (35)\n",
      "6 Positive (28)\n",
      "7 Positive (26)\n",
      "8 Nagative (-3)\n",
      "9 Positive (2)\n",
      "10 Nagative (-31)\n",
      "11 Positive (1)\n",
      "12 Nagative (-14)\n",
      "13 Nagative (-14)\n",
      "14 Nagative (-8)\n",
      "15 Positive (34)\n",
      "16 Nagative (-34)\n",
      "17 Positive (13)\n",
      "18 Nagative (-45)\n",
      "19 Positive (16)\n",
      "20 Nagative (-45)\n",
      "21 Positive (42)\n",
      "22 Positive (35)\n",
      "23 Positive (42)\n",
      "24 Nagative (-12)\n",
      "25 Positive (47)\n",
      "26 Nagative (-10)\n",
      "27 Nagative (-43)\n",
      "28 Nagative (-40)\n",
      "29 Positive (5)\n",
      "30 Positive (28)\n",
      "31 Nagative (-12)\n",
      "32 Positive (17)\n",
      "33 Positive (17)\n",
      "34 Nagative (-16)\n",
      "35 Nagative (-6)\n",
      "36 Nagative (-45)\n",
      "37 Positive (10)\n",
      "38 Nagative (-43)\n",
      "39 Positive (16)\n",
      "40 Nagative (-13)\n",
      "41 Nagative (-31)\n",
      "42 Nagative (-21)\n",
      "43 Nagative (-15)\n",
      "44 Nagative (-21)\n",
      "45 Positive (31)\n",
      "46 Nagative (-14)\n",
      "47 Nagative (-9)\n",
      "48 Nagative (-40)\n",
      "49 Nagative (-38)\n",
      "50 Positive (33)\n",
      "51 Positive (15)\n",
      "52 Nagative (-8)\n",
      "53 Nagative (-12)\n",
      "54 Positive (14)\n",
      "55 Positive (21)\n",
      "56 Positive (22)\n",
      "57 Nagative (-36)\n",
      "58 Positive (44)\n",
      "59 Nagative (-42)\n",
      "60 Positive (43)\n",
      "61 Positive (19)\n",
      "62 Nagative (-38)\n",
      "63 Nagative (-47)\n",
      "64 Nagative (-21)\n",
      "65 Nagative (-2)\n",
      "66 Nagative (-13)\n",
      "67 Positive (13)\n",
      "68 Positive (5)\n",
      "69 Nagative (-49)\n",
      "70 Positive (49)\n",
      "71 Nagative (-16)\n",
      "72 Positive (46)\n",
      "73 Positive (7)\n",
      "74 Nagative (-13)\n",
      "75 Positive (35)\n",
      "76 Positive (41)\n",
      "77 Positive (9)\n",
      "78 Positive (11)\n",
      "79 Nagative (-26)\n",
      "80 Nagative (-42)\n",
      "81 Nagative (-13)\n",
      "82 Nagative (-31)\n",
      "83 Positive (14)\n",
      "84 Positive (35)\n",
      "85 Nagative (-48)\n",
      "86 Positive (28)\n",
      "87 Positive (46)\n",
      "88 Positive (13)\n",
      "89 Nagative (-17)\n",
      "90 Nagative (-33)\n",
      "91 Positive (11)\n",
      "92 Nagative (-30)\n",
      "93 Positive (43)\n",
      "94 Positive (10)\n",
      "95 Nagative (-14)\n",
      "96 Positive (20)\n",
      "97 Nagative (-43)\n",
      "98 Nagative (-40)\n",
      "99 Nagative (-21)\n"
     ]
    }
   ],
   "source": [
    "for i in range(100):\n",
    "    randint = np.random.randint(-50,50)\n",
    "    if randint < 0:\n",
    "        print('%d Nagative (%d)' %(i, randint))\n",
    "    elif randint == 0:\n",
    "        pass\n",
    "    else: print('%d Positive (%d)' %(i, randint))"
   ]
  },
  {
   "cell_type": "code",
   "execution_count": 37,
   "metadata": {},
   "outputs": [
    {
     "name": "stdout",
     "output_type": "stream",
     "text": [
      "h\n",
      "he\n",
      "hel\n",
      "hell\n",
      "hello\n",
      "hello \n",
      "hello w\n",
      "hello wo\n",
      "hello wor\n",
      "hello worl\n",
      "hello world\n",
      "hello world!\n"
     ]
    }
   ],
   "source": [
    "seq = ['h','e','l','l','o',' ','w','o','r','l','d','!']\n",
    "sentence = ''\n",
    "for i in range(len(seq)):\n",
    "    sentence += seq[i]\n",
    "    print(sentence)"
   ]
  },
  {
   "cell_type": "markdown",
   "metadata": {},
   "source": [
    "## 불리언(Boolean) 값"
   ]
  },
  {
   "cell_type": "code",
   "execution_count": 1,
   "metadata": {},
   "outputs": [
    {
     "name": "stdout",
     "output_type": "stream",
     "text": [
      "False\n",
      "True\n",
      "True\n",
      "False\n",
      "False\n",
      "True\n",
      "True\n"
     ]
    }
   ],
   "source": [
    "# 참 / 거짓\n",
    "print(5 > 10)\n",
    "print(5 < 10)\n",
    "print(True)\n",
    "print(False)\n",
    "print(not True)\n",
    "print(not False)\n",
    "print(not 5 > 10)"
   ]
  },
  {
   "cell_type": "markdown",
   "metadata": {},
   "source": [
    "## 변수를 이용하여 문장 출력하기"
   ]
  },
  {
   "cell_type": "code",
   "execution_count": 7,
   "metadata": {},
   "outputs": [
    {
     "name": "stdout",
     "output_type": "stream",
     "text": [
      "우리집 강아지의 이름은 연탄이에요.\n",
      "연탄 이는  4 살이며,  산책 을 아주 좋아해요.\n",
      "연탄이는 어른일까요? True\n"
     ]
    }
   ],
   "source": [
    "# 애완동물 소개하는 문장 만들기\n",
    "animal = \"강아지\"\n",
    "name = \"연탄\"\n",
    "age = 4\n",
    "hobby = \"산책\"\n",
    "is_adult = age >= 3\n",
    "\n",
    "\n",
    "print(\"우리집 \" + animal + \"의 이름은 \" + name + \"이에요.\")\n",
    "# print(name + \"이는 \" + str(age) + \"살이며, \" + hobby + \"을 아주 좋아해요.\")\n",
    "print(name, \"이는 \", age, \"살이며, \", hobby, \"을 아주 좋아해요.\")\n",
    "# + 방식과 달리 콤마(,)로 구분지으면 정수형 변수를 문자열로 바꿔줄 필요 없이 사용 가능하지만\n",
    "# 실제 출력 부분에서 콤마는 사이즈 1의 빈칸을 동반한다.\n",
    "print(name + \"이는 어른일까요? \" + str(is_adult))"
   ]
  },
  {
   "cell_type": "markdown",
   "metadata": {},
   "source": [
    "## 퀴즈 1"
   ]
  },
  {
   "cell_type": "code",
   "execution_count": 8,
   "metadata": {},
   "outputs": [
    {
     "name": "stdout",
     "output_type": "stream",
     "text": [
      "사당행 열차가 들어오고 있습니다.\n",
      "신도림행 열차가 들어오고 있습니다.\n",
      "인천공항행 열차가 들어오고 있습니다.\n",
      "인천공항행 열차가 들어오고 있습니다.\n"
     ]
    }
   ],
   "source": [
    "# quiz\n",
    "# 다음 변수를 이용햐여 다음 문장을 출력하시오.\n",
    "station = [\"사당\",\"신도림\",\"인천공항\"]\n",
    "# 출력 ex) XX행 열차가 들어오고 있습니다.\n",
    "print(station[0] + \"행 열차가 들어오고 있습니다.\")\n",
    "print(station[1] + \"행 열차가 들어오고 있습니다.\")\n",
    "print(station[2] + \"행 열차가 들어오고 있습니다.\")\n",
    "# 랜덤으로 셋 중 하나를 추출하여 출력하기\n",
    "import random\n",
    "random_num = random.randint(0,2)\n",
    "print(station[random_num] + \"행 열차가 들어오고 있습니다.\")"
   ]
  },
  {
   "cell_type": "markdown",
   "metadata": {},
   "source": [
    "## 연산자"
   ]
  },
  {
   "cell_type": "code",
   "execution_count": 4,
   "metadata": {},
   "outputs": [
    {
     "name": "stdout",
     "output_type": "stream",
     "text": [
      "True\n",
      "False\n",
      "True\n",
      "True\n",
      "True\n",
      "True\n"
     ]
    }
   ],
   "source": [
    "print(1 != 3)\n",
    "print(not 1 != 3)\n",
    "# and,& : a 와 b 를 모두 만족해야 성립\n",
    "print(3 > 0 and 3 < 5)\n",
    "print(3 > 0 & 3 < 5)\n",
    "# or,| : a 와 b 중 하나만 만족해도 성립\n",
    "print(3 > 0 or 3 > 5)\n",
    "# print(3 > 0 | 3 > 5)\n",
    "print((3 > 0) | (3 > 5))  # or 연산자는 괄호로 나눠줘야 작동하네?"
   ]
  },
  {
   "cell_type": "code",
   "execution_count": 5,
   "metadata": {},
   "outputs": [
    {
     "name": "stdout",
     "output_type": "stream",
     "text": [
      "14\n",
      "20\n",
      "14\n",
      "16\n"
     ]
    }
   ],
   "source": [
    "print(2 + 3 * 4)\n",
    "print((2 + 3) * 4)\n",
    "calculate = 2 + 3 * 4\n",
    "print(calculate)\n",
    "# calculate 라는 변수에 담긴 값에 +2 를 할 때\n",
    "# calculate = calculate + 2 라고 하는 것이 맞지만\n",
    "calculate += 2  # 라고 써도 위와 똑같은 의미이기 떄문에 더 효율적이다.\n",
    "print(calculate)\n",
    "# 이렇게 줄여서 쓸 떄 모든 연산자를 사용 가능하다\n",
    "# ex) +=, -=, *=, **=, /=, //=, %="
   ]
  },
  {
   "cell_type": "markdown",
   "metadata": {},
   "source": [
    "## 숫자처리함수"
   ]
  },
  {
   "cell_type": "code",
   "execution_count": 6,
   "metadata": {},
   "outputs": [
    {
     "name": "stdout",
     "output_type": "stream",
     "text": [
      "5\n",
      "16\n",
      "13\n",
      "5\n",
      "4.9\n",
      "4.88\n",
      "4.877\n",
      "4\n",
      "5\n",
      "4.0\n"
     ]
    }
   ],
   "source": [
    "# 절대값 반환\n",
    "print(abs(-5))\n",
    "# 제곱 함수\n",
    "print(pow(4,2))  # 4**2\n",
    "# 최대값\n",
    "print(max(5,12,13))\n",
    "# 최소값\n",
    "print(min(5,12,13))\n",
    "# 반올림(소숫점 위치 지정 가능)\n",
    "print(round(4.876, 1))\n",
    "print(round(4.876, 2))\n",
    "print(round(4.8765, 3))\n",
    "# 수학연산 라이브러리를 사용\n",
    "from math import *  # math 라이브러리의 모든 함수를 사용\n",
    "# 내림\n",
    "print(floor(4.876))\n",
    "# 올림\n",
    "print(ceil(4.876))\n",
    "# 제곱근\n",
    "print(sqrt(16))\n"
   ]
  },
  {
   "cell_type": "markdown",
   "metadata": {},
   "source": [
    "## 랜덤함수"
   ]
  },
  {
   "cell_type": "code",
   "execution_count": 8,
   "metadata": {},
   "outputs": [
    {
     "name": "stdout",
     "output_type": "stream",
     "text": [
      "0.03992940482027307\n",
      "9.022120019236583\n",
      "2\n",
      "1 1 1\n"
     ]
    }
   ],
   "source": [
    "import random\n",
    "# 0.0 이상 1.0 미만의 임의의 값(난수)을 생성\n",
    "print(random.random())\n",
    "# 0.0 이상 10.0 미만의 임의의 값(난수)을 생성\n",
    "print(random.random() * 10)\n",
    "# 실수를 정수형으로 변환(소수점 부분을 자르고 정수 부분만 출력)\n",
    "print(int(random.random() * 10))\n",
    "print(int(1.98),int(1.58),int(1.38))\n",
    "# random.randint(a, b) : a 와 b 를 포함하여 1~45 까지의 숫자중 랜덤한 정수를 반환"
   ]
  },
  {
   "cell_type": "markdown",
   "metadata": {},
   "source": [
    "## 퀴즈 2"
   ]
  },
  {
   "cell_type": "code",
   "execution_count": 81,
   "metadata": {},
   "outputs": [
    {
     "name": "stdout",
     "output_type": "stream",
     "text": [
      "오프라인 스터디 모임 날짜는 매 월 4일로 선정되었습니다.\n"
     ]
    }
   ],
   "source": [
    "# quiz\n",
    "# 월 4회 스터디, 3번은 온라인, 1번은 오프라인\n",
    "# 아래 조건에 맞는 오프라인 모임 날짜를 정해주는 프로그램 만들기\n",
    "# 조건 1 : 랜덤으로 날짜를 뽑아야 함\n",
    "# 조건 2 : 월별 날짜는 다름을 감안하여 최소 일수인 28 이내로 정함\n",
    "# 조건 3 : 매 월 1~3일은 스터디 준비를 해야 하므로 제외\n",
    "# 줄력문 예제 : 오프라인 스터디 모임 날짜는 매 월 x 일로 선정되었습니다.\n",
    "\n",
    "import random\n",
    "\n",
    "'''\n",
    "그냥 randint(4, 28) 로 하면 되지만\n",
    "조건문 연습을 위해 아래와 같이 작성함\n",
    "'''\n",
    "\n",
    "study_prepare = [1,2,3]  # 스터디 준비 날\n",
    "while True:  # 스터디 준비 날인 1,2,3일을 제외한 숫자가 나올때 까지 임의의 숫자를 구한다.\n",
    "    random_number = random.randint(1,28)\n",
    "    if random_number in study_prepare:\n",
    "        continue\n",
    "    else:\n",
    "        break\n",
    "\n",
    "print(\"오프라인 스터디 모임 날짜는 매 월 {}일로 선정되었습니다.\".format(random_number))\n",
    "\n"
   ]
  },
  {
   "cell_type": "markdown",
   "metadata": {},
   "source": [
    "## 슬라이싱"
   ]
  },
  {
   "cell_type": "code",
   "execution_count": 85,
   "metadata": {},
   "outputs": [
    {
     "name": "stdout",
     "output_type": "stream",
     "text": [
      "성별 : 1\n",
      "연 : 99\n",
      "월 : 01\n",
      "일 : 20\n",
      "생년월일 : 990120\n",
      "뒤 7자리 : 1234567\n",
      "뒤 7자리(뒤쪽부터) : 1234567\n"
     ]
    }
   ],
   "source": [
    "id_num = \"990120-1234567\"\n",
    "\n",
    "print(\"성별 : \" + id_num[7])\n",
    "print(\"연 : \" + id_num[:2])\n",
    "print(\"월 : \" + id_num[2:4])\n",
    "print(\"일 : \" + id_num[4:6])\n",
    "print(\"생년월일 : \" + id_num[:6])\n",
    "print(\"뒤 7자리 : \" + id_num[7:])\n",
    "print(\"뒤 7자리(뒤쪽부터) : \" + id_num[-7:])"
   ]
  },
  {
   "cell_type": "markdown",
   "metadata": {},
   "source": [
    "## 문자열 처리 함수"
   ]
  },
  {
   "cell_type": "code",
   "execution_count": 108,
   "metadata": {},
   "outputs": [
    {
     "name": "stdout",
     "output_type": "stream",
     "text": [
      "python is amazing\n",
      "PYTHON IS AMAZING\n",
      "True\n",
      "False\n",
      "False\n",
      "17\n",
      "C# is Amazing\n",
      "5\n",
      "15\n",
      "5\n",
      "-1\n",
      "2\n"
     ]
    }
   ],
   "source": [
    "python = \"Python is Amazing\"\n",
    "# 전부 소문자로 출력\n",
    "print(python.lower())\n",
    "# 전부 대문자로 출력\n",
    "print(python.upper())\n",
    "# 슬라이싱한 문자열 위치 혹은 문자열 전체가 대문자인지 boolean 판단\n",
    "print(python[0].isupper())\n",
    "print(python[1].isupper())\n",
    "print(python.isupper())\n",
    "# 문자열 길이 반환\n",
    "print(len(python))\n",
    "# 문자열 교체\n",
    "print(python.replace(\"Python\", \"C#\"))\n",
    "# 해당 문자열의 인덱스 반환\n",
    "index = python.index(\"n\")\n",
    "print(index)\n",
    "index = python.index(\"n\", index + 1)\n",
    "print(index)\n",
    "# index() 와 비슷한 find()\n",
    "print(python.find(\"n\"))  # index() 와 같이 해당 문자열의 위치를 반환\n",
    "print(python.find(\"Java\"))  # 찾는게 없을시 -1 반환 -> 오류 없이 다음 줄의 코드도 실행 가능\n",
    "# print(python.index())  # 찾는게 없을시 오류나면서 다음 줄 코드부터는 실행 안됨\n",
    "# 해당 문자열의 빈도 수 반환\n",
    "print(python.count(\"n\"))"
   ]
  },
  {
   "cell_type": "markdown",
   "metadata": {},
   "source": [
    "## 문자열 포맷"
   ]
  },
  {
   "cell_type": "code",
   "execution_count": 145,
   "metadata": {},
   "outputs": [
    {
     "name": "stdout",
     "output_type": "stream",
     "text": [
      "나는 20살 입니다.\n",
      "나는 20살 입니다.\n",
      "나는 파이썬을 좋아해요.\n",
      "Apple 은 A로 시작해요.\n",
      "나는 20살입니다.\n",
      "나는 20.0살입니다.\n",
      "나는 스무살입니다.\n",
      "내가 좋아하는 색은 파랑색이고, 싫어하는 색은 겨자색 입니다.\n",
      "나는 20살입니다.\n",
      "나는 20.0살입니다.\n",
      "내가 좋아하는 색은 파랑색이고, 싫어하는 색은 겨자색 입니다.\n",
      "내가 좋아하는 색은 겨자색이고, 싫어하는 색은 파랑색 입니다.\n",
      "나는 20살이며, 파랑색을 좋아해요.\n",
      "나는 21살이며, 겨자색을 싫어해요.\n",
      "나는 18살이며, 초록색을 좋아해요.\n",
      "나는 28살이며, 초록겨자색을 좋아해요.\n",
      "나는 39살이며, 초록겨자색을 좋아해요.\n",
      "나는 18살이며, 저희 형제 중에서 키가 2번째로 큽니다.\n",
      "나는 18.0살이며, 저희 형제 중에서 키가 2.0번째로 큽니다.\n"
     ]
    }
   ],
   "source": [
    "## 문자열 포맷 방법 1\n",
    "# %d : 정수형 데이터만 가능(실수형 미포함)\n",
    "print(\"나는 %d살 입니다.\" %20)\n",
    "print(\"나는 %d살 입니다.\" %20.0)  # 정수 부분만 포맷됨\n",
    "# %s : 문자열 또는 정수형과 실수형 데이터 모두 가능\n",
    "print(\"나는 %s을 좋아해요.\" %\"파이썬\")\n",
    "# 하나의 문자만 포맷\n",
    "print(\"Apple 은 %c로 시작해요.\" %\"A\")\n",
    "# 보통 정수형(실수형 포함)과 문자열을 모두 포맷해주는 %s를 사용한다.\n",
    "print(\"나는 %s살입니다.\" %20)\n",
    "print(\"나는 %s살입니다.\" %20.0)\n",
    "print(\"나는 %s살입니다.\" %\"스무\")\n",
    "# 두개 이상의 문자열이나 정수형 데이터를 넣고 싶을 때\n",
    "print(\"내가 좋아하는 색은 %s색이고, 싫어하는 색은 %s색 입니다.\" %(\"파랑\", \"겨자\"))\n",
    "\n",
    "## 문자열 포맷 방법 2\n",
    "# format() : 정수형(실수형 포함)과 문자열 모두 포맷 가능\n",
    "print(\"나는 {}살입니다.\".format(20))\n",
    "print(\"나는 {}살입니다.\".format(20.0))\n",
    "# 두개 이상의 문자열이나 정수형 데이터를 넣고 싶을 때\n",
    "print(\"내가 좋아하는 색은 {}색이고, 싫어하는 색은 {}색 입니다.\".format(\"파랑\",\"겨자\"))\n",
    "# {} 안에 인덱스 번호를 넣음으로써 원하는 데이터를 원하는 곳에 넣을 수 있다는 점에 주목\n",
    "print(\"내가 좋아하는 색은 {1}색이고, 싫어하는 색은 {0}색 입니다.\".format(\"파랑\",\"겨자\"))\n",
    "\n",
    "## 문자열 포맷 방법 3\n",
    "# 방법 3과 같은 format() 형식이지만 {}안에 인덱스 번호 이외에 변수를 선언하여 값을 지정해줄 수도 있음\n",
    "print(\"나는 {age}살이며, {color}색을 좋아해요.\".format(age = 20, color = \"파랑\"))\n",
    "# 하지만 format() 형식은 외부 변수(전역 변수)를 적용시킬수 없음\n",
    "# 아래 print 문에 있는 age2, color2 는 지역 변수임\n",
    "# 그러므로 바로 아래에서 선언한 age2와 print 문 안의 age2는 각각 다른 변수로 인식됨\n",
    "# 외부 변수(전역 변수)를 사용하려면 format() 안에서 지역변수로 재선언 해줘야 함\n",
    "age2 = 21\n",
    "color2 = \"겨자\"\n",
    "print(\"나는 {age2}살이며, {color2}색을 싫어해요.\".format(age2 = age2, color2 = color2))\n",
    "\n",
    "## 문자열 포맷 방법 4\n",
    "# f\"\" : 외부 변수(전역 변수)를 사용할 수 있으며, 같은 타입의 변수끼리 {} 안에서 연산이 가능하다는 점에 주목\n",
    "age = 18\n",
    "color = \"초록\"\n",
    "print(f\"나는 {age}살이며, {color}색을 좋아해요.\")\n",
    "print(f\"나는 {age + 10}살이며, {color + color2}색을 좋아해요.\")\n",
    "print(f\"나는 {age + age2}살이며, {color + color2}색을 좋아해요.\")\n",
    "# 외부 변수(전역 변수)를 사용하지 않고, 문자열을 직접 넣을 수는 없으며,\n",
    "# 직접 정수형 또는 실수형 데이터는 입력 할 수 있지만\n",
    "# 그렇게 되면 이런 포맷 방식을 쓸 이유가 없어 진다.\n",
    "# print(f\"나는 {18}살이며, {\"초록\"}색을 좋아해요.\")  # 오류\n",
    "print(f\"나는 {18}살이며, 저희 형제 중에서 키가 {2}번째로 큽니다.\")\n",
    "print(f\"나는 {18.0}살이며, 저희 형제 중에서 키가 {2.0}번째로 큽니다.\")"
   ]
  },
  {
   "cell_type": "markdown",
   "metadata": {},
   "source": [
    "## 탈출 문자"
   ]
  },
  {
   "cell_type": "code",
   "execution_count": 168,
   "metadata": {},
   "outputs": [
    {
     "name": "stdout",
     "output_type": "stream",
     "text": [
      "백문이 불여인견\n",
      "백견이 불여일타\n",
      "저는 \"조성혁\"입니다.\n",
      "저는 '조성혁'입니다.\n",
      "저는 \"조성혁\"입니다.\n",
      "저는 '조성혁'입니다.\n",
      "\\Users\\csh\\jupytercreation\n",
      "Pine\n",
      "RedApple\n",
      "Red\tApple\n"
     ]
    }
   ],
   "source": [
    "# 줄 바꾸기\n",
    "print(\"백문이 불여인견\\n백견이 불여일타\")\n",
    "# \"\",'' 출력하기\n",
    "print('저는 \"조성혁\"입니다.')\n",
    "print(\"저는 '조성혁'입니다.\")\n",
    "# \\\", \\', \\\\ : 를 사용하게 되면 \",',\\ 자체를 문자열의 일부로 판단하여 출력함\n",
    "print(\"저는 \\\"조성혁\\\"입니다.\")\n",
    "print(\"저는 \\'조성혁\\'입니다.\")\n",
    "print(\"\\\\Users\\\\csh\\\\jupytercreation\")\n",
    "# \\r : 커서를 맨 앞으로 이동하여 출력\n",
    "print(\"Red Apple\\rPine\")\n",
    "# \\b : 키보드의 backspace 기능(한 글자 삭제)\n",
    "print(\"Redd\\bApple\")\n",
    "# \\t : 지정된 탭 크기만큼 띄워줌\n",
    "print(\"Red\\tApple\")"
   ]
  },
  {
   "cell_type": "markdown",
   "metadata": {},
   "source": [
    "## 퀴즈 3"
   ]
  },
  {
   "cell_type": "code",
   "execution_count": 213,
   "metadata": {},
   "outputs": [
    {
     "name": "stdout",
     "output_type": "stream",
     "text": [
      "\"https://daum.net\" 사이트의 비밀번호는 \"dau40!\" 입니다.\n"
     ]
    }
   ],
   "source": [
    "# quiz\n",
    "# 사이트별로 비밀번호를 만들어 주는 프로그램 만들기\n",
    "# ex) http://naver.com\n",
    "# 규칙1 : http:// 부분은 제회 -> naver.com\n",
    "# 규칙2 : 처음 만나는 점(.) 이후 부분은 제외 -> naver\n",
    "# 규칙3 : 남은 글자 중 처음 세 자리 + 글자 개수 + 글자 내 \"e\" 개수 + \"!\" 로 구성\n",
    "\n",
    "def create_pwd(url):\n",
    "    # 규칙1\n",
    "    pwd = url.replace(\"https://\", \"\").replace(\"http://\", \"\")\n",
    "    # 규칙2\n",
    "    pwd = pwd[:pwd.index(\".\")]\n",
    "    # 규칙3\n",
    "    pwd = pwd[:3] + str(len(pwd)) + str(pwd.count(\"e\")) + \"!\"\n",
    "    return print(f\"\\\"{url}\\\" 사이트의 비밀번호는 \\\"{pwd}\\\" 입니다.\")\n",
    "\n",
    "\n",
    "url = \"https://daum.net\"\n",
    "create_pwd(url)"
   ]
  },
  {
   "cell_type": "markdown",
   "metadata": {},
   "source": [
    "## 리스트"
   ]
  },
  {
   "cell_type": "code",
   "execution_count": 243,
   "metadata": {},
   "outputs": [
    {
     "name": "stdout",
     "output_type": "stream",
     "text": [
      "['유재석', '조세호', '박명수', '하하']\n",
      "['유재석', '정형돈', '조세호', '박명수', '하하']\n",
      "하하\n",
      "유재석\n",
      "['정형돈', '조세호', '박명수']\n",
      "['정형돈', '박명수']\n",
      "['정형돈', '박명수', '정형돈']\n",
      "2\n",
      "[1, 2, 3, 4, 5]\n",
      "[5, 4, 3, 2, 1]\n",
      "[1, 2, 3, 4, 5]\n",
      "[1, 2, 3, 4, 5, '정형돈', '박명수', '정형돈']\n"
     ]
    }
   ],
   "source": [
    "characters = [\"유재석\",\"조세호\",\"박명수\"]\n",
    "# append() 리스트에 데이터를 삽입\n",
    "characters.append(\"하하\")\n",
    "print(characters)\n",
    "# insert() 지정한 위치에 데이터를 삽입\n",
    "characters.insert(1, \"정형돈\")\n",
    "print(characters)\n",
    "# pop() 인덱스를 지정하지 않으면 맨 뒤에서 한 개의 데이터를 꺼냄\n",
    "print(characters.pop())\n",
    "print(characters.pop(0))\n",
    "print(characters)\n",
    "# remove() 지정한 데이터를 리스트에서 삭제\n",
    "characters.remove(\"조세호\")\n",
    "print(characters)\n",
    "# count() 를 이용해 문자열 내 해당 글자 개수를 확인한 것처럼\n",
    "# 리스트 내 해당 데이터와 동일한 것이 몇 개인지 확인할 수 있음\n",
    "characters.append(\"정형돈\")\n",
    "print(characters)\n",
    "print(characters.count(\"정형돈\"))\n",
    "\n",
    "## 리스트 정렬\n",
    "num_list = [5,2,4,3,1]\n",
    "# sort() reverse 속성의 디폴트 값(False)을 변경 하지 않으면 오름차순,\n",
    "# True로 설정하면 내림차순으로 정렬 가능하다.\n",
    "num_list.sort()\n",
    "print(num_list)\n",
    "num_list.sort(reverse=True)\n",
    "print(num_list)\n",
    "# revserse() 함수로도 순서를 뒤집을 순 있지만 \n",
    "# sort() 함수의 reverse 속성처럼 오름차순,내림차순의 개념이 아니라\n",
    "# 이미 정렬되어 있는 값의 반대로의 정렬을 의미함\n",
    "num_list.reverse()\n",
    "print(num_list)\n",
    "# clear() 리스트안의 모든 값을 지움\n",
    "# num_list.clear()\n",
    "# print(num_list)\n",
    "\n",
    "## 리스트 확장\n",
    "# extend() 하나의 리스트 맨 뒤에 다른 하나의 리스트를 이어 붙여줌\n",
    "num_list.extend(characters)\n",
    "print(num_list)\n"
   ]
  },
  {
   "cell_type": "markdown",
   "metadata": {},
   "source": [
    "## 사전"
   ]
  },
  {
   "cell_type": "code",
   "execution_count": 295,
   "metadata": {},
   "outputs": [
    {
     "name": "stdout",
     "output_type": "stream",
     "text": [
      "4\n",
      "유재석\n",
      "유재석\n",
      "None\n",
      "비어 있음\n",
      "dict_keys([1, 2, 3, 4])\n",
      "dict_values(['유재석', '정형돈', '박명수', '하하'])\n",
      "dict_items([(1, '유재석'), (2, '정형돈'), (3, '박명수'), (4, '하하')])\n",
      "{1: '유재석', 2: '정형돈', 3: '박명수', 4: '하하', 5: '정준하'}\n",
      "{1: '조성혁', 2: '정형돈', 3: '박명수', 4: '하하', 5: '정준하'}\n",
      "{2: '정형돈', 3: '박명수', 4: '하하', 5: '정준하'}\n",
      "{3: '박명수', 4: '하하', 5: '정준하', 6: '정형돈'}\n",
      "{4: '하하', 5: '정준하', 6: '정형돈', 7: '박명수'}\n",
      "{}\n"
     ]
    }
   ],
   "source": [
    "# key와 value가 한 세트로 구성되어 len() 함수를 사용하여 길이를 쟀을 떄 길이 1로 인식\n",
    "cabinet = {1:\"유재석\",2:\"정형돈\",3:\"박명수\",4:\"하하\"}\n",
    "print(len(cabinet))\n",
    "# key 값은 문자열로도 가능\n",
    "# cabinet = {\"A\":\"유재석\",\"B\":\"정형돈\",\"C\":\"박명수\",\"D\":\"하하\"}\n",
    "\n",
    "# dictionary 안의 임의의 value 값을 가져올 때는 해당 value 의 key 값를 호출한다.\n",
    "# 호출하는 방법은 2가지가 있는데 첫 번째는 []로 key값을 입력해 호출하는 방식이고,\n",
    "# 두 번째는 get() 함수를 사용하여 호출하는 방법이 있다.\n",
    "# 첫 번째 방법의 경우 key 값을 잘못 입력했을 때 오류와 함께 프로그램이 종료되지만,\n",
    "# 두 번째 방법의 경우에는 None 값을 출력하고 프로그램은 종료되지 않는다.\n",
    "# 또한, 대체 값을 설정하여 None 대신에 그 값을 출력할 수도 있다.\n",
    "print(cabinet[1])\n",
    "# print(cabinet[10])  # 오류\n",
    "print(cabinet.get(1))\n",
    "print(cabinet.get(10))  # None\n",
    "print(cabinet.get(10, \"비어 있음\"))  # None 대신 \"비어 있음\"으로 대체 출력\n",
    "# key 값만 모두 호출\n",
    "print(cabinet.keys())\n",
    "# value 값만 모두 호출\n",
    "print(cabinet.values())\n",
    "# key, value 값 모두 호출\n",
    "print(cabinet.items())\n",
    "\n",
    "# 새로운 값을 추가할 때는 새로운 key, value 를 지정해주면 됨\n",
    "cabinet[5] = \"정준하\"\n",
    "print(cabinet)\n",
    "\n",
    "# value 값을 변경할 떄는 새로운 값을 추가하는 것과 같은 방법으로 작성하고,\n",
    "# 변경할 값의 key, 변경할 value 를 작성하면 됨 \n",
    "cabinet[1] = \"조성혁\"\n",
    "print(cabinet)\n",
    "\n",
    "# 삭제할 때는 del dictionary[key] 방식으로 함\n",
    "del cabinet[1]\n",
    "print(cabinet)\n",
    "\n",
    "# key 값을 변경할 때는 기본적으로 두 가지 방법이 있다.\n",
    "# 방법 1\n",
    "cabinet[6] = cabinet[2]\n",
    "del cabinet[2]\n",
    "print(cabinet)\n",
    "# 방법 2\n",
    "cabinet[7] = cabinet.pop(3)\n",
    "print(cabinet)\n",
    "\n",
    "# 사전 안의 모든 값 제거\n",
    "# 리스트와 동일하게 clear() 함수를 사용\n",
    "cabinet.clear()\n",
    "print(cabinet)"
   ]
  },
  {
   "cell_type": "markdown",
   "metadata": {},
   "source": [
    "## 튜플"
   ]
  },
  {
   "cell_type": "code",
   "execution_count": 318,
   "metadata": {},
   "outputs": [
    {
     "name": "stdout",
     "output_type": "stream",
     "text": [
      "('조성혁', 29, '코딩')\n"
     ]
    }
   ],
   "source": [
    "menu = (\"돈까스\",\"치즈까스\")\n",
    "menu[0]\n",
    "\n",
    "name, age, hobby = \"조성혁\", 29, \"코딩\"\n",
    "id = (name,age,hobby)\n",
    "print(id)"
   ]
  },
  {
   "cell_type": "markdown",
   "metadata": {},
   "source": [
    "## 세트(set)"
   ]
  },
  {
   "cell_type": "code",
   "execution_count": 325,
   "metadata": {},
   "outputs": [
    {
     "name": "stdout",
     "output_type": "stream",
     "text": [
      "{1, 2, 3, 4, 5, 6}\n",
      "{'유재석'}\n",
      "{'유재석'}\n",
      "{'유재석', '양세형', '김태호', '박명수'}\n",
      "{'유재석', '양세형', '김태호', '박명수'}\n",
      "{'양세형', '김태호'}\n",
      "{'양세형', '김태호'}\n"
     ]
    }
   ],
   "source": [
    "# set() 또는 variable = {data1,data2,data3,...}\n",
    "# 집합이란 뜻으로 순서가 없고, 입력된 데이터의 원소들(중복 허용 X)만 넣을수 있다.\n",
    "my_set = {1,2,3,3,3,4,4,5,6,6,6,6}\n",
    "print(my_set)\n",
    "\n",
    "Java = {\"유재석\",\"김태호\",\"양세형\"}\n",
    "Python = set([\"유재석\",\"박명수\"])\n",
    "\n",
    "# 교집합 구하기 - Java 도 할 수 있고, Python 도 할 수 있는 사람\n",
    "print(Java & Python)\n",
    "print(Java.intersection(Python))\n",
    "\n",
    "# 합집합 구하기 - Java 를 할 수 있거나 Python 을 할 수 있는 사람\n",
    "print(Java | Python)\n",
    "print(Java.union(Python))\n",
    "\n",
    "# 차집합 구하기 - Java 는 할 수 있지만 Python 은 할 수 없는 사람\n",
    "print(Java - Python)\n",
    "print(Java.difference(Python))\n"
   ]
  },
  {
   "cell_type": "markdown",
   "metadata": {},
   "source": [
    "## 자료구조의 변경"
   ]
  },
  {
   "cell_type": "code",
   "execution_count": 3,
   "metadata": {},
   "outputs": [
    {
     "name": "stdout",
     "output_type": "stream",
     "text": [
      "{'커피', '주스', '우유'} <class 'set'>\n",
      "['커피', '주스', '우유'] <class 'list'>\n",
      "('커피', '주스', '우유') <class 'tuple'>\n",
      "{'커피', '우유', '주스'} <class 'set'>\n"
     ]
    }
   ],
   "source": [
    "menu = {\"커피\",\"우유\",\"주스\"}\n",
    "print(menu, type(menu))\n",
    "\n",
    "menu = list(menu)\n",
    "print(menu, type(menu))\n",
    "\n",
    "menu = tuple(menu)\n",
    "print(menu, type(menu))\n",
    "\n",
    "menu = set(menu)\n",
    "print(menu, type(menu))"
   ]
  },
  {
   "cell_type": "markdown",
   "metadata": {},
   "source": [
    "## 퀴즈 4"
   ]
  },
  {
   "cell_type": "code",
   "execution_count": 109,
   "metadata": {},
   "outputs": [
    {
     "name": "stdout",
     "output_type": "stream",
     "text": [
      "-- 당첨자발표 --\n",
      "치킨 당첨자 : [20]\n",
      "커피 당첨자 : [7, 11, 13]\n",
      "-- 축하합니다 --\n",
      "[16, 7, 11, 1, 10, 9, 3, 19, 18, 14, 17, 2, 12, 13, 4, 8, 6, 15, 5]\n"
     ]
    }
   ],
   "source": [
    "# quiz\n",
    "# 당신의 학교에서는 파이썬 코딩 대회를 주최한다.\n",
    "# 참석률을 높이기 위해 댓글 이벤트를 진행하기로 하였습니다.\n",
    "# 댓글 작성자들 중에 추첨을 통해 1명은 치킨, 3명은 커피 쿠폰을 받게 됩니다.\n",
    "# 추첨 프로그램을 작성하시오.\n",
    "# 조건 1 : 편의상 댓글은 20명이 작성하였고, 아이디는 1 ~ 20 이라고 가정\n",
    "# 조건 2 : 댓글 내용과 상관 없이 무작위로 추첨하되 중복 불가\n",
    "# 조건 3 : random 모듈의 shuffle 과 sample 을 활용\n",
    "# 출력 ex)\n",
    "# -- 당첨자 발표 --\n",
    "# 치킨 당첨자 : 1\n",
    "# 커피 당첨자 : [2,3,4]\n",
    "# -- 축하합니다 --\n",
    "import random\n",
    "import numpy as np\n",
    "\n",
    "commenter_list = list(range(1,21))\n",
    "\n",
    "def draw_lots(commenter_list):\n",
    "    random.shuffle(commenter_list)\n",
    "    # 치킨 당첨자 추첨\n",
    "    chicken_winner = random.sample(commenter_list, 1)\n",
    "    # 중복 제거 - 치킨 당첨자는 커피 추첨에서 제외함\n",
    "    commenter_list.remove(chicken_winner[0])\n",
    "    # 커피 당첨자 추첨\n",
    "    coffee_winner = random.sample(commenter_list, 3)\n",
    "    # 당첨자 발표\n",
    "    print(\"-- 당첨자발표 --\")\n",
    "    print(f\"치킨 당첨자 : {chicken_winner}\")\n",
    "    print(f\"커피 당첨자 : {coffee_winner}\")\n",
    "    print(\"-- 축하합니다 --\")\n",
    "\n",
    "draw_lots(commenter_list)\n",
    "print(commenter_list)"
   ]
  },
  {
   "cell_type": "markdown",
   "metadata": {},
   "source": [
    "## if 조건문"
   ]
  },
  {
   "cell_type": "code",
   "execution_count": 31,
   "metadata": {},
   "outputs": [
    {
     "name": "stdout",
     "output_type": "stream",
     "text": [
      "우산을 챙기세요.\n",
      "괜찮은 날씨네요.\n"
     ]
    }
   ],
   "source": [
    "# weather = input(\"날씨 상태를 입력하세요.\")\n",
    "weather = \"비\"\n",
    "if weather == \"비\":\n",
    "    print(\"우산을 챙기세요.\")\n",
    "elif weather == \"미세먼지\":\n",
    "    print(\"마스크를 챙기세요.\")\n",
    "else:\n",
    "    print(\"오늘은 준비물이 필요 없어요.\")\n",
    "\n",
    "# temp = int(input(\"오늘의 기온을 입력하세요.\"))\n",
    "temp = 11\n",
    "if 30 <= temp:\n",
    "    print(\"너무 더워요. 나가지 마세요.\")\n",
    "elif 10 <= temp < 30:\n",
    "    print(\"괜찮은 날씨네요.\")\n",
    "elif 0 <= temp < 10:\n",
    "    print(\"외투를 챙기세요.\")\n",
    "else:\n",
    "    print(\"너무 추워요. 나가지마세요.\")"
   ]
  },
  {
   "cell_type": "markdown",
   "metadata": {},
   "source": [
    "## for 반복문"
   ]
  },
  {
   "cell_type": "code",
   "execution_count": 38,
   "metadata": {},
   "outputs": [
    {
     "name": "stdout",
     "output_type": "stream",
     "text": [
      "대기번호 : 1\n",
      "대기번호 : 2\n",
      "대기번호 : 3\n",
      "대기번호 : 4\n",
      "대기번호 : 5\n",
      "아이언맨, 커피가 준비되었습니다.\n",
      "토르, 커피가 준비되었습니다.\n",
      "그루트, 커피가 준비되었습니다.\n"
     ]
    }
   ],
   "source": [
    "for waiting_no in range(1,6):\n",
    "    print(f\"대기번호 : {waiting_no}\")\n",
    "    # print(\"대기번호 : {}\".format(waiting_no))\n",
    "    # print(\"대기번호 : %s\" %waiting_no)\n",
    "\n",
    "starbucks = [\"아이언맨\",\"토르\",\"그루트\"]\n",
    "for customer in starbucks:\n",
    "    print(f\"{customer}, 커피가 준비되었습니다.\")"
   ]
  },
  {
   "cell_type": "markdown",
   "metadata": {},
   "source": [
    "## while 반복문"
   ]
  },
  {
   "cell_type": "code",
   "execution_count": 2,
   "metadata": {},
   "outputs": [
    {
     "name": "stdout",
     "output_type": "stream",
     "text": [
      "토르가 방문한 카페\n",
      "토르, 커피가 준비 되었습니다. 5번 남았어요.\n",
      "토르, 커피가 준비 되었습니다. 4번 남았어요.\n",
      "토르, 커피가 준비 되었습니다. 3번 남았어요.\n",
      "토르, 커피가 준비 되었습니다. 2번 남았어요.\n",
      "토르, 커피가 준비 되었습니다. 1번 남았어요.\n",
      "커피가 폐기 처분 되었습니다.\n",
      "아이언맨이 방문한 카페\n"
     ]
    }
   ],
   "source": [
    "import time\n",
    "customer = \"토르\"\n",
    "index = 5\n",
    "print(\"토르가 방문한 카페\")\n",
    "while index >= 1:\n",
    "    print(f\"{customer}, 커피가 준비 되었습니다. {index}번 남았어요.\")\n",
    "    index -= 1\n",
    "    if index == 0:\n",
    "        print(\"커피가 폐기 처분 되었습니다.\")\n",
    "\n",
    "# costomer = \"아이언맨\"\n",
    "# index = 1\n",
    "# print(\"아이언맨이 방문한 카페\")\n",
    "# while True:\n",
    "#     print(f\"{customer}, 커피가 준비 되었습니다. 호출 {index}회\")\n",
    "#     index += 1\n",
    "#     time.sleep(3)"
   ]
  },
  {
   "cell_type": "code",
   "execution_count": 3,
   "metadata": {},
   "outputs": [
    {
     "name": "stdout",
     "output_type": "stream",
     "text": [
      "토르, 커피가 준비 되었습니다.\n",
      "토르, 커피가 준비 되었습니다.\n"
     ]
    }
   ],
   "source": [
    "customer = \"토르\"\n",
    "person = \"Unknown\"\n",
    "\n",
    "while person != customer:\n",
    "    print(f\"{customer}, 커피가 준비 되었습니다.\")\n",
    "    person = input(\"이름이 어떻게 되세요?\")"
   ]
  },
  {
   "cell_type": "markdown",
   "metadata": {},
   "source": [
    "## 제어문(continue & break & pass)"
   ]
  },
  {
   "cell_type": "code",
   "execution_count": 9,
   "metadata": {},
   "outputs": [
    {
     "name": "stdout",
     "output_type": "stream",
     "text": [
      "1, 책을 읽어봐.\n",
      "3, 책을 읽어봐.\n",
      "4, 책을 읽어봐.\n",
      "6, 책을 읽어봐.\n",
      "오늘 수업 여기까지. 7번은 교무실로 따라와 !!\n",
      "----------\n",
      "7.009506225585938e-05\n",
      "['1번 학생, 책을 읽어봐.', '', '3번 학생, 책을 읽어봐.', '4번 학생, 책을 읽어봐.', '', '6번 학생, 책을 읽어봐.', '7번 학생, 책을 읽어봐.', '8번 학생, 책을 읽어봐.', '9번 학생, 책을 읽어봐.', '10번 학생, 책을 읽어봐.']\n"
     ]
    }
   ],
   "source": [
    "absent = [2,5]  # 결석\n",
    "no_book = [7]  # 책을 준비 안함\n",
    "for student in range(1, 11):  # 출석 번호 1 ~ 10\n",
    "    if student in absent:\n",
    "        continue  # 반복문의 다음 순번으로 강제로 넘기는 제어문\n",
    "    elif student in no_book:\n",
    "        print(f\"오늘 수업 여기까지. {student}번은 교무실로 따라와 !!\")\n",
    "        break  # 반복문을 멈추고 탈출하는 제어문\n",
    "    print(f\"{student}, 책을 읽어봐.\")\n",
    "    \n",
    "print(\"-\"*10)\n",
    "\n",
    "### pass 구간\n",
    "import time\n",
    "start = time.time()\n",
    "for i in range(10):  # 이 for 반복문은 i가 0 ~ 9까지 돌아가는 동안 아무 동작도 하지 않는다.\n",
    "    pass\n",
    "print(time.time() - start)\n",
    "\n",
    "# continue : 바로 다음 순번의 반복문(loop)를 수행한다.\n",
    "#            주로 반복문 내에서 if 조건문을 활용할 때 많이 사용한다.\n",
    "# break : 반복문(loop)을 멈추고 반복문(loop) 밖으로 탈출한다.\n",
    "#         주로 반복문 내에서 if 조건문을 활용할 때 많이 사용한다.\n",
    "# pass : 실행할 코드가 없는 것으로 다음 행동을 계속해서 진행한다.\n",
    "#        continue와 혼동할 수 있다. 하지만 continue는 반복문에서,\n",
    "#        pass는 반복문/함수/클래스 등 다양한 상황에서 사용 가능하다.\n",
    "#        그래도 헷갈린다면 pass는 보류의 개념으로 생각해보면 쉽다.\n",
    "\n",
    "#### TODO : 한 줄 작성문에서는 continue, break, pass 와 같은 제어문을 사용이 안 된다. 사실 확인 필요\n",
    "print([f\"{student}번 학생, 책을 읽어봐.\" if student not in absent else f\"오늘 수업 여기까지. {student}번 학생은 교무실로 따라와 !!\" if student in no_book else \"\" for student in range(1,11)])"
   ]
  },
  {
   "cell_type": "markdown",
   "metadata": {},
   "source": [
    "### continue"
   ]
  },
  {
   "cell_type": "code",
   "execution_count": 11,
   "metadata": {},
   "outputs": [
    {
     "name": "stdout",
     "output_type": "stream",
     "text": [
      "1\n",
      "3\n",
      "5\n",
      "7\n",
      "9\n",
      "Done\n"
     ]
    }
   ],
   "source": [
    "## continue\n",
    "for i in range(10):\n",
    "    if i % 2 == 0:  # i가 0또는 짝수인 경우에 continue 동작\n",
    "        continue  # 다음 순번으로 강제로 넘긴다.\n",
    "        print(i)  # 이 print 함수는 동작하지 않는다.\n",
    "    print(i)\n",
    "    \n",
    "print(\"Done\")\n",
    "# 결과 : i가 홀수일 때만 출력된다."
   ]
  },
  {
   "cell_type": "markdown",
   "metadata": {},
   "source": [
    "### pass"
   ]
  },
  {
   "cell_type": "code",
   "execution_count": 12,
   "metadata": {},
   "outputs": [
    {
     "name": "stdout",
     "output_type": "stream",
     "text": [
      "0\n",
      "0\n",
      "1\n",
      "2\n",
      "2\n",
      "3\n",
      "4\n",
      "4\n",
      "5\n",
      "6\n",
      "6\n",
      "7\n",
      "8\n",
      "8\n",
      "9\n",
      "Done\n"
     ]
    }
   ],
   "source": [
    "## pass\n",
    "for i in range(10):\n",
    "    if i % 2 == 0:  # i가 0또는 짝수인 경우에 pass 동작\n",
    "        pass  # (feat.아무 일도 없었다.)반복문에 영향을 끼치지 않는다.\n",
    "        print(i)  # 이 print 함수는 동작한다.\n",
    "    print(i)\n",
    "    \n",
    "print(\"Done\")\n",
    "# 결과 : i가 0부터 9까지 순서대로 출력되고, i가 짝수일때 한번 더 출력된다."
   ]
  },
  {
   "cell_type": "markdown",
   "metadata": {},
   "source": [
    "### break"
   ]
  },
  {
   "cell_type": "code",
   "execution_count": 13,
   "metadata": {},
   "outputs": [
    {
     "name": "stdout",
     "output_type": "stream",
     "text": [
      "Done\n"
     ]
    }
   ],
   "source": [
    "## break\n",
    "for i in range(10):\n",
    "    if i % 2 == 0:  # i가 0또는 짝수인 경우에 break 동작\n",
    "        break  # 반복문을 즉시 멈추고 탈출한다.\n",
    "        print(i)  # 이 print 함수는 동작하지 않는다.\n",
    "    print(i)\n",
    "    \n",
    "print(\"Done\")\n",
    "# 결과 : i는 0부터 시작되기 때문에 if 조건문이 동작하여 반복문은 바로 멈춘다."
   ]
  },
  {
   "cell_type": "markdown",
   "metadata": {},
   "source": [
    "## 한 줄 조건문 & 반복문"
   ]
  },
  {
   "cell_type": "markdown",
   "metadata": {},
   "source": [
    "### 기존 for 반복문과 한 줄 for 반복문 비교"
   ]
  },
  {
   "cell_type": "code",
   "execution_count": 67,
   "metadata": {},
   "outputs": [
    {
     "name": "stdout",
     "output_type": "stream",
     "text": [
      "0 1 2 3 4 5 6 7 8 9 \n",
      "[0, 1, 2, 3, 4, 5, 6, 7, 8, 9]\n",
      "0 1 2 3 4 5 6 7 8 9\n",
      "-----\n",
      "[[0, 1, 2, 3, 4, 5, 6, 7, 8, 9], [10, 11, 12]]\n",
      "0 1 2 3 4 5 6 7 8 9 10 11 12 \n",
      "[0, 1, 2, 3, 4, 5, 6, 7, 8, 9, 10, 11, 12]\n",
      "0 1 2 3 4 5 6 7 8 9 10 11 12\n"
     ]
    }
   ],
   "source": [
    "#### ex 1) - 1차원 list의 각 원소를 출력하기\n",
    "v = list(range(10))\n",
    "\n",
    "# 기존 - 정수형\n",
    "for i in v:\n",
    "    print(i, end=\" \")\n",
    "print()\n",
    "\n",
    "# 한 줄 - 리스트형\n",
    "print([i for i in v])\n",
    "\n",
    "# 한 줄(좀 더 이쁘게 출력)\n",
    "print(\" \".join(str(i) for i in v))\n",
    "print(\"-\"*5)\n",
    "\n",
    "#### ex 2) - 2차원 list의 각 원소를 출력하기\n",
    "v = [list(range(10)), [10,11,12]]\n",
    "print(v)\n",
    "\n",
    "# 기존 - 정수형\n",
    "for i in v:\n",
    "    for j in i:\n",
    "        print(j, end=\" \")\n",
    "print()\n",
    "\n",
    "# 한 줄 - 리스트형\n",
    "print([j for i in v for j in i])\n",
    "\n",
    "# 한 줄(좀 더 이쁘게 출력)\n",
    "print(\" \".join(str(j) for i in v for j in i))"
   ]
  },
  {
   "cell_type": "code",
   "execution_count": 84,
   "metadata": {},
   "outputs": [
    {
     "name": "stdout",
     "output_type": "stream",
     "text": [
      "[101, 102, 103, 104, 105]\n",
      "[101, 102, 103, 104, 105]\n",
      "-----\n",
      "[8, 4, 5]\n",
      "[8, 4, 5]\n",
      "-----\n",
      "['IRON MAN', 'THOR', 'GROOT']\n",
      "['IRON MAN', 'THOR', 'GROOT']\n"
     ]
    }
   ],
   "source": [
    "#### ex 3) - 출석 번호가 1 ~ 4 가 있는데, 앞에 100을 붙이기로 함 -> 101,102,103,104\n",
    "students = [1,2,3,4,5]\n",
    "\n",
    "# 기존\n",
    "for i in range(5):\n",
    "    students[i] += 100\n",
    "print(students)\n",
    "\n",
    "# 한 줄\n",
    "students = [1,2,3,4,5]\n",
    "print([i+100 for i in students])\n",
    "print(\"-\"*5)\n",
    "\n",
    "#### ex 4) - 학생 이름을 길이로 변환\n",
    "students = [\"Iron man\",\"Thor\",\"Groot\"]\n",
    "\n",
    "# 기존\n",
    "for i in range(3):\n",
    "    students[i] = len(students[i])\n",
    "print(students)\n",
    "\n",
    "# 한 줄\n",
    "students = [\"Iron man\",\"Thor\",\"Groot\"]\n",
    "print([len(i) for i in students])\n",
    "print(\"-\"*5)\n",
    "\n",
    "#### ex 5) - 학생 이름을 대문자로 변환\n",
    "students = [\"Iron man\",\"Thor\",\"Groot\"]\n",
    "\n",
    "# 기존\n",
    "for i in range(3):\n",
    "    students[i] = students[i].upper()\n",
    "print(students)\n",
    "\n",
    "# 한 줄\n",
    "students = [\"Iron man\",\"Thor\",\"Groot\"]\n",
    "print([i.upper() for i in students])"
   ]
  },
  {
   "cell_type": "markdown",
   "metadata": {},
   "source": [
    "### 기존 if 조건문과 한 줄 if 조건문 비교"
   ]
  },
  {
   "cell_type": "code",
   "execution_count": 128,
   "metadata": {},
   "outputs": [
    {
     "name": "stdout",
     "output_type": "stream",
     "text": [
      "0\n",
      "0\n",
      "0\n",
      "1\n",
      "-----\n",
      "0\n",
      "0\n",
      "1\n",
      "2\n"
     ]
    }
   ],
   "source": [
    "#### ex 1) - 하나의 조건\n",
    "v = 3\n",
    "\n",
    "# 기존\n",
    "if v < 5:\n",
    "    print(0)\n",
    "\n",
    "# 한 줄 1\n",
    "if v < 5 : print(0)\n",
    "\n",
    "# 한 줄 2\n",
    "print(0 if v < 5 else 1)\n",
    "v = 8\n",
    "print(0 if v < 5 else 1)\n",
    "print(\"-\"*5)\n",
    "\n",
    "#### ex 2) - 둘 이상의 조건\n",
    "v = 4\n",
    "\n",
    "# 기존\n",
    "if v < 5:\n",
    "    print(0)\n",
    "elif v < 10:\n",
    "    print(1)\n",
    "else:\n",
    "    print(2)\n",
    "\n",
    "# 한 줄\n",
    "v = 3\n",
    "print(0 if v < 5 else 1 if v < 10 else 2)\n",
    "v = 6\n",
    "print(0 if v < 5 else 1 if v < 10 else 2)\n",
    "v = 10\n",
    "print(0 if v < 5 else 1 if v < 10 else 2)"
   ]
  },
  {
   "cell_type": "markdown",
   "metadata": {},
   "source": [
    "### 기존 for문 + if문과 한 줄 for문 + if문 비교"
   ]
  },
  {
   "cell_type": "code",
   "execution_count": 133,
   "metadata": {},
   "outputs": [
    {
     "name": "stdout",
     "output_type": "stream",
     "text": [
      "[10, 11, 12, 13, 14, 15, 16, 17, 18, 19]\n",
      "12\n",
      "[12]\n",
      "12\n",
      "-----\n",
      "No No 12 No No No No No No No \n",
      "['No', 'No', 12, 'No', 'No', 'No', 'No', 'No', 'No', 'No']\n",
      "No No 12 No No No No No No No\n"
     ]
    }
   ],
   "source": [
    "#### ex 1) - if문 조건에 해당하는 값만 출력하기\n",
    "v = list(range(10,20))  # 10 ~ 19, 10개\n",
    "print(v)\n",
    "\n",
    "# 기존\n",
    "for i in v:\n",
    "    if i == 12:\n",
    "        print(i)\n",
    "\n",
    "# 한 줄 1\n",
    "print([i for i in v if i == 12])\n",
    "\n",
    "# 한 줄 2\n",
    "print(\" \".join(str(i) for i in v if i == 12))\n",
    "print(\"-\"*5)\n",
    "\n",
    "#### ex 2) - for문에 해당하는 각각의 원소가 if문 조건에 해당하는지, 아닌지\n",
    "v = list(range(10,20))  # 10 ~ 19, 10개\n",
    "\n",
    "# 기존\n",
    "for i in v:\n",
    "    if i == 12:\n",
    "        print(i, end=\" \")\n",
    "    else:\n",
    "        print(\"No\", end=\" \")\n",
    "print()\n",
    "\n",
    "# 한 줄\n",
    "print([i if i == 12 else \"No\" for i in v])\n",
    "\n",
    "# 한 줄(좀 더 예쁘게)\n",
    "print(\" \".join(str(i) if i == 12 else \"No\" for i in v))\n",
    "\n",
    "### 결론 : for문 + if문의 형태는 [실행문 if 문 else 문 for 문] 으로, else 가 필수적이다.\n",
    "### 만약 else 가 필요없다면 [실행문 for 문 if 문] 으로 if 문을 마지막에 쓴다."
   ]
  },
  {
   "cell_type": "markdown",
   "metadata": {},
   "source": [
    "## 퀴즈 5"
   ]
  },
  {
   "cell_type": "code",
   "execution_count": null,
   "metadata": {},
   "outputs": [],
   "source": [
    "# quiz\n",
    "# 당신은 Cocoa 서비스를 이용하는 택시 기사이다.\n",
    "# 50명의 승객과 매칭 기회가 있을 때, 총 탑승 승객 수를 구하는 프로그램을 작성하시오.\n",
    "# 조건 1 : 승객별 운행 소요 시간은 5분 ~ 50분 사이의 난수로 정해집니다.\n",
    "# 조건 2 : 당신은 소요 시간 5분 ~ 15분 사이의 승객만 매칭해야 합니다.\n",
    "# 출력문 예제\n",
    "# [o] 1번째 손님 (소요시간 : 15분)\n",
    "# [x] 2번째 손님 (소요시간 : 50분)\n",
    "# [o] 3번째 손님 (소요시간 : 5분)\n",
    "# [x] 4번째 손님 (소요시간 : 25분)\n",
    "# [x] 5번째 손님 (소요시간 : 39분)\n",
    "# ...\n",
    "# [x] 50번째 손님 (소요시간 : 45분)\n",
    "# 총 탑승 승객 : 2 명\n",
    "import random\n",
    "is_matching = 0\n",
    "for No in range(1, 51):\n",
    "    required_time = random.randint(5, 50)\n",
    "    if 5 <= required_time <= 15:\n",
    "        is_matching += 1\n",
    "        print(f\"[o] {No}번째 손님 (소요시간 : {required_time}분)\")\n",
    "    else:\n",
    "        print(f\"[ ] {No}번째 손님 (소요시간 : {required_time}분)\")\n",
    "\n",
    "print(f\"총 탑승 승객 : {is_matching}명\")"
   ]
  },
  {
   "cell_type": "markdown",
   "metadata": {},
   "source": [
    "## 함수"
   ]
  },
  {
   "cell_type": "code",
   "execution_count": 2,
   "metadata": {},
   "outputs": [
    {
     "name": "stdout",
     "output_type": "stream",
     "text": [
      "새로운 계좌가 생성되었습니다.\n",
      "입금이 완료되었습니다. 잔액은 10000원 입니다.\n",
      "출금 실패, 출금 최소 금액은 1000원입니다. 현재 잔액은 10000원 입니다.\n",
      "출금이 완료되었습니다. 잔액은 9000원 입니다.\n",
      "출금이 완료되었습니다. 잔액은 7900원 입니다.\n",
      "송금 완료, 수수료는 500 원입니다. 잔액은 2400원 입니다.\n",
      "송금 완료, 수수료는 200 원입니다. 잔액은 200원 입니다.\n",
      "200\n"
     ]
    }
   ],
   "source": [
    "def open_account():  # 계좌 생성 함수\n",
    "    print(\"새로운 계좌가 생성되었습니다.\")\n",
    "\n",
    "############################# notice def #############################\n",
    "\n",
    "def notice_success_deposit(balance, money):\n",
    "    print(f\"입금이 완료되었습니다. 잔액은 {balance + money}원 입니다.\")\n",
    "\n",
    "def notice_min_withdraw(balance):  # 출금 최소 금액알림 함수\n",
    "    print(f\"출금 실패, 출금 최소 금액은 1000원입니다. 현재 잔액은 {balance}원 입니다.\")\n",
    "\n",
    "def notice_success_withdraw(balance, money):  # 출금 완료알림 함수\n",
    "    print(f\"출금이 완료되었습니다. 잔액은 {balance - money}원 입니다.\")\n",
    "\n",
    "def notice_success_withdraw_night(balance, money, commission):  # 출금 완료알림 함수(저녁)\n",
    "    print(f\"출금이 완료되었습니다. 잔액은 {balance - money - commission}원 입니다.\")\n",
    "\n",
    "def notice_balance_Lack(balance):  # 잔액 부족알림 함수\n",
    "    print(f\"잔액이 부족합니다. 현재 잔액은 {balance}원 입니다.\")\n",
    "\n",
    "def notice_other_bank_remittance(balance, money, commission):  # 송금 완료알림 함수\n",
    "    print(f\"송금 완료, 수수료는 {commission} 원입니다. 잔액은 {balance - money - commission}원 입니다.\")\n",
    "\n",
    "\n",
    "########################## interaction def ##########################\n",
    "\n",
    "def deposit(balance, money):  # 입금 함수\n",
    "    notice_success_deposit(balance, money)\n",
    "    return balance + money\n",
    "\n",
    "def withdraw(balance, money):  # 출금 함수\n",
    "    if money < 1000:  # 출금 최소 금액\n",
    "        notice_min_withdraw(balance)\n",
    "        return balance\n",
    "    if balance >= money:\n",
    "        notice_success_withdraw(balance, money)\n",
    "        return balance - money\n",
    "    else:\n",
    "        notice_balance_Lack(balance)  # 잔액 부족\n",
    "        return balance\n",
    "\n",
    "def withdraw_night(balance, money):  # 저녁에 출금할 떄 적용되는 함수\n",
    "    commission = 100  # 출금 수수료(저녁)\n",
    "    if money < 1000:  # 출금 최소 금액\n",
    "        notice_min_withdraw(balance)\n",
    "        return balance\n",
    "    if balance >= money:\n",
    "        notice_success_withdraw_night(balance, money, commission)\n",
    "        return balance - money - commission\n",
    "    else:\n",
    "        notice_balance_Lack(balance)  # 잔액 부족\n",
    "        return balance\n",
    "\n",
    "def remit_other_bank(balance, money):  # 타은행 송금 함수\n",
    "    commission = int(money * (1 / 10))  # 타은행 송금 수수료\n",
    "    if balance >= money:\n",
    "        notice_other_bank_remittance(balance, money, commission)\n",
    "        return balance - money - commission\n",
    "    else:\n",
    "        notice_balance_Lack(balance)  # 잔액 부족\n",
    "        return balance\n",
    "\n",
    "## activate def\n",
    "account = open_account()\n",
    "balance = 0\n",
    "balance = deposit(balance, 10000)\n",
    "balance = withdraw(balance, 900)\n",
    "balance = withdraw(balance, 1000)\n",
    "balance = withdraw_night(balance, 1000)\n",
    "balance = remit_other_bank(balance, 5000)\n",
    "balance = remit_other_bank(balance, 2000)\n",
    "print(balance)"
   ]
  },
  {
   "cell_type": "markdown",
   "metadata": {},
   "source": [
    "### 함수의 기본값(default value)"
   ]
  },
  {
   "cell_type": "code",
   "execution_count": 12,
   "metadata": {},
   "outputs": [
    {
     "name": "stdout",
     "output_type": "stream",
     "text": [
      "이름 : 유재석\t나이 : 20\t주 사용 언어 : 파이썬\n",
      "이름 : 김태호\t나이 : 25\t주 사용 언어 : 지비\n",
      "이름 : 유재석\t나이 : 17\t주 사용 언어 : 파이썬\n",
      "이름 : 김태호\t나이 : 17\t주 사용 언어 : 파이썬\n"
     ]
    }
   ],
   "source": [
    "def make_profile(name, age, main_lang):\n",
    "    print(f\"이름 : {name}\\t나이 : {age}\\t주 사용 언어 : {main_lang}\")\n",
    "\n",
    "make_profile(\"유재석\", 20, \"파이썬\")\n",
    "make_profile(\"김태호\", 25, \"지비\")\n",
    "\n",
    "## 같은 학교, 같은 학년, 같은 반, 같은 수업\n",
    "def make_profile(name, age = 17, main_lang = \"파이썬\"):\n",
    "    print(f\"이름 : {name}\\t나이 : {age}\\t주 사용 언어 : {main_lang}\")\n",
    "make_profile(\"유재석\")\n",
    "make_profile(\"김태호\")"
   ]
  },
  {
   "cell_type": "markdown",
   "metadata": {},
   "source": [
    "### 키워드 값을 이용한 함수 호출"
   ]
  },
  {
   "cell_type": "code",
   "execution_count": 29,
   "metadata": {},
   "outputs": [
    {
     "name": "stdout",
     "output_type": "stream",
     "text": [
      "<class 'str'> <class 'int'> <class 'str'>\n",
      "유재석 20 파이썬\n",
      "<class 'str'> <class 'int'> <class 'str'>\n",
      "김태호 25 자바\n"
     ]
    }
   ],
   "source": [
    "def make_profile(name, age, main_lang):\n",
    "    print(type(name), type(age), type(main_lang))\n",
    "    print(name, age, main_lang)\n",
    "# **KeywordArguments : 함수에 매개변수(parameters) 대신 **keyword 형태로 하나만 작성한다.\n",
    "# 이 때는 함수에 arguments를 전달할 때 키워드로 전달해 호출해야 한다.\n",
    "# 그 다음은 키워드로 전달 받은 arguments를 dictionary 형태로 반환한다.\n",
    "# def Profile(**kwargs):\n",
    "#     print(type(kwargs))\n",
    "#     print(kwargs)\n",
    "\n",
    "# 함수에서 생성한 매개변수의 순서에 따라 데이터를 입력하지 않고 아래와 같이\n",
    "# 순서에 상관 없이 매개변수에 값을 넣어도 동일하게 출력 가능하다.\n",
    "make_profile(name=\"유재석\", main_lang=\"파이썬\", age=20)\n",
    "make_profile(main_lang=\"자바\", age=25, name=\"김태호\")"
   ]
  },
  {
   "cell_type": "markdown",
   "metadata": {},
   "source": [
    "### 가변인수를 이용한 함수 호출"
   ]
  },
  {
   "cell_type": "code",
   "execution_count": 7,
   "metadata": {},
   "outputs": [
    {
     "name": "stdout",
     "output_type": "stream",
     "text": [
      "이름 : 유재석\t나이 : 20\t Python java C C++ C#\n",
      "이름 : 김태호\t나이 : 25\t Kotlin Swift   \n",
      "이름 : 유재석\t나이 : 20\t Python java C C++ C# JavasScript \n",
      "이름 : 김태호\t나이 : 25\t Kotlin Swift \n"
     ]
    }
   ],
   "source": [
    "def make_profile(name, age, lang1, lang2, lang3, lang4, lang5):\n",
    "    print(f\"이름 : {name}\\t나이 : {age}\\t\", end=\" \")\n",
    "    print(lang1,lang2,lang3,lang4,lang5)\n",
    "\n",
    "make_profile(\"유재석\", 20, \"Python\", \"java\", \"C\", \"C++\", \"C#\")\n",
    "make_profile(\"김태호\", 25, \"Kotlin\", \"Swift\", \"\", \"\", \"\")\n",
    "\n",
    "def make_profile(name, age, *language):\n",
    "    print(f\"이름 : {name}\\t나이 : {age}\\t\", end=\" \")\n",
    "    [print(lang, end=\" \") for lang in language]\n",
    "    print()\n",
    "make_profile(\"유재석\",\n",
    "        20,\n",
    "        \"Python\",\n",
    "        \"java\",\n",
    "        \"C\",\n",
    "        \"C++\",\n",
    "        \"C#\",\n",
    "        \"JavasScript\"\n",
    "    )\n",
    "make_profile(\"김태호\", 25, \"Kotlin\", \"Swift\")"
   ]
  },
  {
   "cell_type": "markdown",
   "metadata": {},
   "source": [
    "### 지역변수와 전역변수"
   ]
  },
  {
   "cell_type": "code",
   "execution_count": 3,
   "metadata": {},
   "outputs": [
    {
     "name": "stdout",
     "output_type": "stream",
     "text": [
      "전체 총 : 10\n",
      "[함수 내] 남은 총 : 18\n",
      "남은 총 : 10\n",
      "----------\n",
      "전체 총 : 10\n",
      "[함수 내] 남은 총 : 8\n",
      "남은 총 : 8\n",
      "----------\n",
      "전체 총 : 8\n",
      "[함수 내] 남은 총 : 6\n",
      "남은 총 : 6\n"
     ]
    }
   ],
   "source": [
    "gun = 10  # 전역변수\n",
    "\n",
    "def pull_security(soldiers):\n",
    "    gun = 20  # 지역변수\n",
    "    gun -= soldiers  # 20이 들어있는 지역변수 gun에서 연산\n",
    "    print(f\"[함수 내] 남은 총 : {gun}\")\n",
    "\n",
    "print(f\"전체 총 : {gun}\")\n",
    "pull_security(2)\n",
    "print(f\"남은 총 : {gun}\")  # 10이 들어있는 전역변수 gun에는 아무 영향이 없음\n",
    "\n",
    "print(\"-\"*10)\n",
    "\n",
    "#### 전역변수를 지역변수로 사용하기\n",
    "# ※ 전역변수 수가 많아 지면 관리가 어렵고, 가독성도 떨어지기 때문에 권장하지 않음\n",
    "def pull_security(soldiers):\n",
    "    global gun  # 전역변수 gun을 함수 내에서 사용\n",
    "    gun -= soldiers  # 20이 들어있는 지역변수 gun에서 연산\n",
    "    print(f\"[함수 내] 남은 총 : {gun}\")\n",
    "\n",
    "print(f\"전체 총 : {gun}\")\n",
    "pull_security(2)\n",
    "print(f\"남은 총 : {gun}\")  # 10이 들어있는 전역변수 gun에는 아무 영향이 없음\n",
    "\n",
    "print(\"-\"*10)\n",
    "\n",
    "#### 전역변수를 매개변수로 받고 다시 반환하기\n",
    "def pull_security(gun, soldiers):  # 매개변수 gun이 전역변수 gun와 지역변수 gun 사이의 오작교 역할\n",
    "    # 매개변수 gun 의 역할 순서\n",
    "    # 1. 매개변수 gun이 전역변수 gun을 전달 값으로 받음\n",
    "    # 2. 함수 내에서 지역변수로써 역할을 수행함\n",
    "    gun -= soldiers\n",
    "    print(f\"[함수 내] 남은 총 : {gun}\")\n",
    "    return gun  # 역할을 모두 수행한 후의 값을 다시 반환함\n",
    "\n",
    "print(f\"전체 총 : {gun}\")\n",
    "gun = pull_security(gun, 2)\n",
    "print(f\"남은 총 : {gun}\")"
   ]
  },
  {
   "cell_type": "markdown",
   "metadata": {},
   "source": [
    "## 퀴즈 6"
   ]
  },
  {
   "cell_type": "code",
   "execution_count": 4,
   "metadata": {},
   "outputs": [
    {
     "name": "stdout",
     "output_type": "stream",
     "text": [
      "179cm 남자의 표준 체중은 70.49kg 입니다.\n"
     ]
    }
   ],
   "source": [
    "# quiz\n",
    "# 표준 체중을 구하는 프로그램을 작성하시오\n",
    "# 표준 체중 : 각 개인의 키에 적당한 제중\n",
    "# (성별에 따른 공식)\n",
    "# 남자 : 키(m) x 키(m) x 22\n",
    "# 여자 : 키(m) x 키(m) x 21\n",
    "# 조건 1 : 표준 체중은 별도의 함수 내에서 계산\n",
    "#   * 함수명 : std_weight\n",
    "#   * 전달값 : 키(height), 성별(gender)\n",
    "# 조건 2 : 표준 체중은 소수점 둘째자리까지 표시\n",
    "# (출력 예제)\n",
    "# 키 175cm 남자의 표준 체중은 67.38kg 입니다.\n",
    "\n",
    "def find_standard_weight(height, gender):\n",
    "    if gender == \"남자\":\n",
    "        return ((height / 100) ** 2) * 22\n",
    "    if gender == \"여자\":\n",
    "        return ((height / 100) ** 2) * 21\n",
    "height_ = 179\n",
    "gender_ = \"남자\"\n",
    "std = round(find_standard_weight(height_, gender_), 2)\n",
    "print(f\"{height_}cm {gender_}의 표준 체중은 {std}kg 입니다.\")"
   ]
  },
  {
   "cell_type": "markdown",
   "metadata": {},
   "source": [
    "## 표준 입출력"
   ]
  },
  {
   "cell_type": "code",
   "execution_count": 68,
   "metadata": {},
   "outputs": [
    {
     "name": "stdout",
     "output_type": "stream",
     "text": [
      "Python,Java\n",
      "Python vs Java\n",
      "----------\n",
      "Python,Java?무엇이 더 재미있을까요?\n",
      "----------\n",
      "Hello World!\n",
      "\n",
      "Hello World!\n",
      "\n",
      "----------\n",
      "0 1 2 3 4 5 6 7 8 9 \n",
      "----------\n",
      "수학  :   0\n",
      "영어  :  50\n",
      "코딩  : 100\n",
      "----------\n",
      "대기번호 : 001\n",
      "대기번호 : 002\n",
      "대기번호 : 003\n",
      "대기번호 : 004\n",
      "대기번호 : 005\n",
      "대기번호 : 006\n",
      "대기번호 : 007\n",
      "대기번호 : 008\n",
      "대기번호 : 009\n",
      "대기번호 : 010\n",
      "대기번호 : 011\n",
      "대기번호 : 012\n",
      "대기번호 : 013\n",
      "대기번호 : 014\n",
      "대기번호 : 015\n",
      "대기번호 : 016\n",
      "대기번호 : 017\n",
      "대기번호 : 018\n",
      "대기번호 : 019\n",
      "대기번호 : 020\n",
      "----------\n"
     ]
    }
   ],
   "source": [
    "#### NOTE\n",
    "## sep=\" \" : 출력문에 둘 이상의 데이터를 구분짓는 방법이라고 생각한다.\n",
    "# default 값은 빈칸이다.\n",
    "print(\"Python\",\"Java\", sep=\",\")\n",
    "print(\"Python\",\"Java\", sep=\" vs \")\n",
    "\n",
    "print(\"-\"*10)\n",
    "\n",
    "## end=\"\\n\" : print문을 출력한 후 후처리를 담당한다고 생각한다.\n",
    "# default 값은 \\n(줄바꿈) 이다.\n",
    "print(\"Python\",\"Java\", sep=\",\", end=\"?\")\n",
    "print(\"무엇이 더 재미있을까요?\")\n",
    "\n",
    "print(\"-\"*10)\n",
    "\n",
    "## file=sys.stdout : 키워드 인자에 write 메서드가 포함된 파일 객체를 설정해주면 \n",
    "# 해당 파일에 직접 내용을 쓰는 것도 가능하다.\n",
    "# default 값은 sys.stdout 으로 화면에 내용을 출력해주는 것이고, 우리가 print()를 쓰는 이유이기도 하다.\n",
    "with open(\"test.txt\", \"w\") as f:\n",
    "    print(\"Hello World!\", file=f)\n",
    "    f.close()\n",
    "\n",
    "with open(\"test.txt\", \"r\") as f:\n",
    "    print(f.read())\n",
    "    f.close()\n",
    "\n",
    "print(open(\"test.txt\").read())\n",
    "open(\"test.txt\").close()\n",
    "\n",
    "print(\"-\"*10)\n",
    "\n",
    "## flush = False : 출력의 버퍼링 여부를 설정한다.\n",
    "# default 값은 False 이며, 일반적으로 출력의 버퍼링 여부는 file에 의해 정해지지만,\n",
    "# flush 를 True 로 설정하면 스트림이 강제로 된다고 함. 즉, print() 함수의 출력 값이\n",
    "# buffered 상태일 때 flush=True 로 설정하면 buffered 된 출력값을 바로 목적지에 도달시킬 수 있다.\n",
    "import time\n",
    "for i in range(10):\n",
    "    # 이와 같이 flush=True 로 설정하면 print() 함수가 실행될 때마다 flush 가 되어 1초에 한 글자씩 출력된다.\n",
    "    # 하지만 현재 실행환경인 vscode 혹은 주피터노트북과 같은 곳에서는 flush=False 인 상태에서도 flush 가 되고있는 현상이 발생한다.\n",
    "    # 이는 실행환경을 터미널 or repl.it 로 옮겨 실행해보면 정상적으로 flush=False 상태에서는 buffered 된 채로 10초뒤에 한꺼번에 출력된다.\n",
    "    print(i, end=\" \", flush=True)\n",
    "    time.sleep(.3)\n",
    "\n",
    "print()\n",
    "print(\"-\"*10)\n",
    "\n",
    "## ljust(int) : 왼쪽 정렬 후 입력 받은 int 값 만큼의 빈 공간 확보\n",
    "## rjist(int) : 오른쪽 정렬 후 입력 받은 int 값 만큼의 빈 공간 확보\n",
    "# 괄호 () 안에 int 값은 입력함으로 빈 공간의 크기를 정한다.\n",
    "# 단, 문자열에 대해서만 적용 가능하다.\n",
    "# 추가로 출력 포맷 방식으로도 똑같이 출력할 수 있다.\n",
    "scores = {\"수학\":0, \"영어\":50, \"코딩\":100}\n",
    "for subjact, score in scores.items():\n",
    "    # print(subjact, score)\n",
    "    ## 출력 포맷 방식\n",
    "    # print(f\"{subjact:<4}:{score:>4}\")\n",
    "    # print(\"{:<4}:{:>4}\".format(subjact, score))\n",
    "    # print(\"%-4s:%4s\" %(subjact,score))\n",
    "    ## ljust(), rjust() 방식\n",
    "    # 여기서 주목할 점은 score 변수안에는 정수형(int) 값이 들어 있기 때문에\n",
    "    # str() 함수를 이용해 문자열로 바꾸어 주었다는 것이다.\n",
    "    print(subjact.ljust(4), str(score).rjust(4), sep=\":\")\n",
    "\n",
    "print(\"-\"*10)\n",
    "\n",
    "## zfill(int) : 괄호 () 안에 정수를 입력한 값만큼 공간을 확보한 뒤 0으로 채운다.\n",
    "# 추가로 출력 포맷 방식으로도 똑같이 출력할 수 있다.\n",
    "for num in range(1, 21):\n",
    "    ## 출력 포맷 방식\n",
    "    # 정렬 방향을 정해주지 않으면 왼쪽부터 0으로 채우면서 변환값을 출력함\n",
    "    # print(f\"대기번호 : {num:03}\")\n",
    "    # print(\"대기번호 : {:03}\".format(num))\n",
    "    # print(\"대기번호 : %03d\" %num)\n",
    "    ## zfill() 방식\n",
    "    # 문자열의 왼쪽으로 0으로 채워준다.\n",
    "    print(\"대기번호 : \" + str(num).zfill(3))\n",
    "\n",
    "print(\"-\"*10)\n",
    "\n",
    "## input(int or str) : 사용자의 입력을 받는 함수\n",
    "# 정수형이던 문자열이던 일단 사용자의 입력을 받으면 문자열로 저장 후 반환한다.\n",
    "# answer = input(\"아무 값이나 입력하세요 : \")\n",
    "# print(type(answer))\n",
    "# print(\"입력하신 값은 \" + answer + \"입니다.\")"
   ]
  },
  {
   "cell_type": "markdown",
   "metadata": {},
   "source": [
    "## 다양한 출력 포맷"
   ]
  },
  {
   "cell_type": "code",
   "execution_count": 58,
   "metadata": {},
   "outputs": [
    {
     "name": "stdout",
     "output_type": "stream",
     "text": [
      "       500\n",
      "500       \n",
      "       500\n",
      "500       \n",
      "       500\n",
      "500       \n",
      "----------\n",
      "      +500\n",
      "-500      \n",
      "      +500\n",
      "-500      \n",
      "       500\n",
      "-500      \n",
      "----------\n",
      "_______500\n",
      "500_______\n",
      "_______500\n",
      "500_______\n",
      "       500\n",
      "500       \n",
      "----------\n",
      "5,000,000\n",
      "5,000,000\n",
      "5000000\n",
      "5000000   \n",
      "----------\n",
      "+5,000,000\n",
      "-5,000,000\n",
      "+5,000,000\n",
      "-5,000,000\n",
      "----------\n",
      "^^^^^^^^^^+5,000,000\n",
      "-5,000,000^^^^^^^^^^\n",
      "^^^^^^^^^^+5,000,000\n",
      "-5,000,000^^^^^^^^^^\n",
      "----------\n",
      "1.666667\n",
      "1.667\n",
      "1.666667\n",
      "1.667\n",
      "1.666667\n",
      "1.667\n"
     ]
    }
   ],
   "source": [
    "##### 앞서 다뤘던 문자열 포맷과 표준 입출력에서 봤던 포맷 방식을 한 곳에서 다시 한번 정리해보자. #####\n",
    "## 1. 빈 자리는 빈 공간으로 두고, 양쪽 정렬\n",
    "# f-문자열(포맷 문자열 리터럴)\n",
    "print(f\"{500:>10}\")\n",
    "print(f\"{500:<10}\")\n",
    "# .format() 메서드\n",
    "print(\"{:>10}\".format(500))\n",
    "print(\"{:<10}\".format(500))\n",
    "# %연산자\n",
    "print(\"%10s\" %500)\n",
    "print(\"%-10s\" %500)\n",
    "\n",
    "print(\"-\"*10)\n",
    "\n",
    "## 2. 양수일 떄는 +로 표시, 음수일 때는 -로 표시\n",
    "# f-문자열(포맷 문자열 리터럴)\n",
    "print(f\"{500:>+10}\")\n",
    "print(f\"{-500:<+10}\")\n",
    "# .format() 메서드\n",
    "print(\"{:>+10}\".format(500))\n",
    "print(\"{:<+10}\".format(-500))\n",
    "# %연산자\n",
    "#### NOTE : % 연산자에서 + 부호를 변환 값에 붙이려고 시도했는데 파이썬 공식문서에 나와 있는대로 해도 작동되지 않는다.\n",
    "print(\"%10s\" %500)\n",
    "print(\"%-10s\" %-500)\n",
    "\n",
    "print(\"-\"*10)\n",
    "\n",
    "## 3. 빈 자리는 \"_\"로 채우고, 양쪽 정렬\n",
    "# f-문자열(포맷 문자열 리터럴)\n",
    "print(f\"{500:_>10}\")\n",
    "print(f\"{500:_<10}\")\n",
    "# .format() 메서드\n",
    "print(\"{:_>10}\".format(500))\n",
    "print(\"{:_<10}\".format(500))\n",
    "# %연산자\n",
    "#### NOTE : 파이썬 공식문서에 % 연산자에서 빈 공간을 \"_\"로 채우는 변환 플래그는 나와 있지 않다.\n",
    "print(\"%10s\" %500)\n",
    "print(\"%-10s\" %500)\n",
    "\n",
    "print(\"-\"*10)\n",
    "\n",
    "## 4. 3자리 마다 콤마(,) 찍어 주기\n",
    "# f-문자열(포맷 문자열 리터럴)\n",
    "print(f\"{5000000:,}\")\n",
    "# .format() 메서드\n",
    "print(\"{:,}\".format(5000000))\n",
    "# %연산자\n",
    "#### NOTE : 파이썬 공식문서에 % 연산자에서 3자리마다 콤마(,)를 찍어주는 변환 플래그는 나와 있지 않다.\n",
    "print(\"%s\" %5000000)\n",
    "print(\"%-10s\" %5000000)\n",
    "\n",
    "print(\"-\"*10)\n",
    "\n",
    "## 4-1. 3자리 마다 콤마(,) 찍고 +- 부호도 붙이기\n",
    "# f-문자열(포맷 문자열 리터럴)\n",
    "print(f\"{5000000:+,}\")\n",
    "print(f\"{-5000000:+,}\")\n",
    "# .format() 메서드\n",
    "print(\"{:+,}\".format(5000000))\n",
    "print(\"{:+,}\".format(-5000000))\n",
    "\n",
    "print(\"-\"*10)\n",
    "\n",
    "## 4-2. 3자리 마다 콤마(,) 찍고, +- 부호도 붙이고, 빈 공간을 확보하여 \"^\"로 채우기\n",
    "print(f\"{5000000:^>+20,}\")\n",
    "print(f\"{-5000000:^<+20,}\")\n",
    "# .format() 메서드\n",
    "print(\"{:^>+20,}\".format(5000000))\n",
    "print(\"{:^<+20,}\".format(-5000000))\n",
    "\n",
    "print(\"-\"*10)\n",
    "\n",
    "## 5. 소수점 출력(변환값 그대로 출력 or 원하는 소수점 자리만큼 출력)\n",
    "# f-문자열(포맷 문자열 리터럴)\n",
    "print(f\"{5/3:f}\")\n",
    "print(f\"{5/3:.3f}\")\n",
    "# .format() 메서드\n",
    "print(\"{:f}\".format(5/3))\n",
    "print(\"{:.3f}\".format(5/3))\n",
    "# %연산자\n",
    "print(\"%f\" %(5/3))\n",
    "print(\"%.3f\" %(5/3))"
   ]
  },
  {
   "cell_type": "markdown",
   "metadata": {},
   "source": [
    "## 파일 입출력"
   ]
  },
  {
   "cell_type": "markdown",
   "metadata": {},
   "source": [
    "### open()"
   ]
  },
  {
   "cell_type": "code",
   "execution_count": 85,
   "metadata": {},
   "outputs": [
    {
     "name": "stdout",
     "output_type": "stream",
     "text": [
      "수학 : 0\n",
      "영어 : 50\n",
      "과학 : 80\n",
      "코딩 : 100\n",
      "----------\n",
      "수학 : 0\n",
      "영어 : 50\n",
      "과학 : 80\n",
      "코딩 : 100\n",
      "----------\n",
      "수학 : 0\n",
      "영어 : 50\n",
      "과학 : 80\n",
      "코딩 : 100\n",
      "----------\n",
      "수학 : 0\n",
      "영어 : 50\n",
      "과학 : 80\n",
      "코딩 : 100"
     ]
    }
   ],
   "source": [
    "## open() 함수 이용하기\n",
    "# \"w\" : 쓰기, 새로운 내용을 추가하면 엎어 쓰기가 된다는 점에 주목\n",
    "# score_file = open(\"score.txt\", \"w\", encoding=\"utf8\")\n",
    "# print(\"수학 : 0\", file=score_file)\n",
    "# print(\"영어 : 50\", file=score_file)\n",
    "# score_file.close()\n",
    "\n",
    "# # \"a\" : 추가하기, 새로운 내용을 추가하면 기존에 쓰여진 내용 뒤에 추가로 입력된다.\n",
    "# score_file = open(\"score.txt\", \"a\", encoding=\"utf8\")\n",
    "# # file.write() 메서드를 사용할 때는 print() 함수 처럼 자동 줄바꿈처리가 되지 않기 때문에\n",
    "# # 필요하다면 줄바꿈 \"\\n\"을 명시적으로 정의해줘야 한다.\n",
    "# score_file.write(\"과학 : 80\")\n",
    "# score_file.write(\"\\n코딩 : 100\")\n",
    "# score_file.close()\n",
    "\n",
    "# \"r\" : 읽기, 해당 파일을 읽기 전용으로 불러온다.\n",
    "# 모두 읽기\n",
    "score_file = open(\"score.txt\", \"r\", encoding=\"utf8\")\n",
    "print(score_file.read())\n",
    "score_file.close()\n",
    "\n",
    "print(\"-\"*10)\n",
    "\n",
    "# 한 줄씩 읽기\n",
    "score_file = open(\"score.txt\", \"r\", encoding=\"utf8\")\n",
    "print(score_file.readline(), end=\"\")\n",
    "print(score_file.readline(), end=\"\")\n",
    "print(score_file.readline(), end=\"\")\n",
    "print(score_file.readline())\n",
    "score_file.close()\n",
    "\n",
    "print(\"-\"*10)\n",
    "\n",
    "# while 반복문을 사용하여 한 줄씩 읽어오기\n",
    "score_file = open(\"score.txt\", \"r\", encoding=\"utf8\")\n",
    "while True:\n",
    "    line = score_file.readline()\n",
    "    if not line:\n",
    "        break\n",
    "    print(line, end=\"\")\n",
    "score_file.close()\n",
    "\n",
    "print()\n",
    "print(\"-\"*10)\n",
    "\n",
    "# list 형태로 읽어오기\n",
    "score_file = open(\"score.txt\", \"r\", encoding=\"utf8\")\n",
    "lines = score_file.readlines()  # list 형태로 저장\n",
    "for line in lines:\n",
    "    print(line, end=\"\")\n",
    "score_file.close()"
   ]
  },
  {
   "cell_type": "markdown",
   "metadata": {},
   "source": [
    "### pickle"
   ]
  },
  {
   "cell_type": "code",
   "execution_count": 88,
   "metadata": {},
   "outputs": [
    {
     "name": "stdout",
     "output_type": "stream",
     "text": [
      "{'이름': '박명수', '나이': 30, '취미': ['축구', '골프', '코딩']}\n"
     ]
    }
   ],
   "source": [
    "import pickle\n",
    "profile_file = open(\"profile.pkl\", \"wb\")\n",
    "profile = {\"이름\":\"박명수\", \"나이\":30, \"취미\":[\"축구\",\"골프\",\"코딩\"]}\n",
    "print(profile)\n",
    "pickle.dump(profile, profile_file)  # profile에 있는 정보를 profile_file에 저장\n",
    "profile_file.close()\n",
    "\n",
    "profile_file = open(\"profile.pkl\", \"rb\")\n",
    "profile = pickle.load(profile_file)  # profile_file에 있는 정보를 profile에 불러오기\n",
    "print(profile)\n",
    "profile_file.close()"
   ]
  },
  {
   "cell_type": "markdown",
   "metadata": {},
   "source": [
    "### with"
   ]
  },
  {
   "cell_type": "code",
   "execution_count": 98,
   "metadata": {},
   "outputs": [
    {
     "name": "stdout",
     "output_type": "stream",
     "text": [
      "{'이름': '박명수', '나이': 30, '취미': ['축구', '골프', '코딩']}\n",
      "파이썬을 열심히 공부하고 있어요.\n"
     ]
    }
   ],
   "source": [
    "import pickle\n",
    "# 위에서 보았던 open() 함수와 pickle 라이브러리를 사용할 때와 달리 close()를 할 필요가 없다는 점에 주목\n",
    "with open(\"profile.pkl\", \"rb\") as f:\n",
    "    print(pickle.load(f))\n",
    "\n",
    "with open(\"study.txt\", \"w\", encoding=\"utf8\") as f:\n",
    "    f.write(\"파이썬을 열심히 공부하고 있어요.\")\n",
    "\n",
    "with open(\"study.txt\", \"r\", encoding=\"utf8\") as f:\n",
    "    print(f.read())"
   ]
  },
  {
   "cell_type": "markdown",
   "metadata": {},
   "source": [
    "## 퀴즈 7"
   ]
  },
  {
   "cell_type": "code",
   "execution_count": 107,
   "metadata": {},
   "outputs": [],
   "source": [
    "# quiz\n",
    "# 당신의 회사에서는 매 주 1회 작성해야 하는 보고서가 있다.\n",
    "# 1주차부터 50주차까지의 보고서 파일을 만드는 프로그램을 작성하시오.\n",
    "# 보고서는 항상 아래와 같은 형태로 출력되어야 한다.\n",
    "# (출력 예제)\n",
    "# - X 주차 주간보고 -\n",
    "# 부서 :\n",
    "# 이름 :\n",
    "# 업무 요약 :\n",
    "# 조건 : 파일명은 \"1주차.txt\" 와 같이 만든다.\n",
    "\n",
    "for week in range(1, 51):  # 1주차 ~ 50주차\n",
    "    with open(f\"./file_in&output/{week}주차.txt\", \"w\", encoding=\"utf8\") as f:\n",
    "        f.write(f\"- {week} 주차 주간보고 -\")\n",
    "        f.write(\"\\n부서 : AI기반 응용소프트웨어 개발\")\n",
    "        f.write(\"\\n이름 : 조성혁\")\n",
    "        f.write(\"\\n업무 요약 : AI기반 응용소프트웨어 개발\")"
   ]
  },
  {
   "cell_type": "markdown",
   "metadata": {},
   "source": [
    "## 클래스"
   ]
  },
  {
   "cell_type": "markdown",
   "metadata": {},
   "source": [
    "### 함수 내 용어\n",
    "<img src=\"./images/function_terms.png\">\n",
    "<!-- ![terms of inside function](./images/function_terms.png) -->"
   ]
  },
  {
   "cell_type": "code",
   "execution_count": 5,
   "metadata": {},
   "outputs": [
    {
     "name": "stdout",
     "output_type": "stream",
     "text": [
      "마린 유닛이 생성 되었습니다.\n",
      "체력 40, 공격력 5\n",
      "마린 유닛이 생성 되었습니다.\n",
      "체력 40, 공격력 5\n",
      "탱크 유닛이 생성 되었습니다.\n",
      "체력 150, 공격력 35\n"
     ]
    }
   ],
   "source": [
    "##### 스타크래프트 게임을 예로 클래스를 작성해본다 #####\n",
    "# class : 데이터나 처리의 정의 등을 하나의 모형으로 정리해둔 것\n",
    "# 붕어빵의 예로 클래스는 붕어빵 틀에 해당하고 해당 클래스로 만들어내는 객체(인스턴스)는 붕어빵인 셈이다.\n",
    "# class 의 장점으로는 글로벌 변수를 없애고, 모든 변수를 어떠한 스코프에 소속시킨다.\n",
    "# 그리고 몇 번이고 재사용할 수 있으며, 코드의 수정을 최소화 시킬수 있다.\n",
    "# 마지막으로는 함수를 실행하는 중에, 함수 자신을 다시 호출하는 처리 등이 가능하게 한다.\n",
    "class CreateUnit:\n",
    "    # __init__() : 초기화(initialize) 메서드,\n",
    "    # 첫 번째 매개변수로는 반드시 \"self\"와 같이 인수를 따로 받지 않는 매개변수를 지정해야 한다.\n",
    "    # 어떤 클래스의 객체가 만들어질 때 자동으로 호출되어서 그 객체가 갖게 될 여러 성질을 정해주는 일을 한다.\n",
    "    # 참고로 초기화 메서드와 같은 것을 다른 객체지향 언어에서는 생성자(constructor)라고 부른다.\n",
    "    # 생산자(constructor)란 인스턴스라는 객체가 생성될 때 \"자동으로 호출\"되는 메서드를 의미한다.\n",
    "    # 즉, 초기값 설정을 위한 메서드라고 생각하자.\n",
    "    def __init__(self, name, hp, damage):\n",
    "        # self : \"인스턴스 자신\", \"그 시점의 자신\", \"메서드와 임의의 인수\" 등\n",
    "        # 다양하게 부른다. 그러니 클래스의 구성을 취득할 때에 정형의 구문으로써 기억해두면 괜찮은 것 같다.\n",
    "        # 예를 들면 군대라는 클래스에 구성원이 되면 \"군인 조성혁\", \"육군 보병 조성혁\", \"병장 조성혁\" 등의 정형의 구문이 이름 앞에 딸려온다.\n",
    "        # 정리하자면 관례적으로 \"self\"란 이름의 매개변수를 쓰는 것이기 때문에 다른 이름도 가능하다.\n",
    "        self.name = name\n",
    "        self.hp = hp\n",
    "        self.damage = damage\n",
    "    \n",
    "    # 이런식으로 클래스 내에 기재되어 있는 함수를 다른 말로 메서드라고 부른다.\n",
    "    # 이는 다음 셀에서 다시 한번 다루겠다.\n",
    "    def notice_uni_create(self):  # method\n",
    "        print(f\"{self.name} 유닛이 생성 되었습니다.\")\n",
    "        print(f\"체력 {self.hp}, 공격력 {self.damage}\")\n",
    "\n",
    "# 위 클래스 내에서 self는 여기서 각각 marine1, marine2, tank라는 변수를 의미\n",
    "# 그 뒤에 클래스를 호출하고 전달하는 인수들은 __init__ 메서드에서 순서대로 name, hp, damage라는\n",
    "# 매개변수로 전달되어 클래스 내에서 연관관계를 맺으며, 각 메서드들에서 필요할 때 호출되어 연산, 실행, 반환 등 상호작용을 한다.\n",
    "marine1 = CreateUnit(\"마린\", 40, 5)\n",
    "marine1.notice_uni_create()\n",
    "marine2 = CreateUnit(\"마린\", 40, 5)\n",
    "marine2.notice_uni_create()\n",
    "tank = CreateUnit(\"탱크\", 150, 35)\n",
    "tank.notice_uni_create()\n",
    "\n",
    "### cf. 객체(object)와 인스턴스(instance)의 차이 ###\n",
    "# 먼저 객체(object)와 인스턴스(instance) 각각의 개념부터 알아보자\n",
    "\n",
    "## object의 개념\n",
    "# 소프트웨어 세계에 \"구현할 대상\"\n",
    "# class에 선언 된 모양 그대로 생성된 실체\n",
    "## object 의 특징\n",
    "# \"class의 instance\"라고도 부른다.\n",
    "# object는 모든 instance를 대표하는 포괄적인 의미를 갖는다.\n",
    "\n",
    "## instance의 개념\n",
    "# 설계도를 바탕으로 소프트웨어 세계에 \"구현된 구체적인 실체\"\n",
    "# 즉, 객체를 소프트웨어에 실체화하면 그것을 \"instance\"라고 부른다.\n",
    "# 실체화된 instance는 메모리에 할당된다.\n",
    "## instance의 특징\n",
    "# instance는 object에 포함된다고 볼 수 있다.\n",
    "# 추상적인 개념(또는 명세)과 구체적인 object 사이의 관계에 초점을 맞출 경우에 사용된다.\n",
    "# object는 class의 instance 이다.\n",
    "# object간의 링크는 class간의 연관 관계의 instance이다.\n",
    "# 실행 프로세스는 프로그램의 instance이다.\n",
    "# 즉, instance라는 용어는 반드시 class와 object사이의 관계로 한정지어 사용할 필요는 없다.\n",
    "# instance는 어떤 원본(추상적인 개념)으로부터 \"생성된 복제본\"을 의미한다.\n",
    "\n",
    "#### NOTE\n",
    "# 파이썬은 객체지향 언어이다.\n",
    "# 즉, 모든 것이 객체 이기 때문에 class, list, dictionary, integer, string, tuple 등등\n",
    "# 이 모두가 객체이며 파이썬 프로그램의 구성 요소인 module, function & class 도 마찬가지이다.\n",
    "# 정리하자면 class는 \"instance\"라고 하는 object(객체)를 만들기 위한 템플릿"
   ]
  },
  {
   "cell_type": "markdown",
   "metadata": {},
   "source": [
    "### 메서드"
   ]
  },
  {
   "cell_type": "code",
   "execution_count": 8,
   "metadata": {},
   "outputs": [
    {
     "name": "stdout",
     "output_type": "stream",
     "text": [
      "레이스 : 1시 방향으로 적군을 공격 합니다. [공격력 5]\n",
      "레이스 : 70 데미지를 입었습니다.\n",
      "레이스 : 현재 체력은 10입니다.\n",
      "레이스 : 10 데미지를 입었습니다.\n",
      "레이스 : 현재 체력은 0입니다.\n",
      "레이스 : 파괴 되었습니다.\n"
     ]
    }
   ],
   "source": [
    "##### 새로운 클래스로 AttackUnit 이라는 클래스 객체를 만들어 본다. #####\n",
    "# method : 사전적 의미는 형태, 방법, 접근법 이라는 의미로,\n",
    "# 클래스 내에서 만들어낸 인스턴스(객체)가 수행할 행동의 방법을 함수로써 정의 해놓았다고 생각하자.\n",
    "class AttackUnit:\n",
    "    # 이 밑으로는 총 5개의 메서드가 정의되어 있다.\n",
    "    # 1. 초기값을 설정하는 초기화 메서드(__init__)\n",
    "    # 2. 유닛이 공격 명령을 전달 받았을 때 그 유닛의 이름과 목적지를 알려주는 메서드(notice_attack)\n",
    "    # 3. 유닛이 파괴 되었을 때 그 유닛의 이름과 함께 알려주는 메서드(notic_destroyed)\n",
    "    # 4. 유닛의 현재 체력을 알려주는 메서드(notice_current_hp)\n",
    "    # 5. 유닛이 공격을 받았을 때 얼만큼의 데미지를 입었는지,\n",
    "    # 그에 따라 현재 체력과 파괴여부를 알려주는 메서드를 필요한 경우에 호출하여 알려주는 메서드(notice_damaged)\n",
    "    def __init__(self, name, hp, damage):\n",
    "        # 아래 self.name = name 을 대표적으로 하나만 해석해보자면\n",
    "        # class AttackUnit 에서 만든 instance(object) 자기 자신의 name attribute는\n",
    "        # 초기값으로 설정한 name 이라는 매개변수로 전달 받은 인수 값으로 하겠다.\n",
    "        self.name = name\n",
    "        self.hp = hp\n",
    "        self.damage = damage\n",
    "    \n",
    "    def notice_attack(self, location):\n",
    "        print(f\"{self.name} : {location} 방향으로 적군을 공격 합니다. [공격력 {self.damage}]\")\n",
    "    \n",
    "    def notic_destroyed(self):\n",
    "        self.notice_current_hp()\n",
    "        print(f\"{self.name} : 파괴 되었습니다.\")\n",
    "    \n",
    "    def notice_current_hp(self):\n",
    "        print(f\"{self.name} : 현재 체력은 {self.hp}입니다.\")\n",
    "    \n",
    "    def notice_damaged(self, damage):\n",
    "        print(f\"{self.name} : {damage} 데미지를 입었습니다.\")\n",
    "        self.hp -= damage\n",
    "        if self.hp <= 0:\n",
    "            self.notic_destroyed()\n",
    "            return\n",
    "        self.notice_current_hp()\n",
    "\n",
    "wraith = AttackUnit(\"레이스\", 80, 5)\n",
    "wraith.notice_attack(\"1시\")\n",
    "wraith.notice_damaged(70)\n",
    "wraith.notice_damaged(10)"
   ]
  },
  {
   "cell_type": "markdown",
   "metadata": {},
   "source": [
    "### 상속"
   ]
  },
  {
   "cell_type": "code",
   "execution_count": 9,
   "metadata": {},
   "outputs": [
    {
     "name": "stdout",
     "output_type": "stream",
     "text": [
      "메딕 유닛이 생성 되었습니다.\n",
      "체력 90, 공격력 0\n",
      "레이스 유닛이 생성 되었습니다.\n",
      "체력 80, 공격력 5\n",
      "레이스 : 1시 방향으로 적군을 공격 합니다. [공격력 5]\n",
      "레이스 : 70 데미지를 입었습니다.\n",
      "레이스 : 현재 체력은 10입니다.\n",
      "레이스 : 10 데미지를 입었습니다.\n",
      "레이스 : 현재 체력은 0입니다.\n",
      "레이스 : 파괴 되었습니다.\n"
     ]
    }
   ],
   "source": [
    "##### 위에서 만들었던 CreateUnit, AttackUnit class를 상속이랑 개념으로 묶어서 만들어 본다. #####\n",
    "# 일반적으로 상속을 하는 class를 부모 class, 상속을 받는 class를 자식 class라고 칭한다.\n",
    "# 상속을 받을 때는 부모 클래스의 초기화 메서드를 포함해 모든 메서드들을 상속 받는다.\n",
    "# 참고로 부모 클래스로부터 상속을 받지 않아도 해당 클래스 내에서 다른 클래스의 메서드들을 호출할 수도 있다.\n",
    "# 즉, 상황에 따라 가장 효율적인 방법을 택하는 것이 중요하다는 점에 주목.\n",
    "class AttackUnit:  # 부모 클래스\n",
    "    def notice_attack(self, location):\n",
    "        print(f\"{self.name} : {location} 방향으로 적군을 공격 합니다. [공격력 {self.damage}]\")\n",
    "    \n",
    "    def notic_destroyed(self):\n",
    "        self.notice_current_hp()\n",
    "        print(f\"{self.name} : 파괴 되었습니다.\")\n",
    "    \n",
    "    def notice_current_hp(self):\n",
    "        print(f\"{self.name} : 현재 체력은 {self.hp}입니다.\")\n",
    "    \n",
    "    def notice_damaged(self, damage):\n",
    "        print(f\"{self.name} : {damage} 데미지를 입었습니다.\")\n",
    "        self.hp -= damage\n",
    "        if self.hp <= 0:\n",
    "            self.notic_destroyed()\n",
    "            return\n",
    "        self.notice_current_hp()\n",
    "\n",
    "# 위의 AttackUnit class의 모든 메서드를 CreateUnit class가 상속받아 만들어 보자.\n",
    "class CreateUnit(AttackUnit):  # 자식 클래스\n",
    "    # 이 클래스 내에는 아래의 2개의 메서드 이외에 상속받은 5개의 메서드가 추가로 존재하여 상호 작용한다.\n",
    "    def __init__(self, name, hp, damage):\n",
    "        # 자식 클래스에서 상속 받은 부모 클래스의 초기값을 그대로 사용해도 된다면\n",
    "        # 자식 클래스 내에서 초기화 메서드를 따로 작성 하지 않아도 된다.\n",
    "        # 하지만 만약 상속 받은 부모 클래스의 초기값과 함께 자식 클래스 내에 또다른 초기값 설정이 필요하다면\n",
    "        # 자식 클래스 내에서 초기값을 정의할 때 부모 클래스의 초기값도 전부 다시 호출 해줘야 한다.\n",
    "        # 즉, 초기화 메서드가 사용될 때는 상속 여부와 관계 없이 메서드 내에서 정의한 값으로 초기화 된다.\n",
    "        # 방법 1 : ParentClass.__init__(self, parameters)\n",
    "        # 방법 2 : (부모가 하나일 때) super().__init__(parameter) -> 방법 1과의 차이는 self의 여부가 다르다.\n",
    "        #         (부모의 부모일 때) super(ParentClass, self).__init__(parameter)\n",
    "        #         (부모가 여럿일 떄) 이는 자식클래스에 상속을 선언하는 순서 중 1번 쨰 부모 라인만 호출 가능하기에 권장하지 않음.\n",
    "        self.name = name\n",
    "        self.hp = hp\n",
    "        self.damage = damage\n",
    "    \n",
    "    def notice_unit_create(self):  # method\n",
    "        print(f\"{self.name} 유닛이 생성 되었습니다.\")\n",
    "        if self.damage == None:\n",
    "            print(f\"체력 {self.hp}, 공격력 0\")\n",
    "            return\n",
    "        print(f\"체력 {self.hp}, 공격력 {self.damage}\")\n",
    "\n",
    "medic = CreateUnit(\"메딕\", 90, None)\n",
    "medic.notice_unit_create()\n",
    "wraith = CreateUnit(\"레이스\", 80, 5)\n",
    "wraith.notice_unit_create()\n",
    "wraith.notice_attack(\"1시\")  # AttackUnit class에서 상속받은 유닛 공격 알림 메서드(notice_attack)를 통해 알림을 받을수 있는 것을 확인할 수 있다.\n",
    "wraith.notice_damaged(70)\n",
    "wraith.notice_damaged(10)"
   ]
  },
  {
   "cell_type": "markdown",
   "metadata": {},
   "source": [
    "### 다중 상속"
   ]
  },
  {
   "cell_type": "code",
   "execution_count": 10,
   "metadata": {},
   "outputs": [
    {
     "name": "stdout",
     "output_type": "stream",
     "text": [
      "드랍쉽 유닛이 생성 되었습니다.\n",
      "체력 200, 공격력 0\n",
      "드랍쉽 : 1시 방향으로 날아갑니다. [속도 10]\n",
      "----------\n",
      "레이스 유닛이 생성 되었습니다.\n",
      "체력 80, 공격력 5\n",
      "레이스 : 1시 방향으로 날아갑니다. [속도 15]\n",
      "레이스 : 12시 방향으로 적군을 공격합니다. [데미지 5]\n",
      "레이스 : 70 데미지를 입었습니다.\n",
      "레이스 : 현재 체력은 10입니다.\n",
      "레이스 : 10 데미지를 입었습니다.\n",
      "레이스 : 현재 체력은 0입니다.\n",
      "레이스 : 파괴 되었습니다.\n"
     ]
    }
   ],
   "source": [
    "##### 클래스 상속에서 다루었던 내용에서 추가로 부모 클래스를 추가하여 #####\n",
    "##### 자식 클래스에게 상속해주는 부모 클래스가 둘 이상인 경우에 대해 다뤄본다. (feat.복받은 자식)#####\n",
    "# 현재까지의 만든 모든 클래스의 메서드는 \"notice\"가 명명 되어 있는 알림 메서드들 뿐이라서\n",
    "# 유닛의 상호 작용을 알림 메서드를 호출하여 사용하고 있는데, 엄밀히 말하면 행동 메서드와 알림 메서드는 구분되야 한다.\n",
    "class AttackAirUnit:  # 부모 클래스\n",
    "    def notice_attack_into_air(self, location):\n",
    "        print(f\"{self.name} : {location} 방향으로 적군을 공격합니다. [데미지 {self.damage}]\")\n",
    "    \n",
    "    def notice_destroyed(self):\n",
    "        self.notice_current_hp()\n",
    "        print(f\"{self.name} : 파괴 되었습니다.\")\n",
    "    \n",
    "    def notice_current_hp(self):\n",
    "        print(f\"{self.name} : 현재 체력은 {self.hp}입니다.\")\n",
    "    \n",
    "    def notice_damaged(self, damage):\n",
    "        print(f\"{self.name} : {damage} 데미지를 입었습니다.\")\n",
    "        self.hp -= damage\n",
    "        if self.hp <= 0:\n",
    "            self.notice_destroyed()\n",
    "            return\n",
    "        self.notice_current_hp()\n",
    "\n",
    "class MoveAirUnit:  # 부모 클래스\n",
    "    def notice_move_into_air(self, location):\n",
    "        print(f\"{self.name} : {location} 방향으로 날아갑니다. [속도 {self.FlyingSpeed}]\")\n",
    "\n",
    "class CreateAirUnit(AttackAirUnit, MoveAirUnit):  # 자식 클래스\n",
    "    def __init__(self, name, hp, damage, flying_speed):\n",
    "        self.name = name\n",
    "        self.hp = hp\n",
    "        self.damage = damage\n",
    "        self.FlyingSpeed = flying_speed\n",
    "    \n",
    "    def notice_air_unit_create(self):  # method\n",
    "        print(f\"{self.name} 유닛이 생성 되었습니다.\")\n",
    "        if self.damage == None:\n",
    "            print(f\"체력 {self.hp}, 공격력 0\")\n",
    "            return\n",
    "        print(f\"체력 {self.hp}, 공격력 {self.damage}\")\n",
    "\n",
    "dropship = CreateAirUnit(\"드랍쉽\", 200, None, 10)\n",
    "dropship.notice_air_unit_create()\n",
    "dropship.notice_move_into_air(\"1시\")\n",
    "print(\"-\"*10)\n",
    "wraith = CreateAirUnit(\"레이스\", 80, 5, 15)\n",
    "wraith.notice_air_unit_create()\n",
    "wraith.notice_move_into_air(\"1시\")\n",
    "wraith.notice_attack_into_air(\"12시\")\n",
    "wraith.notice_damaged(70)\n",
    "wraith.notice_damaged(10)"
   ]
  },
  {
   "cell_type": "markdown",
   "metadata": {},
   "source": [
    "### 오버라이딩(overriding) vs 오버로딩(overloading)"
   ]
  },
  {
   "cell_type": "markdown",
   "metadata": {},
   "source": [
    "\n",
    "---\n",
    "**<h2>Override (연산의 재정의)</h2>**\n",
    "\n",
    "---\n",
    ">*사전적 의미로써, 위에 덮여쓰다라는 뜻을 갖음*\n",
    "---\n",
    "1. (덮어쓰기, 재정의)\n",
    "\n",
    "    - 상위 클래스에서 정의된 변수와 메소드의 내용을,\n",
    "\n",
    "    - 하위 클래스에서 변경하여 재정의하는 것\n",
    "---\n",
    "2. 결국, 새롭게 재정의하여, 상위 클래스 수행 기능과는 다른 기능을 수행케 하는 것</p>\n",
    "    - 즉, 변수나 메소드의 내용을 변경할 수 있음\n",
    "\n",
    "    - 즉, 동일한 메소드 호출에도 각 객체 마다 다른 행동이 가능\n",
    "\n",
    "    - 또한, 자식 클래스는 새로운 클래스 역할도 가능"
   ]
  },
  {
   "cell_type": "markdown",
   "metadata": {},
   "source": [
    "\n",
    "---\n",
    "**<h2>오버로딩(Overloading) 이란?</h2>**\n",
    "\n",
    "---\n",
    ">*[일반]*\n",
    "\n",
    "1. *과적(過積) 또는 과 부하(過負荷)*\n",
    "\n",
    "   -*즉, 필요 이상으로 많이 싣는 것을 의미*\n",
    "\n",
    "   -*例) 설계 한계를 넘어선 하중 등*\n",
    "\n",
    ">*[프로그래밍]*\n",
    "\n",
    "1. *프로그램의 문맥에 따라 여러 다른 형태나 동작을 할 수 있는 능력*\n",
    "\n",
    "---\n",
    ">[프로그래밍] 오버로딩(Overloading)\n",
    "\n",
    "---\n",
    "1. [연산] 연산자 오버로딩 (Operator Overloading)\n",
    "   - 동일 연산자 표기 이라도, \n",
    "      - 여러 다른 자료형의 값들에 대해 다르게 정의되어 있어서,\n",
    "      - 피 연산자 자료형을 판별하여, 이에 맞게 정의된 연산 기능을 가져다 씀\n",
    "   - 결국, 같은 연산에 대해서도 여러 클래스들이 서로 다른 동작을 할 수 있는 능력\n",
    "   - 例) 정수형,실수형,복소수형 끼리의 덧셈은, 실제 내부 연산 동작은 무척 다름\n",
    "      - 그러나, 같은 덧셈 기호 + 를 쓸 수 있으면, 사용자에게 논리적 일관성과 편의성을 줌\n",
    "---\n",
    "2. [명령형 프로그래밍] 함수 오버로딩 (Function Overloading)\n",
    "   - 같은 이름을 갖으나, 인수의 자료형,인수의 수,인수의 나열 순서가 다른 여러 함수들\n",
    "      - 즉, 인수(파라미터) 구성이 다르나, 같은 이름의 함수를 쓸 수 있음\n",
    "      - 결국, 같은 함수명으로써 구현이 다른 여러 함수를 작성할 수 있음\n",
    "      - 오버로딩된 함수들은 인수 구성의 차이로써 식별이 됨\n",
    "---\n",
    "3. [객체지향 프로그래밍] 메소드 오버로딩 (Method Overloading)\n",
    "   - 통상, 클래스 내 보통 하나의 메서드 이름에 하나의 기능 만을 구현하는데, \n",
    "      - 하나의 메서드 명으로 여러 기능/연산들을 구현하기 때문에 이름 붙여짐\n",
    "   - 즉, 하나의 클래스 내 또는 상속 관계에 있는 클래스들 간에,\n",
    "      - 같은 이름을 갖는 메소드가 다른 작업을 할 수 있게 함\n",
    "   - 하나의 클래스 내에 동일한 이름의 메소드가 존재하거나,\n",
    "      - 혹은, 하위 클래스에서 상위 클래스에 있는 `같은 이름의` 메소드를 재 선언하여 사용하는 것\n",
    "   - 메소드명 만 같고, 인수의 타입이나 인수의 수가 다름"
   ]
  },
  {
   "cell_type": "markdown",
   "metadata": {},
   "source": [
    "\n",
    "---\n",
    "<h2>오버로딩, 오버라이딩 비교</h2>\n",
    "\n",
    "---\n",
    "- 오버라이딩 (Overriding)\n",
    "   - (사전적 의미) 위에 덮여쓰다 : 변경(재정의)\n",
    "   - 주로, 상위 클래스에서 정의된 메소드의 구현내용을 하위 클래스에서 바꾸기 위하여 사용\n",
    "      -  상위 클래스로부터 상속 받은 메서드의 내용을 자신에 맞게 변경(재정의)하는 것\n",
    "      - 즉, 부모 클래스에서 개략 정의된 동작을, 자식 클래스에서 좀 더 구체화시켜 재정의(오버라이딩)하는 것\n",
    "   - `상속 관계에서 만 가능`\n",
    "   - `조건 : 메소드명,인수의 타입,인수의 개수,리턴 타입 모두 동일 해야 함`\n",
    "   - 바인딩 방식 : 동적 바인딩 (실행시에 결정)\n",
    "---\n",
    "- 오버로딩 (Overloading)\n",
    "   - (사전적 의미) 과적(過積),과 부하(過負荷)\n",
    "   - 주로, 클래스의 상속시에, 기존에 없던 새로운 메서드를 추가하는 것\n",
    "      - 어떤 메소드의 구현내용을 다양하게, 다른 형태로 동시에 제공키 위해 사용\n",
    "      - 즉, 적당한 연산자나 메소드를 골라 쓸 수 있게 함\n",
    "         - 例) 함수 오버로딩, 메소드 오버로딩, 연산자 오버로딩\n",
    "   - `동일 클래스 내 또는 상속 관계 둘 다 가능`\n",
    "   - `조건 : 메소드명 만 같으면 됨`\n",
    "   - 바인딩 방식 : 정적 바인딩 (컴파일시에 결정)"
   ]
  },
  {
   "cell_type": "code",
   "execution_count": 67,
   "metadata": {},
   "outputs": [
    {
     "name": "stdout",
     "output_type": "stream",
     "text": [
      "조재일, 동해바다여행을 가다.\n",
      "송민주, 동해바다여행 4일 가네.\n",
      "조재일, 송민주 결혼했네.\n"
     ]
    }
   ],
   "source": [
    "## 오버라이딩(Overriding)\n",
    "class houseCho:\n",
    "    lastname = \"조\"\n",
    "    def __init__(self, name):\n",
    "        self.fullname = self.lastname + name\n",
    "    def travel(self, where):  # 오버라이딩 대상\n",
    "        print(f\"{self.fullname}, {where}여행을 가다.\")\n",
    "\n",
    "class houseSong(houseCho):\n",
    "    lastname = \"송\"\n",
    "    def travel(self, where, day):  # 오버라이딩 메서드 - 부모 클래스의 travel 메서드에서 day 매개변수를 추가로 받는다.\n",
    "        print(f\"{self.fullname}, {where}여행 {day}일 가네.\")\n",
    "\n",
    "jaeil = houseCho(\"재일\")\n",
    "jaeil.travel(\"동해바다\")\n",
    "minju = houseSong(\"민주\")\n",
    "minju.travel(\"동해바다\", 4)\n",
    "\n",
    "## 오버로딩(Overloading)\n",
    "class houseCho:\n",
    "    lastname = \"조\"\n",
    "    def __init__(self, name):\n",
    "        self.fullname = self.lastname + name\n",
    "    def travel(self, where):\n",
    "        print(f\"{self.fullname}, {where}여행을 가다.\")\n",
    "    def __add__(self, other):  # 연산자 오버로딩\n",
    "        print(f\"{self.fullname}, {other.fullname} 결혼했네.\")\n",
    "\n",
    "class houseKim(houseCho):\n",
    "    lastname = \"송\"\n",
    "    def travel(self, where, day):\n",
    "        print(f\"{self.fullname}, {where}여행 {day}일 가네.\")\n",
    "\n",
    "jaeil = houseCho(\"재일\")\n",
    "minju = houseSong(\"민주\")\n",
    "jaeil + minju  # 연산자 오버로딩 호출"
   ]
  },
  {
   "cell_type": "markdown",
   "metadata": {},
   "source": [
    "### super"
   ]
  },
  {
   "cell_type": "code",
   "execution_count": 12,
   "metadata": {},
   "outputs": [
    {
     "name": "stdout",
     "output_type": "stream",
     "text": [
      "서플라이 디팟 건설이 완성 되었습니다.\n",
      "체력 300, 위치 12시\n"
     ]
    }
   ],
   "source": [
    "# 자식 클래스 내에서 부모 클래스(혹은 부모의 부모같은 조상)의 메서드를 호출 해야할 때 사용한다.\n",
    "# 호출 하는 방법은 super().method(parameter) 인데, 이는 부모클래스가 1개일 떄\n",
    "# super()의 괄호 안에 아무것도 선언 하지 않고 호출할 수 있다.\n",
    "# 다만, 부모의 부모 클래스를 호출할 때는 super(부모 클래스, self).method(parameter)\n",
    "# 이런식으로 super()의 괄호 안에 부모 클래스의 이름과 해당 객체(클래스 내에선 self)를 선언하여\n",
    "# 부모의 부모 클래스의 메서드들을 호출해야 한다.\n",
    "# 참고로 클래스 외부에서 super()를 이용해 어떤 인스턴스 객체의 부모 클래스를 호출할 때는\n",
    "# 부모의 부모 클래스를 호출할 때처럼 super()의 괄호 안에 인스턴스 객체의 클래스 이름과 자기 자신(인스턴스 객체)을 선언해야 한다.\n",
    "# ex) super(인스턴스 객체의 클래스, 인스턴스 객체).method(argument)\n",
    "# 참고로 super()를 통해 내부와 외부에서 부모 또는 부모의 부모 클래스를 호출할 때 다른 점은 메서드 안에 들어가는 값의 표현이다.\n",
    "# 클래스 내에서는 parameter였지만 외부에서는 parameter에 값을 전달해야 하기 때문에 argument라고 표현한다.\n",
    "class BuildingUnit:\n",
    "    def __init__(self, name, hp):\n",
    "        self.name = name\n",
    "        self.hp = hp\n",
    "    \n",
    "    def notice_built(self, location):\n",
    "        print(f\"{self.name} 건설이 완성 되었습니다.\")\n",
    "        print(f\"체력 {self.hp}, 위치 {location}\")\n",
    "\n",
    "class CreateBuildingUnit(BuildingUnit):\n",
    "    def __init__(self, name, hp):\n",
    "        # BuildingUnit.__init__(self, name, hp)\n",
    "        super().__init__(name, hp)\n",
    "\n",
    "supply_depot = CreateBuildingUnit(\"서플라이 디팟\", 300)\n",
    "# supply_depot.notice_built(\"12시\")\n",
    "super(CreateBuildingUnit, supply_depot).notice_built(\"12시\")"
   ]
  },
  {
   "cell_type": "code",
   "execution_count": 42,
   "metadata": {},
   "outputs": [
    {
     "name": "stdout",
     "output_type": "stream",
     "text": [
      "Unit 생성자\n",
      "Flyable 생성자\n"
     ]
    }
   ],
   "source": [
    "# super()는 한 클래스의 부모 또는 부모의 부모 혹은 그의 조상을 호출할 때만 사용할 수 있다.\n",
    "# 다시 말해서 다중 상속인 경우에는 자식 클래스에 선언된 부모 클래스들 중 첫 번째로 선언된 부모 클래스만 호출할 수 있다.\n",
    "class Unit:\n",
    "    def __init__(self):\n",
    "        print(\"Unit 생성자\")\n",
    "\n",
    "class Flyable:\n",
    "    def __init__(self):\n",
    "        print(\"Flyable 생성자\")\n",
    "\n",
    "class FlyableUnit(Unit, Flyable):\n",
    "    def __init__(self):\n",
    "        # super().__init__()  # 상속 받은 Unit, Flyable class 중 Unit 클래스에 대해서만 호출 가능하다.\n",
    "        Unit.__init__(self)\n",
    "        Flyable.__init__(self)\n",
    "\n",
    "dropship = FlyableUnit()"
   ]
  },
  {
   "cell_type": "markdown",
   "metadata": {},
   "source": [
    "### *args vs **kwargs"
   ]
  },
  {
   "cell_type": "code",
   "execution_count": 77,
   "metadata": {},
   "outputs": [
    {
     "name": "stdout",
     "output_type": "stream",
     "text": [
      "서플라이 디팟 건설이 완성 되었습니다.\n",
      "체력 300, 위치 12시\n",
      "서플라이 디팟 건설이 완성 되었습니다.\n",
      "체력 300, 위치 12시\n"
     ]
    }
   ],
   "source": [
    "\n",
    "class BuildingUnit:\n",
    "    def __init__(self, name, hp):\n",
    "        self.name = name\n",
    "        self.hp = hp\n",
    "    \n",
    "    def notice_built(self, location):\n",
    "        print(f\"{self.name} 건설이 완성 되었습니다.\")\n",
    "        print(f\"체력 {self.hp}, 위치 {location}\")\n",
    "\n",
    "## 가변인수(*args)를 이용하여 클래스의 메서드 작성 및 호출\n",
    "# *뒤에 오는 args는 arguments의 약자로 관례적 표현이다.\n",
    "# 즉, 다른 표현을 써도 무방하다.\n",
    "# 다만, 전달 받을 인수가 한 종류의 값이라면 args 대신 다른 표현으로 변경해도 괜찮겠지만\n",
    "# 다른 사람이 자신의 코드를 읽을 때를 대비하여 평소에 웬만하면 관례적 표현을 쓰자.\n",
    "class CreateBuildingUnit(BuildingUnit):\n",
    "    def __init__(self, *args):\n",
    "        # BuildingUnit.__init__(self, *args)  # 이 방법은 상속 받지 않아도 된다.\n",
    "        super().__init__(*args)\n",
    "\n",
    "supply_depot = CreateBuildingUnit(\"서플라이 디팟\", 300)  # 가변인수를 이용한 클래스 호출\n",
    "super(CreateBuildingUnit, supply_depot).notice_built(\"12시\")\n",
    "\n",
    "## 키워드 값(**kwargs)을 이용하여 클래스의 메서드 작성 및 호출\n",
    "# **뒤에 오는 kwargs는 keyword arguments의 약자로 이 또한 관례적 표현이다.\n",
    "# 가변인수를 이용할 때와 달리 함수에 인수를 전달할 때 keyword=argument 형태로 전달해야 한다.\n",
    "class CreateBuildingUnit(BuildingUnit):\n",
    "    def __init__(self, **kwargs):\n",
    "        # BuildingUnit.__init__(self, **kwargs)  # 이 방법은 상속 받지 않아도 된다.\n",
    "        super().__init__(**kwargs)\n",
    "\n",
    "supply_depot = CreateBuildingUnit(name=\"서플라이 디팟\", hp=300)  # 키워드로 클래스 호출\n",
    "super(CreateBuildingUnit, supply_depot).notice_built(\"12시\")"
   ]
  },
  {
   "cell_type": "markdown",
   "metadata": {},
   "source": [
    "## 프로젝트 1 (스타크래프트)"
   ]
  },
  {
   "cell_type": "code",
   "execution_count": 5,
   "metadata": {},
   "outputs": [
    {
     "name": "stdout",
     "output_type": "stream",
     "text": [
      "[알림] 새로운 게임을 시작합니다.\n",
      "마린 이(가) 생성 되었습니다.\n",
      "체력 40, 공격력 5\n",
      "마린 이(가) 생성 되었습니다.\n",
      "체력 40, 공격력 5\n",
      "마린 이(가) 생성 되었습니다.\n",
      "체력 40, 공격력 5\n",
      "----------\n",
      "탱크 이(가) 생성 되었습니다.\n",
      "체력 150, 공격력 35\n",
      "탱크 이(가) 생성 되었습니다.\n",
      "체력 150, 공격력 35\n",
      "----------\n",
      "레이스 이(가) 생성 되었습니다.\n",
      "체력 80, 공격력 20\n",
      "----------\n",
      "마린 : 1시 방향으로 이동합니다. [속도 1]\n",
      "마린 : 1시 방향으로 이동합니다. [속도 1]\n",
      "마린 : 1시 방향으로 이동합니다. [속도 1]\n",
      "탱크 : 1시 방향으로 이동합니다. [속도 1]\n",
      "탱크 : 1시 방향으로 이동합니다. [속도 1]\n",
      "레이스 : 1시 방향으로 이동합니다. [속도 5]\n",
      "----------\n",
      "[알림] 탱크 시즈모드 개발이 완료되었습니다.\n",
      "----------\n",
      "마린 : 스팀팩을 사용합니다. (HP 10감소)\n",
      "마린 : 스팀팩을 사용합니다. (HP 10감소)\n",
      "마린 : 스팀팩을 사용합니다. (HP 10감소)\n",
      "탱크 : 시즈모드로 전환합니다.\n",
      "탱크 : 시즈모드로 전환합니다.\n",
      "레이스 : 클로킹 모드 설정합니다.\n",
      "----------\n",
      "마린 : 1시 방향으로 적군을 공격합니다. [데미지 5]\n",
      "마린 : 1시 방향으로 적군을 공격합니다. [데미지 5]\n",
      "마린 : 1시 방향으로 적군을 공격합니다. [데미지 5]\n",
      "탱크 : 1시 방향으로 적군을 공격합니다. [데미지 70]\n",
      "탱크 : 1시 방향으로 적군을 공격합니다. [데미지 70]\n",
      "레이스 : 1시 방향으로 적군을 공격합니다. [데미지 20]\n",
      "----------\n",
      "마린 : 11 데미지를 입었습니다.\n",
      "마린 : 현재 체력은 19입니다.\n",
      "마린 : 11 데미지를 입었습니다.\n",
      "마린 : 현재 체력은 19입니다.\n",
      "마린 : 11 데미지를 입었습니다.\n",
      "마린 : 현재 체력은 19입니다.\n",
      "탱크 : 15 데미지를 입었습니다.\n",
      "탱크 : 현재 체력은 135입니다.\n",
      "탱크 : 10 데미지를 입었습니다.\n",
      "탱크 : 현재 체력은 140입니다.\n",
      "레이스 : 14 데미지를 입었습니다.\n",
      "레이스 : 현재 체력은 66입니다.\n",
      "----------\n",
      "player : gg\n",
      "[player] 님이 게임에서 퇴장했습니다.\n"
     ]
    }
   ],
   "source": [
    "import random\n",
    "\n",
    "##### 실제 스타크래프트 게임을 하는것 처럼 메세지를 출력해서 유사 게임을 해보자 #####\n",
    "## 유닛 공격\n",
    "class AttackUnit:\n",
    "    def attack(self, location):\n",
    "        print(f\"{self.name} : {location} 방향으로 적군을 공격합니다. [데미지 {self.damage}]\")\n",
    "    \n",
    "    def notice_destroyed(self):\n",
    "        self.notice_current_hp()\n",
    "        print(f\"{self.name} : 파괴 되었습니다.\")\n",
    "    \n",
    "    def notice_current_hp(self):\n",
    "        print(f\"{self.name} : 현재 체력은 {self.hp}입니다.\")\n",
    "    \n",
    "    def damaged(self, damage):\n",
    "        print(f\"{self.name} : {damage} 데미지를 입었습니다.\")\n",
    "        self.hp -= damage\n",
    "        if self.hp <= 0:\n",
    "            self.notice_destroyed()\n",
    "            return\n",
    "        self.notice_current_hp()\n",
    "\n",
    "## 유닛 이동\n",
    "class MoveUnit:\n",
    "    def moving(self, location):\n",
    "        print(f\"{self.name} : {location} 방향으로 이동합니다. [속도 {self.speed}]\")\n",
    "\n",
    "## 지상 유닛 생성\n",
    "# 마린 템플릿\n",
    "class CreateMarine(AttackUnit, MoveUnit):\n",
    "    def __init__(self):\n",
    "        self.name = \"마린\"\n",
    "        self.hp = 40\n",
    "        self.damage = 5\n",
    "        self.speed = 1\n",
    "        print(f\"{self.name} 이(가) 생성 되었습니다.\")\n",
    "        print(f\"체력 {self.hp}, 공격력 {self.damage}\")\n",
    "    \n",
    "    # stimpack : 일정 시간 동안 이동 및 공격 속도를 증가, 체력 10 감소\n",
    "    def use_stimpack(self):\n",
    "        if self.hp > 10:\n",
    "            self.hp -= 10\n",
    "            print(f\"{self.name} : 스팀팩을 사용합니다. (HP 10감소)\")\n",
    "        else:\n",
    "            print(f\"{self.name} : 체력이 부족합니다.\")\n",
    "            \n",
    "# 탱크 템플릿\n",
    "class CreateTank(AttackUnit, MoveUnit):\n",
    "    def __init__(self):\n",
    "        self.name = \"탱크\"\n",
    "        self.hp = 150\n",
    "        self.damage = 35\n",
    "        self.speed = 1\n",
    "        self.siege_mode = False\n",
    "        print(f\"{self.name} 이(가) 생성 되었습니다.\")\n",
    "        print(f\"체력 {self.hp}, 공격력 {self.damage}\")\n",
    "    \n",
    "    siege_developed = False\n",
    "    # siege mode : 탱크를 지상에 고정시켜, 더 큰 공격력을 얻음. 이동 불가\n",
    "    def set_siege_mode(self):\n",
    "        if CreateTank.siege_developed == False:\n",
    "            return\n",
    "        \n",
    "        ## 탱크 시즈모드 토글 ##\n",
    "        if not self.siege_mode:  # 시즈모드가 아닐 때 -> 시즈모드\n",
    "            print(f\"{self.name} : 시즈모드로 전환합니다.\")\n",
    "            self.damage *= 2\n",
    "            self.siege_mode = True\n",
    "        else:  # 시즈모드일 때 -> 시즈모드 해제\n",
    "            print(f\"{self.name} : 시즈모드를 해제합니다.\")\n",
    "            self.damage /= 2\n",
    "            self.siege_mode = False\n",
    "## 공중 유닛 생성\n",
    "# 레이스 템플릿\n",
    "class CreateWraith(AttackUnit, MoveUnit):\n",
    "    def __init__(self):\n",
    "        self.name = \"레이스\"\n",
    "        self.hp = 80\n",
    "        self.damage = 20\n",
    "        self.speed = 5\n",
    "        self.clocking_mode = False\n",
    "        print(f\"{self.name} 이(가) 생성 되었습니다.\")\n",
    "        print(f\"체력 {self.hp}, 공격력 {self.damage}\")\n",
    "    \n",
    "    # clocking : 레이스가 투명화되어 적들에게 발각되지 않는다.\n",
    "    def clocking(self):\n",
    "        ## 레이스 클로킹모드 토글\n",
    "        if self.clocking_mode:  # 클로킹 모드 -> 해제\n",
    "            print(f\"{self.name} : 클로킹 모드 해제합니다.\")\n",
    "            self.clocking_mode = False\n",
    "        else:  # 클로킹 모드 해제 -> 설정\n",
    "            print(f\"{self.name} : 클로킹 모드 설정합니다.\")\n",
    "            self.clocking_mode = True\n",
    "\n",
    "# 게임 실행\n",
    "def game_start():\n",
    "    print(\"[알림] 새로운 게임을 시작합니다.\")\n",
    "\n",
    "def game_over():\n",
    "    print(\"player : gg\")\n",
    "    print(\"[player] 님이 게임에서 퇴장했습니다.\")\n",
    "\n",
    "game_start()\n",
    "\n",
    "# 마린 3기 생성\n",
    "m1 = CreateMarine()\n",
    "m2 = CreateMarine()\n",
    "m3 = CreateMarine()\n",
    "\n",
    "print(\"-\"*10)\n",
    "\n",
    "# 탱크 2기 생성\n",
    "t1 = CreateTank()\n",
    "t2 = CreateTank()\n",
    "\n",
    "print(\"-\"*10)\n",
    "\n",
    "# 레이스 1기 생성\n",
    "w1 = CreateWraith()\n",
    "\n",
    "print(\"-\"*10)\n",
    "\n",
    "# 유닛 일괄 관리\n",
    "attack_units = []\n",
    "attack_units.append(m1)\n",
    "attack_units.append(m2)\n",
    "attack_units.append(m3)\n",
    "attack_units.append(t1)\n",
    "attack_units.append(t2)\n",
    "attack_units.append(w1)\n",
    "\n",
    "# 전군 이동\n",
    "for unit in attack_units:\n",
    "    unit.moving(\"1시\")\n",
    "\n",
    "print(\"-\"*10)\n",
    "\n",
    "# 탱크 시즈모드 개발\n",
    "CreateTank.siege_developed = True\n",
    "print(\"[알림] 탱크 시즈모드 개발이 완료되었습니다.\")\n",
    "\n",
    "print(\"-\"*10)\n",
    "\n",
    "# 공격 모드 준비 (마린 : 스팀팩, 탱크 : 시즈모드, 레이스 : 클로킹)\n",
    "for unit in attack_units:\n",
    "    if isinstance(unit, CreateMarine):\n",
    "        unit.use_stimpack()\n",
    "    elif isinstance(unit, CreateTank):\n",
    "        unit.set_siege_mode()\n",
    "    elif isinstance(unit, CreateWraith):\n",
    "        unit.clocking()\n",
    "\n",
    "print(\"-\"*10)\n",
    "\n",
    "# 전군 공격\n",
    "for unit in attack_units:\n",
    "    unit.attack(\"1시\")\n",
    "\n",
    "print(\"-\"*10)\n",
    "\n",
    "# 전군 피해\n",
    "for unit in attack_units:\n",
    "    unit.damaged(random.randint(5, 21))\n",
    "\n",
    "print(\"-\"*10)\n",
    "\n",
    "# 게임 종료\n",
    "game_over()"
   ]
  },
  {
   "cell_type": "markdown",
   "metadata": {},
   "source": [
    "## 퀴즈 8"
   ]
  },
  {
   "cell_type": "code",
   "execution_count": 6,
   "metadata": {},
   "outputs": [
    {
     "name": "stdout",
     "output_type": "stream",
     "text": [
      "총 3대의 매물이 있습니다.\n",
      "강남 아파트 매매 10억 2010년\n",
      "마포 오피스텔 전세 5억 2007년\n",
      "송파 빌라 월세 500/50 2000년\n"
     ]
    }
   ],
   "source": [
    "# quiz\n",
    "# 주어진 코드를 활용하여 부동산 프로그램을 작성하시오.\n",
    "# (출력 예제)\n",
    "# 강남 아파트 매매 10억 2010년\n",
    "# 마포 오피스텔 전세 5억 2007년\n",
    "# 송파 빌라 월세 500/50 2000년\n",
    "\n",
    "class House:\n",
    "    def __init__(self, location, house_type, deal_type, price, completion_year):\n",
    "        self.location = location\n",
    "        self.house_type = house_type\n",
    "        self.deal_type = deal_type\n",
    "        self.price = price\n",
    "        self.completion_year = completion_year\n",
    "        \n",
    "    def show_detail(self):\n",
    "        print(self.location,self.house_type,self.deal_type,self.price,self.completion_year)\n",
    "\n",
    "houses = []\n",
    "house1 = House(\n",
    "    location=\"강남\",\n",
    "    house_type=\"아파트\",\n",
    "    deal_type=\"매매\",\n",
    "    price=\"10억\",\n",
    "    completion_year=\"2010년\"\n",
    ")\n",
    "house2 = House(\n",
    "    location=\"마포\",\n",
    "    house_type=\"오피스텔\",\n",
    "    deal_type=\"전세\",\n",
    "    price=\"5억\",\n",
    "    completion_year=\"2007년\"\n",
    ")\n",
    "house3 = House(\n",
    "    location=\"송파\",\n",
    "    house_type=\"빌라\",\n",
    "    deal_type=\"월세\",\n",
    "    price=\"500/50\",\n",
    "    completion_year=\"2000년\"\n",
    ")\n",
    "\n",
    "houses.append(house1)\n",
    "houses.append(house2)\n",
    "houses.append(house3)\n",
    "\n",
    "print(f\"총 {len(houses)}대의 매물이 있습니다.\")\n",
    "for house in houses:\n",
    "    house.show_detail()\n",
    "    "
   ]
  },
  {
   "cell_type": "markdown",
   "metadata": {},
   "source": [
    "## 예약어"
   ]
  },
  {
   "cell_type": "markdown",
   "metadata": {},
   "source": [
    "### 예약어 목록\n",
    "<table>\n",
    "    <thead>\n",
    "        <tr>\n",
    "            <th>값</th>\n",
    "            <th>의미</th>\n",
    "        </tr>\n",
    "    </thead>\n",
    "    <tbody>\n",
    "        <tr>\n",
    "            <td>True</td>\n",
    "            <td rowspan=\"2\">참/거짓을 표현하기 위한 자료형 부울(Boolean, Bool)에는 True, False 딱 2가지의 값만 존재한다.<br>\n",
    "            파이썬에서 숫자 0은 False, 0을 제외한 모든 정수는 True를 의미한다.</td>\n",
    "        </tr>\n",
    "        <tr>\n",
    "            <td>False</td>\n",
    "        </tr>\n",
    "        <tr>\n",
    "            <td>None</td>\n",
    "            <td>값이 없거나 알 수 없음(absence of a value or a null value)을 의미한다.<br> NoneType이라는 자료형에 존재한다.</td>\n",
    "        </tr>\n",
    "        <tr>\n",
    "            <td>from</td>\n",
    "            <td>현재 네임스페이스(namespace)로 특정 모듈 중 일부(specific attributes or functions)를 가져온다</td>\n",
    "        </tr>\n",
    "        <tr>\n",
    "            <td>import</td>\n",
    "            <td>현재 네임스페이스(namespace)로 특정 모듈 전체를 가져오는 예약어</td>\n",
    "        </tr>\n",
    "        <tr>\n",
    "            <td>as</td>\n",
    "            <td>모듈 이름 다음에 as 가 올 경우, as 다음의 이름을 임포트한 모듈에 직접 연결한다.</td>\n",
    "        </tr>\n",
    "        <tr>\n",
    "            <td>and</td>\n",
    "            <td>둘 다 True면 True,<br>\n",
    "            둘 중 하나라도 False가 있으면 False<br>\n",
    "            둘 다 False면 False</td>\n",
    "        </tr>\n",
    "        <tr>\n",
    "            <td>or</td>\n",
    "            <td>둘 다 True면 True<br>\n",
    "            둘 중 하나라도 True가 있으면 True<br>\n",
    "            둘 다 False면 False</td>\n",
    "        </tr>\n",
    "        <tr>\n",
    "            <td>in</td>\n",
    "            <td>시퀀스 자료형(리스트, 튜플, 문자열 등) 안에 어떤 값이 들어있는지 여부를 확인하는 예약어</td>\n",
    "        </tr>\n",
    "        <tr>\n",
    "            <td>is</td>\n",
    "            <td>두 값의 참조(레퍼런스, 포인터)를 비교하는 연산자.<br>\n",
    "            ==는 값을 비교하는 연산자로 is와 다르다.</td>\n",
    "        </tr>\n",
    "        <tr>\n",
    "            <td>not</td>\n",
    "            <td>어떤 값이나 논리의 반대값을 의미하는 예약어<br>\n",
    "            (예: >>> not False 의 결과값은 True)</td>\n",
    "        </tr>\n",
    "        <tr>\n",
    "            <td>for</td>\n",
    "            <td>반복문 예약어.<br>\n",
    "            반복 횟수를 조절이 가능하며, 어떤 데이터 뭉치에서 순차적으로 꺼내올 수도 있다.</td>\n",
    "        </tr>\n",
    "        <tr>\n",
    "            <td>while</td>\n",
    "            <td>반복문 예약어.<br>\n",
    "            for 반복문과 차이점은 해당 조건이 만족할 떄까지 실행된다는 점이다.</td>\n",
    "        </tr>\n",
    "        <tr>\n",
    "            <td>try</td>\n",
    "            <td>오류에 대한 예외 처리 관련 예약어</td>\n",
    "        </tr>\n",
    "        <tr>\n",
    "            <td>except</td>\n",
    "            <td>오류에 대한 예외 처리 관련 예약어.</td>\n",
    "        </tr>\n",
    "        <tr>\n",
    "            <td>finally</td>\n",
    "            <td>오류에 대한 예외 처리 관련 예약어.</td>\n",
    "        </tr>\n",
    "        <tr>\n",
    "            <td>exec</td>\n",
    "            <td>문자열로 된 파이썬 문을 실행한다.</td>\n",
    "        </tr>\n",
    "        <tr>\n",
    "            <td>assert</td>\n",
    "            <td>프로그램에 디버깅 어서션(debugging assertion)을 삽입하는 편리한 방법이다.</td>\n",
    "        </tr>\n",
    "        <tr>\n",
    "            <td>raise</td>\n",
    "            <td>파이썬에서 기본적으로 뜨는 오류 외에 프로그래머가 오류 상황을 직접 정의하여 예외를 발생시켜야 할 때 사용하는 예약어</td>\n",
    "        </tr>\n",
    "        <tr>\n",
    "            <td>if</td>\n",
    "            <td>조건문 예약어</td>\n",
    "        </tr>\n",
    "        <tr>\n",
    "            <td>elif</td>\n",
    "            <td>else if의 줄임말. 조건이 거짓이면 elif문이 실행된다.<br>\n",
    "            if 조건문에서 또다른 조건을 여러개 걸고 싶을 때 사용하는 예약어</td>\n",
    "        </tr>\n",
    "        <tr>\n",
    "            <td>else</td>\n",
    "            <td>if문에서 조건에 해당하지 않을 떄 else문이 있다면 else로 넘어가 다음 명령이 실행된다.<br>\n",
    "            elif는 여러 개 쓸 수 있으나 else는 하나만 쓸 수 있다.</td>\n",
    "        </tr>\n",
    "        <tr>\n",
    "            <td>continue</td>\n",
    "            <td>조건이 참이면 강제로 다음 순번의 반복문으로 넘김</td>\n",
    "        </tr>\n",
    "        <tr>\n",
    "            <td>break</td>\n",
    "            <td>반복문(while 문 또는 for 문)에서 빠져나올때 쓰는 예약어. 조건이 참이면 반복문 중단.</td>\n",
    "        </tr>\n",
    "        <tr>\n",
    "            <td>pass</td>\n",
    "            <td>아무 일도 하지 않는다는 의미.<br>\n",
    "            어떤 조건문 밑에 pass를 쓰면 그 조건을 실행하지 않고 다음 명령을 실행한다.</td>\n",
    "        </tr>\n",
    "        <tr>\n",
    "            <td>class</td>\n",
    "            <td>클래스를 정의할 때 쓰는 예약어</td>\n",
    "        </tr>\n",
    "        <tr>\n",
    "            <td>def</td>\n",
    "            <td>함수를 정의할 때 쓰는 예약어</td>\n",
    "        </tr>\n",
    "        <tr>\n",
    "            <td>return</td>\n",
    "            <td>함수 안에서 사용되어 값을 반환하고 함수문을 빠져나오는 예약어</td>\n",
    "        </tr>\n",
    "        <tr>\n",
    "            <td>lambda</td>\n",
    "            <td>익명 함수를 만드는 연산자.<br>\n",
    "            한 줄로 작성한다.</td>\n",
    "        </tr>\n",
    "        <tr>\n",
    "            <td>global</td>\n",
    "            <td>변수 범위(scope) 관련 예약어</td>\n",
    "        </tr>\n",
    "        <tr>\n",
    "            <td>nonlocal</td>\n",
    "            <td>변수 범위(scope) 관련 예약어</td>\n",
    "        </tr>\n",
    "        <tr>\n",
    "            <td>del</td>\n",
    "            <td>인덱스를 사용하여 항목을 삭제하는 예약어</td>\n",
    "        </tr>\n",
    "        <tr>\n",
    "            <td>with</td>\n",
    "            <td>예외문 관련, _enter_ 및 _exit_와 함께 쓰이는 예약어</td>\n",
    "        </tr>\n",
    "        <tr>\n",
    "            <td>yield</td>\n",
    "            <td>함수 안에서 사용되어 return과 비슷한 역할을 하는 예약어.<br>\n",
    "            그러나 yield는 gernerator를 반환한다는 점에서 차이가 있다.\n",
    "            </td>\n",
    "        </tr>\n",
    "    </tbody>\n",
    "</table>"
   ]
  },
  {
   "cell_type": "markdown",
   "metadata": {},
   "source": [
    "## 예외처리"
   ]
  },
  {
   "cell_type": "code",
   "execution_count": 133,
   "metadata": {},
   "outputs": [
    {
     "name": "stdout",
     "output_type": "stream",
     "text": [
      "나누기 전용 계산기입니다.\n",
      "알 수 없는 에러가 발생했습니다.\n",
      "list index out of range\n"
     ]
    }
   ],
   "source": [
    "try:\n",
    "    print(\"나누기 전용 계산기입니다.\")\n",
    "    nums = []\n",
    "    nums.append(int(input(\"첫 번째 숫자를 입력하세요.\")))\n",
    "    nums.append(int(input(\"두 번째 숫자를 입력하세요.\")))\n",
    "    # nums.append(int(nums[0] / nums[1]))\n",
    "    print(f\"{nums[0]} / {nums[1]} = {nums[2]}\")\n",
    "except ValueError:  # 여기서는 사용자 입력을 int 형으로 변환해주기 때문에 문자열을 입력하면 이 에러가 발생함\n",
    "    print(\"에러! 잘못된 값을 입력하였습니다.\")\n",
    "except ZeroDivisionError as err:  # 예로 6 나누기 0 같은 값을 정의할 수 없을 떄 이 에러가 발생함\n",
    "    print(err)\n",
    "# except IndexError:\n",
    "#     print(\"알 수 없는 에러가 발생했습니다.\")\n",
    "except Exception as e:  # 위 두가지 에러 경우 이외에 모든 에러의 정보를 받을 수 있다.\n",
    "    print(\"알 수 없는 에러가 발생했습니다.\")\n",
    "    print(e)"
   ]
  },
  {
   "cell_type": "markdown",
   "metadata": {},
   "source": [
    "### 에러 발생시키기"
   ]
  },
  {
   "cell_type": "code",
   "execution_count": 138,
   "metadata": {},
   "outputs": [
    {
     "name": "stdout",
     "output_type": "stream",
     "text": [
      "한 자리 숫자 나누기 전용 계산기입니다.\n",
      "에러! 잘못된 값을 입력하였습니다. 한 자리 숫자만 입력하세요.\n"
     ]
    }
   ],
   "source": [
    "# raise : 에러를 일부로 발생시키는 예약어.\n",
    "# if 조건문을 활용하여 특정한 상황에 예외를 발생시키도록 할 수 있다.\n",
    "try:\n",
    "    print(\"한 자리 숫자 나누기 전용 계산기입니다.\")\n",
    "    num1 = int(input(\"첫 번때 숫자를 입력하세요.\"))\n",
    "    num2 = int(input(\"두 번때 숫자를 입력하세요.\"))\n",
    "    if num1 >= 10 or num2 >= 10:\n",
    "        raise ValueError  # 두 자리 이상의 숫자를 입력 받았을 때 오류를 발생시킨다.\n",
    "    print(f\"{num1} / {num2} = {int(num1/num2)}\")\n",
    "except ValueError:\n",
    "    print(\"에러! 잘못된 값을 입력하였습니다. 한 자리 숫자만 입력하세요.\")"
   ]
  },
  {
   "cell_type": "markdown",
   "metadata": {},
   "source": [
    "### 사용자 정의 예외처리"
   ]
  },
  {
   "cell_type": "code",
   "execution_count": 141,
   "metadata": {},
   "outputs": [
    {
     "name": "stdout",
     "output_type": "stream",
     "text": [
      "한 자리 숫자 나누기 전용 계산기입니다.\n",
      "에러가 발생하였습니다. 한 자리 숫자만 입력하세요.\n",
      "입력 값 : 10, 5\n"
     ]
    }
   ],
   "source": [
    "# TwoDigitsError 라는 class 를 정의하고 두 자리 숫자를 입력 받았을 때\n",
    "# 특정한 문구를 출력해주는 사용자 정의 예외처리를 만들수 있다.\n",
    "class TwoDigitsError(Exception):\n",
    "    def __init__(self, message):\n",
    "        self.message = message\n",
    "    \n",
    "    def __str__(self):\n",
    "        return self.message\n",
    "\n",
    "try:\n",
    "    print(\"한 자리 숫자 나누기 전용 계산기입니다.\")\n",
    "    num1 = int(input(\"첫 번때 숫자를 입력하세요.\"))\n",
    "    num2 = int(input(\"두 번때 숫자를 입력하세요.\"))\n",
    "    if num1 >= 10 or num2 >= 10:\n",
    "        raise TwoDigitsError(f\"입력 값 : {num1}, {num2}\")\n",
    "    print(f\"{num1} / {num2} = {int(num1/num2)}\")\n",
    "except TwoDigitsError as err:\n",
    "    print(\"에러가 발생하였습니다. 한 자리 숫자만 입력하세요.\")\n",
    "    print(err)"
   ]
  },
  {
   "cell_type": "markdown",
   "metadata": {},
   "source": [
    "### finally"
   ]
  },
  {
   "cell_type": "code",
   "execution_count": 143,
   "metadata": {},
   "outputs": [
    {
     "name": "stdout",
     "output_type": "stream",
     "text": [
      "한 자리 숫자 나누기 전용 계산기입니다.\n",
      "에러가 발생하였습니다. 한 자리 숫자만 입력하세요.\n",
      "입력 값 : 10, 5\n",
      "계산기를 이용해 주셔서 감사합니다.\n"
     ]
    }
   ],
   "source": [
    "# finally 예약어 내에서 선언된 실행문은 프로그램의 정상 작동 여부와 관계 없이 무조건 실행된다.\n",
    "class TwoDigitsError(Exception):\n",
    "    def __init__(self, message):\n",
    "        self.message = message\n",
    "    \n",
    "    def __str__(self):\n",
    "        return self.message\n",
    "\n",
    "try:\n",
    "    print(\"한 자리 숫자 나누기 전용 계산기입니다.\")\n",
    "    num1 = int(input(\"첫 번때 숫자를 입력하세요.\"))\n",
    "    num2 = int(input(\"두 번때 숫자를 입력하세요.\"))\n",
    "    if num1 >= 10 or num2 >= 10:\n",
    "        raise TwoDigitsError(f\"입력 값 : {num1}, {num2}\")\n",
    "    print(f\"{num1} / {num2} = {int(num1/num2)}\")\n",
    "except TwoDigitsError as err:\n",
    "    print(\"에러가 발생하였습니다. 한 자리 숫자만 입력하세요.\")\n",
    "    print(err)\n",
    "finally:  # 프로그램 작동 여부와 관계 없이 아래 print문을 출력해 줌\n",
    "    print(\"계산기를 이용해 주셔서 감사합니다.\")"
   ]
  },
  {
   "cell_type": "markdown",
   "metadata": {},
   "source": [
    "## 퀴즈 9"
   ]
  },
  {
   "cell_type": "code",
   "execution_count": 6,
   "metadata": {},
   "outputs": [
    {
     "name": "stdout",
     "output_type": "stream",
     "text": [
      "[남은 치킨 : 10]\n",
      "잘못된 값을 입력하였습니다.\n",
      "[남은 치킨 : 10]\n",
      "한 번에 주문할 수 있는 치킨량은 현재 10마리 입니다.\n",
      "[남은 치킨 : 10]\n",
      "[대기번호 1] 10마리 주문이 완료되었습니다.\n",
      "재고가 소진되어 더 이상 주문을 받지 않습니다.\n"
     ]
    }
   ],
   "source": [
    "# quiz\n",
    "# 동네에 항상 대기 손님이 있는 맛있는 치킨집이 있습니다.\n",
    "# 대기 손님의 치킨 요리 시간을 줄이고자 자동 주문 시스템을 제작하였습니다.\n",
    "# 시스템 코드를 확인하고 적절한 예외처리 구문을 넣으시오.\n",
    "# 조건 1 : 1보다 작거나 숫자가 아닌 입력값이 들어올 때는 ValueError 로 처리한다.\n",
    "#         출력 메세지 : \"잘못된 값을 입력하였습니다.\"\n",
    "# 조건 2 : 치킨집에서 하루에 주문할 수 있는 총 치킨량은 10마리로 한정한다.\n",
    "#       : 치킨 소진 시 사용자 정의 에러[SoldOutError]를 발생시키고 프로그램을 종료한다.\n",
    "#         출력 메세지 : \"재고가 소진되어 더 이상 주문을 받지 않습니다.\"\n",
    "class SoldOutError(Exception):\n",
    "    pass\n",
    "\n",
    "chicken = 10\n",
    "waiting = 1\n",
    "while True:\n",
    "    try:\n",
    "        print(f\"[남은 치킨 : {chicken}]\")\n",
    "        order = int(input(\"치킨 몇 마리를 주문하시겠습니까?\"))\n",
    "        if order > chicken:\n",
    "            print(f\"한 번에 주문할 수 있는 치킨량은 현재 {chicken}마리 입니다.\")\n",
    "        elif order <= 0:\n",
    "            raise ValueError\n",
    "        else:\n",
    "            print(f\"[대기번호 {waiting}] {chicken}마리 주문이 완료되었습니다.\")\n",
    "            waiting += 1\n",
    "            chicken -= order\n",
    "        if chicken == 0:\n",
    "            raise SoldOutError()\n",
    "    except ValueError:\n",
    "        print(\"잘못된 값을 입력하였습니다.\")\n",
    "    except SoldOutError:\n",
    "        print(\"재고가 소진되어 더 이상 주문을 받지 않습니다.\")\n",
    "        break"
   ]
  },
  {
   "cell_type": "markdown",
   "metadata": {},
   "source": [
    "## 모듈"
   ]
  },
  {
   "cell_type": "markdown",
   "metadata": {},
   "source": [
    "### import < Module >"
   ]
  },
  {
   "cell_type": "code",
   "execution_count": 5,
   "metadata": {},
   "outputs": [
    {
     "name": "stdout",
     "output_type": "stream",
     "text": [
      "3명 가격은 30000원 입니다.\n",
      "4명 조조 할인 가격은 24000원 입니다.\n",
      "5명 군인 할인 가격은 20000원 입니다.\n"
     ]
    }
   ],
   "source": [
    "from custom_module import theater\n",
    "# 사용자 정의 모듈(.py) - 현재 파일과 같은 경로에 있거나 파이썬 모듈들이 들어 있는 폴더에 들어 있어야 한다.\n",
    "# 참고로 주피터 노트북(.ipynb) 파일도 불러올 수 있는데, 이는 경로를 지정해줄 수 있어 다른 경로에 있어도 된다.\n",
    "\n",
    "theater.price(3)  # 일반인 3명의 영화 티켓 가격\n",
    "theater.morning_price(4)  # 일반인 3명의 조조 할인 영화 티켓 가격\n",
    "theater.soldier_price(5)  # 군인 5명의 영화 티켓 가격"
   ]
  },
  {
   "cell_type": "markdown",
   "metadata": {},
   "source": [
    "### import < Module > as Nickname"
   ]
  },
  {
   "cell_type": "code",
   "execution_count": 12,
   "metadata": {},
   "outputs": [
    {
     "name": "stdout",
     "output_type": "stream",
     "text": [
      "3명 가격은 30000원 입니다.\n",
      "4명 조조 할인 가격은 24000원 입니다.\n",
      "5명 군인 할인 가격은 20000원 입니다.\n"
     ]
    }
   ],
   "source": [
    "# 모듈명이 너무 길 때 as 뒤에 사용하고자 하는 단어를 선언하여 별명처럼 원래 모듈의 이름 대신 사용할 수 있다.\n",
    "from custom_module import theater as th\n",
    "\n",
    "th.price(3)  # 일반인 3명의 영화 티켓 가격\n",
    "th.morning_price(4)  # 일반인 3명의 조조 할인 영화 티켓 가격\n",
    "th.soldier_price(5)  # 군인 5명의 영화 티켓 가격"
   ]
  },
  {
   "cell_type": "markdown",
   "metadata": {},
   "source": [
    "### from < Module > import *"
   ]
  },
  {
   "cell_type": "code",
   "execution_count": 7,
   "metadata": {},
   "outputs": [
    {
     "name": "stdout",
     "output_type": "stream",
     "text": [
      "3명 가격은 30000원 입니다.\n",
      "4명 조조 할인 가격은 24000원 입니다.\n",
      "5명 군인 할인 가격은 20000원 입니다.\n"
     ]
    }
   ],
   "source": [
    "from custom_module.theater import *\n",
    "# from 으로 사용할 모듈을 적고 import * 을 선언하면 모듈 내의 모든 데이터를 활용한다는 의미이다.\n",
    "# 이 방법을 사용하면 마치 파이썬 내장 함수를 사용하는 것처럼 모듈 내 함수 및 객체를 다룰수 있다.\n",
    "price(3)\n",
    "morning_price(4)\n",
    "soldier_price(5)"
   ]
  },
  {
   "cell_type": "markdown",
   "metadata": {},
   "source": [
    "### from < Module > import (Objects for export)"
   ]
  },
  {
   "cell_type": "code",
   "execution_count": 1,
   "metadata": {},
   "outputs": [
    {
     "name": "stdout",
     "output_type": "stream",
     "text": [
      "3명 가격은 30000원 입니다.\n",
      "4명 조조 할인 가격은 24000원 입니다.\n",
      "5명 군인 할인 가격은 20000원 입니다.\n"
     ]
    }
   ],
   "source": [
    "from custom_module.theater import price, morning_price, soldier_price\n",
    "\n",
    "price(3)\n",
    "morning_price(4)\n",
    "soldier_price(5)"
   ]
  },
  {
   "cell_type": "markdown",
   "metadata": {},
   "source": [
    "## 패키지"
   ]
  },
  {
   "cell_type": "code",
   "execution_count": 1,
   "metadata": {},
   "outputs": [
    {
     "name": "stdout",
     "output_type": "stream",
     "text": [
      "vietnam 외부에서 모듈 호출\n",
      "thailand 외부에서 모듈 호출\n",
      "[베트남 패키지 3박 5일] 다낭 효도 여행 60만원\n",
      "[태국 패키지 3박 5일] 방콕, 파타야 여행 (야시장 투어) 50만원\n"
     ]
    }
   ],
   "source": [
    "# from travel_package.thailand import ThailandPackage\n",
    "# from travel_package import vietnam\n",
    "from custom_pakage.travel import *\n",
    "# 사용자 정의 모듈로 이루어진 패키지에서 *을 사용하여 모든 모듈을 불러올 때는\n",
    "# __init__.py 라는 초기화 모듈을 만들어\n",
    "# __all__ 이라는 변수에 리스트 형식으로 사용자 정의 모듈 파일(.py)의 이름을 문자열로 넣어줘야 한다.\n",
    "# 그 문자열은 from <module> import * 에서 export될 symbol을 의미한다.\n",
    "# __all__ 은 문자열(string)을 요소(element)로 가지는 리스트이다.\n",
    "trip_to_viet = vietnam.VietnamPackage()\n",
    "trip_to_viet.show_detail()\n",
    "\n",
    "trip_to_thai = thailand.ThailandPackage()\n",
    "trip_to_thai.show_detail()"
   ]
  },
  {
   "cell_type": "markdown",
   "metadata": {},
   "source": [
    "### 패키지, 모듈 위치"
   ]
  },
  {
   "cell_type": "code",
   "execution_count": 2,
   "metadata": {},
   "outputs": [
    {
     "name": "stdout",
     "output_type": "stream",
     "text": [
      "/Users/csh/opt/anaconda3/lib/python3.7/random.py\n",
      "/Users/csh/Python/basic_notion/custom_pakage/travel/__init__.py\n",
      "/Users/csh/Python/basic_notion/custom_pakage/travel/thailand.py\n"
     ]
    }
   ],
   "source": [
    "import inspect\n",
    "import random\n",
    "from custom_pakage import travel\n",
    "print(inspect.getfile(random))\n",
    "print(inspect.getfile(travel))\n",
    "print(inspect.getfile(travel.thailand))"
   ]
  },
  {
   "cell_type": "markdown",
   "metadata": {},
   "source": [
    "## 패키지 설치하기(pip install)"
   ]
  },
  {
   "cell_type": "code",
   "execution_count": null,
   "metadata": {},
   "outputs": [],
   "source": [
    "# 1. pip install : 터미널에서 패키지를 설치하는 방법\n",
    "# 2. conda install : 아나콘다 prompt 에서 패키지를 설치하는 방법"
   ]
  },
  {
   "cell_type": "markdown",
   "metadata": {},
   "source": [
    "### 모듈 버전 확인하기"
   ]
  },
  {
   "cell_type": "code",
   "execution_count": 2,
   "metadata": {},
   "outputs": [
    {
     "name": "stdout",
     "output_type": "stream",
     "text": [
      "4.10.0\n"
     ]
    }
   ],
   "source": [
    "import pkg_resources\n",
    "# 1. 파이썬 3.8 이하에서는 pkg_resources 모듈을 사용하여 확인하고자 하는 다른 모듈의 버전을 찾을 수 있다.\n",
    "# 주의할 점으로 get_distribution() 메서드에 전달하는 문자열은 pypi에 명시된 모듈 이름과 일치해야 한다.\n",
    "print(pkg_resources.get_distribution(\"BeautifulSoup4\").version)\n",
    "\n",
    "# 2. __version__() 메서드를 사용하여 해당 모듈의 버전을 간단하게 찾을 수 있지만\n",
    "# 모든 모듈의 버전을 알 수 없고, 모듈을 일단 import 해와야 한다.\n",
    "\n",
    "# 3. 터미널에서 pip show 명령을 사용하여 해당 모듈의 버전을 포함하는 특정 패키지에 대한 세부 정보를 찾을수 있다.\n",
    "# 이 또한 pypi에 명시된 모듈 이름을 작성해야 한다.\n",
    "\n",
    "# 4. importlib.metadata 모듈을 사용하는 방법도 있지만\n",
    "# 현재(21.11.13)기준으로 파이썬 3.7.9를 사용중이기 때문에 생략한다."
   ]
  },
  {
   "cell_type": "markdown",
   "metadata": {},
   "source": [
    "## 내장 함수"
   ]
  },
  {
   "cell_type": "code",
   "execution_count": 10,
   "metadata": {},
   "outputs": [
    {
     "name": "stdout",
     "output_type": "stream",
     "text": [
      "['In', 'Out', '_', '_VSCode_defaultMatplotlib_Params', '__', '___', '__builtin__', '__builtins__', '__doc__', '__loader__', '__name__', '__package__', '__spec__', '_dh', '_i', '_i1', '_i10', '_i2', '_i3', '_i4', '_i5', '_i6', '_i7', '_i8', '_i9', '_ih', '_ii', '_iii', '_oh', 'di', 'exit', 'get_ipython', 'li', 'matplotlib', 'os', 'pickle', 'quit', 'random', 'sys']\n",
      "------------------------------------------------------------\n",
      "['__add__', '__class__', '__contains__', '__delattr__', '__delitem__', '__dir__', '__doc__', '__eq__', '__format__', '__ge__', '__getattribute__', '__getitem__', '__gt__', '__hash__', '__iadd__', '__imul__', '__init__', '__init_subclass__', '__iter__', '__le__', '__len__', '__lt__', '__mul__', '__ne__', '__new__', '__reduce__', '__reduce_ex__', '__repr__', '__reversed__', '__rmul__', '__setattr__', '__setitem__', '__sizeof__', '__str__', '__subclasshook__', 'append', 'clear', 'copy', 'count', 'extend', 'index', 'insert', 'pop', 'remove', 'reverse', 'sort']\n",
      "------------------------------------------------------------\n",
      "['__class__', '__contains__', '__delattr__', '__delitem__', '__dir__', '__doc__', '__eq__', '__format__', '__ge__', '__getattribute__', '__getitem__', '__gt__', '__hash__', '__init__', '__init_subclass__', '__iter__', '__le__', '__len__', '__lt__', '__ne__', '__new__', '__reduce__', '__reduce_ex__', '__repr__', '__setattr__', '__setitem__', '__sizeof__', '__str__', '__subclasshook__', 'clear', 'copy', 'fromkeys', 'get', 'items', 'keys', 'pop', 'popitem', 'setdefault', 'update', 'values']\n",
      "------------------------------------------------------------\n",
      "['BPF', 'LOG4', 'NV_MAGICCONST', 'RECIP_BPF', 'Random', 'SG_MAGICCONST', 'SystemRandom', 'TWOPI', '_BuiltinMethodType', '_MethodType', '_Sequence', '_Set', '__all__', '__builtins__', '__cached__', '__doc__', '__file__', '__loader__', '__name__', '__package__', '__spec__', '_acos', '_bisect', '_ceil', '_cos', '_e', '_exp', '_inst', '_itertools', '_log', '_os', '_pi', '_random', '_sha512', '_sin', '_sqrt', '_test', '_test_generator', '_urandom', '_warn', 'betavariate', 'choice', 'choices', 'expovariate', 'gammavariate', 'gauss', 'getrandbits', 'getstate', 'lognormvariate', 'normalvariate', 'paretovariate', 'randint', 'random', 'randrange', 'sample', 'seed', 'setstate', 'shuffle', 'triangular', 'uniform', 'vonmisesvariate', 'weibullvariate']\n",
      "------------------------------------------------------------\n",
      "['ADDITEMS', 'APPEND', 'APPENDS', 'BINBYTES', 'BINBYTES8', 'BINFLOAT', 'BINGET', 'BININT', 'BININT1', 'BININT2', 'BINPERSID', 'BINPUT', 'BINSTRING', 'BINUNICODE', 'BINUNICODE8', 'BUILD', 'DEFAULT_PROTOCOL', 'DICT', 'DUP', 'EMPTY_DICT', 'EMPTY_LIST', 'EMPTY_SET', 'EMPTY_TUPLE', 'EXT1', 'EXT2', 'EXT4', 'FALSE', 'FLOAT', 'FRAME', 'FROZENSET', 'FunctionType', 'GET', 'GLOBAL', 'HIGHEST_PROTOCOL', 'INST', 'INT', 'LIST', 'LONG', 'LONG1', 'LONG4', 'LONG_BINGET', 'LONG_BINPUT', 'MARK', 'MEMOIZE', 'NEWFALSE', 'NEWOBJ', 'NEWOBJ_EX', 'NEWTRUE', 'NONE', 'OBJ', 'PERSID', 'POP', 'POP_MARK', 'PROTO', 'PUT', 'PickleError', 'Pickler', 'PicklingError', 'PyStringMap', 'REDUCE', 'SETITEM', 'SETITEMS', 'SHORT_BINBYTES', 'SHORT_BINSTRING', 'SHORT_BINUNICODE', 'STACK_GLOBAL', 'STOP', 'STRING', 'TRUE', 'TUPLE', 'TUPLE1', 'TUPLE2', 'TUPLE3', 'UNICODE', 'Unpickler', 'UnpicklingError', '_Framer', '_Pickler', '_Stop', '_Unframer', '_Unpickler', '__all__', '__builtins__', '__cached__', '__doc__', '__file__', '__loader__', '__name__', '__package__', '__spec__', '_compat_pickle', '_dump', '_dumps', '_extension_cache', '_extension_registry', '_getattribute', '_inverted_registry', '_load', '_loads', '_test', '_tuplesize2code', 'bytes_types', 'codecs', 'compatible_formats', 'decode_long', 'dispatch_table', 'dump', 'dumps', 'encode_long', 'format_version', 'io', 'islice', 'load', 'loads', 'maxsize', 'pack', 'partial', 're', 'sys', 'unpack', 'whichmodule']\n"
     ]
    }
   ],
   "source": [
    "## input(string) : 사용자의 입력을 받는 함수\n",
    "# language = input(\"무슨 언어를 좋아하세요?\")\n",
    "# print(f\"{language}은 아주 좋은 언어입니다.\")\n",
    "\n",
    "## dir : 어떤 객체를 넘겨줬을 때 그 객체가 어떤 변수와 함수를 가지고 있는지 표시\n",
    "print(dir())\n",
    "\n",
    "print(\"-\"*60)\n",
    "\n",
    "li = [1,2,3]\n",
    "print(dir(li))\n",
    "\n",
    "print(\"-\"*60)\n",
    "\n",
    "di = {\"one\":1, \"two\":2, \"three\":3}\n",
    "print(dir(di))\n",
    "\n",
    "print(\"-\"*60)\n",
    "\n",
    "import random  # random 모듈의 외장 함수\n",
    "print(dir(random))\n",
    "\n",
    "print(\"-\"*60)\n",
    "\n",
    "import pickle  # pickle 모듈의 외장 함수\n",
    "print(dir(pickle))"
   ]
  },
  {
   "cell_type": "markdown",
   "metadata": {},
   "source": [
    "## 외장 함수"
   ]
  },
  {
   "cell_type": "code",
   "execution_count": 16,
   "metadata": {},
   "outputs": [
    {
     "name": "stdout",
     "output_type": "stream",
     "text": [
      "['Theater_Module.py']\n",
      "/Users/csh/jupytercreation/Python_Practice/Python_Basic\n",
      "이미 존재하는 폴더입니다.\n",
      "sample_dir 폴더를 삭제하였습니다.\n"
     ]
    }
   ],
   "source": [
    "## glob : 경로 내의 폴더 / 파일 목록을 조회 해준다.\n",
    "import glob\n",
    "print(glob.glob(\"*.py\"))\n",
    "\n",
    "## os : 운영체제에서 제공하는 기본 기능\n",
    "import os\n",
    "print(os.getcwd())  # get current work directory\n",
    "\n",
    "folder = \"sample_dir\"\n",
    "\n",
    "if os.path.exists(folder):\n",
    "    print(\"이미 존재하는 폴더입니다.\")\n",
    "    os.rmdir(folder)\n",
    "    print(folder, \"폴더를 삭제하였습니다.\")\n",
    "else:\n",
    "    os.makedirs(folder)\n",
    "    print(folder, \"폴더를 생성하였습니다.\")"
   ]
  },
  {
   "cell_type": "code",
   "execution_count": 21,
   "metadata": {},
   "outputs": [
    {
     "name": "stdout",
     "output_type": "stream",
     "text": [
      "time.struct_time(tm_year=2021, tm_mon=11, tm_mday=13, tm_hour=20, tm_min=29, tm_sec=36, tm_wday=5, tm_yday=317, tm_isdst=0)\n",
      "2021-11-13 20:29:36\n",
      "오늘 날짜는  2021-11-13\n",
      "우리가 만난지 100일째 되는 날은 2022-02-21\n"
     ]
    }
   ],
   "source": [
    "## time : 시간 관련 함수\n",
    "import time\n",
    "print(time.localtime())\n",
    "print(time.strftime(\"%Y-%m-%d %H:%M:%S\"))\n",
    "\n",
    "## datetime : 날짜 관련 함수\n",
    "import datetime\n",
    "print(\"오늘 날짜는 \", datetime.date.today())\n",
    "\n",
    "today = datetime.date.today()  # 오늘 날짜 정보\n",
    "td = datetime.timedelta(days=100)  # 오늘 날짜로부터 100일 후 날짜 정보\n",
    "print(\"우리가 만난지 100일째 되는 날은\", today + td)"
   ]
  },
  {
   "cell_type": "markdown",
   "metadata": {},
   "source": [
    "## 퀴즈 10"
   ]
  },
  {
   "cell_type": "code",
   "execution_count": 3,
   "metadata": {},
   "outputs": [
    {
     "name": "stdout",
     "output_type": "stream",
     "text": [
      "이 프로그램은 S.Hyeok Cho에 의해 만들어졌습니다.\n",
      "유튜브 : https://youtube.com\n",
      "블로그 : https://blog.naver.com\n",
      "이메일 : whtjdgur77@gmail.com\n"
     ]
    }
   ],
   "source": [
    "# quiz\n",
    "# 프로젝트 내에 나만의 시그니쳐를 남기는 모듈을 만드시오.\n",
    "# 조건 : 모듈 파일명은 byme.py 로 작성\n",
    "# (모듈 사용 예제)\n",
    "# import byme\n",
    "# byme.sign()\n",
    "# (출력 예제)\n",
    "# 이 프로그램은 S.Hyeok Cho에 의해 만들어졌습니다.\n",
    "# 유튜브 : https://youtube.com\n",
    "# 블로그 : https://blog.naver.com\n",
    "# 이메일 : whtjdgur77@gmail.com\n",
    "from custom_module import by_me\n",
    "by_me.sign()\n"
   ]
  }
 ],
 "metadata": {
  "interpreter": {
   "hash": "38cc0cca68228d4d18227abe74ed813685db17db46984279e4aabdddebf5f1ba"
  },
  "kernelspec": {
   "display_name": "Python 3 (ipykernel)",
   "language": "python",
   "name": "python3"
  },
  "language_info": {
   "codemirror_mode": {
    "name": "ipython",
    "version": 3
   },
   "file_extension": ".py",
   "mimetype": "text/x-python",
   "name": "python",
   "nbconvert_exporter": "python",
   "pygments_lexer": "ipython3",
   "version": "3.7.9"
  }
 },
 "nbformat": 4,
 "nbformat_minor": 2
}
