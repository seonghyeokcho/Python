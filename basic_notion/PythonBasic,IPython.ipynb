{
 "metadata": {
  "language_info": {
   "codemirror_mode": {
    "name": "ipython",
    "version": 3
   },
   "file_extension": ".py",
   "mimetype": "text/x-python",
   "name": "python",
   "nbconvert_exporter": "python",
   "pygments_lexer": "ipython3",
   "version": 3
  },
  "orig_nbformat": 2,
  "kernelspec": {
   "name": "python_defaultSpec_1596607231337",
   "display_name": "Python 3.7.6 64-bit ('base': conda)"
  }
 },
 "nbformat": 4,
 "nbformat_minor": 2,
 "cells": [
  {
   "cell_type": "markdown",
   "metadata": {},
   "source": [
    "### 자기관찰"
   ]
  },
  {
   "cell_type": "code",
   "execution_count": 4,
   "metadata": {
    "tags": []
   },
   "outputs": [
    {
     "output_type": "stream",
     "text": "\u001b[0;31mType:\u001b[0m        list\n\u001b[0;31mString form:\u001b[0m [1, 2, 3, 4]\n\u001b[0;31mLength:\u001b[0m      4\n\u001b[0;31mDocstring:\u001b[0m  \nBuilt-in mutable sequence.\n\nIf no argument is given, the constructor creates a new empty list.\nThe argument must be an iterable if specified.\n"
    }
   ],
   "source": [
    "# 변수 이름 앞이나 뒤에 ? 기호를 붙이면 그 객체에 대한 일반 정보를 출력함\n",
    "a = [1,2,3,4]\n",
    "?a"
   ]
  },
  {
   "cell_type": "code",
   "execution_count": 5,
   "metadata": {},
   "outputs": [
    {
     "output_type": "stream",
     "text": "\u001b[0;31mType:\u001b[0m        list\n\u001b[0;31mString form:\u001b[0m [1, 2, 3, 4]\n\u001b[0;31mLength:\u001b[0m      4\n\u001b[0;31mDocstring:\u001b[0m  \nBuilt-in mutable sequence.\n\nIf no argument is given, the constructor creates a new empty list.\nThe argument must be an iterable if specified.\n"
    }
   ],
   "source": [
    "a?"
   ]
  },
  {
   "cell_type": "code",
   "execution_count": 16,
   "metadata": {},
   "outputs": [
    {
     "output_type": "stream",
     "text": "\u001b[0;31mSignature:\u001b[0m \u001b[0madd_number\u001b[0m\u001b[0;34m(\u001b[0m\u001b[0ma\u001b[0m\u001b[0;34m,\u001b[0m \u001b[0mb\u001b[0m\u001b[0;34m)\u001b[0m\u001b[0;34m\u001b[0m\u001b[0;34m\u001b[0m\u001b[0m\n\u001b[0;31mDocstring:\u001b[0m Add numbers together\n\u001b[0;31mFile:\u001b[0m      ~/jupytercreation/Python_Practice/<ipython-input-16-a4038b607d68>\n\u001b[0;31mType:\u001b[0m      function\n"
    }
   ],
   "source": [
    "# 만약 객체가 함수이거나 인스턴스 메서드라면 정의되어 있는 문서를 출력함\n",
    "def add_number(a,b):\n",
    "    \"\"\"\n",
    "    Add numbers together\n",
    "    \"\"\"\n",
    "    return a+b\n",
    "\n",
    "add_number?\n",
    "#?add_number"
   ]
  },
  {
   "cell_type": "code",
   "execution_count": 8,
   "metadata": {},
   "outputs": [
    {
     "output_type": "stream",
     "text": "\u001b[0;31mSignature:\u001b[0m \u001b[0madd_number\u001b[0m\u001b[0;34m(\u001b[0m\u001b[0ma\u001b[0m\u001b[0;34m,\u001b[0m \u001b[0mb\u001b[0m\u001b[0;34m)\u001b[0m\u001b[0;34m\u001b[0m\u001b[0;34m\u001b[0m\u001b[0m\n\u001b[0;31mSource:\u001b[0m   \n\u001b[0;32mdef\u001b[0m \u001b[0madd_number\u001b[0m\u001b[0;34m(\u001b[0m\u001b[0ma\u001b[0m\u001b[0;34m,\u001b[0m\u001b[0mb\u001b[0m\u001b[0;34m)\u001b[0m\u001b[0;34m:\u001b[0m\u001b[0;34m\u001b[0m\n\u001b[0;34m\u001b[0m    \u001b[0;34m\"\"\"\u001b[0m\n\u001b[0;34m    Add numbers together\u001b[0m\n\u001b[0;34m    \"\"\"\u001b[0m\u001b[0;34m\u001b[0m\n\u001b[0;34m\u001b[0m    \u001b[0;32mreturn\u001b[0m \u001b[0ma\u001b[0m\u001b[0;34m+\u001b[0m\u001b[0mb\u001b[0m\u001b[0;34m\u001b[0m\u001b[0;34m\u001b[0m\u001b[0m\n\u001b[0;31mFile:\u001b[0m      ~/jupytercreation/Python_Practice/<ipython-input-6-95c94314cc5c>\n\u001b[0;31mType:\u001b[0m      function\n"
    }
   ],
   "source": [
    "## ?? 를 사용하면 가능한 경우 함수의 소스 코드도 보여준다.\n",
    "add_number??\n",
    "#??add_number"
   ]
  },
  {
   "cell_type": "code",
   "execution_count": 12,
   "metadata": {},
   "outputs": [
    {
     "output_type": "execute_result",
     "data": {
      "text/plain": "'\\n%quickref - IPython의 빠른 도움말 표시\\n%magic - 모든 매직함수에 대한 상세 도움말 출력\\n%debug - 최근 예외 트레이스백의 하단에서 대화형 디버거로 진입\\n%hist - 명령어 입력(그리고 선택적 출력) 히스토리 출력\\n%pdb - 예외가 발생하면 자동으로 디버거로 진입\\n%paste - 클립보드에서 들여쓰기 된 채로 파이썬 코드 가져오기\\n%cpaste - 실행할 파이썬 코드를 수동으로 붗여 넣을 수 있는 프롬프트 표시\\n%reset - 대화형 네임스페이스에 정의된 모든 변수와 이름을 삭제\\n%page OBJECT - 객체를 pager를 통해 보기 좋게 출력\\n%run FILEDIRECT/FILENAME - IPython 내에서 파이썬 스크립트 실행\\n%prun VARIABLE - cProfile을 이용하여 지정된 변수를 실행하고 프로파일 결과를 출력\\n%time VARIABLE - 해당 변수의 단일 실행 시간을 출력\\n%timeit VARIABLE - 해당 변수를 여러 차례 실행한 후 평균 실행 시간을 출력. 매우 짧은 시간안에 끝나는 코드의 시간을 측정할 때 유용하다.\\n%who, %who_ls, %whos - 대화형 네임스페이스 내에 정의된 변수를 다양한 방법으로 표시\\n%xdel VARIABLE - 변수를 삭제하고 IPython 내부적으로 해당 객체에 대한 모든 참조를 제거\\n'"
     },
     "metadata": {},
     "execution_count": 12
    }
   ],
   "source": [
    "## 자주 사용하는 IPython 매직 명령어\n",
    "'''\n",
    "%quickref - IPython의 빠른 도움말 표시\n",
    "%magic - 모든 매직함수에 대한 상세 도움말 출력\n",
    "%debug - 최근 예외 트레이스백의 하단에서 대화형 디버거로 진입\n",
    "%hist - 명령어 입력(그리고 선택적 출력) 히스토리 출력\n",
    "%pdb - 예외가 발생하면 자동으로 디버거로 진입\n",
    "%paste - 클립보드에서 들여쓰기 된 채로 파이썬 코드 가져오기\n",
    "%cpaste - 실행할 파이썬 코드를 수동으로 붗여 넣을 수 있는 프롬프트 표시\n",
    "%reset - 대화형 네임스페이스에 정의된 모든 변수와 이름을 삭제\n",
    "%page OBJECT - 객체를 pager를 통해 보기 좋게 출력\n",
    "%run FILEDIRECT/FILENAME - IPython 내에서 파이썬 스크립트 실행\n",
    "%prun VARIABLE - cProfile을 이용하여 지정된 변수를 실행하고 프로파일 결과를 출력\n",
    "%time VARIABLE - 해당 변수의 단일 실행 시간을 출력\n",
    "%timeit VARIABLE - 해당 변수를 여러 차례 실행한 후 평균 실행 시간을 출력. 매우 짧은 시간안에 끝나는 코드의 시간을 측정할 때 유용하다.\n",
    "%who, %who_ls, %whos - 대화형 네임스페이스 내에 정의된 변수를 다양한 방법으로 표시\n",
    "%xdel VARIABLE - 변수를 삭제하고 IPython 내부적으로 해당 객체에 대한 모든 참조를 제거\n",
    "'''"
   ]
  },
  {
   "cell_type": "code",
   "execution_count": 20,
   "metadata": {
    "tags": []
   },
   "outputs": [
    {
     "output_type": "stream",
     "text": "[1, 2, 3, 4]"
    }
   ],
   "source": [
    "%page a"
   ]
  },
  {
   "cell_type": "code",
   "execution_count": 21,
   "metadata": {
    "tags": []
   },
   "outputs": [
    {
     "output_type": "stream",
     "name": "stdout",
     "text": "CPU times: user 2 µs, sys: 1 µs, total: 3 µs\nWall time: 4.77 µs\n"
    },
    {
     "output_type": "execute_result",
     "data": {
      "text/plain": "<function __main__.add_number(a, b)>"
     },
     "metadata": {},
     "execution_count": 21
    }
   ],
   "source": [
    "%time add_number"
   ]
  },
  {
   "cell_type": "code",
   "execution_count": 22,
   "metadata": {
    "tags": []
   },
   "outputs": [
    {
     "output_type": "stream",
     "name": "stdout",
     "text": "17 ns ± 0.0414 ns per loop (mean ± std. dev. of 7 runs, 100000000 loops each)\n"
    }
   ],
   "source": [
    "%timeit a"
   ]
  },
  {
   "cell_type": "code",
   "execution_count": 23,
   "metadata": {
    "tags": []
   },
   "outputs": [
    {
     "output_type": "stream",
     "name": "stdout",
     "text": "a\t add_number\t os\t sys\t \n"
    }
   ],
   "source": [
    "%who  # 현재까지 정의된 모든 변수를 탭(\\t)으로 구분하여 출력"
   ]
  },
  {
   "cell_type": "code",
   "execution_count": 24,
   "metadata": {},
   "outputs": [
    {
     "output_type": "execute_result",
     "data": {
      "text/plain": "['a', 'add_number', 'os', 'sys']"
     },
     "metadata": {},
     "execution_count": 24
    }
   ],
   "source": [
    "%who_ls  # 현재까지 정의된 모든 변수를 리스트형으로 출력"
   ]
  },
  {
   "cell_type": "code",
   "execution_count": 25,
   "metadata": {
    "tags": []
   },
   "outputs": [
    {
     "output_type": "stream",
     "name": "stdout",
     "text": "Variable     Type        Data/Info\n----------------------------------\na            list        n=4\nadd_number   function    <function add_number at 0x7fa0f46c5f80>\nos           module      <module 'os' from '/opt/a<...>da3/lib/python3.7/os.py'>\nsys          module      <module 'sys' (built-in)>\n"
    }
   ],
   "source": [
    "%whos  # 현재까지 정의된 모든 변수의 이름, 타입, 데이터정보를 출력"
   ]
  },
  {
   "cell_type": "code",
   "execution_count": 26,
   "metadata": {},
   "outputs": [
    {
     "output_type": "execute_result",
     "data": {
      "text/plain": "[1, 2, 3, 4, 5]"
     },
     "metadata": {},
     "execution_count": 26
    }
   ],
   "source": [
    "b = [1,2,3,4,5]\n",
    "b"
   ]
  },
  {
   "cell_type": "code",
   "execution_count": 27,
   "metadata": {},
   "outputs": [],
   "source": [
    "%xdel b"
   ]
  },
  {
   "cell_type": "code",
   "execution_count": 28,
   "metadata": {},
   "outputs": [
    {
     "output_type": "error",
     "ename": "NameError",
     "evalue": "name 'b' is not defined",
     "traceback": [
      "\u001b[0;31m---------------------------------------------------------------------------\u001b[0m",
      "\u001b[0;31mNameError\u001b[0m                                 Traceback (most recent call last)",
      "\u001b[0;32m<ipython-input-28-89e6c98d9288>\u001b[0m in \u001b[0;36m<module>\u001b[0;34m\u001b[0m\n\u001b[0;32m----> 1\u001b[0;31m \u001b[0mb\u001b[0m\u001b[0;34m\u001b[0m\u001b[0;34m\u001b[0m\u001b[0m\n\u001b[0m",
      "\u001b[0;31mNameError\u001b[0m: name 'b' is not defined"
     ]
    }
   ],
   "source": [
    "b"
   ]
  },
  {
   "cell_type": "code",
   "execution_count": 29,
   "metadata": {},
   "outputs": [
    {
     "output_type": "execute_result",
     "data": {
      "text/plain": "[<matplotlib.lines.Line2D at 0x7fa0d9daab10>]"
     },
     "metadata": {},
     "execution_count": 29
    },
    {
     "output_type": "display_data",
     "data": {
      "text/plain": "<Figure size 432x288 with 1 Axes>",
      "image/svg+xml": "<?xml version=\"1.0\" encoding=\"utf-8\" standalone=\"no\"?>\n<!DOCTYPE svg PUBLIC \"-//W3C//DTD SVG 1.1//EN\"\n  \"http://www.w3.org/Graphics/SVG/1.1/DTD/svg11.dtd\">\n<!-- Created with matplotlib (https://matplotlib.org/) -->\n<svg height=\"248.518125pt\" version=\"1.1\" viewBox=\"0 0 377.304687 248.518125\" width=\"377.304687pt\" xmlns=\"http://www.w3.org/2000/svg\" xmlns:xlink=\"http://www.w3.org/1999/xlink\">\n <defs>\n  <style type=\"text/css\">\n*{stroke-linecap:butt;stroke-linejoin:round;}\n  </style>\n </defs>\n <g id=\"figure_1\">\n  <g id=\"patch_1\">\n   <path d=\"M 0 248.518125 \nL 377.304687 248.518125 \nL 377.304687 0 \nL 0 0 \nz\n\" style=\"fill:none;\"/>\n  </g>\n  <g id=\"axes_1\">\n   <g id=\"patch_2\">\n    <path d=\"M 35.304688 224.64 \nL 370.104688 224.64 \nL 370.104688 7.2 \nL 35.304688 7.2 \nz\n\" style=\"fill:#ffffff;\"/>\n   </g>\n   <g id=\"matplotlib.axis_1\">\n    <g id=\"xtick_1\">\n     <g id=\"line2d_1\">\n      <defs>\n       <path d=\"M 0 0 \nL 0 3.5 \n\" id=\"me55d1146d2\" style=\"stroke:#000000;stroke-width:0.8;\"/>\n      </defs>\n      <g>\n       <use style=\"stroke:#000000;stroke-width:0.8;\" x=\"50.522869\" xlink:href=\"#me55d1146d2\" y=\"224.64\"/>\n      </g>\n     </g>\n     <g id=\"text_1\">\n      <!-- 0 -->\n      <defs>\n       <path d=\"M 31.78125 66.40625 \nQ 24.171875 66.40625 20.328125 58.90625 \nQ 16.5 51.421875 16.5 36.375 \nQ 16.5 21.390625 20.328125 13.890625 \nQ 24.171875 6.390625 31.78125 6.390625 \nQ 39.453125 6.390625 43.28125 13.890625 \nQ 47.125 21.390625 47.125 36.375 \nQ 47.125 51.421875 43.28125 58.90625 \nQ 39.453125 66.40625 31.78125 66.40625 \nz\nM 31.78125 74.21875 \nQ 44.046875 74.21875 50.515625 64.515625 \nQ 56.984375 54.828125 56.984375 36.375 \nQ 56.984375 17.96875 50.515625 8.265625 \nQ 44.046875 -1.421875 31.78125 -1.421875 \nQ 19.53125 -1.421875 13.0625 8.265625 \nQ 6.59375 17.96875 6.59375 36.375 \nQ 6.59375 54.828125 13.0625 64.515625 \nQ 19.53125 74.21875 31.78125 74.21875 \nz\n\" id=\"DejaVuSans-48\"/>\n      </defs>\n      <g transform=\"translate(47.341619 239.238437)scale(0.1 -0.1)\">\n       <use xlink:href=\"#DejaVuSans-48\"/>\n      </g>\n     </g>\n    </g>\n    <g id=\"xtick_2\">\n     <g id=\"line2d_2\">\n      <g>\n       <use style=\"stroke:#000000;stroke-width:0.8;\" x=\"112.637897\" xlink:href=\"#me55d1146d2\" y=\"224.64\"/>\n      </g>\n     </g>\n     <g id=\"text_2\">\n      <!-- 10 -->\n      <defs>\n       <path d=\"M 12.40625 8.296875 \nL 28.515625 8.296875 \nL 28.515625 63.921875 \nL 10.984375 60.40625 \nL 10.984375 69.390625 \nL 28.421875 72.90625 \nL 38.28125 72.90625 \nL 38.28125 8.296875 \nL 54.390625 8.296875 \nL 54.390625 0 \nL 12.40625 0 \nz\n\" id=\"DejaVuSans-49\"/>\n      </defs>\n      <g transform=\"translate(106.275397 239.238437)scale(0.1 -0.1)\">\n       <use xlink:href=\"#DejaVuSans-49\"/>\n       <use x=\"63.623047\" xlink:href=\"#DejaVuSans-48\"/>\n      </g>\n     </g>\n    </g>\n    <g id=\"xtick_3\">\n     <g id=\"line2d_3\">\n      <g>\n       <use style=\"stroke:#000000;stroke-width:0.8;\" x=\"174.752925\" xlink:href=\"#me55d1146d2\" y=\"224.64\"/>\n      </g>\n     </g>\n     <g id=\"text_3\">\n      <!-- 20 -->\n      <defs>\n       <path d=\"M 19.1875 8.296875 \nL 53.609375 8.296875 \nL 53.609375 0 \nL 7.328125 0 \nL 7.328125 8.296875 \nQ 12.9375 14.109375 22.625 23.890625 \nQ 32.328125 33.6875 34.8125 36.53125 \nQ 39.546875 41.84375 41.421875 45.53125 \nQ 43.3125 49.21875 43.3125 52.78125 \nQ 43.3125 58.59375 39.234375 62.25 \nQ 35.15625 65.921875 28.609375 65.921875 \nQ 23.96875 65.921875 18.8125 64.3125 \nQ 13.671875 62.703125 7.8125 59.421875 \nL 7.8125 69.390625 \nQ 13.765625 71.78125 18.9375 73 \nQ 24.125 74.21875 28.421875 74.21875 \nQ 39.75 74.21875 46.484375 68.546875 \nQ 53.21875 62.890625 53.21875 53.421875 \nQ 53.21875 48.921875 51.53125 44.890625 \nQ 49.859375 40.875 45.40625 35.40625 \nQ 44.1875 33.984375 37.640625 27.21875 \nQ 31.109375 20.453125 19.1875 8.296875 \nz\n\" id=\"DejaVuSans-50\"/>\n      </defs>\n      <g transform=\"translate(168.390425 239.238437)scale(0.1 -0.1)\">\n       <use xlink:href=\"#DejaVuSans-50\"/>\n       <use x=\"63.623047\" xlink:href=\"#DejaVuSans-48\"/>\n      </g>\n     </g>\n    </g>\n    <g id=\"xtick_4\">\n     <g id=\"line2d_4\">\n      <g>\n       <use style=\"stroke:#000000;stroke-width:0.8;\" x=\"236.867953\" xlink:href=\"#me55d1146d2\" y=\"224.64\"/>\n      </g>\n     </g>\n     <g id=\"text_4\">\n      <!-- 30 -->\n      <defs>\n       <path d=\"M 40.578125 39.3125 \nQ 47.65625 37.796875 51.625 33 \nQ 55.609375 28.21875 55.609375 21.1875 \nQ 55.609375 10.40625 48.1875 4.484375 \nQ 40.765625 -1.421875 27.09375 -1.421875 \nQ 22.515625 -1.421875 17.65625 -0.515625 \nQ 12.796875 0.390625 7.625 2.203125 \nL 7.625 11.71875 \nQ 11.71875 9.328125 16.59375 8.109375 \nQ 21.484375 6.890625 26.8125 6.890625 \nQ 36.078125 6.890625 40.9375 10.546875 \nQ 45.796875 14.203125 45.796875 21.1875 \nQ 45.796875 27.640625 41.28125 31.265625 \nQ 36.765625 34.90625 28.71875 34.90625 \nL 20.21875 34.90625 \nL 20.21875 43.015625 \nL 29.109375 43.015625 \nQ 36.375 43.015625 40.234375 45.921875 \nQ 44.09375 48.828125 44.09375 54.296875 \nQ 44.09375 59.90625 40.109375 62.90625 \nQ 36.140625 65.921875 28.71875 65.921875 \nQ 24.65625 65.921875 20.015625 65.03125 \nQ 15.375 64.15625 9.8125 62.3125 \nL 9.8125 71.09375 \nQ 15.4375 72.65625 20.34375 73.4375 \nQ 25.25 74.21875 29.59375 74.21875 \nQ 40.828125 74.21875 47.359375 69.109375 \nQ 53.90625 64.015625 53.90625 55.328125 \nQ 53.90625 49.265625 50.4375 45.09375 \nQ 46.96875 40.921875 40.578125 39.3125 \nz\n\" id=\"DejaVuSans-51\"/>\n      </defs>\n      <g transform=\"translate(230.505453 239.238437)scale(0.1 -0.1)\">\n       <use xlink:href=\"#DejaVuSans-51\"/>\n       <use x=\"63.623047\" xlink:href=\"#DejaVuSans-48\"/>\n      </g>\n     </g>\n    </g>\n    <g id=\"xtick_5\">\n     <g id=\"line2d_5\">\n      <g>\n       <use style=\"stroke:#000000;stroke-width:0.8;\" x=\"298.982981\" xlink:href=\"#me55d1146d2\" y=\"224.64\"/>\n      </g>\n     </g>\n     <g id=\"text_5\">\n      <!-- 40 -->\n      <defs>\n       <path d=\"M 37.796875 64.3125 \nL 12.890625 25.390625 \nL 37.796875 25.390625 \nz\nM 35.203125 72.90625 \nL 47.609375 72.90625 \nL 47.609375 25.390625 \nL 58.015625 25.390625 \nL 58.015625 17.1875 \nL 47.609375 17.1875 \nL 47.609375 0 \nL 37.796875 0 \nL 37.796875 17.1875 \nL 4.890625 17.1875 \nL 4.890625 26.703125 \nz\n\" id=\"DejaVuSans-52\"/>\n      </defs>\n      <g transform=\"translate(292.620481 239.238437)scale(0.1 -0.1)\">\n       <use xlink:href=\"#DejaVuSans-52\"/>\n       <use x=\"63.623047\" xlink:href=\"#DejaVuSans-48\"/>\n      </g>\n     </g>\n    </g>\n    <g id=\"xtick_6\">\n     <g id=\"line2d_6\">\n      <g>\n       <use style=\"stroke:#000000;stroke-width:0.8;\" x=\"361.098008\" xlink:href=\"#me55d1146d2\" y=\"224.64\"/>\n      </g>\n     </g>\n     <g id=\"text_6\">\n      <!-- 50 -->\n      <defs>\n       <path d=\"M 10.796875 72.90625 \nL 49.515625 72.90625 \nL 49.515625 64.59375 \nL 19.828125 64.59375 \nL 19.828125 46.734375 \nQ 21.96875 47.46875 24.109375 47.828125 \nQ 26.265625 48.1875 28.421875 48.1875 \nQ 40.625 48.1875 47.75 41.5 \nQ 54.890625 34.8125 54.890625 23.390625 \nQ 54.890625 11.625 47.5625 5.09375 \nQ 40.234375 -1.421875 26.90625 -1.421875 \nQ 22.3125 -1.421875 17.546875 -0.640625 \nQ 12.796875 0.140625 7.71875 1.703125 \nL 7.71875 11.625 \nQ 12.109375 9.234375 16.796875 8.0625 \nQ 21.484375 6.890625 26.703125 6.890625 \nQ 35.15625 6.890625 40.078125 11.328125 \nQ 45.015625 15.765625 45.015625 23.390625 \nQ 45.015625 31 40.078125 35.4375 \nQ 35.15625 39.890625 26.703125 39.890625 \nQ 22.75 39.890625 18.8125 39.015625 \nQ 14.890625 38.140625 10.796875 36.28125 \nz\n\" id=\"DejaVuSans-53\"/>\n      </defs>\n      <g transform=\"translate(354.735508 239.238437)scale(0.1 -0.1)\">\n       <use xlink:href=\"#DejaVuSans-53\"/>\n       <use x=\"63.623047\" xlink:href=\"#DejaVuSans-48\"/>\n      </g>\n     </g>\n    </g>\n   </g>\n   <g id=\"matplotlib.axis_2\">\n    <g id=\"ytick_1\">\n     <g id=\"line2d_7\">\n      <defs>\n       <path d=\"M 0 0 \nL -3.5 0 \n\" id=\"m0fa31d6ee1\" style=\"stroke:#000000;stroke-width:0.8;\"/>\n      </defs>\n      <g>\n       <use style=\"stroke:#000000;stroke-width:0.8;\" x=\"35.304688\" xlink:href=\"#m0fa31d6ee1\" y=\"219.235492\"/>\n      </g>\n     </g>\n     <g id=\"text_7\">\n      <!-- −10 -->\n      <defs>\n       <path d=\"M 10.59375 35.5 \nL 73.1875 35.5 \nL 73.1875 27.203125 \nL 10.59375 27.203125 \nz\n\" id=\"DejaVuSans-8722\"/>\n      </defs>\n      <g transform=\"translate(7.2 223.03471)scale(0.1 -0.1)\">\n       <use xlink:href=\"#DejaVuSans-8722\"/>\n       <use x=\"83.789062\" xlink:href=\"#DejaVuSans-49\"/>\n       <use x=\"147.412109\" xlink:href=\"#DejaVuSans-48\"/>\n      </g>\n     </g>\n    </g>\n    <g id=\"ytick_2\">\n     <g id=\"line2d_8\">\n      <g>\n       <use style=\"stroke:#000000;stroke-width:0.8;\" x=\"35.304688\" xlink:href=\"#m0fa31d6ee1\" y=\"179.811433\"/>\n      </g>\n     </g>\n     <g id=\"text_8\">\n      <!-- −8 -->\n      <defs>\n       <path d=\"M 31.78125 34.625 \nQ 24.75 34.625 20.71875 30.859375 \nQ 16.703125 27.09375 16.703125 20.515625 \nQ 16.703125 13.921875 20.71875 10.15625 \nQ 24.75 6.390625 31.78125 6.390625 \nQ 38.8125 6.390625 42.859375 10.171875 \nQ 46.921875 13.96875 46.921875 20.515625 \nQ 46.921875 27.09375 42.890625 30.859375 \nQ 38.875 34.625 31.78125 34.625 \nz\nM 21.921875 38.8125 \nQ 15.578125 40.375 12.03125 44.71875 \nQ 8.5 49.078125 8.5 55.328125 \nQ 8.5 64.0625 14.71875 69.140625 \nQ 20.953125 74.21875 31.78125 74.21875 \nQ 42.671875 74.21875 48.875 69.140625 \nQ 55.078125 64.0625 55.078125 55.328125 \nQ 55.078125 49.078125 51.53125 44.71875 \nQ 48 40.375 41.703125 38.8125 \nQ 48.828125 37.15625 52.796875 32.3125 \nQ 56.78125 27.484375 56.78125 20.515625 \nQ 56.78125 9.90625 50.3125 4.234375 \nQ 43.84375 -1.421875 31.78125 -1.421875 \nQ 19.734375 -1.421875 13.25 4.234375 \nQ 6.78125 9.90625 6.78125 20.515625 \nQ 6.78125 27.484375 10.78125 32.3125 \nQ 14.796875 37.15625 21.921875 38.8125 \nz\nM 18.3125 54.390625 \nQ 18.3125 48.734375 21.84375 45.5625 \nQ 25.390625 42.390625 31.78125 42.390625 \nQ 38.140625 42.390625 41.71875 45.5625 \nQ 45.3125 48.734375 45.3125 54.390625 \nQ 45.3125 60.0625 41.71875 63.234375 \nQ 38.140625 66.40625 31.78125 66.40625 \nQ 25.390625 66.40625 21.84375 63.234375 \nQ 18.3125 60.0625 18.3125 54.390625 \nz\n\" id=\"DejaVuSans-56\"/>\n      </defs>\n      <g transform=\"translate(13.5625 183.610652)scale(0.1 -0.1)\">\n       <use xlink:href=\"#DejaVuSans-8722\"/>\n       <use x=\"83.789062\" xlink:href=\"#DejaVuSans-56\"/>\n      </g>\n     </g>\n    </g>\n    <g id=\"ytick_3\">\n     <g id=\"line2d_9\">\n      <g>\n       <use style=\"stroke:#000000;stroke-width:0.8;\" x=\"35.304688\" xlink:href=\"#m0fa31d6ee1\" y=\"140.387375\"/>\n      </g>\n     </g>\n     <g id=\"text_9\">\n      <!-- −6 -->\n      <defs>\n       <path d=\"M 33.015625 40.375 \nQ 26.375 40.375 22.484375 35.828125 \nQ 18.609375 31.296875 18.609375 23.390625 \nQ 18.609375 15.53125 22.484375 10.953125 \nQ 26.375 6.390625 33.015625 6.390625 \nQ 39.65625 6.390625 43.53125 10.953125 \nQ 47.40625 15.53125 47.40625 23.390625 \nQ 47.40625 31.296875 43.53125 35.828125 \nQ 39.65625 40.375 33.015625 40.375 \nz\nM 52.59375 71.296875 \nL 52.59375 62.3125 \nQ 48.875 64.0625 45.09375 64.984375 \nQ 41.3125 65.921875 37.59375 65.921875 \nQ 27.828125 65.921875 22.671875 59.328125 \nQ 17.53125 52.734375 16.796875 39.40625 \nQ 19.671875 43.65625 24.015625 45.921875 \nQ 28.375 48.1875 33.59375 48.1875 \nQ 44.578125 48.1875 50.953125 41.515625 \nQ 57.328125 34.859375 57.328125 23.390625 \nQ 57.328125 12.15625 50.6875 5.359375 \nQ 44.046875 -1.421875 33.015625 -1.421875 \nQ 20.359375 -1.421875 13.671875 8.265625 \nQ 6.984375 17.96875 6.984375 36.375 \nQ 6.984375 53.65625 15.1875 63.9375 \nQ 23.390625 74.21875 37.203125 74.21875 \nQ 40.921875 74.21875 44.703125 73.484375 \nQ 48.484375 72.75 52.59375 71.296875 \nz\n\" id=\"DejaVuSans-54\"/>\n      </defs>\n      <g transform=\"translate(13.5625 144.186594)scale(0.1 -0.1)\">\n       <use xlink:href=\"#DejaVuSans-8722\"/>\n       <use x=\"83.789062\" xlink:href=\"#DejaVuSans-54\"/>\n      </g>\n     </g>\n    </g>\n    <g id=\"ytick_4\">\n     <g id=\"line2d_10\">\n      <g>\n       <use style=\"stroke:#000000;stroke-width:0.8;\" x=\"35.304688\" xlink:href=\"#m0fa31d6ee1\" y=\"100.963317\"/>\n      </g>\n     </g>\n     <g id=\"text_10\">\n      <!-- −4 -->\n      <g transform=\"translate(13.5625 104.762536)scale(0.1 -0.1)\">\n       <use xlink:href=\"#DejaVuSans-8722\"/>\n       <use x=\"83.789062\" xlink:href=\"#DejaVuSans-52\"/>\n      </g>\n     </g>\n    </g>\n    <g id=\"ytick_5\">\n     <g id=\"line2d_11\">\n      <g>\n       <use style=\"stroke:#000000;stroke-width:0.8;\" x=\"35.304688\" xlink:href=\"#m0fa31d6ee1\" y=\"61.539259\"/>\n      </g>\n     </g>\n     <g id=\"text_11\">\n      <!-- −2 -->\n      <g transform=\"translate(13.5625 65.338478)scale(0.1 -0.1)\">\n       <use xlink:href=\"#DejaVuSans-8722\"/>\n       <use x=\"83.789062\" xlink:href=\"#DejaVuSans-50\"/>\n      </g>\n     </g>\n    </g>\n    <g id=\"ytick_6\">\n     <g id=\"line2d_12\">\n      <g>\n       <use style=\"stroke:#000000;stroke-width:0.8;\" x=\"35.304688\" xlink:href=\"#m0fa31d6ee1\" y=\"22.115201\"/>\n      </g>\n     </g>\n     <g id=\"text_12\">\n      <!-- 0 -->\n      <g transform=\"translate(21.942188 25.91442)scale(0.1 -0.1)\">\n       <use xlink:href=\"#DejaVuSans-48\"/>\n      </g>\n     </g>\n    </g>\n   </g>\n   <g id=\"line2d_13\">\n    <path clip-path=\"url(#p83c8f8de9f)\" d=\"M 50.522869 17.083636 \nL 56.734372 27.34353 \nL 62.945875 69.183203 \nL 69.157378 69.940624 \nL 75.36888 95.211091 \nL 81.580383 110.210462 \nL 87.791886 108.899559 \nL 94.003389 88.914151 \nL 100.214892 38.760613 \nL 106.426394 42.87149 \nL 112.637897 59.770943 \nL 118.8494 68.804792 \nL 125.060903 90.581934 \nL 131.272405 78.272428 \nL 137.483908 91.39407 \nL 143.695411 115.410539 \nL 149.906914 131.722364 \nL 156.118417 117.093814 \nL 162.329919 95.765274 \nL 168.541422 107.917613 \nL 174.752925 95.76797 \nL 180.964428 109.817566 \nL 187.175931 120.940957 \nL 193.387433 121.930874 \nL 199.598936 113.967064 \nL 205.810439 141.074135 \nL 212.021942 105.699215 \nL 218.233444 127.339533 \nL 224.444947 143.783171 \nL 230.65645 135.811059 \nL 236.867953 119.689367 \nL 243.079456 131.306217 \nL 249.290958 114.254611 \nL 255.502461 129.742202 \nL 261.713964 117.047138 \nL 267.925467 106.699084 \nL 274.13697 98.468681 \nL 280.348472 122.332136 \nL 286.559975 117.758319 \nL 292.771478 136.144614 \nL 298.982981 118.543114 \nL 305.194483 126.859815 \nL 311.405986 126.100011 \nL 317.617489 124.854264 \nL 323.828992 138.853093 \nL 330.040495 148.211878 \nL 336.251997 184.070045 \nL 342.4635 194.689582 \nL 348.675003 183.458496 \nL 354.886506 214.756364 \n\" style=\"fill:none;stroke:#1f77b4;stroke-linecap:square;stroke-width:1.5;\"/>\n   </g>\n   <g id=\"patch_3\">\n    <path d=\"M 35.304688 224.64 \nL 35.304688 7.2 \n\" style=\"fill:none;stroke:#000000;stroke-linecap:square;stroke-linejoin:miter;stroke-width:0.8;\"/>\n   </g>\n   <g id=\"patch_4\">\n    <path d=\"M 370.104688 224.64 \nL 370.104688 7.2 \n\" style=\"fill:none;stroke:#000000;stroke-linecap:square;stroke-linejoin:miter;stroke-width:0.8;\"/>\n   </g>\n   <g id=\"patch_5\">\n    <path d=\"M 35.304688 224.64 \nL 370.104688 224.64 \n\" style=\"fill:none;stroke:#000000;stroke-linecap:square;stroke-linejoin:miter;stroke-width:0.8;\"/>\n   </g>\n   <g id=\"patch_6\">\n    <path d=\"M 35.304688 7.2 \nL 370.104688 7.2 \n\" style=\"fill:none;stroke:#000000;stroke-linecap:square;stroke-linejoin:miter;stroke-width:0.8;\"/>\n   </g>\n  </g>\n </g>\n <defs>\n  <clipPath id=\"p83c8f8de9f\">\n   <rect height=\"217.44\" width=\"334.8\" x=\"35.304688\" y=\"7.2\"/>\n  </clipPath>\n </defs>\n</svg>\n",
      "image/png": "[encoded data removed]"
     },
     "metadata": {
      "needs_background": "light"
     }
    }
   ],
   "source": [
    "import matplotlib.pyplot as plt, numpy as np\n",
    "%matplotlib inline\n",
    "\n",
    "plt.plot(np.random.randn(50).cumsum())"
   ]
  },
  {
   "cell_type": "code",
   "execution_count": 30,
   "metadata": {},
   "outputs": [
    {
     "output_type": "execute_result",
     "data": {
      "text/plain": "True"
     },
     "metadata": {},
     "execution_count": 30
    }
   ],
   "source": [
    "# isinstance : 어떤 객체가 무슨 자료형인지 검사할 수 있다.\n",
    "a =  5\n",
    "isinstance(a, int)"
   ]
  },
  {
   "cell_type": "code",
   "execution_count": 34,
   "metadata": {},
   "outputs": [
    {
     "output_type": "execute_result",
     "data": {
      "text/plain": "True"
     },
     "metadata": {},
     "execution_count": 34
    }
   ],
   "source": [
    "# 튜플을 건내서 객체의 자료형이 주어진 튜플 중 하나인지 검사할 수도 있다.\n",
    "a = 4.5; b = 5\n",
    "isinstance(a, (int,float))"
   ]
  },
  {
   "cell_type": "code",
   "execution_count": 35,
   "metadata": {},
   "outputs": [
    {
     "output_type": "execute_result",
     "data": {
      "text/plain": "True"
     },
     "metadata": {},
     "execution_count": 35
    }
   ],
   "source": [
    "isinstance(b, (int,float))"
   ]
  },
  {
   "cell_type": "code",
   "execution_count": 36,
   "metadata": {},
   "outputs": [
    {
     "output_type": "execute_result",
     "data": {
      "text/plain": "<function str.split(sep=None, maxsplit=-1)>"
     },
     "metadata": {},
     "execution_count": 36
    }
   ],
   "source": [
    "a = 'foo'\n",
    "getattr(a, 'split')"
   ]
  },
  {
   "cell_type": "code",
   "execution_count": 39,
   "metadata": {},
   "outputs": [
    {
     "output_type": "execute_result",
     "data": {
      "text/plain": "True"
     },
     "metadata": {},
     "execution_count": 39
    }
   ],
   "source": [
    "hasattr(a, 'count')"
   ]
  },
  {
   "cell_type": "code",
   "execution_count": 46,
   "metadata": {},
   "outputs": [],
   "source": [
    "# 객채의 자료형에는 관심이 없고 그 객체가 어떤 메서드나 행동을 지원하는지만 알고 싶은 경우가 있다.\n",
    "# 이를 '덕 타이핑'이라고 부름, 예를 들어 어떤 객체가 이터레이터를 구현했다면 순회가 가능한 객체인지 검증할 수 있다.\n",
    "# 이는 대부분의 객체의 경우 __iter__라는 매직 메서드를 가지고 있는지 확인하면 된다. 좀 더 나은 방법은 iter 함수를 이용해서 검사하는것\n",
    "def isiterable(obj):\n",
    "    try:\n",
    "        iter(obj)\n",
    "        return True\n",
    "    except TypeError:  # iterable 객체가 아님\n",
    "        return False"
   ]
  },
  {
   "cell_type": "code",
   "execution_count": 47,
   "metadata": {},
   "outputs": [
    {
     "output_type": "execute_result",
     "data": {
      "text/plain": "True"
     },
     "metadata": {},
     "execution_count": 47
    }
   ],
   "source": [
    "isiterable('a string')"
   ]
  },
  {
   "cell_type": "code",
   "execution_count": 48,
   "metadata": {},
   "outputs": [
    {
     "output_type": "execute_result",
     "data": {
      "text/plain": "True"
     },
     "metadata": {},
     "execution_count": 48
    }
   ],
   "source": [
    "isiterable([1,2,3])"
   ]
  },
  {
   "cell_type": "code",
   "execution_count": 49,
   "metadata": {},
   "outputs": [
    {
     "output_type": "execute_result",
     "data": {
      "text/plain": "False"
     },
     "metadata": {},
     "execution_count": 49
    }
   ],
   "source": [
    "isiterable(5)"
   ]
  },
  {
   "cell_type": "code",
   "execution_count": 64,
   "metadata": {},
   "outputs": [
    {
     "output_type": "execute_result",
     "data": {
      "text/plain": "'\\n여러줄의\\n문자열'"
     },
     "metadata": {},
     "execution_count": 64
    }
   ],
   "source": [
    "c = \"\"\"\n",
    "여러줄의\n",
    "문자열\"\"\"\n",
    "c"
   ]
  },
  {
   "cell_type": "code",
   "execution_count": 65,
   "metadata": {},
   "outputs": [
    {
     "output_type": "execute_result",
     "data": {
      "text/plain": "2"
     },
     "metadata": {},
     "execution_count": 65
    }
   ],
   "source": [
    "c.count('\\n')"
   ]
  },
  {
   "cell_type": "code",
   "execution_count": 66,
   "metadata": {},
   "outputs": [
    {
     "output_type": "execute_result",
     "data": {
      "text/plain": "'this\\\\has\\\\no\\\\special\\\\characters'"
     },
     "metadata": {},
     "execution_count": 66
    }
   ],
   "source": [
    "# tip 특수문자 없이 역슬래시(\\)가 많이 포함된 문자열읠 나타내려면 좀 귀찮을 수 있는데,\n",
    "# 다행히도 문자열 앞에 r을 써서 문자열을 있는 그대로 해석하도록 할 수 있다.\n",
    "s = r'this\\has\\no\\special\\characters'\n",
    "s"
   ]
  },
  {
   "cell_type": "code",
   "execution_count": 73,
   "metadata": {},
   "outputs": [
    {
     "output_type": "execute_result",
     "data": {
      "text/plain": "'4.56 Argentine Pesos are worth US$1'"
     },
     "metadata": {},
     "execution_count": 73
    }
   ],
   "source": [
    "template = '{0:.2f} {1:s} are worth US${2:d}'.format(4.5560, 'Argentine Pesos', 1)\n",
    "template"
   ]
  },
  {
   "cell_type": "code",
   "execution_count": 77,
   "metadata": {},
   "outputs": [
    {
     "output_type": "execute_result",
     "data": {
      "text/plain": "'4.556 Argentine Pesos are worth US$1'"
     },
     "metadata": {},
     "execution_count": 77
    }
   ],
   "source": [
    "template2 = '{} {} are worth US${}'.format(4.5560, 'Argentine Pesos', 1)\n",
    "template2"
   ]
  },
  {
   "cell_type": "code",
   "execution_count": 78,
   "metadata": {},
   "outputs": [
    {
     "output_type": "execute_result",
     "data": {
      "text/plain": "'español'"
     },
     "metadata": {},
     "execution_count": 78
    }
   ],
   "source": [
    "val = 'español'\n",
    "val"
   ]
  },
  {
   "cell_type": "code",
   "execution_count": 79,
   "metadata": {},
   "outputs": [
    {
     "output_type": "execute_result",
     "data": {
      "text/plain": "b'espa\\xc3\\xb1ol'"
     },
     "metadata": {},
     "execution_count": 79
    }
   ],
   "source": [
    "val_utf8 = val.encode('utf-8')\n",
    "val_utf8"
   ]
  },
  {
   "cell_type": "code",
   "execution_count": 80,
   "metadata": {},
   "outputs": [
    {
     "output_type": "execute_result",
     "data": {
      "text/plain": "(bytes, str)"
     },
     "metadata": {},
     "execution_count": 80
    }
   ],
   "source": [
    "type(val_utf8), type(val)"
   ]
  },
  {
   "cell_type": "code",
   "execution_count": 81,
   "metadata": {},
   "outputs": [
    {
     "output_type": "execute_result",
     "data": {
      "text/plain": "'español'"
     },
     "metadata": {},
     "execution_count": 81
    }
   ],
   "source": [
    "val_utf8.decode('utf-8')"
   ]
  },
  {
   "cell_type": "code",
   "execution_count": 83,
   "metadata": {},
   "outputs": [
    {
     "output_type": "execute_result",
     "data": {
      "text/plain": "b'espa\\xf1ol'"
     },
     "metadata": {},
     "execution_count": 83
    }
   ],
   "source": [
    "val.encode('latin1')"
   ]
  },
  {
   "cell_type": "code",
   "execution_count": 84,
   "metadata": {},
   "outputs": [
    {
     "output_type": "execute_result",
     "data": {
      "text/plain": "b'\\xff\\xfee\\x00s\\x00p\\x00a\\x00\\xf1\\x00o\\x00l\\x00'"
     },
     "metadata": {},
     "execution_count": 84
    }
   ],
   "source": [
    "val.encode('utf-16')"
   ]
  },
  {
   "cell_type": "code",
   "execution_count": 85,
   "metadata": {},
   "outputs": [
    {
     "output_type": "execute_result",
     "data": {
      "text/plain": "b'e\\x00s\\x00p\\x00a\\x00\\xf1\\x00o\\x00l\\x00'"
     },
     "metadata": {},
     "execution_count": 85
    }
   ],
   "source": [
    "val.encode('utf-16le')"
   ]
  },
  {
   "cell_type": "code",
   "execution_count": 86,
   "metadata": {},
   "outputs": [
    {
     "output_type": "execute_result",
     "data": {
      "text/plain": "b'this is bytes'"
     },
     "metadata": {},
     "execution_count": 86
    }
   ],
   "source": [
    "bytes_val = b'this is bytes'\n",
    "bytes_val"
   ]
  },
  {
   "cell_type": "code",
   "execution_count": 90,
   "metadata": {},
   "outputs": [
    {
     "output_type": "execute_result",
     "data": {
      "text/plain": "'this is bytes'"
     },
     "metadata": {},
     "execution_count": 90
    }
   ],
   "source": [
    "bytes_val.decode('utf8')"
   ]
  },
  {
   "cell_type": "code",
   "execution_count": 94,
   "metadata": {},
   "outputs": [
    {
     "output_type": "execute_result",
     "data": {
      "text/plain": "'this is bytes'"
     },
     "metadata": {},
     "execution_count": 94
    }
   ],
   "source": [
    "bytes_val.decode('latin1')"
   ]
  },
  {
   "cell_type": "code",
   "execution_count": 96,
   "metadata": {},
   "outputs": [
    {
     "output_type": "execute_result",
     "data": {
      "text/plain": "'this is bytes'"
     },
     "metadata": {},
     "execution_count": 96
    }
   ],
   "source": [
    "bytes_val.decode('cp949')"
   ]
  },
  {
   "cell_type": "code",
   "execution_count": 103,
   "metadata": {},
   "outputs": [
    {
     "output_type": "execute_result",
     "data": {
      "text/plain": "datetime.datetime(2020, 8, 3, 17, 31, 39)"
     },
     "metadata": {},
     "execution_count": 103
    }
   ],
   "source": [
    "from datetime import datetime, date, time\n",
    "dt = datetime(2020,8,3,17,31,39)\n",
    "dt"
   ]
  },
  {
   "cell_type": "code",
   "execution_count": 104,
   "metadata": {},
   "outputs": [
    {
     "output_type": "execute_result",
     "data": {
      "text/plain": "(2020, 8, 3, 17, 31, 39)"
     },
     "metadata": {},
     "execution_count": 104
    }
   ],
   "source": [
    "dt.year,dt.month,dt.day,dt.hour,dt.minute,dt.second"
   ]
  },
  {
   "cell_type": "code",
   "execution_count": 105,
   "metadata": {},
   "outputs": [
    {
     "output_type": "execute_result",
     "data": {
      "text/plain": "datetime.date(2020, 8, 3)"
     },
     "metadata": {},
     "execution_count": 105
    }
   ],
   "source": [
    "dt.date()  # 년:월:일 을 반환"
   ]
  },
  {
   "cell_type": "code",
   "execution_count": 106,
   "metadata": {},
   "outputs": [
    {
     "output_type": "execute_result",
     "data": {
      "text/plain": "datetime.time(17, 31, 39)"
     },
     "metadata": {},
     "execution_count": 106
    }
   ],
   "source": [
    "dt.time()  # 시간:분:초 를 반환"
   ]
  },
  {
   "cell_type": "code",
   "execution_count": 107,
   "metadata": {},
   "outputs": [
    {
     "output_type": "execute_result",
     "data": {
      "text/plain": "'08/03/2020 17:31'"
     },
     "metadata": {},
     "execution_count": 107
    }
   ],
   "source": [
    "## strftime 메서드는 datetime을 문자열로 만들어준다.\n",
    "dt.strftime('%m/%d/%Y %H:%M')"
   ]
  },
  {
   "cell_type": "code",
   "execution_count": 110,
   "metadata": {},
   "outputs": [
    {
     "output_type": "execute_result",
     "data": {
      "text/plain": "'2020-08-03 17:31:39'"
     },
     "metadata": {},
     "execution_count": 110
    }
   ],
   "source": [
    "dt.strftime('%Y-%m-%d %H:%M:%S')"
   ]
  },
  {
   "cell_type": "code",
   "execution_count": 111,
   "metadata": {},
   "outputs": [
    {
     "output_type": "execute_result",
     "data": {
      "text/plain": "datetime.datetime(2020, 8, 3, 0, 0)"
     },
     "metadata": {},
     "execution_count": 111
    }
   ],
   "source": [
    "## strptime 함수는 반대로 문자열을 해석하여 datetime 객체로 만들어준다.\n",
    "datetime.strptime('20200803', '%Y%m%d')"
   ]
  },
  {
   "cell_type": "code",
   "execution_count": 113,
   "metadata": {},
   "outputs": [
    {
     "output_type": "execute_result",
     "data": {
      "text/plain": "datetime.datetime(2020, 8, 3, 17, 0)"
     },
     "metadata": {},
     "execution_count": 113
    }
   ],
   "source": [
    "dt.replace(minute=0, second=0)"
   ]
  },
  {
   "cell_type": "code",
   "execution_count": 114,
   "metadata": {},
   "outputs": [
    {
     "output_type": "execute_result",
     "data": {
      "text/plain": "7179"
     },
     "metadata": {},
     "execution_count": 114
    }
   ],
   "source": [
    "(60*119) + 39"
   ]
  },
  {
   "cell_type": "code",
   "execution_count": 115,
   "metadata": {},
   "outputs": [
    {
     "output_type": "execute_result",
     "data": {
      "text/plain": "datetime.datetime(2020, 8, 3, 17, 31, 39)"
     },
     "metadata": {},
     "execution_count": 115
    }
   ],
   "source": [
    "dt"
   ]
  },
  {
   "cell_type": "code",
   "execution_count": 116,
   "metadata": {},
   "outputs": [
    {
     "output_type": "execute_result",
     "data": {
      "text/plain": "datetime.datetime(2020, 8, 5, 17, 31, 39)"
     },
     "metadata": {},
     "execution_count": 116
    }
   ],
   "source": [
    "dt2 = datetime(2020,8,5,17,31,39)\n",
    "dt2"
   ]
  },
  {
   "cell_type": "code",
   "execution_count": 119,
   "metadata": {},
   "outputs": [
    {
     "output_type": "execute_result",
     "data": {
      "text/plain": "datetime.timedelta(days=2)"
     },
     "metadata": {},
     "execution_count": 119
    }
   ],
   "source": [
    "# 두 datetime 객체의 차는 datetime.timedelta 객체를 반환한다.\n",
    "# 이 경우 정확히 2일 만큼의 시간차이를 나타낸다.\n",
    "delta = dt2 - dt\n",
    "delta"
   ]
  },
  {
   "cell_type": "code",
   "execution_count": 120,
   "metadata": {},
   "outputs": [
    {
     "output_type": "execute_result",
     "data": {
      "text/plain": "datetime.timedelta"
     },
     "metadata": {},
     "execution_count": 120
    }
   ],
   "source": [
    "type(delta)"
   ]
  },
  {
   "cell_type": "code",
   "execution_count": 121,
   "metadata": {},
   "outputs": [
    {
     "output_type": "execute_result",
     "data": {
      "text/plain": "datetime.datetime(2020, 8, 3, 17, 31, 39)"
     },
     "metadata": {},
     "execution_count": 121
    }
   ],
   "source": [
    "dt"
   ]
  },
  {
   "cell_type": "code",
   "execution_count": 122,
   "metadata": {},
   "outputs": [
    {
     "output_type": "execute_result",
     "data": {
      "text/plain": "datetime.datetime(2020, 8, 5, 17, 31, 39)"
     },
     "metadata": {},
     "execution_count": 122
    }
   ],
   "source": [
    "dt + delta  # timedelta 객체를 datetime 객체에 더하면 그만큼 시간이 미뤄진 datetime 객체를 얻을 수 있다."
   ]
  },
  {
   "cell_type": "markdown",
   "metadata": {},
   "source": [
    "## datetime 포맷 규칙\n",
    "- %Y : 4자리 연도\n",
    "- %y : 2자리 연도\n",
    "- %m : 2자리 월[[01,12]]\n",
    "- %d : 2자리 일[[01,31]]\n",
    "- %H : 시간(24시간 형식)[[00,23]]\n",
    "- %I : 시간(12시간 형식)[[01,12]]\n",
    "- %M : 2자리 분[[00,59]]\n",
    "- %S : 초[[00,61]](60,61은 윤초)\n",
    "- %w : 정수로 나타낸 요일[[0(일요일),6]]\n",
    "- %U : 연중 주차[[00,53]]. 일요일을 그 주의 첫 번째 날로 간주하며, 그 해에서 첫 번째 일요일 앞에 있는 날은 0주차가 된다.\n",
    "- %W : 연중 주차[[00,53]]. 월요일을 그 주의 첫 번째 날로 간주하며, 그 해에서 첫 번째 월요일 앞에 있는 날은 0주차가 된다.\n",
    "- %z : UTC 시간대 오프셋을 +HHMM 또는 -HHMM으로 표현한다. 만약 시간대를 신경쓰지 않는다면 비워둔다.\n",
    "- %F : %Y-%m-%d 형식에 대한 축약(예: 2012-4-18)\n",
    "- %D : %m/%d/%y 형식데 대한 축약(예: 04/18/12)"
   ]
  },
  {
   "cell_type": "code",
   "execution_count": 127,
   "metadata": {
    "tags": []
   },
   "outputs": [
    {
     "output_type": "stream",
     "name": "stdout",
     "text": "Made it!\n"
    }
   ],
   "source": [
    "a = 5; b = 7; c = 8; d = 4\n",
    "if a<b or c<d:  # 왼쪽부터 검사해 둘 중 하나라도 참이면 다른 한 조건은 검사하지 않음.(fact. c는 d보다 크다.)\n",
    "    print('Made it!')"
   ]
  },
  {
   "cell_type": "code",
   "execution_count": 128,
   "metadata": {},
   "outputs": [
    {
     "output_type": "execute_result",
     "data": {
      "text/plain": "13"
     },
     "metadata": {},
     "execution_count": 128
    }
   ],
   "source": [
    "sequence = [1,2,None,4,None,6]\n",
    "total = 0\n",
    "for value in sequence:\n",
    "    if value == None:\n",
    "        continue\n",
    "    total += value\n",
    "\n",
    "total"
   ]
  },
  {
   "cell_type": "code",
   "execution_count": 129,
   "metadata": {
    "tags": []
   },
   "outputs": [
    {
     "output_type": "stream",
     "name": "stdout",
     "text": "(1, 1)\n(2, 1)\n(2, 2)\n(3, 1)\n(3, 2)\n(3, 3)\n(4, 1)\n(4, 2)\n(4, 3)\n(4, 4)\n(5, 1)\n(5, 2)\n(5, 3)\n(5, 4)\n(5, 5)\n(6, 1)\n(6, 2)\n(6, 3)\n(6, 4)\n(6, 5)\n(6, 6)\n(7, 1)\n(7, 2)\n(7, 3)\n(7, 4)\n(7, 5)\n(7, 6)\n(7, 7)\n(8, 1)\n(8, 2)\n(8, 3)\n(8, 4)\n(8, 5)\n(8, 6)\n(8, 7)\n(8, 8)\n(9, 1)\n(9, 2)\n(9, 3)\n(9, 4)\n(9, 5)\n(9, 6)\n(9, 7)\n(9, 8)\n(9, 9)\n"
    }
   ],
   "source": [
    "for i in range(1,10):\n",
    "    for j in range(1,10):\n",
    "        if j > i:\n",
    "            break\n",
    "        print((i, j))"
   ]
  },
  {
   "cell_type": "code",
   "execution_count": 135,
   "metadata": {
    "tags": []
   },
   "outputs": [
    {
     "output_type": "stream",
     "name": "stdout",
     "text": "1 단\n1 x 1 = 1\n1 x 2 = 2\n1 x 3 = 3\n1 x 4 = 4\n1 x 5 = 5\n1 x 6 = 6\n1 x 7 = 7\n1 x 8 = 8\n1 x 9 = 9\n----------\n2 단\n2 x 1 = 2\n2 x 2 = 4\n2 x 3 = 6\n2 x 4 = 8\n2 x 5 = 10\n2 x 6 = 12\n2 x 7 = 14\n2 x 8 = 16\n2 x 9 = 18\n----------\n3 단\n3 x 1 = 3\n3 x 2 = 6\n3 x 3 = 9\n3 x 4 = 12\n3 x 5 = 15\n3 x 6 = 18\n3 x 7 = 21\n3 x 8 = 24\n3 x 9 = 27\n----------\n4 단\n4 x 1 = 4\n4 x 2 = 8\n4 x 3 = 12\n4 x 4 = 16\n4 x 5 = 20\n4 x 6 = 24\n4 x 7 = 28\n4 x 8 = 32\n4 x 9 = 36\n----------\n5 단\n5 x 1 = 5\n5 x 2 = 10\n5 x 3 = 15\n5 x 4 = 20\n5 x 5 = 25\n5 x 6 = 30\n5 x 7 = 35\n5 x 8 = 40\n5 x 9 = 45\n----------\n6 단\n6 x 1 = 6\n6 x 2 = 12\n6 x 3 = 18\n6 x 4 = 24\n6 x 5 = 30\n6 x 6 = 36\n6 x 7 = 42\n6 x 8 = 48\n6 x 9 = 54\n----------\n7 단\n7 x 1 = 7\n7 x 2 = 14\n7 x 3 = 21\n7 x 4 = 28\n7 x 5 = 35\n7 x 6 = 42\n7 x 7 = 49\n7 x 8 = 56\n7 x 9 = 63\n----------\n8 단\n8 x 1 = 8\n8 x 2 = 16\n8 x 3 = 24\n8 x 4 = 32\n8 x 5 = 40\n8 x 6 = 48\n8 x 7 = 56\n8 x 8 = 64\n8 x 9 = 72\n----------\n9 단\n9 x 1 = 9\n9 x 2 = 18\n9 x 3 = 27\n9 x 4 = 36\n9 x 5 = 45\n9 x 6 = 54\n9 x 7 = 63\n9 x 8 = 72\n9 x 9 = 81\n----------\n"
    }
   ],
   "source": [
    "for i in range(1,10):\n",
    "    print(i,'단')\n",
    "    for j in range(1,10):\n",
    "        #print(i, 'x', j, '=', i*j)\n",
    "        #print('{} x {} = {}'.format(i, j, i*j))\n",
    "        print('%d x %d = %d' %(i, j, i*j))\n",
    "    print('-'*10)"
   ]
  },
  {
   "cell_type": "code",
   "execution_count": 145,
   "metadata": {
    "tags": []
   },
   "outputs": [
    {
     "output_type": "stream",
     "name": "stdout",
     "text": "0 Nagative (-34)\n1 Positive (2)\n2 Positive (21)\n3 Positive (38)\n4 Nagative (-49)\n5 Positive (43)\n6 Nagative (-3)\n7 Nagative (-1)\n8 Nagative (-31)\n9 Positive (36)\n10 Nagative (-10)\n11 Nagative (-41)\n12 Nagative (-15)\n13 Nagative (-14)\n14 Nagative (-49)\n15 Nagative (-8)\n16 Positive (36)\n17 Nagative (-13)\n18 Positive (3)\n19 Positive (19)\n20 Nagative (-31)\n21 Positive (34)\n22 Positive (45)\n23 Nagative (-26)\n24 Nagative (-30)\n25 Positive (45)\n26 Positive (10)\n27 Nagative (-17)\n28 Nagative (-36)\n29 Nagative (-10)\n30 Positive (30)\n31 Nagative (-23)\n32 Positive (21)\n33 Nagative (-23)\n34 Nagative (-42)\n35 Nagative (-49)\n36 Nagative (-25)\n37 Positive (7)\n38 Nagative (-34)\n39 Positive (45)\n40 Nagative (-15)\n41 Nagative (-34)\n42 Positive (49)\n43 Positive (28)\n44 Nagative (-12)\n45 Nagative (-15)\n46 Positive (1)\n47 Positive (48)\n48 Positive (19)\n49 Nagative (-26)\n50 Positive (40)\n51 Positive (40)\n52 Nagative (-13)\n53 Nagative (-13)\n54 Nagative (-7)\n55 Nagative (-31)\n56 Nagative (-7)\n57 Positive (39)\n58 Positive (22)\n59 Positive (12)\n60 Nagative (-2)\n61 Nagative (-18)\n62 Nagative (-34)\n63 Nagative (-24)\n64 Positive (32)\n65 Nagative (-38)\n66 Positive (34)\n67 Positive (40)\n68 Nagative (-13)\n69 Nagative (-37)\n70 Positive (47)\n71 Positive (34)\n72 Nagative (-26)\n73 Nagative (-30)\n74 Positive (13)\n75 Positive (43)\n76 Nagative (-14)\n77 Positive (7)\n78 Nagative (-47)\n79 Nagative (-29)\n80 Nagative (-27)\n81 Positive (16)\n82 Nagative (-13)\n83 Positive (27)\n84 Positive (45)\n85 Positive (16)\n86 Nagative (-38)\n87 Nagative (-31)\n88 Nagative (-31)\n89 Nagative (-3)\n90 Positive (44)\n91 Nagative (-28)\n92 Nagative (-37)\n93 Nagative (-30)\n94 Nagative (-48)\n95 Positive (8)\n96 Positive (20)\n97 Positive (43)\n98 Nagative (-8)\n99 Nagative (-42)\n"
    }
   ],
   "source": [
    "for i in range(100):\n",
    "    randint = np.random.randint(-50,50)\n",
    "    if randint < 0:\n",
    "        print('%d Nagative (%d)' %(i, randint))\n",
    "    elif randint == 0:\n",
    "        pass\n",
    "    else: print('%d Positive (%d)' %(i, randint))"
   ]
  },
  {
   "cell_type": "code",
   "execution_count": 163,
   "metadata": {
    "tags": []
   },
   "outputs": [
    {
     "output_type": "stream",
     "name": "stdout",
     "text": "h\nhe\nhel\nhell\nhello\nhello \nhello w\nhello wo\nhello wor\nhello worl\nhello world\nhello world!\n"
    }
   ],
   "source": [
    "seq = ['h','e','l','l','o',' ','w','o','r','l','d','!']\n",
    "sentence = ''\n",
    "for i in range(len(seq)):\n",
    "    sentence += seq[i]\n",
    "    print(sentence)"
   ]
  },
  {
   "cell_type": "code",
   "execution_count": 171,
   "metadata": {},
   "outputs": [
    {
     "output_type": "execute_result",
     "data": {
      "text/plain": "'positive'"
     },
     "metadata": {},
     "execution_count": 171
    }
   ],
   "source": [
    "x = 1\n",
    "#x = -1\n",
    "'positive' if x > 0 else 'negative'"
   ]
  }
 ]
}